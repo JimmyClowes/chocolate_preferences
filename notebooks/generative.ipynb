{
 "cells": [
  {
   "attachments": {},
   "cell_type": "markdown",
   "metadata": {},
   "source": [
    "# Building a generative model\n",
    "\n",
    "Having plotted the data collected, I now have an improved understanding of how rankings varied across the people taking part. I want to build a generative model that I believe is:<br>\n",
    "(a) theoretically plausible in terms of how people's rankings come about; and<br>\n",
    "(b) consistent with the patterns observed in the ranking data.\n",
    "\n",
    "To build the generative model, I'm going to make some choices about what phenomena I think are involved in the process of generating the rankings, and I'm going to choose distributions that I consider well suited to representing those phenomena.\n",
    "\n",
    "The aspects of the data generating process I decided to include in the generative model were:\n",
    "- There are multiple people ranking chocolates (10 in the observed data, but it could be any number)\n",
    "\n",
    "- There are multople chocolates being ranking (17 in the observed data, but it could be any number)\n",
    "\n",
    "- People's rankings of chocolates is based on ordering of unobserved ratings people give to each chocolate on a latent scale\n",
    "\n",
    "- Each chocolate has some mean appeal and variance of appeal on the latent appeal scale\n",
    "  - Some chcocolates are generally agreed to be nicer than others, so they would have a higher mean appeal on the latent scale\n",
    "  - Some chocolates divide opinion more, so they would have a higher variance in appel on the latent scale\n",
    "\n",
    "- Each person has an individual quality score for each choclate drawn from the appeal distributions for each chocolate\n",
    "\n",
    "### Conception of the latent rating scale\n",
    "\n",
    "My conception of the latent rating scale for the chocolates is that each individual has a conception of a one-dimensonsal rating space along which they place the chocolates being rated according to how much appeal each chocolate holds for that person. In the specification of the generative model, this scale is constrained by assumptions that ratings are normally distributed, so a strong preference or dislike for a given chocolate will be constrained in how far from the other ratings it can stray. Some constraint like this is necessary in order to model rankings from multiple people on a common scale.\n",
    "\n",
    "With this in mind, the ratings given by individual people should be considered ratings across that person's own appeal scale, i.e. the person rating the chocolate near the bottom of what appeal a chocolate could have, near the top of what appeal they think it could have, or somewhere in the middle. In this sense, ratings from different people can not be compared in absolute terms, i.e. person A rating chocolate X 2.3 while person B rates chocolate X 1.9 can not be understood to men person A likes chocolate X more than person B does. What it does mean is that person A considered chocolate X to be higher up their personal scale of how good a chocolate can be than person B does up their personal scale.\n",
    "\n",
    "It may or may not be the case that humans experience the consumption of chocolate in a common way and there there is some absolute rating scale that could be understood in common terms across people rating chocolates, but that philosophical question of sense perception and pleasure is outside the remit of this exercise."
   ]
  },
  {
   "cell_type": "code",
   "execution_count": 1,
   "metadata": {},
   "outputs": [],
   "source": [
    "import plotly.express as px\n",
    "import inspect"
   ]
  },
  {
   "attachments": {},
   "cell_type": "markdown",
   "metadata": {},
   "source": [
    "## Defining the generative model"
   ]
  },
  {
   "attachments": {},
   "cell_type": "markdown",
   "metadata": {},
   "source": [
    "To give myself the ability to readily generate data based on the generative model in a flexible way throughout the project, I set up a `SimGenerative` class to generate ranking data based on the generative model. Here a couple of function definitions show how I have specified the generative model. First, in the `__init__` function, the number of people and chocolates involved is defined, as well as a seed for random number generation to allow reproducibility, and some hyperparameter choices that will be used in the distributions within the generative model."
   ]
  },
  {
   "cell_type": "code",
   "execution_count": 2,
   "metadata": {},
   "outputs": [
    {
     "name": "stdout",
     "output_type": "stream",
     "text": [
      "    def __init__(self,\n",
      "                 n_people=10,\n",
      "                 n_chocs=17,\n",
      "                 seed=123,\n",
      "                 hyperparams={'choc_mus': {'loc': 0, 'scale': 1},\n",
      "                              'choc_sigmas': {'shape': 5, 'scale': 0.1}}):\n",
      "\n",
      "        self.n_people = n_people\n",
      "        self.n_chocs = n_chocs\n",
      "        self.seed = seed\n",
      "        self.hyperparams = hyperparams\n",
      "\n"
     ]
    }
   ],
   "source": [
    "from src.data.generative import SimGenerative, SimViz\n",
    "\n",
    "print(inspect.getsource(SimGenerative.__init__))"
   ]
  },
  {
   "attachments": {},
   "cell_type": "markdown",
   "metadata": {},
   "source": [
    "Then, the `draw` method of the `SimGenerative` class defines the process for how rankings come about.\n",
    "\n",
    "- `choc_mus` sets the mean appeal ratings for each chocolate at the population level, i.e. the appeal level of each chocolate averaged across all people, and is drawn from a normal distribution defined by the hyperparameters provided\n",
    "\n",
    "- `choc_sigmas` sets the standard deviation in appeal ratings for each chocolate at the population level, i.e. how much variation there is in the appeal of each chocolate across all people, and is drawn from a gamma distribution defined by the hyperparameters provided\n",
    "\n",
    "- `choc_ratings` sets the appeal ratings for each person relating to each chocolate, drawn from a normal distribution centred on the population mean appeal for each chocolate and with standard deviation of the standard deviation in appeal for that chocolate\n",
    "\n",
    "- `choc_rankings` sets the rankings each person gives to each chocolate, determined by ordering the ratings each person gave to each chcolate from lowest to highest"
   ]
  },
  {
   "cell_type": "code",
   "execution_count": 3,
   "metadata": {},
   "outputs": [
    {
     "name": "stdout",
     "output_type": "stream",
     "text": [
      "    def draw(self):\n",
      "\n",
      "        np.random.seed(self.seed)\n",
      "\n",
      "        self.choc_mus = np.random.normal(**self.hyperparams['choc_mus'], size=self.n_chocs)\n",
      "        self.choc_sigmas = np.random.gamma(**self.hyperparams['choc_sigmas'], size=self.n_chocs)\n",
      "\n",
      "        self.choc_ratings = np.random.normal(self.choc_mus[np.newaxis,:],\n",
      "                                             self.choc_sigmas[np.newaxis,:],\n",
      "                                             size=(self.n_people,  self.n_chocs))\n",
      "\n",
      "        # negative of ratings is taken so that lower values are given higher rank indices\n",
      "        self.choc_rankings = np.argsort(-self.choc_ratings, axis=1)\n",
      "\n",
      "        self._make_ratings_rankings_df()\n",
      "\n"
     ]
    }
   ],
   "source": [
    "print(inspect.getsource(SimGenerative.draw))"
   ]
  },
  {
   "attachments": {},
   "cell_type": "markdown",
   "metadata": {},
   "source": [
    "## Drawing samples from the generative model\n",
    "\n",
    "Instantiating a `SimGenerative` object and drawing a simulation from it, we can see how the ratings look. Here a simulation is generated with the generative model using 100 people and 20 chocolates for demonstration purposes. In the data frame produced, we can see a rating is generated by each person for each chocolate. A person giving chocolate X a lower rating than chocolate Y will cause that person's ranking of chocolate X to be worse (i.e. a higher index value) than their ranking for chocolate Y. Rankings are assigned with the lowest rank index number being the highest rated chocolate and the highest rank index number being the lowest rated chocolate for each person, so rank 0 always means that person's favourite, i.e. highest rated, chocolate."
   ]
  },
  {
   "cell_type": "code",
   "execution_count": 4,
   "metadata": {},
   "outputs": [
    {
     "data": {
      "text/html": [
       "<div>\n",
       "<style scoped>\n",
       "    .dataframe tbody tr th:only-of-type {\n",
       "        vertical-align: middle;\n",
       "    }\n",
       "\n",
       "    .dataframe tbody tr th {\n",
       "        vertical-align: top;\n",
       "    }\n",
       "\n",
       "    .dataframe thead th {\n",
       "        text-align: right;\n",
       "    }\n",
       "</style>\n",
       "<table border=\"1\" class=\"dataframe\">\n",
       "  <thead>\n",
       "    <tr style=\"text-align: right;\">\n",
       "      <th></th>\n",
       "      <th>person</th>\n",
       "      <th>choc</th>\n",
       "      <th>rating</th>\n",
       "      <th>rank</th>\n",
       "    </tr>\n",
       "  </thead>\n",
       "  <tbody>\n",
       "    <tr>\n",
       "      <th>0</th>\n",
       "      <td>0</td>\n",
       "      <td>0</td>\n",
       "      <td>3.316401</td>\n",
       "      <td>5</td>\n",
       "    </tr>\n",
       "    <tr>\n",
       "      <th>1</th>\n",
       "      <td>1</td>\n",
       "      <td>0</td>\n",
       "      <td>0.610163</td>\n",
       "      <td>8</td>\n",
       "    </tr>\n",
       "    <tr>\n",
       "      <th>2</th>\n",
       "      <td>2</td>\n",
       "      <td>0</td>\n",
       "      <td>-1.652431</td>\n",
       "      <td>11</td>\n",
       "    </tr>\n",
       "    <tr>\n",
       "      <th>3</th>\n",
       "      <td>3</td>\n",
       "      <td>0</td>\n",
       "      <td>0.815970</td>\n",
       "      <td>8</td>\n",
       "    </tr>\n",
       "    <tr>\n",
       "      <th>4</th>\n",
       "      <td>4</td>\n",
       "      <td>0</td>\n",
       "      <td>-1.027152</td>\n",
       "      <td>12</td>\n",
       "    </tr>\n",
       "    <tr>\n",
       "      <th>...</th>\n",
       "      <td>...</td>\n",
       "      <td>...</td>\n",
       "      <td>...</td>\n",
       "      <td>...</td>\n",
       "    </tr>\n",
       "    <tr>\n",
       "      <th>1995</th>\n",
       "      <td>95</td>\n",
       "      <td>19</td>\n",
       "      <td>2.346640</td>\n",
       "      <td>3</td>\n",
       "    </tr>\n",
       "    <tr>\n",
       "      <th>1996</th>\n",
       "      <td>96</td>\n",
       "      <td>19</td>\n",
       "      <td>3.731580</td>\n",
       "      <td>1</td>\n",
       "    </tr>\n",
       "    <tr>\n",
       "      <th>1997</th>\n",
       "      <td>97</td>\n",
       "      <td>19</td>\n",
       "      <td>-2.916747</td>\n",
       "      <td>18</td>\n",
       "    </tr>\n",
       "    <tr>\n",
       "      <th>1998</th>\n",
       "      <td>98</td>\n",
       "      <td>19</td>\n",
       "      <td>-0.579809</td>\n",
       "      <td>11</td>\n",
       "    </tr>\n",
       "    <tr>\n",
       "      <th>1999</th>\n",
       "      <td>99</td>\n",
       "      <td>19</td>\n",
       "      <td>-2.306437</td>\n",
       "      <td>16</td>\n",
       "    </tr>\n",
       "  </tbody>\n",
       "</table>\n",
       "<p>2000 rows × 4 columns</p>\n",
       "</div>"
      ],
      "text/plain": [
       "      person choc    rating rank\n",
       "0          0    0  3.316401    5\n",
       "1          1    0  0.610163    8\n",
       "2          2    0 -1.652431   11\n",
       "3          3    0  0.815970    8\n",
       "4          4    0 -1.027152   12\n",
       "...      ...  ...       ...  ...\n",
       "1995      95   19  2.346640    3\n",
       "1996      96   19  3.731580    1\n",
       "1997      97   19 -2.916747   18\n",
       "1998      98   19 -0.579809   11\n",
       "1999      99   19 -2.306437   16\n",
       "\n",
       "[2000 rows x 4 columns]"
      ]
     },
     "execution_count": 4,
     "metadata": {},
     "output_type": "execute_result"
    }
   ],
   "source": [
    "sim = SimGenerative(n_people=100,\n",
    "                    n_chocs=20,\n",
    "                    seed=4321)\n",
    "sim.hyperparams['choc_sigmas']['shape'] = 5\n",
    "sim.hyperparams['choc_sigmas']['scale'] = 0.5\n",
    "sim.draw()\n",
    "sim.ratings_rankings_df"
   ]
  },
  {
   "attachments": {},
   "cell_type": "markdown",
   "metadata": {},
   "source": [
    "## Visualising population mean and variation in appeal"
   ]
  },
  {
   "cell_type": "code",
   "execution_count": 5,
   "metadata": {},
   "outputs": [],
   "source": [
    "sim_viz = SimViz(sim)"
   ]
  },
  {
   "attachments": {},
   "cell_type": "markdown",
   "metadata": {},
   "source": [
    "The mean appeal at the population level for chocolates is defined to be normally distributed, so most chocolates have an average appeal somewhere in the middle of the appeal scale, while a few chocolates lie at the extremeties with very low or very high average appeal. The mean and standard deviation assumed for this normal distribution is entirely arbitrary, and serves only to define the size of the appeal space across which people rate chocolates. Moving the centre of this distribution higher or lower, or making its spread wider or narrower, makes no difference to the interpretation of the ratings since the scale of the latent ratings is entirely arbitrary. For this reason, a normal distribution with mean 0 and standard deviation serves well since it is then easy to interpret ratings relative to 0."
   ]
  },
  {
   "cell_type": "code",
   "execution_count": 6,
   "metadata": {},
   "outputs": [
    {
     "data": {
      "application/vnd.plotly.v1+json": {
       "config": {
        "plotlyServerURL": "https://plot.ly"
       },
       "data": [
        {
         "alignmentgroup": "True",
         "bingroup": "x",
         "hovertemplate": "variable=0<br>value=%{x}<br>count=%{y}<extra></extra>",
         "legendgroup": "0",
         "marker": {
          "color": "#1F77B4",
          "pattern": {
           "shape": ""
          }
         },
         "name": "0",
         "offsetgroup": "0",
         "orientation": "v",
         "showlegend": true,
         "type": "histogram",
         "x": [
          -0.7665215223941259,
          0.9611946948949824,
          1.456346989340512,
          -0.5297926896758558,
          -0.2647674141105856,
          -0.5721713077447425,
          -0.7511134692641797,
          2.2282165690759217,
          0.6573405691024019,
          -1.1323775633504607,
          0.330181196928591,
          0.13101319632918754,
          0.8014517864821065,
          -1.4627130351503193,
          -1.4113896636237957,
          -1.6531237004927155,
          -0.14342970501593497,
          0.5164900533686276,
          1.2800874219248433,
          -1.2251386034867089
         ],
         "xaxis": "x",
         "yaxis": "y"
        },
        {
         "alignmentgroup": "True",
         "boxpoints": "all",
         "fillcolor": "rgba(255,255,255,0)",
         "hoveron": "points",
         "hovertemplate": "variable=0<br>value=%{x}<extra></extra>",
         "jitter": 0,
         "legendgroup": "0",
         "line": {
          "color": "rgba(255,255,255,0)"
         },
         "marker": {
          "color": "#1F77B4",
          "symbol": "line-ns-open"
         },
         "name": "0",
         "offsetgroup": "0",
         "showlegend": false,
         "type": "box",
         "x": [
          -0.7665215223941259,
          0.9611946948949824,
          1.456346989340512,
          -0.5297926896758558,
          -0.2647674141105856,
          -0.5721713077447425,
          -0.7511134692641797,
          2.2282165690759217,
          0.6573405691024019,
          -1.1323775633504607,
          0.330181196928591,
          0.13101319632918754,
          0.8014517864821065,
          -1.4627130351503193,
          -1.4113896636237957,
          -1.6531237004927155,
          -0.14342970501593497,
          0.5164900533686276,
          1.2800874219248433,
          -1.2251386034867089
         ],
         "xaxis": "x2",
         "yaxis": "y2"
        }
       ],
       "layout": {
        "barmode": "relative",
        "height": 600,
        "legend": {
         "title": {
          "text": "variable"
         },
         "tracegroupgap": 0
        },
        "showlegend": false,
        "template": {
         "data": {
          "bar": [
           {
            "error_x": {
             "color": "rgb(36,36,36)"
            },
            "error_y": {
             "color": "rgb(36,36,36)"
            },
            "marker": {
             "line": {
              "color": "white",
              "width": 0.5
             },
             "pattern": {
              "fillmode": "overlay",
              "size": 10,
              "solidity": 0.2
             }
            },
            "type": "bar"
           }
          ],
          "barpolar": [
           {
            "marker": {
             "line": {
              "color": "white",
              "width": 0.5
             },
             "pattern": {
              "fillmode": "overlay",
              "size": 10,
              "solidity": 0.2
             }
            },
            "type": "barpolar"
           }
          ],
          "carpet": [
           {
            "aaxis": {
             "endlinecolor": "rgb(36,36,36)",
             "gridcolor": "white",
             "linecolor": "white",
             "minorgridcolor": "white",
             "startlinecolor": "rgb(36,36,36)"
            },
            "baxis": {
             "endlinecolor": "rgb(36,36,36)",
             "gridcolor": "white",
             "linecolor": "white",
             "minorgridcolor": "white",
             "startlinecolor": "rgb(36,36,36)"
            },
            "type": "carpet"
           }
          ],
          "choropleth": [
           {
            "colorbar": {
             "outlinewidth": 1,
             "tickcolor": "rgb(36,36,36)",
             "ticks": "outside"
            },
            "type": "choropleth"
           }
          ],
          "contour": [
           {
            "colorbar": {
             "outlinewidth": 1,
             "tickcolor": "rgb(36,36,36)",
             "ticks": "outside"
            },
            "colorscale": [
             [
              0,
              "#440154"
             ],
             [
              0.1111111111111111,
              "#482878"
             ],
             [
              0.2222222222222222,
              "#3e4989"
             ],
             [
              0.3333333333333333,
              "#31688e"
             ],
             [
              0.4444444444444444,
              "#26828e"
             ],
             [
              0.5555555555555556,
              "#1f9e89"
             ],
             [
              0.6666666666666666,
              "#35b779"
             ],
             [
              0.7777777777777778,
              "#6ece58"
             ],
             [
              0.8888888888888888,
              "#b5de2b"
             ],
             [
              1,
              "#fde725"
             ]
            ],
            "type": "contour"
           }
          ],
          "contourcarpet": [
           {
            "colorbar": {
             "outlinewidth": 1,
             "tickcolor": "rgb(36,36,36)",
             "ticks": "outside"
            },
            "type": "contourcarpet"
           }
          ],
          "heatmap": [
           {
            "colorbar": {
             "outlinewidth": 1,
             "tickcolor": "rgb(36,36,36)",
             "ticks": "outside"
            },
            "colorscale": [
             [
              0,
              "#440154"
             ],
             [
              0.1111111111111111,
              "#482878"
             ],
             [
              0.2222222222222222,
              "#3e4989"
             ],
             [
              0.3333333333333333,
              "#31688e"
             ],
             [
              0.4444444444444444,
              "#26828e"
             ],
             [
              0.5555555555555556,
              "#1f9e89"
             ],
             [
              0.6666666666666666,
              "#35b779"
             ],
             [
              0.7777777777777778,
              "#6ece58"
             ],
             [
              0.8888888888888888,
              "#b5de2b"
             ],
             [
              1,
              "#fde725"
             ]
            ],
            "type": "heatmap"
           }
          ],
          "heatmapgl": [
           {
            "colorbar": {
             "outlinewidth": 1,
             "tickcolor": "rgb(36,36,36)",
             "ticks": "outside"
            },
            "colorscale": [
             [
              0,
              "#440154"
             ],
             [
              0.1111111111111111,
              "#482878"
             ],
             [
              0.2222222222222222,
              "#3e4989"
             ],
             [
              0.3333333333333333,
              "#31688e"
             ],
             [
              0.4444444444444444,
              "#26828e"
             ],
             [
              0.5555555555555556,
              "#1f9e89"
             ],
             [
              0.6666666666666666,
              "#35b779"
             ],
             [
              0.7777777777777778,
              "#6ece58"
             ],
             [
              0.8888888888888888,
              "#b5de2b"
             ],
             [
              1,
              "#fde725"
             ]
            ],
            "type": "heatmapgl"
           }
          ],
          "histogram": [
           {
            "marker": {
             "line": {
              "color": "white",
              "width": 0.6
             }
            },
            "type": "histogram"
           }
          ],
          "histogram2d": [
           {
            "colorbar": {
             "outlinewidth": 1,
             "tickcolor": "rgb(36,36,36)",
             "ticks": "outside"
            },
            "colorscale": [
             [
              0,
              "#440154"
             ],
             [
              0.1111111111111111,
              "#482878"
             ],
             [
              0.2222222222222222,
              "#3e4989"
             ],
             [
              0.3333333333333333,
              "#31688e"
             ],
             [
              0.4444444444444444,
              "#26828e"
             ],
             [
              0.5555555555555556,
              "#1f9e89"
             ],
             [
              0.6666666666666666,
              "#35b779"
             ],
             [
              0.7777777777777778,
              "#6ece58"
             ],
             [
              0.8888888888888888,
              "#b5de2b"
             ],
             [
              1,
              "#fde725"
             ]
            ],
            "type": "histogram2d"
           }
          ],
          "histogram2dcontour": [
           {
            "colorbar": {
             "outlinewidth": 1,
             "tickcolor": "rgb(36,36,36)",
             "ticks": "outside"
            },
            "colorscale": [
             [
              0,
              "#440154"
             ],
             [
              0.1111111111111111,
              "#482878"
             ],
             [
              0.2222222222222222,
              "#3e4989"
             ],
             [
              0.3333333333333333,
              "#31688e"
             ],
             [
              0.4444444444444444,
              "#26828e"
             ],
             [
              0.5555555555555556,
              "#1f9e89"
             ],
             [
              0.6666666666666666,
              "#35b779"
             ],
             [
              0.7777777777777778,
              "#6ece58"
             ],
             [
              0.8888888888888888,
              "#b5de2b"
             ],
             [
              1,
              "#fde725"
             ]
            ],
            "type": "histogram2dcontour"
           }
          ],
          "mesh3d": [
           {
            "colorbar": {
             "outlinewidth": 1,
             "tickcolor": "rgb(36,36,36)",
             "ticks": "outside"
            },
            "type": "mesh3d"
           }
          ],
          "parcoords": [
           {
            "line": {
             "colorbar": {
              "outlinewidth": 1,
              "tickcolor": "rgb(36,36,36)",
              "ticks": "outside"
             }
            },
            "type": "parcoords"
           }
          ],
          "pie": [
           {
            "automargin": true,
            "type": "pie"
           }
          ],
          "scatter": [
           {
            "fillpattern": {
             "fillmode": "overlay",
             "size": 10,
             "solidity": 0.2
            },
            "type": "scatter"
           }
          ],
          "scatter3d": [
           {
            "line": {
             "colorbar": {
              "outlinewidth": 1,
              "tickcolor": "rgb(36,36,36)",
              "ticks": "outside"
             }
            },
            "marker": {
             "colorbar": {
              "outlinewidth": 1,
              "tickcolor": "rgb(36,36,36)",
              "ticks": "outside"
             }
            },
            "type": "scatter3d"
           }
          ],
          "scattercarpet": [
           {
            "marker": {
             "colorbar": {
              "outlinewidth": 1,
              "tickcolor": "rgb(36,36,36)",
              "ticks": "outside"
             }
            },
            "type": "scattercarpet"
           }
          ],
          "scattergeo": [
           {
            "marker": {
             "colorbar": {
              "outlinewidth": 1,
              "tickcolor": "rgb(36,36,36)",
              "ticks": "outside"
             }
            },
            "type": "scattergeo"
           }
          ],
          "scattergl": [
           {
            "marker": {
             "colorbar": {
              "outlinewidth": 1,
              "tickcolor": "rgb(36,36,36)",
              "ticks": "outside"
             }
            },
            "type": "scattergl"
           }
          ],
          "scattermapbox": [
           {
            "marker": {
             "colorbar": {
              "outlinewidth": 1,
              "tickcolor": "rgb(36,36,36)",
              "ticks": "outside"
             }
            },
            "type": "scattermapbox"
           }
          ],
          "scatterpolar": [
           {
            "marker": {
             "colorbar": {
              "outlinewidth": 1,
              "tickcolor": "rgb(36,36,36)",
              "ticks": "outside"
             }
            },
            "type": "scatterpolar"
           }
          ],
          "scatterpolargl": [
           {
            "marker": {
             "colorbar": {
              "outlinewidth": 1,
              "tickcolor": "rgb(36,36,36)",
              "ticks": "outside"
             }
            },
            "type": "scatterpolargl"
           }
          ],
          "scatterternary": [
           {
            "marker": {
             "colorbar": {
              "outlinewidth": 1,
              "tickcolor": "rgb(36,36,36)",
              "ticks": "outside"
             }
            },
            "type": "scatterternary"
           }
          ],
          "surface": [
           {
            "colorbar": {
             "outlinewidth": 1,
             "tickcolor": "rgb(36,36,36)",
             "ticks": "outside"
            },
            "colorscale": [
             [
              0,
              "#440154"
             ],
             [
              0.1111111111111111,
              "#482878"
             ],
             [
              0.2222222222222222,
              "#3e4989"
             ],
             [
              0.3333333333333333,
              "#31688e"
             ],
             [
              0.4444444444444444,
              "#26828e"
             ],
             [
              0.5555555555555556,
              "#1f9e89"
             ],
             [
              0.6666666666666666,
              "#35b779"
             ],
             [
              0.7777777777777778,
              "#6ece58"
             ],
             [
              0.8888888888888888,
              "#b5de2b"
             ],
             [
              1,
              "#fde725"
             ]
            ],
            "type": "surface"
           }
          ],
          "table": [
           {
            "cells": {
             "fill": {
              "color": "rgb(237,237,237)"
             },
             "line": {
              "color": "white"
             }
            },
            "header": {
             "fill": {
              "color": "rgb(217,217,217)"
             },
             "line": {
              "color": "white"
             }
            },
            "type": "table"
           }
          ]
         },
         "layout": {
          "annotationdefaults": {
           "arrowhead": 0,
           "arrowwidth": 1
          },
          "autotypenumbers": "strict",
          "coloraxis": {
           "colorbar": {
            "outlinewidth": 1,
            "tickcolor": "rgb(36,36,36)",
            "ticks": "outside"
           }
          },
          "colorscale": {
           "diverging": [
            [
             0,
             "rgb(103,0,31)"
            ],
            [
             0.1,
             "rgb(178,24,43)"
            ],
            [
             0.2,
             "rgb(214,96,77)"
            ],
            [
             0.3,
             "rgb(244,165,130)"
            ],
            [
             0.4,
             "rgb(253,219,199)"
            ],
            [
             0.5,
             "rgb(247,247,247)"
            ],
            [
             0.6,
             "rgb(209,229,240)"
            ],
            [
             0.7,
             "rgb(146,197,222)"
            ],
            [
             0.8,
             "rgb(67,147,195)"
            ],
            [
             0.9,
             "rgb(33,102,172)"
            ],
            [
             1,
             "rgb(5,48,97)"
            ]
           ],
           "sequential": [
            [
             0,
             "#440154"
            ],
            [
             0.1111111111111111,
             "#482878"
            ],
            [
             0.2222222222222222,
             "#3e4989"
            ],
            [
             0.3333333333333333,
             "#31688e"
            ],
            [
             0.4444444444444444,
             "#26828e"
            ],
            [
             0.5555555555555556,
             "#1f9e89"
            ],
            [
             0.6666666666666666,
             "#35b779"
            ],
            [
             0.7777777777777778,
             "#6ece58"
            ],
            [
             0.8888888888888888,
             "#b5de2b"
            ],
            [
             1,
             "#fde725"
            ]
           ],
           "sequentialminus": [
            [
             0,
             "#440154"
            ],
            [
             0.1111111111111111,
             "#482878"
            ],
            [
             0.2222222222222222,
             "#3e4989"
            ],
            [
             0.3333333333333333,
             "#31688e"
            ],
            [
             0.4444444444444444,
             "#26828e"
            ],
            [
             0.5555555555555556,
             "#1f9e89"
            ],
            [
             0.6666666666666666,
             "#35b779"
            ],
            [
             0.7777777777777778,
             "#6ece58"
            ],
            [
             0.8888888888888888,
             "#b5de2b"
            ],
            [
             1,
             "#fde725"
            ]
           ]
          },
          "colorway": [
           "#1F77B4",
           "#FF7F0E",
           "#2CA02C",
           "#D62728",
           "#9467BD",
           "#8C564B",
           "#E377C2",
           "#7F7F7F",
           "#BCBD22",
           "#17BECF"
          ],
          "font": {
           "color": "rgb(36,36,36)"
          },
          "geo": {
           "bgcolor": "white",
           "lakecolor": "white",
           "landcolor": "white",
           "showlakes": true,
           "showland": true,
           "subunitcolor": "white"
          },
          "hoverlabel": {
           "align": "left"
          },
          "hovermode": "closest",
          "mapbox": {
           "style": "light"
          },
          "paper_bgcolor": "white",
          "plot_bgcolor": "white",
          "polar": {
           "angularaxis": {
            "gridcolor": "rgb(232,232,232)",
            "linecolor": "rgb(36,36,36)",
            "showgrid": false,
            "showline": true,
            "ticks": "outside"
           },
           "bgcolor": "white",
           "radialaxis": {
            "gridcolor": "rgb(232,232,232)",
            "linecolor": "rgb(36,36,36)",
            "showgrid": false,
            "showline": true,
            "ticks": "outside"
           }
          },
          "scene": {
           "xaxis": {
            "backgroundcolor": "white",
            "gridcolor": "rgb(232,232,232)",
            "gridwidth": 2,
            "linecolor": "rgb(36,36,36)",
            "showbackground": true,
            "showgrid": false,
            "showline": true,
            "ticks": "outside",
            "zeroline": false,
            "zerolinecolor": "rgb(36,36,36)"
           },
           "yaxis": {
            "backgroundcolor": "white",
            "gridcolor": "rgb(232,232,232)",
            "gridwidth": 2,
            "linecolor": "rgb(36,36,36)",
            "showbackground": true,
            "showgrid": false,
            "showline": true,
            "ticks": "outside",
            "zeroline": false,
            "zerolinecolor": "rgb(36,36,36)"
           },
           "zaxis": {
            "backgroundcolor": "white",
            "gridcolor": "rgb(232,232,232)",
            "gridwidth": 2,
            "linecolor": "rgb(36,36,36)",
            "showbackground": true,
            "showgrid": false,
            "showline": true,
            "ticks": "outside",
            "zeroline": false,
            "zerolinecolor": "rgb(36,36,36)"
           }
          },
          "shapedefaults": {
           "fillcolor": "black",
           "line": {
            "width": 0
           },
           "opacity": 0.3
          },
          "ternary": {
           "aaxis": {
            "gridcolor": "rgb(232,232,232)",
            "linecolor": "rgb(36,36,36)",
            "showgrid": false,
            "showline": true,
            "ticks": "outside"
           },
           "baxis": {
            "gridcolor": "rgb(232,232,232)",
            "linecolor": "rgb(36,36,36)",
            "showgrid": false,
            "showline": true,
            "ticks": "outside"
           },
           "bgcolor": "white",
           "caxis": {
            "gridcolor": "rgb(232,232,232)",
            "linecolor": "rgb(36,36,36)",
            "showgrid": false,
            "showline": true,
            "ticks": "outside"
           }
          },
          "title": {
           "x": 0.05
          },
          "xaxis": {
           "automargin": true,
           "gridcolor": "rgb(232,232,232)",
           "linecolor": "rgb(36,36,36)",
           "showgrid": false,
           "showline": true,
           "ticks": "outside",
           "title": {
            "standoff": 15
           },
           "zeroline": false,
           "zerolinecolor": "rgb(36,36,36)"
          },
          "yaxis": {
           "automargin": true,
           "gridcolor": "rgb(232,232,232)",
           "linecolor": "rgb(36,36,36)",
           "showgrid": false,
           "showline": true,
           "ticks": "outside",
           "title": {
            "standoff": 15
           },
           "zeroline": false,
           "zerolinecolor": "rgb(36,36,36)"
          }
         }
        },
        "title": {
         "text": "Population mean preferences for chocolates"
        },
        "width": 1000,
        "xaxis": {
         "anchor": "y",
         "domain": [
          0,
          1
         ],
         "title": {
          "text": "choc_mus"
         }
        },
        "xaxis2": {
         "anchor": "y2",
         "domain": [
          0,
          1
         ],
         "matches": "x",
         "showticklabels": false
        },
        "yaxis": {
         "anchor": "x",
         "domain": [
          0,
          0.7326
         ],
         "title": {
          "text": "count"
         }
        },
        "yaxis2": {
         "anchor": "x2",
         "domain": [
          0.7426,
          1
         ],
         "matches": "y2",
         "showline": false,
         "showticklabels": false,
         "ticks": ""
        }
       }
      }
     },
     "metadata": {},
     "output_type": "display_data"
    }
   ],
   "source": [
    "sim_viz.plot_var('choc_mus',\n",
    "                 marginal='rug',\n",
    "                 title='Population mean preferences for chocolates')"
   ]
  },
  {
   "attachments": {},
   "cell_type": "markdown",
   "metadata": {},
   "source": [
    "The other population level aspect of the generative model is the standard deviation in appeal for each chocolate. This describes how much variation there is in individual people's ratings of the appeal of a given chcolate. These standard deviations differ because some chocolates are assumed to have similar ratings across people, whereas others are assumed tobe more divisive causing a wider spread in appeal ratings across people.\n",
    "\n",
    "The population level standard deviation in ratings was defined to be gamma distributed, allowing for a range of possible values, but ensuring that all values are positive. The mean of the gamma distribution is α/β, where α and β are its shape and scale parameters respectively. Numpy defines the scale parameter as 1/β, so by choosing shape and scale 5 and 0.1, the mean of the population standard deviations in appeal is set to 0.5. More information and interactive visualiastions of the gamma distribution can be found at https://distribution-explorer.github.io/continuous/gamma.html\n",
    "\n",
    "Unlike the situation above where the centre and spread of the population mean appeals per chocolate was explained as arbitrary, the scale of population standard deviations in appeal is now relative to the population mean appeal levels. So, since the population mean appeals were assumed to have standard devition 1, choosing a gamma distribution with mean 0.5 for the population level standard deviations in appeal means that the individual effects on ratings are on average assumed to be about half the size of the population level effects. So, if a chocolate has a population mean rating of -1, few participants will rate that chocolate above 0 if it has a population level standard deviation of 0.5, since that would be two standard deviations above the mean. The possibility remains open, however, for that chocolate to have a higher standard deviation in appeal ratings drawn from the gamma distribition, so it's possible for individual level effects to outweight population level effects in some cases.\n",
    "\n",
    "Here we can see most chocolates have a standard deviaition in appeal in the region of 0.5, but some do have standard deviations greater than 1 or less than 0.2."
   ]
  },
  {
   "cell_type": "code",
   "execution_count": 7,
   "metadata": {},
   "outputs": [
    {
     "data": {
      "application/vnd.plotly.v1+json": {
       "config": {
        "plotlyServerURL": "https://plot.ly"
       },
       "data": [
        {
         "alignmentgroup": "True",
         "bingroup": "x",
         "hovertemplate": "variable=0<br>value=%{x}<br>count=%{y}<extra></extra>",
         "legendgroup": "0",
         "marker": {
          "color": "#1F77B4",
          "pattern": {
           "shape": ""
          }
         },
         "name": "0",
         "offsetgroup": "0",
         "orientation": "v",
         "showlegend": true,
         "type": "histogram",
         "x": [
          1.588910231486535,
          2.1966706758745143,
          2.707408863192345,
          3.7940103095419446,
          1.1557652221647547,
          1.6972614149298468,
          4.7735855676913825,
          2.0265251305698873,
          2.7502772175940633,
          1.0769617061163126,
          2.957984308826431,
          0.9817498541897893,
          2.6544184296964084,
          1.1618544681922565,
          1.4211531975395006,
          1.3716025531842533,
          5.165914078848368,
          2.5138699164046137,
          2.8263455078103195,
          2.5253263597490903
         ],
         "xaxis": "x",
         "yaxis": "y"
        },
        {
         "alignmentgroup": "True",
         "boxpoints": "all",
         "fillcolor": "rgba(255,255,255,0)",
         "hoveron": "points",
         "hovertemplate": "variable=0<br>value=%{x}<extra></extra>",
         "jitter": 0,
         "legendgroup": "0",
         "line": {
          "color": "rgba(255,255,255,0)"
         },
         "marker": {
          "color": "#1F77B4",
          "symbol": "line-ns-open"
         },
         "name": "0",
         "offsetgroup": "0",
         "showlegend": false,
         "type": "box",
         "x": [
          1.588910231486535,
          2.1966706758745143,
          2.707408863192345,
          3.7940103095419446,
          1.1557652221647547,
          1.6972614149298468,
          4.7735855676913825,
          2.0265251305698873,
          2.7502772175940633,
          1.0769617061163126,
          2.957984308826431,
          0.9817498541897893,
          2.6544184296964084,
          1.1618544681922565,
          1.4211531975395006,
          1.3716025531842533,
          5.165914078848368,
          2.5138699164046137,
          2.8263455078103195,
          2.5253263597490903
         ],
         "xaxis": "x2",
         "yaxis": "y2"
        }
       ],
       "layout": {
        "barmode": "relative",
        "height": 600,
        "legend": {
         "title": {
          "text": "variable"
         },
         "tracegroupgap": 0
        },
        "showlegend": false,
        "template": {
         "data": {
          "bar": [
           {
            "error_x": {
             "color": "rgb(36,36,36)"
            },
            "error_y": {
             "color": "rgb(36,36,36)"
            },
            "marker": {
             "line": {
              "color": "white",
              "width": 0.5
             },
             "pattern": {
              "fillmode": "overlay",
              "size": 10,
              "solidity": 0.2
             }
            },
            "type": "bar"
           }
          ],
          "barpolar": [
           {
            "marker": {
             "line": {
              "color": "white",
              "width": 0.5
             },
             "pattern": {
              "fillmode": "overlay",
              "size": 10,
              "solidity": 0.2
             }
            },
            "type": "barpolar"
           }
          ],
          "carpet": [
           {
            "aaxis": {
             "endlinecolor": "rgb(36,36,36)",
             "gridcolor": "white",
             "linecolor": "white",
             "minorgridcolor": "white",
             "startlinecolor": "rgb(36,36,36)"
            },
            "baxis": {
             "endlinecolor": "rgb(36,36,36)",
             "gridcolor": "white",
             "linecolor": "white",
             "minorgridcolor": "white",
             "startlinecolor": "rgb(36,36,36)"
            },
            "type": "carpet"
           }
          ],
          "choropleth": [
           {
            "colorbar": {
             "outlinewidth": 1,
             "tickcolor": "rgb(36,36,36)",
             "ticks": "outside"
            },
            "type": "choropleth"
           }
          ],
          "contour": [
           {
            "colorbar": {
             "outlinewidth": 1,
             "tickcolor": "rgb(36,36,36)",
             "ticks": "outside"
            },
            "colorscale": [
             [
              0,
              "#440154"
             ],
             [
              0.1111111111111111,
              "#482878"
             ],
             [
              0.2222222222222222,
              "#3e4989"
             ],
             [
              0.3333333333333333,
              "#31688e"
             ],
             [
              0.4444444444444444,
              "#26828e"
             ],
             [
              0.5555555555555556,
              "#1f9e89"
             ],
             [
              0.6666666666666666,
              "#35b779"
             ],
             [
              0.7777777777777778,
              "#6ece58"
             ],
             [
              0.8888888888888888,
              "#b5de2b"
             ],
             [
              1,
              "#fde725"
             ]
            ],
            "type": "contour"
           }
          ],
          "contourcarpet": [
           {
            "colorbar": {
             "outlinewidth": 1,
             "tickcolor": "rgb(36,36,36)",
             "ticks": "outside"
            },
            "type": "contourcarpet"
           }
          ],
          "heatmap": [
           {
            "colorbar": {
             "outlinewidth": 1,
             "tickcolor": "rgb(36,36,36)",
             "ticks": "outside"
            },
            "colorscale": [
             [
              0,
              "#440154"
             ],
             [
              0.1111111111111111,
              "#482878"
             ],
             [
              0.2222222222222222,
              "#3e4989"
             ],
             [
              0.3333333333333333,
              "#31688e"
             ],
             [
              0.4444444444444444,
              "#26828e"
             ],
             [
              0.5555555555555556,
              "#1f9e89"
             ],
             [
              0.6666666666666666,
              "#35b779"
             ],
             [
              0.7777777777777778,
              "#6ece58"
             ],
             [
              0.8888888888888888,
              "#b5de2b"
             ],
             [
              1,
              "#fde725"
             ]
            ],
            "type": "heatmap"
           }
          ],
          "heatmapgl": [
           {
            "colorbar": {
             "outlinewidth": 1,
             "tickcolor": "rgb(36,36,36)",
             "ticks": "outside"
            },
            "colorscale": [
             [
              0,
              "#440154"
             ],
             [
              0.1111111111111111,
              "#482878"
             ],
             [
              0.2222222222222222,
              "#3e4989"
             ],
             [
              0.3333333333333333,
              "#31688e"
             ],
             [
              0.4444444444444444,
              "#26828e"
             ],
             [
              0.5555555555555556,
              "#1f9e89"
             ],
             [
              0.6666666666666666,
              "#35b779"
             ],
             [
              0.7777777777777778,
              "#6ece58"
             ],
             [
              0.8888888888888888,
              "#b5de2b"
             ],
             [
              1,
              "#fde725"
             ]
            ],
            "type": "heatmapgl"
           }
          ],
          "histogram": [
           {
            "marker": {
             "line": {
              "color": "white",
              "width": 0.6
             }
            },
            "type": "histogram"
           }
          ],
          "histogram2d": [
           {
            "colorbar": {
             "outlinewidth": 1,
             "tickcolor": "rgb(36,36,36)",
             "ticks": "outside"
            },
            "colorscale": [
             [
              0,
              "#440154"
             ],
             [
              0.1111111111111111,
              "#482878"
             ],
             [
              0.2222222222222222,
              "#3e4989"
             ],
             [
              0.3333333333333333,
              "#31688e"
             ],
             [
              0.4444444444444444,
              "#26828e"
             ],
             [
              0.5555555555555556,
              "#1f9e89"
             ],
             [
              0.6666666666666666,
              "#35b779"
             ],
             [
              0.7777777777777778,
              "#6ece58"
             ],
             [
              0.8888888888888888,
              "#b5de2b"
             ],
             [
              1,
              "#fde725"
             ]
            ],
            "type": "histogram2d"
           }
          ],
          "histogram2dcontour": [
           {
            "colorbar": {
             "outlinewidth": 1,
             "tickcolor": "rgb(36,36,36)",
             "ticks": "outside"
            },
            "colorscale": [
             [
              0,
              "#440154"
             ],
             [
              0.1111111111111111,
              "#482878"
             ],
             [
              0.2222222222222222,
              "#3e4989"
             ],
             [
              0.3333333333333333,
              "#31688e"
             ],
             [
              0.4444444444444444,
              "#26828e"
             ],
             [
              0.5555555555555556,
              "#1f9e89"
             ],
             [
              0.6666666666666666,
              "#35b779"
             ],
             [
              0.7777777777777778,
              "#6ece58"
             ],
             [
              0.8888888888888888,
              "#b5de2b"
             ],
             [
              1,
              "#fde725"
             ]
            ],
            "type": "histogram2dcontour"
           }
          ],
          "mesh3d": [
           {
            "colorbar": {
             "outlinewidth": 1,
             "tickcolor": "rgb(36,36,36)",
             "ticks": "outside"
            },
            "type": "mesh3d"
           }
          ],
          "parcoords": [
           {
            "line": {
             "colorbar": {
              "outlinewidth": 1,
              "tickcolor": "rgb(36,36,36)",
              "ticks": "outside"
             }
            },
            "type": "parcoords"
           }
          ],
          "pie": [
           {
            "automargin": true,
            "type": "pie"
           }
          ],
          "scatter": [
           {
            "fillpattern": {
             "fillmode": "overlay",
             "size": 10,
             "solidity": 0.2
            },
            "type": "scatter"
           }
          ],
          "scatter3d": [
           {
            "line": {
             "colorbar": {
              "outlinewidth": 1,
              "tickcolor": "rgb(36,36,36)",
              "ticks": "outside"
             }
            },
            "marker": {
             "colorbar": {
              "outlinewidth": 1,
              "tickcolor": "rgb(36,36,36)",
              "ticks": "outside"
             }
            },
            "type": "scatter3d"
           }
          ],
          "scattercarpet": [
           {
            "marker": {
             "colorbar": {
              "outlinewidth": 1,
              "tickcolor": "rgb(36,36,36)",
              "ticks": "outside"
             }
            },
            "type": "scattercarpet"
           }
          ],
          "scattergeo": [
           {
            "marker": {
             "colorbar": {
              "outlinewidth": 1,
              "tickcolor": "rgb(36,36,36)",
              "ticks": "outside"
             }
            },
            "type": "scattergeo"
           }
          ],
          "scattergl": [
           {
            "marker": {
             "colorbar": {
              "outlinewidth": 1,
              "tickcolor": "rgb(36,36,36)",
              "ticks": "outside"
             }
            },
            "type": "scattergl"
           }
          ],
          "scattermapbox": [
           {
            "marker": {
             "colorbar": {
              "outlinewidth": 1,
              "tickcolor": "rgb(36,36,36)",
              "ticks": "outside"
             }
            },
            "type": "scattermapbox"
           }
          ],
          "scatterpolar": [
           {
            "marker": {
             "colorbar": {
              "outlinewidth": 1,
              "tickcolor": "rgb(36,36,36)",
              "ticks": "outside"
             }
            },
            "type": "scatterpolar"
           }
          ],
          "scatterpolargl": [
           {
            "marker": {
             "colorbar": {
              "outlinewidth": 1,
              "tickcolor": "rgb(36,36,36)",
              "ticks": "outside"
             }
            },
            "type": "scatterpolargl"
           }
          ],
          "scatterternary": [
           {
            "marker": {
             "colorbar": {
              "outlinewidth": 1,
              "tickcolor": "rgb(36,36,36)",
              "ticks": "outside"
             }
            },
            "type": "scatterternary"
           }
          ],
          "surface": [
           {
            "colorbar": {
             "outlinewidth": 1,
             "tickcolor": "rgb(36,36,36)",
             "ticks": "outside"
            },
            "colorscale": [
             [
              0,
              "#440154"
             ],
             [
              0.1111111111111111,
              "#482878"
             ],
             [
              0.2222222222222222,
              "#3e4989"
             ],
             [
              0.3333333333333333,
              "#31688e"
             ],
             [
              0.4444444444444444,
              "#26828e"
             ],
             [
              0.5555555555555556,
              "#1f9e89"
             ],
             [
              0.6666666666666666,
              "#35b779"
             ],
             [
              0.7777777777777778,
              "#6ece58"
             ],
             [
              0.8888888888888888,
              "#b5de2b"
             ],
             [
              1,
              "#fde725"
             ]
            ],
            "type": "surface"
           }
          ],
          "table": [
           {
            "cells": {
             "fill": {
              "color": "rgb(237,237,237)"
             },
             "line": {
              "color": "white"
             }
            },
            "header": {
             "fill": {
              "color": "rgb(217,217,217)"
             },
             "line": {
              "color": "white"
             }
            },
            "type": "table"
           }
          ]
         },
         "layout": {
          "annotationdefaults": {
           "arrowhead": 0,
           "arrowwidth": 1
          },
          "autotypenumbers": "strict",
          "coloraxis": {
           "colorbar": {
            "outlinewidth": 1,
            "tickcolor": "rgb(36,36,36)",
            "ticks": "outside"
           }
          },
          "colorscale": {
           "diverging": [
            [
             0,
             "rgb(103,0,31)"
            ],
            [
             0.1,
             "rgb(178,24,43)"
            ],
            [
             0.2,
             "rgb(214,96,77)"
            ],
            [
             0.3,
             "rgb(244,165,130)"
            ],
            [
             0.4,
             "rgb(253,219,199)"
            ],
            [
             0.5,
             "rgb(247,247,247)"
            ],
            [
             0.6,
             "rgb(209,229,240)"
            ],
            [
             0.7,
             "rgb(146,197,222)"
            ],
            [
             0.8,
             "rgb(67,147,195)"
            ],
            [
             0.9,
             "rgb(33,102,172)"
            ],
            [
             1,
             "rgb(5,48,97)"
            ]
           ],
           "sequential": [
            [
             0,
             "#440154"
            ],
            [
             0.1111111111111111,
             "#482878"
            ],
            [
             0.2222222222222222,
             "#3e4989"
            ],
            [
             0.3333333333333333,
             "#31688e"
            ],
            [
             0.4444444444444444,
             "#26828e"
            ],
            [
             0.5555555555555556,
             "#1f9e89"
            ],
            [
             0.6666666666666666,
             "#35b779"
            ],
            [
             0.7777777777777778,
             "#6ece58"
            ],
            [
             0.8888888888888888,
             "#b5de2b"
            ],
            [
             1,
             "#fde725"
            ]
           ],
           "sequentialminus": [
            [
             0,
             "#440154"
            ],
            [
             0.1111111111111111,
             "#482878"
            ],
            [
             0.2222222222222222,
             "#3e4989"
            ],
            [
             0.3333333333333333,
             "#31688e"
            ],
            [
             0.4444444444444444,
             "#26828e"
            ],
            [
             0.5555555555555556,
             "#1f9e89"
            ],
            [
             0.6666666666666666,
             "#35b779"
            ],
            [
             0.7777777777777778,
             "#6ece58"
            ],
            [
             0.8888888888888888,
             "#b5de2b"
            ],
            [
             1,
             "#fde725"
            ]
           ]
          },
          "colorway": [
           "#1F77B4",
           "#FF7F0E",
           "#2CA02C",
           "#D62728",
           "#9467BD",
           "#8C564B",
           "#E377C2",
           "#7F7F7F",
           "#BCBD22",
           "#17BECF"
          ],
          "font": {
           "color": "rgb(36,36,36)"
          },
          "geo": {
           "bgcolor": "white",
           "lakecolor": "white",
           "landcolor": "white",
           "showlakes": true,
           "showland": true,
           "subunitcolor": "white"
          },
          "hoverlabel": {
           "align": "left"
          },
          "hovermode": "closest",
          "mapbox": {
           "style": "light"
          },
          "paper_bgcolor": "white",
          "plot_bgcolor": "white",
          "polar": {
           "angularaxis": {
            "gridcolor": "rgb(232,232,232)",
            "linecolor": "rgb(36,36,36)",
            "showgrid": false,
            "showline": true,
            "ticks": "outside"
           },
           "bgcolor": "white",
           "radialaxis": {
            "gridcolor": "rgb(232,232,232)",
            "linecolor": "rgb(36,36,36)",
            "showgrid": false,
            "showline": true,
            "ticks": "outside"
           }
          },
          "scene": {
           "xaxis": {
            "backgroundcolor": "white",
            "gridcolor": "rgb(232,232,232)",
            "gridwidth": 2,
            "linecolor": "rgb(36,36,36)",
            "showbackground": true,
            "showgrid": false,
            "showline": true,
            "ticks": "outside",
            "zeroline": false,
            "zerolinecolor": "rgb(36,36,36)"
           },
           "yaxis": {
            "backgroundcolor": "white",
            "gridcolor": "rgb(232,232,232)",
            "gridwidth": 2,
            "linecolor": "rgb(36,36,36)",
            "showbackground": true,
            "showgrid": false,
            "showline": true,
            "ticks": "outside",
            "zeroline": false,
            "zerolinecolor": "rgb(36,36,36)"
           },
           "zaxis": {
            "backgroundcolor": "white",
            "gridcolor": "rgb(232,232,232)",
            "gridwidth": 2,
            "linecolor": "rgb(36,36,36)",
            "showbackground": true,
            "showgrid": false,
            "showline": true,
            "ticks": "outside",
            "zeroline": false,
            "zerolinecolor": "rgb(36,36,36)"
           }
          },
          "shapedefaults": {
           "fillcolor": "black",
           "line": {
            "width": 0
           },
           "opacity": 0.3
          },
          "ternary": {
           "aaxis": {
            "gridcolor": "rgb(232,232,232)",
            "linecolor": "rgb(36,36,36)",
            "showgrid": false,
            "showline": true,
            "ticks": "outside"
           },
           "baxis": {
            "gridcolor": "rgb(232,232,232)",
            "linecolor": "rgb(36,36,36)",
            "showgrid": false,
            "showline": true,
            "ticks": "outside"
           },
           "bgcolor": "white",
           "caxis": {
            "gridcolor": "rgb(232,232,232)",
            "linecolor": "rgb(36,36,36)",
            "showgrid": false,
            "showline": true,
            "ticks": "outside"
           }
          },
          "title": {
           "x": 0.05
          },
          "xaxis": {
           "automargin": true,
           "gridcolor": "rgb(232,232,232)",
           "linecolor": "rgb(36,36,36)",
           "showgrid": false,
           "showline": true,
           "ticks": "outside",
           "title": {
            "standoff": 15
           },
           "zeroline": false,
           "zerolinecolor": "rgb(36,36,36)"
          },
          "yaxis": {
           "automargin": true,
           "gridcolor": "rgb(232,232,232)",
           "linecolor": "rgb(36,36,36)",
           "showgrid": false,
           "showline": true,
           "ticks": "outside",
           "title": {
            "standoff": 15
           },
           "zeroline": false,
           "zerolinecolor": "rgb(36,36,36)"
          }
         }
        },
        "title": {
         "text": "Population standard deviations in preferences for chocolates"
        },
        "width": 1000,
        "xaxis": {
         "anchor": "y",
         "domain": [
          0,
          1
         ],
         "title": {
          "text": "choc_sigmas"
         }
        },
        "xaxis2": {
         "anchor": "y2",
         "domain": [
          0,
          1
         ],
         "matches": "x",
         "showticklabels": false
        },
        "yaxis": {
         "anchor": "x",
         "domain": [
          0,
          0.7326
         ],
         "title": {
          "text": "count"
         }
        },
        "yaxis2": {
         "anchor": "x2",
         "domain": [
          0.7426,
          1
         ],
         "matches": "y2",
         "showline": false,
         "showticklabels": false,
         "ticks": ""
        }
       }
      }
     },
     "metadata": {},
     "output_type": "display_data"
    }
   ],
   "source": [
    "sim_viz.plot_var('choc_sigmas',\n",
    "                 marginal='rug',\n",
    "                 title='Population standard deviations in preferences for chocolates')"
   ]
  },
  {
   "attachments": {},
   "cell_type": "markdown",
   "metadata": {},
   "source": [
    "## Visualising individual ratings\n",
    "\n",
    "Individuals' ratings of chocolates are defined to be normally distributed, with the means and standard deviations of those normal distributions being the results of the population effects described above. So, each chocolate has a population level mean and standard deviation in appeal, and then the individual people have appeal ratings for each chocolate drawn from the normal distributions defined by those parameters.\n",
    "\n",
    "Here we can see the total spread of all rating values given by people for all chocolates, as well as colour coding to show which chocolates fell into which areas on the appeal scale.\n",
    "\n",
    "Due to the compounding effect of the individual variation on top of the population level variation in appeal, the range of values on the appeal scale is wider at the individual level than it was at the population level, with some ratings below -4 or above 4. The ratings remain constrained however to a range of values in a region of the scale, since the assumptions in each level of the generative model limit how wide the ratings can be."
   ]
  },
  {
   "cell_type": "code",
   "execution_count": 8,
   "metadata": {},
   "outputs": [
    {
     "data": {
      "application/vnd.plotly.v1+json": {
       "config": {
        "plotlyServerURL": "https://plot.ly"
       },
       "data": [
        {
         "alignmentgroup": "True",
         "bingroup": "x",
         "hovertemplate": "choc=0<br>rating=%{x}<br>count=%{y}<extra></extra>",
         "legendgroup": "0",
         "marker": {
          "color": "#1F77B4",
          "pattern": {
           "shape": ""
          }
         },
         "name": "0",
         "offsetgroup": "0",
         "orientation": "v",
         "showlegend": true,
         "type": "histogram",
         "x": [
          3.3164009256636455,
          0.6101628058239191,
          -1.6524305205771435,
          0.8159696583803352,
          -1.027152020587394,
          -1.8030021444968947,
          1.7476655197108268,
          1.4528506838559672,
          0.0052429881223823305,
          -1.027005393392636,
          -1.0914772535851625,
          -2.6344432854606485,
          -0.3449587376872799,
          -0.5180428663820558,
          -2.1381860984885583,
          0.14574818218676366,
          2.097939251950308,
          -2.472781631477512,
          1.4078379194282822,
          -1.9956424542094733,
          -1.5137832062027623,
          0.7254167322468238,
          3.2716937256534853,
          1.7435585907946387,
          -0.08572853103004519,
          1.3400130003611501,
          -0.2977700859708591,
          -1.2504133306107048,
          -0.780222301128366,
          -1.7074156046343791,
          0.8289857837867877,
          1.7773303261408597,
          -0.4900812224488613,
          -0.5908765754451564,
          -1.9442404165599134,
          1.060265445180912,
          0.20729285536053899,
          -1.5911565041706348,
          0.7305268606554108,
          -1.1077554049146925,
          0.8031002931517149,
          0.21175612765616691,
          -1.4398047128666742,
          -0.8770182920963273,
          0.5261940043681889,
          -1.3461517490375356,
          -1.3703883305534283,
          -3.6621573360229984,
          0.6679570971479695,
          0.34749552205515066,
          -3.373868125800561,
          -4.868919202376294,
          0.916595982242676,
          -0.8272422317960838,
          -2.4239943349885475,
          -2.9294991319157475,
          0.41517031168392926,
          -1.7801928013987447,
          -1.1883551975106819,
          -1.3426385756378916,
          -0.7117317264601253,
          -0.4306157689206853,
          -1.7131232092051558,
          -1.1317868077680615,
          -2.6168582165806207,
          0.11358084216236031,
          -1.2090880875168104,
          -4.053357864364036,
          2.7876824287309203,
          -2.0668220234053454,
          1.2821404190272574,
          -1.1858065073694515,
          -1.001489550926435,
          -0.8751676769365151,
          -2.2439335042345134,
          0.05298319012714814,
          0.6045984253452895,
          0.7252730469585426,
          -1.4679630637930412,
          -0.7347136992324145,
          0.34899108810711355,
          -2.7347176889974634,
          1.0275552776489882,
          -0.36846144755160354,
          0.48457287905301183,
          0.9540761217524943,
          1.6075694329148718,
          0.6158713824490426,
          -1.1465613863780866,
          -2.69271262271142,
          -0.12267152812090532,
          -1.8393773738838735,
          -2.4335373455571183,
          0.04658877664977634,
          -2.152546747938557,
          0.050759929425876815,
          0.6731119476222306,
          -1.8216954806927852,
          2.185468891267529,
          -3.3744658639772083
         ],
         "xaxis": "x",
         "yaxis": "y"
        },
        {
         "alignmentgroup": "True",
         "boxpoints": "all",
         "fillcolor": "rgba(255,255,255,0)",
         "hoveron": "points",
         "hovertemplate": "choc=0<br>rating=%{x}<extra></extra>",
         "jitter": 0,
         "legendgroup": "0",
         "line": {
          "color": "rgba(255,255,255,0)"
         },
         "marker": {
          "color": "#1F77B4",
          "symbol": "line-ns-open"
         },
         "name": "0",
         "offsetgroup": "0",
         "showlegend": false,
         "type": "box",
         "x": [
          3.3164009256636455,
          0.6101628058239191,
          -1.6524305205771435,
          0.8159696583803352,
          -1.027152020587394,
          -1.8030021444968947,
          1.7476655197108268,
          1.4528506838559672,
          0.0052429881223823305,
          -1.027005393392636,
          -1.0914772535851625,
          -2.6344432854606485,
          -0.3449587376872799,
          -0.5180428663820558,
          -2.1381860984885583,
          0.14574818218676366,
          2.097939251950308,
          -2.472781631477512,
          1.4078379194282822,
          -1.9956424542094733,
          -1.5137832062027623,
          0.7254167322468238,
          3.2716937256534853,
          1.7435585907946387,
          -0.08572853103004519,
          1.3400130003611501,
          -0.2977700859708591,
          -1.2504133306107048,
          -0.780222301128366,
          -1.7074156046343791,
          0.8289857837867877,
          1.7773303261408597,
          -0.4900812224488613,
          -0.5908765754451564,
          -1.9442404165599134,
          1.060265445180912,
          0.20729285536053899,
          -1.5911565041706348,
          0.7305268606554108,
          -1.1077554049146925,
          0.8031002931517149,
          0.21175612765616691,
          -1.4398047128666742,
          -0.8770182920963273,
          0.5261940043681889,
          -1.3461517490375356,
          -1.3703883305534283,
          -3.6621573360229984,
          0.6679570971479695,
          0.34749552205515066,
          -3.373868125800561,
          -4.868919202376294,
          0.916595982242676,
          -0.8272422317960838,
          -2.4239943349885475,
          -2.9294991319157475,
          0.41517031168392926,
          -1.7801928013987447,
          -1.1883551975106819,
          -1.3426385756378916,
          -0.7117317264601253,
          -0.4306157689206853,
          -1.7131232092051558,
          -1.1317868077680615,
          -2.6168582165806207,
          0.11358084216236031,
          -1.2090880875168104,
          -4.053357864364036,
          2.7876824287309203,
          -2.0668220234053454,
          1.2821404190272574,
          -1.1858065073694515,
          -1.001489550926435,
          -0.8751676769365151,
          -2.2439335042345134,
          0.05298319012714814,
          0.6045984253452895,
          0.7252730469585426,
          -1.4679630637930412,
          -0.7347136992324145,
          0.34899108810711355,
          -2.7347176889974634,
          1.0275552776489882,
          -0.36846144755160354,
          0.48457287905301183,
          0.9540761217524943,
          1.6075694329148718,
          0.6158713824490426,
          -1.1465613863780866,
          -2.69271262271142,
          -0.12267152812090532,
          -1.8393773738838735,
          -2.4335373455571183,
          0.04658877664977634,
          -2.152546747938557,
          0.050759929425876815,
          0.6731119476222306,
          -1.8216954806927852,
          2.185468891267529,
          -3.3744658639772083
         ],
         "xaxis": "x2",
         "yaxis": "y2"
        },
        {
         "alignmentgroup": "True",
         "bingroup": "x",
         "hovertemplate": "choc=1<br>rating=%{x}<br>count=%{y}<extra></extra>",
         "legendgroup": "1",
         "marker": {
          "color": "#FF7F0E",
          "pattern": {
           "shape": ""
          }
         },
         "name": "1",
         "offsetgroup": "1",
         "orientation": "v",
         "showlegend": true,
         "type": "histogram",
         "x": [
          3.8198648530480424,
          -5.033043674769222,
          2.3375088862059146,
          0.24389609011179858,
          0.5277116807751977,
          4.2084768775267225,
          -0.06363624448702743,
          -3.7423789604871676,
          4.308749969333844,
          1.5344809276362574,
          0.9467726097124246,
          1.7643678500021478,
          1.4298272056760668,
          1.9257946152809016,
          2.8955526759689336,
          -0.06758434640582911,
          -1.1149354970703396,
          -0.2967298558362491,
          2.8963840699559573,
          -3.175691635654429,
          -2.581148554784981,
          -0.8872608289553018,
          1.8329576934809164,
          -1.3060962979599022,
          0.756422518567612,
          1.6076517119043783,
          -0.5689112932318642,
          -0.8201446086328784,
          0.26471895124603084,
          4.288714848721838,
          -2.722509213484187,
          0.9374930156148953,
          0.37051563795035425,
          2.808785630891021,
          3.0528058085096017,
          0.4196844121245117,
          0.40003905385663885,
          2.616258023359232,
          0.26086173661492895,
          1.4030053944917826,
          3.4630264386730025,
          4.6829119630949805,
          2.2835875593746064,
          4.8623967032441335,
          3.2064771345607572,
          3.3260156706605546,
          0.6294904445836984,
          2.1010276029205754,
          2.5774581726018404,
          4.536176223631177,
          -3.859311609817583,
          1.4858923141570801,
          0.3238372935486239,
          1.4796243470679942,
          3.055721923720258,
          -0.044844990085197156,
          2.0240408072514926,
          2.5003344956179063,
          0.34107815065924774,
          -2.714604433301597,
          0.6525399572219457,
          -1.0029833938467503,
          -1.8501997822754261,
          2.1151178178082497,
          0.7246959676434097,
          -1.4928530873165684,
          1.0899771992998128,
          0.41760187665472526,
          2.1873421765278858,
          2.3006862302710904,
          -0.17155791147561927,
          -1.2981945745037944,
          -1.8321784522445541,
          -1.4975195585131837,
          -1.7580098462533371,
          -1.7377796560802148,
          1.0698113045238482,
          -2.2685685731302816,
          2.564796243491237,
          3.272994888607338,
          1.974417891267946,
          0.21484495631187317,
          0.3925846676158813,
          1.220932421981577,
          -0.3170184503479899,
          -1.2050840843881634,
          1.661481254186548,
          2.3141902262101666,
          3.720623821845007,
          2.7942876901860925,
          0.2878020025755713,
          -1.9508279721463082,
          0.8894539529811261,
          3.585865149307805,
          0.8436544901627339,
          0.4471820905892441,
          1.8070867506318853,
          3.125813517874605,
          1.1229158277197135,
          3.278384877881348
         ],
         "xaxis": "x",
         "yaxis": "y"
        },
        {
         "alignmentgroup": "True",
         "boxpoints": "all",
         "fillcolor": "rgba(255,255,255,0)",
         "hoveron": "points",
         "hovertemplate": "choc=1<br>rating=%{x}<extra></extra>",
         "jitter": 0,
         "legendgroup": "1",
         "line": {
          "color": "rgba(255,255,255,0)"
         },
         "marker": {
          "color": "#FF7F0E",
          "symbol": "line-ns-open"
         },
         "name": "1",
         "offsetgroup": "1",
         "showlegend": false,
         "type": "box",
         "x": [
          3.8198648530480424,
          -5.033043674769222,
          2.3375088862059146,
          0.24389609011179858,
          0.5277116807751977,
          4.2084768775267225,
          -0.06363624448702743,
          -3.7423789604871676,
          4.308749969333844,
          1.5344809276362574,
          0.9467726097124246,
          1.7643678500021478,
          1.4298272056760668,
          1.9257946152809016,
          2.8955526759689336,
          -0.06758434640582911,
          -1.1149354970703396,
          -0.2967298558362491,
          2.8963840699559573,
          -3.175691635654429,
          -2.581148554784981,
          -0.8872608289553018,
          1.8329576934809164,
          -1.3060962979599022,
          0.756422518567612,
          1.6076517119043783,
          -0.5689112932318642,
          -0.8201446086328784,
          0.26471895124603084,
          4.288714848721838,
          -2.722509213484187,
          0.9374930156148953,
          0.37051563795035425,
          2.808785630891021,
          3.0528058085096017,
          0.4196844121245117,
          0.40003905385663885,
          2.616258023359232,
          0.26086173661492895,
          1.4030053944917826,
          3.4630264386730025,
          4.6829119630949805,
          2.2835875593746064,
          4.8623967032441335,
          3.2064771345607572,
          3.3260156706605546,
          0.6294904445836984,
          2.1010276029205754,
          2.5774581726018404,
          4.536176223631177,
          -3.859311609817583,
          1.4858923141570801,
          0.3238372935486239,
          1.4796243470679942,
          3.055721923720258,
          -0.044844990085197156,
          2.0240408072514926,
          2.5003344956179063,
          0.34107815065924774,
          -2.714604433301597,
          0.6525399572219457,
          -1.0029833938467503,
          -1.8501997822754261,
          2.1151178178082497,
          0.7246959676434097,
          -1.4928530873165684,
          1.0899771992998128,
          0.41760187665472526,
          2.1873421765278858,
          2.3006862302710904,
          -0.17155791147561927,
          -1.2981945745037944,
          -1.8321784522445541,
          -1.4975195585131837,
          -1.7580098462533371,
          -1.7377796560802148,
          1.0698113045238482,
          -2.2685685731302816,
          2.564796243491237,
          3.272994888607338,
          1.974417891267946,
          0.21484495631187317,
          0.3925846676158813,
          1.220932421981577,
          -0.3170184503479899,
          -1.2050840843881634,
          1.661481254186548,
          2.3141902262101666,
          3.720623821845007,
          2.7942876901860925,
          0.2878020025755713,
          -1.9508279721463082,
          0.8894539529811261,
          3.585865149307805,
          0.8436544901627339,
          0.4471820905892441,
          1.8070867506318853,
          3.125813517874605,
          1.1229158277197135,
          3.278384877881348
         ],
         "xaxis": "x2",
         "yaxis": "y2"
        },
        {
         "alignmentgroup": "True",
         "bingroup": "x",
         "hovertemplate": "choc=2<br>rating=%{x}<br>count=%{y}<extra></extra>",
         "legendgroup": "2",
         "marker": {
          "color": "#2CA02C",
          "pattern": {
           "shape": ""
          }
         },
         "name": "2",
         "offsetgroup": "2",
         "orientation": "v",
         "showlegend": true,
         "type": "histogram",
         "x": [
          4.03376655402756,
          4.32889301162367,
          1.8311204646978827,
          2.7570191705968057,
          3.406424190431035,
          1.0348587771456286,
          0.6006974644343179,
          4.2588205885026085,
          6.0422144753733225,
          -2.423660529996158,
          1.9011481436658917,
          -1.5660021754145372,
          -1.3930545166694301,
          1.271965899546386,
          2.4443171671191815,
          3.2444852548103613,
          -1.6830587097897376,
          -0.6563725375490819,
          4.777096374232929,
          1.8998444904198495,
          5.145350972410169,
          -2.0305371697224404,
          4.3826801751542295,
          2.84214130682178,
          7.3701628423849215,
          3.6652376624128102,
          3.1979905278588543,
          -2.5040050438464436,
          -2.2360503052922422,
          2.675549544481723,
          1.9949320058591995,
          -2.6399926856001525,
          5.537567597468913,
          2.0834640325280716,
          5.844096990450026,
          2.809916302928315,
          0.5360051292784839,
          0.8516753947770547,
          -1.4037354275429763,
          -0.5537779027911771,
          1.298863689732915,
          -0.8360760475614462,
          3.1296458924977184,
          2.1594183080475564,
          -1.3912017315556566,
          5.491325656064129,
          -0.36885160037982656,
          1.2703012453065843,
          6.107710053206928,
          6.957103675858235,
          1.6601040324097471,
          1.7309134935764523,
          0.9704561564451825,
          1.191694048212543,
          6.886678829504628,
          7.23056616715858,
          4.3726031961404495,
          5.363842574079694,
          -0.8682851602536577,
          1.0152044215218694,
          2.843966532502348,
          1.861455347446292,
          2.5085756082530253,
          2.796867799085552,
          2.9956882065636323,
          -0.4686226286973785,
          5.557587688044324,
          0.16341788957004288,
          1.5147482291790404,
          -1.4377933112331323,
          -1.086949155902103,
          2.6918500838257584,
          5.99323382537324,
          0.13835636928661832,
          5.537869330987327,
          -1.0757667734182017,
          5.6239128035050285,
          5.244634029691104,
          3.3777171405199073,
          -2.126101420207516,
          1.1602106249460173,
          3.1944661239742516,
          0.48083318684132414,
          3.794029930031469,
          -3.6076212558811434,
          2.8096594553888243,
          -1.2408615205676066,
          -1.6852927103481683,
          1.237271717428748,
          5.20107033917383,
          1.9112145778695722,
          -2.3967374349016715,
          1.1066641262104393,
          2.1739766187033673,
          -1.4419023118534353,
          2.6750803697845855,
          -0.45534816918245147,
          1.636513872394147,
          0.12260788669371703,
          7.255012642326857
         ],
         "xaxis": "x",
         "yaxis": "y"
        },
        {
         "alignmentgroup": "True",
         "boxpoints": "all",
         "fillcolor": "rgba(255,255,255,0)",
         "hoveron": "points",
         "hovertemplate": "choc=2<br>rating=%{x}<extra></extra>",
         "jitter": 0,
         "legendgroup": "2",
         "line": {
          "color": "rgba(255,255,255,0)"
         },
         "marker": {
          "color": "#2CA02C",
          "symbol": "line-ns-open"
         },
         "name": "2",
         "offsetgroup": "2",
         "showlegend": false,
         "type": "box",
         "x": [
          4.03376655402756,
          4.32889301162367,
          1.8311204646978827,
          2.7570191705968057,
          3.406424190431035,
          1.0348587771456286,
          0.6006974644343179,
          4.2588205885026085,
          6.0422144753733225,
          -2.423660529996158,
          1.9011481436658917,
          -1.5660021754145372,
          -1.3930545166694301,
          1.271965899546386,
          2.4443171671191815,
          3.2444852548103613,
          -1.6830587097897376,
          -0.6563725375490819,
          4.777096374232929,
          1.8998444904198495,
          5.145350972410169,
          -2.0305371697224404,
          4.3826801751542295,
          2.84214130682178,
          7.3701628423849215,
          3.6652376624128102,
          3.1979905278588543,
          -2.5040050438464436,
          -2.2360503052922422,
          2.675549544481723,
          1.9949320058591995,
          -2.6399926856001525,
          5.537567597468913,
          2.0834640325280716,
          5.844096990450026,
          2.809916302928315,
          0.5360051292784839,
          0.8516753947770547,
          -1.4037354275429763,
          -0.5537779027911771,
          1.298863689732915,
          -0.8360760475614462,
          3.1296458924977184,
          2.1594183080475564,
          -1.3912017315556566,
          5.491325656064129,
          -0.36885160037982656,
          1.2703012453065843,
          6.107710053206928,
          6.957103675858235,
          1.6601040324097471,
          1.7309134935764523,
          0.9704561564451825,
          1.191694048212543,
          6.886678829504628,
          7.23056616715858,
          4.3726031961404495,
          5.363842574079694,
          -0.8682851602536577,
          1.0152044215218694,
          2.843966532502348,
          1.861455347446292,
          2.5085756082530253,
          2.796867799085552,
          2.9956882065636323,
          -0.4686226286973785,
          5.557587688044324,
          0.16341788957004288,
          1.5147482291790404,
          -1.4377933112331323,
          -1.086949155902103,
          2.6918500838257584,
          5.99323382537324,
          0.13835636928661832,
          5.537869330987327,
          -1.0757667734182017,
          5.6239128035050285,
          5.244634029691104,
          3.3777171405199073,
          -2.126101420207516,
          1.1602106249460173,
          3.1944661239742516,
          0.48083318684132414,
          3.794029930031469,
          -3.6076212558811434,
          2.8096594553888243,
          -1.2408615205676066,
          -1.6852927103481683,
          1.237271717428748,
          5.20107033917383,
          1.9112145778695722,
          -2.3967374349016715,
          1.1066641262104393,
          2.1739766187033673,
          -1.4419023118534353,
          2.6750803697845855,
          -0.45534816918245147,
          1.636513872394147,
          0.12260788669371703,
          7.255012642326857
         ],
         "xaxis": "x2",
         "yaxis": "y2"
        },
        {
         "alignmentgroup": "True",
         "bingroup": "x",
         "hovertemplate": "choc=3<br>rating=%{x}<br>count=%{y}<extra></extra>",
         "legendgroup": "3",
         "marker": {
          "color": "#D62728",
          "pattern": {
           "shape": ""
          }
         },
         "name": "3",
         "offsetgroup": "3",
         "orientation": "v",
         "showlegend": true,
         "type": "histogram",
         "x": [
          -3.3443255090616617,
          2.052572092608621,
          -4.106357206198764,
          -2.3250974571187557,
          1.3557641401592406,
          5.430158395855065,
          -0.6443376305836884,
          -1.2961679777814745,
          1.1013659689608843,
          -0.3553783887009884,
          -0.6292886001552245,
          -4.600773667567981,
          -0.6553716153217721,
          -3.5553658393657726,
          -4.489858360553617,
          2.1905965918405785,
          0.2044565582547716,
          0.578875655732904,
          -6.6860643685055585,
          7.3505983842337175,
          6.282250165285765,
          -0.766007525357914,
          0.4549553277531837,
          3.775550039257703,
          0.12392050287297185,
          -0.6439129797533263,
          -1.6555478799440466,
          -6.134898515999138,
          -4.041803754540657,
          2.1134746629269623,
          4.618714121491256,
          -3.299696946231623,
          -3.7769468625251816,
          -3.272776837856142,
          -0.9397837640164344,
          -3.6572958658521273,
          -2.697656815716665,
          -3.8655597270127986,
          3.327795338526882,
          -0.04939603745695437,
          -2.8457829366122684,
          2.6255315517272164,
          5.6563519574108545,
          -2.7452605036794866,
          -2.540542558107237,
          -9.153972442549385,
          -6.172245987310962,
          -1.0001548214832003,
          3.0803197219876326,
          5.187267774376213,
          8.958232086860578,
          -5.288453859212899,
          1.9596181000718504,
          -2.478292720651587,
          -8.269027188400214,
          -1.6526377475943173,
          1.5513615700574779,
          -4.521707002918155,
          -1.5781932738251194,
          0.16506084564607804,
          -0.18778370226433183,
          9.152536575424087,
          1.2940513859638274,
          0.8478692019627139,
          -3.276522866938249,
          0.9123563631356684,
          2.219466683614101,
          7.25494355472589,
          0.3487531261363591,
          -3.413048993148646,
          6.942491347682418,
          -6.47794448063795,
          -5.583885932294732,
          -3.628844293245624,
          0.5289710676532511,
          -2.6590024564824413,
          1.3133823019498907,
          0.5135560879965277,
          -1.3747232778307434,
          -2.4593629582269716,
          2.358524664320921,
          -6.869554763244638,
          0.060831178581833956,
          6.376600707771363,
          5.938674028838874,
          0.010007506773546226,
          -1.4904973876082699,
          -1.8777639029526112,
          0.3203749891026628,
          3.362208202954437,
          -2.585000975957781,
          4.196680156908307,
          0.6962130659653936,
          -0.8878940059715776,
          -5.858988482975312,
          -1.0619766255712122,
          -4.731202469204662,
          0.047440846047681506,
          -2.571437086560988,
          1.2281609584291793
         ],
         "xaxis": "x",
         "yaxis": "y"
        },
        {
         "alignmentgroup": "True",
         "boxpoints": "all",
         "fillcolor": "rgba(255,255,255,0)",
         "hoveron": "points",
         "hovertemplate": "choc=3<br>rating=%{x}<extra></extra>",
         "jitter": 0,
         "legendgroup": "3",
         "line": {
          "color": "rgba(255,255,255,0)"
         },
         "marker": {
          "color": "#D62728",
          "symbol": "line-ns-open"
         },
         "name": "3",
         "offsetgroup": "3",
         "showlegend": false,
         "type": "box",
         "x": [
          -3.3443255090616617,
          2.052572092608621,
          -4.106357206198764,
          -2.3250974571187557,
          1.3557641401592406,
          5.430158395855065,
          -0.6443376305836884,
          -1.2961679777814745,
          1.1013659689608843,
          -0.3553783887009884,
          -0.6292886001552245,
          -4.600773667567981,
          -0.6553716153217721,
          -3.5553658393657726,
          -4.489858360553617,
          2.1905965918405785,
          0.2044565582547716,
          0.578875655732904,
          -6.6860643685055585,
          7.3505983842337175,
          6.282250165285765,
          -0.766007525357914,
          0.4549553277531837,
          3.775550039257703,
          0.12392050287297185,
          -0.6439129797533263,
          -1.6555478799440466,
          -6.134898515999138,
          -4.041803754540657,
          2.1134746629269623,
          4.618714121491256,
          -3.299696946231623,
          -3.7769468625251816,
          -3.272776837856142,
          -0.9397837640164344,
          -3.6572958658521273,
          -2.697656815716665,
          -3.8655597270127986,
          3.327795338526882,
          -0.04939603745695437,
          -2.8457829366122684,
          2.6255315517272164,
          5.6563519574108545,
          -2.7452605036794866,
          -2.540542558107237,
          -9.153972442549385,
          -6.172245987310962,
          -1.0001548214832003,
          3.0803197219876326,
          5.187267774376213,
          8.958232086860578,
          -5.288453859212899,
          1.9596181000718504,
          -2.478292720651587,
          -8.269027188400214,
          -1.6526377475943173,
          1.5513615700574779,
          -4.521707002918155,
          -1.5781932738251194,
          0.16506084564607804,
          -0.18778370226433183,
          9.152536575424087,
          1.2940513859638274,
          0.8478692019627139,
          -3.276522866938249,
          0.9123563631356684,
          2.219466683614101,
          7.25494355472589,
          0.3487531261363591,
          -3.413048993148646,
          6.942491347682418,
          -6.47794448063795,
          -5.583885932294732,
          -3.628844293245624,
          0.5289710676532511,
          -2.6590024564824413,
          1.3133823019498907,
          0.5135560879965277,
          -1.3747232778307434,
          -2.4593629582269716,
          2.358524664320921,
          -6.869554763244638,
          0.060831178581833956,
          6.376600707771363,
          5.938674028838874,
          0.010007506773546226,
          -1.4904973876082699,
          -1.8777639029526112,
          0.3203749891026628,
          3.362208202954437,
          -2.585000975957781,
          4.196680156908307,
          0.6962130659653936,
          -0.8878940059715776,
          -5.858988482975312,
          -1.0619766255712122,
          -4.731202469204662,
          0.047440846047681506,
          -2.571437086560988,
          1.2281609584291793
         ],
         "xaxis": "x2",
         "yaxis": "y2"
        },
        {
         "alignmentgroup": "True",
         "bingroup": "x",
         "hovertemplate": "choc=4<br>rating=%{x}<br>count=%{y}<extra></extra>",
         "legendgroup": "4",
         "marker": {
          "color": "#9467BD",
          "pattern": {
           "shape": ""
          }
         },
         "name": "4",
         "offsetgroup": "4",
         "orientation": "v",
         "showlegend": true,
         "type": "histogram",
         "x": [
          -1.6882997625681446,
          0.08272161875774259,
          1.148783763758576,
          1.028521451916402,
          2.1474140800023864,
          -1.3385380907112048,
          1.2895834401260104,
          -0.6087664227431476,
          -0.326168151087749,
          1.70925004396083,
          -1.270405421074431,
          -2.2384207656684145,
          -0.24110547991002174,
          -0.717330110275189,
          1.0246959212506213,
          0.4218320021140206,
          1.1094642375610062,
          -2.8708014187035573,
          2.5875740752746816,
          0.7676446205307201,
          -2.42968101707059,
          0.35114645963911195,
          0.13982457128328268,
          -0.9921253090691186,
          0.9361633702197059,
          1.670333712869559,
          1.6994242248497191,
          0.15519866030293716,
          -0.24601004397068202,
          -0.34182422845827376,
          0.470979697973117,
          0.21078761823903103,
          -1.8811070619956745,
          0.5975924761002785,
          -1.3720214603729433,
          -0.5231216437134971,
          -0.3066927941344669,
          0.8219469521265352,
          -0.5680808687272013,
          1.1185045182192275,
          -1.7449071141262442,
          0.010005475120479002,
          2.6600260811267455,
          -0.21350060113085145,
          -0.3602956090002065,
          -0.5475898346464034,
          1.0047959235897224,
          1.278335948151372,
          -1.0377859832203487,
          0.8874180574984316,
          2.2463729439734994,
          -0.6027693561382268,
          -2.663037858642526,
          -0.9975703262134623,
          -0.18400696541686196,
          0.7606932688860726,
          1.4402784425860564,
          -0.7044267238350361,
          0.4333861583860099,
          -0.9219620161341995,
          -0.8750479754788579,
          0.14422487800696548,
          1.1280527007335526,
          0.2585539630573319,
          0.334755506692753,
          -0.05092317039598948,
          0.133811183742075,
          -1.1861173426124365,
          -2.6323744340962403,
          0.28117450808016553,
          0.9321134428220128,
          -1.3343258653483423,
          -1.4340181390261557,
          -0.4833699045770379,
          0.0843074479030162,
          -1.0819152286807991,
          -0.6352843063227775,
          -0.22135206780215458,
          -1.181075193000678,
          -0.13001871828430175,
          -0.7636955050250391,
          1.2846971175366086,
          -0.8244376893716864,
          0.32948474800553396,
          -1.083820411154689,
          1.4445441659334546,
          -0.3158674083989898,
          0.0872808035838456,
          -2.3005516425040504,
          -1.3094731421978838,
          0.4967625804218747,
          0.4552940388838449,
          -1.5567226417983298,
          -0.9671662207912041,
          -0.7094573620238266,
          0.28297285982980747,
          0.45513350474652825,
          -0.9586615293113071,
          0.2940533863125364,
          0.2686351701443639
         ],
         "xaxis": "x",
         "yaxis": "y"
        },
        {
         "alignmentgroup": "True",
         "boxpoints": "all",
         "fillcolor": "rgba(255,255,255,0)",
         "hoveron": "points",
         "hovertemplate": "choc=4<br>rating=%{x}<extra></extra>",
         "jitter": 0,
         "legendgroup": "4",
         "line": {
          "color": "rgba(255,255,255,0)"
         },
         "marker": {
          "color": "#9467BD",
          "symbol": "line-ns-open"
         },
         "name": "4",
         "offsetgroup": "4",
         "showlegend": false,
         "type": "box",
         "x": [
          -1.6882997625681446,
          0.08272161875774259,
          1.148783763758576,
          1.028521451916402,
          2.1474140800023864,
          -1.3385380907112048,
          1.2895834401260104,
          -0.6087664227431476,
          -0.326168151087749,
          1.70925004396083,
          -1.270405421074431,
          -2.2384207656684145,
          -0.24110547991002174,
          -0.717330110275189,
          1.0246959212506213,
          0.4218320021140206,
          1.1094642375610062,
          -2.8708014187035573,
          2.5875740752746816,
          0.7676446205307201,
          -2.42968101707059,
          0.35114645963911195,
          0.13982457128328268,
          -0.9921253090691186,
          0.9361633702197059,
          1.670333712869559,
          1.6994242248497191,
          0.15519866030293716,
          -0.24601004397068202,
          -0.34182422845827376,
          0.470979697973117,
          0.21078761823903103,
          -1.8811070619956745,
          0.5975924761002785,
          -1.3720214603729433,
          -0.5231216437134971,
          -0.3066927941344669,
          0.8219469521265352,
          -0.5680808687272013,
          1.1185045182192275,
          -1.7449071141262442,
          0.010005475120479002,
          2.6600260811267455,
          -0.21350060113085145,
          -0.3602956090002065,
          -0.5475898346464034,
          1.0047959235897224,
          1.278335948151372,
          -1.0377859832203487,
          0.8874180574984316,
          2.2463729439734994,
          -0.6027693561382268,
          -2.663037858642526,
          -0.9975703262134623,
          -0.18400696541686196,
          0.7606932688860726,
          1.4402784425860564,
          -0.7044267238350361,
          0.4333861583860099,
          -0.9219620161341995,
          -0.8750479754788579,
          0.14422487800696548,
          1.1280527007335526,
          0.2585539630573319,
          0.334755506692753,
          -0.05092317039598948,
          0.133811183742075,
          -1.1861173426124365,
          -2.6323744340962403,
          0.28117450808016553,
          0.9321134428220128,
          -1.3343258653483423,
          -1.4340181390261557,
          -0.4833699045770379,
          0.0843074479030162,
          -1.0819152286807991,
          -0.6352843063227775,
          -0.22135206780215458,
          -1.181075193000678,
          -0.13001871828430175,
          -0.7636955050250391,
          1.2846971175366086,
          -0.8244376893716864,
          0.32948474800553396,
          -1.083820411154689,
          1.4445441659334546,
          -0.3158674083989898,
          0.0872808035838456,
          -2.3005516425040504,
          -1.3094731421978838,
          0.4967625804218747,
          0.4552940388838449,
          -1.5567226417983298,
          -0.9671662207912041,
          -0.7094573620238266,
          0.28297285982980747,
          0.45513350474652825,
          -0.9586615293113071,
          0.2940533863125364,
          0.2686351701443639
         ],
         "xaxis": "x2",
         "yaxis": "y2"
        },
        {
         "alignmentgroup": "True",
         "bingroup": "x",
         "hovertemplate": "choc=5<br>rating=%{x}<br>count=%{y}<extra></extra>",
         "legendgroup": "5",
         "marker": {
          "color": "#8C564B",
          "pattern": {
           "shape": ""
          }
         },
         "name": "5",
         "offsetgroup": "5",
         "orientation": "v",
         "showlegend": true,
         "type": "histogram",
         "x": [
          -0.6371779111857978,
          0.31261925783169076,
          -2.41525924839845,
          -0.4992197148616248,
          -0.9921149151226719,
          -2.4935703270810854,
          1.1195175983354937,
          -2.2211841013365796,
          0.5083936067780229,
          -0.5461134751375135,
          0.8946104940053646,
          -0.9463919371836209,
          0.04460270800125277,
          -1.0823159953002621,
          -2.5007451928523907,
          -0.1603207732161594,
          -0.3425548430107682,
          -2.753712597080509,
          0.8473341414057766,
          -0.8343161307148644,
          1.3866241740861485,
          1.2273415790123279,
          1.3954810948157,
          0.8234091793727475,
          0.28111557290766265,
          0.9392999898313422,
          1.8406645282775207,
          -0.5730340837592958,
          -1.205617576185333,
          -0.009614667535126409,
          1.8912667221346964,
          -0.6094741785275652,
          -1.5029451880776667,
          -1.7071953032660883,
          0.3687548499708627,
          -1.641892640197502,
          -1.6098240228634038,
          -2.353707927960922,
          -0.6689433753480591,
          2.8890316368973177,
          -1.4297067693282846,
          1.7142179373364699,
          -0.6186317694684375,
          -1.2187815328530438,
          0.9655192107164626,
          -2.2730767392131423,
          1.6023873182812007,
          -2.263936794096195,
          2.8189980753185364,
          -1.7610891811924039,
          0.805106674628879,
          -0.14237234708355867,
          -1.3616365940505037,
          -2.843329747390197,
          -2.785759857225264,
          1.9554394336316587,
          -2.872618843414777,
          -3.251857728545278,
          -2.1642166100898943,
          1.6268962470264814,
          -2.0177815155251793,
          -0.356243042586019,
          -0.2648642876062781,
          -2.4568988414877166,
          -0.7316501714535126,
          -2.4476003583943107,
          2.391648203938018,
          -2.409401894360211,
          -0.6443774314363602,
          -1.8289587178555111,
          -1.359073063293655,
          -0.9246282740453782,
          -0.8369847401931187,
          -3.7110679525589045,
          -0.5942230682985064,
          -1.0957593636642424,
          -1.131129108857472,
          -3.676918213234912,
          0.6729497888416845,
          -0.750776757911975,
          -1.734785299746965,
          -2.50940999409321,
          -1.522448313574065,
          -1.9143369124806826,
          -0.45839954772528463,
          -0.6526942376349937,
          -0.7631031998982626,
          -0.9356660492410309,
          0.9870787218240477,
          1.5136879689359795,
          -1.3502896476813002,
          0.6881249997790514,
          -1.0205120713422104,
          -0.5505349939768555,
          0.09938489148290264,
          -1.7293376934113232,
          -2.19710496345577,
          -0.3781456308106335,
          -1.2432115215857138,
          0.8163621465139509
         ],
         "xaxis": "x",
         "yaxis": "y"
        },
        {
         "alignmentgroup": "True",
         "boxpoints": "all",
         "fillcolor": "rgba(255,255,255,0)",
         "hoveron": "points",
         "hovertemplate": "choc=5<br>rating=%{x}<extra></extra>",
         "jitter": 0,
         "legendgroup": "5",
         "line": {
          "color": "rgba(255,255,255,0)"
         },
         "marker": {
          "color": "#8C564B",
          "symbol": "line-ns-open"
         },
         "name": "5",
         "offsetgroup": "5",
         "showlegend": false,
         "type": "box",
         "x": [
          -0.6371779111857978,
          0.31261925783169076,
          -2.41525924839845,
          -0.4992197148616248,
          -0.9921149151226719,
          -2.4935703270810854,
          1.1195175983354937,
          -2.2211841013365796,
          0.5083936067780229,
          -0.5461134751375135,
          0.8946104940053646,
          -0.9463919371836209,
          0.04460270800125277,
          -1.0823159953002621,
          -2.5007451928523907,
          -0.1603207732161594,
          -0.3425548430107682,
          -2.753712597080509,
          0.8473341414057766,
          -0.8343161307148644,
          1.3866241740861485,
          1.2273415790123279,
          1.3954810948157,
          0.8234091793727475,
          0.28111557290766265,
          0.9392999898313422,
          1.8406645282775207,
          -0.5730340837592958,
          -1.205617576185333,
          -0.009614667535126409,
          1.8912667221346964,
          -0.6094741785275652,
          -1.5029451880776667,
          -1.7071953032660883,
          0.3687548499708627,
          -1.641892640197502,
          -1.6098240228634038,
          -2.353707927960922,
          -0.6689433753480591,
          2.8890316368973177,
          -1.4297067693282846,
          1.7142179373364699,
          -0.6186317694684375,
          -1.2187815328530438,
          0.9655192107164626,
          -2.2730767392131423,
          1.6023873182812007,
          -2.263936794096195,
          2.8189980753185364,
          -1.7610891811924039,
          0.805106674628879,
          -0.14237234708355867,
          -1.3616365940505037,
          -2.843329747390197,
          -2.785759857225264,
          1.9554394336316587,
          -2.872618843414777,
          -3.251857728545278,
          -2.1642166100898943,
          1.6268962470264814,
          -2.0177815155251793,
          -0.356243042586019,
          -0.2648642876062781,
          -2.4568988414877166,
          -0.7316501714535126,
          -2.4476003583943107,
          2.391648203938018,
          -2.409401894360211,
          -0.6443774314363602,
          -1.8289587178555111,
          -1.359073063293655,
          -0.9246282740453782,
          -0.8369847401931187,
          -3.7110679525589045,
          -0.5942230682985064,
          -1.0957593636642424,
          -1.131129108857472,
          -3.676918213234912,
          0.6729497888416845,
          -0.750776757911975,
          -1.734785299746965,
          -2.50940999409321,
          -1.522448313574065,
          -1.9143369124806826,
          -0.45839954772528463,
          -0.6526942376349937,
          -0.7631031998982626,
          -0.9356660492410309,
          0.9870787218240477,
          1.5136879689359795,
          -1.3502896476813002,
          0.6881249997790514,
          -1.0205120713422104,
          -0.5505349939768555,
          0.09938489148290264,
          -1.7293376934113232,
          -2.19710496345577,
          -0.3781456308106335,
          -1.2432115215857138,
          0.8163621465139509
         ],
         "xaxis": "x2",
         "yaxis": "y2"
        },
        {
         "alignmentgroup": "True",
         "bingroup": "x",
         "hovertemplate": "choc=6<br>rating=%{x}<br>count=%{y}<extra></extra>",
         "legendgroup": "6",
         "marker": {
          "color": "#E377C2",
          "pattern": {
           "shape": ""
          }
         },
         "name": "6",
         "offsetgroup": "6",
         "orientation": "v",
         "showlegend": true,
         "type": "histogram",
         "x": [
          4.675296167605468,
          7.235666699140969,
          -11.333301610418928,
          4.065157108047964,
          5.203316100992693,
          3.125366115020297,
          -8.72642017604564,
          1.0934270623688125,
          -3.296541282656275,
          -4.544382352510484,
          -3.5777790726935095,
          -4.539975727595657,
          6.0708409471005895,
          4.425561615121025,
          2.9566875821085334,
          -1.4502662231094936,
          -1.4371592476897077,
          -1.0026120010802664,
          -8.690436742919822,
          -7.163633828199121,
          -4.966650444383069,
          -6.573913751434958,
          -6.71889840563483,
          -4.269203460585373,
          4.492555852633497,
          2.4725822935156887,
          -2.0614577184686187,
          -6.3224100347878815,
          -1.799885424006631,
          2.1840423530703412,
          -4.561002309931274,
          3.1470196317228734,
          -9.066265060045659,
          3.227882692831774,
          -3.7995578884794607,
          -1.4654341150446286,
          -2.155953923119056,
          4.099630448715408,
          6.471315438596246,
          -3.3389904425664527,
          7.314091022103106,
          -8.960604623286162,
          -0.3309498644981634,
          9.817214561987226,
          -4.101590865311005,
          -2.323939519853344,
          -6.849222151473382,
          -1.3164792766510849,
          5.093070751492082,
          1.8132488960973072,
          -4.374070566748368,
          -0.10697197157887539,
          -1.3557166787386774,
          1.0547172821743254,
          -2.218845177444643,
          3.7262616360054928,
          1.1283931787395503,
          4.950789945254984,
          -1.6229648680720299,
          -4.713059674650265,
          1.1987900023045566,
          -10.063580787678614,
          2.4841600161156694,
          4.67430487385449,
          -0.025777656862906118,
          -1.5977057004178365,
          0.40660152324106447,
          0.974283095716509,
          -7.099311637816415,
          -1.5475169951478756,
          -4.8780330158794545,
          0.9343397452305218,
          -0.9797194457970566,
          0.8175017887617118,
          -2.9954660824553603,
          -8.36172801585342,
          -6.894248302311903,
          -2.2243654240805064,
          -0.1883321464311153,
          -7.489922046505456,
          -1.4781661379577187,
          -4.437355403880841,
          -1.6749089847631282,
          -6.699454771341519,
          -4.710914630021891,
          -1.9843439710431088,
          4.608275922839584,
          2.1884631092775124,
          -7.586146279948076,
          3.805387689584287,
          0.27925342150672705,
          0.9587127641292748,
          1.2326643536608741,
          -8.034518449541942,
          4.695062813899457,
          -8.059634130775745,
          -4.219980309496413,
          0.09028750584803036,
          -5.893342381516786,
          -12.727835204466638
         ],
         "xaxis": "x",
         "yaxis": "y"
        },
        {
         "alignmentgroup": "True",
         "boxpoints": "all",
         "fillcolor": "rgba(255,255,255,0)",
         "hoveron": "points",
         "hovertemplate": "choc=6<br>rating=%{x}<extra></extra>",
         "jitter": 0,
         "legendgroup": "6",
         "line": {
          "color": "rgba(255,255,255,0)"
         },
         "marker": {
          "color": "#E377C2",
          "symbol": "line-ns-open"
         },
         "name": "6",
         "offsetgroup": "6",
         "showlegend": false,
         "type": "box",
         "x": [
          4.675296167605468,
          7.235666699140969,
          -11.333301610418928,
          4.065157108047964,
          5.203316100992693,
          3.125366115020297,
          -8.72642017604564,
          1.0934270623688125,
          -3.296541282656275,
          -4.544382352510484,
          -3.5777790726935095,
          -4.539975727595657,
          6.0708409471005895,
          4.425561615121025,
          2.9566875821085334,
          -1.4502662231094936,
          -1.4371592476897077,
          -1.0026120010802664,
          -8.690436742919822,
          -7.163633828199121,
          -4.966650444383069,
          -6.573913751434958,
          -6.71889840563483,
          -4.269203460585373,
          4.492555852633497,
          2.4725822935156887,
          -2.0614577184686187,
          -6.3224100347878815,
          -1.799885424006631,
          2.1840423530703412,
          -4.561002309931274,
          3.1470196317228734,
          -9.066265060045659,
          3.227882692831774,
          -3.7995578884794607,
          -1.4654341150446286,
          -2.155953923119056,
          4.099630448715408,
          6.471315438596246,
          -3.3389904425664527,
          7.314091022103106,
          -8.960604623286162,
          -0.3309498644981634,
          9.817214561987226,
          -4.101590865311005,
          -2.323939519853344,
          -6.849222151473382,
          -1.3164792766510849,
          5.093070751492082,
          1.8132488960973072,
          -4.374070566748368,
          -0.10697197157887539,
          -1.3557166787386774,
          1.0547172821743254,
          -2.218845177444643,
          3.7262616360054928,
          1.1283931787395503,
          4.950789945254984,
          -1.6229648680720299,
          -4.713059674650265,
          1.1987900023045566,
          -10.063580787678614,
          2.4841600161156694,
          4.67430487385449,
          -0.025777656862906118,
          -1.5977057004178365,
          0.40660152324106447,
          0.974283095716509,
          -7.099311637816415,
          -1.5475169951478756,
          -4.8780330158794545,
          0.9343397452305218,
          -0.9797194457970566,
          0.8175017887617118,
          -2.9954660824553603,
          -8.36172801585342,
          -6.894248302311903,
          -2.2243654240805064,
          -0.1883321464311153,
          -7.489922046505456,
          -1.4781661379577187,
          -4.437355403880841,
          -1.6749089847631282,
          -6.699454771341519,
          -4.710914630021891,
          -1.9843439710431088,
          4.608275922839584,
          2.1884631092775124,
          -7.586146279948076,
          3.805387689584287,
          0.27925342150672705,
          0.9587127641292748,
          1.2326643536608741,
          -8.034518449541942,
          4.695062813899457,
          -8.059634130775745,
          -4.219980309496413,
          0.09028750584803036,
          -5.893342381516786,
          -12.727835204466638
         ],
         "xaxis": "x2",
         "yaxis": "y2"
        },
        {
         "alignmentgroup": "True",
         "bingroup": "x",
         "hovertemplate": "choc=7<br>rating=%{x}<br>count=%{y}<extra></extra>",
         "legendgroup": "7",
         "marker": {
          "color": "#7F7F7F",
          "pattern": {
           "shape": ""
          }
         },
         "name": "7",
         "offsetgroup": "7",
         "orientation": "v",
         "showlegend": true,
         "type": "histogram",
         "x": [
          -0.34645498750660053,
          1.876951718277351,
          1.6968158513032303,
          -1.68665992474457,
          3.146169598003773,
          1.1628874204514736,
          1.9703900468328797,
          0.5242023996525382,
          5.77006616938983,
          2.8305361862761806,
          1.424425188897067,
          0.3371029341691145,
          -0.18170678884082392,
          1.2345770652099977,
          2.174471806571029,
          3.6493164733604466,
          3.2626111412339487,
          3.220993842924241,
          -0.7168898793363416,
          1.150511343918633,
          -1.8893866402386172,
          3.2437547732287064,
          1.403719050028907,
          4.218093959213424,
          2.8134631571419675,
          3.2698989082901835,
          4.650393260108852,
          3.5102460750646243,
          2.774182425150489,
          5.055470568463132,
          0.8756514793006756,
          6.030395486910431,
          0.4879706519371907,
          0.6046692471317259,
          2.7102015756361872,
          4.12567519861717,
          3.661315079975659,
          4.176027202641473,
          2.432449175178771,
          3.3856246306589197,
          2.373485942728566,
          4.249160431033825,
          4.752572363255595,
          -2.2423413748887886,
          -0.5669918183685012,
          3.578282950331565,
          0.8016230091341441,
          3.6135536954581258,
          2.031624921881058,
          4.529119635957329,
          2.9289536990344285,
          3.074822397055664,
          3.363341203043245,
          4.57729698814042,
          -1.041883769863173,
          1.8060702325111735,
          3.686288423762077,
          3.655499912109783,
          0.7001942166763322,
          2.5910851452842247,
          1.5015194051596947,
          2.1166694679771663,
          3.3346907438375606,
          2.8850557054436416,
          4.114736779142193,
          -2.4325317553967083,
          5.710694045825767,
          2.0480515707219156,
          3.6135370870962866,
          1.2603823908612886,
          1.697821595070176,
          1.1465029287496007,
          4.609136254979581,
          3.621414704127467,
          5.449561855765229,
          2.833252550953745,
          6.037160098085124,
          1.4021591094879429,
          1.0023307688438952,
          -5.151770247712852,
          1.6380580067682784,
          1.094939587032243,
          2.027917427568364,
          0.36657652629898174,
          1.7273266536800556,
          0.9851745684165716,
          1.1256437332234073,
          3.2014835040682517,
          3.2325106952215124,
          3.468438411213236,
          2.3992399700879976,
          2.1428692000194145,
          2.0660065167925703,
          -1.4007397619353026,
          2.7116541088062713,
          1.0700985351731367,
          2.2565622243944587,
          -1.144144203060267,
          2.924512460891903,
          1.0184686140106725
         ],
         "xaxis": "x",
         "yaxis": "y"
        },
        {
         "alignmentgroup": "True",
         "boxpoints": "all",
         "fillcolor": "rgba(255,255,255,0)",
         "hoveron": "points",
         "hovertemplate": "choc=7<br>rating=%{x}<extra></extra>",
         "jitter": 0,
         "legendgroup": "7",
         "line": {
          "color": "rgba(255,255,255,0)"
         },
         "marker": {
          "color": "#7F7F7F",
          "symbol": "line-ns-open"
         },
         "name": "7",
         "offsetgroup": "7",
         "showlegend": false,
         "type": "box",
         "x": [
          -0.34645498750660053,
          1.876951718277351,
          1.6968158513032303,
          -1.68665992474457,
          3.146169598003773,
          1.1628874204514736,
          1.9703900468328797,
          0.5242023996525382,
          5.77006616938983,
          2.8305361862761806,
          1.424425188897067,
          0.3371029341691145,
          -0.18170678884082392,
          1.2345770652099977,
          2.174471806571029,
          3.6493164733604466,
          3.2626111412339487,
          3.220993842924241,
          -0.7168898793363416,
          1.150511343918633,
          -1.8893866402386172,
          3.2437547732287064,
          1.403719050028907,
          4.218093959213424,
          2.8134631571419675,
          3.2698989082901835,
          4.650393260108852,
          3.5102460750646243,
          2.774182425150489,
          5.055470568463132,
          0.8756514793006756,
          6.030395486910431,
          0.4879706519371907,
          0.6046692471317259,
          2.7102015756361872,
          4.12567519861717,
          3.661315079975659,
          4.176027202641473,
          2.432449175178771,
          3.3856246306589197,
          2.373485942728566,
          4.249160431033825,
          4.752572363255595,
          -2.2423413748887886,
          -0.5669918183685012,
          3.578282950331565,
          0.8016230091341441,
          3.6135536954581258,
          2.031624921881058,
          4.529119635957329,
          2.9289536990344285,
          3.074822397055664,
          3.363341203043245,
          4.57729698814042,
          -1.041883769863173,
          1.8060702325111735,
          3.686288423762077,
          3.655499912109783,
          0.7001942166763322,
          2.5910851452842247,
          1.5015194051596947,
          2.1166694679771663,
          3.3346907438375606,
          2.8850557054436416,
          4.114736779142193,
          -2.4325317553967083,
          5.710694045825767,
          2.0480515707219156,
          3.6135370870962866,
          1.2603823908612886,
          1.697821595070176,
          1.1465029287496007,
          4.609136254979581,
          3.621414704127467,
          5.449561855765229,
          2.833252550953745,
          6.037160098085124,
          1.4021591094879429,
          1.0023307688438952,
          -5.151770247712852,
          1.6380580067682784,
          1.094939587032243,
          2.027917427568364,
          0.36657652629898174,
          1.7273266536800556,
          0.9851745684165716,
          1.1256437332234073,
          3.2014835040682517,
          3.2325106952215124,
          3.468438411213236,
          2.3992399700879976,
          2.1428692000194145,
          2.0660065167925703,
          -1.4007397619353026,
          2.7116541088062713,
          1.0700985351731367,
          2.2565622243944587,
          -1.144144203060267,
          2.924512460891903,
          1.0184686140106725
         ],
         "xaxis": "x2",
         "yaxis": "y2"
        },
        {
         "alignmentgroup": "True",
         "bingroup": "x",
         "hovertemplate": "choc=8<br>rating=%{x}<br>count=%{y}<extra></extra>",
         "legendgroup": "8",
         "marker": {
          "color": "#BCBD22",
          "pattern": {
           "shape": ""
          }
         },
         "name": "8",
         "offsetgroup": "8",
         "orientation": "v",
         "showlegend": true,
         "type": "histogram",
         "x": [
          -1.6182225710816043,
          1.4037938947505162,
          2.4018988373356236,
          -0.9814976163205567,
          2.755859223876228,
          -0.3488777003029746,
          3.279906332852888,
          -5.391387045772148,
          4.481450629417074,
          1.3367062167813337,
          5.564931556916411,
          0.6557467838746824,
          0.18655756634123494,
          3.1400288100648446,
          1.7050550327862821,
          -1.8234340827545814,
          -4.824680381527036,
          -1.3113188349735359,
          2.074730323591644,
          -1.127732162656802,
          -2.8074093938536464,
          0.29300309209813813,
          2.3043063201842964,
          5.653185694047753,
          -2.1493074842559396,
          2.273585971401998,
          1.5087597380685533,
          1.7428924112315767,
          -5.457409858490675,
          0.5749630884536505,
          5.380669573844804,
          0.7785228154494445,
          0.6852467234588623,
          -0.0010937616934355576,
          -1.583653670464835,
          -0.21504993005283846,
          0.22001182656881424,
          -1.6178732448900257,
          4.563630243758757,
          -3.6540987384509354,
          -4.069647266856224,
          1.5337660738756056,
          1.3217884323320983,
          -0.8891446826263427,
          -4.131967130366033,
          1.9420086528597509,
          -0.7525717794114022,
          -1.8651098335320702,
          -1.3004137315802722,
          5.079516941273144,
          -1.4573803655954551,
          1.1592232056977751,
          0.04189631231104174,
          2.6331819899891027,
          4.669877860845287,
          -1.994400838189226,
          -0.33706345861982456,
          2.665981095116493,
          -2.0356254139161205,
          -2.8474840319772277,
          -1.1062049866515733,
          3.0504962258545865,
          1.63336043683943,
          2.368334594310104,
          7.789635382164221,
          -1.4109898460594879,
          5.5020015918018315,
          6.246061705952729,
          1.8958203155991176,
          2.1021189742540245,
          -2.070614344441065,
          0.5360506965267673,
          0.36883012913650853,
          -0.2873930812244999,
          5.293221903194817,
          -4.210591351062893,
          1.219778701516899,
          3.3679901522798312,
          1.7876166966749625,
          0.5491034991500615,
          -5.63946006053891,
          2.6629822465494977,
          0.4718097426997689,
          3.6430516070422616,
          3.028691302567246,
          1.0916987334437316,
          -3.24205525677816,
          -1.430121823423218,
          0.46287992062704897,
          6.755346029160604,
          -0.6636713696912031,
          2.763651888295162,
          3.387349918652725,
          -3.857291840840059,
          0.9347004642158676,
          -4.8527511474316585,
          -3.5030059553493667,
          1.550653113059548,
          0.8527223043756145,
          2.206351386225614
         ],
         "xaxis": "x",
         "yaxis": "y"
        },
        {
         "alignmentgroup": "True",
         "boxpoints": "all",
         "fillcolor": "rgba(255,255,255,0)",
         "hoveron": "points",
         "hovertemplate": "choc=8<br>rating=%{x}<extra></extra>",
         "jitter": 0,
         "legendgroup": "8",
         "line": {
          "color": "rgba(255,255,255,0)"
         },
         "marker": {
          "color": "#BCBD22",
          "symbol": "line-ns-open"
         },
         "name": "8",
         "offsetgroup": "8",
         "showlegend": false,
         "type": "box",
         "x": [
          -1.6182225710816043,
          1.4037938947505162,
          2.4018988373356236,
          -0.9814976163205567,
          2.755859223876228,
          -0.3488777003029746,
          3.279906332852888,
          -5.391387045772148,
          4.481450629417074,
          1.3367062167813337,
          5.564931556916411,
          0.6557467838746824,
          0.18655756634123494,
          3.1400288100648446,
          1.7050550327862821,
          -1.8234340827545814,
          -4.824680381527036,
          -1.3113188349735359,
          2.074730323591644,
          -1.127732162656802,
          -2.8074093938536464,
          0.29300309209813813,
          2.3043063201842964,
          5.653185694047753,
          -2.1493074842559396,
          2.273585971401998,
          1.5087597380685533,
          1.7428924112315767,
          -5.457409858490675,
          0.5749630884536505,
          5.380669573844804,
          0.7785228154494445,
          0.6852467234588623,
          -0.0010937616934355576,
          -1.583653670464835,
          -0.21504993005283846,
          0.22001182656881424,
          -1.6178732448900257,
          4.563630243758757,
          -3.6540987384509354,
          -4.069647266856224,
          1.5337660738756056,
          1.3217884323320983,
          -0.8891446826263427,
          -4.131967130366033,
          1.9420086528597509,
          -0.7525717794114022,
          -1.8651098335320702,
          -1.3004137315802722,
          5.079516941273144,
          -1.4573803655954551,
          1.1592232056977751,
          0.04189631231104174,
          2.6331819899891027,
          4.669877860845287,
          -1.994400838189226,
          -0.33706345861982456,
          2.665981095116493,
          -2.0356254139161205,
          -2.8474840319772277,
          -1.1062049866515733,
          3.0504962258545865,
          1.63336043683943,
          2.368334594310104,
          7.789635382164221,
          -1.4109898460594879,
          5.5020015918018315,
          6.246061705952729,
          1.8958203155991176,
          2.1021189742540245,
          -2.070614344441065,
          0.5360506965267673,
          0.36883012913650853,
          -0.2873930812244999,
          5.293221903194817,
          -4.210591351062893,
          1.219778701516899,
          3.3679901522798312,
          1.7876166966749625,
          0.5491034991500615,
          -5.63946006053891,
          2.6629822465494977,
          0.4718097426997689,
          3.6430516070422616,
          3.028691302567246,
          1.0916987334437316,
          -3.24205525677816,
          -1.430121823423218,
          0.46287992062704897,
          6.755346029160604,
          -0.6636713696912031,
          2.763651888295162,
          3.387349918652725,
          -3.857291840840059,
          0.9347004642158676,
          -4.8527511474316585,
          -3.5030059553493667,
          1.550653113059548,
          0.8527223043756145,
          2.206351386225614
         ],
         "xaxis": "x2",
         "yaxis": "y2"
        },
        {
         "alignmentgroup": "True",
         "bingroup": "x",
         "hovertemplate": "choc=9<br>rating=%{x}<br>count=%{y}<extra></extra>",
         "legendgroup": "9",
         "marker": {
          "color": "#17BECF",
          "pattern": {
           "shape": ""
          }
         },
         "name": "9",
         "offsetgroup": "9",
         "orientation": "v",
         "showlegend": true,
         "type": "histogram",
         "x": [
          -3.215651684184275,
          -1.5650542427856462,
          -1.3487124661696854,
          -1.4776755116269373,
          -1.322273645357457,
          -0.9642550639717216,
          -2.4405514338473786,
          -1.0237282947607795,
          0.4919449952698416,
          -1.7949127401065195,
          0.3120426058684318,
          1.8104026311779065,
          -1.978493646291386,
          -0.41799294580658675,
          -0.6849740465238456,
          -1.2237526010516673,
          -0.8640347478737976,
          -0.30188373658184553,
          0.49016500664868734,
          -2.132437586711367,
          -1.8185658204701391,
          -2.605376846922643,
          -2.0318060666638447,
          -0.3163735924029938,
          -1.4886445418367356,
          1.1377727267913664,
          -1.0521230109290995,
          -0.4944687437848255,
          -0.07946209952022243,
          -1.1811300935836737,
          -0.23993931818349912,
          -0.3224760763959703,
          -1.2555578806753247,
          0.0014851493509950853,
          -4.319184799992135,
          -0.704325413144522,
          -0.8881917702714247,
          -0.9437538202713297,
          -0.7507229107103681,
          -1.826342596089391,
          -2.1716785485320353,
          1.1673184338158251,
          0.5962471135709637,
          -0.37831657455532675,
          -1.199407802764906,
          -0.1594349071495873,
          0.2036911977053273,
          -0.5496635596889996,
          -1.9042782046620053,
          1.5232248156736097,
          -0.8385536984445126,
          -1.521661996695058,
          0.13568020320825402,
          -0.5177060081061373,
          -2.6222955329252313,
          -1.4660213602795942,
          -1.8382707064785826,
          -1.1560020976090362,
          -1.534077977247355,
          0.1729721334203278,
          -1.4616810549052424,
          -0.7046139082184373,
          -1.5297417963497502,
          -3.2797248775189463,
          -2.4899805769349546,
          0.9754639342326759,
          1.0840484042716947,
          0.3563747889233322,
          -0.2275806502646024,
          -1.7006351955128876,
          -1.916549207021172,
          -2.332587869778128,
          -0.9523259272576313,
          0.5314217198014286,
          0.4622861520790207,
          -0.5327851281921819,
          -0.14396804408919606,
          -1.194497991758248,
          -3.118513635845202,
          -1.818640842169047,
          -1.789456537251103,
          -2.6145288689347916,
          -2.020309639636435,
          -4.257660543505258,
          0.06076692569041775,
          -2.547841460246901,
          -1.5767173242486814,
          -0.5586693921097541,
          -1.5914939151935963,
          -0.7122026089620603,
          -0.8396691954587885,
          -0.3030059591732692,
          -2.4426142194631444,
          -1.207385397554988,
          -1.6136972006833314,
          -1.2576566378338123,
          -1.8757263435052844,
          -2.3115505571316284,
          -0.6998748551255913,
          -1.4025325353675566
         ],
         "xaxis": "x",
         "yaxis": "y"
        },
        {
         "alignmentgroup": "True",
         "boxpoints": "all",
         "fillcolor": "rgba(255,255,255,0)",
         "hoveron": "points",
         "hovertemplate": "choc=9<br>rating=%{x}<extra></extra>",
         "jitter": 0,
         "legendgroup": "9",
         "line": {
          "color": "rgba(255,255,255,0)"
         },
         "marker": {
          "color": "#17BECF",
          "symbol": "line-ns-open"
         },
         "name": "9",
         "offsetgroup": "9",
         "showlegend": false,
         "type": "box",
         "x": [
          -3.215651684184275,
          -1.5650542427856462,
          -1.3487124661696854,
          -1.4776755116269373,
          -1.322273645357457,
          -0.9642550639717216,
          -2.4405514338473786,
          -1.0237282947607795,
          0.4919449952698416,
          -1.7949127401065195,
          0.3120426058684318,
          1.8104026311779065,
          -1.978493646291386,
          -0.41799294580658675,
          -0.6849740465238456,
          -1.2237526010516673,
          -0.8640347478737976,
          -0.30188373658184553,
          0.49016500664868734,
          -2.132437586711367,
          -1.8185658204701391,
          -2.605376846922643,
          -2.0318060666638447,
          -0.3163735924029938,
          -1.4886445418367356,
          1.1377727267913664,
          -1.0521230109290995,
          -0.4944687437848255,
          -0.07946209952022243,
          -1.1811300935836737,
          -0.23993931818349912,
          -0.3224760763959703,
          -1.2555578806753247,
          0.0014851493509950853,
          -4.319184799992135,
          -0.704325413144522,
          -0.8881917702714247,
          -0.9437538202713297,
          -0.7507229107103681,
          -1.826342596089391,
          -2.1716785485320353,
          1.1673184338158251,
          0.5962471135709637,
          -0.37831657455532675,
          -1.199407802764906,
          -0.1594349071495873,
          0.2036911977053273,
          -0.5496635596889996,
          -1.9042782046620053,
          1.5232248156736097,
          -0.8385536984445126,
          -1.521661996695058,
          0.13568020320825402,
          -0.5177060081061373,
          -2.6222955329252313,
          -1.4660213602795942,
          -1.8382707064785826,
          -1.1560020976090362,
          -1.534077977247355,
          0.1729721334203278,
          -1.4616810549052424,
          -0.7046139082184373,
          -1.5297417963497502,
          -3.2797248775189463,
          -2.4899805769349546,
          0.9754639342326759,
          1.0840484042716947,
          0.3563747889233322,
          -0.2275806502646024,
          -1.7006351955128876,
          -1.916549207021172,
          -2.332587869778128,
          -0.9523259272576313,
          0.5314217198014286,
          0.4622861520790207,
          -0.5327851281921819,
          -0.14396804408919606,
          -1.194497991758248,
          -3.118513635845202,
          -1.818640842169047,
          -1.789456537251103,
          -2.6145288689347916,
          -2.020309639636435,
          -4.257660543505258,
          0.06076692569041775,
          -2.547841460246901,
          -1.5767173242486814,
          -0.5586693921097541,
          -1.5914939151935963,
          -0.7122026089620603,
          -0.8396691954587885,
          -0.3030059591732692,
          -2.4426142194631444,
          -1.207385397554988,
          -1.6136972006833314,
          -1.2576566378338123,
          -1.8757263435052844,
          -2.3115505571316284,
          -0.6998748551255913,
          -1.4025325353675566
         ],
         "xaxis": "x2",
         "yaxis": "y2"
        },
        {
         "alignmentgroup": "True",
         "bingroup": "x",
         "hovertemplate": "choc=10<br>rating=%{x}<br>count=%{y}<extra></extra>",
         "legendgroup": "10",
         "marker": {
          "color": "#1F77B4",
          "pattern": {
           "shape": ""
          }
         },
         "name": "10",
         "offsetgroup": "10",
         "orientation": "v",
         "showlegend": true,
         "type": "histogram",
         "x": [
          4.6748753628630375,
          3.041325335450947,
          -2.5273879274210906,
          1.5744955456978613,
          4.977821556572974,
          -0.3497333500538102,
          0.7476595893646705,
          0.35607806807007153,
          0.30343221892457983,
          2.693265971682901,
          -1.371025966247282,
          0.3674054534128881,
          -0.27587288713043584,
          -0.19039554952084065,
          -5.819841475727939,
          -5.153874748965519,
          2.7144900883305465,
          -3.327882470031282,
          -2.7665863354509783,
          0.6769370760457898,
          -1.8289435616072376,
          -0.6860611929653888,
          -3.8787778526745673,
          0.7093152146723134,
          2.601566587875571,
          1.3088678586975366,
          -2.048139592255155,
          -0.28382091134652004,
          -2.822990852195064,
          3.582285945664285,
          1.0870485167078814,
          -3.2256287141662954,
          -2.829572797752175,
          2.782276379353617,
          4.143598336238427,
          -0.23501188026571646,
          2.380792884244331,
          -1.635244981319582,
          -0.5939970204954745,
          5.134988594405715,
          -0.9961486423950039,
          -4.262521096383411,
          -0.5710814530851829,
          -1.1322255886916563,
          2.002568707112182,
          4.9354806746602184,
          7.3494643417593535,
          -0.6790366818130045,
          0.5237256881602621,
          3.7311567807327184,
          1.7737481377213813,
          1.7529178662884946,
          3.9840419718625637,
          2.7791836852813314,
          1.980425817245041,
          -4.133992159551751,
          -7.0319498051816325,
          0.15923069098044557,
          1.3342570187960907,
          -0.1288720663306207,
          1.1988091450632907,
          0.3520665215868824,
          0.1842879495897141,
          3.678321586027563,
          3.630121519940871,
          1.081971659169476,
          -6.43373883414421,
          -3.504500502086613,
          1.1777872592285097,
          -1.009977375157981,
          3.8136991551937225,
          -1.21117754610158,
          -3.328143399378159,
          -0.20986281260573553,
          4.308230370596638,
          1.1627148083661496,
          1.2692133708645699,
          1.3085999808147095,
          0.30569068256785964,
          0.5134398465859907,
          2.5839598573936864,
          -0.8459827614821436,
          2.1846409893070633,
          2.0903081049697807,
          -4.497712985882505,
          2.9326320317800976,
          -0.10380744024067562,
          1.1941561786211334,
          -0.04291283235515331,
          -2.5696047373272743,
          -2.0326612845224328,
          2.402228151757769,
          -2.4163418730681734,
          1.0491370149141996,
          -3.0582905018451223,
          -1.6263349651167351,
          2.2707034198070377,
          2.61846216006496,
          6.009506589394952,
          1.5715408486083289
         ],
         "xaxis": "x",
         "yaxis": "y"
        },
        {
         "alignmentgroup": "True",
         "boxpoints": "all",
         "fillcolor": "rgba(255,255,255,0)",
         "hoveron": "points",
         "hovertemplate": "choc=10<br>rating=%{x}<extra></extra>",
         "jitter": 0,
         "legendgroup": "10",
         "line": {
          "color": "rgba(255,255,255,0)"
         },
         "marker": {
          "color": "#1F77B4",
          "symbol": "line-ns-open"
         },
         "name": "10",
         "offsetgroup": "10",
         "showlegend": false,
         "type": "box",
         "x": [
          4.6748753628630375,
          3.041325335450947,
          -2.5273879274210906,
          1.5744955456978613,
          4.977821556572974,
          -0.3497333500538102,
          0.7476595893646705,
          0.35607806807007153,
          0.30343221892457983,
          2.693265971682901,
          -1.371025966247282,
          0.3674054534128881,
          -0.27587288713043584,
          -0.19039554952084065,
          -5.819841475727939,
          -5.153874748965519,
          2.7144900883305465,
          -3.327882470031282,
          -2.7665863354509783,
          0.6769370760457898,
          -1.8289435616072376,
          -0.6860611929653888,
          -3.8787778526745673,
          0.7093152146723134,
          2.601566587875571,
          1.3088678586975366,
          -2.048139592255155,
          -0.28382091134652004,
          -2.822990852195064,
          3.582285945664285,
          1.0870485167078814,
          -3.2256287141662954,
          -2.829572797752175,
          2.782276379353617,
          4.143598336238427,
          -0.23501188026571646,
          2.380792884244331,
          -1.635244981319582,
          -0.5939970204954745,
          5.134988594405715,
          -0.9961486423950039,
          -4.262521096383411,
          -0.5710814530851829,
          -1.1322255886916563,
          2.002568707112182,
          4.9354806746602184,
          7.3494643417593535,
          -0.6790366818130045,
          0.5237256881602621,
          3.7311567807327184,
          1.7737481377213813,
          1.7529178662884946,
          3.9840419718625637,
          2.7791836852813314,
          1.980425817245041,
          -4.133992159551751,
          -7.0319498051816325,
          0.15923069098044557,
          1.3342570187960907,
          -0.1288720663306207,
          1.1988091450632907,
          0.3520665215868824,
          0.1842879495897141,
          3.678321586027563,
          3.630121519940871,
          1.081971659169476,
          -6.43373883414421,
          -3.504500502086613,
          1.1777872592285097,
          -1.009977375157981,
          3.8136991551937225,
          -1.21117754610158,
          -3.328143399378159,
          -0.20986281260573553,
          4.308230370596638,
          1.1627148083661496,
          1.2692133708645699,
          1.3085999808147095,
          0.30569068256785964,
          0.5134398465859907,
          2.5839598573936864,
          -0.8459827614821436,
          2.1846409893070633,
          2.0903081049697807,
          -4.497712985882505,
          2.9326320317800976,
          -0.10380744024067562,
          1.1941561786211334,
          -0.04291283235515331,
          -2.5696047373272743,
          -2.0326612845224328,
          2.402228151757769,
          -2.4163418730681734,
          1.0491370149141996,
          -3.0582905018451223,
          -1.6263349651167351,
          2.2707034198070377,
          2.61846216006496,
          6.009506589394952,
          1.5715408486083289
         ],
         "xaxis": "x2",
         "yaxis": "y2"
        },
        {
         "alignmentgroup": "True",
         "bingroup": "x",
         "hovertemplate": "choc=11<br>rating=%{x}<br>count=%{y}<extra></extra>",
         "legendgroup": "11",
         "marker": {
          "color": "#FF7F0E",
          "pattern": {
           "shape": ""
          }
         },
         "name": "11",
         "offsetgroup": "11",
         "orientation": "v",
         "showlegend": true,
         "type": "histogram",
         "x": [
          0.47510606596238136,
          1.256234278557034,
          -0.07325449736021114,
          -1.8625622235678911,
          -0.00883172794619641,
          -1.3432163697684216,
          0.6992974304871429,
          -2.1657227670769843,
          -0.1866777929037223,
          -0.605858572742794,
          1.7381717449659047,
          1.1686150723826132,
          -0.38783852263548135,
          -0.20691225985482745,
          0.775775262605885,
          -1.9997791246852923,
          3.0144893812725555,
          -0.9850070305931983,
          0.7047765908397585,
          0.8326743348619478,
          0.6461087626543892,
          0.2962623482974432,
          0.0025300729675183653,
          0.6810654758162966,
          0.8998744962565642,
          0.2765952886301233,
          0.8099105157417438,
          -1.4669032171795713,
          2.948237543957931,
          0.46015552119175307,
          -1.216496188917378,
          0.09375841964378276,
          -0.03214392445655137,
          0.479388888671466,
          -0.1667486116616594,
          -1.2162833869639922,
          0.9934541474496417,
          0.024495195807221315,
          0.43953636114473094,
          -0.4311711193290546,
          1.1117359364240054,
          0.2876641983847935,
          -0.637238230128212,
          1.577150087087502,
          -0.2982634126993431,
          -0.34194060194243936,
          -0.7624566103606216,
          0.5053858271519251,
          -0.10568459884571368,
          0.8996873068992095,
          0.9947887127076104,
          0.5851070744512885,
          -0.2596444750309608,
          2.15973292476452,
          -0.19671816329050976,
          -0.12711231655196145,
          -0.250317367862791,
          -0.7362873635345824,
          -1.8567299976846448,
          -0.11098087043499744,
          -0.9502255741103914,
          0.291788803419804,
          -0.4220308234805712,
          -0.8127516777902298,
          -0.8092895857107764,
          0.5143041709541526,
          -0.10392517880630583,
          0.790236043005128,
          0.3889216585377494,
          -0.06507781510242572,
          2.086311656151398,
          0.07894372773167045,
          0.5674786278371431,
          0.10270480084801786,
          0.03571438908924256,
          -1.2915359463570149,
          -0.0034055729836900694,
          0.1304214727930033,
          0.4736672018770822,
          1.0700035229473739,
          -0.6608093829608676,
          0.046935614027311195,
          0.621152638377618,
          0.7485610130995823,
          -0.10202428401078065,
          -1.3111103914172866,
          1.6192528589158839,
          0.6207605420295413,
          1.306205240019467,
          -0.2449764686771906,
          -1.1675582557843776,
          -2.141811254849403,
          2.083552412352302,
          0.0939475753606901,
          -0.35506102431713127,
          1.0843942502627852,
          0.8415084328372265,
          0.3462611666338651,
          -0.09193359131194476,
          0.5261793721456882
         ],
         "xaxis": "x",
         "yaxis": "y"
        },
        {
         "alignmentgroup": "True",
         "boxpoints": "all",
         "fillcolor": "rgba(255,255,255,0)",
         "hoveron": "points",
         "hovertemplate": "choc=11<br>rating=%{x}<extra></extra>",
         "jitter": 0,
         "legendgroup": "11",
         "line": {
          "color": "rgba(255,255,255,0)"
         },
         "marker": {
          "color": "#FF7F0E",
          "symbol": "line-ns-open"
         },
         "name": "11",
         "offsetgroup": "11",
         "showlegend": false,
         "type": "box",
         "x": [
          0.47510606596238136,
          1.256234278557034,
          -0.07325449736021114,
          -1.8625622235678911,
          -0.00883172794619641,
          -1.3432163697684216,
          0.6992974304871429,
          -2.1657227670769843,
          -0.1866777929037223,
          -0.605858572742794,
          1.7381717449659047,
          1.1686150723826132,
          -0.38783852263548135,
          -0.20691225985482745,
          0.775775262605885,
          -1.9997791246852923,
          3.0144893812725555,
          -0.9850070305931983,
          0.7047765908397585,
          0.8326743348619478,
          0.6461087626543892,
          0.2962623482974432,
          0.0025300729675183653,
          0.6810654758162966,
          0.8998744962565642,
          0.2765952886301233,
          0.8099105157417438,
          -1.4669032171795713,
          2.948237543957931,
          0.46015552119175307,
          -1.216496188917378,
          0.09375841964378276,
          -0.03214392445655137,
          0.479388888671466,
          -0.1667486116616594,
          -1.2162833869639922,
          0.9934541474496417,
          0.024495195807221315,
          0.43953636114473094,
          -0.4311711193290546,
          1.1117359364240054,
          0.2876641983847935,
          -0.637238230128212,
          1.577150087087502,
          -0.2982634126993431,
          -0.34194060194243936,
          -0.7624566103606216,
          0.5053858271519251,
          -0.10568459884571368,
          0.8996873068992095,
          0.9947887127076104,
          0.5851070744512885,
          -0.2596444750309608,
          2.15973292476452,
          -0.19671816329050976,
          -0.12711231655196145,
          -0.250317367862791,
          -0.7362873635345824,
          -1.8567299976846448,
          -0.11098087043499744,
          -0.9502255741103914,
          0.291788803419804,
          -0.4220308234805712,
          -0.8127516777902298,
          -0.8092895857107764,
          0.5143041709541526,
          -0.10392517880630583,
          0.790236043005128,
          0.3889216585377494,
          -0.06507781510242572,
          2.086311656151398,
          0.07894372773167045,
          0.5674786278371431,
          0.10270480084801786,
          0.03571438908924256,
          -1.2915359463570149,
          -0.0034055729836900694,
          0.1304214727930033,
          0.4736672018770822,
          1.0700035229473739,
          -0.6608093829608676,
          0.046935614027311195,
          0.621152638377618,
          0.7485610130995823,
          -0.10202428401078065,
          -1.3111103914172866,
          1.6192528589158839,
          0.6207605420295413,
          1.306205240019467,
          -0.2449764686771906,
          -1.1675582557843776,
          -2.141811254849403,
          2.083552412352302,
          0.0939475753606901,
          -0.35506102431713127,
          1.0843942502627852,
          0.8415084328372265,
          0.3462611666338651,
          -0.09193359131194476,
          0.5261793721456882
         ],
         "xaxis": "x2",
         "yaxis": "y2"
        },
        {
         "alignmentgroup": "True",
         "bingroup": "x",
         "hovertemplate": "choc=12<br>rating=%{x}<br>count=%{y}<extra></extra>",
         "legendgroup": "12",
         "marker": {
          "color": "#2CA02C",
          "pattern": {
           "shape": ""
          }
         },
         "name": "12",
         "offsetgroup": "12",
         "orientation": "v",
         "showlegend": true,
         "type": "histogram",
         "x": [
          -1.512223437382539,
          -3.7456458958444445,
          -0.9789693173266418,
          2.7210999871180803,
          5.818758395368528,
          -0.42359894234785034,
          2.660791629467898,
          -1.3669208103973267,
          -3.4128913748324754,
          0.4213325811458412,
          -3.965661603044232,
          0.30834237611691373,
          0.9067136702549228,
          1.5281998401462058,
          1.7060707297987778,
          -3.1442486807621153,
          1.999829185656701,
          0.5028068918701385,
          -3.5836663218411173,
          0.5613713366584818,
          -1.9076923562240105,
          1.1706213585257927,
          -1.7887712925968955,
          1.5019362279050705,
          0.2417538586508171,
          -0.10065380825485137,
          3.267395505564979,
          5.265848847549925,
          -0.12762218658830082,
          3.3233141035688867,
          1.6112831522720539,
          -0.5061148770685315,
          -2.403430240707144,
          2.952166611298387,
          0.39038374881271964,
          6.076487513840439,
          5.404565137170519,
          -1.4482833054855744,
          -0.7425634436427233,
          -0.021606223863374407,
          5.65058391951034,
          3.505478765727098,
          5.491664452066663,
          2.12708037616237,
          1.7933453251822025,
          1.3769762602737368,
          0.9984094642247512,
          0.5562022462644466,
          -1.827918803792312,
          -0.8438630877833777,
          1.3092622773186067,
          -0.5887934887296769,
          -1.3011120368765667,
          -1.3664377161812726,
          7.071493160235308,
          -1.9246697098991572,
          -0.9289675044578933,
          2.945874016935302,
          0.3643716693999094,
          0.3781707069115091,
          1.5425955158969868,
          -0.6523124447008544,
          3.956291902554848,
          0.5914384166520941,
          0.3007870990204007,
          2.7674470049262494,
          5.727207947001207,
          0.6099494652143044,
          0.5863223209697364,
          4.277522385722411,
          -0.9324610671058291,
          -4.191606580425197,
          -1.874418388359152,
          -0.36911584596113034,
          -1.59883144974461,
          5.753827796156944,
          -6.677858667139337,
          1.5473420037138088,
          3.9602011257990997,
          -4.467370826074981,
          -2.3832177791324254,
          2.5066054413831766,
          0.5796024105158062,
          1.71723524509471,
          -0.03613431608081874,
          1.6733063705649829,
          0.7344077182316773,
          3.511979064126513,
          -1.0938752297002605,
          5.563954846219872,
          0.9450748991170593,
          4.32007524237094,
          -2.047950251901182,
          1.7130641925052847,
          -3.1533349953837515,
          -1.1298501473030558,
          2.3123705673356696,
          0.5857477068938793,
          1.1129755972112865,
          1.4519438763133765
         ],
         "xaxis": "x",
         "yaxis": "y"
        },
        {
         "alignmentgroup": "True",
         "boxpoints": "all",
         "fillcolor": "rgba(255,255,255,0)",
         "hoveron": "points",
         "hovertemplate": "choc=12<br>rating=%{x}<extra></extra>",
         "jitter": 0,
         "legendgroup": "12",
         "line": {
          "color": "rgba(255,255,255,0)"
         },
         "marker": {
          "color": "#2CA02C",
          "symbol": "line-ns-open"
         },
         "name": "12",
         "offsetgroup": "12",
         "showlegend": false,
         "type": "box",
         "x": [
          -1.512223437382539,
          -3.7456458958444445,
          -0.9789693173266418,
          2.7210999871180803,
          5.818758395368528,
          -0.42359894234785034,
          2.660791629467898,
          -1.3669208103973267,
          -3.4128913748324754,
          0.4213325811458412,
          -3.965661603044232,
          0.30834237611691373,
          0.9067136702549228,
          1.5281998401462058,
          1.7060707297987778,
          -3.1442486807621153,
          1.999829185656701,
          0.5028068918701385,
          -3.5836663218411173,
          0.5613713366584818,
          -1.9076923562240105,
          1.1706213585257927,
          -1.7887712925968955,
          1.5019362279050705,
          0.2417538586508171,
          -0.10065380825485137,
          3.267395505564979,
          5.265848847549925,
          -0.12762218658830082,
          3.3233141035688867,
          1.6112831522720539,
          -0.5061148770685315,
          -2.403430240707144,
          2.952166611298387,
          0.39038374881271964,
          6.076487513840439,
          5.404565137170519,
          -1.4482833054855744,
          -0.7425634436427233,
          -0.021606223863374407,
          5.65058391951034,
          3.505478765727098,
          5.491664452066663,
          2.12708037616237,
          1.7933453251822025,
          1.3769762602737368,
          0.9984094642247512,
          0.5562022462644466,
          -1.827918803792312,
          -0.8438630877833777,
          1.3092622773186067,
          -0.5887934887296769,
          -1.3011120368765667,
          -1.3664377161812726,
          7.071493160235308,
          -1.9246697098991572,
          -0.9289675044578933,
          2.945874016935302,
          0.3643716693999094,
          0.3781707069115091,
          1.5425955158969868,
          -0.6523124447008544,
          3.956291902554848,
          0.5914384166520941,
          0.3007870990204007,
          2.7674470049262494,
          5.727207947001207,
          0.6099494652143044,
          0.5863223209697364,
          4.277522385722411,
          -0.9324610671058291,
          -4.191606580425197,
          -1.874418388359152,
          -0.36911584596113034,
          -1.59883144974461,
          5.753827796156944,
          -6.677858667139337,
          1.5473420037138088,
          3.9602011257990997,
          -4.467370826074981,
          -2.3832177791324254,
          2.5066054413831766,
          0.5796024105158062,
          1.71723524509471,
          -0.03613431608081874,
          1.6733063705649829,
          0.7344077182316773,
          3.511979064126513,
          -1.0938752297002605,
          5.563954846219872,
          0.9450748991170593,
          4.32007524237094,
          -2.047950251901182,
          1.7130641925052847,
          -3.1533349953837515,
          -1.1298501473030558,
          2.3123705673356696,
          0.5857477068938793,
          1.1129755972112865,
          1.4519438763133765
         ],
         "xaxis": "x2",
         "yaxis": "y2"
        },
        {
         "alignmentgroup": "True",
         "bingroup": "x",
         "hovertemplate": "choc=13<br>rating=%{x}<br>count=%{y}<extra></extra>",
         "legendgroup": "13",
         "marker": {
          "color": "#D62728",
          "pattern": {
           "shape": ""
          }
         },
         "name": "13",
         "offsetgroup": "13",
         "orientation": "v",
         "showlegend": true,
         "type": "histogram",
         "x": [
          -0.17553069016760103,
          -2.6594326530238086,
          -3.4800770772905327,
          -1.6916432402048913,
          -4.010967820100199,
          -1.276239545882593,
          -1.3590366523426696,
          -0.11971618096386472,
          -2.5611275500980115,
          -3.399225945809307,
          -0.6676963996676334,
          1.6573820197551712,
          -2.199593390663925,
          -1.1547020586023173,
          -1.3710941622813733,
          -0.27805189465085256,
          0.28964363063164766,
          -1.1785979966611453,
          -1.0705556276981285,
          -0.304537799641206,
          -2.581351093925024,
          1.1658107768591222,
          -1.2383113236040688,
          -1.3600256431765627,
          0.011970991774729711,
          -3.380641324887357,
          -0.7667050099108618,
          -2.3755532624868767,
          -1.604761471647267,
          -1.0374968251370449,
          -2.013987292173501,
          -4.260788217535163,
          0.819711053900601,
          -2.7158661598075446,
          -0.5877198262930724,
          -0.8924660199417053,
          -1.1547992548124113,
          0.6544224435717239,
          1.2083597330611011,
          -1.213251319266139,
          -0.699348583095079,
          -5.023312427500442,
          -2.2640754670515353,
          -0.044002657323002126,
          -1.3914167176340058,
          -1.0399424532570707,
          -1.2532738165749158,
          0.18536783490593356,
          -2.057668398771036,
          -0.7954835440402049,
          -3.367004762030498,
          -2.4410246123982624,
          -1.247782822654451,
          -0.9019185197005377,
          -2.763724435253442,
          -1.3085729995032653,
          -2.2598035546765334,
          -2.7226074333595003,
          -2.8621320494321907,
          -1.460529520293828,
          -1.3736023195637852,
          -0.42757044229727215,
          0.12658570763021326,
          -0.23796695560102799,
          -1.5667556800680384,
          -1.0014307240127023,
          -0.9912643277854407,
          -2.9170650392636106,
          0.07649309141607907,
          -1.2752422001112578,
          -2.1093058403963107,
          0.5174373109073895,
          -0.4373424024236692,
          -0.08768006612783519,
          -1.0705222518468571,
          -2.359241838798516,
          -2.1955275528072304,
          -2.9930952260794212,
          1.3067639446546113,
          -0.8307183985200847,
          -0.2329853570832361,
          -0.7210196861209346,
          -2.170238979959086,
          -1.1060567919080053,
          -2.3728087005394363,
          1.2176735780615295,
          -1.3087624758379666,
          -2.7641139207160728,
          -2.628068192224135,
          -0.6228571862238313,
          -2.3174595632479806,
          -0.1544081567446136,
          -2.214064199005011,
          -2.183663517984136,
          -0.9553691601828073,
          -3.210227944385306,
          -2.2381994935237057,
          -0.4433896678463789,
          -1.0353963122246186,
          -2.7079875105928433
         ],
         "xaxis": "x",
         "yaxis": "y"
        },
        {
         "alignmentgroup": "True",
         "boxpoints": "all",
         "fillcolor": "rgba(255,255,255,0)",
         "hoveron": "points",
         "hovertemplate": "choc=13<br>rating=%{x}<extra></extra>",
         "jitter": 0,
         "legendgroup": "13",
         "line": {
          "color": "rgba(255,255,255,0)"
         },
         "marker": {
          "color": "#D62728",
          "symbol": "line-ns-open"
         },
         "name": "13",
         "offsetgroup": "13",
         "showlegend": false,
         "type": "box",
         "x": [
          -0.17553069016760103,
          -2.6594326530238086,
          -3.4800770772905327,
          -1.6916432402048913,
          -4.010967820100199,
          -1.276239545882593,
          -1.3590366523426696,
          -0.11971618096386472,
          -2.5611275500980115,
          -3.399225945809307,
          -0.6676963996676334,
          1.6573820197551712,
          -2.199593390663925,
          -1.1547020586023173,
          -1.3710941622813733,
          -0.27805189465085256,
          0.28964363063164766,
          -1.1785979966611453,
          -1.0705556276981285,
          -0.304537799641206,
          -2.581351093925024,
          1.1658107768591222,
          -1.2383113236040688,
          -1.3600256431765627,
          0.011970991774729711,
          -3.380641324887357,
          -0.7667050099108618,
          -2.3755532624868767,
          -1.604761471647267,
          -1.0374968251370449,
          -2.013987292173501,
          -4.260788217535163,
          0.819711053900601,
          -2.7158661598075446,
          -0.5877198262930724,
          -0.8924660199417053,
          -1.1547992548124113,
          0.6544224435717239,
          1.2083597330611011,
          -1.213251319266139,
          -0.699348583095079,
          -5.023312427500442,
          -2.2640754670515353,
          -0.044002657323002126,
          -1.3914167176340058,
          -1.0399424532570707,
          -1.2532738165749158,
          0.18536783490593356,
          -2.057668398771036,
          -0.7954835440402049,
          -3.367004762030498,
          -2.4410246123982624,
          -1.247782822654451,
          -0.9019185197005377,
          -2.763724435253442,
          -1.3085729995032653,
          -2.2598035546765334,
          -2.7226074333595003,
          -2.8621320494321907,
          -1.460529520293828,
          -1.3736023195637852,
          -0.42757044229727215,
          0.12658570763021326,
          -0.23796695560102799,
          -1.5667556800680384,
          -1.0014307240127023,
          -0.9912643277854407,
          -2.9170650392636106,
          0.07649309141607907,
          -1.2752422001112578,
          -2.1093058403963107,
          0.5174373109073895,
          -0.4373424024236692,
          -0.08768006612783519,
          -1.0705222518468571,
          -2.359241838798516,
          -2.1955275528072304,
          -2.9930952260794212,
          1.3067639446546113,
          -0.8307183985200847,
          -0.2329853570832361,
          -0.7210196861209346,
          -2.170238979959086,
          -1.1060567919080053,
          -2.3728087005394363,
          1.2176735780615295,
          -1.3087624758379666,
          -2.7641139207160728,
          -2.628068192224135,
          -0.6228571862238313,
          -2.3174595632479806,
          -0.1544081567446136,
          -2.214064199005011,
          -2.183663517984136,
          -0.9553691601828073,
          -3.210227944385306,
          -2.2381994935237057,
          -0.4433896678463789,
          -1.0353963122246186,
          -2.7079875105928433
         ],
         "xaxis": "x2",
         "yaxis": "y2"
        },
        {
         "alignmentgroup": "True",
         "bingroup": "x",
         "hovertemplate": "choc=14<br>rating=%{x}<br>count=%{y}<extra></extra>",
         "legendgroup": "14",
         "marker": {
          "color": "#9467BD",
          "pattern": {
           "shape": ""
          }
         },
         "name": "14",
         "offsetgroup": "14",
         "orientation": "v",
         "showlegend": true,
         "type": "histogram",
         "x": [
          -1.2417211997597328,
          -1.556754608180528,
          -1.7305756911195391,
          -2.4624182409984963,
          -2.1414810890145612,
          -0.9467150898169252,
          -1.7230225385035256,
          -0.8668203771209905,
          -2.6971164533752,
          -3.26599822307562,
          -2.013473019822925,
          -0.7248939631162972,
          -3.0394465651550786,
          -0.7481804933547339,
          1.498016824236326,
          -1.370962435867584,
          -2.1070096281859776,
          0.7021658389424084,
          -0.6919351533969654,
          -1.8558989950648497,
          -0.1535189081582704,
          -1.7146307878501714,
          -2.219351033957883,
          -1.8272680563458807,
          -0.8388186088032621,
          -3.8604057107008,
          -0.4096721602595166,
          -4.022639405682675,
          -0.7335217734823926,
          -5.4740380797182215,
          -0.824262478577052,
          -2.7657641035420966,
          -0.5797813873038026,
          -0.2872765062110292,
          -0.8022227740317713,
          -1.9189513931417876,
          0.6588960538661941,
          -1.9206270761591953,
          -0.6091989422067141,
          -1.5534258558237863,
          -2.473759576795362,
          -1.5484483635877198,
          -3.7341961821344043,
          -1.3934104289217804,
          -2.6104302403476622,
          -2.073661450139358,
          -3.946161195572843,
          -0.6705568790401991,
          -0.3927343049869263,
          -1.2956238106893008,
          -2.544609396348717,
          -4.102158882086061,
          0.8263561060369198,
          -2.7379019088458874,
          -2.1316971868241623,
          -3.3812925498312785,
          -1.5894119517689211,
          -1.6468081476156697,
          -1.7791777596611293,
          -0.6313911869818633,
          -1.7559939026597575,
          -2.6354141054121927,
          -2.0199183983981346,
          -3.0599283465009313,
          -1.3037780307523812,
          -1.0955704040755219,
          -4.18134208200291,
          -2.4994341682852634,
          -3.0830139035444084,
          -2.155663233572059,
          0.7548244281301528,
          -0.9844056076099662,
          0.1279577005976047,
          -0.42173461093048326,
          -0.7090362561873327,
          -1.6726861170755476,
          1.234294608188422,
          -1.307462484889393,
          1.96616354602845,
          -0.6079542137629784,
          -1.705577135417571,
          -0.9130075290569121,
          -2.19490569144187,
          -1.513374927861783,
          0.08341074384392688,
          0.7218311836034719,
          -2.1853760522111187,
          -0.47866702598768684,
          -0.38806621220594195,
          3.052039664214118,
          -0.5816806417853512,
          -0.0778841469628011,
          -2.0215160837175983,
          -3.026653384758049,
          -2.0155651687381804,
          -1.0856668579711628,
          -0.16619579642824478,
          -0.13276859026624588,
          -1.7497873156871129,
          -1.396451663733057
         ],
         "xaxis": "x",
         "yaxis": "y"
        },
        {
         "alignmentgroup": "True",
         "boxpoints": "all",
         "fillcolor": "rgba(255,255,255,0)",
         "hoveron": "points",
         "hovertemplate": "choc=14<br>rating=%{x}<extra></extra>",
         "jitter": 0,
         "legendgroup": "14",
         "line": {
          "color": "rgba(255,255,255,0)"
         },
         "marker": {
          "color": "#9467BD",
          "symbol": "line-ns-open"
         },
         "name": "14",
         "offsetgroup": "14",
         "showlegend": false,
         "type": "box",
         "x": [
          -1.2417211997597328,
          -1.556754608180528,
          -1.7305756911195391,
          -2.4624182409984963,
          -2.1414810890145612,
          -0.9467150898169252,
          -1.7230225385035256,
          -0.8668203771209905,
          -2.6971164533752,
          -3.26599822307562,
          -2.013473019822925,
          -0.7248939631162972,
          -3.0394465651550786,
          -0.7481804933547339,
          1.498016824236326,
          -1.370962435867584,
          -2.1070096281859776,
          0.7021658389424084,
          -0.6919351533969654,
          -1.8558989950648497,
          -0.1535189081582704,
          -1.7146307878501714,
          -2.219351033957883,
          -1.8272680563458807,
          -0.8388186088032621,
          -3.8604057107008,
          -0.4096721602595166,
          -4.022639405682675,
          -0.7335217734823926,
          -5.4740380797182215,
          -0.824262478577052,
          -2.7657641035420966,
          -0.5797813873038026,
          -0.2872765062110292,
          -0.8022227740317713,
          -1.9189513931417876,
          0.6588960538661941,
          -1.9206270761591953,
          -0.6091989422067141,
          -1.5534258558237863,
          -2.473759576795362,
          -1.5484483635877198,
          -3.7341961821344043,
          -1.3934104289217804,
          -2.6104302403476622,
          -2.073661450139358,
          -3.946161195572843,
          -0.6705568790401991,
          -0.3927343049869263,
          -1.2956238106893008,
          -2.544609396348717,
          -4.102158882086061,
          0.8263561060369198,
          -2.7379019088458874,
          -2.1316971868241623,
          -3.3812925498312785,
          -1.5894119517689211,
          -1.6468081476156697,
          -1.7791777596611293,
          -0.6313911869818633,
          -1.7559939026597575,
          -2.6354141054121927,
          -2.0199183983981346,
          -3.0599283465009313,
          -1.3037780307523812,
          -1.0955704040755219,
          -4.18134208200291,
          -2.4994341682852634,
          -3.0830139035444084,
          -2.155663233572059,
          0.7548244281301528,
          -0.9844056076099662,
          0.1279577005976047,
          -0.42173461093048326,
          -0.7090362561873327,
          -1.6726861170755476,
          1.234294608188422,
          -1.307462484889393,
          1.96616354602845,
          -0.6079542137629784,
          -1.705577135417571,
          -0.9130075290569121,
          -2.19490569144187,
          -1.513374927861783,
          0.08341074384392688,
          0.7218311836034719,
          -2.1853760522111187,
          -0.47866702598768684,
          -0.38806621220594195,
          3.052039664214118,
          -0.5816806417853512,
          -0.0778841469628011,
          -2.0215160837175983,
          -3.026653384758049,
          -2.0155651687381804,
          -1.0856668579711628,
          -0.16619579642824478,
          -0.13276859026624588,
          -1.7497873156871129,
          -1.396451663733057
         ],
         "xaxis": "x2",
         "yaxis": "y2"
        },
        {
         "alignmentgroup": "True",
         "bingroup": "x",
         "hovertemplate": "choc=15<br>rating=%{x}<br>count=%{y}<extra></extra>",
         "legendgroup": "15",
         "marker": {
          "color": "#8C564B",
          "pattern": {
           "shape": ""
          }
         },
         "name": "15",
         "offsetgroup": "15",
         "orientation": "v",
         "showlegend": true,
         "type": "histogram",
         "x": [
          -2.0404123263264817,
          0.40873066594379304,
          -2.0154665689641242,
          0.9503455584623988,
          -2.0367500237035703,
          -4.142379532307113,
          -1.6796532839239258,
          -0.22331836263246752,
          -4.027214760139931,
          -1.4716767821137764,
          -0.8802688497523282,
          -1.7910674358230203,
          0.31295020531547024,
          -3.065772729477217,
          -1.266595600177771,
          1.1844842392090766,
          -4.1906824898943125,
          -0.38775677482491844,
          -1.069213917474125,
          -1.3430503880906437,
          -4.256788993566472,
          -1.5368303725999979,
          -3.1925577359321897,
          -0.3612414635454204,
          -1.177295031545539,
          -1.3997621549699515,
          -1.0058385713981466,
          -3.5459124445158077,
          -3.4551461395926477,
          -0.2088021473795909,
          0.8658045987999767,
          -1.9190227387880288,
          0.10207906922122345,
          -0.3766824291686135,
          -1.9742399740768928,
          1.0022572832088887,
          -1.178333822297584,
          -2.44512317660222,
          -3.4774920125503446,
          -1.8887692906353772,
          -0.2900222502343215,
          -1.443127453100483,
          -1.4481781404203065,
          -1.9302988353712023,
          -0.3239674839205213,
          0.5684477795166611,
          -0.9618465553161284,
          0.4299962038556082,
          -1.433757975023186,
          -1.2964822665396418,
          -4.134518766342267,
          -2.5737252664803183,
          -1.8775514796708355,
          -4.828138635471298,
          -3.4700829996866136,
          -1.0962661711282378,
          -0.005502982814244106,
          -0.09418654634965917,
          -1.248288118355882,
          -2.2235130483573524,
          -3.032614742323314,
          -0.17493761915194028,
          -1.1520639948089353,
          0.5360838077336798,
          0.49931069200533584,
          -3.819293831821823,
          -1.5736120711288157,
          -5.227057823559622,
          -4.985630065621344,
          -1.5248279640649107,
          -5.1815913457894425,
          0.36369711569464314,
          0.16931987409562033,
          0.3661575910646604,
          -3.9776935714491684,
          -3.0738793211852835,
          -0.6214772991066224,
          -2.1567296112150665,
          -0.7842444911333885,
          -3.861206817516349,
          -1.4261697112581928,
          0.4716756505631443,
          -2.374546250682477,
          -2.604705865948381,
          -1.335595440736935,
          -1.1571232569416792,
          -0.6664291617712932,
          -2.6126444677957514,
          -3.225281776184014,
          -1.1411800565093981,
          -0.43406864876895535,
          -3.0205839304349764,
          -0.5250267349652269,
          2.809425683952692,
          -2.2574801907398543,
          -0.34452012338643456,
          -4.920748560936677,
          -0.11970837223884656,
          -4.080456754177655,
          -1.2853697048794577
         ],
         "xaxis": "x",
         "yaxis": "y"
        },
        {
         "alignmentgroup": "True",
         "boxpoints": "all",
         "fillcolor": "rgba(255,255,255,0)",
         "hoveron": "points",
         "hovertemplate": "choc=15<br>rating=%{x}<extra></extra>",
         "jitter": 0,
         "legendgroup": "15",
         "line": {
          "color": "rgba(255,255,255,0)"
         },
         "marker": {
          "color": "#8C564B",
          "symbol": "line-ns-open"
         },
         "name": "15",
         "offsetgroup": "15",
         "showlegend": false,
         "type": "box",
         "x": [
          -2.0404123263264817,
          0.40873066594379304,
          -2.0154665689641242,
          0.9503455584623988,
          -2.0367500237035703,
          -4.142379532307113,
          -1.6796532839239258,
          -0.22331836263246752,
          -4.027214760139931,
          -1.4716767821137764,
          -0.8802688497523282,
          -1.7910674358230203,
          0.31295020531547024,
          -3.065772729477217,
          -1.266595600177771,
          1.1844842392090766,
          -4.1906824898943125,
          -0.38775677482491844,
          -1.069213917474125,
          -1.3430503880906437,
          -4.256788993566472,
          -1.5368303725999979,
          -3.1925577359321897,
          -0.3612414635454204,
          -1.177295031545539,
          -1.3997621549699515,
          -1.0058385713981466,
          -3.5459124445158077,
          -3.4551461395926477,
          -0.2088021473795909,
          0.8658045987999767,
          -1.9190227387880288,
          0.10207906922122345,
          -0.3766824291686135,
          -1.9742399740768928,
          1.0022572832088887,
          -1.178333822297584,
          -2.44512317660222,
          -3.4774920125503446,
          -1.8887692906353772,
          -0.2900222502343215,
          -1.443127453100483,
          -1.4481781404203065,
          -1.9302988353712023,
          -0.3239674839205213,
          0.5684477795166611,
          -0.9618465553161284,
          0.4299962038556082,
          -1.433757975023186,
          -1.2964822665396418,
          -4.134518766342267,
          -2.5737252664803183,
          -1.8775514796708355,
          -4.828138635471298,
          -3.4700829996866136,
          -1.0962661711282378,
          -0.005502982814244106,
          -0.09418654634965917,
          -1.248288118355882,
          -2.2235130483573524,
          -3.032614742323314,
          -0.17493761915194028,
          -1.1520639948089353,
          0.5360838077336798,
          0.49931069200533584,
          -3.819293831821823,
          -1.5736120711288157,
          -5.227057823559622,
          -4.985630065621344,
          -1.5248279640649107,
          -5.1815913457894425,
          0.36369711569464314,
          0.16931987409562033,
          0.3661575910646604,
          -3.9776935714491684,
          -3.0738793211852835,
          -0.6214772991066224,
          -2.1567296112150665,
          -0.7842444911333885,
          -3.861206817516349,
          -1.4261697112581928,
          0.4716756505631443,
          -2.374546250682477,
          -2.604705865948381,
          -1.335595440736935,
          -1.1571232569416792,
          -0.6664291617712932,
          -2.6126444677957514,
          -3.225281776184014,
          -1.1411800565093981,
          -0.43406864876895535,
          -3.0205839304349764,
          -0.5250267349652269,
          2.809425683952692,
          -2.2574801907398543,
          -0.34452012338643456,
          -4.920748560936677,
          -0.11970837223884656,
          -4.080456754177655,
          -1.2853697048794577
         ],
         "xaxis": "x2",
         "yaxis": "y2"
        },
        {
         "alignmentgroup": "True",
         "bingroup": "x",
         "hovertemplate": "choc=16<br>rating=%{x}<br>count=%{y}<extra></extra>",
         "legendgroup": "16",
         "marker": {
          "color": "#E377C2",
          "pattern": {
           "shape": ""
          }
         },
         "name": "16",
         "offsetgroup": "16",
         "orientation": "v",
         "showlegend": true,
         "type": "histogram",
         "x": [
          1.8312865849976947,
          0.31357037202264937,
          4.4925268325632945,
          5.972154226025972,
          5.767990033347034,
          -0.5512920390410913,
          -5.254815692584472,
          -4.905578071880506,
          -5.564842074257527,
          -1.1809190756010097,
          1.792139402249465,
          0.3383513820465308,
          4.290945815214999,
          2.743291466514034,
          -3.210987140352304,
          -4.636552758205731,
          13.352105412799007,
          0.5728277882473428,
          -7.3607629141750825,
          7.901720242096209,
          -1.1646506459789252,
          -2.5279911738431315,
          0.16894821246340383,
          4.471192529055578,
          -2.1572747493226534,
          -2.852228443352735,
          -0.7992560388603736,
          4.180815595266459,
          -4.403806662300565,
          -4.92714884720718,
          -0.7164802604803767,
          7.229429066409014,
          5.405688786413196,
          7.158200046842084,
          -5.445774733794032,
          -3.3098186831273493,
          -0.606782052168952,
          3.232692922608077,
          -8.906828411541918,
          -1.179701325383095,
          5.489417440466138,
          -1.9143157223979428,
          2.3310292933402383,
          0.34590805179628736,
          5.3569064662055235,
          -6.378239500366715,
          2.9214057450662962,
          -2.1151522612624096,
          -2.1514407664043054,
          -1.7997104623286517,
          -3.4980302331986106,
          -2.2131388567198162,
          -3.879489613419236,
          1.358870842730232,
          -3.517887702626088,
          0.2482292676088095,
          -9.823745692890416,
          2.027956057311232,
          0.02142692987612116,
          -2.748600049469803,
          -5.822418597835596,
          0.795476678948375,
          0.3378703220141315,
          -1.796761616116656,
          -6.876864781789463,
          6.536776460367119,
          -0.7871616201859255,
          1.982299859020365,
          1.9971730907058143,
          5.762236017638731,
          -5.261550868518413,
          -5.776177909303704,
          0.21525214688749447,
          0.8630661348753232,
          -2.858786401054423,
          -0.07189485056972227,
          -4.914875255825632,
          6.122556642380455,
          -1.9851666816757805,
          -1.5744996870724817,
          -1.1027638002100164,
          -0.3599637259274824,
          -1.0807765082754668,
          -2.2527575866235163,
          -1.0016696577572641,
          3.4758644017367692,
          3.252488332406327,
          5.279500407774118,
          1.1966937260420663,
          -2.5948780323577787,
          2.5604872782075585,
          -3.621464554760626,
          -1.3769135116221973,
          1.571485795797101,
          -2.543434619946562,
          3.439663359308821,
          14.445898639915155,
          -3.0561433080478073,
          1.624853002400161,
          1.0537468886998531
         ],
         "xaxis": "x",
         "yaxis": "y"
        },
        {
         "alignmentgroup": "True",
         "boxpoints": "all",
         "fillcolor": "rgba(255,255,255,0)",
         "hoveron": "points",
         "hovertemplate": "choc=16<br>rating=%{x}<extra></extra>",
         "jitter": 0,
         "legendgroup": "16",
         "line": {
          "color": "rgba(255,255,255,0)"
         },
         "marker": {
          "color": "#E377C2",
          "symbol": "line-ns-open"
         },
         "name": "16",
         "offsetgroup": "16",
         "showlegend": false,
         "type": "box",
         "x": [
          1.8312865849976947,
          0.31357037202264937,
          4.4925268325632945,
          5.972154226025972,
          5.767990033347034,
          -0.5512920390410913,
          -5.254815692584472,
          -4.905578071880506,
          -5.564842074257527,
          -1.1809190756010097,
          1.792139402249465,
          0.3383513820465308,
          4.290945815214999,
          2.743291466514034,
          -3.210987140352304,
          -4.636552758205731,
          13.352105412799007,
          0.5728277882473428,
          -7.3607629141750825,
          7.901720242096209,
          -1.1646506459789252,
          -2.5279911738431315,
          0.16894821246340383,
          4.471192529055578,
          -2.1572747493226534,
          -2.852228443352735,
          -0.7992560388603736,
          4.180815595266459,
          -4.403806662300565,
          -4.92714884720718,
          -0.7164802604803767,
          7.229429066409014,
          5.405688786413196,
          7.158200046842084,
          -5.445774733794032,
          -3.3098186831273493,
          -0.606782052168952,
          3.232692922608077,
          -8.906828411541918,
          -1.179701325383095,
          5.489417440466138,
          -1.9143157223979428,
          2.3310292933402383,
          0.34590805179628736,
          5.3569064662055235,
          -6.378239500366715,
          2.9214057450662962,
          -2.1151522612624096,
          -2.1514407664043054,
          -1.7997104623286517,
          -3.4980302331986106,
          -2.2131388567198162,
          -3.879489613419236,
          1.358870842730232,
          -3.517887702626088,
          0.2482292676088095,
          -9.823745692890416,
          2.027956057311232,
          0.02142692987612116,
          -2.748600049469803,
          -5.822418597835596,
          0.795476678948375,
          0.3378703220141315,
          -1.796761616116656,
          -6.876864781789463,
          6.536776460367119,
          -0.7871616201859255,
          1.982299859020365,
          1.9971730907058143,
          5.762236017638731,
          -5.261550868518413,
          -5.776177909303704,
          0.21525214688749447,
          0.8630661348753232,
          -2.858786401054423,
          -0.07189485056972227,
          -4.914875255825632,
          6.122556642380455,
          -1.9851666816757805,
          -1.5744996870724817,
          -1.1027638002100164,
          -0.3599637259274824,
          -1.0807765082754668,
          -2.2527575866235163,
          -1.0016696577572641,
          3.4758644017367692,
          3.252488332406327,
          5.279500407774118,
          1.1966937260420663,
          -2.5948780323577787,
          2.5604872782075585,
          -3.621464554760626,
          -1.3769135116221973,
          1.571485795797101,
          -2.543434619946562,
          3.439663359308821,
          14.445898639915155,
          -3.0561433080478073,
          1.624853002400161,
          1.0537468886998531
         ],
         "xaxis": "x2",
         "yaxis": "y2"
        },
        {
         "alignmentgroup": "True",
         "bingroup": "x",
         "hovertemplate": "choc=17<br>rating=%{x}<br>count=%{y}<extra></extra>",
         "legendgroup": "17",
         "marker": {
          "color": "#7F7F7F",
          "pattern": {
           "shape": ""
          }
         },
         "name": "17",
         "offsetgroup": "17",
         "orientation": "v",
         "showlegend": true,
         "type": "histogram",
         "x": [
          3.9807192717033795,
          -1.5961391142532484,
          1.7420161250819648,
          -1.893330562314192,
          -2.2424602284521216,
          -0.29922738289480344,
          3.5672717689783227,
          -1.2789932614173256,
          -0.23414368678419817,
          0.5218184339368109,
          4.715323441086378,
          -0.8651041544587561,
          -2.0874965171605524,
          -0.7936849313135081,
          -0.11415161693092346,
          -1.3315212107393013,
          4.385946105007413,
          -3.058933651611114,
          3.546980690719331,
          0.9162505954102782,
          3.7288586310687037,
          -1.944918533174531,
          0.35056425411079967,
          2.163398766357453,
          1.5970017908190597,
          1.017497366590439,
          -5.185948188129712,
          2.0649069555408524,
          4.3561324129726575,
          2.306000529334469,
          1.1331583326308468,
          1.268619882531557,
          2.474620354760967,
          1.1822982662343118,
          -0.8049072827213324,
          0.19797594143216346,
          -2.985367150379309,
          2.0226684805838318,
          -1.422394999262995,
          1.5503006186684598,
          2.614986605487357,
          3.0278227432888496,
          5.898843750477689,
          -0.6518049016939342,
          2.8259492284208436,
          1.6697284746970185,
          0.5097931859793593,
          -3.741887482824554,
          -3.177997245023576,
          3.3654733026750856,
          1.3871943057094742,
          1.1889287699145408,
          3.1155179717429746,
          -2.674290129539189,
          -0.06018704702426947,
          -0.3670717925893371,
          -0.42832963829867576,
          5.902845941270899,
          0.5628831979349244,
          -2.835235790411672,
          -2.7645850641447174,
          -2.2886343681471804,
          -1.575448169408303,
          2.558816041110414,
          2.573445928897396,
          -2.282278491661832,
          2.4406629626014316,
          -1.1711109882692443,
          2.658554706549956,
          -2.823941863943297,
          -2.413349514951139,
          -3.141798401730112,
          3.4006131930327035,
          1.719643979523899,
          1.6381332168769502,
          -3.7466905479194548,
          4.430543879620331,
          3.4180122008702227,
          3.8086030959325887,
          5.677610627739001,
          -0.08310021752442354,
          -3.4595288948649063,
          1.4661287893339998,
          0.4022148292220742,
          -2.862656174661687,
          0.41012463298747354,
          -0.5727419913323681,
          -1.9078243141586546,
          3.2291983101434996,
          2.8159056976301615,
          4.788710827659947,
          -8.198951561810398,
          1.9512478259560624,
          1.4388678514804718,
          -1.3455432827765956,
          -2.2477796420705127,
          0.6748393451160815,
          0.1125776067302896,
          -0.6788055527155821,
          2.8586041517429015
         ],
         "xaxis": "x",
         "yaxis": "y"
        },
        {
         "alignmentgroup": "True",
         "boxpoints": "all",
         "fillcolor": "rgba(255,255,255,0)",
         "hoveron": "points",
         "hovertemplate": "choc=17<br>rating=%{x}<extra></extra>",
         "jitter": 0,
         "legendgroup": "17",
         "line": {
          "color": "rgba(255,255,255,0)"
         },
         "marker": {
          "color": "#7F7F7F",
          "symbol": "line-ns-open"
         },
         "name": "17",
         "offsetgroup": "17",
         "showlegend": false,
         "type": "box",
         "x": [
          3.9807192717033795,
          -1.5961391142532484,
          1.7420161250819648,
          -1.893330562314192,
          -2.2424602284521216,
          -0.29922738289480344,
          3.5672717689783227,
          -1.2789932614173256,
          -0.23414368678419817,
          0.5218184339368109,
          4.715323441086378,
          -0.8651041544587561,
          -2.0874965171605524,
          -0.7936849313135081,
          -0.11415161693092346,
          -1.3315212107393013,
          4.385946105007413,
          -3.058933651611114,
          3.546980690719331,
          0.9162505954102782,
          3.7288586310687037,
          -1.944918533174531,
          0.35056425411079967,
          2.163398766357453,
          1.5970017908190597,
          1.017497366590439,
          -5.185948188129712,
          2.0649069555408524,
          4.3561324129726575,
          2.306000529334469,
          1.1331583326308468,
          1.268619882531557,
          2.474620354760967,
          1.1822982662343118,
          -0.8049072827213324,
          0.19797594143216346,
          -2.985367150379309,
          2.0226684805838318,
          -1.422394999262995,
          1.5503006186684598,
          2.614986605487357,
          3.0278227432888496,
          5.898843750477689,
          -0.6518049016939342,
          2.8259492284208436,
          1.6697284746970185,
          0.5097931859793593,
          -3.741887482824554,
          -3.177997245023576,
          3.3654733026750856,
          1.3871943057094742,
          1.1889287699145408,
          3.1155179717429746,
          -2.674290129539189,
          -0.06018704702426947,
          -0.3670717925893371,
          -0.42832963829867576,
          5.902845941270899,
          0.5628831979349244,
          -2.835235790411672,
          -2.7645850641447174,
          -2.2886343681471804,
          -1.575448169408303,
          2.558816041110414,
          2.573445928897396,
          -2.282278491661832,
          2.4406629626014316,
          -1.1711109882692443,
          2.658554706549956,
          -2.823941863943297,
          -2.413349514951139,
          -3.141798401730112,
          3.4006131930327035,
          1.719643979523899,
          1.6381332168769502,
          -3.7466905479194548,
          4.430543879620331,
          3.4180122008702227,
          3.8086030959325887,
          5.677610627739001,
          -0.08310021752442354,
          -3.4595288948649063,
          1.4661287893339998,
          0.4022148292220742,
          -2.862656174661687,
          0.41012463298747354,
          -0.5727419913323681,
          -1.9078243141586546,
          3.2291983101434996,
          2.8159056976301615,
          4.788710827659947,
          -8.198951561810398,
          1.9512478259560624,
          1.4388678514804718,
          -1.3455432827765956,
          -2.2477796420705127,
          0.6748393451160815,
          0.1125776067302896,
          -0.6788055527155821,
          2.8586041517429015
         ],
         "xaxis": "x2",
         "yaxis": "y2"
        },
        {
         "alignmentgroup": "True",
         "bingroup": "x",
         "hovertemplate": "choc=18<br>rating=%{x}<br>count=%{y}<extra></extra>",
         "legendgroup": "18",
         "marker": {
          "color": "#BCBD22",
          "pattern": {
           "shape": ""
          }
         },
         "name": "18",
         "offsetgroup": "18",
         "orientation": "v",
         "showlegend": true,
         "type": "histogram",
         "x": [
          -1.1564704957683312,
          0.8210245351725253,
          4.5094065265017305,
          0.9951171688096423,
          -4.5449712311750385,
          3.4400597215448405,
          -1.7178701312328715,
          0.857358673458017,
          -2.8879202731853297,
          2.7702005200176125,
          3.512028793354042,
          4.126273354452129,
          -2.8079076108374776,
          5.6269792967888534,
          -1.7154797061729254,
          4.6514747521759645,
          6.169886764277221,
          5.036537681598493,
          2.61196793931421,
          2.812583837511935,
          -1.0553301401720379,
          3.8679066112872116,
          4.655962803804907,
          -0.4343424752610747,
          -0.41600146180046105,
          0.7615765437735975,
          4.870716726982764,
          -0.795968306554909,
          -2.075538289854908,
          0.4128917820848661,
          3.3014706947657686,
          6.722715559278516,
          2.67836371903955,
          3.6032241807447702,
          -1.8613616723302309,
          6.975522124822584,
          4.12212466492953,
          1.1509881856031605,
          -3.236087753431824,
          2.101437738063244,
          1.7822528682878214,
          3.4430165932291095,
          0.47418967359352204,
          2.1191200237460297,
          0.7753195382707382,
          -0.11243715375924834,
          0.7583684090408711,
          5.97050730434161,
          -3.8767303876892534,
          -0.09448362811440525,
          0.35171157882373005,
          -0.589323025527033,
          -0.45732091032854294,
          5.91792901872951,
          2.349988516554542,
          -3.6807045193011785,
          5.340002208819067,
          5.119045441199338,
          -1.7243091260720977,
          3.0100315591103355,
          0.4713677323222212,
          0.7851013540582386,
          -0.8440372319546772,
          4.232845261750022,
          0.700409473092201,
          2.663754672004517,
          0.22744907500366263,
          2.931303634164758,
          4.212007743995344,
          4.667087472131841,
          -3.1955900827964365,
          2.430926046305868,
          -0.6638372100654899,
          6.049153877413995,
          -0.13226226992034484,
          2.945212366963445,
          2.5832542723771006,
          1.3217911521416392,
          3.717562049855318,
          -2.274017396771728,
          0.41096113308210536,
          -2.822607003188484,
          -2.3653963553010433,
          4.443256331619848,
          0.1920957120209077,
          2.0990800506361507,
          3.8654008570592753,
          -2.4007968273368734,
          0.42019066827070894,
          2.118581626021354,
          -1.3271660352782118,
          2.7533840074521505,
          -4.857694554254609,
          3.1064383716097366,
          1.8293977988553531,
          5.025735731675443,
          2.213450430988849,
          0.5385003902061896,
          3.231770736465695,
          1.4077579275009078
         ],
         "xaxis": "x",
         "yaxis": "y"
        },
        {
         "alignmentgroup": "True",
         "boxpoints": "all",
         "fillcolor": "rgba(255,255,255,0)",
         "hoveron": "points",
         "hovertemplate": "choc=18<br>rating=%{x}<extra></extra>",
         "jitter": 0,
         "legendgroup": "18",
         "line": {
          "color": "rgba(255,255,255,0)"
         },
         "marker": {
          "color": "#BCBD22",
          "symbol": "line-ns-open"
         },
         "name": "18",
         "offsetgroup": "18",
         "showlegend": false,
         "type": "box",
         "x": [
          -1.1564704957683312,
          0.8210245351725253,
          4.5094065265017305,
          0.9951171688096423,
          -4.5449712311750385,
          3.4400597215448405,
          -1.7178701312328715,
          0.857358673458017,
          -2.8879202731853297,
          2.7702005200176125,
          3.512028793354042,
          4.126273354452129,
          -2.8079076108374776,
          5.6269792967888534,
          -1.7154797061729254,
          4.6514747521759645,
          6.169886764277221,
          5.036537681598493,
          2.61196793931421,
          2.812583837511935,
          -1.0553301401720379,
          3.8679066112872116,
          4.655962803804907,
          -0.4343424752610747,
          -0.41600146180046105,
          0.7615765437735975,
          4.870716726982764,
          -0.795968306554909,
          -2.075538289854908,
          0.4128917820848661,
          3.3014706947657686,
          6.722715559278516,
          2.67836371903955,
          3.6032241807447702,
          -1.8613616723302309,
          6.975522124822584,
          4.12212466492953,
          1.1509881856031605,
          -3.236087753431824,
          2.101437738063244,
          1.7822528682878214,
          3.4430165932291095,
          0.47418967359352204,
          2.1191200237460297,
          0.7753195382707382,
          -0.11243715375924834,
          0.7583684090408711,
          5.97050730434161,
          -3.8767303876892534,
          -0.09448362811440525,
          0.35171157882373005,
          -0.589323025527033,
          -0.45732091032854294,
          5.91792901872951,
          2.349988516554542,
          -3.6807045193011785,
          5.340002208819067,
          5.119045441199338,
          -1.7243091260720977,
          3.0100315591103355,
          0.4713677323222212,
          0.7851013540582386,
          -0.8440372319546772,
          4.232845261750022,
          0.700409473092201,
          2.663754672004517,
          0.22744907500366263,
          2.931303634164758,
          4.212007743995344,
          4.667087472131841,
          -3.1955900827964365,
          2.430926046305868,
          -0.6638372100654899,
          6.049153877413995,
          -0.13226226992034484,
          2.945212366963445,
          2.5832542723771006,
          1.3217911521416392,
          3.717562049855318,
          -2.274017396771728,
          0.41096113308210536,
          -2.822607003188484,
          -2.3653963553010433,
          4.443256331619848,
          0.1920957120209077,
          2.0990800506361507,
          3.8654008570592753,
          -2.4007968273368734,
          0.42019066827070894,
          2.118581626021354,
          -1.3271660352782118,
          2.7533840074521505,
          -4.857694554254609,
          3.1064383716097366,
          1.8293977988553531,
          5.025735731675443,
          2.213450430988849,
          0.5385003902061896,
          3.231770736465695,
          1.4077579275009078
         ],
         "xaxis": "x2",
         "yaxis": "y2"
        },
        {
         "alignmentgroup": "True",
         "bingroup": "x",
         "hovertemplate": "choc=19<br>rating=%{x}<br>count=%{y}<extra></extra>",
         "legendgroup": "19",
         "marker": {
          "color": "#17BECF",
          "pattern": {
           "shape": ""
          }
         },
         "name": "19",
         "offsetgroup": "19",
         "orientation": "v",
         "showlegend": true,
         "type": "histogram",
         "x": [
          -3.961024771659484,
          0.308913326907994,
          -5.214413721701115,
          -2.4817308231900013,
          -4.072292447198743,
          0.038543121984296214,
          -2.3689818035615344,
          -4.213908324789853,
          0.0724112453645287,
          -1.8794956666264453,
          -3.4073222697358125,
          -2.558835305742086,
          -3.874613934214066,
          0.6764926183459434,
          2.5737949334076258,
          1.7468433276302955,
          -0.5680110462309887,
          -3.63073452976596,
          1.8721654699789867,
          -0.4029540807416414,
          1.0708198305500023,
          -2.023092824110689,
          0.8027241180992437,
          -1.263888986980749,
          -2.0600522209571284,
          -2.0893390441269206,
          3.5499008610756384,
          -0.8291031051573602,
          -3.0515228978247384,
          -1.5671107076093773,
          -5.309214376306425,
          1.2423210249513872,
          -3.0658232291905003,
          1.5869504785751793,
          1.3691746612539948,
          -6.7954455671795815,
          -2.686891389696438,
          0.9171353365330717,
          6.428191897705444,
          -0.430171215654957,
          -1.1525266975561361,
          -1.5884072469826154,
          2.3004591050506735,
          -4.923231537525886,
          -2.388593257833551,
          -4.276558532275806,
          -0.5252409215584594,
          -0.36090036124467106,
          -1.3735185339793223,
          1.3065354986832567,
          1.078759061974755,
          -3.5056965439562267,
          -0.2601564701940312,
          -4.566424495336198,
          0.8142756822454142,
          -5.268990062901329,
          -4.151026399858841,
          1.3774522783462149,
          -4.341318517902781,
          0.3846810753428451,
          2.021633221553183,
          -4.489311730479413,
          2.2934504786044254,
          -1.5685123656148119,
          -1.2860054863194013,
          0.2110816712452157,
          1.918318471523397,
          2.1890988805247584,
          -3.6051376124553345,
          0.8072705688547823,
          -4.724688561783585,
          0.7848088703015379,
          4.598159293383003,
          -1.7500631663480815,
          -5.4460924297344295,
          0.016211529906252187,
          -1.4779239266046664,
          1.6961838621660292,
          1.744403423780191,
          -0.4259342289835959,
          0.689108589787222,
          -1.9801674292688418,
          -5.084842664678265,
          0.1356884283200126,
          -5.218978163509443,
          -3.2383841766106065,
          0.06816060170697336,
          -1.9487217238821186,
          1.4928048438988166,
          -0.5180686089026991,
          -0.9623643217272705,
          3.181815820513089,
          -0.41196562451857266,
          -1.6061387305933086,
          -3.4071618824710574,
          2.3466396192197387,
          3.7315798824038664,
          -2.916747285551551,
          -0.5798091999568643,
          -2.3064372005237956
         ],
         "xaxis": "x",
         "yaxis": "y"
        },
        {
         "alignmentgroup": "True",
         "boxpoints": "all",
         "fillcolor": "rgba(255,255,255,0)",
         "hoveron": "points",
         "hovertemplate": "choc=19<br>rating=%{x}<extra></extra>",
         "jitter": 0,
         "legendgroup": "19",
         "line": {
          "color": "rgba(255,255,255,0)"
         },
         "marker": {
          "color": "#17BECF",
          "symbol": "line-ns-open"
         },
         "name": "19",
         "offsetgroup": "19",
         "showlegend": false,
         "type": "box",
         "x": [
          -3.961024771659484,
          0.308913326907994,
          -5.214413721701115,
          -2.4817308231900013,
          -4.072292447198743,
          0.038543121984296214,
          -2.3689818035615344,
          -4.213908324789853,
          0.0724112453645287,
          -1.8794956666264453,
          -3.4073222697358125,
          -2.558835305742086,
          -3.874613934214066,
          0.6764926183459434,
          2.5737949334076258,
          1.7468433276302955,
          -0.5680110462309887,
          -3.63073452976596,
          1.8721654699789867,
          -0.4029540807416414,
          1.0708198305500023,
          -2.023092824110689,
          0.8027241180992437,
          -1.263888986980749,
          -2.0600522209571284,
          -2.0893390441269206,
          3.5499008610756384,
          -0.8291031051573602,
          -3.0515228978247384,
          -1.5671107076093773,
          -5.309214376306425,
          1.2423210249513872,
          -3.0658232291905003,
          1.5869504785751793,
          1.3691746612539948,
          -6.7954455671795815,
          -2.686891389696438,
          0.9171353365330717,
          6.428191897705444,
          -0.430171215654957,
          -1.1525266975561361,
          -1.5884072469826154,
          2.3004591050506735,
          -4.923231537525886,
          -2.388593257833551,
          -4.276558532275806,
          -0.5252409215584594,
          -0.36090036124467106,
          -1.3735185339793223,
          1.3065354986832567,
          1.078759061974755,
          -3.5056965439562267,
          -0.2601564701940312,
          -4.566424495336198,
          0.8142756822454142,
          -5.268990062901329,
          -4.151026399858841,
          1.3774522783462149,
          -4.341318517902781,
          0.3846810753428451,
          2.021633221553183,
          -4.489311730479413,
          2.2934504786044254,
          -1.5685123656148119,
          -1.2860054863194013,
          0.2110816712452157,
          1.918318471523397,
          2.1890988805247584,
          -3.6051376124553345,
          0.8072705688547823,
          -4.724688561783585,
          0.7848088703015379,
          4.598159293383003,
          -1.7500631663480815,
          -5.4460924297344295,
          0.016211529906252187,
          -1.4779239266046664,
          1.6961838621660292,
          1.744403423780191,
          -0.4259342289835959,
          0.689108589787222,
          -1.9801674292688418,
          -5.084842664678265,
          0.1356884283200126,
          -5.218978163509443,
          -3.2383841766106065,
          0.06816060170697336,
          -1.9487217238821186,
          1.4928048438988166,
          -0.5180686089026991,
          -0.9623643217272705,
          3.181815820513089,
          -0.41196562451857266,
          -1.6061387305933086,
          -3.4071618824710574,
          2.3466396192197387,
          3.7315798824038664,
          -2.916747285551551,
          -0.5798091999568643,
          -2.3064372005237956
         ],
         "xaxis": "x2",
         "yaxis": "y2"
        }
       ],
       "layout": {
        "barmode": "relative",
        "height": 600,
        "legend": {
         "title": {
          "text": "choc"
         },
         "tracegroupgap": 0
        },
        "margin": {
         "t": 60
        },
        "template": {
         "data": {
          "bar": [
           {
            "error_x": {
             "color": "rgb(36,36,36)"
            },
            "error_y": {
             "color": "rgb(36,36,36)"
            },
            "marker": {
             "line": {
              "color": "white",
              "width": 0.5
             },
             "pattern": {
              "fillmode": "overlay",
              "size": 10,
              "solidity": 0.2
             }
            },
            "type": "bar"
           }
          ],
          "barpolar": [
           {
            "marker": {
             "line": {
              "color": "white",
              "width": 0.5
             },
             "pattern": {
              "fillmode": "overlay",
              "size": 10,
              "solidity": 0.2
             }
            },
            "type": "barpolar"
           }
          ],
          "carpet": [
           {
            "aaxis": {
             "endlinecolor": "rgb(36,36,36)",
             "gridcolor": "white",
             "linecolor": "white",
             "minorgridcolor": "white",
             "startlinecolor": "rgb(36,36,36)"
            },
            "baxis": {
             "endlinecolor": "rgb(36,36,36)",
             "gridcolor": "white",
             "linecolor": "white",
             "minorgridcolor": "white",
             "startlinecolor": "rgb(36,36,36)"
            },
            "type": "carpet"
           }
          ],
          "choropleth": [
           {
            "colorbar": {
             "outlinewidth": 1,
             "tickcolor": "rgb(36,36,36)",
             "ticks": "outside"
            },
            "type": "choropleth"
           }
          ],
          "contour": [
           {
            "colorbar": {
             "outlinewidth": 1,
             "tickcolor": "rgb(36,36,36)",
             "ticks": "outside"
            },
            "colorscale": [
             [
              0,
              "#440154"
             ],
             [
              0.1111111111111111,
              "#482878"
             ],
             [
              0.2222222222222222,
              "#3e4989"
             ],
             [
              0.3333333333333333,
              "#31688e"
             ],
             [
              0.4444444444444444,
              "#26828e"
             ],
             [
              0.5555555555555556,
              "#1f9e89"
             ],
             [
              0.6666666666666666,
              "#35b779"
             ],
             [
              0.7777777777777778,
              "#6ece58"
             ],
             [
              0.8888888888888888,
              "#b5de2b"
             ],
             [
              1,
              "#fde725"
             ]
            ],
            "type": "contour"
           }
          ],
          "contourcarpet": [
           {
            "colorbar": {
             "outlinewidth": 1,
             "tickcolor": "rgb(36,36,36)",
             "ticks": "outside"
            },
            "type": "contourcarpet"
           }
          ],
          "heatmap": [
           {
            "colorbar": {
             "outlinewidth": 1,
             "tickcolor": "rgb(36,36,36)",
             "ticks": "outside"
            },
            "colorscale": [
             [
              0,
              "#440154"
             ],
             [
              0.1111111111111111,
              "#482878"
             ],
             [
              0.2222222222222222,
              "#3e4989"
             ],
             [
              0.3333333333333333,
              "#31688e"
             ],
             [
              0.4444444444444444,
              "#26828e"
             ],
             [
              0.5555555555555556,
              "#1f9e89"
             ],
             [
              0.6666666666666666,
              "#35b779"
             ],
             [
              0.7777777777777778,
              "#6ece58"
             ],
             [
              0.8888888888888888,
              "#b5de2b"
             ],
             [
              1,
              "#fde725"
             ]
            ],
            "type": "heatmap"
           }
          ],
          "heatmapgl": [
           {
            "colorbar": {
             "outlinewidth": 1,
             "tickcolor": "rgb(36,36,36)",
             "ticks": "outside"
            },
            "colorscale": [
             [
              0,
              "#440154"
             ],
             [
              0.1111111111111111,
              "#482878"
             ],
             [
              0.2222222222222222,
              "#3e4989"
             ],
             [
              0.3333333333333333,
              "#31688e"
             ],
             [
              0.4444444444444444,
              "#26828e"
             ],
             [
              0.5555555555555556,
              "#1f9e89"
             ],
             [
              0.6666666666666666,
              "#35b779"
             ],
             [
              0.7777777777777778,
              "#6ece58"
             ],
             [
              0.8888888888888888,
              "#b5de2b"
             ],
             [
              1,
              "#fde725"
             ]
            ],
            "type": "heatmapgl"
           }
          ],
          "histogram": [
           {
            "marker": {
             "line": {
              "color": "white",
              "width": 0.6
             }
            },
            "type": "histogram"
           }
          ],
          "histogram2d": [
           {
            "colorbar": {
             "outlinewidth": 1,
             "tickcolor": "rgb(36,36,36)",
             "ticks": "outside"
            },
            "colorscale": [
             [
              0,
              "#440154"
             ],
             [
              0.1111111111111111,
              "#482878"
             ],
             [
              0.2222222222222222,
              "#3e4989"
             ],
             [
              0.3333333333333333,
              "#31688e"
             ],
             [
              0.4444444444444444,
              "#26828e"
             ],
             [
              0.5555555555555556,
              "#1f9e89"
             ],
             [
              0.6666666666666666,
              "#35b779"
             ],
             [
              0.7777777777777778,
              "#6ece58"
             ],
             [
              0.8888888888888888,
              "#b5de2b"
             ],
             [
              1,
              "#fde725"
             ]
            ],
            "type": "histogram2d"
           }
          ],
          "histogram2dcontour": [
           {
            "colorbar": {
             "outlinewidth": 1,
             "tickcolor": "rgb(36,36,36)",
             "ticks": "outside"
            },
            "colorscale": [
             [
              0,
              "#440154"
             ],
             [
              0.1111111111111111,
              "#482878"
             ],
             [
              0.2222222222222222,
              "#3e4989"
             ],
             [
              0.3333333333333333,
              "#31688e"
             ],
             [
              0.4444444444444444,
              "#26828e"
             ],
             [
              0.5555555555555556,
              "#1f9e89"
             ],
             [
              0.6666666666666666,
              "#35b779"
             ],
             [
              0.7777777777777778,
              "#6ece58"
             ],
             [
              0.8888888888888888,
              "#b5de2b"
             ],
             [
              1,
              "#fde725"
             ]
            ],
            "type": "histogram2dcontour"
           }
          ],
          "mesh3d": [
           {
            "colorbar": {
             "outlinewidth": 1,
             "tickcolor": "rgb(36,36,36)",
             "ticks": "outside"
            },
            "type": "mesh3d"
           }
          ],
          "parcoords": [
           {
            "line": {
             "colorbar": {
              "outlinewidth": 1,
              "tickcolor": "rgb(36,36,36)",
              "ticks": "outside"
             }
            },
            "type": "parcoords"
           }
          ],
          "pie": [
           {
            "automargin": true,
            "type": "pie"
           }
          ],
          "scatter": [
           {
            "fillpattern": {
             "fillmode": "overlay",
             "size": 10,
             "solidity": 0.2
            },
            "type": "scatter"
           }
          ],
          "scatter3d": [
           {
            "line": {
             "colorbar": {
              "outlinewidth": 1,
              "tickcolor": "rgb(36,36,36)",
              "ticks": "outside"
             }
            },
            "marker": {
             "colorbar": {
              "outlinewidth": 1,
              "tickcolor": "rgb(36,36,36)",
              "ticks": "outside"
             }
            },
            "type": "scatter3d"
           }
          ],
          "scattercarpet": [
           {
            "marker": {
             "colorbar": {
              "outlinewidth": 1,
              "tickcolor": "rgb(36,36,36)",
              "ticks": "outside"
             }
            },
            "type": "scattercarpet"
           }
          ],
          "scattergeo": [
           {
            "marker": {
             "colorbar": {
              "outlinewidth": 1,
              "tickcolor": "rgb(36,36,36)",
              "ticks": "outside"
             }
            },
            "type": "scattergeo"
           }
          ],
          "scattergl": [
           {
            "marker": {
             "colorbar": {
              "outlinewidth": 1,
              "tickcolor": "rgb(36,36,36)",
              "ticks": "outside"
             }
            },
            "type": "scattergl"
           }
          ],
          "scattermapbox": [
           {
            "marker": {
             "colorbar": {
              "outlinewidth": 1,
              "tickcolor": "rgb(36,36,36)",
              "ticks": "outside"
             }
            },
            "type": "scattermapbox"
           }
          ],
          "scatterpolar": [
           {
            "marker": {
             "colorbar": {
              "outlinewidth": 1,
              "tickcolor": "rgb(36,36,36)",
              "ticks": "outside"
             }
            },
            "type": "scatterpolar"
           }
          ],
          "scatterpolargl": [
           {
            "marker": {
             "colorbar": {
              "outlinewidth": 1,
              "tickcolor": "rgb(36,36,36)",
              "ticks": "outside"
             }
            },
            "type": "scatterpolargl"
           }
          ],
          "scatterternary": [
           {
            "marker": {
             "colorbar": {
              "outlinewidth": 1,
              "tickcolor": "rgb(36,36,36)",
              "ticks": "outside"
             }
            },
            "type": "scatterternary"
           }
          ],
          "surface": [
           {
            "colorbar": {
             "outlinewidth": 1,
             "tickcolor": "rgb(36,36,36)",
             "ticks": "outside"
            },
            "colorscale": [
             [
              0,
              "#440154"
             ],
             [
              0.1111111111111111,
              "#482878"
             ],
             [
              0.2222222222222222,
              "#3e4989"
             ],
             [
              0.3333333333333333,
              "#31688e"
             ],
             [
              0.4444444444444444,
              "#26828e"
             ],
             [
              0.5555555555555556,
              "#1f9e89"
             ],
             [
              0.6666666666666666,
              "#35b779"
             ],
             [
              0.7777777777777778,
              "#6ece58"
             ],
             [
              0.8888888888888888,
              "#b5de2b"
             ],
             [
              1,
              "#fde725"
             ]
            ],
            "type": "surface"
           }
          ],
          "table": [
           {
            "cells": {
             "fill": {
              "color": "rgb(237,237,237)"
             },
             "line": {
              "color": "white"
             }
            },
            "header": {
             "fill": {
              "color": "rgb(217,217,217)"
             },
             "line": {
              "color": "white"
             }
            },
            "type": "table"
           }
          ]
         },
         "layout": {
          "annotationdefaults": {
           "arrowhead": 0,
           "arrowwidth": 1
          },
          "autotypenumbers": "strict",
          "coloraxis": {
           "colorbar": {
            "outlinewidth": 1,
            "tickcolor": "rgb(36,36,36)",
            "ticks": "outside"
           }
          },
          "colorscale": {
           "diverging": [
            [
             0,
             "rgb(103,0,31)"
            ],
            [
             0.1,
             "rgb(178,24,43)"
            ],
            [
             0.2,
             "rgb(214,96,77)"
            ],
            [
             0.3,
             "rgb(244,165,130)"
            ],
            [
             0.4,
             "rgb(253,219,199)"
            ],
            [
             0.5,
             "rgb(247,247,247)"
            ],
            [
             0.6,
             "rgb(209,229,240)"
            ],
            [
             0.7,
             "rgb(146,197,222)"
            ],
            [
             0.8,
             "rgb(67,147,195)"
            ],
            [
             0.9,
             "rgb(33,102,172)"
            ],
            [
             1,
             "rgb(5,48,97)"
            ]
           ],
           "sequential": [
            [
             0,
             "#440154"
            ],
            [
             0.1111111111111111,
             "#482878"
            ],
            [
             0.2222222222222222,
             "#3e4989"
            ],
            [
             0.3333333333333333,
             "#31688e"
            ],
            [
             0.4444444444444444,
             "#26828e"
            ],
            [
             0.5555555555555556,
             "#1f9e89"
            ],
            [
             0.6666666666666666,
             "#35b779"
            ],
            [
             0.7777777777777778,
             "#6ece58"
            ],
            [
             0.8888888888888888,
             "#b5de2b"
            ],
            [
             1,
             "#fde725"
            ]
           ],
           "sequentialminus": [
            [
             0,
             "#440154"
            ],
            [
             0.1111111111111111,
             "#482878"
            ],
            [
             0.2222222222222222,
             "#3e4989"
            ],
            [
             0.3333333333333333,
             "#31688e"
            ],
            [
             0.4444444444444444,
             "#26828e"
            ],
            [
             0.5555555555555556,
             "#1f9e89"
            ],
            [
             0.6666666666666666,
             "#35b779"
            ],
            [
             0.7777777777777778,
             "#6ece58"
            ],
            [
             0.8888888888888888,
             "#b5de2b"
            ],
            [
             1,
             "#fde725"
            ]
           ]
          },
          "colorway": [
           "#1F77B4",
           "#FF7F0E",
           "#2CA02C",
           "#D62728",
           "#9467BD",
           "#8C564B",
           "#E377C2",
           "#7F7F7F",
           "#BCBD22",
           "#17BECF"
          ],
          "font": {
           "color": "rgb(36,36,36)"
          },
          "geo": {
           "bgcolor": "white",
           "lakecolor": "white",
           "landcolor": "white",
           "showlakes": true,
           "showland": true,
           "subunitcolor": "white"
          },
          "hoverlabel": {
           "align": "left"
          },
          "hovermode": "closest",
          "mapbox": {
           "style": "light"
          },
          "paper_bgcolor": "white",
          "plot_bgcolor": "white",
          "polar": {
           "angularaxis": {
            "gridcolor": "rgb(232,232,232)",
            "linecolor": "rgb(36,36,36)",
            "showgrid": false,
            "showline": true,
            "ticks": "outside"
           },
           "bgcolor": "white",
           "radialaxis": {
            "gridcolor": "rgb(232,232,232)",
            "linecolor": "rgb(36,36,36)",
            "showgrid": false,
            "showline": true,
            "ticks": "outside"
           }
          },
          "scene": {
           "xaxis": {
            "backgroundcolor": "white",
            "gridcolor": "rgb(232,232,232)",
            "gridwidth": 2,
            "linecolor": "rgb(36,36,36)",
            "showbackground": true,
            "showgrid": false,
            "showline": true,
            "ticks": "outside",
            "zeroline": false,
            "zerolinecolor": "rgb(36,36,36)"
           },
           "yaxis": {
            "backgroundcolor": "white",
            "gridcolor": "rgb(232,232,232)",
            "gridwidth": 2,
            "linecolor": "rgb(36,36,36)",
            "showbackground": true,
            "showgrid": false,
            "showline": true,
            "ticks": "outside",
            "zeroline": false,
            "zerolinecolor": "rgb(36,36,36)"
           },
           "zaxis": {
            "backgroundcolor": "white",
            "gridcolor": "rgb(232,232,232)",
            "gridwidth": 2,
            "linecolor": "rgb(36,36,36)",
            "showbackground": true,
            "showgrid": false,
            "showline": true,
            "ticks": "outside",
            "zeroline": false,
            "zerolinecolor": "rgb(36,36,36)"
           }
          },
          "shapedefaults": {
           "fillcolor": "black",
           "line": {
            "width": 0
           },
           "opacity": 0.3
          },
          "ternary": {
           "aaxis": {
            "gridcolor": "rgb(232,232,232)",
            "linecolor": "rgb(36,36,36)",
            "showgrid": false,
            "showline": true,
            "ticks": "outside"
           },
           "baxis": {
            "gridcolor": "rgb(232,232,232)",
            "linecolor": "rgb(36,36,36)",
            "showgrid": false,
            "showline": true,
            "ticks": "outside"
           },
           "bgcolor": "white",
           "caxis": {
            "gridcolor": "rgb(232,232,232)",
            "linecolor": "rgb(36,36,36)",
            "showgrid": false,
            "showline": true,
            "ticks": "outside"
           }
          },
          "title": {
           "x": 0.05
          },
          "xaxis": {
           "automargin": true,
           "gridcolor": "rgb(232,232,232)",
           "linecolor": "rgb(36,36,36)",
           "showgrid": false,
           "showline": true,
           "ticks": "outside",
           "title": {
            "standoff": 15
           },
           "zeroline": false,
           "zerolinecolor": "rgb(36,36,36)"
          },
          "yaxis": {
           "automargin": true,
           "gridcolor": "rgb(232,232,232)",
           "linecolor": "rgb(36,36,36)",
           "showgrid": false,
           "showline": true,
           "ticks": "outside",
           "title": {
            "standoff": 15
           },
           "zeroline": false,
           "zerolinecolor": "rgb(36,36,36)"
          }
         }
        },
        "width": 1000,
        "xaxis": {
         "anchor": "y",
         "domain": [
          0,
          1
         ],
         "title": {
          "text": "rating"
         }
        },
        "xaxis2": {
         "anchor": "y2",
         "domain": [
          0,
          1
         ],
         "matches": "x",
         "showticklabels": false
        },
        "yaxis": {
         "anchor": "x",
         "domain": [
          0,
          0.7326
         ],
         "title": {
          "text": "count"
         }
        },
        "yaxis2": {
         "anchor": "x2",
         "domain": [
          0.7426,
          1
         ],
         "matches": "y2",
         "showline": false,
         "showticklabels": false,
         "ticks": ""
        }
       }
      }
     },
     "metadata": {},
     "output_type": "display_data"
    }
   ],
   "source": [
    "sim_viz.plot_ratings(color='choc',\n",
    "                     marginal='rug')"
   ]
  },
  {
   "attachments": {},
   "cell_type": "markdown",
   "metadata": {},
   "source": [
    "Plotting the ratings given by all people to each chocolate separately highlights the effects of the assumptions in the generative model. The location of ratings along the scale for chocolates differs, with some chocolates having high appeal and other chocolates low appeal. It is also apparent that for some chocolates the appeal ratings are tightly concentrated in one part of the appeal scale, while for others there is a wide spread of ratings. This is the results of the generative model assuming that population level standard deviaitions in appeal differ across chocolates, so that some chocolates are rated similarly by everyone, while other chocolates are more divisive and have a wide range of ratings given."
   ]
  },
  {
   "cell_type": "code",
   "execution_count": 9,
   "metadata": {},
   "outputs": [
    {
     "data": {
      "application/vnd.plotly.v1+json": {
       "config": {
        "plotlyServerURL": "https://plot.ly"
       },
       "data": [
        {
         "alignmentgroup": "True",
         "bingroup": "x",
         "hovertemplate": "choc=0<br>rating=%{x}<br>count=%{y}<extra></extra>",
         "legendgroup": "",
         "marker": {
          "color": "#1F77B4",
          "pattern": {
           "shape": ""
          }
         },
         "name": "",
         "offsetgroup": "",
         "orientation": "v",
         "showlegend": false,
         "type": "histogram",
         "x": [
          3.3164009256636455,
          0.6101628058239191,
          -1.6524305205771435,
          0.8159696583803352,
          -1.027152020587394,
          -1.8030021444968947,
          1.7476655197108268,
          1.4528506838559672,
          0.0052429881223823305,
          -1.027005393392636,
          -1.0914772535851625,
          -2.6344432854606485,
          -0.3449587376872799,
          -0.5180428663820558,
          -2.1381860984885583,
          0.14574818218676366,
          2.097939251950308,
          -2.472781631477512,
          1.4078379194282822,
          -1.9956424542094733,
          -1.5137832062027623,
          0.7254167322468238,
          3.2716937256534853,
          1.7435585907946387,
          -0.08572853103004519,
          1.3400130003611501,
          -0.2977700859708591,
          -1.2504133306107048,
          -0.780222301128366,
          -1.7074156046343791,
          0.8289857837867877,
          1.7773303261408597,
          -0.4900812224488613,
          -0.5908765754451564,
          -1.9442404165599134,
          1.060265445180912,
          0.20729285536053899,
          -1.5911565041706348,
          0.7305268606554108,
          -1.1077554049146925,
          0.8031002931517149,
          0.21175612765616691,
          -1.4398047128666742,
          -0.8770182920963273,
          0.5261940043681889,
          -1.3461517490375356,
          -1.3703883305534283,
          -3.6621573360229984,
          0.6679570971479695,
          0.34749552205515066,
          -3.373868125800561,
          -4.868919202376294,
          0.916595982242676,
          -0.8272422317960838,
          -2.4239943349885475,
          -2.9294991319157475,
          0.41517031168392926,
          -1.7801928013987447,
          -1.1883551975106819,
          -1.3426385756378916,
          -0.7117317264601253,
          -0.4306157689206853,
          -1.7131232092051558,
          -1.1317868077680615,
          -2.6168582165806207,
          0.11358084216236031,
          -1.2090880875168104,
          -4.053357864364036,
          2.7876824287309203,
          -2.0668220234053454,
          1.2821404190272574,
          -1.1858065073694515,
          -1.001489550926435,
          -0.8751676769365151,
          -2.2439335042345134,
          0.05298319012714814,
          0.6045984253452895,
          0.7252730469585426,
          -1.4679630637930412,
          -0.7347136992324145,
          0.34899108810711355,
          -2.7347176889974634,
          1.0275552776489882,
          -0.36846144755160354,
          0.48457287905301183,
          0.9540761217524943,
          1.6075694329148718,
          0.6158713824490426,
          -1.1465613863780866,
          -2.69271262271142,
          -0.12267152812090532,
          -1.8393773738838735,
          -2.4335373455571183,
          0.04658877664977634,
          -2.152546747938557,
          0.050759929425876815,
          0.6731119476222306,
          -1.8216954806927852,
          2.185468891267529,
          -3.3744658639772083
         ],
         "xaxis": "x16",
         "yaxis": "y16"
        },
        {
         "alignmentgroup": "True",
         "bingroup": "x",
         "hovertemplate": "choc=1<br>rating=%{x}<br>count=%{y}<extra></extra>",
         "legendgroup": "",
         "marker": {
          "color": "#1F77B4",
          "pattern": {
           "shape": ""
          }
         },
         "name": "",
         "offsetgroup": "",
         "orientation": "v",
         "showlegend": false,
         "type": "histogram",
         "x": [
          3.8198648530480424,
          -5.033043674769222,
          2.3375088862059146,
          0.24389609011179858,
          0.5277116807751977,
          4.2084768775267225,
          -0.06363624448702743,
          -3.7423789604871676,
          4.308749969333844,
          1.5344809276362574,
          0.9467726097124246,
          1.7643678500021478,
          1.4298272056760668,
          1.9257946152809016,
          2.8955526759689336,
          -0.06758434640582911,
          -1.1149354970703396,
          -0.2967298558362491,
          2.8963840699559573,
          -3.175691635654429,
          -2.581148554784981,
          -0.8872608289553018,
          1.8329576934809164,
          -1.3060962979599022,
          0.756422518567612,
          1.6076517119043783,
          -0.5689112932318642,
          -0.8201446086328784,
          0.26471895124603084,
          4.288714848721838,
          -2.722509213484187,
          0.9374930156148953,
          0.37051563795035425,
          2.808785630891021,
          3.0528058085096017,
          0.4196844121245117,
          0.40003905385663885,
          2.616258023359232,
          0.26086173661492895,
          1.4030053944917826,
          3.4630264386730025,
          4.6829119630949805,
          2.2835875593746064,
          4.8623967032441335,
          3.2064771345607572,
          3.3260156706605546,
          0.6294904445836984,
          2.1010276029205754,
          2.5774581726018404,
          4.536176223631177,
          -3.859311609817583,
          1.4858923141570801,
          0.3238372935486239,
          1.4796243470679942,
          3.055721923720258,
          -0.044844990085197156,
          2.0240408072514926,
          2.5003344956179063,
          0.34107815065924774,
          -2.714604433301597,
          0.6525399572219457,
          -1.0029833938467503,
          -1.8501997822754261,
          2.1151178178082497,
          0.7246959676434097,
          -1.4928530873165684,
          1.0899771992998128,
          0.41760187665472526,
          2.1873421765278858,
          2.3006862302710904,
          -0.17155791147561927,
          -1.2981945745037944,
          -1.8321784522445541,
          -1.4975195585131837,
          -1.7580098462533371,
          -1.7377796560802148,
          1.0698113045238482,
          -2.2685685731302816,
          2.564796243491237,
          3.272994888607338,
          1.974417891267946,
          0.21484495631187317,
          0.3925846676158813,
          1.220932421981577,
          -0.3170184503479899,
          -1.2050840843881634,
          1.661481254186548,
          2.3141902262101666,
          3.720623821845007,
          2.7942876901860925,
          0.2878020025755713,
          -1.9508279721463082,
          0.8894539529811261,
          3.585865149307805,
          0.8436544901627339,
          0.4471820905892441,
          1.8070867506318853,
          3.125813517874605,
          1.1229158277197135,
          3.278384877881348
         ],
         "xaxis": "x17",
         "yaxis": "y17"
        },
        {
         "alignmentgroup": "True",
         "bingroup": "x",
         "hovertemplate": "choc=2<br>rating=%{x}<br>count=%{y}<extra></extra>",
         "legendgroup": "",
         "marker": {
          "color": "#1F77B4",
          "pattern": {
           "shape": ""
          }
         },
         "name": "",
         "offsetgroup": "",
         "orientation": "v",
         "showlegend": false,
         "type": "histogram",
         "x": [
          4.03376655402756,
          4.32889301162367,
          1.8311204646978827,
          2.7570191705968057,
          3.406424190431035,
          1.0348587771456286,
          0.6006974644343179,
          4.2588205885026085,
          6.0422144753733225,
          -2.423660529996158,
          1.9011481436658917,
          -1.5660021754145372,
          -1.3930545166694301,
          1.271965899546386,
          2.4443171671191815,
          3.2444852548103613,
          -1.6830587097897376,
          -0.6563725375490819,
          4.777096374232929,
          1.8998444904198495,
          5.145350972410169,
          -2.0305371697224404,
          4.3826801751542295,
          2.84214130682178,
          7.3701628423849215,
          3.6652376624128102,
          3.1979905278588543,
          -2.5040050438464436,
          -2.2360503052922422,
          2.675549544481723,
          1.9949320058591995,
          -2.6399926856001525,
          5.537567597468913,
          2.0834640325280716,
          5.844096990450026,
          2.809916302928315,
          0.5360051292784839,
          0.8516753947770547,
          -1.4037354275429763,
          -0.5537779027911771,
          1.298863689732915,
          -0.8360760475614462,
          3.1296458924977184,
          2.1594183080475564,
          -1.3912017315556566,
          5.491325656064129,
          -0.36885160037982656,
          1.2703012453065843,
          6.107710053206928,
          6.957103675858235,
          1.6601040324097471,
          1.7309134935764523,
          0.9704561564451825,
          1.191694048212543,
          6.886678829504628,
          7.23056616715858,
          4.3726031961404495,
          5.363842574079694,
          -0.8682851602536577,
          1.0152044215218694,
          2.843966532502348,
          1.861455347446292,
          2.5085756082530253,
          2.796867799085552,
          2.9956882065636323,
          -0.4686226286973785,
          5.557587688044324,
          0.16341788957004288,
          1.5147482291790404,
          -1.4377933112331323,
          -1.086949155902103,
          2.6918500838257584,
          5.99323382537324,
          0.13835636928661832,
          5.537869330987327,
          -1.0757667734182017,
          5.6239128035050285,
          5.244634029691104,
          3.3777171405199073,
          -2.126101420207516,
          1.1602106249460173,
          3.1944661239742516,
          0.48083318684132414,
          3.794029930031469,
          -3.6076212558811434,
          2.8096594553888243,
          -1.2408615205676066,
          -1.6852927103481683,
          1.237271717428748,
          5.20107033917383,
          1.9112145778695722,
          -2.3967374349016715,
          1.1066641262104393,
          2.1739766187033673,
          -1.4419023118534353,
          2.6750803697845855,
          -0.45534816918245147,
          1.636513872394147,
          0.12260788669371703,
          7.255012642326857
         ],
         "xaxis": "x18",
         "yaxis": "y18"
        },
        {
         "alignmentgroup": "True",
         "bingroup": "x",
         "hovertemplate": "choc=3<br>rating=%{x}<br>count=%{y}<extra></extra>",
         "legendgroup": "",
         "marker": {
          "color": "#1F77B4",
          "pattern": {
           "shape": ""
          }
         },
         "name": "",
         "offsetgroup": "",
         "orientation": "v",
         "showlegend": false,
         "type": "histogram",
         "x": [
          -3.3443255090616617,
          2.052572092608621,
          -4.106357206198764,
          -2.3250974571187557,
          1.3557641401592406,
          5.430158395855065,
          -0.6443376305836884,
          -1.2961679777814745,
          1.1013659689608843,
          -0.3553783887009884,
          -0.6292886001552245,
          -4.600773667567981,
          -0.6553716153217721,
          -3.5553658393657726,
          -4.489858360553617,
          2.1905965918405785,
          0.2044565582547716,
          0.578875655732904,
          -6.6860643685055585,
          7.3505983842337175,
          6.282250165285765,
          -0.766007525357914,
          0.4549553277531837,
          3.775550039257703,
          0.12392050287297185,
          -0.6439129797533263,
          -1.6555478799440466,
          -6.134898515999138,
          -4.041803754540657,
          2.1134746629269623,
          4.618714121491256,
          -3.299696946231623,
          -3.7769468625251816,
          -3.272776837856142,
          -0.9397837640164344,
          -3.6572958658521273,
          -2.697656815716665,
          -3.8655597270127986,
          3.327795338526882,
          -0.04939603745695437,
          -2.8457829366122684,
          2.6255315517272164,
          5.6563519574108545,
          -2.7452605036794866,
          -2.540542558107237,
          -9.153972442549385,
          -6.172245987310962,
          -1.0001548214832003,
          3.0803197219876326,
          5.187267774376213,
          8.958232086860578,
          -5.288453859212899,
          1.9596181000718504,
          -2.478292720651587,
          -8.269027188400214,
          -1.6526377475943173,
          1.5513615700574779,
          -4.521707002918155,
          -1.5781932738251194,
          0.16506084564607804,
          -0.18778370226433183,
          9.152536575424087,
          1.2940513859638274,
          0.8478692019627139,
          -3.276522866938249,
          0.9123563631356684,
          2.219466683614101,
          7.25494355472589,
          0.3487531261363591,
          -3.413048993148646,
          6.942491347682418,
          -6.47794448063795,
          -5.583885932294732,
          -3.628844293245624,
          0.5289710676532511,
          -2.6590024564824413,
          1.3133823019498907,
          0.5135560879965277,
          -1.3747232778307434,
          -2.4593629582269716,
          2.358524664320921,
          -6.869554763244638,
          0.060831178581833956,
          6.376600707771363,
          5.938674028838874,
          0.010007506773546226,
          -1.4904973876082699,
          -1.8777639029526112,
          0.3203749891026628,
          3.362208202954437,
          -2.585000975957781,
          4.196680156908307,
          0.6962130659653936,
          -0.8878940059715776,
          -5.858988482975312,
          -1.0619766255712122,
          -4.731202469204662,
          0.047440846047681506,
          -2.571437086560988,
          1.2281609584291793
         ],
         "xaxis": "x19",
         "yaxis": "y19"
        },
        {
         "alignmentgroup": "True",
         "bingroup": "x",
         "hovertemplate": "choc=4<br>rating=%{x}<br>count=%{y}<extra></extra>",
         "legendgroup": "",
         "marker": {
          "color": "#1F77B4",
          "pattern": {
           "shape": ""
          }
         },
         "name": "",
         "offsetgroup": "",
         "orientation": "v",
         "showlegend": false,
         "type": "histogram",
         "x": [
          -1.6882997625681446,
          0.08272161875774259,
          1.148783763758576,
          1.028521451916402,
          2.1474140800023864,
          -1.3385380907112048,
          1.2895834401260104,
          -0.6087664227431476,
          -0.326168151087749,
          1.70925004396083,
          -1.270405421074431,
          -2.2384207656684145,
          -0.24110547991002174,
          -0.717330110275189,
          1.0246959212506213,
          0.4218320021140206,
          1.1094642375610062,
          -2.8708014187035573,
          2.5875740752746816,
          0.7676446205307201,
          -2.42968101707059,
          0.35114645963911195,
          0.13982457128328268,
          -0.9921253090691186,
          0.9361633702197059,
          1.670333712869559,
          1.6994242248497191,
          0.15519866030293716,
          -0.24601004397068202,
          -0.34182422845827376,
          0.470979697973117,
          0.21078761823903103,
          -1.8811070619956745,
          0.5975924761002785,
          -1.3720214603729433,
          -0.5231216437134971,
          -0.3066927941344669,
          0.8219469521265352,
          -0.5680808687272013,
          1.1185045182192275,
          -1.7449071141262442,
          0.010005475120479002,
          2.6600260811267455,
          -0.21350060113085145,
          -0.3602956090002065,
          -0.5475898346464034,
          1.0047959235897224,
          1.278335948151372,
          -1.0377859832203487,
          0.8874180574984316,
          2.2463729439734994,
          -0.6027693561382268,
          -2.663037858642526,
          -0.9975703262134623,
          -0.18400696541686196,
          0.7606932688860726,
          1.4402784425860564,
          -0.7044267238350361,
          0.4333861583860099,
          -0.9219620161341995,
          -0.8750479754788579,
          0.14422487800696548,
          1.1280527007335526,
          0.2585539630573319,
          0.334755506692753,
          -0.05092317039598948,
          0.133811183742075,
          -1.1861173426124365,
          -2.6323744340962403,
          0.28117450808016553,
          0.9321134428220128,
          -1.3343258653483423,
          -1.4340181390261557,
          -0.4833699045770379,
          0.0843074479030162,
          -1.0819152286807991,
          -0.6352843063227775,
          -0.22135206780215458,
          -1.181075193000678,
          -0.13001871828430175,
          -0.7636955050250391,
          1.2846971175366086,
          -0.8244376893716864,
          0.32948474800553396,
          -1.083820411154689,
          1.4445441659334546,
          -0.3158674083989898,
          0.0872808035838456,
          -2.3005516425040504,
          -1.3094731421978838,
          0.4967625804218747,
          0.4552940388838449,
          -1.5567226417983298,
          -0.9671662207912041,
          -0.7094573620238266,
          0.28297285982980747,
          0.45513350474652825,
          -0.9586615293113071,
          0.2940533863125364,
          0.2686351701443639
         ],
         "xaxis": "x20",
         "yaxis": "y20"
        },
        {
         "alignmentgroup": "True",
         "bingroup": "x",
         "hovertemplate": "choc=5<br>rating=%{x}<br>count=%{y}<extra></extra>",
         "legendgroup": "",
         "marker": {
          "color": "#1F77B4",
          "pattern": {
           "shape": ""
          }
         },
         "name": "",
         "offsetgroup": "",
         "orientation": "v",
         "showlegend": false,
         "type": "histogram",
         "x": [
          -0.6371779111857978,
          0.31261925783169076,
          -2.41525924839845,
          -0.4992197148616248,
          -0.9921149151226719,
          -2.4935703270810854,
          1.1195175983354937,
          -2.2211841013365796,
          0.5083936067780229,
          -0.5461134751375135,
          0.8946104940053646,
          -0.9463919371836209,
          0.04460270800125277,
          -1.0823159953002621,
          -2.5007451928523907,
          -0.1603207732161594,
          -0.3425548430107682,
          -2.753712597080509,
          0.8473341414057766,
          -0.8343161307148644,
          1.3866241740861485,
          1.2273415790123279,
          1.3954810948157,
          0.8234091793727475,
          0.28111557290766265,
          0.9392999898313422,
          1.8406645282775207,
          -0.5730340837592958,
          -1.205617576185333,
          -0.009614667535126409,
          1.8912667221346964,
          -0.6094741785275652,
          -1.5029451880776667,
          -1.7071953032660883,
          0.3687548499708627,
          -1.641892640197502,
          -1.6098240228634038,
          -2.353707927960922,
          -0.6689433753480591,
          2.8890316368973177,
          -1.4297067693282846,
          1.7142179373364699,
          -0.6186317694684375,
          -1.2187815328530438,
          0.9655192107164626,
          -2.2730767392131423,
          1.6023873182812007,
          -2.263936794096195,
          2.8189980753185364,
          -1.7610891811924039,
          0.805106674628879,
          -0.14237234708355867,
          -1.3616365940505037,
          -2.843329747390197,
          -2.785759857225264,
          1.9554394336316587,
          -2.872618843414777,
          -3.251857728545278,
          -2.1642166100898943,
          1.6268962470264814,
          -2.0177815155251793,
          -0.356243042586019,
          -0.2648642876062781,
          -2.4568988414877166,
          -0.7316501714535126,
          -2.4476003583943107,
          2.391648203938018,
          -2.409401894360211,
          -0.6443774314363602,
          -1.8289587178555111,
          -1.359073063293655,
          -0.9246282740453782,
          -0.8369847401931187,
          -3.7110679525589045,
          -0.5942230682985064,
          -1.0957593636642424,
          -1.131129108857472,
          -3.676918213234912,
          0.6729497888416845,
          -0.750776757911975,
          -1.734785299746965,
          -2.50940999409321,
          -1.522448313574065,
          -1.9143369124806826,
          -0.45839954772528463,
          -0.6526942376349937,
          -0.7631031998982626,
          -0.9356660492410309,
          0.9870787218240477,
          1.5136879689359795,
          -1.3502896476813002,
          0.6881249997790514,
          -1.0205120713422104,
          -0.5505349939768555,
          0.09938489148290264,
          -1.7293376934113232,
          -2.19710496345577,
          -0.3781456308106335,
          -1.2432115215857138,
          0.8163621465139509
         ],
         "xaxis": "x11",
         "yaxis": "y11"
        },
        {
         "alignmentgroup": "True",
         "bingroup": "x",
         "hovertemplate": "choc=6<br>rating=%{x}<br>count=%{y}<extra></extra>",
         "legendgroup": "",
         "marker": {
          "color": "#1F77B4",
          "pattern": {
           "shape": ""
          }
         },
         "name": "",
         "offsetgroup": "",
         "orientation": "v",
         "showlegend": false,
         "type": "histogram",
         "x": [
          4.675296167605468,
          7.235666699140969,
          -11.333301610418928,
          4.065157108047964,
          5.203316100992693,
          3.125366115020297,
          -8.72642017604564,
          1.0934270623688125,
          -3.296541282656275,
          -4.544382352510484,
          -3.5777790726935095,
          -4.539975727595657,
          6.0708409471005895,
          4.425561615121025,
          2.9566875821085334,
          -1.4502662231094936,
          -1.4371592476897077,
          -1.0026120010802664,
          -8.690436742919822,
          -7.163633828199121,
          -4.966650444383069,
          -6.573913751434958,
          -6.71889840563483,
          -4.269203460585373,
          4.492555852633497,
          2.4725822935156887,
          -2.0614577184686187,
          -6.3224100347878815,
          -1.799885424006631,
          2.1840423530703412,
          -4.561002309931274,
          3.1470196317228734,
          -9.066265060045659,
          3.227882692831774,
          -3.7995578884794607,
          -1.4654341150446286,
          -2.155953923119056,
          4.099630448715408,
          6.471315438596246,
          -3.3389904425664527,
          7.314091022103106,
          -8.960604623286162,
          -0.3309498644981634,
          9.817214561987226,
          -4.101590865311005,
          -2.323939519853344,
          -6.849222151473382,
          -1.3164792766510849,
          5.093070751492082,
          1.8132488960973072,
          -4.374070566748368,
          -0.10697197157887539,
          -1.3557166787386774,
          1.0547172821743254,
          -2.218845177444643,
          3.7262616360054928,
          1.1283931787395503,
          4.950789945254984,
          -1.6229648680720299,
          -4.713059674650265,
          1.1987900023045566,
          -10.063580787678614,
          2.4841600161156694,
          4.67430487385449,
          -0.025777656862906118,
          -1.5977057004178365,
          0.40660152324106447,
          0.974283095716509,
          -7.099311637816415,
          -1.5475169951478756,
          -4.8780330158794545,
          0.9343397452305218,
          -0.9797194457970566,
          0.8175017887617118,
          -2.9954660824553603,
          -8.36172801585342,
          -6.894248302311903,
          -2.2243654240805064,
          -0.1883321464311153,
          -7.489922046505456,
          -1.4781661379577187,
          -4.437355403880841,
          -1.6749089847631282,
          -6.699454771341519,
          -4.710914630021891,
          -1.9843439710431088,
          4.608275922839584,
          2.1884631092775124,
          -7.586146279948076,
          3.805387689584287,
          0.27925342150672705,
          0.9587127641292748,
          1.2326643536608741,
          -8.034518449541942,
          4.695062813899457,
          -8.059634130775745,
          -4.219980309496413,
          0.09028750584803036,
          -5.893342381516786,
          -12.727835204466638
         ],
         "xaxis": "x12",
         "yaxis": "y12"
        },
        {
         "alignmentgroup": "True",
         "bingroup": "x",
         "hovertemplate": "choc=7<br>rating=%{x}<br>count=%{y}<extra></extra>",
         "legendgroup": "",
         "marker": {
          "color": "#1F77B4",
          "pattern": {
           "shape": ""
          }
         },
         "name": "",
         "offsetgroup": "",
         "orientation": "v",
         "showlegend": false,
         "type": "histogram",
         "x": [
          -0.34645498750660053,
          1.876951718277351,
          1.6968158513032303,
          -1.68665992474457,
          3.146169598003773,
          1.1628874204514736,
          1.9703900468328797,
          0.5242023996525382,
          5.77006616938983,
          2.8305361862761806,
          1.424425188897067,
          0.3371029341691145,
          -0.18170678884082392,
          1.2345770652099977,
          2.174471806571029,
          3.6493164733604466,
          3.2626111412339487,
          3.220993842924241,
          -0.7168898793363416,
          1.150511343918633,
          -1.8893866402386172,
          3.2437547732287064,
          1.403719050028907,
          4.218093959213424,
          2.8134631571419675,
          3.2698989082901835,
          4.650393260108852,
          3.5102460750646243,
          2.774182425150489,
          5.055470568463132,
          0.8756514793006756,
          6.030395486910431,
          0.4879706519371907,
          0.6046692471317259,
          2.7102015756361872,
          4.12567519861717,
          3.661315079975659,
          4.176027202641473,
          2.432449175178771,
          3.3856246306589197,
          2.373485942728566,
          4.249160431033825,
          4.752572363255595,
          -2.2423413748887886,
          -0.5669918183685012,
          3.578282950331565,
          0.8016230091341441,
          3.6135536954581258,
          2.031624921881058,
          4.529119635957329,
          2.9289536990344285,
          3.074822397055664,
          3.363341203043245,
          4.57729698814042,
          -1.041883769863173,
          1.8060702325111735,
          3.686288423762077,
          3.655499912109783,
          0.7001942166763322,
          2.5910851452842247,
          1.5015194051596947,
          2.1166694679771663,
          3.3346907438375606,
          2.8850557054436416,
          4.114736779142193,
          -2.4325317553967083,
          5.710694045825767,
          2.0480515707219156,
          3.6135370870962866,
          1.2603823908612886,
          1.697821595070176,
          1.1465029287496007,
          4.609136254979581,
          3.621414704127467,
          5.449561855765229,
          2.833252550953745,
          6.037160098085124,
          1.4021591094879429,
          1.0023307688438952,
          -5.151770247712852,
          1.6380580067682784,
          1.094939587032243,
          2.027917427568364,
          0.36657652629898174,
          1.7273266536800556,
          0.9851745684165716,
          1.1256437332234073,
          3.2014835040682517,
          3.2325106952215124,
          3.468438411213236,
          2.3992399700879976,
          2.1428692000194145,
          2.0660065167925703,
          -1.4007397619353026,
          2.7116541088062713,
          1.0700985351731367,
          2.2565622243944587,
          -1.144144203060267,
          2.924512460891903,
          1.0184686140106725
         ],
         "xaxis": "x13",
         "yaxis": "y13"
        },
        {
         "alignmentgroup": "True",
         "bingroup": "x",
         "hovertemplate": "choc=8<br>rating=%{x}<br>count=%{y}<extra></extra>",
         "legendgroup": "",
         "marker": {
          "color": "#1F77B4",
          "pattern": {
           "shape": ""
          }
         },
         "name": "",
         "offsetgroup": "",
         "orientation": "v",
         "showlegend": false,
         "type": "histogram",
         "x": [
          -1.6182225710816043,
          1.4037938947505162,
          2.4018988373356236,
          -0.9814976163205567,
          2.755859223876228,
          -0.3488777003029746,
          3.279906332852888,
          -5.391387045772148,
          4.481450629417074,
          1.3367062167813337,
          5.564931556916411,
          0.6557467838746824,
          0.18655756634123494,
          3.1400288100648446,
          1.7050550327862821,
          -1.8234340827545814,
          -4.824680381527036,
          -1.3113188349735359,
          2.074730323591644,
          -1.127732162656802,
          -2.8074093938536464,
          0.29300309209813813,
          2.3043063201842964,
          5.653185694047753,
          -2.1493074842559396,
          2.273585971401998,
          1.5087597380685533,
          1.7428924112315767,
          -5.457409858490675,
          0.5749630884536505,
          5.380669573844804,
          0.7785228154494445,
          0.6852467234588623,
          -0.0010937616934355576,
          -1.583653670464835,
          -0.21504993005283846,
          0.22001182656881424,
          -1.6178732448900257,
          4.563630243758757,
          -3.6540987384509354,
          -4.069647266856224,
          1.5337660738756056,
          1.3217884323320983,
          -0.8891446826263427,
          -4.131967130366033,
          1.9420086528597509,
          -0.7525717794114022,
          -1.8651098335320702,
          -1.3004137315802722,
          5.079516941273144,
          -1.4573803655954551,
          1.1592232056977751,
          0.04189631231104174,
          2.6331819899891027,
          4.669877860845287,
          -1.994400838189226,
          -0.33706345861982456,
          2.665981095116493,
          -2.0356254139161205,
          -2.8474840319772277,
          -1.1062049866515733,
          3.0504962258545865,
          1.63336043683943,
          2.368334594310104,
          7.789635382164221,
          -1.4109898460594879,
          5.5020015918018315,
          6.246061705952729,
          1.8958203155991176,
          2.1021189742540245,
          -2.070614344441065,
          0.5360506965267673,
          0.36883012913650853,
          -0.2873930812244999,
          5.293221903194817,
          -4.210591351062893,
          1.219778701516899,
          3.3679901522798312,
          1.7876166966749625,
          0.5491034991500615,
          -5.63946006053891,
          2.6629822465494977,
          0.4718097426997689,
          3.6430516070422616,
          3.028691302567246,
          1.0916987334437316,
          -3.24205525677816,
          -1.430121823423218,
          0.46287992062704897,
          6.755346029160604,
          -0.6636713696912031,
          2.763651888295162,
          3.387349918652725,
          -3.857291840840059,
          0.9347004642158676,
          -4.8527511474316585,
          -3.5030059553493667,
          1.550653113059548,
          0.8527223043756145,
          2.206351386225614
         ],
         "xaxis": "x14",
         "yaxis": "y14"
        },
        {
         "alignmentgroup": "True",
         "bingroup": "x",
         "hovertemplate": "choc=9<br>rating=%{x}<br>count=%{y}<extra></extra>",
         "legendgroup": "",
         "marker": {
          "color": "#1F77B4",
          "pattern": {
           "shape": ""
          }
         },
         "name": "",
         "offsetgroup": "",
         "orientation": "v",
         "showlegend": false,
         "type": "histogram",
         "x": [
          -3.215651684184275,
          -1.5650542427856462,
          -1.3487124661696854,
          -1.4776755116269373,
          -1.322273645357457,
          -0.9642550639717216,
          -2.4405514338473786,
          -1.0237282947607795,
          0.4919449952698416,
          -1.7949127401065195,
          0.3120426058684318,
          1.8104026311779065,
          -1.978493646291386,
          -0.41799294580658675,
          -0.6849740465238456,
          -1.2237526010516673,
          -0.8640347478737976,
          -0.30188373658184553,
          0.49016500664868734,
          -2.132437586711367,
          -1.8185658204701391,
          -2.605376846922643,
          -2.0318060666638447,
          -0.3163735924029938,
          -1.4886445418367356,
          1.1377727267913664,
          -1.0521230109290995,
          -0.4944687437848255,
          -0.07946209952022243,
          -1.1811300935836737,
          -0.23993931818349912,
          -0.3224760763959703,
          -1.2555578806753247,
          0.0014851493509950853,
          -4.319184799992135,
          -0.704325413144522,
          -0.8881917702714247,
          -0.9437538202713297,
          -0.7507229107103681,
          -1.826342596089391,
          -2.1716785485320353,
          1.1673184338158251,
          0.5962471135709637,
          -0.37831657455532675,
          -1.199407802764906,
          -0.1594349071495873,
          0.2036911977053273,
          -0.5496635596889996,
          -1.9042782046620053,
          1.5232248156736097,
          -0.8385536984445126,
          -1.521661996695058,
          0.13568020320825402,
          -0.5177060081061373,
          -2.6222955329252313,
          -1.4660213602795942,
          -1.8382707064785826,
          -1.1560020976090362,
          -1.534077977247355,
          0.1729721334203278,
          -1.4616810549052424,
          -0.7046139082184373,
          -1.5297417963497502,
          -3.2797248775189463,
          -2.4899805769349546,
          0.9754639342326759,
          1.0840484042716947,
          0.3563747889233322,
          -0.2275806502646024,
          -1.7006351955128876,
          -1.916549207021172,
          -2.332587869778128,
          -0.9523259272576313,
          0.5314217198014286,
          0.4622861520790207,
          -0.5327851281921819,
          -0.14396804408919606,
          -1.194497991758248,
          -3.118513635845202,
          -1.818640842169047,
          -1.789456537251103,
          -2.6145288689347916,
          -2.020309639636435,
          -4.257660543505258,
          0.06076692569041775,
          -2.547841460246901,
          -1.5767173242486814,
          -0.5586693921097541,
          -1.5914939151935963,
          -0.7122026089620603,
          -0.8396691954587885,
          -0.3030059591732692,
          -2.4426142194631444,
          -1.207385397554988,
          -1.6136972006833314,
          -1.2576566378338123,
          -1.8757263435052844,
          -2.3115505571316284,
          -0.6998748551255913,
          -1.4025325353675566
         ],
         "xaxis": "x15",
         "yaxis": "y15"
        },
        {
         "alignmentgroup": "True",
         "bingroup": "x",
         "hovertemplate": "choc=10<br>rating=%{x}<br>count=%{y}<extra></extra>",
         "legendgroup": "",
         "marker": {
          "color": "#1F77B4",
          "pattern": {
           "shape": ""
          }
         },
         "name": "",
         "offsetgroup": "",
         "orientation": "v",
         "showlegend": false,
         "type": "histogram",
         "x": [
          4.6748753628630375,
          3.041325335450947,
          -2.5273879274210906,
          1.5744955456978613,
          4.977821556572974,
          -0.3497333500538102,
          0.7476595893646705,
          0.35607806807007153,
          0.30343221892457983,
          2.693265971682901,
          -1.371025966247282,
          0.3674054534128881,
          -0.27587288713043584,
          -0.19039554952084065,
          -5.819841475727939,
          -5.153874748965519,
          2.7144900883305465,
          -3.327882470031282,
          -2.7665863354509783,
          0.6769370760457898,
          -1.8289435616072376,
          -0.6860611929653888,
          -3.8787778526745673,
          0.7093152146723134,
          2.601566587875571,
          1.3088678586975366,
          -2.048139592255155,
          -0.28382091134652004,
          -2.822990852195064,
          3.582285945664285,
          1.0870485167078814,
          -3.2256287141662954,
          -2.829572797752175,
          2.782276379353617,
          4.143598336238427,
          -0.23501188026571646,
          2.380792884244331,
          -1.635244981319582,
          -0.5939970204954745,
          5.134988594405715,
          -0.9961486423950039,
          -4.262521096383411,
          -0.5710814530851829,
          -1.1322255886916563,
          2.002568707112182,
          4.9354806746602184,
          7.3494643417593535,
          -0.6790366818130045,
          0.5237256881602621,
          3.7311567807327184,
          1.7737481377213813,
          1.7529178662884946,
          3.9840419718625637,
          2.7791836852813314,
          1.980425817245041,
          -4.133992159551751,
          -7.0319498051816325,
          0.15923069098044557,
          1.3342570187960907,
          -0.1288720663306207,
          1.1988091450632907,
          0.3520665215868824,
          0.1842879495897141,
          3.678321586027563,
          3.630121519940871,
          1.081971659169476,
          -6.43373883414421,
          -3.504500502086613,
          1.1777872592285097,
          -1.009977375157981,
          3.8136991551937225,
          -1.21117754610158,
          -3.328143399378159,
          -0.20986281260573553,
          4.308230370596638,
          1.1627148083661496,
          1.2692133708645699,
          1.3085999808147095,
          0.30569068256785964,
          0.5134398465859907,
          2.5839598573936864,
          -0.8459827614821436,
          2.1846409893070633,
          2.0903081049697807,
          -4.497712985882505,
          2.9326320317800976,
          -0.10380744024067562,
          1.1941561786211334,
          -0.04291283235515331,
          -2.5696047373272743,
          -2.0326612845224328,
          2.402228151757769,
          -2.4163418730681734,
          1.0491370149141996,
          -3.0582905018451223,
          -1.6263349651167351,
          2.2707034198070377,
          2.61846216006496,
          6.009506589394952,
          1.5715408486083289
         ],
         "xaxis": "x6",
         "yaxis": "y6"
        },
        {
         "alignmentgroup": "True",
         "bingroup": "x",
         "hovertemplate": "choc=11<br>rating=%{x}<br>count=%{y}<extra></extra>",
         "legendgroup": "",
         "marker": {
          "color": "#1F77B4",
          "pattern": {
           "shape": ""
          }
         },
         "name": "",
         "offsetgroup": "",
         "orientation": "v",
         "showlegend": false,
         "type": "histogram",
         "x": [
          0.47510606596238136,
          1.256234278557034,
          -0.07325449736021114,
          -1.8625622235678911,
          -0.00883172794619641,
          -1.3432163697684216,
          0.6992974304871429,
          -2.1657227670769843,
          -0.1866777929037223,
          -0.605858572742794,
          1.7381717449659047,
          1.1686150723826132,
          -0.38783852263548135,
          -0.20691225985482745,
          0.775775262605885,
          -1.9997791246852923,
          3.0144893812725555,
          -0.9850070305931983,
          0.7047765908397585,
          0.8326743348619478,
          0.6461087626543892,
          0.2962623482974432,
          0.0025300729675183653,
          0.6810654758162966,
          0.8998744962565642,
          0.2765952886301233,
          0.8099105157417438,
          -1.4669032171795713,
          2.948237543957931,
          0.46015552119175307,
          -1.216496188917378,
          0.09375841964378276,
          -0.03214392445655137,
          0.479388888671466,
          -0.1667486116616594,
          -1.2162833869639922,
          0.9934541474496417,
          0.024495195807221315,
          0.43953636114473094,
          -0.4311711193290546,
          1.1117359364240054,
          0.2876641983847935,
          -0.637238230128212,
          1.577150087087502,
          -0.2982634126993431,
          -0.34194060194243936,
          -0.7624566103606216,
          0.5053858271519251,
          -0.10568459884571368,
          0.8996873068992095,
          0.9947887127076104,
          0.5851070744512885,
          -0.2596444750309608,
          2.15973292476452,
          -0.19671816329050976,
          -0.12711231655196145,
          -0.250317367862791,
          -0.7362873635345824,
          -1.8567299976846448,
          -0.11098087043499744,
          -0.9502255741103914,
          0.291788803419804,
          -0.4220308234805712,
          -0.8127516777902298,
          -0.8092895857107764,
          0.5143041709541526,
          -0.10392517880630583,
          0.790236043005128,
          0.3889216585377494,
          -0.06507781510242572,
          2.086311656151398,
          0.07894372773167045,
          0.5674786278371431,
          0.10270480084801786,
          0.03571438908924256,
          -1.2915359463570149,
          -0.0034055729836900694,
          0.1304214727930033,
          0.4736672018770822,
          1.0700035229473739,
          -0.6608093829608676,
          0.046935614027311195,
          0.621152638377618,
          0.7485610130995823,
          -0.10202428401078065,
          -1.3111103914172866,
          1.6192528589158839,
          0.6207605420295413,
          1.306205240019467,
          -0.2449764686771906,
          -1.1675582557843776,
          -2.141811254849403,
          2.083552412352302,
          0.0939475753606901,
          -0.35506102431713127,
          1.0843942502627852,
          0.8415084328372265,
          0.3462611666338651,
          -0.09193359131194476,
          0.5261793721456882
         ],
         "xaxis": "x7",
         "yaxis": "y7"
        },
        {
         "alignmentgroup": "True",
         "bingroup": "x",
         "hovertemplate": "choc=12<br>rating=%{x}<br>count=%{y}<extra></extra>",
         "legendgroup": "",
         "marker": {
          "color": "#1F77B4",
          "pattern": {
           "shape": ""
          }
         },
         "name": "",
         "offsetgroup": "",
         "orientation": "v",
         "showlegend": false,
         "type": "histogram",
         "x": [
          -1.512223437382539,
          -3.7456458958444445,
          -0.9789693173266418,
          2.7210999871180803,
          5.818758395368528,
          -0.42359894234785034,
          2.660791629467898,
          -1.3669208103973267,
          -3.4128913748324754,
          0.4213325811458412,
          -3.965661603044232,
          0.30834237611691373,
          0.9067136702549228,
          1.5281998401462058,
          1.7060707297987778,
          -3.1442486807621153,
          1.999829185656701,
          0.5028068918701385,
          -3.5836663218411173,
          0.5613713366584818,
          -1.9076923562240105,
          1.1706213585257927,
          -1.7887712925968955,
          1.5019362279050705,
          0.2417538586508171,
          -0.10065380825485137,
          3.267395505564979,
          5.265848847549925,
          -0.12762218658830082,
          3.3233141035688867,
          1.6112831522720539,
          -0.5061148770685315,
          -2.403430240707144,
          2.952166611298387,
          0.39038374881271964,
          6.076487513840439,
          5.404565137170519,
          -1.4482833054855744,
          -0.7425634436427233,
          -0.021606223863374407,
          5.65058391951034,
          3.505478765727098,
          5.491664452066663,
          2.12708037616237,
          1.7933453251822025,
          1.3769762602737368,
          0.9984094642247512,
          0.5562022462644466,
          -1.827918803792312,
          -0.8438630877833777,
          1.3092622773186067,
          -0.5887934887296769,
          -1.3011120368765667,
          -1.3664377161812726,
          7.071493160235308,
          -1.9246697098991572,
          -0.9289675044578933,
          2.945874016935302,
          0.3643716693999094,
          0.3781707069115091,
          1.5425955158969868,
          -0.6523124447008544,
          3.956291902554848,
          0.5914384166520941,
          0.3007870990204007,
          2.7674470049262494,
          5.727207947001207,
          0.6099494652143044,
          0.5863223209697364,
          4.277522385722411,
          -0.9324610671058291,
          -4.191606580425197,
          -1.874418388359152,
          -0.36911584596113034,
          -1.59883144974461,
          5.753827796156944,
          -6.677858667139337,
          1.5473420037138088,
          3.9602011257990997,
          -4.467370826074981,
          -2.3832177791324254,
          2.5066054413831766,
          0.5796024105158062,
          1.71723524509471,
          -0.03613431608081874,
          1.6733063705649829,
          0.7344077182316773,
          3.511979064126513,
          -1.0938752297002605,
          5.563954846219872,
          0.9450748991170593,
          4.32007524237094,
          -2.047950251901182,
          1.7130641925052847,
          -3.1533349953837515,
          -1.1298501473030558,
          2.3123705673356696,
          0.5857477068938793,
          1.1129755972112865,
          1.4519438763133765
         ],
         "xaxis": "x8",
         "yaxis": "y8"
        },
        {
         "alignmentgroup": "True",
         "bingroup": "x",
         "hovertemplate": "choc=13<br>rating=%{x}<br>count=%{y}<extra></extra>",
         "legendgroup": "",
         "marker": {
          "color": "#1F77B4",
          "pattern": {
           "shape": ""
          }
         },
         "name": "",
         "offsetgroup": "",
         "orientation": "v",
         "showlegend": false,
         "type": "histogram",
         "x": [
          -0.17553069016760103,
          -2.6594326530238086,
          -3.4800770772905327,
          -1.6916432402048913,
          -4.010967820100199,
          -1.276239545882593,
          -1.3590366523426696,
          -0.11971618096386472,
          -2.5611275500980115,
          -3.399225945809307,
          -0.6676963996676334,
          1.6573820197551712,
          -2.199593390663925,
          -1.1547020586023173,
          -1.3710941622813733,
          -0.27805189465085256,
          0.28964363063164766,
          -1.1785979966611453,
          -1.0705556276981285,
          -0.304537799641206,
          -2.581351093925024,
          1.1658107768591222,
          -1.2383113236040688,
          -1.3600256431765627,
          0.011970991774729711,
          -3.380641324887357,
          -0.7667050099108618,
          -2.3755532624868767,
          -1.604761471647267,
          -1.0374968251370449,
          -2.013987292173501,
          -4.260788217535163,
          0.819711053900601,
          -2.7158661598075446,
          -0.5877198262930724,
          -0.8924660199417053,
          -1.1547992548124113,
          0.6544224435717239,
          1.2083597330611011,
          -1.213251319266139,
          -0.699348583095079,
          -5.023312427500442,
          -2.2640754670515353,
          -0.044002657323002126,
          -1.3914167176340058,
          -1.0399424532570707,
          -1.2532738165749158,
          0.18536783490593356,
          -2.057668398771036,
          -0.7954835440402049,
          -3.367004762030498,
          -2.4410246123982624,
          -1.247782822654451,
          -0.9019185197005377,
          -2.763724435253442,
          -1.3085729995032653,
          -2.2598035546765334,
          -2.7226074333595003,
          -2.8621320494321907,
          -1.460529520293828,
          -1.3736023195637852,
          -0.42757044229727215,
          0.12658570763021326,
          -0.23796695560102799,
          -1.5667556800680384,
          -1.0014307240127023,
          -0.9912643277854407,
          -2.9170650392636106,
          0.07649309141607907,
          -1.2752422001112578,
          -2.1093058403963107,
          0.5174373109073895,
          -0.4373424024236692,
          -0.08768006612783519,
          -1.0705222518468571,
          -2.359241838798516,
          -2.1955275528072304,
          -2.9930952260794212,
          1.3067639446546113,
          -0.8307183985200847,
          -0.2329853570832361,
          -0.7210196861209346,
          -2.170238979959086,
          -1.1060567919080053,
          -2.3728087005394363,
          1.2176735780615295,
          -1.3087624758379666,
          -2.7641139207160728,
          -2.628068192224135,
          -0.6228571862238313,
          -2.3174595632479806,
          -0.1544081567446136,
          -2.214064199005011,
          -2.183663517984136,
          -0.9553691601828073,
          -3.210227944385306,
          -2.2381994935237057,
          -0.4433896678463789,
          -1.0353963122246186,
          -2.7079875105928433
         ],
         "xaxis": "x9",
         "yaxis": "y9"
        },
        {
         "alignmentgroup": "True",
         "bingroup": "x",
         "hovertemplate": "choc=14<br>rating=%{x}<br>count=%{y}<extra></extra>",
         "legendgroup": "",
         "marker": {
          "color": "#1F77B4",
          "pattern": {
           "shape": ""
          }
         },
         "name": "",
         "offsetgroup": "",
         "orientation": "v",
         "showlegend": false,
         "type": "histogram",
         "x": [
          -1.2417211997597328,
          -1.556754608180528,
          -1.7305756911195391,
          -2.4624182409984963,
          -2.1414810890145612,
          -0.9467150898169252,
          -1.7230225385035256,
          -0.8668203771209905,
          -2.6971164533752,
          -3.26599822307562,
          -2.013473019822925,
          -0.7248939631162972,
          -3.0394465651550786,
          -0.7481804933547339,
          1.498016824236326,
          -1.370962435867584,
          -2.1070096281859776,
          0.7021658389424084,
          -0.6919351533969654,
          -1.8558989950648497,
          -0.1535189081582704,
          -1.7146307878501714,
          -2.219351033957883,
          -1.8272680563458807,
          -0.8388186088032621,
          -3.8604057107008,
          -0.4096721602595166,
          -4.022639405682675,
          -0.7335217734823926,
          -5.4740380797182215,
          -0.824262478577052,
          -2.7657641035420966,
          -0.5797813873038026,
          -0.2872765062110292,
          -0.8022227740317713,
          -1.9189513931417876,
          0.6588960538661941,
          -1.9206270761591953,
          -0.6091989422067141,
          -1.5534258558237863,
          -2.473759576795362,
          -1.5484483635877198,
          -3.7341961821344043,
          -1.3934104289217804,
          -2.6104302403476622,
          -2.073661450139358,
          -3.946161195572843,
          -0.6705568790401991,
          -0.3927343049869263,
          -1.2956238106893008,
          -2.544609396348717,
          -4.102158882086061,
          0.8263561060369198,
          -2.7379019088458874,
          -2.1316971868241623,
          -3.3812925498312785,
          -1.5894119517689211,
          -1.6468081476156697,
          -1.7791777596611293,
          -0.6313911869818633,
          -1.7559939026597575,
          -2.6354141054121927,
          -2.0199183983981346,
          -3.0599283465009313,
          -1.3037780307523812,
          -1.0955704040755219,
          -4.18134208200291,
          -2.4994341682852634,
          -3.0830139035444084,
          -2.155663233572059,
          0.7548244281301528,
          -0.9844056076099662,
          0.1279577005976047,
          -0.42173461093048326,
          -0.7090362561873327,
          -1.6726861170755476,
          1.234294608188422,
          -1.307462484889393,
          1.96616354602845,
          -0.6079542137629784,
          -1.705577135417571,
          -0.9130075290569121,
          -2.19490569144187,
          -1.513374927861783,
          0.08341074384392688,
          0.7218311836034719,
          -2.1853760522111187,
          -0.47866702598768684,
          -0.38806621220594195,
          3.052039664214118,
          -0.5816806417853512,
          -0.0778841469628011,
          -2.0215160837175983,
          -3.026653384758049,
          -2.0155651687381804,
          -1.0856668579711628,
          -0.16619579642824478,
          -0.13276859026624588,
          -1.7497873156871129,
          -1.396451663733057
         ],
         "xaxis": "x10",
         "yaxis": "y10"
        },
        {
         "alignmentgroup": "True",
         "bingroup": "x",
         "hovertemplate": "choc=15<br>rating=%{x}<br>count=%{y}<extra></extra>",
         "legendgroup": "",
         "marker": {
          "color": "#1F77B4",
          "pattern": {
           "shape": ""
          }
         },
         "name": "",
         "offsetgroup": "",
         "orientation": "v",
         "showlegend": false,
         "type": "histogram",
         "x": [
          -2.0404123263264817,
          0.40873066594379304,
          -2.0154665689641242,
          0.9503455584623988,
          -2.0367500237035703,
          -4.142379532307113,
          -1.6796532839239258,
          -0.22331836263246752,
          -4.027214760139931,
          -1.4716767821137764,
          -0.8802688497523282,
          -1.7910674358230203,
          0.31295020531547024,
          -3.065772729477217,
          -1.266595600177771,
          1.1844842392090766,
          -4.1906824898943125,
          -0.38775677482491844,
          -1.069213917474125,
          -1.3430503880906437,
          -4.256788993566472,
          -1.5368303725999979,
          -3.1925577359321897,
          -0.3612414635454204,
          -1.177295031545539,
          -1.3997621549699515,
          -1.0058385713981466,
          -3.5459124445158077,
          -3.4551461395926477,
          -0.2088021473795909,
          0.8658045987999767,
          -1.9190227387880288,
          0.10207906922122345,
          -0.3766824291686135,
          -1.9742399740768928,
          1.0022572832088887,
          -1.178333822297584,
          -2.44512317660222,
          -3.4774920125503446,
          -1.8887692906353772,
          -0.2900222502343215,
          -1.443127453100483,
          -1.4481781404203065,
          -1.9302988353712023,
          -0.3239674839205213,
          0.5684477795166611,
          -0.9618465553161284,
          0.4299962038556082,
          -1.433757975023186,
          -1.2964822665396418,
          -4.134518766342267,
          -2.5737252664803183,
          -1.8775514796708355,
          -4.828138635471298,
          -3.4700829996866136,
          -1.0962661711282378,
          -0.005502982814244106,
          -0.09418654634965917,
          -1.248288118355882,
          -2.2235130483573524,
          -3.032614742323314,
          -0.17493761915194028,
          -1.1520639948089353,
          0.5360838077336798,
          0.49931069200533584,
          -3.819293831821823,
          -1.5736120711288157,
          -5.227057823559622,
          -4.985630065621344,
          -1.5248279640649107,
          -5.1815913457894425,
          0.36369711569464314,
          0.16931987409562033,
          0.3661575910646604,
          -3.9776935714491684,
          -3.0738793211852835,
          -0.6214772991066224,
          -2.1567296112150665,
          -0.7842444911333885,
          -3.861206817516349,
          -1.4261697112581928,
          0.4716756505631443,
          -2.374546250682477,
          -2.604705865948381,
          -1.335595440736935,
          -1.1571232569416792,
          -0.6664291617712932,
          -2.6126444677957514,
          -3.225281776184014,
          -1.1411800565093981,
          -0.43406864876895535,
          -3.0205839304349764,
          -0.5250267349652269,
          2.809425683952692,
          -2.2574801907398543,
          -0.34452012338643456,
          -4.920748560936677,
          -0.11970837223884656,
          -4.080456754177655,
          -1.2853697048794577
         ],
         "xaxis": "x",
         "yaxis": "y"
        },
        {
         "alignmentgroup": "True",
         "bingroup": "x",
         "hovertemplate": "choc=16<br>rating=%{x}<br>count=%{y}<extra></extra>",
         "legendgroup": "",
         "marker": {
          "color": "#1F77B4",
          "pattern": {
           "shape": ""
          }
         },
         "name": "",
         "offsetgroup": "",
         "orientation": "v",
         "showlegend": false,
         "type": "histogram",
         "x": [
          1.8312865849976947,
          0.31357037202264937,
          4.4925268325632945,
          5.972154226025972,
          5.767990033347034,
          -0.5512920390410913,
          -5.254815692584472,
          -4.905578071880506,
          -5.564842074257527,
          -1.1809190756010097,
          1.792139402249465,
          0.3383513820465308,
          4.290945815214999,
          2.743291466514034,
          -3.210987140352304,
          -4.636552758205731,
          13.352105412799007,
          0.5728277882473428,
          -7.3607629141750825,
          7.901720242096209,
          -1.1646506459789252,
          -2.5279911738431315,
          0.16894821246340383,
          4.471192529055578,
          -2.1572747493226534,
          -2.852228443352735,
          -0.7992560388603736,
          4.180815595266459,
          -4.403806662300565,
          -4.92714884720718,
          -0.7164802604803767,
          7.229429066409014,
          5.405688786413196,
          7.158200046842084,
          -5.445774733794032,
          -3.3098186831273493,
          -0.606782052168952,
          3.232692922608077,
          -8.906828411541918,
          -1.179701325383095,
          5.489417440466138,
          -1.9143157223979428,
          2.3310292933402383,
          0.34590805179628736,
          5.3569064662055235,
          -6.378239500366715,
          2.9214057450662962,
          -2.1151522612624096,
          -2.1514407664043054,
          -1.7997104623286517,
          -3.4980302331986106,
          -2.2131388567198162,
          -3.879489613419236,
          1.358870842730232,
          -3.517887702626088,
          0.2482292676088095,
          -9.823745692890416,
          2.027956057311232,
          0.02142692987612116,
          -2.748600049469803,
          -5.822418597835596,
          0.795476678948375,
          0.3378703220141315,
          -1.796761616116656,
          -6.876864781789463,
          6.536776460367119,
          -0.7871616201859255,
          1.982299859020365,
          1.9971730907058143,
          5.762236017638731,
          -5.261550868518413,
          -5.776177909303704,
          0.21525214688749447,
          0.8630661348753232,
          -2.858786401054423,
          -0.07189485056972227,
          -4.914875255825632,
          6.122556642380455,
          -1.9851666816757805,
          -1.5744996870724817,
          -1.1027638002100164,
          -0.3599637259274824,
          -1.0807765082754668,
          -2.2527575866235163,
          -1.0016696577572641,
          3.4758644017367692,
          3.252488332406327,
          5.279500407774118,
          1.1966937260420663,
          -2.5948780323577787,
          2.5604872782075585,
          -3.621464554760626,
          -1.3769135116221973,
          1.571485795797101,
          -2.543434619946562,
          3.439663359308821,
          14.445898639915155,
          -3.0561433080478073,
          1.624853002400161,
          1.0537468886998531
         ],
         "xaxis": "x2",
         "yaxis": "y2"
        },
        {
         "alignmentgroup": "True",
         "bingroup": "x",
         "hovertemplate": "choc=17<br>rating=%{x}<br>count=%{y}<extra></extra>",
         "legendgroup": "",
         "marker": {
          "color": "#1F77B4",
          "pattern": {
           "shape": ""
          }
         },
         "name": "",
         "offsetgroup": "",
         "orientation": "v",
         "showlegend": false,
         "type": "histogram",
         "x": [
          3.9807192717033795,
          -1.5961391142532484,
          1.7420161250819648,
          -1.893330562314192,
          -2.2424602284521216,
          -0.29922738289480344,
          3.5672717689783227,
          -1.2789932614173256,
          -0.23414368678419817,
          0.5218184339368109,
          4.715323441086378,
          -0.8651041544587561,
          -2.0874965171605524,
          -0.7936849313135081,
          -0.11415161693092346,
          -1.3315212107393013,
          4.385946105007413,
          -3.058933651611114,
          3.546980690719331,
          0.9162505954102782,
          3.7288586310687037,
          -1.944918533174531,
          0.35056425411079967,
          2.163398766357453,
          1.5970017908190597,
          1.017497366590439,
          -5.185948188129712,
          2.0649069555408524,
          4.3561324129726575,
          2.306000529334469,
          1.1331583326308468,
          1.268619882531557,
          2.474620354760967,
          1.1822982662343118,
          -0.8049072827213324,
          0.19797594143216346,
          -2.985367150379309,
          2.0226684805838318,
          -1.422394999262995,
          1.5503006186684598,
          2.614986605487357,
          3.0278227432888496,
          5.898843750477689,
          -0.6518049016939342,
          2.8259492284208436,
          1.6697284746970185,
          0.5097931859793593,
          -3.741887482824554,
          -3.177997245023576,
          3.3654733026750856,
          1.3871943057094742,
          1.1889287699145408,
          3.1155179717429746,
          -2.674290129539189,
          -0.06018704702426947,
          -0.3670717925893371,
          -0.42832963829867576,
          5.902845941270899,
          0.5628831979349244,
          -2.835235790411672,
          -2.7645850641447174,
          -2.2886343681471804,
          -1.575448169408303,
          2.558816041110414,
          2.573445928897396,
          -2.282278491661832,
          2.4406629626014316,
          -1.1711109882692443,
          2.658554706549956,
          -2.823941863943297,
          -2.413349514951139,
          -3.141798401730112,
          3.4006131930327035,
          1.719643979523899,
          1.6381332168769502,
          -3.7466905479194548,
          4.430543879620331,
          3.4180122008702227,
          3.8086030959325887,
          5.677610627739001,
          -0.08310021752442354,
          -3.4595288948649063,
          1.4661287893339998,
          0.4022148292220742,
          -2.862656174661687,
          0.41012463298747354,
          -0.5727419913323681,
          -1.9078243141586546,
          3.2291983101434996,
          2.8159056976301615,
          4.788710827659947,
          -8.198951561810398,
          1.9512478259560624,
          1.4388678514804718,
          -1.3455432827765956,
          -2.2477796420705127,
          0.6748393451160815,
          0.1125776067302896,
          -0.6788055527155821,
          2.8586041517429015
         ],
         "xaxis": "x3",
         "yaxis": "y3"
        },
        {
         "alignmentgroup": "True",
         "bingroup": "x",
         "hovertemplate": "choc=18<br>rating=%{x}<br>count=%{y}<extra></extra>",
         "legendgroup": "",
         "marker": {
          "color": "#1F77B4",
          "pattern": {
           "shape": ""
          }
         },
         "name": "",
         "offsetgroup": "",
         "orientation": "v",
         "showlegend": false,
         "type": "histogram",
         "x": [
          -1.1564704957683312,
          0.8210245351725253,
          4.5094065265017305,
          0.9951171688096423,
          -4.5449712311750385,
          3.4400597215448405,
          -1.7178701312328715,
          0.857358673458017,
          -2.8879202731853297,
          2.7702005200176125,
          3.512028793354042,
          4.126273354452129,
          -2.8079076108374776,
          5.6269792967888534,
          -1.7154797061729254,
          4.6514747521759645,
          6.169886764277221,
          5.036537681598493,
          2.61196793931421,
          2.812583837511935,
          -1.0553301401720379,
          3.8679066112872116,
          4.655962803804907,
          -0.4343424752610747,
          -0.41600146180046105,
          0.7615765437735975,
          4.870716726982764,
          -0.795968306554909,
          -2.075538289854908,
          0.4128917820848661,
          3.3014706947657686,
          6.722715559278516,
          2.67836371903955,
          3.6032241807447702,
          -1.8613616723302309,
          6.975522124822584,
          4.12212466492953,
          1.1509881856031605,
          -3.236087753431824,
          2.101437738063244,
          1.7822528682878214,
          3.4430165932291095,
          0.47418967359352204,
          2.1191200237460297,
          0.7753195382707382,
          -0.11243715375924834,
          0.7583684090408711,
          5.97050730434161,
          -3.8767303876892534,
          -0.09448362811440525,
          0.35171157882373005,
          -0.589323025527033,
          -0.45732091032854294,
          5.91792901872951,
          2.349988516554542,
          -3.6807045193011785,
          5.340002208819067,
          5.119045441199338,
          -1.7243091260720977,
          3.0100315591103355,
          0.4713677323222212,
          0.7851013540582386,
          -0.8440372319546772,
          4.232845261750022,
          0.700409473092201,
          2.663754672004517,
          0.22744907500366263,
          2.931303634164758,
          4.212007743995344,
          4.667087472131841,
          -3.1955900827964365,
          2.430926046305868,
          -0.6638372100654899,
          6.049153877413995,
          -0.13226226992034484,
          2.945212366963445,
          2.5832542723771006,
          1.3217911521416392,
          3.717562049855318,
          -2.274017396771728,
          0.41096113308210536,
          -2.822607003188484,
          -2.3653963553010433,
          4.443256331619848,
          0.1920957120209077,
          2.0990800506361507,
          3.8654008570592753,
          -2.4007968273368734,
          0.42019066827070894,
          2.118581626021354,
          -1.3271660352782118,
          2.7533840074521505,
          -4.857694554254609,
          3.1064383716097366,
          1.8293977988553531,
          5.025735731675443,
          2.213450430988849,
          0.5385003902061896,
          3.231770736465695,
          1.4077579275009078
         ],
         "xaxis": "x4",
         "yaxis": "y4"
        },
        {
         "alignmentgroup": "True",
         "bingroup": "x",
         "hovertemplate": "choc=19<br>rating=%{x}<br>count=%{y}<extra></extra>",
         "legendgroup": "",
         "marker": {
          "color": "#1F77B4",
          "pattern": {
           "shape": ""
          }
         },
         "name": "",
         "offsetgroup": "",
         "orientation": "v",
         "showlegend": false,
         "type": "histogram",
         "x": [
          -3.961024771659484,
          0.308913326907994,
          -5.214413721701115,
          -2.4817308231900013,
          -4.072292447198743,
          0.038543121984296214,
          -2.3689818035615344,
          -4.213908324789853,
          0.0724112453645287,
          -1.8794956666264453,
          -3.4073222697358125,
          -2.558835305742086,
          -3.874613934214066,
          0.6764926183459434,
          2.5737949334076258,
          1.7468433276302955,
          -0.5680110462309887,
          -3.63073452976596,
          1.8721654699789867,
          -0.4029540807416414,
          1.0708198305500023,
          -2.023092824110689,
          0.8027241180992437,
          -1.263888986980749,
          -2.0600522209571284,
          -2.0893390441269206,
          3.5499008610756384,
          -0.8291031051573602,
          -3.0515228978247384,
          -1.5671107076093773,
          -5.309214376306425,
          1.2423210249513872,
          -3.0658232291905003,
          1.5869504785751793,
          1.3691746612539948,
          -6.7954455671795815,
          -2.686891389696438,
          0.9171353365330717,
          6.428191897705444,
          -0.430171215654957,
          -1.1525266975561361,
          -1.5884072469826154,
          2.3004591050506735,
          -4.923231537525886,
          -2.388593257833551,
          -4.276558532275806,
          -0.5252409215584594,
          -0.36090036124467106,
          -1.3735185339793223,
          1.3065354986832567,
          1.078759061974755,
          -3.5056965439562267,
          -0.2601564701940312,
          -4.566424495336198,
          0.8142756822454142,
          -5.268990062901329,
          -4.151026399858841,
          1.3774522783462149,
          -4.341318517902781,
          0.3846810753428451,
          2.021633221553183,
          -4.489311730479413,
          2.2934504786044254,
          -1.5685123656148119,
          -1.2860054863194013,
          0.2110816712452157,
          1.918318471523397,
          2.1890988805247584,
          -3.6051376124553345,
          0.8072705688547823,
          -4.724688561783585,
          0.7848088703015379,
          4.598159293383003,
          -1.7500631663480815,
          -5.4460924297344295,
          0.016211529906252187,
          -1.4779239266046664,
          1.6961838621660292,
          1.744403423780191,
          -0.4259342289835959,
          0.689108589787222,
          -1.9801674292688418,
          -5.084842664678265,
          0.1356884283200126,
          -5.218978163509443,
          -3.2383841766106065,
          0.06816060170697336,
          -1.9487217238821186,
          1.4928048438988166,
          -0.5180686089026991,
          -0.9623643217272705,
          3.181815820513089,
          -0.41196562451857266,
          -1.6061387305933086,
          -3.4071618824710574,
          2.3466396192197387,
          3.7315798824038664,
          -2.916747285551551,
          -0.5798091999568643,
          -2.3064372005237956
         ],
         "xaxis": "x5",
         "yaxis": "y5"
        }
       ],
       "layout": {
        "annotations": [
         {
          "font": {},
          "showarrow": false,
          "text": "choc=15",
          "x": 0.09200000000000001,
          "xanchor": "center",
          "xref": "paper",
          "y": 0.1975,
          "yanchor": "bottom",
          "yref": "paper"
         },
         {
          "font": {},
          "showarrow": false,
          "text": "choc=16",
          "x": 0.29600000000000004,
          "xanchor": "center",
          "xref": "paper",
          "y": 0.1975,
          "yanchor": "bottom",
          "yref": "paper"
         },
         {
          "font": {},
          "showarrow": false,
          "text": "choc=17",
          "x": 0.5,
          "xanchor": "center",
          "xref": "paper",
          "y": 0.1975,
          "yanchor": "bottom",
          "yref": "paper"
         },
         {
          "font": {},
          "showarrow": false,
          "text": "choc=18",
          "x": 0.7040000000000002,
          "xanchor": "center",
          "xref": "paper",
          "y": 0.1975,
          "yanchor": "bottom",
          "yref": "paper"
         },
         {
          "font": {},
          "showarrow": false,
          "text": "choc=19",
          "x": 0.908,
          "xanchor": "center",
          "xref": "paper",
          "y": 0.1975,
          "yanchor": "bottom",
          "yref": "paper"
         },
         {
          "font": {},
          "showarrow": false,
          "text": "choc=10",
          "x": 0.09200000000000001,
          "xanchor": "center",
          "xref": "paper",
          "y": 0.465,
          "yanchor": "bottom",
          "yref": "paper"
         },
         {
          "font": {},
          "showarrow": false,
          "text": "choc=11",
          "x": 0.29600000000000004,
          "xanchor": "center",
          "xref": "paper",
          "y": 0.465,
          "yanchor": "bottom",
          "yref": "paper"
         },
         {
          "font": {},
          "showarrow": false,
          "text": "choc=12",
          "x": 0.5,
          "xanchor": "center",
          "xref": "paper",
          "y": 0.465,
          "yanchor": "bottom",
          "yref": "paper"
         },
         {
          "font": {},
          "showarrow": false,
          "text": "choc=13",
          "x": 0.7040000000000002,
          "xanchor": "center",
          "xref": "paper",
          "y": 0.465,
          "yanchor": "bottom",
          "yref": "paper"
         },
         {
          "font": {},
          "showarrow": false,
          "text": "choc=14",
          "x": 0.908,
          "xanchor": "center",
          "xref": "paper",
          "y": 0.465,
          "yanchor": "bottom",
          "yref": "paper"
         },
         {
          "font": {},
          "showarrow": false,
          "text": "choc=5",
          "x": 0.09200000000000001,
          "xanchor": "center",
          "xref": "paper",
          "y": 0.7325,
          "yanchor": "bottom",
          "yref": "paper"
         },
         {
          "font": {},
          "showarrow": false,
          "text": "choc=6",
          "x": 0.29600000000000004,
          "xanchor": "center",
          "xref": "paper",
          "y": 0.7325,
          "yanchor": "bottom",
          "yref": "paper"
         },
         {
          "font": {},
          "showarrow": false,
          "text": "choc=7",
          "x": 0.5,
          "xanchor": "center",
          "xref": "paper",
          "y": 0.7325,
          "yanchor": "bottom",
          "yref": "paper"
         },
         {
          "font": {},
          "showarrow": false,
          "text": "choc=8",
          "x": 0.7040000000000002,
          "xanchor": "center",
          "xref": "paper",
          "y": 0.7325,
          "yanchor": "bottom",
          "yref": "paper"
         },
         {
          "font": {},
          "showarrow": false,
          "text": "choc=9",
          "x": 0.908,
          "xanchor": "center",
          "xref": "paper",
          "y": 0.7325,
          "yanchor": "bottom",
          "yref": "paper"
         },
         {
          "font": {},
          "showarrow": false,
          "text": "choc=0",
          "x": 0.09200000000000001,
          "xanchor": "center",
          "xref": "paper",
          "y": 1,
          "yanchor": "bottom",
          "yref": "paper"
         },
         {
          "font": {},
          "showarrow": false,
          "text": "choc=1",
          "x": 0.29600000000000004,
          "xanchor": "center",
          "xref": "paper",
          "y": 1,
          "yanchor": "bottom",
          "yref": "paper"
         },
         {
          "font": {},
          "showarrow": false,
          "text": "choc=2",
          "x": 0.5,
          "xanchor": "center",
          "xref": "paper",
          "y": 1,
          "yanchor": "bottom",
          "yref": "paper"
         },
         {
          "font": {},
          "showarrow": false,
          "text": "choc=3",
          "x": 0.7040000000000002,
          "xanchor": "center",
          "xref": "paper",
          "y": 1,
          "yanchor": "bottom",
          "yref": "paper"
         },
         {
          "font": {},
          "showarrow": false,
          "text": "choc=4",
          "x": 0.908,
          "xanchor": "center",
          "xref": "paper",
          "y": 1,
          "yanchor": "bottom",
          "yref": "paper"
         }
        ],
        "barmode": "relative",
        "height": 600,
        "legend": {
         "tracegroupgap": 0
        },
        "template": {
         "data": {
          "bar": [
           {
            "error_x": {
             "color": "rgb(36,36,36)"
            },
            "error_y": {
             "color": "rgb(36,36,36)"
            },
            "marker": {
             "line": {
              "color": "white",
              "width": 0.5
             },
             "pattern": {
              "fillmode": "overlay",
              "size": 10,
              "solidity": 0.2
             }
            },
            "type": "bar"
           }
          ],
          "barpolar": [
           {
            "marker": {
             "line": {
              "color": "white",
              "width": 0.5
             },
             "pattern": {
              "fillmode": "overlay",
              "size": 10,
              "solidity": 0.2
             }
            },
            "type": "barpolar"
           }
          ],
          "carpet": [
           {
            "aaxis": {
             "endlinecolor": "rgb(36,36,36)",
             "gridcolor": "white",
             "linecolor": "white",
             "minorgridcolor": "white",
             "startlinecolor": "rgb(36,36,36)"
            },
            "baxis": {
             "endlinecolor": "rgb(36,36,36)",
             "gridcolor": "white",
             "linecolor": "white",
             "minorgridcolor": "white",
             "startlinecolor": "rgb(36,36,36)"
            },
            "type": "carpet"
           }
          ],
          "choropleth": [
           {
            "colorbar": {
             "outlinewidth": 1,
             "tickcolor": "rgb(36,36,36)",
             "ticks": "outside"
            },
            "type": "choropleth"
           }
          ],
          "contour": [
           {
            "colorbar": {
             "outlinewidth": 1,
             "tickcolor": "rgb(36,36,36)",
             "ticks": "outside"
            },
            "colorscale": [
             [
              0,
              "#440154"
             ],
             [
              0.1111111111111111,
              "#482878"
             ],
             [
              0.2222222222222222,
              "#3e4989"
             ],
             [
              0.3333333333333333,
              "#31688e"
             ],
             [
              0.4444444444444444,
              "#26828e"
             ],
             [
              0.5555555555555556,
              "#1f9e89"
             ],
             [
              0.6666666666666666,
              "#35b779"
             ],
             [
              0.7777777777777778,
              "#6ece58"
             ],
             [
              0.8888888888888888,
              "#b5de2b"
             ],
             [
              1,
              "#fde725"
             ]
            ],
            "type": "contour"
           }
          ],
          "contourcarpet": [
           {
            "colorbar": {
             "outlinewidth": 1,
             "tickcolor": "rgb(36,36,36)",
             "ticks": "outside"
            },
            "type": "contourcarpet"
           }
          ],
          "heatmap": [
           {
            "colorbar": {
             "outlinewidth": 1,
             "tickcolor": "rgb(36,36,36)",
             "ticks": "outside"
            },
            "colorscale": [
             [
              0,
              "#440154"
             ],
             [
              0.1111111111111111,
              "#482878"
             ],
             [
              0.2222222222222222,
              "#3e4989"
             ],
             [
              0.3333333333333333,
              "#31688e"
             ],
             [
              0.4444444444444444,
              "#26828e"
             ],
             [
              0.5555555555555556,
              "#1f9e89"
             ],
             [
              0.6666666666666666,
              "#35b779"
             ],
             [
              0.7777777777777778,
              "#6ece58"
             ],
             [
              0.8888888888888888,
              "#b5de2b"
             ],
             [
              1,
              "#fde725"
             ]
            ],
            "type": "heatmap"
           }
          ],
          "heatmapgl": [
           {
            "colorbar": {
             "outlinewidth": 1,
             "tickcolor": "rgb(36,36,36)",
             "ticks": "outside"
            },
            "colorscale": [
             [
              0,
              "#440154"
             ],
             [
              0.1111111111111111,
              "#482878"
             ],
             [
              0.2222222222222222,
              "#3e4989"
             ],
             [
              0.3333333333333333,
              "#31688e"
             ],
             [
              0.4444444444444444,
              "#26828e"
             ],
             [
              0.5555555555555556,
              "#1f9e89"
             ],
             [
              0.6666666666666666,
              "#35b779"
             ],
             [
              0.7777777777777778,
              "#6ece58"
             ],
             [
              0.8888888888888888,
              "#b5de2b"
             ],
             [
              1,
              "#fde725"
             ]
            ],
            "type": "heatmapgl"
           }
          ],
          "histogram": [
           {
            "marker": {
             "line": {
              "color": "white",
              "width": 0.6
             }
            },
            "type": "histogram"
           }
          ],
          "histogram2d": [
           {
            "colorbar": {
             "outlinewidth": 1,
             "tickcolor": "rgb(36,36,36)",
             "ticks": "outside"
            },
            "colorscale": [
             [
              0,
              "#440154"
             ],
             [
              0.1111111111111111,
              "#482878"
             ],
             [
              0.2222222222222222,
              "#3e4989"
             ],
             [
              0.3333333333333333,
              "#31688e"
             ],
             [
              0.4444444444444444,
              "#26828e"
             ],
             [
              0.5555555555555556,
              "#1f9e89"
             ],
             [
              0.6666666666666666,
              "#35b779"
             ],
             [
              0.7777777777777778,
              "#6ece58"
             ],
             [
              0.8888888888888888,
              "#b5de2b"
             ],
             [
              1,
              "#fde725"
             ]
            ],
            "type": "histogram2d"
           }
          ],
          "histogram2dcontour": [
           {
            "colorbar": {
             "outlinewidth": 1,
             "tickcolor": "rgb(36,36,36)",
             "ticks": "outside"
            },
            "colorscale": [
             [
              0,
              "#440154"
             ],
             [
              0.1111111111111111,
              "#482878"
             ],
             [
              0.2222222222222222,
              "#3e4989"
             ],
             [
              0.3333333333333333,
              "#31688e"
             ],
             [
              0.4444444444444444,
              "#26828e"
             ],
             [
              0.5555555555555556,
              "#1f9e89"
             ],
             [
              0.6666666666666666,
              "#35b779"
             ],
             [
              0.7777777777777778,
              "#6ece58"
             ],
             [
              0.8888888888888888,
              "#b5de2b"
             ],
             [
              1,
              "#fde725"
             ]
            ],
            "type": "histogram2dcontour"
           }
          ],
          "mesh3d": [
           {
            "colorbar": {
             "outlinewidth": 1,
             "tickcolor": "rgb(36,36,36)",
             "ticks": "outside"
            },
            "type": "mesh3d"
           }
          ],
          "parcoords": [
           {
            "line": {
             "colorbar": {
              "outlinewidth": 1,
              "tickcolor": "rgb(36,36,36)",
              "ticks": "outside"
             }
            },
            "type": "parcoords"
           }
          ],
          "pie": [
           {
            "automargin": true,
            "type": "pie"
           }
          ],
          "scatter": [
           {
            "fillpattern": {
             "fillmode": "overlay",
             "size": 10,
             "solidity": 0.2
            },
            "type": "scatter"
           }
          ],
          "scatter3d": [
           {
            "line": {
             "colorbar": {
              "outlinewidth": 1,
              "tickcolor": "rgb(36,36,36)",
              "ticks": "outside"
             }
            },
            "marker": {
             "colorbar": {
              "outlinewidth": 1,
              "tickcolor": "rgb(36,36,36)",
              "ticks": "outside"
             }
            },
            "type": "scatter3d"
           }
          ],
          "scattercarpet": [
           {
            "marker": {
             "colorbar": {
              "outlinewidth": 1,
              "tickcolor": "rgb(36,36,36)",
              "ticks": "outside"
             }
            },
            "type": "scattercarpet"
           }
          ],
          "scattergeo": [
           {
            "marker": {
             "colorbar": {
              "outlinewidth": 1,
              "tickcolor": "rgb(36,36,36)",
              "ticks": "outside"
             }
            },
            "type": "scattergeo"
           }
          ],
          "scattergl": [
           {
            "marker": {
             "colorbar": {
              "outlinewidth": 1,
              "tickcolor": "rgb(36,36,36)",
              "ticks": "outside"
             }
            },
            "type": "scattergl"
           }
          ],
          "scattermapbox": [
           {
            "marker": {
             "colorbar": {
              "outlinewidth": 1,
              "tickcolor": "rgb(36,36,36)",
              "ticks": "outside"
             }
            },
            "type": "scattermapbox"
           }
          ],
          "scatterpolar": [
           {
            "marker": {
             "colorbar": {
              "outlinewidth": 1,
              "tickcolor": "rgb(36,36,36)",
              "ticks": "outside"
             }
            },
            "type": "scatterpolar"
           }
          ],
          "scatterpolargl": [
           {
            "marker": {
             "colorbar": {
              "outlinewidth": 1,
              "tickcolor": "rgb(36,36,36)",
              "ticks": "outside"
             }
            },
            "type": "scatterpolargl"
           }
          ],
          "scatterternary": [
           {
            "marker": {
             "colorbar": {
              "outlinewidth": 1,
              "tickcolor": "rgb(36,36,36)",
              "ticks": "outside"
             }
            },
            "type": "scatterternary"
           }
          ],
          "surface": [
           {
            "colorbar": {
             "outlinewidth": 1,
             "tickcolor": "rgb(36,36,36)",
             "ticks": "outside"
            },
            "colorscale": [
             [
              0,
              "#440154"
             ],
             [
              0.1111111111111111,
              "#482878"
             ],
             [
              0.2222222222222222,
              "#3e4989"
             ],
             [
              0.3333333333333333,
              "#31688e"
             ],
             [
              0.4444444444444444,
              "#26828e"
             ],
             [
              0.5555555555555556,
              "#1f9e89"
             ],
             [
              0.6666666666666666,
              "#35b779"
             ],
             [
              0.7777777777777778,
              "#6ece58"
             ],
             [
              0.8888888888888888,
              "#b5de2b"
             ],
             [
              1,
              "#fde725"
             ]
            ],
            "type": "surface"
           }
          ],
          "table": [
           {
            "cells": {
             "fill": {
              "color": "rgb(237,237,237)"
             },
             "line": {
              "color": "white"
             }
            },
            "header": {
             "fill": {
              "color": "rgb(217,217,217)"
             },
             "line": {
              "color": "white"
             }
            },
            "type": "table"
           }
          ]
         },
         "layout": {
          "annotationdefaults": {
           "arrowhead": 0,
           "arrowwidth": 1
          },
          "autotypenumbers": "strict",
          "coloraxis": {
           "colorbar": {
            "outlinewidth": 1,
            "tickcolor": "rgb(36,36,36)",
            "ticks": "outside"
           }
          },
          "colorscale": {
           "diverging": [
            [
             0,
             "rgb(103,0,31)"
            ],
            [
             0.1,
             "rgb(178,24,43)"
            ],
            [
             0.2,
             "rgb(214,96,77)"
            ],
            [
             0.3,
             "rgb(244,165,130)"
            ],
            [
             0.4,
             "rgb(253,219,199)"
            ],
            [
             0.5,
             "rgb(247,247,247)"
            ],
            [
             0.6,
             "rgb(209,229,240)"
            ],
            [
             0.7,
             "rgb(146,197,222)"
            ],
            [
             0.8,
             "rgb(67,147,195)"
            ],
            [
             0.9,
             "rgb(33,102,172)"
            ],
            [
             1,
             "rgb(5,48,97)"
            ]
           ],
           "sequential": [
            [
             0,
             "#440154"
            ],
            [
             0.1111111111111111,
             "#482878"
            ],
            [
             0.2222222222222222,
             "#3e4989"
            ],
            [
             0.3333333333333333,
             "#31688e"
            ],
            [
             0.4444444444444444,
             "#26828e"
            ],
            [
             0.5555555555555556,
             "#1f9e89"
            ],
            [
             0.6666666666666666,
             "#35b779"
            ],
            [
             0.7777777777777778,
             "#6ece58"
            ],
            [
             0.8888888888888888,
             "#b5de2b"
            ],
            [
             1,
             "#fde725"
            ]
           ],
           "sequentialminus": [
            [
             0,
             "#440154"
            ],
            [
             0.1111111111111111,
             "#482878"
            ],
            [
             0.2222222222222222,
             "#3e4989"
            ],
            [
             0.3333333333333333,
             "#31688e"
            ],
            [
             0.4444444444444444,
             "#26828e"
            ],
            [
             0.5555555555555556,
             "#1f9e89"
            ],
            [
             0.6666666666666666,
             "#35b779"
            ],
            [
             0.7777777777777778,
             "#6ece58"
            ],
            [
             0.8888888888888888,
             "#b5de2b"
            ],
            [
             1,
             "#fde725"
            ]
           ]
          },
          "colorway": [
           "#1F77B4",
           "#FF7F0E",
           "#2CA02C",
           "#D62728",
           "#9467BD",
           "#8C564B",
           "#E377C2",
           "#7F7F7F",
           "#BCBD22",
           "#17BECF"
          ],
          "font": {
           "color": "rgb(36,36,36)"
          },
          "geo": {
           "bgcolor": "white",
           "lakecolor": "white",
           "landcolor": "white",
           "showlakes": true,
           "showland": true,
           "subunitcolor": "white"
          },
          "hoverlabel": {
           "align": "left"
          },
          "hovermode": "closest",
          "mapbox": {
           "style": "light"
          },
          "paper_bgcolor": "white",
          "plot_bgcolor": "white",
          "polar": {
           "angularaxis": {
            "gridcolor": "rgb(232,232,232)",
            "linecolor": "rgb(36,36,36)",
            "showgrid": false,
            "showline": true,
            "ticks": "outside"
           },
           "bgcolor": "white",
           "radialaxis": {
            "gridcolor": "rgb(232,232,232)",
            "linecolor": "rgb(36,36,36)",
            "showgrid": false,
            "showline": true,
            "ticks": "outside"
           }
          },
          "scene": {
           "xaxis": {
            "backgroundcolor": "white",
            "gridcolor": "rgb(232,232,232)",
            "gridwidth": 2,
            "linecolor": "rgb(36,36,36)",
            "showbackground": true,
            "showgrid": false,
            "showline": true,
            "ticks": "outside",
            "zeroline": false,
            "zerolinecolor": "rgb(36,36,36)"
           },
           "yaxis": {
            "backgroundcolor": "white",
            "gridcolor": "rgb(232,232,232)",
            "gridwidth": 2,
            "linecolor": "rgb(36,36,36)",
            "showbackground": true,
            "showgrid": false,
            "showline": true,
            "ticks": "outside",
            "zeroline": false,
            "zerolinecolor": "rgb(36,36,36)"
           },
           "zaxis": {
            "backgroundcolor": "white",
            "gridcolor": "rgb(232,232,232)",
            "gridwidth": 2,
            "linecolor": "rgb(36,36,36)",
            "showbackground": true,
            "showgrid": false,
            "showline": true,
            "ticks": "outside",
            "zeroline": false,
            "zerolinecolor": "rgb(36,36,36)"
           }
          },
          "shapedefaults": {
           "fillcolor": "black",
           "line": {
            "width": 0
           },
           "opacity": 0.3
          },
          "ternary": {
           "aaxis": {
            "gridcolor": "rgb(232,232,232)",
            "linecolor": "rgb(36,36,36)",
            "showgrid": false,
            "showline": true,
            "ticks": "outside"
           },
           "baxis": {
            "gridcolor": "rgb(232,232,232)",
            "linecolor": "rgb(36,36,36)",
            "showgrid": false,
            "showline": true,
            "ticks": "outside"
           },
           "bgcolor": "white",
           "caxis": {
            "gridcolor": "rgb(232,232,232)",
            "linecolor": "rgb(36,36,36)",
            "showgrid": false,
            "showline": true,
            "ticks": "outside"
           }
          },
          "title": {
           "x": 0.05
          },
          "xaxis": {
           "automargin": true,
           "gridcolor": "rgb(232,232,232)",
           "linecolor": "rgb(36,36,36)",
           "showgrid": false,
           "showline": true,
           "ticks": "outside",
           "title": {
            "standoff": 15
           },
           "zeroline": false,
           "zerolinecolor": "rgb(36,36,36)"
          },
          "yaxis": {
           "automargin": true,
           "gridcolor": "rgb(232,232,232)",
           "linecolor": "rgb(36,36,36)",
           "showgrid": false,
           "showline": true,
           "ticks": "outside",
           "title": {
            "standoff": 15
           },
           "zeroline": false,
           "zerolinecolor": "rgb(36,36,36)"
          }
         }
        },
        "title": {
         "text": "Distribution of all ratings given per chocolate"
        },
        "width": 1000,
        "xaxis": {
         "anchor": "y",
         "domain": [
          0,
          0.18400000000000002
         ],
         "title": {
          "text": "rating"
         }
        },
        "xaxis10": {
         "anchor": "y10",
         "domain": [
          0.8160000000000001,
          1
         ],
         "matches": "x",
         "showticklabels": false
        },
        "xaxis11": {
         "anchor": "y11",
         "domain": [
          0,
          0.18400000000000002
         ],
         "matches": "x",
         "showticklabels": false
        },
        "xaxis12": {
         "anchor": "y12",
         "domain": [
          0.20400000000000001,
          0.388
         ],
         "matches": "x",
         "showticklabels": false
        },
        "xaxis13": {
         "anchor": "y13",
         "domain": [
          0.40800000000000003,
          0.5920000000000001
         ],
         "matches": "x",
         "showticklabels": false
        },
        "xaxis14": {
         "anchor": "y14",
         "domain": [
          0.6120000000000001,
          0.7960000000000002
         ],
         "matches": "x",
         "showticklabels": false
        },
        "xaxis15": {
         "anchor": "y15",
         "domain": [
          0.8160000000000001,
          1
         ],
         "matches": "x",
         "showticklabels": false
        },
        "xaxis16": {
         "anchor": "y16",
         "domain": [
          0,
          0.18400000000000002
         ],
         "matches": "x",
         "showticklabels": false
        },
        "xaxis17": {
         "anchor": "y17",
         "domain": [
          0.20400000000000001,
          0.388
         ],
         "matches": "x",
         "showticklabels": false
        },
        "xaxis18": {
         "anchor": "y18",
         "domain": [
          0.40800000000000003,
          0.5920000000000001
         ],
         "matches": "x",
         "showticklabels": false
        },
        "xaxis19": {
         "anchor": "y19",
         "domain": [
          0.6120000000000001,
          0.7960000000000002
         ],
         "matches": "x",
         "showticklabels": false
        },
        "xaxis2": {
         "anchor": "y2",
         "domain": [
          0.20400000000000001,
          0.388
         ],
         "matches": "x",
         "title": {
          "text": "rating"
         }
        },
        "xaxis20": {
         "anchor": "y20",
         "domain": [
          0.8160000000000001,
          1
         ],
         "matches": "x",
         "showticklabels": false
        },
        "xaxis3": {
         "anchor": "y3",
         "domain": [
          0.40800000000000003,
          0.5920000000000001
         ],
         "matches": "x",
         "title": {
          "text": "rating"
         }
        },
        "xaxis4": {
         "anchor": "y4",
         "domain": [
          0.6120000000000001,
          0.7960000000000002
         ],
         "matches": "x",
         "title": {
          "text": "rating"
         }
        },
        "xaxis5": {
         "anchor": "y5",
         "domain": [
          0.8160000000000001,
          1
         ],
         "matches": "x",
         "title": {
          "text": "rating"
         }
        },
        "xaxis6": {
         "anchor": "y6",
         "domain": [
          0,
          0.18400000000000002
         ],
         "matches": "x",
         "showticklabels": false
        },
        "xaxis7": {
         "anchor": "y7",
         "domain": [
          0.20400000000000001,
          0.388
         ],
         "matches": "x",
         "showticklabels": false
        },
        "xaxis8": {
         "anchor": "y8",
         "domain": [
          0.40800000000000003,
          0.5920000000000001
         ],
         "matches": "x",
         "showticklabels": false
        },
        "xaxis9": {
         "anchor": "y9",
         "domain": [
          0.6120000000000001,
          0.7960000000000002
         ],
         "matches": "x",
         "showticklabels": false
        },
        "yaxis": {
         "anchor": "x",
         "domain": [
          0,
          0.1975
         ],
         "title": {
          "text": "count"
         }
        },
        "yaxis10": {
         "anchor": "x10",
         "domain": [
          0.2675,
          0.465
         ],
         "matches": "y",
         "showticklabels": false
        },
        "yaxis11": {
         "anchor": "x11",
         "domain": [
          0.535,
          0.7325
         ],
         "matches": "y",
         "title": {
          "text": "count"
         }
        },
        "yaxis12": {
         "anchor": "x12",
         "domain": [
          0.535,
          0.7325
         ],
         "matches": "y",
         "showticklabels": false
        },
        "yaxis13": {
         "anchor": "x13",
         "domain": [
          0.535,
          0.7325
         ],
         "matches": "y",
         "showticklabels": false
        },
        "yaxis14": {
         "anchor": "x14",
         "domain": [
          0.535,
          0.7325
         ],
         "matches": "y",
         "showticklabels": false
        },
        "yaxis15": {
         "anchor": "x15",
         "domain": [
          0.535,
          0.7325
         ],
         "matches": "y",
         "showticklabels": false
        },
        "yaxis16": {
         "anchor": "x16",
         "domain": [
          0.8025,
          1
         ],
         "matches": "y",
         "title": {
          "text": "count"
         }
        },
        "yaxis17": {
         "anchor": "x17",
         "domain": [
          0.8025,
          1
         ],
         "matches": "y",
         "showticklabels": false
        },
        "yaxis18": {
         "anchor": "x18",
         "domain": [
          0.8025,
          1
         ],
         "matches": "y",
         "showticklabels": false
        },
        "yaxis19": {
         "anchor": "x19",
         "domain": [
          0.8025,
          1
         ],
         "matches": "y",
         "showticklabels": false
        },
        "yaxis2": {
         "anchor": "x2",
         "domain": [
          0,
          0.1975
         ],
         "matches": "y",
         "showticklabels": false
        },
        "yaxis20": {
         "anchor": "x20",
         "domain": [
          0.8025,
          1
         ],
         "matches": "y",
         "showticklabels": false
        },
        "yaxis3": {
         "anchor": "x3",
         "domain": [
          0,
          0.1975
         ],
         "matches": "y",
         "showticklabels": false
        },
        "yaxis4": {
         "anchor": "x4",
         "domain": [
          0,
          0.1975
         ],
         "matches": "y",
         "showticklabels": false
        },
        "yaxis5": {
         "anchor": "x5",
         "domain": [
          0,
          0.1975
         ],
         "matches": "y",
         "showticklabels": false
        },
        "yaxis6": {
         "anchor": "x6",
         "domain": [
          0.2675,
          0.465
         ],
         "matches": "y",
         "title": {
          "text": "count"
         }
        },
        "yaxis7": {
         "anchor": "x7",
         "domain": [
          0.2675,
          0.465
         ],
         "matches": "y",
         "showticklabels": false
        },
        "yaxis8": {
         "anchor": "x8",
         "domain": [
          0.2675,
          0.465
         ],
         "matches": "y",
         "showticklabels": false
        },
        "yaxis9": {
         "anchor": "x9",
         "domain": [
          0.2675,
          0.465
         ],
         "matches": "y",
         "showticklabels": false
        }
       }
      }
     },
     "metadata": {},
     "output_type": "display_data"
    }
   ],
   "source": [
    "sim_viz.plot_ratings(facet_col='choc',\n",
    "                     title='Distribution of all ratings given per chocolate')"
   ]
  },
  {
   "attachments": {},
   "cell_type": "markdown",
   "metadata": {},
   "source": [
    "Visualising ratings given by a selection of individual participants in a similar way, we can see the nature of the distributions of ratings does not behave in the same way as the distributions per chocolate. This is a result of the fact that no individual level variation is assumed in the generative model, i.e. that all people are rating chocolates on a scale that is invariant to the population level scale (implicitly assumed to be their own private appeal rating scale bounded by how bad or good they consider it possible for a chocolate to be). So the ratings given by individuals tend to be spread across the appeal scale largeley within the bounds pf -2 to +2."
   ]
  },
  {
   "cell_type": "code",
   "execution_count": 10,
   "metadata": {},
   "outputs": [
    {
     "data": {
      "application/vnd.plotly.v1+json": {
       "config": {
        "plotlyServerURL": "https://plot.ly"
       },
       "data": [
        {
         "alignmentgroup": "True",
         "bingroup": "x",
         "hovertemplate": "person=0<br>rating=%{x}<br>count=%{y}<extra></extra>",
         "legendgroup": "",
         "marker": {
          "color": "#1F77B4",
          "pattern": {
           "shape": ""
          }
         },
         "name": "",
         "offsetgroup": "",
         "orientation": "v",
         "showlegend": false,
         "type": "histogram",
         "x": [
          3.3164009256636455,
          3.8198648530480424,
          4.03376655402756,
          -3.3443255090616617,
          -1.6882997625681446,
          -0.6371779111857978,
          4.675296167605468,
          -0.34645498750660053,
          -1.6182225710816043,
          -3.215651684184275,
          4.6748753628630375,
          0.47510606596238136,
          -1.512223437382539,
          -0.17553069016760103,
          -1.2417211997597328,
          -2.0404123263264817,
          1.8312865849976947,
          3.9807192717033795,
          -1.1564704957683312,
          -3.961024771659484
         ],
         "xaxis": "x16",
         "yaxis": "y16"
        },
        {
         "alignmentgroup": "True",
         "bingroup": "x",
         "hovertemplate": "person=1<br>rating=%{x}<br>count=%{y}<extra></extra>",
         "legendgroup": "",
         "marker": {
          "color": "#1F77B4",
          "pattern": {
           "shape": ""
          }
         },
         "name": "",
         "offsetgroup": "",
         "orientation": "v",
         "showlegend": false,
         "type": "histogram",
         "x": [
          0.6101628058239191,
          -5.033043674769222,
          4.32889301162367,
          2.052572092608621,
          0.08272161875774259,
          0.31261925783169076,
          7.235666699140969,
          1.876951718277351,
          1.4037938947505162,
          -1.5650542427856462,
          3.041325335450947,
          1.256234278557034,
          -3.7456458958444445,
          -2.6594326530238086,
          -1.556754608180528,
          0.40873066594379304,
          0.31357037202264937,
          -1.5961391142532484,
          0.8210245351725253,
          0.308913326907994
         ],
         "xaxis": "x17",
         "yaxis": "y17"
        },
        {
         "alignmentgroup": "True",
         "bingroup": "x",
         "hovertemplate": "person=2<br>rating=%{x}<br>count=%{y}<extra></extra>",
         "legendgroup": "",
         "marker": {
          "color": "#1F77B4",
          "pattern": {
           "shape": ""
          }
         },
         "name": "",
         "offsetgroup": "",
         "orientation": "v",
         "showlegend": false,
         "type": "histogram",
         "x": [
          -1.6524305205771435,
          2.3375088862059146,
          1.8311204646978827,
          -4.106357206198764,
          1.148783763758576,
          -2.41525924839845,
          -11.333301610418928,
          1.6968158513032303,
          2.4018988373356236,
          -1.3487124661696854,
          -2.5273879274210906,
          -0.07325449736021114,
          -0.9789693173266418,
          -3.4800770772905327,
          -1.7305756911195391,
          -2.0154665689641242,
          4.4925268325632945,
          1.7420161250819648,
          4.5094065265017305,
          -5.214413721701115
         ],
         "xaxis": "x18",
         "yaxis": "y18"
        },
        {
         "alignmentgroup": "True",
         "bingroup": "x",
         "hovertemplate": "person=3<br>rating=%{x}<br>count=%{y}<extra></extra>",
         "legendgroup": "",
         "marker": {
          "color": "#1F77B4",
          "pattern": {
           "shape": ""
          }
         },
         "name": "",
         "offsetgroup": "",
         "orientation": "v",
         "showlegend": false,
         "type": "histogram",
         "x": [
          0.8159696583803352,
          0.24389609011179858,
          2.7570191705968057,
          -2.3250974571187557,
          1.028521451916402,
          -0.4992197148616248,
          4.065157108047964,
          -1.68665992474457,
          -0.9814976163205567,
          -1.4776755116269373,
          1.5744955456978613,
          -1.8625622235678911,
          2.7210999871180803,
          -1.6916432402048913,
          -2.4624182409984963,
          0.9503455584623988,
          5.972154226025972,
          -1.893330562314192,
          0.9951171688096423,
          -2.4817308231900013
         ],
         "xaxis": "x19",
         "yaxis": "y19"
        },
        {
         "alignmentgroup": "True",
         "bingroup": "x",
         "hovertemplate": "person=4<br>rating=%{x}<br>count=%{y}<extra></extra>",
         "legendgroup": "",
         "marker": {
          "color": "#1F77B4",
          "pattern": {
           "shape": ""
          }
         },
         "name": "",
         "offsetgroup": "",
         "orientation": "v",
         "showlegend": false,
         "type": "histogram",
         "x": [
          -1.027152020587394,
          0.5277116807751977,
          3.406424190431035,
          1.3557641401592406,
          2.1474140800023864,
          -0.9921149151226719,
          5.203316100992693,
          3.146169598003773,
          2.755859223876228,
          -1.322273645357457,
          4.977821556572974,
          -0.00883172794619641,
          5.818758395368528,
          -4.010967820100199,
          -2.1414810890145612,
          -2.0367500237035703,
          5.767990033347034,
          -2.2424602284521216,
          -4.5449712311750385,
          -4.072292447198743
         ],
         "xaxis": "x20",
         "yaxis": "y20"
        },
        {
         "alignmentgroup": "True",
         "bingroup": "x",
         "hovertemplate": "person=5<br>rating=%{x}<br>count=%{y}<extra></extra>",
         "legendgroup": "",
         "marker": {
          "color": "#1F77B4",
          "pattern": {
           "shape": ""
          }
         },
         "name": "",
         "offsetgroup": "",
         "orientation": "v",
         "showlegend": false,
         "type": "histogram",
         "x": [
          -1.8030021444968947,
          4.2084768775267225,
          1.0348587771456286,
          5.430158395855065,
          -1.3385380907112048,
          -2.4935703270810854,
          3.125366115020297,
          1.1628874204514736,
          -0.3488777003029746,
          -0.9642550639717216,
          -0.3497333500538102,
          -1.3432163697684216,
          -0.42359894234785034,
          -1.276239545882593,
          -0.9467150898169252,
          -4.142379532307113,
          -0.5512920390410913,
          -0.29922738289480344,
          3.4400597215448405,
          0.038543121984296214
         ],
         "xaxis": "x11",
         "yaxis": "y11"
        },
        {
         "alignmentgroup": "True",
         "bingroup": "x",
         "hovertemplate": "person=6<br>rating=%{x}<br>count=%{y}<extra></extra>",
         "legendgroup": "",
         "marker": {
          "color": "#1F77B4",
          "pattern": {
           "shape": ""
          }
         },
         "name": "",
         "offsetgroup": "",
         "orientation": "v",
         "showlegend": false,
         "type": "histogram",
         "x": [
          1.7476655197108268,
          -0.06363624448702743,
          0.6006974644343179,
          -0.6443376305836884,
          1.2895834401260104,
          1.1195175983354937,
          -8.72642017604564,
          1.9703900468328797,
          3.279906332852888,
          -2.4405514338473786,
          0.7476595893646705,
          0.6992974304871429,
          2.660791629467898,
          -1.3590366523426696,
          -1.7230225385035256,
          -1.6796532839239258,
          -5.254815692584472,
          3.5672717689783227,
          -1.7178701312328715,
          -2.3689818035615344
         ],
         "xaxis": "x12",
         "yaxis": "y12"
        },
        {
         "alignmentgroup": "True",
         "bingroup": "x",
         "hovertemplate": "person=7<br>rating=%{x}<br>count=%{y}<extra></extra>",
         "legendgroup": "",
         "marker": {
          "color": "#1F77B4",
          "pattern": {
           "shape": ""
          }
         },
         "name": "",
         "offsetgroup": "",
         "orientation": "v",
         "showlegend": false,
         "type": "histogram",
         "x": [
          1.4528506838559672,
          -3.7423789604871676,
          4.2588205885026085,
          -1.2961679777814745,
          -0.6087664227431476,
          -2.2211841013365796,
          1.0934270623688125,
          0.5242023996525382,
          -5.391387045772148,
          -1.0237282947607795,
          0.35607806807007153,
          -2.1657227670769843,
          -1.3669208103973267,
          -0.11971618096386472,
          -0.8668203771209905,
          -0.22331836263246752,
          -4.905578071880506,
          -1.2789932614173256,
          0.857358673458017,
          -4.213908324789853
         ],
         "xaxis": "x13",
         "yaxis": "y13"
        },
        {
         "alignmentgroup": "True",
         "bingroup": "x",
         "hovertemplate": "person=8<br>rating=%{x}<br>count=%{y}<extra></extra>",
         "legendgroup": "",
         "marker": {
          "color": "#1F77B4",
          "pattern": {
           "shape": ""
          }
         },
         "name": "",
         "offsetgroup": "",
         "orientation": "v",
         "showlegend": false,
         "type": "histogram",
         "x": [
          0.0052429881223823305,
          4.308749969333844,
          6.0422144753733225,
          1.1013659689608843,
          -0.326168151087749,
          0.5083936067780229,
          -3.296541282656275,
          5.77006616938983,
          4.481450629417074,
          0.4919449952698416,
          0.30343221892457983,
          -0.1866777929037223,
          -3.4128913748324754,
          -2.5611275500980115,
          -2.6971164533752,
          -4.027214760139931,
          -5.564842074257527,
          -0.23414368678419817,
          -2.8879202731853297,
          0.0724112453645287
         ],
         "xaxis": "x14",
         "yaxis": "y14"
        },
        {
         "alignmentgroup": "True",
         "bingroup": "x",
         "hovertemplate": "person=9<br>rating=%{x}<br>count=%{y}<extra></extra>",
         "legendgroup": "",
         "marker": {
          "color": "#1F77B4",
          "pattern": {
           "shape": ""
          }
         },
         "name": "",
         "offsetgroup": "",
         "orientation": "v",
         "showlegend": false,
         "type": "histogram",
         "x": [
          -1.027005393392636,
          1.5344809276362574,
          -2.423660529996158,
          -0.3553783887009884,
          1.70925004396083,
          -0.5461134751375135,
          -4.544382352510484,
          2.8305361862761806,
          1.3367062167813337,
          -1.7949127401065195,
          2.693265971682901,
          -0.605858572742794,
          0.4213325811458412,
          -3.399225945809307,
          -3.26599822307562,
          -1.4716767821137764,
          -1.1809190756010097,
          0.5218184339368109,
          2.7702005200176125,
          -1.8794956666264453
         ],
         "xaxis": "x15",
         "yaxis": "y15"
        },
        {
         "alignmentgroup": "True",
         "bingroup": "x",
         "hovertemplate": "person=10<br>rating=%{x}<br>count=%{y}<extra></extra>",
         "legendgroup": "",
         "marker": {
          "color": "#1F77B4",
          "pattern": {
           "shape": ""
          }
         },
         "name": "",
         "offsetgroup": "",
         "orientation": "v",
         "showlegend": false,
         "type": "histogram",
         "x": [
          -1.0914772535851625,
          0.9467726097124246,
          1.9011481436658917,
          -0.6292886001552245,
          -1.270405421074431,
          0.8946104940053646,
          -3.5777790726935095,
          1.424425188897067,
          5.564931556916411,
          0.3120426058684318,
          -1.371025966247282,
          1.7381717449659047,
          -3.965661603044232,
          -0.6676963996676334,
          -2.013473019822925,
          -0.8802688497523282,
          1.792139402249465,
          4.715323441086378,
          3.512028793354042,
          -3.4073222697358125
         ],
         "xaxis": "x6",
         "yaxis": "y6"
        },
        {
         "alignmentgroup": "True",
         "bingroup": "x",
         "hovertemplate": "person=11<br>rating=%{x}<br>count=%{y}<extra></extra>",
         "legendgroup": "",
         "marker": {
          "color": "#1F77B4",
          "pattern": {
           "shape": ""
          }
         },
         "name": "",
         "offsetgroup": "",
         "orientation": "v",
         "showlegend": false,
         "type": "histogram",
         "x": [
          -2.6344432854606485,
          1.7643678500021478,
          -1.5660021754145372,
          -4.600773667567981,
          -2.2384207656684145,
          -0.9463919371836209,
          -4.539975727595657,
          0.3371029341691145,
          0.6557467838746824,
          1.8104026311779065,
          0.3674054534128881,
          1.1686150723826132,
          0.30834237611691373,
          1.6573820197551712,
          -0.7248939631162972,
          -1.7910674358230203,
          0.3383513820465308,
          -0.8651041544587561,
          4.126273354452129,
          -2.558835305742086
         ],
         "xaxis": "x7",
         "yaxis": "y7"
        },
        {
         "alignmentgroup": "True",
         "bingroup": "x",
         "hovertemplate": "person=12<br>rating=%{x}<br>count=%{y}<extra></extra>",
         "legendgroup": "",
         "marker": {
          "color": "#1F77B4",
          "pattern": {
           "shape": ""
          }
         },
         "name": "",
         "offsetgroup": "",
         "orientation": "v",
         "showlegend": false,
         "type": "histogram",
         "x": [
          -0.3449587376872799,
          1.4298272056760668,
          -1.3930545166694301,
          -0.6553716153217721,
          -0.24110547991002174,
          0.04460270800125277,
          6.0708409471005895,
          -0.18170678884082392,
          0.18655756634123494,
          -1.978493646291386,
          -0.27587288713043584,
          -0.38783852263548135,
          0.9067136702549228,
          -2.199593390663925,
          -3.0394465651550786,
          0.31295020531547024,
          4.290945815214999,
          -2.0874965171605524,
          -2.8079076108374776,
          -3.874613934214066
         ],
         "xaxis": "x8",
         "yaxis": "y8"
        },
        {
         "alignmentgroup": "True",
         "bingroup": "x",
         "hovertemplate": "person=13<br>rating=%{x}<br>count=%{y}<extra></extra>",
         "legendgroup": "",
         "marker": {
          "color": "#1F77B4",
          "pattern": {
           "shape": ""
          }
         },
         "name": "",
         "offsetgroup": "",
         "orientation": "v",
         "showlegend": false,
         "type": "histogram",
         "x": [
          -0.5180428663820558,
          1.9257946152809016,
          1.271965899546386,
          -3.5553658393657726,
          -0.717330110275189,
          -1.0823159953002621,
          4.425561615121025,
          1.2345770652099977,
          3.1400288100648446,
          -0.41799294580658675,
          -0.19039554952084065,
          -0.20691225985482745,
          1.5281998401462058,
          -1.1547020586023173,
          -0.7481804933547339,
          -3.065772729477217,
          2.743291466514034,
          -0.7936849313135081,
          5.6269792967888534,
          0.6764926183459434
         ],
         "xaxis": "x9",
         "yaxis": "y9"
        },
        {
         "alignmentgroup": "True",
         "bingroup": "x",
         "hovertemplate": "person=14<br>rating=%{x}<br>count=%{y}<extra></extra>",
         "legendgroup": "",
         "marker": {
          "color": "#1F77B4",
          "pattern": {
           "shape": ""
          }
         },
         "name": "",
         "offsetgroup": "",
         "orientation": "v",
         "showlegend": false,
         "type": "histogram",
         "x": [
          -2.1381860984885583,
          2.8955526759689336,
          2.4443171671191815,
          -4.489858360553617,
          1.0246959212506213,
          -2.5007451928523907,
          2.9566875821085334,
          2.174471806571029,
          1.7050550327862821,
          -0.6849740465238456,
          -5.819841475727939,
          0.775775262605885,
          1.7060707297987778,
          -1.3710941622813733,
          1.498016824236326,
          -1.266595600177771,
          -3.210987140352304,
          -0.11415161693092346,
          -1.7154797061729254,
          2.5737949334076258
         ],
         "xaxis": "x10",
         "yaxis": "y10"
        },
        {
         "alignmentgroup": "True",
         "bingroup": "x",
         "hovertemplate": "person=15<br>rating=%{x}<br>count=%{y}<extra></extra>",
         "legendgroup": "",
         "marker": {
          "color": "#1F77B4",
          "pattern": {
           "shape": ""
          }
         },
         "name": "",
         "offsetgroup": "",
         "orientation": "v",
         "showlegend": false,
         "type": "histogram",
         "x": [
          0.14574818218676366,
          -0.06758434640582911,
          3.2444852548103613,
          2.1905965918405785,
          0.4218320021140206,
          -0.1603207732161594,
          -1.4502662231094936,
          3.6493164733604466,
          -1.8234340827545814,
          -1.2237526010516673,
          -5.153874748965519,
          -1.9997791246852923,
          -3.1442486807621153,
          -0.27805189465085256,
          -1.370962435867584,
          1.1844842392090766,
          -4.636552758205731,
          -1.3315212107393013,
          4.6514747521759645,
          1.7468433276302955
         ],
         "xaxis": "x",
         "yaxis": "y"
        },
        {
         "alignmentgroup": "True",
         "bingroup": "x",
         "hovertemplate": "person=16<br>rating=%{x}<br>count=%{y}<extra></extra>",
         "legendgroup": "",
         "marker": {
          "color": "#1F77B4",
          "pattern": {
           "shape": ""
          }
         },
         "name": "",
         "offsetgroup": "",
         "orientation": "v",
         "showlegend": false,
         "type": "histogram",
         "x": [
          2.097939251950308,
          -1.1149354970703396,
          -1.6830587097897376,
          0.2044565582547716,
          1.1094642375610062,
          -0.3425548430107682,
          -1.4371592476897077,
          3.2626111412339487,
          -4.824680381527036,
          -0.8640347478737976,
          2.7144900883305465,
          3.0144893812725555,
          1.999829185656701,
          0.28964363063164766,
          -2.1070096281859776,
          -4.1906824898943125,
          13.352105412799007,
          4.385946105007413,
          6.169886764277221,
          -0.5680110462309887
         ],
         "xaxis": "x2",
         "yaxis": "y2"
        },
        {
         "alignmentgroup": "True",
         "bingroup": "x",
         "hovertemplate": "person=17<br>rating=%{x}<br>count=%{y}<extra></extra>",
         "legendgroup": "",
         "marker": {
          "color": "#1F77B4",
          "pattern": {
           "shape": ""
          }
         },
         "name": "",
         "offsetgroup": "",
         "orientation": "v",
         "showlegend": false,
         "type": "histogram",
         "x": [
          -2.472781631477512,
          -0.2967298558362491,
          -0.6563725375490819,
          0.578875655732904,
          -2.8708014187035573,
          -2.753712597080509,
          -1.0026120010802664,
          3.220993842924241,
          -1.3113188349735359,
          -0.30188373658184553,
          -3.327882470031282,
          -0.9850070305931983,
          0.5028068918701385,
          -1.1785979966611453,
          0.7021658389424084,
          -0.38775677482491844,
          0.5728277882473428,
          -3.058933651611114,
          5.036537681598493,
          -3.63073452976596
         ],
         "xaxis": "x3",
         "yaxis": "y3"
        },
        {
         "alignmentgroup": "True",
         "bingroup": "x",
         "hovertemplate": "person=18<br>rating=%{x}<br>count=%{y}<extra></extra>",
         "legendgroup": "",
         "marker": {
          "color": "#1F77B4",
          "pattern": {
           "shape": ""
          }
         },
         "name": "",
         "offsetgroup": "",
         "orientation": "v",
         "showlegend": false,
         "type": "histogram",
         "x": [
          1.4078379194282822,
          2.8963840699559573,
          4.777096374232929,
          -6.6860643685055585,
          2.5875740752746816,
          0.8473341414057766,
          -8.690436742919822,
          -0.7168898793363416,
          2.074730323591644,
          0.49016500664868734,
          -2.7665863354509783,
          0.7047765908397585,
          -3.5836663218411173,
          -1.0705556276981285,
          -0.6919351533969654,
          -1.069213917474125,
          -7.3607629141750825,
          3.546980690719331,
          2.61196793931421,
          1.8721654699789867
         ],
         "xaxis": "x4",
         "yaxis": "y4"
        },
        {
         "alignmentgroup": "True",
         "bingroup": "x",
         "hovertemplate": "person=19<br>rating=%{x}<br>count=%{y}<extra></extra>",
         "legendgroup": "",
         "marker": {
          "color": "#1F77B4",
          "pattern": {
           "shape": ""
          }
         },
         "name": "",
         "offsetgroup": "",
         "orientation": "v",
         "showlegend": false,
         "type": "histogram",
         "x": [
          -1.9956424542094733,
          -3.175691635654429,
          1.8998444904198495,
          7.3505983842337175,
          0.7676446205307201,
          -0.8343161307148644,
          -7.163633828199121,
          1.150511343918633,
          -1.127732162656802,
          -2.132437586711367,
          0.6769370760457898,
          0.8326743348619478,
          0.5613713366584818,
          -0.304537799641206,
          -1.8558989950648497,
          -1.3430503880906437,
          7.901720242096209,
          0.9162505954102782,
          2.812583837511935,
          -0.4029540807416414
         ],
         "xaxis": "x5",
         "yaxis": "y5"
        }
       ],
       "layout": {
        "annotations": [
         {
          "font": {},
          "showarrow": false,
          "text": "person=15",
          "x": 0.09200000000000001,
          "xanchor": "center",
          "xref": "paper",
          "y": 0.1975,
          "yanchor": "bottom",
          "yref": "paper"
         },
         {
          "font": {},
          "showarrow": false,
          "text": "person=16",
          "x": 0.29600000000000004,
          "xanchor": "center",
          "xref": "paper",
          "y": 0.1975,
          "yanchor": "bottom",
          "yref": "paper"
         },
         {
          "font": {},
          "showarrow": false,
          "text": "person=17",
          "x": 0.5,
          "xanchor": "center",
          "xref": "paper",
          "y": 0.1975,
          "yanchor": "bottom",
          "yref": "paper"
         },
         {
          "font": {},
          "showarrow": false,
          "text": "person=18",
          "x": 0.7040000000000002,
          "xanchor": "center",
          "xref": "paper",
          "y": 0.1975,
          "yanchor": "bottom",
          "yref": "paper"
         },
         {
          "font": {},
          "showarrow": false,
          "text": "person=19",
          "x": 0.908,
          "xanchor": "center",
          "xref": "paper",
          "y": 0.1975,
          "yanchor": "bottom",
          "yref": "paper"
         },
         {
          "font": {},
          "showarrow": false,
          "text": "person=10",
          "x": 0.09200000000000001,
          "xanchor": "center",
          "xref": "paper",
          "y": 0.465,
          "yanchor": "bottom",
          "yref": "paper"
         },
         {
          "font": {},
          "showarrow": false,
          "text": "person=11",
          "x": 0.29600000000000004,
          "xanchor": "center",
          "xref": "paper",
          "y": 0.465,
          "yanchor": "bottom",
          "yref": "paper"
         },
         {
          "font": {},
          "showarrow": false,
          "text": "person=12",
          "x": 0.5,
          "xanchor": "center",
          "xref": "paper",
          "y": 0.465,
          "yanchor": "bottom",
          "yref": "paper"
         },
         {
          "font": {},
          "showarrow": false,
          "text": "person=13",
          "x": 0.7040000000000002,
          "xanchor": "center",
          "xref": "paper",
          "y": 0.465,
          "yanchor": "bottom",
          "yref": "paper"
         },
         {
          "font": {},
          "showarrow": false,
          "text": "person=14",
          "x": 0.908,
          "xanchor": "center",
          "xref": "paper",
          "y": 0.465,
          "yanchor": "bottom",
          "yref": "paper"
         },
         {
          "font": {},
          "showarrow": false,
          "text": "person=5",
          "x": 0.09200000000000001,
          "xanchor": "center",
          "xref": "paper",
          "y": 0.7325,
          "yanchor": "bottom",
          "yref": "paper"
         },
         {
          "font": {},
          "showarrow": false,
          "text": "person=6",
          "x": 0.29600000000000004,
          "xanchor": "center",
          "xref": "paper",
          "y": 0.7325,
          "yanchor": "bottom",
          "yref": "paper"
         },
         {
          "font": {},
          "showarrow": false,
          "text": "person=7",
          "x": 0.5,
          "xanchor": "center",
          "xref": "paper",
          "y": 0.7325,
          "yanchor": "bottom",
          "yref": "paper"
         },
         {
          "font": {},
          "showarrow": false,
          "text": "person=8",
          "x": 0.7040000000000002,
          "xanchor": "center",
          "xref": "paper",
          "y": 0.7325,
          "yanchor": "bottom",
          "yref": "paper"
         },
         {
          "font": {},
          "showarrow": false,
          "text": "person=9",
          "x": 0.908,
          "xanchor": "center",
          "xref": "paper",
          "y": 0.7325,
          "yanchor": "bottom",
          "yref": "paper"
         },
         {
          "font": {},
          "showarrow": false,
          "text": "person=0",
          "x": 0.09200000000000001,
          "xanchor": "center",
          "xref": "paper",
          "y": 1,
          "yanchor": "bottom",
          "yref": "paper"
         },
         {
          "font": {},
          "showarrow": false,
          "text": "person=1",
          "x": 0.29600000000000004,
          "xanchor": "center",
          "xref": "paper",
          "y": 1,
          "yanchor": "bottom",
          "yref": "paper"
         },
         {
          "font": {},
          "showarrow": false,
          "text": "person=2",
          "x": 0.5,
          "xanchor": "center",
          "xref": "paper",
          "y": 1,
          "yanchor": "bottom",
          "yref": "paper"
         },
         {
          "font": {},
          "showarrow": false,
          "text": "person=3",
          "x": 0.7040000000000002,
          "xanchor": "center",
          "xref": "paper",
          "y": 1,
          "yanchor": "bottom",
          "yref": "paper"
         },
         {
          "font": {},
          "showarrow": false,
          "text": "person=4",
          "x": 0.908,
          "xanchor": "center",
          "xref": "paper",
          "y": 1,
          "yanchor": "bottom",
          "yref": "paper"
         }
        ],
        "barmode": "relative",
        "height": 600,
        "legend": {
         "tracegroupgap": 0
        },
        "template": {
         "data": {
          "bar": [
           {
            "error_x": {
             "color": "rgb(36,36,36)"
            },
            "error_y": {
             "color": "rgb(36,36,36)"
            },
            "marker": {
             "line": {
              "color": "white",
              "width": 0.5
             },
             "pattern": {
              "fillmode": "overlay",
              "size": 10,
              "solidity": 0.2
             }
            },
            "type": "bar"
           }
          ],
          "barpolar": [
           {
            "marker": {
             "line": {
              "color": "white",
              "width": 0.5
             },
             "pattern": {
              "fillmode": "overlay",
              "size": 10,
              "solidity": 0.2
             }
            },
            "type": "barpolar"
           }
          ],
          "carpet": [
           {
            "aaxis": {
             "endlinecolor": "rgb(36,36,36)",
             "gridcolor": "white",
             "linecolor": "white",
             "minorgridcolor": "white",
             "startlinecolor": "rgb(36,36,36)"
            },
            "baxis": {
             "endlinecolor": "rgb(36,36,36)",
             "gridcolor": "white",
             "linecolor": "white",
             "minorgridcolor": "white",
             "startlinecolor": "rgb(36,36,36)"
            },
            "type": "carpet"
           }
          ],
          "choropleth": [
           {
            "colorbar": {
             "outlinewidth": 1,
             "tickcolor": "rgb(36,36,36)",
             "ticks": "outside"
            },
            "type": "choropleth"
           }
          ],
          "contour": [
           {
            "colorbar": {
             "outlinewidth": 1,
             "tickcolor": "rgb(36,36,36)",
             "ticks": "outside"
            },
            "colorscale": [
             [
              0,
              "#440154"
             ],
             [
              0.1111111111111111,
              "#482878"
             ],
             [
              0.2222222222222222,
              "#3e4989"
             ],
             [
              0.3333333333333333,
              "#31688e"
             ],
             [
              0.4444444444444444,
              "#26828e"
             ],
             [
              0.5555555555555556,
              "#1f9e89"
             ],
             [
              0.6666666666666666,
              "#35b779"
             ],
             [
              0.7777777777777778,
              "#6ece58"
             ],
             [
              0.8888888888888888,
              "#b5de2b"
             ],
             [
              1,
              "#fde725"
             ]
            ],
            "type": "contour"
           }
          ],
          "contourcarpet": [
           {
            "colorbar": {
             "outlinewidth": 1,
             "tickcolor": "rgb(36,36,36)",
             "ticks": "outside"
            },
            "type": "contourcarpet"
           }
          ],
          "heatmap": [
           {
            "colorbar": {
             "outlinewidth": 1,
             "tickcolor": "rgb(36,36,36)",
             "ticks": "outside"
            },
            "colorscale": [
             [
              0,
              "#440154"
             ],
             [
              0.1111111111111111,
              "#482878"
             ],
             [
              0.2222222222222222,
              "#3e4989"
             ],
             [
              0.3333333333333333,
              "#31688e"
             ],
             [
              0.4444444444444444,
              "#26828e"
             ],
             [
              0.5555555555555556,
              "#1f9e89"
             ],
             [
              0.6666666666666666,
              "#35b779"
             ],
             [
              0.7777777777777778,
              "#6ece58"
             ],
             [
              0.8888888888888888,
              "#b5de2b"
             ],
             [
              1,
              "#fde725"
             ]
            ],
            "type": "heatmap"
           }
          ],
          "heatmapgl": [
           {
            "colorbar": {
             "outlinewidth": 1,
             "tickcolor": "rgb(36,36,36)",
             "ticks": "outside"
            },
            "colorscale": [
             [
              0,
              "#440154"
             ],
             [
              0.1111111111111111,
              "#482878"
             ],
             [
              0.2222222222222222,
              "#3e4989"
             ],
             [
              0.3333333333333333,
              "#31688e"
             ],
             [
              0.4444444444444444,
              "#26828e"
             ],
             [
              0.5555555555555556,
              "#1f9e89"
             ],
             [
              0.6666666666666666,
              "#35b779"
             ],
             [
              0.7777777777777778,
              "#6ece58"
             ],
             [
              0.8888888888888888,
              "#b5de2b"
             ],
             [
              1,
              "#fde725"
             ]
            ],
            "type": "heatmapgl"
           }
          ],
          "histogram": [
           {
            "marker": {
             "line": {
              "color": "white",
              "width": 0.6
             }
            },
            "type": "histogram"
           }
          ],
          "histogram2d": [
           {
            "colorbar": {
             "outlinewidth": 1,
             "tickcolor": "rgb(36,36,36)",
             "ticks": "outside"
            },
            "colorscale": [
             [
              0,
              "#440154"
             ],
             [
              0.1111111111111111,
              "#482878"
             ],
             [
              0.2222222222222222,
              "#3e4989"
             ],
             [
              0.3333333333333333,
              "#31688e"
             ],
             [
              0.4444444444444444,
              "#26828e"
             ],
             [
              0.5555555555555556,
              "#1f9e89"
             ],
             [
              0.6666666666666666,
              "#35b779"
             ],
             [
              0.7777777777777778,
              "#6ece58"
             ],
             [
              0.8888888888888888,
              "#b5de2b"
             ],
             [
              1,
              "#fde725"
             ]
            ],
            "type": "histogram2d"
           }
          ],
          "histogram2dcontour": [
           {
            "colorbar": {
             "outlinewidth": 1,
             "tickcolor": "rgb(36,36,36)",
             "ticks": "outside"
            },
            "colorscale": [
             [
              0,
              "#440154"
             ],
             [
              0.1111111111111111,
              "#482878"
             ],
             [
              0.2222222222222222,
              "#3e4989"
             ],
             [
              0.3333333333333333,
              "#31688e"
             ],
             [
              0.4444444444444444,
              "#26828e"
             ],
             [
              0.5555555555555556,
              "#1f9e89"
             ],
             [
              0.6666666666666666,
              "#35b779"
             ],
             [
              0.7777777777777778,
              "#6ece58"
             ],
             [
              0.8888888888888888,
              "#b5de2b"
             ],
             [
              1,
              "#fde725"
             ]
            ],
            "type": "histogram2dcontour"
           }
          ],
          "mesh3d": [
           {
            "colorbar": {
             "outlinewidth": 1,
             "tickcolor": "rgb(36,36,36)",
             "ticks": "outside"
            },
            "type": "mesh3d"
           }
          ],
          "parcoords": [
           {
            "line": {
             "colorbar": {
              "outlinewidth": 1,
              "tickcolor": "rgb(36,36,36)",
              "ticks": "outside"
             }
            },
            "type": "parcoords"
           }
          ],
          "pie": [
           {
            "automargin": true,
            "type": "pie"
           }
          ],
          "scatter": [
           {
            "fillpattern": {
             "fillmode": "overlay",
             "size": 10,
             "solidity": 0.2
            },
            "type": "scatter"
           }
          ],
          "scatter3d": [
           {
            "line": {
             "colorbar": {
              "outlinewidth": 1,
              "tickcolor": "rgb(36,36,36)",
              "ticks": "outside"
             }
            },
            "marker": {
             "colorbar": {
              "outlinewidth": 1,
              "tickcolor": "rgb(36,36,36)",
              "ticks": "outside"
             }
            },
            "type": "scatter3d"
           }
          ],
          "scattercarpet": [
           {
            "marker": {
             "colorbar": {
              "outlinewidth": 1,
              "tickcolor": "rgb(36,36,36)",
              "ticks": "outside"
             }
            },
            "type": "scattercarpet"
           }
          ],
          "scattergeo": [
           {
            "marker": {
             "colorbar": {
              "outlinewidth": 1,
              "tickcolor": "rgb(36,36,36)",
              "ticks": "outside"
             }
            },
            "type": "scattergeo"
           }
          ],
          "scattergl": [
           {
            "marker": {
             "colorbar": {
              "outlinewidth": 1,
              "tickcolor": "rgb(36,36,36)",
              "ticks": "outside"
             }
            },
            "type": "scattergl"
           }
          ],
          "scattermapbox": [
           {
            "marker": {
             "colorbar": {
              "outlinewidth": 1,
              "tickcolor": "rgb(36,36,36)",
              "ticks": "outside"
             }
            },
            "type": "scattermapbox"
           }
          ],
          "scatterpolar": [
           {
            "marker": {
             "colorbar": {
              "outlinewidth": 1,
              "tickcolor": "rgb(36,36,36)",
              "ticks": "outside"
             }
            },
            "type": "scatterpolar"
           }
          ],
          "scatterpolargl": [
           {
            "marker": {
             "colorbar": {
              "outlinewidth": 1,
              "tickcolor": "rgb(36,36,36)",
              "ticks": "outside"
             }
            },
            "type": "scatterpolargl"
           }
          ],
          "scatterternary": [
           {
            "marker": {
             "colorbar": {
              "outlinewidth": 1,
              "tickcolor": "rgb(36,36,36)",
              "ticks": "outside"
             }
            },
            "type": "scatterternary"
           }
          ],
          "surface": [
           {
            "colorbar": {
             "outlinewidth": 1,
             "tickcolor": "rgb(36,36,36)",
             "ticks": "outside"
            },
            "colorscale": [
             [
              0,
              "#440154"
             ],
             [
              0.1111111111111111,
              "#482878"
             ],
             [
              0.2222222222222222,
              "#3e4989"
             ],
             [
              0.3333333333333333,
              "#31688e"
             ],
             [
              0.4444444444444444,
              "#26828e"
             ],
             [
              0.5555555555555556,
              "#1f9e89"
             ],
             [
              0.6666666666666666,
              "#35b779"
             ],
             [
              0.7777777777777778,
              "#6ece58"
             ],
             [
              0.8888888888888888,
              "#b5de2b"
             ],
             [
              1,
              "#fde725"
             ]
            ],
            "type": "surface"
           }
          ],
          "table": [
           {
            "cells": {
             "fill": {
              "color": "rgb(237,237,237)"
             },
             "line": {
              "color": "white"
             }
            },
            "header": {
             "fill": {
              "color": "rgb(217,217,217)"
             },
             "line": {
              "color": "white"
             }
            },
            "type": "table"
           }
          ]
         },
         "layout": {
          "annotationdefaults": {
           "arrowhead": 0,
           "arrowwidth": 1
          },
          "autotypenumbers": "strict",
          "coloraxis": {
           "colorbar": {
            "outlinewidth": 1,
            "tickcolor": "rgb(36,36,36)",
            "ticks": "outside"
           }
          },
          "colorscale": {
           "diverging": [
            [
             0,
             "rgb(103,0,31)"
            ],
            [
             0.1,
             "rgb(178,24,43)"
            ],
            [
             0.2,
             "rgb(214,96,77)"
            ],
            [
             0.3,
             "rgb(244,165,130)"
            ],
            [
             0.4,
             "rgb(253,219,199)"
            ],
            [
             0.5,
             "rgb(247,247,247)"
            ],
            [
             0.6,
             "rgb(209,229,240)"
            ],
            [
             0.7,
             "rgb(146,197,222)"
            ],
            [
             0.8,
             "rgb(67,147,195)"
            ],
            [
             0.9,
             "rgb(33,102,172)"
            ],
            [
             1,
             "rgb(5,48,97)"
            ]
           ],
           "sequential": [
            [
             0,
             "#440154"
            ],
            [
             0.1111111111111111,
             "#482878"
            ],
            [
             0.2222222222222222,
             "#3e4989"
            ],
            [
             0.3333333333333333,
             "#31688e"
            ],
            [
             0.4444444444444444,
             "#26828e"
            ],
            [
             0.5555555555555556,
             "#1f9e89"
            ],
            [
             0.6666666666666666,
             "#35b779"
            ],
            [
             0.7777777777777778,
             "#6ece58"
            ],
            [
             0.8888888888888888,
             "#b5de2b"
            ],
            [
             1,
             "#fde725"
            ]
           ],
           "sequentialminus": [
            [
             0,
             "#440154"
            ],
            [
             0.1111111111111111,
             "#482878"
            ],
            [
             0.2222222222222222,
             "#3e4989"
            ],
            [
             0.3333333333333333,
             "#31688e"
            ],
            [
             0.4444444444444444,
             "#26828e"
            ],
            [
             0.5555555555555556,
             "#1f9e89"
            ],
            [
             0.6666666666666666,
             "#35b779"
            ],
            [
             0.7777777777777778,
             "#6ece58"
            ],
            [
             0.8888888888888888,
             "#b5de2b"
            ],
            [
             1,
             "#fde725"
            ]
           ]
          },
          "colorway": [
           "#1F77B4",
           "#FF7F0E",
           "#2CA02C",
           "#D62728",
           "#9467BD",
           "#8C564B",
           "#E377C2",
           "#7F7F7F",
           "#BCBD22",
           "#17BECF"
          ],
          "font": {
           "color": "rgb(36,36,36)"
          },
          "geo": {
           "bgcolor": "white",
           "lakecolor": "white",
           "landcolor": "white",
           "showlakes": true,
           "showland": true,
           "subunitcolor": "white"
          },
          "hoverlabel": {
           "align": "left"
          },
          "hovermode": "closest",
          "mapbox": {
           "style": "light"
          },
          "paper_bgcolor": "white",
          "plot_bgcolor": "white",
          "polar": {
           "angularaxis": {
            "gridcolor": "rgb(232,232,232)",
            "linecolor": "rgb(36,36,36)",
            "showgrid": false,
            "showline": true,
            "ticks": "outside"
           },
           "bgcolor": "white",
           "radialaxis": {
            "gridcolor": "rgb(232,232,232)",
            "linecolor": "rgb(36,36,36)",
            "showgrid": false,
            "showline": true,
            "ticks": "outside"
           }
          },
          "scene": {
           "xaxis": {
            "backgroundcolor": "white",
            "gridcolor": "rgb(232,232,232)",
            "gridwidth": 2,
            "linecolor": "rgb(36,36,36)",
            "showbackground": true,
            "showgrid": false,
            "showline": true,
            "ticks": "outside",
            "zeroline": false,
            "zerolinecolor": "rgb(36,36,36)"
           },
           "yaxis": {
            "backgroundcolor": "white",
            "gridcolor": "rgb(232,232,232)",
            "gridwidth": 2,
            "linecolor": "rgb(36,36,36)",
            "showbackground": true,
            "showgrid": false,
            "showline": true,
            "ticks": "outside",
            "zeroline": false,
            "zerolinecolor": "rgb(36,36,36)"
           },
           "zaxis": {
            "backgroundcolor": "white",
            "gridcolor": "rgb(232,232,232)",
            "gridwidth": 2,
            "linecolor": "rgb(36,36,36)",
            "showbackground": true,
            "showgrid": false,
            "showline": true,
            "ticks": "outside",
            "zeroline": false,
            "zerolinecolor": "rgb(36,36,36)"
           }
          },
          "shapedefaults": {
           "fillcolor": "black",
           "line": {
            "width": 0
           },
           "opacity": 0.3
          },
          "ternary": {
           "aaxis": {
            "gridcolor": "rgb(232,232,232)",
            "linecolor": "rgb(36,36,36)",
            "showgrid": false,
            "showline": true,
            "ticks": "outside"
           },
           "baxis": {
            "gridcolor": "rgb(232,232,232)",
            "linecolor": "rgb(36,36,36)",
            "showgrid": false,
            "showline": true,
            "ticks": "outside"
           },
           "bgcolor": "white",
           "caxis": {
            "gridcolor": "rgb(232,232,232)",
            "linecolor": "rgb(36,36,36)",
            "showgrid": false,
            "showline": true,
            "ticks": "outside"
           }
          },
          "title": {
           "x": 0.05
          },
          "xaxis": {
           "automargin": true,
           "gridcolor": "rgb(232,232,232)",
           "linecolor": "rgb(36,36,36)",
           "showgrid": false,
           "showline": true,
           "ticks": "outside",
           "title": {
            "standoff": 15
           },
           "zeroline": false,
           "zerolinecolor": "rgb(36,36,36)"
          },
          "yaxis": {
           "automargin": true,
           "gridcolor": "rgb(232,232,232)",
           "linecolor": "rgb(36,36,36)",
           "showgrid": false,
           "showline": true,
           "ticks": "outside",
           "title": {
            "standoff": 15
           },
           "zeroline": false,
           "zerolinecolor": "rgb(36,36,36)"
          }
         }
        },
        "title": {
         "text": "Distribution of ratings given by a selection of people"
        },
        "width": 1000,
        "xaxis": {
         "anchor": "y",
         "domain": [
          0,
          0.18400000000000002
         ],
         "title": {
          "text": "rating"
         }
        },
        "xaxis10": {
         "anchor": "y10",
         "domain": [
          0.8160000000000001,
          1
         ],
         "matches": "x",
         "showticklabels": false
        },
        "xaxis11": {
         "anchor": "y11",
         "domain": [
          0,
          0.18400000000000002
         ],
         "matches": "x",
         "showticklabels": false
        },
        "xaxis12": {
         "anchor": "y12",
         "domain": [
          0.20400000000000001,
          0.388
         ],
         "matches": "x",
         "showticklabels": false
        },
        "xaxis13": {
         "anchor": "y13",
         "domain": [
          0.40800000000000003,
          0.5920000000000001
         ],
         "matches": "x",
         "showticklabels": false
        },
        "xaxis14": {
         "anchor": "y14",
         "domain": [
          0.6120000000000001,
          0.7960000000000002
         ],
         "matches": "x",
         "showticklabels": false
        },
        "xaxis15": {
         "anchor": "y15",
         "domain": [
          0.8160000000000001,
          1
         ],
         "matches": "x",
         "showticklabels": false
        },
        "xaxis16": {
         "anchor": "y16",
         "domain": [
          0,
          0.18400000000000002
         ],
         "matches": "x",
         "showticklabels": false
        },
        "xaxis17": {
         "anchor": "y17",
         "domain": [
          0.20400000000000001,
          0.388
         ],
         "matches": "x",
         "showticklabels": false
        },
        "xaxis18": {
         "anchor": "y18",
         "domain": [
          0.40800000000000003,
          0.5920000000000001
         ],
         "matches": "x",
         "showticklabels": false
        },
        "xaxis19": {
         "anchor": "y19",
         "domain": [
          0.6120000000000001,
          0.7960000000000002
         ],
         "matches": "x",
         "showticklabels": false
        },
        "xaxis2": {
         "anchor": "y2",
         "domain": [
          0.20400000000000001,
          0.388
         ],
         "matches": "x",
         "title": {
          "text": "rating"
         }
        },
        "xaxis20": {
         "anchor": "y20",
         "domain": [
          0.8160000000000001,
          1
         ],
         "matches": "x",
         "showticklabels": false
        },
        "xaxis3": {
         "anchor": "y3",
         "domain": [
          0.40800000000000003,
          0.5920000000000001
         ],
         "matches": "x",
         "title": {
          "text": "rating"
         }
        },
        "xaxis4": {
         "anchor": "y4",
         "domain": [
          0.6120000000000001,
          0.7960000000000002
         ],
         "matches": "x",
         "title": {
          "text": "rating"
         }
        },
        "xaxis5": {
         "anchor": "y5",
         "domain": [
          0.8160000000000001,
          1
         ],
         "matches": "x",
         "title": {
          "text": "rating"
         }
        },
        "xaxis6": {
         "anchor": "y6",
         "domain": [
          0,
          0.18400000000000002
         ],
         "matches": "x",
         "showticklabels": false
        },
        "xaxis7": {
         "anchor": "y7",
         "domain": [
          0.20400000000000001,
          0.388
         ],
         "matches": "x",
         "showticklabels": false
        },
        "xaxis8": {
         "anchor": "y8",
         "domain": [
          0.40800000000000003,
          0.5920000000000001
         ],
         "matches": "x",
         "showticklabels": false
        },
        "xaxis9": {
         "anchor": "y9",
         "domain": [
          0.6120000000000001,
          0.7960000000000002
         ],
         "matches": "x",
         "showticklabels": false
        },
        "yaxis": {
         "anchor": "x",
         "domain": [
          0,
          0.1975
         ],
         "title": {
          "text": "count"
         }
        },
        "yaxis10": {
         "anchor": "x10",
         "domain": [
          0.2675,
          0.465
         ],
         "matches": "y",
         "showticklabels": false
        },
        "yaxis11": {
         "anchor": "x11",
         "domain": [
          0.535,
          0.7325
         ],
         "matches": "y",
         "title": {
          "text": "count"
         }
        },
        "yaxis12": {
         "anchor": "x12",
         "domain": [
          0.535,
          0.7325
         ],
         "matches": "y",
         "showticklabels": false
        },
        "yaxis13": {
         "anchor": "x13",
         "domain": [
          0.535,
          0.7325
         ],
         "matches": "y",
         "showticklabels": false
        },
        "yaxis14": {
         "anchor": "x14",
         "domain": [
          0.535,
          0.7325
         ],
         "matches": "y",
         "showticklabels": false
        },
        "yaxis15": {
         "anchor": "x15",
         "domain": [
          0.535,
          0.7325
         ],
         "matches": "y",
         "showticklabels": false
        },
        "yaxis16": {
         "anchor": "x16",
         "domain": [
          0.8025,
          1
         ],
         "matches": "y",
         "title": {
          "text": "count"
         }
        },
        "yaxis17": {
         "anchor": "x17",
         "domain": [
          0.8025,
          1
         ],
         "matches": "y",
         "showticklabels": false
        },
        "yaxis18": {
         "anchor": "x18",
         "domain": [
          0.8025,
          1
         ],
         "matches": "y",
         "showticklabels": false
        },
        "yaxis19": {
         "anchor": "x19",
         "domain": [
          0.8025,
          1
         ],
         "matches": "y",
         "showticklabels": false
        },
        "yaxis2": {
         "anchor": "x2",
         "domain": [
          0,
          0.1975
         ],
         "matches": "y",
         "showticklabels": false
        },
        "yaxis20": {
         "anchor": "x20",
         "domain": [
          0.8025,
          1
         ],
         "matches": "y",
         "showticklabels": false
        },
        "yaxis3": {
         "anchor": "x3",
         "domain": [
          0,
          0.1975
         ],
         "matches": "y",
         "showticklabels": false
        },
        "yaxis4": {
         "anchor": "x4",
         "domain": [
          0,
          0.1975
         ],
         "matches": "y",
         "showticklabels": false
        },
        "yaxis5": {
         "anchor": "x5",
         "domain": [
          0,
          0.1975
         ],
         "matches": "y",
         "showticklabels": false
        },
        "yaxis6": {
         "anchor": "x6",
         "domain": [
          0.2675,
          0.465
         ],
         "matches": "y",
         "title": {
          "text": "count"
         }
        },
        "yaxis7": {
         "anchor": "x7",
         "domain": [
          0.2675,
          0.465
         ],
         "matches": "y",
         "showticklabels": false
        },
        "yaxis8": {
         "anchor": "x8",
         "domain": [
          0.2675,
          0.465
         ],
         "matches": "y",
         "showticklabels": false
        },
        "yaxis9": {
         "anchor": "x9",
         "domain": [
          0.2675,
          0.465
         ],
         "matches": "y",
         "showticklabels": false
        }
       }
      }
     },
     "metadata": {},
     "output_type": "display_data"
    }
   ],
   "source": [
    "sim_viz.plot_ratings(facet_col='person',\n",
    "                     facets_limit={'var': 'person',\n",
    "                                   'records': 20},\n",
    "                     title='Distribution of ratings given by a selection of people')"
   ]
  },
  {
   "attachments": {},
   "cell_type": "markdown",
   "metadata": {},
   "source": [
    "## Visualising ratings and rankings\n",
    "\n",
    "Again visualising just a selection of people, here we explore the relationship between ratings and rankings. The generative model assumes that each persons's ranking of the chocolates is given by the ordering of the ratings each person implicitly gives to the chocolates on the unobserved latent rating scale. Consequently, The relationship between rankings and ratings is monotonically decreasing, i.e. a higher rating for A than B must lead to a better (i.e. lower index) ranking of A than B.\n",
    "\n",
    "This visualisation is interesting because it also shows us something about how our observation of only the ranking - and not the rating - data limits our information about the relative appeal people find in the chocolates. The rank alone tells us only which chocolates have more appeal than others, but nothing about how much more appeal. There are cases in this visualisation where we can see reasonably large 'jumps' in rating from on chocolate in the ranking to the next, either where a person rates a specific chocolate as having much more or much less appeal than others, or where a person seems to consider a group of chocolates better than another group of chocolates, with a noticeable 'gap' in ratings between the two groups."
   ]
  },
  {
   "cell_type": "code",
   "execution_count": 11,
   "metadata": {},
   "outputs": [
    {
     "data": {
      "application/vnd.plotly.v1+json": {
       "config": {
        "plotlyServerURL": "https://plot.ly"
       },
       "data": [
        {
         "hovertemplate": "choc=0<br>person=0<br>rank=%{x}<br>rating=%{y}<extra></extra>",
         "legendgroup": "0",
         "marker": {
          "color": "#1F77B4",
          "symbol": "circle"
         },
         "mode": "markers",
         "name": "0",
         "orientation": "v",
         "showlegend": true,
         "type": "scatter",
         "x": [
          5
         ],
         "xaxis": "x16",
         "y": [
          3.3164009256636455
         ],
         "yaxis": "y16"
        },
        {
         "hovertemplate": "choc=0<br>person=1<br>rank=%{x}<br>rating=%{y}<extra></extra>",
         "legendgroup": "0",
         "marker": {
          "color": "#1F77B4",
          "symbol": "circle"
         },
         "mode": "markers",
         "name": "0",
         "orientation": "v",
         "showlegend": false,
         "type": "scatter",
         "x": [
          8
         ],
         "xaxis": "x17",
         "y": [
          0.6101628058239191
         ],
         "yaxis": "y17"
        },
        {
         "hovertemplate": "choc=0<br>person=2<br>rank=%{x}<br>rating=%{y}<extra></extra>",
         "legendgroup": "0",
         "marker": {
          "color": "#1F77B4",
          "symbol": "circle"
         },
         "mode": "markers",
         "name": "0",
         "orientation": "v",
         "showlegend": false,
         "type": "scatter",
         "x": [
          11
         ],
         "xaxis": "x18",
         "y": [
          -1.6524305205771435
         ],
         "yaxis": "y18"
        },
        {
         "hovertemplate": "choc=0<br>person=3<br>rank=%{x}<br>rating=%{y}<extra></extra>",
         "legendgroup": "0",
         "marker": {
          "color": "#1F77B4",
          "symbol": "circle"
         },
         "mode": "markers",
         "name": "0",
         "orientation": "v",
         "showlegend": false,
         "type": "scatter",
         "x": [
          8
         ],
         "xaxis": "x19",
         "y": [
          0.8159696583803352
         ],
         "yaxis": "y19"
        },
        {
         "hovertemplate": "choc=0<br>person=4<br>rank=%{x}<br>rating=%{y}<extra></extra>",
         "legendgroup": "0",
         "marker": {
          "color": "#1F77B4",
          "symbol": "circle"
         },
         "mode": "markers",
         "name": "0",
         "orientation": "v",
         "showlegend": false,
         "type": "scatter",
         "x": [
          12
         ],
         "xaxis": "x20",
         "y": [
          -1.027152020587394
         ],
         "yaxis": "y20"
        },
        {
         "hovertemplate": "choc=0<br>person=5<br>rank=%{x}<br>rating=%{y}<extra></extra>",
         "legendgroup": "0",
         "marker": {
          "color": "#1F77B4",
          "symbol": "circle"
         },
         "mode": "markers",
         "name": "0",
         "orientation": "v",
         "showlegend": false,
         "type": "scatter",
         "x": [
          17
         ],
         "xaxis": "x11",
         "y": [
          -1.8030021444968947
         ],
         "yaxis": "y11"
        },
        {
         "hovertemplate": "choc=0<br>person=6<br>rank=%{x}<br>rating=%{y}<extra></extra>",
         "legendgroup": "0",
         "marker": {
          "color": "#1F77B4",
          "symbol": "circle"
         },
         "mode": "markers",
         "name": "0",
         "orientation": "v",
         "showlegend": false,
         "type": "scatter",
         "x": [
          4
         ],
         "xaxis": "x12",
         "y": [
          1.7476655197108268
         ],
         "yaxis": "y12"
        },
        {
         "hovertemplate": "choc=0<br>person=7<br>rank=%{x}<br>rating=%{y}<extra></extra>",
         "legendgroup": "0",
         "marker": {
          "color": "#1F77B4",
          "symbol": "circle"
         },
         "mode": "markers",
         "name": "0",
         "orientation": "v",
         "showlegend": false,
         "type": "scatter",
         "x": [
          1
         ],
         "xaxis": "x13",
         "y": [
          1.4528506838559672
         ],
         "yaxis": "y13"
        },
        {
         "hovertemplate": "choc=0<br>person=8<br>rank=%{x}<br>rating=%{y}<extra></extra>",
         "legendgroup": "0",
         "marker": {
          "color": "#1F77B4",
          "symbol": "circle"
         },
         "mode": "markers",
         "name": "0",
         "orientation": "v",
         "showlegend": false,
         "type": "scatter",
         "x": [
          9
         ],
         "xaxis": "x14",
         "y": [
          0.0052429881223823305
         ],
         "yaxis": "y14"
        },
        {
         "hovertemplate": "choc=0<br>person=9<br>rank=%{x}<br>rating=%{y}<extra></extra>",
         "legendgroup": "0",
         "marker": {
          "color": "#1F77B4",
          "symbol": "circle"
         },
         "mode": "markers",
         "name": "0",
         "orientation": "v",
         "showlegend": false,
         "type": "scatter",
         "x": [
          11
         ],
         "xaxis": "x15",
         "y": [
          -1.027005393392636
         ],
         "yaxis": "y15"
        },
        {
         "hovertemplate": "choc=0<br>person=10<br>rank=%{x}<br>rating=%{y}<extra></extra>",
         "legendgroup": "0",
         "marker": {
          "color": "#1F77B4",
          "symbol": "circle"
         },
         "mode": "markers",
         "name": "0",
         "orientation": "v",
         "showlegend": false,
         "type": "scatter",
         "x": [
          13
         ],
         "xaxis": "x6",
         "y": [
          -1.0914772535851625
         ],
         "yaxis": "y6"
        },
        {
         "hovertemplate": "choc=0<br>person=11<br>rank=%{x}<br>rating=%{y}<extra></extra>",
         "legendgroup": "0",
         "marker": {
          "color": "#1F77B4",
          "symbol": "circle"
         },
         "mode": "markers",
         "name": "0",
         "orientation": "v",
         "showlegend": false,
         "type": "scatter",
         "x": [
          17
         ],
         "xaxis": "x7",
         "y": [
          -2.6344432854606485
         ],
         "yaxis": "y7"
        },
        {
         "hovertemplate": "choc=0<br>person=12<br>rank=%{x}<br>rating=%{y}<extra></extra>",
         "legendgroup": "0",
         "marker": {
          "color": "#1F77B4",
          "symbol": "circle"
         },
         "mode": "markers",
         "name": "0",
         "orientation": "v",
         "showlegend": false,
         "type": "scatter",
         "x": [
          10
         ],
         "xaxis": "x8",
         "y": [
          -0.3449587376872799
         ],
         "yaxis": "y8"
        },
        {
         "hovertemplate": "choc=0<br>person=13<br>rank=%{x}<br>rating=%{y}<extra></extra>",
         "legendgroup": "0",
         "marker": {
          "color": "#1F77B4",
          "symbol": "circle"
         },
         "mode": "markers",
         "name": "0",
         "orientation": "v",
         "showlegend": false,
         "type": "scatter",
         "x": [
          12
         ],
         "xaxis": "x9",
         "y": [
          -0.5180428663820558
         ],
         "yaxis": "y9"
        },
        {
         "hovertemplate": "choc=0<br>person=14<br>rank=%{x}<br>rating=%{y}<extra></extra>",
         "legendgroup": "0",
         "marker": {
          "color": "#1F77B4",
          "symbol": "circle"
         },
         "mode": "markers",
         "name": "0",
         "orientation": "v",
         "showlegend": false,
         "type": "scatter",
         "x": [
          15
         ],
         "xaxis": "x10",
         "y": [
          -2.1381860984885583
         ],
         "yaxis": "y10"
        },
        {
         "hovertemplate": "choc=0<br>person=15<br>rank=%{x}<br>rating=%{y}<extra></extra>",
         "legendgroup": "0",
         "marker": {
          "color": "#1F77B4",
          "symbol": "circle"
         },
         "mode": "markers",
         "name": "0",
         "orientation": "v",
         "showlegend": false,
         "type": "scatter",
         "x": [
          7
         ],
         "xaxis": "x",
         "y": [
          0.14574818218676366
         ],
         "yaxis": "y"
        },
        {
         "hovertemplate": "choc=0<br>person=16<br>rank=%{x}<br>rating=%{y}<extra></extra>",
         "legendgroup": "0",
         "marker": {
          "color": "#1F77B4",
          "symbol": "circle"
         },
         "mode": "markers",
         "name": "0",
         "orientation": "v",
         "showlegend": false,
         "type": "scatter",
         "x": [
          6
         ],
         "xaxis": "x2",
         "y": [
          2.097939251950308
         ],
         "yaxis": "y2"
        },
        {
         "hovertemplate": "choc=0<br>person=17<br>rank=%{x}<br>rating=%{y}<extra></extra>",
         "legendgroup": "0",
         "marker": {
          "color": "#1F77B4",
          "symbol": "circle"
         },
         "mode": "markers",
         "name": "0",
         "orientation": "v",
         "showlegend": false,
         "type": "scatter",
         "x": [
          14
         ],
         "xaxis": "x3",
         "y": [
          -2.472781631477512
         ],
         "yaxis": "y3"
        },
        {
         "hovertemplate": "choc=0<br>person=18<br>rank=%{x}<br>rating=%{y}<extra></extra>",
         "legendgroup": "0",
         "marker": {
          "color": "#1F77B4",
          "symbol": "circle"
         },
         "mode": "markers",
         "name": "0",
         "orientation": "v",
         "showlegend": false,
         "type": "scatter",
         "x": [
          7
         ],
         "xaxis": "x4",
         "y": [
          1.4078379194282822
         ],
         "yaxis": "y4"
        },
        {
         "hovertemplate": "choc=0<br>person=19<br>rank=%{x}<br>rating=%{y}<extra></extra>",
         "legendgroup": "0",
         "marker": {
          "color": "#1F77B4",
          "symbol": "circle"
         },
         "mode": "markers",
         "name": "0",
         "orientation": "v",
         "showlegend": false,
         "type": "scatter",
         "x": [
          16
         ],
         "xaxis": "x5",
         "y": [
          -1.9956424542094733
         ],
         "yaxis": "y5"
        },
        {
         "hovertemplate": "choc=1<br>person=0<br>rank=%{x}<br>rating=%{y}<extra></extra>",
         "legendgroup": "1",
         "marker": {
          "color": "#FF7F0E",
          "symbol": "circle"
         },
         "mode": "markers",
         "name": "1",
         "orientation": "v",
         "showlegend": true,
         "type": "scatter",
         "x": [
          4
         ],
         "xaxis": "x16",
         "y": [
          3.8198648530480424
         ],
         "yaxis": "y16"
        },
        {
         "hovertemplate": "choc=1<br>person=1<br>rank=%{x}<br>rating=%{y}<extra></extra>",
         "legendgroup": "1",
         "marker": {
          "color": "#FF7F0E",
          "symbol": "circle"
         },
         "mode": "markers",
         "name": "1",
         "orientation": "v",
         "showlegend": false,
         "type": "scatter",
         "x": [
          19
         ],
         "xaxis": "x17",
         "y": [
          -5.033043674769222
         ],
         "yaxis": "y17"
        },
        {
         "hovertemplate": "choc=1<br>person=2<br>rank=%{x}<br>rating=%{y}<extra></extra>",
         "legendgroup": "1",
         "marker": {
          "color": "#FF7F0E",
          "symbol": "circle"
         },
         "mode": "markers",
         "name": "1",
         "orientation": "v",
         "showlegend": false,
         "type": "scatter",
         "x": [
          3
         ],
         "xaxis": "x18",
         "y": [
          2.3375088862059146
         ],
         "yaxis": "y18"
        },
        {
         "hovertemplate": "choc=1<br>person=3<br>rank=%{x}<br>rating=%{y}<extra></extra>",
         "legendgroup": "1",
         "marker": {
          "color": "#FF7F0E",
          "symbol": "circle"
         },
         "mode": "markers",
         "name": "1",
         "orientation": "v",
         "showlegend": false,
         "type": "scatter",
         "x": [
          9
         ],
         "xaxis": "x19",
         "y": [
          0.24389609011179858
         ],
         "yaxis": "y19"
        },
        {
         "hovertemplate": "choc=1<br>person=4<br>rank=%{x}<br>rating=%{y}<extra></extra>",
         "legendgroup": "1",
         "marker": {
          "color": "#FF7F0E",
          "symbol": "circle"
         },
         "mode": "markers",
         "name": "1",
         "orientation": "v",
         "showlegend": false,
         "type": "scatter",
         "x": [
          9
         ],
         "xaxis": "x20",
         "y": [
          0.5277116807751977
         ],
         "yaxis": "y20"
        },
        {
         "hovertemplate": "choc=1<br>person=5<br>rank=%{x}<br>rating=%{y}<extra></extra>",
         "legendgroup": "1",
         "marker": {
          "color": "#FF7F0E",
          "symbol": "circle"
         },
         "mode": "markers",
         "name": "1",
         "orientation": "v",
         "showlegend": false,
         "type": "scatter",
         "x": [
          1
         ],
         "xaxis": "x11",
         "y": [
          4.2084768775267225
         ],
         "yaxis": "y11"
        },
        {
         "hovertemplate": "choc=1<br>person=6<br>rank=%{x}<br>rating=%{y}<extra></extra>",
         "legendgroup": "1",
         "marker": {
          "color": "#FF7F0E",
          "symbol": "circle"
         },
         "mode": "markers",
         "name": "1",
         "orientation": "v",
         "showlegend": false,
         "type": "scatter",
         "x": [
          10
         ],
         "xaxis": "x12",
         "y": [
          -0.06363624448702743
         ],
         "yaxis": "y12"
        },
        {
         "hovertemplate": "choc=1<br>person=7<br>rank=%{x}<br>rating=%{y}<extra></extra>",
         "legendgroup": "1",
         "marker": {
          "color": "#FF7F0E",
          "symbol": "circle"
         },
         "mode": "markers",
         "name": "1",
         "orientation": "v",
         "showlegend": false,
         "type": "scatter",
         "x": [
          16
         ],
         "xaxis": "x13",
         "y": [
          -3.7423789604871676
         ],
         "yaxis": "y13"
        },
        {
         "hovertemplate": "choc=1<br>person=8<br>rank=%{x}<br>rating=%{y}<extra></extra>",
         "legendgroup": "1",
         "marker": {
          "color": "#FF7F0E",
          "symbol": "circle"
         },
         "mode": "markers",
         "name": "1",
         "orientation": "v",
         "showlegend": false,
         "type": "scatter",
         "x": [
          3
         ],
         "xaxis": "x14",
         "y": [
          4.308749969333844
         ],
         "yaxis": "y14"
        },
        {
         "hovertemplate": "choc=1<br>person=9<br>rank=%{x}<br>rating=%{y}<extra></extra>",
         "legendgroup": "1",
         "marker": {
          "color": "#FF7F0E",
          "symbol": "circle"
         },
         "mode": "markers",
         "name": "1",
         "orientation": "v",
         "showlegend": false,
         "type": "scatter",
         "x": [
          4
         ],
         "xaxis": "x15",
         "y": [
          1.5344809276362574
         ],
         "yaxis": "y15"
        },
        {
         "hovertemplate": "choc=1<br>person=10<br>rank=%{x}<br>rating=%{y}<extra></extra>",
         "legendgroup": "1",
         "marker": {
          "color": "#FF7F0E",
          "symbol": "circle"
         },
         "mode": "markers",
         "name": "1",
         "orientation": "v",
         "showlegend": false,
         "type": "scatter",
         "x": [
          7
         ],
         "xaxis": "x6",
         "y": [
          0.9467726097124246
         ],
         "yaxis": "y6"
        },
        {
         "hovertemplate": "choc=1<br>person=11<br>rank=%{x}<br>rating=%{y}<extra></extra>",
         "legendgroup": "1",
         "marker": {
          "color": "#FF7F0E",
          "symbol": "circle"
         },
         "mode": "markers",
         "name": "1",
         "orientation": "v",
         "showlegend": false,
         "type": "scatter",
         "x": [
          2
         ],
         "xaxis": "x7",
         "y": [
          1.7643678500021478
         ],
         "yaxis": "y7"
        },
        {
         "hovertemplate": "choc=1<br>person=12<br>rank=%{x}<br>rating=%{y}<extra></extra>",
         "legendgroup": "1",
         "marker": {
          "color": "#FF7F0E",
          "symbol": "circle"
         },
         "mode": "markers",
         "name": "1",
         "orientation": "v",
         "showlegend": false,
         "type": "scatter",
         "x": [
          2
         ],
         "xaxis": "x8",
         "y": [
          1.4298272056760668
         ],
         "yaxis": "y8"
        },
        {
         "hovertemplate": "choc=1<br>person=13<br>rank=%{x}<br>rating=%{y}<extra></extra>",
         "legendgroup": "1",
         "marker": {
          "color": "#FF7F0E",
          "symbol": "circle"
         },
         "mode": "markers",
         "name": "1",
         "orientation": "v",
         "showlegend": false,
         "type": "scatter",
         "x": [
          4
         ],
         "xaxis": "x9",
         "y": [
          1.9257946152809016
         ],
         "yaxis": "y9"
        },
        {
         "hovertemplate": "choc=1<br>person=14<br>rank=%{x}<br>rating=%{y}<extra></extra>",
         "legendgroup": "1",
         "marker": {
          "color": "#FF7F0E",
          "symbol": "circle"
         },
         "mode": "markers",
         "name": "1",
         "orientation": "v",
         "showlegend": false,
         "type": "scatter",
         "x": [
          1
         ],
         "xaxis": "x10",
         "y": [
          2.8955526759689336
         ],
         "yaxis": "y10"
        },
        {
         "hovertemplate": "choc=1<br>person=15<br>rank=%{x}<br>rating=%{y}<extra></extra>",
         "legendgroup": "1",
         "marker": {
          "color": "#FF7F0E",
          "symbol": "circle"
         },
         "mode": "markers",
         "name": "1",
         "orientation": "v",
         "showlegend": false,
         "type": "scatter",
         "x": [
          8
         ],
         "xaxis": "x",
         "y": [
          -0.06758434640582911
         ],
         "yaxis": "y"
        },
        {
         "hovertemplate": "choc=1<br>person=16<br>rank=%{x}<br>rating=%{y}<extra></extra>",
         "legendgroup": "1",
         "marker": {
          "color": "#FF7F0E",
          "symbol": "circle"
         },
         "mode": "markers",
         "name": "1",
         "orientation": "v",
         "showlegend": false,
         "type": "scatter",
         "x": [
          14
         ],
         "xaxis": "x2",
         "y": [
          -1.1149354970703396
         ],
         "yaxis": "y2"
        },
        {
         "hovertemplate": "choc=1<br>person=17<br>rank=%{x}<br>rating=%{y}<extra></extra>",
         "legendgroup": "1",
         "marker": {
          "color": "#FF7F0E",
          "symbol": "circle"
         },
         "mode": "markers",
         "name": "1",
         "orientation": "v",
         "showlegend": false,
         "type": "scatter",
         "x": [
          6
         ],
         "xaxis": "x3",
         "y": [
          -0.2967298558362491
         ],
         "yaxis": "y3"
        },
        {
         "hovertemplate": "choc=1<br>person=18<br>rank=%{x}<br>rating=%{y}<extra></extra>",
         "legendgroup": "1",
         "marker": {
          "color": "#FF7F0E",
          "symbol": "circle"
         },
         "mode": "markers",
         "name": "1",
         "orientation": "v",
         "showlegend": false,
         "type": "scatter",
         "x": [
          2
         ],
         "xaxis": "x4",
         "y": [
          2.8963840699559573
         ],
         "yaxis": "y4"
        },
        {
         "hovertemplate": "choc=1<br>person=19<br>rank=%{x}<br>rating=%{y}<extra></extra>",
         "legendgroup": "1",
         "marker": {
          "color": "#FF7F0E",
          "symbol": "circle"
         },
         "mode": "markers",
         "name": "1",
         "orientation": "v",
         "showlegend": false,
         "type": "scatter",
         "x": [
          18
         ],
         "xaxis": "x5",
         "y": [
          -3.175691635654429
         ],
         "yaxis": "y5"
        },
        {
         "hovertemplate": "choc=2<br>person=0<br>rank=%{x}<br>rating=%{y}<extra></extra>",
         "legendgroup": "2",
         "marker": {
          "color": "#2CA02C",
          "symbol": "circle"
         },
         "mode": "markers",
         "name": "2",
         "orientation": "v",
         "showlegend": true,
         "type": "scatter",
         "x": [
          2
         ],
         "xaxis": "x16",
         "y": [
          4.03376655402756
         ],
         "yaxis": "y16"
        },
        {
         "hovertemplate": "choc=2<br>person=1<br>rank=%{x}<br>rating=%{y}<extra></extra>",
         "legendgroup": "2",
         "marker": {
          "color": "#2CA02C",
          "symbol": "circle"
         },
         "mode": "markers",
         "name": "2",
         "orientation": "v",
         "showlegend": false,
         "type": "scatter",
         "x": [
          1
         ],
         "xaxis": "x17",
         "y": [
          4.32889301162367
         ],
         "yaxis": "y17"
        },
        {
         "hovertemplate": "choc=2<br>person=2<br>rank=%{x}<br>rating=%{y}<extra></extra>",
         "legendgroup": "2",
         "marker": {
          "color": "#2CA02C",
          "symbol": "circle"
         },
         "mode": "markers",
         "name": "2",
         "orientation": "v",
         "showlegend": false,
         "type": "scatter",
         "x": [
          4
         ],
         "xaxis": "x18",
         "y": [
          1.8311204646978827
         ],
         "yaxis": "y18"
        },
        {
         "hovertemplate": "choc=2<br>person=3<br>rank=%{x}<br>rating=%{y}<extra></extra>",
         "legendgroup": "2",
         "marker": {
          "color": "#2CA02C",
          "symbol": "circle"
         },
         "mode": "markers",
         "name": "2",
         "orientation": "v",
         "showlegend": false,
         "type": "scatter",
         "x": [
          2
         ],
         "xaxis": "x19",
         "y": [
          2.7570191705968057
         ],
         "yaxis": "y19"
        },
        {
         "hovertemplate": "choc=2<br>person=4<br>rank=%{x}<br>rating=%{y}<extra></extra>",
         "legendgroup": "2",
         "marker": {
          "color": "#2CA02C",
          "symbol": "circle"
         },
         "mode": "markers",
         "name": "2",
         "orientation": "v",
         "showlegend": false,
         "type": "scatter",
         "x": [
          4
         ],
         "xaxis": "x20",
         "y": [
          3.406424190431035
         ],
         "yaxis": "y20"
        },
        {
         "hovertemplate": "choc=2<br>person=5<br>rank=%{x}<br>rating=%{y}<extra></extra>",
         "legendgroup": "2",
         "marker": {
          "color": "#2CA02C",
          "symbol": "circle"
         },
         "mode": "markers",
         "name": "2",
         "orientation": "v",
         "showlegend": false,
         "type": "scatter",
         "x": [
          5
         ],
         "xaxis": "x11",
         "y": [
          1.0348587771456286
         ],
         "yaxis": "y11"
        },
        {
         "hovertemplate": "choc=2<br>person=6<br>rank=%{x}<br>rating=%{y}<extra></extra>",
         "legendgroup": "2",
         "marker": {
          "color": "#2CA02C",
          "symbol": "circle"
         },
         "mode": "markers",
         "name": "2",
         "orientation": "v",
         "showlegend": false,
         "type": "scatter",
         "x": [
          9
         ],
         "xaxis": "x12",
         "y": [
          0.6006974644343179
         ],
         "yaxis": "y12"
        },
        {
         "hovertemplate": "choc=2<br>person=7<br>rank=%{x}<br>rating=%{y}<extra></extra>",
         "legendgroup": "2",
         "marker": {
          "color": "#2CA02C",
          "symbol": "circle"
         },
         "mode": "markers",
         "name": "2",
         "orientation": "v",
         "showlegend": false,
         "type": "scatter",
         "x": [
          0
         ],
         "xaxis": "x13",
         "y": [
          4.2588205885026085
         ],
         "yaxis": "y13"
        },
        {
         "hovertemplate": "choc=2<br>person=8<br>rank=%{x}<br>rating=%{y}<extra></extra>",
         "legendgroup": "2",
         "marker": {
          "color": "#2CA02C",
          "symbol": "circle"
         },
         "mode": "markers",
         "name": "2",
         "orientation": "v",
         "showlegend": false,
         "type": "scatter",
         "x": [
          0
         ],
         "xaxis": "x14",
         "y": [
          6.0422144753733225
         ],
         "yaxis": "y14"
        },
        {
         "hovertemplate": "choc=2<br>person=9<br>rank=%{x}<br>rating=%{y}<extra></extra>",
         "legendgroup": "2",
         "marker": {
          "color": "#2CA02C",
          "symbol": "circle"
         },
         "mode": "markers",
         "name": "2",
         "orientation": "v",
         "showlegend": false,
         "type": "scatter",
         "x": [
          16
         ],
         "xaxis": "x15",
         "y": [
          -2.423660529996158
         ],
         "yaxis": "y15"
        },
        {
         "hovertemplate": "choc=2<br>person=10<br>rank=%{x}<br>rating=%{y}<extra></extra>",
         "legendgroup": "2",
         "marker": {
          "color": "#2CA02C",
          "symbol": "circle"
         },
         "mode": "markers",
         "name": "2",
         "orientation": "v",
         "showlegend": false,
         "type": "scatter",
         "x": [
          3
         ],
         "xaxis": "x6",
         "y": [
          1.9011481436658917
         ],
         "yaxis": "y6"
        },
        {
         "hovertemplate": "choc=2<br>person=11<br>rank=%{x}<br>rating=%{y}<extra></extra>",
         "legendgroup": "2",
         "marker": {
          "color": "#2CA02C",
          "symbol": "circle"
         },
         "mode": "markers",
         "name": "2",
         "orientation": "v",
         "showlegend": false,
         "type": "scatter",
         "x": [
          13
         ],
         "xaxis": "x7",
         "y": [
          -1.5660021754145372
         ],
         "yaxis": "y7"
        },
        {
         "hovertemplate": "choc=2<br>person=12<br>rank=%{x}<br>rating=%{y}<extra></extra>",
         "legendgroup": "2",
         "marker": {
          "color": "#2CA02C",
          "symbol": "circle"
         },
         "mode": "markers",
         "name": "2",
         "orientation": "v",
         "showlegend": false,
         "type": "scatter",
         "x": [
          13
         ],
         "xaxis": "x8",
         "y": [
          -1.3930545166694301
         ],
         "yaxis": "y8"
        },
        {
         "hovertemplate": "choc=2<br>person=13<br>rank=%{x}<br>rating=%{y}<extra></extra>",
         "legendgroup": "2",
         "marker": {
          "color": "#2CA02C",
          "symbol": "circle"
         },
         "mode": "markers",
         "name": "2",
         "orientation": "v",
         "showlegend": false,
         "type": "scatter",
         "x": [
          6
         ],
         "xaxis": "x9",
         "y": [
          1.271965899546386
         ],
         "yaxis": "y9"
        },
        {
         "hovertemplate": "choc=2<br>person=14<br>rank=%{x}<br>rating=%{y}<extra></extra>",
         "legendgroup": "2",
         "marker": {
          "color": "#2CA02C",
          "symbol": "circle"
         },
         "mode": "markers",
         "name": "2",
         "orientation": "v",
         "showlegend": false,
         "type": "scatter",
         "x": [
          3
         ],
         "xaxis": "x10",
         "y": [
          2.4443171671191815
         ],
         "yaxis": "y10"
        },
        {
         "hovertemplate": "choc=2<br>person=15<br>rank=%{x}<br>rating=%{y}<extra></extra>",
         "legendgroup": "2",
         "marker": {
          "color": "#2CA02C",
          "symbol": "circle"
         },
         "mode": "markers",
         "name": "2",
         "orientation": "v",
         "showlegend": false,
         "type": "scatter",
         "x": [
          2
         ],
         "xaxis": "x",
         "y": [
          3.2444852548103613
         ],
         "yaxis": "y"
        },
        {
         "hovertemplate": "choc=2<br>person=16<br>rank=%{x}<br>rating=%{y}<extra></extra>",
         "legendgroup": "2",
         "marker": {
          "color": "#2CA02C",
          "symbol": "circle"
         },
         "mode": "markers",
         "name": "2",
         "orientation": "v",
         "showlegend": false,
         "type": "scatter",
         "x": [
          16
         ],
         "xaxis": "x2",
         "y": [
          -1.6830587097897376
         ],
         "yaxis": "y2"
        },
        {
         "hovertemplate": "choc=2<br>person=17<br>rank=%{x}<br>rating=%{y}<extra></extra>",
         "legendgroup": "2",
         "marker": {
          "color": "#2CA02C",
          "symbol": "circle"
         },
         "mode": "markers",
         "name": "2",
         "orientation": "v",
         "showlegend": false,
         "type": "scatter",
         "x": [
          9
         ],
         "xaxis": "x3",
         "y": [
          -0.6563725375490819
         ],
         "yaxis": "y3"
        },
        {
         "hovertemplate": "choc=2<br>person=18<br>rank=%{x}<br>rating=%{y}<extra></extra>",
         "legendgroup": "2",
         "marker": {
          "color": "#2CA02C",
          "symbol": "circle"
         },
         "mode": "markers",
         "name": "2",
         "orientation": "v",
         "showlegend": false,
         "type": "scatter",
         "x": [
          0
         ],
         "xaxis": "x4",
         "y": [
          4.777096374232929
         ],
         "yaxis": "y4"
        },
        {
         "hovertemplate": "choc=2<br>person=19<br>rank=%{x}<br>rating=%{y}<extra></extra>",
         "legendgroup": "2",
         "marker": {
          "color": "#2CA02C",
          "symbol": "circle"
         },
         "mode": "markers",
         "name": "2",
         "orientation": "v",
         "showlegend": false,
         "type": "scatter",
         "x": [
          3
         ],
         "xaxis": "x5",
         "y": [
          1.8998444904198495
         ],
         "yaxis": "y5"
        },
        {
         "hovertemplate": "choc=3<br>person=0<br>rank=%{x}<br>rating=%{y}<extra></extra>",
         "legendgroup": "3",
         "marker": {
          "color": "#D62728",
          "symbol": "circle"
         },
         "mode": "markers",
         "name": "3",
         "orientation": "v",
         "showlegend": true,
         "type": "scatter",
         "x": [
          18
         ],
         "xaxis": "x16",
         "y": [
          -3.3443255090616617
         ],
         "yaxis": "y16"
        },
        {
         "hovertemplate": "choc=3<br>person=1<br>rank=%{x}<br>rating=%{y}<extra></extra>",
         "legendgroup": "3",
         "marker": {
          "color": "#D62728",
          "symbol": "circle"
         },
         "mode": "markers",
         "name": "3",
         "orientation": "v",
         "showlegend": false,
         "type": "scatter",
         "x": [
          3
         ],
         "xaxis": "x17",
         "y": [
          2.052572092608621
         ],
         "yaxis": "y17"
        },
        {
         "hovertemplate": "choc=3<br>person=2<br>rank=%{x}<br>rating=%{y}<extra></extra>",
         "legendgroup": "3",
         "marker": {
          "color": "#D62728",
          "symbol": "circle"
         },
         "mode": "markers",
         "name": "3",
         "orientation": "v",
         "showlegend": false,
         "type": "scatter",
         "x": [
          17
         ],
         "xaxis": "x18",
         "y": [
          -4.106357206198764
         ],
         "yaxis": "y18"
        },
        {
         "hovertemplate": "choc=3<br>person=3<br>rank=%{x}<br>rating=%{y}<extra></extra>",
         "legendgroup": "3",
         "marker": {
          "color": "#D62728",
          "symbol": "circle"
         },
         "mode": "markers",
         "name": "3",
         "orientation": "v",
         "showlegend": false,
         "type": "scatter",
         "x": [
          17
         ],
         "xaxis": "x19",
         "y": [
          -2.3250974571187557
         ],
         "yaxis": "y19"
        },
        {
         "hovertemplate": "choc=3<br>person=4<br>rank=%{x}<br>rating=%{y}<extra></extra>",
         "legendgroup": "3",
         "marker": {
          "color": "#D62728",
          "symbol": "circle"
         },
         "mode": "markers",
         "name": "3",
         "orientation": "v",
         "showlegend": false,
         "type": "scatter",
         "x": [
          8
         ],
         "xaxis": "x20",
         "y": [
          1.3557641401592406
         ],
         "yaxis": "y20"
        },
        {
         "hovertemplate": "choc=3<br>person=5<br>rank=%{x}<br>rating=%{y}<extra></extra>",
         "legendgroup": "3",
         "marker": {
          "color": "#D62728",
          "symbol": "circle"
         },
         "mode": "markers",
         "name": "3",
         "orientation": "v",
         "showlegend": false,
         "type": "scatter",
         "x": [
          0
         ],
         "xaxis": "x11",
         "y": [
          5.430158395855065
         ],
         "yaxis": "y11"
        },
        {
         "hovertemplate": "choc=3<br>person=6<br>rank=%{x}<br>rating=%{y}<extra></extra>",
         "legendgroup": "3",
         "marker": {
          "color": "#D62728",
          "symbol": "circle"
         },
         "mode": "markers",
         "name": "3",
         "orientation": "v",
         "showlegend": false,
         "type": "scatter",
         "x": [
          11
         ],
         "xaxis": "x12",
         "y": [
          -0.6443376305836884
         ],
         "yaxis": "y12"
        },
        {
         "hovertemplate": "choc=3<br>person=7<br>rank=%{x}<br>rating=%{y}<extra></extra>",
         "legendgroup": "3",
         "marker": {
          "color": "#D62728",
          "symbol": "circle"
         },
         "mode": "markers",
         "name": "3",
         "orientation": "v",
         "showlegend": false,
         "type": "scatter",
         "x": [
          12
         ],
         "xaxis": "x13",
         "y": [
          -1.2961679777814745
         ],
         "yaxis": "y13"
        },
        {
         "hovertemplate": "choc=3<br>person=8<br>rank=%{x}<br>rating=%{y}<extra></extra>",
         "legendgroup": "3",
         "marker": {
          "color": "#D62728",
          "symbol": "circle"
         },
         "mode": "markers",
         "name": "3",
         "orientation": "v",
         "showlegend": false,
         "type": "scatter",
         "x": [
          4
         ],
         "xaxis": "x14",
         "y": [
          1.1013659689608843
         ],
         "yaxis": "y14"
        },
        {
         "hovertemplate": "choc=3<br>person=9<br>rank=%{x}<br>rating=%{y}<extra></extra>",
         "legendgroup": "3",
         "marker": {
          "color": "#D62728",
          "symbol": "circle"
         },
         "mode": "markers",
         "name": "3",
         "orientation": "v",
         "showlegend": false,
         "type": "scatter",
         "x": [
          8
         ],
         "xaxis": "x15",
         "y": [
          -0.3553783887009884
         ],
         "yaxis": "y15"
        },
        {
         "hovertemplate": "choc=3<br>person=10<br>rank=%{x}<br>rating=%{y}<extra></extra>",
         "legendgroup": "3",
         "marker": {
          "color": "#D62728",
          "symbol": "circle"
         },
         "mode": "markers",
         "name": "3",
         "orientation": "v",
         "showlegend": false,
         "type": "scatter",
         "x": [
          10
         ],
         "xaxis": "x6",
         "y": [
          -0.6292886001552245
         ],
         "yaxis": "y6"
        },
        {
         "hovertemplate": "choc=3<br>person=11<br>rank=%{x}<br>rating=%{y}<extra></extra>",
         "legendgroup": "3",
         "marker": {
          "color": "#D62728",
          "symbol": "circle"
         },
         "mode": "markers",
         "name": "3",
         "orientation": "v",
         "showlegend": false,
         "type": "scatter",
         "x": [
          19
         ],
         "xaxis": "x7",
         "y": [
          -4.600773667567981
         ],
         "yaxis": "y7"
        },
        {
         "hovertemplate": "choc=3<br>person=12<br>rank=%{x}<br>rating=%{y}<extra></extra>",
         "legendgroup": "3",
         "marker": {
          "color": "#D62728",
          "symbol": "circle"
         },
         "mode": "markers",
         "name": "3",
         "orientation": "v",
         "showlegend": false,
         "type": "scatter",
         "x": [
          12
         ],
         "xaxis": "x8",
         "y": [
          -0.6553716153217721
         ],
         "yaxis": "y8"
        },
        {
         "hovertemplate": "choc=3<br>person=13<br>rank=%{x}<br>rating=%{y}<extra></extra>",
         "legendgroup": "3",
         "marker": {
          "color": "#D62728",
          "symbol": "circle"
         },
         "mode": "markers",
         "name": "3",
         "orientation": "v",
         "showlegend": false,
         "type": "scatter",
         "x": [
          19
         ],
         "xaxis": "x9",
         "y": [
          -3.5553658393657726
         ],
         "yaxis": "y9"
        },
        {
         "hovertemplate": "choc=3<br>person=14<br>rank=%{x}<br>rating=%{y}<extra></extra>",
         "legendgroup": "3",
         "marker": {
          "color": "#D62728",
          "symbol": "circle"
         },
         "mode": "markers",
         "name": "3",
         "orientation": "v",
         "showlegend": false,
         "type": "scatter",
         "x": [
          18
         ],
         "xaxis": "x10",
         "y": [
          -4.489858360553617
         ],
         "yaxis": "y10"
        },
        {
         "hovertemplate": "choc=3<br>person=15<br>rank=%{x}<br>rating=%{y}<extra></extra>",
         "legendgroup": "3",
         "marker": {
          "color": "#D62728",
          "symbol": "circle"
         },
         "mode": "markers",
         "name": "3",
         "orientation": "v",
         "showlegend": false,
         "type": "scatter",
         "x": [
          3
         ],
         "xaxis": "x",
         "y": [
          2.1905965918405785
         ],
         "yaxis": "y"
        },
        {
         "hovertemplate": "choc=3<br>person=16<br>rank=%{x}<br>rating=%{y}<extra></extra>",
         "legendgroup": "3",
         "marker": {
          "color": "#D62728",
          "symbol": "circle"
         },
         "mode": "markers",
         "name": "3",
         "orientation": "v",
         "showlegend": false,
         "type": "scatter",
         "x": [
          10
         ],
         "xaxis": "x2",
         "y": [
          0.2044565582547716
         ],
         "yaxis": "y2"
        },
        {
         "hovertemplate": "choc=3<br>person=17<br>rank=%{x}<br>rating=%{y}<extra></extra>",
         "legendgroup": "3",
         "marker": {
          "color": "#D62728",
          "symbol": "circle"
         },
         "mode": "markers",
         "name": "3",
         "orientation": "v",
         "showlegend": false,
         "type": "scatter",
         "x": [
          3
         ],
         "xaxis": "x3",
         "y": [
          0.578875655732904
         ],
         "yaxis": "y3"
        },
        {
         "hovertemplate": "choc=3<br>person=18<br>rank=%{x}<br>rating=%{y}<extra></extra>",
         "legendgroup": "3",
         "marker": {
          "color": "#D62728",
          "symbol": "circle"
         },
         "mode": "markers",
         "name": "3",
         "orientation": "v",
         "showlegend": false,
         "type": "scatter",
         "x": [
          17
         ],
         "xaxis": "x4",
         "y": [
          -6.6860643685055585
         ],
         "yaxis": "y4"
        },
        {
         "hovertemplate": "choc=3<br>person=19<br>rank=%{x}<br>rating=%{y}<extra></extra>",
         "legendgroup": "3",
         "marker": {
          "color": "#D62728",
          "symbol": "circle"
         },
         "mode": "markers",
         "name": "3",
         "orientation": "v",
         "showlegend": false,
         "type": "scatter",
         "x": [
          1
         ],
         "xaxis": "x5",
         "y": [
          7.3505983842337175
         ],
         "yaxis": "y5"
        },
        {
         "hovertemplate": "choc=4<br>person=0<br>rank=%{x}<br>rating=%{y}<extra></extra>",
         "legendgroup": "4",
         "marker": {
          "color": "#9467BD",
          "symbol": "circle"
         },
         "mode": "markers",
         "name": "4",
         "orientation": "v",
         "showlegend": true,
         "type": "scatter",
         "x": [
          15
         ],
         "xaxis": "x16",
         "y": [
          -1.6882997625681446
         ],
         "yaxis": "y16"
        },
        {
         "hovertemplate": "choc=4<br>person=1<br>rank=%{x}<br>rating=%{y}<extra></extra>",
         "legendgroup": "4",
         "marker": {
          "color": "#9467BD",
          "symbol": "circle"
         },
         "mode": "markers",
         "name": "4",
         "orientation": "v",
         "showlegend": false,
         "type": "scatter",
         "x": [
          13
         ],
         "xaxis": "x17",
         "y": [
          0.08272161875774259
         ],
         "yaxis": "y17"
        },
        {
         "hovertemplate": "choc=4<br>person=2<br>rank=%{x}<br>rating=%{y}<extra></extra>",
         "legendgroup": "4",
         "marker": {
          "color": "#9467BD",
          "symbol": "circle"
         },
         "mode": "markers",
         "name": "4",
         "orientation": "v",
         "showlegend": false,
         "type": "scatter",
         "x": [
          7
         ],
         "xaxis": "x18",
         "y": [
          1.148783763758576
         ],
         "yaxis": "y18"
        },
        {
         "hovertemplate": "choc=4<br>person=3<br>rank=%{x}<br>rating=%{y}<extra></extra>",
         "legendgroup": "4",
         "marker": {
          "color": "#9467BD",
          "symbol": "circle"
         },
         "mode": "markers",
         "name": "4",
         "orientation": "v",
         "showlegend": false,
         "type": "scatter",
         "x": [
          5
         ],
         "xaxis": "x19",
         "y": [
          1.028521451916402
         ],
         "yaxis": "y19"
        },
        {
         "hovertemplate": "choc=4<br>person=4<br>rank=%{x}<br>rating=%{y}<extra></extra>",
         "legendgroup": "4",
         "marker": {
          "color": "#9467BD",
          "symbol": "circle"
         },
         "mode": "markers",
         "name": "4",
         "orientation": "v",
         "showlegend": false,
         "type": "scatter",
         "x": [
          7
         ],
         "xaxis": "x20",
         "y": [
          2.1474140800023864
         ],
         "yaxis": "y20"
        },
        {
         "hovertemplate": "choc=4<br>person=5<br>rank=%{x}<br>rating=%{y}<extra></extra>",
         "legendgroup": "4",
         "marker": {
          "color": "#9467BD",
          "symbol": "circle"
         },
         "mode": "markers",
         "name": "4",
         "orientation": "v",
         "showlegend": false,
         "type": "scatter",
         "x": [
          15
         ],
         "xaxis": "x11",
         "y": [
          -1.3385380907112048
         ],
         "yaxis": "y11"
        },
        {
         "hovertemplate": "choc=4<br>person=6<br>rank=%{x}<br>rating=%{y}<extra></extra>",
         "legendgroup": "4",
         "marker": {
          "color": "#9467BD",
          "symbol": "circle"
         },
         "mode": "markers",
         "name": "4",
         "orientation": "v",
         "showlegend": false,
         "type": "scatter",
         "x": [
          5
         ],
         "xaxis": "x12",
         "y": [
          1.2895834401260104
         ],
         "yaxis": "y12"
        },
        {
         "hovertemplate": "choc=4<br>person=7<br>rank=%{x}<br>rating=%{y}<extra></extra>",
         "legendgroup": "4",
         "marker": {
          "color": "#9467BD",
          "symbol": "circle"
         },
         "mode": "markers",
         "name": "4",
         "orientation": "v",
         "showlegend": false,
         "type": "scatter",
         "x": [
          8
         ],
         "xaxis": "x13",
         "y": [
          -0.6087664227431476
         ],
         "yaxis": "y13"
        },
        {
         "hovertemplate": "choc=4<br>person=8<br>rank=%{x}<br>rating=%{y}<extra></extra>",
         "legendgroup": "4",
         "marker": {
          "color": "#9467BD",
          "symbol": "circle"
         },
         "mode": "markers",
         "name": "4",
         "orientation": "v",
         "showlegend": false,
         "type": "scatter",
         "x": [
          12
         ],
         "xaxis": "x14",
         "y": [
          -0.326168151087749
         ],
         "yaxis": "y14"
        },
        {
         "hovertemplate": "choc=4<br>person=9<br>rank=%{x}<br>rating=%{y}<extra></extra>",
         "legendgroup": "4",
         "marker": {
          "color": "#9467BD",
          "symbol": "circle"
         },
         "mode": "markers",
         "name": "4",
         "orientation": "v",
         "showlegend": false,
         "type": "scatter",
         "x": [
          3
         ],
         "xaxis": "x15",
         "y": [
          1.70925004396083
         ],
         "yaxis": "y15"
        },
        {
         "hovertemplate": "choc=4<br>person=10<br>rank=%{x}<br>rating=%{y}<extra></extra>",
         "legendgroup": "4",
         "marker": {
          "color": "#9467BD",
          "symbol": "circle"
         },
         "mode": "markers",
         "name": "4",
         "orientation": "v",
         "showlegend": false,
         "type": "scatter",
         "x": [
          14
         ],
         "xaxis": "x6",
         "y": [
          -1.270405421074431
         ],
         "yaxis": "y6"
        },
        {
         "hovertemplate": "choc=4<br>person=11<br>rank=%{x}<br>rating=%{y}<extra></extra>",
         "legendgroup": "4",
         "marker": {
          "color": "#9467BD",
          "symbol": "circle"
         },
         "mode": "markers",
         "name": "4",
         "orientation": "v",
         "showlegend": false,
         "type": "scatter",
         "x": [
          15
         ],
         "xaxis": "x7",
         "y": [
          -2.2384207656684145
         ],
         "yaxis": "y7"
        },
        {
         "hovertemplate": "choc=4<br>person=12<br>rank=%{x}<br>rating=%{y}<extra></extra>",
         "legendgroup": "4",
         "marker": {
          "color": "#9467BD",
          "symbol": "circle"
         },
         "mode": "markers",
         "name": "4",
         "orientation": "v",
         "showlegend": false,
         "type": "scatter",
         "x": [
          8
         ],
         "xaxis": "x8",
         "y": [
          -0.24110547991002174
         ],
         "yaxis": "y8"
        },
        {
         "hovertemplate": "choc=4<br>person=13<br>rank=%{x}<br>rating=%{y}<extra></extra>",
         "legendgroup": "4",
         "marker": {
          "color": "#9467BD",
          "symbol": "circle"
         },
         "mode": "markers",
         "name": "4",
         "orientation": "v",
         "showlegend": false,
         "type": "scatter",
         "x": [
          13
         ],
         "xaxis": "x9",
         "y": [
          -0.717330110275189
         ],
         "yaxis": "y9"
        },
        {
         "hovertemplate": "choc=4<br>person=14<br>rank=%{x}<br>rating=%{y}<extra></extra>",
         "legendgroup": "4",
         "marker": {
          "color": "#9467BD",
          "symbol": "circle"
         },
         "mode": "markers",
         "name": "4",
         "orientation": "v",
         "showlegend": false,
         "type": "scatter",
         "x": [
          8
         ],
         "xaxis": "x10",
         "y": [
          1.0246959212506213
         ],
         "yaxis": "y10"
        },
        {
         "hovertemplate": "choc=4<br>person=15<br>rank=%{x}<br>rating=%{y}<extra></extra>",
         "legendgroup": "4",
         "marker": {
          "color": "#9467BD",
          "symbol": "circle"
         },
         "mode": "markers",
         "name": "4",
         "orientation": "v",
         "showlegend": false,
         "type": "scatter",
         "x": [
          6
         ],
         "xaxis": "x",
         "y": [
          0.4218320021140206
         ],
         "yaxis": "y"
        },
        {
         "hovertemplate": "choc=4<br>person=16<br>rank=%{x}<br>rating=%{y}<extra></extra>",
         "legendgroup": "4",
         "marker": {
          "color": "#9467BD",
          "symbol": "circle"
         },
         "mode": "markers",
         "name": "4",
         "orientation": "v",
         "showlegend": false,
         "type": "scatter",
         "x": [
          8
         ],
         "xaxis": "x2",
         "y": [
          1.1094642375610062
         ],
         "yaxis": "y2"
        },
        {
         "hovertemplate": "choc=4<br>person=17<br>rank=%{x}<br>rating=%{y}<extra></extra>",
         "legendgroup": "4",
         "marker": {
          "color": "#9467BD",
          "symbol": "circle"
         },
         "mode": "markers",
         "name": "4",
         "orientation": "v",
         "showlegend": false,
         "type": "scatter",
         "x": [
          16
         ],
         "xaxis": "x3",
         "y": [
          -2.8708014187035573
         ],
         "yaxis": "y3"
        },
        {
         "hovertemplate": "choc=4<br>person=18<br>rank=%{x}<br>rating=%{y}<extra></extra>",
         "legendgroup": "4",
         "marker": {
          "color": "#9467BD",
          "symbol": "circle"
         },
         "mode": "markers",
         "name": "4",
         "orientation": "v",
         "showlegend": false,
         "type": "scatter",
         "x": [
          4
         ],
         "xaxis": "x4",
         "y": [
          2.5875740752746816
         ],
         "yaxis": "y4"
        },
        {
         "hovertemplate": "choc=4<br>person=19<br>rank=%{x}<br>rating=%{y}<extra></extra>",
         "legendgroup": "4",
         "marker": {
          "color": "#9467BD",
          "symbol": "circle"
         },
         "mode": "markers",
         "name": "4",
         "orientation": "v",
         "showlegend": false,
         "type": "scatter",
         "x": [
          7
         ],
         "xaxis": "x5",
         "y": [
          0.7676446205307201
         ],
         "yaxis": "y5"
        },
        {
         "hovertemplate": "choc=5<br>person=0<br>rank=%{x}<br>rating=%{y}<extra></extra>",
         "legendgroup": "5",
         "marker": {
          "color": "#8C564B",
          "symbol": "circle"
         },
         "mode": "markers",
         "name": "5",
         "orientation": "v",
         "showlegend": true,
         "type": "scatter",
         "x": [
          10
         ],
         "xaxis": "x16",
         "y": [
          -0.6371779111857978
         ],
         "yaxis": "y16"
        },
        {
         "hovertemplate": "choc=5<br>person=1<br>rank=%{x}<br>rating=%{y}<extra></extra>",
         "legendgroup": "5",
         "marker": {
          "color": "#8C564B",
          "symbol": "circle"
         },
         "mode": "markers",
         "name": "5",
         "orientation": "v",
         "showlegend": false,
         "type": "scatter",
         "x": [
          11
         ],
         "xaxis": "x17",
         "y": [
          0.31261925783169076
         ],
         "yaxis": "y17"
        },
        {
         "hovertemplate": "choc=5<br>person=2<br>rank=%{x}<br>rating=%{y}<extra></extra>",
         "legendgroup": "5",
         "marker": {
          "color": "#8C564B",
          "symbol": "circle"
         },
         "mode": "markers",
         "name": "5",
         "orientation": "v",
         "showlegend": false,
         "type": "scatter",
         "x": [
          14
         ],
         "xaxis": "x18",
         "y": [
          -2.41525924839845
         ],
         "yaxis": "y18"
        },
        {
         "hovertemplate": "choc=5<br>person=3<br>rank=%{x}<br>rating=%{y}<extra></extra>",
         "legendgroup": "5",
         "marker": {
          "color": "#8C564B",
          "symbol": "circle"
         },
         "mode": "markers",
         "name": "5",
         "orientation": "v",
         "showlegend": false,
         "type": "scatter",
         "x": [
          10
         ],
         "xaxis": "x19",
         "y": [
          -0.4992197148616248
         ],
         "yaxis": "y19"
        },
        {
         "hovertemplate": "choc=5<br>person=4<br>rank=%{x}<br>rating=%{y}<extra></extra>",
         "legendgroup": "5",
         "marker": {
          "color": "#8C564B",
          "symbol": "circle"
         },
         "mode": "markers",
         "name": "5",
         "orientation": "v",
         "showlegend": false,
         "type": "scatter",
         "x": [
          11
         ],
         "xaxis": "x20",
         "y": [
          -0.9921149151226719
         ],
         "yaxis": "y20"
        },
        {
         "hovertemplate": "choc=5<br>person=5<br>rank=%{x}<br>rating=%{y}<extra></extra>",
         "legendgroup": "5",
         "marker": {
          "color": "#8C564B",
          "symbol": "circle"
         },
         "mode": "markers",
         "name": "5",
         "orientation": "v",
         "showlegend": false,
         "type": "scatter",
         "x": [
          18
         ],
         "xaxis": "x11",
         "y": [
          -2.4935703270810854
         ],
         "yaxis": "y11"
        },
        {
         "hovertemplate": "choc=5<br>person=6<br>rank=%{x}<br>rating=%{y}<extra></extra>",
         "legendgroup": "5",
         "marker": {
          "color": "#8C564B",
          "symbol": "circle"
         },
         "mode": "markers",
         "name": "5",
         "orientation": "v",
         "showlegend": false,
         "type": "scatter",
         "x": [
          6
         ],
         "xaxis": "x12",
         "y": [
          1.1195175983354937
         ],
         "yaxis": "y12"
        },
        {
         "hovertemplate": "choc=5<br>person=7<br>rank=%{x}<br>rating=%{y}<extra></extra>",
         "legendgroup": "5",
         "marker": {
          "color": "#8C564B",
          "symbol": "circle"
         },
         "mode": "markers",
         "name": "5",
         "orientation": "v",
         "showlegend": false,
         "type": "scatter",
         "x": [
          15
         ],
         "xaxis": "x13",
         "y": [
          -2.2211841013365796
         ],
         "yaxis": "y13"
        },
        {
         "hovertemplate": "choc=5<br>person=8<br>rank=%{x}<br>rating=%{y}<extra></extra>",
         "legendgroup": "5",
         "marker": {
          "color": "#8C564B",
          "symbol": "circle"
         },
         "mode": "markers",
         "name": "5",
         "orientation": "v",
         "showlegend": false,
         "type": "scatter",
         "x": [
          5
         ],
         "xaxis": "x14",
         "y": [
          0.5083936067780229
         ],
         "yaxis": "y14"
        },
        {
         "hovertemplate": "choc=5<br>person=9<br>rank=%{x}<br>rating=%{y}<extra></extra>",
         "legendgroup": "5",
         "marker": {
          "color": "#8C564B",
          "symbol": "circle"
         },
         "mode": "markers",
         "name": "5",
         "orientation": "v",
         "showlegend": false,
         "type": "scatter",
         "x": [
          9
         ],
         "xaxis": "x15",
         "y": [
          -0.5461134751375135
         ],
         "yaxis": "y15"
        },
        {
         "hovertemplate": "choc=5<br>person=10<br>rank=%{x}<br>rating=%{y}<extra></extra>",
         "legendgroup": "5",
         "marker": {
          "color": "#8C564B",
          "symbol": "circle"
         },
         "mode": "markers",
         "name": "5",
         "orientation": "v",
         "showlegend": false,
         "type": "scatter",
         "x": [
          8
         ],
         "xaxis": "x6",
         "y": [
          0.8946104940053646
         ],
         "yaxis": "y6"
        },
        {
         "hovertemplate": "choc=5<br>person=11<br>rank=%{x}<br>rating=%{y}<extra></extra>",
         "legendgroup": "5",
         "marker": {
          "color": "#8C564B",
          "symbol": "circle"
         },
         "mode": "markers",
         "name": "5",
         "orientation": "v",
         "showlegend": false,
         "type": "scatter",
         "x": [
          12
         ],
         "xaxis": "x7",
         "y": [
          -0.9463919371836209
         ],
         "yaxis": "y7"
        },
        {
         "hovertemplate": "choc=5<br>person=12<br>rank=%{x}<br>rating=%{y}<extra></extra>",
         "legendgroup": "5",
         "marker": {
          "color": "#8C564B",
          "symbol": "circle"
         },
         "mode": "markers",
         "name": "5",
         "orientation": "v",
         "showlegend": false,
         "type": "scatter",
         "x": [
          6
         ],
         "xaxis": "x8",
         "y": [
          0.04460270800125277
         ],
         "yaxis": "y8"
        },
        {
         "hovertemplate": "choc=5<br>person=13<br>rank=%{x}<br>rating=%{y}<extra></extra>",
         "legendgroup": "5",
         "marker": {
          "color": "#8C564B",
          "symbol": "circle"
         },
         "mode": "markers",
         "name": "5",
         "orientation": "v",
         "showlegend": false,
         "type": "scatter",
         "x": [
          16
         ],
         "xaxis": "x9",
         "y": [
          -1.0823159953002621
         ],
         "yaxis": "y9"
        },
        {
         "hovertemplate": "choc=5<br>person=14<br>rank=%{x}<br>rating=%{y}<extra></extra>",
         "legendgroup": "5",
         "marker": {
          "color": "#8C564B",
          "symbol": "circle"
         },
         "mode": "markers",
         "name": "5",
         "orientation": "v",
         "showlegend": false,
         "type": "scatter",
         "x": [
          16
         ],
         "xaxis": "x10",
         "y": [
          -2.5007451928523907
         ],
         "yaxis": "y10"
        },
        {
         "hovertemplate": "choc=5<br>person=15<br>rank=%{x}<br>rating=%{y}<extra></extra>",
         "legendgroup": "5",
         "marker": {
          "color": "#8C564B",
          "symbol": "circle"
         },
         "mode": "markers",
         "name": "5",
         "orientation": "v",
         "showlegend": false,
         "type": "scatter",
         "x": [
          9
         ],
         "xaxis": "x",
         "y": [
          -0.1603207732161594
         ],
         "yaxis": "y"
        },
        {
         "hovertemplate": "choc=5<br>person=16<br>rank=%{x}<br>rating=%{y}<extra></extra>",
         "legendgroup": "5",
         "marker": {
          "color": "#8C564B",
          "symbol": "circle"
         },
         "mode": "markers",
         "name": "5",
         "orientation": "v",
         "showlegend": false,
         "type": "scatter",
         "x": [
          11
         ],
         "xaxis": "x2",
         "y": [
          -0.3425548430107682
         ],
         "yaxis": "y2"
        },
        {
         "hovertemplate": "choc=5<br>person=17<br>rank=%{x}<br>rating=%{y}<extra></extra>",
         "legendgroup": "5",
         "marker": {
          "color": "#8C564B",
          "symbol": "circle"
         },
         "mode": "markers",
         "name": "5",
         "orientation": "v",
         "showlegend": false,
         "type": "scatter",
         "x": [
          15
         ],
         "xaxis": "x3",
         "y": [
          -2.753712597080509
         ],
         "yaxis": "y3"
        },
        {
         "hovertemplate": "choc=5<br>person=18<br>rank=%{x}<br>rating=%{y}<extra></extra>",
         "legendgroup": "5",
         "marker": {
          "color": "#8C564B",
          "symbol": "circle"
         },
         "mode": "markers",
         "name": "5",
         "orientation": "v",
         "showlegend": false,
         "type": "scatter",
         "x": [
          8
         ],
         "xaxis": "x4",
         "y": [
          0.8473341414057766
         ],
         "yaxis": "y4"
        },
        {
         "hovertemplate": "choc=5<br>person=19<br>rank=%{x}<br>rating=%{y}<extra></extra>",
         "legendgroup": "5",
         "marker": {
          "color": "#8C564B",
          "symbol": "circle"
         },
         "mode": "markers",
         "name": "5",
         "orientation": "v",
         "showlegend": false,
         "type": "scatter",
         "x": [
          12
         ],
         "xaxis": "x5",
         "y": [
          -0.8343161307148644
         ],
         "yaxis": "y5"
        },
        {
         "hovertemplate": "choc=6<br>person=0<br>rank=%{x}<br>rating=%{y}<extra></extra>",
         "legendgroup": "6",
         "marker": {
          "color": "#E377C2",
          "symbol": "circle"
         },
         "mode": "markers",
         "name": "6",
         "orientation": "v",
         "showlegend": true,
         "type": "scatter",
         "x": [
          0
         ],
         "xaxis": "x16",
         "y": [
          4.675296167605468
         ],
         "yaxis": "y16"
        },
        {
         "hovertemplate": "choc=6<br>person=1<br>rank=%{x}<br>rating=%{y}<extra></extra>",
         "legendgroup": "6",
         "marker": {
          "color": "#E377C2",
          "symbol": "circle"
         },
         "mode": "markers",
         "name": "6",
         "orientation": "v",
         "showlegend": false,
         "type": "scatter",
         "x": [
          0
         ],
         "xaxis": "x17",
         "y": [
          7.235666699140969
         ],
         "yaxis": "y17"
        },
        {
         "hovertemplate": "choc=6<br>person=2<br>rank=%{x}<br>rating=%{y}<extra></extra>",
         "legendgroup": "6",
         "marker": {
          "color": "#E377C2",
          "symbol": "circle"
         },
         "mode": "markers",
         "name": "6",
         "orientation": "v",
         "showlegend": false,
         "type": "scatter",
         "x": [
          19
         ],
         "xaxis": "x18",
         "y": [
          -11.333301610418928
         ],
         "yaxis": "y18"
        },
        {
         "hovertemplate": "choc=6<br>person=3<br>rank=%{x}<br>rating=%{y}<extra></extra>",
         "legendgroup": "6",
         "marker": {
          "color": "#E377C2",
          "symbol": "circle"
         },
         "mode": "markers",
         "name": "6",
         "orientation": "v",
         "showlegend": false,
         "type": "scatter",
         "x": [
          1
         ],
         "xaxis": "x19",
         "y": [
          4.065157108047964
         ],
         "yaxis": "y19"
        },
        {
         "hovertemplate": "choc=6<br>person=4<br>rank=%{x}<br>rating=%{y}<extra></extra>",
         "legendgroup": "6",
         "marker": {
          "color": "#E377C2",
          "symbol": "circle"
         },
         "mode": "markers",
         "name": "6",
         "orientation": "v",
         "showlegend": false,
         "type": "scatter",
         "x": [
          2
         ],
         "xaxis": "x20",
         "y": [
          5.203316100992693
         ],
         "yaxis": "y20"
        },
        {
         "hovertemplate": "choc=6<br>person=5<br>rank=%{x}<br>rating=%{y}<extra></extra>",
         "legendgroup": "6",
         "marker": {
          "color": "#E377C2",
          "symbol": "circle"
         },
         "mode": "markers",
         "name": "6",
         "orientation": "v",
         "showlegend": false,
         "type": "scatter",
         "x": [
          3
         ],
         "xaxis": "x11",
         "y": [
          3.125366115020297
         ],
         "yaxis": "y11"
        },
        {
         "hovertemplate": "choc=6<br>person=6<br>rank=%{x}<br>rating=%{y}<extra></extra>",
         "legendgroup": "6",
         "marker": {
          "color": "#E377C2",
          "symbol": "circle"
         },
         "mode": "markers",
         "name": "6",
         "orientation": "v",
         "showlegend": false,
         "type": "scatter",
         "x": [
          19
         ],
         "xaxis": "x12",
         "y": [
          -8.72642017604564
         ],
         "yaxis": "y12"
        },
        {
         "hovertemplate": "choc=6<br>person=7<br>rank=%{x}<br>rating=%{y}<extra></extra>",
         "legendgroup": "6",
         "marker": {
          "color": "#E377C2",
          "symbol": "circle"
         },
         "mode": "markers",
         "name": "6",
         "orientation": "v",
         "showlegend": false,
         "type": "scatter",
         "x": [
          2
         ],
         "xaxis": "x13",
         "y": [
          1.0934270623688125
         ],
         "yaxis": "y13"
        },
        {
         "hovertemplate": "choc=6<br>person=8<br>rank=%{x}<br>rating=%{y}<extra></extra>",
         "legendgroup": "6",
         "marker": {
          "color": "#E377C2",
          "symbol": "circle"
         },
         "mode": "markers",
         "name": "6",
         "orientation": "v",
         "showlegend": false,
         "type": "scatter",
         "x": [
          16
         ],
         "xaxis": "x14",
         "y": [
          -3.296541282656275
         ],
         "yaxis": "y14"
        },
        {
         "hovertemplate": "choc=6<br>person=9<br>rank=%{x}<br>rating=%{y}<extra></extra>",
         "legendgroup": "6",
         "marker": {
          "color": "#E377C2",
          "symbol": "circle"
         },
         "mode": "markers",
         "name": "6",
         "orientation": "v",
         "showlegend": false,
         "type": "scatter",
         "x": [
          19
         ],
         "xaxis": "x15",
         "y": [
          -4.544382352510484
         ],
         "yaxis": "y15"
        },
        {
         "hovertemplate": "choc=6<br>person=10<br>rank=%{x}<br>rating=%{y}<extra></extra>",
         "legendgroup": "6",
         "marker": {
          "color": "#E377C2",
          "symbol": "circle"
         },
         "mode": "markers",
         "name": "6",
         "orientation": "v",
         "showlegend": false,
         "type": "scatter",
         "x": [
          18
         ],
         "xaxis": "x6",
         "y": [
          -3.5777790726935095
         ],
         "yaxis": "y6"
        },
        {
         "hovertemplate": "choc=6<br>person=11<br>rank=%{x}<br>rating=%{y}<extra></extra>",
         "legendgroup": "6",
         "marker": {
          "color": "#E377C2",
          "symbol": "circle"
         },
         "mode": "markers",
         "name": "6",
         "orientation": "v",
         "showlegend": false,
         "type": "scatter",
         "x": [
          18
         ],
         "xaxis": "x7",
         "y": [
          -4.539975727595657
         ],
         "yaxis": "y7"
        },
        {
         "hovertemplate": "choc=6<br>person=12<br>rank=%{x}<br>rating=%{y}<extra></extra>",
         "legendgroup": "6",
         "marker": {
          "color": "#E377C2",
          "symbol": "circle"
         },
         "mode": "markers",
         "name": "6",
         "orientation": "v",
         "showlegend": false,
         "type": "scatter",
         "x": [
          0
         ],
         "xaxis": "x8",
         "y": [
          6.0708409471005895
         ],
         "yaxis": "y8"
        },
        {
         "hovertemplate": "choc=6<br>person=13<br>rank=%{x}<br>rating=%{y}<extra></extra>",
         "legendgroup": "6",
         "marker": {
          "color": "#E377C2",
          "symbol": "circle"
         },
         "mode": "markers",
         "name": "6",
         "orientation": "v",
         "showlegend": false,
         "type": "scatter",
         "x": [
          1
         ],
         "xaxis": "x9",
         "y": [
          4.425561615121025
         ],
         "yaxis": "y9"
        },
        {
         "hovertemplate": "choc=6<br>person=14<br>rank=%{x}<br>rating=%{y}<extra></extra>",
         "legendgroup": "6",
         "marker": {
          "color": "#E377C2",
          "symbol": "circle"
         },
         "mode": "markers",
         "name": "6",
         "orientation": "v",
         "showlegend": false,
         "type": "scatter",
         "x": [
          0
         ],
         "xaxis": "x10",
         "y": [
          2.9566875821085334
         ],
         "yaxis": "y10"
        },
        {
         "hovertemplate": "choc=6<br>person=15<br>rank=%{x}<br>rating=%{y}<extra></extra>",
         "legendgroup": "6",
         "marker": {
          "color": "#E377C2",
          "symbol": "circle"
         },
         "mode": "markers",
         "name": "6",
         "orientation": "v",
         "showlegend": false,
         "type": "scatter",
         "x": [
          14
         ],
         "xaxis": "x",
         "y": [
          -1.4502662231094936
         ],
         "yaxis": "y"
        },
        {
         "hovertemplate": "choc=6<br>person=16<br>rank=%{x}<br>rating=%{y}<extra></extra>",
         "legendgroup": "6",
         "marker": {
          "color": "#E377C2",
          "symbol": "circle"
         },
         "mode": "markers",
         "name": "6",
         "orientation": "v",
         "showlegend": false,
         "type": "scatter",
         "x": [
          15
         ],
         "xaxis": "x2",
         "y": [
          -1.4371592476897077
         ],
         "yaxis": "y2"
        },
        {
         "hovertemplate": "choc=6<br>person=17<br>rank=%{x}<br>rating=%{y}<extra></extra>",
         "legendgroup": "6",
         "marker": {
          "color": "#E377C2",
          "symbol": "circle"
         },
         "mode": "markers",
         "name": "6",
         "orientation": "v",
         "showlegend": false,
         "type": "scatter",
         "x": [
          11
         ],
         "xaxis": "x3",
         "y": [
          -1.0026120010802664
         ],
         "yaxis": "y3"
        },
        {
         "hovertemplate": "choc=6<br>person=18<br>rank=%{x}<br>rating=%{y}<extra></extra>",
         "legendgroup": "6",
         "marker": {
          "color": "#E377C2",
          "symbol": "circle"
         },
         "mode": "markers",
         "name": "6",
         "orientation": "v",
         "showlegend": false,
         "type": "scatter",
         "x": [
          19
         ],
         "xaxis": "x4",
         "y": [
          -8.690436742919822
         ],
         "yaxis": "y4"
        },
        {
         "hovertemplate": "choc=6<br>person=19<br>rank=%{x}<br>rating=%{y}<extra></extra>",
         "legendgroup": "6",
         "marker": {
          "color": "#E377C2",
          "symbol": "circle"
         },
         "mode": "markers",
         "name": "6",
         "orientation": "v",
         "showlegend": false,
         "type": "scatter",
         "x": [
          19
         ],
         "xaxis": "x5",
         "y": [
          -7.163633828199121
         ],
         "yaxis": "y5"
        },
        {
         "hovertemplate": "choc=7<br>person=0<br>rank=%{x}<br>rating=%{y}<extra></extra>",
         "legendgroup": "7",
         "marker": {
          "color": "#7F7F7F",
          "symbol": "circle"
         },
         "mode": "markers",
         "name": "7",
         "orientation": "v",
         "showlegend": true,
         "type": "scatter",
         "x": [
          9
         ],
         "xaxis": "x16",
         "y": [
          -0.34645498750660053
         ],
         "yaxis": "y16"
        },
        {
         "hovertemplate": "choc=7<br>person=1<br>rank=%{x}<br>rating=%{y}<extra></extra>",
         "legendgroup": "7",
         "marker": {
          "color": "#7F7F7F",
          "symbol": "circle"
         },
         "mode": "markers",
         "name": "7",
         "orientation": "v",
         "showlegend": false,
         "type": "scatter",
         "x": [
          4
         ],
         "xaxis": "x17",
         "y": [
          1.876951718277351
         ],
         "yaxis": "y17"
        },
        {
         "hovertemplate": "choc=7<br>person=2<br>rank=%{x}<br>rating=%{y}<extra></extra>",
         "legendgroup": "7",
         "marker": {
          "color": "#7F7F7F",
          "symbol": "circle"
         },
         "mode": "markers",
         "name": "7",
         "orientation": "v",
         "showlegend": false,
         "type": "scatter",
         "x": [
          6
         ],
         "xaxis": "x18",
         "y": [
          1.6968158513032303
         ],
         "yaxis": "y18"
        },
        {
         "hovertemplate": "choc=7<br>person=3<br>rank=%{x}<br>rating=%{y}<extra></extra>",
         "legendgroup": "7",
         "marker": {
          "color": "#7F7F7F",
          "symbol": "circle"
         },
         "mode": "markers",
         "name": "7",
         "orientation": "v",
         "showlegend": false,
         "type": "scatter",
         "x": [
          13
         ],
         "xaxis": "x19",
         "y": [
          -1.68665992474457
         ],
         "yaxis": "y19"
        },
        {
         "hovertemplate": "choc=7<br>person=4<br>rank=%{x}<br>rating=%{y}<extra></extra>",
         "legendgroup": "7",
         "marker": {
          "color": "#7F7F7F",
          "symbol": "circle"
         },
         "mode": "markers",
         "name": "7",
         "orientation": "v",
         "showlegend": false,
         "type": "scatter",
         "x": [
          5
         ],
         "xaxis": "x20",
         "y": [
          3.146169598003773
         ],
         "yaxis": "y20"
        },
        {
         "hovertemplate": "choc=7<br>person=5<br>rank=%{x}<br>rating=%{y}<extra></extra>",
         "legendgroup": "7",
         "marker": {
          "color": "#7F7F7F",
          "symbol": "circle"
         },
         "mode": "markers",
         "name": "7",
         "orientation": "v",
         "showlegend": false,
         "type": "scatter",
         "x": [
          4
         ],
         "xaxis": "x11",
         "y": [
          1.1628874204514736
         ],
         "yaxis": "y11"
        },
        {
         "hovertemplate": "choc=7<br>person=6<br>rank=%{x}<br>rating=%{y}<extra></extra>",
         "legendgroup": "7",
         "marker": {
          "color": "#7F7F7F",
          "symbol": "circle"
         },
         "mode": "markers",
         "name": "7",
         "orientation": "v",
         "showlegend": false,
         "type": "scatter",
         "x": [
          3
         ],
         "xaxis": "x12",
         "y": [
          1.9703900468328797
         ],
         "yaxis": "y12"
        },
        {
         "hovertemplate": "choc=7<br>person=7<br>rank=%{x}<br>rating=%{y}<extra></extra>",
         "legendgroup": "7",
         "marker": {
          "color": "#7F7F7F",
          "symbol": "circle"
         },
         "mode": "markers",
         "name": "7",
         "orientation": "v",
         "showlegend": false,
         "type": "scatter",
         "x": [
          4
         ],
         "xaxis": "x13",
         "y": [
          0.5242023996525382
         ],
         "yaxis": "y13"
        },
        {
         "hovertemplate": "choc=7<br>person=8<br>rank=%{x}<br>rating=%{y}<extra></extra>",
         "legendgroup": "7",
         "marker": {
          "color": "#7F7F7F",
          "symbol": "circle"
         },
         "mode": "markers",
         "name": "7",
         "orientation": "v",
         "showlegend": false,
         "type": "scatter",
         "x": [
          1
         ],
         "xaxis": "x14",
         "y": [
          5.77006616938983
         ],
         "yaxis": "y14"
        },
        {
         "hovertemplate": "choc=7<br>person=9<br>rank=%{x}<br>rating=%{y}<extra></extra>",
         "legendgroup": "7",
         "marker": {
          "color": "#7F7F7F",
          "symbol": "circle"
         },
         "mode": "markers",
         "name": "7",
         "orientation": "v",
         "showlegend": false,
         "type": "scatter",
         "x": [
          0
         ],
         "xaxis": "x15",
         "y": [
          2.8305361862761806
         ],
         "yaxis": "y15"
        },
        {
         "hovertemplate": "choc=7<br>person=10<br>rank=%{x}<br>rating=%{y}<extra></extra>",
         "legendgroup": "7",
         "marker": {
          "color": "#7F7F7F",
          "symbol": "circle"
         },
         "mode": "markers",
         "name": "7",
         "orientation": "v",
         "showlegend": false,
         "type": "scatter",
         "x": [
          6
         ],
         "xaxis": "x6",
         "y": [
          1.424425188897067
         ],
         "yaxis": "y6"
        },
        {
         "hovertemplate": "choc=7<br>person=11<br>rank=%{x}<br>rating=%{y}<extra></extra>",
         "legendgroup": "7",
         "marker": {
          "color": "#7F7F7F",
          "symbol": "circle"
         },
         "mode": "markers",
         "name": "7",
         "orientation": "v",
         "showlegend": false,
         "type": "scatter",
         "x": [
          8
         ],
         "xaxis": "x7",
         "y": [
          0.3371029341691145
         ],
         "yaxis": "y7"
        },
        {
         "hovertemplate": "choc=7<br>person=12<br>rank=%{x}<br>rating=%{y}<extra></extra>",
         "legendgroup": "7",
         "marker": {
          "color": "#7F7F7F",
          "symbol": "circle"
         },
         "mode": "markers",
         "name": "7",
         "orientation": "v",
         "showlegend": false,
         "type": "scatter",
         "x": [
          7
         ],
         "xaxis": "x8",
         "y": [
          -0.18170678884082392
         ],
         "yaxis": "y8"
        },
        {
         "hovertemplate": "choc=7<br>person=13<br>rank=%{x}<br>rating=%{y}<extra></extra>",
         "legendgroup": "7",
         "marker": {
          "color": "#7F7F7F",
          "symbol": "circle"
         },
         "mode": "markers",
         "name": "7",
         "orientation": "v",
         "showlegend": false,
         "type": "scatter",
         "x": [
          7
         ],
         "xaxis": "x9",
         "y": [
          1.2345770652099977
         ],
         "yaxis": "y9"
        },
        {
         "hovertemplate": "choc=7<br>person=14<br>rank=%{x}<br>rating=%{y}<extra></extra>",
         "legendgroup": "7",
         "marker": {
          "color": "#7F7F7F",
          "symbol": "circle"
         },
         "mode": "markers",
         "name": "7",
         "orientation": "v",
         "showlegend": false,
         "type": "scatter",
         "x": [
          4
         ],
         "xaxis": "x10",
         "y": [
          2.174471806571029
         ],
         "yaxis": "y10"
        },
        {
         "hovertemplate": "choc=7<br>person=15<br>rank=%{x}<br>rating=%{y}<extra></extra>",
         "legendgroup": "7",
         "marker": {
          "color": "#7F7F7F",
          "symbol": "circle"
         },
         "mode": "markers",
         "name": "7",
         "orientation": "v",
         "showlegend": false,
         "type": "scatter",
         "x": [
          1
         ],
         "xaxis": "x",
         "y": [
          3.6493164733604466
         ],
         "yaxis": "y"
        },
        {
         "hovertemplate": "choc=7<br>person=16<br>rank=%{x}<br>rating=%{y}<extra></extra>",
         "legendgroup": "7",
         "marker": {
          "color": "#7F7F7F",
          "symbol": "circle"
         },
         "mode": "markers",
         "name": "7",
         "orientation": "v",
         "showlegend": false,
         "type": "scatter",
         "x": [
          3
         ],
         "xaxis": "x2",
         "y": [
          3.2626111412339487
         ],
         "yaxis": "y2"
        },
        {
         "hovertemplate": "choc=7<br>person=17<br>rank=%{x}<br>rating=%{y}<extra></extra>",
         "legendgroup": "7",
         "marker": {
          "color": "#7F7F7F",
          "symbol": "circle"
         },
         "mode": "markers",
         "name": "7",
         "orientation": "v",
         "showlegend": false,
         "type": "scatter",
         "x": [
          1
         ],
         "xaxis": "x3",
         "y": [
          3.220993842924241
         ],
         "yaxis": "y3"
        },
        {
         "hovertemplate": "choc=7<br>person=18<br>rank=%{x}<br>rating=%{y}<extra></extra>",
         "legendgroup": "7",
         "marker": {
          "color": "#7F7F7F",
          "symbol": "circle"
         },
         "mode": "markers",
         "name": "7",
         "orientation": "v",
         "showlegend": false,
         "type": "scatter",
         "x": [
          12
         ],
         "xaxis": "x4",
         "y": [
          -0.7168898793363416
         ],
         "yaxis": "y4"
        },
        {
         "hovertemplate": "choc=7<br>person=19<br>rank=%{x}<br>rating=%{y}<extra></extra>",
         "legendgroup": "7",
         "marker": {
          "color": "#7F7F7F",
          "symbol": "circle"
         },
         "mode": "markers",
         "name": "7",
         "orientation": "v",
         "showlegend": false,
         "type": "scatter",
         "x": [
          4
         ],
         "xaxis": "x5",
         "y": [
          1.150511343918633
         ],
         "yaxis": "y5"
        },
        {
         "hovertemplate": "choc=8<br>person=0<br>rank=%{x}<br>rating=%{y}<extra></extra>",
         "legendgroup": "8",
         "marker": {
          "color": "#BCBD22",
          "symbol": "circle"
         },
         "mode": "markers",
         "name": "8",
         "orientation": "v",
         "showlegend": true,
         "type": "scatter",
         "x": [
          14
         ],
         "xaxis": "x16",
         "y": [
          -1.6182225710816043
         ],
         "yaxis": "y16"
        },
        {
         "hovertemplate": "choc=8<br>person=1<br>rank=%{x}<br>rating=%{y}<extra></extra>",
         "legendgroup": "8",
         "marker": {
          "color": "#BCBD22",
          "symbol": "circle"
         },
         "mode": "markers",
         "name": "8",
         "orientation": "v",
         "showlegend": false,
         "type": "scatter",
         "x": [
          5
         ],
         "xaxis": "x17",
         "y": [
          1.4037938947505162
         ],
         "yaxis": "y17"
        },
        {
         "hovertemplate": "choc=8<br>person=2<br>rank=%{x}<br>rating=%{y}<extra></extra>",
         "legendgroup": "8",
         "marker": {
          "color": "#BCBD22",
          "symbol": "circle"
         },
         "mode": "markers",
         "name": "8",
         "orientation": "v",
         "showlegend": false,
         "type": "scatter",
         "x": [
          2
         ],
         "xaxis": "x18",
         "y": [
          2.4018988373356236
         ],
         "yaxis": "y18"
        },
        {
         "hovertemplate": "choc=8<br>person=3<br>rank=%{x}<br>rating=%{y}<extra></extra>",
         "legendgroup": "8",
         "marker": {
          "color": "#BCBD22",
          "symbol": "circle"
         },
         "mode": "markers",
         "name": "8",
         "orientation": "v",
         "showlegend": false,
         "type": "scatter",
         "x": [
          11
         ],
         "xaxis": "x19",
         "y": [
          -0.9814976163205567
         ],
         "yaxis": "y19"
        },
        {
         "hovertemplate": "choc=8<br>person=4<br>rank=%{x}<br>rating=%{y}<extra></extra>",
         "legendgroup": "8",
         "marker": {
          "color": "#BCBD22",
          "symbol": "circle"
         },
         "mode": "markers",
         "name": "8",
         "orientation": "v",
         "showlegend": false,
         "type": "scatter",
         "x": [
          6
         ],
         "xaxis": "x20",
         "y": [
          2.755859223876228
         ],
         "yaxis": "y20"
        },
        {
         "hovertemplate": "choc=8<br>person=5<br>rank=%{x}<br>rating=%{y}<extra></extra>",
         "legendgroup": "8",
         "marker": {
          "color": "#BCBD22",
          "symbol": "circle"
         },
         "mode": "markers",
         "name": "8",
         "orientation": "v",
         "showlegend": false,
         "type": "scatter",
         "x": [
          8
         ],
         "xaxis": "x11",
         "y": [
          -0.3488777003029746
         ],
         "yaxis": "y11"
        },
        {
         "hovertemplate": "choc=8<br>person=6<br>rank=%{x}<br>rating=%{y}<extra></extra>",
         "legendgroup": "8",
         "marker": {
          "color": "#BCBD22",
          "symbol": "circle"
         },
         "mode": "markers",
         "name": "8",
         "orientation": "v",
         "showlegend": false,
         "type": "scatter",
         "x": [
          1
         ],
         "xaxis": "x12",
         "y": [
          3.279906332852888
         ],
         "yaxis": "y12"
        },
        {
         "hovertemplate": "choc=8<br>person=7<br>rank=%{x}<br>rating=%{y}<extra></extra>",
         "legendgroup": "8",
         "marker": {
          "color": "#BCBD22",
          "symbol": "circle"
         },
         "mode": "markers",
         "name": "8",
         "orientation": "v",
         "showlegend": false,
         "type": "scatter",
         "x": [
          19
         ],
         "xaxis": "x13",
         "y": [
          -5.391387045772148
         ],
         "yaxis": "y13"
        },
        {
         "hovertemplate": "choc=8<br>person=8<br>rank=%{x}<br>rating=%{y}<extra></extra>",
         "legendgroup": "8",
         "marker": {
          "color": "#BCBD22",
          "symbol": "circle"
         },
         "mode": "markers",
         "name": "8",
         "orientation": "v",
         "showlegend": false,
         "type": "scatter",
         "x": [
          2
         ],
         "xaxis": "x14",
         "y": [
          4.481450629417074
         ],
         "yaxis": "y14"
        },
        {
         "hovertemplate": "choc=8<br>person=9<br>rank=%{x}<br>rating=%{y}<extra></extra>",
         "legendgroup": "8",
         "marker": {
          "color": "#BCBD22",
          "symbol": "circle"
         },
         "mode": "markers",
         "name": "8",
         "orientation": "v",
         "showlegend": false,
         "type": "scatter",
         "x": [
          5
         ],
         "xaxis": "x15",
         "y": [
          1.3367062167813337
         ],
         "yaxis": "y15"
        },
        {
         "hovertemplate": "choc=8<br>person=10<br>rank=%{x}<br>rating=%{y}<extra></extra>",
         "legendgroup": "8",
         "marker": {
          "color": "#BCBD22",
          "symbol": "circle"
         },
         "mode": "markers",
         "name": "8",
         "orientation": "v",
         "showlegend": false,
         "type": "scatter",
         "x": [
          0
         ],
         "xaxis": "x6",
         "y": [
          5.564931556916411
         ],
         "yaxis": "y6"
        },
        {
         "hovertemplate": "choc=8<br>person=11<br>rank=%{x}<br>rating=%{y}<extra></extra>",
         "legendgroup": "8",
         "marker": {
          "color": "#BCBD22",
          "symbol": "circle"
         },
         "mode": "markers",
         "name": "8",
         "orientation": "v",
         "showlegend": false,
         "type": "scatter",
         "x": [
          5
         ],
         "xaxis": "x7",
         "y": [
          0.6557467838746824
         ],
         "yaxis": "y7"
        },
        {
         "hovertemplate": "choc=8<br>person=12<br>rank=%{x}<br>rating=%{y}<extra></extra>",
         "legendgroup": "8",
         "marker": {
          "color": "#BCBD22",
          "symbol": "circle"
         },
         "mode": "markers",
         "name": "8",
         "orientation": "v",
         "showlegend": false,
         "type": "scatter",
         "x": [
          5
         ],
         "xaxis": "x8",
         "y": [
          0.18655756634123494
         ],
         "yaxis": "y8"
        },
        {
         "hovertemplate": "choc=8<br>person=13<br>rank=%{x}<br>rating=%{y}<extra></extra>",
         "legendgroup": "8",
         "marker": {
          "color": "#BCBD22",
          "symbol": "circle"
         },
         "mode": "markers",
         "name": "8",
         "orientation": "v",
         "showlegend": false,
         "type": "scatter",
         "x": [
          2
         ],
         "xaxis": "x9",
         "y": [
          3.1400288100648446
         ],
         "yaxis": "y9"
        },
        {
         "hovertemplate": "choc=8<br>person=14<br>rank=%{x}<br>rating=%{y}<extra></extra>",
         "legendgroup": "8",
         "marker": {
          "color": "#BCBD22",
          "symbol": "circle"
         },
         "mode": "markers",
         "name": "8",
         "orientation": "v",
         "showlegend": false,
         "type": "scatter",
         "x": [
          6
         ],
         "xaxis": "x10",
         "y": [
          1.7050550327862821
         ],
         "yaxis": "y10"
        },
        {
         "hovertemplate": "choc=8<br>person=15<br>rank=%{x}<br>rating=%{y}<extra></extra>",
         "legendgroup": "8",
         "marker": {
          "color": "#BCBD22",
          "symbol": "circle"
         },
         "mode": "markers",
         "name": "8",
         "orientation": "v",
         "showlegend": false,
         "type": "scatter",
         "x": [
          15
         ],
         "xaxis": "x",
         "y": [
          -1.8234340827545814
         ],
         "yaxis": "y"
        },
        {
         "hovertemplate": "choc=8<br>person=16<br>rank=%{x}<br>rating=%{y}<extra></extra>",
         "legendgroup": "8",
         "marker": {
          "color": "#BCBD22",
          "symbol": "circle"
         },
         "mode": "markers",
         "name": "8",
         "orientation": "v",
         "showlegend": false,
         "type": "scatter",
         "x": [
          19
         ],
         "xaxis": "x2",
         "y": [
          -4.824680381527036
         ],
         "yaxis": "y2"
        },
        {
         "hovertemplate": "choc=8<br>person=17<br>rank=%{x}<br>rating=%{y}<extra></extra>",
         "legendgroup": "8",
         "marker": {
          "color": "#BCBD22",
          "symbol": "circle"
         },
         "mode": "markers",
         "name": "8",
         "orientation": "v",
         "showlegend": false,
         "type": "scatter",
         "x": [
          13
         ],
         "xaxis": "x3",
         "y": [
          -1.3113188349735359
         ],
         "yaxis": "y3"
        },
        {
         "hovertemplate": "choc=8<br>person=18<br>rank=%{x}<br>rating=%{y}<extra></extra>",
         "legendgroup": "8",
         "marker": {
          "color": "#BCBD22",
          "symbol": "circle"
         },
         "mode": "markers",
         "name": "8",
         "orientation": "v",
         "showlegend": false,
         "type": "scatter",
         "x": [
          5
         ],
         "xaxis": "x4",
         "y": [
          2.074730323591644
         ],
         "yaxis": "y4"
        },
        {
         "hovertemplate": "choc=8<br>person=19<br>rank=%{x}<br>rating=%{y}<extra></extra>",
         "legendgroup": "8",
         "marker": {
          "color": "#BCBD22",
          "symbol": "circle"
         },
         "mode": "markers",
         "name": "8",
         "orientation": "v",
         "showlegend": false,
         "type": "scatter",
         "x": [
          13
         ],
         "xaxis": "x5",
         "y": [
          -1.127732162656802
         ],
         "yaxis": "y5"
        },
        {
         "hovertemplate": "choc=9<br>person=0<br>rank=%{x}<br>rating=%{y}<extra></extra>",
         "legendgroup": "9",
         "marker": {
          "color": "#17BECF",
          "symbol": "circle"
         },
         "mode": "markers",
         "name": "9",
         "orientation": "v",
         "showlegend": true,
         "type": "scatter",
         "x": [
          17
         ],
         "xaxis": "x16",
         "y": [
          -3.215651684184275
         ],
         "yaxis": "y16"
        },
        {
         "hovertemplate": "choc=9<br>person=1<br>rank=%{x}<br>rating=%{y}<extra></extra>",
         "legendgroup": "9",
         "marker": {
          "color": "#17BECF",
          "symbol": "circle"
         },
         "mode": "markers",
         "name": "9",
         "orientation": "v",
         "showlegend": false,
         "type": "scatter",
         "x": [
          15
         ],
         "xaxis": "x17",
         "y": [
          -1.5650542427856462
         ],
         "yaxis": "y17"
        },
        {
         "hovertemplate": "choc=9<br>person=2<br>rank=%{x}<br>rating=%{y}<extra></extra>",
         "legendgroup": "9",
         "marker": {
          "color": "#17BECF",
          "symbol": "circle"
         },
         "mode": "markers",
         "name": "9",
         "orientation": "v",
         "showlegend": false,
         "type": "scatter",
         "x": [
          10
         ],
         "xaxis": "x18",
         "y": [
          -1.3487124661696854
         ],
         "yaxis": "y18"
        },
        {
         "hovertemplate": "choc=9<br>person=3<br>rank=%{x}<br>rating=%{y}<extra></extra>",
         "legendgroup": "9",
         "marker": {
          "color": "#17BECF",
          "symbol": "circle"
         },
         "mode": "markers",
         "name": "9",
         "orientation": "v",
         "showlegend": false,
         "type": "scatter",
         "x": [
          12
         ],
         "xaxis": "x19",
         "y": [
          -1.4776755116269373
         ],
         "yaxis": "y19"
        },
        {
         "hovertemplate": "choc=9<br>person=4<br>rank=%{x}<br>rating=%{y}<extra></extra>",
         "legendgroup": "9",
         "marker": {
          "color": "#17BECF",
          "symbol": "circle"
         },
         "mode": "markers",
         "name": "9",
         "orientation": "v",
         "showlegend": false,
         "type": "scatter",
         "x": [
          13
         ],
         "xaxis": "x20",
         "y": [
          -1.322273645357457
         ],
         "yaxis": "y20"
        },
        {
         "hovertemplate": "choc=9<br>person=5<br>rank=%{x}<br>rating=%{y}<extra></extra>",
         "legendgroup": "9",
         "marker": {
          "color": "#17BECF",
          "symbol": "circle"
         },
         "mode": "markers",
         "name": "9",
         "orientation": "v",
         "showlegend": false,
         "type": "scatter",
         "x": [
          13
         ],
         "xaxis": "x11",
         "y": [
          -0.9642550639717216
         ],
         "yaxis": "y11"
        },
        {
         "hovertemplate": "choc=9<br>person=6<br>rank=%{x}<br>rating=%{y}<extra></extra>",
         "legendgroup": "9",
         "marker": {
          "color": "#17BECF",
          "symbol": "circle"
         },
         "mode": "markers",
         "name": "9",
         "orientation": "v",
         "showlegend": false,
         "type": "scatter",
         "x": [
          17
         ],
         "xaxis": "x12",
         "y": [
          -2.4405514338473786
         ],
         "yaxis": "y12"
        },
        {
         "hovertemplate": "choc=9<br>person=7<br>rank=%{x}<br>rating=%{y}<extra></extra>",
         "legendgroup": "9",
         "marker": {
          "color": "#17BECF",
          "symbol": "circle"
         },
         "mode": "markers",
         "name": "9",
         "orientation": "v",
         "showlegend": false,
         "type": "scatter",
         "x": [
          10
         ],
         "xaxis": "x13",
         "y": [
          -1.0237282947607795
         ],
         "yaxis": "y13"
        },
        {
         "hovertemplate": "choc=9<br>person=8<br>rank=%{x}<br>rating=%{y}<extra></extra>",
         "legendgroup": "9",
         "marker": {
          "color": "#17BECF",
          "symbol": "circle"
         },
         "mode": "markers",
         "name": "9",
         "orientation": "v",
         "showlegend": false,
         "type": "scatter",
         "x": [
          6
         ],
         "xaxis": "x14",
         "y": [
          0.4919449952698416
         ],
         "yaxis": "y14"
        },
        {
         "hovertemplate": "choc=9<br>person=9<br>rank=%{x}<br>rating=%{y}<extra></extra>",
         "legendgroup": "9",
         "marker": {
          "color": "#17BECF",
          "symbol": "circle"
         },
         "mode": "markers",
         "name": "9",
         "orientation": "v",
         "showlegend": false,
         "type": "scatter",
         "x": [
          14
         ],
         "xaxis": "x15",
         "y": [
          -1.7949127401065195
         ],
         "yaxis": "y15"
        },
        {
         "hovertemplate": "choc=9<br>person=10<br>rank=%{x}<br>rating=%{y}<extra></extra>",
         "legendgroup": "9",
         "marker": {
          "color": "#17BECF",
          "symbol": "circle"
         },
         "mode": "markers",
         "name": "9",
         "orientation": "v",
         "showlegend": false,
         "type": "scatter",
         "x": [
          9
         ],
         "xaxis": "x6",
         "y": [
          0.3120426058684318
         ],
         "yaxis": "y6"
        },
        {
         "hovertemplate": "choc=9<br>person=11<br>rank=%{x}<br>rating=%{y}<extra></extra>",
         "legendgroup": "9",
         "marker": {
          "color": "#17BECF",
          "symbol": "circle"
         },
         "mode": "markers",
         "name": "9",
         "orientation": "v",
         "showlegend": false,
         "type": "scatter",
         "x": [
          1
         ],
         "xaxis": "x7",
         "y": [
          1.8104026311779065
         ],
         "yaxis": "y7"
        },
        {
         "hovertemplate": "choc=9<br>person=12<br>rank=%{x}<br>rating=%{y}<extra></extra>",
         "legendgroup": "9",
         "marker": {
          "color": "#17BECF",
          "symbol": "circle"
         },
         "mode": "markers",
         "name": "9",
         "orientation": "v",
         "showlegend": false,
         "type": "scatter",
         "x": [
          14
         ],
         "xaxis": "x8",
         "y": [
          -1.978493646291386
         ],
         "yaxis": "y8"
        },
        {
         "hovertemplate": "choc=9<br>person=13<br>rank=%{x}<br>rating=%{y}<extra></extra>",
         "legendgroup": "9",
         "marker": {
          "color": "#17BECF",
          "symbol": "circle"
         },
         "mode": "markers",
         "name": "9",
         "orientation": "v",
         "showlegend": false,
         "type": "scatter",
         "x": [
          11
         ],
         "xaxis": "x9",
         "y": [
          -0.41799294580658675
         ],
         "yaxis": "y9"
        },
        {
         "hovertemplate": "choc=9<br>person=14<br>rank=%{x}<br>rating=%{y}<extra></extra>",
         "legendgroup": "9",
         "marker": {
          "color": "#17BECF",
          "symbol": "circle"
         },
         "mode": "markers",
         "name": "9",
         "orientation": "v",
         "showlegend": false,
         "type": "scatter",
         "x": [
          11
         ],
         "xaxis": "x10",
         "y": [
          -0.6849740465238456
         ],
         "yaxis": "y10"
        },
        {
         "hovertemplate": "choc=9<br>person=15<br>rank=%{x}<br>rating=%{y}<extra></extra>",
         "legendgroup": "9",
         "marker": {
          "color": "#17BECF",
          "symbol": "circle"
         },
         "mode": "markers",
         "name": "9",
         "orientation": "v",
         "showlegend": false,
         "type": "scatter",
         "x": [
          11
         ],
         "xaxis": "x",
         "y": [
          -1.2237526010516673
         ],
         "yaxis": "y"
        },
        {
         "hovertemplate": "choc=9<br>person=16<br>rank=%{x}<br>rating=%{y}<extra></extra>",
         "legendgroup": "9",
         "marker": {
          "color": "#17BECF",
          "symbol": "circle"
         },
         "mode": "markers",
         "name": "9",
         "orientation": "v",
         "showlegend": false,
         "type": "scatter",
         "x": [
          13
         ],
         "xaxis": "x2",
         "y": [
          -0.8640347478737976
         ],
         "yaxis": "y2"
        },
        {
         "hovertemplate": "choc=9<br>person=17<br>rank=%{x}<br>rating=%{y}<extra></extra>",
         "legendgroup": "9",
         "marker": {
          "color": "#17BECF",
          "symbol": "circle"
         },
         "mode": "markers",
         "name": "9",
         "orientation": "v",
         "showlegend": false,
         "type": "scatter",
         "x": [
          7
         ],
         "xaxis": "x3",
         "y": [
          -0.30188373658184553
         ],
         "yaxis": "y3"
        },
        {
         "hovertemplate": "choc=9<br>person=18<br>rank=%{x}<br>rating=%{y}<extra></extra>",
         "legendgroup": "9",
         "marker": {
          "color": "#17BECF",
          "symbol": "circle"
         },
         "mode": "markers",
         "name": "9",
         "orientation": "v",
         "showlegend": false,
         "type": "scatter",
         "x": [
          10
         ],
         "xaxis": "x4",
         "y": [
          0.49016500664868734
         ],
         "yaxis": "y4"
        },
        {
         "hovertemplate": "choc=9<br>person=19<br>rank=%{x}<br>rating=%{y}<extra></extra>",
         "legendgroup": "9",
         "marker": {
          "color": "#17BECF",
          "symbol": "circle"
         },
         "mode": "markers",
         "name": "9",
         "orientation": "v",
         "showlegend": false,
         "type": "scatter",
         "x": [
          17
         ],
         "xaxis": "x5",
         "y": [
          -2.132437586711367
         ],
         "yaxis": "y5"
        },
        {
         "hovertemplate": "choc=10<br>person=0<br>rank=%{x}<br>rating=%{y}<extra></extra>",
         "legendgroup": "10",
         "marker": {
          "color": "#1F77B4",
          "symbol": "circle"
         },
         "mode": "markers",
         "name": "10",
         "orientation": "v",
         "showlegend": true,
         "type": "scatter",
         "x": [
          1
         ],
         "xaxis": "x16",
         "y": [
          4.6748753628630375
         ],
         "yaxis": "y16"
        },
        {
         "hovertemplate": "choc=10<br>person=1<br>rank=%{x}<br>rating=%{y}<extra></extra>",
         "legendgroup": "10",
         "marker": {
          "color": "#1F77B4",
          "symbol": "circle"
         },
         "mode": "markers",
         "name": "10",
         "orientation": "v",
         "showlegend": false,
         "type": "scatter",
         "x": [
          2
         ],
         "xaxis": "x17",
         "y": [
          3.041325335450947
         ],
         "yaxis": "y17"
        },
        {
         "hovertemplate": "choc=10<br>person=2<br>rank=%{x}<br>rating=%{y}<extra></extra>",
         "legendgroup": "10",
         "marker": {
          "color": "#1F77B4",
          "symbol": "circle"
         },
         "mode": "markers",
         "name": "10",
         "orientation": "v",
         "showlegend": false,
         "type": "scatter",
         "x": [
          15
         ],
         "xaxis": "x18",
         "y": [
          -2.5273879274210906
         ],
         "yaxis": "y18"
        },
        {
         "hovertemplate": "choc=10<br>person=3<br>rank=%{x}<br>rating=%{y}<extra></extra>",
         "legendgroup": "10",
         "marker": {
          "color": "#1F77B4",
          "symbol": "circle"
         },
         "mode": "markers",
         "name": "10",
         "orientation": "v",
         "showlegend": false,
         "type": "scatter",
         "x": [
          4
         ],
         "xaxis": "x19",
         "y": [
          1.5744955456978613
         ],
         "yaxis": "y19"
        },
        {
         "hovertemplate": "choc=10<br>person=4<br>rank=%{x}<br>rating=%{y}<extra></extra>",
         "legendgroup": "10",
         "marker": {
          "color": "#1F77B4",
          "symbol": "circle"
         },
         "mode": "markers",
         "name": "10",
         "orientation": "v",
         "showlegend": false,
         "type": "scatter",
         "x": [
          3
         ],
         "xaxis": "x20",
         "y": [
          4.977821556572974
         ],
         "yaxis": "y20"
        },
        {
         "hovertemplate": "choc=10<br>person=5<br>rank=%{x}<br>rating=%{y}<extra></extra>",
         "legendgroup": "10",
         "marker": {
          "color": "#1F77B4",
          "symbol": "circle"
         },
         "mode": "markers",
         "name": "10",
         "orientation": "v",
         "showlegend": false,
         "type": "scatter",
         "x": [
          9
         ],
         "xaxis": "x11",
         "y": [
          -0.3497333500538102
         ],
         "yaxis": "y11"
        },
        {
         "hovertemplate": "choc=10<br>person=6<br>rank=%{x}<br>rating=%{y}<extra></extra>",
         "legendgroup": "10",
         "marker": {
          "color": "#1F77B4",
          "symbol": "circle"
         },
         "mode": "markers",
         "name": "10",
         "orientation": "v",
         "showlegend": false,
         "type": "scatter",
         "x": [
          7
         ],
         "xaxis": "x12",
         "y": [
          0.7476595893646705
         ],
         "yaxis": "y12"
        },
        {
         "hovertemplate": "choc=10<br>person=7<br>rank=%{x}<br>rating=%{y}<extra></extra>",
         "legendgroup": "10",
         "marker": {
          "color": "#1F77B4",
          "symbol": "circle"
         },
         "mode": "markers",
         "name": "10",
         "orientation": "v",
         "showlegend": false,
         "type": "scatter",
         "x": [
          5
         ],
         "xaxis": "x13",
         "y": [
          0.35607806807007153
         ],
         "yaxis": "y13"
        },
        {
         "hovertemplate": "choc=10<br>person=8<br>rank=%{x}<br>rating=%{y}<extra></extra>",
         "legendgroup": "10",
         "marker": {
          "color": "#1F77B4",
          "symbol": "circle"
         },
         "mode": "markers",
         "name": "10",
         "orientation": "v",
         "showlegend": false,
         "type": "scatter",
         "x": [
          7
         ],
         "xaxis": "x14",
         "y": [
          0.30343221892457983
         ],
         "yaxis": "y14"
        },
        {
         "hovertemplate": "choc=10<br>person=9<br>rank=%{x}<br>rating=%{y}<extra></extra>",
         "legendgroup": "10",
         "marker": {
          "color": "#1F77B4",
          "symbol": "circle"
         },
         "mode": "markers",
         "name": "10",
         "orientation": "v",
         "showlegend": false,
         "type": "scatter",
         "x": [
          2
         ],
         "xaxis": "x15",
         "y": [
          2.693265971682901
         ],
         "yaxis": "y15"
        },
        {
         "hovertemplate": "choc=10<br>person=10<br>rank=%{x}<br>rating=%{y}<extra></extra>",
         "legendgroup": "10",
         "marker": {
          "color": "#1F77B4",
          "symbol": "circle"
         },
         "mode": "markers",
         "name": "10",
         "orientation": "v",
         "showlegend": false,
         "type": "scatter",
         "x": [
          15
         ],
         "xaxis": "x6",
         "y": [
          -1.371025966247282
         ],
         "yaxis": "y6"
        },
        {
         "hovertemplate": "choc=10<br>person=11<br>rank=%{x}<br>rating=%{y}<extra></extra>",
         "legendgroup": "10",
         "marker": {
          "color": "#1F77B4",
          "symbol": "circle"
         },
         "mode": "markers",
         "name": "10",
         "orientation": "v",
         "showlegend": false,
         "type": "scatter",
         "x": [
          6
         ],
         "xaxis": "x7",
         "y": [
          0.3674054534128881
         ],
         "yaxis": "y7"
        },
        {
         "hovertemplate": "choc=10<br>person=12<br>rank=%{x}<br>rating=%{y}<extra></extra>",
         "legendgroup": "10",
         "marker": {
          "color": "#1F77B4",
          "symbol": "circle"
         },
         "mode": "markers",
         "name": "10",
         "orientation": "v",
         "showlegend": false,
         "type": "scatter",
         "x": [
          9
         ],
         "xaxis": "x8",
         "y": [
          -0.27587288713043584
         ],
         "yaxis": "y8"
        },
        {
         "hovertemplate": "choc=10<br>person=13<br>rank=%{x}<br>rating=%{y}<extra></extra>",
         "legendgroup": "10",
         "marker": {
          "color": "#1F77B4",
          "symbol": "circle"
         },
         "mode": "markers",
         "name": "10",
         "orientation": "v",
         "showlegend": false,
         "type": "scatter",
         "x": [
          9
         ],
         "xaxis": "x9",
         "y": [
          -0.19039554952084065
         ],
         "yaxis": "y9"
        },
        {
         "hovertemplate": "choc=10<br>person=14<br>rank=%{x}<br>rating=%{y}<extra></extra>",
         "legendgroup": "10",
         "marker": {
          "color": "#1F77B4",
          "symbol": "circle"
         },
         "mode": "markers",
         "name": "10",
         "orientation": "v",
         "showlegend": false,
         "type": "scatter",
         "x": [
          19
         ],
         "xaxis": "x10",
         "y": [
          -5.819841475727939
         ],
         "yaxis": "y10"
        },
        {
         "hovertemplate": "choc=10<br>person=15<br>rank=%{x}<br>rating=%{y}<extra></extra>",
         "legendgroup": "10",
         "marker": {
          "color": "#1F77B4",
          "symbol": "circle"
         },
         "mode": "markers",
         "name": "10",
         "orientation": "v",
         "showlegend": false,
         "type": "scatter",
         "x": [
          19
         ],
         "xaxis": "x",
         "y": [
          -5.153874748965519
         ],
         "yaxis": "y"
        },
        {
         "hovertemplate": "choc=10<br>person=16<br>rank=%{x}<br>rating=%{y}<extra></extra>",
         "legendgroup": "10",
         "marker": {
          "color": "#1F77B4",
          "symbol": "circle"
         },
         "mode": "markers",
         "name": "10",
         "orientation": "v",
         "showlegend": false,
         "type": "scatter",
         "x": [
          5
         ],
         "xaxis": "x2",
         "y": [
          2.7144900883305465
         ],
         "yaxis": "y2"
        },
        {
         "hovertemplate": "choc=10<br>person=17<br>rank=%{x}<br>rating=%{y}<extra></extra>",
         "legendgroup": "10",
         "marker": {
          "color": "#1F77B4",
          "symbol": "circle"
         },
         "mode": "markers",
         "name": "10",
         "orientation": "v",
         "showlegend": false,
         "type": "scatter",
         "x": [
          18
         ],
         "xaxis": "x3",
         "y": [
          -3.327882470031282
         ],
         "yaxis": "y3"
        },
        {
         "hovertemplate": "choc=10<br>person=18<br>rank=%{x}<br>rating=%{y}<extra></extra>",
         "legendgroup": "10",
         "marker": {
          "color": "#1F77B4",
          "symbol": "circle"
         },
         "mode": "markers",
         "name": "10",
         "orientation": "v",
         "showlegend": false,
         "type": "scatter",
         "x": [
          15
         ],
         "xaxis": "x4",
         "y": [
          -2.7665863354509783
         ],
         "yaxis": "y4"
        },
        {
         "hovertemplate": "choc=10<br>person=19<br>rank=%{x}<br>rating=%{y}<extra></extra>",
         "legendgroup": "10",
         "marker": {
          "color": "#1F77B4",
          "symbol": "circle"
         },
         "mode": "markers",
         "name": "10",
         "orientation": "v",
         "showlegend": false,
         "type": "scatter",
         "x": [
          8
         ],
         "xaxis": "x5",
         "y": [
          0.6769370760457898
         ],
         "yaxis": "y5"
        },
        {
         "hovertemplate": "choc=11<br>person=0<br>rank=%{x}<br>rating=%{y}<extra></extra>",
         "legendgroup": "11",
         "marker": {
          "color": "#FF7F0E",
          "symbol": "circle"
         },
         "mode": "markers",
         "name": "11",
         "orientation": "v",
         "showlegend": true,
         "type": "scatter",
         "x": [
          7
         ],
         "xaxis": "x16",
         "y": [
          0.47510606596238136
         ],
         "yaxis": "y16"
        },
        {
         "hovertemplate": "choc=11<br>person=1<br>rank=%{x}<br>rating=%{y}<extra></extra>",
         "legendgroup": "11",
         "marker": {
          "color": "#FF7F0E",
          "symbol": "circle"
         },
         "mode": "markers",
         "name": "11",
         "orientation": "v",
         "showlegend": false,
         "type": "scatter",
         "x": [
          6
         ],
         "xaxis": "x17",
         "y": [
          1.256234278557034
         ],
         "yaxis": "y17"
        },
        {
         "hovertemplate": "choc=11<br>person=2<br>rank=%{x}<br>rating=%{y}<extra></extra>",
         "legendgroup": "11",
         "marker": {
          "color": "#FF7F0E",
          "symbol": "circle"
         },
         "mode": "markers",
         "name": "11",
         "orientation": "v",
         "showlegend": false,
         "type": "scatter",
         "x": [
          8
         ],
         "xaxis": "x18",
         "y": [
          -0.07325449736021114
         ],
         "yaxis": "y18"
        },
        {
         "hovertemplate": "choc=11<br>person=3<br>rank=%{x}<br>rating=%{y}<extra></extra>",
         "legendgroup": "11",
         "marker": {
          "color": "#FF7F0E",
          "symbol": "circle"
         },
         "mode": "markers",
         "name": "11",
         "orientation": "v",
         "showlegend": false,
         "type": "scatter",
         "x": [
          15
         ],
         "xaxis": "x19",
         "y": [
          -1.8625622235678911
         ],
         "yaxis": "y19"
        },
        {
         "hovertemplate": "choc=11<br>person=4<br>rank=%{x}<br>rating=%{y}<extra></extra>",
         "legendgroup": "11",
         "marker": {
          "color": "#FF7F0E",
          "symbol": "circle"
         },
         "mode": "markers",
         "name": "11",
         "orientation": "v",
         "showlegend": false,
         "type": "scatter",
         "x": [
          10
         ],
         "xaxis": "x20",
         "y": [
          -0.00883172794619641
         ],
         "yaxis": "y20"
        },
        {
         "hovertemplate": "choc=11<br>person=5<br>rank=%{x}<br>rating=%{y}<extra></extra>",
         "legendgroup": "11",
         "marker": {
          "color": "#FF7F0E",
          "symbol": "circle"
         },
         "mode": "markers",
         "name": "11",
         "orientation": "v",
         "showlegend": false,
         "type": "scatter",
         "x": [
          16
         ],
         "xaxis": "x11",
         "y": [
          -1.3432163697684216
         ],
         "yaxis": "y11"
        },
        {
         "hovertemplate": "choc=11<br>person=6<br>rank=%{x}<br>rating=%{y}<extra></extra>",
         "legendgroup": "11",
         "marker": {
          "color": "#FF7F0E",
          "symbol": "circle"
         },
         "mode": "markers",
         "name": "11",
         "orientation": "v",
         "showlegend": false,
         "type": "scatter",
         "x": [
          8
         ],
         "xaxis": "x12",
         "y": [
          0.6992974304871429
         ],
         "yaxis": "y12"
        },
        {
         "hovertemplate": "choc=11<br>person=7<br>rank=%{x}<br>rating=%{y}<extra></extra>",
         "legendgroup": "11",
         "marker": {
          "color": "#FF7F0E",
          "symbol": "circle"
         },
         "mode": "markers",
         "name": "11",
         "orientation": "v",
         "showlegend": false,
         "type": "scatter",
         "x": [
          14
         ],
         "xaxis": "x13",
         "y": [
          -2.1657227670769843
         ],
         "yaxis": "y13"
        },
        {
         "hovertemplate": "choc=11<br>person=8<br>rank=%{x}<br>rating=%{y}<extra></extra>",
         "legendgroup": "11",
         "marker": {
          "color": "#FF7F0E",
          "symbol": "circle"
         },
         "mode": "markers",
         "name": "11",
         "orientation": "v",
         "showlegend": false,
         "type": "scatter",
         "x": [
          10
         ],
         "xaxis": "x14",
         "y": [
          -0.1866777929037223
         ],
         "yaxis": "y14"
        },
        {
         "hovertemplate": "choc=11<br>person=9<br>rank=%{x}<br>rating=%{y}<extra></extra>",
         "legendgroup": "11",
         "marker": {
          "color": "#FF7F0E",
          "symbol": "circle"
         },
         "mode": "markers",
         "name": "11",
         "orientation": "v",
         "showlegend": false,
         "type": "scatter",
         "x": [
          10
         ],
         "xaxis": "x15",
         "y": [
          -0.605858572742794
         ],
         "yaxis": "y15"
        },
        {
         "hovertemplate": "choc=11<br>person=10<br>rank=%{x}<br>rating=%{y}<extra></extra>",
         "legendgroup": "11",
         "marker": {
          "color": "#FF7F0E",
          "symbol": "circle"
         },
         "mode": "markers",
         "name": "11",
         "orientation": "v",
         "showlegend": false,
         "type": "scatter",
         "x": [
          5
         ],
         "xaxis": "x6",
         "y": [
          1.7381717449659047
         ],
         "yaxis": "y6"
        },
        {
         "hovertemplate": "choc=11<br>person=11<br>rank=%{x}<br>rating=%{y}<extra></extra>",
         "legendgroup": "11",
         "marker": {
          "color": "#FF7F0E",
          "symbol": "circle"
         },
         "mode": "markers",
         "name": "11",
         "orientation": "v",
         "showlegend": false,
         "type": "scatter",
         "x": [
          4
         ],
         "xaxis": "x7",
         "y": [
          1.1686150723826132
         ],
         "yaxis": "y7"
        },
        {
         "hovertemplate": "choc=11<br>person=12<br>rank=%{x}<br>rating=%{y}<extra></extra>",
         "legendgroup": "11",
         "marker": {
          "color": "#FF7F0E",
          "symbol": "circle"
         },
         "mode": "markers",
         "name": "11",
         "orientation": "v",
         "showlegend": false,
         "type": "scatter",
         "x": [
          11
         ],
         "xaxis": "x8",
         "y": [
          -0.38783852263548135
         ],
         "yaxis": "y8"
        },
        {
         "hovertemplate": "choc=11<br>person=13<br>rank=%{x}<br>rating=%{y}<extra></extra>",
         "legendgroup": "11",
         "marker": {
          "color": "#FF7F0E",
          "symbol": "circle"
         },
         "mode": "markers",
         "name": "11",
         "orientation": "v",
         "showlegend": false,
         "type": "scatter",
         "x": [
          10
         ],
         "xaxis": "x9",
         "y": [
          -0.20691225985482745
         ],
         "yaxis": "y9"
        },
        {
         "hovertemplate": "choc=11<br>person=14<br>rank=%{x}<br>rating=%{y}<extra></extra>",
         "legendgroup": "11",
         "marker": {
          "color": "#FF7F0E",
          "symbol": "circle"
         },
         "mode": "markers",
         "name": "11",
         "orientation": "v",
         "showlegend": false,
         "type": "scatter",
         "x": [
          9
         ],
         "xaxis": "x10",
         "y": [
          0.775775262605885
         ],
         "yaxis": "y10"
        },
        {
         "hovertemplate": "choc=11<br>person=15<br>rank=%{x}<br>rating=%{y}<extra></extra>",
         "legendgroup": "11",
         "marker": {
          "color": "#FF7F0E",
          "symbol": "circle"
         },
         "mode": "markers",
         "name": "11",
         "orientation": "v",
         "showlegend": false,
         "type": "scatter",
         "x": [
          16
         ],
         "xaxis": "x",
         "y": [
          -1.9997791246852923
         ],
         "yaxis": "y"
        },
        {
         "hovertemplate": "choc=11<br>person=16<br>rank=%{x}<br>rating=%{y}<extra></extra>",
         "legendgroup": "11",
         "marker": {
          "color": "#FF7F0E",
          "symbol": "circle"
         },
         "mode": "markers",
         "name": "11",
         "orientation": "v",
         "showlegend": false,
         "type": "scatter",
         "x": [
          4
         ],
         "xaxis": "x2",
         "y": [
          3.0144893812725555
         ],
         "yaxis": "y2"
        },
        {
         "hovertemplate": "choc=11<br>person=17<br>rank=%{x}<br>rating=%{y}<extra></extra>",
         "legendgroup": "11",
         "marker": {
          "color": "#FF7F0E",
          "symbol": "circle"
         },
         "mode": "markers",
         "name": "11",
         "orientation": "v",
         "showlegend": false,
         "type": "scatter",
         "x": [
          10
         ],
         "xaxis": "x3",
         "y": [
          -0.9850070305931983
         ],
         "yaxis": "y3"
        },
        {
         "hovertemplate": "choc=11<br>person=18<br>rank=%{x}<br>rating=%{y}<extra></extra>",
         "legendgroup": "11",
         "marker": {
          "color": "#FF7F0E",
          "symbol": "circle"
         },
         "mode": "markers",
         "name": "11",
         "orientation": "v",
         "showlegend": false,
         "type": "scatter",
         "x": [
          9
         ],
         "xaxis": "x4",
         "y": [
          0.7047765908397585
         ],
         "yaxis": "y4"
        },
        {
         "hovertemplate": "choc=11<br>person=19<br>rank=%{x}<br>rating=%{y}<extra></extra>",
         "legendgroup": "11",
         "marker": {
          "color": "#FF7F0E",
          "symbol": "circle"
         },
         "mode": "markers",
         "name": "11",
         "orientation": "v",
         "showlegend": false,
         "type": "scatter",
         "x": [
          6
         ],
         "xaxis": "x5",
         "y": [
          0.8326743348619478
         ],
         "yaxis": "y5"
        },
        {
         "hovertemplate": "choc=12<br>person=0<br>rank=%{x}<br>rating=%{y}<extra></extra>",
         "legendgroup": "12",
         "marker": {
          "color": "#2CA02C",
          "symbol": "circle"
         },
         "mode": "markers",
         "name": "12",
         "orientation": "v",
         "showlegend": true,
         "type": "scatter",
         "x": [
          13
         ],
         "xaxis": "x16",
         "y": [
          -1.512223437382539
         ],
         "yaxis": "y16"
        },
        {
         "hovertemplate": "choc=12<br>person=1<br>rank=%{x}<br>rating=%{y}<extra></extra>",
         "legendgroup": "12",
         "marker": {
          "color": "#2CA02C",
          "symbol": "circle"
         },
         "mode": "markers",
         "name": "12",
         "orientation": "v",
         "showlegend": false,
         "type": "scatter",
         "x": [
          18
         ],
         "xaxis": "x17",
         "y": [
          -3.7456458958444445
         ],
         "yaxis": "y17"
        },
        {
         "hovertemplate": "choc=12<br>person=2<br>rank=%{x}<br>rating=%{y}<extra></extra>",
         "legendgroup": "12",
         "marker": {
          "color": "#2CA02C",
          "symbol": "circle"
         },
         "mode": "markers",
         "name": "12",
         "orientation": "v",
         "showlegend": false,
         "type": "scatter",
         "x": [
          9
         ],
         "xaxis": "x18",
         "y": [
          -0.9789693173266418
         ],
         "yaxis": "y18"
        },
        {
         "hovertemplate": "choc=12<br>person=3<br>rank=%{x}<br>rating=%{y}<extra></extra>",
         "legendgroup": "12",
         "marker": {
          "color": "#2CA02C",
          "symbol": "circle"
         },
         "mode": "markers",
         "name": "12",
         "orientation": "v",
         "showlegend": false,
         "type": "scatter",
         "x": [
          3
         ],
         "xaxis": "x19",
         "y": [
          2.7210999871180803
         ],
         "yaxis": "y19"
        },
        {
         "hovertemplate": "choc=12<br>person=4<br>rank=%{x}<br>rating=%{y}<extra></extra>",
         "legendgroup": "12",
         "marker": {
          "color": "#2CA02C",
          "symbol": "circle"
         },
         "mode": "markers",
         "name": "12",
         "orientation": "v",
         "showlegend": false,
         "type": "scatter",
         "x": [
          0
         ],
         "xaxis": "x20",
         "y": [
          5.818758395368528
         ],
         "yaxis": "y20"
        },
        {
         "hovertemplate": "choc=12<br>person=5<br>rank=%{x}<br>rating=%{y}<extra></extra>",
         "legendgroup": "12",
         "marker": {
          "color": "#2CA02C",
          "symbol": "circle"
         },
         "mode": "markers",
         "name": "12",
         "orientation": "v",
         "showlegend": false,
         "type": "scatter",
         "x": [
          10
         ],
         "xaxis": "x11",
         "y": [
          -0.42359894234785034
         ],
         "yaxis": "y11"
        },
        {
         "hovertemplate": "choc=12<br>person=6<br>rank=%{x}<br>rating=%{y}<extra></extra>",
         "legendgroup": "12",
         "marker": {
          "color": "#2CA02C",
          "symbol": "circle"
         },
         "mode": "markers",
         "name": "12",
         "orientation": "v",
         "showlegend": false,
         "type": "scatter",
         "x": [
          2
         ],
         "xaxis": "x12",
         "y": [
          2.660791629467898
         ],
         "yaxis": "y12"
        },
        {
         "hovertemplate": "choc=12<br>person=7<br>rank=%{x}<br>rating=%{y}<extra></extra>",
         "legendgroup": "12",
         "marker": {
          "color": "#2CA02C",
          "symbol": "circle"
         },
         "mode": "markers",
         "name": "12",
         "orientation": "v",
         "showlegend": false,
         "type": "scatter",
         "x": [
          13
         ],
         "xaxis": "x13",
         "y": [
          -1.3669208103973267
         ],
         "yaxis": "y13"
        },
        {
         "hovertemplate": "choc=12<br>person=8<br>rank=%{x}<br>rating=%{y}<extra></extra>",
         "legendgroup": "12",
         "marker": {
          "color": "#2CA02C",
          "symbol": "circle"
         },
         "mode": "markers",
         "name": "12",
         "orientation": "v",
         "showlegend": false,
         "type": "scatter",
         "x": [
          17
         ],
         "xaxis": "x14",
         "y": [
          -3.4128913748324754
         ],
         "yaxis": "y14"
        },
        {
         "hovertemplate": "choc=12<br>person=9<br>rank=%{x}<br>rating=%{y}<extra></extra>",
         "legendgroup": "12",
         "marker": {
          "color": "#2CA02C",
          "symbol": "circle"
         },
         "mode": "markers",
         "name": "12",
         "orientation": "v",
         "showlegend": false,
         "type": "scatter",
         "x": [
          7
         ],
         "xaxis": "x15",
         "y": [
          0.4213325811458412
         ],
         "yaxis": "y15"
        },
        {
         "hovertemplate": "choc=12<br>person=10<br>rank=%{x}<br>rating=%{y}<extra></extra>",
         "legendgroup": "12",
         "marker": {
          "color": "#2CA02C",
          "symbol": "circle"
         },
         "mode": "markers",
         "name": "12",
         "orientation": "v",
         "showlegend": false,
         "type": "scatter",
         "x": [
          19
         ],
         "xaxis": "x6",
         "y": [
          -3.965661603044232
         ],
         "yaxis": "y6"
        },
        {
         "hovertemplate": "choc=12<br>person=11<br>rank=%{x}<br>rating=%{y}<extra></extra>",
         "legendgroup": "12",
         "marker": {
          "color": "#2CA02C",
          "symbol": "circle"
         },
         "mode": "markers",
         "name": "12",
         "orientation": "v",
         "showlegend": false,
         "type": "scatter",
         "x": [
          9
         ],
         "xaxis": "x7",
         "y": [
          0.30834237611691373
         ],
         "yaxis": "y7"
        },
        {
         "hovertemplate": "choc=12<br>person=12<br>rank=%{x}<br>rating=%{y}<extra></extra>",
         "legendgroup": "12",
         "marker": {
          "color": "#2CA02C",
          "symbol": "circle"
         },
         "mode": "markers",
         "name": "12",
         "orientation": "v",
         "showlegend": false,
         "type": "scatter",
         "x": [
          3
         ],
         "xaxis": "x8",
         "y": [
          0.9067136702549228
         ],
         "yaxis": "y8"
        },
        {
         "hovertemplate": "choc=12<br>person=13<br>rank=%{x}<br>rating=%{y}<extra></extra>",
         "legendgroup": "12",
         "marker": {
          "color": "#2CA02C",
          "symbol": "circle"
         },
         "mode": "markers",
         "name": "12",
         "orientation": "v",
         "showlegend": false,
         "type": "scatter",
         "x": [
          5
         ],
         "xaxis": "x9",
         "y": [
          1.5281998401462058
         ],
         "yaxis": "y9"
        },
        {
         "hovertemplate": "choc=12<br>person=14<br>rank=%{x}<br>rating=%{y}<extra></extra>",
         "legendgroup": "12",
         "marker": {
          "color": "#2CA02C",
          "symbol": "circle"
         },
         "mode": "markers",
         "name": "12",
         "orientation": "v",
         "showlegend": false,
         "type": "scatter",
         "x": [
          5
         ],
         "xaxis": "x10",
         "y": [
          1.7060707297987778
         ],
         "yaxis": "y10"
        },
        {
         "hovertemplate": "choc=12<br>person=15<br>rank=%{x}<br>rating=%{y}<extra></extra>",
         "legendgroup": "12",
         "marker": {
          "color": "#2CA02C",
          "symbol": "circle"
         },
         "mode": "markers",
         "name": "12",
         "orientation": "v",
         "showlegend": false,
         "type": "scatter",
         "x": [
          17
         ],
         "xaxis": "x",
         "y": [
          -3.1442486807621153
         ],
         "yaxis": "y"
        },
        {
         "hovertemplate": "choc=12<br>person=16<br>rank=%{x}<br>rating=%{y}<extra></extra>",
         "legendgroup": "12",
         "marker": {
          "color": "#2CA02C",
          "symbol": "circle"
         },
         "mode": "markers",
         "name": "12",
         "orientation": "v",
         "showlegend": false,
         "type": "scatter",
         "x": [
          7
         ],
         "xaxis": "x2",
         "y": [
          1.999829185656701
         ],
         "yaxis": "y2"
        },
        {
         "hovertemplate": "choc=12<br>person=17<br>rank=%{x}<br>rating=%{y}<extra></extra>",
         "legendgroup": "12",
         "marker": {
          "color": "#2CA02C",
          "symbol": "circle"
         },
         "mode": "markers",
         "name": "12",
         "orientation": "v",
         "showlegend": false,
         "type": "scatter",
         "x": [
          5
         ],
         "xaxis": "x3",
         "y": [
          0.5028068918701385
         ],
         "yaxis": "y3"
        },
        {
         "hovertemplate": "choc=12<br>person=18<br>rank=%{x}<br>rating=%{y}<extra></extra>",
         "legendgroup": "12",
         "marker": {
          "color": "#2CA02C",
          "symbol": "circle"
         },
         "mode": "markers",
         "name": "12",
         "orientation": "v",
         "showlegend": false,
         "type": "scatter",
         "x": [
          16
         ],
         "xaxis": "x4",
         "y": [
          -3.5836663218411173
         ],
         "yaxis": "y4"
        },
        {
         "hovertemplate": "choc=12<br>person=19<br>rank=%{x}<br>rating=%{y}<extra></extra>",
         "legendgroup": "12",
         "marker": {
          "color": "#2CA02C",
          "symbol": "circle"
         },
         "mode": "markers",
         "name": "12",
         "orientation": "v",
         "showlegend": false,
         "type": "scatter",
         "x": [
          9
         ],
         "xaxis": "x5",
         "y": [
          0.5613713366584818
         ],
         "yaxis": "y5"
        },
        {
         "hovertemplate": "choc=13<br>person=0<br>rank=%{x}<br>rating=%{y}<extra></extra>",
         "legendgroup": "13",
         "marker": {
          "color": "#D62728",
          "symbol": "circle"
         },
         "mode": "markers",
         "name": "13",
         "orientation": "v",
         "showlegend": true,
         "type": "scatter",
         "x": [
          8
         ],
         "xaxis": "x16",
         "y": [
          -0.17553069016760103
         ],
         "yaxis": "y16"
        },
        {
         "hovertemplate": "choc=13<br>person=1<br>rank=%{x}<br>rating=%{y}<extra></extra>",
         "legendgroup": "13",
         "marker": {
          "color": "#D62728",
          "symbol": "circle"
         },
         "mode": "markers",
         "name": "13",
         "orientation": "v",
         "showlegend": false,
         "type": "scatter",
         "x": [
          17
         ],
         "xaxis": "x17",
         "y": [
          -2.6594326530238086
         ],
         "yaxis": "y17"
        },
        {
         "hovertemplate": "choc=13<br>person=2<br>rank=%{x}<br>rating=%{y}<extra></extra>",
         "legendgroup": "13",
         "marker": {
          "color": "#D62728",
          "symbol": "circle"
         },
         "mode": "markers",
         "name": "13",
         "orientation": "v",
         "showlegend": false,
         "type": "scatter",
         "x": [
          16
         ],
         "xaxis": "x18",
         "y": [
          -3.4800770772905327
         ],
         "yaxis": "y18"
        },
        {
         "hovertemplate": "choc=13<br>person=3<br>rank=%{x}<br>rating=%{y}<extra></extra>",
         "legendgroup": "13",
         "marker": {
          "color": "#D62728",
          "symbol": "circle"
         },
         "mode": "markers",
         "name": "13",
         "orientation": "v",
         "showlegend": false,
         "type": "scatter",
         "x": [
          14
         ],
         "xaxis": "x19",
         "y": [
          -1.6916432402048913
         ],
         "yaxis": "y19"
        },
        {
         "hovertemplate": "choc=13<br>person=4<br>rank=%{x}<br>rating=%{y}<extra></extra>",
         "legendgroup": "13",
         "marker": {
          "color": "#D62728",
          "symbol": "circle"
         },
         "mode": "markers",
         "name": "13",
         "orientation": "v",
         "showlegend": false,
         "type": "scatter",
         "x": [
          17
         ],
         "xaxis": "x20",
         "y": [
          -4.010967820100199
         ],
         "yaxis": "y20"
        },
        {
         "hovertemplate": "choc=13<br>person=5<br>rank=%{x}<br>rating=%{y}<extra></extra>",
         "legendgroup": "13",
         "marker": {
          "color": "#D62728",
          "symbol": "circle"
         },
         "mode": "markers",
         "name": "13",
         "orientation": "v",
         "showlegend": false,
         "type": "scatter",
         "x": [
          14
         ],
         "xaxis": "x11",
         "y": [
          -1.276239545882593
         ],
         "yaxis": "y11"
        },
        {
         "hovertemplate": "choc=13<br>person=6<br>rank=%{x}<br>rating=%{y}<extra></extra>",
         "legendgroup": "13",
         "marker": {
          "color": "#D62728",
          "symbol": "circle"
         },
         "mode": "markers",
         "name": "13",
         "orientation": "v",
         "showlegend": false,
         "type": "scatter",
         "x": [
          12
         ],
         "xaxis": "x12",
         "y": [
          -1.3590366523426696
         ],
         "yaxis": "y12"
        },
        {
         "hovertemplate": "choc=13<br>person=7<br>rank=%{x}<br>rating=%{y}<extra></extra>",
         "legendgroup": "13",
         "marker": {
          "color": "#D62728",
          "symbol": "circle"
         },
         "mode": "markers",
         "name": "13",
         "orientation": "v",
         "showlegend": false,
         "type": "scatter",
         "x": [
          6
         ],
         "xaxis": "x13",
         "y": [
          -0.11971618096386472
         ],
         "yaxis": "y13"
        },
        {
         "hovertemplate": "choc=13<br>person=8<br>rank=%{x}<br>rating=%{y}<extra></extra>",
         "legendgroup": "13",
         "marker": {
          "color": "#D62728",
          "symbol": "circle"
         },
         "mode": "markers",
         "name": "13",
         "orientation": "v",
         "showlegend": false,
         "type": "scatter",
         "x": [
          13
         ],
         "xaxis": "x14",
         "y": [
          -2.5611275500980115
         ],
         "yaxis": "y14"
        },
        {
         "hovertemplate": "choc=13<br>person=9<br>rank=%{x}<br>rating=%{y}<extra></extra>",
         "legendgroup": "13",
         "marker": {
          "color": "#D62728",
          "symbol": "circle"
         },
         "mode": "markers",
         "name": "13",
         "orientation": "v",
         "showlegend": false,
         "type": "scatter",
         "x": [
          18
         ],
         "xaxis": "x15",
         "y": [
          -3.399225945809307
         ],
         "yaxis": "y15"
        },
        {
         "hovertemplate": "choc=13<br>person=10<br>rank=%{x}<br>rating=%{y}<extra></extra>",
         "legendgroup": "13",
         "marker": {
          "color": "#D62728",
          "symbol": "circle"
         },
         "mode": "markers",
         "name": "13",
         "orientation": "v",
         "showlegend": false,
         "type": "scatter",
         "x": [
          11
         ],
         "xaxis": "x6",
         "y": [
          -0.6676963996676334
         ],
         "yaxis": "y6"
        },
        {
         "hovertemplate": "choc=13<br>person=11<br>rank=%{x}<br>rating=%{y}<extra></extra>",
         "legendgroup": "13",
         "marker": {
          "color": "#D62728",
          "symbol": "circle"
         },
         "mode": "markers",
         "name": "13",
         "orientation": "v",
         "showlegend": false,
         "type": "scatter",
         "x": [
          3
         ],
         "xaxis": "x7",
         "y": [
          1.6573820197551712
         ],
         "yaxis": "y7"
        },
        {
         "hovertemplate": "choc=13<br>person=12<br>rank=%{x}<br>rating=%{y}<extra></extra>",
         "legendgroup": "13",
         "marker": {
          "color": "#D62728",
          "symbol": "circle"
         },
         "mode": "markers",
         "name": "13",
         "orientation": "v",
         "showlegend": false,
         "type": "scatter",
         "x": [
          16
         ],
         "xaxis": "x8",
         "y": [
          -2.199593390663925
         ],
         "yaxis": "y8"
        },
        {
         "hovertemplate": "choc=13<br>person=13<br>rank=%{x}<br>rating=%{y}<extra></extra>",
         "legendgroup": "13",
         "marker": {
          "color": "#D62728",
          "symbol": "circle"
         },
         "mode": "markers",
         "name": "13",
         "orientation": "v",
         "showlegend": false,
         "type": "scatter",
         "x": [
          17
         ],
         "xaxis": "x9",
         "y": [
          -1.1547020586023173
         ],
         "yaxis": "y9"
        },
        {
         "hovertemplate": "choc=13<br>person=14<br>rank=%{x}<br>rating=%{y}<extra></extra>",
         "legendgroup": "13",
         "marker": {
          "color": "#D62728",
          "symbol": "circle"
         },
         "mode": "markers",
         "name": "13",
         "orientation": "v",
         "showlegend": false,
         "type": "scatter",
         "x": [
          13
         ],
         "xaxis": "x10",
         "y": [
          -1.3710941622813733
         ],
         "yaxis": "y10"
        },
        {
         "hovertemplate": "choc=13<br>person=15<br>rank=%{x}<br>rating=%{y}<extra></extra>",
         "legendgroup": "13",
         "marker": {
          "color": "#D62728",
          "symbol": "circle"
         },
         "mode": "markers",
         "name": "13",
         "orientation": "v",
         "showlegend": false,
         "type": "scatter",
         "x": [
          10
         ],
         "xaxis": "x",
         "y": [
          -0.27805189465085256
         ],
         "yaxis": "y"
        },
        {
         "hovertemplate": "choc=13<br>person=16<br>rank=%{x}<br>rating=%{y}<extra></extra>",
         "legendgroup": "13",
         "marker": {
          "color": "#D62728",
          "symbol": "circle"
         },
         "mode": "markers",
         "name": "13",
         "orientation": "v",
         "showlegend": false,
         "type": "scatter",
         "x": [
          9
         ],
         "xaxis": "x2",
         "y": [
          0.28964363063164766
         ],
         "yaxis": "y2"
        },
        {
         "hovertemplate": "choc=13<br>person=17<br>rank=%{x}<br>rating=%{y}<extra></extra>",
         "legendgroup": "13",
         "marker": {
          "color": "#D62728",
          "symbol": "circle"
         },
         "mode": "markers",
         "name": "13",
         "orientation": "v",
         "showlegend": false,
         "type": "scatter",
         "x": [
          12
         ],
         "xaxis": "x3",
         "y": [
          -1.1785979966611453
         ],
         "yaxis": "y3"
        },
        {
         "hovertemplate": "choc=13<br>person=18<br>rank=%{x}<br>rating=%{y}<extra></extra>",
         "legendgroup": "13",
         "marker": {
          "color": "#D62728",
          "symbol": "circle"
         },
         "mode": "markers",
         "name": "13",
         "orientation": "v",
         "showlegend": false,
         "type": "scatter",
         "x": [
          14
         ],
         "xaxis": "x4",
         "y": [
          -1.0705556276981285
         ],
         "yaxis": "y4"
        },
        {
         "hovertemplate": "choc=13<br>person=19<br>rank=%{x}<br>rating=%{y}<extra></extra>",
         "legendgroup": "13",
         "marker": {
          "color": "#D62728",
          "symbol": "circle"
         },
         "mode": "markers",
         "name": "13",
         "orientation": "v",
         "showlegend": false,
         "type": "scatter",
         "x": [
          10
         ],
         "xaxis": "x5",
         "y": [
          -0.304537799641206
         ],
         "yaxis": "y5"
        },
        {
         "hovertemplate": "choc=14<br>person=0<br>rank=%{x}<br>rating=%{y}<extra></extra>",
         "legendgroup": "14",
         "marker": {
          "color": "#9467BD",
          "symbol": "circle"
         },
         "mode": "markers",
         "name": "14",
         "orientation": "v",
         "showlegend": true,
         "type": "scatter",
         "x": [
          12
         ],
         "xaxis": "x16",
         "y": [
          -1.2417211997597328
         ],
         "yaxis": "y16"
        },
        {
         "hovertemplate": "choc=14<br>person=1<br>rank=%{x}<br>rating=%{y}<extra></extra>",
         "legendgroup": "14",
         "marker": {
          "color": "#9467BD",
          "symbol": "circle"
         },
         "mode": "markers",
         "name": "14",
         "orientation": "v",
         "showlegend": false,
         "type": "scatter",
         "x": [
          14
         ],
         "xaxis": "x17",
         "y": [
          -1.556754608180528
         ],
         "yaxis": "y17"
        },
        {
         "hovertemplate": "choc=14<br>person=2<br>rank=%{x}<br>rating=%{y}<extra></extra>",
         "legendgroup": "14",
         "marker": {
          "color": "#9467BD",
          "symbol": "circle"
         },
         "mode": "markers",
         "name": "14",
         "orientation": "v",
         "showlegend": false,
         "type": "scatter",
         "x": [
          12
         ],
         "xaxis": "x18",
         "y": [
          -1.7305756911195391
         ],
         "yaxis": "y18"
        },
        {
         "hovertemplate": "choc=14<br>person=3<br>rank=%{x}<br>rating=%{y}<extra></extra>",
         "legendgroup": "14",
         "marker": {
          "color": "#9467BD",
          "symbol": "circle"
         },
         "mode": "markers",
         "name": "14",
         "orientation": "v",
         "showlegend": false,
         "type": "scatter",
         "x": [
          18
         ],
         "xaxis": "x19",
         "y": [
          -2.4624182409984963
         ],
         "yaxis": "y19"
        },
        {
         "hovertemplate": "choc=14<br>person=4<br>rank=%{x}<br>rating=%{y}<extra></extra>",
         "legendgroup": "14",
         "marker": {
          "color": "#9467BD",
          "symbol": "circle"
         },
         "mode": "markers",
         "name": "14",
         "orientation": "v",
         "showlegend": false,
         "type": "scatter",
         "x": [
          15
         ],
         "xaxis": "x20",
         "y": [
          -2.1414810890145612
         ],
         "yaxis": "y20"
        },
        {
         "hovertemplate": "choc=14<br>person=5<br>rank=%{x}<br>rating=%{y}<extra></extra>",
         "legendgroup": "14",
         "marker": {
          "color": "#9467BD",
          "symbol": "circle"
         },
         "mode": "markers",
         "name": "14",
         "orientation": "v",
         "showlegend": false,
         "type": "scatter",
         "x": [
          12
         ],
         "xaxis": "x11",
         "y": [
          -0.9467150898169252
         ],
         "yaxis": "y11"
        },
        {
         "hovertemplate": "choc=14<br>person=6<br>rank=%{x}<br>rating=%{y}<extra></extra>",
         "legendgroup": "14",
         "marker": {
          "color": "#9467BD",
          "symbol": "circle"
         },
         "mode": "markers",
         "name": "14",
         "orientation": "v",
         "showlegend": false,
         "type": "scatter",
         "x": [
          15
         ],
         "xaxis": "x12",
         "y": [
          -1.7230225385035256
         ],
         "yaxis": "y12"
        },
        {
         "hovertemplate": "choc=14<br>person=7<br>rank=%{x}<br>rating=%{y}<extra></extra>",
         "legendgroup": "14",
         "marker": {
          "color": "#9467BD",
          "symbol": "circle"
         },
         "mode": "markers",
         "name": "14",
         "orientation": "v",
         "showlegend": false,
         "type": "scatter",
         "x": [
          9
         ],
         "xaxis": "x13",
         "y": [
          -0.8668203771209905
         ],
         "yaxis": "y13"
        },
        {
         "hovertemplate": "choc=14<br>person=8<br>rank=%{x}<br>rating=%{y}<extra></extra>",
         "legendgroup": "14",
         "marker": {
          "color": "#9467BD",
          "symbol": "circle"
         },
         "mode": "markers",
         "name": "14",
         "orientation": "v",
         "showlegend": false,
         "type": "scatter",
         "x": [
          14
         ],
         "xaxis": "x14",
         "y": [
          -2.6971164533752
         ],
         "yaxis": "y14"
        },
        {
         "hovertemplate": "choc=14<br>person=9<br>rank=%{x}<br>rating=%{y}<extra></extra>",
         "legendgroup": "14",
         "marker": {
          "color": "#9467BD",
          "symbol": "circle"
         },
         "mode": "markers",
         "name": "14",
         "orientation": "v",
         "showlegend": false,
         "type": "scatter",
         "x": [
          17
         ],
         "xaxis": "x15",
         "y": [
          -3.26599822307562
         ],
         "yaxis": "y15"
        },
        {
         "hovertemplate": "choc=14<br>person=10<br>rank=%{x}<br>rating=%{y}<extra></extra>",
         "legendgroup": "14",
         "marker": {
          "color": "#9467BD",
          "symbol": "circle"
         },
         "mode": "markers",
         "name": "14",
         "orientation": "v",
         "showlegend": false,
         "type": "scatter",
         "x": [
          16
         ],
         "xaxis": "x6",
         "y": [
          -2.013473019822925
         ],
         "yaxis": "y6"
        },
        {
         "hovertemplate": "choc=14<br>person=11<br>rank=%{x}<br>rating=%{y}<extra></extra>",
         "legendgroup": "14",
         "marker": {
          "color": "#9467BD",
          "symbol": "circle"
         },
         "mode": "markers",
         "name": "14",
         "orientation": "v",
         "showlegend": false,
         "type": "scatter",
         "x": [
          10
         ],
         "xaxis": "x7",
         "y": [
          -0.7248939631162972
         ],
         "yaxis": "y7"
        },
        {
         "hovertemplate": "choc=14<br>person=12<br>rank=%{x}<br>rating=%{y}<extra></extra>",
         "legendgroup": "14",
         "marker": {
          "color": "#9467BD",
          "symbol": "circle"
         },
         "mode": "markers",
         "name": "14",
         "orientation": "v",
         "showlegend": false,
         "type": "scatter",
         "x": [
          18
         ],
         "xaxis": "x8",
         "y": [
          -3.0394465651550786
         ],
         "yaxis": "y8"
        },
        {
         "hovertemplate": "choc=14<br>person=13<br>rank=%{x}<br>rating=%{y}<extra></extra>",
         "legendgroup": "14",
         "marker": {
          "color": "#9467BD",
          "symbol": "circle"
         },
         "mode": "markers",
         "name": "14",
         "orientation": "v",
         "showlegend": false,
         "type": "scatter",
         "x": [
          14
         ],
         "xaxis": "x9",
         "y": [
          -0.7481804933547339
         ],
         "yaxis": "y9"
        },
        {
         "hovertemplate": "choc=14<br>person=14<br>rank=%{x}<br>rating=%{y}<extra></extra>",
         "legendgroup": "14",
         "marker": {
          "color": "#9467BD",
          "symbol": "circle"
         },
         "mode": "markers",
         "name": "14",
         "orientation": "v",
         "showlegend": false,
         "type": "scatter",
         "x": [
          7
         ],
         "xaxis": "x10",
         "y": [
          1.498016824236326
         ],
         "yaxis": "y10"
        },
        {
         "hovertemplate": "choc=14<br>person=15<br>rank=%{x}<br>rating=%{y}<extra></extra>",
         "legendgroup": "14",
         "marker": {
          "color": "#9467BD",
          "symbol": "circle"
         },
         "mode": "markers",
         "name": "14",
         "orientation": "v",
         "showlegend": false,
         "type": "scatter",
         "x": [
          13
         ],
         "xaxis": "x",
         "y": [
          -1.370962435867584
         ],
         "yaxis": "y"
        },
        {
         "hovertemplate": "choc=14<br>person=16<br>rank=%{x}<br>rating=%{y}<extra></extra>",
         "legendgroup": "14",
         "marker": {
          "color": "#9467BD",
          "symbol": "circle"
         },
         "mode": "markers",
         "name": "14",
         "orientation": "v",
         "showlegend": false,
         "type": "scatter",
         "x": [
          17
         ],
         "xaxis": "x2",
         "y": [
          -2.1070096281859776
         ],
         "yaxis": "y2"
        },
        {
         "hovertemplate": "choc=14<br>person=17<br>rank=%{x}<br>rating=%{y}<extra></extra>",
         "legendgroup": "14",
         "marker": {
          "color": "#9467BD",
          "symbol": "circle"
         },
         "mode": "markers",
         "name": "14",
         "orientation": "v",
         "showlegend": false,
         "type": "scatter",
         "x": [
          2
         ],
         "xaxis": "x3",
         "y": [
          0.7021658389424084
         ],
         "yaxis": "y3"
        },
        {
         "hovertemplate": "choc=14<br>person=18<br>rank=%{x}<br>rating=%{y}<extra></extra>",
         "legendgroup": "14",
         "marker": {
          "color": "#9467BD",
          "symbol": "circle"
         },
         "mode": "markers",
         "name": "14",
         "orientation": "v",
         "showlegend": false,
         "type": "scatter",
         "x": [
          11
         ],
         "xaxis": "x4",
         "y": [
          -0.6919351533969654
         ],
         "yaxis": "y4"
        },
        {
         "hovertemplate": "choc=14<br>person=19<br>rank=%{x}<br>rating=%{y}<extra></extra>",
         "legendgroup": "14",
         "marker": {
          "color": "#9467BD",
          "symbol": "circle"
         },
         "mode": "markers",
         "name": "14",
         "orientation": "v",
         "showlegend": false,
         "type": "scatter",
         "x": [
          15
         ],
         "xaxis": "x5",
         "y": [
          -1.8558989950648497
         ],
         "yaxis": "y5"
        },
        {
         "hovertemplate": "choc=15<br>person=0<br>rank=%{x}<br>rating=%{y}<extra></extra>",
         "legendgroup": "15",
         "marker": {
          "color": "#8C564B",
          "symbol": "circle"
         },
         "mode": "markers",
         "name": "15",
         "orientation": "v",
         "showlegend": true,
         "type": "scatter",
         "x": [
          16
         ],
         "xaxis": "x16",
         "y": [
          -2.0404123263264817
         ],
         "yaxis": "y16"
        },
        {
         "hovertemplate": "choc=15<br>person=1<br>rank=%{x}<br>rating=%{y}<extra></extra>",
         "legendgroup": "15",
         "marker": {
          "color": "#8C564B",
          "symbol": "circle"
         },
         "mode": "markers",
         "name": "15",
         "orientation": "v",
         "showlegend": false,
         "type": "scatter",
         "x": [
          9
         ],
         "xaxis": "x17",
         "y": [
          0.40873066594379304
         ],
         "yaxis": "y17"
        },
        {
         "hovertemplate": "choc=15<br>person=2<br>rank=%{x}<br>rating=%{y}<extra></extra>",
         "legendgroup": "15",
         "marker": {
          "color": "#8C564B",
          "symbol": "circle"
         },
         "mode": "markers",
         "name": "15",
         "orientation": "v",
         "showlegend": false,
         "type": "scatter",
         "x": [
          13
         ],
         "xaxis": "x18",
         "y": [
          -2.0154665689641242
         ],
         "yaxis": "y18"
        },
        {
         "hovertemplate": "choc=15<br>person=3<br>rank=%{x}<br>rating=%{y}<extra></extra>",
         "legendgroup": "15",
         "marker": {
          "color": "#8C564B",
          "symbol": "circle"
         },
         "mode": "markers",
         "name": "15",
         "orientation": "v",
         "showlegend": false,
         "type": "scatter",
         "x": [
          7
         ],
         "xaxis": "x19",
         "y": [
          0.9503455584623988
         ],
         "yaxis": "y19"
        },
        {
         "hovertemplate": "choc=15<br>person=4<br>rank=%{x}<br>rating=%{y}<extra></extra>",
         "legendgroup": "15",
         "marker": {
          "color": "#8C564B",
          "symbol": "circle"
         },
         "mode": "markers",
         "name": "15",
         "orientation": "v",
         "showlegend": false,
         "type": "scatter",
         "x": [
          14
         ],
         "xaxis": "x20",
         "y": [
          -2.0367500237035703
         ],
         "yaxis": "y20"
        },
        {
         "hovertemplate": "choc=15<br>person=5<br>rank=%{x}<br>rating=%{y}<extra></extra>",
         "legendgroup": "15",
         "marker": {
          "color": "#8C564B",
          "symbol": "circle"
         },
         "mode": "markers",
         "name": "15",
         "orientation": "v",
         "showlegend": false,
         "type": "scatter",
         "x": [
          19
         ],
         "xaxis": "x11",
         "y": [
          -4.142379532307113
         ],
         "yaxis": "y11"
        },
        {
         "hovertemplate": "choc=15<br>person=6<br>rank=%{x}<br>rating=%{y}<extra></extra>",
         "legendgroup": "15",
         "marker": {
          "color": "#8C564B",
          "symbol": "circle"
         },
         "mode": "markers",
         "name": "15",
         "orientation": "v",
         "showlegend": false,
         "type": "scatter",
         "x": [
          13
         ],
         "xaxis": "x12",
         "y": [
          -1.6796532839239258
         ],
         "yaxis": "y12"
        },
        {
         "hovertemplate": "choc=15<br>person=7<br>rank=%{x}<br>rating=%{y}<extra></extra>",
         "legendgroup": "15",
         "marker": {
          "color": "#8C564B",
          "symbol": "circle"
         },
         "mode": "markers",
         "name": "15",
         "orientation": "v",
         "showlegend": false,
         "type": "scatter",
         "x": [
          7
         ],
         "xaxis": "x13",
         "y": [
          -0.22331836263246752
         ],
         "yaxis": "y13"
        },
        {
         "hovertemplate": "choc=15<br>person=8<br>rank=%{x}<br>rating=%{y}<extra></extra>",
         "legendgroup": "15",
         "marker": {
          "color": "#8C564B",
          "symbol": "circle"
         },
         "mode": "markers",
         "name": "15",
         "orientation": "v",
         "showlegend": false,
         "type": "scatter",
         "x": [
          18
         ],
         "xaxis": "x14",
         "y": [
          -4.027214760139931
         ],
         "yaxis": "y14"
        },
        {
         "hovertemplate": "choc=15<br>person=9<br>rank=%{x}<br>rating=%{y}<extra></extra>",
         "legendgroup": "15",
         "marker": {
          "color": "#8C564B",
          "symbol": "circle"
         },
         "mode": "markers",
         "name": "15",
         "orientation": "v",
         "showlegend": false,
         "type": "scatter",
         "x": [
          13
         ],
         "xaxis": "x15",
         "y": [
          -1.4716767821137764
         ],
         "yaxis": "y15"
        },
        {
         "hovertemplate": "choc=15<br>person=10<br>rank=%{x}<br>rating=%{y}<extra></extra>",
         "legendgroup": "15",
         "marker": {
          "color": "#8C564B",
          "symbol": "circle"
         },
         "mode": "markers",
         "name": "15",
         "orientation": "v",
         "showlegend": false,
         "type": "scatter",
         "x": [
          12
         ],
         "xaxis": "x6",
         "y": [
          -0.8802688497523282
         ],
         "yaxis": "y6"
        },
        {
         "hovertemplate": "choc=15<br>person=11<br>rank=%{x}<br>rating=%{y}<extra></extra>",
         "legendgroup": "15",
         "marker": {
          "color": "#8C564B",
          "symbol": "circle"
         },
         "mode": "markers",
         "name": "15",
         "orientation": "v",
         "showlegend": false,
         "type": "scatter",
         "x": [
          14
         ],
         "xaxis": "x7",
         "y": [
          -1.7910674358230203
         ],
         "yaxis": "y7"
        },
        {
         "hovertemplate": "choc=15<br>person=12<br>rank=%{x}<br>rating=%{y}<extra></extra>",
         "legendgroup": "15",
         "marker": {
          "color": "#8C564B",
          "symbol": "circle"
         },
         "mode": "markers",
         "name": "15",
         "orientation": "v",
         "showlegend": false,
         "type": "scatter",
         "x": [
          4
         ],
         "xaxis": "x8",
         "y": [
          0.31295020531547024
         ],
         "yaxis": "y8"
        },
        {
         "hovertemplate": "choc=15<br>person=13<br>rank=%{x}<br>rating=%{y}<extra></extra>",
         "legendgroup": "15",
         "marker": {
          "color": "#8C564B",
          "symbol": "circle"
         },
         "mode": "markers",
         "name": "15",
         "orientation": "v",
         "showlegend": false,
         "type": "scatter",
         "x": [
          18
         ],
         "xaxis": "x9",
         "y": [
          -3.065772729477217
         ],
         "yaxis": "y9"
        },
        {
         "hovertemplate": "choc=15<br>person=14<br>rank=%{x}<br>rating=%{y}<extra></extra>",
         "legendgroup": "15",
         "marker": {
          "color": "#8C564B",
          "symbol": "circle"
         },
         "mode": "markers",
         "name": "15",
         "orientation": "v",
         "showlegend": false,
         "type": "scatter",
         "x": [
          12
         ],
         "xaxis": "x10",
         "y": [
          -1.266595600177771
         ],
         "yaxis": "y10"
        },
        {
         "hovertemplate": "choc=15<br>person=15<br>rank=%{x}<br>rating=%{y}<extra></extra>",
         "legendgroup": "15",
         "marker": {
          "color": "#8C564B",
          "symbol": "circle"
         },
         "mode": "markers",
         "name": "15",
         "orientation": "v",
         "showlegend": false,
         "type": "scatter",
         "x": [
          5
         ],
         "xaxis": "x",
         "y": [
          1.1844842392090766
         ],
         "yaxis": "y"
        },
        {
         "hovertemplate": "choc=15<br>person=16<br>rank=%{x}<br>rating=%{y}<extra></extra>",
         "legendgroup": "15",
         "marker": {
          "color": "#8C564B",
          "symbol": "circle"
         },
         "mode": "markers",
         "name": "15",
         "orientation": "v",
         "showlegend": false,
         "type": "scatter",
         "x": [
          18
         ],
         "xaxis": "x2",
         "y": [
          -4.1906824898943125
         ],
         "yaxis": "y2"
        },
        {
         "hovertemplate": "choc=15<br>person=17<br>rank=%{x}<br>rating=%{y}<extra></extra>",
         "legendgroup": "15",
         "marker": {
          "color": "#8C564B",
          "symbol": "circle"
         },
         "mode": "markers",
         "name": "15",
         "orientation": "v",
         "showlegend": false,
         "type": "scatter",
         "x": [
          8
         ],
         "xaxis": "x3",
         "y": [
          -0.38775677482491844
         ],
         "yaxis": "y3"
        },
        {
         "hovertemplate": "choc=15<br>person=18<br>rank=%{x}<br>rating=%{y}<extra></extra>",
         "legendgroup": "15",
         "marker": {
          "color": "#8C564B",
          "symbol": "circle"
         },
         "mode": "markers",
         "name": "15",
         "orientation": "v",
         "showlegend": false,
         "type": "scatter",
         "x": [
          13
         ],
         "xaxis": "x4",
         "y": [
          -1.069213917474125
         ],
         "yaxis": "y4"
        },
        {
         "hovertemplate": "choc=15<br>person=19<br>rank=%{x}<br>rating=%{y}<extra></extra>",
         "legendgroup": "15",
         "marker": {
          "color": "#8C564B",
          "symbol": "circle"
         },
         "mode": "markers",
         "name": "15",
         "orientation": "v",
         "showlegend": false,
         "type": "scatter",
         "x": [
          14
         ],
         "xaxis": "x5",
         "y": [
          -1.3430503880906437
         ],
         "yaxis": "y5"
        },
        {
         "hovertemplate": "choc=16<br>person=0<br>rank=%{x}<br>rating=%{y}<extra></extra>",
         "legendgroup": "16",
         "marker": {
          "color": "#E377C2",
          "symbol": "circle"
         },
         "mode": "markers",
         "name": "16",
         "orientation": "v",
         "showlegend": true,
         "type": "scatter",
         "x": [
          6
         ],
         "xaxis": "x16",
         "y": [
          1.8312865849976947
         ],
         "yaxis": "y16"
        },
        {
         "hovertemplate": "choc=16<br>person=1<br>rank=%{x}<br>rating=%{y}<extra></extra>",
         "legendgroup": "16",
         "marker": {
          "color": "#E377C2",
          "symbol": "circle"
         },
         "mode": "markers",
         "name": "16",
         "orientation": "v",
         "showlegend": false,
         "type": "scatter",
         "x": [
          10
         ],
         "xaxis": "x17",
         "y": [
          0.31357037202264937
         ],
         "yaxis": "y17"
        },
        {
         "hovertemplate": "choc=16<br>person=2<br>rank=%{x}<br>rating=%{y}<extra></extra>",
         "legendgroup": "16",
         "marker": {
          "color": "#E377C2",
          "symbol": "circle"
         },
         "mode": "markers",
         "name": "16",
         "orientation": "v",
         "showlegend": false,
         "type": "scatter",
         "x": [
          1
         ],
         "xaxis": "x18",
         "y": [
          4.4925268325632945
         ],
         "yaxis": "y18"
        },
        {
         "hovertemplate": "choc=16<br>person=3<br>rank=%{x}<br>rating=%{y}<extra></extra>",
         "legendgroup": "16",
         "marker": {
          "color": "#E377C2",
          "symbol": "circle"
         },
         "mode": "markers",
         "name": "16",
         "orientation": "v",
         "showlegend": false,
         "type": "scatter",
         "x": [
          0
         ],
         "xaxis": "x19",
         "y": [
          5.972154226025972
         ],
         "yaxis": "y19"
        },
        {
         "hovertemplate": "choc=16<br>person=4<br>rank=%{x}<br>rating=%{y}<extra></extra>",
         "legendgroup": "16",
         "marker": {
          "color": "#E377C2",
          "symbol": "circle"
         },
         "mode": "markers",
         "name": "16",
         "orientation": "v",
         "showlegend": false,
         "type": "scatter",
         "x": [
          1
         ],
         "xaxis": "x20",
         "y": [
          5.767990033347034
         ],
         "yaxis": "y20"
        },
        {
         "hovertemplate": "choc=16<br>person=5<br>rank=%{x}<br>rating=%{y}<extra></extra>",
         "legendgroup": "16",
         "marker": {
          "color": "#E377C2",
          "symbol": "circle"
         },
         "mode": "markers",
         "name": "16",
         "orientation": "v",
         "showlegend": false,
         "type": "scatter",
         "x": [
          11
         ],
         "xaxis": "x11",
         "y": [
          -0.5512920390410913
         ],
         "yaxis": "y11"
        },
        {
         "hovertemplate": "choc=16<br>person=6<br>rank=%{x}<br>rating=%{y}<extra></extra>",
         "legendgroup": "16",
         "marker": {
          "color": "#E377C2",
          "symbol": "circle"
         },
         "mode": "markers",
         "name": "16",
         "orientation": "v",
         "showlegend": false,
         "type": "scatter",
         "x": [
          18
         ],
         "xaxis": "x12",
         "y": [
          -5.254815692584472
         ],
         "yaxis": "y12"
        },
        {
         "hovertemplate": "choc=16<br>person=7<br>rank=%{x}<br>rating=%{y}<extra></extra>",
         "legendgroup": "16",
         "marker": {
          "color": "#E377C2",
          "symbol": "circle"
         },
         "mode": "markers",
         "name": "16",
         "orientation": "v",
         "showlegend": false,
         "type": "scatter",
         "x": [
          18
         ],
         "xaxis": "x13",
         "y": [
          -4.905578071880506
         ],
         "yaxis": "y13"
        },
        {
         "hovertemplate": "choc=16<br>person=8<br>rank=%{x}<br>rating=%{y}<extra></extra>",
         "legendgroup": "16",
         "marker": {
          "color": "#E377C2",
          "symbol": "circle"
         },
         "mode": "markers",
         "name": "16",
         "orientation": "v",
         "showlegend": false,
         "type": "scatter",
         "x": [
          19
         ],
         "xaxis": "x14",
         "y": [
          -5.564842074257527
         ],
         "yaxis": "y14"
        },
        {
         "hovertemplate": "choc=16<br>person=9<br>rank=%{x}<br>rating=%{y}<extra></extra>",
         "legendgroup": "16",
         "marker": {
          "color": "#E377C2",
          "symbol": "circle"
         },
         "mode": "markers",
         "name": "16",
         "orientation": "v",
         "showlegend": false,
         "type": "scatter",
         "x": [
          12
         ],
         "xaxis": "x15",
         "y": [
          -1.1809190756010097
         ],
         "yaxis": "y15"
        },
        {
         "hovertemplate": "choc=16<br>person=10<br>rank=%{x}<br>rating=%{y}<extra></extra>",
         "legendgroup": "16",
         "marker": {
          "color": "#E377C2",
          "symbol": "circle"
         },
         "mode": "markers",
         "name": "16",
         "orientation": "v",
         "showlegend": false,
         "type": "scatter",
         "x": [
          4
         ],
         "xaxis": "x6",
         "y": [
          1.792139402249465
         ],
         "yaxis": "y6"
        },
        {
         "hovertemplate": "choc=16<br>person=11<br>rank=%{x}<br>rating=%{y}<extra></extra>",
         "legendgroup": "16",
         "marker": {
          "color": "#E377C2",
          "symbol": "circle"
         },
         "mode": "markers",
         "name": "16",
         "orientation": "v",
         "showlegend": false,
         "type": "scatter",
         "x": [
          7
         ],
         "xaxis": "x7",
         "y": [
          0.3383513820465308
         ],
         "yaxis": "y7"
        },
        {
         "hovertemplate": "choc=16<br>person=12<br>rank=%{x}<br>rating=%{y}<extra></extra>",
         "legendgroup": "16",
         "marker": {
          "color": "#E377C2",
          "symbol": "circle"
         },
         "mode": "markers",
         "name": "16",
         "orientation": "v",
         "showlegend": false,
         "type": "scatter",
         "x": [
          1
         ],
         "xaxis": "x8",
         "y": [
          4.290945815214999
         ],
         "yaxis": "y8"
        },
        {
         "hovertemplate": "choc=16<br>person=13<br>rank=%{x}<br>rating=%{y}<extra></extra>",
         "legendgroup": "16",
         "marker": {
          "color": "#E377C2",
          "symbol": "circle"
         },
         "mode": "markers",
         "name": "16",
         "orientation": "v",
         "showlegend": false,
         "type": "scatter",
         "x": [
          3
         ],
         "xaxis": "x9",
         "y": [
          2.743291466514034
         ],
         "yaxis": "y9"
        },
        {
         "hovertemplate": "choc=16<br>person=14<br>rank=%{x}<br>rating=%{y}<extra></extra>",
         "legendgroup": "16",
         "marker": {
          "color": "#E377C2",
          "symbol": "circle"
         },
         "mode": "markers",
         "name": "16",
         "orientation": "v",
         "showlegend": false,
         "type": "scatter",
         "x": [
          17
         ],
         "xaxis": "x10",
         "y": [
          -3.210987140352304
         ],
         "yaxis": "y10"
        },
        {
         "hovertemplate": "choc=16<br>person=15<br>rank=%{x}<br>rating=%{y}<extra></extra>",
         "legendgroup": "16",
         "marker": {
          "color": "#E377C2",
          "symbol": "circle"
         },
         "mode": "markers",
         "name": "16",
         "orientation": "v",
         "showlegend": false,
         "type": "scatter",
         "x": [
          18
         ],
         "xaxis": "x",
         "y": [
          -4.636552758205731
         ],
         "yaxis": "y"
        },
        {
         "hovertemplate": "choc=16<br>person=16<br>rank=%{x}<br>rating=%{y}<extra></extra>",
         "legendgroup": "16",
         "marker": {
          "color": "#E377C2",
          "symbol": "circle"
         },
         "mode": "markers",
         "name": "16",
         "orientation": "v",
         "showlegend": false,
         "type": "scatter",
         "x": [
          0
         ],
         "xaxis": "x2",
         "y": [
          13.352105412799007
         ],
         "yaxis": "y2"
        },
        {
         "hovertemplate": "choc=16<br>person=17<br>rank=%{x}<br>rating=%{y}<extra></extra>",
         "legendgroup": "16",
         "marker": {
          "color": "#E377C2",
          "symbol": "circle"
         },
         "mode": "markers",
         "name": "16",
         "orientation": "v",
         "showlegend": false,
         "type": "scatter",
         "x": [
          4
         ],
         "xaxis": "x3",
         "y": [
          0.5728277882473428
         ],
         "yaxis": "y3"
        },
        {
         "hovertemplate": "choc=16<br>person=18<br>rank=%{x}<br>rating=%{y}<extra></extra>",
         "legendgroup": "16",
         "marker": {
          "color": "#E377C2",
          "symbol": "circle"
         },
         "mode": "markers",
         "name": "16",
         "orientation": "v",
         "showlegend": false,
         "type": "scatter",
         "x": [
          18
         ],
         "xaxis": "x4",
         "y": [
          -7.3607629141750825
         ],
         "yaxis": "y4"
        },
        {
         "hovertemplate": "choc=16<br>person=19<br>rank=%{x}<br>rating=%{y}<extra></extra>",
         "legendgroup": "16",
         "marker": {
          "color": "#E377C2",
          "symbol": "circle"
         },
         "mode": "markers",
         "name": "16",
         "orientation": "v",
         "showlegend": false,
         "type": "scatter",
         "x": [
          0
         ],
         "xaxis": "x5",
         "y": [
          7.901720242096209
         ],
         "yaxis": "y5"
        },
        {
         "hovertemplate": "choc=17<br>person=0<br>rank=%{x}<br>rating=%{y}<extra></extra>",
         "legendgroup": "17",
         "marker": {
          "color": "#7F7F7F",
          "symbol": "circle"
         },
         "mode": "markers",
         "name": "17",
         "orientation": "v",
         "showlegend": true,
         "type": "scatter",
         "x": [
          3
         ],
         "xaxis": "x16",
         "y": [
          3.9807192717033795
         ],
         "yaxis": "y16"
        },
        {
         "hovertemplate": "choc=17<br>person=1<br>rank=%{x}<br>rating=%{y}<extra></extra>",
         "legendgroup": "17",
         "marker": {
          "color": "#7F7F7F",
          "symbol": "circle"
         },
         "mode": "markers",
         "name": "17",
         "orientation": "v",
         "showlegend": false,
         "type": "scatter",
         "x": [
          16
         ],
         "xaxis": "x17",
         "y": [
          -1.5961391142532484
         ],
         "yaxis": "y17"
        },
        {
         "hovertemplate": "choc=17<br>person=2<br>rank=%{x}<br>rating=%{y}<extra></extra>",
         "legendgroup": "17",
         "marker": {
          "color": "#7F7F7F",
          "symbol": "circle"
         },
         "mode": "markers",
         "name": "17",
         "orientation": "v",
         "showlegend": false,
         "type": "scatter",
         "x": [
          5
         ],
         "xaxis": "x18",
         "y": [
          1.7420161250819648
         ],
         "yaxis": "y18"
        },
        {
         "hovertemplate": "choc=17<br>person=3<br>rank=%{x}<br>rating=%{y}<extra></extra>",
         "legendgroup": "17",
         "marker": {
          "color": "#7F7F7F",
          "symbol": "circle"
         },
         "mode": "markers",
         "name": "17",
         "orientation": "v",
         "showlegend": false,
         "type": "scatter",
         "x": [
          16
         ],
         "xaxis": "x19",
         "y": [
          -1.893330562314192
         ],
         "yaxis": "y19"
        },
        {
         "hovertemplate": "choc=17<br>person=4<br>rank=%{x}<br>rating=%{y}<extra></extra>",
         "legendgroup": "17",
         "marker": {
          "color": "#7F7F7F",
          "symbol": "circle"
         },
         "mode": "markers",
         "name": "17",
         "orientation": "v",
         "showlegend": false,
         "type": "scatter",
         "x": [
          16
         ],
         "xaxis": "x20",
         "y": [
          -2.2424602284521216
         ],
         "yaxis": "y20"
        },
        {
         "hovertemplate": "choc=17<br>person=5<br>rank=%{x}<br>rating=%{y}<extra></extra>",
         "legendgroup": "17",
         "marker": {
          "color": "#7F7F7F",
          "symbol": "circle"
         },
         "mode": "markers",
         "name": "17",
         "orientation": "v",
         "showlegend": false,
         "type": "scatter",
         "x": [
          7
         ],
         "xaxis": "x11",
         "y": [
          -0.29922738289480344
         ],
         "yaxis": "y11"
        },
        {
         "hovertemplate": "choc=17<br>person=6<br>rank=%{x}<br>rating=%{y}<extra></extra>",
         "legendgroup": "17",
         "marker": {
          "color": "#7F7F7F",
          "symbol": "circle"
         },
         "mode": "markers",
         "name": "17",
         "orientation": "v",
         "showlegend": false,
         "type": "scatter",
         "x": [
          0
         ],
         "xaxis": "x12",
         "y": [
          3.5672717689783227
         ],
         "yaxis": "y12"
        },
        {
         "hovertemplate": "choc=17<br>person=7<br>rank=%{x}<br>rating=%{y}<extra></extra>",
         "legendgroup": "17",
         "marker": {
          "color": "#7F7F7F",
          "symbol": "circle"
         },
         "mode": "markers",
         "name": "17",
         "orientation": "v",
         "showlegend": false,
         "type": "scatter",
         "x": [
          11
         ],
         "xaxis": "x13",
         "y": [
          -1.2789932614173256
         ],
         "yaxis": "y13"
        },
        {
         "hovertemplate": "choc=17<br>person=8<br>rank=%{x}<br>rating=%{y}<extra></extra>",
         "legendgroup": "17",
         "marker": {
          "color": "#7F7F7F",
          "symbol": "circle"
         },
         "mode": "markers",
         "name": "17",
         "orientation": "v",
         "showlegend": false,
         "type": "scatter",
         "x": [
          11
         ],
         "xaxis": "x14",
         "y": [
          -0.23414368678419817
         ],
         "yaxis": "y14"
        },
        {
         "hovertemplate": "choc=17<br>person=9<br>rank=%{x}<br>rating=%{y}<extra></extra>",
         "legendgroup": "17",
         "marker": {
          "color": "#7F7F7F",
          "symbol": "circle"
         },
         "mode": "markers",
         "name": "17",
         "orientation": "v",
         "showlegend": false,
         "type": "scatter",
         "x": [
          6
         ],
         "xaxis": "x15",
         "y": [
          0.5218184339368109
         ],
         "yaxis": "y15"
        },
        {
         "hovertemplate": "choc=17<br>person=10<br>rank=%{x}<br>rating=%{y}<extra></extra>",
         "legendgroup": "17",
         "marker": {
          "color": "#7F7F7F",
          "symbol": "circle"
         },
         "mode": "markers",
         "name": "17",
         "orientation": "v",
         "showlegend": false,
         "type": "scatter",
         "x": [
          1
         ],
         "xaxis": "x6",
         "y": [
          4.715323441086378
         ],
         "yaxis": "y6"
        },
        {
         "hovertemplate": "choc=17<br>person=11<br>rank=%{x}<br>rating=%{y}<extra></extra>",
         "legendgroup": "17",
         "marker": {
          "color": "#7F7F7F",
          "symbol": "circle"
         },
         "mode": "markers",
         "name": "17",
         "orientation": "v",
         "showlegend": false,
         "type": "scatter",
         "x": [
          11
         ],
         "xaxis": "x7",
         "y": [
          -0.8651041544587561
         ],
         "yaxis": "y7"
        },
        {
         "hovertemplate": "choc=17<br>person=12<br>rank=%{x}<br>rating=%{y}<extra></extra>",
         "legendgroup": "17",
         "marker": {
          "color": "#7F7F7F",
          "symbol": "circle"
         },
         "mode": "markers",
         "name": "17",
         "orientation": "v",
         "showlegend": false,
         "type": "scatter",
         "x": [
          15
         ],
         "xaxis": "x8",
         "y": [
          -2.0874965171605524
         ],
         "yaxis": "y8"
        },
        {
         "hovertemplate": "choc=17<br>person=13<br>rank=%{x}<br>rating=%{y}<extra></extra>",
         "legendgroup": "17",
         "marker": {
          "color": "#7F7F7F",
          "symbol": "circle"
         },
         "mode": "markers",
         "name": "17",
         "orientation": "v",
         "showlegend": false,
         "type": "scatter",
         "x": [
          15
         ],
         "xaxis": "x9",
         "y": [
          -0.7936849313135081
         ],
         "yaxis": "y9"
        },
        {
         "hovertemplate": "choc=17<br>person=14<br>rank=%{x}<br>rating=%{y}<extra></extra>",
         "legendgroup": "17",
         "marker": {
          "color": "#7F7F7F",
          "symbol": "circle"
         },
         "mode": "markers",
         "name": "17",
         "orientation": "v",
         "showlegend": false,
         "type": "scatter",
         "x": [
          10
         ],
         "xaxis": "x10",
         "y": [
          -0.11415161693092346
         ],
         "yaxis": "y10"
        },
        {
         "hovertemplate": "choc=17<br>person=15<br>rank=%{x}<br>rating=%{y}<extra></extra>",
         "legendgroup": "17",
         "marker": {
          "color": "#7F7F7F",
          "symbol": "circle"
         },
         "mode": "markers",
         "name": "17",
         "orientation": "v",
         "showlegend": false,
         "type": "scatter",
         "x": [
          12
         ],
         "xaxis": "x",
         "y": [
          -1.3315212107393013
         ],
         "yaxis": "y"
        },
        {
         "hovertemplate": "choc=17<br>person=16<br>rank=%{x}<br>rating=%{y}<extra></extra>",
         "legendgroup": "17",
         "marker": {
          "color": "#7F7F7F",
          "symbol": "circle"
         },
         "mode": "markers",
         "name": "17",
         "orientation": "v",
         "showlegend": false,
         "type": "scatter",
         "x": [
          2
         ],
         "xaxis": "x2",
         "y": [
          4.385946105007413
         ],
         "yaxis": "y2"
        },
        {
         "hovertemplate": "choc=17<br>person=17<br>rank=%{x}<br>rating=%{y}<extra></extra>",
         "legendgroup": "17",
         "marker": {
          "color": "#7F7F7F",
          "symbol": "circle"
         },
         "mode": "markers",
         "name": "17",
         "orientation": "v",
         "showlegend": false,
         "type": "scatter",
         "x": [
          17
         ],
         "xaxis": "x3",
         "y": [
          -3.058933651611114
         ],
         "yaxis": "y3"
        },
        {
         "hovertemplate": "choc=17<br>person=18<br>rank=%{x}<br>rating=%{y}<extra></extra>",
         "legendgroup": "17",
         "marker": {
          "color": "#7F7F7F",
          "symbol": "circle"
         },
         "mode": "markers",
         "name": "17",
         "orientation": "v",
         "showlegend": false,
         "type": "scatter",
         "x": [
          1
         ],
         "xaxis": "x4",
         "y": [
          3.546980690719331
         ],
         "yaxis": "y4"
        },
        {
         "hovertemplate": "choc=17<br>person=19<br>rank=%{x}<br>rating=%{y}<extra></extra>",
         "legendgroup": "17",
         "marker": {
          "color": "#7F7F7F",
          "symbol": "circle"
         },
         "mode": "markers",
         "name": "17",
         "orientation": "v",
         "showlegend": false,
         "type": "scatter",
         "x": [
          5
         ],
         "xaxis": "x5",
         "y": [
          0.9162505954102782
         ],
         "yaxis": "y5"
        },
        {
         "hovertemplate": "choc=18<br>person=0<br>rank=%{x}<br>rating=%{y}<extra></extra>",
         "legendgroup": "18",
         "marker": {
          "color": "#BCBD22",
          "symbol": "circle"
         },
         "mode": "markers",
         "name": "18",
         "orientation": "v",
         "showlegend": true,
         "type": "scatter",
         "x": [
          11
         ],
         "xaxis": "x16",
         "y": [
          -1.1564704957683312
         ],
         "yaxis": "y16"
        },
        {
         "hovertemplate": "choc=18<br>person=1<br>rank=%{x}<br>rating=%{y}<extra></extra>",
         "legendgroup": "18",
         "marker": {
          "color": "#BCBD22",
          "symbol": "circle"
         },
         "mode": "markers",
         "name": "18",
         "orientation": "v",
         "showlegend": false,
         "type": "scatter",
         "x": [
          7
         ],
         "xaxis": "x17",
         "y": [
          0.8210245351725253
         ],
         "yaxis": "y17"
        },
        {
         "hovertemplate": "choc=18<br>person=2<br>rank=%{x}<br>rating=%{y}<extra></extra>",
         "legendgroup": "18",
         "marker": {
          "color": "#BCBD22",
          "symbol": "circle"
         },
         "mode": "markers",
         "name": "18",
         "orientation": "v",
         "showlegend": false,
         "type": "scatter",
         "x": [
          0
         ],
         "xaxis": "x18",
         "y": [
          4.5094065265017305
         ],
         "yaxis": "y18"
        },
        {
         "hovertemplate": "choc=18<br>person=3<br>rank=%{x}<br>rating=%{y}<extra></extra>",
         "legendgroup": "18",
         "marker": {
          "color": "#BCBD22",
          "symbol": "circle"
         },
         "mode": "markers",
         "name": "18",
         "orientation": "v",
         "showlegend": false,
         "type": "scatter",
         "x": [
          6
         ],
         "xaxis": "x19",
         "y": [
          0.9951171688096423
         ],
         "yaxis": "y19"
        },
        {
         "hovertemplate": "choc=18<br>person=4<br>rank=%{x}<br>rating=%{y}<extra></extra>",
         "legendgroup": "18",
         "marker": {
          "color": "#BCBD22",
          "symbol": "circle"
         },
         "mode": "markers",
         "name": "18",
         "orientation": "v",
         "showlegend": false,
         "type": "scatter",
         "x": [
          19
         ],
         "xaxis": "x20",
         "y": [
          -4.5449712311750385
         ],
         "yaxis": "y20"
        },
        {
         "hovertemplate": "choc=18<br>person=5<br>rank=%{x}<br>rating=%{y}<extra></extra>",
         "legendgroup": "18",
         "marker": {
          "color": "#BCBD22",
          "symbol": "circle"
         },
         "mode": "markers",
         "name": "18",
         "orientation": "v",
         "showlegend": false,
         "type": "scatter",
         "x": [
          2
         ],
         "xaxis": "x11",
         "y": [
          3.4400597215448405
         ],
         "yaxis": "y11"
        },
        {
         "hovertemplate": "choc=18<br>person=6<br>rank=%{x}<br>rating=%{y}<extra></extra>",
         "legendgroup": "18",
         "marker": {
          "color": "#BCBD22",
          "symbol": "circle"
         },
         "mode": "markers",
         "name": "18",
         "orientation": "v",
         "showlegend": false,
         "type": "scatter",
         "x": [
          14
         ],
         "xaxis": "x12",
         "y": [
          -1.7178701312328715
         ],
         "yaxis": "y12"
        },
        {
         "hovertemplate": "choc=18<br>person=7<br>rank=%{x}<br>rating=%{y}<extra></extra>",
         "legendgroup": "18",
         "marker": {
          "color": "#BCBD22",
          "symbol": "circle"
         },
         "mode": "markers",
         "name": "18",
         "orientation": "v",
         "showlegend": false,
         "type": "scatter",
         "x": [
          3
         ],
         "xaxis": "x13",
         "y": [
          0.857358673458017
         ],
         "yaxis": "y13"
        },
        {
         "hovertemplate": "choc=18<br>person=8<br>rank=%{x}<br>rating=%{y}<extra></extra>",
         "legendgroup": "18",
         "marker": {
          "color": "#BCBD22",
          "symbol": "circle"
         },
         "mode": "markers",
         "name": "18",
         "orientation": "v",
         "showlegend": false,
         "type": "scatter",
         "x": [
          15
         ],
         "xaxis": "x14",
         "y": [
          -2.8879202731853297
         ],
         "yaxis": "y14"
        },
        {
         "hovertemplate": "choc=18<br>person=9<br>rank=%{x}<br>rating=%{y}<extra></extra>",
         "legendgroup": "18",
         "marker": {
          "color": "#BCBD22",
          "symbol": "circle"
         },
         "mode": "markers",
         "name": "18",
         "orientation": "v",
         "showlegend": false,
         "type": "scatter",
         "x": [
          1
         ],
         "xaxis": "x15",
         "y": [
          2.7702005200176125
         ],
         "yaxis": "y15"
        },
        {
         "hovertemplate": "choc=18<br>person=10<br>rank=%{x}<br>rating=%{y}<extra></extra>",
         "legendgroup": "18",
         "marker": {
          "color": "#BCBD22",
          "symbol": "circle"
         },
         "mode": "markers",
         "name": "18",
         "orientation": "v",
         "showlegend": false,
         "type": "scatter",
         "x": [
          2
         ],
         "xaxis": "x6",
         "y": [
          3.512028793354042
         ],
         "yaxis": "y6"
        },
        {
         "hovertemplate": "choc=18<br>person=11<br>rank=%{x}<br>rating=%{y}<extra></extra>",
         "legendgroup": "18",
         "marker": {
          "color": "#BCBD22",
          "symbol": "circle"
         },
         "mode": "markers",
         "name": "18",
         "orientation": "v",
         "showlegend": false,
         "type": "scatter",
         "x": [
          0
         ],
         "xaxis": "x7",
         "y": [
          4.126273354452129
         ],
         "yaxis": "y7"
        },
        {
         "hovertemplate": "choc=18<br>person=12<br>rank=%{x}<br>rating=%{y}<extra></extra>",
         "legendgroup": "18",
         "marker": {
          "color": "#BCBD22",
          "symbol": "circle"
         },
         "mode": "markers",
         "name": "18",
         "orientation": "v",
         "showlegend": false,
         "type": "scatter",
         "x": [
          17
         ],
         "xaxis": "x8",
         "y": [
          -2.8079076108374776
         ],
         "yaxis": "y8"
        },
        {
         "hovertemplate": "choc=18<br>person=13<br>rank=%{x}<br>rating=%{y}<extra></extra>",
         "legendgroup": "18",
         "marker": {
          "color": "#BCBD22",
          "symbol": "circle"
         },
         "mode": "markers",
         "name": "18",
         "orientation": "v",
         "showlegend": false,
         "type": "scatter",
         "x": [
          0
         ],
         "xaxis": "x9",
         "y": [
          5.6269792967888534
         ],
         "yaxis": "y9"
        },
        {
         "hovertemplate": "choc=18<br>person=14<br>rank=%{x}<br>rating=%{y}<extra></extra>",
         "legendgroup": "18",
         "marker": {
          "color": "#BCBD22",
          "symbol": "circle"
         },
         "mode": "markers",
         "name": "18",
         "orientation": "v",
         "showlegend": false,
         "type": "scatter",
         "x": [
          14
         ],
         "xaxis": "x10",
         "y": [
          -1.7154797061729254
         ],
         "yaxis": "y10"
        },
        {
         "hovertemplate": "choc=18<br>person=15<br>rank=%{x}<br>rating=%{y}<extra></extra>",
         "legendgroup": "18",
         "marker": {
          "color": "#BCBD22",
          "symbol": "circle"
         },
         "mode": "markers",
         "name": "18",
         "orientation": "v",
         "showlegend": false,
         "type": "scatter",
         "x": [
          0
         ],
         "xaxis": "x",
         "y": [
          4.6514747521759645
         ],
         "yaxis": "y"
        },
        {
         "hovertemplate": "choc=18<br>person=16<br>rank=%{x}<br>rating=%{y}<extra></extra>",
         "legendgroup": "18",
         "marker": {
          "color": "#BCBD22",
          "symbol": "circle"
         },
         "mode": "markers",
         "name": "18",
         "orientation": "v",
         "showlegend": false,
         "type": "scatter",
         "x": [
          1
         ],
         "xaxis": "x2",
         "y": [
          6.169886764277221
         ],
         "yaxis": "y2"
        },
        {
         "hovertemplate": "choc=18<br>person=17<br>rank=%{x}<br>rating=%{y}<extra></extra>",
         "legendgroup": "18",
         "marker": {
          "color": "#BCBD22",
          "symbol": "circle"
         },
         "mode": "markers",
         "name": "18",
         "orientation": "v",
         "showlegend": false,
         "type": "scatter",
         "x": [
          0
         ],
         "xaxis": "x3",
         "y": [
          5.036537681598493
         ],
         "yaxis": "y3"
        },
        {
         "hovertemplate": "choc=18<br>person=18<br>rank=%{x}<br>rating=%{y}<extra></extra>",
         "legendgroup": "18",
         "marker": {
          "color": "#BCBD22",
          "symbol": "circle"
         },
         "mode": "markers",
         "name": "18",
         "orientation": "v",
         "showlegend": false,
         "type": "scatter",
         "x": [
          3
         ],
         "xaxis": "x4",
         "y": [
          2.61196793931421
         ],
         "yaxis": "y4"
        },
        {
         "hovertemplate": "choc=18<br>person=19<br>rank=%{x}<br>rating=%{y}<extra></extra>",
         "legendgroup": "18",
         "marker": {
          "color": "#BCBD22",
          "symbol": "circle"
         },
         "mode": "markers",
         "name": "18",
         "orientation": "v",
         "showlegend": false,
         "type": "scatter",
         "x": [
          2
         ],
         "xaxis": "x5",
         "y": [
          2.812583837511935
         ],
         "yaxis": "y5"
        },
        {
         "hovertemplate": "choc=19<br>person=0<br>rank=%{x}<br>rating=%{y}<extra></extra>",
         "legendgroup": "19",
         "marker": {
          "color": "#17BECF",
          "symbol": "circle"
         },
         "mode": "markers",
         "name": "19",
         "orientation": "v",
         "showlegend": true,
         "type": "scatter",
         "x": [
          19
         ],
         "xaxis": "x16",
         "y": [
          -3.961024771659484
         ],
         "yaxis": "y16"
        },
        {
         "hovertemplate": "choc=19<br>person=1<br>rank=%{x}<br>rating=%{y}<extra></extra>",
         "legendgroup": "19",
         "marker": {
          "color": "#17BECF",
          "symbol": "circle"
         },
         "mode": "markers",
         "name": "19",
         "orientation": "v",
         "showlegend": false,
         "type": "scatter",
         "x": [
          12
         ],
         "xaxis": "x17",
         "y": [
          0.308913326907994
         ],
         "yaxis": "y17"
        },
        {
         "hovertemplate": "choc=19<br>person=2<br>rank=%{x}<br>rating=%{y}<extra></extra>",
         "legendgroup": "19",
         "marker": {
          "color": "#17BECF",
          "symbol": "circle"
         },
         "mode": "markers",
         "name": "19",
         "orientation": "v",
         "showlegend": false,
         "type": "scatter",
         "x": [
          18
         ],
         "xaxis": "x18",
         "y": [
          -5.214413721701115
         ],
         "yaxis": "y18"
        },
        {
         "hovertemplate": "choc=19<br>person=3<br>rank=%{x}<br>rating=%{y}<extra></extra>",
         "legendgroup": "19",
         "marker": {
          "color": "#17BECF",
          "symbol": "circle"
         },
         "mode": "markers",
         "name": "19",
         "orientation": "v",
         "showlegend": false,
         "type": "scatter",
         "x": [
          19
         ],
         "xaxis": "x19",
         "y": [
          -2.4817308231900013
         ],
         "yaxis": "y19"
        },
        {
         "hovertemplate": "choc=19<br>person=4<br>rank=%{x}<br>rating=%{y}<extra></extra>",
         "legendgroup": "19",
         "marker": {
          "color": "#17BECF",
          "symbol": "circle"
         },
         "mode": "markers",
         "name": "19",
         "orientation": "v",
         "showlegend": false,
         "type": "scatter",
         "x": [
          18
         ],
         "xaxis": "x20",
         "y": [
          -4.072292447198743
         ],
         "yaxis": "y20"
        },
        {
         "hovertemplate": "choc=19<br>person=5<br>rank=%{x}<br>rating=%{y}<extra></extra>",
         "legendgroup": "19",
         "marker": {
          "color": "#17BECF",
          "symbol": "circle"
         },
         "mode": "markers",
         "name": "19",
         "orientation": "v",
         "showlegend": false,
         "type": "scatter",
         "x": [
          6
         ],
         "xaxis": "x11",
         "y": [
          0.038543121984296214
         ],
         "yaxis": "y11"
        },
        {
         "hovertemplate": "choc=19<br>person=6<br>rank=%{x}<br>rating=%{y}<extra></extra>",
         "legendgroup": "19",
         "marker": {
          "color": "#17BECF",
          "symbol": "circle"
         },
         "mode": "markers",
         "name": "19",
         "orientation": "v",
         "showlegend": false,
         "type": "scatter",
         "x": [
          16
         ],
         "xaxis": "x12",
         "y": [
          -2.3689818035615344
         ],
         "yaxis": "y12"
        },
        {
         "hovertemplate": "choc=19<br>person=7<br>rank=%{x}<br>rating=%{y}<extra></extra>",
         "legendgroup": "19",
         "marker": {
          "color": "#17BECF",
          "symbol": "circle"
         },
         "mode": "markers",
         "name": "19",
         "orientation": "v",
         "showlegend": false,
         "type": "scatter",
         "x": [
          17
         ],
         "xaxis": "x13",
         "y": [
          -4.213908324789853
         ],
         "yaxis": "y13"
        },
        {
         "hovertemplate": "choc=19<br>person=8<br>rank=%{x}<br>rating=%{y}<extra></extra>",
         "legendgroup": "19",
         "marker": {
          "color": "#17BECF",
          "symbol": "circle"
         },
         "mode": "markers",
         "name": "19",
         "orientation": "v",
         "showlegend": false,
         "type": "scatter",
         "x": [
          8
         ],
         "xaxis": "x14",
         "y": [
          0.0724112453645287
         ],
         "yaxis": "y14"
        },
        {
         "hovertemplate": "choc=19<br>person=9<br>rank=%{x}<br>rating=%{y}<extra></extra>",
         "legendgroup": "19",
         "marker": {
          "color": "#17BECF",
          "symbol": "circle"
         },
         "mode": "markers",
         "name": "19",
         "orientation": "v",
         "showlegend": false,
         "type": "scatter",
         "x": [
          15
         ],
         "xaxis": "x15",
         "y": [
          -1.8794956666264453
         ],
         "yaxis": "y15"
        },
        {
         "hovertemplate": "choc=19<br>person=10<br>rank=%{x}<br>rating=%{y}<extra></extra>",
         "legendgroup": "19",
         "marker": {
          "color": "#17BECF",
          "symbol": "circle"
         },
         "mode": "markers",
         "name": "19",
         "orientation": "v",
         "showlegend": false,
         "type": "scatter",
         "x": [
          17
         ],
         "xaxis": "x6",
         "y": [
          -3.4073222697358125
         ],
         "yaxis": "y6"
        },
        {
         "hovertemplate": "choc=19<br>person=11<br>rank=%{x}<br>rating=%{y}<extra></extra>",
         "legendgroup": "19",
         "marker": {
          "color": "#17BECF",
          "symbol": "circle"
         },
         "mode": "markers",
         "name": "19",
         "orientation": "v",
         "showlegend": false,
         "type": "scatter",
         "x": [
          16
         ],
         "xaxis": "x7",
         "y": [
          -2.558835305742086
         ],
         "yaxis": "y7"
        },
        {
         "hovertemplate": "choc=19<br>person=12<br>rank=%{x}<br>rating=%{y}<extra></extra>",
         "legendgroup": "19",
         "marker": {
          "color": "#17BECF",
          "symbol": "circle"
         },
         "mode": "markers",
         "name": "19",
         "orientation": "v",
         "showlegend": false,
         "type": "scatter",
         "x": [
          19
         ],
         "xaxis": "x8",
         "y": [
          -3.874613934214066
         ],
         "yaxis": "y8"
        },
        {
         "hovertemplate": "choc=19<br>person=13<br>rank=%{x}<br>rating=%{y}<extra></extra>",
         "legendgroup": "19",
         "marker": {
          "color": "#17BECF",
          "symbol": "circle"
         },
         "mode": "markers",
         "name": "19",
         "orientation": "v",
         "showlegend": false,
         "type": "scatter",
         "x": [
          8
         ],
         "xaxis": "x9",
         "y": [
          0.6764926183459434
         ],
         "yaxis": "y9"
        },
        {
         "hovertemplate": "choc=19<br>person=14<br>rank=%{x}<br>rating=%{y}<extra></extra>",
         "legendgroup": "19",
         "marker": {
          "color": "#17BECF",
          "symbol": "circle"
         },
         "mode": "markers",
         "name": "19",
         "orientation": "v",
         "showlegend": false,
         "type": "scatter",
         "x": [
          2
         ],
         "xaxis": "x10",
         "y": [
          2.5737949334076258
         ],
         "yaxis": "y10"
        },
        {
         "hovertemplate": "choc=19<br>person=15<br>rank=%{x}<br>rating=%{y}<extra></extra>",
         "legendgroup": "19",
         "marker": {
          "color": "#17BECF",
          "symbol": "circle"
         },
         "mode": "markers",
         "name": "19",
         "orientation": "v",
         "showlegend": false,
         "type": "scatter",
         "x": [
          4
         ],
         "xaxis": "x",
         "y": [
          1.7468433276302955
         ],
         "yaxis": "y"
        },
        {
         "hovertemplate": "choc=19<br>person=16<br>rank=%{x}<br>rating=%{y}<extra></extra>",
         "legendgroup": "19",
         "marker": {
          "color": "#17BECF",
          "symbol": "circle"
         },
         "mode": "markers",
         "name": "19",
         "orientation": "v",
         "showlegend": false,
         "type": "scatter",
         "x": [
          12
         ],
         "xaxis": "x2",
         "y": [
          -0.5680110462309887
         ],
         "yaxis": "y2"
        },
        {
         "hovertemplate": "choc=19<br>person=17<br>rank=%{x}<br>rating=%{y}<extra></extra>",
         "legendgroup": "19",
         "marker": {
          "color": "#17BECF",
          "symbol": "circle"
         },
         "mode": "markers",
         "name": "19",
         "orientation": "v",
         "showlegend": false,
         "type": "scatter",
         "x": [
          19
         ],
         "xaxis": "x3",
         "y": [
          -3.63073452976596
         ],
         "yaxis": "y3"
        },
        {
         "hovertemplate": "choc=19<br>person=18<br>rank=%{x}<br>rating=%{y}<extra></extra>",
         "legendgroup": "19",
         "marker": {
          "color": "#17BECF",
          "symbol": "circle"
         },
         "mode": "markers",
         "name": "19",
         "orientation": "v",
         "showlegend": false,
         "type": "scatter",
         "x": [
          6
         ],
         "xaxis": "x4",
         "y": [
          1.8721654699789867
         ],
         "yaxis": "y4"
        },
        {
         "hovertemplate": "choc=19<br>person=19<br>rank=%{x}<br>rating=%{y}<extra></extra>",
         "legendgroup": "19",
         "marker": {
          "color": "#17BECF",
          "symbol": "circle"
         },
         "mode": "markers",
         "name": "19",
         "orientation": "v",
         "showlegend": false,
         "type": "scatter",
         "x": [
          11
         ],
         "xaxis": "x5",
         "y": [
          -0.4029540807416414
         ],
         "yaxis": "y5"
        }
       ],
       "layout": {
        "annotations": [
         {
          "font": {},
          "showarrow": false,
          "text": "person=15",
          "x": 0.09200000000000001,
          "xanchor": "center",
          "xref": "paper",
          "y": 0.1975,
          "yanchor": "bottom",
          "yref": "paper"
         },
         {
          "font": {},
          "showarrow": false,
          "text": "person=16",
          "x": 0.29600000000000004,
          "xanchor": "center",
          "xref": "paper",
          "y": 0.1975,
          "yanchor": "bottom",
          "yref": "paper"
         },
         {
          "font": {},
          "showarrow": false,
          "text": "person=17",
          "x": 0.5,
          "xanchor": "center",
          "xref": "paper",
          "y": 0.1975,
          "yanchor": "bottom",
          "yref": "paper"
         },
         {
          "font": {},
          "showarrow": false,
          "text": "person=18",
          "x": 0.7040000000000002,
          "xanchor": "center",
          "xref": "paper",
          "y": 0.1975,
          "yanchor": "bottom",
          "yref": "paper"
         },
         {
          "font": {},
          "showarrow": false,
          "text": "person=19",
          "x": 0.908,
          "xanchor": "center",
          "xref": "paper",
          "y": 0.1975,
          "yanchor": "bottom",
          "yref": "paper"
         },
         {
          "font": {},
          "showarrow": false,
          "text": "person=10",
          "x": 0.09200000000000001,
          "xanchor": "center",
          "xref": "paper",
          "y": 0.465,
          "yanchor": "bottom",
          "yref": "paper"
         },
         {
          "font": {},
          "showarrow": false,
          "text": "person=11",
          "x": 0.29600000000000004,
          "xanchor": "center",
          "xref": "paper",
          "y": 0.465,
          "yanchor": "bottom",
          "yref": "paper"
         },
         {
          "font": {},
          "showarrow": false,
          "text": "person=12",
          "x": 0.5,
          "xanchor": "center",
          "xref": "paper",
          "y": 0.465,
          "yanchor": "bottom",
          "yref": "paper"
         },
         {
          "font": {},
          "showarrow": false,
          "text": "person=13",
          "x": 0.7040000000000002,
          "xanchor": "center",
          "xref": "paper",
          "y": 0.465,
          "yanchor": "bottom",
          "yref": "paper"
         },
         {
          "font": {},
          "showarrow": false,
          "text": "person=14",
          "x": 0.908,
          "xanchor": "center",
          "xref": "paper",
          "y": 0.465,
          "yanchor": "bottom",
          "yref": "paper"
         },
         {
          "font": {},
          "showarrow": false,
          "text": "person=5",
          "x": 0.09200000000000001,
          "xanchor": "center",
          "xref": "paper",
          "y": 0.7325,
          "yanchor": "bottom",
          "yref": "paper"
         },
         {
          "font": {},
          "showarrow": false,
          "text": "person=6",
          "x": 0.29600000000000004,
          "xanchor": "center",
          "xref": "paper",
          "y": 0.7325,
          "yanchor": "bottom",
          "yref": "paper"
         },
         {
          "font": {},
          "showarrow": false,
          "text": "person=7",
          "x": 0.5,
          "xanchor": "center",
          "xref": "paper",
          "y": 0.7325,
          "yanchor": "bottom",
          "yref": "paper"
         },
         {
          "font": {},
          "showarrow": false,
          "text": "person=8",
          "x": 0.7040000000000002,
          "xanchor": "center",
          "xref": "paper",
          "y": 0.7325,
          "yanchor": "bottom",
          "yref": "paper"
         },
         {
          "font": {},
          "showarrow": false,
          "text": "person=9",
          "x": 0.908,
          "xanchor": "center",
          "xref": "paper",
          "y": 0.7325,
          "yanchor": "bottom",
          "yref": "paper"
         },
         {
          "font": {},
          "showarrow": false,
          "text": "person=0",
          "x": 0.09200000000000001,
          "xanchor": "center",
          "xref": "paper",
          "y": 1,
          "yanchor": "bottom",
          "yref": "paper"
         },
         {
          "font": {},
          "showarrow": false,
          "text": "person=1",
          "x": 0.29600000000000004,
          "xanchor": "center",
          "xref": "paper",
          "y": 1,
          "yanchor": "bottom",
          "yref": "paper"
         },
         {
          "font": {},
          "showarrow": false,
          "text": "person=2",
          "x": 0.5,
          "xanchor": "center",
          "xref": "paper",
          "y": 1,
          "yanchor": "bottom",
          "yref": "paper"
         },
         {
          "font": {},
          "showarrow": false,
          "text": "person=3",
          "x": 0.7040000000000002,
          "xanchor": "center",
          "xref": "paper",
          "y": 1,
          "yanchor": "bottom",
          "yref": "paper"
         },
         {
          "font": {},
          "showarrow": false,
          "text": "person=4",
          "x": 0.908,
          "xanchor": "center",
          "xref": "paper",
          "y": 1,
          "yanchor": "bottom",
          "yref": "paper"
         }
        ],
        "height": 600,
        "legend": {
         "title": {
          "text": "choc"
         },
         "tracegroupgap": 0
        },
        "margin": {
         "t": 60
        },
        "showlegend": false,
        "template": {
         "data": {
          "bar": [
           {
            "error_x": {
             "color": "rgb(36,36,36)"
            },
            "error_y": {
             "color": "rgb(36,36,36)"
            },
            "marker": {
             "line": {
              "color": "white",
              "width": 0.5
             },
             "pattern": {
              "fillmode": "overlay",
              "size": 10,
              "solidity": 0.2
             }
            },
            "type": "bar"
           }
          ],
          "barpolar": [
           {
            "marker": {
             "line": {
              "color": "white",
              "width": 0.5
             },
             "pattern": {
              "fillmode": "overlay",
              "size": 10,
              "solidity": 0.2
             }
            },
            "type": "barpolar"
           }
          ],
          "carpet": [
           {
            "aaxis": {
             "endlinecolor": "rgb(36,36,36)",
             "gridcolor": "white",
             "linecolor": "white",
             "minorgridcolor": "white",
             "startlinecolor": "rgb(36,36,36)"
            },
            "baxis": {
             "endlinecolor": "rgb(36,36,36)",
             "gridcolor": "white",
             "linecolor": "white",
             "minorgridcolor": "white",
             "startlinecolor": "rgb(36,36,36)"
            },
            "type": "carpet"
           }
          ],
          "choropleth": [
           {
            "colorbar": {
             "outlinewidth": 1,
             "tickcolor": "rgb(36,36,36)",
             "ticks": "outside"
            },
            "type": "choropleth"
           }
          ],
          "contour": [
           {
            "colorbar": {
             "outlinewidth": 1,
             "tickcolor": "rgb(36,36,36)",
             "ticks": "outside"
            },
            "colorscale": [
             [
              0,
              "#440154"
             ],
             [
              0.1111111111111111,
              "#482878"
             ],
             [
              0.2222222222222222,
              "#3e4989"
             ],
             [
              0.3333333333333333,
              "#31688e"
             ],
             [
              0.4444444444444444,
              "#26828e"
             ],
             [
              0.5555555555555556,
              "#1f9e89"
             ],
             [
              0.6666666666666666,
              "#35b779"
             ],
             [
              0.7777777777777778,
              "#6ece58"
             ],
             [
              0.8888888888888888,
              "#b5de2b"
             ],
             [
              1,
              "#fde725"
             ]
            ],
            "type": "contour"
           }
          ],
          "contourcarpet": [
           {
            "colorbar": {
             "outlinewidth": 1,
             "tickcolor": "rgb(36,36,36)",
             "ticks": "outside"
            },
            "type": "contourcarpet"
           }
          ],
          "heatmap": [
           {
            "colorbar": {
             "outlinewidth": 1,
             "tickcolor": "rgb(36,36,36)",
             "ticks": "outside"
            },
            "colorscale": [
             [
              0,
              "#440154"
             ],
             [
              0.1111111111111111,
              "#482878"
             ],
             [
              0.2222222222222222,
              "#3e4989"
             ],
             [
              0.3333333333333333,
              "#31688e"
             ],
             [
              0.4444444444444444,
              "#26828e"
             ],
             [
              0.5555555555555556,
              "#1f9e89"
             ],
             [
              0.6666666666666666,
              "#35b779"
             ],
             [
              0.7777777777777778,
              "#6ece58"
             ],
             [
              0.8888888888888888,
              "#b5de2b"
             ],
             [
              1,
              "#fde725"
             ]
            ],
            "type": "heatmap"
           }
          ],
          "heatmapgl": [
           {
            "colorbar": {
             "outlinewidth": 1,
             "tickcolor": "rgb(36,36,36)",
             "ticks": "outside"
            },
            "colorscale": [
             [
              0,
              "#440154"
             ],
             [
              0.1111111111111111,
              "#482878"
             ],
             [
              0.2222222222222222,
              "#3e4989"
             ],
             [
              0.3333333333333333,
              "#31688e"
             ],
             [
              0.4444444444444444,
              "#26828e"
             ],
             [
              0.5555555555555556,
              "#1f9e89"
             ],
             [
              0.6666666666666666,
              "#35b779"
             ],
             [
              0.7777777777777778,
              "#6ece58"
             ],
             [
              0.8888888888888888,
              "#b5de2b"
             ],
             [
              1,
              "#fde725"
             ]
            ],
            "type": "heatmapgl"
           }
          ],
          "histogram": [
           {
            "marker": {
             "line": {
              "color": "white",
              "width": 0.6
             }
            },
            "type": "histogram"
           }
          ],
          "histogram2d": [
           {
            "colorbar": {
             "outlinewidth": 1,
             "tickcolor": "rgb(36,36,36)",
             "ticks": "outside"
            },
            "colorscale": [
             [
              0,
              "#440154"
             ],
             [
              0.1111111111111111,
              "#482878"
             ],
             [
              0.2222222222222222,
              "#3e4989"
             ],
             [
              0.3333333333333333,
              "#31688e"
             ],
             [
              0.4444444444444444,
              "#26828e"
             ],
             [
              0.5555555555555556,
              "#1f9e89"
             ],
             [
              0.6666666666666666,
              "#35b779"
             ],
             [
              0.7777777777777778,
              "#6ece58"
             ],
             [
              0.8888888888888888,
              "#b5de2b"
             ],
             [
              1,
              "#fde725"
             ]
            ],
            "type": "histogram2d"
           }
          ],
          "histogram2dcontour": [
           {
            "colorbar": {
             "outlinewidth": 1,
             "tickcolor": "rgb(36,36,36)",
             "ticks": "outside"
            },
            "colorscale": [
             [
              0,
              "#440154"
             ],
             [
              0.1111111111111111,
              "#482878"
             ],
             [
              0.2222222222222222,
              "#3e4989"
             ],
             [
              0.3333333333333333,
              "#31688e"
             ],
             [
              0.4444444444444444,
              "#26828e"
             ],
             [
              0.5555555555555556,
              "#1f9e89"
             ],
             [
              0.6666666666666666,
              "#35b779"
             ],
             [
              0.7777777777777778,
              "#6ece58"
             ],
             [
              0.8888888888888888,
              "#b5de2b"
             ],
             [
              1,
              "#fde725"
             ]
            ],
            "type": "histogram2dcontour"
           }
          ],
          "mesh3d": [
           {
            "colorbar": {
             "outlinewidth": 1,
             "tickcolor": "rgb(36,36,36)",
             "ticks": "outside"
            },
            "type": "mesh3d"
           }
          ],
          "parcoords": [
           {
            "line": {
             "colorbar": {
              "outlinewidth": 1,
              "tickcolor": "rgb(36,36,36)",
              "ticks": "outside"
             }
            },
            "type": "parcoords"
           }
          ],
          "pie": [
           {
            "automargin": true,
            "type": "pie"
           }
          ],
          "scatter": [
           {
            "fillpattern": {
             "fillmode": "overlay",
             "size": 10,
             "solidity": 0.2
            },
            "type": "scatter"
           }
          ],
          "scatter3d": [
           {
            "line": {
             "colorbar": {
              "outlinewidth": 1,
              "tickcolor": "rgb(36,36,36)",
              "ticks": "outside"
             }
            },
            "marker": {
             "colorbar": {
              "outlinewidth": 1,
              "tickcolor": "rgb(36,36,36)",
              "ticks": "outside"
             }
            },
            "type": "scatter3d"
           }
          ],
          "scattercarpet": [
           {
            "marker": {
             "colorbar": {
              "outlinewidth": 1,
              "tickcolor": "rgb(36,36,36)",
              "ticks": "outside"
             }
            },
            "type": "scattercarpet"
           }
          ],
          "scattergeo": [
           {
            "marker": {
             "colorbar": {
              "outlinewidth": 1,
              "tickcolor": "rgb(36,36,36)",
              "ticks": "outside"
             }
            },
            "type": "scattergeo"
           }
          ],
          "scattergl": [
           {
            "marker": {
             "colorbar": {
              "outlinewidth": 1,
              "tickcolor": "rgb(36,36,36)",
              "ticks": "outside"
             }
            },
            "type": "scattergl"
           }
          ],
          "scattermapbox": [
           {
            "marker": {
             "colorbar": {
              "outlinewidth": 1,
              "tickcolor": "rgb(36,36,36)",
              "ticks": "outside"
             }
            },
            "type": "scattermapbox"
           }
          ],
          "scatterpolar": [
           {
            "marker": {
             "colorbar": {
              "outlinewidth": 1,
              "tickcolor": "rgb(36,36,36)",
              "ticks": "outside"
             }
            },
            "type": "scatterpolar"
           }
          ],
          "scatterpolargl": [
           {
            "marker": {
             "colorbar": {
              "outlinewidth": 1,
              "tickcolor": "rgb(36,36,36)",
              "ticks": "outside"
             }
            },
            "type": "scatterpolargl"
           }
          ],
          "scatterternary": [
           {
            "marker": {
             "colorbar": {
              "outlinewidth": 1,
              "tickcolor": "rgb(36,36,36)",
              "ticks": "outside"
             }
            },
            "type": "scatterternary"
           }
          ],
          "surface": [
           {
            "colorbar": {
             "outlinewidth": 1,
             "tickcolor": "rgb(36,36,36)",
             "ticks": "outside"
            },
            "colorscale": [
             [
              0,
              "#440154"
             ],
             [
              0.1111111111111111,
              "#482878"
             ],
             [
              0.2222222222222222,
              "#3e4989"
             ],
             [
              0.3333333333333333,
              "#31688e"
             ],
             [
              0.4444444444444444,
              "#26828e"
             ],
             [
              0.5555555555555556,
              "#1f9e89"
             ],
             [
              0.6666666666666666,
              "#35b779"
             ],
             [
              0.7777777777777778,
              "#6ece58"
             ],
             [
              0.8888888888888888,
              "#b5de2b"
             ],
             [
              1,
              "#fde725"
             ]
            ],
            "type": "surface"
           }
          ],
          "table": [
           {
            "cells": {
             "fill": {
              "color": "rgb(237,237,237)"
             },
             "line": {
              "color": "white"
             }
            },
            "header": {
             "fill": {
              "color": "rgb(217,217,217)"
             },
             "line": {
              "color": "white"
             }
            },
            "type": "table"
           }
          ]
         },
         "layout": {
          "annotationdefaults": {
           "arrowhead": 0,
           "arrowwidth": 1
          },
          "autotypenumbers": "strict",
          "coloraxis": {
           "colorbar": {
            "outlinewidth": 1,
            "tickcolor": "rgb(36,36,36)",
            "ticks": "outside"
           }
          },
          "colorscale": {
           "diverging": [
            [
             0,
             "rgb(103,0,31)"
            ],
            [
             0.1,
             "rgb(178,24,43)"
            ],
            [
             0.2,
             "rgb(214,96,77)"
            ],
            [
             0.3,
             "rgb(244,165,130)"
            ],
            [
             0.4,
             "rgb(253,219,199)"
            ],
            [
             0.5,
             "rgb(247,247,247)"
            ],
            [
             0.6,
             "rgb(209,229,240)"
            ],
            [
             0.7,
             "rgb(146,197,222)"
            ],
            [
             0.8,
             "rgb(67,147,195)"
            ],
            [
             0.9,
             "rgb(33,102,172)"
            ],
            [
             1,
             "rgb(5,48,97)"
            ]
           ],
           "sequential": [
            [
             0,
             "#440154"
            ],
            [
             0.1111111111111111,
             "#482878"
            ],
            [
             0.2222222222222222,
             "#3e4989"
            ],
            [
             0.3333333333333333,
             "#31688e"
            ],
            [
             0.4444444444444444,
             "#26828e"
            ],
            [
             0.5555555555555556,
             "#1f9e89"
            ],
            [
             0.6666666666666666,
             "#35b779"
            ],
            [
             0.7777777777777778,
             "#6ece58"
            ],
            [
             0.8888888888888888,
             "#b5de2b"
            ],
            [
             1,
             "#fde725"
            ]
           ],
           "sequentialminus": [
            [
             0,
             "#440154"
            ],
            [
             0.1111111111111111,
             "#482878"
            ],
            [
             0.2222222222222222,
             "#3e4989"
            ],
            [
             0.3333333333333333,
             "#31688e"
            ],
            [
             0.4444444444444444,
             "#26828e"
            ],
            [
             0.5555555555555556,
             "#1f9e89"
            ],
            [
             0.6666666666666666,
             "#35b779"
            ],
            [
             0.7777777777777778,
             "#6ece58"
            ],
            [
             0.8888888888888888,
             "#b5de2b"
            ],
            [
             1,
             "#fde725"
            ]
           ]
          },
          "colorway": [
           "#1F77B4",
           "#FF7F0E",
           "#2CA02C",
           "#D62728",
           "#9467BD",
           "#8C564B",
           "#E377C2",
           "#7F7F7F",
           "#BCBD22",
           "#17BECF"
          ],
          "font": {
           "color": "rgb(36,36,36)"
          },
          "geo": {
           "bgcolor": "white",
           "lakecolor": "white",
           "landcolor": "white",
           "showlakes": true,
           "showland": true,
           "subunitcolor": "white"
          },
          "hoverlabel": {
           "align": "left"
          },
          "hovermode": "closest",
          "mapbox": {
           "style": "light"
          },
          "paper_bgcolor": "white",
          "plot_bgcolor": "white",
          "polar": {
           "angularaxis": {
            "gridcolor": "rgb(232,232,232)",
            "linecolor": "rgb(36,36,36)",
            "showgrid": false,
            "showline": true,
            "ticks": "outside"
           },
           "bgcolor": "white",
           "radialaxis": {
            "gridcolor": "rgb(232,232,232)",
            "linecolor": "rgb(36,36,36)",
            "showgrid": false,
            "showline": true,
            "ticks": "outside"
           }
          },
          "scene": {
           "xaxis": {
            "backgroundcolor": "white",
            "gridcolor": "rgb(232,232,232)",
            "gridwidth": 2,
            "linecolor": "rgb(36,36,36)",
            "showbackground": true,
            "showgrid": false,
            "showline": true,
            "ticks": "outside",
            "zeroline": false,
            "zerolinecolor": "rgb(36,36,36)"
           },
           "yaxis": {
            "backgroundcolor": "white",
            "gridcolor": "rgb(232,232,232)",
            "gridwidth": 2,
            "linecolor": "rgb(36,36,36)",
            "showbackground": true,
            "showgrid": false,
            "showline": true,
            "ticks": "outside",
            "zeroline": false,
            "zerolinecolor": "rgb(36,36,36)"
           },
           "zaxis": {
            "backgroundcolor": "white",
            "gridcolor": "rgb(232,232,232)",
            "gridwidth": 2,
            "linecolor": "rgb(36,36,36)",
            "showbackground": true,
            "showgrid": false,
            "showline": true,
            "ticks": "outside",
            "zeroline": false,
            "zerolinecolor": "rgb(36,36,36)"
           }
          },
          "shapedefaults": {
           "fillcolor": "black",
           "line": {
            "width": 0
           },
           "opacity": 0.3
          },
          "ternary": {
           "aaxis": {
            "gridcolor": "rgb(232,232,232)",
            "linecolor": "rgb(36,36,36)",
            "showgrid": false,
            "showline": true,
            "ticks": "outside"
           },
           "baxis": {
            "gridcolor": "rgb(232,232,232)",
            "linecolor": "rgb(36,36,36)",
            "showgrid": false,
            "showline": true,
            "ticks": "outside"
           },
           "bgcolor": "white",
           "caxis": {
            "gridcolor": "rgb(232,232,232)",
            "linecolor": "rgb(36,36,36)",
            "showgrid": false,
            "showline": true,
            "ticks": "outside"
           }
          },
          "title": {
           "x": 0.05
          },
          "xaxis": {
           "automargin": true,
           "gridcolor": "rgb(232,232,232)",
           "linecolor": "rgb(36,36,36)",
           "showgrid": false,
           "showline": true,
           "ticks": "outside",
           "title": {
            "standoff": 15
           },
           "zeroline": false,
           "zerolinecolor": "rgb(36,36,36)"
          },
          "yaxis": {
           "automargin": true,
           "gridcolor": "rgb(232,232,232)",
           "linecolor": "rgb(36,36,36)",
           "showgrid": false,
           "showline": true,
           "ticks": "outside",
           "title": {
            "standoff": 15
           },
           "zeroline": false,
           "zerolinecolor": "rgb(36,36,36)"
          }
         }
        },
        "width": 1000,
        "xaxis": {
         "anchor": "y",
         "domain": [
          0,
          0.18400000000000002
         ],
         "title": {
          "text": "rank"
         }
        },
        "xaxis10": {
         "anchor": "y10",
         "domain": [
          0.8160000000000001,
          1
         ],
         "matches": "x",
         "showticklabels": false
        },
        "xaxis11": {
         "anchor": "y11",
         "domain": [
          0,
          0.18400000000000002
         ],
         "matches": "x",
         "showticklabels": false
        },
        "xaxis12": {
         "anchor": "y12",
         "domain": [
          0.20400000000000001,
          0.388
         ],
         "matches": "x",
         "showticklabels": false
        },
        "xaxis13": {
         "anchor": "y13",
         "domain": [
          0.40800000000000003,
          0.5920000000000001
         ],
         "matches": "x",
         "showticklabels": false
        },
        "xaxis14": {
         "anchor": "y14",
         "domain": [
          0.6120000000000001,
          0.7960000000000002
         ],
         "matches": "x",
         "showticklabels": false
        },
        "xaxis15": {
         "anchor": "y15",
         "domain": [
          0.8160000000000001,
          1
         ],
         "matches": "x",
         "showticklabels": false
        },
        "xaxis16": {
         "anchor": "y16",
         "domain": [
          0,
          0.18400000000000002
         ],
         "matches": "x",
         "showticklabels": false
        },
        "xaxis17": {
         "anchor": "y17",
         "domain": [
          0.20400000000000001,
          0.388
         ],
         "matches": "x",
         "showticklabels": false
        },
        "xaxis18": {
         "anchor": "y18",
         "domain": [
          0.40800000000000003,
          0.5920000000000001
         ],
         "matches": "x",
         "showticklabels": false
        },
        "xaxis19": {
         "anchor": "y19",
         "domain": [
          0.6120000000000001,
          0.7960000000000002
         ],
         "matches": "x",
         "showticklabels": false
        },
        "xaxis2": {
         "anchor": "y2",
         "domain": [
          0.20400000000000001,
          0.388
         ],
         "matches": "x",
         "title": {
          "text": "rank"
         }
        },
        "xaxis20": {
         "anchor": "y20",
         "domain": [
          0.8160000000000001,
          1
         ],
         "matches": "x",
         "showticklabels": false
        },
        "xaxis3": {
         "anchor": "y3",
         "domain": [
          0.40800000000000003,
          0.5920000000000001
         ],
         "matches": "x",
         "title": {
          "text": "rank"
         }
        },
        "xaxis4": {
         "anchor": "y4",
         "domain": [
          0.6120000000000001,
          0.7960000000000002
         ],
         "matches": "x",
         "title": {
          "text": "rank"
         }
        },
        "xaxis5": {
         "anchor": "y5",
         "domain": [
          0.8160000000000001,
          1
         ],
         "matches": "x",
         "title": {
          "text": "rank"
         }
        },
        "xaxis6": {
         "anchor": "y6",
         "domain": [
          0,
          0.18400000000000002
         ],
         "matches": "x",
         "showticklabels": false
        },
        "xaxis7": {
         "anchor": "y7",
         "domain": [
          0.20400000000000001,
          0.388
         ],
         "matches": "x",
         "showticklabels": false
        },
        "xaxis8": {
         "anchor": "y8",
         "domain": [
          0.40800000000000003,
          0.5920000000000001
         ],
         "matches": "x",
         "showticklabels": false
        },
        "xaxis9": {
         "anchor": "y9",
         "domain": [
          0.6120000000000001,
          0.7960000000000002
         ],
         "matches": "x",
         "showticklabels": false
        },
        "yaxis": {
         "anchor": "x",
         "domain": [
          0,
          0.1975
         ],
         "title": {
          "text": "rating"
         }
        },
        "yaxis10": {
         "anchor": "x10",
         "domain": [
          0.2675,
          0.465
         ],
         "matches": "y",
         "showticklabels": false
        },
        "yaxis11": {
         "anchor": "x11",
         "domain": [
          0.535,
          0.7325
         ],
         "matches": "y",
         "title": {
          "text": "rating"
         }
        },
        "yaxis12": {
         "anchor": "x12",
         "domain": [
          0.535,
          0.7325
         ],
         "matches": "y",
         "showticklabels": false
        },
        "yaxis13": {
         "anchor": "x13",
         "domain": [
          0.535,
          0.7325
         ],
         "matches": "y",
         "showticklabels": false
        },
        "yaxis14": {
         "anchor": "x14",
         "domain": [
          0.535,
          0.7325
         ],
         "matches": "y",
         "showticklabels": false
        },
        "yaxis15": {
         "anchor": "x15",
         "domain": [
          0.535,
          0.7325
         ],
         "matches": "y",
         "showticklabels": false
        },
        "yaxis16": {
         "anchor": "x16",
         "domain": [
          0.8025,
          1
         ],
         "matches": "y",
         "title": {
          "text": "rating"
         }
        },
        "yaxis17": {
         "anchor": "x17",
         "domain": [
          0.8025,
          1
         ],
         "matches": "y",
         "showticklabels": false
        },
        "yaxis18": {
         "anchor": "x18",
         "domain": [
          0.8025,
          1
         ],
         "matches": "y",
         "showticklabels": false
        },
        "yaxis19": {
         "anchor": "x19",
         "domain": [
          0.8025,
          1
         ],
         "matches": "y",
         "showticklabels": false
        },
        "yaxis2": {
         "anchor": "x2",
         "domain": [
          0,
          0.1975
         ],
         "matches": "y",
         "showticklabels": false
        },
        "yaxis20": {
         "anchor": "x20",
         "domain": [
          0.8025,
          1
         ],
         "matches": "y",
         "showticklabels": false
        },
        "yaxis3": {
         "anchor": "x3",
         "domain": [
          0,
          0.1975
         ],
         "matches": "y",
         "showticklabels": false
        },
        "yaxis4": {
         "anchor": "x4",
         "domain": [
          0,
          0.1975
         ],
         "matches": "y",
         "showticklabels": false
        },
        "yaxis5": {
         "anchor": "x5",
         "domain": [
          0,
          0.1975
         ],
         "matches": "y",
         "showticklabels": false
        },
        "yaxis6": {
         "anchor": "x6",
         "domain": [
          0.2675,
          0.465
         ],
         "matches": "y",
         "title": {
          "text": "rating"
         }
        },
        "yaxis7": {
         "anchor": "x7",
         "domain": [
          0.2675,
          0.465
         ],
         "matches": "y",
         "showticklabels": false
        },
        "yaxis8": {
         "anchor": "x8",
         "domain": [
          0.2675,
          0.465
         ],
         "matches": "y",
         "showticklabels": false
        },
        "yaxis9": {
         "anchor": "x9",
         "domain": [
          0.2675,
          0.465
         ],
         "matches": "y",
         "showticklabels": false
        }
       }
      }
     },
     "metadata": {},
     "output_type": "display_data"
    }
   ],
   "source": [
    "sim_viz.plot_ratings_rankings(facets_limit={'var': 'person',\n",
    "                                            'records': 20})"
   ]
  },
  {
   "cell_type": "code",
   "execution_count": 12,
   "metadata": {},
   "outputs": [],
   "source": [
    "import src.visualization.viz_rankings as vizrank"
   ]
  },
  {
   "cell_type": "code",
   "execution_count": 13,
   "metadata": {},
   "outputs": [],
   "source": [
    "rank_prior_df = sim_viz.sim.ratings_rankings_df.query(\"person < 10\").copy()"
   ]
  },
  {
   "cell_type": "code",
   "execution_count": 14,
   "metadata": {},
   "outputs": [
    {
     "data": {
      "application/vnd.plotly.v1+json": {
       "config": {
        "plotlyServerURL": "https://plot.ly"
       },
       "data": [
        {
         "alignmentgroup": "True",
         "hovertemplate": "choc=%{x}<br>rank=%{y}<extra></extra>",
         "legendgroup": "",
         "marker": {
          "color": "#1F77B4",
          "pattern": {
           "shape": ""
          }
         },
         "name": "",
         "offsetgroup": "",
         "orientation": "v",
         "showlegend": false,
         "textposition": "auto",
         "type": "bar",
         "x": [
          "2",
          "7",
          "10",
          "8",
          "1",
          "18",
          "6",
          "0",
          "4",
          "17",
          "12",
          "16",
          "3",
          "11",
          "5",
          "9",
          "15",
          "13",
          "14",
          "19"
         ],
         "xaxis": "x",
         "y": [
          4.3,
          4.9,
          5.5,
          7.3,
          7.8,
          7.8,
          8.1,
          8.6,
          9,
          9.1,
          9.2,
          9.6,
          9.8,
          10.4,
          10.9,
          12.7,
          12.9,
          13.5,
          13.8,
          14.8
         ],
         "yaxis": "y"
        }
       ],
       "layout": {
        "barmode": "relative",
        "legend": {
         "tracegroupgap": 0
        },
        "margin": {
         "t": 60
        },
        "showlegend": false,
        "template": {
         "data": {
          "bar": [
           {
            "error_x": {
             "color": "rgb(36,36,36)"
            },
            "error_y": {
             "color": "rgb(36,36,36)"
            },
            "marker": {
             "line": {
              "color": "white",
              "width": 0.5
             },
             "pattern": {
              "fillmode": "overlay",
              "size": 10,
              "solidity": 0.2
             }
            },
            "type": "bar"
           }
          ],
          "barpolar": [
           {
            "marker": {
             "line": {
              "color": "white",
              "width": 0.5
             },
             "pattern": {
              "fillmode": "overlay",
              "size": 10,
              "solidity": 0.2
             }
            },
            "type": "barpolar"
           }
          ],
          "carpet": [
           {
            "aaxis": {
             "endlinecolor": "rgb(36,36,36)",
             "gridcolor": "white",
             "linecolor": "white",
             "minorgridcolor": "white",
             "startlinecolor": "rgb(36,36,36)"
            },
            "baxis": {
             "endlinecolor": "rgb(36,36,36)",
             "gridcolor": "white",
             "linecolor": "white",
             "minorgridcolor": "white",
             "startlinecolor": "rgb(36,36,36)"
            },
            "type": "carpet"
           }
          ],
          "choropleth": [
           {
            "colorbar": {
             "outlinewidth": 1,
             "tickcolor": "rgb(36,36,36)",
             "ticks": "outside"
            },
            "type": "choropleth"
           }
          ],
          "contour": [
           {
            "colorbar": {
             "outlinewidth": 1,
             "tickcolor": "rgb(36,36,36)",
             "ticks": "outside"
            },
            "colorscale": [
             [
              0,
              "#440154"
             ],
             [
              0.1111111111111111,
              "#482878"
             ],
             [
              0.2222222222222222,
              "#3e4989"
             ],
             [
              0.3333333333333333,
              "#31688e"
             ],
             [
              0.4444444444444444,
              "#26828e"
             ],
             [
              0.5555555555555556,
              "#1f9e89"
             ],
             [
              0.6666666666666666,
              "#35b779"
             ],
             [
              0.7777777777777778,
              "#6ece58"
             ],
             [
              0.8888888888888888,
              "#b5de2b"
             ],
             [
              1,
              "#fde725"
             ]
            ],
            "type": "contour"
           }
          ],
          "contourcarpet": [
           {
            "colorbar": {
             "outlinewidth": 1,
             "tickcolor": "rgb(36,36,36)",
             "ticks": "outside"
            },
            "type": "contourcarpet"
           }
          ],
          "heatmap": [
           {
            "colorbar": {
             "outlinewidth": 1,
             "tickcolor": "rgb(36,36,36)",
             "ticks": "outside"
            },
            "colorscale": [
             [
              0,
              "#440154"
             ],
             [
              0.1111111111111111,
              "#482878"
             ],
             [
              0.2222222222222222,
              "#3e4989"
             ],
             [
              0.3333333333333333,
              "#31688e"
             ],
             [
              0.4444444444444444,
              "#26828e"
             ],
             [
              0.5555555555555556,
              "#1f9e89"
             ],
             [
              0.6666666666666666,
              "#35b779"
             ],
             [
              0.7777777777777778,
              "#6ece58"
             ],
             [
              0.8888888888888888,
              "#b5de2b"
             ],
             [
              1,
              "#fde725"
             ]
            ],
            "type": "heatmap"
           }
          ],
          "heatmapgl": [
           {
            "colorbar": {
             "outlinewidth": 1,
             "tickcolor": "rgb(36,36,36)",
             "ticks": "outside"
            },
            "colorscale": [
             [
              0,
              "#440154"
             ],
             [
              0.1111111111111111,
              "#482878"
             ],
             [
              0.2222222222222222,
              "#3e4989"
             ],
             [
              0.3333333333333333,
              "#31688e"
             ],
             [
              0.4444444444444444,
              "#26828e"
             ],
             [
              0.5555555555555556,
              "#1f9e89"
             ],
             [
              0.6666666666666666,
              "#35b779"
             ],
             [
              0.7777777777777778,
              "#6ece58"
             ],
             [
              0.8888888888888888,
              "#b5de2b"
             ],
             [
              1,
              "#fde725"
             ]
            ],
            "type": "heatmapgl"
           }
          ],
          "histogram": [
           {
            "marker": {
             "line": {
              "color": "white",
              "width": 0.6
             }
            },
            "type": "histogram"
           }
          ],
          "histogram2d": [
           {
            "colorbar": {
             "outlinewidth": 1,
             "tickcolor": "rgb(36,36,36)",
             "ticks": "outside"
            },
            "colorscale": [
             [
              0,
              "#440154"
             ],
             [
              0.1111111111111111,
              "#482878"
             ],
             [
              0.2222222222222222,
              "#3e4989"
             ],
             [
              0.3333333333333333,
              "#31688e"
             ],
             [
              0.4444444444444444,
              "#26828e"
             ],
             [
              0.5555555555555556,
              "#1f9e89"
             ],
             [
              0.6666666666666666,
              "#35b779"
             ],
             [
              0.7777777777777778,
              "#6ece58"
             ],
             [
              0.8888888888888888,
              "#b5de2b"
             ],
             [
              1,
              "#fde725"
             ]
            ],
            "type": "histogram2d"
           }
          ],
          "histogram2dcontour": [
           {
            "colorbar": {
             "outlinewidth": 1,
             "tickcolor": "rgb(36,36,36)",
             "ticks": "outside"
            },
            "colorscale": [
             [
              0,
              "#440154"
             ],
             [
              0.1111111111111111,
              "#482878"
             ],
             [
              0.2222222222222222,
              "#3e4989"
             ],
             [
              0.3333333333333333,
              "#31688e"
             ],
             [
              0.4444444444444444,
              "#26828e"
             ],
             [
              0.5555555555555556,
              "#1f9e89"
             ],
             [
              0.6666666666666666,
              "#35b779"
             ],
             [
              0.7777777777777778,
              "#6ece58"
             ],
             [
              0.8888888888888888,
              "#b5de2b"
             ],
             [
              1,
              "#fde725"
             ]
            ],
            "type": "histogram2dcontour"
           }
          ],
          "mesh3d": [
           {
            "colorbar": {
             "outlinewidth": 1,
             "tickcolor": "rgb(36,36,36)",
             "ticks": "outside"
            },
            "type": "mesh3d"
           }
          ],
          "parcoords": [
           {
            "line": {
             "colorbar": {
              "outlinewidth": 1,
              "tickcolor": "rgb(36,36,36)",
              "ticks": "outside"
             }
            },
            "type": "parcoords"
           }
          ],
          "pie": [
           {
            "automargin": true,
            "type": "pie"
           }
          ],
          "scatter": [
           {
            "fillpattern": {
             "fillmode": "overlay",
             "size": 10,
             "solidity": 0.2
            },
            "type": "scatter"
           }
          ],
          "scatter3d": [
           {
            "line": {
             "colorbar": {
              "outlinewidth": 1,
              "tickcolor": "rgb(36,36,36)",
              "ticks": "outside"
             }
            },
            "marker": {
             "colorbar": {
              "outlinewidth": 1,
              "tickcolor": "rgb(36,36,36)",
              "ticks": "outside"
             }
            },
            "type": "scatter3d"
           }
          ],
          "scattercarpet": [
           {
            "marker": {
             "colorbar": {
              "outlinewidth": 1,
              "tickcolor": "rgb(36,36,36)",
              "ticks": "outside"
             }
            },
            "type": "scattercarpet"
           }
          ],
          "scattergeo": [
           {
            "marker": {
             "colorbar": {
              "outlinewidth": 1,
              "tickcolor": "rgb(36,36,36)",
              "ticks": "outside"
             }
            },
            "type": "scattergeo"
           }
          ],
          "scattergl": [
           {
            "marker": {
             "colorbar": {
              "outlinewidth": 1,
              "tickcolor": "rgb(36,36,36)",
              "ticks": "outside"
             }
            },
            "type": "scattergl"
           }
          ],
          "scattermapbox": [
           {
            "marker": {
             "colorbar": {
              "outlinewidth": 1,
              "tickcolor": "rgb(36,36,36)",
              "ticks": "outside"
             }
            },
            "type": "scattermapbox"
           }
          ],
          "scatterpolar": [
           {
            "marker": {
             "colorbar": {
              "outlinewidth": 1,
              "tickcolor": "rgb(36,36,36)",
              "ticks": "outside"
             }
            },
            "type": "scatterpolar"
           }
          ],
          "scatterpolargl": [
           {
            "marker": {
             "colorbar": {
              "outlinewidth": 1,
              "tickcolor": "rgb(36,36,36)",
              "ticks": "outside"
             }
            },
            "type": "scatterpolargl"
           }
          ],
          "scatterternary": [
           {
            "marker": {
             "colorbar": {
              "outlinewidth": 1,
              "tickcolor": "rgb(36,36,36)",
              "ticks": "outside"
             }
            },
            "type": "scatterternary"
           }
          ],
          "surface": [
           {
            "colorbar": {
             "outlinewidth": 1,
             "tickcolor": "rgb(36,36,36)",
             "ticks": "outside"
            },
            "colorscale": [
             [
              0,
              "#440154"
             ],
             [
              0.1111111111111111,
              "#482878"
             ],
             [
              0.2222222222222222,
              "#3e4989"
             ],
             [
              0.3333333333333333,
              "#31688e"
             ],
             [
              0.4444444444444444,
              "#26828e"
             ],
             [
              0.5555555555555556,
              "#1f9e89"
             ],
             [
              0.6666666666666666,
              "#35b779"
             ],
             [
              0.7777777777777778,
              "#6ece58"
             ],
             [
              0.8888888888888888,
              "#b5de2b"
             ],
             [
              1,
              "#fde725"
             ]
            ],
            "type": "surface"
           }
          ],
          "table": [
           {
            "cells": {
             "fill": {
              "color": "rgb(237,237,237)"
             },
             "line": {
              "color": "white"
             }
            },
            "header": {
             "fill": {
              "color": "rgb(217,217,217)"
             },
             "line": {
              "color": "white"
             }
            },
            "type": "table"
           }
          ]
         },
         "layout": {
          "annotationdefaults": {
           "arrowhead": 0,
           "arrowwidth": 1
          },
          "autotypenumbers": "strict",
          "coloraxis": {
           "colorbar": {
            "outlinewidth": 1,
            "tickcolor": "rgb(36,36,36)",
            "ticks": "outside"
           }
          },
          "colorscale": {
           "diverging": [
            [
             0,
             "rgb(103,0,31)"
            ],
            [
             0.1,
             "rgb(178,24,43)"
            ],
            [
             0.2,
             "rgb(214,96,77)"
            ],
            [
             0.3,
             "rgb(244,165,130)"
            ],
            [
             0.4,
             "rgb(253,219,199)"
            ],
            [
             0.5,
             "rgb(247,247,247)"
            ],
            [
             0.6,
             "rgb(209,229,240)"
            ],
            [
             0.7,
             "rgb(146,197,222)"
            ],
            [
             0.8,
             "rgb(67,147,195)"
            ],
            [
             0.9,
             "rgb(33,102,172)"
            ],
            [
             1,
             "rgb(5,48,97)"
            ]
           ],
           "sequential": [
            [
             0,
             "#440154"
            ],
            [
             0.1111111111111111,
             "#482878"
            ],
            [
             0.2222222222222222,
             "#3e4989"
            ],
            [
             0.3333333333333333,
             "#31688e"
            ],
            [
             0.4444444444444444,
             "#26828e"
            ],
            [
             0.5555555555555556,
             "#1f9e89"
            ],
            [
             0.6666666666666666,
             "#35b779"
            ],
            [
             0.7777777777777778,
             "#6ece58"
            ],
            [
             0.8888888888888888,
             "#b5de2b"
            ],
            [
             1,
             "#fde725"
            ]
           ],
           "sequentialminus": [
            [
             0,
             "#440154"
            ],
            [
             0.1111111111111111,
             "#482878"
            ],
            [
             0.2222222222222222,
             "#3e4989"
            ],
            [
             0.3333333333333333,
             "#31688e"
            ],
            [
             0.4444444444444444,
             "#26828e"
            ],
            [
             0.5555555555555556,
             "#1f9e89"
            ],
            [
             0.6666666666666666,
             "#35b779"
            ],
            [
             0.7777777777777778,
             "#6ece58"
            ],
            [
             0.8888888888888888,
             "#b5de2b"
            ],
            [
             1,
             "#fde725"
            ]
           ]
          },
          "colorway": [
           "#1F77B4",
           "#FF7F0E",
           "#2CA02C",
           "#D62728",
           "#9467BD",
           "#8C564B",
           "#E377C2",
           "#7F7F7F",
           "#BCBD22",
           "#17BECF"
          ],
          "font": {
           "color": "rgb(36,36,36)"
          },
          "geo": {
           "bgcolor": "white",
           "lakecolor": "white",
           "landcolor": "white",
           "showlakes": true,
           "showland": true,
           "subunitcolor": "white"
          },
          "hoverlabel": {
           "align": "left"
          },
          "hovermode": "closest",
          "mapbox": {
           "style": "light"
          },
          "paper_bgcolor": "white",
          "plot_bgcolor": "white",
          "polar": {
           "angularaxis": {
            "gridcolor": "rgb(232,232,232)",
            "linecolor": "rgb(36,36,36)",
            "showgrid": false,
            "showline": true,
            "ticks": "outside"
           },
           "bgcolor": "white",
           "radialaxis": {
            "gridcolor": "rgb(232,232,232)",
            "linecolor": "rgb(36,36,36)",
            "showgrid": false,
            "showline": true,
            "ticks": "outside"
           }
          },
          "scene": {
           "xaxis": {
            "backgroundcolor": "white",
            "gridcolor": "rgb(232,232,232)",
            "gridwidth": 2,
            "linecolor": "rgb(36,36,36)",
            "showbackground": true,
            "showgrid": false,
            "showline": true,
            "ticks": "outside",
            "zeroline": false,
            "zerolinecolor": "rgb(36,36,36)"
           },
           "yaxis": {
            "backgroundcolor": "white",
            "gridcolor": "rgb(232,232,232)",
            "gridwidth": 2,
            "linecolor": "rgb(36,36,36)",
            "showbackground": true,
            "showgrid": false,
            "showline": true,
            "ticks": "outside",
            "zeroline": false,
            "zerolinecolor": "rgb(36,36,36)"
           },
           "zaxis": {
            "backgroundcolor": "white",
            "gridcolor": "rgb(232,232,232)",
            "gridwidth": 2,
            "linecolor": "rgb(36,36,36)",
            "showbackground": true,
            "showgrid": false,
            "showline": true,
            "ticks": "outside",
            "zeroline": false,
            "zerolinecolor": "rgb(36,36,36)"
           }
          },
          "shapedefaults": {
           "fillcolor": "black",
           "line": {
            "width": 0
           },
           "opacity": 0.3
          },
          "ternary": {
           "aaxis": {
            "gridcolor": "rgb(232,232,232)",
            "linecolor": "rgb(36,36,36)",
            "showgrid": false,
            "showline": true,
            "ticks": "outside"
           },
           "baxis": {
            "gridcolor": "rgb(232,232,232)",
            "linecolor": "rgb(36,36,36)",
            "showgrid": false,
            "showline": true,
            "ticks": "outside"
           },
           "bgcolor": "white",
           "caxis": {
            "gridcolor": "rgb(232,232,232)",
            "linecolor": "rgb(36,36,36)",
            "showgrid": false,
            "showline": true,
            "ticks": "outside"
           }
          },
          "title": {
           "x": 0.05
          },
          "xaxis": {
           "automargin": true,
           "gridcolor": "rgb(232,232,232)",
           "linecolor": "rgb(36,36,36)",
           "showgrid": false,
           "showline": true,
           "ticks": "outside",
           "title": {
            "standoff": 15
           },
           "zeroline": false,
           "zerolinecolor": "rgb(36,36,36)"
          },
          "yaxis": {
           "automargin": true,
           "gridcolor": "rgb(232,232,232)",
           "linecolor": "rgb(36,36,36)",
           "showgrid": false,
           "showline": true,
           "ticks": "outside",
           "title": {
            "standoff": 15
           },
           "zeroline": false,
           "zerolinecolor": "rgb(36,36,36)"
          }
         }
        },
        "xaxis": {
         "anchor": "y",
         "domain": [
          0,
          1
         ],
         "title": {
          "text": "choc"
         }
        },
        "yaxis": {
         "anchor": "x",
         "domain": [
          0,
          1
         ],
         "title": {
          "text": "Mean rank"
         }
        }
       }
      }
     },
     "metadata": {},
     "output_type": "display_data"
    }
   ],
   "source": [
    "vizrank.plot_rank_means(rank_prior_df)"
   ]
  },
  {
   "cell_type": "code",
   "execution_count": 15,
   "metadata": {},
   "outputs": [
    {
     "data": {
      "application/vnd.plotly.v1+json": {
       "config": {
        "plotlyServerURL": "https://plot.ly"
       },
       "data": [
        {
         "alignmentgroup": "True",
         "hovertemplate": "variable=bottom_n<br>value=%{x}<br>choc=%{y}<extra></extra>",
         "legendgroup": "",
         "marker": {
          "color": "#1F77B4",
          "pattern": {
           "shape": ""
          }
         },
         "name": "",
         "offsetgroup": "",
         "orientation": "h",
         "showlegend": false,
         "textposition": "auto",
         "type": "bar",
         "x": [
          1,
          2,
          1,
          3,
          2,
          6,
          6,
          4,
          3,
          3,
          3,
          7,
          1,
          3,
          2,
          3,
          4,
          0,
          2,
          4
         ],
         "xaxis": "x",
         "y": [
          "0",
          "1",
          "10",
          "11",
          "12",
          "13",
          "14",
          "15",
          "16",
          "17",
          "18",
          "19",
          "2",
          "3",
          "4",
          "5",
          "6",
          "7",
          "8",
          "9"
         ],
         "yaxis": "y"
        },
        {
         "alignmentgroup": "True",
         "hovertemplate": "variable=top_n<br>value=%{x}<br>choc=%{y}<extra></extra>",
         "legendgroup": "",
         "marker": {
          "color": "#1F77B4",
          "pattern": {
           "shape": ""
          }
         },
         "name": "",
         "offsetgroup": "",
         "orientation": "h",
         "showlegend": false,
         "textposition": "auto",
         "type": "bar",
         "x": [
          2,
          5,
          5,
          0,
          3,
          0,
          0,
          0,
          3,
          2,
          4,
          0,
          7,
          3,
          1,
          0,
          6,
          6,
          3,
          0
         ],
         "xaxis": "x2",
         "y": [
          "0",
          "1",
          "10",
          "11",
          "12",
          "13",
          "14",
          "15",
          "16",
          "17",
          "18",
          "19",
          "2",
          "3",
          "4",
          "5",
          "6",
          "7",
          "8",
          "9"
         ],
         "yaxis": "y2"
        }
       ],
       "layout": {
        "annotations": [
         {
          "font": {},
          "showarrow": false,
          "text": "variable=bottom_n",
          "x": 0.245,
          "xanchor": "center",
          "xref": "paper",
          "y": 1,
          "yanchor": "bottom",
          "yref": "paper"
         },
         {
          "font": {},
          "showarrow": false,
          "text": "variable=top_n",
          "x": 0.755,
          "xanchor": "center",
          "xref": "paper",
          "y": 1,
          "yanchor": "bottom",
          "yref": "paper"
         }
        ],
        "barmode": "relative",
        "legend": {
         "tracegroupgap": 0
        },
        "margin": {
         "t": 60
        },
        "showlegend": false,
        "template": {
         "data": {
          "bar": [
           {
            "error_x": {
             "color": "rgb(36,36,36)"
            },
            "error_y": {
             "color": "rgb(36,36,36)"
            },
            "marker": {
             "line": {
              "color": "white",
              "width": 0.5
             },
             "pattern": {
              "fillmode": "overlay",
              "size": 10,
              "solidity": 0.2
             }
            },
            "type": "bar"
           }
          ],
          "barpolar": [
           {
            "marker": {
             "line": {
              "color": "white",
              "width": 0.5
             },
             "pattern": {
              "fillmode": "overlay",
              "size": 10,
              "solidity": 0.2
             }
            },
            "type": "barpolar"
           }
          ],
          "carpet": [
           {
            "aaxis": {
             "endlinecolor": "rgb(36,36,36)",
             "gridcolor": "white",
             "linecolor": "white",
             "minorgridcolor": "white",
             "startlinecolor": "rgb(36,36,36)"
            },
            "baxis": {
             "endlinecolor": "rgb(36,36,36)",
             "gridcolor": "white",
             "linecolor": "white",
             "minorgridcolor": "white",
             "startlinecolor": "rgb(36,36,36)"
            },
            "type": "carpet"
           }
          ],
          "choropleth": [
           {
            "colorbar": {
             "outlinewidth": 1,
             "tickcolor": "rgb(36,36,36)",
             "ticks": "outside"
            },
            "type": "choropleth"
           }
          ],
          "contour": [
           {
            "colorbar": {
             "outlinewidth": 1,
             "tickcolor": "rgb(36,36,36)",
             "ticks": "outside"
            },
            "colorscale": [
             [
              0,
              "#440154"
             ],
             [
              0.1111111111111111,
              "#482878"
             ],
             [
              0.2222222222222222,
              "#3e4989"
             ],
             [
              0.3333333333333333,
              "#31688e"
             ],
             [
              0.4444444444444444,
              "#26828e"
             ],
             [
              0.5555555555555556,
              "#1f9e89"
             ],
             [
              0.6666666666666666,
              "#35b779"
             ],
             [
              0.7777777777777778,
              "#6ece58"
             ],
             [
              0.8888888888888888,
              "#b5de2b"
             ],
             [
              1,
              "#fde725"
             ]
            ],
            "type": "contour"
           }
          ],
          "contourcarpet": [
           {
            "colorbar": {
             "outlinewidth": 1,
             "tickcolor": "rgb(36,36,36)",
             "ticks": "outside"
            },
            "type": "contourcarpet"
           }
          ],
          "heatmap": [
           {
            "colorbar": {
             "outlinewidth": 1,
             "tickcolor": "rgb(36,36,36)",
             "ticks": "outside"
            },
            "colorscale": [
             [
              0,
              "#440154"
             ],
             [
              0.1111111111111111,
              "#482878"
             ],
             [
              0.2222222222222222,
              "#3e4989"
             ],
             [
              0.3333333333333333,
              "#31688e"
             ],
             [
              0.4444444444444444,
              "#26828e"
             ],
             [
              0.5555555555555556,
              "#1f9e89"
             ],
             [
              0.6666666666666666,
              "#35b779"
             ],
             [
              0.7777777777777778,
              "#6ece58"
             ],
             [
              0.8888888888888888,
              "#b5de2b"
             ],
             [
              1,
              "#fde725"
             ]
            ],
            "type": "heatmap"
           }
          ],
          "heatmapgl": [
           {
            "colorbar": {
             "outlinewidth": 1,
             "tickcolor": "rgb(36,36,36)",
             "ticks": "outside"
            },
            "colorscale": [
             [
              0,
              "#440154"
             ],
             [
              0.1111111111111111,
              "#482878"
             ],
             [
              0.2222222222222222,
              "#3e4989"
             ],
             [
              0.3333333333333333,
              "#31688e"
             ],
             [
              0.4444444444444444,
              "#26828e"
             ],
             [
              0.5555555555555556,
              "#1f9e89"
             ],
             [
              0.6666666666666666,
              "#35b779"
             ],
             [
              0.7777777777777778,
              "#6ece58"
             ],
             [
              0.8888888888888888,
              "#b5de2b"
             ],
             [
              1,
              "#fde725"
             ]
            ],
            "type": "heatmapgl"
           }
          ],
          "histogram": [
           {
            "marker": {
             "line": {
              "color": "white",
              "width": 0.6
             }
            },
            "type": "histogram"
           }
          ],
          "histogram2d": [
           {
            "colorbar": {
             "outlinewidth": 1,
             "tickcolor": "rgb(36,36,36)",
             "ticks": "outside"
            },
            "colorscale": [
             [
              0,
              "#440154"
             ],
             [
              0.1111111111111111,
              "#482878"
             ],
             [
              0.2222222222222222,
              "#3e4989"
             ],
             [
              0.3333333333333333,
              "#31688e"
             ],
             [
              0.4444444444444444,
              "#26828e"
             ],
             [
              0.5555555555555556,
              "#1f9e89"
             ],
             [
              0.6666666666666666,
              "#35b779"
             ],
             [
              0.7777777777777778,
              "#6ece58"
             ],
             [
              0.8888888888888888,
              "#b5de2b"
             ],
             [
              1,
              "#fde725"
             ]
            ],
            "type": "histogram2d"
           }
          ],
          "histogram2dcontour": [
           {
            "colorbar": {
             "outlinewidth": 1,
             "tickcolor": "rgb(36,36,36)",
             "ticks": "outside"
            },
            "colorscale": [
             [
              0,
              "#440154"
             ],
             [
              0.1111111111111111,
              "#482878"
             ],
             [
              0.2222222222222222,
              "#3e4989"
             ],
             [
              0.3333333333333333,
              "#31688e"
             ],
             [
              0.4444444444444444,
              "#26828e"
             ],
             [
              0.5555555555555556,
              "#1f9e89"
             ],
             [
              0.6666666666666666,
              "#35b779"
             ],
             [
              0.7777777777777778,
              "#6ece58"
             ],
             [
              0.8888888888888888,
              "#b5de2b"
             ],
             [
              1,
              "#fde725"
             ]
            ],
            "type": "histogram2dcontour"
           }
          ],
          "mesh3d": [
           {
            "colorbar": {
             "outlinewidth": 1,
             "tickcolor": "rgb(36,36,36)",
             "ticks": "outside"
            },
            "type": "mesh3d"
           }
          ],
          "parcoords": [
           {
            "line": {
             "colorbar": {
              "outlinewidth": 1,
              "tickcolor": "rgb(36,36,36)",
              "ticks": "outside"
             }
            },
            "type": "parcoords"
           }
          ],
          "pie": [
           {
            "automargin": true,
            "type": "pie"
           }
          ],
          "scatter": [
           {
            "fillpattern": {
             "fillmode": "overlay",
             "size": 10,
             "solidity": 0.2
            },
            "type": "scatter"
           }
          ],
          "scatter3d": [
           {
            "line": {
             "colorbar": {
              "outlinewidth": 1,
              "tickcolor": "rgb(36,36,36)",
              "ticks": "outside"
             }
            },
            "marker": {
             "colorbar": {
              "outlinewidth": 1,
              "tickcolor": "rgb(36,36,36)",
              "ticks": "outside"
             }
            },
            "type": "scatter3d"
           }
          ],
          "scattercarpet": [
           {
            "marker": {
             "colorbar": {
              "outlinewidth": 1,
              "tickcolor": "rgb(36,36,36)",
              "ticks": "outside"
             }
            },
            "type": "scattercarpet"
           }
          ],
          "scattergeo": [
           {
            "marker": {
             "colorbar": {
              "outlinewidth": 1,
              "tickcolor": "rgb(36,36,36)",
              "ticks": "outside"
             }
            },
            "type": "scattergeo"
           }
          ],
          "scattergl": [
           {
            "marker": {
             "colorbar": {
              "outlinewidth": 1,
              "tickcolor": "rgb(36,36,36)",
              "ticks": "outside"
             }
            },
            "type": "scattergl"
           }
          ],
          "scattermapbox": [
           {
            "marker": {
             "colorbar": {
              "outlinewidth": 1,
              "tickcolor": "rgb(36,36,36)",
              "ticks": "outside"
             }
            },
            "type": "scattermapbox"
           }
          ],
          "scatterpolar": [
           {
            "marker": {
             "colorbar": {
              "outlinewidth": 1,
              "tickcolor": "rgb(36,36,36)",
              "ticks": "outside"
             }
            },
            "type": "scatterpolar"
           }
          ],
          "scatterpolargl": [
           {
            "marker": {
             "colorbar": {
              "outlinewidth": 1,
              "tickcolor": "rgb(36,36,36)",
              "ticks": "outside"
             }
            },
            "type": "scatterpolargl"
           }
          ],
          "scatterternary": [
           {
            "marker": {
             "colorbar": {
              "outlinewidth": 1,
              "tickcolor": "rgb(36,36,36)",
              "ticks": "outside"
             }
            },
            "type": "scatterternary"
           }
          ],
          "surface": [
           {
            "colorbar": {
             "outlinewidth": 1,
             "tickcolor": "rgb(36,36,36)",
             "ticks": "outside"
            },
            "colorscale": [
             [
              0,
              "#440154"
             ],
             [
              0.1111111111111111,
              "#482878"
             ],
             [
              0.2222222222222222,
              "#3e4989"
             ],
             [
              0.3333333333333333,
              "#31688e"
             ],
             [
              0.4444444444444444,
              "#26828e"
             ],
             [
              0.5555555555555556,
              "#1f9e89"
             ],
             [
              0.6666666666666666,
              "#35b779"
             ],
             [
              0.7777777777777778,
              "#6ece58"
             ],
             [
              0.8888888888888888,
              "#b5de2b"
             ],
             [
              1,
              "#fde725"
             ]
            ],
            "type": "surface"
           }
          ],
          "table": [
           {
            "cells": {
             "fill": {
              "color": "rgb(237,237,237)"
             },
             "line": {
              "color": "white"
             }
            },
            "header": {
             "fill": {
              "color": "rgb(217,217,217)"
             },
             "line": {
              "color": "white"
             }
            },
            "type": "table"
           }
          ]
         },
         "layout": {
          "annotationdefaults": {
           "arrowhead": 0,
           "arrowwidth": 1
          },
          "autotypenumbers": "strict",
          "coloraxis": {
           "colorbar": {
            "outlinewidth": 1,
            "tickcolor": "rgb(36,36,36)",
            "ticks": "outside"
           }
          },
          "colorscale": {
           "diverging": [
            [
             0,
             "rgb(103,0,31)"
            ],
            [
             0.1,
             "rgb(178,24,43)"
            ],
            [
             0.2,
             "rgb(214,96,77)"
            ],
            [
             0.3,
             "rgb(244,165,130)"
            ],
            [
             0.4,
             "rgb(253,219,199)"
            ],
            [
             0.5,
             "rgb(247,247,247)"
            ],
            [
             0.6,
             "rgb(209,229,240)"
            ],
            [
             0.7,
             "rgb(146,197,222)"
            ],
            [
             0.8,
             "rgb(67,147,195)"
            ],
            [
             0.9,
             "rgb(33,102,172)"
            ],
            [
             1,
             "rgb(5,48,97)"
            ]
           ],
           "sequential": [
            [
             0,
             "#440154"
            ],
            [
             0.1111111111111111,
             "#482878"
            ],
            [
             0.2222222222222222,
             "#3e4989"
            ],
            [
             0.3333333333333333,
             "#31688e"
            ],
            [
             0.4444444444444444,
             "#26828e"
            ],
            [
             0.5555555555555556,
             "#1f9e89"
            ],
            [
             0.6666666666666666,
             "#35b779"
            ],
            [
             0.7777777777777778,
             "#6ece58"
            ],
            [
             0.8888888888888888,
             "#b5de2b"
            ],
            [
             1,
             "#fde725"
            ]
           ],
           "sequentialminus": [
            [
             0,
             "#440154"
            ],
            [
             0.1111111111111111,
             "#482878"
            ],
            [
             0.2222222222222222,
             "#3e4989"
            ],
            [
             0.3333333333333333,
             "#31688e"
            ],
            [
             0.4444444444444444,
             "#26828e"
            ],
            [
             0.5555555555555556,
             "#1f9e89"
            ],
            [
             0.6666666666666666,
             "#35b779"
            ],
            [
             0.7777777777777778,
             "#6ece58"
            ],
            [
             0.8888888888888888,
             "#b5de2b"
            ],
            [
             1,
             "#fde725"
            ]
           ]
          },
          "colorway": [
           "#1F77B4",
           "#FF7F0E",
           "#2CA02C",
           "#D62728",
           "#9467BD",
           "#8C564B",
           "#E377C2",
           "#7F7F7F",
           "#BCBD22",
           "#17BECF"
          ],
          "font": {
           "color": "rgb(36,36,36)"
          },
          "geo": {
           "bgcolor": "white",
           "lakecolor": "white",
           "landcolor": "white",
           "showlakes": true,
           "showland": true,
           "subunitcolor": "white"
          },
          "hoverlabel": {
           "align": "left"
          },
          "hovermode": "closest",
          "mapbox": {
           "style": "light"
          },
          "paper_bgcolor": "white",
          "plot_bgcolor": "white",
          "polar": {
           "angularaxis": {
            "gridcolor": "rgb(232,232,232)",
            "linecolor": "rgb(36,36,36)",
            "showgrid": false,
            "showline": true,
            "ticks": "outside"
           },
           "bgcolor": "white",
           "radialaxis": {
            "gridcolor": "rgb(232,232,232)",
            "linecolor": "rgb(36,36,36)",
            "showgrid": false,
            "showline": true,
            "ticks": "outside"
           }
          },
          "scene": {
           "xaxis": {
            "backgroundcolor": "white",
            "gridcolor": "rgb(232,232,232)",
            "gridwidth": 2,
            "linecolor": "rgb(36,36,36)",
            "showbackground": true,
            "showgrid": false,
            "showline": true,
            "ticks": "outside",
            "zeroline": false,
            "zerolinecolor": "rgb(36,36,36)"
           },
           "yaxis": {
            "backgroundcolor": "white",
            "gridcolor": "rgb(232,232,232)",
            "gridwidth": 2,
            "linecolor": "rgb(36,36,36)",
            "showbackground": true,
            "showgrid": false,
            "showline": true,
            "ticks": "outside",
            "zeroline": false,
            "zerolinecolor": "rgb(36,36,36)"
           },
           "zaxis": {
            "backgroundcolor": "white",
            "gridcolor": "rgb(232,232,232)",
            "gridwidth": 2,
            "linecolor": "rgb(36,36,36)",
            "showbackground": true,
            "showgrid": false,
            "showline": true,
            "ticks": "outside",
            "zeroline": false,
            "zerolinecolor": "rgb(36,36,36)"
           }
          },
          "shapedefaults": {
           "fillcolor": "black",
           "line": {
            "width": 0
           },
           "opacity": 0.3
          },
          "ternary": {
           "aaxis": {
            "gridcolor": "rgb(232,232,232)",
            "linecolor": "rgb(36,36,36)",
            "showgrid": false,
            "showline": true,
            "ticks": "outside"
           },
           "baxis": {
            "gridcolor": "rgb(232,232,232)",
            "linecolor": "rgb(36,36,36)",
            "showgrid": false,
            "showline": true,
            "ticks": "outside"
           },
           "bgcolor": "white",
           "caxis": {
            "gridcolor": "rgb(232,232,232)",
            "linecolor": "rgb(36,36,36)",
            "showgrid": false,
            "showline": true,
            "ticks": "outside"
           }
          },
          "title": {
           "x": 0.05
          },
          "xaxis": {
           "automargin": true,
           "gridcolor": "rgb(232,232,232)",
           "linecolor": "rgb(36,36,36)",
           "showgrid": false,
           "showline": true,
           "ticks": "outside",
           "title": {
            "standoff": 15
           },
           "zeroline": false,
           "zerolinecolor": "rgb(36,36,36)"
          },
          "yaxis": {
           "automargin": true,
           "gridcolor": "rgb(232,232,232)",
           "linecolor": "rgb(36,36,36)",
           "showgrid": false,
           "showline": true,
           "ticks": "outside",
           "title": {
            "standoff": 15
           },
           "zeroline": false,
           "zerolinecolor": "rgb(36,36,36)"
          }
         }
        },
        "xaxis": {
         "anchor": "y",
         "domain": [
          0,
          0.49
         ],
         "title": {
          "text": "frequency"
         }
        },
        "xaxis2": {
         "anchor": "y2",
         "domain": [
          0.51,
          1
         ],
         "matches": "x",
         "title": {
          "text": "value"
         }
        },
        "yaxis": {
         "anchor": "x",
         "domain": [
          0,
          1
         ],
         "title": {
          "text": "choc"
         }
        },
        "yaxis2": {
         "anchor": "x2",
         "domain": [
          0,
          1
         ],
         "matches": "y",
         "showticklabels": false
        }
       }
      }
     },
     "metadata": {},
     "output_type": "display_data"
    }
   ],
   "source": [
    "vizrank.plot_top_bottom_n(rank_prior_df, n=5)"
   ]
  }
 ],
 "metadata": {
  "kernelspec": {
   "display_name": "Python 3.8.13 ('.venv-choc': venv)",
   "language": "python",
   "name": "python3"
  },
  "language_info": {
   "codemirror_mode": {
    "name": "ipython",
    "version": 3
   },
   "file_extension": ".py",
   "mimetype": "text/x-python",
   "name": "python",
   "nbconvert_exporter": "python",
   "pygments_lexer": "ipython3",
   "version": "3.10.8"
  },
  "orig_nbformat": 4,
  "vscode": {
   "interpreter": {
    "hash": "4a356b8ba34d2241ef80cecb5dfbe1f7b2a4d2edb0e18d848583f98400376f3f"
   }
  }
 },
 "nbformat": 4,
 "nbformat_minor": 2
}
