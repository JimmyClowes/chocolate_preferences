{
 "cells": [
  {
   "cell_type": "code",
   "execution_count": 1,
   "metadata": {},
   "outputs": [],
   "source": [
    "import numpy as np\n",
    "import pandas as pd\n",
    "import plotly.express as px"
   ]
  },
  {
   "cell_type": "markdown",
   "metadata": {},
   "source": [
    "10 people\n",
    "\n",
    "17 chocolates\n",
    "\n",
    "Each chocolate has some mean appeal and variance of appeal on a latent quality scale\n",
    "\n",
    "Each person has an individual quality score for each choclate drawn from the appeal distributions for each chocolate\n",
    "\n",
    "Each person's ranking of the chocolates provides information about whether the quality score for a chocolate is higher or lower than the quality score for another chocolate, but not the specific values on the latent scale\n",
    "\n",
    "Some chocolates are liked by some people but disliked by others\n",
    "\n",
    "Some chcocolates are generally agreed to be nicer than others"
   ]
  },
  {
   "cell_type": "code",
   "execution_count": 2,
   "metadata": {},
   "outputs": [],
   "source": [
    "n_people = 100\n",
    "n_chocs = 17\n",
    "\n",
    "np.random.seed(123)\n",
    "\n",
    "choc_mus_true = np.random.normal(0, 1, n_chocs)\n",
    "choc_sigmas_true = np.random.gamma(5, 0.1, size=n_chocs)\n",
    "\n",
    "choc_ratings_true = np.random.normal(choc_mus_true[np.newaxis,:],\n",
    "                                     choc_sigmas_true[np.newaxis,:],\n",
    "                                     size=(n_people,\n",
    "                                     n_chocs))\n",
    "\n",
    "choc_rankings_true = np.argsort(choc_ratings_true, axis=1)"
   ]
  },
  {
   "cell_type": "code",
   "execution_count": 3,
   "metadata": {},
   "outputs": [],
   "source": [
    "ratings_df = (pd.DataFrame(choc_ratings_true).\n",
    "                reset_index(names='person').\n",
    "                melt(id_vars='person',\n",
    "                        var_name='choc',\n",
    "                        value_name='rating')\n",
    "                )"
   ]
  },
  {
   "cell_type": "code",
   "execution_count": 4,
   "metadata": {},
   "outputs": [
    {
     "data": {
      "application/vnd.plotly.v1+json": {
       "config": {
        "plotlyServerURL": "https://plot.ly"
       },
       "data": [
        {
         "alignmentgroup": "True",
         "bingroup": "x",
         "hovertemplate": "variable=0<br>value=%{x}<br>count=%{y}<extra></extra>",
         "legendgroup": "0",
         "marker": {
          "color": "#1F77B4",
          "pattern": {
           "shape": ""
          }
         },
         "name": "0",
         "offsetgroup": "0",
         "orientation": "v",
         "showlegend": true,
         "type": "histogram",
         "x": [
          -1.0856306033005612,
          0.9973454465835858,
          0.28297849805199204,
          -1.506294713918092,
          -0.5786002519685364,
          1.651436537097151,
          -2.426679243393074,
          -0.42891262885617726,
          1.265936258705534,
          -0.8667404022651017,
          -0.6788861516220543,
          -0.09470896893689112,
          1.4913896261242878,
          -0.638901996684651,
          -0.44398195964606546,
          -0.43435127561851733,
          2.2059300827254558
         ],
         "xaxis": "x",
         "yaxis": "y"
        },
        {
         "alignmentgroup": "True",
         "boxpoints": "all",
         "fillcolor": "rgba(255,255,255,0)",
         "hoveron": "points",
         "hovertemplate": "variable=0<br>value=%{x}<extra></extra>",
         "jitter": 0,
         "legendgroup": "0",
         "line": {
          "color": "rgba(255,255,255,0)"
         },
         "marker": {
          "color": "#1F77B4",
          "symbol": "line-ns-open"
         },
         "name": "0",
         "offsetgroup": "0",
         "showlegend": false,
         "type": "box",
         "x": [
          -1.0856306033005612,
          0.9973454465835858,
          0.28297849805199204,
          -1.506294713918092,
          -0.5786002519685364,
          1.651436537097151,
          -2.426679243393074,
          -0.42891262885617726,
          1.265936258705534,
          -0.8667404022651017,
          -0.6788861516220543,
          -0.09470896893689112,
          1.4913896261242878,
          -0.638901996684651,
          -0.44398195964606546,
          -0.43435127561851733,
          2.2059300827254558
         ],
         "xaxis": "x2",
         "yaxis": "y2"
        }
       ],
       "layout": {
        "barmode": "relative",
        "legend": {
         "title": {
          "text": "variable"
         },
         "tracegroupgap": 0
        },
        "margin": {
         "t": 60
        },
        "template": {
         "data": {
          "bar": [
           {
            "error_x": {
             "color": "rgb(36,36,36)"
            },
            "error_y": {
             "color": "rgb(36,36,36)"
            },
            "marker": {
             "line": {
              "color": "white",
              "width": 0.5
             },
             "pattern": {
              "fillmode": "overlay",
              "size": 10,
              "solidity": 0.2
             }
            },
            "type": "bar"
           }
          ],
          "barpolar": [
           {
            "marker": {
             "line": {
              "color": "white",
              "width": 0.5
             },
             "pattern": {
              "fillmode": "overlay",
              "size": 10,
              "solidity": 0.2
             }
            },
            "type": "barpolar"
           }
          ],
          "carpet": [
           {
            "aaxis": {
             "endlinecolor": "rgb(36,36,36)",
             "gridcolor": "white",
             "linecolor": "white",
             "minorgridcolor": "white",
             "startlinecolor": "rgb(36,36,36)"
            },
            "baxis": {
             "endlinecolor": "rgb(36,36,36)",
             "gridcolor": "white",
             "linecolor": "white",
             "minorgridcolor": "white",
             "startlinecolor": "rgb(36,36,36)"
            },
            "type": "carpet"
           }
          ],
          "choropleth": [
           {
            "colorbar": {
             "outlinewidth": 1,
             "tickcolor": "rgb(36,36,36)",
             "ticks": "outside"
            },
            "type": "choropleth"
           }
          ],
          "contour": [
           {
            "colorbar": {
             "outlinewidth": 1,
             "tickcolor": "rgb(36,36,36)",
             "ticks": "outside"
            },
            "colorscale": [
             [
              0,
              "#440154"
             ],
             [
              0.1111111111111111,
              "#482878"
             ],
             [
              0.2222222222222222,
              "#3e4989"
             ],
             [
              0.3333333333333333,
              "#31688e"
             ],
             [
              0.4444444444444444,
              "#26828e"
             ],
             [
              0.5555555555555556,
              "#1f9e89"
             ],
             [
              0.6666666666666666,
              "#35b779"
             ],
             [
              0.7777777777777778,
              "#6ece58"
             ],
             [
              0.8888888888888888,
              "#b5de2b"
             ],
             [
              1,
              "#fde725"
             ]
            ],
            "type": "contour"
           }
          ],
          "contourcarpet": [
           {
            "colorbar": {
             "outlinewidth": 1,
             "tickcolor": "rgb(36,36,36)",
             "ticks": "outside"
            },
            "type": "contourcarpet"
           }
          ],
          "heatmap": [
           {
            "colorbar": {
             "outlinewidth": 1,
             "tickcolor": "rgb(36,36,36)",
             "ticks": "outside"
            },
            "colorscale": [
             [
              0,
              "#440154"
             ],
             [
              0.1111111111111111,
              "#482878"
             ],
             [
              0.2222222222222222,
              "#3e4989"
             ],
             [
              0.3333333333333333,
              "#31688e"
             ],
             [
              0.4444444444444444,
              "#26828e"
             ],
             [
              0.5555555555555556,
              "#1f9e89"
             ],
             [
              0.6666666666666666,
              "#35b779"
             ],
             [
              0.7777777777777778,
              "#6ece58"
             ],
             [
              0.8888888888888888,
              "#b5de2b"
             ],
             [
              1,
              "#fde725"
             ]
            ],
            "type": "heatmap"
           }
          ],
          "heatmapgl": [
           {
            "colorbar": {
             "outlinewidth": 1,
             "tickcolor": "rgb(36,36,36)",
             "ticks": "outside"
            },
            "colorscale": [
             [
              0,
              "#440154"
             ],
             [
              0.1111111111111111,
              "#482878"
             ],
             [
              0.2222222222222222,
              "#3e4989"
             ],
             [
              0.3333333333333333,
              "#31688e"
             ],
             [
              0.4444444444444444,
              "#26828e"
             ],
             [
              0.5555555555555556,
              "#1f9e89"
             ],
             [
              0.6666666666666666,
              "#35b779"
             ],
             [
              0.7777777777777778,
              "#6ece58"
             ],
             [
              0.8888888888888888,
              "#b5de2b"
             ],
             [
              1,
              "#fde725"
             ]
            ],
            "type": "heatmapgl"
           }
          ],
          "histogram": [
           {
            "marker": {
             "line": {
              "color": "white",
              "width": 0.6
             }
            },
            "type": "histogram"
           }
          ],
          "histogram2d": [
           {
            "colorbar": {
             "outlinewidth": 1,
             "tickcolor": "rgb(36,36,36)",
             "ticks": "outside"
            },
            "colorscale": [
             [
              0,
              "#440154"
             ],
             [
              0.1111111111111111,
              "#482878"
             ],
             [
              0.2222222222222222,
              "#3e4989"
             ],
             [
              0.3333333333333333,
              "#31688e"
             ],
             [
              0.4444444444444444,
              "#26828e"
             ],
             [
              0.5555555555555556,
              "#1f9e89"
             ],
             [
              0.6666666666666666,
              "#35b779"
             ],
             [
              0.7777777777777778,
              "#6ece58"
             ],
             [
              0.8888888888888888,
              "#b5de2b"
             ],
             [
              1,
              "#fde725"
             ]
            ],
            "type": "histogram2d"
           }
          ],
          "histogram2dcontour": [
           {
            "colorbar": {
             "outlinewidth": 1,
             "tickcolor": "rgb(36,36,36)",
             "ticks": "outside"
            },
            "colorscale": [
             [
              0,
              "#440154"
             ],
             [
              0.1111111111111111,
              "#482878"
             ],
             [
              0.2222222222222222,
              "#3e4989"
             ],
             [
              0.3333333333333333,
              "#31688e"
             ],
             [
              0.4444444444444444,
              "#26828e"
             ],
             [
              0.5555555555555556,
              "#1f9e89"
             ],
             [
              0.6666666666666666,
              "#35b779"
             ],
             [
              0.7777777777777778,
              "#6ece58"
             ],
             [
              0.8888888888888888,
              "#b5de2b"
             ],
             [
              1,
              "#fde725"
             ]
            ],
            "type": "histogram2dcontour"
           }
          ],
          "mesh3d": [
           {
            "colorbar": {
             "outlinewidth": 1,
             "tickcolor": "rgb(36,36,36)",
             "ticks": "outside"
            },
            "type": "mesh3d"
           }
          ],
          "parcoords": [
           {
            "line": {
             "colorbar": {
              "outlinewidth": 1,
              "tickcolor": "rgb(36,36,36)",
              "ticks": "outside"
             }
            },
            "type": "parcoords"
           }
          ],
          "pie": [
           {
            "automargin": true,
            "type": "pie"
           }
          ],
          "scatter": [
           {
            "fillpattern": {
             "fillmode": "overlay",
             "size": 10,
             "solidity": 0.2
            },
            "type": "scatter"
           }
          ],
          "scatter3d": [
           {
            "line": {
             "colorbar": {
              "outlinewidth": 1,
              "tickcolor": "rgb(36,36,36)",
              "ticks": "outside"
             }
            },
            "marker": {
             "colorbar": {
              "outlinewidth": 1,
              "tickcolor": "rgb(36,36,36)",
              "ticks": "outside"
             }
            },
            "type": "scatter3d"
           }
          ],
          "scattercarpet": [
           {
            "marker": {
             "colorbar": {
              "outlinewidth": 1,
              "tickcolor": "rgb(36,36,36)",
              "ticks": "outside"
             }
            },
            "type": "scattercarpet"
           }
          ],
          "scattergeo": [
           {
            "marker": {
             "colorbar": {
              "outlinewidth": 1,
              "tickcolor": "rgb(36,36,36)",
              "ticks": "outside"
             }
            },
            "type": "scattergeo"
           }
          ],
          "scattergl": [
           {
            "marker": {
             "colorbar": {
              "outlinewidth": 1,
              "tickcolor": "rgb(36,36,36)",
              "ticks": "outside"
             }
            },
            "type": "scattergl"
           }
          ],
          "scattermapbox": [
           {
            "marker": {
             "colorbar": {
              "outlinewidth": 1,
              "tickcolor": "rgb(36,36,36)",
              "ticks": "outside"
             }
            },
            "type": "scattermapbox"
           }
          ],
          "scatterpolar": [
           {
            "marker": {
             "colorbar": {
              "outlinewidth": 1,
              "tickcolor": "rgb(36,36,36)",
              "ticks": "outside"
             }
            },
            "type": "scatterpolar"
           }
          ],
          "scatterpolargl": [
           {
            "marker": {
             "colorbar": {
              "outlinewidth": 1,
              "tickcolor": "rgb(36,36,36)",
              "ticks": "outside"
             }
            },
            "type": "scatterpolargl"
           }
          ],
          "scatterternary": [
           {
            "marker": {
             "colorbar": {
              "outlinewidth": 1,
              "tickcolor": "rgb(36,36,36)",
              "ticks": "outside"
             }
            },
            "type": "scatterternary"
           }
          ],
          "surface": [
           {
            "colorbar": {
             "outlinewidth": 1,
             "tickcolor": "rgb(36,36,36)",
             "ticks": "outside"
            },
            "colorscale": [
             [
              0,
              "#440154"
             ],
             [
              0.1111111111111111,
              "#482878"
             ],
             [
              0.2222222222222222,
              "#3e4989"
             ],
             [
              0.3333333333333333,
              "#31688e"
             ],
             [
              0.4444444444444444,
              "#26828e"
             ],
             [
              0.5555555555555556,
              "#1f9e89"
             ],
             [
              0.6666666666666666,
              "#35b779"
             ],
             [
              0.7777777777777778,
              "#6ece58"
             ],
             [
              0.8888888888888888,
              "#b5de2b"
             ],
             [
              1,
              "#fde725"
             ]
            ],
            "type": "surface"
           }
          ],
          "table": [
           {
            "cells": {
             "fill": {
              "color": "rgb(237,237,237)"
             },
             "line": {
              "color": "white"
             }
            },
            "header": {
             "fill": {
              "color": "rgb(217,217,217)"
             },
             "line": {
              "color": "white"
             }
            },
            "type": "table"
           }
          ]
         },
         "layout": {
          "annotationdefaults": {
           "arrowhead": 0,
           "arrowwidth": 1
          },
          "autotypenumbers": "strict",
          "coloraxis": {
           "colorbar": {
            "outlinewidth": 1,
            "tickcolor": "rgb(36,36,36)",
            "ticks": "outside"
           }
          },
          "colorscale": {
           "diverging": [
            [
             0,
             "rgb(103,0,31)"
            ],
            [
             0.1,
             "rgb(178,24,43)"
            ],
            [
             0.2,
             "rgb(214,96,77)"
            ],
            [
             0.3,
             "rgb(244,165,130)"
            ],
            [
             0.4,
             "rgb(253,219,199)"
            ],
            [
             0.5,
             "rgb(247,247,247)"
            ],
            [
             0.6,
             "rgb(209,229,240)"
            ],
            [
             0.7,
             "rgb(146,197,222)"
            ],
            [
             0.8,
             "rgb(67,147,195)"
            ],
            [
             0.9,
             "rgb(33,102,172)"
            ],
            [
             1,
             "rgb(5,48,97)"
            ]
           ],
           "sequential": [
            [
             0,
             "#440154"
            ],
            [
             0.1111111111111111,
             "#482878"
            ],
            [
             0.2222222222222222,
             "#3e4989"
            ],
            [
             0.3333333333333333,
             "#31688e"
            ],
            [
             0.4444444444444444,
             "#26828e"
            ],
            [
             0.5555555555555556,
             "#1f9e89"
            ],
            [
             0.6666666666666666,
             "#35b779"
            ],
            [
             0.7777777777777778,
             "#6ece58"
            ],
            [
             0.8888888888888888,
             "#b5de2b"
            ],
            [
             1,
             "#fde725"
            ]
           ],
           "sequentialminus": [
            [
             0,
             "#440154"
            ],
            [
             0.1111111111111111,
             "#482878"
            ],
            [
             0.2222222222222222,
             "#3e4989"
            ],
            [
             0.3333333333333333,
             "#31688e"
            ],
            [
             0.4444444444444444,
             "#26828e"
            ],
            [
             0.5555555555555556,
             "#1f9e89"
            ],
            [
             0.6666666666666666,
             "#35b779"
            ],
            [
             0.7777777777777778,
             "#6ece58"
            ],
            [
             0.8888888888888888,
             "#b5de2b"
            ],
            [
             1,
             "#fde725"
            ]
           ]
          },
          "colorway": [
           "#1F77B4",
           "#FF7F0E",
           "#2CA02C",
           "#D62728",
           "#9467BD",
           "#8C564B",
           "#E377C2",
           "#7F7F7F",
           "#BCBD22",
           "#17BECF"
          ],
          "font": {
           "color": "rgb(36,36,36)"
          },
          "geo": {
           "bgcolor": "white",
           "lakecolor": "white",
           "landcolor": "white",
           "showlakes": true,
           "showland": true,
           "subunitcolor": "white"
          },
          "hoverlabel": {
           "align": "left"
          },
          "hovermode": "closest",
          "mapbox": {
           "style": "light"
          },
          "paper_bgcolor": "white",
          "plot_bgcolor": "white",
          "polar": {
           "angularaxis": {
            "gridcolor": "rgb(232,232,232)",
            "linecolor": "rgb(36,36,36)",
            "showgrid": false,
            "showline": true,
            "ticks": "outside"
           },
           "bgcolor": "white",
           "radialaxis": {
            "gridcolor": "rgb(232,232,232)",
            "linecolor": "rgb(36,36,36)",
            "showgrid": false,
            "showline": true,
            "ticks": "outside"
           }
          },
          "scene": {
           "xaxis": {
            "backgroundcolor": "white",
            "gridcolor": "rgb(232,232,232)",
            "gridwidth": 2,
            "linecolor": "rgb(36,36,36)",
            "showbackground": true,
            "showgrid": false,
            "showline": true,
            "ticks": "outside",
            "zeroline": false,
            "zerolinecolor": "rgb(36,36,36)"
           },
           "yaxis": {
            "backgroundcolor": "white",
            "gridcolor": "rgb(232,232,232)",
            "gridwidth": 2,
            "linecolor": "rgb(36,36,36)",
            "showbackground": true,
            "showgrid": false,
            "showline": true,
            "ticks": "outside",
            "zeroline": false,
            "zerolinecolor": "rgb(36,36,36)"
           },
           "zaxis": {
            "backgroundcolor": "white",
            "gridcolor": "rgb(232,232,232)",
            "gridwidth": 2,
            "linecolor": "rgb(36,36,36)",
            "showbackground": true,
            "showgrid": false,
            "showline": true,
            "ticks": "outside",
            "zeroline": false,
            "zerolinecolor": "rgb(36,36,36)"
           }
          },
          "shapedefaults": {
           "fillcolor": "black",
           "line": {
            "width": 0
           },
           "opacity": 0.3
          },
          "ternary": {
           "aaxis": {
            "gridcolor": "rgb(232,232,232)",
            "linecolor": "rgb(36,36,36)",
            "showgrid": false,
            "showline": true,
            "ticks": "outside"
           },
           "baxis": {
            "gridcolor": "rgb(232,232,232)",
            "linecolor": "rgb(36,36,36)",
            "showgrid": false,
            "showline": true,
            "ticks": "outside"
           },
           "bgcolor": "white",
           "caxis": {
            "gridcolor": "rgb(232,232,232)",
            "linecolor": "rgb(36,36,36)",
            "showgrid": false,
            "showline": true,
            "ticks": "outside"
           }
          },
          "title": {
           "x": 0.05
          },
          "xaxis": {
           "automargin": true,
           "gridcolor": "rgb(232,232,232)",
           "linecolor": "rgb(36,36,36)",
           "showgrid": false,
           "showline": true,
           "ticks": "outside",
           "title": {
            "standoff": 15
           },
           "zeroline": false,
           "zerolinecolor": "rgb(36,36,36)"
          },
          "yaxis": {
           "automargin": true,
           "gridcolor": "rgb(232,232,232)",
           "linecolor": "rgb(36,36,36)",
           "showgrid": false,
           "showline": true,
           "ticks": "outside",
           "title": {
            "standoff": 15
           },
           "zeroline": false,
           "zerolinecolor": "rgb(36,36,36)"
          }
         }
        },
        "xaxis": {
         "anchor": "y",
         "domain": [
          0,
          1
         ],
         "title": {
          "text": "value"
         }
        },
        "xaxis2": {
         "anchor": "y2",
         "domain": [
          0,
          1
         ],
         "matches": "x",
         "showticklabels": false
        },
        "yaxis": {
         "anchor": "x",
         "domain": [
          0,
          0.7326
         ],
         "title": {
          "text": "count"
         }
        },
        "yaxis2": {
         "anchor": "x2",
         "domain": [
          0.7426,
          1
         ],
         "matches": "y2",
         "showline": false,
         "showticklabels": false,
         "ticks": ""
        }
       }
      }
     },
     "metadata": {},
     "output_type": "display_data"
    }
   ],
   "source": [
    "px.histogram(choc_mus_true,\n",
    "                template='simple_white',\n",
    "                marginal='rug')"
   ]
  },
  {
   "cell_type": "code",
   "execution_count": 5,
   "metadata": {},
   "outputs": [
    {
     "data": {
      "application/vnd.plotly.v1+json": {
       "config": {
        "plotlyServerURL": "https://plot.ly"
       },
       "data": [
        {
         "alignmentgroup": "True",
         "bingroup": "x",
         "hovertemplate": "variable=0<br>value=%{x}<br>count=%{y}<extra></extra>",
         "legendgroup": "0",
         "marker": {
          "color": "#1F77B4",
          "pattern": {
           "shape": ""
          }
         },
         "name": "0",
         "offsetgroup": "0",
         "orientation": "v",
         "showlegend": true,
         "type": "histogram",
         "x": [
          1.1163963887069348,
          0.5746580319200331,
          0.6414361119091645,
          0.2669441736481,
          0.2234959508585658,
          0.3229166879937763,
          0.5205416237142598,
          0.08901018803475973,
          0.41788850083805906,
          1.1853176857958427,
          0.47426692750513083,
          0.7291996689497142,
          0.4163709728383794,
          0.46959744154337174,
          0.5434076868948668,
          0.551451752344256,
          0.7690889531981813
         ],
         "xaxis": "x",
         "yaxis": "y"
        },
        {
         "alignmentgroup": "True",
         "boxpoints": "all",
         "fillcolor": "rgba(255,255,255,0)",
         "hoveron": "points",
         "hovertemplate": "variable=0<br>value=%{x}<extra></extra>",
         "jitter": 0,
         "legendgroup": "0",
         "line": {
          "color": "rgba(255,255,255,0)"
         },
         "marker": {
          "color": "#1F77B4",
          "symbol": "line-ns-open"
         },
         "name": "0",
         "offsetgroup": "0",
         "showlegend": false,
         "type": "box",
         "x": [
          1.1163963887069348,
          0.5746580319200331,
          0.6414361119091645,
          0.2669441736481,
          0.2234959508585658,
          0.3229166879937763,
          0.5205416237142598,
          0.08901018803475973,
          0.41788850083805906,
          1.1853176857958427,
          0.47426692750513083,
          0.7291996689497142,
          0.4163709728383794,
          0.46959744154337174,
          0.5434076868948668,
          0.551451752344256,
          0.7690889531981813
         ],
         "xaxis": "x2",
         "yaxis": "y2"
        }
       ],
       "layout": {
        "barmode": "relative",
        "legend": {
         "title": {
          "text": "variable"
         },
         "tracegroupgap": 0
        },
        "margin": {
         "t": 60
        },
        "template": {
         "data": {
          "bar": [
           {
            "error_x": {
             "color": "rgb(36,36,36)"
            },
            "error_y": {
             "color": "rgb(36,36,36)"
            },
            "marker": {
             "line": {
              "color": "white",
              "width": 0.5
             },
             "pattern": {
              "fillmode": "overlay",
              "size": 10,
              "solidity": 0.2
             }
            },
            "type": "bar"
           }
          ],
          "barpolar": [
           {
            "marker": {
             "line": {
              "color": "white",
              "width": 0.5
             },
             "pattern": {
              "fillmode": "overlay",
              "size": 10,
              "solidity": 0.2
             }
            },
            "type": "barpolar"
           }
          ],
          "carpet": [
           {
            "aaxis": {
             "endlinecolor": "rgb(36,36,36)",
             "gridcolor": "white",
             "linecolor": "white",
             "minorgridcolor": "white",
             "startlinecolor": "rgb(36,36,36)"
            },
            "baxis": {
             "endlinecolor": "rgb(36,36,36)",
             "gridcolor": "white",
             "linecolor": "white",
             "minorgridcolor": "white",
             "startlinecolor": "rgb(36,36,36)"
            },
            "type": "carpet"
           }
          ],
          "choropleth": [
           {
            "colorbar": {
             "outlinewidth": 1,
             "tickcolor": "rgb(36,36,36)",
             "ticks": "outside"
            },
            "type": "choropleth"
           }
          ],
          "contour": [
           {
            "colorbar": {
             "outlinewidth": 1,
             "tickcolor": "rgb(36,36,36)",
             "ticks": "outside"
            },
            "colorscale": [
             [
              0,
              "#440154"
             ],
             [
              0.1111111111111111,
              "#482878"
             ],
             [
              0.2222222222222222,
              "#3e4989"
             ],
             [
              0.3333333333333333,
              "#31688e"
             ],
             [
              0.4444444444444444,
              "#26828e"
             ],
             [
              0.5555555555555556,
              "#1f9e89"
             ],
             [
              0.6666666666666666,
              "#35b779"
             ],
             [
              0.7777777777777778,
              "#6ece58"
             ],
             [
              0.8888888888888888,
              "#b5de2b"
             ],
             [
              1,
              "#fde725"
             ]
            ],
            "type": "contour"
           }
          ],
          "contourcarpet": [
           {
            "colorbar": {
             "outlinewidth": 1,
             "tickcolor": "rgb(36,36,36)",
             "ticks": "outside"
            },
            "type": "contourcarpet"
           }
          ],
          "heatmap": [
           {
            "colorbar": {
             "outlinewidth": 1,
             "tickcolor": "rgb(36,36,36)",
             "ticks": "outside"
            },
            "colorscale": [
             [
              0,
              "#440154"
             ],
             [
              0.1111111111111111,
              "#482878"
             ],
             [
              0.2222222222222222,
              "#3e4989"
             ],
             [
              0.3333333333333333,
              "#31688e"
             ],
             [
              0.4444444444444444,
              "#26828e"
             ],
             [
              0.5555555555555556,
              "#1f9e89"
             ],
             [
              0.6666666666666666,
              "#35b779"
             ],
             [
              0.7777777777777778,
              "#6ece58"
             ],
             [
              0.8888888888888888,
              "#b5de2b"
             ],
             [
              1,
              "#fde725"
             ]
            ],
            "type": "heatmap"
           }
          ],
          "heatmapgl": [
           {
            "colorbar": {
             "outlinewidth": 1,
             "tickcolor": "rgb(36,36,36)",
             "ticks": "outside"
            },
            "colorscale": [
             [
              0,
              "#440154"
             ],
             [
              0.1111111111111111,
              "#482878"
             ],
             [
              0.2222222222222222,
              "#3e4989"
             ],
             [
              0.3333333333333333,
              "#31688e"
             ],
             [
              0.4444444444444444,
              "#26828e"
             ],
             [
              0.5555555555555556,
              "#1f9e89"
             ],
             [
              0.6666666666666666,
              "#35b779"
             ],
             [
              0.7777777777777778,
              "#6ece58"
             ],
             [
              0.8888888888888888,
              "#b5de2b"
             ],
             [
              1,
              "#fde725"
             ]
            ],
            "type": "heatmapgl"
           }
          ],
          "histogram": [
           {
            "marker": {
             "line": {
              "color": "white",
              "width": 0.6
             }
            },
            "type": "histogram"
           }
          ],
          "histogram2d": [
           {
            "colorbar": {
             "outlinewidth": 1,
             "tickcolor": "rgb(36,36,36)",
             "ticks": "outside"
            },
            "colorscale": [
             [
              0,
              "#440154"
             ],
             [
              0.1111111111111111,
              "#482878"
             ],
             [
              0.2222222222222222,
              "#3e4989"
             ],
             [
              0.3333333333333333,
              "#31688e"
             ],
             [
              0.4444444444444444,
              "#26828e"
             ],
             [
              0.5555555555555556,
              "#1f9e89"
             ],
             [
              0.6666666666666666,
              "#35b779"
             ],
             [
              0.7777777777777778,
              "#6ece58"
             ],
             [
              0.8888888888888888,
              "#b5de2b"
             ],
             [
              1,
              "#fde725"
             ]
            ],
            "type": "histogram2d"
           }
          ],
          "histogram2dcontour": [
           {
            "colorbar": {
             "outlinewidth": 1,
             "tickcolor": "rgb(36,36,36)",
             "ticks": "outside"
            },
            "colorscale": [
             [
              0,
              "#440154"
             ],
             [
              0.1111111111111111,
              "#482878"
             ],
             [
              0.2222222222222222,
              "#3e4989"
             ],
             [
              0.3333333333333333,
              "#31688e"
             ],
             [
              0.4444444444444444,
              "#26828e"
             ],
             [
              0.5555555555555556,
              "#1f9e89"
             ],
             [
              0.6666666666666666,
              "#35b779"
             ],
             [
              0.7777777777777778,
              "#6ece58"
             ],
             [
              0.8888888888888888,
              "#b5de2b"
             ],
             [
              1,
              "#fde725"
             ]
            ],
            "type": "histogram2dcontour"
           }
          ],
          "mesh3d": [
           {
            "colorbar": {
             "outlinewidth": 1,
             "tickcolor": "rgb(36,36,36)",
             "ticks": "outside"
            },
            "type": "mesh3d"
           }
          ],
          "parcoords": [
           {
            "line": {
             "colorbar": {
              "outlinewidth": 1,
              "tickcolor": "rgb(36,36,36)",
              "ticks": "outside"
             }
            },
            "type": "parcoords"
           }
          ],
          "pie": [
           {
            "automargin": true,
            "type": "pie"
           }
          ],
          "scatter": [
           {
            "fillpattern": {
             "fillmode": "overlay",
             "size": 10,
             "solidity": 0.2
            },
            "type": "scatter"
           }
          ],
          "scatter3d": [
           {
            "line": {
             "colorbar": {
              "outlinewidth": 1,
              "tickcolor": "rgb(36,36,36)",
              "ticks": "outside"
             }
            },
            "marker": {
             "colorbar": {
              "outlinewidth": 1,
              "tickcolor": "rgb(36,36,36)",
              "ticks": "outside"
             }
            },
            "type": "scatter3d"
           }
          ],
          "scattercarpet": [
           {
            "marker": {
             "colorbar": {
              "outlinewidth": 1,
              "tickcolor": "rgb(36,36,36)",
              "ticks": "outside"
             }
            },
            "type": "scattercarpet"
           }
          ],
          "scattergeo": [
           {
            "marker": {
             "colorbar": {
              "outlinewidth": 1,
              "tickcolor": "rgb(36,36,36)",
              "ticks": "outside"
             }
            },
            "type": "scattergeo"
           }
          ],
          "scattergl": [
           {
            "marker": {
             "colorbar": {
              "outlinewidth": 1,
              "tickcolor": "rgb(36,36,36)",
              "ticks": "outside"
             }
            },
            "type": "scattergl"
           }
          ],
          "scattermapbox": [
           {
            "marker": {
             "colorbar": {
              "outlinewidth": 1,
              "tickcolor": "rgb(36,36,36)",
              "ticks": "outside"
             }
            },
            "type": "scattermapbox"
           }
          ],
          "scatterpolar": [
           {
            "marker": {
             "colorbar": {
              "outlinewidth": 1,
              "tickcolor": "rgb(36,36,36)",
              "ticks": "outside"
             }
            },
            "type": "scatterpolar"
           }
          ],
          "scatterpolargl": [
           {
            "marker": {
             "colorbar": {
              "outlinewidth": 1,
              "tickcolor": "rgb(36,36,36)",
              "ticks": "outside"
             }
            },
            "type": "scatterpolargl"
           }
          ],
          "scatterternary": [
           {
            "marker": {
             "colorbar": {
              "outlinewidth": 1,
              "tickcolor": "rgb(36,36,36)",
              "ticks": "outside"
             }
            },
            "type": "scatterternary"
           }
          ],
          "surface": [
           {
            "colorbar": {
             "outlinewidth": 1,
             "tickcolor": "rgb(36,36,36)",
             "ticks": "outside"
            },
            "colorscale": [
             [
              0,
              "#440154"
             ],
             [
              0.1111111111111111,
              "#482878"
             ],
             [
              0.2222222222222222,
              "#3e4989"
             ],
             [
              0.3333333333333333,
              "#31688e"
             ],
             [
              0.4444444444444444,
              "#26828e"
             ],
             [
              0.5555555555555556,
              "#1f9e89"
             ],
             [
              0.6666666666666666,
              "#35b779"
             ],
             [
              0.7777777777777778,
              "#6ece58"
             ],
             [
              0.8888888888888888,
              "#b5de2b"
             ],
             [
              1,
              "#fde725"
             ]
            ],
            "type": "surface"
           }
          ],
          "table": [
           {
            "cells": {
             "fill": {
              "color": "rgb(237,237,237)"
             },
             "line": {
              "color": "white"
             }
            },
            "header": {
             "fill": {
              "color": "rgb(217,217,217)"
             },
             "line": {
              "color": "white"
             }
            },
            "type": "table"
           }
          ]
         },
         "layout": {
          "annotationdefaults": {
           "arrowhead": 0,
           "arrowwidth": 1
          },
          "autotypenumbers": "strict",
          "coloraxis": {
           "colorbar": {
            "outlinewidth": 1,
            "tickcolor": "rgb(36,36,36)",
            "ticks": "outside"
           }
          },
          "colorscale": {
           "diverging": [
            [
             0,
             "rgb(103,0,31)"
            ],
            [
             0.1,
             "rgb(178,24,43)"
            ],
            [
             0.2,
             "rgb(214,96,77)"
            ],
            [
             0.3,
             "rgb(244,165,130)"
            ],
            [
             0.4,
             "rgb(253,219,199)"
            ],
            [
             0.5,
             "rgb(247,247,247)"
            ],
            [
             0.6,
             "rgb(209,229,240)"
            ],
            [
             0.7,
             "rgb(146,197,222)"
            ],
            [
             0.8,
             "rgb(67,147,195)"
            ],
            [
             0.9,
             "rgb(33,102,172)"
            ],
            [
             1,
             "rgb(5,48,97)"
            ]
           ],
           "sequential": [
            [
             0,
             "#440154"
            ],
            [
             0.1111111111111111,
             "#482878"
            ],
            [
             0.2222222222222222,
             "#3e4989"
            ],
            [
             0.3333333333333333,
             "#31688e"
            ],
            [
             0.4444444444444444,
             "#26828e"
            ],
            [
             0.5555555555555556,
             "#1f9e89"
            ],
            [
             0.6666666666666666,
             "#35b779"
            ],
            [
             0.7777777777777778,
             "#6ece58"
            ],
            [
             0.8888888888888888,
             "#b5de2b"
            ],
            [
             1,
             "#fde725"
            ]
           ],
           "sequentialminus": [
            [
             0,
             "#440154"
            ],
            [
             0.1111111111111111,
             "#482878"
            ],
            [
             0.2222222222222222,
             "#3e4989"
            ],
            [
             0.3333333333333333,
             "#31688e"
            ],
            [
             0.4444444444444444,
             "#26828e"
            ],
            [
             0.5555555555555556,
             "#1f9e89"
            ],
            [
             0.6666666666666666,
             "#35b779"
            ],
            [
             0.7777777777777778,
             "#6ece58"
            ],
            [
             0.8888888888888888,
             "#b5de2b"
            ],
            [
             1,
             "#fde725"
            ]
           ]
          },
          "colorway": [
           "#1F77B4",
           "#FF7F0E",
           "#2CA02C",
           "#D62728",
           "#9467BD",
           "#8C564B",
           "#E377C2",
           "#7F7F7F",
           "#BCBD22",
           "#17BECF"
          ],
          "font": {
           "color": "rgb(36,36,36)"
          },
          "geo": {
           "bgcolor": "white",
           "lakecolor": "white",
           "landcolor": "white",
           "showlakes": true,
           "showland": true,
           "subunitcolor": "white"
          },
          "hoverlabel": {
           "align": "left"
          },
          "hovermode": "closest",
          "mapbox": {
           "style": "light"
          },
          "paper_bgcolor": "white",
          "plot_bgcolor": "white",
          "polar": {
           "angularaxis": {
            "gridcolor": "rgb(232,232,232)",
            "linecolor": "rgb(36,36,36)",
            "showgrid": false,
            "showline": true,
            "ticks": "outside"
           },
           "bgcolor": "white",
           "radialaxis": {
            "gridcolor": "rgb(232,232,232)",
            "linecolor": "rgb(36,36,36)",
            "showgrid": false,
            "showline": true,
            "ticks": "outside"
           }
          },
          "scene": {
           "xaxis": {
            "backgroundcolor": "white",
            "gridcolor": "rgb(232,232,232)",
            "gridwidth": 2,
            "linecolor": "rgb(36,36,36)",
            "showbackground": true,
            "showgrid": false,
            "showline": true,
            "ticks": "outside",
            "zeroline": false,
            "zerolinecolor": "rgb(36,36,36)"
           },
           "yaxis": {
            "backgroundcolor": "white",
            "gridcolor": "rgb(232,232,232)",
            "gridwidth": 2,
            "linecolor": "rgb(36,36,36)",
            "showbackground": true,
            "showgrid": false,
            "showline": true,
            "ticks": "outside",
            "zeroline": false,
            "zerolinecolor": "rgb(36,36,36)"
           },
           "zaxis": {
            "backgroundcolor": "white",
            "gridcolor": "rgb(232,232,232)",
            "gridwidth": 2,
            "linecolor": "rgb(36,36,36)",
            "showbackground": true,
            "showgrid": false,
            "showline": true,
            "ticks": "outside",
            "zeroline": false,
            "zerolinecolor": "rgb(36,36,36)"
           }
          },
          "shapedefaults": {
           "fillcolor": "black",
           "line": {
            "width": 0
           },
           "opacity": 0.3
          },
          "ternary": {
           "aaxis": {
            "gridcolor": "rgb(232,232,232)",
            "linecolor": "rgb(36,36,36)",
            "showgrid": false,
            "showline": true,
            "ticks": "outside"
           },
           "baxis": {
            "gridcolor": "rgb(232,232,232)",
            "linecolor": "rgb(36,36,36)",
            "showgrid": false,
            "showline": true,
            "ticks": "outside"
           },
           "bgcolor": "white",
           "caxis": {
            "gridcolor": "rgb(232,232,232)",
            "linecolor": "rgb(36,36,36)",
            "showgrid": false,
            "showline": true,
            "ticks": "outside"
           }
          },
          "title": {
           "x": 0.05
          },
          "xaxis": {
           "automargin": true,
           "gridcolor": "rgb(232,232,232)",
           "linecolor": "rgb(36,36,36)",
           "showgrid": false,
           "showline": true,
           "ticks": "outside",
           "title": {
            "standoff": 15
           },
           "zeroline": false,
           "zerolinecolor": "rgb(36,36,36)"
          },
          "yaxis": {
           "automargin": true,
           "gridcolor": "rgb(232,232,232)",
           "linecolor": "rgb(36,36,36)",
           "showgrid": false,
           "showline": true,
           "ticks": "outside",
           "title": {
            "standoff": 15
           },
           "zeroline": false,
           "zerolinecolor": "rgb(36,36,36)"
          }
         }
        },
        "xaxis": {
         "anchor": "y",
         "domain": [
          0,
          1
         ],
         "title": {
          "text": "value"
         }
        },
        "xaxis2": {
         "anchor": "y2",
         "domain": [
          0,
          1
         ],
         "matches": "x",
         "showticklabels": false
        },
        "yaxis": {
         "anchor": "x",
         "domain": [
          0,
          0.7326
         ],
         "title": {
          "text": "count"
         }
        },
        "yaxis2": {
         "anchor": "x2",
         "domain": [
          0.7426,
          1
         ],
         "matches": "y2",
         "showline": false,
         "showticklabels": false,
         "ticks": ""
        }
       }
      }
     },
     "metadata": {},
     "output_type": "display_data"
    }
   ],
   "source": [
    "px.histogram(choc_sigmas_true,\n",
    "                template='simple_white',\n",
    "                marginal='rug')"
   ]
  },
  {
   "cell_type": "code",
   "execution_count": 6,
   "metadata": {},
   "outputs": [
    {
     "data": {
      "application/vnd.plotly.v1+json": {
       "config": {
        "plotlyServerURL": "https://plot.ly"
       },
       "data": [
        {
         "alignmentgroup": "True",
         "bingroup": "x",
         "hovertemplate": "variable=0<br>value=%{x}<br>count=%{y}<extra></extra>",
         "legendgroup": "0",
         "marker": {
          "color": "#1F77B4",
          "pattern": {
           "shape": ""
          }
         },
         "name": "0",
         "offsetgroup": "0",
         "orientation": "v",
         "showlegend": true,
         "type": "histogram",
         "x": [
          -1.8907486596679226,
          0.019034050888091625,
          0.7753714576703867,
          -1.4073441006120202,
          -0.11474349008280299,
          1.6926916272506836,
          -1.4897618659034422,
          -0.3186854068688599,
          1.6477847814052233,
          -0.3140646573493685,
          -0.6195839772379806,
          -0.23883595404795974,
          1.1882570184269619,
          -0.9255036167885997,
          -0.9184034811976273,
          -0.3480661524237703,
          2.426314110450128,
          -0.11691358762224868,
          1.7257347952029294,
          1.6350231775540112,
          -1.5693174169719841,
          -0.6304696013730187,
          1.3032873301499674,
          -1.8211932756785822,
          -0.3824056890908931,
          2.036675272859217,
          -0.042276083593904557,
          -0.7650553321252396,
          -0.4026212982441909,
          1.912640649564306,
          -0.6702511078578804,
          -0.5287882772119032,
          0.4388531287583865,
          1.6009693409505776,
          -0.514526775818276,
          1.8256808061712473,
          -0.2538443458920405,
          -1.383534561344697,
          -0.8974620090330769,
          1.4716592102582076,
          -2.33306509764706,
          -0.6197917616420476,
          0.9620941324747023,
          -0.502352260031262,
          -0.8626829696726682,
          -0.6806370060445559,
          1.8823574859238357,
          -0.43330309314228954,
          0.17609597413135836,
          -0.33980389484581525,
          1.014166117946774,
          -2.173026900794835,
          0.39446561114621914,
          -0.0151830600053387,
          -1.637246817609958,
          -0.35493764074077866,
          2.3452276238540533,
          -1.6810506036077477,
          -0.44078243415162016,
          1.2683491688723878,
          -1.658083156592198,
          -1.1249905943403764,
          0.5840372377467229,
          1.5106853694462525,
          -0.011173609026848719,
          -0.2916863691540894,
          0.39096821668245124,
          1.679756618107266,
          -0.711301776896931,
          0.34881210050327405,
          0.19720109331322944,
          -1.7158563686875279,
          -0.6313235804760773,
          1.1954918993542627,
          -2.888795917786079,
          -0.4196317938834694,
          1.4424924892887143,
          -1.1046596031558298,
          -1.3507929755921626,
          1.5791465923748655,
          1.8341461128516876,
          -0.23368697586171588,
          -0.4105997246914948,
          -0.5076272919725543,
          1.9671416276577913,
          -0.7336333389531297,
          0.5869376586477744,
          0.8860089769679225,
          -1.2213807076900152,
          -0.8579448409486501,
          1.7552177943807763,
          -2.8209979288690223,
          -0.398839511064032,
          1.5448855938414043,
          -3.1298890539929127,
          -1.5534374132182185,
          0.1778906993970435,
          2.1199989571675717,
          -0.5640133604621035,
          -0.8791036193830226,
          -0.7316084479311066,
          3.0070281954417077,
          -0.980202716526718,
          1.089895502470725,
          1.2713996721782883,
          -1.3852269118966918,
          -0.6427784364443783,
          1.3182188120847822,
          -1.5827129100677073,
          -0.6044813734652282,
          1.1653590571848245,
          -1.2276473574094746,
          -0.7451569915860768,
          0.8972341426398867,
          1.7999510259361646,
          -0.5973339306840927,
          -1.1794279238941492,
          -0.22567707789395716,
          1.5822861748763168,
          0.5433489162445027,
          0.9815189250314649,
          0.2892983089625948,
          -1.5890459863686819,
          -0.5584730982254725,
          1.5916604988438503,
          -1.555899491206282,
          -0.4184987318109216,
          0.8321935170786667,
          -0.6370240191836282,
          -0.9385241304846628,
          -0.7561833910268254,
          1.5615128234672009,
          -0.15751574610900826,
          0.24671067067100882,
          -1.8997321262567608,
          2.721917134192724,
          -1.551554214846007,
          1.7789318317817768,
          -0.575708998899271,
          -1.5275918425152746,
          -0.3796677872425259,
          1.502803420013314,
          -2.6019227379624073,
          -0.542348805010445,
          1.233019043905028,
          -1.916606934779691,
          -1.6211736465694329,
          -0.07747611183662562,
          1.404214909135842,
          -0.7908292464426343,
          -0.4722580443589809,
          -0.5005307881433136,
          2.2299204157806636,
          -0.6619918401956401,
          1.1721033284081557,
          0.27695048960093965,
          -1.7165418165101864,
          -0.6331233162357787,
          1.8259365217446275,
          -2.449821210859658,
          -0.3305212772004971,
          1.0215137967172794,
          -1.5692861239077205,
          -0.3909493355694216,
          1.1730740359481562,
          1.301241622987678,
          -1.2380037101306844,
          -0.6447427655425634,
          -0.389244584140296,
          2.401016923280335,
          -1.0683005816180682,
          -0.006623931791286619,
          -0.12210236585767853,
          -1.8597130463394287,
          -0.6366496940630771,
          1.590642606671023,
          -2.822374091816051,
          -0.5196943009829582,
          0.6846518866936816,
          0.1465187750848136,
          -0.4159182279934003,
          -1.6969228388799609,
          1.628183899938995,
          -1.1740858328188888,
          0.04937659211178491,
          -1.2186016116017115,
          2.5067334738149203,
          -0.31340583864675486,
          0.9497046829068397,
          0.6303679434884313,
          -1.5973090435508897,
          -0.38134132375573954,
          1.5769881519499014,
          -2.402735306671383,
          -0.4355524500734343,
          1.2187879339141139,
          -1.251270961993828,
          -0.2558235474786411,
          1.6141505785730959,
          2.0639186662204825,
          -0.45929209770301144,
          -1.2348677217317228,
          -1.135466245319735,
          2.9859948395716978,
          -2.527628490549371,
          -0.2901964592969426,
          0.37305043705625063,
          -1.321062865135116,
          -0.5609358988354612,
          1.8556026670235966,
          -2.514333535691794,
          -0.4288956794337427,
          1.5954592115231518,
          -0.9085284449663678,
          -1.5008958519331377,
          -1.0180288047190356,
          1.5896154801320685,
          -0.3816084489118756,
          -0.3259587936770953,
          0.015892117509536896,
          1.7820790356467089,
          0.0814333479238385,
          0.3230423206267542,
          -0.7451691506747375,
          -1.6882181496776323,
          -0.28168849209762326,
          1.567775001217778,
          -2.0627614697630756,
          -0.5514465861465545,
          1.6084148997985273,
          -1.5928800446337605,
          -1.2006111619875366,
          0.461812101955088,
          1.3476641653899621,
          -0.37643261499406044,
          0.023004989738761195,
          -0.48314306124462325,
          2.6094790855621284,
          -1.6237294938311568,
          0.8127630317415682,
          -0.22547563396576065,
          -1.6249671461140327,
          -0.533112138556328,
          1.3910433956288686,
          -1.9367009741400223,
          -0.6051377789013948,
          1.508386133233907,
          -2.0666277171896184,
          -1.0121187228935142,
          -0.7513654056292249,
          1.658164733104786,
          0.12232080782839583,
          -0.16015993088330588,
          -1.5409419458186542,
          2.630817106302421,
          -0.7953310708395831,
          0.1575682582619985,
          0.5660078959924203,
          -1.2887322964248442,
          -0.4168241879950586,
          1.8219639181582488,
          -2.6835829700976266,
          -0.29521962494905957,
          1.1872662741517337,
          -1.7440076988098778,
          -1.2292865230077314,
          0.0012019685410644965,
          1.6488312857836123,
          -0.29695109329232683,
          0.12922349338309602,
          -0.5128326817870943,
          1.101732627199461,
          -0.44180443399101876,
          1.5823269978405239,
          0.5844830595504344,
          -1.5495554880846139,
          -0.9722126017700095,
          1.6296370201392505,
          -3.0503499485908523,
          -0.4803562675265696,
          0.6770533995052986,
          -1.3335444716141323,
          -0.7503915052732392,
          0.7745596291111265,
          1.6179270626229165,
          -0.7114956136470492,
          -0.12202303719288221,
          -0.5823958479966335,
          0.03750811056137682,
          -1.9947833344306236,
          1.2289873111941296,
          0.18626344782632748,
          -1.9121404426902526,
          -0.27370340959488476,
          1.2404819607484685,
          -2.1742528333088784,
          -0.46744420367432393,
          0.8274637785956404,
          -0.8321127071765362,
          -0.14341857488840148,
          0.0521080683601616,
          1.4535748241086799,
          -0.8995878790670266,
          0.09443762231352448,
          0.5256899655349221,
          1.4215819902836087,
          -2.7667427414484926,
          0.66088715310841,
          0.154080802540912,
          -1.6010015572163714,
          -0.7294935232657094,
          1.159912622546455,
          -2.2927660352487016,
          -0.5015392146160128,
          0.4125364175780638,
          -2.7119935502020676,
          -0.23211319394000435,
          -0.3334512200414529,
          1.569445593026001,
          -1.4751012661437,
          -0.6113167911463608,
          0.20426482460249146,
          2.554198027466753,
          -0.9011675066841142,
          0.9620047983739218,
          0.7956081274601605,
          -1.3063226032805015,
          -1.0664575448463234,
          1.777189523144389,
          -1.9484962812649713,
          -0.36302150044115894,
          0.9651054004358154,
          -1.0216968590493403,
          -0.7466240941519594,
          -1.1003224311063837,
          1.7390861635281278,
          -1.096431541221874,
          0.2764958754425292,
          -0.37040816393756304,
          1.9249898343665683,
          -1.3368887474838482,
          0.9122378485646788,
          1.1167381860085777,
          -1.2848449054065774,
          -0.6577009045213794,
          1.696859908513863,
          -2.6501217255007914,
          -0.589590949203022,
          1.6331039444062685,
          -1.5807882611178212,
          -0.5381938527345342,
          -0.8060401653252571,
          1.4264985667678214,
          -0.2755771141269652,
          -0.8831398001775195,
          -0.05473092326983159,
          3.0213610174327323,
          -1.4482438156517723,
          -0.5895703921099884,
          0.1992823404202731,
          -1.3664442790467117,
          -0.6331920137329208,
          2.105433034781309,
          -2.384256629958252,
          -0.5215531342499707,
          0.7320919681362897,
          -2.3908824382293954,
          0.30924643423750753,
          -0.2095860505775809,
          1.7685587911136607,
          0.4657738722111433,
          -0.6863866739829246,
          -0.5289752227210403,
          2.0164540540292,
          -2.0570267890111253,
          0.7456232008902051,
          0.8821726701460749,
          -1.69898573978395,
          -0.6959743168685008,
          1.6597665870474472,
          -2.4059067090160484,
          -0.41413519091982065,
          1.3377978954877687,
          -1.424553540165243,
          -1.14092611187234,
          -0.33187643320426047,
          2.186471957993862,
          -0.4191156542407999,
          -1.0764615082558682,
          0.0006665021942320326,
          4.196628001168895,
          0.8221875554588545,
          0.49008296012712615,
          1.1589769730483206,
          -1.3674972007982906,
          -0.3081343299529352,
          1.669120217990169,
          -2.7098254886147157,
          -0.4108359666598358,
          1.7204650208732877,
          -0.816844175559666,
          -1.3026001069901927,
          -0.4131750513112752,
          1.6112267302405359,
          -0.836497455240965,
          -0.22593182153751426,
          -1.6997885835208297,
          2.732290940898477,
          -0.255679980822624,
          0.2689381997078366,
          0.9637675469249604,
          -1.4859821855273754,
          -0.6981305105515117,
          1.6591319380125644,
          -2.2424868222859673,
          -0.46688619253461183,
          0.054039040910911496,
          -1.3413072087899751,
          -1.2282084570275427,
          -0.8064719534485116,
          1.4622387641789985,
          -0.4103931209436733,
          -0.27141371275767356,
          0.019524663805514153,
          2.250171453747962,
          -0.9375855602044274,
          1.3552724883201694,
          0.8063485498684516,
          -1.0963443425825885,
          -0.41243542317698445,
          2.122717594117744,
          -2.3848565042520775,
          -0.44828968608281444,
          0.5950055526977986,
          -3.241953611951838,
          -1.3144744667687611,
          -0.04264301943744473,
          1.0541336078117511,
          0.2826910661977198,
          -0.7948130939741586,
          -0.6826085071186945,
          2.2421419021622735,
          -1.18537134628861,
          1.602860912535987,
          -0.19235734746853128,
          -0.9246113302185046,
          -0.7071341962291194,
          1.2342227726092405,
          -2.269622378328059,
          -0.49279460495000793,
          1.2198874845316787,
          -2.506438563757836,
          -0.9002829307324689,
          -0.6832905924164412,
          1.599315258048928,
          0.12457407673913057,
          0.43283941839330087,
          -1.0529051530479197,
          1.166227622639606,
          0.19988891388533725,
          0.9189275104158442,
          -0.5625481608130889,
          -1.7201663551074386,
          -0.8710576216951089,
          1.6346852661690252,
          -2.111120881782769,
          -0.5280393880144044,
          1.7913408293182604,
          -1.011795189953178,
          -0.6643071510737725,
          0.3927530883257173,
          1.2378205511656275,
          -0.699243312013553,
          0.12582050248168575,
          -1.1943148450834558,
          1.5746214892662538,
          -1.5862812221766724,
          0.7024533472052357,
          1.0554269008369976,
          -1.3173583125162582,
          -0.6761229601231098,
          1.7813142517940248,
          -1.569237525001686,
          -0.279282468463697,
          1.2971052934793554,
          -0.6046754374609624,
          -0.4080509393331204,
          1.788655317179008,
          1.3335272510160485,
          -0.5192905143962436,
          -1.567651023314219,
          -0.4432677997881085,
          3.1112268537384087,
          -1.6562963400944977,
          1.7636058057287363,
          -0.08941475324236597,
          -1.1910952835017672,
          -0.624264113704327,
          1.6397885914214796,
          -2.8483375961093094,
          -0.5808013635934697,
          1.1656305685995623,
          -1.933243533973921,
          -0.7386343449975227,
          -0.5827783720507123,
          1.1337852945866365,
          -1.6301772147219484,
          -0.5559785165350217,
          -0.5086013716327179,
          3.390069288979581,
          -0.497839362374378,
          0.23827042070092352,
          0.9359853187946838,
          -1.757551416321417,
          -0.5566072417921232,
          1.5920673761693085,
          -2.426418568399791,
          -0.410382437428693,
          1.4474500155236167,
          -2.447940980137913,
          0.03377241456098812,
          0.7146748384893022,
          1.2988498707668794,
          -0.5813388318465116,
          -0.9873708407570116,
          -0.1004225882953294,
          2.242962294226507,
          -1.5842825572264325,
          1.1846138926931682,
          0.46493028892385935,
          -1.4266469031194482,
          -0.7407595070445017,
          1.3222032344283656,
          -1.8840944005058047,
          -0.4258267036312816,
          0.942806184829827,
          -2.123175022637674,
          -0.29631270181085156,
          0.45550970407340824,
          0.6943634793147099,
          -0.4908963045907913,
          -0.17621405829376763,
          -0.8060805395737342,
          1.5993857563398577,
          0.6601002398548388,
          1.0771319825792358,
          0.30012785483023774,
          -0.8662412688169473,
          -0.25433248362826,
          1.8291479720742112,
          -1.9355822567909846,
          -0.421084181217851,
          0.9268437972755403,
          0.09825901371764001,
          -1.382904219531336,
          -0.6591988609095925,
          0.9544351638457709,
          -0.09572737269965725,
          -0.696757792194143,
          -0.26550916549803594,
          2.5456704347618233,
          0.4952322682036021,
          0.8546100453616023,
          1.0560025161735043,
          -1.2633011948668242,
          -0.11136601637264781,
          1.237555919851995,
          -2.334957637568249,
          -0.4307887601642064,
          1.2780366989651408,
          -0.23250201613469057,
          -0.5916491280574756,
          -0.6084916608038955,
          1.1955122486008136,
          -0.5121209832504335,
          -0.2864543729860918,
          -1.1493111434514374,
          1.576435248814348,
          -2.221535703253526,
          1.0180871155886395,
          0.18755968943533513,
          -1.611166051590288,
          -0.6381172072728032,
          1.7373896750044753,
          -3.215186928143315,
          -0.4714606025735268,
          1.5334852201483944,
          -2.0765629611035794,
          -1.646032008136756,
          -0.21266047020516882,
          1.5345992778026716,
          -1.074143535613661,
          -1.0677400799775776,
          -1.3234978893221083,
          1.494049433328723,
          -2.821474457089071,
          0.8274922468323647,
          0.30477604468139674,
          -1.95648903447751,
          -0.49649944813145325,
          2.0050884458985037,
          -1.8454794430061798,
          -0.5500023709510508,
          1.1418009690499997,
          -2.671199389398148,
          -0.7172795245394232,
          0.5281783652446825,
          1.2683439849007656,
          -0.9665139067811814,
          -0.5647550445623366,
          -0.2291972750566288,
          1.9648128685283377,
          -1.7250487489780593,
          1.1351996917313107,
          -0.10352856457476917,
          -1.076145534788058,
          -0.632549821650114,
          1.824387587723949,
          -2.4239773961762934,
          -0.3661062322132008,
          1.807547379509942,
          -2.4457017401118435,
          -1.0636627915692527,
          -0.6425684023932694,
          2.1809923540989757,
          -0.6608061073807646,
          0.9144565636161177,
          -0.8439167452892921,
          2.44985070692442,
          -1.0235509529561913,
          0.330209857134354,
          0.7649565869351242,
          -2.1027346754247995,
          -0.7870060867165309,
          1.8294101811348167,
          -2.1128909771733184,
          -0.21186744575900593,
          1.5561539936078899,
          1.1720053175085292,
          -1.1969355408975078,
          0.18080308052284716,
          1.827236181639537,
          -0.08950198119277453,
          0.2654965487524299,
          -0.8845999306391803,
          2.384418961208053,
          -1.7227126247191555,
          2.4326104416351746,
          1.1456404262921374,
          -1.9089845897825375,
          -0.8511917923210698,
          1.3025888029002028,
          -1.999460434842617,
          -0.3579796563705277,
          1.0405823379732333,
          -0.5161143674529496,
          0.651150160421843,
          0.4772577590815314,
          1.6632697216747356,
          -0.521197303144424,
          -1.0158004396630167,
          -1.4996475083280192,
          2.868602619200052,
          0.2910885275412731,
          -0.1450927980326413,
          0.775406342897248,
          -1.6448825880847047,
          -0.6903947790625877,
          1.535836839702247,
          -1.8727389411135098,
          -0.4941569850185278,
          0.9003716391945604,
          -0.47057802817183064,
          -0.9553356935543065,
          0.05059085795171692,
          1.7047724219190494,
          -0.8319285306681621,
          -0.13287178148322243,
          0.22860420976767676,
          3.006510372485801,
          0.11611349003754601,
          0.9277855894117563,
          0.6940191951991138,
          -1.4220865182789022,
          -0.5492175658474632,
          2.1812127192232857,
          -4.032025015259081,
          -0.43669466781314226,
          1.2784207257825806,
          -1.3487702367850718,
          -1.2293017099108439,
          -0.2850524536582638,
          1.4350789667540822,
          -1.1165611080037983,
          -1.2297275023812628,
          -1.258703579279055,
          2.1296163633952916,
          -1.7637415696756724,
          1.5886160358848593,
          -0.04786705208913794,
          -1.5929617016809197,
          -0.5847590136531876,
          1.8147530751865046,
          -2.7962265234710753,
          -0.3508856072508912,
          1.6089025888474329,
          -2.4276425161370523,
          -1.3059998589792337,
          -0.4073412073263585,
          2.020773610579682,
          -0.36927733901138815,
          0.4298073851308606,
          -0.8050386827210383,
          2.0389438095379897,
          -0.894044516456848,
          0.9878312202978561,
          -0.5626357619119114,
          -1.697847211111077,
          -0.8745500934619421,
          1.2441458581073845,
          -2.6693633653127185,
          -0.29820695212897863,
          0.9517059252352791,
          -4.064783956696917,
          -0.7502100836472847,
          -2.296874749525485,
          1.2345196639727787,
          -1.595790812924138,
          -0.1825097474015,
          -1.8212104198314747,
          1.1704962379853032,
          -0.3701683766927807,
          2.4726210715345407,
          0.4298106110316027,
          -1.502147446281353,
          -0.6604436559072605,
          1.4811126534208217,
          -3.17651262437317,
          -0.4748263271012498,
          1.6710019579419781,
          -1.397164106605921,
          -0.6863808189234978,
          0.6489539269098334,
          0.9101602301199153,
          -1.118699646832248,
          -0.7928037547358697,
          -0.47645367362185054,
          1.5437862936599096,
          -1.0180804008648057,
          0.6001378325635631,
          0.522748601702177,
          -1.7697105754364233,
          -0.3795959703450004,
          1.2966049467661835,
          -2.6758319928647643,
          -0.4498123677341743,
          0.4902030390071924,
          -0.9184405759616866,
          -0.679375823053121,
          1.5507787660695973,
          1.4729033847251867,
          -0.6922371786756699,
          1.0464162689123908,
          -0.6635294234754784,
          2.4297212563971797,
          -1.9415152925199166,
          0.3903583450114325,
          -0.051002486865496355,
          -1.4558364418074952,
          -0.49057859254261127,
          1.5572321690571875,
          -2.4342618703502596,
          -0.2862101990086272,
          0.7610460708794327,
          -0.4753797877484811,
          -0.2016405063925572,
          -0.9036086150655063,
          0.5938537547729761,
          -0.8013686078695179,
          0.028160624600629958,
          -0.4865280021207552,
          1.653960438790617,
          -1.6552524596260554,
          0.4489915174809389,
          1.4613186916788332,
          -1.2863214273455517,
          -0.7069662589722678,
          1.5117228553583693,
          -1.3905752665048927,
          -0.39815556554429893,
          1.7165865123830293,
          -2.320802650138302,
          -0.4098023441991814,
          -0.3063243073300872,
          1.6833281495684955,
          -1.0210062094491992,
          0.2612934286148696,
          -0.854968766089133,
          2.070346387457693,
          -3.7781804657387816,
          1.122614021071504,
          0.740462971393399,
          -1.6330873803901813,
          -0.5261485393583257,
          2.1118914022737743,
          -2.2708560115197605,
          -0.4425240466559744,
          1.375391450990728,
          -0.966683103330811,
          -0.6348946122760601,
          0.316048994305583,
          1.0817847740794533,
          -0.5672812351061309,
          -0.8574847672703395,
          -0.43551016049838376,
          2.7133589403297096,
          -2.8980485347014326,
          1.2959303490507068,
          -0.40595862766592494,
          -1.5531208400056529,
          -0.7290841416871017,
          1.6595362108989486,
          -2.3622260074881614,
          -0.45662706156659677,
          1.2794967490824825,
          -1.6709654518952206,
          -1.0568319215572433,
          -0.5300598086668556,
          0.7742950604872288,
          -0.34756552558315035,
          -1.0528230627091557,
          -0.5089977071509674,
          2.279207652838757,
          -1.934063668383994,
          1.4314393095652005,
          0.7072547181203496,
          -1.5308409403412082,
          -0.8278382928862237,
          1.7773468759616025,
          -2.1523205692556506,
          -0.5345267043037946,
          1.3499854703233594,
          0.9280954059938065,
          -1.0348964759224795,
          -0.3933781159901229,
          1.4445486369182112,
          0.12245729070164812,
          -0.10825952302686326,
          -0.8777804185398062,
          2.6022548549425846,
          -2.156989855336537,
          0.0015412576251363497,
          -0.33048496246608594,
          -1.5589104253178898,
          -0.547224795258409,
          0.8690163832051967,
          -2.1326150585502863,
          -0.2764561622030036,
          1.5626894014637913,
          -1.0538842638908188,
          -0.5157603744857424,
          -0.0428958072650829,
          1.6534446376200675,
          -0.25217549802225925,
          -0.060209342067362615,
          -1.003320890370929,
          2.3594310700818837,
          -0.25701183576911024,
          0.8607957785172353,
          0.42157651229495563,
          -1.5776345964781113,
          -0.3146062801146898,
          1.761284575241071,
          -2.1809292587002234,
          -0.43769818694700535,
          1.7550586220442057,
          -2.033305367912094,
          -0.12862998780381873,
          -0.3845548748863684,
          1.4892644701520645,
          0.21614794378741065,
          -0.463946096052173,
          -0.5191309477688035,
          2.11945915287028,
          0.09856864343011518,
          0.7254641666399628,
          0.9801065998974784,
          -1.7774134661011232,
          -0.7597412121896947,
          2.1235375122760725,
          -2.1649913539286967,
          -0.4718700897008184,
          1.4895190375042797,
          -0.8592422768032546,
          -0.19649323555579978,
          1.162865460009278,
          1.806799754003787,
          -1.0788502752992821,
          -0.01973622239822559,
          -0.698075206536748,
          2.104860219330258,
          -0.6143861287892081,
          1.4630226629385998,
          0.2686573135928489,
          -1.6996011308874877,
          -0.4046676489563287,
          1.8494422066331266,
          -2.2066143943101126,
          -0.4435032824181305,
          0.25871247751152704,
          -3.1671949250904574,
          -0.852671813134537,
          0.8107928594271183,
          1.1028047673554884,
          -0.37117939153959584,
          -0.22850513902207092,
          -0.17708933896110263,
          2.693248862327999,
          0.2918371086114251,
          0.43286193829751174,
          -0.5546404303080794,
          -1.369631276668349,
          -0.43597449865329696,
          1.499640978322103,
          -2.8425458713788907,
          -0.3249891764149671,
          0.6937422927705352,
          -0.7630327778876121,
          -0.559104714431026,
          1.2450341166661185,
          1.4455915217585367,
          -0.9298574807662504,
          -1.054461410756161,
          -0.6606119779024759,
          1.962790414861504,
          -1.4569150821525998,
          0.4357432583164794,
          0.4447245743305548,
          -1.3194128201133677,
          -0.7449570349926582,
          1.155791500586705,
          -1.5246859498145664,
          -0.5197879510839724,
          1.3768955192578407,
          -0.30213994218103435,
          -0.6864519431006084,
          -1.2064639289428618,
          1.3129371629594542,
          -0.5558965127280471,
          -0.07329197034607665,
          -0.2534797233685392,
          3.5301684144778163,
          -0.6535725735924465,
          1.1926525649418709,
          1.4607952815728773,
          -2.085620052991694,
          -0.5933039940558983,
          1.2633245470143626,
          -2.025966183584144,
          -0.47426678865020955,
          0.9989972843988781,
          -1.1435578193136398,
          -0.7598039471832183,
          -0.6000343489565001,
          1.9436545792654112,
          -0.740394022198495,
          -0.9237186637857181,
          -1.0215720070842105,
          1.6040633271480391,
          -0.45013764173759385,
          1.7672243865359634,
          0.7632796309488634,
          -1.6490202246618646,
          -0.7159265961332566,
          1.9630613777380028,
          -2.085862469286159,
          -0.4376582829888782,
          1.3632160309046282,
          -2.232531603399083,
          -0.6036366456613474,
          -1.2785626252607072,
          1.3128164878869781,
          -0.11481521361109648,
          -0.7462471983112086,
          -0.08952309403570108,
          2.9190099943675554,
          -1.5040089870708993,
          0.6220604263616762,
          0.23451434901331628,
          -1.3196609300788336,
          -0.6129817086607362,
          1.664002143366184,
          -1.4072232554427087,
          -0.4123045763863036,
          1.486441997841378,
          -1.05197408796604,
          -0.4918975160269923,
          0.15988852807258325,
          1.8944718404241008,
          -0.596458905582767,
          -0.7517653946828673,
          -0.8792531593014508,
          2.2491315108897285,
          -1.4460764020989316,
          1.1397370552568602,
          0.8616452870807143,
          -1.4435729840520017,
          -0.692667467220323,
          1.347736212828157,
          -2.1682160977718077,
          -0.5693567309377159,
          0.8925253985100587,
          -0.37445238058555197,
          -0.6477576868131879,
          0.5459388216471073,
          1.7750985363916834,
          -0.9127545104742395,
          -0.011499404784807987,
          -0.8488224658892061,
          1.6037002422486888,
          -1.7977137847417892,
          0.6366744113628471,
          0.4107426918106024,
          -1.2084728707731562,
          -0.6217657257969756,
          1.1803185396028528,
          -2.2672819357396565,
          -0.4609251796334245,
          1.3398983559529842,
          -1.8259854662254351,
          -0.47733374084756064,
          0.02644681634210211,
          1.4287413531232225,
          -1.179121132805507,
          -0.9710057493147332,
          -0.3748646169817245,
          2.7393616298463206,
          0.9762399355596139,
          0.41205430909203544,
          -0.8570292421399679,
          -1.6568446541948418,
          -0.31855866704495994,
          1.522156876901565,
          -2.3452380335554848,
          -0.4392322731125816,
          1.6928504795994825,
          -1.4945571571087288,
          -0.3123454766565963,
          0.4418703530491707,
          1.7476624028194874,
          -0.4652864562347381,
          0.22368584699420913,
          -0.967358030284166,
          3.208444026533246,
          -2.393870020133484,
          0.9411265054836575,
          1.2513495387720557,
          -1.5064268259846427,
          -0.819584111982449,
          1.7069122037212305,
          -2.1493546451735543,
          -0.3632461424454583,
          1.2817873340857884,
          0.4597722987189541,
          -1.02192091258301,
          -0.2484414967394882,
          0.95243370633383,
          -1.1911742895374415,
          -0.5012438812238404,
          0.03779156428853858,
          2.47374570850551,
          0.11157877758284518,
          -0.08914329336029159,
          0.5199665057110785,
          -1.9806246719735476,
          -0.5954826127856002,
          2.1480473886518663,
          -2.55825332211392,
          -0.2964165775099399,
          1.698324965169439,
          -0.10858454610806745,
          -1.0862395794371424,
          1.1769125135390255,
          1.0478245816917797,
          -0.5051073039063221,
          -0.18303795571611747,
          0.011056462924229349,
          2.9926781901240957,
          -1.0511568770369972,
          0.6977762675957244,
          -0.02144463059110685,
          -1.1361517780288457,
          -0.6606176125422828,
          1.9745305663854444,
          -3.2164723349863475,
          -0.14878972003926538,
          1.1221430175101776,
          -1.9806423732866625,
          0.4478017594608841,
          -1.3201718705360477,
          1.6804519462361687,
          -1.4003406686136182,
          -0.7306302225546142,
          -0.2659170722372668,
          1.5216926426654043,
          -1.8416138004189224,
          1.0187822565714453,
          0.2964278634687847,
          -1.000599002667809,
          -0.8179061092988258,
          2.155913507146797,
          -2.998280664008939,
          -0.530152145799523,
          1.482600213951391,
          -1.5531938047210934,
          -1.6829110705111385,
          -0.004559651298072329,
          2.3587835960940904,
          -0.9280623225873257,
          -0.49525820118527164,
          -0.17492067801536948,
          1.9156196182716727,
          -2.4242018397199283,
          1.2724012469252433,
          -0.056395990001419705,
          -1.7991783009706144,
          -0.3957604468073179,
          2.3695378453344107,
          -1.8567283441265636,
          -0.4217709362186852,
          1.2808954914637183,
          -0.8223361698759113,
          -1.0718533450463283,
          1.0426348136847705,
          1.5436927679660704,
          -0.8654826165358918,
          -0.7029236571258644,
          -0.03558823633852376,
          1.7129381558849586,
          -2.02239663926668,
          1.2412144434026842,
          -0.49822275348833334,
          -1.4447881954455137,
          -0.8291643861352438,
          2.254301054460302,
          -1.6647404367691507,
          -0.36493442993160563,
          1.0327203670958465,
          -1.3544156932325335,
          -0.33426881568089,
          0.7574837599748538,
          1.2338534419344238,
          -1.0928037173878238,
          -0.6047784922284923,
          -0.3457099097402957,
          1.6201208512777725,
          -1.7283846471539492,
          0.4721883744000881,
          -0.008922107797227019,
          -1.4379182752817798,
          -0.25821670876922537,
          1.7238093499477858,
          -2.8022754162711556,
          -0.5352536501535897,
          1.0510243326282893,
          -2.3413896081475327,
          -0.2488401526868,
          0.6297438264432607,
          1.4509570023811194,
          -1.267274082169666,
          0.15840942917147638,
          0.048757958666738155,
          1.3139531613597741,
          -0.5084653012458976,
          0.765701351245163,
          0.7328501901031185,
          -1.261047581110766,
          -1.035181543868351,
          1.7756403404011962,
          -1.9458683058118096,
          -0.5162406515189785,
          1.5574767980315891,
          -1.9508387937000216,
          -0.8550158550880129,
          -0.5258147293723263,
          1.6454315549836527,
          -0.9287168098630395,
          0.5271687687332902,
          -0.0009602109602516173,
          3.312359600469164,
          -1.5022539572467806,
          1.4554522147831441,
          0.0340028399293279,
          -0.9612776462060187,
          -0.5529690312411369,
          1.3123470647772213,
          -2.663711205212428,
          -0.2290452790986532,
          1.66701781447736,
          -0.3117737197186379,
          -0.766427720713709,
          0.41579999333106715,
          0.7200347647345418,
          -1.3442901887385486,
          -0.7292213372773508,
          -0.5462180181018187,
          2.868386513261622,
          -2.1130687481889954,
          1.2735616001319583,
          -0.26601048341584177,
          -1.5864767593615758,
          -0.19474563110850118,
          1.7655049338362985,
          -2.746962239447709,
          -0.44940256595829353,
          1.5632867588258441,
          0.08381870708702877,
          -0.2721048964732295,
          0.5950826428194025,
          1.7016122186659368,
          -1.4046374607099965,
          -0.1049480378186447,
          -0.032208038736864175,
          1.553531608750363,
          -2.702966907132069,
          -0.16252290604871011,
          -0.012755802315041032,
          -1.3440880443397902,
          -0.2904228974082356,
          1.6874468391239488,
          -2.289114893038489,
          -0.5189392592142988,
          1.468509012757552,
          -0.13415024418619925,
          -1.1496614141146415,
          0.37337278180884487,
          2.111052267218978,
          -0.4938797138401483,
          0.4751167309867902,
          -0.7988781901948169,
          0.733812348307818,
          -0.5616530973530673,
          1.5689860439240868,
          0.0910436379189675,
          -1.3836648473088766,
          -0.6481653056270762,
          2.395768689220752,
          -1.6289907575352234,
          -0.3778954270912428,
          1.7377680587545103,
          -1.8324929959416492,
          -0.4915448620760995,
          -1.9007260908083086,
          1.0168642106619687,
          -0.8869292046242455,
          -2.043994661213976,
          -0.28415333499077755,
          0.9418278456067957,
          -1.3582524826324107,
          1.3581302804587434,
          0.8163182633072162,
          -1.9525027712470955,
          -0.4793893800106168,
          2.0435750003899993,
          -2.9962122347031404,
          -0.5535392049591775,
          2.1980952610562863,
          -0.10886255799440869,
          -0.144186523687572,
          -0.8448253828844836,
          1.2650356795951871,
          -1.0252803623708213,
          -1.1051960494978128,
          0.16842458233218832,
          1.0484849088307018,
          -1.7267421079038816,
          1.6223361992935303,
          0.34760291385348463,
          -1.4579009253607522,
          -0.9356717243634524,
          1.790263025905665,
          -3.2485004970312956,
          -0.47529903312349375,
          1.52627025087024,
          0.5762785114742597,
          -0.8739858441170228,
          -0.43511163911070216,
          1.8022953505464305,
          -0.646107327839811,
          0.12314183528468736,
          -0.9985392104375801,
          3.4330106558503317,
          -0.4223169900593159,
          1.2924855806399587,
          0.4682105599859013,
          -1.2928533404893598,
          -0.44208065446709577,
          1.1427496026207322,
          -2.0229567924816716,
          -0.548049115960251,
          1.2489572617183955,
          0.2676705430591515,
          -0.14045674222759352,
          -0.8315325689632433,
          1.4162228232599192,
          -0.566874535095865,
          -1.175988986659377,
          -0.6509485505783283,
          1.767549708287628,
          0.5819715474907052,
          -0.1886970280812541,
          0.5331873322614572,
          -1.7187492256263794,
          -0.662794991522943,
          1.9677694526154372,
          -2.396553831616904,
          -0.4750295264331461,
          1.4369970765459086,
          -2.0766016681223287,
          -1.0491272052296892,
          -0.22553075401043343,
          1.636120068908331,
          -0.7192564885104947,
          -1.128928451295996,
          -1.0368499748414404,
          2.4809842990436675,
          -2.209290279248365,
          1.2567638221680577,
          0.8257831529581203,
          -1.8163160745091633,
          -0.8751022776023254,
          1.469171112706515,
          -1.9645546729370178,
          -0.33995604139157737,
          1.2331334857336569,
          -0.7582622383421901,
          -0.3166764649198908,
          -0.7115019940281959,
          1.1820931778351433,
          -0.20228997129196186,
          -0.851340908925019,
          -0.9799541389831754,
          2.0533668613816722,
          -1.442006627861414,
          0.5996033334513882,
          0.8306929220525002,
          -1.8061349152506838,
          -0.574045721374566,
          2.2069177252449443,
          -1.6861756526624783,
          -0.3452446805581195,
          1.8599467936248815,
          0.2780010303644722,
          -0.69944642433476,
          0.6252454113630195,
          0.6378071916475471,
          -0.5745712537770502,
          -0.12556998138413966,
          -0.2157144240615876,
          2.7502462290734893,
          -1.1933679817704859,
          1.6617891992212794,
          -0.09913179644609854,
          -1.3214632758263951,
          -0.2858147513637366,
          1.8333717877734663,
          -2.7058018039408447,
          -0.2700650835116991,
          0.8647092653190518,
          0.14769379744826905,
          -1.1395714930571708,
          0.3356323267021671,
          1.3240953409480904,
          -0.46146975476916596,
          -0.7585959794401099,
          0.1358349201545352,
          3.6939293577769647,
          0.4227333003284435,
          1.0779238883308297,
          0.8127047097692356,
          -1.5652601260805312,
          -0.34650604751784553,
          1.298323322884444,
          -2.1440895658068295,
          -0.3946951950846587,
          1.3456343881072992,
          1.3750496952725157,
          -1.1223757340686986,
          -0.3256550035188035,
          1.5034216842858703,
          -1.0290304656858162,
          -0.537261359016955,
          -0.22865152239383255,
          0.5455727927763678,
          -0.34435129264897113,
          0.7037695485315547,
          -0.32383526537116847,
          -1.6813374886796029,
          -0.4569868150240936,
          1.397395116321483,
          -1.460993385346654,
          -0.38962841370797396,
          0.9508973676034049,
          -2.7402543144235314,
          -0.8235524984912753,
          0.42413390342486673,
          1.48939532349046,
          -0.8262094748597463,
          -0.5460366322369868,
          -0.4672310037855475,
          1.6553425223250777,
          1.4414713288029541,
          1.4875022863614233,
          -0.18430327366760296,
          -2.0391410523674334,
          -0.46435165003205847,
          1.9722580359407473,
          -2.305979516117236,
          -0.4360144889536266,
          1.2506031602375385,
          -0.9082186885192216,
          -0.7960045342701233,
          -0.10362122042408826,
          1.445143242633927,
          -0.2532152702934875,
          0.20286139472678322,
          -0.08815124291883303,
          3.390054906295692,
          0.0482061551037023,
          1.8945513044145286,
          0.716426330129688,
          -1.4566014425095593,
          -0.21002292350054874,
          1.4016804834164123,
          -1.5803959153716811,
          -0.4356650985469704,
          1.8304821983484993,
          -0.31501128795720346,
          -0.9692856836201497,
          -0.38012643362080645,
          2.3497001124061807,
          -0.8079835266731132,
          0.4568000846274839,
          0.3713264269716879,
          2.191100405719373,
          -2.095693497795673,
          1.3706309982859157,
          -0.30546373182697883,
          -0.9487912266092797,
          -0.30802481965295025,
          1.1208795841956283,
          -2.00490418672028,
          -0.4435042804151312,
          0.9375370680361248,
          -0.1550294014400997,
          -1.5051510102295007,
          -0.6051824096248479,
          1.1993156786892416,
          -1.0922117096851358,
          -0.7247380997033412,
          0.22496930380453545,
          1.9278460823681607,
          0.09083082500340045,
          0.09191395794306423,
          -0.33879273481015804,
          -1.3151377889421252,
          -0.6703839045550309,
          1.2552866004216945,
          -2.7374191818355644,
          -0.3917938669858114,
          0.7468081988078172,
          -2.2956971637224353,
          -1.8877955151453107,
          0.48740224299459795,
          1.9266833854360454,
          -1.105224832754232,
          -0.14932090765001416,
          -0.16658985607108612,
          2.7764764063049414,
          0.08876614915109116,
          1.3520017831232094,
          -0.24163505648918793,
          -1.2527008104210982,
          -0.7942412938255177,
          1.597155350524441,
          -2.883754619052006,
          -0.46780001197636817,
          1.2237784811560461,
          -0.460860544754599,
          -0.3255051515029315,
          0.39706571100976,
          1.9628762622896097,
          -0.5952187557846083,
          -1.6121262909609326,
          0.1853365736360449,
          1.1477133542297635,
          0.45062695067035086,
          1.2834654117371456,
          1.5633703452122354,
          -1.4087536000536673,
          -0.6423889544288013,
          1.5664704797640505,
          -1.787360577591203,
          -0.41592395346287475,
          0.8955744300840689,
          0.17072976889271763,
          -1.4296093208057932,
          -0.2026622694219209,
          2.273460559066477,
          0.20001555515736846,
          -0.32345115811322284,
          -0.8182691791520484,
          1.8746751029341073,
          -0.40679935957606483,
          1.40933564168439,
          0.24633329727471798,
          -1.8921445739211569,
          -0.26057461231390433,
          1.5236808235397175,
          -2.172816015253339,
          -0.18025506386758272,
          1.0574964459243419,
          -1.1974090596315663,
          -0.6553511985819341,
          0.11227821098089569,
          0.5150044936798965,
          -0.027012330723500844,
          -0.5366906852204067,
          -0.2708530646423505,
          2.323561811013397,
          -1.702380501744761,
          0.7422696546635832,
          0.6607799527821498,
          -1.8046895682717219,
          -0.40090214590529,
          1.2640367860486994,
          -2.712437270786881,
          -0.4075136754690054,
          0.9043637402967788,
          0.4563938769116158,
          -1.0213333287376543,
          -0.7035138798627436,
          1.5864918350707218,
          -0.23448875644669298,
          -1.0855770473462076,
          -0.08975853087386748,
          3.074692890820695,
          -1.6544150277992564,
          1.6057421531242149,
          -0.06417018242613176,
          -1.3346052463110099,
          -0.7641864052864004,
          1.7421916787360419,
          -2.371428178244877,
          -0.39425670748995023,
          1.6943488868476113,
          -2.389844443839408,
          0.02839709088470055,
          -0.16527137847352502,
          1.2298387389396868,
          -0.8116671383979447,
          -0.06384135483315972,
          0.2881077428572207,
          2.295848533749175,
          0.33270067043658313,
          0.26619089650147365,
          0.5185164331079977,
          -1.2486981815463964,
          -0.5747476333251105,
          1.5976809972394939,
          -2.1797805842235545,
          -0.47466079158360447,
          0.6737183027453252,
          -3.2877127999787237,
          -1.1665634976699568,
          -0.6383782323502412,
          1.362309981011238,
          -1.1750987111251505,
          0.05941227858199705,
          -0.3864664330428239,
          0.9279022564457862,
          -2.106158207238116,
          1.322689917932585,
          0.8719199990208899,
          -1.4138070924394228,
          -0.7224699409343996,
          1.6501562551036992,
          -2.0930941780997263,
          -0.2694324612632976,
          1.234408689474494,
          -1.4896714193534097,
          -1.2413799155243979,
          -0.3468459156668618,
          1.3419729303216086,
          -1.4565580155702542,
          -0.6078760598665081,
          -0.5337692648002177,
          3.0150142847871004,
          -0.016894726189435216,
          1.3170047292120766,
          0.882846066286599,
          -1.7508084227328535,
          -0.907616523318848,
          1.4560366079132332,
          -2.3437816541441148,
          -0.34388378462209457,
          0.7064971958733245,
          -0.8849655009191321,
          -0.5544312645255758,
          0.4628512480557619,
          0.8022142979911193,
          -1.774283143240635,
          -0.47888453416828125,
          -1.2812928553380738,
          3.5144701446332602,
          -1.6143556390735412,
          1.6764530171715486,
          0.6264749268760355,
          -1.6103030863150183,
          -0.26448583419120664,
          1.3115675832323137,
          -3.05460331574564,
          -0.4308175304617338,
          1.314209282667352,
          -1.1647817652687553,
          -0.6058742201175413,
          -1.4392526093663887,
          1.1753980450782224,
          -0.27071475757968794,
          -0.8042836906344325,
          -0.04202669616411192,
          1.9088810877053075,
          0.3848392604360493,
          1.193190600474254,
          -0.5409941185687712,
          -1.7935102542697672,
          -0.9127402250363876,
          1.6556627574055611,
          -1.5911942397225354,
          -0.43441945096596063,
          1.2525781227375095,
          -1.3839241634221273,
          -0.6591172309212304,
          0.8522739411402338,
          1.8659271516356637,
          -0.821263287064471,
          -0.3601962005961389,
          1.0680296243540481,
          3.747798060830923,
          -1.254727374540755,
          2.289292394771379,
          -0.6777766692096333,
          -1.7295414604734494,
          -0.6990652416786174,
          1.4752481561732582,
          -1.9239197932312124,
          -0.4454626403702454,
          1.173816434499031,
          -2.7926066008000916,
          -0.9925338394465016,
          -0.8433834393053037,
          2.0469965715602925,
          -1.1955218261391614,
          -0.27787067961333634,
          -0.863899879279061,
          2.196768773307211,
          -0.28577767557349276,
          0.7924446002758314,
          -0.8697969701348549,
          -1.7210338393911964,
          -0.4808683760735292,
          1.067389250011291,
          -3.543186576058333,
          -0.50173725902481,
          0.5968965675333153,
          -1.4926199485933536,
          -0.9373887749743504,
          -0.5055291702204658,
          1.4311510665390663,
          -0.9846991219625778,
          -0.09002541613512138,
          -0.14356171948638707,
          1.3530583097526354,
          -0.9658468158036074,
          0.43103892272127575,
          0.33378182723259137,
          -1.7251601655060056,
          -0.6569238503608432,
          0.9789187777008628,
          -2.128344630368044,
          -0.38083062784307414,
          1.1718919405494175,
          -2.438722155644755,
          0.15136745852513134,
          0.05112945543963779,
          2.132165613202326,
          -0.9660000548145014,
          -0.8521916108516944,
          -0.07343812138405575,
          1.1019058913666375
         ],
         "xaxis": "x",
         "yaxis": "y"
        },
        {
         "alignmentgroup": "True",
         "boxpoints": "all",
         "fillcolor": "rgba(255,255,255,0)",
         "hoveron": "points",
         "hovertemplate": "variable=0<br>value=%{x}<extra></extra>",
         "jitter": 0,
         "legendgroup": "0",
         "line": {
          "color": "rgba(255,255,255,0)"
         },
         "marker": {
          "color": "#1F77B4",
          "symbol": "line-ns-open"
         },
         "name": "0",
         "offsetgroup": "0",
         "showlegend": false,
         "type": "box",
         "x": [
          -1.8907486596679226,
          0.019034050888091625,
          0.7753714576703867,
          -1.4073441006120202,
          -0.11474349008280299,
          1.6926916272506836,
          -1.4897618659034422,
          -0.3186854068688599,
          1.6477847814052233,
          -0.3140646573493685,
          -0.6195839772379806,
          -0.23883595404795974,
          1.1882570184269619,
          -0.9255036167885997,
          -0.9184034811976273,
          -0.3480661524237703,
          2.426314110450128,
          -0.11691358762224868,
          1.7257347952029294,
          1.6350231775540112,
          -1.5693174169719841,
          -0.6304696013730187,
          1.3032873301499674,
          -1.8211932756785822,
          -0.3824056890908931,
          2.036675272859217,
          -0.042276083593904557,
          -0.7650553321252396,
          -0.4026212982441909,
          1.912640649564306,
          -0.6702511078578804,
          -0.5287882772119032,
          0.4388531287583865,
          1.6009693409505776,
          -0.514526775818276,
          1.8256808061712473,
          -0.2538443458920405,
          -1.383534561344697,
          -0.8974620090330769,
          1.4716592102582076,
          -2.33306509764706,
          -0.6197917616420476,
          0.9620941324747023,
          -0.502352260031262,
          -0.8626829696726682,
          -0.6806370060445559,
          1.8823574859238357,
          -0.43330309314228954,
          0.17609597413135836,
          -0.33980389484581525,
          1.014166117946774,
          -2.173026900794835,
          0.39446561114621914,
          -0.0151830600053387,
          -1.637246817609958,
          -0.35493764074077866,
          2.3452276238540533,
          -1.6810506036077477,
          -0.44078243415162016,
          1.2683491688723878,
          -1.658083156592198,
          -1.1249905943403764,
          0.5840372377467229,
          1.5106853694462525,
          -0.011173609026848719,
          -0.2916863691540894,
          0.39096821668245124,
          1.679756618107266,
          -0.711301776896931,
          0.34881210050327405,
          0.19720109331322944,
          -1.7158563686875279,
          -0.6313235804760773,
          1.1954918993542627,
          -2.888795917786079,
          -0.4196317938834694,
          1.4424924892887143,
          -1.1046596031558298,
          -1.3507929755921626,
          1.5791465923748655,
          1.8341461128516876,
          -0.23368697586171588,
          -0.4105997246914948,
          -0.5076272919725543,
          1.9671416276577913,
          -0.7336333389531297,
          0.5869376586477744,
          0.8860089769679225,
          -1.2213807076900152,
          -0.8579448409486501,
          1.7552177943807763,
          -2.8209979288690223,
          -0.398839511064032,
          1.5448855938414043,
          -3.1298890539929127,
          -1.5534374132182185,
          0.1778906993970435,
          2.1199989571675717,
          -0.5640133604621035,
          -0.8791036193830226,
          -0.7316084479311066,
          3.0070281954417077,
          -0.980202716526718,
          1.089895502470725,
          1.2713996721782883,
          -1.3852269118966918,
          -0.6427784364443783,
          1.3182188120847822,
          -1.5827129100677073,
          -0.6044813734652282,
          1.1653590571848245,
          -1.2276473574094746,
          -0.7451569915860768,
          0.8972341426398867,
          1.7999510259361646,
          -0.5973339306840927,
          -1.1794279238941492,
          -0.22567707789395716,
          1.5822861748763168,
          0.5433489162445027,
          0.9815189250314649,
          0.2892983089625948,
          -1.5890459863686819,
          -0.5584730982254725,
          1.5916604988438503,
          -1.555899491206282,
          -0.4184987318109216,
          0.8321935170786667,
          -0.6370240191836282,
          -0.9385241304846628,
          -0.7561833910268254,
          1.5615128234672009,
          -0.15751574610900826,
          0.24671067067100882,
          -1.8997321262567608,
          2.721917134192724,
          -1.551554214846007,
          1.7789318317817768,
          -0.575708998899271,
          -1.5275918425152746,
          -0.3796677872425259,
          1.502803420013314,
          -2.6019227379624073,
          -0.542348805010445,
          1.233019043905028,
          -1.916606934779691,
          -1.6211736465694329,
          -0.07747611183662562,
          1.404214909135842,
          -0.7908292464426343,
          -0.4722580443589809,
          -0.5005307881433136,
          2.2299204157806636,
          -0.6619918401956401,
          1.1721033284081557,
          0.27695048960093965,
          -1.7165418165101864,
          -0.6331233162357787,
          1.8259365217446275,
          -2.449821210859658,
          -0.3305212772004971,
          1.0215137967172794,
          -1.5692861239077205,
          -0.3909493355694216,
          1.1730740359481562,
          1.301241622987678,
          -1.2380037101306844,
          -0.6447427655425634,
          -0.389244584140296,
          2.401016923280335,
          -1.0683005816180682,
          -0.006623931791286619,
          -0.12210236585767853,
          -1.8597130463394287,
          -0.6366496940630771,
          1.590642606671023,
          -2.822374091816051,
          -0.5196943009829582,
          0.6846518866936816,
          0.1465187750848136,
          -0.4159182279934003,
          -1.6969228388799609,
          1.628183899938995,
          -1.1740858328188888,
          0.04937659211178491,
          -1.2186016116017115,
          2.5067334738149203,
          -0.31340583864675486,
          0.9497046829068397,
          0.6303679434884313,
          -1.5973090435508897,
          -0.38134132375573954,
          1.5769881519499014,
          -2.402735306671383,
          -0.4355524500734343,
          1.2187879339141139,
          -1.251270961993828,
          -0.2558235474786411,
          1.6141505785730959,
          2.0639186662204825,
          -0.45929209770301144,
          -1.2348677217317228,
          -1.135466245319735,
          2.9859948395716978,
          -2.527628490549371,
          -0.2901964592969426,
          0.37305043705625063,
          -1.321062865135116,
          -0.5609358988354612,
          1.8556026670235966,
          -2.514333535691794,
          -0.4288956794337427,
          1.5954592115231518,
          -0.9085284449663678,
          -1.5008958519331377,
          -1.0180288047190356,
          1.5896154801320685,
          -0.3816084489118756,
          -0.3259587936770953,
          0.015892117509536896,
          1.7820790356467089,
          0.0814333479238385,
          0.3230423206267542,
          -0.7451691506747375,
          -1.6882181496776323,
          -0.28168849209762326,
          1.567775001217778,
          -2.0627614697630756,
          -0.5514465861465545,
          1.6084148997985273,
          -1.5928800446337605,
          -1.2006111619875366,
          0.461812101955088,
          1.3476641653899621,
          -0.37643261499406044,
          0.023004989738761195,
          -0.48314306124462325,
          2.6094790855621284,
          -1.6237294938311568,
          0.8127630317415682,
          -0.22547563396576065,
          -1.6249671461140327,
          -0.533112138556328,
          1.3910433956288686,
          -1.9367009741400223,
          -0.6051377789013948,
          1.508386133233907,
          -2.0666277171896184,
          -1.0121187228935142,
          -0.7513654056292249,
          1.658164733104786,
          0.12232080782839583,
          -0.16015993088330588,
          -1.5409419458186542,
          2.630817106302421,
          -0.7953310708395831,
          0.1575682582619985,
          0.5660078959924203,
          -1.2887322964248442,
          -0.4168241879950586,
          1.8219639181582488,
          -2.6835829700976266,
          -0.29521962494905957,
          1.1872662741517337,
          -1.7440076988098778,
          -1.2292865230077314,
          0.0012019685410644965,
          1.6488312857836123,
          -0.29695109329232683,
          0.12922349338309602,
          -0.5128326817870943,
          1.101732627199461,
          -0.44180443399101876,
          1.5823269978405239,
          0.5844830595504344,
          -1.5495554880846139,
          -0.9722126017700095,
          1.6296370201392505,
          -3.0503499485908523,
          -0.4803562675265696,
          0.6770533995052986,
          -1.3335444716141323,
          -0.7503915052732392,
          0.7745596291111265,
          1.6179270626229165,
          -0.7114956136470492,
          -0.12202303719288221,
          -0.5823958479966335,
          0.03750811056137682,
          -1.9947833344306236,
          1.2289873111941296,
          0.18626344782632748,
          -1.9121404426902526,
          -0.27370340959488476,
          1.2404819607484685,
          -2.1742528333088784,
          -0.46744420367432393,
          0.8274637785956404,
          -0.8321127071765362,
          -0.14341857488840148,
          0.0521080683601616,
          1.4535748241086799,
          -0.8995878790670266,
          0.09443762231352448,
          0.5256899655349221,
          1.4215819902836087,
          -2.7667427414484926,
          0.66088715310841,
          0.154080802540912,
          -1.6010015572163714,
          -0.7294935232657094,
          1.159912622546455,
          -2.2927660352487016,
          -0.5015392146160128,
          0.4125364175780638,
          -2.7119935502020676,
          -0.23211319394000435,
          -0.3334512200414529,
          1.569445593026001,
          -1.4751012661437,
          -0.6113167911463608,
          0.20426482460249146,
          2.554198027466753,
          -0.9011675066841142,
          0.9620047983739218,
          0.7956081274601605,
          -1.3063226032805015,
          -1.0664575448463234,
          1.777189523144389,
          -1.9484962812649713,
          -0.36302150044115894,
          0.9651054004358154,
          -1.0216968590493403,
          -0.7466240941519594,
          -1.1003224311063837,
          1.7390861635281278,
          -1.096431541221874,
          0.2764958754425292,
          -0.37040816393756304,
          1.9249898343665683,
          -1.3368887474838482,
          0.9122378485646788,
          1.1167381860085777,
          -1.2848449054065774,
          -0.6577009045213794,
          1.696859908513863,
          -2.6501217255007914,
          -0.589590949203022,
          1.6331039444062685,
          -1.5807882611178212,
          -0.5381938527345342,
          -0.8060401653252571,
          1.4264985667678214,
          -0.2755771141269652,
          -0.8831398001775195,
          -0.05473092326983159,
          3.0213610174327323,
          -1.4482438156517723,
          -0.5895703921099884,
          0.1992823404202731,
          -1.3664442790467117,
          -0.6331920137329208,
          2.105433034781309,
          -2.384256629958252,
          -0.5215531342499707,
          0.7320919681362897,
          -2.3908824382293954,
          0.30924643423750753,
          -0.2095860505775809,
          1.7685587911136607,
          0.4657738722111433,
          -0.6863866739829246,
          -0.5289752227210403,
          2.0164540540292,
          -2.0570267890111253,
          0.7456232008902051,
          0.8821726701460749,
          -1.69898573978395,
          -0.6959743168685008,
          1.6597665870474472,
          -2.4059067090160484,
          -0.41413519091982065,
          1.3377978954877687,
          -1.424553540165243,
          -1.14092611187234,
          -0.33187643320426047,
          2.186471957993862,
          -0.4191156542407999,
          -1.0764615082558682,
          0.0006665021942320326,
          4.196628001168895,
          0.8221875554588545,
          0.49008296012712615,
          1.1589769730483206,
          -1.3674972007982906,
          -0.3081343299529352,
          1.669120217990169,
          -2.7098254886147157,
          -0.4108359666598358,
          1.7204650208732877,
          -0.816844175559666,
          -1.3026001069901927,
          -0.4131750513112752,
          1.6112267302405359,
          -0.836497455240965,
          -0.22593182153751426,
          -1.6997885835208297,
          2.732290940898477,
          -0.255679980822624,
          0.2689381997078366,
          0.9637675469249604,
          -1.4859821855273754,
          -0.6981305105515117,
          1.6591319380125644,
          -2.2424868222859673,
          -0.46688619253461183,
          0.054039040910911496,
          -1.3413072087899751,
          -1.2282084570275427,
          -0.8064719534485116,
          1.4622387641789985,
          -0.4103931209436733,
          -0.27141371275767356,
          0.019524663805514153,
          2.250171453747962,
          -0.9375855602044274,
          1.3552724883201694,
          0.8063485498684516,
          -1.0963443425825885,
          -0.41243542317698445,
          2.122717594117744,
          -2.3848565042520775,
          -0.44828968608281444,
          0.5950055526977986,
          -3.241953611951838,
          -1.3144744667687611,
          -0.04264301943744473,
          1.0541336078117511,
          0.2826910661977198,
          -0.7948130939741586,
          -0.6826085071186945,
          2.2421419021622735,
          -1.18537134628861,
          1.602860912535987,
          -0.19235734746853128,
          -0.9246113302185046,
          -0.7071341962291194,
          1.2342227726092405,
          -2.269622378328059,
          -0.49279460495000793,
          1.2198874845316787,
          -2.506438563757836,
          -0.9002829307324689,
          -0.6832905924164412,
          1.599315258048928,
          0.12457407673913057,
          0.43283941839330087,
          -1.0529051530479197,
          1.166227622639606,
          0.19988891388533725,
          0.9189275104158442,
          -0.5625481608130889,
          -1.7201663551074386,
          -0.8710576216951089,
          1.6346852661690252,
          -2.111120881782769,
          -0.5280393880144044,
          1.7913408293182604,
          -1.011795189953178,
          -0.6643071510737725,
          0.3927530883257173,
          1.2378205511656275,
          -0.699243312013553,
          0.12582050248168575,
          -1.1943148450834558,
          1.5746214892662538,
          -1.5862812221766724,
          0.7024533472052357,
          1.0554269008369976,
          -1.3173583125162582,
          -0.6761229601231098,
          1.7813142517940248,
          -1.569237525001686,
          -0.279282468463697,
          1.2971052934793554,
          -0.6046754374609624,
          -0.4080509393331204,
          1.788655317179008,
          1.3335272510160485,
          -0.5192905143962436,
          -1.567651023314219,
          -0.4432677997881085,
          3.1112268537384087,
          -1.6562963400944977,
          1.7636058057287363,
          -0.08941475324236597,
          -1.1910952835017672,
          -0.624264113704327,
          1.6397885914214796,
          -2.8483375961093094,
          -0.5808013635934697,
          1.1656305685995623,
          -1.933243533973921,
          -0.7386343449975227,
          -0.5827783720507123,
          1.1337852945866365,
          -1.6301772147219484,
          -0.5559785165350217,
          -0.5086013716327179,
          3.390069288979581,
          -0.497839362374378,
          0.23827042070092352,
          0.9359853187946838,
          -1.757551416321417,
          -0.5566072417921232,
          1.5920673761693085,
          -2.426418568399791,
          -0.410382437428693,
          1.4474500155236167,
          -2.447940980137913,
          0.03377241456098812,
          0.7146748384893022,
          1.2988498707668794,
          -0.5813388318465116,
          -0.9873708407570116,
          -0.1004225882953294,
          2.242962294226507,
          -1.5842825572264325,
          1.1846138926931682,
          0.46493028892385935,
          -1.4266469031194482,
          -0.7407595070445017,
          1.3222032344283656,
          -1.8840944005058047,
          -0.4258267036312816,
          0.942806184829827,
          -2.123175022637674,
          -0.29631270181085156,
          0.45550970407340824,
          0.6943634793147099,
          -0.4908963045907913,
          -0.17621405829376763,
          -0.8060805395737342,
          1.5993857563398577,
          0.6601002398548388,
          1.0771319825792358,
          0.30012785483023774,
          -0.8662412688169473,
          -0.25433248362826,
          1.8291479720742112,
          -1.9355822567909846,
          -0.421084181217851,
          0.9268437972755403,
          0.09825901371764001,
          -1.382904219531336,
          -0.6591988609095925,
          0.9544351638457709,
          -0.09572737269965725,
          -0.696757792194143,
          -0.26550916549803594,
          2.5456704347618233,
          0.4952322682036021,
          0.8546100453616023,
          1.0560025161735043,
          -1.2633011948668242,
          -0.11136601637264781,
          1.237555919851995,
          -2.334957637568249,
          -0.4307887601642064,
          1.2780366989651408,
          -0.23250201613469057,
          -0.5916491280574756,
          -0.6084916608038955,
          1.1955122486008136,
          -0.5121209832504335,
          -0.2864543729860918,
          -1.1493111434514374,
          1.576435248814348,
          -2.221535703253526,
          1.0180871155886395,
          0.18755968943533513,
          -1.611166051590288,
          -0.6381172072728032,
          1.7373896750044753,
          -3.215186928143315,
          -0.4714606025735268,
          1.5334852201483944,
          -2.0765629611035794,
          -1.646032008136756,
          -0.21266047020516882,
          1.5345992778026716,
          -1.074143535613661,
          -1.0677400799775776,
          -1.3234978893221083,
          1.494049433328723,
          -2.821474457089071,
          0.8274922468323647,
          0.30477604468139674,
          -1.95648903447751,
          -0.49649944813145325,
          2.0050884458985037,
          -1.8454794430061798,
          -0.5500023709510508,
          1.1418009690499997,
          -2.671199389398148,
          -0.7172795245394232,
          0.5281783652446825,
          1.2683439849007656,
          -0.9665139067811814,
          -0.5647550445623366,
          -0.2291972750566288,
          1.9648128685283377,
          -1.7250487489780593,
          1.1351996917313107,
          -0.10352856457476917,
          -1.076145534788058,
          -0.632549821650114,
          1.824387587723949,
          -2.4239773961762934,
          -0.3661062322132008,
          1.807547379509942,
          -2.4457017401118435,
          -1.0636627915692527,
          -0.6425684023932694,
          2.1809923540989757,
          -0.6608061073807646,
          0.9144565636161177,
          -0.8439167452892921,
          2.44985070692442,
          -1.0235509529561913,
          0.330209857134354,
          0.7649565869351242,
          -2.1027346754247995,
          -0.7870060867165309,
          1.8294101811348167,
          -2.1128909771733184,
          -0.21186744575900593,
          1.5561539936078899,
          1.1720053175085292,
          -1.1969355408975078,
          0.18080308052284716,
          1.827236181639537,
          -0.08950198119277453,
          0.2654965487524299,
          -0.8845999306391803,
          2.384418961208053,
          -1.7227126247191555,
          2.4326104416351746,
          1.1456404262921374,
          -1.9089845897825375,
          -0.8511917923210698,
          1.3025888029002028,
          -1.999460434842617,
          -0.3579796563705277,
          1.0405823379732333,
          -0.5161143674529496,
          0.651150160421843,
          0.4772577590815314,
          1.6632697216747356,
          -0.521197303144424,
          -1.0158004396630167,
          -1.4996475083280192,
          2.868602619200052,
          0.2910885275412731,
          -0.1450927980326413,
          0.775406342897248,
          -1.6448825880847047,
          -0.6903947790625877,
          1.535836839702247,
          -1.8727389411135098,
          -0.4941569850185278,
          0.9003716391945604,
          -0.47057802817183064,
          -0.9553356935543065,
          0.05059085795171692,
          1.7047724219190494,
          -0.8319285306681621,
          -0.13287178148322243,
          0.22860420976767676,
          3.006510372485801,
          0.11611349003754601,
          0.9277855894117563,
          0.6940191951991138,
          -1.4220865182789022,
          -0.5492175658474632,
          2.1812127192232857,
          -4.032025015259081,
          -0.43669466781314226,
          1.2784207257825806,
          -1.3487702367850718,
          -1.2293017099108439,
          -0.2850524536582638,
          1.4350789667540822,
          -1.1165611080037983,
          -1.2297275023812628,
          -1.258703579279055,
          2.1296163633952916,
          -1.7637415696756724,
          1.5886160358848593,
          -0.04786705208913794,
          -1.5929617016809197,
          -0.5847590136531876,
          1.8147530751865046,
          -2.7962265234710753,
          -0.3508856072508912,
          1.6089025888474329,
          -2.4276425161370523,
          -1.3059998589792337,
          -0.4073412073263585,
          2.020773610579682,
          -0.36927733901138815,
          0.4298073851308606,
          -0.8050386827210383,
          2.0389438095379897,
          -0.894044516456848,
          0.9878312202978561,
          -0.5626357619119114,
          -1.697847211111077,
          -0.8745500934619421,
          1.2441458581073845,
          -2.6693633653127185,
          -0.29820695212897863,
          0.9517059252352791,
          -4.064783956696917,
          -0.7502100836472847,
          -2.296874749525485,
          1.2345196639727787,
          -1.595790812924138,
          -0.1825097474015,
          -1.8212104198314747,
          1.1704962379853032,
          -0.3701683766927807,
          2.4726210715345407,
          0.4298106110316027,
          -1.502147446281353,
          -0.6604436559072605,
          1.4811126534208217,
          -3.17651262437317,
          -0.4748263271012498,
          1.6710019579419781,
          -1.397164106605921,
          -0.6863808189234978,
          0.6489539269098334,
          0.9101602301199153,
          -1.118699646832248,
          -0.7928037547358697,
          -0.47645367362185054,
          1.5437862936599096,
          -1.0180804008648057,
          0.6001378325635631,
          0.522748601702177,
          -1.7697105754364233,
          -0.3795959703450004,
          1.2966049467661835,
          -2.6758319928647643,
          -0.4498123677341743,
          0.4902030390071924,
          -0.9184405759616866,
          -0.679375823053121,
          1.5507787660695973,
          1.4729033847251867,
          -0.6922371786756699,
          1.0464162689123908,
          -0.6635294234754784,
          2.4297212563971797,
          -1.9415152925199166,
          0.3903583450114325,
          -0.051002486865496355,
          -1.4558364418074952,
          -0.49057859254261127,
          1.5572321690571875,
          -2.4342618703502596,
          -0.2862101990086272,
          0.7610460708794327,
          -0.4753797877484811,
          -0.2016405063925572,
          -0.9036086150655063,
          0.5938537547729761,
          -0.8013686078695179,
          0.028160624600629958,
          -0.4865280021207552,
          1.653960438790617,
          -1.6552524596260554,
          0.4489915174809389,
          1.4613186916788332,
          -1.2863214273455517,
          -0.7069662589722678,
          1.5117228553583693,
          -1.3905752665048927,
          -0.39815556554429893,
          1.7165865123830293,
          -2.320802650138302,
          -0.4098023441991814,
          -0.3063243073300872,
          1.6833281495684955,
          -1.0210062094491992,
          0.2612934286148696,
          -0.854968766089133,
          2.070346387457693,
          -3.7781804657387816,
          1.122614021071504,
          0.740462971393399,
          -1.6330873803901813,
          -0.5261485393583257,
          2.1118914022737743,
          -2.2708560115197605,
          -0.4425240466559744,
          1.375391450990728,
          -0.966683103330811,
          -0.6348946122760601,
          0.316048994305583,
          1.0817847740794533,
          -0.5672812351061309,
          -0.8574847672703395,
          -0.43551016049838376,
          2.7133589403297096,
          -2.8980485347014326,
          1.2959303490507068,
          -0.40595862766592494,
          -1.5531208400056529,
          -0.7290841416871017,
          1.6595362108989486,
          -2.3622260074881614,
          -0.45662706156659677,
          1.2794967490824825,
          -1.6709654518952206,
          -1.0568319215572433,
          -0.5300598086668556,
          0.7742950604872288,
          -0.34756552558315035,
          -1.0528230627091557,
          -0.5089977071509674,
          2.279207652838757,
          -1.934063668383994,
          1.4314393095652005,
          0.7072547181203496,
          -1.5308409403412082,
          -0.8278382928862237,
          1.7773468759616025,
          -2.1523205692556506,
          -0.5345267043037946,
          1.3499854703233594,
          0.9280954059938065,
          -1.0348964759224795,
          -0.3933781159901229,
          1.4445486369182112,
          0.12245729070164812,
          -0.10825952302686326,
          -0.8777804185398062,
          2.6022548549425846,
          -2.156989855336537,
          0.0015412576251363497,
          -0.33048496246608594,
          -1.5589104253178898,
          -0.547224795258409,
          0.8690163832051967,
          -2.1326150585502863,
          -0.2764561622030036,
          1.5626894014637913,
          -1.0538842638908188,
          -0.5157603744857424,
          -0.0428958072650829,
          1.6534446376200675,
          -0.25217549802225925,
          -0.060209342067362615,
          -1.003320890370929,
          2.3594310700818837,
          -0.25701183576911024,
          0.8607957785172353,
          0.42157651229495563,
          -1.5776345964781113,
          -0.3146062801146898,
          1.761284575241071,
          -2.1809292587002234,
          -0.43769818694700535,
          1.7550586220442057,
          -2.033305367912094,
          -0.12862998780381873,
          -0.3845548748863684,
          1.4892644701520645,
          0.21614794378741065,
          -0.463946096052173,
          -0.5191309477688035,
          2.11945915287028,
          0.09856864343011518,
          0.7254641666399628,
          0.9801065998974784,
          -1.7774134661011232,
          -0.7597412121896947,
          2.1235375122760725,
          -2.1649913539286967,
          -0.4718700897008184,
          1.4895190375042797,
          -0.8592422768032546,
          -0.19649323555579978,
          1.162865460009278,
          1.806799754003787,
          -1.0788502752992821,
          -0.01973622239822559,
          -0.698075206536748,
          2.104860219330258,
          -0.6143861287892081,
          1.4630226629385998,
          0.2686573135928489,
          -1.6996011308874877,
          -0.4046676489563287,
          1.8494422066331266,
          -2.2066143943101126,
          -0.4435032824181305,
          0.25871247751152704,
          -3.1671949250904574,
          -0.852671813134537,
          0.8107928594271183,
          1.1028047673554884,
          -0.37117939153959584,
          -0.22850513902207092,
          -0.17708933896110263,
          2.693248862327999,
          0.2918371086114251,
          0.43286193829751174,
          -0.5546404303080794,
          -1.369631276668349,
          -0.43597449865329696,
          1.499640978322103,
          -2.8425458713788907,
          -0.3249891764149671,
          0.6937422927705352,
          -0.7630327778876121,
          -0.559104714431026,
          1.2450341166661185,
          1.4455915217585367,
          -0.9298574807662504,
          -1.054461410756161,
          -0.6606119779024759,
          1.962790414861504,
          -1.4569150821525998,
          0.4357432583164794,
          0.4447245743305548,
          -1.3194128201133677,
          -0.7449570349926582,
          1.155791500586705,
          -1.5246859498145664,
          -0.5197879510839724,
          1.3768955192578407,
          -0.30213994218103435,
          -0.6864519431006084,
          -1.2064639289428618,
          1.3129371629594542,
          -0.5558965127280471,
          -0.07329197034607665,
          -0.2534797233685392,
          3.5301684144778163,
          -0.6535725735924465,
          1.1926525649418709,
          1.4607952815728773,
          -2.085620052991694,
          -0.5933039940558983,
          1.2633245470143626,
          -2.025966183584144,
          -0.47426678865020955,
          0.9989972843988781,
          -1.1435578193136398,
          -0.7598039471832183,
          -0.6000343489565001,
          1.9436545792654112,
          -0.740394022198495,
          -0.9237186637857181,
          -1.0215720070842105,
          1.6040633271480391,
          -0.45013764173759385,
          1.7672243865359634,
          0.7632796309488634,
          -1.6490202246618646,
          -0.7159265961332566,
          1.9630613777380028,
          -2.085862469286159,
          -0.4376582829888782,
          1.3632160309046282,
          -2.232531603399083,
          -0.6036366456613474,
          -1.2785626252607072,
          1.3128164878869781,
          -0.11481521361109648,
          -0.7462471983112086,
          -0.08952309403570108,
          2.9190099943675554,
          -1.5040089870708993,
          0.6220604263616762,
          0.23451434901331628,
          -1.3196609300788336,
          -0.6129817086607362,
          1.664002143366184,
          -1.4072232554427087,
          -0.4123045763863036,
          1.486441997841378,
          -1.05197408796604,
          -0.4918975160269923,
          0.15988852807258325,
          1.8944718404241008,
          -0.596458905582767,
          -0.7517653946828673,
          -0.8792531593014508,
          2.2491315108897285,
          -1.4460764020989316,
          1.1397370552568602,
          0.8616452870807143,
          -1.4435729840520017,
          -0.692667467220323,
          1.347736212828157,
          -2.1682160977718077,
          -0.5693567309377159,
          0.8925253985100587,
          -0.37445238058555197,
          -0.6477576868131879,
          0.5459388216471073,
          1.7750985363916834,
          -0.9127545104742395,
          -0.011499404784807987,
          -0.8488224658892061,
          1.6037002422486888,
          -1.7977137847417892,
          0.6366744113628471,
          0.4107426918106024,
          -1.2084728707731562,
          -0.6217657257969756,
          1.1803185396028528,
          -2.2672819357396565,
          -0.4609251796334245,
          1.3398983559529842,
          -1.8259854662254351,
          -0.47733374084756064,
          0.02644681634210211,
          1.4287413531232225,
          -1.179121132805507,
          -0.9710057493147332,
          -0.3748646169817245,
          2.7393616298463206,
          0.9762399355596139,
          0.41205430909203544,
          -0.8570292421399679,
          -1.6568446541948418,
          -0.31855866704495994,
          1.522156876901565,
          -2.3452380335554848,
          -0.4392322731125816,
          1.6928504795994825,
          -1.4945571571087288,
          -0.3123454766565963,
          0.4418703530491707,
          1.7476624028194874,
          -0.4652864562347381,
          0.22368584699420913,
          -0.967358030284166,
          3.208444026533246,
          -2.393870020133484,
          0.9411265054836575,
          1.2513495387720557,
          -1.5064268259846427,
          -0.819584111982449,
          1.7069122037212305,
          -2.1493546451735543,
          -0.3632461424454583,
          1.2817873340857884,
          0.4597722987189541,
          -1.02192091258301,
          -0.2484414967394882,
          0.95243370633383,
          -1.1911742895374415,
          -0.5012438812238404,
          0.03779156428853858,
          2.47374570850551,
          0.11157877758284518,
          -0.08914329336029159,
          0.5199665057110785,
          -1.9806246719735476,
          -0.5954826127856002,
          2.1480473886518663,
          -2.55825332211392,
          -0.2964165775099399,
          1.698324965169439,
          -0.10858454610806745,
          -1.0862395794371424,
          1.1769125135390255,
          1.0478245816917797,
          -0.5051073039063221,
          -0.18303795571611747,
          0.011056462924229349,
          2.9926781901240957,
          -1.0511568770369972,
          0.6977762675957244,
          -0.02144463059110685,
          -1.1361517780288457,
          -0.6606176125422828,
          1.9745305663854444,
          -3.2164723349863475,
          -0.14878972003926538,
          1.1221430175101776,
          -1.9806423732866625,
          0.4478017594608841,
          -1.3201718705360477,
          1.6804519462361687,
          -1.4003406686136182,
          -0.7306302225546142,
          -0.2659170722372668,
          1.5216926426654043,
          -1.8416138004189224,
          1.0187822565714453,
          0.2964278634687847,
          -1.000599002667809,
          -0.8179061092988258,
          2.155913507146797,
          -2.998280664008939,
          -0.530152145799523,
          1.482600213951391,
          -1.5531938047210934,
          -1.6829110705111385,
          -0.004559651298072329,
          2.3587835960940904,
          -0.9280623225873257,
          -0.49525820118527164,
          -0.17492067801536948,
          1.9156196182716727,
          -2.4242018397199283,
          1.2724012469252433,
          -0.056395990001419705,
          -1.7991783009706144,
          -0.3957604468073179,
          2.3695378453344107,
          -1.8567283441265636,
          -0.4217709362186852,
          1.2808954914637183,
          -0.8223361698759113,
          -1.0718533450463283,
          1.0426348136847705,
          1.5436927679660704,
          -0.8654826165358918,
          -0.7029236571258644,
          -0.03558823633852376,
          1.7129381558849586,
          -2.02239663926668,
          1.2412144434026842,
          -0.49822275348833334,
          -1.4447881954455137,
          -0.8291643861352438,
          2.254301054460302,
          -1.6647404367691507,
          -0.36493442993160563,
          1.0327203670958465,
          -1.3544156932325335,
          -0.33426881568089,
          0.7574837599748538,
          1.2338534419344238,
          -1.0928037173878238,
          -0.6047784922284923,
          -0.3457099097402957,
          1.6201208512777725,
          -1.7283846471539492,
          0.4721883744000881,
          -0.008922107797227019,
          -1.4379182752817798,
          -0.25821670876922537,
          1.7238093499477858,
          -2.8022754162711556,
          -0.5352536501535897,
          1.0510243326282893,
          -2.3413896081475327,
          -0.2488401526868,
          0.6297438264432607,
          1.4509570023811194,
          -1.267274082169666,
          0.15840942917147638,
          0.048757958666738155,
          1.3139531613597741,
          -0.5084653012458976,
          0.765701351245163,
          0.7328501901031185,
          -1.261047581110766,
          -1.035181543868351,
          1.7756403404011962,
          -1.9458683058118096,
          -0.5162406515189785,
          1.5574767980315891,
          -1.9508387937000216,
          -0.8550158550880129,
          -0.5258147293723263,
          1.6454315549836527,
          -0.9287168098630395,
          0.5271687687332902,
          -0.0009602109602516173,
          3.312359600469164,
          -1.5022539572467806,
          1.4554522147831441,
          0.0340028399293279,
          -0.9612776462060187,
          -0.5529690312411369,
          1.3123470647772213,
          -2.663711205212428,
          -0.2290452790986532,
          1.66701781447736,
          -0.3117737197186379,
          -0.766427720713709,
          0.41579999333106715,
          0.7200347647345418,
          -1.3442901887385486,
          -0.7292213372773508,
          -0.5462180181018187,
          2.868386513261622,
          -2.1130687481889954,
          1.2735616001319583,
          -0.26601048341584177,
          -1.5864767593615758,
          -0.19474563110850118,
          1.7655049338362985,
          -2.746962239447709,
          -0.44940256595829353,
          1.5632867588258441,
          0.08381870708702877,
          -0.2721048964732295,
          0.5950826428194025,
          1.7016122186659368,
          -1.4046374607099965,
          -0.1049480378186447,
          -0.032208038736864175,
          1.553531608750363,
          -2.702966907132069,
          -0.16252290604871011,
          -0.012755802315041032,
          -1.3440880443397902,
          -0.2904228974082356,
          1.6874468391239488,
          -2.289114893038489,
          -0.5189392592142988,
          1.468509012757552,
          -0.13415024418619925,
          -1.1496614141146415,
          0.37337278180884487,
          2.111052267218978,
          -0.4938797138401483,
          0.4751167309867902,
          -0.7988781901948169,
          0.733812348307818,
          -0.5616530973530673,
          1.5689860439240868,
          0.0910436379189675,
          -1.3836648473088766,
          -0.6481653056270762,
          2.395768689220752,
          -1.6289907575352234,
          -0.3778954270912428,
          1.7377680587545103,
          -1.8324929959416492,
          -0.4915448620760995,
          -1.9007260908083086,
          1.0168642106619687,
          -0.8869292046242455,
          -2.043994661213976,
          -0.28415333499077755,
          0.9418278456067957,
          -1.3582524826324107,
          1.3581302804587434,
          0.8163182633072162,
          -1.9525027712470955,
          -0.4793893800106168,
          2.0435750003899993,
          -2.9962122347031404,
          -0.5535392049591775,
          2.1980952610562863,
          -0.10886255799440869,
          -0.144186523687572,
          -0.8448253828844836,
          1.2650356795951871,
          -1.0252803623708213,
          -1.1051960494978128,
          0.16842458233218832,
          1.0484849088307018,
          -1.7267421079038816,
          1.6223361992935303,
          0.34760291385348463,
          -1.4579009253607522,
          -0.9356717243634524,
          1.790263025905665,
          -3.2485004970312956,
          -0.47529903312349375,
          1.52627025087024,
          0.5762785114742597,
          -0.8739858441170228,
          -0.43511163911070216,
          1.8022953505464305,
          -0.646107327839811,
          0.12314183528468736,
          -0.9985392104375801,
          3.4330106558503317,
          -0.4223169900593159,
          1.2924855806399587,
          0.4682105599859013,
          -1.2928533404893598,
          -0.44208065446709577,
          1.1427496026207322,
          -2.0229567924816716,
          -0.548049115960251,
          1.2489572617183955,
          0.2676705430591515,
          -0.14045674222759352,
          -0.8315325689632433,
          1.4162228232599192,
          -0.566874535095865,
          -1.175988986659377,
          -0.6509485505783283,
          1.767549708287628,
          0.5819715474907052,
          -0.1886970280812541,
          0.5331873322614572,
          -1.7187492256263794,
          -0.662794991522943,
          1.9677694526154372,
          -2.396553831616904,
          -0.4750295264331461,
          1.4369970765459086,
          -2.0766016681223287,
          -1.0491272052296892,
          -0.22553075401043343,
          1.636120068908331,
          -0.7192564885104947,
          -1.128928451295996,
          -1.0368499748414404,
          2.4809842990436675,
          -2.209290279248365,
          1.2567638221680577,
          0.8257831529581203,
          -1.8163160745091633,
          -0.8751022776023254,
          1.469171112706515,
          -1.9645546729370178,
          -0.33995604139157737,
          1.2331334857336569,
          -0.7582622383421901,
          -0.3166764649198908,
          -0.7115019940281959,
          1.1820931778351433,
          -0.20228997129196186,
          -0.851340908925019,
          -0.9799541389831754,
          2.0533668613816722,
          -1.442006627861414,
          0.5996033334513882,
          0.8306929220525002,
          -1.8061349152506838,
          -0.574045721374566,
          2.2069177252449443,
          -1.6861756526624783,
          -0.3452446805581195,
          1.8599467936248815,
          0.2780010303644722,
          -0.69944642433476,
          0.6252454113630195,
          0.6378071916475471,
          -0.5745712537770502,
          -0.12556998138413966,
          -0.2157144240615876,
          2.7502462290734893,
          -1.1933679817704859,
          1.6617891992212794,
          -0.09913179644609854,
          -1.3214632758263951,
          -0.2858147513637366,
          1.8333717877734663,
          -2.7058018039408447,
          -0.2700650835116991,
          0.8647092653190518,
          0.14769379744826905,
          -1.1395714930571708,
          0.3356323267021671,
          1.3240953409480904,
          -0.46146975476916596,
          -0.7585959794401099,
          0.1358349201545352,
          3.6939293577769647,
          0.4227333003284435,
          1.0779238883308297,
          0.8127047097692356,
          -1.5652601260805312,
          -0.34650604751784553,
          1.298323322884444,
          -2.1440895658068295,
          -0.3946951950846587,
          1.3456343881072992,
          1.3750496952725157,
          -1.1223757340686986,
          -0.3256550035188035,
          1.5034216842858703,
          -1.0290304656858162,
          -0.537261359016955,
          -0.22865152239383255,
          0.5455727927763678,
          -0.34435129264897113,
          0.7037695485315547,
          -0.32383526537116847,
          -1.6813374886796029,
          -0.4569868150240936,
          1.397395116321483,
          -1.460993385346654,
          -0.38962841370797396,
          0.9508973676034049,
          -2.7402543144235314,
          -0.8235524984912753,
          0.42413390342486673,
          1.48939532349046,
          -0.8262094748597463,
          -0.5460366322369868,
          -0.4672310037855475,
          1.6553425223250777,
          1.4414713288029541,
          1.4875022863614233,
          -0.18430327366760296,
          -2.0391410523674334,
          -0.46435165003205847,
          1.9722580359407473,
          -2.305979516117236,
          -0.4360144889536266,
          1.2506031602375385,
          -0.9082186885192216,
          -0.7960045342701233,
          -0.10362122042408826,
          1.445143242633927,
          -0.2532152702934875,
          0.20286139472678322,
          -0.08815124291883303,
          3.390054906295692,
          0.0482061551037023,
          1.8945513044145286,
          0.716426330129688,
          -1.4566014425095593,
          -0.21002292350054874,
          1.4016804834164123,
          -1.5803959153716811,
          -0.4356650985469704,
          1.8304821983484993,
          -0.31501128795720346,
          -0.9692856836201497,
          -0.38012643362080645,
          2.3497001124061807,
          -0.8079835266731132,
          0.4568000846274839,
          0.3713264269716879,
          2.191100405719373,
          -2.095693497795673,
          1.3706309982859157,
          -0.30546373182697883,
          -0.9487912266092797,
          -0.30802481965295025,
          1.1208795841956283,
          -2.00490418672028,
          -0.4435042804151312,
          0.9375370680361248,
          -0.1550294014400997,
          -1.5051510102295007,
          -0.6051824096248479,
          1.1993156786892416,
          -1.0922117096851358,
          -0.7247380997033412,
          0.22496930380453545,
          1.9278460823681607,
          0.09083082500340045,
          0.09191395794306423,
          -0.33879273481015804,
          -1.3151377889421252,
          -0.6703839045550309,
          1.2552866004216945,
          -2.7374191818355644,
          -0.3917938669858114,
          0.7468081988078172,
          -2.2956971637224353,
          -1.8877955151453107,
          0.48740224299459795,
          1.9266833854360454,
          -1.105224832754232,
          -0.14932090765001416,
          -0.16658985607108612,
          2.7764764063049414,
          0.08876614915109116,
          1.3520017831232094,
          -0.24163505648918793,
          -1.2527008104210982,
          -0.7942412938255177,
          1.597155350524441,
          -2.883754619052006,
          -0.46780001197636817,
          1.2237784811560461,
          -0.460860544754599,
          -0.3255051515029315,
          0.39706571100976,
          1.9628762622896097,
          -0.5952187557846083,
          -1.6121262909609326,
          0.1853365736360449,
          1.1477133542297635,
          0.45062695067035086,
          1.2834654117371456,
          1.5633703452122354,
          -1.4087536000536673,
          -0.6423889544288013,
          1.5664704797640505,
          -1.787360577591203,
          -0.41592395346287475,
          0.8955744300840689,
          0.17072976889271763,
          -1.4296093208057932,
          -0.2026622694219209,
          2.273460559066477,
          0.20001555515736846,
          -0.32345115811322284,
          -0.8182691791520484,
          1.8746751029341073,
          -0.40679935957606483,
          1.40933564168439,
          0.24633329727471798,
          -1.8921445739211569,
          -0.26057461231390433,
          1.5236808235397175,
          -2.172816015253339,
          -0.18025506386758272,
          1.0574964459243419,
          -1.1974090596315663,
          -0.6553511985819341,
          0.11227821098089569,
          0.5150044936798965,
          -0.027012330723500844,
          -0.5366906852204067,
          -0.2708530646423505,
          2.323561811013397,
          -1.702380501744761,
          0.7422696546635832,
          0.6607799527821498,
          -1.8046895682717219,
          -0.40090214590529,
          1.2640367860486994,
          -2.712437270786881,
          -0.4075136754690054,
          0.9043637402967788,
          0.4563938769116158,
          -1.0213333287376543,
          -0.7035138798627436,
          1.5864918350707218,
          -0.23448875644669298,
          -1.0855770473462076,
          -0.08975853087386748,
          3.074692890820695,
          -1.6544150277992564,
          1.6057421531242149,
          -0.06417018242613176,
          -1.3346052463110099,
          -0.7641864052864004,
          1.7421916787360419,
          -2.371428178244877,
          -0.39425670748995023,
          1.6943488868476113,
          -2.389844443839408,
          0.02839709088470055,
          -0.16527137847352502,
          1.2298387389396868,
          -0.8116671383979447,
          -0.06384135483315972,
          0.2881077428572207,
          2.295848533749175,
          0.33270067043658313,
          0.26619089650147365,
          0.5185164331079977,
          -1.2486981815463964,
          -0.5747476333251105,
          1.5976809972394939,
          -2.1797805842235545,
          -0.47466079158360447,
          0.6737183027453252,
          -3.2877127999787237,
          -1.1665634976699568,
          -0.6383782323502412,
          1.362309981011238,
          -1.1750987111251505,
          0.05941227858199705,
          -0.3864664330428239,
          0.9279022564457862,
          -2.106158207238116,
          1.322689917932585,
          0.8719199990208899,
          -1.4138070924394228,
          -0.7224699409343996,
          1.6501562551036992,
          -2.0930941780997263,
          -0.2694324612632976,
          1.234408689474494,
          -1.4896714193534097,
          -1.2413799155243979,
          -0.3468459156668618,
          1.3419729303216086,
          -1.4565580155702542,
          -0.6078760598665081,
          -0.5337692648002177,
          3.0150142847871004,
          -0.016894726189435216,
          1.3170047292120766,
          0.882846066286599,
          -1.7508084227328535,
          -0.907616523318848,
          1.4560366079132332,
          -2.3437816541441148,
          -0.34388378462209457,
          0.7064971958733245,
          -0.8849655009191321,
          -0.5544312645255758,
          0.4628512480557619,
          0.8022142979911193,
          -1.774283143240635,
          -0.47888453416828125,
          -1.2812928553380738,
          3.5144701446332602,
          -1.6143556390735412,
          1.6764530171715486,
          0.6264749268760355,
          -1.6103030863150183,
          -0.26448583419120664,
          1.3115675832323137,
          -3.05460331574564,
          -0.4308175304617338,
          1.314209282667352,
          -1.1647817652687553,
          -0.6058742201175413,
          -1.4392526093663887,
          1.1753980450782224,
          -0.27071475757968794,
          -0.8042836906344325,
          -0.04202669616411192,
          1.9088810877053075,
          0.3848392604360493,
          1.193190600474254,
          -0.5409941185687712,
          -1.7935102542697672,
          -0.9127402250363876,
          1.6556627574055611,
          -1.5911942397225354,
          -0.43441945096596063,
          1.2525781227375095,
          -1.3839241634221273,
          -0.6591172309212304,
          0.8522739411402338,
          1.8659271516356637,
          -0.821263287064471,
          -0.3601962005961389,
          1.0680296243540481,
          3.747798060830923,
          -1.254727374540755,
          2.289292394771379,
          -0.6777766692096333,
          -1.7295414604734494,
          -0.6990652416786174,
          1.4752481561732582,
          -1.9239197932312124,
          -0.4454626403702454,
          1.173816434499031,
          -2.7926066008000916,
          -0.9925338394465016,
          -0.8433834393053037,
          2.0469965715602925,
          -1.1955218261391614,
          -0.27787067961333634,
          -0.863899879279061,
          2.196768773307211,
          -0.28577767557349276,
          0.7924446002758314,
          -0.8697969701348549,
          -1.7210338393911964,
          -0.4808683760735292,
          1.067389250011291,
          -3.543186576058333,
          -0.50173725902481,
          0.5968965675333153,
          -1.4926199485933536,
          -0.9373887749743504,
          -0.5055291702204658,
          1.4311510665390663,
          -0.9846991219625778,
          -0.09002541613512138,
          -0.14356171948638707,
          1.3530583097526354,
          -0.9658468158036074,
          0.43103892272127575,
          0.33378182723259137,
          -1.7251601655060056,
          -0.6569238503608432,
          0.9789187777008628,
          -2.128344630368044,
          -0.38083062784307414,
          1.1718919405494175,
          -2.438722155644755,
          0.15136745852513134,
          0.05112945543963779,
          2.132165613202326,
          -0.9660000548145014,
          -0.8521916108516944,
          -0.07343812138405575,
          1.1019058913666375
         ],
         "xaxis": "x2",
         "yaxis": "y2"
        }
       ],
       "layout": {
        "barmode": "relative",
        "legend": {
         "title": {
          "text": "variable"
         },
         "tracegroupgap": 0
        },
        "margin": {
         "t": 60
        },
        "template": {
         "data": {
          "bar": [
           {
            "error_x": {
             "color": "rgb(36,36,36)"
            },
            "error_y": {
             "color": "rgb(36,36,36)"
            },
            "marker": {
             "line": {
              "color": "white",
              "width": 0.5
             },
             "pattern": {
              "fillmode": "overlay",
              "size": 10,
              "solidity": 0.2
             }
            },
            "type": "bar"
           }
          ],
          "barpolar": [
           {
            "marker": {
             "line": {
              "color": "white",
              "width": 0.5
             },
             "pattern": {
              "fillmode": "overlay",
              "size": 10,
              "solidity": 0.2
             }
            },
            "type": "barpolar"
           }
          ],
          "carpet": [
           {
            "aaxis": {
             "endlinecolor": "rgb(36,36,36)",
             "gridcolor": "white",
             "linecolor": "white",
             "minorgridcolor": "white",
             "startlinecolor": "rgb(36,36,36)"
            },
            "baxis": {
             "endlinecolor": "rgb(36,36,36)",
             "gridcolor": "white",
             "linecolor": "white",
             "minorgridcolor": "white",
             "startlinecolor": "rgb(36,36,36)"
            },
            "type": "carpet"
           }
          ],
          "choropleth": [
           {
            "colorbar": {
             "outlinewidth": 1,
             "tickcolor": "rgb(36,36,36)",
             "ticks": "outside"
            },
            "type": "choropleth"
           }
          ],
          "contour": [
           {
            "colorbar": {
             "outlinewidth": 1,
             "tickcolor": "rgb(36,36,36)",
             "ticks": "outside"
            },
            "colorscale": [
             [
              0,
              "#440154"
             ],
             [
              0.1111111111111111,
              "#482878"
             ],
             [
              0.2222222222222222,
              "#3e4989"
             ],
             [
              0.3333333333333333,
              "#31688e"
             ],
             [
              0.4444444444444444,
              "#26828e"
             ],
             [
              0.5555555555555556,
              "#1f9e89"
             ],
             [
              0.6666666666666666,
              "#35b779"
             ],
             [
              0.7777777777777778,
              "#6ece58"
             ],
             [
              0.8888888888888888,
              "#b5de2b"
             ],
             [
              1,
              "#fde725"
             ]
            ],
            "type": "contour"
           }
          ],
          "contourcarpet": [
           {
            "colorbar": {
             "outlinewidth": 1,
             "tickcolor": "rgb(36,36,36)",
             "ticks": "outside"
            },
            "type": "contourcarpet"
           }
          ],
          "heatmap": [
           {
            "colorbar": {
             "outlinewidth": 1,
             "tickcolor": "rgb(36,36,36)",
             "ticks": "outside"
            },
            "colorscale": [
             [
              0,
              "#440154"
             ],
             [
              0.1111111111111111,
              "#482878"
             ],
             [
              0.2222222222222222,
              "#3e4989"
             ],
             [
              0.3333333333333333,
              "#31688e"
             ],
             [
              0.4444444444444444,
              "#26828e"
             ],
             [
              0.5555555555555556,
              "#1f9e89"
             ],
             [
              0.6666666666666666,
              "#35b779"
             ],
             [
              0.7777777777777778,
              "#6ece58"
             ],
             [
              0.8888888888888888,
              "#b5de2b"
             ],
             [
              1,
              "#fde725"
             ]
            ],
            "type": "heatmap"
           }
          ],
          "heatmapgl": [
           {
            "colorbar": {
             "outlinewidth": 1,
             "tickcolor": "rgb(36,36,36)",
             "ticks": "outside"
            },
            "colorscale": [
             [
              0,
              "#440154"
             ],
             [
              0.1111111111111111,
              "#482878"
             ],
             [
              0.2222222222222222,
              "#3e4989"
             ],
             [
              0.3333333333333333,
              "#31688e"
             ],
             [
              0.4444444444444444,
              "#26828e"
             ],
             [
              0.5555555555555556,
              "#1f9e89"
             ],
             [
              0.6666666666666666,
              "#35b779"
             ],
             [
              0.7777777777777778,
              "#6ece58"
             ],
             [
              0.8888888888888888,
              "#b5de2b"
             ],
             [
              1,
              "#fde725"
             ]
            ],
            "type": "heatmapgl"
           }
          ],
          "histogram": [
           {
            "marker": {
             "line": {
              "color": "white",
              "width": 0.6
             }
            },
            "type": "histogram"
           }
          ],
          "histogram2d": [
           {
            "colorbar": {
             "outlinewidth": 1,
             "tickcolor": "rgb(36,36,36)",
             "ticks": "outside"
            },
            "colorscale": [
             [
              0,
              "#440154"
             ],
             [
              0.1111111111111111,
              "#482878"
             ],
             [
              0.2222222222222222,
              "#3e4989"
             ],
             [
              0.3333333333333333,
              "#31688e"
             ],
             [
              0.4444444444444444,
              "#26828e"
             ],
             [
              0.5555555555555556,
              "#1f9e89"
             ],
             [
              0.6666666666666666,
              "#35b779"
             ],
             [
              0.7777777777777778,
              "#6ece58"
             ],
             [
              0.8888888888888888,
              "#b5de2b"
             ],
             [
              1,
              "#fde725"
             ]
            ],
            "type": "histogram2d"
           }
          ],
          "histogram2dcontour": [
           {
            "colorbar": {
             "outlinewidth": 1,
             "tickcolor": "rgb(36,36,36)",
             "ticks": "outside"
            },
            "colorscale": [
             [
              0,
              "#440154"
             ],
             [
              0.1111111111111111,
              "#482878"
             ],
             [
              0.2222222222222222,
              "#3e4989"
             ],
             [
              0.3333333333333333,
              "#31688e"
             ],
             [
              0.4444444444444444,
              "#26828e"
             ],
             [
              0.5555555555555556,
              "#1f9e89"
             ],
             [
              0.6666666666666666,
              "#35b779"
             ],
             [
              0.7777777777777778,
              "#6ece58"
             ],
             [
              0.8888888888888888,
              "#b5de2b"
             ],
             [
              1,
              "#fde725"
             ]
            ],
            "type": "histogram2dcontour"
           }
          ],
          "mesh3d": [
           {
            "colorbar": {
             "outlinewidth": 1,
             "tickcolor": "rgb(36,36,36)",
             "ticks": "outside"
            },
            "type": "mesh3d"
           }
          ],
          "parcoords": [
           {
            "line": {
             "colorbar": {
              "outlinewidth": 1,
              "tickcolor": "rgb(36,36,36)",
              "ticks": "outside"
             }
            },
            "type": "parcoords"
           }
          ],
          "pie": [
           {
            "automargin": true,
            "type": "pie"
           }
          ],
          "scatter": [
           {
            "fillpattern": {
             "fillmode": "overlay",
             "size": 10,
             "solidity": 0.2
            },
            "type": "scatter"
           }
          ],
          "scatter3d": [
           {
            "line": {
             "colorbar": {
              "outlinewidth": 1,
              "tickcolor": "rgb(36,36,36)",
              "ticks": "outside"
             }
            },
            "marker": {
             "colorbar": {
              "outlinewidth": 1,
              "tickcolor": "rgb(36,36,36)",
              "ticks": "outside"
             }
            },
            "type": "scatter3d"
           }
          ],
          "scattercarpet": [
           {
            "marker": {
             "colorbar": {
              "outlinewidth": 1,
              "tickcolor": "rgb(36,36,36)",
              "ticks": "outside"
             }
            },
            "type": "scattercarpet"
           }
          ],
          "scattergeo": [
           {
            "marker": {
             "colorbar": {
              "outlinewidth": 1,
              "tickcolor": "rgb(36,36,36)",
              "ticks": "outside"
             }
            },
            "type": "scattergeo"
           }
          ],
          "scattergl": [
           {
            "marker": {
             "colorbar": {
              "outlinewidth": 1,
              "tickcolor": "rgb(36,36,36)",
              "ticks": "outside"
             }
            },
            "type": "scattergl"
           }
          ],
          "scattermapbox": [
           {
            "marker": {
             "colorbar": {
              "outlinewidth": 1,
              "tickcolor": "rgb(36,36,36)",
              "ticks": "outside"
             }
            },
            "type": "scattermapbox"
           }
          ],
          "scatterpolar": [
           {
            "marker": {
             "colorbar": {
              "outlinewidth": 1,
              "tickcolor": "rgb(36,36,36)",
              "ticks": "outside"
             }
            },
            "type": "scatterpolar"
           }
          ],
          "scatterpolargl": [
           {
            "marker": {
             "colorbar": {
              "outlinewidth": 1,
              "tickcolor": "rgb(36,36,36)",
              "ticks": "outside"
             }
            },
            "type": "scatterpolargl"
           }
          ],
          "scatterternary": [
           {
            "marker": {
             "colorbar": {
              "outlinewidth": 1,
              "tickcolor": "rgb(36,36,36)",
              "ticks": "outside"
             }
            },
            "type": "scatterternary"
           }
          ],
          "surface": [
           {
            "colorbar": {
             "outlinewidth": 1,
             "tickcolor": "rgb(36,36,36)",
             "ticks": "outside"
            },
            "colorscale": [
             [
              0,
              "#440154"
             ],
             [
              0.1111111111111111,
              "#482878"
             ],
             [
              0.2222222222222222,
              "#3e4989"
             ],
             [
              0.3333333333333333,
              "#31688e"
             ],
             [
              0.4444444444444444,
              "#26828e"
             ],
             [
              0.5555555555555556,
              "#1f9e89"
             ],
             [
              0.6666666666666666,
              "#35b779"
             ],
             [
              0.7777777777777778,
              "#6ece58"
             ],
             [
              0.8888888888888888,
              "#b5de2b"
             ],
             [
              1,
              "#fde725"
             ]
            ],
            "type": "surface"
           }
          ],
          "table": [
           {
            "cells": {
             "fill": {
              "color": "rgb(237,237,237)"
             },
             "line": {
              "color": "white"
             }
            },
            "header": {
             "fill": {
              "color": "rgb(217,217,217)"
             },
             "line": {
              "color": "white"
             }
            },
            "type": "table"
           }
          ]
         },
         "layout": {
          "annotationdefaults": {
           "arrowhead": 0,
           "arrowwidth": 1
          },
          "autotypenumbers": "strict",
          "coloraxis": {
           "colorbar": {
            "outlinewidth": 1,
            "tickcolor": "rgb(36,36,36)",
            "ticks": "outside"
           }
          },
          "colorscale": {
           "diverging": [
            [
             0,
             "rgb(103,0,31)"
            ],
            [
             0.1,
             "rgb(178,24,43)"
            ],
            [
             0.2,
             "rgb(214,96,77)"
            ],
            [
             0.3,
             "rgb(244,165,130)"
            ],
            [
             0.4,
             "rgb(253,219,199)"
            ],
            [
             0.5,
             "rgb(247,247,247)"
            ],
            [
             0.6,
             "rgb(209,229,240)"
            ],
            [
             0.7,
             "rgb(146,197,222)"
            ],
            [
             0.8,
             "rgb(67,147,195)"
            ],
            [
             0.9,
             "rgb(33,102,172)"
            ],
            [
             1,
             "rgb(5,48,97)"
            ]
           ],
           "sequential": [
            [
             0,
             "#440154"
            ],
            [
             0.1111111111111111,
             "#482878"
            ],
            [
             0.2222222222222222,
             "#3e4989"
            ],
            [
             0.3333333333333333,
             "#31688e"
            ],
            [
             0.4444444444444444,
             "#26828e"
            ],
            [
             0.5555555555555556,
             "#1f9e89"
            ],
            [
             0.6666666666666666,
             "#35b779"
            ],
            [
             0.7777777777777778,
             "#6ece58"
            ],
            [
             0.8888888888888888,
             "#b5de2b"
            ],
            [
             1,
             "#fde725"
            ]
           ],
           "sequentialminus": [
            [
             0,
             "#440154"
            ],
            [
             0.1111111111111111,
             "#482878"
            ],
            [
             0.2222222222222222,
             "#3e4989"
            ],
            [
             0.3333333333333333,
             "#31688e"
            ],
            [
             0.4444444444444444,
             "#26828e"
            ],
            [
             0.5555555555555556,
             "#1f9e89"
            ],
            [
             0.6666666666666666,
             "#35b779"
            ],
            [
             0.7777777777777778,
             "#6ece58"
            ],
            [
             0.8888888888888888,
             "#b5de2b"
            ],
            [
             1,
             "#fde725"
            ]
           ]
          },
          "colorway": [
           "#1F77B4",
           "#FF7F0E",
           "#2CA02C",
           "#D62728",
           "#9467BD",
           "#8C564B",
           "#E377C2",
           "#7F7F7F",
           "#BCBD22",
           "#17BECF"
          ],
          "font": {
           "color": "rgb(36,36,36)"
          },
          "geo": {
           "bgcolor": "white",
           "lakecolor": "white",
           "landcolor": "white",
           "showlakes": true,
           "showland": true,
           "subunitcolor": "white"
          },
          "hoverlabel": {
           "align": "left"
          },
          "hovermode": "closest",
          "mapbox": {
           "style": "light"
          },
          "paper_bgcolor": "white",
          "plot_bgcolor": "white",
          "polar": {
           "angularaxis": {
            "gridcolor": "rgb(232,232,232)",
            "linecolor": "rgb(36,36,36)",
            "showgrid": false,
            "showline": true,
            "ticks": "outside"
           },
           "bgcolor": "white",
           "radialaxis": {
            "gridcolor": "rgb(232,232,232)",
            "linecolor": "rgb(36,36,36)",
            "showgrid": false,
            "showline": true,
            "ticks": "outside"
           }
          },
          "scene": {
           "xaxis": {
            "backgroundcolor": "white",
            "gridcolor": "rgb(232,232,232)",
            "gridwidth": 2,
            "linecolor": "rgb(36,36,36)",
            "showbackground": true,
            "showgrid": false,
            "showline": true,
            "ticks": "outside",
            "zeroline": false,
            "zerolinecolor": "rgb(36,36,36)"
           },
           "yaxis": {
            "backgroundcolor": "white",
            "gridcolor": "rgb(232,232,232)",
            "gridwidth": 2,
            "linecolor": "rgb(36,36,36)",
            "showbackground": true,
            "showgrid": false,
            "showline": true,
            "ticks": "outside",
            "zeroline": false,
            "zerolinecolor": "rgb(36,36,36)"
           },
           "zaxis": {
            "backgroundcolor": "white",
            "gridcolor": "rgb(232,232,232)",
            "gridwidth": 2,
            "linecolor": "rgb(36,36,36)",
            "showbackground": true,
            "showgrid": false,
            "showline": true,
            "ticks": "outside",
            "zeroline": false,
            "zerolinecolor": "rgb(36,36,36)"
           }
          },
          "shapedefaults": {
           "fillcolor": "black",
           "line": {
            "width": 0
           },
           "opacity": 0.3
          },
          "ternary": {
           "aaxis": {
            "gridcolor": "rgb(232,232,232)",
            "linecolor": "rgb(36,36,36)",
            "showgrid": false,
            "showline": true,
            "ticks": "outside"
           },
           "baxis": {
            "gridcolor": "rgb(232,232,232)",
            "linecolor": "rgb(36,36,36)",
            "showgrid": false,
            "showline": true,
            "ticks": "outside"
           },
           "bgcolor": "white",
           "caxis": {
            "gridcolor": "rgb(232,232,232)",
            "linecolor": "rgb(36,36,36)",
            "showgrid": false,
            "showline": true,
            "ticks": "outside"
           }
          },
          "title": {
           "x": 0.05
          },
          "xaxis": {
           "automargin": true,
           "gridcolor": "rgb(232,232,232)",
           "linecolor": "rgb(36,36,36)",
           "showgrid": false,
           "showline": true,
           "ticks": "outside",
           "title": {
            "standoff": 15
           },
           "zeroline": false,
           "zerolinecolor": "rgb(36,36,36)"
          },
          "yaxis": {
           "automargin": true,
           "gridcolor": "rgb(232,232,232)",
           "linecolor": "rgb(36,36,36)",
           "showgrid": false,
           "showline": true,
           "ticks": "outside",
           "title": {
            "standoff": 15
           },
           "zeroline": false,
           "zerolinecolor": "rgb(36,36,36)"
          }
         }
        },
        "xaxis": {
         "anchor": "y",
         "domain": [
          0,
          1
         ],
         "title": {
          "text": "value"
         }
        },
        "xaxis2": {
         "anchor": "y2",
         "domain": [
          0,
          1
         ],
         "matches": "x",
         "showticklabels": false
        },
        "yaxis": {
         "anchor": "x",
         "domain": [
          0,
          0.7326
         ],
         "title": {
          "text": "count"
         }
        },
        "yaxis2": {
         "anchor": "x2",
         "domain": [
          0.7426,
          1
         ],
         "matches": "y2",
         "showline": false,
         "showticklabels": false,
         "ticks": ""
        }
       }
      }
     },
     "metadata": {},
     "output_type": "display_data"
    }
   ],
   "source": [
    "px.histogram(choc_ratings_true.flatten(),\n",
    "                template='simple_white',\n",
    "                marginal='rug')"
   ]
  },
  {
   "cell_type": "code",
   "execution_count": 7,
   "metadata": {},
   "outputs": [
    {
     "data": {
      "application/vnd.plotly.v1+json": {
       "config": {
        "plotlyServerURL": "https://plot.ly"
       },
       "data": [
        {
         "alignmentgroup": "True",
         "bingroup": "x",
         "hovertemplate": "choc=0<br>rating=%{x}<br>count=%{y}<extra></extra>",
         "legendgroup": "",
         "marker": {
          "color": "#1F77B4",
          "pattern": {
           "shape": ""
          }
         },
         "name": "",
         "offsetgroup": "",
         "orientation": "v",
         "showlegend": false,
         "type": "histogram",
         "x": [
          -1.8907486596679226,
          -0.11691358762224868,
          -0.514526775818276,
          -2.173026900794835,
          -0.711301776896931,
          -0.7336333389531297,
          -0.980202716526718,
          0.5433489162445027,
          -1.551554214846007,
          -0.6619918401956401,
          -1.0683005816180682,
          -0.31340583864675486,
          -2.527628490549371,
          0.0814333479238385,
          -1.6237294938311568,
          -0.7953310708395831,
          -0.44180443399101876,
          -1.9947833344306236,
          -2.7667427414484926,
          -0.9011675066841142,
          -1.3368887474838482,
          -1.4482438156517723,
          -2.0570267890111253,
          0.8221875554588545,
          -0.255679980822624,
          -0.9375855602044274,
          -1.18537134628861,
          0.19988891388533725,
          -1.5862812221766724,
          -1.6562963400944977,
          -0.497839362374378,
          -1.5842825572264325,
          0.6601002398548388,
          0.4952322682036021,
          -2.221535703253526,
          -2.821474457089071,
          -1.7250487489780593,
          -1.0235509529561913,
          -1.7227126247191555,
          0.2910885275412731,
          0.11611349003754601,
          -1.7637415696756724,
          -0.894044516456848,
          -0.3701683766927807,
          -1.0180804008648057,
          -1.9415152925199166,
          -1.6552524596260554,
          -3.7781804657387816,
          -2.8980485347014326,
          -1.934063668383994,
          -2.156989855336537,
          -0.25701183576911024,
          0.09856864343011518,
          -0.6143861287892081,
          0.2918371086114251,
          -1.4569150821525998,
          -0.6535725735924465,
          -0.45013764173759385,
          -1.5040089870708993,
          -1.4460764020989316,
          -1.7977137847417892,
          0.9762399355596139,
          -2.393870020133484,
          0.11157877758284518,
          -1.0511568770369972,
          -1.8416138004189224,
          -2.4242018397199283,
          -2.02239663926668,
          -1.7283846471539492,
          -0.5084653012458976,
          -1.5022539572467806,
          -2.1130687481889954,
          -2.702966907132069,
          -0.5616530973530673,
          -1.3582524826324107,
          -1.7267421079038816,
          -0.4223169900593159,
          0.5819715474907052,
          -2.209290279248365,
          -1.442006627861414,
          -1.1933679817704859,
          0.4227333003284435,
          -0.34435129264897113,
          1.4414713288029541,
          0.0482061551037023,
          -2.095693497795673,
          0.09083082500340045,
          0.08876614915109116,
          0.45062695067035086,
          -0.40679935957606483,
          -1.702380501744761,
          -1.6544150277992564,
          0.33270067043658313,
          -2.106158207238116,
          -0.016894726189435216,
          -1.6143556390735412,
          0.3848392604360493,
          -1.254727374540755,
          -0.28577767557349276,
          -0.9658468158036074
         ],
         "xaxis": "x13",
         "yaxis": "y13"
        },
        {
         "alignmentgroup": "True",
         "bingroup": "x",
         "hovertemplate": "choc=1<br>rating=%{x}<br>count=%{y}<extra></extra>",
         "legendgroup": "",
         "marker": {
          "color": "#1F77B4",
          "pattern": {
           "shape": ""
          }
         },
         "name": "",
         "offsetgroup": "",
         "orientation": "v",
         "showlegend": false,
         "type": "histogram",
         "x": [
          0.019034050888091625,
          1.7257347952029294,
          1.8256808061712473,
          0.39446561114621914,
          0.34881210050327405,
          0.5869376586477744,
          1.089895502470725,
          0.9815189250314649,
          1.7789318317817768,
          1.1721033284081557,
          -0.006623931791286619,
          0.9497046829068397,
          -0.2901964592969426,
          0.3230423206267542,
          0.8127630317415682,
          0.1575682582619985,
          1.5823269978405239,
          1.2289873111941296,
          0.66088715310841,
          0.9620047983739218,
          0.9122378485646788,
          -0.5895703921099884,
          0.7456232008902051,
          0.49008296012712615,
          0.2689381997078366,
          1.3552724883201694,
          1.602860912535987,
          0.9189275104158442,
          0.7024533472052357,
          1.7636058057287363,
          0.23827042070092352,
          1.1846138926931682,
          1.0771319825792358,
          0.8546100453616023,
          1.0180871155886395,
          0.8274922468323647,
          1.1351996917313107,
          0.330209857134354,
          2.4326104416351746,
          -0.1450927980326413,
          0.9277855894117563,
          1.5886160358848593,
          0.9878312202978561,
          2.4726210715345407,
          0.6001378325635631,
          0.3903583450114325,
          0.4489915174809389,
          1.122614021071504,
          1.2959303490507068,
          1.4314393095652005,
          0.0015412576251363497,
          0.8607957785172353,
          0.7254641666399628,
          1.4630226629385998,
          0.43286193829751174,
          0.4357432583164794,
          1.1926525649418709,
          1.7672243865359634,
          0.6220604263616762,
          1.1397370552568602,
          0.6366744113628471,
          0.41205430909203544,
          0.9411265054836575,
          -0.08914329336029159,
          0.6977762675957244,
          1.0187822565714453,
          1.2724012469252433,
          1.2412144434026842,
          0.4721883744000881,
          0.765701351245163,
          1.4554522147831441,
          1.2735616001319583,
          -0.16252290604871011,
          1.5689860439240868,
          1.3581302804587434,
          1.6223361992935303,
          1.2924855806399587,
          -0.1886970280812541,
          1.2567638221680577,
          0.5996033334513882,
          1.6617891992212794,
          1.0779238883308297,
          0.7037695485315547,
          1.4875022863614233,
          1.8945513044145286,
          1.3706309982859157,
          0.09191395794306423,
          1.3520017831232094,
          1.2834654117371456,
          1.40933564168439,
          0.7422696546635832,
          1.6057421531242149,
          0.26619089650147365,
          1.322689917932585,
          1.3170047292120766,
          1.6764530171715486,
          1.193190600474254,
          2.289292394771379,
          0.7924446002758314,
          0.43103892272127575
         ],
         "xaxis": "x14",
         "yaxis": "y14"
        },
        {
         "alignmentgroup": "True",
         "bingroup": "x",
         "hovertemplate": "choc=2<br>rating=%{x}<br>count=%{y}<extra></extra>",
         "legendgroup": "",
         "marker": {
          "color": "#1F77B4",
          "pattern": {
           "shape": ""
          }
         },
         "name": "",
         "offsetgroup": "",
         "orientation": "v",
         "showlegend": false,
         "type": "histogram",
         "x": [
          0.7753714576703867,
          1.6350231775540112,
          -0.2538443458920405,
          -0.0151830600053387,
          0.19720109331322944,
          0.8860089769679225,
          1.2713996721782883,
          0.2892983089625948,
          -0.575708998899271,
          0.27695048960093965,
          -0.12210236585767853,
          0.6303679434884313,
          0.37305043705625063,
          -0.7451691506747375,
          -0.22547563396576065,
          0.5660078959924203,
          0.5844830595504344,
          0.18626344782632748,
          0.154080802540912,
          0.7956081274601605,
          1.1167381860085777,
          0.1992823404202731,
          0.8821726701460749,
          1.1589769730483206,
          0.9637675469249604,
          0.8063485498684516,
          -0.19235734746853128,
          -0.5625481608130889,
          1.0554269008369976,
          -0.08941475324236597,
          0.9359853187946838,
          0.46493028892385935,
          0.30012785483023774,
          1.0560025161735043,
          0.18755968943533513,
          0.30477604468139674,
          -0.10352856457476917,
          0.7649565869351242,
          1.1456404262921374,
          0.775406342897248,
          0.6940191951991138,
          -0.04786705208913794,
          -0.5626357619119114,
          0.4298106110316027,
          0.522748601702177,
          -0.051002486865496355,
          1.4613186916788332,
          0.740462971393399,
          -0.40595862766592494,
          0.7072547181203496,
          -0.33048496246608594,
          0.42157651229495563,
          0.9801065998974784,
          0.2686573135928489,
          -0.5546404303080794,
          0.4447245743305548,
          1.4607952815728773,
          0.7632796309488634,
          0.23451434901331628,
          0.8616452870807143,
          0.4107426918106024,
          -0.8570292421399679,
          1.2513495387720557,
          0.5199665057110785,
          -0.02144463059110685,
          0.2964278634687847,
          -0.056395990001419705,
          -0.49822275348833334,
          -0.008922107797227019,
          0.7328501901031185,
          0.0340028399293279,
          -0.26601048341584177,
          -0.012755802315041032,
          0.0910436379189675,
          0.8163182633072162,
          0.34760291385348463,
          0.4682105599859013,
          0.5331873322614572,
          0.8257831529581203,
          0.8306929220525002,
          -0.09913179644609854,
          0.8127047097692356,
          -0.32383526537116847,
          -0.18430327366760296,
          0.716426330129688,
          -0.30546373182697883,
          -0.33879273481015804,
          -0.24163505648918793,
          1.5633703452122354,
          0.24633329727471798,
          0.6607799527821498,
          -0.06417018242613176,
          0.5185164331079977,
          0.8719199990208899,
          0.882846066286599,
          0.6264749268760355,
          -0.5409941185687712,
          -0.6777766692096333,
          -0.8697969701348549,
          0.33378182723259137
         ],
         "xaxis": "x15",
         "yaxis": "y15"
        },
        {
         "alignmentgroup": "True",
         "bingroup": "x",
         "hovertemplate": "choc=3<br>rating=%{x}<br>count=%{y}<extra></extra>",
         "legendgroup": "",
         "marker": {
          "color": "#1F77B4",
          "pattern": {
           "shape": ""
          }
         },
         "name": "",
         "offsetgroup": "",
         "orientation": "v",
         "showlegend": false,
         "type": "histogram",
         "x": [
          -1.4073441006120202,
          -1.5693174169719841,
          -1.383534561344697,
          -1.637246817609958,
          -1.7158563686875279,
          -1.2213807076900152,
          -1.3852269118966918,
          -1.5890459863686819,
          -1.5275918425152746,
          -1.7165418165101864,
          -1.8597130463394287,
          -1.5973090435508897,
          -1.321062865135116,
          -1.6882181496776323,
          -1.6249671461140327,
          -1.2887322964248442,
          -1.5495554880846139,
          -1.9121404426902526,
          -1.6010015572163714,
          -1.3063226032805015,
          -1.2848449054065774,
          -1.3664442790467117,
          -1.69898573978395,
          -1.3674972007982906,
          -1.4859821855273754,
          -1.0963443425825885,
          -0.9246113302185046,
          -1.7201663551074386,
          -1.3173583125162582,
          -1.1910952835017672,
          -1.757551416321417,
          -1.4266469031194482,
          -0.8662412688169473,
          -1.2633011948668242,
          -1.611166051590288,
          -1.95648903447751,
          -1.076145534788058,
          -2.1027346754247995,
          -1.9089845897825375,
          -1.6448825880847047,
          -1.4220865182789022,
          -1.5929617016809197,
          -1.697847211111077,
          -1.502147446281353,
          -1.7697105754364233,
          -1.4558364418074952,
          -1.2863214273455517,
          -1.6330873803901813,
          -1.5531208400056529,
          -1.5308409403412082,
          -1.5589104253178898,
          -1.5776345964781113,
          -1.7774134661011232,
          -1.6996011308874877,
          -1.369631276668349,
          -1.3194128201133677,
          -2.085620052991694,
          -1.6490202246618646,
          -1.3196609300788336,
          -1.4435729840520017,
          -1.2084728707731562,
          -1.6568446541948418,
          -1.5064268259846427,
          -1.9806246719735476,
          -1.1361517780288457,
          -1.000599002667809,
          -1.7991783009706144,
          -1.4447881954455137,
          -1.4379182752817798,
          -1.261047581110766,
          -0.9612776462060187,
          -1.5864767593615758,
          -1.3440880443397902,
          -1.3836648473088766,
          -1.9525027712470955,
          -1.4579009253607522,
          -1.2928533404893598,
          -1.7187492256263794,
          -1.8163160745091633,
          -1.8061349152506838,
          -1.3214632758263951,
          -1.5652601260805312,
          -1.6813374886796029,
          -2.0391410523674334,
          -1.4566014425095593,
          -0.9487912266092797,
          -1.3151377889421252,
          -1.2527008104210982,
          -1.4087536000536673,
          -1.8921445739211569,
          -1.8046895682717219,
          -1.3346052463110099,
          -1.2486981815463964,
          -1.4138070924394228,
          -1.7508084227328535,
          -1.6103030863150183,
          -1.7935102542697672,
          -1.7295414604734494,
          -1.7210338393911964,
          -1.7251601655060056
         ],
         "xaxis": "x16",
         "yaxis": "y16"
        },
        {
         "alignmentgroup": "True",
         "bingroup": "x",
         "hovertemplate": "choc=4<br>rating=%{x}<br>count=%{y}<extra></extra>",
         "legendgroup": "",
         "marker": {
          "color": "#1F77B4",
          "pattern": {
           "shape": ""
          }
         },
         "name": "",
         "offsetgroup": "",
         "orientation": "v",
         "showlegend": false,
         "type": "histogram",
         "x": [
          -0.11474349008280299,
          -0.6304696013730187,
          -0.8974620090330769,
          -0.35493764074077866,
          -0.6313235804760773,
          -0.8579448409486501,
          -0.6427784364443783,
          -0.5584730982254725,
          -0.3796677872425259,
          -0.6331233162357787,
          -0.6366496940630771,
          -0.38134132375573954,
          -0.5609358988354612,
          -0.28168849209762326,
          -0.533112138556328,
          -0.4168241879950586,
          -0.9722126017700095,
          -0.27370340959488476,
          -0.7294935232657094,
          -1.0664575448463234,
          -0.6577009045213794,
          -0.6331920137329208,
          -0.6959743168685008,
          -0.3081343299529352,
          -0.6981305105515117,
          -0.41243542317698445,
          -0.7071341962291194,
          -0.8710576216951089,
          -0.6761229601231098,
          -0.624264113704327,
          -0.5566072417921232,
          -0.7407595070445017,
          -0.25433248362826,
          -0.11136601637264781,
          -0.6381172072728032,
          -0.49649944813145325,
          -0.632549821650114,
          -0.7870060867165309,
          -0.8511917923210698,
          -0.6903947790625877,
          -0.5492175658474632,
          -0.5847590136531876,
          -0.8745500934619421,
          -0.6604436559072605,
          -0.3795959703450004,
          -0.49057859254261127,
          -0.7069662589722678,
          -0.5261485393583257,
          -0.7290841416871017,
          -0.8278382928862237,
          -0.547224795258409,
          -0.3146062801146898,
          -0.7597412121896947,
          -0.4046676489563287,
          -0.43597449865329696,
          -0.7449570349926582,
          -0.5933039940558983,
          -0.7159265961332566,
          -0.6129817086607362,
          -0.692667467220323,
          -0.6217657257969756,
          -0.31855866704495994,
          -0.819584111982449,
          -0.5954826127856002,
          -0.6606176125422828,
          -0.8179061092988258,
          -0.3957604468073179,
          -0.8291643861352438,
          -0.25821670876922537,
          -1.035181543868351,
          -0.5529690312411369,
          -0.19474563110850118,
          -0.2904228974082356,
          -0.6481653056270762,
          -0.4793893800106168,
          -0.9356717243634524,
          -0.44208065446709577,
          -0.662794991522943,
          -0.8751022776023254,
          -0.574045721374566,
          -0.2858147513637366,
          -0.34650604751784553,
          -0.4569868150240936,
          -0.46435165003205847,
          -0.21002292350054874,
          -0.30802481965295025,
          -0.6703839045550309,
          -0.7942412938255177,
          -0.6423889544288013,
          -0.26057461231390433,
          -0.40090214590529,
          -0.7641864052864004,
          -0.5747476333251105,
          -0.7224699409343996,
          -0.907616523318848,
          -0.26448583419120664,
          -0.9127402250363876,
          -0.6990652416786174,
          -0.4808683760735292,
          -0.6569238503608432
         ],
         "xaxis": "x17",
         "yaxis": "y17"
        },
        {
         "alignmentgroup": "True",
         "bingroup": "x",
         "hovertemplate": "choc=5<br>rating=%{x}<br>count=%{y}<extra></extra>",
         "legendgroup": "",
         "marker": {
          "color": "#1F77B4",
          "pattern": {
           "shape": ""
          }
         },
         "name": "",
         "offsetgroup": "",
         "orientation": "v",
         "showlegend": false,
         "type": "histogram",
         "x": [
          1.6926916272506836,
          1.3032873301499674,
          1.4716592102582076,
          2.3452276238540533,
          1.1954918993542627,
          1.7552177943807763,
          1.3182188120847822,
          1.5916604988438503,
          1.502803420013314,
          1.8259365217446275,
          1.590642606671023,
          1.5769881519499014,
          1.8556026670235966,
          1.567775001217778,
          1.3910433956288686,
          1.8219639181582488,
          1.6296370201392505,
          1.2404819607484685,
          1.159912622546455,
          1.777189523144389,
          1.696859908513863,
          2.105433034781309,
          1.6597665870474472,
          1.669120217990169,
          1.6591319380125644,
          2.122717594117744,
          1.2342227726092405,
          1.6346852661690252,
          1.7813142517940248,
          1.6397885914214796,
          1.5920673761693085,
          1.3222032344283656,
          1.8291479720742112,
          1.237555919851995,
          1.7373896750044753,
          2.0050884458985037,
          1.824387587723949,
          1.8294101811348167,
          1.3025888029002028,
          1.535836839702247,
          2.1812127192232857,
          1.8147530751865046,
          1.2441458581073845,
          1.4811126534208217,
          1.2966049467661835,
          1.5572321690571875,
          1.5117228553583693,
          2.1118914022737743,
          1.6595362108989486,
          1.7773468759616025,
          0.8690163832051967,
          1.761284575241071,
          2.1235375122760725,
          1.8494422066331266,
          1.499640978322103,
          1.155791500586705,
          1.2633245470143626,
          1.9630613777380028,
          1.664002143366184,
          1.347736212828157,
          1.1803185396028528,
          1.522156876901565,
          1.7069122037212305,
          2.1480473886518663,
          1.9745305663854444,
          2.155913507146797,
          2.3695378453344107,
          2.254301054460302,
          1.7238093499477858,
          1.7756403404011962,
          1.3123470647772213,
          1.7655049338362985,
          1.6874468391239488,
          2.395768689220752,
          2.0435750003899993,
          1.790263025905665,
          1.1427496026207322,
          1.9677694526154372,
          1.469171112706515,
          2.2069177252449443,
          1.8333717877734663,
          1.298323322884444,
          1.397395116321483,
          1.9722580359407473,
          1.4016804834164123,
          1.1208795841956283,
          1.2552866004216945,
          1.597155350524441,
          1.5664704797640505,
          1.5236808235397175,
          1.2640367860486994,
          1.7421916787360419,
          1.5976809972394939,
          1.6501562551036992,
          1.4560366079132332,
          1.3115675832323137,
          1.6556627574055611,
          1.4752481561732582,
          1.067389250011291,
          0.9789187777008628
         ],
         "xaxis": "x18",
         "yaxis": "y18"
        },
        {
         "alignmentgroup": "True",
         "bingroup": "x",
         "hovertemplate": "choc=6<br>rating=%{x}<br>count=%{y}<extra></extra>",
         "legendgroup": "",
         "marker": {
          "color": "#1F77B4",
          "pattern": {
           "shape": ""
          }
         },
         "name": "",
         "offsetgroup": "",
         "orientation": "v",
         "showlegend": false,
         "type": "histogram",
         "x": [
          -1.4897618659034422,
          -1.8211932756785822,
          -2.33306509764706,
          -1.6810506036077477,
          -2.888795917786079,
          -2.8209979288690223,
          -1.5827129100677073,
          -1.555899491206282,
          -2.6019227379624073,
          -2.449821210859658,
          -2.822374091816051,
          -2.402735306671383,
          -2.514333535691794,
          -2.0627614697630756,
          -1.9367009741400223,
          -2.6835829700976266,
          -3.0503499485908523,
          -2.1742528333088784,
          -2.2927660352487016,
          -1.9484962812649713,
          -2.6501217255007914,
          -2.384256629958252,
          -2.4059067090160484,
          -2.7098254886147157,
          -2.2424868222859673,
          -2.3848565042520775,
          -2.269622378328059,
          -2.111120881782769,
          -1.569237525001686,
          -2.8483375961093094,
          -2.426418568399791,
          -1.8840944005058047,
          -1.9355822567909846,
          -2.334957637568249,
          -3.215186928143315,
          -1.8454794430061798,
          -2.4239773961762934,
          -2.1128909771733184,
          -1.999460434842617,
          -1.8727389411135098,
          -4.032025015259081,
          -2.7962265234710753,
          -2.6693633653127185,
          -3.17651262437317,
          -2.6758319928647643,
          -2.4342618703502596,
          -1.3905752665048927,
          -2.2708560115197605,
          -2.3622260074881614,
          -2.1523205692556506,
          -2.1326150585502863,
          -2.1809292587002234,
          -2.1649913539286967,
          -2.2066143943101126,
          -2.8425458713788907,
          -1.5246859498145664,
          -2.025966183584144,
          -2.085862469286159,
          -1.4072232554427087,
          -2.1682160977718077,
          -2.2672819357396565,
          -2.3452380335554848,
          -2.1493546451735543,
          -2.55825332211392,
          -3.2164723349863475,
          -2.998280664008939,
          -1.8567283441265636,
          -1.6647404367691507,
          -2.8022754162711556,
          -1.9458683058118096,
          -2.663711205212428,
          -2.746962239447709,
          -2.289114893038489,
          -1.6289907575352234,
          -2.9962122347031404,
          -3.2485004970312956,
          -2.0229567924816716,
          -2.396553831616904,
          -1.9645546729370178,
          -1.6861756526624783,
          -2.7058018039408447,
          -2.1440895658068295,
          -1.460993385346654,
          -2.305979516117236,
          -1.5803959153716811,
          -2.00490418672028,
          -2.7374191818355644,
          -2.883754619052006,
          -1.787360577591203,
          -2.172816015253339,
          -2.712437270786881,
          -2.371428178244877,
          -2.1797805842235545,
          -2.0930941780997263,
          -2.3437816541441148,
          -3.05460331574564,
          -1.5911942397225354,
          -1.9239197932312124,
          -3.543186576058333,
          -2.128344630368044
         ],
         "xaxis": "x7",
         "yaxis": "y7"
        },
        {
         "alignmentgroup": "True",
         "bingroup": "x",
         "hovertemplate": "choc=7<br>rating=%{x}<br>count=%{y}<extra></extra>",
         "legendgroup": "",
         "marker": {
          "color": "#1F77B4",
          "pattern": {
           "shape": ""
          }
         },
         "name": "",
         "offsetgroup": "",
         "orientation": "v",
         "showlegend": false,
         "type": "histogram",
         "x": [
          -0.3186854068688599,
          -0.3824056890908931,
          -0.6197917616420476,
          -0.44078243415162016,
          -0.4196317938834694,
          -0.398839511064032,
          -0.6044813734652282,
          -0.4184987318109216,
          -0.542348805010445,
          -0.3305212772004971,
          -0.5196943009829582,
          -0.4355524500734343,
          -0.4288956794337427,
          -0.5514465861465545,
          -0.6051377789013948,
          -0.29521962494905957,
          -0.4803562675265696,
          -0.46744420367432393,
          -0.5015392146160128,
          -0.36302150044115894,
          -0.589590949203022,
          -0.5215531342499707,
          -0.41413519091982065,
          -0.4108359666598358,
          -0.46688619253461183,
          -0.44828968608281444,
          -0.49279460495000793,
          -0.5280393880144044,
          -0.279282468463697,
          -0.5808013635934697,
          -0.410382437428693,
          -0.4258267036312816,
          -0.421084181217851,
          -0.4307887601642064,
          -0.4714606025735268,
          -0.5500023709510508,
          -0.3661062322132008,
          -0.21186744575900593,
          -0.3579796563705277,
          -0.4941569850185278,
          -0.43669466781314226,
          -0.3508856072508912,
          -0.29820695212897863,
          -0.4748263271012498,
          -0.4498123677341743,
          -0.2862101990086272,
          -0.39815556554429893,
          -0.4425240466559744,
          -0.45662706156659677,
          -0.5345267043037946,
          -0.2764561622030036,
          -0.43769818694700535,
          -0.4718700897008184,
          -0.4435032824181305,
          -0.3249891764149671,
          -0.5197879510839724,
          -0.47426678865020955,
          -0.4376582829888782,
          -0.4123045763863036,
          -0.5693567309377159,
          -0.4609251796334245,
          -0.4392322731125816,
          -0.3632461424454583,
          -0.2964165775099399,
          -0.14878972003926538,
          -0.530152145799523,
          -0.4217709362186852,
          -0.36493442993160563,
          -0.5352536501535897,
          -0.5162406515189785,
          -0.2290452790986532,
          -0.44940256595829353,
          -0.5189392592142988,
          -0.3778954270912428,
          -0.5535392049591775,
          -0.47529903312349375,
          -0.548049115960251,
          -0.4750295264331461,
          -0.33995604139157737,
          -0.3452446805581195,
          -0.2700650835116991,
          -0.3946951950846587,
          -0.38962841370797396,
          -0.4360144889536266,
          -0.4356650985469704,
          -0.4435042804151312,
          -0.3917938669858114,
          -0.46780001197636817,
          -0.41592395346287475,
          -0.18025506386758272,
          -0.4075136754690054,
          -0.39425670748995023,
          -0.47466079158360447,
          -0.2694324612632976,
          -0.34388378462209457,
          -0.4308175304617338,
          -0.43441945096596063,
          -0.4454626403702454,
          -0.50173725902481,
          -0.38083062784307414
         ],
         "xaxis": "x8",
         "yaxis": "y8"
        },
        {
         "alignmentgroup": "True",
         "bingroup": "x",
         "hovertemplate": "choc=8<br>rating=%{x}<br>count=%{y}<extra></extra>",
         "legendgroup": "",
         "marker": {
          "color": "#1F77B4",
          "pattern": {
           "shape": ""
          }
         },
         "name": "",
         "offsetgroup": "",
         "orientation": "v",
         "showlegend": false,
         "type": "histogram",
         "x": [
          1.6477847814052233,
          2.036675272859217,
          0.9620941324747023,
          1.2683491688723878,
          1.4424924892887143,
          1.5448855938414043,
          1.1653590571848245,
          0.8321935170786667,
          1.233019043905028,
          1.0215137967172794,
          0.6846518866936816,
          1.2187879339141139,
          1.5954592115231518,
          1.6084148997985273,
          1.508386133233907,
          1.1872662741517337,
          0.6770533995052986,
          0.8274637785956404,
          0.4125364175780638,
          0.9651054004358154,
          1.6331039444062685,
          0.7320919681362897,
          1.3377978954877687,
          1.7204650208732877,
          0.054039040910911496,
          0.5950055526977986,
          1.2198874845316787,
          1.7913408293182604,
          1.2971052934793554,
          1.1656305685995623,
          1.4474500155236167,
          0.942806184829827,
          0.9268437972755403,
          1.2780366989651408,
          1.5334852201483944,
          1.1418009690499997,
          1.807547379509942,
          1.5561539936078899,
          1.0405823379732333,
          0.9003716391945604,
          1.2784207257825806,
          1.6089025888474329,
          0.9517059252352791,
          1.6710019579419781,
          0.4902030390071924,
          0.7610460708794327,
          1.7165865123830293,
          1.375391450990728,
          1.2794967490824825,
          1.3499854703233594,
          1.5626894014637913,
          1.7550586220442057,
          1.4895190375042797,
          0.25871247751152704,
          0.6937422927705352,
          1.3768955192578407,
          0.9989972843988781,
          1.3632160309046282,
          1.486441997841378,
          0.8925253985100587,
          1.3398983559529842,
          1.6928504795994825,
          1.2817873340857884,
          1.698324965169439,
          1.1221430175101776,
          1.482600213951391,
          1.2808954914637183,
          1.0327203670958465,
          1.0510243326282893,
          1.5574767980315891,
          1.66701781447736,
          1.5632867588258441,
          1.468509012757552,
          1.7377680587545103,
          2.1980952610562863,
          1.52627025087024,
          1.2489572617183955,
          1.4369970765459086,
          1.2331334857336569,
          1.8599467936248815,
          0.8647092653190518,
          1.3456343881072992,
          0.9508973676034049,
          1.2506031602375385,
          1.8304821983484993,
          0.9375370680361248,
          0.7468081988078172,
          1.2237784811560461,
          0.8955744300840689,
          1.0574964459243419,
          0.9043637402967788,
          1.6943488868476113,
          0.6737183027453252,
          1.234408689474494,
          0.7064971958733245,
          1.314209282667352,
          1.2525781227375095,
          1.173816434499031,
          0.5968965675333153,
          1.1718919405494175
         ],
         "xaxis": "x9",
         "yaxis": "y9"
        },
        {
         "alignmentgroup": "True",
         "bingroup": "x",
         "hovertemplate": "choc=9<br>rating=%{x}<br>count=%{y}<extra></extra>",
         "legendgroup": "",
         "marker": {
          "color": "#1F77B4",
          "pattern": {
           "shape": ""
          }
         },
         "name": "",
         "offsetgroup": "",
         "orientation": "v",
         "showlegend": false,
         "type": "histogram",
         "x": [
          -0.3140646573493685,
          -0.042276083593904557,
          -0.502352260031262,
          -1.658083156592198,
          -1.1046596031558298,
          -3.1298890539929127,
          -1.2276473574094746,
          -0.6370240191836282,
          -1.916606934779691,
          -1.5692861239077205,
          0.1465187750848136,
          -1.251270961993828,
          -0.9085284449663678,
          -1.5928800446337605,
          -2.0666277171896184,
          -1.7440076988098778,
          -1.3335444716141323,
          -0.8321127071765362,
          -2.7119935502020676,
          -1.0216968590493403,
          -1.5807882611178212,
          -2.3908824382293954,
          -1.424553540165243,
          -0.816844175559666,
          -1.3413072087899751,
          -3.241953611951838,
          -2.506438563757836,
          -1.011795189953178,
          -0.6046754374609624,
          -1.933243533973921,
          -2.447940980137913,
          -2.123175022637674,
          0.09825901371764001,
          -0.23250201613469057,
          -2.0765629611035794,
          -2.671199389398148,
          -2.4457017401118435,
          1.1720053175085292,
          -0.5161143674529496,
          -0.47057802817183064,
          -1.3487702367850718,
          -2.4276425161370523,
          -4.064783956696917,
          -1.397164106605921,
          -0.9184405759616866,
          -0.4753797877484811,
          -2.320802650138302,
          -0.966683103330811,
          -1.6709654518952206,
          0.9280954059938065,
          -1.0538842638908188,
          -2.033305367912094,
          -0.8592422768032546,
          -3.1671949250904574,
          -0.7630327778876121,
          -0.30213994218103435,
          -1.1435578193136398,
          -2.232531603399083,
          -1.05197408796604,
          -0.37445238058555197,
          -1.8259854662254351,
          -1.4945571571087288,
          0.4597722987189541,
          -0.10858454610806745,
          -1.9806423732866625,
          -1.5531938047210934,
          -0.8223361698759113,
          -1.3544156932325335,
          -2.3413896081475327,
          -1.9508387937000216,
          -0.3117737197186379,
          0.08381870708702877,
          -0.13415024418619925,
          -1.8324929959416492,
          -0.10886255799440869,
          0.5762785114742597,
          0.2676705430591515,
          -2.0766016681223287,
          -0.7582622383421901,
          0.2780010303644722,
          0.14769379744826905,
          1.3750496952725157,
          -2.7402543144235314,
          -0.9082186885192216,
          -0.31501128795720346,
          -0.1550294014400997,
          -2.2956971637224353,
          -0.460860544754599,
          0.17072976889271763,
          -1.1974090596315663,
          0.4563938769116158,
          -2.389844443839408,
          -3.2877127999787237,
          -1.4896714193534097,
          -0.8849655009191321,
          -1.1647817652687553,
          -1.3839241634221273,
          -2.7926066008000916,
          -1.4926199485933536,
          -2.438722155644755
         ],
         "xaxis": "x10",
         "yaxis": "y10"
        },
        {
         "alignmentgroup": "True",
         "bingroup": "x",
         "hovertemplate": "choc=10<br>rating=%{x}<br>count=%{y}<extra></extra>",
         "legendgroup": "",
         "marker": {
          "color": "#1F77B4",
          "pattern": {
           "shape": ""
          }
         },
         "name": "",
         "offsetgroup": "",
         "orientation": "v",
         "showlegend": false,
         "type": "histogram",
         "x": [
          -0.6195839772379806,
          -0.7650553321252396,
          -0.8626829696726682,
          -1.1249905943403764,
          -1.3507929755921626,
          -1.5534374132182185,
          -0.7451569915860768,
          -0.9385241304846628,
          -1.6211736465694329,
          -0.3909493355694216,
          -0.4159182279934003,
          -0.2558235474786411,
          -1.5008958519331377,
          -1.2006111619875366,
          -1.0121187228935142,
          -1.2292865230077314,
          -0.7503915052732392,
          -0.14341857488840148,
          -0.23211319394000435,
          -0.7466240941519594,
          -0.5381938527345342,
          0.30924643423750753,
          -1.14092611187234,
          -1.3026001069901927,
          -1.2282084570275427,
          -1.3144744667687611,
          -0.9002829307324689,
          -0.6643071510737725,
          -0.4080509393331204,
          -0.7386343449975227,
          0.03377241456098812,
          -0.29631270181085156,
          -1.382904219531336,
          -0.5916491280574756,
          -1.646032008136756,
          -0.7172795245394232,
          -1.0636627915692527,
          -1.1969355408975078,
          0.651150160421843,
          -0.9553356935543065,
          -1.2293017099108439,
          -1.3059998589792337,
          -0.7502100836472847,
          -0.6863808189234978,
          -0.679375823053121,
          -0.2016405063925572,
          -0.4098023441991814,
          -0.6348946122760601,
          -1.0568319215572433,
          -1.0348964759224795,
          -0.5157603744857424,
          -0.12862998780381873,
          -0.19649323555579978,
          -0.852671813134537,
          -0.559104714431026,
          -0.6864519431006084,
          -0.7598039471832183,
          -0.6036366456613474,
          -0.4918975160269923,
          -0.6477576868131879,
          -0.47733374084756064,
          -0.3123454766565963,
          -1.02192091258301,
          -1.0862395794371424,
          0.4478017594608841,
          -1.6829110705111385,
          -1.0718533450463283,
          -0.33426881568089,
          -0.2488401526868,
          -0.8550158550880129,
          -0.766427720713709,
          -0.2721048964732295,
          -1.1496614141146415,
          -0.4915448620760995,
          -0.144186523687572,
          -0.8739858441170228,
          -0.14045674222759352,
          -1.0491272052296892,
          -0.3166764649198908,
          -0.69944642433476,
          -1.1395714930571708,
          -1.1223757340686986,
          -0.8235524984912753,
          -0.7960045342701233,
          -0.9692856836201497,
          -1.5051510102295007,
          -1.8877955151453107,
          -0.3255051515029315,
          -1.4296093208057932,
          -0.6553511985819341,
          -1.0213333287376543,
          0.02839709088470055,
          -1.1665634976699568,
          -1.2413799155243979,
          -0.5544312645255758,
          -0.6058742201175413,
          -0.6591172309212304,
          -0.9925338394465016,
          -0.9373887749743504,
          0.15136745852513134
         ],
         "xaxis": "x11",
         "yaxis": "y11"
        },
        {
         "alignmentgroup": "True",
         "bingroup": "x",
         "hovertemplate": "choc=11<br>rating=%{x}<br>count=%{y}<extra></extra>",
         "legendgroup": "",
         "marker": {
          "color": "#1F77B4",
          "pattern": {
           "shape": ""
          }
         },
         "name": "",
         "offsetgroup": "",
         "orientation": "v",
         "showlegend": false,
         "type": "histogram",
         "x": [
          -0.23883595404795974,
          -0.4026212982441909,
          -0.6806370060445559,
          0.5840372377467229,
          1.5791465923748655,
          0.1778906993970435,
          0.8972341426398867,
          -0.7561833910268254,
          -0.07747611183662562,
          1.1730740359481562,
          -1.6969228388799609,
          1.6141505785730959,
          -1.0180288047190356,
          0.461812101955088,
          -0.7513654056292249,
          0.0012019685410644965,
          0.7745596291111265,
          0.0521080683601616,
          -0.3334512200414529,
          -1.1003224311063837,
          -0.8060401653252571,
          -0.2095860505775809,
          -0.33187643320426047,
          -0.4131750513112752,
          -0.8064719534485116,
          -0.04264301943744473,
          -0.6832905924164412,
          0.3927530883257173,
          1.788655317179008,
          -0.5827783720507123,
          0.7146748384893022,
          0.45550970407340824,
          -0.6591988609095925,
          -0.6084916608038955,
          -0.21266047020516882,
          0.5281783652446825,
          -0.6425684023932694,
          0.18080308052284716,
          0.4772577590815314,
          0.05059085795171692,
          -0.2850524536582638,
          -0.4073412073263585,
          -2.296874749525485,
          0.6489539269098334,
          1.5507787660695973,
          -0.9036086150655063,
          -0.3063243073300872,
          0.316048994305583,
          -0.5300598086668556,
          -0.3933781159901229,
          -0.0428958072650829,
          -0.3845548748863684,
          1.162865460009278,
          0.8107928594271183,
          1.2450341166661185,
          -1.2064639289428618,
          -0.6000343489565001,
          -1.2785626252607072,
          0.15988852807258325,
          0.5459388216471073,
          0.02644681634210211,
          0.4418703530491707,
          -0.2484414967394882,
          1.1769125135390255,
          -1.3201718705360477,
          -0.004559651298072329,
          1.0426348136847705,
          0.7574837599748538,
          0.6297438264432607,
          -0.5258147293723263,
          0.41579999333106715,
          0.5950826428194025,
          0.37337278180884487,
          -1.9007260908083086,
          -0.8448253828844836,
          -0.43511163911070216,
          -0.8315325689632433,
          -0.22553075401043343,
          -0.7115019940281959,
          0.6252454113630195,
          0.3356323267021671,
          -0.3256550035188035,
          0.42413390342486673,
          -0.10362122042408826,
          -0.38012643362080645,
          -0.6051824096248479,
          0.48740224299459795,
          0.39706571100976,
          -0.2026622694219209,
          0.11227821098089569,
          -0.7035138798627436,
          -0.16527137847352502,
          -0.6383782323502412,
          -0.3468459156668618,
          0.4628512480557619,
          -1.4392526093663887,
          0.8522739411402338,
          -0.8433834393053037,
          -0.5055291702204658,
          0.05112945543963779
         ],
         "xaxis": "x12",
         "yaxis": "y12"
        },
        {
         "alignmentgroup": "True",
         "bingroup": "x",
         "hovertemplate": "choc=12<br>rating=%{x}<br>count=%{y}<extra></extra>",
         "legendgroup": "",
         "marker": {
          "color": "#1F77B4",
          "pattern": {
           "shape": ""
          }
         },
         "name": "",
         "offsetgroup": "",
         "orientation": "v",
         "showlegend": false,
         "type": "histogram",
         "x": [
          1.1882570184269619,
          1.912640649564306,
          1.8823574859238357,
          1.5106853694462525,
          1.8341461128516876,
          2.1199989571675717,
          1.7999510259361646,
          1.5615128234672009,
          1.404214909135842,
          1.301241622987678,
          1.628183899938995,
          2.0639186662204825,
          1.5896154801320685,
          1.3476641653899621,
          1.658164733104786,
          1.6488312857836123,
          1.6179270626229165,
          1.4535748241086799,
          1.569445593026001,
          1.7390861635281278,
          1.4264985667678214,
          1.7685587911136607,
          2.186471957993862,
          1.6112267302405359,
          1.4622387641789985,
          1.0541336078117511,
          1.599315258048928,
          1.2378205511656275,
          1.3335272510160485,
          1.1337852945866365,
          1.2988498707668794,
          0.6943634793147099,
          0.9544351638457709,
          1.1955122486008136,
          1.5345992778026716,
          1.2683439849007656,
          2.1809923540989757,
          1.827236181639537,
          1.6632697216747356,
          1.7047724219190494,
          1.4350789667540822,
          2.020773610579682,
          1.2345196639727787,
          0.9101602301199153,
          1.4729033847251867,
          0.5938537547729761,
          1.6833281495684955,
          1.0817847740794533,
          0.7742950604872288,
          1.4445486369182112,
          1.6534446376200675,
          1.4892644701520645,
          1.806799754003787,
          1.1028047673554884,
          1.4455915217585367,
          1.3129371629594542,
          1.9436545792654112,
          1.3128164878869781,
          1.8944718404241008,
          1.7750985363916834,
          1.4287413531232225,
          1.7476624028194874,
          0.95243370633383,
          1.0478245816917797,
          1.6804519462361687,
          2.3587835960940904,
          1.5436927679660704,
          1.2338534419344238,
          1.4509570023811194,
          1.6454315549836527,
          0.7200347647345418,
          1.7016122186659368,
          2.111052267218978,
          1.0168642106619687,
          1.2650356795951871,
          1.8022953505464305,
          1.4162228232599192,
          1.636120068908331,
          1.1820931778351433,
          0.6378071916475471,
          1.3240953409480904,
          1.5034216842858703,
          1.48939532349046,
          1.445143242633927,
          2.3497001124061807,
          1.1993156786892416,
          1.9266833854360454,
          1.9628762622896097,
          2.273460559066477,
          0.5150044936798965,
          1.5864918350707218,
          1.2298387389396868,
          1.362309981011238,
          1.3419729303216086,
          0.8022142979911193,
          1.1753980450782224,
          1.8659271516356637,
          2.0469965715602925,
          1.4311510665390663,
          2.132165613202326
         ],
         "xaxis": "x",
         "yaxis": "y"
        },
        {
         "alignmentgroup": "True",
         "bingroup": "x",
         "hovertemplate": "choc=13<br>rating=%{x}<br>count=%{y}<extra></extra>",
         "legendgroup": "",
         "marker": {
          "color": "#1F77B4",
          "pattern": {
           "shape": ""
          }
         },
         "name": "",
         "offsetgroup": "",
         "orientation": "v",
         "showlegend": false,
         "type": "histogram",
         "x": [
          -0.9255036167885997,
          -0.6702511078578804,
          -0.43330309314228954,
          -0.011173609026848719,
          -0.23368697586171588,
          -0.5640133604621035,
          -0.5973339306840927,
          -0.15751574610900826,
          -0.7908292464426343,
          -1.2380037101306844,
          -1.1740858328188888,
          -0.45929209770301144,
          -0.3816084489118756,
          -0.37643261499406044,
          0.12232080782839583,
          -0.29695109329232683,
          -0.7114956136470492,
          -0.8995878790670266,
          -1.4751012661437,
          -1.096431541221874,
          -0.2755771141269652,
          0.4657738722111433,
          -0.4191156542407999,
          -0.836497455240965,
          -0.4103931209436733,
          0.2826910661977198,
          0.12457407673913057,
          -0.699243312013553,
          -0.5192905143962436,
          -1.6301772147219484,
          -0.5813388318465116,
          -0.4908963045907913,
          -0.09572737269965725,
          -0.5121209832504335,
          -1.074143535613661,
          -0.9665139067811814,
          -0.6608061073807646,
          -0.08950198119277453,
          -0.521197303144424,
          -0.8319285306681621,
          -1.1165611080037983,
          -0.36927733901138815,
          -1.595790812924138,
          -1.118699646832248,
          -0.6922371786756699,
          -0.8013686078695179,
          -1.0210062094491992,
          -0.5672812351061309,
          -0.34756552558315035,
          0.12245729070164812,
          -0.25217549802225925,
          0.21614794378741065,
          -1.0788502752992821,
          -0.37117939153959584,
          -0.9298574807662504,
          -0.5558965127280471,
          -0.740394022198495,
          -0.11481521361109648,
          -0.596458905582767,
          -0.9127545104742395,
          -1.179121132805507,
          -0.4652864562347381,
          -1.1911742895374415,
          -0.5051073039063221,
          -1.4003406686136182,
          -0.9280623225873257,
          -0.8654826165358918,
          -1.0928037173878238,
          -1.267274082169666,
          -0.9287168098630395,
          -1.3442901887385486,
          -1.4046374607099965,
          -0.4938797138401483,
          -0.8869292046242455,
          -1.0252803623708213,
          -0.646107327839811,
          -0.566874535095865,
          -0.7192564885104947,
          -0.20228997129196186,
          -0.5745712537770502,
          -0.46146975476916596,
          -1.0290304656858162,
          -0.8262094748597463,
          -0.2532152702934875,
          -0.8079835266731132,
          -1.0922117096851358,
          -1.105224832754232,
          -0.5952187557846083,
          0.20001555515736846,
          -0.027012330723500844,
          -0.23448875644669298,
          -0.8116671383979447,
          -1.1750987111251505,
          -1.4565580155702542,
          -1.774283143240635,
          -0.27071475757968794,
          -0.821263287064471,
          -1.1955218261391614,
          -0.9846991219625778,
          -0.9660000548145014
         ],
         "xaxis": "x2",
         "yaxis": "y2"
        },
        {
         "alignmentgroup": "True",
         "bingroup": "x",
         "hovertemplate": "choc=14<br>rating=%{x}<br>count=%{y}<extra></extra>",
         "legendgroup": "",
         "marker": {
          "color": "#1F77B4",
          "pattern": {
           "shape": ""
          }
         },
         "name": "",
         "offsetgroup": "",
         "orientation": "v",
         "showlegend": false,
         "type": "histogram",
         "x": [
          -0.9184034811976273,
          -0.5287882772119032,
          0.17609597413135836,
          -0.2916863691540894,
          -0.4105997246914948,
          -0.8791036193830226,
          -1.1794279238941492,
          0.24671067067100882,
          -0.4722580443589809,
          -0.6447427655425634,
          0.04937659211178491,
          -1.2348677217317228,
          -0.3259587936770953,
          0.023004989738761195,
          -0.16015993088330588,
          0.12922349338309602,
          -0.12202303719288221,
          0.09443762231352448,
          -0.6113167911463608,
          0.2764958754425292,
          -0.8831398001775195,
          -0.6863866739829246,
          -1.0764615082558682,
          -0.22593182153751426,
          -0.27141371275767356,
          -0.7948130939741586,
          0.43283941839330087,
          0.12582050248168575,
          -1.567651023314219,
          -0.5559785165350217,
          -0.9873708407570116,
          -0.17621405829376763,
          -0.696757792194143,
          -0.2864543729860918,
          -1.0677400799775776,
          -0.5647550445623366,
          0.9144565636161177,
          0.2654965487524299,
          -1.0158004396630167,
          -0.13287178148322243,
          -1.2297275023812628,
          0.4298073851308606,
          -0.1825097474015,
          -0.7928037547358697,
          1.0464162689123908,
          0.028160624600629958,
          0.2612934286148696,
          -0.8574847672703395,
          -1.0528230627091557,
          -0.10825952302686326,
          -0.060209342067362615,
          -0.463946096052173,
          -0.01973622239822559,
          -0.22850513902207092,
          -1.054461410756161,
          -0.07329197034607665,
          -0.9237186637857181,
          -0.7462471983112086,
          -0.7517653946828673,
          -0.011499404784807987,
          -0.9710057493147332,
          0.22368584699420913,
          -0.5012438812238404,
          -0.18303795571611747,
          -0.7306302225546142,
          -0.49525820118527164,
          -0.7029236571258644,
          -0.6047784922284923,
          0.15840942917147638,
          0.5271687687332902,
          -0.7292213372773508,
          -0.1049480378186447,
          0.4751167309867902,
          -2.043994661213976,
          -1.1051960494978128,
          0.12314183528468736,
          -1.175988986659377,
          -1.128928451295996,
          -0.851340908925019,
          -0.12556998138413966,
          -0.7585959794401099,
          -0.537261359016955,
          -0.5460366322369868,
          0.20286139472678322,
          0.4568000846274839,
          -0.7247380997033412,
          -0.14932090765001416,
          -1.6121262909609326,
          -0.32345115811322284,
          -0.5366906852204067,
          -1.0855770473462076,
          -0.06384135483315972,
          0.05941227858199705,
          -0.6078760598665081,
          -0.47888453416828125,
          -0.8042836906344325,
          -0.3601962005961389,
          -0.27787067961333634,
          -0.09002541613512138,
          -0.8521916108516944
         ],
         "xaxis": "x3",
         "yaxis": "y3"
        },
        {
         "alignmentgroup": "True",
         "bingroup": "x",
         "hovertemplate": "choc=15<br>rating=%{x}<br>count=%{y}<extra></extra>",
         "legendgroup": "",
         "marker": {
          "color": "#1F77B4",
          "pattern": {
           "shape": ""
          }
         },
         "name": "",
         "offsetgroup": "",
         "orientation": "v",
         "showlegend": false,
         "type": "histogram",
         "x": [
          -0.3480661524237703,
          0.4388531287583865,
          -0.33980389484581525,
          0.39096821668245124,
          -0.5076272919725543,
          -0.7316084479311066,
          -0.22567707789395716,
          -1.8997321262567608,
          -0.5005307881433136,
          -0.389244584140296,
          -1.2186016116017115,
          -1.135466245319735,
          0.015892117509536896,
          -0.48314306124462325,
          -1.5409419458186542,
          -0.5128326817870943,
          -0.5823958479966335,
          0.5256899655349221,
          0.20426482460249146,
          -0.37040816393756304,
          -0.05473092326983159,
          -0.5289752227210403,
          0.0006665021942320326,
          -1.6997885835208297,
          0.019524663805514153,
          -0.6826085071186945,
          -1.0529051530479197,
          -1.1943148450834558,
          -0.4432677997881085,
          -0.5086013716327179,
          -0.1004225882953294,
          -0.8060805395737342,
          -0.26550916549803594,
          -1.1493111434514374,
          -1.3234978893221083,
          -0.2291972750566288,
          -0.8439167452892921,
          -0.8845999306391803,
          -1.4996475083280192,
          0.22860420976767676,
          -1.258703579279055,
          -0.8050386827210383,
          -1.8212104198314747,
          -0.47645367362185054,
          -0.6635294234754784,
          -0.4865280021207552,
          -0.854968766089133,
          -0.43551016049838376,
          -0.5089977071509674,
          -0.8777804185398062,
          -1.003320890370929,
          -0.5191309477688035,
          -0.698075206536748,
          -0.17708933896110263,
          -0.6606119779024759,
          -0.2534797233685392,
          -1.0215720070842105,
          -0.08952309403570108,
          -0.8792531593014508,
          -0.8488224658892061,
          -0.3748646169817245,
          -0.967358030284166,
          0.03779156428853858,
          0.011056462924229349,
          -0.2659170722372668,
          -0.17492067801536948,
          -0.03558823633852376,
          -0.3457099097402957,
          0.048757958666738155,
          -0.0009602109602516173,
          -0.5462180181018187,
          -0.032208038736864175,
          -0.7988781901948169,
          -0.28415333499077755,
          0.16842458233218832,
          -0.9985392104375801,
          -0.6509485505783283,
          -1.0368499748414404,
          -0.9799541389831754,
          -0.2157144240615876,
          0.1358349201545352,
          -0.22865152239383255,
          -0.4672310037855475,
          -0.08815124291883303,
          0.3713264269716879,
          0.22496930380453545,
          -0.16658985607108612,
          0.1853365736360449,
          -0.8182691791520484,
          -0.2708530646423505,
          -0.08975853087386748,
          0.2881077428572207,
          -0.3864664330428239,
          -0.5337692648002177,
          -1.2812928553380738,
          -0.04202669616411192,
          1.0680296243540481,
          -0.863899879279061,
          -0.14356171948638707,
          -0.07343812138405575
         ],
         "xaxis": "x4",
         "yaxis": "y4"
        },
        {
         "alignmentgroup": "True",
         "bingroup": "x",
         "hovertemplate": "choc=16<br>rating=%{x}<br>count=%{y}<extra></extra>",
         "legendgroup": "",
         "marker": {
          "color": "#1F77B4",
          "pattern": {
           "shape": ""
          }
         },
         "name": "",
         "offsetgroup": "",
         "orientation": "v",
         "showlegend": false,
         "type": "histogram",
         "x": [
          2.426314110450128,
          1.6009693409505776,
          1.014166117946774,
          1.679756618107266,
          1.9671416276577913,
          3.0070281954417077,
          1.5822861748763168,
          2.721917134192724,
          2.2299204157806636,
          2.401016923280335,
          2.5067334738149203,
          2.9859948395716978,
          1.7820790356467089,
          2.6094790855621284,
          2.630817106302421,
          1.101732627199461,
          0.03750811056137682,
          1.4215819902836087,
          2.554198027466753,
          1.9249898343665683,
          3.0213610174327323,
          2.0164540540292,
          4.196628001168895,
          2.732290940898477,
          2.250171453747962,
          2.2421419021622735,
          1.166227622639606,
          1.5746214892662538,
          3.1112268537384087,
          3.390069288979581,
          2.242962294226507,
          1.5993857563398577,
          2.5456704347618233,
          1.576435248814348,
          1.494049433328723,
          1.9648128685283377,
          2.44985070692442,
          2.384418961208053,
          2.868602619200052,
          3.006510372485801,
          2.1296163633952916,
          2.0389438095379897,
          1.1704962379853032,
          1.5437862936599096,
          2.4297212563971797,
          1.653960438790617,
          2.070346387457693,
          2.7133589403297096,
          2.279207652838757,
          2.6022548549425846,
          2.3594310700818837,
          2.11945915287028,
          2.104860219330258,
          2.693248862327999,
          1.962790414861504,
          3.5301684144778163,
          1.6040633271480391,
          2.9190099943675554,
          2.2491315108897285,
          1.6037002422486888,
          2.7393616298463206,
          3.208444026533246,
          2.47374570850551,
          2.9926781901240957,
          1.5216926426654043,
          1.9156196182716727,
          1.7129381558849586,
          1.6201208512777725,
          1.3139531613597741,
          3.312359600469164,
          2.868386513261622,
          1.553531608750363,
          0.733812348307818,
          0.9418278456067957,
          1.0484849088307018,
          3.4330106558503317,
          1.767549708287628,
          2.4809842990436675,
          2.0533668613816722,
          2.7502462290734893,
          3.6939293577769647,
          0.5455727927763678,
          1.6553425223250777,
          3.390054906295692,
          2.191100405719373,
          1.9278460823681607,
          2.7764764063049414,
          1.1477133542297635,
          1.8746751029341073,
          2.323561811013397,
          3.074692890820695,
          2.295848533749175,
          0.9279022564457862,
          3.0150142847871004,
          3.5144701446332602,
          1.9088810877053075,
          3.747798060830923,
          2.196768773307211,
          1.3530583097526354,
          1.1019058913666375
         ],
         "xaxis": "x5",
         "yaxis": "y5"
        }
       ],
       "layout": {
        "annotations": [
         {
          "font": {},
          "showarrow": false,
          "text": "choc=12",
          "x": 0.075,
          "xanchor": "center",
          "xref": "paper",
          "y": 0.2866666666666666,
          "yanchor": "bottom",
          "yref": "paper"
         },
         {
          "font": {},
          "showarrow": false,
          "text": "choc=13",
          "x": 0.24499999999999997,
          "xanchor": "center",
          "xref": "paper",
          "y": 0.2866666666666666,
          "yanchor": "bottom",
          "yref": "paper"
         },
         {
          "font": {},
          "showarrow": false,
          "text": "choc=14",
          "x": 0.415,
          "xanchor": "center",
          "xref": "paper",
          "y": 0.2866666666666666,
          "yanchor": "bottom",
          "yref": "paper"
         },
         {
          "font": {},
          "showarrow": false,
          "text": "choc=15",
          "x": 0.585,
          "xanchor": "center",
          "xref": "paper",
          "y": 0.2866666666666666,
          "yanchor": "bottom",
          "yref": "paper"
         },
         {
          "font": {},
          "showarrow": false,
          "text": "choc=16",
          "x": 0.7549999999999999,
          "xanchor": "center",
          "xref": "paper",
          "y": 0.2866666666666666,
          "yanchor": "bottom",
          "yref": "paper"
         },
         {
          "font": {},
          "showarrow": false,
          "text": "choc=6",
          "x": 0.075,
          "xanchor": "center",
          "xref": "paper",
          "y": 0.6433333333333333,
          "yanchor": "bottom",
          "yref": "paper"
         },
         {
          "font": {},
          "showarrow": false,
          "text": "choc=7",
          "x": 0.24499999999999997,
          "xanchor": "center",
          "xref": "paper",
          "y": 0.6433333333333333,
          "yanchor": "bottom",
          "yref": "paper"
         },
         {
          "font": {},
          "showarrow": false,
          "text": "choc=8",
          "x": 0.415,
          "xanchor": "center",
          "xref": "paper",
          "y": 0.6433333333333333,
          "yanchor": "bottom",
          "yref": "paper"
         },
         {
          "font": {},
          "showarrow": false,
          "text": "choc=9",
          "x": 0.585,
          "xanchor": "center",
          "xref": "paper",
          "y": 0.6433333333333333,
          "yanchor": "bottom",
          "yref": "paper"
         },
         {
          "font": {},
          "showarrow": false,
          "text": "choc=10",
          "x": 0.7549999999999999,
          "xanchor": "center",
          "xref": "paper",
          "y": 0.6433333333333333,
          "yanchor": "bottom",
          "yref": "paper"
         },
         {
          "font": {},
          "showarrow": false,
          "text": "choc=11",
          "x": 0.925,
          "xanchor": "center",
          "xref": "paper",
          "y": 0.6433333333333333,
          "yanchor": "bottom",
          "yref": "paper"
         },
         {
          "font": {},
          "showarrow": false,
          "text": "choc=0",
          "x": 0.075,
          "xanchor": "center",
          "xref": "paper",
          "y": 0.9999999999999999,
          "yanchor": "bottom",
          "yref": "paper"
         },
         {
          "font": {},
          "showarrow": false,
          "text": "choc=1",
          "x": 0.24499999999999997,
          "xanchor": "center",
          "xref": "paper",
          "y": 0.9999999999999999,
          "yanchor": "bottom",
          "yref": "paper"
         },
         {
          "font": {},
          "showarrow": false,
          "text": "choc=2",
          "x": 0.415,
          "xanchor": "center",
          "xref": "paper",
          "y": 0.9999999999999999,
          "yanchor": "bottom",
          "yref": "paper"
         },
         {
          "font": {},
          "showarrow": false,
          "text": "choc=3",
          "x": 0.585,
          "xanchor": "center",
          "xref": "paper",
          "y": 0.9999999999999999,
          "yanchor": "bottom",
          "yref": "paper"
         },
         {
          "font": {},
          "showarrow": false,
          "text": "choc=4",
          "x": 0.7549999999999999,
          "xanchor": "center",
          "xref": "paper",
          "y": 0.9999999999999999,
          "yanchor": "bottom",
          "yref": "paper"
         },
         {
          "font": {},
          "showarrow": false,
          "text": "choc=5",
          "x": 0.925,
          "xanchor": "center",
          "xref": "paper",
          "y": 0.9999999999999999,
          "yanchor": "bottom",
          "yref": "paper"
         }
        ],
        "barmode": "relative",
        "legend": {
         "tracegroupgap": 0
        },
        "margin": {
         "t": 60
        },
        "template": {
         "data": {
          "bar": [
           {
            "error_x": {
             "color": "rgb(36,36,36)"
            },
            "error_y": {
             "color": "rgb(36,36,36)"
            },
            "marker": {
             "line": {
              "color": "white",
              "width": 0.5
             },
             "pattern": {
              "fillmode": "overlay",
              "size": 10,
              "solidity": 0.2
             }
            },
            "type": "bar"
           }
          ],
          "barpolar": [
           {
            "marker": {
             "line": {
              "color": "white",
              "width": 0.5
             },
             "pattern": {
              "fillmode": "overlay",
              "size": 10,
              "solidity": 0.2
             }
            },
            "type": "barpolar"
           }
          ],
          "carpet": [
           {
            "aaxis": {
             "endlinecolor": "rgb(36,36,36)",
             "gridcolor": "white",
             "linecolor": "white",
             "minorgridcolor": "white",
             "startlinecolor": "rgb(36,36,36)"
            },
            "baxis": {
             "endlinecolor": "rgb(36,36,36)",
             "gridcolor": "white",
             "linecolor": "white",
             "minorgridcolor": "white",
             "startlinecolor": "rgb(36,36,36)"
            },
            "type": "carpet"
           }
          ],
          "choropleth": [
           {
            "colorbar": {
             "outlinewidth": 1,
             "tickcolor": "rgb(36,36,36)",
             "ticks": "outside"
            },
            "type": "choropleth"
           }
          ],
          "contour": [
           {
            "colorbar": {
             "outlinewidth": 1,
             "tickcolor": "rgb(36,36,36)",
             "ticks": "outside"
            },
            "colorscale": [
             [
              0,
              "#440154"
             ],
             [
              0.1111111111111111,
              "#482878"
             ],
             [
              0.2222222222222222,
              "#3e4989"
             ],
             [
              0.3333333333333333,
              "#31688e"
             ],
             [
              0.4444444444444444,
              "#26828e"
             ],
             [
              0.5555555555555556,
              "#1f9e89"
             ],
             [
              0.6666666666666666,
              "#35b779"
             ],
             [
              0.7777777777777778,
              "#6ece58"
             ],
             [
              0.8888888888888888,
              "#b5de2b"
             ],
             [
              1,
              "#fde725"
             ]
            ],
            "type": "contour"
           }
          ],
          "contourcarpet": [
           {
            "colorbar": {
             "outlinewidth": 1,
             "tickcolor": "rgb(36,36,36)",
             "ticks": "outside"
            },
            "type": "contourcarpet"
           }
          ],
          "heatmap": [
           {
            "colorbar": {
             "outlinewidth": 1,
             "tickcolor": "rgb(36,36,36)",
             "ticks": "outside"
            },
            "colorscale": [
             [
              0,
              "#440154"
             ],
             [
              0.1111111111111111,
              "#482878"
             ],
             [
              0.2222222222222222,
              "#3e4989"
             ],
             [
              0.3333333333333333,
              "#31688e"
             ],
             [
              0.4444444444444444,
              "#26828e"
             ],
             [
              0.5555555555555556,
              "#1f9e89"
             ],
             [
              0.6666666666666666,
              "#35b779"
             ],
             [
              0.7777777777777778,
              "#6ece58"
             ],
             [
              0.8888888888888888,
              "#b5de2b"
             ],
             [
              1,
              "#fde725"
             ]
            ],
            "type": "heatmap"
           }
          ],
          "heatmapgl": [
           {
            "colorbar": {
             "outlinewidth": 1,
             "tickcolor": "rgb(36,36,36)",
             "ticks": "outside"
            },
            "colorscale": [
             [
              0,
              "#440154"
             ],
             [
              0.1111111111111111,
              "#482878"
             ],
             [
              0.2222222222222222,
              "#3e4989"
             ],
             [
              0.3333333333333333,
              "#31688e"
             ],
             [
              0.4444444444444444,
              "#26828e"
             ],
             [
              0.5555555555555556,
              "#1f9e89"
             ],
             [
              0.6666666666666666,
              "#35b779"
             ],
             [
              0.7777777777777778,
              "#6ece58"
             ],
             [
              0.8888888888888888,
              "#b5de2b"
             ],
             [
              1,
              "#fde725"
             ]
            ],
            "type": "heatmapgl"
           }
          ],
          "histogram": [
           {
            "marker": {
             "line": {
              "color": "white",
              "width": 0.6
             }
            },
            "type": "histogram"
           }
          ],
          "histogram2d": [
           {
            "colorbar": {
             "outlinewidth": 1,
             "tickcolor": "rgb(36,36,36)",
             "ticks": "outside"
            },
            "colorscale": [
             [
              0,
              "#440154"
             ],
             [
              0.1111111111111111,
              "#482878"
             ],
             [
              0.2222222222222222,
              "#3e4989"
             ],
             [
              0.3333333333333333,
              "#31688e"
             ],
             [
              0.4444444444444444,
              "#26828e"
             ],
             [
              0.5555555555555556,
              "#1f9e89"
             ],
             [
              0.6666666666666666,
              "#35b779"
             ],
             [
              0.7777777777777778,
              "#6ece58"
             ],
             [
              0.8888888888888888,
              "#b5de2b"
             ],
             [
              1,
              "#fde725"
             ]
            ],
            "type": "histogram2d"
           }
          ],
          "histogram2dcontour": [
           {
            "colorbar": {
             "outlinewidth": 1,
             "tickcolor": "rgb(36,36,36)",
             "ticks": "outside"
            },
            "colorscale": [
             [
              0,
              "#440154"
             ],
             [
              0.1111111111111111,
              "#482878"
             ],
             [
              0.2222222222222222,
              "#3e4989"
             ],
             [
              0.3333333333333333,
              "#31688e"
             ],
             [
              0.4444444444444444,
              "#26828e"
             ],
             [
              0.5555555555555556,
              "#1f9e89"
             ],
             [
              0.6666666666666666,
              "#35b779"
             ],
             [
              0.7777777777777778,
              "#6ece58"
             ],
             [
              0.8888888888888888,
              "#b5de2b"
             ],
             [
              1,
              "#fde725"
             ]
            ],
            "type": "histogram2dcontour"
           }
          ],
          "mesh3d": [
           {
            "colorbar": {
             "outlinewidth": 1,
             "tickcolor": "rgb(36,36,36)",
             "ticks": "outside"
            },
            "type": "mesh3d"
           }
          ],
          "parcoords": [
           {
            "line": {
             "colorbar": {
              "outlinewidth": 1,
              "tickcolor": "rgb(36,36,36)",
              "ticks": "outside"
             }
            },
            "type": "parcoords"
           }
          ],
          "pie": [
           {
            "automargin": true,
            "type": "pie"
           }
          ],
          "scatter": [
           {
            "fillpattern": {
             "fillmode": "overlay",
             "size": 10,
             "solidity": 0.2
            },
            "type": "scatter"
           }
          ],
          "scatter3d": [
           {
            "line": {
             "colorbar": {
              "outlinewidth": 1,
              "tickcolor": "rgb(36,36,36)",
              "ticks": "outside"
             }
            },
            "marker": {
             "colorbar": {
              "outlinewidth": 1,
              "tickcolor": "rgb(36,36,36)",
              "ticks": "outside"
             }
            },
            "type": "scatter3d"
           }
          ],
          "scattercarpet": [
           {
            "marker": {
             "colorbar": {
              "outlinewidth": 1,
              "tickcolor": "rgb(36,36,36)",
              "ticks": "outside"
             }
            },
            "type": "scattercarpet"
           }
          ],
          "scattergeo": [
           {
            "marker": {
             "colorbar": {
              "outlinewidth": 1,
              "tickcolor": "rgb(36,36,36)",
              "ticks": "outside"
             }
            },
            "type": "scattergeo"
           }
          ],
          "scattergl": [
           {
            "marker": {
             "colorbar": {
              "outlinewidth": 1,
              "tickcolor": "rgb(36,36,36)",
              "ticks": "outside"
             }
            },
            "type": "scattergl"
           }
          ],
          "scattermapbox": [
           {
            "marker": {
             "colorbar": {
              "outlinewidth": 1,
              "tickcolor": "rgb(36,36,36)",
              "ticks": "outside"
             }
            },
            "type": "scattermapbox"
           }
          ],
          "scatterpolar": [
           {
            "marker": {
             "colorbar": {
              "outlinewidth": 1,
              "tickcolor": "rgb(36,36,36)",
              "ticks": "outside"
             }
            },
            "type": "scatterpolar"
           }
          ],
          "scatterpolargl": [
           {
            "marker": {
             "colorbar": {
              "outlinewidth": 1,
              "tickcolor": "rgb(36,36,36)",
              "ticks": "outside"
             }
            },
            "type": "scatterpolargl"
           }
          ],
          "scatterternary": [
           {
            "marker": {
             "colorbar": {
              "outlinewidth": 1,
              "tickcolor": "rgb(36,36,36)",
              "ticks": "outside"
             }
            },
            "type": "scatterternary"
           }
          ],
          "surface": [
           {
            "colorbar": {
             "outlinewidth": 1,
             "tickcolor": "rgb(36,36,36)",
             "ticks": "outside"
            },
            "colorscale": [
             [
              0,
              "#440154"
             ],
             [
              0.1111111111111111,
              "#482878"
             ],
             [
              0.2222222222222222,
              "#3e4989"
             ],
             [
              0.3333333333333333,
              "#31688e"
             ],
             [
              0.4444444444444444,
              "#26828e"
             ],
             [
              0.5555555555555556,
              "#1f9e89"
             ],
             [
              0.6666666666666666,
              "#35b779"
             ],
             [
              0.7777777777777778,
              "#6ece58"
             ],
             [
              0.8888888888888888,
              "#b5de2b"
             ],
             [
              1,
              "#fde725"
             ]
            ],
            "type": "surface"
           }
          ],
          "table": [
           {
            "cells": {
             "fill": {
              "color": "rgb(237,237,237)"
             },
             "line": {
              "color": "white"
             }
            },
            "header": {
             "fill": {
              "color": "rgb(217,217,217)"
             },
             "line": {
              "color": "white"
             }
            },
            "type": "table"
           }
          ]
         },
         "layout": {
          "annotationdefaults": {
           "arrowhead": 0,
           "arrowwidth": 1
          },
          "autotypenumbers": "strict",
          "coloraxis": {
           "colorbar": {
            "outlinewidth": 1,
            "tickcolor": "rgb(36,36,36)",
            "ticks": "outside"
           }
          },
          "colorscale": {
           "diverging": [
            [
             0,
             "rgb(103,0,31)"
            ],
            [
             0.1,
             "rgb(178,24,43)"
            ],
            [
             0.2,
             "rgb(214,96,77)"
            ],
            [
             0.3,
             "rgb(244,165,130)"
            ],
            [
             0.4,
             "rgb(253,219,199)"
            ],
            [
             0.5,
             "rgb(247,247,247)"
            ],
            [
             0.6,
             "rgb(209,229,240)"
            ],
            [
             0.7,
             "rgb(146,197,222)"
            ],
            [
             0.8,
             "rgb(67,147,195)"
            ],
            [
             0.9,
             "rgb(33,102,172)"
            ],
            [
             1,
             "rgb(5,48,97)"
            ]
           ],
           "sequential": [
            [
             0,
             "#440154"
            ],
            [
             0.1111111111111111,
             "#482878"
            ],
            [
             0.2222222222222222,
             "#3e4989"
            ],
            [
             0.3333333333333333,
             "#31688e"
            ],
            [
             0.4444444444444444,
             "#26828e"
            ],
            [
             0.5555555555555556,
             "#1f9e89"
            ],
            [
             0.6666666666666666,
             "#35b779"
            ],
            [
             0.7777777777777778,
             "#6ece58"
            ],
            [
             0.8888888888888888,
             "#b5de2b"
            ],
            [
             1,
             "#fde725"
            ]
           ],
           "sequentialminus": [
            [
             0,
             "#440154"
            ],
            [
             0.1111111111111111,
             "#482878"
            ],
            [
             0.2222222222222222,
             "#3e4989"
            ],
            [
             0.3333333333333333,
             "#31688e"
            ],
            [
             0.4444444444444444,
             "#26828e"
            ],
            [
             0.5555555555555556,
             "#1f9e89"
            ],
            [
             0.6666666666666666,
             "#35b779"
            ],
            [
             0.7777777777777778,
             "#6ece58"
            ],
            [
             0.8888888888888888,
             "#b5de2b"
            ],
            [
             1,
             "#fde725"
            ]
           ]
          },
          "colorway": [
           "#1F77B4",
           "#FF7F0E",
           "#2CA02C",
           "#D62728",
           "#9467BD",
           "#8C564B",
           "#E377C2",
           "#7F7F7F",
           "#BCBD22",
           "#17BECF"
          ],
          "font": {
           "color": "rgb(36,36,36)"
          },
          "geo": {
           "bgcolor": "white",
           "lakecolor": "white",
           "landcolor": "white",
           "showlakes": true,
           "showland": true,
           "subunitcolor": "white"
          },
          "hoverlabel": {
           "align": "left"
          },
          "hovermode": "closest",
          "mapbox": {
           "style": "light"
          },
          "paper_bgcolor": "white",
          "plot_bgcolor": "white",
          "polar": {
           "angularaxis": {
            "gridcolor": "rgb(232,232,232)",
            "linecolor": "rgb(36,36,36)",
            "showgrid": false,
            "showline": true,
            "ticks": "outside"
           },
           "bgcolor": "white",
           "radialaxis": {
            "gridcolor": "rgb(232,232,232)",
            "linecolor": "rgb(36,36,36)",
            "showgrid": false,
            "showline": true,
            "ticks": "outside"
           }
          },
          "scene": {
           "xaxis": {
            "backgroundcolor": "white",
            "gridcolor": "rgb(232,232,232)",
            "gridwidth": 2,
            "linecolor": "rgb(36,36,36)",
            "showbackground": true,
            "showgrid": false,
            "showline": true,
            "ticks": "outside",
            "zeroline": false,
            "zerolinecolor": "rgb(36,36,36)"
           },
           "yaxis": {
            "backgroundcolor": "white",
            "gridcolor": "rgb(232,232,232)",
            "gridwidth": 2,
            "linecolor": "rgb(36,36,36)",
            "showbackground": true,
            "showgrid": false,
            "showline": true,
            "ticks": "outside",
            "zeroline": false,
            "zerolinecolor": "rgb(36,36,36)"
           },
           "zaxis": {
            "backgroundcolor": "white",
            "gridcolor": "rgb(232,232,232)",
            "gridwidth": 2,
            "linecolor": "rgb(36,36,36)",
            "showbackground": true,
            "showgrid": false,
            "showline": true,
            "ticks": "outside",
            "zeroline": false,
            "zerolinecolor": "rgb(36,36,36)"
           }
          },
          "shapedefaults": {
           "fillcolor": "black",
           "line": {
            "width": 0
           },
           "opacity": 0.3
          },
          "ternary": {
           "aaxis": {
            "gridcolor": "rgb(232,232,232)",
            "linecolor": "rgb(36,36,36)",
            "showgrid": false,
            "showline": true,
            "ticks": "outside"
           },
           "baxis": {
            "gridcolor": "rgb(232,232,232)",
            "linecolor": "rgb(36,36,36)",
            "showgrid": false,
            "showline": true,
            "ticks": "outside"
           },
           "bgcolor": "white",
           "caxis": {
            "gridcolor": "rgb(232,232,232)",
            "linecolor": "rgb(36,36,36)",
            "showgrid": false,
            "showline": true,
            "ticks": "outside"
           }
          },
          "title": {
           "x": 0.05
          },
          "xaxis": {
           "automargin": true,
           "gridcolor": "rgb(232,232,232)",
           "linecolor": "rgb(36,36,36)",
           "showgrid": false,
           "showline": true,
           "ticks": "outside",
           "title": {
            "standoff": 15
           },
           "zeroline": false,
           "zerolinecolor": "rgb(36,36,36)"
          },
          "yaxis": {
           "automargin": true,
           "gridcolor": "rgb(232,232,232)",
           "linecolor": "rgb(36,36,36)",
           "showgrid": false,
           "showline": true,
           "ticks": "outside",
           "title": {
            "standoff": 15
           },
           "zeroline": false,
           "zerolinecolor": "rgb(36,36,36)"
          }
         }
        },
        "xaxis": {
         "anchor": "y",
         "domain": [
          0,
          0.15
         ],
         "title": {
          "text": "rating"
         }
        },
        "xaxis10": {
         "anchor": "y10",
         "domain": [
          0.51,
          0.66
         ],
         "matches": "x",
         "showticklabels": false
        },
        "xaxis11": {
         "anchor": "y11",
         "domain": [
          0.6799999999999999,
          0.83
         ],
         "matches": "x",
         "showticklabels": false
        },
        "xaxis12": {
         "anchor": "y12",
         "domain": [
          0.85,
          1
         ],
         "matches": "x",
         "showticklabels": false
        },
        "xaxis13": {
         "anchor": "y13",
         "domain": [
          0,
          0.15
         ],
         "matches": "x",
         "showticklabels": false
        },
        "xaxis14": {
         "anchor": "y14",
         "domain": [
          0.16999999999999998,
          0.31999999999999995
         ],
         "matches": "x",
         "showticklabels": false
        },
        "xaxis15": {
         "anchor": "y15",
         "domain": [
          0.33999999999999997,
          0.49
         ],
         "matches": "x",
         "showticklabels": false
        },
        "xaxis16": {
         "anchor": "y16",
         "domain": [
          0.51,
          0.66
         ],
         "matches": "x",
         "showticklabels": false
        },
        "xaxis17": {
         "anchor": "y17",
         "domain": [
          0.6799999999999999,
          0.83
         ],
         "matches": "x",
         "showticklabels": false
        },
        "xaxis18": {
         "anchor": "y18",
         "domain": [
          0.85,
          1
         ],
         "matches": "x",
         "showticklabels": false
        },
        "xaxis2": {
         "anchor": "y2",
         "domain": [
          0.16999999999999998,
          0.31999999999999995
         ],
         "matches": "x",
         "title": {
          "text": "rating"
         }
        },
        "xaxis3": {
         "anchor": "y3",
         "domain": [
          0.33999999999999997,
          0.49
         ],
         "matches": "x",
         "title": {
          "text": "rating"
         }
        },
        "xaxis4": {
         "anchor": "y4",
         "domain": [
          0.51,
          0.66
         ],
         "matches": "x",
         "title": {
          "text": "rating"
         }
        },
        "xaxis5": {
         "anchor": "y5",
         "domain": [
          0.6799999999999999,
          0.83
         ],
         "matches": "x",
         "title": {
          "text": "rating"
         }
        },
        "xaxis6": {
         "anchor": "y6",
         "domain": [
          0.85,
          1
         ],
         "matches": "x",
         "title": {
          "text": "rating"
         }
        },
        "xaxis7": {
         "anchor": "y7",
         "domain": [
          0,
          0.15
         ],
         "matches": "x",
         "showticklabels": false
        },
        "xaxis8": {
         "anchor": "y8",
         "domain": [
          0.16999999999999998,
          0.31999999999999995
         ],
         "matches": "x",
         "showticklabels": false
        },
        "xaxis9": {
         "anchor": "y9",
         "domain": [
          0.33999999999999997,
          0.49
         ],
         "matches": "x",
         "showticklabels": false
        },
        "yaxis": {
         "anchor": "x",
         "domain": [
          0,
          0.2866666666666666
         ],
         "title": {
          "text": "count"
         }
        },
        "yaxis10": {
         "anchor": "x10",
         "domain": [
          0.35666666666666663,
          0.6433333333333333
         ],
         "matches": "y",
         "showticklabels": false
        },
        "yaxis11": {
         "anchor": "x11",
         "domain": [
          0.35666666666666663,
          0.6433333333333333
         ],
         "matches": "y",
         "showticklabels": false
        },
        "yaxis12": {
         "anchor": "x12",
         "domain": [
          0.35666666666666663,
          0.6433333333333333
         ],
         "matches": "y",
         "showticklabels": false
        },
        "yaxis13": {
         "anchor": "x13",
         "domain": [
          0.7133333333333333,
          0.9999999999999999
         ],
         "matches": "y",
         "title": {
          "text": "count"
         }
        },
        "yaxis14": {
         "anchor": "x14",
         "domain": [
          0.7133333333333333,
          0.9999999999999999
         ],
         "matches": "y",
         "showticklabels": false
        },
        "yaxis15": {
         "anchor": "x15",
         "domain": [
          0.7133333333333333,
          0.9999999999999999
         ],
         "matches": "y",
         "showticklabels": false
        },
        "yaxis16": {
         "anchor": "x16",
         "domain": [
          0.7133333333333333,
          0.9999999999999999
         ],
         "matches": "y",
         "showticklabels": false
        },
        "yaxis17": {
         "anchor": "x17",
         "domain": [
          0.7133333333333333,
          0.9999999999999999
         ],
         "matches": "y",
         "showticklabels": false
        },
        "yaxis18": {
         "anchor": "x18",
         "domain": [
          0.7133333333333333,
          0.9999999999999999
         ],
         "matches": "y",
         "showticklabels": false
        },
        "yaxis2": {
         "anchor": "x2",
         "domain": [
          0,
          0.2866666666666666
         ],
         "matches": "y",
         "showticklabels": false
        },
        "yaxis3": {
         "anchor": "x3",
         "domain": [
          0,
          0.2866666666666666
         ],
         "matches": "y",
         "showticklabels": false
        },
        "yaxis4": {
         "anchor": "x4",
         "domain": [
          0,
          0.2866666666666666
         ],
         "matches": "y",
         "showticklabels": false
        },
        "yaxis5": {
         "anchor": "x5",
         "domain": [
          0,
          0.2866666666666666
         ],
         "matches": "y",
         "showticklabels": false
        },
        "yaxis6": {
         "anchor": "x6",
         "domain": [
          0,
          0.2866666666666666
         ],
         "matches": "y",
         "showticklabels": false
        },
        "yaxis7": {
         "anchor": "x7",
         "domain": [
          0.35666666666666663,
          0.6433333333333333
         ],
         "matches": "y",
         "title": {
          "text": "count"
         }
        },
        "yaxis8": {
         "anchor": "x8",
         "domain": [
          0.35666666666666663,
          0.6433333333333333
         ],
         "matches": "y",
         "showticklabels": false
        },
        "yaxis9": {
         "anchor": "x9",
         "domain": [
          0.35666666666666663,
          0.6433333333333333
         ],
         "matches": "y",
         "showticklabels": false
        }
       }
      }
     },
     "metadata": {},
     "output_type": "display_data"
    }
   ],
   "source": [
    "px.histogram(ratings_df,\n",
    "                x='rating',\n",
    "                facet_col='choc',\n",
    "                facet_col_wrap=6,\n",
    "                template='simple_white')"
   ]
  },
  {
   "cell_type": "code",
   "execution_count": 8,
   "metadata": {},
   "outputs": [
    {
     "data": {
      "application/vnd.plotly.v1+json": {
       "config": {
        "plotlyServerURL": "https://plot.ly"
       },
       "data": [
        {
         "alignmentgroup": "True",
         "bingroup": "x",
         "hovertemplate": "person=0<br>rating=%{x}<br>count=%{y}<extra></extra>",
         "legendgroup": "",
         "marker": {
          "color": "#1F77B4",
          "pattern": {
           "shape": ""
          }
         },
         "name": "",
         "offsetgroup": "",
         "orientation": "v",
         "showlegend": false,
         "type": "histogram",
         "x": [
          -1.8907486596679226,
          0.019034050888091625,
          0.7753714576703867,
          -1.4073441006120202,
          -0.11474349008280299,
          1.6926916272506836,
          -1.4897618659034422,
          -0.3186854068688599,
          1.6477847814052233,
          -0.3140646573493685,
          -0.6195839772379806,
          -0.23883595404795974,
          1.1882570184269619,
          -0.9255036167885997,
          -0.9184034811976273,
          -0.3480661524237703,
          2.426314110450128
         ],
         "xaxis": "x16",
         "yaxis": "y16"
        },
        {
         "alignmentgroup": "True",
         "bingroup": "x",
         "hovertemplate": "person=1<br>rating=%{x}<br>count=%{y}<extra></extra>",
         "legendgroup": "",
         "marker": {
          "color": "#1F77B4",
          "pattern": {
           "shape": ""
          }
         },
         "name": "",
         "offsetgroup": "",
         "orientation": "v",
         "showlegend": false,
         "type": "histogram",
         "x": [
          -0.11691358762224868,
          1.7257347952029294,
          1.6350231775540112,
          -1.5693174169719841,
          -0.6304696013730187,
          1.3032873301499674,
          -1.8211932756785822,
          -0.3824056890908931,
          2.036675272859217,
          -0.042276083593904557,
          -0.7650553321252396,
          -0.4026212982441909,
          1.912640649564306,
          -0.6702511078578804,
          -0.5287882772119032,
          0.4388531287583865,
          1.6009693409505776
         ],
         "xaxis": "x17",
         "yaxis": "y17"
        },
        {
         "alignmentgroup": "True",
         "bingroup": "x",
         "hovertemplate": "person=2<br>rating=%{x}<br>count=%{y}<extra></extra>",
         "legendgroup": "",
         "marker": {
          "color": "#1F77B4",
          "pattern": {
           "shape": ""
          }
         },
         "name": "",
         "offsetgroup": "",
         "orientation": "v",
         "showlegend": false,
         "type": "histogram",
         "x": [
          -0.514526775818276,
          1.8256808061712473,
          -0.2538443458920405,
          -1.383534561344697,
          -0.8974620090330769,
          1.4716592102582076,
          -2.33306509764706,
          -0.6197917616420476,
          0.9620941324747023,
          -0.502352260031262,
          -0.8626829696726682,
          -0.6806370060445559,
          1.8823574859238357,
          -0.43330309314228954,
          0.17609597413135836,
          -0.33980389484581525,
          1.014166117946774
         ],
         "xaxis": "x18",
         "yaxis": "y18"
        },
        {
         "alignmentgroup": "True",
         "bingroup": "x",
         "hovertemplate": "person=3<br>rating=%{x}<br>count=%{y}<extra></extra>",
         "legendgroup": "",
         "marker": {
          "color": "#1F77B4",
          "pattern": {
           "shape": ""
          }
         },
         "name": "",
         "offsetgroup": "",
         "orientation": "v",
         "showlegend": false,
         "type": "histogram",
         "x": [
          -2.173026900794835,
          0.39446561114621914,
          -0.0151830600053387,
          -1.637246817609958,
          -0.35493764074077866,
          2.3452276238540533,
          -1.6810506036077477,
          -0.44078243415162016,
          1.2683491688723878,
          -1.658083156592198,
          -1.1249905943403764,
          0.5840372377467229,
          1.5106853694462525,
          -0.011173609026848719,
          -0.2916863691540894,
          0.39096821668245124,
          1.679756618107266
         ],
         "xaxis": "x19",
         "yaxis": "y19"
        },
        {
         "alignmentgroup": "True",
         "bingroup": "x",
         "hovertemplate": "person=4<br>rating=%{x}<br>count=%{y}<extra></extra>",
         "legendgroup": "",
         "marker": {
          "color": "#1F77B4",
          "pattern": {
           "shape": ""
          }
         },
         "name": "",
         "offsetgroup": "",
         "orientation": "v",
         "showlegend": false,
         "type": "histogram",
         "x": [
          -0.711301776896931,
          0.34881210050327405,
          0.19720109331322944,
          -1.7158563686875279,
          -0.6313235804760773,
          1.1954918993542627,
          -2.888795917786079,
          -0.4196317938834694,
          1.4424924892887143,
          -1.1046596031558298,
          -1.3507929755921626,
          1.5791465923748655,
          1.8341461128516876,
          -0.23368697586171588,
          -0.4105997246914948,
          -0.5076272919725543,
          1.9671416276577913
         ],
         "xaxis": "x20",
         "yaxis": "y20"
        },
        {
         "alignmentgroup": "True",
         "bingroup": "x",
         "hovertemplate": "person=5<br>rating=%{x}<br>count=%{y}<extra></extra>",
         "legendgroup": "",
         "marker": {
          "color": "#1F77B4",
          "pattern": {
           "shape": ""
          }
         },
         "name": "",
         "offsetgroup": "",
         "orientation": "v",
         "showlegend": false,
         "type": "histogram",
         "x": [
          -0.7336333389531297,
          0.5869376586477744,
          0.8860089769679225,
          -1.2213807076900152,
          -0.8579448409486501,
          1.7552177943807763,
          -2.8209979288690223,
          -0.398839511064032,
          1.5448855938414043,
          -3.1298890539929127,
          -1.5534374132182185,
          0.1778906993970435,
          2.1199989571675717,
          -0.5640133604621035,
          -0.8791036193830226,
          -0.7316084479311066,
          3.0070281954417077
         ],
         "xaxis": "x11",
         "yaxis": "y11"
        },
        {
         "alignmentgroup": "True",
         "bingroup": "x",
         "hovertemplate": "person=6<br>rating=%{x}<br>count=%{y}<extra></extra>",
         "legendgroup": "",
         "marker": {
          "color": "#1F77B4",
          "pattern": {
           "shape": ""
          }
         },
         "name": "",
         "offsetgroup": "",
         "orientation": "v",
         "showlegend": false,
         "type": "histogram",
         "x": [
          -0.980202716526718,
          1.089895502470725,
          1.2713996721782883,
          -1.3852269118966918,
          -0.6427784364443783,
          1.3182188120847822,
          -1.5827129100677073,
          -0.6044813734652282,
          1.1653590571848245,
          -1.2276473574094746,
          -0.7451569915860768,
          0.8972341426398867,
          1.7999510259361646,
          -0.5973339306840927,
          -1.1794279238941492,
          -0.22567707789395716,
          1.5822861748763168
         ],
         "xaxis": "x12",
         "yaxis": "y12"
        },
        {
         "alignmentgroup": "True",
         "bingroup": "x",
         "hovertemplate": "person=7<br>rating=%{x}<br>count=%{y}<extra></extra>",
         "legendgroup": "",
         "marker": {
          "color": "#1F77B4",
          "pattern": {
           "shape": ""
          }
         },
         "name": "",
         "offsetgroup": "",
         "orientation": "v",
         "showlegend": false,
         "type": "histogram",
         "x": [
          0.5433489162445027,
          0.9815189250314649,
          0.2892983089625948,
          -1.5890459863686819,
          -0.5584730982254725,
          1.5916604988438503,
          -1.555899491206282,
          -0.4184987318109216,
          0.8321935170786667,
          -0.6370240191836282,
          -0.9385241304846628,
          -0.7561833910268254,
          1.5615128234672009,
          -0.15751574610900826,
          0.24671067067100882,
          -1.8997321262567608,
          2.721917134192724
         ],
         "xaxis": "x13",
         "yaxis": "y13"
        },
        {
         "alignmentgroup": "True",
         "bingroup": "x",
         "hovertemplate": "person=8<br>rating=%{x}<br>count=%{y}<extra></extra>",
         "legendgroup": "",
         "marker": {
          "color": "#1F77B4",
          "pattern": {
           "shape": ""
          }
         },
         "name": "",
         "offsetgroup": "",
         "orientation": "v",
         "showlegend": false,
         "type": "histogram",
         "x": [
          -1.551554214846007,
          1.7789318317817768,
          -0.575708998899271,
          -1.5275918425152746,
          -0.3796677872425259,
          1.502803420013314,
          -2.6019227379624073,
          -0.542348805010445,
          1.233019043905028,
          -1.916606934779691,
          -1.6211736465694329,
          -0.07747611183662562,
          1.404214909135842,
          -0.7908292464426343,
          -0.4722580443589809,
          -0.5005307881433136,
          2.2299204157806636
         ],
         "xaxis": "x14",
         "yaxis": "y14"
        },
        {
         "alignmentgroup": "True",
         "bingroup": "x",
         "hovertemplate": "person=9<br>rating=%{x}<br>count=%{y}<extra></extra>",
         "legendgroup": "",
         "marker": {
          "color": "#1F77B4",
          "pattern": {
           "shape": ""
          }
         },
         "name": "",
         "offsetgroup": "",
         "orientation": "v",
         "showlegend": false,
         "type": "histogram",
         "x": [
          -0.6619918401956401,
          1.1721033284081557,
          0.27695048960093965,
          -1.7165418165101864,
          -0.6331233162357787,
          1.8259365217446275,
          -2.449821210859658,
          -0.3305212772004971,
          1.0215137967172794,
          -1.5692861239077205,
          -0.3909493355694216,
          1.1730740359481562,
          1.301241622987678,
          -1.2380037101306844,
          -0.6447427655425634,
          -0.389244584140296,
          2.401016923280335
         ],
         "xaxis": "x15",
         "yaxis": "y15"
        },
        {
         "alignmentgroup": "True",
         "bingroup": "x",
         "hovertemplate": "person=10<br>rating=%{x}<br>count=%{y}<extra></extra>",
         "legendgroup": "",
         "marker": {
          "color": "#1F77B4",
          "pattern": {
           "shape": ""
          }
         },
         "name": "",
         "offsetgroup": "",
         "orientation": "v",
         "showlegend": false,
         "type": "histogram",
         "x": [
          -1.0683005816180682,
          -0.006623931791286619,
          -0.12210236585767853,
          -1.8597130463394287,
          -0.6366496940630771,
          1.590642606671023,
          -2.822374091816051,
          -0.5196943009829582,
          0.6846518866936816,
          0.1465187750848136,
          -0.4159182279934003,
          -1.6969228388799609,
          1.628183899938995,
          -1.1740858328188888,
          0.04937659211178491,
          -1.2186016116017115,
          2.5067334738149203
         ],
         "xaxis": "x6",
         "yaxis": "y6"
        },
        {
         "alignmentgroup": "True",
         "bingroup": "x",
         "hovertemplate": "person=11<br>rating=%{x}<br>count=%{y}<extra></extra>",
         "legendgroup": "",
         "marker": {
          "color": "#1F77B4",
          "pattern": {
           "shape": ""
          }
         },
         "name": "",
         "offsetgroup": "",
         "orientation": "v",
         "showlegend": false,
         "type": "histogram",
         "x": [
          -0.31340583864675486,
          0.9497046829068397,
          0.6303679434884313,
          -1.5973090435508897,
          -0.38134132375573954,
          1.5769881519499014,
          -2.402735306671383,
          -0.4355524500734343,
          1.2187879339141139,
          -1.251270961993828,
          -0.2558235474786411,
          1.6141505785730959,
          2.0639186662204825,
          -0.45929209770301144,
          -1.2348677217317228,
          -1.135466245319735,
          2.9859948395716978
         ],
         "xaxis": "x7",
         "yaxis": "y7"
        },
        {
         "alignmentgroup": "True",
         "bingroup": "x",
         "hovertemplate": "person=12<br>rating=%{x}<br>count=%{y}<extra></extra>",
         "legendgroup": "",
         "marker": {
          "color": "#1F77B4",
          "pattern": {
           "shape": ""
          }
         },
         "name": "",
         "offsetgroup": "",
         "orientation": "v",
         "showlegend": false,
         "type": "histogram",
         "x": [
          -2.527628490549371,
          -0.2901964592969426,
          0.37305043705625063,
          -1.321062865135116,
          -0.5609358988354612,
          1.8556026670235966,
          -2.514333535691794,
          -0.4288956794337427,
          1.5954592115231518,
          -0.9085284449663678,
          -1.5008958519331377,
          -1.0180288047190356,
          1.5896154801320685,
          -0.3816084489118756,
          -0.3259587936770953,
          0.015892117509536896,
          1.7820790356467089
         ],
         "xaxis": "x8",
         "yaxis": "y8"
        },
        {
         "alignmentgroup": "True",
         "bingroup": "x",
         "hovertemplate": "person=13<br>rating=%{x}<br>count=%{y}<extra></extra>",
         "legendgroup": "",
         "marker": {
          "color": "#1F77B4",
          "pattern": {
           "shape": ""
          }
         },
         "name": "",
         "offsetgroup": "",
         "orientation": "v",
         "showlegend": false,
         "type": "histogram",
         "x": [
          0.0814333479238385,
          0.3230423206267542,
          -0.7451691506747375,
          -1.6882181496776323,
          -0.28168849209762326,
          1.567775001217778,
          -2.0627614697630756,
          -0.5514465861465545,
          1.6084148997985273,
          -1.5928800446337605,
          -1.2006111619875366,
          0.461812101955088,
          1.3476641653899621,
          -0.37643261499406044,
          0.023004989738761195,
          -0.48314306124462325,
          2.6094790855621284
         ],
         "xaxis": "x9",
         "yaxis": "y9"
        },
        {
         "alignmentgroup": "True",
         "bingroup": "x",
         "hovertemplate": "person=14<br>rating=%{x}<br>count=%{y}<extra></extra>",
         "legendgroup": "",
         "marker": {
          "color": "#1F77B4",
          "pattern": {
           "shape": ""
          }
         },
         "name": "",
         "offsetgroup": "",
         "orientation": "v",
         "showlegend": false,
         "type": "histogram",
         "x": [
          -1.6237294938311568,
          0.8127630317415682,
          -0.22547563396576065,
          -1.6249671461140327,
          -0.533112138556328,
          1.3910433956288686,
          -1.9367009741400223,
          -0.6051377789013948,
          1.508386133233907,
          -2.0666277171896184,
          -1.0121187228935142,
          -0.7513654056292249,
          1.658164733104786,
          0.12232080782839583,
          -0.16015993088330588,
          -1.5409419458186542,
          2.630817106302421
         ],
         "xaxis": "x10",
         "yaxis": "y10"
        },
        {
         "alignmentgroup": "True",
         "bingroup": "x",
         "hovertemplate": "person=15<br>rating=%{x}<br>count=%{y}<extra></extra>",
         "legendgroup": "",
         "marker": {
          "color": "#1F77B4",
          "pattern": {
           "shape": ""
          }
         },
         "name": "",
         "offsetgroup": "",
         "orientation": "v",
         "showlegend": false,
         "type": "histogram",
         "x": [
          -0.7953310708395831,
          0.1575682582619985,
          0.5660078959924203,
          -1.2887322964248442,
          -0.4168241879950586,
          1.8219639181582488,
          -2.6835829700976266,
          -0.29521962494905957,
          1.1872662741517337,
          -1.7440076988098778,
          -1.2292865230077314,
          0.0012019685410644965,
          1.6488312857836123,
          -0.29695109329232683,
          0.12922349338309602,
          -0.5128326817870943,
          1.101732627199461
         ],
         "xaxis": "x",
         "yaxis": "y"
        },
        {
         "alignmentgroup": "True",
         "bingroup": "x",
         "hovertemplate": "person=16<br>rating=%{x}<br>count=%{y}<extra></extra>",
         "legendgroup": "",
         "marker": {
          "color": "#1F77B4",
          "pattern": {
           "shape": ""
          }
         },
         "name": "",
         "offsetgroup": "",
         "orientation": "v",
         "showlegend": false,
         "type": "histogram",
         "x": [
          -0.44180443399101876,
          1.5823269978405239,
          0.5844830595504344,
          -1.5495554880846139,
          -0.9722126017700095,
          1.6296370201392505,
          -3.0503499485908523,
          -0.4803562675265696,
          0.6770533995052986,
          -1.3335444716141323,
          -0.7503915052732392,
          0.7745596291111265,
          1.6179270626229165,
          -0.7114956136470492,
          -0.12202303719288221,
          -0.5823958479966335,
          0.03750811056137682
         ],
         "xaxis": "x2",
         "yaxis": "y2"
        },
        {
         "alignmentgroup": "True",
         "bingroup": "x",
         "hovertemplate": "person=17<br>rating=%{x}<br>count=%{y}<extra></extra>",
         "legendgroup": "",
         "marker": {
          "color": "#1F77B4",
          "pattern": {
           "shape": ""
          }
         },
         "name": "",
         "offsetgroup": "",
         "orientation": "v",
         "showlegend": false,
         "type": "histogram",
         "x": [
          -1.9947833344306236,
          1.2289873111941296,
          0.18626344782632748,
          -1.9121404426902526,
          -0.27370340959488476,
          1.2404819607484685,
          -2.1742528333088784,
          -0.46744420367432393,
          0.8274637785956404,
          -0.8321127071765362,
          -0.14341857488840148,
          0.0521080683601616,
          1.4535748241086799,
          -0.8995878790670266,
          0.09443762231352448,
          0.5256899655349221,
          1.4215819902836087
         ],
         "xaxis": "x3",
         "yaxis": "y3"
        },
        {
         "alignmentgroup": "True",
         "bingroup": "x",
         "hovertemplate": "person=18<br>rating=%{x}<br>count=%{y}<extra></extra>",
         "legendgroup": "",
         "marker": {
          "color": "#1F77B4",
          "pattern": {
           "shape": ""
          }
         },
         "name": "",
         "offsetgroup": "",
         "orientation": "v",
         "showlegend": false,
         "type": "histogram",
         "x": [
          -2.7667427414484926,
          0.66088715310841,
          0.154080802540912,
          -1.6010015572163714,
          -0.7294935232657094,
          1.159912622546455,
          -2.2927660352487016,
          -0.5015392146160128,
          0.4125364175780638,
          -2.7119935502020676,
          -0.23211319394000435,
          -0.3334512200414529,
          1.569445593026001,
          -1.4751012661437,
          -0.6113167911463608,
          0.20426482460249146,
          2.554198027466753
         ],
         "xaxis": "x4",
         "yaxis": "y4"
        },
        {
         "alignmentgroup": "True",
         "bingroup": "x",
         "hovertemplate": "person=19<br>rating=%{x}<br>count=%{y}<extra></extra>",
         "legendgroup": "",
         "marker": {
          "color": "#1F77B4",
          "pattern": {
           "shape": ""
          }
         },
         "name": "",
         "offsetgroup": "",
         "orientation": "v",
         "showlegend": false,
         "type": "histogram",
         "x": [
          -0.9011675066841142,
          0.9620047983739218,
          0.7956081274601605,
          -1.3063226032805015,
          -1.0664575448463234,
          1.777189523144389,
          -1.9484962812649713,
          -0.36302150044115894,
          0.9651054004358154,
          -1.0216968590493403,
          -0.7466240941519594,
          -1.1003224311063837,
          1.7390861635281278,
          -1.096431541221874,
          0.2764958754425292,
          -0.37040816393756304,
          1.9249898343665683
         ],
         "xaxis": "x5",
         "yaxis": "y5"
        }
       ],
       "layout": {
        "annotations": [
         {
          "font": {},
          "showarrow": false,
          "text": "person=15",
          "x": 0.09200000000000001,
          "xanchor": "center",
          "xref": "paper",
          "y": 0.1975,
          "yanchor": "bottom",
          "yref": "paper"
         },
         {
          "font": {},
          "showarrow": false,
          "text": "person=16",
          "x": 0.29600000000000004,
          "xanchor": "center",
          "xref": "paper",
          "y": 0.1975,
          "yanchor": "bottom",
          "yref": "paper"
         },
         {
          "font": {},
          "showarrow": false,
          "text": "person=17",
          "x": 0.5,
          "xanchor": "center",
          "xref": "paper",
          "y": 0.1975,
          "yanchor": "bottom",
          "yref": "paper"
         },
         {
          "font": {},
          "showarrow": false,
          "text": "person=18",
          "x": 0.7040000000000002,
          "xanchor": "center",
          "xref": "paper",
          "y": 0.1975,
          "yanchor": "bottom",
          "yref": "paper"
         },
         {
          "font": {},
          "showarrow": false,
          "text": "person=19",
          "x": 0.908,
          "xanchor": "center",
          "xref": "paper",
          "y": 0.1975,
          "yanchor": "bottom",
          "yref": "paper"
         },
         {
          "font": {},
          "showarrow": false,
          "text": "person=10",
          "x": 0.09200000000000001,
          "xanchor": "center",
          "xref": "paper",
          "y": 0.465,
          "yanchor": "bottom",
          "yref": "paper"
         },
         {
          "font": {},
          "showarrow": false,
          "text": "person=11",
          "x": 0.29600000000000004,
          "xanchor": "center",
          "xref": "paper",
          "y": 0.465,
          "yanchor": "bottom",
          "yref": "paper"
         },
         {
          "font": {},
          "showarrow": false,
          "text": "person=12",
          "x": 0.5,
          "xanchor": "center",
          "xref": "paper",
          "y": 0.465,
          "yanchor": "bottom",
          "yref": "paper"
         },
         {
          "font": {},
          "showarrow": false,
          "text": "person=13",
          "x": 0.7040000000000002,
          "xanchor": "center",
          "xref": "paper",
          "y": 0.465,
          "yanchor": "bottom",
          "yref": "paper"
         },
         {
          "font": {},
          "showarrow": false,
          "text": "person=14",
          "x": 0.908,
          "xanchor": "center",
          "xref": "paper",
          "y": 0.465,
          "yanchor": "bottom",
          "yref": "paper"
         },
         {
          "font": {},
          "showarrow": false,
          "text": "person=5",
          "x": 0.09200000000000001,
          "xanchor": "center",
          "xref": "paper",
          "y": 0.7325,
          "yanchor": "bottom",
          "yref": "paper"
         },
         {
          "font": {},
          "showarrow": false,
          "text": "person=6",
          "x": 0.29600000000000004,
          "xanchor": "center",
          "xref": "paper",
          "y": 0.7325,
          "yanchor": "bottom",
          "yref": "paper"
         },
         {
          "font": {},
          "showarrow": false,
          "text": "person=7",
          "x": 0.5,
          "xanchor": "center",
          "xref": "paper",
          "y": 0.7325,
          "yanchor": "bottom",
          "yref": "paper"
         },
         {
          "font": {},
          "showarrow": false,
          "text": "person=8",
          "x": 0.7040000000000002,
          "xanchor": "center",
          "xref": "paper",
          "y": 0.7325,
          "yanchor": "bottom",
          "yref": "paper"
         },
         {
          "font": {},
          "showarrow": false,
          "text": "person=9",
          "x": 0.908,
          "xanchor": "center",
          "xref": "paper",
          "y": 0.7325,
          "yanchor": "bottom",
          "yref": "paper"
         },
         {
          "font": {},
          "showarrow": false,
          "text": "person=0",
          "x": 0.09200000000000001,
          "xanchor": "center",
          "xref": "paper",
          "y": 1,
          "yanchor": "bottom",
          "yref": "paper"
         },
         {
          "font": {},
          "showarrow": false,
          "text": "person=1",
          "x": 0.29600000000000004,
          "xanchor": "center",
          "xref": "paper",
          "y": 1,
          "yanchor": "bottom",
          "yref": "paper"
         },
         {
          "font": {},
          "showarrow": false,
          "text": "person=2",
          "x": 0.5,
          "xanchor": "center",
          "xref": "paper",
          "y": 1,
          "yanchor": "bottom",
          "yref": "paper"
         },
         {
          "font": {},
          "showarrow": false,
          "text": "person=3",
          "x": 0.7040000000000002,
          "xanchor": "center",
          "xref": "paper",
          "y": 1,
          "yanchor": "bottom",
          "yref": "paper"
         },
         {
          "font": {},
          "showarrow": false,
          "text": "person=4",
          "x": 0.908,
          "xanchor": "center",
          "xref": "paper",
          "y": 1,
          "yanchor": "bottom",
          "yref": "paper"
         }
        ],
        "barmode": "relative",
        "legend": {
         "tracegroupgap": 0
        },
        "margin": {
         "t": 60
        },
        "template": {
         "data": {
          "bar": [
           {
            "error_x": {
             "color": "rgb(36,36,36)"
            },
            "error_y": {
             "color": "rgb(36,36,36)"
            },
            "marker": {
             "line": {
              "color": "white",
              "width": 0.5
             },
             "pattern": {
              "fillmode": "overlay",
              "size": 10,
              "solidity": 0.2
             }
            },
            "type": "bar"
           }
          ],
          "barpolar": [
           {
            "marker": {
             "line": {
              "color": "white",
              "width": 0.5
             },
             "pattern": {
              "fillmode": "overlay",
              "size": 10,
              "solidity": 0.2
             }
            },
            "type": "barpolar"
           }
          ],
          "carpet": [
           {
            "aaxis": {
             "endlinecolor": "rgb(36,36,36)",
             "gridcolor": "white",
             "linecolor": "white",
             "minorgridcolor": "white",
             "startlinecolor": "rgb(36,36,36)"
            },
            "baxis": {
             "endlinecolor": "rgb(36,36,36)",
             "gridcolor": "white",
             "linecolor": "white",
             "minorgridcolor": "white",
             "startlinecolor": "rgb(36,36,36)"
            },
            "type": "carpet"
           }
          ],
          "choropleth": [
           {
            "colorbar": {
             "outlinewidth": 1,
             "tickcolor": "rgb(36,36,36)",
             "ticks": "outside"
            },
            "type": "choropleth"
           }
          ],
          "contour": [
           {
            "colorbar": {
             "outlinewidth": 1,
             "tickcolor": "rgb(36,36,36)",
             "ticks": "outside"
            },
            "colorscale": [
             [
              0,
              "#440154"
             ],
             [
              0.1111111111111111,
              "#482878"
             ],
             [
              0.2222222222222222,
              "#3e4989"
             ],
             [
              0.3333333333333333,
              "#31688e"
             ],
             [
              0.4444444444444444,
              "#26828e"
             ],
             [
              0.5555555555555556,
              "#1f9e89"
             ],
             [
              0.6666666666666666,
              "#35b779"
             ],
             [
              0.7777777777777778,
              "#6ece58"
             ],
             [
              0.8888888888888888,
              "#b5de2b"
             ],
             [
              1,
              "#fde725"
             ]
            ],
            "type": "contour"
           }
          ],
          "contourcarpet": [
           {
            "colorbar": {
             "outlinewidth": 1,
             "tickcolor": "rgb(36,36,36)",
             "ticks": "outside"
            },
            "type": "contourcarpet"
           }
          ],
          "heatmap": [
           {
            "colorbar": {
             "outlinewidth": 1,
             "tickcolor": "rgb(36,36,36)",
             "ticks": "outside"
            },
            "colorscale": [
             [
              0,
              "#440154"
             ],
             [
              0.1111111111111111,
              "#482878"
             ],
             [
              0.2222222222222222,
              "#3e4989"
             ],
             [
              0.3333333333333333,
              "#31688e"
             ],
             [
              0.4444444444444444,
              "#26828e"
             ],
             [
              0.5555555555555556,
              "#1f9e89"
             ],
             [
              0.6666666666666666,
              "#35b779"
             ],
             [
              0.7777777777777778,
              "#6ece58"
             ],
             [
              0.8888888888888888,
              "#b5de2b"
             ],
             [
              1,
              "#fde725"
             ]
            ],
            "type": "heatmap"
           }
          ],
          "heatmapgl": [
           {
            "colorbar": {
             "outlinewidth": 1,
             "tickcolor": "rgb(36,36,36)",
             "ticks": "outside"
            },
            "colorscale": [
             [
              0,
              "#440154"
             ],
             [
              0.1111111111111111,
              "#482878"
             ],
             [
              0.2222222222222222,
              "#3e4989"
             ],
             [
              0.3333333333333333,
              "#31688e"
             ],
             [
              0.4444444444444444,
              "#26828e"
             ],
             [
              0.5555555555555556,
              "#1f9e89"
             ],
             [
              0.6666666666666666,
              "#35b779"
             ],
             [
              0.7777777777777778,
              "#6ece58"
             ],
             [
              0.8888888888888888,
              "#b5de2b"
             ],
             [
              1,
              "#fde725"
             ]
            ],
            "type": "heatmapgl"
           }
          ],
          "histogram": [
           {
            "marker": {
             "line": {
              "color": "white",
              "width": 0.6
             }
            },
            "type": "histogram"
           }
          ],
          "histogram2d": [
           {
            "colorbar": {
             "outlinewidth": 1,
             "tickcolor": "rgb(36,36,36)",
             "ticks": "outside"
            },
            "colorscale": [
             [
              0,
              "#440154"
             ],
             [
              0.1111111111111111,
              "#482878"
             ],
             [
              0.2222222222222222,
              "#3e4989"
             ],
             [
              0.3333333333333333,
              "#31688e"
             ],
             [
              0.4444444444444444,
              "#26828e"
             ],
             [
              0.5555555555555556,
              "#1f9e89"
             ],
             [
              0.6666666666666666,
              "#35b779"
             ],
             [
              0.7777777777777778,
              "#6ece58"
             ],
             [
              0.8888888888888888,
              "#b5de2b"
             ],
             [
              1,
              "#fde725"
             ]
            ],
            "type": "histogram2d"
           }
          ],
          "histogram2dcontour": [
           {
            "colorbar": {
             "outlinewidth": 1,
             "tickcolor": "rgb(36,36,36)",
             "ticks": "outside"
            },
            "colorscale": [
             [
              0,
              "#440154"
             ],
             [
              0.1111111111111111,
              "#482878"
             ],
             [
              0.2222222222222222,
              "#3e4989"
             ],
             [
              0.3333333333333333,
              "#31688e"
             ],
             [
              0.4444444444444444,
              "#26828e"
             ],
             [
              0.5555555555555556,
              "#1f9e89"
             ],
             [
              0.6666666666666666,
              "#35b779"
             ],
             [
              0.7777777777777778,
              "#6ece58"
             ],
             [
              0.8888888888888888,
              "#b5de2b"
             ],
             [
              1,
              "#fde725"
             ]
            ],
            "type": "histogram2dcontour"
           }
          ],
          "mesh3d": [
           {
            "colorbar": {
             "outlinewidth": 1,
             "tickcolor": "rgb(36,36,36)",
             "ticks": "outside"
            },
            "type": "mesh3d"
           }
          ],
          "parcoords": [
           {
            "line": {
             "colorbar": {
              "outlinewidth": 1,
              "tickcolor": "rgb(36,36,36)",
              "ticks": "outside"
             }
            },
            "type": "parcoords"
           }
          ],
          "pie": [
           {
            "automargin": true,
            "type": "pie"
           }
          ],
          "scatter": [
           {
            "fillpattern": {
             "fillmode": "overlay",
             "size": 10,
             "solidity": 0.2
            },
            "type": "scatter"
           }
          ],
          "scatter3d": [
           {
            "line": {
             "colorbar": {
              "outlinewidth": 1,
              "tickcolor": "rgb(36,36,36)",
              "ticks": "outside"
             }
            },
            "marker": {
             "colorbar": {
              "outlinewidth": 1,
              "tickcolor": "rgb(36,36,36)",
              "ticks": "outside"
             }
            },
            "type": "scatter3d"
           }
          ],
          "scattercarpet": [
           {
            "marker": {
             "colorbar": {
              "outlinewidth": 1,
              "tickcolor": "rgb(36,36,36)",
              "ticks": "outside"
             }
            },
            "type": "scattercarpet"
           }
          ],
          "scattergeo": [
           {
            "marker": {
             "colorbar": {
              "outlinewidth": 1,
              "tickcolor": "rgb(36,36,36)",
              "ticks": "outside"
             }
            },
            "type": "scattergeo"
           }
          ],
          "scattergl": [
           {
            "marker": {
             "colorbar": {
              "outlinewidth": 1,
              "tickcolor": "rgb(36,36,36)",
              "ticks": "outside"
             }
            },
            "type": "scattergl"
           }
          ],
          "scattermapbox": [
           {
            "marker": {
             "colorbar": {
              "outlinewidth": 1,
              "tickcolor": "rgb(36,36,36)",
              "ticks": "outside"
             }
            },
            "type": "scattermapbox"
           }
          ],
          "scatterpolar": [
           {
            "marker": {
             "colorbar": {
              "outlinewidth": 1,
              "tickcolor": "rgb(36,36,36)",
              "ticks": "outside"
             }
            },
            "type": "scatterpolar"
           }
          ],
          "scatterpolargl": [
           {
            "marker": {
             "colorbar": {
              "outlinewidth": 1,
              "tickcolor": "rgb(36,36,36)",
              "ticks": "outside"
             }
            },
            "type": "scatterpolargl"
           }
          ],
          "scatterternary": [
           {
            "marker": {
             "colorbar": {
              "outlinewidth": 1,
              "tickcolor": "rgb(36,36,36)",
              "ticks": "outside"
             }
            },
            "type": "scatterternary"
           }
          ],
          "surface": [
           {
            "colorbar": {
             "outlinewidth": 1,
             "tickcolor": "rgb(36,36,36)",
             "ticks": "outside"
            },
            "colorscale": [
             [
              0,
              "#440154"
             ],
             [
              0.1111111111111111,
              "#482878"
             ],
             [
              0.2222222222222222,
              "#3e4989"
             ],
             [
              0.3333333333333333,
              "#31688e"
             ],
             [
              0.4444444444444444,
              "#26828e"
             ],
             [
              0.5555555555555556,
              "#1f9e89"
             ],
             [
              0.6666666666666666,
              "#35b779"
             ],
             [
              0.7777777777777778,
              "#6ece58"
             ],
             [
              0.8888888888888888,
              "#b5de2b"
             ],
             [
              1,
              "#fde725"
             ]
            ],
            "type": "surface"
           }
          ],
          "table": [
           {
            "cells": {
             "fill": {
              "color": "rgb(237,237,237)"
             },
             "line": {
              "color": "white"
             }
            },
            "header": {
             "fill": {
              "color": "rgb(217,217,217)"
             },
             "line": {
              "color": "white"
             }
            },
            "type": "table"
           }
          ]
         },
         "layout": {
          "annotationdefaults": {
           "arrowhead": 0,
           "arrowwidth": 1
          },
          "autotypenumbers": "strict",
          "coloraxis": {
           "colorbar": {
            "outlinewidth": 1,
            "tickcolor": "rgb(36,36,36)",
            "ticks": "outside"
           }
          },
          "colorscale": {
           "diverging": [
            [
             0,
             "rgb(103,0,31)"
            ],
            [
             0.1,
             "rgb(178,24,43)"
            ],
            [
             0.2,
             "rgb(214,96,77)"
            ],
            [
             0.3,
             "rgb(244,165,130)"
            ],
            [
             0.4,
             "rgb(253,219,199)"
            ],
            [
             0.5,
             "rgb(247,247,247)"
            ],
            [
             0.6,
             "rgb(209,229,240)"
            ],
            [
             0.7,
             "rgb(146,197,222)"
            ],
            [
             0.8,
             "rgb(67,147,195)"
            ],
            [
             0.9,
             "rgb(33,102,172)"
            ],
            [
             1,
             "rgb(5,48,97)"
            ]
           ],
           "sequential": [
            [
             0,
             "#440154"
            ],
            [
             0.1111111111111111,
             "#482878"
            ],
            [
             0.2222222222222222,
             "#3e4989"
            ],
            [
             0.3333333333333333,
             "#31688e"
            ],
            [
             0.4444444444444444,
             "#26828e"
            ],
            [
             0.5555555555555556,
             "#1f9e89"
            ],
            [
             0.6666666666666666,
             "#35b779"
            ],
            [
             0.7777777777777778,
             "#6ece58"
            ],
            [
             0.8888888888888888,
             "#b5de2b"
            ],
            [
             1,
             "#fde725"
            ]
           ],
           "sequentialminus": [
            [
             0,
             "#440154"
            ],
            [
             0.1111111111111111,
             "#482878"
            ],
            [
             0.2222222222222222,
             "#3e4989"
            ],
            [
             0.3333333333333333,
             "#31688e"
            ],
            [
             0.4444444444444444,
             "#26828e"
            ],
            [
             0.5555555555555556,
             "#1f9e89"
            ],
            [
             0.6666666666666666,
             "#35b779"
            ],
            [
             0.7777777777777778,
             "#6ece58"
            ],
            [
             0.8888888888888888,
             "#b5de2b"
            ],
            [
             1,
             "#fde725"
            ]
           ]
          },
          "colorway": [
           "#1F77B4",
           "#FF7F0E",
           "#2CA02C",
           "#D62728",
           "#9467BD",
           "#8C564B",
           "#E377C2",
           "#7F7F7F",
           "#BCBD22",
           "#17BECF"
          ],
          "font": {
           "color": "rgb(36,36,36)"
          },
          "geo": {
           "bgcolor": "white",
           "lakecolor": "white",
           "landcolor": "white",
           "showlakes": true,
           "showland": true,
           "subunitcolor": "white"
          },
          "hoverlabel": {
           "align": "left"
          },
          "hovermode": "closest",
          "mapbox": {
           "style": "light"
          },
          "paper_bgcolor": "white",
          "plot_bgcolor": "white",
          "polar": {
           "angularaxis": {
            "gridcolor": "rgb(232,232,232)",
            "linecolor": "rgb(36,36,36)",
            "showgrid": false,
            "showline": true,
            "ticks": "outside"
           },
           "bgcolor": "white",
           "radialaxis": {
            "gridcolor": "rgb(232,232,232)",
            "linecolor": "rgb(36,36,36)",
            "showgrid": false,
            "showline": true,
            "ticks": "outside"
           }
          },
          "scene": {
           "xaxis": {
            "backgroundcolor": "white",
            "gridcolor": "rgb(232,232,232)",
            "gridwidth": 2,
            "linecolor": "rgb(36,36,36)",
            "showbackground": true,
            "showgrid": false,
            "showline": true,
            "ticks": "outside",
            "zeroline": false,
            "zerolinecolor": "rgb(36,36,36)"
           },
           "yaxis": {
            "backgroundcolor": "white",
            "gridcolor": "rgb(232,232,232)",
            "gridwidth": 2,
            "linecolor": "rgb(36,36,36)",
            "showbackground": true,
            "showgrid": false,
            "showline": true,
            "ticks": "outside",
            "zeroline": false,
            "zerolinecolor": "rgb(36,36,36)"
           },
           "zaxis": {
            "backgroundcolor": "white",
            "gridcolor": "rgb(232,232,232)",
            "gridwidth": 2,
            "linecolor": "rgb(36,36,36)",
            "showbackground": true,
            "showgrid": false,
            "showline": true,
            "ticks": "outside",
            "zeroline": false,
            "zerolinecolor": "rgb(36,36,36)"
           }
          },
          "shapedefaults": {
           "fillcolor": "black",
           "line": {
            "width": 0
           },
           "opacity": 0.3
          },
          "ternary": {
           "aaxis": {
            "gridcolor": "rgb(232,232,232)",
            "linecolor": "rgb(36,36,36)",
            "showgrid": false,
            "showline": true,
            "ticks": "outside"
           },
           "baxis": {
            "gridcolor": "rgb(232,232,232)",
            "linecolor": "rgb(36,36,36)",
            "showgrid": false,
            "showline": true,
            "ticks": "outside"
           },
           "bgcolor": "white",
           "caxis": {
            "gridcolor": "rgb(232,232,232)",
            "linecolor": "rgb(36,36,36)",
            "showgrid": false,
            "showline": true,
            "ticks": "outside"
           }
          },
          "title": {
           "x": 0.05
          },
          "xaxis": {
           "automargin": true,
           "gridcolor": "rgb(232,232,232)",
           "linecolor": "rgb(36,36,36)",
           "showgrid": false,
           "showline": true,
           "ticks": "outside",
           "title": {
            "standoff": 15
           },
           "zeroline": false,
           "zerolinecolor": "rgb(36,36,36)"
          },
          "yaxis": {
           "automargin": true,
           "gridcolor": "rgb(232,232,232)",
           "linecolor": "rgb(36,36,36)",
           "showgrid": false,
           "showline": true,
           "ticks": "outside",
           "title": {
            "standoff": 15
           },
           "zeroline": false,
           "zerolinecolor": "rgb(36,36,36)"
          }
         }
        },
        "xaxis": {
         "anchor": "y",
         "domain": [
          0,
          0.18400000000000002
         ],
         "title": {
          "text": "rating"
         }
        },
        "xaxis10": {
         "anchor": "y10",
         "domain": [
          0.8160000000000001,
          1
         ],
         "matches": "x",
         "showticklabels": false
        },
        "xaxis11": {
         "anchor": "y11",
         "domain": [
          0,
          0.18400000000000002
         ],
         "matches": "x",
         "showticklabels": false
        },
        "xaxis12": {
         "anchor": "y12",
         "domain": [
          0.20400000000000001,
          0.388
         ],
         "matches": "x",
         "showticklabels": false
        },
        "xaxis13": {
         "anchor": "y13",
         "domain": [
          0.40800000000000003,
          0.5920000000000001
         ],
         "matches": "x",
         "showticklabels": false
        },
        "xaxis14": {
         "anchor": "y14",
         "domain": [
          0.6120000000000001,
          0.7960000000000002
         ],
         "matches": "x",
         "showticklabels": false
        },
        "xaxis15": {
         "anchor": "y15",
         "domain": [
          0.8160000000000001,
          1
         ],
         "matches": "x",
         "showticklabels": false
        },
        "xaxis16": {
         "anchor": "y16",
         "domain": [
          0,
          0.18400000000000002
         ],
         "matches": "x",
         "showticklabels": false
        },
        "xaxis17": {
         "anchor": "y17",
         "domain": [
          0.20400000000000001,
          0.388
         ],
         "matches": "x",
         "showticklabels": false
        },
        "xaxis18": {
         "anchor": "y18",
         "domain": [
          0.40800000000000003,
          0.5920000000000001
         ],
         "matches": "x",
         "showticklabels": false
        },
        "xaxis19": {
         "anchor": "y19",
         "domain": [
          0.6120000000000001,
          0.7960000000000002
         ],
         "matches": "x",
         "showticklabels": false
        },
        "xaxis2": {
         "anchor": "y2",
         "domain": [
          0.20400000000000001,
          0.388
         ],
         "matches": "x",
         "title": {
          "text": "rating"
         }
        },
        "xaxis20": {
         "anchor": "y20",
         "domain": [
          0.8160000000000001,
          1
         ],
         "matches": "x",
         "showticklabels": false
        },
        "xaxis3": {
         "anchor": "y3",
         "domain": [
          0.40800000000000003,
          0.5920000000000001
         ],
         "matches": "x",
         "title": {
          "text": "rating"
         }
        },
        "xaxis4": {
         "anchor": "y4",
         "domain": [
          0.6120000000000001,
          0.7960000000000002
         ],
         "matches": "x",
         "title": {
          "text": "rating"
         }
        },
        "xaxis5": {
         "anchor": "y5",
         "domain": [
          0.8160000000000001,
          1
         ],
         "matches": "x",
         "title": {
          "text": "rating"
         }
        },
        "xaxis6": {
         "anchor": "y6",
         "domain": [
          0,
          0.18400000000000002
         ],
         "matches": "x",
         "showticklabels": false
        },
        "xaxis7": {
         "anchor": "y7",
         "domain": [
          0.20400000000000001,
          0.388
         ],
         "matches": "x",
         "showticklabels": false
        },
        "xaxis8": {
         "anchor": "y8",
         "domain": [
          0.40800000000000003,
          0.5920000000000001
         ],
         "matches": "x",
         "showticklabels": false
        },
        "xaxis9": {
         "anchor": "y9",
         "domain": [
          0.6120000000000001,
          0.7960000000000002
         ],
         "matches": "x",
         "showticklabels": false
        },
        "yaxis": {
         "anchor": "x",
         "domain": [
          0,
          0.1975
         ],
         "title": {
          "text": "count"
         }
        },
        "yaxis10": {
         "anchor": "x10",
         "domain": [
          0.2675,
          0.465
         ],
         "matches": "y",
         "showticklabels": false
        },
        "yaxis11": {
         "anchor": "x11",
         "domain": [
          0.535,
          0.7325
         ],
         "matches": "y",
         "title": {
          "text": "count"
         }
        },
        "yaxis12": {
         "anchor": "x12",
         "domain": [
          0.535,
          0.7325
         ],
         "matches": "y",
         "showticklabels": false
        },
        "yaxis13": {
         "anchor": "x13",
         "domain": [
          0.535,
          0.7325
         ],
         "matches": "y",
         "showticklabels": false
        },
        "yaxis14": {
         "anchor": "x14",
         "domain": [
          0.535,
          0.7325
         ],
         "matches": "y",
         "showticklabels": false
        },
        "yaxis15": {
         "anchor": "x15",
         "domain": [
          0.535,
          0.7325
         ],
         "matches": "y",
         "showticklabels": false
        },
        "yaxis16": {
         "anchor": "x16",
         "domain": [
          0.8025,
          1
         ],
         "matches": "y",
         "title": {
          "text": "count"
         }
        },
        "yaxis17": {
         "anchor": "x17",
         "domain": [
          0.8025,
          1
         ],
         "matches": "y",
         "showticklabels": false
        },
        "yaxis18": {
         "anchor": "x18",
         "domain": [
          0.8025,
          1
         ],
         "matches": "y",
         "showticklabels": false
        },
        "yaxis19": {
         "anchor": "x19",
         "domain": [
          0.8025,
          1
         ],
         "matches": "y",
         "showticklabels": false
        },
        "yaxis2": {
         "anchor": "x2",
         "domain": [
          0,
          0.1975
         ],
         "matches": "y",
         "showticklabels": false
        },
        "yaxis20": {
         "anchor": "x20",
         "domain": [
          0.8025,
          1
         ],
         "matches": "y",
         "showticklabels": false
        },
        "yaxis3": {
         "anchor": "x3",
         "domain": [
          0,
          0.1975
         ],
         "matches": "y",
         "showticklabels": false
        },
        "yaxis4": {
         "anchor": "x4",
         "domain": [
          0,
          0.1975
         ],
         "matches": "y",
         "showticklabels": false
        },
        "yaxis5": {
         "anchor": "x5",
         "domain": [
          0,
          0.1975
         ],
         "matches": "y",
         "showticklabels": false
        },
        "yaxis6": {
         "anchor": "x6",
         "domain": [
          0.2675,
          0.465
         ],
         "matches": "y",
         "title": {
          "text": "count"
         }
        },
        "yaxis7": {
         "anchor": "x7",
         "domain": [
          0.2675,
          0.465
         ],
         "matches": "y",
         "showticklabels": false
        },
        "yaxis8": {
         "anchor": "x8",
         "domain": [
          0.2675,
          0.465
         ],
         "matches": "y",
         "showticklabels": false
        },
        "yaxis9": {
         "anchor": "x9",
         "domain": [
          0.2675,
          0.465
         ],
         "matches": "y",
         "showticklabels": false
        }
       }
      }
     },
     "metadata": {},
     "output_type": "display_data"
    }
   ],
   "source": [
    "px.histogram(ratings_df.groupby('choc').head(20),\n",
    "                x='rating',\n",
    "                facet_col='person',\n",
    "                facet_col_wrap=5,\n",
    "                template='simple_white')"
   ]
  }
 ],
 "metadata": {
  "kernelspec": {
   "display_name": "Python 3.8.13 ('.venv-choc': venv)",
   "language": "python",
   "name": "python3"
  },
  "language_info": {
   "codemirror_mode": {
    "name": "ipython",
    "version": 3
   },
   "file_extension": ".py",
   "mimetype": "text/x-python",
   "name": "python",
   "nbconvert_exporter": "python",
   "pygments_lexer": "ipython3",
   "version": "3.10.8"
  },
  "orig_nbformat": 4,
  "vscode": {
   "interpreter": {
    "hash": "4a356b8ba34d2241ef80cecb5dfbe1f7b2a4d2edb0e18d848583f98400376f3f"
   }
  }
 },
 "nbformat": 4,
 "nbformat_minor": 2
}
