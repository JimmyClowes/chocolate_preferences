{
 "cells": [
  {
   "attachments": {},
   "cell_type": "markdown",
   "metadata": {},
   "source": [
    "# Building a generative model\n",
    "\n",
    "Having plotted the data collected, I now have an improved understanding of how rankings varied across the people taking part. I want to build a generative model that I believe is:<br>\n",
    "(a) theoretically plausible in terms of how people's rankings come about; and<br>\n",
    "(b) consistent with the patterns observed in the ranking data.\n",
    "\n",
    "To build the generative model, I'm going to make some choices about what phenomena I think are involved in the process of generating the rankings, and I'm going to choose distributions that I consider well suited to representing those phenomena.\n",
    "\n",
    "The aspects of the data generating process I decided to include in the generative model were:\n",
    "- There are multiple people ranking chocolates (10 in the observed data, but it could be any number)\n",
    "\n",
    "- There are multople chocolates being ranking (17 in the observed data, but it could be any number)\n",
    "\n",
    "- People's rankings of chocolates is based on ordering of unobserved ratings people give to each chocolate on a latent scale\n",
    "\n",
    "- Each chocolate has some mean appeal and variance of appeal on the latent appeal scale\n",
    "  - Some chcocolates are generally agreed to be nicer than others, so they would have a higher mean appeal on the latent scale\n",
    "  - Some chocolates divide opinion more, so they would have a higher variance in appel on the latent scale\n",
    "\n",
    "- Each person has an individual quality score for each choclate drawn from the appeal distributions for each chocolate\n",
    "\n",
    "### Conception of the latent rating scale\n",
    "\n",
    "My conception of the latent rating scale for the chocolates is that each individual has a conception of a one-dimensonsal rating space along which they place the chocolates being rated according to how much appeal each chocolate holds for that person. In the specification of the generative model, this scale is constrained by assumptions that ratings are normally distributed, so a strong preference or dislike for a given chocolate will be constrained in how far from the other ratings it can stray. Some constraint like this is necessary in order to model rankings from multiple people on a common scale.\n",
    "\n",
    "With this in mind, the ratings given by individual people should be considered ratings across that person's own appeal scale, i.e. the person rating the chocolate near the bottom of what appeal a chocolate could have, near the top of what appeal they think it could have, or somewhere in the middle. In this sense, ratings from different people can not be compared in absolute terms, i.e. person A rating chocolate X 2.3 while person B rates chocolate X 1.9 can not be understood to men person A likes chocolate X more than person B does. What it does mean is that person A considered chocolate X to be higher up their personal scale of how good a chocolate can be than person B does up their personal scale.\n",
    "\n",
    "It may or may not be the case that humans experience the consumption of chocolate in a common way and there there is some absolute rating scale that could be understood in common terms across people rating chocolates, but that philosophical question of sense perception and pleasure is outside the remit of this exercise."
   ]
  },
  {
   "cell_type": "code",
   "execution_count": 1,
   "metadata": {},
   "outputs": [],
   "source": [
    "import plotly.express as px\n",
    "import inspect"
   ]
  },
  {
   "attachments": {},
   "cell_type": "markdown",
   "metadata": {},
   "source": [
    "## Defining the generative model"
   ]
  },
  {
   "attachments": {},
   "cell_type": "markdown",
   "metadata": {},
   "source": [
    "To give myself the ability to readily generate data based on the generative model in a flexible way throughout the project, I set up a `SimGenerative` class to generate ranking data based on the generative model. Here a couple of function definitions show how I have specified the generative model. First, in the `__init__` function, the number of people and chocolates involved is defined, as well as a seed for random number generation to allow reproducibility, and some hyperparameter choices that will be used in the distributions within the generative model."
   ]
  },
  {
   "cell_type": "code",
   "execution_count": 2,
   "metadata": {},
   "outputs": [
    {
     "name": "stdout",
     "output_type": "stream",
     "text": [
      "    def __init__(self,\n",
      "                 n_people=10,\n",
      "                 n_chocs=17,\n",
      "                 seed=123,\n",
      "                 hyperparams={'choc_mus': {'loc': 0, 'scale': 1},\n",
      "                              'choc_sigmas': {'shape': 5, 'scale': 0.1}}):\n",
      "\n",
      "        self.n_people = n_people\n",
      "        self.n_chocs = n_chocs\n",
      "        self.seed = seed\n",
      "        self.hyperparams = hyperparams\n",
      "\n"
     ]
    }
   ],
   "source": [
    "from src.data.generative import SimGenerative, SimViz\n",
    "\n",
    "print(inspect.getsource(SimGenerative.__init__))"
   ]
  },
  {
   "attachments": {},
   "cell_type": "markdown",
   "metadata": {},
   "source": [
    "Then, the `draw` method of the `SimGenerative` class defines the process for how rankings come about.\n",
    "\n",
    "- `choc_mus` sets the mean appeal ratings for each chocolate at the population level, i.e. the appeal level of each chocolate averaged across all people, and is drawn from a normal distribution defined by the hyperparameters provided\n",
    "\n",
    "- `choc_sigmas` sets the standard deviation in appeal ratings for each chocolate at the population level, i.e. how much variation there is in the appeal of each chocolate across all people, and is drawn from a gamma distribution defined by the hyperparameters provided\n",
    "\n",
    "- `choc_ratings` sets the appeal ratings for each person relating to each chocolate, drawn from a normal distribution centred on the population mean appeal for each chocolate and with standard deviation of the standard deviation in appeal for that chocolate\n",
    "\n",
    "- `choc_rankings` sets the rankings each person gives to each chocolate, determined by ordering the ratings each person gave to each chcolate from lowest to highest"
   ]
  },
  {
   "cell_type": "code",
   "execution_count": 3,
   "metadata": {},
   "outputs": [
    {
     "name": "stdout",
     "output_type": "stream",
     "text": [
      "    def draw(self):\n",
      "\n",
      "        np.random.seed(self.seed)\n",
      "\n",
      "        self.choc_mus = np.random.normal(**self.hyperparams['choc_mus'], size=self.n_chocs)\n",
      "        self.choc_sigmas = np.random.gamma(**self.hyperparams['choc_sigmas'], size=self.n_chocs)\n",
      "\n",
      "        self.choc_ratings = np.random.normal(self.choc_mus[np.newaxis,:],\n",
      "                                             self.choc_sigmas[np.newaxis,:],\n",
      "                                             size=(self.n_people,  self.n_chocs))\n",
      "\n",
      "        # negative of ratings is taken so that lower values are given higher rank indices\n",
      "        self.choc_rankings = np.argsort(-self.choc_ratings, axis=1)\n",
      "\n",
      "        self._make_ratings_rankings_df()\n",
      "\n"
     ]
    }
   ],
   "source": [
    "print(inspect.getsource(SimGenerative.draw))"
   ]
  },
  {
   "attachments": {},
   "cell_type": "markdown",
   "metadata": {},
   "source": [
    "## Drawing samples from the generative model\n",
    "\n",
    "Instantiating a `SimGenerative` object and drawing a simulation from it, we can see how the ratings look. Here a simulation is generated with the generative model using 100 people and 20 chocolates for demonstration purposes. In the data frame produced, we can see a rating is generated by each person for each chocolate. A person giving chocolate X a lower rating than chocolate Y will cause that person's ranking of chocolate X to be worse (i.e. a higher index value) than their ranking for chocolate Y. Rankings are assigned with the lowest rank index number being the highest rated chocolate and the highest rank index number being the lowest rated chocolate for each person, so rank 0 always means that person's favourite, i.e. highest rated, chocolate."
   ]
  },
  {
   "cell_type": "code",
   "execution_count": 4,
   "metadata": {},
   "outputs": [
    {
     "data": {
      "text/html": [
       "<div>\n",
       "<style scoped>\n",
       "    .dataframe tbody tr th:only-of-type {\n",
       "        vertical-align: middle;\n",
       "    }\n",
       "\n",
       "    .dataframe tbody tr th {\n",
       "        vertical-align: top;\n",
       "    }\n",
       "\n",
       "    .dataframe thead th {\n",
       "        text-align: right;\n",
       "    }\n",
       "</style>\n",
       "<table border=\"1\" class=\"dataframe\">\n",
       "  <thead>\n",
       "    <tr style=\"text-align: right;\">\n",
       "      <th></th>\n",
       "      <th>person</th>\n",
       "      <th>choc</th>\n",
       "      <th>rating</th>\n",
       "      <th>rank</th>\n",
       "    </tr>\n",
       "  </thead>\n",
       "  <tbody>\n",
       "    <tr>\n",
       "      <th>0</th>\n",
       "      <td>0</td>\n",
       "      <td>0</td>\n",
       "      <td>-1.583848</td>\n",
       "      <td>16</td>\n",
       "    </tr>\n",
       "    <tr>\n",
       "      <th>1</th>\n",
       "      <td>1</td>\n",
       "      <td>0</td>\n",
       "      <td>-0.276294</td>\n",
       "      <td>11</td>\n",
       "    </tr>\n",
       "    <tr>\n",
       "      <th>2</th>\n",
       "      <td>2</td>\n",
       "      <td>0</td>\n",
       "      <td>-0.671655</td>\n",
       "      <td>13</td>\n",
       "    </tr>\n",
       "    <tr>\n",
       "      <th>3</th>\n",
       "      <td>3</td>\n",
       "      <td>0</td>\n",
       "      <td>-1.263448</td>\n",
       "      <td>18</td>\n",
       "    </tr>\n",
       "    <tr>\n",
       "      <th>4</th>\n",
       "      <td>4</td>\n",
       "      <td>0</td>\n",
       "      <td>-1.616552</td>\n",
       "      <td>18</td>\n",
       "    </tr>\n",
       "    <tr>\n",
       "      <th>...</th>\n",
       "      <td>...</td>\n",
       "      <td>...</td>\n",
       "      <td>...</td>\n",
       "      <td>...</td>\n",
       "    </tr>\n",
       "    <tr>\n",
       "      <th>1995</th>\n",
       "      <td>95</td>\n",
       "      <td>19</td>\n",
       "      <td>0.682938</td>\n",
       "      <td>6</td>\n",
       "    </tr>\n",
       "    <tr>\n",
       "      <th>1996</th>\n",
       "      <td>96</td>\n",
       "      <td>19</td>\n",
       "      <td>0.399182</td>\n",
       "      <td>8</td>\n",
       "    </tr>\n",
       "    <tr>\n",
       "      <th>1997</th>\n",
       "      <td>97</td>\n",
       "      <td>19</td>\n",
       "      <td>2.144076</td>\n",
       "      <td>1</td>\n",
       "    </tr>\n",
       "    <tr>\n",
       "      <th>1998</th>\n",
       "      <td>98</td>\n",
       "      <td>19</td>\n",
       "      <td>0.892516</td>\n",
       "      <td>5</td>\n",
       "    </tr>\n",
       "    <tr>\n",
       "      <th>1999</th>\n",
       "      <td>99</td>\n",
       "      <td>19</td>\n",
       "      <td>-0.545503</td>\n",
       "      <td>12</td>\n",
       "    </tr>\n",
       "  </tbody>\n",
       "</table>\n",
       "<p>2000 rows × 4 columns</p>\n",
       "</div>"
      ],
      "text/plain": [
       "      person choc    rating rank\n",
       "0          0    0 -1.583848   16\n",
       "1          1    0 -0.276294   11\n",
       "2          2    0 -0.671655   13\n",
       "3          3    0 -1.263448   18\n",
       "4          4    0 -1.616552   18\n",
       "...      ...  ...       ...  ...\n",
       "1995      95   19  0.682938    6\n",
       "1996      96   19  0.399182    8\n",
       "1997      97   19  2.144076    1\n",
       "1998      98   19  0.892516    5\n",
       "1999      99   19 -0.545503   12\n",
       "\n",
       "[2000 rows x 4 columns]"
      ]
     },
     "execution_count": 4,
     "metadata": {},
     "output_type": "execute_result"
    }
   ],
   "source": [
    "sim = SimGenerative(n_people=100,\n",
    "                    n_chocs=20)\n",
    "sim.draw()\n",
    "sim.ratings_rankings_df"
   ]
  },
  {
   "attachments": {},
   "cell_type": "markdown",
   "metadata": {},
   "source": [
    "## Visualising population mean and variation in appeal"
   ]
  },
  {
   "cell_type": "code",
   "execution_count": 5,
   "metadata": {},
   "outputs": [],
   "source": [
    "sim_viz = SimViz(sim)"
   ]
  },
  {
   "attachments": {},
   "cell_type": "markdown",
   "metadata": {},
   "source": [
    "The mean appeal at the population level for chocolates is defined to be normally distributed, so most chocolates have an average appeal somewhere in the middle of the appeal scale, while a few chocolates lie at the extremeties with very low or very high average appeal. The mean and standard deviation assumed for this normal distribution is entirely arbitrary, and serves only to define the size of the appeal space across which people rate chocolates. Moving the centre of this distribution higher or lower, or making its spread wider or narrower, makes no difference to the interpretation of the ratings since the scale of the latent ratings is entirely arbitrary. For this reason, a normal distribution with mean 0 and standard deviation serves well since it is then easy to interpret ratings relative to 0."
   ]
  },
  {
   "cell_type": "code",
   "execution_count": 6,
   "metadata": {},
   "outputs": [
    {
     "data": {
      "application/vnd.plotly.v1+json": {
       "config": {
        "plotlyServerURL": "https://plot.ly"
       },
       "data": [
        {
         "alignmentgroup": "True",
         "bingroup": "x",
         "hovertemplate": "variable=0<br>value=%{x}<br>count=%{y}<extra></extra>",
         "legendgroup": "0",
         "marker": {
          "color": "#1F77B4",
          "pattern": {
           "shape": ""
          }
         },
         "name": "0",
         "offsetgroup": "0",
         "orientation": "v",
         "showlegend": true,
         "type": "histogram",
         "x": [
          -1.0856306033005612,
          0.9973454465835858,
          0.28297849805199204,
          -1.506294713918092,
          -0.5786002519685364,
          1.651436537097151,
          -2.426679243393074,
          -0.42891262885617726,
          1.265936258705534,
          -0.8667404022651017,
          -0.6788861516220543,
          -0.09470896893689112,
          1.4913896261242878,
          -0.638901996684651,
          -0.44398195964606546,
          -0.43435127561851733,
          2.2059300827254558,
          2.1867860889737867,
          1.004053897878877,
          0.386186399174856
         ],
         "xaxis": "x",
         "yaxis": "y"
        },
        {
         "alignmentgroup": "True",
         "boxpoints": "all",
         "fillcolor": "rgba(255,255,255,0)",
         "hoveron": "points",
         "hovertemplate": "variable=0<br>value=%{x}<extra></extra>",
         "jitter": 0,
         "legendgroup": "0",
         "line": {
          "color": "rgba(255,255,255,0)"
         },
         "marker": {
          "color": "#1F77B4",
          "symbol": "line-ns-open"
         },
         "name": "0",
         "offsetgroup": "0",
         "showlegend": false,
         "type": "box",
         "x": [
          -1.0856306033005612,
          0.9973454465835858,
          0.28297849805199204,
          -1.506294713918092,
          -0.5786002519685364,
          1.651436537097151,
          -2.426679243393074,
          -0.42891262885617726,
          1.265936258705534,
          -0.8667404022651017,
          -0.6788861516220543,
          -0.09470896893689112,
          1.4913896261242878,
          -0.638901996684651,
          -0.44398195964606546,
          -0.43435127561851733,
          2.2059300827254558,
          2.1867860889737867,
          1.004053897878877,
          0.386186399174856
         ],
         "xaxis": "x2",
         "yaxis": "y2"
        }
       ],
       "layout": {
        "barmode": "relative",
        "height": 600,
        "legend": {
         "title": {
          "text": "variable"
         },
         "tracegroupgap": 0
        },
        "showlegend": false,
        "template": {
         "data": {
          "bar": [
           {
            "error_x": {
             "color": "rgb(36,36,36)"
            },
            "error_y": {
             "color": "rgb(36,36,36)"
            },
            "marker": {
             "line": {
              "color": "white",
              "width": 0.5
             },
             "pattern": {
              "fillmode": "overlay",
              "size": 10,
              "solidity": 0.2
             }
            },
            "type": "bar"
           }
          ],
          "barpolar": [
           {
            "marker": {
             "line": {
              "color": "white",
              "width": 0.5
             },
             "pattern": {
              "fillmode": "overlay",
              "size": 10,
              "solidity": 0.2
             }
            },
            "type": "barpolar"
           }
          ],
          "carpet": [
           {
            "aaxis": {
             "endlinecolor": "rgb(36,36,36)",
             "gridcolor": "white",
             "linecolor": "white",
             "minorgridcolor": "white",
             "startlinecolor": "rgb(36,36,36)"
            },
            "baxis": {
             "endlinecolor": "rgb(36,36,36)",
             "gridcolor": "white",
             "linecolor": "white",
             "minorgridcolor": "white",
             "startlinecolor": "rgb(36,36,36)"
            },
            "type": "carpet"
           }
          ],
          "choropleth": [
           {
            "colorbar": {
             "outlinewidth": 1,
             "tickcolor": "rgb(36,36,36)",
             "ticks": "outside"
            },
            "type": "choropleth"
           }
          ],
          "contour": [
           {
            "colorbar": {
             "outlinewidth": 1,
             "tickcolor": "rgb(36,36,36)",
             "ticks": "outside"
            },
            "colorscale": [
             [
              0,
              "#440154"
             ],
             [
              0.1111111111111111,
              "#482878"
             ],
             [
              0.2222222222222222,
              "#3e4989"
             ],
             [
              0.3333333333333333,
              "#31688e"
             ],
             [
              0.4444444444444444,
              "#26828e"
             ],
             [
              0.5555555555555556,
              "#1f9e89"
             ],
             [
              0.6666666666666666,
              "#35b779"
             ],
             [
              0.7777777777777778,
              "#6ece58"
             ],
             [
              0.8888888888888888,
              "#b5de2b"
             ],
             [
              1,
              "#fde725"
             ]
            ],
            "type": "contour"
           }
          ],
          "contourcarpet": [
           {
            "colorbar": {
             "outlinewidth": 1,
             "tickcolor": "rgb(36,36,36)",
             "ticks": "outside"
            },
            "type": "contourcarpet"
           }
          ],
          "heatmap": [
           {
            "colorbar": {
             "outlinewidth": 1,
             "tickcolor": "rgb(36,36,36)",
             "ticks": "outside"
            },
            "colorscale": [
             [
              0,
              "#440154"
             ],
             [
              0.1111111111111111,
              "#482878"
             ],
             [
              0.2222222222222222,
              "#3e4989"
             ],
             [
              0.3333333333333333,
              "#31688e"
             ],
             [
              0.4444444444444444,
              "#26828e"
             ],
             [
              0.5555555555555556,
              "#1f9e89"
             ],
             [
              0.6666666666666666,
              "#35b779"
             ],
             [
              0.7777777777777778,
              "#6ece58"
             ],
             [
              0.8888888888888888,
              "#b5de2b"
             ],
             [
              1,
              "#fde725"
             ]
            ],
            "type": "heatmap"
           }
          ],
          "heatmapgl": [
           {
            "colorbar": {
             "outlinewidth": 1,
             "tickcolor": "rgb(36,36,36)",
             "ticks": "outside"
            },
            "colorscale": [
             [
              0,
              "#440154"
             ],
             [
              0.1111111111111111,
              "#482878"
             ],
             [
              0.2222222222222222,
              "#3e4989"
             ],
             [
              0.3333333333333333,
              "#31688e"
             ],
             [
              0.4444444444444444,
              "#26828e"
             ],
             [
              0.5555555555555556,
              "#1f9e89"
             ],
             [
              0.6666666666666666,
              "#35b779"
             ],
             [
              0.7777777777777778,
              "#6ece58"
             ],
             [
              0.8888888888888888,
              "#b5de2b"
             ],
             [
              1,
              "#fde725"
             ]
            ],
            "type": "heatmapgl"
           }
          ],
          "histogram": [
           {
            "marker": {
             "line": {
              "color": "white",
              "width": 0.6
             }
            },
            "type": "histogram"
           }
          ],
          "histogram2d": [
           {
            "colorbar": {
             "outlinewidth": 1,
             "tickcolor": "rgb(36,36,36)",
             "ticks": "outside"
            },
            "colorscale": [
             [
              0,
              "#440154"
             ],
             [
              0.1111111111111111,
              "#482878"
             ],
             [
              0.2222222222222222,
              "#3e4989"
             ],
             [
              0.3333333333333333,
              "#31688e"
             ],
             [
              0.4444444444444444,
              "#26828e"
             ],
             [
              0.5555555555555556,
              "#1f9e89"
             ],
             [
              0.6666666666666666,
              "#35b779"
             ],
             [
              0.7777777777777778,
              "#6ece58"
             ],
             [
              0.8888888888888888,
              "#b5de2b"
             ],
             [
              1,
              "#fde725"
             ]
            ],
            "type": "histogram2d"
           }
          ],
          "histogram2dcontour": [
           {
            "colorbar": {
             "outlinewidth": 1,
             "tickcolor": "rgb(36,36,36)",
             "ticks": "outside"
            },
            "colorscale": [
             [
              0,
              "#440154"
             ],
             [
              0.1111111111111111,
              "#482878"
             ],
             [
              0.2222222222222222,
              "#3e4989"
             ],
             [
              0.3333333333333333,
              "#31688e"
             ],
             [
              0.4444444444444444,
              "#26828e"
             ],
             [
              0.5555555555555556,
              "#1f9e89"
             ],
             [
              0.6666666666666666,
              "#35b779"
             ],
             [
              0.7777777777777778,
              "#6ece58"
             ],
             [
              0.8888888888888888,
              "#b5de2b"
             ],
             [
              1,
              "#fde725"
             ]
            ],
            "type": "histogram2dcontour"
           }
          ],
          "mesh3d": [
           {
            "colorbar": {
             "outlinewidth": 1,
             "tickcolor": "rgb(36,36,36)",
             "ticks": "outside"
            },
            "type": "mesh3d"
           }
          ],
          "parcoords": [
           {
            "line": {
             "colorbar": {
              "outlinewidth": 1,
              "tickcolor": "rgb(36,36,36)",
              "ticks": "outside"
             }
            },
            "type": "parcoords"
           }
          ],
          "pie": [
           {
            "automargin": true,
            "type": "pie"
           }
          ],
          "scatter": [
           {
            "fillpattern": {
             "fillmode": "overlay",
             "size": 10,
             "solidity": 0.2
            },
            "type": "scatter"
           }
          ],
          "scatter3d": [
           {
            "line": {
             "colorbar": {
              "outlinewidth": 1,
              "tickcolor": "rgb(36,36,36)",
              "ticks": "outside"
             }
            },
            "marker": {
             "colorbar": {
              "outlinewidth": 1,
              "tickcolor": "rgb(36,36,36)",
              "ticks": "outside"
             }
            },
            "type": "scatter3d"
           }
          ],
          "scattercarpet": [
           {
            "marker": {
             "colorbar": {
              "outlinewidth": 1,
              "tickcolor": "rgb(36,36,36)",
              "ticks": "outside"
             }
            },
            "type": "scattercarpet"
           }
          ],
          "scattergeo": [
           {
            "marker": {
             "colorbar": {
              "outlinewidth": 1,
              "tickcolor": "rgb(36,36,36)",
              "ticks": "outside"
             }
            },
            "type": "scattergeo"
           }
          ],
          "scattergl": [
           {
            "marker": {
             "colorbar": {
              "outlinewidth": 1,
              "tickcolor": "rgb(36,36,36)",
              "ticks": "outside"
             }
            },
            "type": "scattergl"
           }
          ],
          "scattermapbox": [
           {
            "marker": {
             "colorbar": {
              "outlinewidth": 1,
              "tickcolor": "rgb(36,36,36)",
              "ticks": "outside"
             }
            },
            "type": "scattermapbox"
           }
          ],
          "scatterpolar": [
           {
            "marker": {
             "colorbar": {
              "outlinewidth": 1,
              "tickcolor": "rgb(36,36,36)",
              "ticks": "outside"
             }
            },
            "type": "scatterpolar"
           }
          ],
          "scatterpolargl": [
           {
            "marker": {
             "colorbar": {
              "outlinewidth": 1,
              "tickcolor": "rgb(36,36,36)",
              "ticks": "outside"
             }
            },
            "type": "scatterpolargl"
           }
          ],
          "scatterternary": [
           {
            "marker": {
             "colorbar": {
              "outlinewidth": 1,
              "tickcolor": "rgb(36,36,36)",
              "ticks": "outside"
             }
            },
            "type": "scatterternary"
           }
          ],
          "surface": [
           {
            "colorbar": {
             "outlinewidth": 1,
             "tickcolor": "rgb(36,36,36)",
             "ticks": "outside"
            },
            "colorscale": [
             [
              0,
              "#440154"
             ],
             [
              0.1111111111111111,
              "#482878"
             ],
             [
              0.2222222222222222,
              "#3e4989"
             ],
             [
              0.3333333333333333,
              "#31688e"
             ],
             [
              0.4444444444444444,
              "#26828e"
             ],
             [
              0.5555555555555556,
              "#1f9e89"
             ],
             [
              0.6666666666666666,
              "#35b779"
             ],
             [
              0.7777777777777778,
              "#6ece58"
             ],
             [
              0.8888888888888888,
              "#b5de2b"
             ],
             [
              1,
              "#fde725"
             ]
            ],
            "type": "surface"
           }
          ],
          "table": [
           {
            "cells": {
             "fill": {
              "color": "rgb(237,237,237)"
             },
             "line": {
              "color": "white"
             }
            },
            "header": {
             "fill": {
              "color": "rgb(217,217,217)"
             },
             "line": {
              "color": "white"
             }
            },
            "type": "table"
           }
          ]
         },
         "layout": {
          "annotationdefaults": {
           "arrowhead": 0,
           "arrowwidth": 1
          },
          "autotypenumbers": "strict",
          "coloraxis": {
           "colorbar": {
            "outlinewidth": 1,
            "tickcolor": "rgb(36,36,36)",
            "ticks": "outside"
           }
          },
          "colorscale": {
           "diverging": [
            [
             0,
             "rgb(103,0,31)"
            ],
            [
             0.1,
             "rgb(178,24,43)"
            ],
            [
             0.2,
             "rgb(214,96,77)"
            ],
            [
             0.3,
             "rgb(244,165,130)"
            ],
            [
             0.4,
             "rgb(253,219,199)"
            ],
            [
             0.5,
             "rgb(247,247,247)"
            ],
            [
             0.6,
             "rgb(209,229,240)"
            ],
            [
             0.7,
             "rgb(146,197,222)"
            ],
            [
             0.8,
             "rgb(67,147,195)"
            ],
            [
             0.9,
             "rgb(33,102,172)"
            ],
            [
             1,
             "rgb(5,48,97)"
            ]
           ],
           "sequential": [
            [
             0,
             "#440154"
            ],
            [
             0.1111111111111111,
             "#482878"
            ],
            [
             0.2222222222222222,
             "#3e4989"
            ],
            [
             0.3333333333333333,
             "#31688e"
            ],
            [
             0.4444444444444444,
             "#26828e"
            ],
            [
             0.5555555555555556,
             "#1f9e89"
            ],
            [
             0.6666666666666666,
             "#35b779"
            ],
            [
             0.7777777777777778,
             "#6ece58"
            ],
            [
             0.8888888888888888,
             "#b5de2b"
            ],
            [
             1,
             "#fde725"
            ]
           ],
           "sequentialminus": [
            [
             0,
             "#440154"
            ],
            [
             0.1111111111111111,
             "#482878"
            ],
            [
             0.2222222222222222,
             "#3e4989"
            ],
            [
             0.3333333333333333,
             "#31688e"
            ],
            [
             0.4444444444444444,
             "#26828e"
            ],
            [
             0.5555555555555556,
             "#1f9e89"
            ],
            [
             0.6666666666666666,
             "#35b779"
            ],
            [
             0.7777777777777778,
             "#6ece58"
            ],
            [
             0.8888888888888888,
             "#b5de2b"
            ],
            [
             1,
             "#fde725"
            ]
           ]
          },
          "colorway": [
           "#1F77B4",
           "#FF7F0E",
           "#2CA02C",
           "#D62728",
           "#9467BD",
           "#8C564B",
           "#E377C2",
           "#7F7F7F",
           "#BCBD22",
           "#17BECF"
          ],
          "font": {
           "color": "rgb(36,36,36)"
          },
          "geo": {
           "bgcolor": "white",
           "lakecolor": "white",
           "landcolor": "white",
           "showlakes": true,
           "showland": true,
           "subunitcolor": "white"
          },
          "hoverlabel": {
           "align": "left"
          },
          "hovermode": "closest",
          "mapbox": {
           "style": "light"
          },
          "paper_bgcolor": "white",
          "plot_bgcolor": "white",
          "polar": {
           "angularaxis": {
            "gridcolor": "rgb(232,232,232)",
            "linecolor": "rgb(36,36,36)",
            "showgrid": false,
            "showline": true,
            "ticks": "outside"
           },
           "bgcolor": "white",
           "radialaxis": {
            "gridcolor": "rgb(232,232,232)",
            "linecolor": "rgb(36,36,36)",
            "showgrid": false,
            "showline": true,
            "ticks": "outside"
           }
          },
          "scene": {
           "xaxis": {
            "backgroundcolor": "white",
            "gridcolor": "rgb(232,232,232)",
            "gridwidth": 2,
            "linecolor": "rgb(36,36,36)",
            "showbackground": true,
            "showgrid": false,
            "showline": true,
            "ticks": "outside",
            "zeroline": false,
            "zerolinecolor": "rgb(36,36,36)"
           },
           "yaxis": {
            "backgroundcolor": "white",
            "gridcolor": "rgb(232,232,232)",
            "gridwidth": 2,
            "linecolor": "rgb(36,36,36)",
            "showbackground": true,
            "showgrid": false,
            "showline": true,
            "ticks": "outside",
            "zeroline": false,
            "zerolinecolor": "rgb(36,36,36)"
           },
           "zaxis": {
            "backgroundcolor": "white",
            "gridcolor": "rgb(232,232,232)",
            "gridwidth": 2,
            "linecolor": "rgb(36,36,36)",
            "showbackground": true,
            "showgrid": false,
            "showline": true,
            "ticks": "outside",
            "zeroline": false,
            "zerolinecolor": "rgb(36,36,36)"
           }
          },
          "shapedefaults": {
           "fillcolor": "black",
           "line": {
            "width": 0
           },
           "opacity": 0.3
          },
          "ternary": {
           "aaxis": {
            "gridcolor": "rgb(232,232,232)",
            "linecolor": "rgb(36,36,36)",
            "showgrid": false,
            "showline": true,
            "ticks": "outside"
           },
           "baxis": {
            "gridcolor": "rgb(232,232,232)",
            "linecolor": "rgb(36,36,36)",
            "showgrid": false,
            "showline": true,
            "ticks": "outside"
           },
           "bgcolor": "white",
           "caxis": {
            "gridcolor": "rgb(232,232,232)",
            "linecolor": "rgb(36,36,36)",
            "showgrid": false,
            "showline": true,
            "ticks": "outside"
           }
          },
          "title": {
           "x": 0.05
          },
          "xaxis": {
           "automargin": true,
           "gridcolor": "rgb(232,232,232)",
           "linecolor": "rgb(36,36,36)",
           "showgrid": false,
           "showline": true,
           "ticks": "outside",
           "title": {
            "standoff": 15
           },
           "zeroline": false,
           "zerolinecolor": "rgb(36,36,36)"
          },
          "yaxis": {
           "automargin": true,
           "gridcolor": "rgb(232,232,232)",
           "linecolor": "rgb(36,36,36)",
           "showgrid": false,
           "showline": true,
           "ticks": "outside",
           "title": {
            "standoff": 15
           },
           "zeroline": false,
           "zerolinecolor": "rgb(36,36,36)"
          }
         }
        },
        "title": {
         "text": "Population mean preferences for chocolates"
        },
        "width": 1000,
        "xaxis": {
         "anchor": "y",
         "domain": [
          0,
          1
         ],
         "title": {
          "text": "choc_mus"
         }
        },
        "xaxis2": {
         "anchor": "y2",
         "domain": [
          0,
          1
         ],
         "matches": "x",
         "showticklabels": false
        },
        "yaxis": {
         "anchor": "x",
         "domain": [
          0,
          0.7326
         ],
         "title": {
          "text": "count"
         }
        },
        "yaxis2": {
         "anchor": "x2",
         "domain": [
          0.7426,
          1
         ],
         "matches": "y2",
         "showline": false,
         "showticklabels": false,
         "ticks": ""
        }
       }
      }
     },
     "metadata": {},
     "output_type": "display_data"
    }
   ],
   "source": [
    "sim_viz.plot_var('choc_mus',\n",
    "                 marginal='rug',\n",
    "                 title='Population mean preferences for chocolates')"
   ]
  },
  {
   "attachments": {},
   "cell_type": "markdown",
   "metadata": {},
   "source": [
    "The other population level aspect of the generative model is the standard deviation in appeal for each chocolate. This describes how much variation there is in individual people's ratings of the appeal of a given chcolate. These standard deviations differ because some chocolates are assumed to have similar ratings across people, whereas others are assumed tobe more divisive causing a wider spread in appeal ratings across people.\n",
    "\n",
    "The population level standard deviation in ratings was defined to be gamma distributed, allowing for a range of possible values, but ensuring that all values are positive. The mean of the gamma distribution is α/β, where α and β are its shape and scale parameters respectively. Numpy defines the scale parameter as 1/β, so by choosing shape and scale 5 and 0.1, the mean of the population standard deviations in appeal is set to 0.5. More information and interactive visualiastions of the gamma distribution can be found at https://distribution-explorer.github.io/continuous/gamma.html\n",
    "\n",
    "Unlike the situation above where the centre and spread of the population mean appeals per chocolate was explained as arbitrary, the scale of population standard deviations in appeal is now relative to the population mean appeal levels. So, since the population mean appeals were assumed to have standard devition 1, choosing a gamma distribution with mean 0.5 for the population level standard deviations in appeal means that the individual effects on ratings are on average assumed to be about half the size of the population level effects. So, if a chocolate has a population mean rating of -1, few participants will rate that chocolate above 0 if it has a population level standard deviation of 0.5, since that would be two standard deviations above the mean. The possibility remains open, however, for that chocolate to have a higher standard deviation in appeal ratings drawn from the gamma distribition, so it's possible for individual level effects to outweight population level effects in some cases.\n",
    "\n",
    "Here we can see most chocolates have a standard deviaition in appeal in the region of 0.5, but some do have standard deviations greater than 1 or less than 0.2."
   ]
  },
  {
   "cell_type": "code",
   "execution_count": 7,
   "metadata": {},
   "outputs": [
    {
     "data": {
      "application/vnd.plotly.v1+json": {
       "config": {
        "plotlyServerURL": "https://plot.ly"
       },
       "data": [
        {
         "alignmentgroup": "True",
         "bingroup": "x",
         "hovertemplate": "variable=0<br>value=%{x}<br>count=%{y}<extra></extra>",
         "legendgroup": "0",
         "marker": {
          "color": "#1F77B4",
          "pattern": {
           "shape": ""
          }
         },
         "name": "0",
         "offsetgroup": "0",
         "orientation": "v",
         "showlegend": true,
         "type": "histogram",
         "x": [
          0.6447675957791658,
          0.8684574378563087,
          0.24482482705522238,
          0.34200944137737016,
          0.43705762822694316,
          0.304163186728684,
          0.17905083570474842,
          0.3312157509837457,
          0.4672817247799852,
          0.6316869960932818,
          0.31341252301094097,
          0.1841008554362672,
          0.5436982301490105,
          0.46411565027943713,
          0.7116360351782084,
          1.1363589840484216,
          0.9537924987688863,
          0.3146240964281539,
          0.6867380378313127,
          0.9576853251853014
         ],
         "xaxis": "x",
         "yaxis": "y"
        },
        {
         "alignmentgroup": "True",
         "boxpoints": "all",
         "fillcolor": "rgba(255,255,255,0)",
         "hoveron": "points",
         "hovertemplate": "variable=0<br>value=%{x}<extra></extra>",
         "jitter": 0,
         "legendgroup": "0",
         "line": {
          "color": "rgba(255,255,255,0)"
         },
         "marker": {
          "color": "#1F77B4",
          "symbol": "line-ns-open"
         },
         "name": "0",
         "offsetgroup": "0",
         "showlegend": false,
         "type": "box",
         "x": [
          0.6447675957791658,
          0.8684574378563087,
          0.24482482705522238,
          0.34200944137737016,
          0.43705762822694316,
          0.304163186728684,
          0.17905083570474842,
          0.3312157509837457,
          0.4672817247799852,
          0.6316869960932818,
          0.31341252301094097,
          0.1841008554362672,
          0.5436982301490105,
          0.46411565027943713,
          0.7116360351782084,
          1.1363589840484216,
          0.9537924987688863,
          0.3146240964281539,
          0.6867380378313127,
          0.9576853251853014
         ],
         "xaxis": "x2",
         "yaxis": "y2"
        }
       ],
       "layout": {
        "barmode": "relative",
        "height": 600,
        "legend": {
         "title": {
          "text": "variable"
         },
         "tracegroupgap": 0
        },
        "showlegend": false,
        "template": {
         "data": {
          "bar": [
           {
            "error_x": {
             "color": "rgb(36,36,36)"
            },
            "error_y": {
             "color": "rgb(36,36,36)"
            },
            "marker": {
             "line": {
              "color": "white",
              "width": 0.5
             },
             "pattern": {
              "fillmode": "overlay",
              "size": 10,
              "solidity": 0.2
             }
            },
            "type": "bar"
           }
          ],
          "barpolar": [
           {
            "marker": {
             "line": {
              "color": "white",
              "width": 0.5
             },
             "pattern": {
              "fillmode": "overlay",
              "size": 10,
              "solidity": 0.2
             }
            },
            "type": "barpolar"
           }
          ],
          "carpet": [
           {
            "aaxis": {
             "endlinecolor": "rgb(36,36,36)",
             "gridcolor": "white",
             "linecolor": "white",
             "minorgridcolor": "white",
             "startlinecolor": "rgb(36,36,36)"
            },
            "baxis": {
             "endlinecolor": "rgb(36,36,36)",
             "gridcolor": "white",
             "linecolor": "white",
             "minorgridcolor": "white",
             "startlinecolor": "rgb(36,36,36)"
            },
            "type": "carpet"
           }
          ],
          "choropleth": [
           {
            "colorbar": {
             "outlinewidth": 1,
             "tickcolor": "rgb(36,36,36)",
             "ticks": "outside"
            },
            "type": "choropleth"
           }
          ],
          "contour": [
           {
            "colorbar": {
             "outlinewidth": 1,
             "tickcolor": "rgb(36,36,36)",
             "ticks": "outside"
            },
            "colorscale": [
             [
              0,
              "#440154"
             ],
             [
              0.1111111111111111,
              "#482878"
             ],
             [
              0.2222222222222222,
              "#3e4989"
             ],
             [
              0.3333333333333333,
              "#31688e"
             ],
             [
              0.4444444444444444,
              "#26828e"
             ],
             [
              0.5555555555555556,
              "#1f9e89"
             ],
             [
              0.6666666666666666,
              "#35b779"
             ],
             [
              0.7777777777777778,
              "#6ece58"
             ],
             [
              0.8888888888888888,
              "#b5de2b"
             ],
             [
              1,
              "#fde725"
             ]
            ],
            "type": "contour"
           }
          ],
          "contourcarpet": [
           {
            "colorbar": {
             "outlinewidth": 1,
             "tickcolor": "rgb(36,36,36)",
             "ticks": "outside"
            },
            "type": "contourcarpet"
           }
          ],
          "heatmap": [
           {
            "colorbar": {
             "outlinewidth": 1,
             "tickcolor": "rgb(36,36,36)",
             "ticks": "outside"
            },
            "colorscale": [
             [
              0,
              "#440154"
             ],
             [
              0.1111111111111111,
              "#482878"
             ],
             [
              0.2222222222222222,
              "#3e4989"
             ],
             [
              0.3333333333333333,
              "#31688e"
             ],
             [
              0.4444444444444444,
              "#26828e"
             ],
             [
              0.5555555555555556,
              "#1f9e89"
             ],
             [
              0.6666666666666666,
              "#35b779"
             ],
             [
              0.7777777777777778,
              "#6ece58"
             ],
             [
              0.8888888888888888,
              "#b5de2b"
             ],
             [
              1,
              "#fde725"
             ]
            ],
            "type": "heatmap"
           }
          ],
          "heatmapgl": [
           {
            "colorbar": {
             "outlinewidth": 1,
             "tickcolor": "rgb(36,36,36)",
             "ticks": "outside"
            },
            "colorscale": [
             [
              0,
              "#440154"
             ],
             [
              0.1111111111111111,
              "#482878"
             ],
             [
              0.2222222222222222,
              "#3e4989"
             ],
             [
              0.3333333333333333,
              "#31688e"
             ],
             [
              0.4444444444444444,
              "#26828e"
             ],
             [
              0.5555555555555556,
              "#1f9e89"
             ],
             [
              0.6666666666666666,
              "#35b779"
             ],
             [
              0.7777777777777778,
              "#6ece58"
             ],
             [
              0.8888888888888888,
              "#b5de2b"
             ],
             [
              1,
              "#fde725"
             ]
            ],
            "type": "heatmapgl"
           }
          ],
          "histogram": [
           {
            "marker": {
             "line": {
              "color": "white",
              "width": 0.6
             }
            },
            "type": "histogram"
           }
          ],
          "histogram2d": [
           {
            "colorbar": {
             "outlinewidth": 1,
             "tickcolor": "rgb(36,36,36)",
             "ticks": "outside"
            },
            "colorscale": [
             [
              0,
              "#440154"
             ],
             [
              0.1111111111111111,
              "#482878"
             ],
             [
              0.2222222222222222,
              "#3e4989"
             ],
             [
              0.3333333333333333,
              "#31688e"
             ],
             [
              0.4444444444444444,
              "#26828e"
             ],
             [
              0.5555555555555556,
              "#1f9e89"
             ],
             [
              0.6666666666666666,
              "#35b779"
             ],
             [
              0.7777777777777778,
              "#6ece58"
             ],
             [
              0.8888888888888888,
              "#b5de2b"
             ],
             [
              1,
              "#fde725"
             ]
            ],
            "type": "histogram2d"
           }
          ],
          "histogram2dcontour": [
           {
            "colorbar": {
             "outlinewidth": 1,
             "tickcolor": "rgb(36,36,36)",
             "ticks": "outside"
            },
            "colorscale": [
             [
              0,
              "#440154"
             ],
             [
              0.1111111111111111,
              "#482878"
             ],
             [
              0.2222222222222222,
              "#3e4989"
             ],
             [
              0.3333333333333333,
              "#31688e"
             ],
             [
              0.4444444444444444,
              "#26828e"
             ],
             [
              0.5555555555555556,
              "#1f9e89"
             ],
             [
              0.6666666666666666,
              "#35b779"
             ],
             [
              0.7777777777777778,
              "#6ece58"
             ],
             [
              0.8888888888888888,
              "#b5de2b"
             ],
             [
              1,
              "#fde725"
             ]
            ],
            "type": "histogram2dcontour"
           }
          ],
          "mesh3d": [
           {
            "colorbar": {
             "outlinewidth": 1,
             "tickcolor": "rgb(36,36,36)",
             "ticks": "outside"
            },
            "type": "mesh3d"
           }
          ],
          "parcoords": [
           {
            "line": {
             "colorbar": {
              "outlinewidth": 1,
              "tickcolor": "rgb(36,36,36)",
              "ticks": "outside"
             }
            },
            "type": "parcoords"
           }
          ],
          "pie": [
           {
            "automargin": true,
            "type": "pie"
           }
          ],
          "scatter": [
           {
            "fillpattern": {
             "fillmode": "overlay",
             "size": 10,
             "solidity": 0.2
            },
            "type": "scatter"
           }
          ],
          "scatter3d": [
           {
            "line": {
             "colorbar": {
              "outlinewidth": 1,
              "tickcolor": "rgb(36,36,36)",
              "ticks": "outside"
             }
            },
            "marker": {
             "colorbar": {
              "outlinewidth": 1,
              "tickcolor": "rgb(36,36,36)",
              "ticks": "outside"
             }
            },
            "type": "scatter3d"
           }
          ],
          "scattercarpet": [
           {
            "marker": {
             "colorbar": {
              "outlinewidth": 1,
              "tickcolor": "rgb(36,36,36)",
              "ticks": "outside"
             }
            },
            "type": "scattercarpet"
           }
          ],
          "scattergeo": [
           {
            "marker": {
             "colorbar": {
              "outlinewidth": 1,
              "tickcolor": "rgb(36,36,36)",
              "ticks": "outside"
             }
            },
            "type": "scattergeo"
           }
          ],
          "scattergl": [
           {
            "marker": {
             "colorbar": {
              "outlinewidth": 1,
              "tickcolor": "rgb(36,36,36)",
              "ticks": "outside"
             }
            },
            "type": "scattergl"
           }
          ],
          "scattermapbox": [
           {
            "marker": {
             "colorbar": {
              "outlinewidth": 1,
              "tickcolor": "rgb(36,36,36)",
              "ticks": "outside"
             }
            },
            "type": "scattermapbox"
           }
          ],
          "scatterpolar": [
           {
            "marker": {
             "colorbar": {
              "outlinewidth": 1,
              "tickcolor": "rgb(36,36,36)",
              "ticks": "outside"
             }
            },
            "type": "scatterpolar"
           }
          ],
          "scatterpolargl": [
           {
            "marker": {
             "colorbar": {
              "outlinewidth": 1,
              "tickcolor": "rgb(36,36,36)",
              "ticks": "outside"
             }
            },
            "type": "scatterpolargl"
           }
          ],
          "scatterternary": [
           {
            "marker": {
             "colorbar": {
              "outlinewidth": 1,
              "tickcolor": "rgb(36,36,36)",
              "ticks": "outside"
             }
            },
            "type": "scatterternary"
           }
          ],
          "surface": [
           {
            "colorbar": {
             "outlinewidth": 1,
             "tickcolor": "rgb(36,36,36)",
             "ticks": "outside"
            },
            "colorscale": [
             [
              0,
              "#440154"
             ],
             [
              0.1111111111111111,
              "#482878"
             ],
             [
              0.2222222222222222,
              "#3e4989"
             ],
             [
              0.3333333333333333,
              "#31688e"
             ],
             [
              0.4444444444444444,
              "#26828e"
             ],
             [
              0.5555555555555556,
              "#1f9e89"
             ],
             [
              0.6666666666666666,
              "#35b779"
             ],
             [
              0.7777777777777778,
              "#6ece58"
             ],
             [
              0.8888888888888888,
              "#b5de2b"
             ],
             [
              1,
              "#fde725"
             ]
            ],
            "type": "surface"
           }
          ],
          "table": [
           {
            "cells": {
             "fill": {
              "color": "rgb(237,237,237)"
             },
             "line": {
              "color": "white"
             }
            },
            "header": {
             "fill": {
              "color": "rgb(217,217,217)"
             },
             "line": {
              "color": "white"
             }
            },
            "type": "table"
           }
          ]
         },
         "layout": {
          "annotationdefaults": {
           "arrowhead": 0,
           "arrowwidth": 1
          },
          "autotypenumbers": "strict",
          "coloraxis": {
           "colorbar": {
            "outlinewidth": 1,
            "tickcolor": "rgb(36,36,36)",
            "ticks": "outside"
           }
          },
          "colorscale": {
           "diverging": [
            [
             0,
             "rgb(103,0,31)"
            ],
            [
             0.1,
             "rgb(178,24,43)"
            ],
            [
             0.2,
             "rgb(214,96,77)"
            ],
            [
             0.3,
             "rgb(244,165,130)"
            ],
            [
             0.4,
             "rgb(253,219,199)"
            ],
            [
             0.5,
             "rgb(247,247,247)"
            ],
            [
             0.6,
             "rgb(209,229,240)"
            ],
            [
             0.7,
             "rgb(146,197,222)"
            ],
            [
             0.8,
             "rgb(67,147,195)"
            ],
            [
             0.9,
             "rgb(33,102,172)"
            ],
            [
             1,
             "rgb(5,48,97)"
            ]
           ],
           "sequential": [
            [
             0,
             "#440154"
            ],
            [
             0.1111111111111111,
             "#482878"
            ],
            [
             0.2222222222222222,
             "#3e4989"
            ],
            [
             0.3333333333333333,
             "#31688e"
            ],
            [
             0.4444444444444444,
             "#26828e"
            ],
            [
             0.5555555555555556,
             "#1f9e89"
            ],
            [
             0.6666666666666666,
             "#35b779"
            ],
            [
             0.7777777777777778,
             "#6ece58"
            ],
            [
             0.8888888888888888,
             "#b5de2b"
            ],
            [
             1,
             "#fde725"
            ]
           ],
           "sequentialminus": [
            [
             0,
             "#440154"
            ],
            [
             0.1111111111111111,
             "#482878"
            ],
            [
             0.2222222222222222,
             "#3e4989"
            ],
            [
             0.3333333333333333,
             "#31688e"
            ],
            [
             0.4444444444444444,
             "#26828e"
            ],
            [
             0.5555555555555556,
             "#1f9e89"
            ],
            [
             0.6666666666666666,
             "#35b779"
            ],
            [
             0.7777777777777778,
             "#6ece58"
            ],
            [
             0.8888888888888888,
             "#b5de2b"
            ],
            [
             1,
             "#fde725"
            ]
           ]
          },
          "colorway": [
           "#1F77B4",
           "#FF7F0E",
           "#2CA02C",
           "#D62728",
           "#9467BD",
           "#8C564B",
           "#E377C2",
           "#7F7F7F",
           "#BCBD22",
           "#17BECF"
          ],
          "font": {
           "color": "rgb(36,36,36)"
          },
          "geo": {
           "bgcolor": "white",
           "lakecolor": "white",
           "landcolor": "white",
           "showlakes": true,
           "showland": true,
           "subunitcolor": "white"
          },
          "hoverlabel": {
           "align": "left"
          },
          "hovermode": "closest",
          "mapbox": {
           "style": "light"
          },
          "paper_bgcolor": "white",
          "plot_bgcolor": "white",
          "polar": {
           "angularaxis": {
            "gridcolor": "rgb(232,232,232)",
            "linecolor": "rgb(36,36,36)",
            "showgrid": false,
            "showline": true,
            "ticks": "outside"
           },
           "bgcolor": "white",
           "radialaxis": {
            "gridcolor": "rgb(232,232,232)",
            "linecolor": "rgb(36,36,36)",
            "showgrid": false,
            "showline": true,
            "ticks": "outside"
           }
          },
          "scene": {
           "xaxis": {
            "backgroundcolor": "white",
            "gridcolor": "rgb(232,232,232)",
            "gridwidth": 2,
            "linecolor": "rgb(36,36,36)",
            "showbackground": true,
            "showgrid": false,
            "showline": true,
            "ticks": "outside",
            "zeroline": false,
            "zerolinecolor": "rgb(36,36,36)"
           },
           "yaxis": {
            "backgroundcolor": "white",
            "gridcolor": "rgb(232,232,232)",
            "gridwidth": 2,
            "linecolor": "rgb(36,36,36)",
            "showbackground": true,
            "showgrid": false,
            "showline": true,
            "ticks": "outside",
            "zeroline": false,
            "zerolinecolor": "rgb(36,36,36)"
           },
           "zaxis": {
            "backgroundcolor": "white",
            "gridcolor": "rgb(232,232,232)",
            "gridwidth": 2,
            "linecolor": "rgb(36,36,36)",
            "showbackground": true,
            "showgrid": false,
            "showline": true,
            "ticks": "outside",
            "zeroline": false,
            "zerolinecolor": "rgb(36,36,36)"
           }
          },
          "shapedefaults": {
           "fillcolor": "black",
           "line": {
            "width": 0
           },
           "opacity": 0.3
          },
          "ternary": {
           "aaxis": {
            "gridcolor": "rgb(232,232,232)",
            "linecolor": "rgb(36,36,36)",
            "showgrid": false,
            "showline": true,
            "ticks": "outside"
           },
           "baxis": {
            "gridcolor": "rgb(232,232,232)",
            "linecolor": "rgb(36,36,36)",
            "showgrid": false,
            "showline": true,
            "ticks": "outside"
           },
           "bgcolor": "white",
           "caxis": {
            "gridcolor": "rgb(232,232,232)",
            "linecolor": "rgb(36,36,36)",
            "showgrid": false,
            "showline": true,
            "ticks": "outside"
           }
          },
          "title": {
           "x": 0.05
          },
          "xaxis": {
           "automargin": true,
           "gridcolor": "rgb(232,232,232)",
           "linecolor": "rgb(36,36,36)",
           "showgrid": false,
           "showline": true,
           "ticks": "outside",
           "title": {
            "standoff": 15
           },
           "zeroline": false,
           "zerolinecolor": "rgb(36,36,36)"
          },
          "yaxis": {
           "automargin": true,
           "gridcolor": "rgb(232,232,232)",
           "linecolor": "rgb(36,36,36)",
           "showgrid": false,
           "showline": true,
           "ticks": "outside",
           "title": {
            "standoff": 15
           },
           "zeroline": false,
           "zerolinecolor": "rgb(36,36,36)"
          }
         }
        },
        "title": {
         "text": "Population standard deviations in preferences for chocolates"
        },
        "width": 1000,
        "xaxis": {
         "anchor": "y",
         "domain": [
          0,
          1
         ],
         "title": {
          "text": "choc_sigmas"
         }
        },
        "xaxis2": {
         "anchor": "y2",
         "domain": [
          0,
          1
         ],
         "matches": "x",
         "showticklabels": false
        },
        "yaxis": {
         "anchor": "x",
         "domain": [
          0,
          0.7326
         ],
         "title": {
          "text": "count"
         }
        },
        "yaxis2": {
         "anchor": "x2",
         "domain": [
          0.7426,
          1
         ],
         "matches": "y2",
         "showline": false,
         "showticklabels": false,
         "ticks": ""
        }
       }
      }
     },
     "metadata": {},
     "output_type": "display_data"
    }
   ],
   "source": [
    "sim_viz.plot_var('choc_sigmas',\n",
    "                 marginal='rug',\n",
    "                 title='Population standard deviations in preferences for chocolates')"
   ]
  },
  {
   "attachments": {},
   "cell_type": "markdown",
   "metadata": {},
   "source": [
    "## Visualising individual ratings\n",
    "\n",
    "Individuals' ratings of chocolates are defined to be normally distributed, with the means and standard deviations of those normal distributions being the results of the population effects described above. So, each chocolate has a population level mean and standard deviation in appeal, and then the individual people have appeal ratings for each chocolate drawn from the normal distributions defined by those parameters.\n",
    "\n",
    "Here we can see the total spread of all rating values given by people for all chocolates, as well as colour coding to show which chocolates fell into which areas on the appeal scale.\n",
    "\n",
    "Due to the compounding effect of the individual variation on top of the population level variation in appeal, the range of values on the appeal scale is wider at the individual level than it was at the population level, with some ratings below -4 or above 4. The ratings remain constrained however to a range of values in a region of the scale, since the assumptions in each level of the generative model limit how wide the ratings can be."
   ]
  },
  {
   "cell_type": "code",
   "execution_count": 8,
   "metadata": {},
   "outputs": [
    {
     "data": {
      "application/vnd.plotly.v1+json": {
       "config": {
        "plotlyServerURL": "https://plot.ly"
       },
       "data": [
        {
         "alignmentgroup": "True",
         "bingroup": "x",
         "hovertemplate": "choc=0<br>rating=%{x}<br>count=%{y}<extra></extra>",
         "legendgroup": "0",
         "marker": {
          "color": "#1F77B4",
          "pattern": {
           "shape": ""
          }
         },
         "name": "0",
         "offsetgroup": "0",
         "orientation": "v",
         "showlegend": true,
         "type": "histogram",
         "x": [
          -1.5838481432233331,
          -0.2762942190674751,
          -0.6716545449400231,
          -1.2634484884105748,
          -1.616552491226997,
          -1.0725315059629685,
          -1.0253700889887234,
          -0.6321590295551539,
          -1.8952450828503447,
          -0.8980842238468557,
          -1.0895830035461391,
          -1.8923572898831118,
          -0.592348029607864,
          -1.612836626964789,
          -1.414683151067564,
          -1.3444496192478586,
          -0.576375080265944,
          -0.09649889575794357,
          -1.9756364075837327,
          -0.3309596000214241,
          -1.1109888838431574,
          -1.7067053664700484,
          -0.6007436630668795,
          -2.454020151644742,
          -1.8045722332645266,
          -1.1544108581087664,
          -1.5747696279201433,
          -0.3501724199248294,
          -1.0647354557927737,
          -0.10207359047577791,
          -1.9056118263885633,
          -0.5111963520550286,
          -1.060841174125691,
          -0.5220522662292273,
          -1.2689039215564346,
          -0.29135959184130333,
          -1.2128022223568058,
          -1.1637550317449468,
          -0.593569433395562,
          -1.0705608737115166,
          -0.8892890857628395,
          -1.3923128710513224,
          -0.7301687976080036,
          -0.8105071101317113,
          -3.1276452532556913,
          -2.287402801771239,
          -1.261429364944741,
          -1.5684502879291828,
          -1.3253423094925612,
          -1.6576628853971032,
          -0.22667128706435924,
          -0.9824292355182576,
          -1.5014576400055777,
          -0.01804172797933412,
          -0.9160831255107901,
          -0.758748594388809,
          -0.3979585939716369,
          -0.36884134188647677,
          -1.7733479366161644,
          -0.24372699182409419,
          -0.9121873529739277,
          -1.670667891164745,
          -2.04267740040195,
          -1.332750765426799,
          -1.181790716824552,
          -1.3789761257521707,
          -0.8253359578940856,
          -0.4489687357464218,
          -0.8233856741763561,
          -2.13205846915665,
          -0.9360206830295412,
          -1.2939771501883581,
          -0.08135754310509902,
          -1.2832102071390723,
          -2.2942464323583556,
          -1.197480781639323,
          -2.97494334176089,
          -1.4392329796503214,
          -1.9093280437422369,
          -1.6422088621545208,
          -1.1711117989963569,
          -0.9467672654655553,
          -0.8201676426574784,
          -2.347246231180815,
          -0.17175300644226354,
          -1.5753155388002018,
          -1.7509749401000705,
          -1.2792107241575255,
          -0.8238090550907726,
          -1.0768878607796328,
          -0.524647004677533,
          -2.0873274683856193,
          -0.9959864342003327,
          -0.8161153363382727,
          -0.5393446059375113,
          -1.3754630968724382,
          -0.8648476221809596,
          -2.2295924556137727,
          -0.06445438362370615,
          -0.75903426299222
         ],
         "xaxis": "x",
         "yaxis": "y"
        },
        {
         "alignmentgroup": "True",
         "boxpoints": "all",
         "fillcolor": "rgba(255,255,255,0)",
         "hoveron": "points",
         "hovertemplate": "choc=0<br>rating=%{x}<extra></extra>",
         "jitter": 0,
         "legendgroup": "0",
         "line": {
          "color": "rgba(255,255,255,0)"
         },
         "marker": {
          "color": "#1F77B4",
          "symbol": "line-ns-open"
         },
         "name": "0",
         "offsetgroup": "0",
         "showlegend": false,
         "type": "box",
         "x": [
          -1.5838481432233331,
          -0.2762942190674751,
          -0.6716545449400231,
          -1.2634484884105748,
          -1.616552491226997,
          -1.0725315059629685,
          -1.0253700889887234,
          -0.6321590295551539,
          -1.8952450828503447,
          -0.8980842238468557,
          -1.0895830035461391,
          -1.8923572898831118,
          -0.592348029607864,
          -1.612836626964789,
          -1.414683151067564,
          -1.3444496192478586,
          -0.576375080265944,
          -0.09649889575794357,
          -1.9756364075837327,
          -0.3309596000214241,
          -1.1109888838431574,
          -1.7067053664700484,
          -0.6007436630668795,
          -2.454020151644742,
          -1.8045722332645266,
          -1.1544108581087664,
          -1.5747696279201433,
          -0.3501724199248294,
          -1.0647354557927737,
          -0.10207359047577791,
          -1.9056118263885633,
          -0.5111963520550286,
          -1.060841174125691,
          -0.5220522662292273,
          -1.2689039215564346,
          -0.29135959184130333,
          -1.2128022223568058,
          -1.1637550317449468,
          -0.593569433395562,
          -1.0705608737115166,
          -0.8892890857628395,
          -1.3923128710513224,
          -0.7301687976080036,
          -0.8105071101317113,
          -3.1276452532556913,
          -2.287402801771239,
          -1.261429364944741,
          -1.5684502879291828,
          -1.3253423094925612,
          -1.6576628853971032,
          -0.22667128706435924,
          -0.9824292355182576,
          -1.5014576400055777,
          -0.01804172797933412,
          -0.9160831255107901,
          -0.758748594388809,
          -0.3979585939716369,
          -0.36884134188647677,
          -1.7733479366161644,
          -0.24372699182409419,
          -0.9121873529739277,
          -1.670667891164745,
          -2.04267740040195,
          -1.332750765426799,
          -1.181790716824552,
          -1.3789761257521707,
          -0.8253359578940856,
          -0.4489687357464218,
          -0.8233856741763561,
          -2.13205846915665,
          -0.9360206830295412,
          -1.2939771501883581,
          -0.08135754310509902,
          -1.2832102071390723,
          -2.2942464323583556,
          -1.197480781639323,
          -2.97494334176089,
          -1.4392329796503214,
          -1.9093280437422369,
          -1.6422088621545208,
          -1.1711117989963569,
          -0.9467672654655553,
          -0.8201676426574784,
          -2.347246231180815,
          -0.17175300644226354,
          -1.5753155388002018,
          -1.7509749401000705,
          -1.2792107241575255,
          -0.8238090550907726,
          -1.0768878607796328,
          -0.524647004677533,
          -2.0873274683856193,
          -0.9959864342003327,
          -0.8161153363382727,
          -0.5393446059375113,
          -1.3754630968724382,
          -0.8648476221809596,
          -2.2295924556137727,
          -0.06445438362370615,
          -0.75903426299222
         ],
         "xaxis": "x2",
         "yaxis": "y2"
        },
        {
         "alignmentgroup": "True",
         "bingroup": "x",
         "hovertemplate": "choc=1<br>rating=%{x}<br>count=%{y}<extra></extra>",
         "legendgroup": "1",
         "marker": {
          "color": "#FF7F0E",
          "pattern": {
           "shape": ""
          }
         },
         "name": "1",
         "offsetgroup": "1",
         "orientation": "v",
         "showlegend": true,
         "type": "histogram",
         "x": [
          1.6876498425029143,
          0.39909205385320945,
          -0.7203660387915773,
          0.517863085399236,
          1.1104315920421928,
          0.8288960805267279,
          2.2649366027918045,
          0.47791642295913395,
          0.5180117616581578,
          1.2402205725730229,
          0.8590477601646037,
          -0.031192439403434857,
          0.27740392800400937,
          -0.17190879105274703,
          0.6084750217769093,
          1.5822439563794277,
          0.12236693444520386,
          0.5371376062002478,
          2.4720374083194985,
          0.5189181451351024,
          2.2556565648368463,
          0.7822968184848804,
          1.0578254734520312,
          0.36674631865434626,
          -0.2625111177158599,
          1.1938440568820197,
          -0.044841063931973624,
          0.31285720470542333,
          1.8190676262068595,
          0.19828374299544937,
          1.6461946727381087,
          1.481035021895379,
          0.1736147598688491,
          1.3528528627041128,
          0.9599654962683382,
          -0.22480740435883062,
          -0.7761283742731215,
          -0.7470255429929817,
          -0.5724966964650464,
          1.1625347513481803,
          -0.1291307131394821,
          0.1532596712901909,
          1.3617407605746132,
          0.38219751659378065,
          0.3772763907010023,
          -0.07083033336535793,
          1.0183719830337268,
          1.4902773080904121,
          1.1357879872204113,
          0.3329919063795085,
          0.6572334485298685,
          0.8427490676412068,
          2.3657301879245765,
          1.415322773074002,
          1.5549317266361915,
          0.742804304970842,
          0.19235316565779392,
          1.1544990257363756,
          0.931220703890716,
          0.41084640668638583,
          -0.21568044865119207,
          0.8571320046903453,
          1.8538620921129554,
          2.0172428871467836,
          1.3056821663704299,
          0.3058396344306692,
          0.8150333541456107,
          1.238297922202454,
          0.6090723303931487,
          1.1386179615690497,
          2.300832861008164,
          2.0098339097829783,
          2.4237853479808167,
          0.8080881572776965,
          -0.17410716206308652,
          -0.47186843836611114,
          1.8964269194793473,
          1.922585190581629,
          1.1718453807497222,
          1.5557721438168688,
          1.8980765281269294,
          1.8822026839699548,
          0.6307567694600704,
          2.757924654910635,
          0.5875275634959158,
          -0.10583530140460251,
          -1.2935779579904203,
          0.44825387106070747,
          0.763279748708114,
          0.25074301800189713,
          0.13339489157957352,
          1.352219354193819,
          1.0195575888484623,
          2.1139220900928777,
          0.9771727504404147,
          0.22449557020303346,
          2.075984020459617,
          -0.045999610227218435,
          0.5317464525237201,
          1.5567177134788577
         ],
         "xaxis": "x",
         "yaxis": "y"
        },
        {
         "alignmentgroup": "True",
         "boxpoints": "all",
         "fillcolor": "rgba(255,255,255,0)",
         "hoveron": "points",
         "hovertemplate": "choc=1<br>rating=%{x}<extra></extra>",
         "jitter": 0,
         "legendgroup": "1",
         "line": {
          "color": "rgba(255,255,255,0)"
         },
         "marker": {
          "color": "#FF7F0E",
          "symbol": "line-ns-open"
         },
         "name": "1",
         "offsetgroup": "1",
         "showlegend": false,
         "type": "box",
         "x": [
          1.6876498425029143,
          0.39909205385320945,
          -0.7203660387915773,
          0.517863085399236,
          1.1104315920421928,
          0.8288960805267279,
          2.2649366027918045,
          0.47791642295913395,
          0.5180117616581578,
          1.2402205725730229,
          0.8590477601646037,
          -0.031192439403434857,
          0.27740392800400937,
          -0.17190879105274703,
          0.6084750217769093,
          1.5822439563794277,
          0.12236693444520386,
          0.5371376062002478,
          2.4720374083194985,
          0.5189181451351024,
          2.2556565648368463,
          0.7822968184848804,
          1.0578254734520312,
          0.36674631865434626,
          -0.2625111177158599,
          1.1938440568820197,
          -0.044841063931973624,
          0.31285720470542333,
          1.8190676262068595,
          0.19828374299544937,
          1.6461946727381087,
          1.481035021895379,
          0.1736147598688491,
          1.3528528627041128,
          0.9599654962683382,
          -0.22480740435883062,
          -0.7761283742731215,
          -0.7470255429929817,
          -0.5724966964650464,
          1.1625347513481803,
          -0.1291307131394821,
          0.1532596712901909,
          1.3617407605746132,
          0.38219751659378065,
          0.3772763907010023,
          -0.07083033336535793,
          1.0183719830337268,
          1.4902773080904121,
          1.1357879872204113,
          0.3329919063795085,
          0.6572334485298685,
          0.8427490676412068,
          2.3657301879245765,
          1.415322773074002,
          1.5549317266361915,
          0.742804304970842,
          0.19235316565779392,
          1.1544990257363756,
          0.931220703890716,
          0.41084640668638583,
          -0.21568044865119207,
          0.8571320046903453,
          1.8538620921129554,
          2.0172428871467836,
          1.3056821663704299,
          0.3058396344306692,
          0.8150333541456107,
          1.238297922202454,
          0.6090723303931487,
          1.1386179615690497,
          2.300832861008164,
          2.0098339097829783,
          2.4237853479808167,
          0.8080881572776965,
          -0.17410716206308652,
          -0.47186843836611114,
          1.8964269194793473,
          1.922585190581629,
          1.1718453807497222,
          1.5557721438168688,
          1.8980765281269294,
          1.8822026839699548,
          0.6307567694600704,
          2.757924654910635,
          0.5875275634959158,
          -0.10583530140460251,
          -1.2935779579904203,
          0.44825387106070747,
          0.763279748708114,
          0.25074301800189713,
          0.13339489157957352,
          1.352219354193819,
          1.0195575888484623,
          2.1139220900928777,
          0.9771727504404147,
          0.22449557020303346,
          2.075984020459617,
          -0.045999610227218435,
          0.5317464525237201,
          1.5567177134788577
         ],
         "xaxis": "x2",
         "yaxis": "y2"
        },
        {
         "alignmentgroup": "True",
         "bingroup": "x",
         "hovertemplate": "choc=2<br>rating=%{x}<br>count=%{y}<extra></extra>",
         "legendgroup": "2",
         "marker": {
          "color": "#2CA02C",
          "pattern": {
           "shape": ""
          }
         },
         "name": "2",
         "offsetgroup": "2",
         "orientation": "v",
         "showlegend": true,
         "type": "histogram",
         "x": [
          0.3599200847554356,
          0.6896209037097527,
          0.45735856424861265,
          0.3125404503396232,
          0.5932446696547417,
          0.3157915844069605,
          0.6245955377607364,
          0.8217650088928903,
          0.22294663233055156,
          0.3441773452481969,
          0.2532448471001165,
          -0.08869202444308699,
          0.12160189240746214,
          0.1909855910798267,
          0.5125875349072606,
          0.1816805411252101,
          -0.03671030084625371,
          0.1627762938839008,
          0.11440472267247517,
          0.1853854646189409,
          -0.17494124120681537,
          -0.3612628642161422,
          0.21799081884431892,
          0.1384523021077937,
          0.1672912775811699,
          -0.07764299035496453,
          0.5214703030428549,
          0.3479143560460276,
          0.4253661209545636,
          0.13020172201385605,
          0.11653975186789764,
          0.31158092124137904,
          0.6779743533963614,
          0.47194571711631117,
          0.2700513841930047,
          -0.09920052693858589,
          -0.0595886918401598,
          0.05758136747768622,
          0.20608529369564996,
          0.06710456748867985,
          0.1869314679368142,
          -0.10152589508809906,
          0.727495200593445,
          0.5179688219740435,
          0.010644107821869309,
          0.2035976349938152,
          0.4961959029819792,
          0.4587995804318613,
          0.21090312166726122,
          0.09760592867791851,
          0.33461604379767385,
          0.3667588769026407,
          0.4673992163795383,
          0.20702709094763228,
          -0.3978395068395675,
          0.275891812079112,
          0.3927650416462559,
          0.609281258279724,
          0.33701495853843966,
          0.3212493732883735,
          0.18094587397664028,
          0.19317396448739388,
          0.1665303699754747,
          0.37470808168439185,
          0.49541453130894353,
          0.08794365835669449,
          0.1541738886962182,
          0.469312015747559,
          0.4690860645714908,
          0.1553499433141055,
          0.4034218167833703,
          0.3182287062421773,
          0.15393330454096785,
          0.6360156902649283,
          0.5500034131558516,
          0.373001932118646,
          0.4207808893849232,
          0.1547092850932365,
          0.18890907014744923,
          -0.06975524747174672,
          -0.08874547913730702,
          -0.05665168378458224,
          0.09353160115945017,
          -0.0009558044779657271,
          -0.0821725105896201,
          0.3922906818516695,
          0.674851026144687,
          0.2329567377606312,
          0.28214385434038813,
          0.6799694549505578,
          0.31018715389523327,
          0.03530299113993901,
          0.23488439458207477,
          0.24047891673422456,
          0.32416503778730393,
          0.3513376820651839,
          0.24261296086275216,
          0.5513693771548553,
          0.42427907928515673,
          -0.4678962187592953
         ],
         "xaxis": "x",
         "yaxis": "y"
        },
        {
         "alignmentgroup": "True",
         "boxpoints": "all",
         "fillcolor": "rgba(255,255,255,0)",
         "hoveron": "points",
         "hovertemplate": "choc=2<br>rating=%{x}<extra></extra>",
         "jitter": 0,
         "legendgroup": "2",
         "line": {
          "color": "rgba(255,255,255,0)"
         },
         "marker": {
          "color": "#2CA02C",
          "symbol": "line-ns-open"
         },
         "name": "2",
         "offsetgroup": "2",
         "showlegend": false,
         "type": "box",
         "x": [
          0.3599200847554356,
          0.6896209037097527,
          0.45735856424861265,
          0.3125404503396232,
          0.5932446696547417,
          0.3157915844069605,
          0.6245955377607364,
          0.8217650088928903,
          0.22294663233055156,
          0.3441773452481969,
          0.2532448471001165,
          -0.08869202444308699,
          0.12160189240746214,
          0.1909855910798267,
          0.5125875349072606,
          0.1816805411252101,
          -0.03671030084625371,
          0.1627762938839008,
          0.11440472267247517,
          0.1853854646189409,
          -0.17494124120681537,
          -0.3612628642161422,
          0.21799081884431892,
          0.1384523021077937,
          0.1672912775811699,
          -0.07764299035496453,
          0.5214703030428549,
          0.3479143560460276,
          0.4253661209545636,
          0.13020172201385605,
          0.11653975186789764,
          0.31158092124137904,
          0.6779743533963614,
          0.47194571711631117,
          0.2700513841930047,
          -0.09920052693858589,
          -0.0595886918401598,
          0.05758136747768622,
          0.20608529369564996,
          0.06710456748867985,
          0.1869314679368142,
          -0.10152589508809906,
          0.727495200593445,
          0.5179688219740435,
          0.010644107821869309,
          0.2035976349938152,
          0.4961959029819792,
          0.4587995804318613,
          0.21090312166726122,
          0.09760592867791851,
          0.33461604379767385,
          0.3667588769026407,
          0.4673992163795383,
          0.20702709094763228,
          -0.3978395068395675,
          0.275891812079112,
          0.3927650416462559,
          0.609281258279724,
          0.33701495853843966,
          0.3212493732883735,
          0.18094587397664028,
          0.19317396448739388,
          0.1665303699754747,
          0.37470808168439185,
          0.49541453130894353,
          0.08794365835669449,
          0.1541738886962182,
          0.469312015747559,
          0.4690860645714908,
          0.1553499433141055,
          0.4034218167833703,
          0.3182287062421773,
          0.15393330454096785,
          0.6360156902649283,
          0.5500034131558516,
          0.373001932118646,
          0.4207808893849232,
          0.1547092850932365,
          0.18890907014744923,
          -0.06975524747174672,
          -0.08874547913730702,
          -0.05665168378458224,
          0.09353160115945017,
          -0.0009558044779657271,
          -0.0821725105896201,
          0.3922906818516695,
          0.674851026144687,
          0.2329567377606312,
          0.28214385434038813,
          0.6799694549505578,
          0.31018715389523327,
          0.03530299113993901,
          0.23488439458207477,
          0.24047891673422456,
          0.32416503778730393,
          0.3513376820651839,
          0.24261296086275216,
          0.5513693771548553,
          0.42427907928515673,
          -0.4678962187592953
         ],
         "xaxis": "x2",
         "yaxis": "y2"
        },
        {
         "alignmentgroup": "True",
         "bingroup": "x",
         "hovertemplate": "choc=3<br>rating=%{x}<br>count=%{y}<extra></extra>",
         "legendgroup": "3",
         "marker": {
          "color": "#D62728",
          "pattern": {
           "shape": ""
          }
         },
         "name": "3",
         "offsetgroup": "3",
         "orientation": "v",
         "showlegend": true,
         "type": "histogram",
         "x": [
          -1.9598900229904284,
          -1.2301876921327828,
          -0.6176502392240867,
          -1.250397908654063,
          -1.3924859499374582,
          -1.2653579293895991,
          -1.6290541895424768,
          -1.2708906653110768,
          -1.6299789849950637,
          -1.8395171972965294,
          -1.7058697804224625,
          -1.6640251634552568,
          -1.2972846899509145,
          -1.978173683123575,
          -1.6282768481957293,
          -1.275108851485592,
          -1.808230562840655,
          -1.9540416117333472,
          -1.8772958753979747,
          -1.468518707711232,
          -1.7110666309746676,
          -1.0758001443697187,
          -1.1883680486399066,
          -1.6253018027544626,
          -1.088848621576003,
          -1.504232627100445,
          -1.4514727479096556,
          -1.6336151608005258,
          -1.5864668269936486,
          -0.8891604549501327,
          -1.7132147544478542,
          -1.6115564379050518,
          -1.376015987144986,
          -1.8971951024828062,
          -1.5590343863568021,
          -2.164863610751995,
          -1.1445530031310471,
          -1.4487569804453648,
          -1.4673890971801196,
          -1.218343430874455,
          -2.132399893794865,
          -2.1198216616571277,
          -1.5927377030683794,
          -1.6137713814661132,
          -1.9352373157579499,
          -1.6122325296490418,
          -1.2977406035903745,
          -1.8480923657004258,
          -1.8005687894833788,
          -1.7389510149987353,
          -1.5282095640265763,
          -1.4085996499172175,
          -1.4090034397321505,
          -1.6951332035895628,
          -1.368327007563727,
          -1.5187121788909543,
          -2.149092992170485,
          -1.1680729189093906,
          -1.7007906080766857,
          -1.6407833310555473,
          -1.015549881509136,
          -0.9393243455391631,
          -1.4259759315435772,
          -1.3912781888668735,
          -1.3114038778960042,
          -1.6881795473200447,
          -1.5964582178823201,
          -1.3546715270275504,
          -2.1346566432257537,
          -1.2164357717052905,
          -1.571065210151376,
          -1.4849670774424526,
          -1.590143482040685,
          -1.7117004082670864,
          -1.269711779299247,
          -2.0244436395717966,
          -1.228305380144563,
          -1.3195616681125413,
          -1.0563035000460133,
          -1.864251221338134,
          -1.568262728437245,
          -1.087178167266683,
          -1.634119042063136,
          -2.1511301412979935,
          -1.4424669558245262,
          -1.3611994705247308,
          -1.7770506732304057,
          -1.4332088003377508,
          -1.678866956086617,
          -1.1077653595956811,
          -2.109311237114049,
          -1.217524306955079,
          -1.0574910448171109,
          -1.099182257176544,
          -1.476066924786811,
          -1.2288754503192203,
          -1.5009690171075818,
          -1.2118119803235743,
          -1.230123034755086,
          -1.967759668607437
         ],
         "xaxis": "x",
         "yaxis": "y"
        },
        {
         "alignmentgroup": "True",
         "boxpoints": "all",
         "fillcolor": "rgba(255,255,255,0)",
         "hoveron": "points",
         "hovertemplate": "choc=3<br>rating=%{x}<extra></extra>",
         "jitter": 0,
         "legendgroup": "3",
         "line": {
          "color": "rgba(255,255,255,0)"
         },
         "marker": {
          "color": "#D62728",
          "symbol": "line-ns-open"
         },
         "name": "3",
         "offsetgroup": "3",
         "showlegend": false,
         "type": "box",
         "x": [
          -1.9598900229904284,
          -1.2301876921327828,
          -0.6176502392240867,
          -1.250397908654063,
          -1.3924859499374582,
          -1.2653579293895991,
          -1.6290541895424768,
          -1.2708906653110768,
          -1.6299789849950637,
          -1.8395171972965294,
          -1.7058697804224625,
          -1.6640251634552568,
          -1.2972846899509145,
          -1.978173683123575,
          -1.6282768481957293,
          -1.275108851485592,
          -1.808230562840655,
          -1.9540416117333472,
          -1.8772958753979747,
          -1.468518707711232,
          -1.7110666309746676,
          -1.0758001443697187,
          -1.1883680486399066,
          -1.6253018027544626,
          -1.088848621576003,
          -1.504232627100445,
          -1.4514727479096556,
          -1.6336151608005258,
          -1.5864668269936486,
          -0.8891604549501327,
          -1.7132147544478542,
          -1.6115564379050518,
          -1.376015987144986,
          -1.8971951024828062,
          -1.5590343863568021,
          -2.164863610751995,
          -1.1445530031310471,
          -1.4487569804453648,
          -1.4673890971801196,
          -1.218343430874455,
          -2.132399893794865,
          -2.1198216616571277,
          -1.5927377030683794,
          -1.6137713814661132,
          -1.9352373157579499,
          -1.6122325296490418,
          -1.2977406035903745,
          -1.8480923657004258,
          -1.8005687894833788,
          -1.7389510149987353,
          -1.5282095640265763,
          -1.4085996499172175,
          -1.4090034397321505,
          -1.6951332035895628,
          -1.368327007563727,
          -1.5187121788909543,
          -2.149092992170485,
          -1.1680729189093906,
          -1.7007906080766857,
          -1.6407833310555473,
          -1.015549881509136,
          -0.9393243455391631,
          -1.4259759315435772,
          -1.3912781888668735,
          -1.3114038778960042,
          -1.6881795473200447,
          -1.5964582178823201,
          -1.3546715270275504,
          -2.1346566432257537,
          -1.2164357717052905,
          -1.571065210151376,
          -1.4849670774424526,
          -1.590143482040685,
          -1.7117004082670864,
          -1.269711779299247,
          -2.0244436395717966,
          -1.228305380144563,
          -1.3195616681125413,
          -1.0563035000460133,
          -1.864251221338134,
          -1.568262728437245,
          -1.087178167266683,
          -1.634119042063136,
          -2.1511301412979935,
          -1.4424669558245262,
          -1.3611994705247308,
          -1.7770506732304057,
          -1.4332088003377508,
          -1.678866956086617,
          -1.1077653595956811,
          -2.109311237114049,
          -1.217524306955079,
          -1.0574910448171109,
          -1.099182257176544,
          -1.476066924786811,
          -1.2288754503192203,
          -1.5009690171075818,
          -1.2118119803235743,
          -1.230123034755086,
          -1.967759668607437
         ],
         "xaxis": "x2",
         "yaxis": "y2"
        },
        {
         "alignmentgroup": "True",
         "bingroup": "x",
         "hovertemplate": "choc=4<br>rating=%{x}<br>count=%{y}<extra></extra>",
         "legendgroup": "4",
         "marker": {
          "color": "#9467BD",
          "pattern": {
           "shape": ""
          }
         },
         "name": "4",
         "offsetgroup": "4",
         "orientation": "v",
         "showlegend": true,
         "type": "histogram",
         "x": [
          0.04084110777294481,
          -0.7161677010379777,
          -0.58936322500574,
          0.12449040706528758,
          -0.3353563950077756,
          -0.2876713391734621,
          -0.8183884792589787,
          -0.5813568840935855,
          -0.16051008082388196,
          -0.38809742149148097,
          -0.14585511737478418,
          -0.7337158642056532,
          -0.6415423840512957,
          -0.3499236409769513,
          -1.406901201753374,
          -1.0098904193468874,
          -0.7298615413217666,
          -0.5823853750219521,
          -0.7780846978218696,
          -0.09197955530227608,
          -0.1489580073315958,
          -0.316289086657779,
          -0.027548698422203866,
          -0.7745732379910684,
          -0.7233224006546972,
          0.17140826115559127,
          -0.9247900812043872,
          -0.06523225785209819,
          -0.6975570525210605,
          -0.5895529793223938,
          -0.5824912995529329,
          -0.9016480213207432,
          -0.6883180867396392,
          -0.7461752755283242,
          -0.6519722744361705,
          -1.7999456868127415,
          -0.8677360085150132,
          -1.1554689264191405,
          -0.5333350512158829,
          -0.752270997243165,
          0.10998445032007476,
          -0.6944146021246209,
          -0.7062228987812923,
          -0.5685251085012588,
          -0.15915326151310738,
          -0.42489609985531407,
          -0.7643830056679676,
          -0.371042317296745,
          -0.5243056763496889,
          -1.1978014663391492,
          -0.3888308489700546,
          -1.6113080350312465,
          -0.4890644868082275,
          -0.2843488048547933,
          -0.42744528647421354,
          -1.0385068078170652,
          -0.8659508301819925,
          -0.8482519241377495,
          -0.3105637389264803,
          -0.4688659996182349,
          -0.21851002685712395,
          -1.3129156982093706,
          -0.8541543349478493,
          -0.8444078888388418,
          -0.6776432249057875,
          0.38915112079652336,
          -0.24243529505184613,
          -0.2965653190287985,
          -0.23890953004874999,
          -0.8095418326735055,
          -0.552401622317912,
          -0.6111888827113338,
          -1.3059976336301529,
          -0.7152437069471036,
          -1.1109088094465012,
          -0.9331719213094534,
          -0.7557170495670478,
          -0.8259224747387443,
          -1.3663051710849619,
          -0.6460749594375261,
          -1.8170718589013912,
          -0.5692226455767642,
          -0.7301369998199141,
          -0.932135790979719,
          -0.925905350594087,
          -0.22885761131617133,
          -0.08800319705202858,
          -0.12673589733617913,
          -1.376242803214733,
          -1.2154369450556097,
          -0.4050622219294838,
          -0.7043786033473597,
          -0.059630383269006715,
          -0.04674228743604114,
          -0.9175473175777393,
          -1.1291930888548132,
          -0.8642212113266883,
          -1.2430883012035623,
          -0.3207166469420366,
          -0.7327487368215377
         ],
         "xaxis": "x",
         "yaxis": "y"
        },
        {
         "alignmentgroup": "True",
         "boxpoints": "all",
         "fillcolor": "rgba(255,255,255,0)",
         "hoveron": "points",
         "hovertemplate": "choc=4<br>rating=%{x}<extra></extra>",
         "jitter": 0,
         "legendgroup": "4",
         "line": {
          "color": "rgba(255,255,255,0)"
         },
         "marker": {
          "color": "#9467BD",
          "symbol": "line-ns-open"
         },
         "name": "4",
         "offsetgroup": "4",
         "showlegend": false,
         "type": "box",
         "x": [
          0.04084110777294481,
          -0.7161677010379777,
          -0.58936322500574,
          0.12449040706528758,
          -0.3353563950077756,
          -0.2876713391734621,
          -0.8183884792589787,
          -0.5813568840935855,
          -0.16051008082388196,
          -0.38809742149148097,
          -0.14585511737478418,
          -0.7337158642056532,
          -0.6415423840512957,
          -0.3499236409769513,
          -1.406901201753374,
          -1.0098904193468874,
          -0.7298615413217666,
          -0.5823853750219521,
          -0.7780846978218696,
          -0.09197955530227608,
          -0.1489580073315958,
          -0.316289086657779,
          -0.027548698422203866,
          -0.7745732379910684,
          -0.7233224006546972,
          0.17140826115559127,
          -0.9247900812043872,
          -0.06523225785209819,
          -0.6975570525210605,
          -0.5895529793223938,
          -0.5824912995529329,
          -0.9016480213207432,
          -0.6883180867396392,
          -0.7461752755283242,
          -0.6519722744361705,
          -1.7999456868127415,
          -0.8677360085150132,
          -1.1554689264191405,
          -0.5333350512158829,
          -0.752270997243165,
          0.10998445032007476,
          -0.6944146021246209,
          -0.7062228987812923,
          -0.5685251085012588,
          -0.15915326151310738,
          -0.42489609985531407,
          -0.7643830056679676,
          -0.371042317296745,
          -0.5243056763496889,
          -1.1978014663391492,
          -0.3888308489700546,
          -1.6113080350312465,
          -0.4890644868082275,
          -0.2843488048547933,
          -0.42744528647421354,
          -1.0385068078170652,
          -0.8659508301819925,
          -0.8482519241377495,
          -0.3105637389264803,
          -0.4688659996182349,
          -0.21851002685712395,
          -1.3129156982093706,
          -0.8541543349478493,
          -0.8444078888388418,
          -0.6776432249057875,
          0.38915112079652336,
          -0.24243529505184613,
          -0.2965653190287985,
          -0.23890953004874999,
          -0.8095418326735055,
          -0.552401622317912,
          -0.6111888827113338,
          -1.3059976336301529,
          -0.7152437069471036,
          -1.1109088094465012,
          -0.9331719213094534,
          -0.7557170495670478,
          -0.8259224747387443,
          -1.3663051710849619,
          -0.6460749594375261,
          -1.8170718589013912,
          -0.5692226455767642,
          -0.7301369998199141,
          -0.932135790979719,
          -0.925905350594087,
          -0.22885761131617133,
          -0.08800319705202858,
          -0.12673589733617913,
          -1.376242803214733,
          -1.2154369450556097,
          -0.4050622219294838,
          -0.7043786033473597,
          -0.059630383269006715,
          -0.04674228743604114,
          -0.9175473175777393,
          -1.1291930888548132,
          -0.8642212113266883,
          -1.2430883012035623,
          -0.3207166469420366,
          -0.7327487368215377
         ],
         "xaxis": "x2",
         "yaxis": "y2"
        },
        {
         "alignmentgroup": "True",
         "bingroup": "x",
         "hovertemplate": "choc=5<br>rating=%{x}<br>count=%{y}<extra></extra>",
         "legendgroup": "5",
         "marker": {
          "color": "#8C564B",
          "pattern": {
           "shape": ""
          }
         },
         "name": "5",
         "offsetgroup": "5",
         "orientation": "v",
         "showlegend": true,
         "type": "histogram",
         "x": [
          1.8969681738983875,
          1.3211450022940738,
          1.6618213158280701,
          1.5692417915863306,
          1.586929571263988,
          1.378169352451183,
          0.873674660084618,
          1.5885774723798898,
          1.219912341989563,
          1.5544215628632319,
          1.5438374916151334,
          1.4438335570507597,
          2.051899490799827,
          1.5216532169113073,
          1.6781209145599947,
          1.6694707173273222,
          1.6847129497985023,
          1.9485470866830579,
          1.4247901835146157,
          1.6949288397348992,
          1.5992433493083564,
          2.2550734437379636,
          2.058240754806652,
          1.7770008071934684,
          2.1084663337258216,
          2.0493408603779133,
          1.8566204090849143,
          1.7429429375081642,
          1.2985678022266436,
          1.4274921525762894,
          1.827180187486606,
          1.7387965480507068,
          1.8865076554936135,
          2.2136456732432683,
          2.049439679449918,
          1.3353792365397104,
          1.3686524836264122,
          2.036637708345927,
          1.2928473162061365,
          1.52276707005667,
          1.751981716707723,
          1.3797592114732953,
          1.6158702063843853,
          2.0584739586349134,
          1.9036396480056437,
          1.2904175291211908,
          1.1114730173298066,
          1.083107679496913,
          2.011058298544016,
          1.7466675761287038,
          1.9192630965182809,
          1.724720661473254,
          1.6853894702302425,
          1.408023656505716,
          1.9579503689281892,
          1.7498621103454741,
          1.8733552511394407,
          1.290429296169568,
          1.6038513811615478,
          1.3232758139817142,
          1.801764477324059,
          1.6318916838647954,
          1.8089585849991525,
          1.546487544511495,
          1.3487248641864926,
          1.3810134400068712,
          1.4438965518429543,
          1.6384630738652952,
          1.7096649017213599,
          1.5064718885431725,
          1.7510014260888342,
          1.160598943032982,
          1.4339125586498622,
          1.877701123603653,
          2.042466212218611,
          1.6914100562128411,
          1.5086535697235757,
          1.7558144406684644,
          1.481462942331964,
          1.259797484911308,
          1.4891935737744768,
          2.210898603117154,
          1.2701868386922148,
          1.4651501971209924,
          1.3702619439289707,
          1.8185097942373978,
          1.8497245639783384,
          1.0052189480444467,
          1.7101686624778054,
          2.072243662228742,
          2.2352858056254887,
          1.959132866185104,
          1.6957582399456084,
          1.7112897971779881,
          1.8722361410334711,
          1.6455178997488642,
          1.8546441055551444,
          1.5153417109916263,
          1.880616948869296,
          1.702621737985074
         ],
         "xaxis": "x",
         "yaxis": "y"
        },
        {
         "alignmentgroup": "True",
         "boxpoints": "all",
         "fillcolor": "rgba(255,255,255,0)",
         "hoveron": "points",
         "hovertemplate": "choc=5<br>rating=%{x}<extra></extra>",
         "jitter": 0,
         "legendgroup": "5",
         "line": {
          "color": "rgba(255,255,255,0)"
         },
         "marker": {
          "color": "#8C564B",
          "symbol": "line-ns-open"
         },
         "name": "5",
         "offsetgroup": "5",
         "showlegend": false,
         "type": "box",
         "x": [
          1.8969681738983875,
          1.3211450022940738,
          1.6618213158280701,
          1.5692417915863306,
          1.586929571263988,
          1.378169352451183,
          0.873674660084618,
          1.5885774723798898,
          1.219912341989563,
          1.5544215628632319,
          1.5438374916151334,
          1.4438335570507597,
          2.051899490799827,
          1.5216532169113073,
          1.6781209145599947,
          1.6694707173273222,
          1.6847129497985023,
          1.9485470866830579,
          1.4247901835146157,
          1.6949288397348992,
          1.5992433493083564,
          2.2550734437379636,
          2.058240754806652,
          1.7770008071934684,
          2.1084663337258216,
          2.0493408603779133,
          1.8566204090849143,
          1.7429429375081642,
          1.2985678022266436,
          1.4274921525762894,
          1.827180187486606,
          1.7387965480507068,
          1.8865076554936135,
          2.2136456732432683,
          2.049439679449918,
          1.3353792365397104,
          1.3686524836264122,
          2.036637708345927,
          1.2928473162061365,
          1.52276707005667,
          1.751981716707723,
          1.3797592114732953,
          1.6158702063843853,
          2.0584739586349134,
          1.9036396480056437,
          1.2904175291211908,
          1.1114730173298066,
          1.083107679496913,
          2.011058298544016,
          1.7466675761287038,
          1.9192630965182809,
          1.724720661473254,
          1.6853894702302425,
          1.408023656505716,
          1.9579503689281892,
          1.7498621103454741,
          1.8733552511394407,
          1.290429296169568,
          1.6038513811615478,
          1.3232758139817142,
          1.801764477324059,
          1.6318916838647954,
          1.8089585849991525,
          1.546487544511495,
          1.3487248641864926,
          1.3810134400068712,
          1.4438965518429543,
          1.6384630738652952,
          1.7096649017213599,
          1.5064718885431725,
          1.7510014260888342,
          1.160598943032982,
          1.4339125586498622,
          1.877701123603653,
          2.042466212218611,
          1.6914100562128411,
          1.5086535697235757,
          1.7558144406684644,
          1.481462942331964,
          1.259797484911308,
          1.4891935737744768,
          2.210898603117154,
          1.2701868386922148,
          1.4651501971209924,
          1.3702619439289707,
          1.8185097942373978,
          1.8497245639783384,
          1.0052189480444467,
          1.7101686624778054,
          2.072243662228742,
          2.2352858056254887,
          1.959132866185104,
          1.6957582399456084,
          1.7112897971779881,
          1.8722361410334711,
          1.6455178997488642,
          1.8546441055551444,
          1.5153417109916263,
          1.880616948869296,
          1.702621737985074
         ],
         "xaxis": "x2",
         "yaxis": "y2"
        },
        {
         "alignmentgroup": "True",
         "bingroup": "x",
         "hovertemplate": "choc=6<br>rating=%{x}<br>count=%{y}<extra></extra>",
         "legendgroup": "6",
         "marker": {
          "color": "#E377C2",
          "pattern": {
           "shape": ""
          }
         },
         "name": "6",
         "offsetgroup": "6",
         "orientation": "v",
         "showlegend": true,
         "type": "histogram",
         "x": [
          -2.4185342064397997,
          -2.557827174237332,
          -2.3945307581181616,
          -2.2812288493832176,
          -2.344983558299361,
          -2.153865970881541,
          -2.5249639021338135,
          -2.442171131076881,
          -2.581635614853721,
          -2.3137898346320136,
          -2.312813170487072,
          -2.722775223463367,
          -2.5527922934585554,
          -2.740985410657553,
          -2.43271132845473,
          -2.1144072292603666,
          -2.5650110063262535,
          -2.7402098527937735,
          -2.4044127262955577,
          -2.651716387869215,
          -2.2598880876322376,
          -2.2364888550347746,
          -2.6039887540929874,
          -2.3190907280514024,
          -2.9258931851486194,
          -2.603048539064049,
          -2.3980761060405684,
          -2.075901583301382,
          -2.5627283510033823,
          -2.5551456821692544,
          -2.4570720158257227,
          -2.3620055336818435,
          -2.1362214579561685,
          -2.3564773414965123,
          -2.268860807305874,
          -2.8151135513312813,
          -2.5506868291027445,
          -2.3380166914309233,
          -2.638344706515969,
          -2.523489942055432,
          -2.4588347145763456,
          -2.0939178471813875,
          -2.4450124509590974,
          -2.4116402523094753,
          -2.565581513862214,
          -2.487772474410934,
          -2.638793157497916,
          -2.462965490084078,
          -2.2578761351835834,
          -2.567362958371829,
          -2.364917925171402,
          -2.315618064411469,
          -2.345709514763729,
          -2.448073331209441,
          -2.5209072551196763,
          -2.1037456781162875,
          -2.6268163963576505,
          -2.3527904096982892,
          -2.480274658640618,
          -2.593006318648192,
          -2.4147338115222055,
          -2.6175879870122665,
          -2.255150343306208,
          -2.0564933446040596,
          -2.3078827281431216,
          -2.379051870212929,
          -2.417785566365893,
          -2.386835458905521,
          -2.238504214783302,
          -2.363177919761016,
          -2.4945334328853668,
          -2.3285730007654526,
          -2.6866304752839985,
          -2.37244272260038,
          -2.6219851069466893,
          -2.5644879508408183,
          -2.6478819843724333,
          -2.332114981693468,
          -2.5317194713523237,
          -2.311575714434361,
          -2.2748572389249504,
          -2.436128855071818,
          -2.2488831654971273,
          -2.1642881216824414,
          -2.174543961407702,
          -2.31492744766999,
          -2.465477195667019,
          -2.327218488801157,
          -2.347991766063474,
          -2.4335509047725714,
          -2.6644707909760887,
          -2.0460500002018227,
          -2.580063119795273,
          -2.635096542985384,
          -2.6182541945590536,
          -2.5393044132632565,
          -2.46524867149564,
          -2.3436914630603596,
          -2.350771785087558,
          -2.441252441955627
         ],
         "xaxis": "x",
         "yaxis": "y"
        },
        {
         "alignmentgroup": "True",
         "boxpoints": "all",
         "fillcolor": "rgba(255,255,255,0)",
         "hoveron": "points",
         "hovertemplate": "choc=6<br>rating=%{x}<extra></extra>",
         "jitter": 0,
         "legendgroup": "6",
         "line": {
          "color": "rgba(255,255,255,0)"
         },
         "marker": {
          "color": "#E377C2",
          "symbol": "line-ns-open"
         },
         "name": "6",
         "offsetgroup": "6",
         "showlegend": false,
         "type": "box",
         "x": [
          -2.4185342064397997,
          -2.557827174237332,
          -2.3945307581181616,
          -2.2812288493832176,
          -2.344983558299361,
          -2.153865970881541,
          -2.5249639021338135,
          -2.442171131076881,
          -2.581635614853721,
          -2.3137898346320136,
          -2.312813170487072,
          -2.722775223463367,
          -2.5527922934585554,
          -2.740985410657553,
          -2.43271132845473,
          -2.1144072292603666,
          -2.5650110063262535,
          -2.7402098527937735,
          -2.4044127262955577,
          -2.651716387869215,
          -2.2598880876322376,
          -2.2364888550347746,
          -2.6039887540929874,
          -2.3190907280514024,
          -2.9258931851486194,
          -2.603048539064049,
          -2.3980761060405684,
          -2.075901583301382,
          -2.5627283510033823,
          -2.5551456821692544,
          -2.4570720158257227,
          -2.3620055336818435,
          -2.1362214579561685,
          -2.3564773414965123,
          -2.268860807305874,
          -2.8151135513312813,
          -2.5506868291027445,
          -2.3380166914309233,
          -2.638344706515969,
          -2.523489942055432,
          -2.4588347145763456,
          -2.0939178471813875,
          -2.4450124509590974,
          -2.4116402523094753,
          -2.565581513862214,
          -2.487772474410934,
          -2.638793157497916,
          -2.462965490084078,
          -2.2578761351835834,
          -2.567362958371829,
          -2.364917925171402,
          -2.315618064411469,
          -2.345709514763729,
          -2.448073331209441,
          -2.5209072551196763,
          -2.1037456781162875,
          -2.6268163963576505,
          -2.3527904096982892,
          -2.480274658640618,
          -2.593006318648192,
          -2.4147338115222055,
          -2.6175879870122665,
          -2.255150343306208,
          -2.0564933446040596,
          -2.3078827281431216,
          -2.379051870212929,
          -2.417785566365893,
          -2.386835458905521,
          -2.238504214783302,
          -2.363177919761016,
          -2.4945334328853668,
          -2.3285730007654526,
          -2.6866304752839985,
          -2.37244272260038,
          -2.6219851069466893,
          -2.5644879508408183,
          -2.6478819843724333,
          -2.332114981693468,
          -2.5317194713523237,
          -2.311575714434361,
          -2.2748572389249504,
          -2.436128855071818,
          -2.2488831654971273,
          -2.1642881216824414,
          -2.174543961407702,
          -2.31492744766999,
          -2.465477195667019,
          -2.327218488801157,
          -2.347991766063474,
          -2.4335509047725714,
          -2.6644707909760887,
          -2.0460500002018227,
          -2.580063119795273,
          -2.635096542985384,
          -2.6182541945590536,
          -2.5393044132632565,
          -2.46524867149564,
          -2.3436914630603596,
          -2.350771785087558,
          -2.441252441955627
         ],
         "xaxis": "x2",
         "yaxis": "y2"
        },
        {
         "alignmentgroup": "True",
         "bingroup": "x",
         "hovertemplate": "choc=7<br>rating=%{x}<br>count=%{y}<extra></extra>",
         "legendgroup": "7",
         "marker": {
          "color": "#7F7F7F",
          "pattern": {
           "shape": ""
          }
         },
         "name": "7",
         "offsetgroup": "7",
         "orientation": "v",
         "showlegend": true,
         "type": "histogram",
         "x": [
          -0.5061163908834788,
          -0.8305193883070267,
          -1.0456283122195729,
          -0.26339082147793313,
          0.0826648215606452,
          -0.7916026392999045,
          -0.7528607464823229,
          -0.732076747408404,
          -0.8842309375466233,
          -1.141852361534788,
          -0.3346476226042308,
          -0.013788021983344667,
          -0.1802988015447363,
          -0.54437692864887,
          -0.36937607900872693,
          -0.7494448156380911,
          -0.18221674095403187,
          -0.649454944235263,
          0.07353294720684916,
          -0.34213768029395464,
          -0.30137267044641924,
          -0.08763476489052868,
          -0.6059299622288743,
          -0.8037299282540022,
          -0.95462039747087,
          -0.26142150984343226,
          -0.9788881264087184,
          -0.7878437452495839,
          -0.6456539516257709,
          -0.7510386019405662,
          0.11500417123928347,
          -0.07014012395911118,
          -0.593579900200919,
          -0.1813643078176482,
          -0.13497775489713365,
          -0.4407057261803622,
          -0.4479463152668845,
          -0.5992371460517194,
          -0.06816389875972506,
          -0.3523960711628297,
          -0.4830451502446105,
          -0.40952400247396253,
          -1.1816394106888675,
          -0.3470082630747371,
          -0.0387215935879176,
          -0.5911354066424586,
          -0.3805620102153006,
          -0.8045934406817894,
          -0.3616610961447757,
          -0.4522248639842707,
          -0.3143881820024339,
          -0.5148106630197882,
          -0.6320562510678087,
          -0.19997676358434532,
          -0.6005993750142029,
          0.14474050876885042,
          -0.6291115925870823,
          -0.6384088715556426,
          -0.011495730653857616,
          -0.6707368455824092,
          -0.21049525173450825,
          -0.390226010127836,
          -0.8295603890337983,
          -0.45127029831425597,
          -0.6904310714197486,
          -0.6654346565932764,
          -1.007754936614187,
          -0.5186838532798606,
          -0.36265325408350724,
          0.1411811543296489,
          -0.20294498298690694,
          0.04921445285749748,
          -0.30784105112420546,
          -1.1067861401497188,
          -0.42230119683603917,
          -0.34489092653881603,
          -0.17122355180029109,
          -0.10238913007514833,
          -0.5834492972412906,
          -0.5585516926017865,
          0.028903996468146398,
          -0.923550832420245,
          -0.7906665868243916,
          -0.5828945749868628,
          -0.22398387595690294,
          -0.30236217191061376,
          -0.3029364437213674,
          -0.7242212413248521,
          0.028884993079972665,
          -0.6269102827687808,
          -0.24684423505263028,
          -0.44955488052305814,
          -0.8187033286905234,
          -0.1265111464486824,
          -0.17194059282884172,
          -0.0659260741965525,
          -0.36731359091459775,
          -0.2989126796481083,
          -0.6095098082179712,
          -0.6984383200759209
         ],
         "xaxis": "x",
         "yaxis": "y"
        },
        {
         "alignmentgroup": "True",
         "boxpoints": "all",
         "fillcolor": "rgba(255,255,255,0)",
         "hoveron": "points",
         "hovertemplate": "choc=7<br>rating=%{x}<extra></extra>",
         "jitter": 0,
         "legendgroup": "7",
         "line": {
          "color": "rgba(255,255,255,0)"
         },
         "marker": {
          "color": "#7F7F7F",
          "symbol": "line-ns-open"
         },
         "name": "7",
         "offsetgroup": "7",
         "showlegend": false,
         "type": "box",
         "x": [
          -0.5061163908834788,
          -0.8305193883070267,
          -1.0456283122195729,
          -0.26339082147793313,
          0.0826648215606452,
          -0.7916026392999045,
          -0.7528607464823229,
          -0.732076747408404,
          -0.8842309375466233,
          -1.141852361534788,
          -0.3346476226042308,
          -0.013788021983344667,
          -0.1802988015447363,
          -0.54437692864887,
          -0.36937607900872693,
          -0.7494448156380911,
          -0.18221674095403187,
          -0.649454944235263,
          0.07353294720684916,
          -0.34213768029395464,
          -0.30137267044641924,
          -0.08763476489052868,
          -0.6059299622288743,
          -0.8037299282540022,
          -0.95462039747087,
          -0.26142150984343226,
          -0.9788881264087184,
          -0.7878437452495839,
          -0.6456539516257709,
          -0.7510386019405662,
          0.11500417123928347,
          -0.07014012395911118,
          -0.593579900200919,
          -0.1813643078176482,
          -0.13497775489713365,
          -0.4407057261803622,
          -0.4479463152668845,
          -0.5992371460517194,
          -0.06816389875972506,
          -0.3523960711628297,
          -0.4830451502446105,
          -0.40952400247396253,
          -1.1816394106888675,
          -0.3470082630747371,
          -0.0387215935879176,
          -0.5911354066424586,
          -0.3805620102153006,
          -0.8045934406817894,
          -0.3616610961447757,
          -0.4522248639842707,
          -0.3143881820024339,
          -0.5148106630197882,
          -0.6320562510678087,
          -0.19997676358434532,
          -0.6005993750142029,
          0.14474050876885042,
          -0.6291115925870823,
          -0.6384088715556426,
          -0.011495730653857616,
          -0.6707368455824092,
          -0.21049525173450825,
          -0.390226010127836,
          -0.8295603890337983,
          -0.45127029831425597,
          -0.6904310714197486,
          -0.6654346565932764,
          -1.007754936614187,
          -0.5186838532798606,
          -0.36265325408350724,
          0.1411811543296489,
          -0.20294498298690694,
          0.04921445285749748,
          -0.30784105112420546,
          -1.1067861401497188,
          -0.42230119683603917,
          -0.34489092653881603,
          -0.17122355180029109,
          -0.10238913007514833,
          -0.5834492972412906,
          -0.5585516926017865,
          0.028903996468146398,
          -0.923550832420245,
          -0.7906665868243916,
          -0.5828945749868628,
          -0.22398387595690294,
          -0.30236217191061376,
          -0.3029364437213674,
          -0.7242212413248521,
          0.028884993079972665,
          -0.6269102827687808,
          -0.24684423505263028,
          -0.44955488052305814,
          -0.8187033286905234,
          -0.1265111464486824,
          -0.17194059282884172,
          -0.0659260741965525,
          -0.36731359091459775,
          -0.2989126796481083,
          -0.6095098082179712,
          -0.6984383200759209
         ],
         "xaxis": "x2",
         "yaxis": "y2"
        },
        {
         "alignmentgroup": "True",
         "bingroup": "x",
         "hovertemplate": "choc=8<br>rating=%{x}<br>count=%{y}<extra></extra>",
         "legendgroup": "8",
         "marker": {
          "color": "#BCBD22",
          "pattern": {
           "shape": ""
          }
         },
         "name": "8",
         "offsetgroup": "8",
         "orientation": "v",
         "showlegend": true,
         "type": "histogram",
         "x": [
          0.7059920330039197,
          2.2412061891852506,
          1.465066795509217,
          1.4875900821997943,
          1.153943417120712,
          1.3029575944989635,
          1.1001332739328635,
          1.2214498519576171,
          0.6877437153186978,
          0.5813142234605608,
          1.8355460748451915,
          0.6448820110414036,
          1.4260447256148792,
          1.1759307959251992,
          0.7798871536293233,
          1.4619925659598638,
          1.3834408763458164,
          1.2827305987050246,
          0.9918213454078606,
          2.027387807704489,
          1.7079272870846507,
          2.3176360364066095,
          0.4708582288454234,
          1.5868674064990458,
          1.2081387742808722,
          1.3818127269611058,
          1.5410182600638647,
          1.4593269132683222,
          1.1961753299517595,
          1.0604854722162562,
          2.036398712868669,
          1.3597010136742071,
          1.5890253782048938,
          1.3933802170943805,
          0.923676282226453,
          0.22089930191794838,
          0.7246296738635893,
          1.1629976155640853,
          0.693736192171067,
          0.9425527253349366,
          1.794639179373796,
          0.35840527035447145,
          0.9656564236244418,
          0.6057702237552668,
          1.3133498832187653,
          1.5126659036884358,
          0.4311249096199299,
          0.8885131179145531,
          0.9222987671558649,
          1.0334314595657212,
          1.854588123226967,
          1.7231990325381437,
          1.978657678587211,
          1.1220700161433772,
          1.8278502834010935,
          0.5760418492759686,
          1.92852624397824,
          1.4419562102182422,
          0.4670429635551705,
          1.0025438907834576,
          0.8244067059637231,
          1.4445616291420458,
          0.8857691997720061,
          1.8856303569398094,
          0.8835711334200839,
          1.0294995956518187,
          1.387604578229769,
          1.5482536281764971,
          2.124888920956986,
          0.7572300646601651,
          2.025310256135808,
          0.9366332841338282,
          0.9402455671122716,
          0.4772176362630871,
          1.0415940120519749,
          1.160232340634587,
          1.8510448828337005,
          1.9356631789467307,
          1.7133953079159365,
          2.1224197041074895,
          1.549095076767641,
          1.8660290886964563,
          1.7440547035818954,
          1.402274711433227,
          0.9257187785123611,
          0.4442635512192923,
          0.7329854404830898,
          1.5430670336181014,
          1.2043179376519477,
          0.8095993164918537,
          1.3932527407482174,
          1.211731398041167,
          1.4003361615762564,
          0.8110669405840334,
          0.8170642794287728,
          1.4965769607179675,
          1.0465241188146845,
          0.5055907642885864,
          1.3627152353326424,
          1.8654792658118087
         ],
         "xaxis": "x",
         "yaxis": "y"
        },
        {
         "alignmentgroup": "True",
         "boxpoints": "all",
         "fillcolor": "rgba(255,255,255,0)",
         "hoveron": "points",
         "hovertemplate": "choc=8<br>rating=%{x}<extra></extra>",
         "jitter": 0,
         "legendgroup": "8",
         "line": {
          "color": "rgba(255,255,255,0)"
         },
         "marker": {
          "color": "#BCBD22",
          "symbol": "line-ns-open"
         },
         "name": "8",
         "offsetgroup": "8",
         "showlegend": false,
         "type": "box",
         "x": [
          0.7059920330039197,
          2.2412061891852506,
          1.465066795509217,
          1.4875900821997943,
          1.153943417120712,
          1.3029575944989635,
          1.1001332739328635,
          1.2214498519576171,
          0.6877437153186978,
          0.5813142234605608,
          1.8355460748451915,
          0.6448820110414036,
          1.4260447256148792,
          1.1759307959251992,
          0.7798871536293233,
          1.4619925659598638,
          1.3834408763458164,
          1.2827305987050246,
          0.9918213454078606,
          2.027387807704489,
          1.7079272870846507,
          2.3176360364066095,
          0.4708582288454234,
          1.5868674064990458,
          1.2081387742808722,
          1.3818127269611058,
          1.5410182600638647,
          1.4593269132683222,
          1.1961753299517595,
          1.0604854722162562,
          2.036398712868669,
          1.3597010136742071,
          1.5890253782048938,
          1.3933802170943805,
          0.923676282226453,
          0.22089930191794838,
          0.7246296738635893,
          1.1629976155640853,
          0.693736192171067,
          0.9425527253349366,
          1.794639179373796,
          0.35840527035447145,
          0.9656564236244418,
          0.6057702237552668,
          1.3133498832187653,
          1.5126659036884358,
          0.4311249096199299,
          0.8885131179145531,
          0.9222987671558649,
          1.0334314595657212,
          1.854588123226967,
          1.7231990325381437,
          1.978657678587211,
          1.1220700161433772,
          1.8278502834010935,
          0.5760418492759686,
          1.92852624397824,
          1.4419562102182422,
          0.4670429635551705,
          1.0025438907834576,
          0.8244067059637231,
          1.4445616291420458,
          0.8857691997720061,
          1.8856303569398094,
          0.8835711334200839,
          1.0294995956518187,
          1.387604578229769,
          1.5482536281764971,
          2.124888920956986,
          0.7572300646601651,
          2.025310256135808,
          0.9366332841338282,
          0.9402455671122716,
          0.4772176362630871,
          1.0415940120519749,
          1.160232340634587,
          1.8510448828337005,
          1.9356631789467307,
          1.7133953079159365,
          2.1224197041074895,
          1.549095076767641,
          1.8660290886964563,
          1.7440547035818954,
          1.402274711433227,
          0.9257187785123611,
          0.4442635512192923,
          0.7329854404830898,
          1.5430670336181014,
          1.2043179376519477,
          0.8095993164918537,
          1.3932527407482174,
          1.211731398041167,
          1.4003361615762564,
          0.8110669405840334,
          0.8170642794287728,
          1.4965769607179675,
          1.0465241188146845,
          0.5055907642885864,
          1.3627152353326424,
          1.8654792658118087
         ],
         "xaxis": "x2",
         "yaxis": "y2"
        },
        {
         "alignmentgroup": "True",
         "bingroup": "x",
         "hovertemplate": "choc=9<br>rating=%{x}<br>count=%{y}<extra></extra>",
         "legendgroup": "9",
         "marker": {
          "color": "#17BECF",
          "pattern": {
           "shape": ""
          }
         },
         "name": "9",
         "offsetgroup": "9",
         "orientation": "v",
         "showlegend": true,
         "type": "histogram",
         "x": [
          -0.7407036395905542,
          -0.7628650155073399,
          -1.8808568609614311,
          -1.2229638165961727,
          -0.7762147712002642,
          -1.040073149531726,
          -0.6193817284974964,
          -0.6906996487230769,
          -0.7883759056910589,
          -0.6371565668765913,
          -0.601318414823838,
          -0.6911101219047098,
          -0.9466093670781937,
          -0.5830272758233885,
          0.2191514516093409,
          -0.7360269792000245,
          -1.3056353996560706,
          -0.329741465401313,
          -0.7692773837049096,
          -0.8251714293720898,
          -0.4794734907448286,
          -1.2274072010472388,
          -1.017438821987077,
          -0.4967182863433467,
          -0.30567946049903383,
          -0.35053319235510094,
          -0.024581171966568505,
          -0.836835151725469,
          0.38827197263345137,
          -0.17932567840961533,
          0.2168987996151308,
          -1.405696704830759,
          0.3607286089080979,
          -0.5980612724709953,
          -0.07282302636734883,
          -1.5579786913291072,
          -0.786821570652546,
          0.3091854471532416,
          -0.22958870956800925,
          -0.7814815389229529,
          -0.9262235568932984,
          0.029452432051447652,
          -0.6773069054055683,
          -0.5591029644160075,
          -1.1331127651840547,
          0.0309138354055708,
          -0.9630060249382426,
          -1.6728218716238348,
          -0.7489752480058899,
          -0.7055480803034975,
          -0.9707553867618943,
          -0.9473907707609226,
          -0.7705093613865677,
          -0.811461466800901,
          -1.8541661663955646,
          -0.5062800811041206,
          -1.3296684147558744,
          -1.328599573454219,
          -1.474300329443547,
          0.11106259558536169,
          -1.8648434806420386,
          -1.12250855575988,
          -1.917696005997653,
          -1.1953766430101156,
          -1.280269983652477,
          -1.312797608499421,
          -1.520870237634972,
          -1.7170155355435375,
          -1.461675427873538,
          -0.22392762645788822,
          -1.0961367380204121,
          -0.3314875906694408,
          -1.5624945273147661,
          -1.284178919994551,
          -1.4500497739655847,
          -1.8967038452756961,
          -0.15679820388197685,
          -0.039085822241776924,
          -2.3526946207561723,
          -1.2645255270277462,
          -0.46248056510784474,
          -0.9529582474074204,
          -1.9967871039958982,
          -1.9979527177764964,
          -0.8785602358173664,
          -1.0430561687754911,
          -0.8124802868337596,
          -0.08367909962129627,
          -1.7477596448967585,
          -0.26990969761787587,
          -0.2869250495567446,
          -0.22653008562147714,
          -1.269795830833124,
          -0.9535193954585327,
          -1.3228662421922903,
          0.08628899945682222,
          -0.8368997525698639,
          -0.7024956671838558,
          -0.3318362545892516,
          -0.6620551810238626
         ],
         "xaxis": "x",
         "yaxis": "y"
        },
        {
         "alignmentgroup": "True",
         "boxpoints": "all",
         "fillcolor": "rgba(255,255,255,0)",
         "hoveron": "points",
         "hovertemplate": "choc=9<br>rating=%{x}<extra></extra>",
         "jitter": 0,
         "legendgroup": "9",
         "line": {
          "color": "rgba(255,255,255,0)"
         },
         "marker": {
          "color": "#17BECF",
          "symbol": "line-ns-open"
         },
         "name": "9",
         "offsetgroup": "9",
         "showlegend": false,
         "type": "box",
         "x": [
          -0.7407036395905542,
          -0.7628650155073399,
          -1.8808568609614311,
          -1.2229638165961727,
          -0.7762147712002642,
          -1.040073149531726,
          -0.6193817284974964,
          -0.6906996487230769,
          -0.7883759056910589,
          -0.6371565668765913,
          -0.601318414823838,
          -0.6911101219047098,
          -0.9466093670781937,
          -0.5830272758233885,
          0.2191514516093409,
          -0.7360269792000245,
          -1.3056353996560706,
          -0.329741465401313,
          -0.7692773837049096,
          -0.8251714293720898,
          -0.4794734907448286,
          -1.2274072010472388,
          -1.017438821987077,
          -0.4967182863433467,
          -0.30567946049903383,
          -0.35053319235510094,
          -0.024581171966568505,
          -0.836835151725469,
          0.38827197263345137,
          -0.17932567840961533,
          0.2168987996151308,
          -1.405696704830759,
          0.3607286089080979,
          -0.5980612724709953,
          -0.07282302636734883,
          -1.5579786913291072,
          -0.786821570652546,
          0.3091854471532416,
          -0.22958870956800925,
          -0.7814815389229529,
          -0.9262235568932984,
          0.029452432051447652,
          -0.6773069054055683,
          -0.5591029644160075,
          -1.1331127651840547,
          0.0309138354055708,
          -0.9630060249382426,
          -1.6728218716238348,
          -0.7489752480058899,
          -0.7055480803034975,
          -0.9707553867618943,
          -0.9473907707609226,
          -0.7705093613865677,
          -0.811461466800901,
          -1.8541661663955646,
          -0.5062800811041206,
          -1.3296684147558744,
          -1.328599573454219,
          -1.474300329443547,
          0.11106259558536169,
          -1.8648434806420386,
          -1.12250855575988,
          -1.917696005997653,
          -1.1953766430101156,
          -1.280269983652477,
          -1.312797608499421,
          -1.520870237634972,
          -1.7170155355435375,
          -1.461675427873538,
          -0.22392762645788822,
          -1.0961367380204121,
          -0.3314875906694408,
          -1.5624945273147661,
          -1.284178919994551,
          -1.4500497739655847,
          -1.8967038452756961,
          -0.15679820388197685,
          -0.039085822241776924,
          -2.3526946207561723,
          -1.2645255270277462,
          -0.46248056510784474,
          -0.9529582474074204,
          -1.9967871039958982,
          -1.9979527177764964,
          -0.8785602358173664,
          -1.0430561687754911,
          -0.8124802868337596,
          -0.08367909962129627,
          -1.7477596448967585,
          -0.26990969761787587,
          -0.2869250495567446,
          -0.22653008562147714,
          -1.269795830833124,
          -0.9535193954585327,
          -1.3228662421922903,
          0.08628899945682222,
          -0.8368997525698639,
          -0.7024956671838558,
          -0.3318362545892516,
          -0.6620551810238626
         ],
         "xaxis": "x2",
         "yaxis": "y2"
        },
        {
         "alignmentgroup": "True",
         "bingroup": "x",
         "hovertemplate": "choc=10<br>rating=%{x}<br>count=%{y}<extra></extra>",
         "legendgroup": "10",
         "marker": {
          "color": "#1F77B4",
          "pattern": {
           "shape": ""
          }
         },
         "name": "10",
         "offsetgroup": "10",
         "orientation": "v",
         "showlegend": true,
         "type": "histogram",
         "x": [
          -0.5320714653195715,
          -0.3183973305513461,
          -0.8129262935103412,
          -0.9914591894040867,
          -0.5993368893248883,
          -1.0076532798279203,
          -0.6233518566696143,
          -0.4972505516954116,
          -1.1804842570161957,
          -0.09502131698754512,
          -1.0591761372019344,
          -1.0157314612193145,
          -0.3103409897856272,
          -0.7244449064358252,
          -0.7803878635599976,
          -1.3845454122279164,
          -0.40026463837979315,
          -0.5588898240228425,
          -1.0384446385500157,
          -0.6383351081741748,
          -0.4677561396518565,
          -1.1500888417727977,
          -0.5484677370416849,
          -0.5329079800820443,
          -0.7007069026517584,
          -0.6493774582217776,
          0.12340296769060743,
          -0.5911483306537291,
          -0.8905867310818316,
          -0.40064914822694103,
          -0.7523245742747234,
          -1.17289726517736,
          -1.0288315534250891,
          -0.7512543729849476,
          -0.3242145908434932,
          0.052011282427945726,
          -1.1051295890234414,
          -0.38553564972380555,
          -0.8300654820431743,
          0.1882018970618008,
          -0.5752040326821871,
          -0.6282041155506057,
          -0.6814738467153831,
          -0.9860325075206183,
          -0.8960568334849363,
          -0.13952817228958325,
          -0.8210404114909817,
          -0.5053727062534105,
          -0.33894544510898866,
          -0.9956261866952035,
          -0.38958615542923786,
          -0.43849913432679966,
          -0.49082157235552415,
          -0.7741906037828827,
          -0.16830885318758093,
          -0.4671748073449462,
          -0.94652315192882,
          -0.9488049311073485,
          -0.9350410215749116,
          -0.31050047211083337,
          -0.7986368619665675,
          -0.5126266333497196,
          -0.6057333771325981,
          -0.42767217051239276,
          -0.6607994888963972,
          -0.42777929041268997,
          -1.0920067104198745,
          -0.4513059449584346,
          -0.4878902663891458,
          -0.4049306042359527,
          -0.3004310443898202,
          -0.7055905885949667,
          -0.7902774866921969,
          -0.3935868370922191,
          -0.3128389535034334,
          -0.6262417608703521,
          -0.6201972822723634,
          -0.8450485419404106,
          -0.7440923090921782,
          -0.859500524295314,
          -1.216671166826968,
          -1.3533859685503464,
          -0.7344196476837439,
          -0.613701520718135,
          -0.7057383926330068,
          -1.1278127528779065,
          -0.49270651227033124,
          -0.36685420701408106,
          -0.9152017620974725,
          -0.5535538873081763,
          -0.7200185112258057,
          -0.3454449926184616,
          -0.5297225158942869,
          -0.3821132497592167,
          -1.5692432888933192,
          -1.1642884982772714,
          -1.0175011174057265,
          -0.8693947782676203,
          -0.5342132406941418,
          -0.8026072867014061
         ],
         "xaxis": "x",
         "yaxis": "y"
        },
        {
         "alignmentgroup": "True",
         "boxpoints": "all",
         "fillcolor": "rgba(255,255,255,0)",
         "hoveron": "points",
         "hovertemplate": "choc=10<br>rating=%{x}<extra></extra>",
         "jitter": 0,
         "legendgroup": "10",
         "line": {
          "color": "rgba(255,255,255,0)"
         },
         "marker": {
          "color": "#1F77B4",
          "symbol": "line-ns-open"
         },
         "name": "10",
         "offsetgroup": "10",
         "showlegend": false,
         "type": "box",
         "x": [
          -0.5320714653195715,
          -0.3183973305513461,
          -0.8129262935103412,
          -0.9914591894040867,
          -0.5993368893248883,
          -1.0076532798279203,
          -0.6233518566696143,
          -0.4972505516954116,
          -1.1804842570161957,
          -0.09502131698754512,
          -1.0591761372019344,
          -1.0157314612193145,
          -0.3103409897856272,
          -0.7244449064358252,
          -0.7803878635599976,
          -1.3845454122279164,
          -0.40026463837979315,
          -0.5588898240228425,
          -1.0384446385500157,
          -0.6383351081741748,
          -0.4677561396518565,
          -1.1500888417727977,
          -0.5484677370416849,
          -0.5329079800820443,
          -0.7007069026517584,
          -0.6493774582217776,
          0.12340296769060743,
          -0.5911483306537291,
          -0.8905867310818316,
          -0.40064914822694103,
          -0.7523245742747234,
          -1.17289726517736,
          -1.0288315534250891,
          -0.7512543729849476,
          -0.3242145908434932,
          0.052011282427945726,
          -1.1051295890234414,
          -0.38553564972380555,
          -0.8300654820431743,
          0.1882018970618008,
          -0.5752040326821871,
          -0.6282041155506057,
          -0.6814738467153831,
          -0.9860325075206183,
          -0.8960568334849363,
          -0.13952817228958325,
          -0.8210404114909817,
          -0.5053727062534105,
          -0.33894544510898866,
          -0.9956261866952035,
          -0.38958615542923786,
          -0.43849913432679966,
          -0.49082157235552415,
          -0.7741906037828827,
          -0.16830885318758093,
          -0.4671748073449462,
          -0.94652315192882,
          -0.9488049311073485,
          -0.9350410215749116,
          -0.31050047211083337,
          -0.7986368619665675,
          -0.5126266333497196,
          -0.6057333771325981,
          -0.42767217051239276,
          -0.6607994888963972,
          -0.42777929041268997,
          -1.0920067104198745,
          -0.4513059449584346,
          -0.4878902663891458,
          -0.4049306042359527,
          -0.3004310443898202,
          -0.7055905885949667,
          -0.7902774866921969,
          -0.3935868370922191,
          -0.3128389535034334,
          -0.6262417608703521,
          -0.6201972822723634,
          -0.8450485419404106,
          -0.7440923090921782,
          -0.859500524295314,
          -1.216671166826968,
          -1.3533859685503464,
          -0.7344196476837439,
          -0.613701520718135,
          -0.7057383926330068,
          -1.1278127528779065,
          -0.49270651227033124,
          -0.36685420701408106,
          -0.9152017620974725,
          -0.5535538873081763,
          -0.7200185112258057,
          -0.3454449926184616,
          -0.5297225158942869,
          -0.3821132497592167,
          -1.5692432888933192,
          -1.1642884982772714,
          -1.0175011174057265,
          -0.8693947782676203,
          -0.5342132406941418,
          -0.8026072867014061
         ],
         "xaxis": "x2",
         "yaxis": "y2"
        },
        {
         "alignmentgroup": "True",
         "bingroup": "x",
         "hovertemplate": "choc=11<br>rating=%{x}<br>count=%{y}<extra></extra>",
         "legendgroup": "11",
         "marker": {
          "color": "#FF7F0E",
          "pattern": {
           "shape": ""
          }
         },
         "name": "11",
         "offsetgroup": "11",
         "orientation": "v",
         "showlegend": true,
         "type": "histogram",
         "x": [
          -0.247725312536196,
          -0.32802956529858,
          0.134104378340845,
          -0.29722784698713545,
          -0.042474888230483905,
          -0.10853873344374887,
          -0.10022610467006374,
          0.012012415291241502,
          0.04407891813381193,
          0.059026060690594795,
          -0.33891650489108094,
          0.028328737932709916,
          0.03049278202185618,
          0.24932517034370227,
          -0.12937458166153695,
          -0.20313895036890886,
          0.11904470892580832,
          -0.03479083657516968,
          0.18515497347883825,
          -0.32714435200909886,
          0.18005334453817456,
          -0.13748616439814842,
          -0.1191577787674867,
          -0.35574455710152136,
          -0.11231872102293428,
          -0.13769725381992678,
          -0.08828337703615699,
          0.19910148396544225,
          -0.14917135340123278,
          -0.31089313620044157,
          -0.3675387884264365,
          -0.11819327208421912,
          -0.1958270244731672,
          0.5628218203601469,
          -0.19659117927139252,
          -0.031171301008416627,
          0.04778509355293353,
          -0.024710299113782877,
          0.10408246285047035,
          -0.10457851639550161,
          0.18487203221719883,
          0.03507835646481272,
          -0.24186799100828554,
          0.0915899874503219,
          -0.23798945954060702,
          -0.38346012325904305,
          0.08925432690118684,
          0.007259794873925168,
          0.12458999324400327,
          -0.04955540360955491,
          -0.24603994983132252,
          0.32377162576979923,
          -0.17452907564500614,
          -0.2732495373425472,
          0.37583338741176725,
          -0.17028429630826153,
          0.011305207096118819,
          -0.12066549758198843,
          -0.25076777906078174,
          -0.1338579552235686,
          0.004323126148948961,
          -0.13127635859678843,
          -0.40128851895292866,
          -0.04135735128774857,
          -0.24130782919364807,
          -0.024914893399482815,
          0.0007868845559033111,
          0.08902835178609764,
          -0.2578231533108323,
          -0.13538531108691595,
          0.06662345331339761,
          -0.29587399918626767,
          -0.31284583011022193,
          0.028946619238001237,
          0.21549756580181761,
          0.013280851985393138,
          -0.15484582673564568,
          -0.12177524402616825,
          0.061909434905452004,
          0.05338880826327602,
          -0.21959816792025927,
          -0.06797850389193236,
          -0.12458974051167619,
          -0.39825376802980905,
          -0.06431472446491113,
          0.157364145435043,
          -0.23726428624774282,
          -0.06562862238596329,
          0.004777724111272155,
          -0.255640054274767,
          -0.04448166371832583,
          0.21855855043000483,
          -0.1658999481600511,
          0.10634163002236888,
          -0.12344406592198291,
          0.09568750987887795,
          -0.0650891356938979,
          0.12596681774764965,
          -0.2965485871004613,
          -0.27652173247679745
         ],
         "xaxis": "x",
         "yaxis": "y"
        },
        {
         "alignmentgroup": "True",
         "boxpoints": "all",
         "fillcolor": "rgba(255,255,255,0)",
         "hoveron": "points",
         "hovertemplate": "choc=11<br>rating=%{x}<extra></extra>",
         "jitter": 0,
         "legendgroup": "11",
         "line": {
          "color": "rgba(255,255,255,0)"
         },
         "marker": {
          "color": "#FF7F0E",
          "symbol": "line-ns-open"
         },
         "name": "11",
         "offsetgroup": "11",
         "showlegend": false,
         "type": "box",
         "x": [
          -0.247725312536196,
          -0.32802956529858,
          0.134104378340845,
          -0.29722784698713545,
          -0.042474888230483905,
          -0.10853873344374887,
          -0.10022610467006374,
          0.012012415291241502,
          0.04407891813381193,
          0.059026060690594795,
          -0.33891650489108094,
          0.028328737932709916,
          0.03049278202185618,
          0.24932517034370227,
          -0.12937458166153695,
          -0.20313895036890886,
          0.11904470892580832,
          -0.03479083657516968,
          0.18515497347883825,
          -0.32714435200909886,
          0.18005334453817456,
          -0.13748616439814842,
          -0.1191577787674867,
          -0.35574455710152136,
          -0.11231872102293428,
          -0.13769725381992678,
          -0.08828337703615699,
          0.19910148396544225,
          -0.14917135340123278,
          -0.31089313620044157,
          -0.3675387884264365,
          -0.11819327208421912,
          -0.1958270244731672,
          0.5628218203601469,
          -0.19659117927139252,
          -0.031171301008416627,
          0.04778509355293353,
          -0.024710299113782877,
          0.10408246285047035,
          -0.10457851639550161,
          0.18487203221719883,
          0.03507835646481272,
          -0.24186799100828554,
          0.0915899874503219,
          -0.23798945954060702,
          -0.38346012325904305,
          0.08925432690118684,
          0.007259794873925168,
          0.12458999324400327,
          -0.04955540360955491,
          -0.24603994983132252,
          0.32377162576979923,
          -0.17452907564500614,
          -0.2732495373425472,
          0.37583338741176725,
          -0.17028429630826153,
          0.011305207096118819,
          -0.12066549758198843,
          -0.25076777906078174,
          -0.1338579552235686,
          0.004323126148948961,
          -0.13127635859678843,
          -0.40128851895292866,
          -0.04135735128774857,
          -0.24130782919364807,
          -0.024914893399482815,
          0.0007868845559033111,
          0.08902835178609764,
          -0.2578231533108323,
          -0.13538531108691595,
          0.06662345331339761,
          -0.29587399918626767,
          -0.31284583011022193,
          0.028946619238001237,
          0.21549756580181761,
          0.013280851985393138,
          -0.15484582673564568,
          -0.12177524402616825,
          0.061909434905452004,
          0.05338880826327602,
          -0.21959816792025927,
          -0.06797850389193236,
          -0.12458974051167619,
          -0.39825376802980905,
          -0.06431472446491113,
          0.157364145435043,
          -0.23726428624774282,
          -0.06562862238596329,
          0.004777724111272155,
          -0.255640054274767,
          -0.04448166371832583,
          0.21855855043000483,
          -0.1658999481600511,
          0.10634163002236888,
          -0.12344406592198291,
          0.09568750987887795,
          -0.0650891356938979,
          0.12596681774764965,
          -0.2965485871004613,
          -0.27652173247679745
         ],
         "xaxis": "x2",
         "yaxis": "y2"
        },
        {
         "alignmentgroup": "True",
         "bingroup": "x",
         "hovertemplate": "choc=12<br>rating=%{x}<br>count=%{y}<extra></extra>",
         "legendgroup": "12",
         "marker": {
          "color": "#2CA02C",
          "pattern": {
           "shape": ""
          }
         },
         "name": "12",
         "offsetgroup": "12",
         "orientation": "v",
         "showlegend": true,
         "type": "histogram",
         "x": [
          2.1232779106917157,
          1.5898181056809757,
          1.0916534683171335,
          1.080116054155128,
          0.7237481430372859,
          1.0886104887152004,
          1.599902066692516,
          1.341939190548687,
          1.3571963250285721,
          1.1203422610362197,
          2.2571174382427723,
          2.0110739859478355,
          0.9449907634725486,
          1.2093712600710587,
          1.002056559600105,
          2.1063949150688352,
          1.4377349311261636,
          1.3694311613921153,
          1.5941722111861159,
          0.7285869422110052,
          2.0277338041799706,
          1.0428429065605895,
          2.5411898252201324,
          1.7309334430263967,
          1.4251989906173128,
          2.214851224213376,
          1.617880833538134,
          1.8096260031597688,
          0.375504245777855,
          1.6080596951556037,
          2.1547441549584745,
          1.4764605553154033,
          1.1663368769207119,
          1.2760003522470862,
          2.3199052708848207,
          1.520099978385292,
          0.9166702708159594,
          0.7217745758964683,
          1.2624499879817912,
          1.2554220180350282,
          1.303179160419762,
          1.8622107271886883,
          1.1299503232767507,
          1.3910233802084453,
          1.7484364793785505,
          1.465284395047529,
          0.7747715320418477,
          1.1155851673186488,
          1.686950843818039,
          1.703312874638557,
          2.3651588673532755,
          1.4389819398705301,
          1.6952321692782224,
          2.1379286400485555,
          1.7509792620799973,
          0.9671557737415443,
          2.55417480482469,
          1.9992584802212012,
          1.0951678851836655,
          1.5854131521198336,
          1.5500165422709078,
          1.3938525489722609,
          1.292351656517947,
          1.2718915252612641,
          0.8739180505228623,
          1.421065630363287,
          1.6057497689919544,
          1.8946841919687045,
          1.4226736834960323,
          1.8586122649025791,
          1.783488706235925,
          2.033940634369591,
          1.6594015241290996,
          1.773853557885121,
          1.5883170024414843,
          2.041829846343536,
          0.9194351687710319,
          0.8533461088240603,
          2.024277779479095,
          1.1350840989444309,
          2.293021023798533,
          1.61710794891402,
          1.4828022540522603,
          1.320888553090369,
          1.2706809767942207,
          1.4837703888036133,
          1.2846260296832415,
          1.9451052195790683,
          1.4454310807977229,
          1.0503971941309729,
          1.5903286375320635,
          1.5982641802475543,
          1.912078501812402,
          1.3022049482282756,
          1.5942513369570857,
          1.5798305219133875,
          1.163770543180072,
          1.3825522380222874,
          1.0142301223089298,
          1.5284770711249445
         ],
         "xaxis": "x",
         "yaxis": "y"
        },
        {
         "alignmentgroup": "True",
         "boxpoints": "all",
         "fillcolor": "rgba(255,255,255,0)",
         "hoveron": "points",
         "hovertemplate": "choc=12<br>rating=%{x}<extra></extra>",
         "jitter": 0,
         "legendgroup": "12",
         "line": {
          "color": "rgba(255,255,255,0)"
         },
         "marker": {
          "color": "#2CA02C",
          "symbol": "line-ns-open"
         },
         "name": "12",
         "offsetgroup": "12",
         "showlegend": false,
         "type": "box",
         "x": [
          2.1232779106917157,
          1.5898181056809757,
          1.0916534683171335,
          1.080116054155128,
          0.7237481430372859,
          1.0886104887152004,
          1.599902066692516,
          1.341939190548687,
          1.3571963250285721,
          1.1203422610362197,
          2.2571174382427723,
          2.0110739859478355,
          0.9449907634725486,
          1.2093712600710587,
          1.002056559600105,
          2.1063949150688352,
          1.4377349311261636,
          1.3694311613921153,
          1.5941722111861159,
          0.7285869422110052,
          2.0277338041799706,
          1.0428429065605895,
          2.5411898252201324,
          1.7309334430263967,
          1.4251989906173128,
          2.214851224213376,
          1.617880833538134,
          1.8096260031597688,
          0.375504245777855,
          1.6080596951556037,
          2.1547441549584745,
          1.4764605553154033,
          1.1663368769207119,
          1.2760003522470862,
          2.3199052708848207,
          1.520099978385292,
          0.9166702708159594,
          0.7217745758964683,
          1.2624499879817912,
          1.2554220180350282,
          1.303179160419762,
          1.8622107271886883,
          1.1299503232767507,
          1.3910233802084453,
          1.7484364793785505,
          1.465284395047529,
          0.7747715320418477,
          1.1155851673186488,
          1.686950843818039,
          1.703312874638557,
          2.3651588673532755,
          1.4389819398705301,
          1.6952321692782224,
          2.1379286400485555,
          1.7509792620799973,
          0.9671557737415443,
          2.55417480482469,
          1.9992584802212012,
          1.0951678851836655,
          1.5854131521198336,
          1.5500165422709078,
          1.3938525489722609,
          1.292351656517947,
          1.2718915252612641,
          0.8739180505228623,
          1.421065630363287,
          1.6057497689919544,
          1.8946841919687045,
          1.4226736834960323,
          1.8586122649025791,
          1.783488706235925,
          2.033940634369591,
          1.6594015241290996,
          1.773853557885121,
          1.5883170024414843,
          2.041829846343536,
          0.9194351687710319,
          0.8533461088240603,
          2.024277779479095,
          1.1350840989444309,
          2.293021023798533,
          1.61710794891402,
          1.4828022540522603,
          1.320888553090369,
          1.2706809767942207,
          1.4837703888036133,
          1.2846260296832415,
          1.9451052195790683,
          1.4454310807977229,
          1.0503971941309729,
          1.5903286375320635,
          1.5982641802475543,
          1.912078501812402,
          1.3022049482282756,
          1.5942513369570857,
          1.5798305219133875,
          1.163770543180072,
          1.3825522380222874,
          1.0142301223089298,
          1.5284770711249445
         ],
         "xaxis": "x2",
         "yaxis": "y2"
        },
        {
         "alignmentgroup": "True",
         "bingroup": "x",
         "hovertemplate": "choc=13<br>rating=%{x}<br>count=%{y}<extra></extra>",
         "legendgroup": "13",
         "marker": {
          "color": "#D62728",
          "pattern": {
           "shape": ""
          }
         },
         "name": "13",
         "offsetgroup": "13",
         "orientation": "v",
         "showlegend": true,
         "type": "histogram",
         "x": [
          -1.1481311020917038,
          -0.09223783701510913,
          -0.4062644959396663,
          -0.4896022223403317,
          -1.5099861133946566,
          -0.6050646040615049,
          -0.6974352290195472,
          -1.2961279321630368,
          -0.6069762550027188,
          -1.4242100037546832,
          -0.9214142069738459,
          -1.0462161971364143,
          -0.34176648750055044,
          -0.6678621396364213,
          -1.0709945971244275,
          -0.5762103348811822,
          -0.7386789923971206,
          -0.41525661253548934,
          -1.1409911825754075,
          -0.9348648983680439,
          -0.1776607505499701,
          -0.7581079484377691,
          -0.8272602586360599,
          -0.600568169836472,
          -1.457090425062352,
          -0.5384689626828485,
          0.10674472431376647,
          -1.1714864979450499,
          -0.36016755270969675,
          -0.8255506236440386,
          -0.8321343595123343,
          -0.6844278354198418,
          -0.7123840988531314,
          -0.6566874735770137,
          -0.9559978495077799,
          -1.3911183559724871,
          -0.026144807300139794,
          0.11742612017144904,
          -1.1802795921848013,
          -1.4129026672705267,
          -1.1460111508363768,
          -0.5012654526138212,
          -0.803947614972099,
          -1.6767429529320381,
          -0.3371549320399877,
          -1.1552442609638338,
          -1.5354662125169276,
          -0.4645883702961294,
          -0.8080058755737903,
          -0.25480239760744844,
          -0.2964656849108189,
          -1.5402759297984099,
          -1.6978990077965663,
          0.0076418474458553876,
          -0.261066154229144,
          -1.2519125910048143,
          -0.7501365701254993,
          -0.49663203383459953,
          -0.4121926598422818,
          -1.3789047060589148,
          -0.1683079050960481,
          -0.8328506942268938,
          -0.39774233151913563,
          -0.33789380527956203,
          -0.9446808541680445,
          -0.4054820168720391,
          -0.8446804286119003,
          -0.6872153774707113,
          -0.2943552604212425,
          -0.7708391351487425,
          -0.5869555654452034,
          0.14361408366748707,
          -0.5068854630256074,
          -0.3475561372046726,
          0.06933798294078297,
          -0.8090319770767931,
          -0.9645953954370579,
          -0.7482872271700062,
          -0.8937376249832458,
          0.06264051729916464,
          -0.8820336261058859,
          -0.13946123104070013,
          -0.1950701126277425,
          -0.9915700111520187,
          -1.52075075227051,
          -0.04958843676117486,
          -0.4938224519921279,
          -1.0767412457857868,
          -0.5092787263661869,
          -0.8187575339165822,
          -0.3730366792501311,
          -0.9326254565960684,
          -0.5426373356154717,
          -0.3479094034554232,
          -0.2550447017811711,
          -0.9754663439017646,
          -0.31433266988720837,
          -0.47215105871236485,
          -0.8288374357602817,
          -0.054719423110594634
         ],
         "xaxis": "x",
         "yaxis": "y"
        },
        {
         "alignmentgroup": "True",
         "boxpoints": "all",
         "fillcolor": "rgba(255,255,255,0)",
         "hoveron": "points",
         "hovertemplate": "choc=13<br>rating=%{x}<extra></extra>",
         "jitter": 0,
         "legendgroup": "13",
         "line": {
          "color": "rgba(255,255,255,0)"
         },
         "marker": {
          "color": "#D62728",
          "symbol": "line-ns-open"
         },
         "name": "13",
         "offsetgroup": "13",
         "showlegend": false,
         "type": "box",
         "x": [
          -1.1481311020917038,
          -0.09223783701510913,
          -0.4062644959396663,
          -0.4896022223403317,
          -1.5099861133946566,
          -0.6050646040615049,
          -0.6974352290195472,
          -1.2961279321630368,
          -0.6069762550027188,
          -1.4242100037546832,
          -0.9214142069738459,
          -1.0462161971364143,
          -0.34176648750055044,
          -0.6678621396364213,
          -1.0709945971244275,
          -0.5762103348811822,
          -0.7386789923971206,
          -0.41525661253548934,
          -1.1409911825754075,
          -0.9348648983680439,
          -0.1776607505499701,
          -0.7581079484377691,
          -0.8272602586360599,
          -0.600568169836472,
          -1.457090425062352,
          -0.5384689626828485,
          0.10674472431376647,
          -1.1714864979450499,
          -0.36016755270969675,
          -0.8255506236440386,
          -0.8321343595123343,
          -0.6844278354198418,
          -0.7123840988531314,
          -0.6566874735770137,
          -0.9559978495077799,
          -1.3911183559724871,
          -0.026144807300139794,
          0.11742612017144904,
          -1.1802795921848013,
          -1.4129026672705267,
          -1.1460111508363768,
          -0.5012654526138212,
          -0.803947614972099,
          -1.6767429529320381,
          -0.3371549320399877,
          -1.1552442609638338,
          -1.5354662125169276,
          -0.4645883702961294,
          -0.8080058755737903,
          -0.25480239760744844,
          -0.2964656849108189,
          -1.5402759297984099,
          -1.6978990077965663,
          0.0076418474458553876,
          -0.261066154229144,
          -1.2519125910048143,
          -0.7501365701254993,
          -0.49663203383459953,
          -0.4121926598422818,
          -1.3789047060589148,
          -0.1683079050960481,
          -0.8328506942268938,
          -0.39774233151913563,
          -0.33789380527956203,
          -0.9446808541680445,
          -0.4054820168720391,
          -0.8446804286119003,
          -0.6872153774707113,
          -0.2943552604212425,
          -0.7708391351487425,
          -0.5869555654452034,
          0.14361408366748707,
          -0.5068854630256074,
          -0.3475561372046726,
          0.06933798294078297,
          -0.8090319770767931,
          -0.9645953954370579,
          -0.7482872271700062,
          -0.8937376249832458,
          0.06264051729916464,
          -0.8820336261058859,
          -0.13946123104070013,
          -0.1950701126277425,
          -0.9915700111520187,
          -1.52075075227051,
          -0.04958843676117486,
          -0.4938224519921279,
          -1.0767412457857868,
          -0.5092787263661869,
          -0.8187575339165822,
          -0.3730366792501311,
          -0.9326254565960684,
          -0.5426373356154717,
          -0.3479094034554232,
          -0.2550447017811711,
          -0.9754663439017646,
          -0.31433266988720837,
          -0.47215105871236485,
          -0.8288374357602817,
          -0.054719423110594634
         ],
         "xaxis": "x2",
         "yaxis": "y2"
        },
        {
         "alignmentgroup": "True",
         "bingroup": "x",
         "hovertemplate": "choc=14<br>rating=%{x}<br>count=%{y}<extra></extra>",
         "legendgroup": "14",
         "marker": {
          "color": "#9467BD",
          "pattern": {
           "shape": ""
          }
         },
         "name": "14",
         "offsetgroup": "14",
         "orientation": "v",
         "showlegend": true,
         "type": "histogram",
         "x": [
          -1.954856675035735,
          -0.6823876900101076,
          0.2767196453815758,
          0.0975370494510428,
          -1.169605251566238,
          -0.15713146436791803,
          -0.3037761876357833,
          -0.9201394997061614,
          -0.21442472877701566,
          0.08454031816287455,
          -1.383770343573687,
          -1.8129673943376823,
          0.5345109217576474,
          -0.5172168611577064,
          -1.3141256417475478,
          -1.3066762379710188,
          -1.706261572790101,
          0.27783323449754604,
          0.1995549334375436,
          -0.6763436831015333,
          -0.42945123510063754,
          -1.1913556379421943,
          -1.2186038723317658,
          0.2398149273608532,
          0.38014158262360187,
          0.4494516927315072,
          -0.32391311455711014,
          -0.06431643615802818,
          -1.5665513649817626,
          0.11283082729405491,
          -0.4168214366955822,
          -1.533150089709334,
          -0.59340683654225,
          -2.1695828682491345,
          -1.7548381938006807,
          -0.618758108890871,
          -0.45112155687664945,
          0.30494456442472084,
          0.16557334227041742,
          -0.40824222822794487,
          -1.0307262796658865,
          -0.0715524850838925,
          -1.014409323647036,
          -0.6987619659483377,
          -0.2742559026194652,
          -0.49005680021953857,
          -0.7426134332047258,
          -0.25805099583191926,
          -0.5882681223739548,
          0.9563534332741355,
          -0.7313117935099853,
          -0.6835127596410291,
          -1.2398037396562662,
          -0.669357059182971,
          -1.5040219797602299,
          -0.7604491936556687,
          0.10307818009037195,
          0.3945922591072535,
          0.3363503148066205,
          -0.5715728542837468,
          -0.19387710747964015,
          0.01916805678455552,
          1.0206311364143075,
          -1.542352263490262,
          -0.5744474823645057,
          0.08509502002962,
          -0.658964128595017,
          -0.0844426469976916,
          0.0010967979785889703,
          1.2435835176438446,
          -0.20360278495278183,
          -1.0092005592429745,
          -0.6686544154905983,
          -1.1335179631323593,
          -0.6441047251301961,
          -0.48773596100935845,
          -0.11125619434274481,
          -0.4266770030877733,
          -0.9277365866446483,
          -0.10032228479912253,
          -0.5407519371256192,
          -2.9969718459178027,
          -0.587979532986139,
          -0.4025138624386497,
          -1.1387879271325958,
          -1.1771964303269464,
          0.49770729654810775,
          -0.49225229296920164,
          -0.6952465094996354,
          -0.8086997299704495,
          -1.0411247981167544,
          -0.4384926431809672,
          0.26626856425875167,
          -1.541706599668741,
          0.4888846465061334,
          -0.09584712509462173,
          0.8707324662749234,
          -0.5216361161101583,
          -0.5897346278360649,
          -0.4189467267398211
         ],
         "xaxis": "x",
         "yaxis": "y"
        },
        {
         "alignmentgroup": "True",
         "boxpoints": "all",
         "fillcolor": "rgba(255,255,255,0)",
         "hoveron": "points",
         "hovertemplate": "choc=14<br>rating=%{x}<extra></extra>",
         "jitter": 0,
         "legendgroup": "14",
         "line": {
          "color": "rgba(255,255,255,0)"
         },
         "marker": {
          "color": "#9467BD",
          "symbol": "line-ns-open"
         },
         "name": "14",
         "offsetgroup": "14",
         "showlegend": false,
         "type": "box",
         "x": [
          -1.954856675035735,
          -0.6823876900101076,
          0.2767196453815758,
          0.0975370494510428,
          -1.169605251566238,
          -0.15713146436791803,
          -0.3037761876357833,
          -0.9201394997061614,
          -0.21442472877701566,
          0.08454031816287455,
          -1.383770343573687,
          -1.8129673943376823,
          0.5345109217576474,
          -0.5172168611577064,
          -1.3141256417475478,
          -1.3066762379710188,
          -1.706261572790101,
          0.27783323449754604,
          0.1995549334375436,
          -0.6763436831015333,
          -0.42945123510063754,
          -1.1913556379421943,
          -1.2186038723317658,
          0.2398149273608532,
          0.38014158262360187,
          0.4494516927315072,
          -0.32391311455711014,
          -0.06431643615802818,
          -1.5665513649817626,
          0.11283082729405491,
          -0.4168214366955822,
          -1.533150089709334,
          -0.59340683654225,
          -2.1695828682491345,
          -1.7548381938006807,
          -0.618758108890871,
          -0.45112155687664945,
          0.30494456442472084,
          0.16557334227041742,
          -0.40824222822794487,
          -1.0307262796658865,
          -0.0715524850838925,
          -1.014409323647036,
          -0.6987619659483377,
          -0.2742559026194652,
          -0.49005680021953857,
          -0.7426134332047258,
          -0.25805099583191926,
          -0.5882681223739548,
          0.9563534332741355,
          -0.7313117935099853,
          -0.6835127596410291,
          -1.2398037396562662,
          -0.669357059182971,
          -1.5040219797602299,
          -0.7604491936556687,
          0.10307818009037195,
          0.3945922591072535,
          0.3363503148066205,
          -0.5715728542837468,
          -0.19387710747964015,
          0.01916805678455552,
          1.0206311364143075,
          -1.542352263490262,
          -0.5744474823645057,
          0.08509502002962,
          -0.658964128595017,
          -0.0844426469976916,
          0.0010967979785889703,
          1.2435835176438446,
          -0.20360278495278183,
          -1.0092005592429745,
          -0.6686544154905983,
          -1.1335179631323593,
          -0.6441047251301961,
          -0.48773596100935845,
          -0.11125619434274481,
          -0.4266770030877733,
          -0.9277365866446483,
          -0.10032228479912253,
          -0.5407519371256192,
          -2.9969718459178027,
          -0.587979532986139,
          -0.4025138624386497,
          -1.1387879271325958,
          -1.1771964303269464,
          0.49770729654810775,
          -0.49225229296920164,
          -0.6952465094996354,
          -0.8086997299704495,
          -1.0411247981167544,
          -0.4384926431809672,
          0.26626856425875167,
          -1.541706599668741,
          0.4888846465061334,
          -0.09584712509462173,
          0.8707324662749234,
          -0.5216361161101583,
          -0.5897346278360649,
          -0.4189467267398211
         ],
         "xaxis": "x2",
         "yaxis": "y2"
        },
        {
         "alignmentgroup": "True",
         "bingroup": "x",
         "hovertemplate": "choc=15<br>rating=%{x}<br>count=%{y}<extra></extra>",
         "legendgroup": "15",
         "marker": {
          "color": "#8C564B",
          "pattern": {
           "shape": ""
          }
         },
         "name": "15",
         "offsetgroup": "15",
         "orientation": "v",
         "showlegend": true,
         "type": "histogram",
         "x": [
          0.7471519450759327,
          0.7373649033594316,
          -0.11760159957247973,
          -0.06677454429654245,
          -0.24350853943711778,
          1.2382888866989838,
          -4.105989661822272,
          1.3976787726017015,
          -0.9277203014794538,
          -0.5259227439505932,
          -1.1952783874664425,
          0.3563128954727422,
          -0.5825832698675967,
          -0.7555185793865293,
          -0.8812935955637721,
          0.3506196844356418,
          -0.8974318710954254,
          -2.3763794345650773,
          0.9292654695954756,
          -0.31610092450290356,
          -1.0955419889143794,
          0.21096434089485588,
          0.21167358709784373,
          1.5933185994699692,
          -1.2102170989970178,
          0.6729012404848307,
          -0.12146407582301666,
          -0.9066440876577049,
          -1.4645624239741502,
          -0.6120320563988922,
          0.27964591811918343,
          0.7866268398758567,
          -0.09253967573297756,
          0.8227647794924637,
          0.8173776749094377,
          -0.37968267768856184,
          -1.3953069191359289,
          -0.6029930710533645,
          -0.4541139472433845,
          -1.694835823364712,
          1.1891237078316466,
          -0.1630334412610306,
          -1.0173609460674025,
          -0.6934803718730531,
          -2.7641345525676884,
          0.046236847300352824,
          0.28696751171049245,
          -0.5803185806721056,
          0.44297005001058737,
          -2.811729917790505,
          -2.8372370597668035,
          -2.3955818880410873,
          -0.4700478944592433,
          -0.7361411294819933,
          -1.2236205291910593,
          -0.036615248735879624,
          1.0949256226606485,
          -1.836120199263396,
          0.6066004406868437,
          -0.25297166216042277,
          -0.38339444308588755,
          -0.2769638930320666,
          -0.015695782471944808,
          0.21862494756279355,
          0.08187896107179732,
          -1.4010689614620386,
          2.1463583491082305,
          -1.3168234217567634,
          1.928751186482128,
          -0.5617317674739297,
          -0.6813879618185478,
          -0.1891230801268542,
          -1.264660922210211,
          0.24865398863293892,
          -0.31127382679703663,
          -2.133331444151481,
          -0.7577060601966029,
          -0.893394776871192,
          -0.04092837100329755,
          -0.7796679748775841,
          -1.3497588760239612,
          0.8711768739231978,
          -0.9547234750543947,
          0.2865647571606505,
          -1.0388903747558829,
          -0.5387476844556529,
          -0.4379363062511801,
          1.2923133560968298,
          1.6904228823514447,
          0.16539662370000058,
          -0.21566039665025707,
          -1.1430179119350288,
          -2.972869578576092,
          -0.9711455566689018,
          -2.127768692482087,
          1.345224703277794,
          0.5266689286871289,
          0.322968874233347,
          -0.25563242957149546,
          -0.47076866421858077
         ],
         "xaxis": "x",
         "yaxis": "y"
        },
        {
         "alignmentgroup": "True",
         "boxpoints": "all",
         "fillcolor": "rgba(255,255,255,0)",
         "hoveron": "points",
         "hovertemplate": "choc=15<br>rating=%{x}<extra></extra>",
         "jitter": 0,
         "legendgroup": "15",
         "line": {
          "color": "rgba(255,255,255,0)"
         },
         "marker": {
          "color": "#8C564B",
          "symbol": "line-ns-open"
         },
         "name": "15",
         "offsetgroup": "15",
         "showlegend": false,
         "type": "box",
         "x": [
          0.7471519450759327,
          0.7373649033594316,
          -0.11760159957247973,
          -0.06677454429654245,
          -0.24350853943711778,
          1.2382888866989838,
          -4.105989661822272,
          1.3976787726017015,
          -0.9277203014794538,
          -0.5259227439505932,
          -1.1952783874664425,
          0.3563128954727422,
          -0.5825832698675967,
          -0.7555185793865293,
          -0.8812935955637721,
          0.3506196844356418,
          -0.8974318710954254,
          -2.3763794345650773,
          0.9292654695954756,
          -0.31610092450290356,
          -1.0955419889143794,
          0.21096434089485588,
          0.21167358709784373,
          1.5933185994699692,
          -1.2102170989970178,
          0.6729012404848307,
          -0.12146407582301666,
          -0.9066440876577049,
          -1.4645624239741502,
          -0.6120320563988922,
          0.27964591811918343,
          0.7866268398758567,
          -0.09253967573297756,
          0.8227647794924637,
          0.8173776749094377,
          -0.37968267768856184,
          -1.3953069191359289,
          -0.6029930710533645,
          -0.4541139472433845,
          -1.694835823364712,
          1.1891237078316466,
          -0.1630334412610306,
          -1.0173609460674025,
          -0.6934803718730531,
          -2.7641345525676884,
          0.046236847300352824,
          0.28696751171049245,
          -0.5803185806721056,
          0.44297005001058737,
          -2.811729917790505,
          -2.8372370597668035,
          -2.3955818880410873,
          -0.4700478944592433,
          -0.7361411294819933,
          -1.2236205291910593,
          -0.036615248735879624,
          1.0949256226606485,
          -1.836120199263396,
          0.6066004406868437,
          -0.25297166216042277,
          -0.38339444308588755,
          -0.2769638930320666,
          -0.015695782471944808,
          0.21862494756279355,
          0.08187896107179732,
          -1.4010689614620386,
          2.1463583491082305,
          -1.3168234217567634,
          1.928751186482128,
          -0.5617317674739297,
          -0.6813879618185478,
          -0.1891230801268542,
          -1.264660922210211,
          0.24865398863293892,
          -0.31127382679703663,
          -2.133331444151481,
          -0.7577060601966029,
          -0.893394776871192,
          -0.04092837100329755,
          -0.7796679748775841,
          -1.3497588760239612,
          0.8711768739231978,
          -0.9547234750543947,
          0.2865647571606505,
          -1.0388903747558829,
          -0.5387476844556529,
          -0.4379363062511801,
          1.2923133560968298,
          1.6904228823514447,
          0.16539662370000058,
          -0.21566039665025707,
          -1.1430179119350288,
          -2.972869578576092,
          -0.9711455566689018,
          -2.127768692482087,
          1.345224703277794,
          0.5266689286871289,
          0.322968874233347,
          -0.25563242957149546,
          -0.47076866421858077
         ],
         "xaxis": "x2",
         "yaxis": "y2"
        },
        {
         "alignmentgroup": "True",
         "bingroup": "x",
         "hovertemplate": "choc=16<br>rating=%{x}<br>count=%{y}<extra></extra>",
         "legendgroup": "16",
         "marker": {
          "color": "#E377C2",
          "pattern": {
           "shape": ""
          }
         },
         "name": "16",
         "offsetgroup": "16",
         "orientation": "v",
         "showlegend": true,
         "type": "histogram",
         "x": [
          1.8212025813255408,
          1.171477343848922,
          0.8983297157505381,
          1.6823408298130058,
          2.7341939392562136,
          2.4991108446922192,
          1.9490799722338905,
          3.0605837805153637,
          3.190701490742059,
          2.769339334744262,
          3.412120195188991,
          3.995054573367497,
          1.9687639978532698,
          2.3417745373435683,
          1.292595707962061,
          1.7489462114965708,
          1.9278931669398327,
          2.90080168312959,
          2.359925951022162,
          2.364218600097305,
          1.5768466180439948,
          2.695209276669807,
          2.348935843658702,
          3.7206173195410286,
          3.2451181583403335,
          1.8964365858185137,
          1.604450991393271,
          1.7544476630169652,
          3.200101738345978,
          2.560287537333571,
          0.6756306791647357,
          3.2289962886396113,
          1.4234620654473202,
          1.6791953618929811,
          2.0919339664892442,
          0.6749206805358874,
          3.075274375068385,
          1.6816321877263767,
          3.5875715637001653,
          1.8477255659986167,
          2.293133717561291,
          1.1506675048720034,
          1.6914638328567764,
          2.6689727116968696,
          2.4885947458139444,
          2.283655490626705,
          3.2264104166756806,
          4.264376630154823,
          2.8605619540280727,
          2.511443492098702,
          2.205633723056526,
          2.7889241365481046,
          0.9445651505298469,
          2.0362510276705104,
          3.214911444946754,
          2.0551753803095525,
          2.516439293638932,
          1.1976978345118932,
          1.2334793744132329,
          3.2986750914254754,
          3.4720752740941303,
          3.7064742403782223,
          3.4009221514431287,
          2.956472473041851,
          2.2700887576272675,
          2.7278953293526014,
          2.0207567123613615,
          3.004351895047097,
          1.8707609764264719,
          2.2826284419512866,
          3.9579214828047116,
          0.8327209645311768,
          0.9283809468570696,
          1.327216603553425,
          2.3313435491433414,
          4.080026858448528,
          3.771489081574053,
          1.7256148988425504,
          2.349987744925472,
          2.0525621592962775,
          1.3153249201505566,
          1.753263258112511,
          2.0158129274875796,
          0.931762545718475,
          2.232742874517325,
          2.457134466466681,
          1.7951699534164467,
          1.4531440788129015,
          3.8540720858483093,
          2.567166585735077,
          2.978812559166612,
          2.4346587789877496,
          1.989371261414067,
          3.60697390695743,
          3.1452511524836724,
          3.7363989982570853,
          1.1377563898285588,
          1.4733512304326277,
          1.27398467488557,
          2.2691497335381747
         ],
         "xaxis": "x",
         "yaxis": "y"
        },
        {
         "alignmentgroup": "True",
         "boxpoints": "all",
         "fillcolor": "rgba(255,255,255,0)",
         "hoveron": "points",
         "hovertemplate": "choc=16<br>rating=%{x}<extra></extra>",
         "jitter": 0,
         "legendgroup": "16",
         "line": {
          "color": "rgba(255,255,255,0)"
         },
         "marker": {
          "color": "#E377C2",
          "symbol": "line-ns-open"
         },
         "name": "16",
         "offsetgroup": "16",
         "showlegend": false,
         "type": "box",
         "x": [
          1.8212025813255408,
          1.171477343848922,
          0.8983297157505381,
          1.6823408298130058,
          2.7341939392562136,
          2.4991108446922192,
          1.9490799722338905,
          3.0605837805153637,
          3.190701490742059,
          2.769339334744262,
          3.412120195188991,
          3.995054573367497,
          1.9687639978532698,
          2.3417745373435683,
          1.292595707962061,
          1.7489462114965708,
          1.9278931669398327,
          2.90080168312959,
          2.359925951022162,
          2.364218600097305,
          1.5768466180439948,
          2.695209276669807,
          2.348935843658702,
          3.7206173195410286,
          3.2451181583403335,
          1.8964365858185137,
          1.604450991393271,
          1.7544476630169652,
          3.200101738345978,
          2.560287537333571,
          0.6756306791647357,
          3.2289962886396113,
          1.4234620654473202,
          1.6791953618929811,
          2.0919339664892442,
          0.6749206805358874,
          3.075274375068385,
          1.6816321877263767,
          3.5875715637001653,
          1.8477255659986167,
          2.293133717561291,
          1.1506675048720034,
          1.6914638328567764,
          2.6689727116968696,
          2.4885947458139444,
          2.283655490626705,
          3.2264104166756806,
          4.264376630154823,
          2.8605619540280727,
          2.511443492098702,
          2.205633723056526,
          2.7889241365481046,
          0.9445651505298469,
          2.0362510276705104,
          3.214911444946754,
          2.0551753803095525,
          2.516439293638932,
          1.1976978345118932,
          1.2334793744132329,
          3.2986750914254754,
          3.4720752740941303,
          3.7064742403782223,
          3.4009221514431287,
          2.956472473041851,
          2.2700887576272675,
          2.7278953293526014,
          2.0207567123613615,
          3.004351895047097,
          1.8707609764264719,
          2.2826284419512866,
          3.9579214828047116,
          0.8327209645311768,
          0.9283809468570696,
          1.327216603553425,
          2.3313435491433414,
          4.080026858448528,
          3.771489081574053,
          1.7256148988425504,
          2.349987744925472,
          2.0525621592962775,
          1.3153249201505566,
          1.753263258112511,
          2.0158129274875796,
          0.931762545718475,
          2.232742874517325,
          2.457134466466681,
          1.7951699534164467,
          1.4531440788129015,
          3.8540720858483093,
          2.567166585735077,
          2.978812559166612,
          2.4346587789877496,
          1.989371261414067,
          3.60697390695743,
          3.1452511524836724,
          3.7363989982570853,
          1.1377563898285588,
          1.4733512304326277,
          1.27398467488557,
          2.2691497335381747
         ],
         "xaxis": "x2",
         "yaxis": "y2"
        },
        {
         "alignmentgroup": "True",
         "bingroup": "x",
         "hovertemplate": "choc=17<br>rating=%{x}<br>count=%{y}<extra></extra>",
         "legendgroup": "17",
         "marker": {
          "color": "#7F7F7F",
          "pattern": {
           "shape": ""
          }
         },
         "name": "17",
         "offsetgroup": "17",
         "orientation": "v",
         "showlegend": true,
         "type": "histogram",
         "x": [
          2.1471341445714645,
          1.7578050862426653,
          2.082181355881646,
          2.7549878029875456,
          2.019823085107602,
          1.9944798685663903,
          2.151909781024075,
          2.3030773173368857,
          2.1256411841797207,
          2.2230618452686777,
          1.7399528574440923,
          2.317573607977561,
          1.9760989602207522,
          2.3570704968132423,
          2.83380026804078,
          2.3000667239645187,
          2.2639883632649433,
          2.1557138742895523,
          1.6709922993742143,
          2.6907848362363342,
          2.423051354332194,
          2.178315593242739,
          2.359716894035908,
          2.222226659882671,
          2.1645977223203574,
          2.1342437785509114,
          1.7480820790544942,
          2.515838005799049,
          1.5245248837715728,
          2.1368850690456687,
          2.6993468761734687,
          1.9277607379542485,
          1.9908811514058338,
          2.1676587983017166,
          2.494149153509369,
          2.2264855716825407,
          1.7543362503426523,
          2.1276669820208536,
          2.467493734593401,
          2.234485491136666,
          2.02874056129435,
          2.3021688754454734,
          2.468491332555681,
          2.397745444025033,
          2.3646734720580787,
          2.1713658275261705,
          1.9006898980309057,
          1.9222254138504027,
          1.633771436712757,
          1.9636663707128441,
          1.8149603715889988,
          2.598739456086271,
          2.954284534631496,
          2.3563065820908298,
          2.300621915591911,
          1.994571818100929,
          2.1018634132036533,
          2.158733040691281,
          2.152989829696029,
          2.2896067286099786,
          2.5430587950880947,
          2.586366518285936,
          2.268323705645519,
          2.2727014940424977,
          1.8468466785312392,
          1.9610018686944224,
          2.123478677890088,
          1.8409464713913617,
          2.5913930998811705,
          2.0842841983208342,
          1.9607591452230897,
          2.1735695743249424,
          2.3615146590953584,
          2.4848292443784468,
          1.822857600060134,
          2.660297930664903,
          2.5493450639354247,
          2.511503382340563,
          2.2086219813285366,
          3.0836874349451557,
          2.038828058514643,
          2.792830096500009,
          2.495434484497243,
          1.8292414678300035,
          1.8462702032035718,
          2.082676300407144,
          2.1407201582080564,
          2.2488517217774473,
          1.8936836570791251,
          1.9867953126416658,
          2.55426407343734,
          1.913616961695578,
          2.884241052375519,
          2.6094483396797505,
          2.0407897312231245,
          2.4454757485548004,
          2.0737426843846167,
          2.397034677997296,
          2.436898349979768,
          2.224734747359368
         ],
         "xaxis": "x",
         "yaxis": "y"
        },
        {
         "alignmentgroup": "True",
         "boxpoints": "all",
         "fillcolor": "rgba(255,255,255,0)",
         "hoveron": "points",
         "hovertemplate": "choc=17<br>rating=%{x}<extra></extra>",
         "jitter": 0,
         "legendgroup": "17",
         "line": {
          "color": "rgba(255,255,255,0)"
         },
         "marker": {
          "color": "#7F7F7F",
          "symbol": "line-ns-open"
         },
         "name": "17",
         "offsetgroup": "17",
         "showlegend": false,
         "type": "box",
         "x": [
          2.1471341445714645,
          1.7578050862426653,
          2.082181355881646,
          2.7549878029875456,
          2.019823085107602,
          1.9944798685663903,
          2.151909781024075,
          2.3030773173368857,
          2.1256411841797207,
          2.2230618452686777,
          1.7399528574440923,
          2.317573607977561,
          1.9760989602207522,
          2.3570704968132423,
          2.83380026804078,
          2.3000667239645187,
          2.2639883632649433,
          2.1557138742895523,
          1.6709922993742143,
          2.6907848362363342,
          2.423051354332194,
          2.178315593242739,
          2.359716894035908,
          2.222226659882671,
          2.1645977223203574,
          2.1342437785509114,
          1.7480820790544942,
          2.515838005799049,
          1.5245248837715728,
          2.1368850690456687,
          2.6993468761734687,
          1.9277607379542485,
          1.9908811514058338,
          2.1676587983017166,
          2.494149153509369,
          2.2264855716825407,
          1.7543362503426523,
          2.1276669820208536,
          2.467493734593401,
          2.234485491136666,
          2.02874056129435,
          2.3021688754454734,
          2.468491332555681,
          2.397745444025033,
          2.3646734720580787,
          2.1713658275261705,
          1.9006898980309057,
          1.9222254138504027,
          1.633771436712757,
          1.9636663707128441,
          1.8149603715889988,
          2.598739456086271,
          2.954284534631496,
          2.3563065820908298,
          2.300621915591911,
          1.994571818100929,
          2.1018634132036533,
          2.158733040691281,
          2.152989829696029,
          2.2896067286099786,
          2.5430587950880947,
          2.586366518285936,
          2.268323705645519,
          2.2727014940424977,
          1.8468466785312392,
          1.9610018686944224,
          2.123478677890088,
          1.8409464713913617,
          2.5913930998811705,
          2.0842841983208342,
          1.9607591452230897,
          2.1735695743249424,
          2.3615146590953584,
          2.4848292443784468,
          1.822857600060134,
          2.660297930664903,
          2.5493450639354247,
          2.511503382340563,
          2.2086219813285366,
          3.0836874349451557,
          2.038828058514643,
          2.792830096500009,
          2.495434484497243,
          1.8292414678300035,
          1.8462702032035718,
          2.082676300407144,
          2.1407201582080564,
          2.2488517217774473,
          1.8936836570791251,
          1.9867953126416658,
          2.55426407343734,
          1.913616961695578,
          2.884241052375519,
          2.6094483396797505,
          2.0407897312231245,
          2.4454757485548004,
          2.0737426843846167,
          2.397034677997296,
          2.436898349979768,
          2.224734747359368
         ],
         "xaxis": "x2",
         "yaxis": "y2"
        },
        {
         "alignmentgroup": "True",
         "bingroup": "x",
         "hovertemplate": "choc=18<br>rating=%{x}<br>count=%{y}<extra></extra>",
         "legendgroup": "18",
         "marker": {
          "color": "#BCBD22",
          "pattern": {
           "shape": ""
          }
         },
         "name": "18",
         "offsetgroup": "18",
         "orientation": "v",
         "showlegend": true,
         "type": "histogram",
         "x": [
          0.4288993069950886,
          1.2646027297694153,
          2.349656198455027,
          2.0471166959810336,
          1.949868999251664,
          0.7351136774894278,
          0.7696964965042201,
          0.4812441820200385,
          1.4120245392957032,
          1.0244108221117065,
          0.4089986818587593,
          1.1143058588706218,
          0.9947115921233051,
          1.9243506520457743,
          -0.2928456538873494,
          1.2628992776869294,
          0.8883890607020365,
          0.6400903851957556,
          2.2299972260708336,
          1.0443567942053142,
          -0.6705297252024385,
          1.2180287681365667,
          1.2126766253838197,
          1.0027664757615828,
          1.7376002663623855,
          2.329343236946592,
          1.6308314200761156,
          0.5904041198280987,
          1.0699260936751545,
          -0.4979012026960865,
          1.604923810943598,
          1.5575524717414133,
          1.2109615336663178,
          0.6414283660709229,
          0.48611458452153355,
          1.822118538044737,
          0.6283631102546998,
          0.1786382600628108,
          0.8464979048917618,
          -0.18468240039869088,
          1.6726925288076369,
          1.7072087553021336,
          1.7020484433056549,
          0.778965723587786,
          0.5444849534765057,
          2.0225133107841695,
          1.3270019011662817,
          1.0138777478062158,
          1.456351632005563,
          -0.3179571178662841,
          1.2098243773329005,
          1.4819409313334984,
          -0.1414809905783343,
          0.38234977007874216,
          0.8794607579111595,
          0.14621052392098777,
          0.402246992896097,
          2.491323416370119,
          1.3146416231599374,
          1.3013359674390816,
          0.936690870151117,
          1.3843519852827009,
          1.2164231100522074,
          1.9043150649625074,
          1.1610848814403096,
          1.5794958916314916,
          1.452016745352613,
          1.4117916430851647,
          0.8294162863489534,
          -0.15890541186669171,
          1.7834635902798586,
          1.337854185623184,
          1.1611251300334646,
          0.6534293994236233,
          1.3470499441899206,
          0.9821922670866595,
          0.5907686753404626,
          1.6272569549558793,
          -1.6064971060881736,
          1.3396314335548478,
          0.5500816209413837,
          -0.17595502508126137,
          0.17611774792106039,
          1.1369988319669737,
          1.1319828506057863,
          1.1330160217886578,
          1.800790851264436,
          0.7505271271051759,
          1.6283200584156727,
          -0.13422087217796186,
          1.3444898006218502,
          1.6234960418020634,
          -0.714961983697191,
          1.46362849478862,
          0.9545674874298364,
          0.32308124163391205,
          -0.10138494569466183,
          1.834294652701753,
          -0.27160618131574066,
          0.8439158071658056
         ],
         "xaxis": "x",
         "yaxis": "y"
        },
        {
         "alignmentgroup": "True",
         "boxpoints": "all",
         "fillcolor": "rgba(255,255,255,0)",
         "hoveron": "points",
         "hovertemplate": "choc=18<br>rating=%{x}<extra></extra>",
         "jitter": 0,
         "legendgroup": "18",
         "line": {
          "color": "rgba(255,255,255,0)"
         },
         "marker": {
          "color": "#BCBD22",
          "symbol": "line-ns-open"
         },
         "name": "18",
         "offsetgroup": "18",
         "showlegend": false,
         "type": "box",
         "x": [
          0.4288993069950886,
          1.2646027297694153,
          2.349656198455027,
          2.0471166959810336,
          1.949868999251664,
          0.7351136774894278,
          0.7696964965042201,
          0.4812441820200385,
          1.4120245392957032,
          1.0244108221117065,
          0.4089986818587593,
          1.1143058588706218,
          0.9947115921233051,
          1.9243506520457743,
          -0.2928456538873494,
          1.2628992776869294,
          0.8883890607020365,
          0.6400903851957556,
          2.2299972260708336,
          1.0443567942053142,
          -0.6705297252024385,
          1.2180287681365667,
          1.2126766253838197,
          1.0027664757615828,
          1.7376002663623855,
          2.329343236946592,
          1.6308314200761156,
          0.5904041198280987,
          1.0699260936751545,
          -0.4979012026960865,
          1.604923810943598,
          1.5575524717414133,
          1.2109615336663178,
          0.6414283660709229,
          0.48611458452153355,
          1.822118538044737,
          0.6283631102546998,
          0.1786382600628108,
          0.8464979048917618,
          -0.18468240039869088,
          1.6726925288076369,
          1.7072087553021336,
          1.7020484433056549,
          0.778965723587786,
          0.5444849534765057,
          2.0225133107841695,
          1.3270019011662817,
          1.0138777478062158,
          1.456351632005563,
          -0.3179571178662841,
          1.2098243773329005,
          1.4819409313334984,
          -0.1414809905783343,
          0.38234977007874216,
          0.8794607579111595,
          0.14621052392098777,
          0.402246992896097,
          2.491323416370119,
          1.3146416231599374,
          1.3013359674390816,
          0.936690870151117,
          1.3843519852827009,
          1.2164231100522074,
          1.9043150649625074,
          1.1610848814403096,
          1.5794958916314916,
          1.452016745352613,
          1.4117916430851647,
          0.8294162863489534,
          -0.15890541186669171,
          1.7834635902798586,
          1.337854185623184,
          1.1611251300334646,
          0.6534293994236233,
          1.3470499441899206,
          0.9821922670866595,
          0.5907686753404626,
          1.6272569549558793,
          -1.6064971060881736,
          1.3396314335548478,
          0.5500816209413837,
          -0.17595502508126137,
          0.17611774792106039,
          1.1369988319669737,
          1.1319828506057863,
          1.1330160217886578,
          1.800790851264436,
          0.7505271271051759,
          1.6283200584156727,
          -0.13422087217796186,
          1.3444898006218502,
          1.6234960418020634,
          -0.714961983697191,
          1.46362849478862,
          0.9545674874298364,
          0.32308124163391205,
          -0.10138494569466183,
          1.834294652701753,
          -0.27160618131574066,
          0.8439158071658056
         ],
         "xaxis": "x2",
         "yaxis": "y2"
        },
        {
         "alignmentgroup": "True",
         "bingroup": "x",
         "hovertemplate": "choc=19<br>rating=%{x}<br>count=%{y}<extra></extra>",
         "legendgroup": "19",
         "marker": {
          "color": "#17BECF",
          "pattern": {
           "shape": ""
          }
         },
         "name": "19",
         "offsetgroup": "19",
         "orientation": "v",
         "showlegend": true,
         "type": "histogram",
         "x": [
          -1.1518205695582742,
          0.0230546921286382,
          -1.5531702108764938,
          0.04716568608007288,
          0.24906886964355915,
          0.5202413772480045,
          0.17746246227987927,
          0.38967731060126937,
          0.19549939214555667,
          3.2196185714265697,
          -0.25240536672293945,
          1.1712591051634909,
          1.0433507263398138,
          -1.1166671654879374,
          -0.6943992087771345,
          -0.6851719613916081,
          0.619887416781909,
          -1.9535114292773115,
          0.683186186188356,
          1.4055683876602687,
          -0.865678969166467,
          0.2501465023713359,
          0.619637290817908,
          0.991393997046627,
          0.7149195303098064,
          0.5695662122810159,
          -0.8334931272129991,
          0.02252423692355282,
          1.1532249682918965,
          0.4311999513522306,
          0.723551723804515,
          1.2986985329155432,
          0.5345432139389943,
          0.2533717776316601,
          -0.822192224834172,
          0.0526647093857428,
          0.38611406844820856,
          -0.064678020750642,
          -0.04445366414904367,
          0.5369861664101463,
          1.3419155425981606,
          0.18501845532288805,
          1.2802671438883686,
          1.356195405733338,
          0.42760680941490625,
          1.0766673592239664,
          -0.6782142306112795,
          0.019979952677297297,
          1.0673768043965475,
          1.1922036963421982,
          1.7759494851373003,
          0.6929408740582902,
          0.7174504704971771,
          0.3014070131395952,
          0.6092017499050717,
          0.7220622131372243,
          -0.9787172233924897,
          1.0319403151097704,
          0.6160337045797726,
          0.6713495490736425,
          -0.6701882656679279,
          -1.6818791758891505,
          0.1841886352319086,
          0.3209675930763785,
          0.6952846256383356,
          1.095063620607832,
          0.46970837475186994,
          0.8963045693475343,
          -0.2850553297964823,
          0.1341682689926011,
          1.8703321497518417,
          2.0649222050674885,
          0.8308545054215224,
          0.6558955613671129,
          1.065849104893032,
          0.2666272655426631,
          -0.7780353202232464,
          0.7684197273606649,
          -0.6932898804176348,
          0.5302960291196379,
          1.303171817867218,
          0.9084494627969946,
          -0.5912928449686896,
          1.0443898386199537,
          0.021048315886907143,
          1.805632591190393,
          -0.22818055077627397,
          0.1993338804329063,
          0.6773824878412502,
          -0.8913651224951078,
          -0.697871762147481,
          1.0541624846849542,
          1.1931820619037117,
          0.250353593510816,
          0.2853724398367591,
          0.6829380813288564,
          0.3991822483106581,
          2.144075895162806,
          0.8925162455168988,
          -0.5455025629035616
         ],
         "xaxis": "x",
         "yaxis": "y"
        },
        {
         "alignmentgroup": "True",
         "boxpoints": "all",
         "fillcolor": "rgba(255,255,255,0)",
         "hoveron": "points",
         "hovertemplate": "choc=19<br>rating=%{x}<extra></extra>",
         "jitter": 0,
         "legendgroup": "19",
         "line": {
          "color": "rgba(255,255,255,0)"
         },
         "marker": {
          "color": "#17BECF",
          "symbol": "line-ns-open"
         },
         "name": "19",
         "offsetgroup": "19",
         "showlegend": false,
         "type": "box",
         "x": [
          -1.1518205695582742,
          0.0230546921286382,
          -1.5531702108764938,
          0.04716568608007288,
          0.24906886964355915,
          0.5202413772480045,
          0.17746246227987927,
          0.38967731060126937,
          0.19549939214555667,
          3.2196185714265697,
          -0.25240536672293945,
          1.1712591051634909,
          1.0433507263398138,
          -1.1166671654879374,
          -0.6943992087771345,
          -0.6851719613916081,
          0.619887416781909,
          -1.9535114292773115,
          0.683186186188356,
          1.4055683876602687,
          -0.865678969166467,
          0.2501465023713359,
          0.619637290817908,
          0.991393997046627,
          0.7149195303098064,
          0.5695662122810159,
          -0.8334931272129991,
          0.02252423692355282,
          1.1532249682918965,
          0.4311999513522306,
          0.723551723804515,
          1.2986985329155432,
          0.5345432139389943,
          0.2533717776316601,
          -0.822192224834172,
          0.0526647093857428,
          0.38611406844820856,
          -0.064678020750642,
          -0.04445366414904367,
          0.5369861664101463,
          1.3419155425981606,
          0.18501845532288805,
          1.2802671438883686,
          1.356195405733338,
          0.42760680941490625,
          1.0766673592239664,
          -0.6782142306112795,
          0.019979952677297297,
          1.0673768043965475,
          1.1922036963421982,
          1.7759494851373003,
          0.6929408740582902,
          0.7174504704971771,
          0.3014070131395952,
          0.6092017499050717,
          0.7220622131372243,
          -0.9787172233924897,
          1.0319403151097704,
          0.6160337045797726,
          0.6713495490736425,
          -0.6701882656679279,
          -1.6818791758891505,
          0.1841886352319086,
          0.3209675930763785,
          0.6952846256383356,
          1.095063620607832,
          0.46970837475186994,
          0.8963045693475343,
          -0.2850553297964823,
          0.1341682689926011,
          1.8703321497518417,
          2.0649222050674885,
          0.8308545054215224,
          0.6558955613671129,
          1.065849104893032,
          0.2666272655426631,
          -0.7780353202232464,
          0.7684197273606649,
          -0.6932898804176348,
          0.5302960291196379,
          1.303171817867218,
          0.9084494627969946,
          -0.5912928449686896,
          1.0443898386199537,
          0.021048315886907143,
          1.805632591190393,
          -0.22818055077627397,
          0.1993338804329063,
          0.6773824878412502,
          -0.8913651224951078,
          -0.697871762147481,
          1.0541624846849542,
          1.1931820619037117,
          0.250353593510816,
          0.2853724398367591,
          0.6829380813288564,
          0.3991822483106581,
          2.144075895162806,
          0.8925162455168988,
          -0.5455025629035616
         ],
         "xaxis": "x2",
         "yaxis": "y2"
        }
       ],
       "layout": {
        "barmode": "relative",
        "height": 600,
        "legend": {
         "title": {
          "text": "choc"
         },
         "tracegroupgap": 0
        },
        "margin": {
         "t": 60
        },
        "template": {
         "data": {
          "bar": [
           {
            "error_x": {
             "color": "rgb(36,36,36)"
            },
            "error_y": {
             "color": "rgb(36,36,36)"
            },
            "marker": {
             "line": {
              "color": "white",
              "width": 0.5
             },
             "pattern": {
              "fillmode": "overlay",
              "size": 10,
              "solidity": 0.2
             }
            },
            "type": "bar"
           }
          ],
          "barpolar": [
           {
            "marker": {
             "line": {
              "color": "white",
              "width": 0.5
             },
             "pattern": {
              "fillmode": "overlay",
              "size": 10,
              "solidity": 0.2
             }
            },
            "type": "barpolar"
           }
          ],
          "carpet": [
           {
            "aaxis": {
             "endlinecolor": "rgb(36,36,36)",
             "gridcolor": "white",
             "linecolor": "white",
             "minorgridcolor": "white",
             "startlinecolor": "rgb(36,36,36)"
            },
            "baxis": {
             "endlinecolor": "rgb(36,36,36)",
             "gridcolor": "white",
             "linecolor": "white",
             "minorgridcolor": "white",
             "startlinecolor": "rgb(36,36,36)"
            },
            "type": "carpet"
           }
          ],
          "choropleth": [
           {
            "colorbar": {
             "outlinewidth": 1,
             "tickcolor": "rgb(36,36,36)",
             "ticks": "outside"
            },
            "type": "choropleth"
           }
          ],
          "contour": [
           {
            "colorbar": {
             "outlinewidth": 1,
             "tickcolor": "rgb(36,36,36)",
             "ticks": "outside"
            },
            "colorscale": [
             [
              0,
              "#440154"
             ],
             [
              0.1111111111111111,
              "#482878"
             ],
             [
              0.2222222222222222,
              "#3e4989"
             ],
             [
              0.3333333333333333,
              "#31688e"
             ],
             [
              0.4444444444444444,
              "#26828e"
             ],
             [
              0.5555555555555556,
              "#1f9e89"
             ],
             [
              0.6666666666666666,
              "#35b779"
             ],
             [
              0.7777777777777778,
              "#6ece58"
             ],
             [
              0.8888888888888888,
              "#b5de2b"
             ],
             [
              1,
              "#fde725"
             ]
            ],
            "type": "contour"
           }
          ],
          "contourcarpet": [
           {
            "colorbar": {
             "outlinewidth": 1,
             "tickcolor": "rgb(36,36,36)",
             "ticks": "outside"
            },
            "type": "contourcarpet"
           }
          ],
          "heatmap": [
           {
            "colorbar": {
             "outlinewidth": 1,
             "tickcolor": "rgb(36,36,36)",
             "ticks": "outside"
            },
            "colorscale": [
             [
              0,
              "#440154"
             ],
             [
              0.1111111111111111,
              "#482878"
             ],
             [
              0.2222222222222222,
              "#3e4989"
             ],
             [
              0.3333333333333333,
              "#31688e"
             ],
             [
              0.4444444444444444,
              "#26828e"
             ],
             [
              0.5555555555555556,
              "#1f9e89"
             ],
             [
              0.6666666666666666,
              "#35b779"
             ],
             [
              0.7777777777777778,
              "#6ece58"
             ],
             [
              0.8888888888888888,
              "#b5de2b"
             ],
             [
              1,
              "#fde725"
             ]
            ],
            "type": "heatmap"
           }
          ],
          "heatmapgl": [
           {
            "colorbar": {
             "outlinewidth": 1,
             "tickcolor": "rgb(36,36,36)",
             "ticks": "outside"
            },
            "colorscale": [
             [
              0,
              "#440154"
             ],
             [
              0.1111111111111111,
              "#482878"
             ],
             [
              0.2222222222222222,
              "#3e4989"
             ],
             [
              0.3333333333333333,
              "#31688e"
             ],
             [
              0.4444444444444444,
              "#26828e"
             ],
             [
              0.5555555555555556,
              "#1f9e89"
             ],
             [
              0.6666666666666666,
              "#35b779"
             ],
             [
              0.7777777777777778,
              "#6ece58"
             ],
             [
              0.8888888888888888,
              "#b5de2b"
             ],
             [
              1,
              "#fde725"
             ]
            ],
            "type": "heatmapgl"
           }
          ],
          "histogram": [
           {
            "marker": {
             "line": {
              "color": "white",
              "width": 0.6
             }
            },
            "type": "histogram"
           }
          ],
          "histogram2d": [
           {
            "colorbar": {
             "outlinewidth": 1,
             "tickcolor": "rgb(36,36,36)",
             "ticks": "outside"
            },
            "colorscale": [
             [
              0,
              "#440154"
             ],
             [
              0.1111111111111111,
              "#482878"
             ],
             [
              0.2222222222222222,
              "#3e4989"
             ],
             [
              0.3333333333333333,
              "#31688e"
             ],
             [
              0.4444444444444444,
              "#26828e"
             ],
             [
              0.5555555555555556,
              "#1f9e89"
             ],
             [
              0.6666666666666666,
              "#35b779"
             ],
             [
              0.7777777777777778,
              "#6ece58"
             ],
             [
              0.8888888888888888,
              "#b5de2b"
             ],
             [
              1,
              "#fde725"
             ]
            ],
            "type": "histogram2d"
           }
          ],
          "histogram2dcontour": [
           {
            "colorbar": {
             "outlinewidth": 1,
             "tickcolor": "rgb(36,36,36)",
             "ticks": "outside"
            },
            "colorscale": [
             [
              0,
              "#440154"
             ],
             [
              0.1111111111111111,
              "#482878"
             ],
             [
              0.2222222222222222,
              "#3e4989"
             ],
             [
              0.3333333333333333,
              "#31688e"
             ],
             [
              0.4444444444444444,
              "#26828e"
             ],
             [
              0.5555555555555556,
              "#1f9e89"
             ],
             [
              0.6666666666666666,
              "#35b779"
             ],
             [
              0.7777777777777778,
              "#6ece58"
             ],
             [
              0.8888888888888888,
              "#b5de2b"
             ],
             [
              1,
              "#fde725"
             ]
            ],
            "type": "histogram2dcontour"
           }
          ],
          "mesh3d": [
           {
            "colorbar": {
             "outlinewidth": 1,
             "tickcolor": "rgb(36,36,36)",
             "ticks": "outside"
            },
            "type": "mesh3d"
           }
          ],
          "parcoords": [
           {
            "line": {
             "colorbar": {
              "outlinewidth": 1,
              "tickcolor": "rgb(36,36,36)",
              "ticks": "outside"
             }
            },
            "type": "parcoords"
           }
          ],
          "pie": [
           {
            "automargin": true,
            "type": "pie"
           }
          ],
          "scatter": [
           {
            "fillpattern": {
             "fillmode": "overlay",
             "size": 10,
             "solidity": 0.2
            },
            "type": "scatter"
           }
          ],
          "scatter3d": [
           {
            "line": {
             "colorbar": {
              "outlinewidth": 1,
              "tickcolor": "rgb(36,36,36)",
              "ticks": "outside"
             }
            },
            "marker": {
             "colorbar": {
              "outlinewidth": 1,
              "tickcolor": "rgb(36,36,36)",
              "ticks": "outside"
             }
            },
            "type": "scatter3d"
           }
          ],
          "scattercarpet": [
           {
            "marker": {
             "colorbar": {
              "outlinewidth": 1,
              "tickcolor": "rgb(36,36,36)",
              "ticks": "outside"
             }
            },
            "type": "scattercarpet"
           }
          ],
          "scattergeo": [
           {
            "marker": {
             "colorbar": {
              "outlinewidth": 1,
              "tickcolor": "rgb(36,36,36)",
              "ticks": "outside"
             }
            },
            "type": "scattergeo"
           }
          ],
          "scattergl": [
           {
            "marker": {
             "colorbar": {
              "outlinewidth": 1,
              "tickcolor": "rgb(36,36,36)",
              "ticks": "outside"
             }
            },
            "type": "scattergl"
           }
          ],
          "scattermapbox": [
           {
            "marker": {
             "colorbar": {
              "outlinewidth": 1,
              "tickcolor": "rgb(36,36,36)",
              "ticks": "outside"
             }
            },
            "type": "scattermapbox"
           }
          ],
          "scatterpolar": [
           {
            "marker": {
             "colorbar": {
              "outlinewidth": 1,
              "tickcolor": "rgb(36,36,36)",
              "ticks": "outside"
             }
            },
            "type": "scatterpolar"
           }
          ],
          "scatterpolargl": [
           {
            "marker": {
             "colorbar": {
              "outlinewidth": 1,
              "tickcolor": "rgb(36,36,36)",
              "ticks": "outside"
             }
            },
            "type": "scatterpolargl"
           }
          ],
          "scatterternary": [
           {
            "marker": {
             "colorbar": {
              "outlinewidth": 1,
              "tickcolor": "rgb(36,36,36)",
              "ticks": "outside"
             }
            },
            "type": "scatterternary"
           }
          ],
          "surface": [
           {
            "colorbar": {
             "outlinewidth": 1,
             "tickcolor": "rgb(36,36,36)",
             "ticks": "outside"
            },
            "colorscale": [
             [
              0,
              "#440154"
             ],
             [
              0.1111111111111111,
              "#482878"
             ],
             [
              0.2222222222222222,
              "#3e4989"
             ],
             [
              0.3333333333333333,
              "#31688e"
             ],
             [
              0.4444444444444444,
              "#26828e"
             ],
             [
              0.5555555555555556,
              "#1f9e89"
             ],
             [
              0.6666666666666666,
              "#35b779"
             ],
             [
              0.7777777777777778,
              "#6ece58"
             ],
             [
              0.8888888888888888,
              "#b5de2b"
             ],
             [
              1,
              "#fde725"
             ]
            ],
            "type": "surface"
           }
          ],
          "table": [
           {
            "cells": {
             "fill": {
              "color": "rgb(237,237,237)"
             },
             "line": {
              "color": "white"
             }
            },
            "header": {
             "fill": {
              "color": "rgb(217,217,217)"
             },
             "line": {
              "color": "white"
             }
            },
            "type": "table"
           }
          ]
         },
         "layout": {
          "annotationdefaults": {
           "arrowhead": 0,
           "arrowwidth": 1
          },
          "autotypenumbers": "strict",
          "coloraxis": {
           "colorbar": {
            "outlinewidth": 1,
            "tickcolor": "rgb(36,36,36)",
            "ticks": "outside"
           }
          },
          "colorscale": {
           "diverging": [
            [
             0,
             "rgb(103,0,31)"
            ],
            [
             0.1,
             "rgb(178,24,43)"
            ],
            [
             0.2,
             "rgb(214,96,77)"
            ],
            [
             0.3,
             "rgb(244,165,130)"
            ],
            [
             0.4,
             "rgb(253,219,199)"
            ],
            [
             0.5,
             "rgb(247,247,247)"
            ],
            [
             0.6,
             "rgb(209,229,240)"
            ],
            [
             0.7,
             "rgb(146,197,222)"
            ],
            [
             0.8,
             "rgb(67,147,195)"
            ],
            [
             0.9,
             "rgb(33,102,172)"
            ],
            [
             1,
             "rgb(5,48,97)"
            ]
           ],
           "sequential": [
            [
             0,
             "#440154"
            ],
            [
             0.1111111111111111,
             "#482878"
            ],
            [
             0.2222222222222222,
             "#3e4989"
            ],
            [
             0.3333333333333333,
             "#31688e"
            ],
            [
             0.4444444444444444,
             "#26828e"
            ],
            [
             0.5555555555555556,
             "#1f9e89"
            ],
            [
             0.6666666666666666,
             "#35b779"
            ],
            [
             0.7777777777777778,
             "#6ece58"
            ],
            [
             0.8888888888888888,
             "#b5de2b"
            ],
            [
             1,
             "#fde725"
            ]
           ],
           "sequentialminus": [
            [
             0,
             "#440154"
            ],
            [
             0.1111111111111111,
             "#482878"
            ],
            [
             0.2222222222222222,
             "#3e4989"
            ],
            [
             0.3333333333333333,
             "#31688e"
            ],
            [
             0.4444444444444444,
             "#26828e"
            ],
            [
             0.5555555555555556,
             "#1f9e89"
            ],
            [
             0.6666666666666666,
             "#35b779"
            ],
            [
             0.7777777777777778,
             "#6ece58"
            ],
            [
             0.8888888888888888,
             "#b5de2b"
            ],
            [
             1,
             "#fde725"
            ]
           ]
          },
          "colorway": [
           "#1F77B4",
           "#FF7F0E",
           "#2CA02C",
           "#D62728",
           "#9467BD",
           "#8C564B",
           "#E377C2",
           "#7F7F7F",
           "#BCBD22",
           "#17BECF"
          ],
          "font": {
           "color": "rgb(36,36,36)"
          },
          "geo": {
           "bgcolor": "white",
           "lakecolor": "white",
           "landcolor": "white",
           "showlakes": true,
           "showland": true,
           "subunitcolor": "white"
          },
          "hoverlabel": {
           "align": "left"
          },
          "hovermode": "closest",
          "mapbox": {
           "style": "light"
          },
          "paper_bgcolor": "white",
          "plot_bgcolor": "white",
          "polar": {
           "angularaxis": {
            "gridcolor": "rgb(232,232,232)",
            "linecolor": "rgb(36,36,36)",
            "showgrid": false,
            "showline": true,
            "ticks": "outside"
           },
           "bgcolor": "white",
           "radialaxis": {
            "gridcolor": "rgb(232,232,232)",
            "linecolor": "rgb(36,36,36)",
            "showgrid": false,
            "showline": true,
            "ticks": "outside"
           }
          },
          "scene": {
           "xaxis": {
            "backgroundcolor": "white",
            "gridcolor": "rgb(232,232,232)",
            "gridwidth": 2,
            "linecolor": "rgb(36,36,36)",
            "showbackground": true,
            "showgrid": false,
            "showline": true,
            "ticks": "outside",
            "zeroline": false,
            "zerolinecolor": "rgb(36,36,36)"
           },
           "yaxis": {
            "backgroundcolor": "white",
            "gridcolor": "rgb(232,232,232)",
            "gridwidth": 2,
            "linecolor": "rgb(36,36,36)",
            "showbackground": true,
            "showgrid": false,
            "showline": true,
            "ticks": "outside",
            "zeroline": false,
            "zerolinecolor": "rgb(36,36,36)"
           },
           "zaxis": {
            "backgroundcolor": "white",
            "gridcolor": "rgb(232,232,232)",
            "gridwidth": 2,
            "linecolor": "rgb(36,36,36)",
            "showbackground": true,
            "showgrid": false,
            "showline": true,
            "ticks": "outside",
            "zeroline": false,
            "zerolinecolor": "rgb(36,36,36)"
           }
          },
          "shapedefaults": {
           "fillcolor": "black",
           "line": {
            "width": 0
           },
           "opacity": 0.3
          },
          "ternary": {
           "aaxis": {
            "gridcolor": "rgb(232,232,232)",
            "linecolor": "rgb(36,36,36)",
            "showgrid": false,
            "showline": true,
            "ticks": "outside"
           },
           "baxis": {
            "gridcolor": "rgb(232,232,232)",
            "linecolor": "rgb(36,36,36)",
            "showgrid": false,
            "showline": true,
            "ticks": "outside"
           },
           "bgcolor": "white",
           "caxis": {
            "gridcolor": "rgb(232,232,232)",
            "linecolor": "rgb(36,36,36)",
            "showgrid": false,
            "showline": true,
            "ticks": "outside"
           }
          },
          "title": {
           "x": 0.05
          },
          "xaxis": {
           "automargin": true,
           "gridcolor": "rgb(232,232,232)",
           "linecolor": "rgb(36,36,36)",
           "showgrid": false,
           "showline": true,
           "ticks": "outside",
           "title": {
            "standoff": 15
           },
           "zeroline": false,
           "zerolinecolor": "rgb(36,36,36)"
          },
          "yaxis": {
           "automargin": true,
           "gridcolor": "rgb(232,232,232)",
           "linecolor": "rgb(36,36,36)",
           "showgrid": false,
           "showline": true,
           "ticks": "outside",
           "title": {
            "standoff": 15
           },
           "zeroline": false,
           "zerolinecolor": "rgb(36,36,36)"
          }
         }
        },
        "width": 1000,
        "xaxis": {
         "anchor": "y",
         "domain": [
          0,
          1
         ],
         "title": {
          "text": "rating"
         }
        },
        "xaxis2": {
         "anchor": "y2",
         "domain": [
          0,
          1
         ],
         "matches": "x",
         "showticklabels": false
        },
        "yaxis": {
         "anchor": "x",
         "domain": [
          0,
          0.7326
         ],
         "title": {
          "text": "count"
         }
        },
        "yaxis2": {
         "anchor": "x2",
         "domain": [
          0.7426,
          1
         ],
         "matches": "y2",
         "showline": false,
         "showticklabels": false,
         "ticks": ""
        }
       }
      }
     },
     "metadata": {},
     "output_type": "display_data"
    }
   ],
   "source": [
    "sim_viz.plot_ratings(color='choc',\n",
    "                     marginal='rug')"
   ]
  },
  {
   "attachments": {},
   "cell_type": "markdown",
   "metadata": {},
   "source": [
    "Plotting the ratings given by all people to each chocolate separately highlights the effects of the assumptions in the generative model. The location of ratings along the scale for chocolates differs, with some chocolates having high appeal and other chocolates low appeal. It is also apparent that for some chocolates the appeal ratings are tightly concentrated in one part of the appeal scale, while for others there is a wide spread of ratings. This is the results of the generative model assuming that population level standard deviaitions in appeal differ across chocolates, so that some chocolates are rated similarly by everyone, while other chocolates are more divisive and have a wide range of ratings given."
   ]
  },
  {
   "cell_type": "code",
   "execution_count": 9,
   "metadata": {},
   "outputs": [
    {
     "data": {
      "application/vnd.plotly.v1+json": {
       "config": {
        "plotlyServerURL": "https://plot.ly"
       },
       "data": [
        {
         "alignmentgroup": "True",
         "bingroup": "x",
         "hovertemplate": "choc=0<br>rating=%{x}<br>count=%{y}<extra></extra>",
         "legendgroup": "",
         "marker": {
          "color": "#1F77B4",
          "pattern": {
           "shape": ""
          }
         },
         "name": "",
         "offsetgroup": "",
         "orientation": "v",
         "showlegend": false,
         "type": "histogram",
         "x": [
          -1.5838481432233331,
          -0.2762942190674751,
          -0.6716545449400231,
          -1.2634484884105748,
          -1.616552491226997,
          -1.0725315059629685,
          -1.0253700889887234,
          -0.6321590295551539,
          -1.8952450828503447,
          -0.8980842238468557,
          -1.0895830035461391,
          -1.8923572898831118,
          -0.592348029607864,
          -1.612836626964789,
          -1.414683151067564,
          -1.3444496192478586,
          -0.576375080265944,
          -0.09649889575794357,
          -1.9756364075837327,
          -0.3309596000214241,
          -1.1109888838431574,
          -1.7067053664700484,
          -0.6007436630668795,
          -2.454020151644742,
          -1.8045722332645266,
          -1.1544108581087664,
          -1.5747696279201433,
          -0.3501724199248294,
          -1.0647354557927737,
          -0.10207359047577791,
          -1.9056118263885633,
          -0.5111963520550286,
          -1.060841174125691,
          -0.5220522662292273,
          -1.2689039215564346,
          -0.29135959184130333,
          -1.2128022223568058,
          -1.1637550317449468,
          -0.593569433395562,
          -1.0705608737115166,
          -0.8892890857628395,
          -1.3923128710513224,
          -0.7301687976080036,
          -0.8105071101317113,
          -3.1276452532556913,
          -2.287402801771239,
          -1.261429364944741,
          -1.5684502879291828,
          -1.3253423094925612,
          -1.6576628853971032,
          -0.22667128706435924,
          -0.9824292355182576,
          -1.5014576400055777,
          -0.01804172797933412,
          -0.9160831255107901,
          -0.758748594388809,
          -0.3979585939716369,
          -0.36884134188647677,
          -1.7733479366161644,
          -0.24372699182409419,
          -0.9121873529739277,
          -1.670667891164745,
          -2.04267740040195,
          -1.332750765426799,
          -1.181790716824552,
          -1.3789761257521707,
          -0.8253359578940856,
          -0.4489687357464218,
          -0.8233856741763561,
          -2.13205846915665,
          -0.9360206830295412,
          -1.2939771501883581,
          -0.08135754310509902,
          -1.2832102071390723,
          -2.2942464323583556,
          -1.197480781639323,
          -2.97494334176089,
          -1.4392329796503214,
          -1.9093280437422369,
          -1.6422088621545208,
          -1.1711117989963569,
          -0.9467672654655553,
          -0.8201676426574784,
          -2.347246231180815,
          -0.17175300644226354,
          -1.5753155388002018,
          -1.7509749401000705,
          -1.2792107241575255,
          -0.8238090550907726,
          -1.0768878607796328,
          -0.524647004677533,
          -2.0873274683856193,
          -0.9959864342003327,
          -0.8161153363382727,
          -0.5393446059375113,
          -1.3754630968724382,
          -0.8648476221809596,
          -2.2295924556137727,
          -0.06445438362370615,
          -0.75903426299222
         ],
         "xaxis": "x16",
         "yaxis": "y16"
        },
        {
         "alignmentgroup": "True",
         "bingroup": "x",
         "hovertemplate": "choc=1<br>rating=%{x}<br>count=%{y}<extra></extra>",
         "legendgroup": "",
         "marker": {
          "color": "#1F77B4",
          "pattern": {
           "shape": ""
          }
         },
         "name": "",
         "offsetgroup": "",
         "orientation": "v",
         "showlegend": false,
         "type": "histogram",
         "x": [
          1.6876498425029143,
          0.39909205385320945,
          -0.7203660387915773,
          0.517863085399236,
          1.1104315920421928,
          0.8288960805267279,
          2.2649366027918045,
          0.47791642295913395,
          0.5180117616581578,
          1.2402205725730229,
          0.8590477601646037,
          -0.031192439403434857,
          0.27740392800400937,
          -0.17190879105274703,
          0.6084750217769093,
          1.5822439563794277,
          0.12236693444520386,
          0.5371376062002478,
          2.4720374083194985,
          0.5189181451351024,
          2.2556565648368463,
          0.7822968184848804,
          1.0578254734520312,
          0.36674631865434626,
          -0.2625111177158599,
          1.1938440568820197,
          -0.044841063931973624,
          0.31285720470542333,
          1.8190676262068595,
          0.19828374299544937,
          1.6461946727381087,
          1.481035021895379,
          0.1736147598688491,
          1.3528528627041128,
          0.9599654962683382,
          -0.22480740435883062,
          -0.7761283742731215,
          -0.7470255429929817,
          -0.5724966964650464,
          1.1625347513481803,
          -0.1291307131394821,
          0.1532596712901909,
          1.3617407605746132,
          0.38219751659378065,
          0.3772763907010023,
          -0.07083033336535793,
          1.0183719830337268,
          1.4902773080904121,
          1.1357879872204113,
          0.3329919063795085,
          0.6572334485298685,
          0.8427490676412068,
          2.3657301879245765,
          1.415322773074002,
          1.5549317266361915,
          0.742804304970842,
          0.19235316565779392,
          1.1544990257363756,
          0.931220703890716,
          0.41084640668638583,
          -0.21568044865119207,
          0.8571320046903453,
          1.8538620921129554,
          2.0172428871467836,
          1.3056821663704299,
          0.3058396344306692,
          0.8150333541456107,
          1.238297922202454,
          0.6090723303931487,
          1.1386179615690497,
          2.300832861008164,
          2.0098339097829783,
          2.4237853479808167,
          0.8080881572776965,
          -0.17410716206308652,
          -0.47186843836611114,
          1.8964269194793473,
          1.922585190581629,
          1.1718453807497222,
          1.5557721438168688,
          1.8980765281269294,
          1.8822026839699548,
          0.6307567694600704,
          2.757924654910635,
          0.5875275634959158,
          -0.10583530140460251,
          -1.2935779579904203,
          0.44825387106070747,
          0.763279748708114,
          0.25074301800189713,
          0.13339489157957352,
          1.352219354193819,
          1.0195575888484623,
          2.1139220900928777,
          0.9771727504404147,
          0.22449557020303346,
          2.075984020459617,
          -0.045999610227218435,
          0.5317464525237201,
          1.5567177134788577
         ],
         "xaxis": "x17",
         "yaxis": "y17"
        },
        {
         "alignmentgroup": "True",
         "bingroup": "x",
         "hovertemplate": "choc=2<br>rating=%{x}<br>count=%{y}<extra></extra>",
         "legendgroup": "",
         "marker": {
          "color": "#1F77B4",
          "pattern": {
           "shape": ""
          }
         },
         "name": "",
         "offsetgroup": "",
         "orientation": "v",
         "showlegend": false,
         "type": "histogram",
         "x": [
          0.3599200847554356,
          0.6896209037097527,
          0.45735856424861265,
          0.3125404503396232,
          0.5932446696547417,
          0.3157915844069605,
          0.6245955377607364,
          0.8217650088928903,
          0.22294663233055156,
          0.3441773452481969,
          0.2532448471001165,
          -0.08869202444308699,
          0.12160189240746214,
          0.1909855910798267,
          0.5125875349072606,
          0.1816805411252101,
          -0.03671030084625371,
          0.1627762938839008,
          0.11440472267247517,
          0.1853854646189409,
          -0.17494124120681537,
          -0.3612628642161422,
          0.21799081884431892,
          0.1384523021077937,
          0.1672912775811699,
          -0.07764299035496453,
          0.5214703030428549,
          0.3479143560460276,
          0.4253661209545636,
          0.13020172201385605,
          0.11653975186789764,
          0.31158092124137904,
          0.6779743533963614,
          0.47194571711631117,
          0.2700513841930047,
          -0.09920052693858589,
          -0.0595886918401598,
          0.05758136747768622,
          0.20608529369564996,
          0.06710456748867985,
          0.1869314679368142,
          -0.10152589508809906,
          0.727495200593445,
          0.5179688219740435,
          0.010644107821869309,
          0.2035976349938152,
          0.4961959029819792,
          0.4587995804318613,
          0.21090312166726122,
          0.09760592867791851,
          0.33461604379767385,
          0.3667588769026407,
          0.4673992163795383,
          0.20702709094763228,
          -0.3978395068395675,
          0.275891812079112,
          0.3927650416462559,
          0.609281258279724,
          0.33701495853843966,
          0.3212493732883735,
          0.18094587397664028,
          0.19317396448739388,
          0.1665303699754747,
          0.37470808168439185,
          0.49541453130894353,
          0.08794365835669449,
          0.1541738886962182,
          0.469312015747559,
          0.4690860645714908,
          0.1553499433141055,
          0.4034218167833703,
          0.3182287062421773,
          0.15393330454096785,
          0.6360156902649283,
          0.5500034131558516,
          0.373001932118646,
          0.4207808893849232,
          0.1547092850932365,
          0.18890907014744923,
          -0.06975524747174672,
          -0.08874547913730702,
          -0.05665168378458224,
          0.09353160115945017,
          -0.0009558044779657271,
          -0.0821725105896201,
          0.3922906818516695,
          0.674851026144687,
          0.2329567377606312,
          0.28214385434038813,
          0.6799694549505578,
          0.31018715389523327,
          0.03530299113993901,
          0.23488439458207477,
          0.24047891673422456,
          0.32416503778730393,
          0.3513376820651839,
          0.24261296086275216,
          0.5513693771548553,
          0.42427907928515673,
          -0.4678962187592953
         ],
         "xaxis": "x18",
         "yaxis": "y18"
        },
        {
         "alignmentgroup": "True",
         "bingroup": "x",
         "hovertemplate": "choc=3<br>rating=%{x}<br>count=%{y}<extra></extra>",
         "legendgroup": "",
         "marker": {
          "color": "#1F77B4",
          "pattern": {
           "shape": ""
          }
         },
         "name": "",
         "offsetgroup": "",
         "orientation": "v",
         "showlegend": false,
         "type": "histogram",
         "x": [
          -1.9598900229904284,
          -1.2301876921327828,
          -0.6176502392240867,
          -1.250397908654063,
          -1.3924859499374582,
          -1.2653579293895991,
          -1.6290541895424768,
          -1.2708906653110768,
          -1.6299789849950637,
          -1.8395171972965294,
          -1.7058697804224625,
          -1.6640251634552568,
          -1.2972846899509145,
          -1.978173683123575,
          -1.6282768481957293,
          -1.275108851485592,
          -1.808230562840655,
          -1.9540416117333472,
          -1.8772958753979747,
          -1.468518707711232,
          -1.7110666309746676,
          -1.0758001443697187,
          -1.1883680486399066,
          -1.6253018027544626,
          -1.088848621576003,
          -1.504232627100445,
          -1.4514727479096556,
          -1.6336151608005258,
          -1.5864668269936486,
          -0.8891604549501327,
          -1.7132147544478542,
          -1.6115564379050518,
          -1.376015987144986,
          -1.8971951024828062,
          -1.5590343863568021,
          -2.164863610751995,
          -1.1445530031310471,
          -1.4487569804453648,
          -1.4673890971801196,
          -1.218343430874455,
          -2.132399893794865,
          -2.1198216616571277,
          -1.5927377030683794,
          -1.6137713814661132,
          -1.9352373157579499,
          -1.6122325296490418,
          -1.2977406035903745,
          -1.8480923657004258,
          -1.8005687894833788,
          -1.7389510149987353,
          -1.5282095640265763,
          -1.4085996499172175,
          -1.4090034397321505,
          -1.6951332035895628,
          -1.368327007563727,
          -1.5187121788909543,
          -2.149092992170485,
          -1.1680729189093906,
          -1.7007906080766857,
          -1.6407833310555473,
          -1.015549881509136,
          -0.9393243455391631,
          -1.4259759315435772,
          -1.3912781888668735,
          -1.3114038778960042,
          -1.6881795473200447,
          -1.5964582178823201,
          -1.3546715270275504,
          -2.1346566432257537,
          -1.2164357717052905,
          -1.571065210151376,
          -1.4849670774424526,
          -1.590143482040685,
          -1.7117004082670864,
          -1.269711779299247,
          -2.0244436395717966,
          -1.228305380144563,
          -1.3195616681125413,
          -1.0563035000460133,
          -1.864251221338134,
          -1.568262728437245,
          -1.087178167266683,
          -1.634119042063136,
          -2.1511301412979935,
          -1.4424669558245262,
          -1.3611994705247308,
          -1.7770506732304057,
          -1.4332088003377508,
          -1.678866956086617,
          -1.1077653595956811,
          -2.109311237114049,
          -1.217524306955079,
          -1.0574910448171109,
          -1.099182257176544,
          -1.476066924786811,
          -1.2288754503192203,
          -1.5009690171075818,
          -1.2118119803235743,
          -1.230123034755086,
          -1.967759668607437
         ],
         "xaxis": "x19",
         "yaxis": "y19"
        },
        {
         "alignmentgroup": "True",
         "bingroup": "x",
         "hovertemplate": "choc=4<br>rating=%{x}<br>count=%{y}<extra></extra>",
         "legendgroup": "",
         "marker": {
          "color": "#1F77B4",
          "pattern": {
           "shape": ""
          }
         },
         "name": "",
         "offsetgroup": "",
         "orientation": "v",
         "showlegend": false,
         "type": "histogram",
         "x": [
          0.04084110777294481,
          -0.7161677010379777,
          -0.58936322500574,
          0.12449040706528758,
          -0.3353563950077756,
          -0.2876713391734621,
          -0.8183884792589787,
          -0.5813568840935855,
          -0.16051008082388196,
          -0.38809742149148097,
          -0.14585511737478418,
          -0.7337158642056532,
          -0.6415423840512957,
          -0.3499236409769513,
          -1.406901201753374,
          -1.0098904193468874,
          -0.7298615413217666,
          -0.5823853750219521,
          -0.7780846978218696,
          -0.09197955530227608,
          -0.1489580073315958,
          -0.316289086657779,
          -0.027548698422203866,
          -0.7745732379910684,
          -0.7233224006546972,
          0.17140826115559127,
          -0.9247900812043872,
          -0.06523225785209819,
          -0.6975570525210605,
          -0.5895529793223938,
          -0.5824912995529329,
          -0.9016480213207432,
          -0.6883180867396392,
          -0.7461752755283242,
          -0.6519722744361705,
          -1.7999456868127415,
          -0.8677360085150132,
          -1.1554689264191405,
          -0.5333350512158829,
          -0.752270997243165,
          0.10998445032007476,
          -0.6944146021246209,
          -0.7062228987812923,
          -0.5685251085012588,
          -0.15915326151310738,
          -0.42489609985531407,
          -0.7643830056679676,
          -0.371042317296745,
          -0.5243056763496889,
          -1.1978014663391492,
          -0.3888308489700546,
          -1.6113080350312465,
          -0.4890644868082275,
          -0.2843488048547933,
          -0.42744528647421354,
          -1.0385068078170652,
          -0.8659508301819925,
          -0.8482519241377495,
          -0.3105637389264803,
          -0.4688659996182349,
          -0.21851002685712395,
          -1.3129156982093706,
          -0.8541543349478493,
          -0.8444078888388418,
          -0.6776432249057875,
          0.38915112079652336,
          -0.24243529505184613,
          -0.2965653190287985,
          -0.23890953004874999,
          -0.8095418326735055,
          -0.552401622317912,
          -0.6111888827113338,
          -1.3059976336301529,
          -0.7152437069471036,
          -1.1109088094465012,
          -0.9331719213094534,
          -0.7557170495670478,
          -0.8259224747387443,
          -1.3663051710849619,
          -0.6460749594375261,
          -1.8170718589013912,
          -0.5692226455767642,
          -0.7301369998199141,
          -0.932135790979719,
          -0.925905350594087,
          -0.22885761131617133,
          -0.08800319705202858,
          -0.12673589733617913,
          -1.376242803214733,
          -1.2154369450556097,
          -0.4050622219294838,
          -0.7043786033473597,
          -0.059630383269006715,
          -0.04674228743604114,
          -0.9175473175777393,
          -1.1291930888548132,
          -0.8642212113266883,
          -1.2430883012035623,
          -0.3207166469420366,
          -0.7327487368215377
         ],
         "xaxis": "x20",
         "yaxis": "y20"
        },
        {
         "alignmentgroup": "True",
         "bingroup": "x",
         "hovertemplate": "choc=5<br>rating=%{x}<br>count=%{y}<extra></extra>",
         "legendgroup": "",
         "marker": {
          "color": "#1F77B4",
          "pattern": {
           "shape": ""
          }
         },
         "name": "",
         "offsetgroup": "",
         "orientation": "v",
         "showlegend": false,
         "type": "histogram",
         "x": [
          1.8969681738983875,
          1.3211450022940738,
          1.6618213158280701,
          1.5692417915863306,
          1.586929571263988,
          1.378169352451183,
          0.873674660084618,
          1.5885774723798898,
          1.219912341989563,
          1.5544215628632319,
          1.5438374916151334,
          1.4438335570507597,
          2.051899490799827,
          1.5216532169113073,
          1.6781209145599947,
          1.6694707173273222,
          1.6847129497985023,
          1.9485470866830579,
          1.4247901835146157,
          1.6949288397348992,
          1.5992433493083564,
          2.2550734437379636,
          2.058240754806652,
          1.7770008071934684,
          2.1084663337258216,
          2.0493408603779133,
          1.8566204090849143,
          1.7429429375081642,
          1.2985678022266436,
          1.4274921525762894,
          1.827180187486606,
          1.7387965480507068,
          1.8865076554936135,
          2.2136456732432683,
          2.049439679449918,
          1.3353792365397104,
          1.3686524836264122,
          2.036637708345927,
          1.2928473162061365,
          1.52276707005667,
          1.751981716707723,
          1.3797592114732953,
          1.6158702063843853,
          2.0584739586349134,
          1.9036396480056437,
          1.2904175291211908,
          1.1114730173298066,
          1.083107679496913,
          2.011058298544016,
          1.7466675761287038,
          1.9192630965182809,
          1.724720661473254,
          1.6853894702302425,
          1.408023656505716,
          1.9579503689281892,
          1.7498621103454741,
          1.8733552511394407,
          1.290429296169568,
          1.6038513811615478,
          1.3232758139817142,
          1.801764477324059,
          1.6318916838647954,
          1.8089585849991525,
          1.546487544511495,
          1.3487248641864926,
          1.3810134400068712,
          1.4438965518429543,
          1.6384630738652952,
          1.7096649017213599,
          1.5064718885431725,
          1.7510014260888342,
          1.160598943032982,
          1.4339125586498622,
          1.877701123603653,
          2.042466212218611,
          1.6914100562128411,
          1.5086535697235757,
          1.7558144406684644,
          1.481462942331964,
          1.259797484911308,
          1.4891935737744768,
          2.210898603117154,
          1.2701868386922148,
          1.4651501971209924,
          1.3702619439289707,
          1.8185097942373978,
          1.8497245639783384,
          1.0052189480444467,
          1.7101686624778054,
          2.072243662228742,
          2.2352858056254887,
          1.959132866185104,
          1.6957582399456084,
          1.7112897971779881,
          1.8722361410334711,
          1.6455178997488642,
          1.8546441055551444,
          1.5153417109916263,
          1.880616948869296,
          1.702621737985074
         ],
         "xaxis": "x11",
         "yaxis": "y11"
        },
        {
         "alignmentgroup": "True",
         "bingroup": "x",
         "hovertemplate": "choc=6<br>rating=%{x}<br>count=%{y}<extra></extra>",
         "legendgroup": "",
         "marker": {
          "color": "#1F77B4",
          "pattern": {
           "shape": ""
          }
         },
         "name": "",
         "offsetgroup": "",
         "orientation": "v",
         "showlegend": false,
         "type": "histogram",
         "x": [
          -2.4185342064397997,
          -2.557827174237332,
          -2.3945307581181616,
          -2.2812288493832176,
          -2.344983558299361,
          -2.153865970881541,
          -2.5249639021338135,
          -2.442171131076881,
          -2.581635614853721,
          -2.3137898346320136,
          -2.312813170487072,
          -2.722775223463367,
          -2.5527922934585554,
          -2.740985410657553,
          -2.43271132845473,
          -2.1144072292603666,
          -2.5650110063262535,
          -2.7402098527937735,
          -2.4044127262955577,
          -2.651716387869215,
          -2.2598880876322376,
          -2.2364888550347746,
          -2.6039887540929874,
          -2.3190907280514024,
          -2.9258931851486194,
          -2.603048539064049,
          -2.3980761060405684,
          -2.075901583301382,
          -2.5627283510033823,
          -2.5551456821692544,
          -2.4570720158257227,
          -2.3620055336818435,
          -2.1362214579561685,
          -2.3564773414965123,
          -2.268860807305874,
          -2.8151135513312813,
          -2.5506868291027445,
          -2.3380166914309233,
          -2.638344706515969,
          -2.523489942055432,
          -2.4588347145763456,
          -2.0939178471813875,
          -2.4450124509590974,
          -2.4116402523094753,
          -2.565581513862214,
          -2.487772474410934,
          -2.638793157497916,
          -2.462965490084078,
          -2.2578761351835834,
          -2.567362958371829,
          -2.364917925171402,
          -2.315618064411469,
          -2.345709514763729,
          -2.448073331209441,
          -2.5209072551196763,
          -2.1037456781162875,
          -2.6268163963576505,
          -2.3527904096982892,
          -2.480274658640618,
          -2.593006318648192,
          -2.4147338115222055,
          -2.6175879870122665,
          -2.255150343306208,
          -2.0564933446040596,
          -2.3078827281431216,
          -2.379051870212929,
          -2.417785566365893,
          -2.386835458905521,
          -2.238504214783302,
          -2.363177919761016,
          -2.4945334328853668,
          -2.3285730007654526,
          -2.6866304752839985,
          -2.37244272260038,
          -2.6219851069466893,
          -2.5644879508408183,
          -2.6478819843724333,
          -2.332114981693468,
          -2.5317194713523237,
          -2.311575714434361,
          -2.2748572389249504,
          -2.436128855071818,
          -2.2488831654971273,
          -2.1642881216824414,
          -2.174543961407702,
          -2.31492744766999,
          -2.465477195667019,
          -2.327218488801157,
          -2.347991766063474,
          -2.4335509047725714,
          -2.6644707909760887,
          -2.0460500002018227,
          -2.580063119795273,
          -2.635096542985384,
          -2.6182541945590536,
          -2.5393044132632565,
          -2.46524867149564,
          -2.3436914630603596,
          -2.350771785087558,
          -2.441252441955627
         ],
         "xaxis": "x12",
         "yaxis": "y12"
        },
        {
         "alignmentgroup": "True",
         "bingroup": "x",
         "hovertemplate": "choc=7<br>rating=%{x}<br>count=%{y}<extra></extra>",
         "legendgroup": "",
         "marker": {
          "color": "#1F77B4",
          "pattern": {
           "shape": ""
          }
         },
         "name": "",
         "offsetgroup": "",
         "orientation": "v",
         "showlegend": false,
         "type": "histogram",
         "x": [
          -0.5061163908834788,
          -0.8305193883070267,
          -1.0456283122195729,
          -0.26339082147793313,
          0.0826648215606452,
          -0.7916026392999045,
          -0.7528607464823229,
          -0.732076747408404,
          -0.8842309375466233,
          -1.141852361534788,
          -0.3346476226042308,
          -0.013788021983344667,
          -0.1802988015447363,
          -0.54437692864887,
          -0.36937607900872693,
          -0.7494448156380911,
          -0.18221674095403187,
          -0.649454944235263,
          0.07353294720684916,
          -0.34213768029395464,
          -0.30137267044641924,
          -0.08763476489052868,
          -0.6059299622288743,
          -0.8037299282540022,
          -0.95462039747087,
          -0.26142150984343226,
          -0.9788881264087184,
          -0.7878437452495839,
          -0.6456539516257709,
          -0.7510386019405662,
          0.11500417123928347,
          -0.07014012395911118,
          -0.593579900200919,
          -0.1813643078176482,
          -0.13497775489713365,
          -0.4407057261803622,
          -0.4479463152668845,
          -0.5992371460517194,
          -0.06816389875972506,
          -0.3523960711628297,
          -0.4830451502446105,
          -0.40952400247396253,
          -1.1816394106888675,
          -0.3470082630747371,
          -0.0387215935879176,
          -0.5911354066424586,
          -0.3805620102153006,
          -0.8045934406817894,
          -0.3616610961447757,
          -0.4522248639842707,
          -0.3143881820024339,
          -0.5148106630197882,
          -0.6320562510678087,
          -0.19997676358434532,
          -0.6005993750142029,
          0.14474050876885042,
          -0.6291115925870823,
          -0.6384088715556426,
          -0.011495730653857616,
          -0.6707368455824092,
          -0.21049525173450825,
          -0.390226010127836,
          -0.8295603890337983,
          -0.45127029831425597,
          -0.6904310714197486,
          -0.6654346565932764,
          -1.007754936614187,
          -0.5186838532798606,
          -0.36265325408350724,
          0.1411811543296489,
          -0.20294498298690694,
          0.04921445285749748,
          -0.30784105112420546,
          -1.1067861401497188,
          -0.42230119683603917,
          -0.34489092653881603,
          -0.17122355180029109,
          -0.10238913007514833,
          -0.5834492972412906,
          -0.5585516926017865,
          0.028903996468146398,
          -0.923550832420245,
          -0.7906665868243916,
          -0.5828945749868628,
          -0.22398387595690294,
          -0.30236217191061376,
          -0.3029364437213674,
          -0.7242212413248521,
          0.028884993079972665,
          -0.6269102827687808,
          -0.24684423505263028,
          -0.44955488052305814,
          -0.8187033286905234,
          -0.1265111464486824,
          -0.17194059282884172,
          -0.0659260741965525,
          -0.36731359091459775,
          -0.2989126796481083,
          -0.6095098082179712,
          -0.6984383200759209
         ],
         "xaxis": "x13",
         "yaxis": "y13"
        },
        {
         "alignmentgroup": "True",
         "bingroup": "x",
         "hovertemplate": "choc=8<br>rating=%{x}<br>count=%{y}<extra></extra>",
         "legendgroup": "",
         "marker": {
          "color": "#1F77B4",
          "pattern": {
           "shape": ""
          }
         },
         "name": "",
         "offsetgroup": "",
         "orientation": "v",
         "showlegend": false,
         "type": "histogram",
         "x": [
          0.7059920330039197,
          2.2412061891852506,
          1.465066795509217,
          1.4875900821997943,
          1.153943417120712,
          1.3029575944989635,
          1.1001332739328635,
          1.2214498519576171,
          0.6877437153186978,
          0.5813142234605608,
          1.8355460748451915,
          0.6448820110414036,
          1.4260447256148792,
          1.1759307959251992,
          0.7798871536293233,
          1.4619925659598638,
          1.3834408763458164,
          1.2827305987050246,
          0.9918213454078606,
          2.027387807704489,
          1.7079272870846507,
          2.3176360364066095,
          0.4708582288454234,
          1.5868674064990458,
          1.2081387742808722,
          1.3818127269611058,
          1.5410182600638647,
          1.4593269132683222,
          1.1961753299517595,
          1.0604854722162562,
          2.036398712868669,
          1.3597010136742071,
          1.5890253782048938,
          1.3933802170943805,
          0.923676282226453,
          0.22089930191794838,
          0.7246296738635893,
          1.1629976155640853,
          0.693736192171067,
          0.9425527253349366,
          1.794639179373796,
          0.35840527035447145,
          0.9656564236244418,
          0.6057702237552668,
          1.3133498832187653,
          1.5126659036884358,
          0.4311249096199299,
          0.8885131179145531,
          0.9222987671558649,
          1.0334314595657212,
          1.854588123226967,
          1.7231990325381437,
          1.978657678587211,
          1.1220700161433772,
          1.8278502834010935,
          0.5760418492759686,
          1.92852624397824,
          1.4419562102182422,
          0.4670429635551705,
          1.0025438907834576,
          0.8244067059637231,
          1.4445616291420458,
          0.8857691997720061,
          1.8856303569398094,
          0.8835711334200839,
          1.0294995956518187,
          1.387604578229769,
          1.5482536281764971,
          2.124888920956986,
          0.7572300646601651,
          2.025310256135808,
          0.9366332841338282,
          0.9402455671122716,
          0.4772176362630871,
          1.0415940120519749,
          1.160232340634587,
          1.8510448828337005,
          1.9356631789467307,
          1.7133953079159365,
          2.1224197041074895,
          1.549095076767641,
          1.8660290886964563,
          1.7440547035818954,
          1.402274711433227,
          0.9257187785123611,
          0.4442635512192923,
          0.7329854404830898,
          1.5430670336181014,
          1.2043179376519477,
          0.8095993164918537,
          1.3932527407482174,
          1.211731398041167,
          1.4003361615762564,
          0.8110669405840334,
          0.8170642794287728,
          1.4965769607179675,
          1.0465241188146845,
          0.5055907642885864,
          1.3627152353326424,
          1.8654792658118087
         ],
         "xaxis": "x14",
         "yaxis": "y14"
        },
        {
         "alignmentgroup": "True",
         "bingroup": "x",
         "hovertemplate": "choc=9<br>rating=%{x}<br>count=%{y}<extra></extra>",
         "legendgroup": "",
         "marker": {
          "color": "#1F77B4",
          "pattern": {
           "shape": ""
          }
         },
         "name": "",
         "offsetgroup": "",
         "orientation": "v",
         "showlegend": false,
         "type": "histogram",
         "x": [
          -0.7407036395905542,
          -0.7628650155073399,
          -1.8808568609614311,
          -1.2229638165961727,
          -0.7762147712002642,
          -1.040073149531726,
          -0.6193817284974964,
          -0.6906996487230769,
          -0.7883759056910589,
          -0.6371565668765913,
          -0.601318414823838,
          -0.6911101219047098,
          -0.9466093670781937,
          -0.5830272758233885,
          0.2191514516093409,
          -0.7360269792000245,
          -1.3056353996560706,
          -0.329741465401313,
          -0.7692773837049096,
          -0.8251714293720898,
          -0.4794734907448286,
          -1.2274072010472388,
          -1.017438821987077,
          -0.4967182863433467,
          -0.30567946049903383,
          -0.35053319235510094,
          -0.024581171966568505,
          -0.836835151725469,
          0.38827197263345137,
          -0.17932567840961533,
          0.2168987996151308,
          -1.405696704830759,
          0.3607286089080979,
          -0.5980612724709953,
          -0.07282302636734883,
          -1.5579786913291072,
          -0.786821570652546,
          0.3091854471532416,
          -0.22958870956800925,
          -0.7814815389229529,
          -0.9262235568932984,
          0.029452432051447652,
          -0.6773069054055683,
          -0.5591029644160075,
          -1.1331127651840547,
          0.0309138354055708,
          -0.9630060249382426,
          -1.6728218716238348,
          -0.7489752480058899,
          -0.7055480803034975,
          -0.9707553867618943,
          -0.9473907707609226,
          -0.7705093613865677,
          -0.811461466800901,
          -1.8541661663955646,
          -0.5062800811041206,
          -1.3296684147558744,
          -1.328599573454219,
          -1.474300329443547,
          0.11106259558536169,
          -1.8648434806420386,
          -1.12250855575988,
          -1.917696005997653,
          -1.1953766430101156,
          -1.280269983652477,
          -1.312797608499421,
          -1.520870237634972,
          -1.7170155355435375,
          -1.461675427873538,
          -0.22392762645788822,
          -1.0961367380204121,
          -0.3314875906694408,
          -1.5624945273147661,
          -1.284178919994551,
          -1.4500497739655847,
          -1.8967038452756961,
          -0.15679820388197685,
          -0.039085822241776924,
          -2.3526946207561723,
          -1.2645255270277462,
          -0.46248056510784474,
          -0.9529582474074204,
          -1.9967871039958982,
          -1.9979527177764964,
          -0.8785602358173664,
          -1.0430561687754911,
          -0.8124802868337596,
          -0.08367909962129627,
          -1.7477596448967585,
          -0.26990969761787587,
          -0.2869250495567446,
          -0.22653008562147714,
          -1.269795830833124,
          -0.9535193954585327,
          -1.3228662421922903,
          0.08628899945682222,
          -0.8368997525698639,
          -0.7024956671838558,
          -0.3318362545892516,
          -0.6620551810238626
         ],
         "xaxis": "x15",
         "yaxis": "y15"
        },
        {
         "alignmentgroup": "True",
         "bingroup": "x",
         "hovertemplate": "choc=10<br>rating=%{x}<br>count=%{y}<extra></extra>",
         "legendgroup": "",
         "marker": {
          "color": "#1F77B4",
          "pattern": {
           "shape": ""
          }
         },
         "name": "",
         "offsetgroup": "",
         "orientation": "v",
         "showlegend": false,
         "type": "histogram",
         "x": [
          -0.5320714653195715,
          -0.3183973305513461,
          -0.8129262935103412,
          -0.9914591894040867,
          -0.5993368893248883,
          -1.0076532798279203,
          -0.6233518566696143,
          -0.4972505516954116,
          -1.1804842570161957,
          -0.09502131698754512,
          -1.0591761372019344,
          -1.0157314612193145,
          -0.3103409897856272,
          -0.7244449064358252,
          -0.7803878635599976,
          -1.3845454122279164,
          -0.40026463837979315,
          -0.5588898240228425,
          -1.0384446385500157,
          -0.6383351081741748,
          -0.4677561396518565,
          -1.1500888417727977,
          -0.5484677370416849,
          -0.5329079800820443,
          -0.7007069026517584,
          -0.6493774582217776,
          0.12340296769060743,
          -0.5911483306537291,
          -0.8905867310818316,
          -0.40064914822694103,
          -0.7523245742747234,
          -1.17289726517736,
          -1.0288315534250891,
          -0.7512543729849476,
          -0.3242145908434932,
          0.052011282427945726,
          -1.1051295890234414,
          -0.38553564972380555,
          -0.8300654820431743,
          0.1882018970618008,
          -0.5752040326821871,
          -0.6282041155506057,
          -0.6814738467153831,
          -0.9860325075206183,
          -0.8960568334849363,
          -0.13952817228958325,
          -0.8210404114909817,
          -0.5053727062534105,
          -0.33894544510898866,
          -0.9956261866952035,
          -0.38958615542923786,
          -0.43849913432679966,
          -0.49082157235552415,
          -0.7741906037828827,
          -0.16830885318758093,
          -0.4671748073449462,
          -0.94652315192882,
          -0.9488049311073485,
          -0.9350410215749116,
          -0.31050047211083337,
          -0.7986368619665675,
          -0.5126266333497196,
          -0.6057333771325981,
          -0.42767217051239276,
          -0.6607994888963972,
          -0.42777929041268997,
          -1.0920067104198745,
          -0.4513059449584346,
          -0.4878902663891458,
          -0.4049306042359527,
          -0.3004310443898202,
          -0.7055905885949667,
          -0.7902774866921969,
          -0.3935868370922191,
          -0.3128389535034334,
          -0.6262417608703521,
          -0.6201972822723634,
          -0.8450485419404106,
          -0.7440923090921782,
          -0.859500524295314,
          -1.216671166826968,
          -1.3533859685503464,
          -0.7344196476837439,
          -0.613701520718135,
          -0.7057383926330068,
          -1.1278127528779065,
          -0.49270651227033124,
          -0.36685420701408106,
          -0.9152017620974725,
          -0.5535538873081763,
          -0.7200185112258057,
          -0.3454449926184616,
          -0.5297225158942869,
          -0.3821132497592167,
          -1.5692432888933192,
          -1.1642884982772714,
          -1.0175011174057265,
          -0.8693947782676203,
          -0.5342132406941418,
          -0.8026072867014061
         ],
         "xaxis": "x6",
         "yaxis": "y6"
        },
        {
         "alignmentgroup": "True",
         "bingroup": "x",
         "hovertemplate": "choc=11<br>rating=%{x}<br>count=%{y}<extra></extra>",
         "legendgroup": "",
         "marker": {
          "color": "#1F77B4",
          "pattern": {
           "shape": ""
          }
         },
         "name": "",
         "offsetgroup": "",
         "orientation": "v",
         "showlegend": false,
         "type": "histogram",
         "x": [
          -0.247725312536196,
          -0.32802956529858,
          0.134104378340845,
          -0.29722784698713545,
          -0.042474888230483905,
          -0.10853873344374887,
          -0.10022610467006374,
          0.012012415291241502,
          0.04407891813381193,
          0.059026060690594795,
          -0.33891650489108094,
          0.028328737932709916,
          0.03049278202185618,
          0.24932517034370227,
          -0.12937458166153695,
          -0.20313895036890886,
          0.11904470892580832,
          -0.03479083657516968,
          0.18515497347883825,
          -0.32714435200909886,
          0.18005334453817456,
          -0.13748616439814842,
          -0.1191577787674867,
          -0.35574455710152136,
          -0.11231872102293428,
          -0.13769725381992678,
          -0.08828337703615699,
          0.19910148396544225,
          -0.14917135340123278,
          -0.31089313620044157,
          -0.3675387884264365,
          -0.11819327208421912,
          -0.1958270244731672,
          0.5628218203601469,
          -0.19659117927139252,
          -0.031171301008416627,
          0.04778509355293353,
          -0.024710299113782877,
          0.10408246285047035,
          -0.10457851639550161,
          0.18487203221719883,
          0.03507835646481272,
          -0.24186799100828554,
          0.0915899874503219,
          -0.23798945954060702,
          -0.38346012325904305,
          0.08925432690118684,
          0.007259794873925168,
          0.12458999324400327,
          -0.04955540360955491,
          -0.24603994983132252,
          0.32377162576979923,
          -0.17452907564500614,
          -0.2732495373425472,
          0.37583338741176725,
          -0.17028429630826153,
          0.011305207096118819,
          -0.12066549758198843,
          -0.25076777906078174,
          -0.1338579552235686,
          0.004323126148948961,
          -0.13127635859678843,
          -0.40128851895292866,
          -0.04135735128774857,
          -0.24130782919364807,
          -0.024914893399482815,
          0.0007868845559033111,
          0.08902835178609764,
          -0.2578231533108323,
          -0.13538531108691595,
          0.06662345331339761,
          -0.29587399918626767,
          -0.31284583011022193,
          0.028946619238001237,
          0.21549756580181761,
          0.013280851985393138,
          -0.15484582673564568,
          -0.12177524402616825,
          0.061909434905452004,
          0.05338880826327602,
          -0.21959816792025927,
          -0.06797850389193236,
          -0.12458974051167619,
          -0.39825376802980905,
          -0.06431472446491113,
          0.157364145435043,
          -0.23726428624774282,
          -0.06562862238596329,
          0.004777724111272155,
          -0.255640054274767,
          -0.04448166371832583,
          0.21855855043000483,
          -0.1658999481600511,
          0.10634163002236888,
          -0.12344406592198291,
          0.09568750987887795,
          -0.0650891356938979,
          0.12596681774764965,
          -0.2965485871004613,
          -0.27652173247679745
         ],
         "xaxis": "x7",
         "yaxis": "y7"
        },
        {
         "alignmentgroup": "True",
         "bingroup": "x",
         "hovertemplate": "choc=12<br>rating=%{x}<br>count=%{y}<extra></extra>",
         "legendgroup": "",
         "marker": {
          "color": "#1F77B4",
          "pattern": {
           "shape": ""
          }
         },
         "name": "",
         "offsetgroup": "",
         "orientation": "v",
         "showlegend": false,
         "type": "histogram",
         "x": [
          2.1232779106917157,
          1.5898181056809757,
          1.0916534683171335,
          1.080116054155128,
          0.7237481430372859,
          1.0886104887152004,
          1.599902066692516,
          1.341939190548687,
          1.3571963250285721,
          1.1203422610362197,
          2.2571174382427723,
          2.0110739859478355,
          0.9449907634725486,
          1.2093712600710587,
          1.002056559600105,
          2.1063949150688352,
          1.4377349311261636,
          1.3694311613921153,
          1.5941722111861159,
          0.7285869422110052,
          2.0277338041799706,
          1.0428429065605895,
          2.5411898252201324,
          1.7309334430263967,
          1.4251989906173128,
          2.214851224213376,
          1.617880833538134,
          1.8096260031597688,
          0.375504245777855,
          1.6080596951556037,
          2.1547441549584745,
          1.4764605553154033,
          1.1663368769207119,
          1.2760003522470862,
          2.3199052708848207,
          1.520099978385292,
          0.9166702708159594,
          0.7217745758964683,
          1.2624499879817912,
          1.2554220180350282,
          1.303179160419762,
          1.8622107271886883,
          1.1299503232767507,
          1.3910233802084453,
          1.7484364793785505,
          1.465284395047529,
          0.7747715320418477,
          1.1155851673186488,
          1.686950843818039,
          1.703312874638557,
          2.3651588673532755,
          1.4389819398705301,
          1.6952321692782224,
          2.1379286400485555,
          1.7509792620799973,
          0.9671557737415443,
          2.55417480482469,
          1.9992584802212012,
          1.0951678851836655,
          1.5854131521198336,
          1.5500165422709078,
          1.3938525489722609,
          1.292351656517947,
          1.2718915252612641,
          0.8739180505228623,
          1.421065630363287,
          1.6057497689919544,
          1.8946841919687045,
          1.4226736834960323,
          1.8586122649025791,
          1.783488706235925,
          2.033940634369591,
          1.6594015241290996,
          1.773853557885121,
          1.5883170024414843,
          2.041829846343536,
          0.9194351687710319,
          0.8533461088240603,
          2.024277779479095,
          1.1350840989444309,
          2.293021023798533,
          1.61710794891402,
          1.4828022540522603,
          1.320888553090369,
          1.2706809767942207,
          1.4837703888036133,
          1.2846260296832415,
          1.9451052195790683,
          1.4454310807977229,
          1.0503971941309729,
          1.5903286375320635,
          1.5982641802475543,
          1.912078501812402,
          1.3022049482282756,
          1.5942513369570857,
          1.5798305219133875,
          1.163770543180072,
          1.3825522380222874,
          1.0142301223089298,
          1.5284770711249445
         ],
         "xaxis": "x8",
         "yaxis": "y8"
        },
        {
         "alignmentgroup": "True",
         "bingroup": "x",
         "hovertemplate": "choc=13<br>rating=%{x}<br>count=%{y}<extra></extra>",
         "legendgroup": "",
         "marker": {
          "color": "#1F77B4",
          "pattern": {
           "shape": ""
          }
         },
         "name": "",
         "offsetgroup": "",
         "orientation": "v",
         "showlegend": false,
         "type": "histogram",
         "x": [
          -1.1481311020917038,
          -0.09223783701510913,
          -0.4062644959396663,
          -0.4896022223403317,
          -1.5099861133946566,
          -0.6050646040615049,
          -0.6974352290195472,
          -1.2961279321630368,
          -0.6069762550027188,
          -1.4242100037546832,
          -0.9214142069738459,
          -1.0462161971364143,
          -0.34176648750055044,
          -0.6678621396364213,
          -1.0709945971244275,
          -0.5762103348811822,
          -0.7386789923971206,
          -0.41525661253548934,
          -1.1409911825754075,
          -0.9348648983680439,
          -0.1776607505499701,
          -0.7581079484377691,
          -0.8272602586360599,
          -0.600568169836472,
          -1.457090425062352,
          -0.5384689626828485,
          0.10674472431376647,
          -1.1714864979450499,
          -0.36016755270969675,
          -0.8255506236440386,
          -0.8321343595123343,
          -0.6844278354198418,
          -0.7123840988531314,
          -0.6566874735770137,
          -0.9559978495077799,
          -1.3911183559724871,
          -0.026144807300139794,
          0.11742612017144904,
          -1.1802795921848013,
          -1.4129026672705267,
          -1.1460111508363768,
          -0.5012654526138212,
          -0.803947614972099,
          -1.6767429529320381,
          -0.3371549320399877,
          -1.1552442609638338,
          -1.5354662125169276,
          -0.4645883702961294,
          -0.8080058755737903,
          -0.25480239760744844,
          -0.2964656849108189,
          -1.5402759297984099,
          -1.6978990077965663,
          0.0076418474458553876,
          -0.261066154229144,
          -1.2519125910048143,
          -0.7501365701254993,
          -0.49663203383459953,
          -0.4121926598422818,
          -1.3789047060589148,
          -0.1683079050960481,
          -0.8328506942268938,
          -0.39774233151913563,
          -0.33789380527956203,
          -0.9446808541680445,
          -0.4054820168720391,
          -0.8446804286119003,
          -0.6872153774707113,
          -0.2943552604212425,
          -0.7708391351487425,
          -0.5869555654452034,
          0.14361408366748707,
          -0.5068854630256074,
          -0.3475561372046726,
          0.06933798294078297,
          -0.8090319770767931,
          -0.9645953954370579,
          -0.7482872271700062,
          -0.8937376249832458,
          0.06264051729916464,
          -0.8820336261058859,
          -0.13946123104070013,
          -0.1950701126277425,
          -0.9915700111520187,
          -1.52075075227051,
          -0.04958843676117486,
          -0.4938224519921279,
          -1.0767412457857868,
          -0.5092787263661869,
          -0.8187575339165822,
          -0.3730366792501311,
          -0.9326254565960684,
          -0.5426373356154717,
          -0.3479094034554232,
          -0.2550447017811711,
          -0.9754663439017646,
          -0.31433266988720837,
          -0.47215105871236485,
          -0.8288374357602817,
          -0.054719423110594634
         ],
         "xaxis": "x9",
         "yaxis": "y9"
        },
        {
         "alignmentgroup": "True",
         "bingroup": "x",
         "hovertemplate": "choc=14<br>rating=%{x}<br>count=%{y}<extra></extra>",
         "legendgroup": "",
         "marker": {
          "color": "#1F77B4",
          "pattern": {
           "shape": ""
          }
         },
         "name": "",
         "offsetgroup": "",
         "orientation": "v",
         "showlegend": false,
         "type": "histogram",
         "x": [
          -1.954856675035735,
          -0.6823876900101076,
          0.2767196453815758,
          0.0975370494510428,
          -1.169605251566238,
          -0.15713146436791803,
          -0.3037761876357833,
          -0.9201394997061614,
          -0.21442472877701566,
          0.08454031816287455,
          -1.383770343573687,
          -1.8129673943376823,
          0.5345109217576474,
          -0.5172168611577064,
          -1.3141256417475478,
          -1.3066762379710188,
          -1.706261572790101,
          0.27783323449754604,
          0.1995549334375436,
          -0.6763436831015333,
          -0.42945123510063754,
          -1.1913556379421943,
          -1.2186038723317658,
          0.2398149273608532,
          0.38014158262360187,
          0.4494516927315072,
          -0.32391311455711014,
          -0.06431643615802818,
          -1.5665513649817626,
          0.11283082729405491,
          -0.4168214366955822,
          -1.533150089709334,
          -0.59340683654225,
          -2.1695828682491345,
          -1.7548381938006807,
          -0.618758108890871,
          -0.45112155687664945,
          0.30494456442472084,
          0.16557334227041742,
          -0.40824222822794487,
          -1.0307262796658865,
          -0.0715524850838925,
          -1.014409323647036,
          -0.6987619659483377,
          -0.2742559026194652,
          -0.49005680021953857,
          -0.7426134332047258,
          -0.25805099583191926,
          -0.5882681223739548,
          0.9563534332741355,
          -0.7313117935099853,
          -0.6835127596410291,
          -1.2398037396562662,
          -0.669357059182971,
          -1.5040219797602299,
          -0.7604491936556687,
          0.10307818009037195,
          0.3945922591072535,
          0.3363503148066205,
          -0.5715728542837468,
          -0.19387710747964015,
          0.01916805678455552,
          1.0206311364143075,
          -1.542352263490262,
          -0.5744474823645057,
          0.08509502002962,
          -0.658964128595017,
          -0.0844426469976916,
          0.0010967979785889703,
          1.2435835176438446,
          -0.20360278495278183,
          -1.0092005592429745,
          -0.6686544154905983,
          -1.1335179631323593,
          -0.6441047251301961,
          -0.48773596100935845,
          -0.11125619434274481,
          -0.4266770030877733,
          -0.9277365866446483,
          -0.10032228479912253,
          -0.5407519371256192,
          -2.9969718459178027,
          -0.587979532986139,
          -0.4025138624386497,
          -1.1387879271325958,
          -1.1771964303269464,
          0.49770729654810775,
          -0.49225229296920164,
          -0.6952465094996354,
          -0.8086997299704495,
          -1.0411247981167544,
          -0.4384926431809672,
          0.26626856425875167,
          -1.541706599668741,
          0.4888846465061334,
          -0.09584712509462173,
          0.8707324662749234,
          -0.5216361161101583,
          -0.5897346278360649,
          -0.4189467267398211
         ],
         "xaxis": "x10",
         "yaxis": "y10"
        },
        {
         "alignmentgroup": "True",
         "bingroup": "x",
         "hovertemplate": "choc=15<br>rating=%{x}<br>count=%{y}<extra></extra>",
         "legendgroup": "",
         "marker": {
          "color": "#1F77B4",
          "pattern": {
           "shape": ""
          }
         },
         "name": "",
         "offsetgroup": "",
         "orientation": "v",
         "showlegend": false,
         "type": "histogram",
         "x": [
          0.7471519450759327,
          0.7373649033594316,
          -0.11760159957247973,
          -0.06677454429654245,
          -0.24350853943711778,
          1.2382888866989838,
          -4.105989661822272,
          1.3976787726017015,
          -0.9277203014794538,
          -0.5259227439505932,
          -1.1952783874664425,
          0.3563128954727422,
          -0.5825832698675967,
          -0.7555185793865293,
          -0.8812935955637721,
          0.3506196844356418,
          -0.8974318710954254,
          -2.3763794345650773,
          0.9292654695954756,
          -0.31610092450290356,
          -1.0955419889143794,
          0.21096434089485588,
          0.21167358709784373,
          1.5933185994699692,
          -1.2102170989970178,
          0.6729012404848307,
          -0.12146407582301666,
          -0.9066440876577049,
          -1.4645624239741502,
          -0.6120320563988922,
          0.27964591811918343,
          0.7866268398758567,
          -0.09253967573297756,
          0.8227647794924637,
          0.8173776749094377,
          -0.37968267768856184,
          -1.3953069191359289,
          -0.6029930710533645,
          -0.4541139472433845,
          -1.694835823364712,
          1.1891237078316466,
          -0.1630334412610306,
          -1.0173609460674025,
          -0.6934803718730531,
          -2.7641345525676884,
          0.046236847300352824,
          0.28696751171049245,
          -0.5803185806721056,
          0.44297005001058737,
          -2.811729917790505,
          -2.8372370597668035,
          -2.3955818880410873,
          -0.4700478944592433,
          -0.7361411294819933,
          -1.2236205291910593,
          -0.036615248735879624,
          1.0949256226606485,
          -1.836120199263396,
          0.6066004406868437,
          -0.25297166216042277,
          -0.38339444308588755,
          -0.2769638930320666,
          -0.015695782471944808,
          0.21862494756279355,
          0.08187896107179732,
          -1.4010689614620386,
          2.1463583491082305,
          -1.3168234217567634,
          1.928751186482128,
          -0.5617317674739297,
          -0.6813879618185478,
          -0.1891230801268542,
          -1.264660922210211,
          0.24865398863293892,
          -0.31127382679703663,
          -2.133331444151481,
          -0.7577060601966029,
          -0.893394776871192,
          -0.04092837100329755,
          -0.7796679748775841,
          -1.3497588760239612,
          0.8711768739231978,
          -0.9547234750543947,
          0.2865647571606505,
          -1.0388903747558829,
          -0.5387476844556529,
          -0.4379363062511801,
          1.2923133560968298,
          1.6904228823514447,
          0.16539662370000058,
          -0.21566039665025707,
          -1.1430179119350288,
          -2.972869578576092,
          -0.9711455566689018,
          -2.127768692482087,
          1.345224703277794,
          0.5266689286871289,
          0.322968874233347,
          -0.25563242957149546,
          -0.47076866421858077
         ],
         "xaxis": "x",
         "yaxis": "y"
        },
        {
         "alignmentgroup": "True",
         "bingroup": "x",
         "hovertemplate": "choc=16<br>rating=%{x}<br>count=%{y}<extra></extra>",
         "legendgroup": "",
         "marker": {
          "color": "#1F77B4",
          "pattern": {
           "shape": ""
          }
         },
         "name": "",
         "offsetgroup": "",
         "orientation": "v",
         "showlegend": false,
         "type": "histogram",
         "x": [
          1.8212025813255408,
          1.171477343848922,
          0.8983297157505381,
          1.6823408298130058,
          2.7341939392562136,
          2.4991108446922192,
          1.9490799722338905,
          3.0605837805153637,
          3.190701490742059,
          2.769339334744262,
          3.412120195188991,
          3.995054573367497,
          1.9687639978532698,
          2.3417745373435683,
          1.292595707962061,
          1.7489462114965708,
          1.9278931669398327,
          2.90080168312959,
          2.359925951022162,
          2.364218600097305,
          1.5768466180439948,
          2.695209276669807,
          2.348935843658702,
          3.7206173195410286,
          3.2451181583403335,
          1.8964365858185137,
          1.604450991393271,
          1.7544476630169652,
          3.200101738345978,
          2.560287537333571,
          0.6756306791647357,
          3.2289962886396113,
          1.4234620654473202,
          1.6791953618929811,
          2.0919339664892442,
          0.6749206805358874,
          3.075274375068385,
          1.6816321877263767,
          3.5875715637001653,
          1.8477255659986167,
          2.293133717561291,
          1.1506675048720034,
          1.6914638328567764,
          2.6689727116968696,
          2.4885947458139444,
          2.283655490626705,
          3.2264104166756806,
          4.264376630154823,
          2.8605619540280727,
          2.511443492098702,
          2.205633723056526,
          2.7889241365481046,
          0.9445651505298469,
          2.0362510276705104,
          3.214911444946754,
          2.0551753803095525,
          2.516439293638932,
          1.1976978345118932,
          1.2334793744132329,
          3.2986750914254754,
          3.4720752740941303,
          3.7064742403782223,
          3.4009221514431287,
          2.956472473041851,
          2.2700887576272675,
          2.7278953293526014,
          2.0207567123613615,
          3.004351895047097,
          1.8707609764264719,
          2.2826284419512866,
          3.9579214828047116,
          0.8327209645311768,
          0.9283809468570696,
          1.327216603553425,
          2.3313435491433414,
          4.080026858448528,
          3.771489081574053,
          1.7256148988425504,
          2.349987744925472,
          2.0525621592962775,
          1.3153249201505566,
          1.753263258112511,
          2.0158129274875796,
          0.931762545718475,
          2.232742874517325,
          2.457134466466681,
          1.7951699534164467,
          1.4531440788129015,
          3.8540720858483093,
          2.567166585735077,
          2.978812559166612,
          2.4346587789877496,
          1.989371261414067,
          3.60697390695743,
          3.1452511524836724,
          3.7363989982570853,
          1.1377563898285588,
          1.4733512304326277,
          1.27398467488557,
          2.2691497335381747
         ],
         "xaxis": "x2",
         "yaxis": "y2"
        },
        {
         "alignmentgroup": "True",
         "bingroup": "x",
         "hovertemplate": "choc=17<br>rating=%{x}<br>count=%{y}<extra></extra>",
         "legendgroup": "",
         "marker": {
          "color": "#1F77B4",
          "pattern": {
           "shape": ""
          }
         },
         "name": "",
         "offsetgroup": "",
         "orientation": "v",
         "showlegend": false,
         "type": "histogram",
         "x": [
          2.1471341445714645,
          1.7578050862426653,
          2.082181355881646,
          2.7549878029875456,
          2.019823085107602,
          1.9944798685663903,
          2.151909781024075,
          2.3030773173368857,
          2.1256411841797207,
          2.2230618452686777,
          1.7399528574440923,
          2.317573607977561,
          1.9760989602207522,
          2.3570704968132423,
          2.83380026804078,
          2.3000667239645187,
          2.2639883632649433,
          2.1557138742895523,
          1.6709922993742143,
          2.6907848362363342,
          2.423051354332194,
          2.178315593242739,
          2.359716894035908,
          2.222226659882671,
          2.1645977223203574,
          2.1342437785509114,
          1.7480820790544942,
          2.515838005799049,
          1.5245248837715728,
          2.1368850690456687,
          2.6993468761734687,
          1.9277607379542485,
          1.9908811514058338,
          2.1676587983017166,
          2.494149153509369,
          2.2264855716825407,
          1.7543362503426523,
          2.1276669820208536,
          2.467493734593401,
          2.234485491136666,
          2.02874056129435,
          2.3021688754454734,
          2.468491332555681,
          2.397745444025033,
          2.3646734720580787,
          2.1713658275261705,
          1.9006898980309057,
          1.9222254138504027,
          1.633771436712757,
          1.9636663707128441,
          1.8149603715889988,
          2.598739456086271,
          2.954284534631496,
          2.3563065820908298,
          2.300621915591911,
          1.994571818100929,
          2.1018634132036533,
          2.158733040691281,
          2.152989829696029,
          2.2896067286099786,
          2.5430587950880947,
          2.586366518285936,
          2.268323705645519,
          2.2727014940424977,
          1.8468466785312392,
          1.9610018686944224,
          2.123478677890088,
          1.8409464713913617,
          2.5913930998811705,
          2.0842841983208342,
          1.9607591452230897,
          2.1735695743249424,
          2.3615146590953584,
          2.4848292443784468,
          1.822857600060134,
          2.660297930664903,
          2.5493450639354247,
          2.511503382340563,
          2.2086219813285366,
          3.0836874349451557,
          2.038828058514643,
          2.792830096500009,
          2.495434484497243,
          1.8292414678300035,
          1.8462702032035718,
          2.082676300407144,
          2.1407201582080564,
          2.2488517217774473,
          1.8936836570791251,
          1.9867953126416658,
          2.55426407343734,
          1.913616961695578,
          2.884241052375519,
          2.6094483396797505,
          2.0407897312231245,
          2.4454757485548004,
          2.0737426843846167,
          2.397034677997296,
          2.436898349979768,
          2.224734747359368
         ],
         "xaxis": "x3",
         "yaxis": "y3"
        },
        {
         "alignmentgroup": "True",
         "bingroup": "x",
         "hovertemplate": "choc=18<br>rating=%{x}<br>count=%{y}<extra></extra>",
         "legendgroup": "",
         "marker": {
          "color": "#1F77B4",
          "pattern": {
           "shape": ""
          }
         },
         "name": "",
         "offsetgroup": "",
         "orientation": "v",
         "showlegend": false,
         "type": "histogram",
         "x": [
          0.4288993069950886,
          1.2646027297694153,
          2.349656198455027,
          2.0471166959810336,
          1.949868999251664,
          0.7351136774894278,
          0.7696964965042201,
          0.4812441820200385,
          1.4120245392957032,
          1.0244108221117065,
          0.4089986818587593,
          1.1143058588706218,
          0.9947115921233051,
          1.9243506520457743,
          -0.2928456538873494,
          1.2628992776869294,
          0.8883890607020365,
          0.6400903851957556,
          2.2299972260708336,
          1.0443567942053142,
          -0.6705297252024385,
          1.2180287681365667,
          1.2126766253838197,
          1.0027664757615828,
          1.7376002663623855,
          2.329343236946592,
          1.6308314200761156,
          0.5904041198280987,
          1.0699260936751545,
          -0.4979012026960865,
          1.604923810943598,
          1.5575524717414133,
          1.2109615336663178,
          0.6414283660709229,
          0.48611458452153355,
          1.822118538044737,
          0.6283631102546998,
          0.1786382600628108,
          0.8464979048917618,
          -0.18468240039869088,
          1.6726925288076369,
          1.7072087553021336,
          1.7020484433056549,
          0.778965723587786,
          0.5444849534765057,
          2.0225133107841695,
          1.3270019011662817,
          1.0138777478062158,
          1.456351632005563,
          -0.3179571178662841,
          1.2098243773329005,
          1.4819409313334984,
          -0.1414809905783343,
          0.38234977007874216,
          0.8794607579111595,
          0.14621052392098777,
          0.402246992896097,
          2.491323416370119,
          1.3146416231599374,
          1.3013359674390816,
          0.936690870151117,
          1.3843519852827009,
          1.2164231100522074,
          1.9043150649625074,
          1.1610848814403096,
          1.5794958916314916,
          1.452016745352613,
          1.4117916430851647,
          0.8294162863489534,
          -0.15890541186669171,
          1.7834635902798586,
          1.337854185623184,
          1.1611251300334646,
          0.6534293994236233,
          1.3470499441899206,
          0.9821922670866595,
          0.5907686753404626,
          1.6272569549558793,
          -1.6064971060881736,
          1.3396314335548478,
          0.5500816209413837,
          -0.17595502508126137,
          0.17611774792106039,
          1.1369988319669737,
          1.1319828506057863,
          1.1330160217886578,
          1.800790851264436,
          0.7505271271051759,
          1.6283200584156727,
          -0.13422087217796186,
          1.3444898006218502,
          1.6234960418020634,
          -0.714961983697191,
          1.46362849478862,
          0.9545674874298364,
          0.32308124163391205,
          -0.10138494569466183,
          1.834294652701753,
          -0.27160618131574066,
          0.8439158071658056
         ],
         "xaxis": "x4",
         "yaxis": "y4"
        },
        {
         "alignmentgroup": "True",
         "bingroup": "x",
         "hovertemplate": "choc=19<br>rating=%{x}<br>count=%{y}<extra></extra>",
         "legendgroup": "",
         "marker": {
          "color": "#1F77B4",
          "pattern": {
           "shape": ""
          }
         },
         "name": "",
         "offsetgroup": "",
         "orientation": "v",
         "showlegend": false,
         "type": "histogram",
         "x": [
          -1.1518205695582742,
          0.0230546921286382,
          -1.5531702108764938,
          0.04716568608007288,
          0.24906886964355915,
          0.5202413772480045,
          0.17746246227987927,
          0.38967731060126937,
          0.19549939214555667,
          3.2196185714265697,
          -0.25240536672293945,
          1.1712591051634909,
          1.0433507263398138,
          -1.1166671654879374,
          -0.6943992087771345,
          -0.6851719613916081,
          0.619887416781909,
          -1.9535114292773115,
          0.683186186188356,
          1.4055683876602687,
          -0.865678969166467,
          0.2501465023713359,
          0.619637290817908,
          0.991393997046627,
          0.7149195303098064,
          0.5695662122810159,
          -0.8334931272129991,
          0.02252423692355282,
          1.1532249682918965,
          0.4311999513522306,
          0.723551723804515,
          1.2986985329155432,
          0.5345432139389943,
          0.2533717776316601,
          -0.822192224834172,
          0.0526647093857428,
          0.38611406844820856,
          -0.064678020750642,
          -0.04445366414904367,
          0.5369861664101463,
          1.3419155425981606,
          0.18501845532288805,
          1.2802671438883686,
          1.356195405733338,
          0.42760680941490625,
          1.0766673592239664,
          -0.6782142306112795,
          0.019979952677297297,
          1.0673768043965475,
          1.1922036963421982,
          1.7759494851373003,
          0.6929408740582902,
          0.7174504704971771,
          0.3014070131395952,
          0.6092017499050717,
          0.7220622131372243,
          -0.9787172233924897,
          1.0319403151097704,
          0.6160337045797726,
          0.6713495490736425,
          -0.6701882656679279,
          -1.6818791758891505,
          0.1841886352319086,
          0.3209675930763785,
          0.6952846256383356,
          1.095063620607832,
          0.46970837475186994,
          0.8963045693475343,
          -0.2850553297964823,
          0.1341682689926011,
          1.8703321497518417,
          2.0649222050674885,
          0.8308545054215224,
          0.6558955613671129,
          1.065849104893032,
          0.2666272655426631,
          -0.7780353202232464,
          0.7684197273606649,
          -0.6932898804176348,
          0.5302960291196379,
          1.303171817867218,
          0.9084494627969946,
          -0.5912928449686896,
          1.0443898386199537,
          0.021048315886907143,
          1.805632591190393,
          -0.22818055077627397,
          0.1993338804329063,
          0.6773824878412502,
          -0.8913651224951078,
          -0.697871762147481,
          1.0541624846849542,
          1.1931820619037117,
          0.250353593510816,
          0.2853724398367591,
          0.6829380813288564,
          0.3991822483106581,
          2.144075895162806,
          0.8925162455168988,
          -0.5455025629035616
         ],
         "xaxis": "x5",
         "yaxis": "y5"
        }
       ],
       "layout": {
        "annotations": [
         {
          "font": {},
          "showarrow": false,
          "text": "choc=15",
          "x": 0.09200000000000001,
          "xanchor": "center",
          "xref": "paper",
          "y": 0.1975,
          "yanchor": "bottom",
          "yref": "paper"
         },
         {
          "font": {},
          "showarrow": false,
          "text": "choc=16",
          "x": 0.29600000000000004,
          "xanchor": "center",
          "xref": "paper",
          "y": 0.1975,
          "yanchor": "bottom",
          "yref": "paper"
         },
         {
          "font": {},
          "showarrow": false,
          "text": "choc=17",
          "x": 0.5,
          "xanchor": "center",
          "xref": "paper",
          "y": 0.1975,
          "yanchor": "bottom",
          "yref": "paper"
         },
         {
          "font": {},
          "showarrow": false,
          "text": "choc=18",
          "x": 0.7040000000000002,
          "xanchor": "center",
          "xref": "paper",
          "y": 0.1975,
          "yanchor": "bottom",
          "yref": "paper"
         },
         {
          "font": {},
          "showarrow": false,
          "text": "choc=19",
          "x": 0.908,
          "xanchor": "center",
          "xref": "paper",
          "y": 0.1975,
          "yanchor": "bottom",
          "yref": "paper"
         },
         {
          "font": {},
          "showarrow": false,
          "text": "choc=10",
          "x": 0.09200000000000001,
          "xanchor": "center",
          "xref": "paper",
          "y": 0.465,
          "yanchor": "bottom",
          "yref": "paper"
         },
         {
          "font": {},
          "showarrow": false,
          "text": "choc=11",
          "x": 0.29600000000000004,
          "xanchor": "center",
          "xref": "paper",
          "y": 0.465,
          "yanchor": "bottom",
          "yref": "paper"
         },
         {
          "font": {},
          "showarrow": false,
          "text": "choc=12",
          "x": 0.5,
          "xanchor": "center",
          "xref": "paper",
          "y": 0.465,
          "yanchor": "bottom",
          "yref": "paper"
         },
         {
          "font": {},
          "showarrow": false,
          "text": "choc=13",
          "x": 0.7040000000000002,
          "xanchor": "center",
          "xref": "paper",
          "y": 0.465,
          "yanchor": "bottom",
          "yref": "paper"
         },
         {
          "font": {},
          "showarrow": false,
          "text": "choc=14",
          "x": 0.908,
          "xanchor": "center",
          "xref": "paper",
          "y": 0.465,
          "yanchor": "bottom",
          "yref": "paper"
         },
         {
          "font": {},
          "showarrow": false,
          "text": "choc=5",
          "x": 0.09200000000000001,
          "xanchor": "center",
          "xref": "paper",
          "y": 0.7325,
          "yanchor": "bottom",
          "yref": "paper"
         },
         {
          "font": {},
          "showarrow": false,
          "text": "choc=6",
          "x": 0.29600000000000004,
          "xanchor": "center",
          "xref": "paper",
          "y": 0.7325,
          "yanchor": "bottom",
          "yref": "paper"
         },
         {
          "font": {},
          "showarrow": false,
          "text": "choc=7",
          "x": 0.5,
          "xanchor": "center",
          "xref": "paper",
          "y": 0.7325,
          "yanchor": "bottom",
          "yref": "paper"
         },
         {
          "font": {},
          "showarrow": false,
          "text": "choc=8",
          "x": 0.7040000000000002,
          "xanchor": "center",
          "xref": "paper",
          "y": 0.7325,
          "yanchor": "bottom",
          "yref": "paper"
         },
         {
          "font": {},
          "showarrow": false,
          "text": "choc=9",
          "x": 0.908,
          "xanchor": "center",
          "xref": "paper",
          "y": 0.7325,
          "yanchor": "bottom",
          "yref": "paper"
         },
         {
          "font": {},
          "showarrow": false,
          "text": "choc=0",
          "x": 0.09200000000000001,
          "xanchor": "center",
          "xref": "paper",
          "y": 1,
          "yanchor": "bottom",
          "yref": "paper"
         },
         {
          "font": {},
          "showarrow": false,
          "text": "choc=1",
          "x": 0.29600000000000004,
          "xanchor": "center",
          "xref": "paper",
          "y": 1,
          "yanchor": "bottom",
          "yref": "paper"
         },
         {
          "font": {},
          "showarrow": false,
          "text": "choc=2",
          "x": 0.5,
          "xanchor": "center",
          "xref": "paper",
          "y": 1,
          "yanchor": "bottom",
          "yref": "paper"
         },
         {
          "font": {},
          "showarrow": false,
          "text": "choc=3",
          "x": 0.7040000000000002,
          "xanchor": "center",
          "xref": "paper",
          "y": 1,
          "yanchor": "bottom",
          "yref": "paper"
         },
         {
          "font": {},
          "showarrow": false,
          "text": "choc=4",
          "x": 0.908,
          "xanchor": "center",
          "xref": "paper",
          "y": 1,
          "yanchor": "bottom",
          "yref": "paper"
         }
        ],
        "barmode": "relative",
        "height": 600,
        "legend": {
         "tracegroupgap": 0
        },
        "template": {
         "data": {
          "bar": [
           {
            "error_x": {
             "color": "rgb(36,36,36)"
            },
            "error_y": {
             "color": "rgb(36,36,36)"
            },
            "marker": {
             "line": {
              "color": "white",
              "width": 0.5
             },
             "pattern": {
              "fillmode": "overlay",
              "size": 10,
              "solidity": 0.2
             }
            },
            "type": "bar"
           }
          ],
          "barpolar": [
           {
            "marker": {
             "line": {
              "color": "white",
              "width": 0.5
             },
             "pattern": {
              "fillmode": "overlay",
              "size": 10,
              "solidity": 0.2
             }
            },
            "type": "barpolar"
           }
          ],
          "carpet": [
           {
            "aaxis": {
             "endlinecolor": "rgb(36,36,36)",
             "gridcolor": "white",
             "linecolor": "white",
             "minorgridcolor": "white",
             "startlinecolor": "rgb(36,36,36)"
            },
            "baxis": {
             "endlinecolor": "rgb(36,36,36)",
             "gridcolor": "white",
             "linecolor": "white",
             "minorgridcolor": "white",
             "startlinecolor": "rgb(36,36,36)"
            },
            "type": "carpet"
           }
          ],
          "choropleth": [
           {
            "colorbar": {
             "outlinewidth": 1,
             "tickcolor": "rgb(36,36,36)",
             "ticks": "outside"
            },
            "type": "choropleth"
           }
          ],
          "contour": [
           {
            "colorbar": {
             "outlinewidth": 1,
             "tickcolor": "rgb(36,36,36)",
             "ticks": "outside"
            },
            "colorscale": [
             [
              0,
              "#440154"
             ],
             [
              0.1111111111111111,
              "#482878"
             ],
             [
              0.2222222222222222,
              "#3e4989"
             ],
             [
              0.3333333333333333,
              "#31688e"
             ],
             [
              0.4444444444444444,
              "#26828e"
             ],
             [
              0.5555555555555556,
              "#1f9e89"
             ],
             [
              0.6666666666666666,
              "#35b779"
             ],
             [
              0.7777777777777778,
              "#6ece58"
             ],
             [
              0.8888888888888888,
              "#b5de2b"
             ],
             [
              1,
              "#fde725"
             ]
            ],
            "type": "contour"
           }
          ],
          "contourcarpet": [
           {
            "colorbar": {
             "outlinewidth": 1,
             "tickcolor": "rgb(36,36,36)",
             "ticks": "outside"
            },
            "type": "contourcarpet"
           }
          ],
          "heatmap": [
           {
            "colorbar": {
             "outlinewidth": 1,
             "tickcolor": "rgb(36,36,36)",
             "ticks": "outside"
            },
            "colorscale": [
             [
              0,
              "#440154"
             ],
             [
              0.1111111111111111,
              "#482878"
             ],
             [
              0.2222222222222222,
              "#3e4989"
             ],
             [
              0.3333333333333333,
              "#31688e"
             ],
             [
              0.4444444444444444,
              "#26828e"
             ],
             [
              0.5555555555555556,
              "#1f9e89"
             ],
             [
              0.6666666666666666,
              "#35b779"
             ],
             [
              0.7777777777777778,
              "#6ece58"
             ],
             [
              0.8888888888888888,
              "#b5de2b"
             ],
             [
              1,
              "#fde725"
             ]
            ],
            "type": "heatmap"
           }
          ],
          "heatmapgl": [
           {
            "colorbar": {
             "outlinewidth": 1,
             "tickcolor": "rgb(36,36,36)",
             "ticks": "outside"
            },
            "colorscale": [
             [
              0,
              "#440154"
             ],
             [
              0.1111111111111111,
              "#482878"
             ],
             [
              0.2222222222222222,
              "#3e4989"
             ],
             [
              0.3333333333333333,
              "#31688e"
             ],
             [
              0.4444444444444444,
              "#26828e"
             ],
             [
              0.5555555555555556,
              "#1f9e89"
             ],
             [
              0.6666666666666666,
              "#35b779"
             ],
             [
              0.7777777777777778,
              "#6ece58"
             ],
             [
              0.8888888888888888,
              "#b5de2b"
             ],
             [
              1,
              "#fde725"
             ]
            ],
            "type": "heatmapgl"
           }
          ],
          "histogram": [
           {
            "marker": {
             "line": {
              "color": "white",
              "width": 0.6
             }
            },
            "type": "histogram"
           }
          ],
          "histogram2d": [
           {
            "colorbar": {
             "outlinewidth": 1,
             "tickcolor": "rgb(36,36,36)",
             "ticks": "outside"
            },
            "colorscale": [
             [
              0,
              "#440154"
             ],
             [
              0.1111111111111111,
              "#482878"
             ],
             [
              0.2222222222222222,
              "#3e4989"
             ],
             [
              0.3333333333333333,
              "#31688e"
             ],
             [
              0.4444444444444444,
              "#26828e"
             ],
             [
              0.5555555555555556,
              "#1f9e89"
             ],
             [
              0.6666666666666666,
              "#35b779"
             ],
             [
              0.7777777777777778,
              "#6ece58"
             ],
             [
              0.8888888888888888,
              "#b5de2b"
             ],
             [
              1,
              "#fde725"
             ]
            ],
            "type": "histogram2d"
           }
          ],
          "histogram2dcontour": [
           {
            "colorbar": {
             "outlinewidth": 1,
             "tickcolor": "rgb(36,36,36)",
             "ticks": "outside"
            },
            "colorscale": [
             [
              0,
              "#440154"
             ],
             [
              0.1111111111111111,
              "#482878"
             ],
             [
              0.2222222222222222,
              "#3e4989"
             ],
             [
              0.3333333333333333,
              "#31688e"
             ],
             [
              0.4444444444444444,
              "#26828e"
             ],
             [
              0.5555555555555556,
              "#1f9e89"
             ],
             [
              0.6666666666666666,
              "#35b779"
             ],
             [
              0.7777777777777778,
              "#6ece58"
             ],
             [
              0.8888888888888888,
              "#b5de2b"
             ],
             [
              1,
              "#fde725"
             ]
            ],
            "type": "histogram2dcontour"
           }
          ],
          "mesh3d": [
           {
            "colorbar": {
             "outlinewidth": 1,
             "tickcolor": "rgb(36,36,36)",
             "ticks": "outside"
            },
            "type": "mesh3d"
           }
          ],
          "parcoords": [
           {
            "line": {
             "colorbar": {
              "outlinewidth": 1,
              "tickcolor": "rgb(36,36,36)",
              "ticks": "outside"
             }
            },
            "type": "parcoords"
           }
          ],
          "pie": [
           {
            "automargin": true,
            "type": "pie"
           }
          ],
          "scatter": [
           {
            "fillpattern": {
             "fillmode": "overlay",
             "size": 10,
             "solidity": 0.2
            },
            "type": "scatter"
           }
          ],
          "scatter3d": [
           {
            "line": {
             "colorbar": {
              "outlinewidth": 1,
              "tickcolor": "rgb(36,36,36)",
              "ticks": "outside"
             }
            },
            "marker": {
             "colorbar": {
              "outlinewidth": 1,
              "tickcolor": "rgb(36,36,36)",
              "ticks": "outside"
             }
            },
            "type": "scatter3d"
           }
          ],
          "scattercarpet": [
           {
            "marker": {
             "colorbar": {
              "outlinewidth": 1,
              "tickcolor": "rgb(36,36,36)",
              "ticks": "outside"
             }
            },
            "type": "scattercarpet"
           }
          ],
          "scattergeo": [
           {
            "marker": {
             "colorbar": {
              "outlinewidth": 1,
              "tickcolor": "rgb(36,36,36)",
              "ticks": "outside"
             }
            },
            "type": "scattergeo"
           }
          ],
          "scattergl": [
           {
            "marker": {
             "colorbar": {
              "outlinewidth": 1,
              "tickcolor": "rgb(36,36,36)",
              "ticks": "outside"
             }
            },
            "type": "scattergl"
           }
          ],
          "scattermapbox": [
           {
            "marker": {
             "colorbar": {
              "outlinewidth": 1,
              "tickcolor": "rgb(36,36,36)",
              "ticks": "outside"
             }
            },
            "type": "scattermapbox"
           }
          ],
          "scatterpolar": [
           {
            "marker": {
             "colorbar": {
              "outlinewidth": 1,
              "tickcolor": "rgb(36,36,36)",
              "ticks": "outside"
             }
            },
            "type": "scatterpolar"
           }
          ],
          "scatterpolargl": [
           {
            "marker": {
             "colorbar": {
              "outlinewidth": 1,
              "tickcolor": "rgb(36,36,36)",
              "ticks": "outside"
             }
            },
            "type": "scatterpolargl"
           }
          ],
          "scatterternary": [
           {
            "marker": {
             "colorbar": {
              "outlinewidth": 1,
              "tickcolor": "rgb(36,36,36)",
              "ticks": "outside"
             }
            },
            "type": "scatterternary"
           }
          ],
          "surface": [
           {
            "colorbar": {
             "outlinewidth": 1,
             "tickcolor": "rgb(36,36,36)",
             "ticks": "outside"
            },
            "colorscale": [
             [
              0,
              "#440154"
             ],
             [
              0.1111111111111111,
              "#482878"
             ],
             [
              0.2222222222222222,
              "#3e4989"
             ],
             [
              0.3333333333333333,
              "#31688e"
             ],
             [
              0.4444444444444444,
              "#26828e"
             ],
             [
              0.5555555555555556,
              "#1f9e89"
             ],
             [
              0.6666666666666666,
              "#35b779"
             ],
             [
              0.7777777777777778,
              "#6ece58"
             ],
             [
              0.8888888888888888,
              "#b5de2b"
             ],
             [
              1,
              "#fde725"
             ]
            ],
            "type": "surface"
           }
          ],
          "table": [
           {
            "cells": {
             "fill": {
              "color": "rgb(237,237,237)"
             },
             "line": {
              "color": "white"
             }
            },
            "header": {
             "fill": {
              "color": "rgb(217,217,217)"
             },
             "line": {
              "color": "white"
             }
            },
            "type": "table"
           }
          ]
         },
         "layout": {
          "annotationdefaults": {
           "arrowhead": 0,
           "arrowwidth": 1
          },
          "autotypenumbers": "strict",
          "coloraxis": {
           "colorbar": {
            "outlinewidth": 1,
            "tickcolor": "rgb(36,36,36)",
            "ticks": "outside"
           }
          },
          "colorscale": {
           "diverging": [
            [
             0,
             "rgb(103,0,31)"
            ],
            [
             0.1,
             "rgb(178,24,43)"
            ],
            [
             0.2,
             "rgb(214,96,77)"
            ],
            [
             0.3,
             "rgb(244,165,130)"
            ],
            [
             0.4,
             "rgb(253,219,199)"
            ],
            [
             0.5,
             "rgb(247,247,247)"
            ],
            [
             0.6,
             "rgb(209,229,240)"
            ],
            [
             0.7,
             "rgb(146,197,222)"
            ],
            [
             0.8,
             "rgb(67,147,195)"
            ],
            [
             0.9,
             "rgb(33,102,172)"
            ],
            [
             1,
             "rgb(5,48,97)"
            ]
           ],
           "sequential": [
            [
             0,
             "#440154"
            ],
            [
             0.1111111111111111,
             "#482878"
            ],
            [
             0.2222222222222222,
             "#3e4989"
            ],
            [
             0.3333333333333333,
             "#31688e"
            ],
            [
             0.4444444444444444,
             "#26828e"
            ],
            [
             0.5555555555555556,
             "#1f9e89"
            ],
            [
             0.6666666666666666,
             "#35b779"
            ],
            [
             0.7777777777777778,
             "#6ece58"
            ],
            [
             0.8888888888888888,
             "#b5de2b"
            ],
            [
             1,
             "#fde725"
            ]
           ],
           "sequentialminus": [
            [
             0,
             "#440154"
            ],
            [
             0.1111111111111111,
             "#482878"
            ],
            [
             0.2222222222222222,
             "#3e4989"
            ],
            [
             0.3333333333333333,
             "#31688e"
            ],
            [
             0.4444444444444444,
             "#26828e"
            ],
            [
             0.5555555555555556,
             "#1f9e89"
            ],
            [
             0.6666666666666666,
             "#35b779"
            ],
            [
             0.7777777777777778,
             "#6ece58"
            ],
            [
             0.8888888888888888,
             "#b5de2b"
            ],
            [
             1,
             "#fde725"
            ]
           ]
          },
          "colorway": [
           "#1F77B4",
           "#FF7F0E",
           "#2CA02C",
           "#D62728",
           "#9467BD",
           "#8C564B",
           "#E377C2",
           "#7F7F7F",
           "#BCBD22",
           "#17BECF"
          ],
          "font": {
           "color": "rgb(36,36,36)"
          },
          "geo": {
           "bgcolor": "white",
           "lakecolor": "white",
           "landcolor": "white",
           "showlakes": true,
           "showland": true,
           "subunitcolor": "white"
          },
          "hoverlabel": {
           "align": "left"
          },
          "hovermode": "closest",
          "mapbox": {
           "style": "light"
          },
          "paper_bgcolor": "white",
          "plot_bgcolor": "white",
          "polar": {
           "angularaxis": {
            "gridcolor": "rgb(232,232,232)",
            "linecolor": "rgb(36,36,36)",
            "showgrid": false,
            "showline": true,
            "ticks": "outside"
           },
           "bgcolor": "white",
           "radialaxis": {
            "gridcolor": "rgb(232,232,232)",
            "linecolor": "rgb(36,36,36)",
            "showgrid": false,
            "showline": true,
            "ticks": "outside"
           }
          },
          "scene": {
           "xaxis": {
            "backgroundcolor": "white",
            "gridcolor": "rgb(232,232,232)",
            "gridwidth": 2,
            "linecolor": "rgb(36,36,36)",
            "showbackground": true,
            "showgrid": false,
            "showline": true,
            "ticks": "outside",
            "zeroline": false,
            "zerolinecolor": "rgb(36,36,36)"
           },
           "yaxis": {
            "backgroundcolor": "white",
            "gridcolor": "rgb(232,232,232)",
            "gridwidth": 2,
            "linecolor": "rgb(36,36,36)",
            "showbackground": true,
            "showgrid": false,
            "showline": true,
            "ticks": "outside",
            "zeroline": false,
            "zerolinecolor": "rgb(36,36,36)"
           },
           "zaxis": {
            "backgroundcolor": "white",
            "gridcolor": "rgb(232,232,232)",
            "gridwidth": 2,
            "linecolor": "rgb(36,36,36)",
            "showbackground": true,
            "showgrid": false,
            "showline": true,
            "ticks": "outside",
            "zeroline": false,
            "zerolinecolor": "rgb(36,36,36)"
           }
          },
          "shapedefaults": {
           "fillcolor": "black",
           "line": {
            "width": 0
           },
           "opacity": 0.3
          },
          "ternary": {
           "aaxis": {
            "gridcolor": "rgb(232,232,232)",
            "linecolor": "rgb(36,36,36)",
            "showgrid": false,
            "showline": true,
            "ticks": "outside"
           },
           "baxis": {
            "gridcolor": "rgb(232,232,232)",
            "linecolor": "rgb(36,36,36)",
            "showgrid": false,
            "showline": true,
            "ticks": "outside"
           },
           "bgcolor": "white",
           "caxis": {
            "gridcolor": "rgb(232,232,232)",
            "linecolor": "rgb(36,36,36)",
            "showgrid": false,
            "showline": true,
            "ticks": "outside"
           }
          },
          "title": {
           "x": 0.05
          },
          "xaxis": {
           "automargin": true,
           "gridcolor": "rgb(232,232,232)",
           "linecolor": "rgb(36,36,36)",
           "showgrid": false,
           "showline": true,
           "ticks": "outside",
           "title": {
            "standoff": 15
           },
           "zeroline": false,
           "zerolinecolor": "rgb(36,36,36)"
          },
          "yaxis": {
           "automargin": true,
           "gridcolor": "rgb(232,232,232)",
           "linecolor": "rgb(36,36,36)",
           "showgrid": false,
           "showline": true,
           "ticks": "outside",
           "title": {
            "standoff": 15
           },
           "zeroline": false,
           "zerolinecolor": "rgb(36,36,36)"
          }
         }
        },
        "title": {
         "text": "Distribution of all ratings given per chocolate"
        },
        "width": 1000,
        "xaxis": {
         "anchor": "y",
         "domain": [
          0,
          0.18400000000000002
         ],
         "title": {
          "text": "rating"
         }
        },
        "xaxis10": {
         "anchor": "y10",
         "domain": [
          0.8160000000000001,
          1
         ],
         "matches": "x",
         "showticklabels": false
        },
        "xaxis11": {
         "anchor": "y11",
         "domain": [
          0,
          0.18400000000000002
         ],
         "matches": "x",
         "showticklabels": false
        },
        "xaxis12": {
         "anchor": "y12",
         "domain": [
          0.20400000000000001,
          0.388
         ],
         "matches": "x",
         "showticklabels": false
        },
        "xaxis13": {
         "anchor": "y13",
         "domain": [
          0.40800000000000003,
          0.5920000000000001
         ],
         "matches": "x",
         "showticklabels": false
        },
        "xaxis14": {
         "anchor": "y14",
         "domain": [
          0.6120000000000001,
          0.7960000000000002
         ],
         "matches": "x",
         "showticklabels": false
        },
        "xaxis15": {
         "anchor": "y15",
         "domain": [
          0.8160000000000001,
          1
         ],
         "matches": "x",
         "showticklabels": false
        },
        "xaxis16": {
         "anchor": "y16",
         "domain": [
          0,
          0.18400000000000002
         ],
         "matches": "x",
         "showticklabels": false
        },
        "xaxis17": {
         "anchor": "y17",
         "domain": [
          0.20400000000000001,
          0.388
         ],
         "matches": "x",
         "showticklabels": false
        },
        "xaxis18": {
         "anchor": "y18",
         "domain": [
          0.40800000000000003,
          0.5920000000000001
         ],
         "matches": "x",
         "showticklabels": false
        },
        "xaxis19": {
         "anchor": "y19",
         "domain": [
          0.6120000000000001,
          0.7960000000000002
         ],
         "matches": "x",
         "showticklabels": false
        },
        "xaxis2": {
         "anchor": "y2",
         "domain": [
          0.20400000000000001,
          0.388
         ],
         "matches": "x",
         "title": {
          "text": "rating"
         }
        },
        "xaxis20": {
         "anchor": "y20",
         "domain": [
          0.8160000000000001,
          1
         ],
         "matches": "x",
         "showticklabels": false
        },
        "xaxis3": {
         "anchor": "y3",
         "domain": [
          0.40800000000000003,
          0.5920000000000001
         ],
         "matches": "x",
         "title": {
          "text": "rating"
         }
        },
        "xaxis4": {
         "anchor": "y4",
         "domain": [
          0.6120000000000001,
          0.7960000000000002
         ],
         "matches": "x",
         "title": {
          "text": "rating"
         }
        },
        "xaxis5": {
         "anchor": "y5",
         "domain": [
          0.8160000000000001,
          1
         ],
         "matches": "x",
         "title": {
          "text": "rating"
         }
        },
        "xaxis6": {
         "anchor": "y6",
         "domain": [
          0,
          0.18400000000000002
         ],
         "matches": "x",
         "showticklabels": false
        },
        "xaxis7": {
         "anchor": "y7",
         "domain": [
          0.20400000000000001,
          0.388
         ],
         "matches": "x",
         "showticklabels": false
        },
        "xaxis8": {
         "anchor": "y8",
         "domain": [
          0.40800000000000003,
          0.5920000000000001
         ],
         "matches": "x",
         "showticklabels": false
        },
        "xaxis9": {
         "anchor": "y9",
         "domain": [
          0.6120000000000001,
          0.7960000000000002
         ],
         "matches": "x",
         "showticklabels": false
        },
        "yaxis": {
         "anchor": "x",
         "domain": [
          0,
          0.1975
         ],
         "title": {
          "text": "count"
         }
        },
        "yaxis10": {
         "anchor": "x10",
         "domain": [
          0.2675,
          0.465
         ],
         "matches": "y",
         "showticklabels": false
        },
        "yaxis11": {
         "anchor": "x11",
         "domain": [
          0.535,
          0.7325
         ],
         "matches": "y",
         "title": {
          "text": "count"
         }
        },
        "yaxis12": {
         "anchor": "x12",
         "domain": [
          0.535,
          0.7325
         ],
         "matches": "y",
         "showticklabels": false
        },
        "yaxis13": {
         "anchor": "x13",
         "domain": [
          0.535,
          0.7325
         ],
         "matches": "y",
         "showticklabels": false
        },
        "yaxis14": {
         "anchor": "x14",
         "domain": [
          0.535,
          0.7325
         ],
         "matches": "y",
         "showticklabels": false
        },
        "yaxis15": {
         "anchor": "x15",
         "domain": [
          0.535,
          0.7325
         ],
         "matches": "y",
         "showticklabels": false
        },
        "yaxis16": {
         "anchor": "x16",
         "domain": [
          0.8025,
          1
         ],
         "matches": "y",
         "title": {
          "text": "count"
         }
        },
        "yaxis17": {
         "anchor": "x17",
         "domain": [
          0.8025,
          1
         ],
         "matches": "y",
         "showticklabels": false
        },
        "yaxis18": {
         "anchor": "x18",
         "domain": [
          0.8025,
          1
         ],
         "matches": "y",
         "showticklabels": false
        },
        "yaxis19": {
         "anchor": "x19",
         "domain": [
          0.8025,
          1
         ],
         "matches": "y",
         "showticklabels": false
        },
        "yaxis2": {
         "anchor": "x2",
         "domain": [
          0,
          0.1975
         ],
         "matches": "y",
         "showticklabels": false
        },
        "yaxis20": {
         "anchor": "x20",
         "domain": [
          0.8025,
          1
         ],
         "matches": "y",
         "showticklabels": false
        },
        "yaxis3": {
         "anchor": "x3",
         "domain": [
          0,
          0.1975
         ],
         "matches": "y",
         "showticklabels": false
        },
        "yaxis4": {
         "anchor": "x4",
         "domain": [
          0,
          0.1975
         ],
         "matches": "y",
         "showticklabels": false
        },
        "yaxis5": {
         "anchor": "x5",
         "domain": [
          0,
          0.1975
         ],
         "matches": "y",
         "showticklabels": false
        },
        "yaxis6": {
         "anchor": "x6",
         "domain": [
          0.2675,
          0.465
         ],
         "matches": "y",
         "title": {
          "text": "count"
         }
        },
        "yaxis7": {
         "anchor": "x7",
         "domain": [
          0.2675,
          0.465
         ],
         "matches": "y",
         "showticklabels": false
        },
        "yaxis8": {
         "anchor": "x8",
         "domain": [
          0.2675,
          0.465
         ],
         "matches": "y",
         "showticklabels": false
        },
        "yaxis9": {
         "anchor": "x9",
         "domain": [
          0.2675,
          0.465
         ],
         "matches": "y",
         "showticklabels": false
        }
       }
      }
     },
     "metadata": {},
     "output_type": "display_data"
    }
   ],
   "source": [
    "sim_viz.plot_ratings(facet_col='choc',\n",
    "                     title='Distribution of all ratings given per chocolate')"
   ]
  },
  {
   "attachments": {},
   "cell_type": "markdown",
   "metadata": {},
   "source": [
    "Visualising ratings given by a selection of individual participants in a similar way, we can see the nature of the distributions of ratings does not behave in the same way as the distributions per chocolate. This is a result of the fact that no individual level variation is assumed in the generative model, i.e. that all people are rating chocolates on a scale that is invariant to the population level scale (implicitly assumed to be their own private appeal rating scale bounded by how bad or good they consider it possible for a chocolate to be). So the ratings given by individuals tend to be spread across the appeal scale largeley within the bounds pf -2 to +2."
   ]
  },
  {
   "cell_type": "code",
   "execution_count": 10,
   "metadata": {},
   "outputs": [
    {
     "data": {
      "application/vnd.plotly.v1+json": {
       "config": {
        "plotlyServerURL": "https://plot.ly"
       },
       "data": [
        {
         "alignmentgroup": "True",
         "bingroup": "x",
         "hovertemplate": "person=0<br>rating=%{x}<br>count=%{y}<extra></extra>",
         "legendgroup": "",
         "marker": {
          "color": "#1F77B4",
          "pattern": {
           "shape": ""
          }
         },
         "name": "",
         "offsetgroup": "",
         "orientation": "v",
         "showlegend": false,
         "type": "histogram",
         "x": [
          -1.5838481432233331,
          1.6876498425029143,
          0.3599200847554356,
          -1.9598900229904284,
          0.04084110777294481,
          1.8969681738983875,
          -2.4185342064397997,
          -0.5061163908834788,
          0.7059920330039197,
          -0.7407036395905542,
          -0.5320714653195715,
          -0.247725312536196,
          2.1232779106917157,
          -1.1481311020917038,
          -1.954856675035735,
          0.7471519450759327,
          1.8212025813255408,
          2.1471341445714645,
          0.4288993069950886,
          -1.1518205695582742
         ],
         "xaxis": "x16",
         "yaxis": "y16"
        },
        {
         "alignmentgroup": "True",
         "bingroup": "x",
         "hovertemplate": "person=1<br>rating=%{x}<br>count=%{y}<extra></extra>",
         "legendgroup": "",
         "marker": {
          "color": "#1F77B4",
          "pattern": {
           "shape": ""
          }
         },
         "name": "",
         "offsetgroup": "",
         "orientation": "v",
         "showlegend": false,
         "type": "histogram",
         "x": [
          -0.2762942190674751,
          0.39909205385320945,
          0.6896209037097527,
          -1.2301876921327828,
          -0.7161677010379777,
          1.3211450022940738,
          -2.557827174237332,
          -0.8305193883070267,
          2.2412061891852506,
          -0.7628650155073399,
          -0.3183973305513461,
          -0.32802956529858,
          1.5898181056809757,
          -0.09223783701510913,
          -0.6823876900101076,
          0.7373649033594316,
          1.171477343848922,
          1.7578050862426653,
          1.2646027297694153,
          0.0230546921286382
         ],
         "xaxis": "x17",
         "yaxis": "y17"
        },
        {
         "alignmentgroup": "True",
         "bingroup": "x",
         "hovertemplate": "person=2<br>rating=%{x}<br>count=%{y}<extra></extra>",
         "legendgroup": "",
         "marker": {
          "color": "#1F77B4",
          "pattern": {
           "shape": ""
          }
         },
         "name": "",
         "offsetgroup": "",
         "orientation": "v",
         "showlegend": false,
         "type": "histogram",
         "x": [
          -0.6716545449400231,
          -0.7203660387915773,
          0.45735856424861265,
          -0.6176502392240867,
          -0.58936322500574,
          1.6618213158280701,
          -2.3945307581181616,
          -1.0456283122195729,
          1.465066795509217,
          -1.8808568609614311,
          -0.8129262935103412,
          0.134104378340845,
          1.0916534683171335,
          -0.4062644959396663,
          0.2767196453815758,
          -0.11760159957247973,
          0.8983297157505381,
          2.082181355881646,
          2.349656198455027,
          -1.5531702108764938
         ],
         "xaxis": "x18",
         "yaxis": "y18"
        },
        {
         "alignmentgroup": "True",
         "bingroup": "x",
         "hovertemplate": "person=3<br>rating=%{x}<br>count=%{y}<extra></extra>",
         "legendgroup": "",
         "marker": {
          "color": "#1F77B4",
          "pattern": {
           "shape": ""
          }
         },
         "name": "",
         "offsetgroup": "",
         "orientation": "v",
         "showlegend": false,
         "type": "histogram",
         "x": [
          -1.2634484884105748,
          0.517863085399236,
          0.3125404503396232,
          -1.250397908654063,
          0.12449040706528758,
          1.5692417915863306,
          -2.2812288493832176,
          -0.26339082147793313,
          1.4875900821997943,
          -1.2229638165961727,
          -0.9914591894040867,
          -0.29722784698713545,
          1.080116054155128,
          -0.4896022223403317,
          0.0975370494510428,
          -0.06677454429654245,
          1.6823408298130058,
          2.7549878029875456,
          2.0471166959810336,
          0.04716568608007288
         ],
         "xaxis": "x19",
         "yaxis": "y19"
        },
        {
         "alignmentgroup": "True",
         "bingroup": "x",
         "hovertemplate": "person=4<br>rating=%{x}<br>count=%{y}<extra></extra>",
         "legendgroup": "",
         "marker": {
          "color": "#1F77B4",
          "pattern": {
           "shape": ""
          }
         },
         "name": "",
         "offsetgroup": "",
         "orientation": "v",
         "showlegend": false,
         "type": "histogram",
         "x": [
          -1.616552491226997,
          1.1104315920421928,
          0.5932446696547417,
          -1.3924859499374582,
          -0.3353563950077756,
          1.586929571263988,
          -2.344983558299361,
          0.0826648215606452,
          1.153943417120712,
          -0.7762147712002642,
          -0.5993368893248883,
          -0.042474888230483905,
          0.7237481430372859,
          -1.5099861133946566,
          -1.169605251566238,
          -0.24350853943711778,
          2.7341939392562136,
          2.019823085107602,
          1.949868999251664,
          0.24906886964355915
         ],
         "xaxis": "x20",
         "yaxis": "y20"
        },
        {
         "alignmentgroup": "True",
         "bingroup": "x",
         "hovertemplate": "person=5<br>rating=%{x}<br>count=%{y}<extra></extra>",
         "legendgroup": "",
         "marker": {
          "color": "#1F77B4",
          "pattern": {
           "shape": ""
          }
         },
         "name": "",
         "offsetgroup": "",
         "orientation": "v",
         "showlegend": false,
         "type": "histogram",
         "x": [
          -1.0725315059629685,
          0.8288960805267279,
          0.3157915844069605,
          -1.2653579293895991,
          -0.2876713391734621,
          1.378169352451183,
          -2.153865970881541,
          -0.7916026392999045,
          1.3029575944989635,
          -1.040073149531726,
          -1.0076532798279203,
          -0.10853873344374887,
          1.0886104887152004,
          -0.6050646040615049,
          -0.15713146436791803,
          1.2382888866989838,
          2.4991108446922192,
          1.9944798685663903,
          0.7351136774894278,
          0.5202413772480045
         ],
         "xaxis": "x11",
         "yaxis": "y11"
        },
        {
         "alignmentgroup": "True",
         "bingroup": "x",
         "hovertemplate": "person=6<br>rating=%{x}<br>count=%{y}<extra></extra>",
         "legendgroup": "",
         "marker": {
          "color": "#1F77B4",
          "pattern": {
           "shape": ""
          }
         },
         "name": "",
         "offsetgroup": "",
         "orientation": "v",
         "showlegend": false,
         "type": "histogram",
         "x": [
          -1.0253700889887234,
          2.2649366027918045,
          0.6245955377607364,
          -1.6290541895424768,
          -0.8183884792589787,
          0.873674660084618,
          -2.5249639021338135,
          -0.7528607464823229,
          1.1001332739328635,
          -0.6193817284974964,
          -0.6233518566696143,
          -0.10022610467006374,
          1.599902066692516,
          -0.6974352290195472,
          -0.3037761876357833,
          -4.105989661822272,
          1.9490799722338905,
          2.151909781024075,
          0.7696964965042201,
          0.17746246227987927
         ],
         "xaxis": "x12",
         "yaxis": "y12"
        },
        {
         "alignmentgroup": "True",
         "bingroup": "x",
         "hovertemplate": "person=7<br>rating=%{x}<br>count=%{y}<extra></extra>",
         "legendgroup": "",
         "marker": {
          "color": "#1F77B4",
          "pattern": {
           "shape": ""
          }
         },
         "name": "",
         "offsetgroup": "",
         "orientation": "v",
         "showlegend": false,
         "type": "histogram",
         "x": [
          -0.6321590295551539,
          0.47791642295913395,
          0.8217650088928903,
          -1.2708906653110768,
          -0.5813568840935855,
          1.5885774723798898,
          -2.442171131076881,
          -0.732076747408404,
          1.2214498519576171,
          -0.6906996487230769,
          -0.4972505516954116,
          0.012012415291241502,
          1.341939190548687,
          -1.2961279321630368,
          -0.9201394997061614,
          1.3976787726017015,
          3.0605837805153637,
          2.3030773173368857,
          0.4812441820200385,
          0.38967731060126937
         ],
         "xaxis": "x13",
         "yaxis": "y13"
        },
        {
         "alignmentgroup": "True",
         "bingroup": "x",
         "hovertemplate": "person=8<br>rating=%{x}<br>count=%{y}<extra></extra>",
         "legendgroup": "",
         "marker": {
          "color": "#1F77B4",
          "pattern": {
           "shape": ""
          }
         },
         "name": "",
         "offsetgroup": "",
         "orientation": "v",
         "showlegend": false,
         "type": "histogram",
         "x": [
          -1.8952450828503447,
          0.5180117616581578,
          0.22294663233055156,
          -1.6299789849950637,
          -0.16051008082388196,
          1.219912341989563,
          -2.581635614853721,
          -0.8842309375466233,
          0.6877437153186978,
          -0.7883759056910589,
          -1.1804842570161957,
          0.04407891813381193,
          1.3571963250285721,
          -0.6069762550027188,
          -0.21442472877701566,
          -0.9277203014794538,
          3.190701490742059,
          2.1256411841797207,
          1.4120245392957032,
          0.19549939214555667
         ],
         "xaxis": "x14",
         "yaxis": "y14"
        },
        {
         "alignmentgroup": "True",
         "bingroup": "x",
         "hovertemplate": "person=9<br>rating=%{x}<br>count=%{y}<extra></extra>",
         "legendgroup": "",
         "marker": {
          "color": "#1F77B4",
          "pattern": {
           "shape": ""
          }
         },
         "name": "",
         "offsetgroup": "",
         "orientation": "v",
         "showlegend": false,
         "type": "histogram",
         "x": [
          -0.8980842238468557,
          1.2402205725730229,
          0.3441773452481969,
          -1.8395171972965294,
          -0.38809742149148097,
          1.5544215628632319,
          -2.3137898346320136,
          -1.141852361534788,
          0.5813142234605608,
          -0.6371565668765913,
          -0.09502131698754512,
          0.059026060690594795,
          1.1203422610362197,
          -1.4242100037546832,
          0.08454031816287455,
          -0.5259227439505932,
          2.769339334744262,
          2.2230618452686777,
          1.0244108221117065,
          3.2196185714265697
         ],
         "xaxis": "x15",
         "yaxis": "y15"
        },
        {
         "alignmentgroup": "True",
         "bingroup": "x",
         "hovertemplate": "person=10<br>rating=%{x}<br>count=%{y}<extra></extra>",
         "legendgroup": "",
         "marker": {
          "color": "#1F77B4",
          "pattern": {
           "shape": ""
          }
         },
         "name": "",
         "offsetgroup": "",
         "orientation": "v",
         "showlegend": false,
         "type": "histogram",
         "x": [
          -1.0895830035461391,
          0.8590477601646037,
          0.2532448471001165,
          -1.7058697804224625,
          -0.14585511737478418,
          1.5438374916151334,
          -2.312813170487072,
          -0.3346476226042308,
          1.8355460748451915,
          -0.601318414823838,
          -1.0591761372019344,
          -0.33891650489108094,
          2.2571174382427723,
          -0.9214142069738459,
          -1.383770343573687,
          -1.1952783874664425,
          3.412120195188991,
          1.7399528574440923,
          0.4089986818587593,
          -0.25240536672293945
         ],
         "xaxis": "x6",
         "yaxis": "y6"
        },
        {
         "alignmentgroup": "True",
         "bingroup": "x",
         "hovertemplate": "person=11<br>rating=%{x}<br>count=%{y}<extra></extra>",
         "legendgroup": "",
         "marker": {
          "color": "#1F77B4",
          "pattern": {
           "shape": ""
          }
         },
         "name": "",
         "offsetgroup": "",
         "orientation": "v",
         "showlegend": false,
         "type": "histogram",
         "x": [
          -1.8923572898831118,
          -0.031192439403434857,
          -0.08869202444308699,
          -1.6640251634552568,
          -0.7337158642056532,
          1.4438335570507597,
          -2.722775223463367,
          -0.013788021983344667,
          0.6448820110414036,
          -0.6911101219047098,
          -1.0157314612193145,
          0.028328737932709916,
          2.0110739859478355,
          -1.0462161971364143,
          -1.8129673943376823,
          0.3563128954727422,
          3.995054573367497,
          2.317573607977561,
          1.1143058588706218,
          1.1712591051634909
         ],
         "xaxis": "x7",
         "yaxis": "y7"
        },
        {
         "alignmentgroup": "True",
         "bingroup": "x",
         "hovertemplate": "person=12<br>rating=%{x}<br>count=%{y}<extra></extra>",
         "legendgroup": "",
         "marker": {
          "color": "#1F77B4",
          "pattern": {
           "shape": ""
          }
         },
         "name": "",
         "offsetgroup": "",
         "orientation": "v",
         "showlegend": false,
         "type": "histogram",
         "x": [
          -0.592348029607864,
          0.27740392800400937,
          0.12160189240746214,
          -1.2972846899509145,
          -0.6415423840512957,
          2.051899490799827,
          -2.5527922934585554,
          -0.1802988015447363,
          1.4260447256148792,
          -0.9466093670781937,
          -0.3103409897856272,
          0.03049278202185618,
          0.9449907634725486,
          -0.34176648750055044,
          0.5345109217576474,
          -0.5825832698675967,
          1.9687639978532698,
          1.9760989602207522,
          0.9947115921233051,
          1.0433507263398138
         ],
         "xaxis": "x8",
         "yaxis": "y8"
        },
        {
         "alignmentgroup": "True",
         "bingroup": "x",
         "hovertemplate": "person=13<br>rating=%{x}<br>count=%{y}<extra></extra>",
         "legendgroup": "",
         "marker": {
          "color": "#1F77B4",
          "pattern": {
           "shape": ""
          }
         },
         "name": "",
         "offsetgroup": "",
         "orientation": "v",
         "showlegend": false,
         "type": "histogram",
         "x": [
          -1.612836626964789,
          -0.17190879105274703,
          0.1909855910798267,
          -1.978173683123575,
          -0.3499236409769513,
          1.5216532169113073,
          -2.740985410657553,
          -0.54437692864887,
          1.1759307959251992,
          -0.5830272758233885,
          -0.7244449064358252,
          0.24932517034370227,
          1.2093712600710587,
          -0.6678621396364213,
          -0.5172168611577064,
          -0.7555185793865293,
          2.3417745373435683,
          2.3570704968132423,
          1.9243506520457743,
          -1.1166671654879374
         ],
         "xaxis": "x9",
         "yaxis": "y9"
        },
        {
         "alignmentgroup": "True",
         "bingroup": "x",
         "hovertemplate": "person=14<br>rating=%{x}<br>count=%{y}<extra></extra>",
         "legendgroup": "",
         "marker": {
          "color": "#1F77B4",
          "pattern": {
           "shape": ""
          }
         },
         "name": "",
         "offsetgroup": "",
         "orientation": "v",
         "showlegend": false,
         "type": "histogram",
         "x": [
          -1.414683151067564,
          0.6084750217769093,
          0.5125875349072606,
          -1.6282768481957293,
          -1.406901201753374,
          1.6781209145599947,
          -2.43271132845473,
          -0.36937607900872693,
          0.7798871536293233,
          0.2191514516093409,
          -0.7803878635599976,
          -0.12937458166153695,
          1.002056559600105,
          -1.0709945971244275,
          -1.3141256417475478,
          -0.8812935955637721,
          1.292595707962061,
          2.83380026804078,
          -0.2928456538873494,
          -0.6943992087771345
         ],
         "xaxis": "x10",
         "yaxis": "y10"
        },
        {
         "alignmentgroup": "True",
         "bingroup": "x",
         "hovertemplate": "person=15<br>rating=%{x}<br>count=%{y}<extra></extra>",
         "legendgroup": "",
         "marker": {
          "color": "#1F77B4",
          "pattern": {
           "shape": ""
          }
         },
         "name": "",
         "offsetgroup": "",
         "orientation": "v",
         "showlegend": false,
         "type": "histogram",
         "x": [
          -1.3444496192478586,
          1.5822439563794277,
          0.1816805411252101,
          -1.275108851485592,
          -1.0098904193468874,
          1.6694707173273222,
          -2.1144072292603666,
          -0.7494448156380911,
          1.4619925659598638,
          -0.7360269792000245,
          -1.3845454122279164,
          -0.20313895036890886,
          2.1063949150688352,
          -0.5762103348811822,
          -1.3066762379710188,
          0.3506196844356418,
          1.7489462114965708,
          2.3000667239645187,
          1.2628992776869294,
          -0.6851719613916081
         ],
         "xaxis": "x",
         "yaxis": "y"
        },
        {
         "alignmentgroup": "True",
         "bingroup": "x",
         "hovertemplate": "person=16<br>rating=%{x}<br>count=%{y}<extra></extra>",
         "legendgroup": "",
         "marker": {
          "color": "#1F77B4",
          "pattern": {
           "shape": ""
          }
         },
         "name": "",
         "offsetgroup": "",
         "orientation": "v",
         "showlegend": false,
         "type": "histogram",
         "x": [
          -0.576375080265944,
          0.12236693444520386,
          -0.03671030084625371,
          -1.808230562840655,
          -0.7298615413217666,
          1.6847129497985023,
          -2.5650110063262535,
          -0.18221674095403187,
          1.3834408763458164,
          -1.3056353996560706,
          -0.40026463837979315,
          0.11904470892580832,
          1.4377349311261636,
          -0.7386789923971206,
          -1.706261572790101,
          -0.8974318710954254,
          1.9278931669398327,
          2.2639883632649433,
          0.8883890607020365,
          0.619887416781909
         ],
         "xaxis": "x2",
         "yaxis": "y2"
        },
        {
         "alignmentgroup": "True",
         "bingroup": "x",
         "hovertemplate": "person=17<br>rating=%{x}<br>count=%{y}<extra></extra>",
         "legendgroup": "",
         "marker": {
          "color": "#1F77B4",
          "pattern": {
           "shape": ""
          }
         },
         "name": "",
         "offsetgroup": "",
         "orientation": "v",
         "showlegend": false,
         "type": "histogram",
         "x": [
          -0.09649889575794357,
          0.5371376062002478,
          0.1627762938839008,
          -1.9540416117333472,
          -0.5823853750219521,
          1.9485470866830579,
          -2.7402098527937735,
          -0.649454944235263,
          1.2827305987050246,
          -0.329741465401313,
          -0.5588898240228425,
          -0.03479083657516968,
          1.3694311613921153,
          -0.41525661253548934,
          0.27783323449754604,
          -2.3763794345650773,
          2.90080168312959,
          2.1557138742895523,
          0.6400903851957556,
          -1.9535114292773115
         ],
         "xaxis": "x3",
         "yaxis": "y3"
        },
        {
         "alignmentgroup": "True",
         "bingroup": "x",
         "hovertemplate": "person=18<br>rating=%{x}<br>count=%{y}<extra></extra>",
         "legendgroup": "",
         "marker": {
          "color": "#1F77B4",
          "pattern": {
           "shape": ""
          }
         },
         "name": "",
         "offsetgroup": "",
         "orientation": "v",
         "showlegend": false,
         "type": "histogram",
         "x": [
          -1.9756364075837327,
          2.4720374083194985,
          0.11440472267247517,
          -1.8772958753979747,
          -0.7780846978218696,
          1.4247901835146157,
          -2.4044127262955577,
          0.07353294720684916,
          0.9918213454078606,
          -0.7692773837049096,
          -1.0384446385500157,
          0.18515497347883825,
          1.5941722111861159,
          -1.1409911825754075,
          0.1995549334375436,
          0.9292654695954756,
          2.359925951022162,
          1.6709922993742143,
          2.2299972260708336,
          0.683186186188356
         ],
         "xaxis": "x4",
         "yaxis": "y4"
        },
        {
         "alignmentgroup": "True",
         "bingroup": "x",
         "hovertemplate": "person=19<br>rating=%{x}<br>count=%{y}<extra></extra>",
         "legendgroup": "",
         "marker": {
          "color": "#1F77B4",
          "pattern": {
           "shape": ""
          }
         },
         "name": "",
         "offsetgroup": "",
         "orientation": "v",
         "showlegend": false,
         "type": "histogram",
         "x": [
          -0.3309596000214241,
          0.5189181451351024,
          0.1853854646189409,
          -1.468518707711232,
          -0.09197955530227608,
          1.6949288397348992,
          -2.651716387869215,
          -0.34213768029395464,
          2.027387807704489,
          -0.8251714293720898,
          -0.6383351081741748,
          -0.32714435200909886,
          0.7285869422110052,
          -0.9348648983680439,
          -0.6763436831015333,
          -0.31610092450290356,
          2.364218600097305,
          2.6907848362363342,
          1.0443567942053142,
          1.4055683876602687
         ],
         "xaxis": "x5",
         "yaxis": "y5"
        }
       ],
       "layout": {
        "annotations": [
         {
          "font": {},
          "showarrow": false,
          "text": "person=15",
          "x": 0.09200000000000001,
          "xanchor": "center",
          "xref": "paper",
          "y": 0.1975,
          "yanchor": "bottom",
          "yref": "paper"
         },
         {
          "font": {},
          "showarrow": false,
          "text": "person=16",
          "x": 0.29600000000000004,
          "xanchor": "center",
          "xref": "paper",
          "y": 0.1975,
          "yanchor": "bottom",
          "yref": "paper"
         },
         {
          "font": {},
          "showarrow": false,
          "text": "person=17",
          "x": 0.5,
          "xanchor": "center",
          "xref": "paper",
          "y": 0.1975,
          "yanchor": "bottom",
          "yref": "paper"
         },
         {
          "font": {},
          "showarrow": false,
          "text": "person=18",
          "x": 0.7040000000000002,
          "xanchor": "center",
          "xref": "paper",
          "y": 0.1975,
          "yanchor": "bottom",
          "yref": "paper"
         },
         {
          "font": {},
          "showarrow": false,
          "text": "person=19",
          "x": 0.908,
          "xanchor": "center",
          "xref": "paper",
          "y": 0.1975,
          "yanchor": "bottom",
          "yref": "paper"
         },
         {
          "font": {},
          "showarrow": false,
          "text": "person=10",
          "x": 0.09200000000000001,
          "xanchor": "center",
          "xref": "paper",
          "y": 0.465,
          "yanchor": "bottom",
          "yref": "paper"
         },
         {
          "font": {},
          "showarrow": false,
          "text": "person=11",
          "x": 0.29600000000000004,
          "xanchor": "center",
          "xref": "paper",
          "y": 0.465,
          "yanchor": "bottom",
          "yref": "paper"
         },
         {
          "font": {},
          "showarrow": false,
          "text": "person=12",
          "x": 0.5,
          "xanchor": "center",
          "xref": "paper",
          "y": 0.465,
          "yanchor": "bottom",
          "yref": "paper"
         },
         {
          "font": {},
          "showarrow": false,
          "text": "person=13",
          "x": 0.7040000000000002,
          "xanchor": "center",
          "xref": "paper",
          "y": 0.465,
          "yanchor": "bottom",
          "yref": "paper"
         },
         {
          "font": {},
          "showarrow": false,
          "text": "person=14",
          "x": 0.908,
          "xanchor": "center",
          "xref": "paper",
          "y": 0.465,
          "yanchor": "bottom",
          "yref": "paper"
         },
         {
          "font": {},
          "showarrow": false,
          "text": "person=5",
          "x": 0.09200000000000001,
          "xanchor": "center",
          "xref": "paper",
          "y": 0.7325,
          "yanchor": "bottom",
          "yref": "paper"
         },
         {
          "font": {},
          "showarrow": false,
          "text": "person=6",
          "x": 0.29600000000000004,
          "xanchor": "center",
          "xref": "paper",
          "y": 0.7325,
          "yanchor": "bottom",
          "yref": "paper"
         },
         {
          "font": {},
          "showarrow": false,
          "text": "person=7",
          "x": 0.5,
          "xanchor": "center",
          "xref": "paper",
          "y": 0.7325,
          "yanchor": "bottom",
          "yref": "paper"
         },
         {
          "font": {},
          "showarrow": false,
          "text": "person=8",
          "x": 0.7040000000000002,
          "xanchor": "center",
          "xref": "paper",
          "y": 0.7325,
          "yanchor": "bottom",
          "yref": "paper"
         },
         {
          "font": {},
          "showarrow": false,
          "text": "person=9",
          "x": 0.908,
          "xanchor": "center",
          "xref": "paper",
          "y": 0.7325,
          "yanchor": "bottom",
          "yref": "paper"
         },
         {
          "font": {},
          "showarrow": false,
          "text": "person=0",
          "x": 0.09200000000000001,
          "xanchor": "center",
          "xref": "paper",
          "y": 1,
          "yanchor": "bottom",
          "yref": "paper"
         },
         {
          "font": {},
          "showarrow": false,
          "text": "person=1",
          "x": 0.29600000000000004,
          "xanchor": "center",
          "xref": "paper",
          "y": 1,
          "yanchor": "bottom",
          "yref": "paper"
         },
         {
          "font": {},
          "showarrow": false,
          "text": "person=2",
          "x": 0.5,
          "xanchor": "center",
          "xref": "paper",
          "y": 1,
          "yanchor": "bottom",
          "yref": "paper"
         },
         {
          "font": {},
          "showarrow": false,
          "text": "person=3",
          "x": 0.7040000000000002,
          "xanchor": "center",
          "xref": "paper",
          "y": 1,
          "yanchor": "bottom",
          "yref": "paper"
         },
         {
          "font": {},
          "showarrow": false,
          "text": "person=4",
          "x": 0.908,
          "xanchor": "center",
          "xref": "paper",
          "y": 1,
          "yanchor": "bottom",
          "yref": "paper"
         }
        ],
        "barmode": "relative",
        "height": 600,
        "legend": {
         "tracegroupgap": 0
        },
        "template": {
         "data": {
          "bar": [
           {
            "error_x": {
             "color": "rgb(36,36,36)"
            },
            "error_y": {
             "color": "rgb(36,36,36)"
            },
            "marker": {
             "line": {
              "color": "white",
              "width": 0.5
             },
             "pattern": {
              "fillmode": "overlay",
              "size": 10,
              "solidity": 0.2
             }
            },
            "type": "bar"
           }
          ],
          "barpolar": [
           {
            "marker": {
             "line": {
              "color": "white",
              "width": 0.5
             },
             "pattern": {
              "fillmode": "overlay",
              "size": 10,
              "solidity": 0.2
             }
            },
            "type": "barpolar"
           }
          ],
          "carpet": [
           {
            "aaxis": {
             "endlinecolor": "rgb(36,36,36)",
             "gridcolor": "white",
             "linecolor": "white",
             "minorgridcolor": "white",
             "startlinecolor": "rgb(36,36,36)"
            },
            "baxis": {
             "endlinecolor": "rgb(36,36,36)",
             "gridcolor": "white",
             "linecolor": "white",
             "minorgridcolor": "white",
             "startlinecolor": "rgb(36,36,36)"
            },
            "type": "carpet"
           }
          ],
          "choropleth": [
           {
            "colorbar": {
             "outlinewidth": 1,
             "tickcolor": "rgb(36,36,36)",
             "ticks": "outside"
            },
            "type": "choropleth"
           }
          ],
          "contour": [
           {
            "colorbar": {
             "outlinewidth": 1,
             "tickcolor": "rgb(36,36,36)",
             "ticks": "outside"
            },
            "colorscale": [
             [
              0,
              "#440154"
             ],
             [
              0.1111111111111111,
              "#482878"
             ],
             [
              0.2222222222222222,
              "#3e4989"
             ],
             [
              0.3333333333333333,
              "#31688e"
             ],
             [
              0.4444444444444444,
              "#26828e"
             ],
             [
              0.5555555555555556,
              "#1f9e89"
             ],
             [
              0.6666666666666666,
              "#35b779"
             ],
             [
              0.7777777777777778,
              "#6ece58"
             ],
             [
              0.8888888888888888,
              "#b5de2b"
             ],
             [
              1,
              "#fde725"
             ]
            ],
            "type": "contour"
           }
          ],
          "contourcarpet": [
           {
            "colorbar": {
             "outlinewidth": 1,
             "tickcolor": "rgb(36,36,36)",
             "ticks": "outside"
            },
            "type": "contourcarpet"
           }
          ],
          "heatmap": [
           {
            "colorbar": {
             "outlinewidth": 1,
             "tickcolor": "rgb(36,36,36)",
             "ticks": "outside"
            },
            "colorscale": [
             [
              0,
              "#440154"
             ],
             [
              0.1111111111111111,
              "#482878"
             ],
             [
              0.2222222222222222,
              "#3e4989"
             ],
             [
              0.3333333333333333,
              "#31688e"
             ],
             [
              0.4444444444444444,
              "#26828e"
             ],
             [
              0.5555555555555556,
              "#1f9e89"
             ],
             [
              0.6666666666666666,
              "#35b779"
             ],
             [
              0.7777777777777778,
              "#6ece58"
             ],
             [
              0.8888888888888888,
              "#b5de2b"
             ],
             [
              1,
              "#fde725"
             ]
            ],
            "type": "heatmap"
           }
          ],
          "heatmapgl": [
           {
            "colorbar": {
             "outlinewidth": 1,
             "tickcolor": "rgb(36,36,36)",
             "ticks": "outside"
            },
            "colorscale": [
             [
              0,
              "#440154"
             ],
             [
              0.1111111111111111,
              "#482878"
             ],
             [
              0.2222222222222222,
              "#3e4989"
             ],
             [
              0.3333333333333333,
              "#31688e"
             ],
             [
              0.4444444444444444,
              "#26828e"
             ],
             [
              0.5555555555555556,
              "#1f9e89"
             ],
             [
              0.6666666666666666,
              "#35b779"
             ],
             [
              0.7777777777777778,
              "#6ece58"
             ],
             [
              0.8888888888888888,
              "#b5de2b"
             ],
             [
              1,
              "#fde725"
             ]
            ],
            "type": "heatmapgl"
           }
          ],
          "histogram": [
           {
            "marker": {
             "line": {
              "color": "white",
              "width": 0.6
             }
            },
            "type": "histogram"
           }
          ],
          "histogram2d": [
           {
            "colorbar": {
             "outlinewidth": 1,
             "tickcolor": "rgb(36,36,36)",
             "ticks": "outside"
            },
            "colorscale": [
             [
              0,
              "#440154"
             ],
             [
              0.1111111111111111,
              "#482878"
             ],
             [
              0.2222222222222222,
              "#3e4989"
             ],
             [
              0.3333333333333333,
              "#31688e"
             ],
             [
              0.4444444444444444,
              "#26828e"
             ],
             [
              0.5555555555555556,
              "#1f9e89"
             ],
             [
              0.6666666666666666,
              "#35b779"
             ],
             [
              0.7777777777777778,
              "#6ece58"
             ],
             [
              0.8888888888888888,
              "#b5de2b"
             ],
             [
              1,
              "#fde725"
             ]
            ],
            "type": "histogram2d"
           }
          ],
          "histogram2dcontour": [
           {
            "colorbar": {
             "outlinewidth": 1,
             "tickcolor": "rgb(36,36,36)",
             "ticks": "outside"
            },
            "colorscale": [
             [
              0,
              "#440154"
             ],
             [
              0.1111111111111111,
              "#482878"
             ],
             [
              0.2222222222222222,
              "#3e4989"
             ],
             [
              0.3333333333333333,
              "#31688e"
             ],
             [
              0.4444444444444444,
              "#26828e"
             ],
             [
              0.5555555555555556,
              "#1f9e89"
             ],
             [
              0.6666666666666666,
              "#35b779"
             ],
             [
              0.7777777777777778,
              "#6ece58"
             ],
             [
              0.8888888888888888,
              "#b5de2b"
             ],
             [
              1,
              "#fde725"
             ]
            ],
            "type": "histogram2dcontour"
           }
          ],
          "mesh3d": [
           {
            "colorbar": {
             "outlinewidth": 1,
             "tickcolor": "rgb(36,36,36)",
             "ticks": "outside"
            },
            "type": "mesh3d"
           }
          ],
          "parcoords": [
           {
            "line": {
             "colorbar": {
              "outlinewidth": 1,
              "tickcolor": "rgb(36,36,36)",
              "ticks": "outside"
             }
            },
            "type": "parcoords"
           }
          ],
          "pie": [
           {
            "automargin": true,
            "type": "pie"
           }
          ],
          "scatter": [
           {
            "fillpattern": {
             "fillmode": "overlay",
             "size": 10,
             "solidity": 0.2
            },
            "type": "scatter"
           }
          ],
          "scatter3d": [
           {
            "line": {
             "colorbar": {
              "outlinewidth": 1,
              "tickcolor": "rgb(36,36,36)",
              "ticks": "outside"
             }
            },
            "marker": {
             "colorbar": {
              "outlinewidth": 1,
              "tickcolor": "rgb(36,36,36)",
              "ticks": "outside"
             }
            },
            "type": "scatter3d"
           }
          ],
          "scattercarpet": [
           {
            "marker": {
             "colorbar": {
              "outlinewidth": 1,
              "tickcolor": "rgb(36,36,36)",
              "ticks": "outside"
             }
            },
            "type": "scattercarpet"
           }
          ],
          "scattergeo": [
           {
            "marker": {
             "colorbar": {
              "outlinewidth": 1,
              "tickcolor": "rgb(36,36,36)",
              "ticks": "outside"
             }
            },
            "type": "scattergeo"
           }
          ],
          "scattergl": [
           {
            "marker": {
             "colorbar": {
              "outlinewidth": 1,
              "tickcolor": "rgb(36,36,36)",
              "ticks": "outside"
             }
            },
            "type": "scattergl"
           }
          ],
          "scattermapbox": [
           {
            "marker": {
             "colorbar": {
              "outlinewidth": 1,
              "tickcolor": "rgb(36,36,36)",
              "ticks": "outside"
             }
            },
            "type": "scattermapbox"
           }
          ],
          "scatterpolar": [
           {
            "marker": {
             "colorbar": {
              "outlinewidth": 1,
              "tickcolor": "rgb(36,36,36)",
              "ticks": "outside"
             }
            },
            "type": "scatterpolar"
           }
          ],
          "scatterpolargl": [
           {
            "marker": {
             "colorbar": {
              "outlinewidth": 1,
              "tickcolor": "rgb(36,36,36)",
              "ticks": "outside"
             }
            },
            "type": "scatterpolargl"
           }
          ],
          "scatterternary": [
           {
            "marker": {
             "colorbar": {
              "outlinewidth": 1,
              "tickcolor": "rgb(36,36,36)",
              "ticks": "outside"
             }
            },
            "type": "scatterternary"
           }
          ],
          "surface": [
           {
            "colorbar": {
             "outlinewidth": 1,
             "tickcolor": "rgb(36,36,36)",
             "ticks": "outside"
            },
            "colorscale": [
             [
              0,
              "#440154"
             ],
             [
              0.1111111111111111,
              "#482878"
             ],
             [
              0.2222222222222222,
              "#3e4989"
             ],
             [
              0.3333333333333333,
              "#31688e"
             ],
             [
              0.4444444444444444,
              "#26828e"
             ],
             [
              0.5555555555555556,
              "#1f9e89"
             ],
             [
              0.6666666666666666,
              "#35b779"
             ],
             [
              0.7777777777777778,
              "#6ece58"
             ],
             [
              0.8888888888888888,
              "#b5de2b"
             ],
             [
              1,
              "#fde725"
             ]
            ],
            "type": "surface"
           }
          ],
          "table": [
           {
            "cells": {
             "fill": {
              "color": "rgb(237,237,237)"
             },
             "line": {
              "color": "white"
             }
            },
            "header": {
             "fill": {
              "color": "rgb(217,217,217)"
             },
             "line": {
              "color": "white"
             }
            },
            "type": "table"
           }
          ]
         },
         "layout": {
          "annotationdefaults": {
           "arrowhead": 0,
           "arrowwidth": 1
          },
          "autotypenumbers": "strict",
          "coloraxis": {
           "colorbar": {
            "outlinewidth": 1,
            "tickcolor": "rgb(36,36,36)",
            "ticks": "outside"
           }
          },
          "colorscale": {
           "diverging": [
            [
             0,
             "rgb(103,0,31)"
            ],
            [
             0.1,
             "rgb(178,24,43)"
            ],
            [
             0.2,
             "rgb(214,96,77)"
            ],
            [
             0.3,
             "rgb(244,165,130)"
            ],
            [
             0.4,
             "rgb(253,219,199)"
            ],
            [
             0.5,
             "rgb(247,247,247)"
            ],
            [
             0.6,
             "rgb(209,229,240)"
            ],
            [
             0.7,
             "rgb(146,197,222)"
            ],
            [
             0.8,
             "rgb(67,147,195)"
            ],
            [
             0.9,
             "rgb(33,102,172)"
            ],
            [
             1,
             "rgb(5,48,97)"
            ]
           ],
           "sequential": [
            [
             0,
             "#440154"
            ],
            [
             0.1111111111111111,
             "#482878"
            ],
            [
             0.2222222222222222,
             "#3e4989"
            ],
            [
             0.3333333333333333,
             "#31688e"
            ],
            [
             0.4444444444444444,
             "#26828e"
            ],
            [
             0.5555555555555556,
             "#1f9e89"
            ],
            [
             0.6666666666666666,
             "#35b779"
            ],
            [
             0.7777777777777778,
             "#6ece58"
            ],
            [
             0.8888888888888888,
             "#b5de2b"
            ],
            [
             1,
             "#fde725"
            ]
           ],
           "sequentialminus": [
            [
             0,
             "#440154"
            ],
            [
             0.1111111111111111,
             "#482878"
            ],
            [
             0.2222222222222222,
             "#3e4989"
            ],
            [
             0.3333333333333333,
             "#31688e"
            ],
            [
             0.4444444444444444,
             "#26828e"
            ],
            [
             0.5555555555555556,
             "#1f9e89"
            ],
            [
             0.6666666666666666,
             "#35b779"
            ],
            [
             0.7777777777777778,
             "#6ece58"
            ],
            [
             0.8888888888888888,
             "#b5de2b"
            ],
            [
             1,
             "#fde725"
            ]
           ]
          },
          "colorway": [
           "#1F77B4",
           "#FF7F0E",
           "#2CA02C",
           "#D62728",
           "#9467BD",
           "#8C564B",
           "#E377C2",
           "#7F7F7F",
           "#BCBD22",
           "#17BECF"
          ],
          "font": {
           "color": "rgb(36,36,36)"
          },
          "geo": {
           "bgcolor": "white",
           "lakecolor": "white",
           "landcolor": "white",
           "showlakes": true,
           "showland": true,
           "subunitcolor": "white"
          },
          "hoverlabel": {
           "align": "left"
          },
          "hovermode": "closest",
          "mapbox": {
           "style": "light"
          },
          "paper_bgcolor": "white",
          "plot_bgcolor": "white",
          "polar": {
           "angularaxis": {
            "gridcolor": "rgb(232,232,232)",
            "linecolor": "rgb(36,36,36)",
            "showgrid": false,
            "showline": true,
            "ticks": "outside"
           },
           "bgcolor": "white",
           "radialaxis": {
            "gridcolor": "rgb(232,232,232)",
            "linecolor": "rgb(36,36,36)",
            "showgrid": false,
            "showline": true,
            "ticks": "outside"
           }
          },
          "scene": {
           "xaxis": {
            "backgroundcolor": "white",
            "gridcolor": "rgb(232,232,232)",
            "gridwidth": 2,
            "linecolor": "rgb(36,36,36)",
            "showbackground": true,
            "showgrid": false,
            "showline": true,
            "ticks": "outside",
            "zeroline": false,
            "zerolinecolor": "rgb(36,36,36)"
           },
           "yaxis": {
            "backgroundcolor": "white",
            "gridcolor": "rgb(232,232,232)",
            "gridwidth": 2,
            "linecolor": "rgb(36,36,36)",
            "showbackground": true,
            "showgrid": false,
            "showline": true,
            "ticks": "outside",
            "zeroline": false,
            "zerolinecolor": "rgb(36,36,36)"
           },
           "zaxis": {
            "backgroundcolor": "white",
            "gridcolor": "rgb(232,232,232)",
            "gridwidth": 2,
            "linecolor": "rgb(36,36,36)",
            "showbackground": true,
            "showgrid": false,
            "showline": true,
            "ticks": "outside",
            "zeroline": false,
            "zerolinecolor": "rgb(36,36,36)"
           }
          },
          "shapedefaults": {
           "fillcolor": "black",
           "line": {
            "width": 0
           },
           "opacity": 0.3
          },
          "ternary": {
           "aaxis": {
            "gridcolor": "rgb(232,232,232)",
            "linecolor": "rgb(36,36,36)",
            "showgrid": false,
            "showline": true,
            "ticks": "outside"
           },
           "baxis": {
            "gridcolor": "rgb(232,232,232)",
            "linecolor": "rgb(36,36,36)",
            "showgrid": false,
            "showline": true,
            "ticks": "outside"
           },
           "bgcolor": "white",
           "caxis": {
            "gridcolor": "rgb(232,232,232)",
            "linecolor": "rgb(36,36,36)",
            "showgrid": false,
            "showline": true,
            "ticks": "outside"
           }
          },
          "title": {
           "x": 0.05
          },
          "xaxis": {
           "automargin": true,
           "gridcolor": "rgb(232,232,232)",
           "linecolor": "rgb(36,36,36)",
           "showgrid": false,
           "showline": true,
           "ticks": "outside",
           "title": {
            "standoff": 15
           },
           "zeroline": false,
           "zerolinecolor": "rgb(36,36,36)"
          },
          "yaxis": {
           "automargin": true,
           "gridcolor": "rgb(232,232,232)",
           "linecolor": "rgb(36,36,36)",
           "showgrid": false,
           "showline": true,
           "ticks": "outside",
           "title": {
            "standoff": 15
           },
           "zeroline": false,
           "zerolinecolor": "rgb(36,36,36)"
          }
         }
        },
        "title": {
         "text": "Distribution of ratings given by a selection of people"
        },
        "width": 1000,
        "xaxis": {
         "anchor": "y",
         "domain": [
          0,
          0.18400000000000002
         ],
         "title": {
          "text": "rating"
         }
        },
        "xaxis10": {
         "anchor": "y10",
         "domain": [
          0.8160000000000001,
          1
         ],
         "matches": "x",
         "showticklabels": false
        },
        "xaxis11": {
         "anchor": "y11",
         "domain": [
          0,
          0.18400000000000002
         ],
         "matches": "x",
         "showticklabels": false
        },
        "xaxis12": {
         "anchor": "y12",
         "domain": [
          0.20400000000000001,
          0.388
         ],
         "matches": "x",
         "showticklabels": false
        },
        "xaxis13": {
         "anchor": "y13",
         "domain": [
          0.40800000000000003,
          0.5920000000000001
         ],
         "matches": "x",
         "showticklabels": false
        },
        "xaxis14": {
         "anchor": "y14",
         "domain": [
          0.6120000000000001,
          0.7960000000000002
         ],
         "matches": "x",
         "showticklabels": false
        },
        "xaxis15": {
         "anchor": "y15",
         "domain": [
          0.8160000000000001,
          1
         ],
         "matches": "x",
         "showticklabels": false
        },
        "xaxis16": {
         "anchor": "y16",
         "domain": [
          0,
          0.18400000000000002
         ],
         "matches": "x",
         "showticklabels": false
        },
        "xaxis17": {
         "anchor": "y17",
         "domain": [
          0.20400000000000001,
          0.388
         ],
         "matches": "x",
         "showticklabels": false
        },
        "xaxis18": {
         "anchor": "y18",
         "domain": [
          0.40800000000000003,
          0.5920000000000001
         ],
         "matches": "x",
         "showticklabels": false
        },
        "xaxis19": {
         "anchor": "y19",
         "domain": [
          0.6120000000000001,
          0.7960000000000002
         ],
         "matches": "x",
         "showticklabels": false
        },
        "xaxis2": {
         "anchor": "y2",
         "domain": [
          0.20400000000000001,
          0.388
         ],
         "matches": "x",
         "title": {
          "text": "rating"
         }
        },
        "xaxis20": {
         "anchor": "y20",
         "domain": [
          0.8160000000000001,
          1
         ],
         "matches": "x",
         "showticklabels": false
        },
        "xaxis3": {
         "anchor": "y3",
         "domain": [
          0.40800000000000003,
          0.5920000000000001
         ],
         "matches": "x",
         "title": {
          "text": "rating"
         }
        },
        "xaxis4": {
         "anchor": "y4",
         "domain": [
          0.6120000000000001,
          0.7960000000000002
         ],
         "matches": "x",
         "title": {
          "text": "rating"
         }
        },
        "xaxis5": {
         "anchor": "y5",
         "domain": [
          0.8160000000000001,
          1
         ],
         "matches": "x",
         "title": {
          "text": "rating"
         }
        },
        "xaxis6": {
         "anchor": "y6",
         "domain": [
          0,
          0.18400000000000002
         ],
         "matches": "x",
         "showticklabels": false
        },
        "xaxis7": {
         "anchor": "y7",
         "domain": [
          0.20400000000000001,
          0.388
         ],
         "matches": "x",
         "showticklabels": false
        },
        "xaxis8": {
         "anchor": "y8",
         "domain": [
          0.40800000000000003,
          0.5920000000000001
         ],
         "matches": "x",
         "showticklabels": false
        },
        "xaxis9": {
         "anchor": "y9",
         "domain": [
          0.6120000000000001,
          0.7960000000000002
         ],
         "matches": "x",
         "showticklabels": false
        },
        "yaxis": {
         "anchor": "x",
         "domain": [
          0,
          0.1975
         ],
         "title": {
          "text": "count"
         }
        },
        "yaxis10": {
         "anchor": "x10",
         "domain": [
          0.2675,
          0.465
         ],
         "matches": "y",
         "showticklabels": false
        },
        "yaxis11": {
         "anchor": "x11",
         "domain": [
          0.535,
          0.7325
         ],
         "matches": "y",
         "title": {
          "text": "count"
         }
        },
        "yaxis12": {
         "anchor": "x12",
         "domain": [
          0.535,
          0.7325
         ],
         "matches": "y",
         "showticklabels": false
        },
        "yaxis13": {
         "anchor": "x13",
         "domain": [
          0.535,
          0.7325
         ],
         "matches": "y",
         "showticklabels": false
        },
        "yaxis14": {
         "anchor": "x14",
         "domain": [
          0.535,
          0.7325
         ],
         "matches": "y",
         "showticklabels": false
        },
        "yaxis15": {
         "anchor": "x15",
         "domain": [
          0.535,
          0.7325
         ],
         "matches": "y",
         "showticklabels": false
        },
        "yaxis16": {
         "anchor": "x16",
         "domain": [
          0.8025,
          1
         ],
         "matches": "y",
         "title": {
          "text": "count"
         }
        },
        "yaxis17": {
         "anchor": "x17",
         "domain": [
          0.8025,
          1
         ],
         "matches": "y",
         "showticklabels": false
        },
        "yaxis18": {
         "anchor": "x18",
         "domain": [
          0.8025,
          1
         ],
         "matches": "y",
         "showticklabels": false
        },
        "yaxis19": {
         "anchor": "x19",
         "domain": [
          0.8025,
          1
         ],
         "matches": "y",
         "showticklabels": false
        },
        "yaxis2": {
         "anchor": "x2",
         "domain": [
          0,
          0.1975
         ],
         "matches": "y",
         "showticklabels": false
        },
        "yaxis20": {
         "anchor": "x20",
         "domain": [
          0.8025,
          1
         ],
         "matches": "y",
         "showticklabels": false
        },
        "yaxis3": {
         "anchor": "x3",
         "domain": [
          0,
          0.1975
         ],
         "matches": "y",
         "showticklabels": false
        },
        "yaxis4": {
         "anchor": "x4",
         "domain": [
          0,
          0.1975
         ],
         "matches": "y",
         "showticklabels": false
        },
        "yaxis5": {
         "anchor": "x5",
         "domain": [
          0,
          0.1975
         ],
         "matches": "y",
         "showticklabels": false
        },
        "yaxis6": {
         "anchor": "x6",
         "domain": [
          0.2675,
          0.465
         ],
         "matches": "y",
         "title": {
          "text": "count"
         }
        },
        "yaxis7": {
         "anchor": "x7",
         "domain": [
          0.2675,
          0.465
         ],
         "matches": "y",
         "showticklabels": false
        },
        "yaxis8": {
         "anchor": "x8",
         "domain": [
          0.2675,
          0.465
         ],
         "matches": "y",
         "showticklabels": false
        },
        "yaxis9": {
         "anchor": "x9",
         "domain": [
          0.2675,
          0.465
         ],
         "matches": "y",
         "showticklabels": false
        }
       }
      }
     },
     "metadata": {},
     "output_type": "display_data"
    }
   ],
   "source": [
    "sim_viz.plot_ratings(facet_col='person',\n",
    "                     facets_limit={'var': 'person',\n",
    "                                   'records': 20},\n",
    "                     title='Distribution of ratings given by a selection of people')"
   ]
  },
  {
   "attachments": {},
   "cell_type": "markdown",
   "metadata": {},
   "source": [
    "## Visualising ratings and rankings\n",
    "\n",
    "Again visualising just a selection of people, here we explore the relationship between ratings and rankings. The generative model assumes that each persons's ranking of the chocolates is given by the ordering of the ratings each person implicitly gives to the chocolates on the unobserved latent rating scale. Consequently, The relationship between rankings and ratings is monotonically decreasing, i.e. a higher rating for A than B must lead to a better (i.e. lower index) ranking of A than B.\n",
    "\n",
    "This visualisation is interesting because it also shows us something about how our observation of only the ranking - and not the rating - data limits our information about the relative appeal people find in the chocolates. The rank alone tells us only which chocolates have more appeal than others, but nothing about how much more appeal. There are cases in this visualisation where we can see reasonably large 'jumps' in rating from on chocolate in the ranking to the next, either where a person rates a specific chocolate as having much more or much less appeal than others, or where a person seems to consider a group of chocolates better than another group of chocolates, with a noticeable 'gap' in ratings between the two groups."
   ]
  },
  {
   "cell_type": "code",
   "execution_count": 11,
   "metadata": {},
   "outputs": [
    {
     "data": {
      "application/vnd.plotly.v1+json": {
       "config": {
        "plotlyServerURL": "https://plot.ly"
       },
       "data": [
        {
         "hovertemplate": "choc=0<br>person=0<br>rank=%{x}<br>rating=%{y}<extra></extra>",
         "legendgroup": "0",
         "marker": {
          "color": "#1F77B4",
          "symbol": "circle"
         },
         "mode": "markers",
         "name": "0",
         "orientation": "v",
         "showlegend": true,
         "type": "scatter",
         "x": [
          16
         ],
         "xaxis": "x16",
         "y": [
          -1.5838481432233331
         ],
         "yaxis": "y16"
        },
        {
         "hovertemplate": "choc=0<br>person=1<br>rank=%{x}<br>rating=%{y}<extra></extra>",
         "legendgroup": "0",
         "marker": {
          "color": "#1F77B4",
          "symbol": "circle"
         },
         "mode": "markers",
         "name": "0",
         "orientation": "v",
         "showlegend": false,
         "type": "scatter",
         "x": [
          11
         ],
         "xaxis": "x17",
         "y": [
          -0.2762942190674751
         ],
         "yaxis": "y17"
        },
        {
         "hovertemplate": "choc=0<br>person=2<br>rank=%{x}<br>rating=%{y}<extra></extra>",
         "legendgroup": "0",
         "marker": {
          "color": "#1F77B4",
          "symbol": "circle"
         },
         "mode": "markers",
         "name": "0",
         "orientation": "v",
         "showlegend": false,
         "type": "scatter",
         "x": [
          13
         ],
         "xaxis": "x18",
         "y": [
          -0.6716545449400231
         ],
         "yaxis": "y18"
        },
        {
         "hovertemplate": "choc=0<br>person=3<br>rank=%{x}<br>rating=%{y}<extra></extra>",
         "legendgroup": "0",
         "marker": {
          "color": "#1F77B4",
          "symbol": "circle"
         },
         "mode": "markers",
         "name": "0",
         "orientation": "v",
         "showlegend": false,
         "type": "scatter",
         "x": [
          18
         ],
         "xaxis": "x19",
         "y": [
          -1.2634484884105748
         ],
         "yaxis": "y19"
        },
        {
         "hovertemplate": "choc=0<br>person=4<br>rank=%{x}<br>rating=%{y}<extra></extra>",
         "legendgroup": "0",
         "marker": {
          "color": "#1F77B4",
          "symbol": "circle"
         },
         "mode": "markers",
         "name": "0",
         "orientation": "v",
         "showlegend": false,
         "type": "scatter",
         "x": [
          18
         ],
         "xaxis": "x20",
         "y": [
          -1.616552491226997
         ],
         "yaxis": "y20"
        },
        {
         "hovertemplate": "choc=0<br>person=5<br>rank=%{x}<br>rating=%{y}<extra></extra>",
         "legendgroup": "0",
         "marker": {
          "color": "#1F77B4",
          "symbol": "circle"
         },
         "mode": "markers",
         "name": "0",
         "orientation": "v",
         "showlegend": false,
         "type": "scatter",
         "x": [
          17
         ],
         "xaxis": "x11",
         "y": [
          -1.0725315059629685
         ],
         "yaxis": "y11"
        },
        {
         "hovertemplate": "choc=0<br>person=6<br>rank=%{x}<br>rating=%{y}<extra></extra>",
         "legendgroup": "0",
         "marker": {
          "color": "#1F77B4",
          "symbol": "circle"
         },
         "mode": "markers",
         "name": "0",
         "orientation": "v",
         "showlegend": false,
         "type": "scatter",
         "x": [
          16
         ],
         "xaxis": "x12",
         "y": [
          -1.0253700889887234
         ],
         "yaxis": "y12"
        },
        {
         "hovertemplate": "choc=0<br>person=7<br>rank=%{x}<br>rating=%{y}<extra></extra>",
         "legendgroup": "0",
         "marker": {
          "color": "#1F77B4",
          "symbol": "circle"
         },
         "mode": "markers",
         "name": "0",
         "orientation": "v",
         "showlegend": false,
         "type": "scatter",
         "x": [
          13
         ],
         "xaxis": "x13",
         "y": [
          -0.6321590295551539
         ],
         "yaxis": "y13"
        },
        {
         "hovertemplate": "choc=0<br>person=8<br>rank=%{x}<br>rating=%{y}<extra></extra>",
         "legendgroup": "0",
         "marker": {
          "color": "#1F77B4",
          "symbol": "circle"
         },
         "mode": "markers",
         "name": "0",
         "orientation": "v",
         "showlegend": false,
         "type": "scatter",
         "x": [
          18
         ],
         "xaxis": "x14",
         "y": [
          -1.8952450828503447
         ],
         "yaxis": "y14"
        },
        {
         "hovertemplate": "choc=0<br>person=9<br>rank=%{x}<br>rating=%{y}<extra></extra>",
         "legendgroup": "0",
         "marker": {
          "color": "#1F77B4",
          "symbol": "circle"
         },
         "mode": "markers",
         "name": "0",
         "orientation": "v",
         "showlegend": false,
         "type": "scatter",
         "x": [
          15
         ],
         "xaxis": "x15",
         "y": [
          -0.8980842238468557
         ],
         "yaxis": "y15"
        },
        {
         "hovertemplate": "choc=0<br>person=10<br>rank=%{x}<br>rating=%{y}<extra></extra>",
         "legendgroup": "0",
         "marker": {
          "color": "#1F77B4",
          "symbol": "circle"
         },
         "mode": "markers",
         "name": "0",
         "orientation": "v",
         "showlegend": false,
         "type": "scatter",
         "x": [
          15
         ],
         "xaxis": "x6",
         "y": [
          -1.0895830035461391
         ],
         "yaxis": "y6"
        },
        {
         "hovertemplate": "choc=0<br>person=11<br>rank=%{x}<br>rating=%{y}<extra></extra>",
         "legendgroup": "0",
         "marker": {
          "color": "#1F77B4",
          "symbol": "circle"
         },
         "mode": "markers",
         "name": "0",
         "orientation": "v",
         "showlegend": false,
         "type": "scatter",
         "x": [
          18
         ],
         "xaxis": "x7",
         "y": [
          -1.8923572898831118
         ],
         "yaxis": "y7"
        },
        {
         "hovertemplate": "choc=0<br>person=12<br>rank=%{x}<br>rating=%{y}<extra></extra>",
         "legendgroup": "0",
         "marker": {
          "color": "#1F77B4",
          "symbol": "circle"
         },
         "mode": "markers",
         "name": "0",
         "orientation": "v",
         "showlegend": false,
         "type": "scatter",
         "x": [
          15
         ],
         "xaxis": "x8",
         "y": [
          -0.592348029607864
         ],
         "yaxis": "y8"
        },
        {
         "hovertemplate": "choc=0<br>person=13<br>rank=%{x}<br>rating=%{y}<extra></extra>",
         "legendgroup": "0",
         "marker": {
          "color": "#1F77B4",
          "symbol": "circle"
         },
         "mode": "markers",
         "name": "0",
         "orientation": "v",
         "showlegend": false,
         "type": "scatter",
         "x": [
          17
         ],
         "xaxis": "x9",
         "y": [
          -1.612836626964789
         ],
         "yaxis": "y9"
        },
        {
         "hovertemplate": "choc=0<br>person=14<br>rank=%{x}<br>rating=%{y}<extra></extra>",
         "legendgroup": "0",
         "marker": {
          "color": "#1F77B4",
          "symbol": "circle"
         },
         "mode": "markers",
         "name": "0",
         "orientation": "v",
         "showlegend": false,
         "type": "scatter",
         "x": [
          17
         ],
         "xaxis": "x10",
         "y": [
          -1.414683151067564
         ],
         "yaxis": "y10"
        },
        {
         "hovertemplate": "choc=0<br>person=15<br>rank=%{x}<br>rating=%{y}<extra></extra>",
         "legendgroup": "0",
         "marker": {
          "color": "#1F77B4",
          "symbol": "circle"
         },
         "mode": "markers",
         "name": "0",
         "orientation": "v",
         "showlegend": false,
         "type": "scatter",
         "x": [
          17
         ],
         "xaxis": "x",
         "y": [
          -1.3444496192478586
         ],
         "yaxis": "y"
        },
        {
         "hovertemplate": "choc=0<br>person=16<br>rank=%{x}<br>rating=%{y}<extra></extra>",
         "legendgroup": "0",
         "marker": {
          "color": "#1F77B4",
          "symbol": "circle"
         },
         "mode": "markers",
         "name": "0",
         "orientation": "v",
         "showlegend": false,
         "type": "scatter",
         "x": [
          12
         ],
         "xaxis": "x2",
         "y": [
          -0.576375080265944
         ],
         "yaxis": "y2"
        },
        {
         "hovertemplate": "choc=0<br>person=17<br>rank=%{x}<br>rating=%{y}<extra></extra>",
         "legendgroup": "0",
         "marker": {
          "color": "#1F77B4",
          "symbol": "circle"
         },
         "mode": "markers",
         "name": "0",
         "orientation": "v",
         "showlegend": false,
         "type": "scatter",
         "x": [
          10
         ],
         "xaxis": "x3",
         "y": [
          -0.09649889575794357
         ],
         "yaxis": "y3"
        },
        {
         "hovertemplate": "choc=0<br>person=18<br>rank=%{x}<br>rating=%{y}<extra></extra>",
         "legendgroup": "0",
         "marker": {
          "color": "#1F77B4",
          "symbol": "circle"
         },
         "mode": "markers",
         "name": "0",
         "orientation": "v",
         "showlegend": false,
         "type": "scatter",
         "x": [
          18
         ],
         "xaxis": "x4",
         "y": [
          -1.9756364075837327
         ],
         "yaxis": "y4"
        },
        {
         "hovertemplate": "choc=0<br>person=19<br>rank=%{x}<br>rating=%{y}<extra></extra>",
         "legendgroup": "0",
         "marker": {
          "color": "#1F77B4",
          "symbol": "circle"
         },
         "mode": "markers",
         "name": "0",
         "orientation": "v",
         "showlegend": false,
         "type": "scatter",
         "x": [
          12
         ],
         "xaxis": "x5",
         "y": [
          -0.3309596000214241
         ],
         "yaxis": "y5"
        },
        {
         "hovertemplate": "choc=1<br>person=0<br>rank=%{x}<br>rating=%{y}<extra></extra>",
         "legendgroup": "1",
         "marker": {
          "color": "#FF7F0E",
          "symbol": "circle"
         },
         "mode": "markers",
         "name": "1",
         "orientation": "v",
         "showlegend": true,
         "type": "scatter",
         "x": [
          4
         ],
         "xaxis": "x16",
         "y": [
          1.6876498425029143
         ],
         "yaxis": "y16"
        },
        {
         "hovertemplate": "choc=1<br>person=1<br>rank=%{x}<br>rating=%{y}<extra></extra>",
         "legendgroup": "1",
         "marker": {
          "color": "#FF7F0E",
          "symbol": "circle"
         },
         "mode": "markers",
         "name": "1",
         "orientation": "v",
         "showlegend": false,
         "type": "scatter",
         "x": [
          8
         ],
         "xaxis": "x17",
         "y": [
          0.39909205385320945
         ],
         "yaxis": "y17"
        },
        {
         "hovertemplate": "choc=1<br>person=2<br>rank=%{x}<br>rating=%{y}<extra></extra>",
         "legendgroup": "1",
         "marker": {
          "color": "#FF7F0E",
          "symbol": "circle"
         },
         "mode": "markers",
         "name": "1",
         "orientation": "v",
         "showlegend": false,
         "type": "scatter",
         "x": [
          14
         ],
         "xaxis": "x18",
         "y": [
          -0.7203660387915773
         ],
         "yaxis": "y18"
        },
        {
         "hovertemplate": "choc=1<br>person=3<br>rank=%{x}<br>rating=%{y}<extra></extra>",
         "legendgroup": "1",
         "marker": {
          "color": "#FF7F0E",
          "symbol": "circle"
         },
         "mode": "markers",
         "name": "1",
         "orientation": "v",
         "showlegend": false,
         "type": "scatter",
         "x": [
          6
         ],
         "xaxis": "x19",
         "y": [
          0.517863085399236
         ],
         "yaxis": "y19"
        },
        {
         "hovertemplate": "choc=1<br>person=4<br>rank=%{x}<br>rating=%{y}<extra></extra>",
         "legendgroup": "1",
         "marker": {
          "color": "#FF7F0E",
          "symbol": "circle"
         },
         "mode": "markers",
         "name": "1",
         "orientation": "v",
         "showlegend": false,
         "type": "scatter",
         "x": [
          5
         ],
         "xaxis": "x20",
         "y": [
          1.1104315920421928
         ],
         "yaxis": "y20"
        },
        {
         "hovertemplate": "choc=1<br>person=5<br>rank=%{x}<br>rating=%{y}<extra></extra>",
         "legendgroup": "1",
         "marker": {
          "color": "#FF7F0E",
          "symbol": "circle"
         },
         "mode": "markers",
         "name": "1",
         "orientation": "v",
         "showlegend": false,
         "type": "scatter",
         "x": [
          6
         ],
         "xaxis": "x11",
         "y": [
          0.8288960805267279
         ],
         "yaxis": "y11"
        },
        {
         "hovertemplate": "choc=1<br>person=6<br>rank=%{x}<br>rating=%{y}<extra></extra>",
         "legendgroup": "1",
         "marker": {
          "color": "#FF7F0E",
          "symbol": "circle"
         },
         "mode": "markers",
         "name": "1",
         "orientation": "v",
         "showlegend": false,
         "type": "scatter",
         "x": [
          0
         ],
         "xaxis": "x12",
         "y": [
          2.2649366027918045
         ],
         "yaxis": "y12"
        },
        {
         "hovertemplate": "choc=1<br>person=7<br>rank=%{x}<br>rating=%{y}<extra></extra>",
         "legendgroup": "1",
         "marker": {
          "color": "#FF7F0E",
          "symbol": "circle"
         },
         "mode": "markers",
         "name": "1",
         "orientation": "v",
         "showlegend": false,
         "type": "scatter",
         "x": [
          8
         ],
         "xaxis": "x13",
         "y": [
          0.47791642295913395
         ],
         "yaxis": "y13"
        },
        {
         "hovertemplate": "choc=1<br>person=8<br>rank=%{x}<br>rating=%{y}<extra></extra>",
         "legendgroup": "1",
         "marker": {
          "color": "#FF7F0E",
          "symbol": "circle"
         },
         "mode": "markers",
         "name": "1",
         "orientation": "v",
         "showlegend": false,
         "type": "scatter",
         "x": [
          6
         ],
         "xaxis": "x14",
         "y": [
          0.5180117616581578
         ],
         "yaxis": "y14"
        },
        {
         "hovertemplate": "choc=1<br>person=9<br>rank=%{x}<br>rating=%{y}<extra></extra>",
         "legendgroup": "1",
         "marker": {
          "color": "#FF7F0E",
          "symbol": "circle"
         },
         "mode": "markers",
         "name": "1",
         "orientation": "v",
         "showlegend": false,
         "type": "scatter",
         "x": [
          4
         ],
         "xaxis": "x15",
         "y": [
          1.2402205725730229
         ],
         "yaxis": "y15"
        },
        {
         "hovertemplate": "choc=1<br>person=10<br>rank=%{x}<br>rating=%{y}<extra></extra>",
         "legendgroup": "1",
         "marker": {
          "color": "#FF7F0E",
          "symbol": "circle"
         },
         "mode": "markers",
         "name": "1",
         "orientation": "v",
         "showlegend": false,
         "type": "scatter",
         "x": [
          5
         ],
         "xaxis": "x6",
         "y": [
          0.8590477601646037
         ],
         "yaxis": "y6"
        },
        {
         "hovertemplate": "choc=1<br>person=11<br>rank=%{x}<br>rating=%{y}<extra></extra>",
         "legendgroup": "1",
         "marker": {
          "color": "#FF7F0E",
          "symbol": "circle"
         },
         "mode": "markers",
         "name": "1",
         "orientation": "v",
         "showlegend": false,
         "type": "scatter",
         "x": [
          10
         ],
         "xaxis": "x7",
         "y": [
          -0.031192439403434857
         ],
         "yaxis": "y7"
        },
        {
         "hovertemplate": "choc=1<br>person=12<br>rank=%{x}<br>rating=%{y}<extra></extra>",
         "legendgroup": "1",
         "marker": {
          "color": "#FF7F0E",
          "symbol": "circle"
         },
         "mode": "markers",
         "name": "1",
         "orientation": "v",
         "showlegend": false,
         "type": "scatter",
         "x": [
          8
         ],
         "xaxis": "x8",
         "y": [
          0.27740392800400937
         ],
         "yaxis": "y8"
        },
        {
         "hovertemplate": "choc=1<br>person=13<br>rank=%{x}<br>rating=%{y}<extra></extra>",
         "legendgroup": "1",
         "marker": {
          "color": "#FF7F0E",
          "symbol": "circle"
         },
         "mode": "markers",
         "name": "1",
         "orientation": "v",
         "showlegend": false,
         "type": "scatter",
         "x": [
          8
         ],
         "xaxis": "x9",
         "y": [
          -0.17190879105274703
         ],
         "yaxis": "y9"
        },
        {
         "hovertemplate": "choc=1<br>person=14<br>rank=%{x}<br>rating=%{y}<extra></extra>",
         "legendgroup": "1",
         "marker": {
          "color": "#FF7F0E",
          "symbol": "circle"
         },
         "mode": "markers",
         "name": "1",
         "orientation": "v",
         "showlegend": false,
         "type": "scatter",
         "x": [
          5
         ],
         "xaxis": "x10",
         "y": [
          0.6084750217769093
         ],
         "yaxis": "y10"
        },
        {
         "hovertemplate": "choc=1<br>person=15<br>rank=%{x}<br>rating=%{y}<extra></extra>",
         "legendgroup": "1",
         "marker": {
          "color": "#FF7F0E",
          "symbol": "circle"
         },
         "mode": "markers",
         "name": "1",
         "orientation": "v",
         "showlegend": false,
         "type": "scatter",
         "x": [
          4
         ],
         "xaxis": "x",
         "y": [
          1.5822439563794277
         ],
         "yaxis": "y"
        },
        {
         "hovertemplate": "choc=1<br>person=16<br>rank=%{x}<br>rating=%{y}<extra></extra>",
         "legendgroup": "1",
         "marker": {
          "color": "#FF7F0E",
          "symbol": "circle"
         },
         "mode": "markers",
         "name": "1",
         "orientation": "v",
         "showlegend": false,
         "type": "scatter",
         "x": [
          7
         ],
         "xaxis": "x2",
         "y": [
          0.12236693444520386
         ],
         "yaxis": "y2"
        },
        {
         "hovertemplate": "choc=1<br>person=17<br>rank=%{x}<br>rating=%{y}<extra></extra>",
         "legendgroup": "1",
         "marker": {
          "color": "#FF7F0E",
          "symbol": "circle"
         },
         "mode": "markers",
         "name": "1",
         "orientation": "v",
         "showlegend": false,
         "type": "scatter",
         "x": [
          6
         ],
         "xaxis": "x3",
         "y": [
          0.5371376062002478
         ],
         "yaxis": "y3"
        },
        {
         "hovertemplate": "choc=1<br>person=18<br>rank=%{x}<br>rating=%{y}<extra></extra>",
         "legendgroup": "1",
         "marker": {
          "color": "#FF7F0E",
          "symbol": "circle"
         },
         "mode": "markers",
         "name": "1",
         "orientation": "v",
         "showlegend": false,
         "type": "scatter",
         "x": [
          0
         ],
         "xaxis": "x4",
         "y": [
          2.4720374083194985
         ],
         "yaxis": "y4"
        },
        {
         "hovertemplate": "choc=1<br>person=19<br>rank=%{x}<br>rating=%{y}<extra></extra>",
         "legendgroup": "1",
         "marker": {
          "color": "#FF7F0E",
          "symbol": "circle"
         },
         "mode": "markers",
         "name": "1",
         "orientation": "v",
         "showlegend": false,
         "type": "scatter",
         "x": [
          7
         ],
         "xaxis": "x5",
         "y": [
          0.5189181451351024
         ],
         "yaxis": "y5"
        },
        {
         "hovertemplate": "choc=2<br>person=0<br>rank=%{x}<br>rating=%{y}<extra></extra>",
         "legendgroup": "2",
         "marker": {
          "color": "#2CA02C",
          "symbol": "circle"
         },
         "mode": "markers",
         "name": "2",
         "orientation": "v",
         "showlegend": true,
         "type": "scatter",
         "x": [
          8
         ],
         "xaxis": "x16",
         "y": [
          0.3599200847554356
         ],
         "yaxis": "y16"
        },
        {
         "hovertemplate": "choc=2<br>person=1<br>rank=%{x}<br>rating=%{y}<extra></extra>",
         "legendgroup": "2",
         "marker": {
          "color": "#2CA02C",
          "symbol": "circle"
         },
         "mode": "markers",
         "name": "2",
         "orientation": "v",
         "showlegend": false,
         "type": "scatter",
         "x": [
          7
         ],
         "xaxis": "x17",
         "y": [
          0.6896209037097527
         ],
         "yaxis": "y17"
        },
        {
         "hovertemplate": "choc=2<br>person=2<br>rank=%{x}<br>rating=%{y}<extra></extra>",
         "legendgroup": "2",
         "marker": {
          "color": "#2CA02C",
          "symbol": "circle"
         },
         "mode": "markers",
         "name": "2",
         "orientation": "v",
         "showlegend": false,
         "type": "scatter",
         "x": [
          6
         ],
         "xaxis": "x18",
         "y": [
          0.45735856424861265
         ],
         "yaxis": "y18"
        },
        {
         "hovertemplate": "choc=2<br>person=3<br>rank=%{x}<br>rating=%{y}<extra></extra>",
         "legendgroup": "2",
         "marker": {
          "color": "#2CA02C",
          "symbol": "circle"
         },
         "mode": "markers",
         "name": "2",
         "orientation": "v",
         "showlegend": false,
         "type": "scatter",
         "x": [
          7
         ],
         "xaxis": "x19",
         "y": [
          0.3125404503396232
         ],
         "yaxis": "y19"
        },
        {
         "hovertemplate": "choc=2<br>person=4<br>rank=%{x}<br>rating=%{y}<extra></extra>",
         "legendgroup": "2",
         "marker": {
          "color": "#2CA02C",
          "symbol": "circle"
         },
         "mode": "markers",
         "name": "2",
         "orientation": "v",
         "showlegend": false,
         "type": "scatter",
         "x": [
          7
         ],
         "xaxis": "x20",
         "y": [
          0.5932446696547417
         ],
         "yaxis": "y20"
        },
        {
         "hovertemplate": "choc=2<br>person=5<br>rank=%{x}<br>rating=%{y}<extra></extra>",
         "legendgroup": "2",
         "marker": {
          "color": "#2CA02C",
          "symbol": "circle"
         },
         "mode": "markers",
         "name": "2",
         "orientation": "v",
         "showlegend": false,
         "type": "scatter",
         "x": [
          9
         ],
         "xaxis": "x11",
         "y": [
          0.3157915844069605
         ],
         "yaxis": "y11"
        },
        {
         "hovertemplate": "choc=2<br>person=6<br>rank=%{x}<br>rating=%{y}<extra></extra>",
         "legendgroup": "2",
         "marker": {
          "color": "#2CA02C",
          "symbol": "circle"
         },
         "mode": "markers",
         "name": "2",
         "orientation": "v",
         "showlegend": false,
         "type": "scatter",
         "x": [
          7
         ],
         "xaxis": "x12",
         "y": [
          0.6245955377607364
         ],
         "yaxis": "y12"
        },
        {
         "hovertemplate": "choc=2<br>person=7<br>rank=%{x}<br>rating=%{y}<extra></extra>",
         "legendgroup": "2",
         "marker": {
          "color": "#2CA02C",
          "symbol": "circle"
         },
         "mode": "markers",
         "name": "2",
         "orientation": "v",
         "showlegend": false,
         "type": "scatter",
         "x": [
          6
         ],
         "xaxis": "x13",
         "y": [
          0.8217650088928903
         ],
         "yaxis": "y13"
        },
        {
         "hovertemplate": "choc=2<br>person=8<br>rank=%{x}<br>rating=%{y}<extra></extra>",
         "legendgroup": "2",
         "marker": {
          "color": "#2CA02C",
          "symbol": "circle"
         },
         "mode": "markers",
         "name": "2",
         "orientation": "v",
         "showlegend": false,
         "type": "scatter",
         "x": [
          7
         ],
         "xaxis": "x14",
         "y": [
          0.22294663233055156
         ],
         "yaxis": "y14"
        },
        {
         "hovertemplate": "choc=2<br>person=9<br>rank=%{x}<br>rating=%{y}<extra></extra>",
         "legendgroup": "2",
         "marker": {
          "color": "#2CA02C",
          "symbol": "circle"
         },
         "mode": "markers",
         "name": "2",
         "orientation": "v",
         "showlegend": false,
         "type": "scatter",
         "x": [
          8
         ],
         "xaxis": "x15",
         "y": [
          0.3441773452481969
         ],
         "yaxis": "y15"
        },
        {
         "hovertemplate": "choc=2<br>person=10<br>rank=%{x}<br>rating=%{y}<extra></extra>",
         "legendgroup": "2",
         "marker": {
          "color": "#2CA02C",
          "symbol": "circle"
         },
         "mode": "markers",
         "name": "2",
         "orientation": "v",
         "showlegend": false,
         "type": "scatter",
         "x": [
          7
         ],
         "xaxis": "x6",
         "y": [
          0.2532448471001165
         ],
         "yaxis": "y6"
        },
        {
         "hovertemplate": "choc=2<br>person=11<br>rank=%{x}<br>rating=%{y}<extra></extra>",
         "legendgroup": "2",
         "marker": {
          "color": "#2CA02C",
          "symbol": "circle"
         },
         "mode": "markers",
         "name": "2",
         "orientation": "v",
         "showlegend": false,
         "type": "scatter",
         "x": [
          11
         ],
         "xaxis": "x7",
         "y": [
          -0.08869202444308699
         ],
         "yaxis": "y7"
        },
        {
         "hovertemplate": "choc=2<br>person=12<br>rank=%{x}<br>rating=%{y}<extra></extra>",
         "legendgroup": "2",
         "marker": {
          "color": "#2CA02C",
          "symbol": "circle"
         },
         "mode": "markers",
         "name": "2",
         "orientation": "v",
         "showlegend": false,
         "type": "scatter",
         "x": [
          9
         ],
         "xaxis": "x8",
         "y": [
          0.12160189240746214
         ],
         "yaxis": "y8"
        },
        {
         "hovertemplate": "choc=2<br>person=13<br>rank=%{x}<br>rating=%{y}<extra></extra>",
         "legendgroup": "2",
         "marker": {
          "color": "#2CA02C",
          "symbol": "circle"
         },
         "mode": "markers",
         "name": "2",
         "orientation": "v",
         "showlegend": false,
         "type": "scatter",
         "x": [
          7
         ],
         "xaxis": "x9",
         "y": [
          0.1909855910798267
         ],
         "yaxis": "y9"
        },
        {
         "hovertemplate": "choc=2<br>person=14<br>rank=%{x}<br>rating=%{y}<extra></extra>",
         "legendgroup": "2",
         "marker": {
          "color": "#2CA02C",
          "symbol": "circle"
         },
         "mode": "markers",
         "name": "2",
         "orientation": "v",
         "showlegend": false,
         "type": "scatter",
         "x": [
          6
         ],
         "xaxis": "x10",
         "y": [
          0.5125875349072606
         ],
         "yaxis": "y10"
        },
        {
         "hovertemplate": "choc=2<br>person=15<br>rank=%{x}<br>rating=%{y}<extra></extra>",
         "legendgroup": "2",
         "marker": {
          "color": "#2CA02C",
          "symbol": "circle"
         },
         "mode": "markers",
         "name": "2",
         "orientation": "v",
         "showlegend": false,
         "type": "scatter",
         "x": [
          8
         ],
         "xaxis": "x",
         "y": [
          0.1816805411252101
         ],
         "yaxis": "y"
        },
        {
         "hovertemplate": "choc=2<br>person=16<br>rank=%{x}<br>rating=%{y}<extra></extra>",
         "legendgroup": "2",
         "marker": {
          "color": "#2CA02C",
          "symbol": "circle"
         },
         "mode": "markers",
         "name": "2",
         "orientation": "v",
         "showlegend": false,
         "type": "scatter",
         "x": [
          9
         ],
         "xaxis": "x2",
         "y": [
          -0.03671030084625371
         ],
         "yaxis": "y2"
        },
        {
         "hovertemplate": "choc=2<br>person=17<br>rank=%{x}<br>rating=%{y}<extra></extra>",
         "legendgroup": "2",
         "marker": {
          "color": "#2CA02C",
          "symbol": "circle"
         },
         "mode": "markers",
         "name": "2",
         "orientation": "v",
         "showlegend": false,
         "type": "scatter",
         "x": [
          8
         ],
         "xaxis": "x3",
         "y": [
          0.1627762938839008
         ],
         "yaxis": "y3"
        },
        {
         "hovertemplate": "choc=2<br>person=18<br>rank=%{x}<br>rating=%{y}<extra></extra>",
         "legendgroup": "2",
         "marker": {
          "color": "#2CA02C",
          "symbol": "circle"
         },
         "mode": "markers",
         "name": "2",
         "orientation": "v",
         "showlegend": false,
         "type": "scatter",
         "x": [
          11
         ],
         "xaxis": "x4",
         "y": [
          0.11440472267247517
         ],
         "yaxis": "y4"
        },
        {
         "hovertemplate": "choc=2<br>person=19<br>rank=%{x}<br>rating=%{y}<extra></extra>",
         "legendgroup": "2",
         "marker": {
          "color": "#2CA02C",
          "symbol": "circle"
         },
         "mode": "markers",
         "name": "2",
         "orientation": "v",
         "showlegend": false,
         "type": "scatter",
         "x": [
          8
         ],
         "xaxis": "x5",
         "y": [
          0.1853854646189409
         ],
         "yaxis": "y5"
        },
        {
         "hovertemplate": "choc=3<br>person=0<br>rank=%{x}<br>rating=%{y}<extra></extra>",
         "legendgroup": "3",
         "marker": {
          "color": "#D62728",
          "symbol": "circle"
         },
         "mode": "markers",
         "name": "3",
         "orientation": "v",
         "showlegend": true,
         "type": "scatter",
         "x": [
          18
         ],
         "xaxis": "x16",
         "y": [
          -1.9598900229904284
         ],
         "yaxis": "y16"
        },
        {
         "hovertemplate": "choc=3<br>person=1<br>rank=%{x}<br>rating=%{y}<extra></extra>",
         "legendgroup": "3",
         "marker": {
          "color": "#D62728",
          "symbol": "circle"
         },
         "mode": "markers",
         "name": "3",
         "orientation": "v",
         "showlegend": false,
         "type": "scatter",
         "x": [
          18
         ],
         "xaxis": "x17",
         "y": [
          -1.2301876921327828
         ],
         "yaxis": "y17"
        },
        {
         "hovertemplate": "choc=3<br>person=2<br>rank=%{x}<br>rating=%{y}<extra></extra>",
         "legendgroup": "3",
         "marker": {
          "color": "#D62728",
          "symbol": "circle"
         },
         "mode": "markers",
         "name": "3",
         "orientation": "v",
         "showlegend": false,
         "type": "scatter",
         "x": [
          12
         ],
         "xaxis": "x18",
         "y": [
          -0.6176502392240867
         ],
         "yaxis": "y18"
        },
        {
         "hovertemplate": "choc=3<br>person=3<br>rank=%{x}<br>rating=%{y}<extra></extra>",
         "legendgroup": "3",
         "marker": {
          "color": "#D62728",
          "symbol": "circle"
         },
         "mode": "markers",
         "name": "3",
         "orientation": "v",
         "showlegend": false,
         "type": "scatter",
         "x": [
          17
         ],
         "xaxis": "x19",
         "y": [
          -1.250397908654063
         ],
         "yaxis": "y19"
        },
        {
         "hovertemplate": "choc=3<br>person=4<br>rank=%{x}<br>rating=%{y}<extra></extra>",
         "legendgroup": "3",
         "marker": {
          "color": "#D62728",
          "symbol": "circle"
         },
         "mode": "markers",
         "name": "3",
         "orientation": "v",
         "showlegend": false,
         "type": "scatter",
         "x": [
          16
         ],
         "xaxis": "x20",
         "y": [
          -1.3924859499374582
         ],
         "yaxis": "y20"
        },
        {
         "hovertemplate": "choc=3<br>person=5<br>rank=%{x}<br>rating=%{y}<extra></extra>",
         "legendgroup": "3",
         "marker": {
          "color": "#D62728",
          "symbol": "circle"
         },
         "mode": "markers",
         "name": "3",
         "orientation": "v",
         "showlegend": false,
         "type": "scatter",
         "x": [
          18
         ],
         "xaxis": "x11",
         "y": [
          -1.2653579293895991
         ],
         "yaxis": "y11"
        },
        {
         "hovertemplate": "choc=3<br>person=6<br>rank=%{x}<br>rating=%{y}<extra></extra>",
         "legendgroup": "3",
         "marker": {
          "color": "#D62728",
          "symbol": "circle"
         },
         "mode": "markers",
         "name": "3",
         "orientation": "v",
         "showlegend": false,
         "type": "scatter",
         "x": [
          17
         ],
         "xaxis": "x12",
         "y": [
          -1.6290541895424768
         ],
         "yaxis": "y12"
        },
        {
         "hovertemplate": "choc=3<br>person=7<br>rank=%{x}<br>rating=%{y}<extra></extra>",
         "legendgroup": "3",
         "marker": {
          "color": "#D62728",
          "symbol": "circle"
         },
         "mode": "markers",
         "name": "3",
         "orientation": "v",
         "showlegend": false,
         "type": "scatter",
         "x": [
          17
         ],
         "xaxis": "x13",
         "y": [
          -1.2708906653110768
         ],
         "yaxis": "y13"
        },
        {
         "hovertemplate": "choc=3<br>person=8<br>rank=%{x}<br>rating=%{y}<extra></extra>",
         "legendgroup": "3",
         "marker": {
          "color": "#D62728",
          "symbol": "circle"
         },
         "mode": "markers",
         "name": "3",
         "orientation": "v",
         "showlegend": false,
         "type": "scatter",
         "x": [
          17
         ],
         "xaxis": "x14",
         "y": [
          -1.6299789849950637
         ],
         "yaxis": "y14"
        },
        {
         "hovertemplate": "choc=3<br>person=9<br>rank=%{x}<br>rating=%{y}<extra></extra>",
         "legendgroup": "3",
         "marker": {
          "color": "#D62728",
          "symbol": "circle"
         },
         "mode": "markers",
         "name": "3",
         "orientation": "v",
         "showlegend": false,
         "type": "scatter",
         "x": [
          18
         ],
         "xaxis": "x15",
         "y": [
          -1.8395171972965294
         ],
         "yaxis": "y15"
        },
        {
         "hovertemplate": "choc=3<br>person=10<br>rank=%{x}<br>rating=%{y}<extra></extra>",
         "legendgroup": "3",
         "marker": {
          "color": "#D62728",
          "symbol": "circle"
         },
         "mode": "markers",
         "name": "3",
         "orientation": "v",
         "showlegend": false,
         "type": "scatter",
         "x": [
          18
         ],
         "xaxis": "x6",
         "y": [
          -1.7058697804224625
         ],
         "yaxis": "y6"
        },
        {
         "hovertemplate": "choc=3<br>person=11<br>rank=%{x}<br>rating=%{y}<extra></extra>",
         "legendgroup": "3",
         "marker": {
          "color": "#D62728",
          "symbol": "circle"
         },
         "mode": "markers",
         "name": "3",
         "orientation": "v",
         "showlegend": false,
         "type": "scatter",
         "x": [
          16
         ],
         "xaxis": "x7",
         "y": [
          -1.6640251634552568
         ],
         "yaxis": "y7"
        },
        {
         "hovertemplate": "choc=3<br>person=12<br>rank=%{x}<br>rating=%{y}<extra></extra>",
         "legendgroup": "3",
         "marker": {
          "color": "#D62728",
          "symbol": "circle"
         },
         "mode": "markers",
         "name": "3",
         "orientation": "v",
         "showlegend": false,
         "type": "scatter",
         "x": [
          18
         ],
         "xaxis": "x8",
         "y": [
          -1.2972846899509145
         ],
         "yaxis": "y8"
        },
        {
         "hovertemplate": "choc=3<br>person=13<br>rank=%{x}<br>rating=%{y}<extra></extra>",
         "legendgroup": "3",
         "marker": {
          "color": "#D62728",
          "symbol": "circle"
         },
         "mode": "markers",
         "name": "3",
         "orientation": "v",
         "showlegend": false,
         "type": "scatter",
         "x": [
          18
         ],
         "xaxis": "x9",
         "y": [
          -1.978173683123575
         ],
         "yaxis": "y9"
        },
        {
         "hovertemplate": "choc=3<br>person=14<br>rank=%{x}<br>rating=%{y}<extra></extra>",
         "legendgroup": "3",
         "marker": {
          "color": "#D62728",
          "symbol": "circle"
         },
         "mode": "markers",
         "name": "3",
         "orientation": "v",
         "showlegend": false,
         "type": "scatter",
         "x": [
          18
         ],
         "xaxis": "x10",
         "y": [
          -1.6282768481957293
         ],
         "yaxis": "y10"
        },
        {
         "hovertemplate": "choc=3<br>person=15<br>rank=%{x}<br>rating=%{y}<extra></extra>",
         "legendgroup": "3",
         "marker": {
          "color": "#D62728",
          "symbol": "circle"
         },
         "mode": "markers",
         "name": "3",
         "orientation": "v",
         "showlegend": false,
         "type": "scatter",
         "x": [
          15
         ],
         "xaxis": "x",
         "y": [
          -1.275108851485592
         ],
         "yaxis": "y"
        },
        {
         "hovertemplate": "choc=3<br>person=16<br>rank=%{x}<br>rating=%{y}<extra></extra>",
         "legendgroup": "3",
         "marker": {
          "color": "#D62728",
          "symbol": "circle"
         },
         "mode": "markers",
         "name": "3",
         "orientation": "v",
         "showlegend": false,
         "type": "scatter",
         "x": [
          18
         ],
         "xaxis": "x2",
         "y": [
          -1.808230562840655
         ],
         "yaxis": "y2"
        },
        {
         "hovertemplate": "choc=3<br>person=17<br>rank=%{x}<br>rating=%{y}<extra></extra>",
         "legendgroup": "3",
         "marker": {
          "color": "#D62728",
          "symbol": "circle"
         },
         "mode": "markers",
         "name": "3",
         "orientation": "v",
         "showlegend": false,
         "type": "scatter",
         "x": [
          17
         ],
         "xaxis": "x3",
         "y": [
          -1.9540416117333472
         ],
         "yaxis": "y3"
        },
        {
         "hovertemplate": "choc=3<br>person=18<br>rank=%{x}<br>rating=%{y}<extra></extra>",
         "legendgroup": "3",
         "marker": {
          "color": "#D62728",
          "symbol": "circle"
         },
         "mode": "markers",
         "name": "3",
         "orientation": "v",
         "showlegend": false,
         "type": "scatter",
         "x": [
          17
         ],
         "xaxis": "x4",
         "y": [
          -1.8772958753979747
         ],
         "yaxis": "y4"
        },
        {
         "hovertemplate": "choc=3<br>person=19<br>rank=%{x}<br>rating=%{y}<extra></extra>",
         "legendgroup": "3",
         "marker": {
          "color": "#D62728",
          "symbol": "circle"
         },
         "mode": "markers",
         "name": "3",
         "orientation": "v",
         "showlegend": false,
         "type": "scatter",
         "x": [
          18
         ],
         "xaxis": "x5",
         "y": [
          -1.468518707711232
         ],
         "yaxis": "y5"
        },
        {
         "hovertemplate": "choc=4<br>person=0<br>rank=%{x}<br>rating=%{y}<extra></extra>",
         "legendgroup": "4",
         "marker": {
          "color": "#9467BD",
          "symbol": "circle"
         },
         "mode": "markers",
         "name": "4",
         "orientation": "v",
         "showlegend": true,
         "type": "scatter",
         "x": [
          9
         ],
         "xaxis": "x16",
         "y": [
          0.04084110777294481
         ],
         "yaxis": "y16"
        },
        {
         "hovertemplate": "choc=4<br>person=1<br>rank=%{x}<br>rating=%{y}<extra></extra>",
         "legendgroup": "4",
         "marker": {
          "color": "#9467BD",
          "symbol": "circle"
         },
         "mode": "markers",
         "name": "4",
         "orientation": "v",
         "showlegend": false,
         "type": "scatter",
         "x": [
          15
         ],
         "xaxis": "x17",
         "y": [
          -0.7161677010379777
         ],
         "yaxis": "y17"
        },
        {
         "hovertemplate": "choc=4<br>person=2<br>rank=%{x}<br>rating=%{y}<extra></extra>",
         "legendgroup": "4",
         "marker": {
          "color": "#9467BD",
          "symbol": "circle"
         },
         "mode": "markers",
         "name": "4",
         "orientation": "v",
         "showlegend": false,
         "type": "scatter",
         "x": [
          11
         ],
         "xaxis": "x18",
         "y": [
          -0.58936322500574
         ],
         "yaxis": "y18"
        },
        {
         "hovertemplate": "choc=4<br>person=3<br>rank=%{x}<br>rating=%{y}<extra></extra>",
         "legendgroup": "4",
         "marker": {
          "color": "#9467BD",
          "symbol": "circle"
         },
         "mode": "markers",
         "name": "4",
         "orientation": "v",
         "showlegend": false,
         "type": "scatter",
         "x": [
          8
         ],
         "xaxis": "x19",
         "y": [
          0.12449040706528758
         ],
         "yaxis": "y19"
        },
        {
         "hovertemplate": "choc=4<br>person=4<br>rank=%{x}<br>rating=%{y}<extra></extra>",
         "legendgroup": "4",
         "marker": {
          "color": "#9467BD",
          "symbol": "circle"
         },
         "mode": "markers",
         "name": "4",
         "orientation": "v",
         "showlegend": false,
         "type": "scatter",
         "x": [
          12
         ],
         "xaxis": "x20",
         "y": [
          -0.3353563950077756
         ],
         "yaxis": "y20"
        },
        {
         "hovertemplate": "choc=4<br>person=5<br>rank=%{x}<br>rating=%{y}<extra></extra>",
         "legendgroup": "4",
         "marker": {
          "color": "#9467BD",
          "symbol": "circle"
         },
         "mode": "markers",
         "name": "4",
         "orientation": "v",
         "showlegend": false,
         "type": "scatter",
         "x": [
          12
         ],
         "xaxis": "x11",
         "y": [
          -0.2876713391734621
         ],
         "yaxis": "y11"
        },
        {
         "hovertemplate": "choc=4<br>person=6<br>rank=%{x}<br>rating=%{y}<extra></extra>",
         "legendgroup": "4",
         "marker": {
          "color": "#9467BD",
          "symbol": "circle"
         },
         "mode": "markers",
         "name": "4",
         "orientation": "v",
         "showlegend": false,
         "type": "scatter",
         "x": [
          15
         ],
         "xaxis": "x12",
         "y": [
          -0.8183884792589787
         ],
         "yaxis": "y12"
        },
        {
         "hovertemplate": "choc=4<br>person=7<br>rank=%{x}<br>rating=%{y}<extra></extra>",
         "legendgroup": "4",
         "marker": {
          "color": "#9467BD",
          "symbol": "circle"
         },
         "mode": "markers",
         "name": "4",
         "orientation": "v",
         "showlegend": false,
         "type": "scatter",
         "x": [
          12
         ],
         "xaxis": "x13",
         "y": [
          -0.5813568840935855
         ],
         "yaxis": "y13"
        },
        {
         "hovertemplate": "choc=4<br>person=8<br>rank=%{x}<br>rating=%{y}<extra></extra>",
         "legendgroup": "4",
         "marker": {
          "color": "#9467BD",
          "symbol": "circle"
         },
         "mode": "markers",
         "name": "4",
         "orientation": "v",
         "showlegend": false,
         "type": "scatter",
         "x": [
          10
         ],
         "xaxis": "x14",
         "y": [
          -0.16051008082388196
         ],
         "yaxis": "y14"
        },
        {
         "hovertemplate": "choc=4<br>person=9<br>rank=%{x}<br>rating=%{y}<extra></extra>",
         "legendgroup": "4",
         "marker": {
          "color": "#9467BD",
          "symbol": "circle"
         },
         "mode": "markers",
         "name": "4",
         "orientation": "v",
         "showlegend": false,
         "type": "scatter",
         "x": [
          12
         ],
         "xaxis": "x15",
         "y": [
          -0.38809742149148097
         ],
         "yaxis": "y15"
        },
        {
         "hovertemplate": "choc=4<br>person=10<br>rank=%{x}<br>rating=%{y}<extra></extra>",
         "legendgroup": "4",
         "marker": {
          "color": "#9467BD",
          "symbol": "circle"
         },
         "mode": "markers",
         "name": "4",
         "orientation": "v",
         "showlegend": false,
         "type": "scatter",
         "x": [
          8
         ],
         "xaxis": "x6",
         "y": [
          -0.14585511737478418
         ],
         "yaxis": "y6"
        },
        {
         "hovertemplate": "choc=4<br>person=11<br>rank=%{x}<br>rating=%{y}<extra></extra>",
         "legendgroup": "4",
         "marker": {
          "color": "#9467BD",
          "symbol": "circle"
         },
         "mode": "markers",
         "name": "4",
         "orientation": "v",
         "showlegend": false,
         "type": "scatter",
         "x": [
          13
         ],
         "xaxis": "x7",
         "y": [
          -0.7337158642056532
         ],
         "yaxis": "y7"
        },
        {
         "hovertemplate": "choc=4<br>person=12<br>rank=%{x}<br>rating=%{y}<extra></extra>",
         "legendgroup": "4",
         "marker": {
          "color": "#9467BD",
          "symbol": "circle"
         },
         "mode": "markers",
         "name": "4",
         "orientation": "v",
         "showlegend": false,
         "type": "scatter",
         "x": [
          16
         ],
         "xaxis": "x8",
         "y": [
          -0.6415423840512957
         ],
         "yaxis": "y8"
        },
        {
         "hovertemplate": "choc=4<br>person=13<br>rank=%{x}<br>rating=%{y}<extra></extra>",
         "legendgroup": "4",
         "marker": {
          "color": "#9467BD",
          "symbol": "circle"
         },
         "mode": "markers",
         "name": "4",
         "orientation": "v",
         "showlegend": false,
         "type": "scatter",
         "x": [
          9
         ],
         "xaxis": "x9",
         "y": [
          -0.3499236409769513
         ],
         "yaxis": "y9"
        },
        {
         "hovertemplate": "choc=4<br>person=14<br>rank=%{x}<br>rating=%{y}<extra></extra>",
         "legendgroup": "4",
         "marker": {
          "color": "#9467BD",
          "symbol": "circle"
         },
         "mode": "markers",
         "name": "4",
         "orientation": "v",
         "showlegend": false,
         "type": "scatter",
         "x": [
          16
         ],
         "xaxis": "x10",
         "y": [
          -1.406901201753374
         ],
         "yaxis": "y10"
        },
        {
         "hovertemplate": "choc=4<br>person=15<br>rank=%{x}<br>rating=%{y}<extra></extra>",
         "legendgroup": "4",
         "marker": {
          "color": "#9467BD",
          "symbol": "circle"
         },
         "mode": "markers",
         "name": "4",
         "orientation": "v",
         "showlegend": false,
         "type": "scatter",
         "x": [
          14
         ],
         "xaxis": "x",
         "y": [
          -1.0098904193468874
         ],
         "yaxis": "y"
        },
        {
         "hovertemplate": "choc=4<br>person=16<br>rank=%{x}<br>rating=%{y}<extra></extra>",
         "legendgroup": "4",
         "marker": {
          "color": "#9467BD",
          "symbol": "circle"
         },
         "mode": "markers",
         "name": "4",
         "orientation": "v",
         "showlegend": false,
         "type": "scatter",
         "x": [
          13
         ],
         "xaxis": "x2",
         "y": [
          -0.7298615413217666
         ],
         "yaxis": "y2"
        },
        {
         "hovertemplate": "choc=4<br>person=17<br>rank=%{x}<br>rating=%{y}<extra></extra>",
         "legendgroup": "4",
         "marker": {
          "color": "#9467BD",
          "symbol": "circle"
         },
         "mode": "markers",
         "name": "4",
         "orientation": "v",
         "showlegend": false,
         "type": "scatter",
         "x": [
          14
         ],
         "xaxis": "x3",
         "y": [
          -0.5823853750219521
         ],
         "yaxis": "y3"
        },
        {
         "hovertemplate": "choc=4<br>person=18<br>rank=%{x}<br>rating=%{y}<extra></extra>",
         "legendgroup": "4",
         "marker": {
          "color": "#9467BD",
          "symbol": "circle"
         },
         "mode": "markers",
         "name": "4",
         "orientation": "v",
         "showlegend": false,
         "type": "scatter",
         "x": [
          14
         ],
         "xaxis": "x4",
         "y": [
          -0.7780846978218696
         ],
         "yaxis": "y4"
        },
        {
         "hovertemplate": "choc=4<br>person=19<br>rank=%{x}<br>rating=%{y}<extra></extra>",
         "legendgroup": "4",
         "marker": {
          "color": "#9467BD",
          "symbol": "circle"
         },
         "mode": "markers",
         "name": "4",
         "orientation": "v",
         "showlegend": false,
         "type": "scatter",
         "x": [
          9
         ],
         "xaxis": "x5",
         "y": [
          -0.09197955530227608
         ],
         "yaxis": "y5"
        },
        {
         "hovertemplate": "choc=5<br>person=0<br>rank=%{x}<br>rating=%{y}<extra></extra>",
         "legendgroup": "5",
         "marker": {
          "color": "#8C564B",
          "symbol": "circle"
         },
         "mode": "markers",
         "name": "5",
         "orientation": "v",
         "showlegend": true,
         "type": "scatter",
         "x": [
          2
         ],
         "xaxis": "x16",
         "y": [
          1.8969681738983875
         ],
         "yaxis": "y16"
        },
        {
         "hovertemplate": "choc=5<br>person=1<br>rank=%{x}<br>rating=%{y}<extra></extra>",
         "legendgroup": "5",
         "marker": {
          "color": "#8C564B",
          "symbol": "circle"
         },
         "mode": "markers",
         "name": "5",
         "orientation": "v",
         "showlegend": false,
         "type": "scatter",
         "x": [
          3
         ],
         "xaxis": "x17",
         "y": [
          1.3211450022940738
         ],
         "yaxis": "y17"
        },
        {
         "hovertemplate": "choc=5<br>person=2<br>rank=%{x}<br>rating=%{y}<extra></extra>",
         "legendgroup": "5",
         "marker": {
          "color": "#8C564B",
          "symbol": "circle"
         },
         "mode": "markers",
         "name": "5",
         "orientation": "v",
         "showlegend": false,
         "type": "scatter",
         "x": [
          2
         ],
         "xaxis": "x18",
         "y": [
          1.6618213158280701
         ],
         "yaxis": "y18"
        },
        {
         "hovertemplate": "choc=5<br>person=3<br>rank=%{x}<br>rating=%{y}<extra></extra>",
         "legendgroup": "5",
         "marker": {
          "color": "#8C564B",
          "symbol": "circle"
         },
         "mode": "markers",
         "name": "5",
         "orientation": "v",
         "showlegend": false,
         "type": "scatter",
         "x": [
          3
         ],
         "xaxis": "x19",
         "y": [
          1.5692417915863306
         ],
         "yaxis": "y19"
        },
        {
         "hovertemplate": "choc=5<br>person=4<br>rank=%{x}<br>rating=%{y}<extra></extra>",
         "legendgroup": "5",
         "marker": {
          "color": "#8C564B",
          "symbol": "circle"
         },
         "mode": "markers",
         "name": "5",
         "orientation": "v",
         "showlegend": false,
         "type": "scatter",
         "x": [
          3
         ],
         "xaxis": "x20",
         "y": [
          1.586929571263988
         ],
         "yaxis": "y20"
        },
        {
         "hovertemplate": "choc=5<br>person=5<br>rank=%{x}<br>rating=%{y}<extra></extra>",
         "legendgroup": "5",
         "marker": {
          "color": "#8C564B",
          "symbol": "circle"
         },
         "mode": "markers",
         "name": "5",
         "orientation": "v",
         "showlegend": false,
         "type": "scatter",
         "x": [
          2
         ],
         "xaxis": "x11",
         "y": [
          1.378169352451183
         ],
         "yaxis": "y11"
        },
        {
         "hovertemplate": "choc=5<br>person=6<br>rank=%{x}<br>rating=%{y}<extra></extra>",
         "legendgroup": "5",
         "marker": {
          "color": "#8C564B",
          "symbol": "circle"
         },
         "mode": "markers",
         "name": "5",
         "orientation": "v",
         "showlegend": false,
         "type": "scatter",
         "x": [
          5
         ],
         "xaxis": "x12",
         "y": [
          0.873674660084618
         ],
         "yaxis": "y12"
        },
        {
         "hovertemplate": "choc=5<br>person=7<br>rank=%{x}<br>rating=%{y}<extra></extra>",
         "legendgroup": "5",
         "marker": {
          "color": "#8C564B",
          "symbol": "circle"
         },
         "mode": "markers",
         "name": "5",
         "orientation": "v",
         "showlegend": false,
         "type": "scatter",
         "x": [
          2
         ],
         "xaxis": "x13",
         "y": [
          1.5885774723798898
         ],
         "yaxis": "y13"
        },
        {
         "hovertemplate": "choc=5<br>person=8<br>rank=%{x}<br>rating=%{y}<extra></extra>",
         "legendgroup": "5",
         "marker": {
          "color": "#8C564B",
          "symbol": "circle"
         },
         "mode": "markers",
         "name": "5",
         "orientation": "v",
         "showlegend": false,
         "type": "scatter",
         "x": [
          4
         ],
         "xaxis": "x14",
         "y": [
          1.219912341989563
         ],
         "yaxis": "y14"
        },
        {
         "hovertemplate": "choc=5<br>person=9<br>rank=%{x}<br>rating=%{y}<extra></extra>",
         "legendgroup": "5",
         "marker": {
          "color": "#8C564B",
          "symbol": "circle"
         },
         "mode": "markers",
         "name": "5",
         "orientation": "v",
         "showlegend": false,
         "type": "scatter",
         "x": [
          3
         ],
         "xaxis": "x15",
         "y": [
          1.5544215628632319
         ],
         "yaxis": "y15"
        },
        {
         "hovertemplate": "choc=5<br>person=10<br>rank=%{x}<br>rating=%{y}<extra></extra>",
         "legendgroup": "5",
         "marker": {
          "color": "#8C564B",
          "symbol": "circle"
         },
         "mode": "markers",
         "name": "5",
         "orientation": "v",
         "showlegend": false,
         "type": "scatter",
         "x": [
          4
         ],
         "xaxis": "x6",
         "y": [
          1.5438374916151334
         ],
         "yaxis": "y6"
        },
        {
         "hovertemplate": "choc=5<br>person=11<br>rank=%{x}<br>rating=%{y}<extra></extra>",
         "legendgroup": "5",
         "marker": {
          "color": "#8C564B",
          "symbol": "circle"
         },
         "mode": "markers",
         "name": "5",
         "orientation": "v",
         "showlegend": false,
         "type": "scatter",
         "x": [
          3
         ],
         "xaxis": "x7",
         "y": [
          1.4438335570507597
         ],
         "yaxis": "y7"
        },
        {
         "hovertemplate": "choc=5<br>person=12<br>rank=%{x}<br>rating=%{y}<extra></extra>",
         "legendgroup": "5",
         "marker": {
          "color": "#8C564B",
          "symbol": "circle"
         },
         "mode": "markers",
         "name": "5",
         "orientation": "v",
         "showlegend": false,
         "type": "scatter",
         "x": [
          0
         ],
         "xaxis": "x8",
         "y": [
          2.051899490799827
         ],
         "yaxis": "y8"
        },
        {
         "hovertemplate": "choc=5<br>person=13<br>rank=%{x}<br>rating=%{y}<extra></extra>",
         "legendgroup": "5",
         "marker": {
          "color": "#8C564B",
          "symbol": "circle"
         },
         "mode": "markers",
         "name": "5",
         "orientation": "v",
         "showlegend": false,
         "type": "scatter",
         "x": [
          3
         ],
         "xaxis": "x9",
         "y": [
          1.5216532169113073
         ],
         "yaxis": "y9"
        },
        {
         "hovertemplate": "choc=5<br>person=14<br>rank=%{x}<br>rating=%{y}<extra></extra>",
         "legendgroup": "5",
         "marker": {
          "color": "#8C564B",
          "symbol": "circle"
         },
         "mode": "markers",
         "name": "5",
         "orientation": "v",
         "showlegend": false,
         "type": "scatter",
         "x": [
          1
         ],
         "xaxis": "x10",
         "y": [
          1.6781209145599947
         ],
         "yaxis": "y10"
        },
        {
         "hovertemplate": "choc=5<br>person=15<br>rank=%{x}<br>rating=%{y}<extra></extra>",
         "legendgroup": "5",
         "marker": {
          "color": "#8C564B",
          "symbol": "circle"
         },
         "mode": "markers",
         "name": "5",
         "orientation": "v",
         "showlegend": false,
         "type": "scatter",
         "x": [
          3
         ],
         "xaxis": "x",
         "y": [
          1.6694707173273222
         ],
         "yaxis": "y"
        },
        {
         "hovertemplate": "choc=5<br>person=16<br>rank=%{x}<br>rating=%{y}<extra></extra>",
         "legendgroup": "5",
         "marker": {
          "color": "#8C564B",
          "symbol": "circle"
         },
         "mode": "markers",
         "name": "5",
         "orientation": "v",
         "showlegend": false,
         "type": "scatter",
         "x": [
          2
         ],
         "xaxis": "x2",
         "y": [
          1.6847129497985023
         ],
         "yaxis": "y2"
        },
        {
         "hovertemplate": "choc=5<br>person=17<br>rank=%{x}<br>rating=%{y}<extra></extra>",
         "legendgroup": "5",
         "marker": {
          "color": "#8C564B",
          "symbol": "circle"
         },
         "mode": "markers",
         "name": "5",
         "orientation": "v",
         "showlegend": false,
         "type": "scatter",
         "x": [
          2
         ],
         "xaxis": "x3",
         "y": [
          1.9485470866830579
         ],
         "yaxis": "y3"
        },
        {
         "hovertemplate": "choc=5<br>person=18<br>rank=%{x}<br>rating=%{y}<extra></extra>",
         "legendgroup": "5",
         "marker": {
          "color": "#8C564B",
          "symbol": "circle"
         },
         "mode": "markers",
         "name": "5",
         "orientation": "v",
         "showlegend": false,
         "type": "scatter",
         "x": [
          5
         ],
         "xaxis": "x4",
         "y": [
          1.4247901835146157
         ],
         "yaxis": "y4"
        },
        {
         "hovertemplate": "choc=5<br>person=19<br>rank=%{x}<br>rating=%{y}<extra></extra>",
         "legendgroup": "5",
         "marker": {
          "color": "#8C564B",
          "symbol": "circle"
         },
         "mode": "markers",
         "name": "5",
         "orientation": "v",
         "showlegend": false,
         "type": "scatter",
         "x": [
          3
         ],
         "xaxis": "x5",
         "y": [
          1.6949288397348992
         ],
         "yaxis": "y5"
        },
        {
         "hovertemplate": "choc=6<br>person=0<br>rank=%{x}<br>rating=%{y}<extra></extra>",
         "legendgroup": "6",
         "marker": {
          "color": "#E377C2",
          "symbol": "circle"
         },
         "mode": "markers",
         "name": "6",
         "orientation": "v",
         "showlegend": true,
         "type": "scatter",
         "x": [
          19
         ],
         "xaxis": "x16",
         "y": [
          -2.4185342064397997
         ],
         "yaxis": "y16"
        },
        {
         "hovertemplate": "choc=6<br>person=1<br>rank=%{x}<br>rating=%{y}<extra></extra>",
         "legendgroup": "6",
         "marker": {
          "color": "#E377C2",
          "symbol": "circle"
         },
         "mode": "markers",
         "name": "6",
         "orientation": "v",
         "showlegend": false,
         "type": "scatter",
         "x": [
          19
         ],
         "xaxis": "x17",
         "y": [
          -2.557827174237332
         ],
         "yaxis": "y17"
        },
        {
         "hovertemplate": "choc=6<br>person=2<br>rank=%{x}<br>rating=%{y}<extra></extra>",
         "legendgroup": "6",
         "marker": {
          "color": "#E377C2",
          "symbol": "circle"
         },
         "mode": "markers",
         "name": "6",
         "orientation": "v",
         "showlegend": false,
         "type": "scatter",
         "x": [
          19
         ],
         "xaxis": "x18",
         "y": [
          -2.3945307581181616
         ],
         "yaxis": "y18"
        },
        {
         "hovertemplate": "choc=6<br>person=3<br>rank=%{x}<br>rating=%{y}<extra></extra>",
         "legendgroup": "6",
         "marker": {
          "color": "#E377C2",
          "symbol": "circle"
         },
         "mode": "markers",
         "name": "6",
         "orientation": "v",
         "showlegend": false,
         "type": "scatter",
         "x": [
          19
         ],
         "xaxis": "x19",
         "y": [
          -2.2812288493832176
         ],
         "yaxis": "y19"
        },
        {
         "hovertemplate": "choc=6<br>person=4<br>rank=%{x}<br>rating=%{y}<extra></extra>",
         "legendgroup": "6",
         "marker": {
          "color": "#E377C2",
          "symbol": "circle"
         },
         "mode": "markers",
         "name": "6",
         "orientation": "v",
         "showlegend": false,
         "type": "scatter",
         "x": [
          19
         ],
         "xaxis": "x20",
         "y": [
          -2.344983558299361
         ],
         "yaxis": "y20"
        },
        {
         "hovertemplate": "choc=6<br>person=5<br>rank=%{x}<br>rating=%{y}<extra></extra>",
         "legendgroup": "6",
         "marker": {
          "color": "#E377C2",
          "symbol": "circle"
         },
         "mode": "markers",
         "name": "6",
         "orientation": "v",
         "showlegend": false,
         "type": "scatter",
         "x": [
          19
         ],
         "xaxis": "x11",
         "y": [
          -2.153865970881541
         ],
         "yaxis": "y11"
        },
        {
         "hovertemplate": "choc=6<br>person=6<br>rank=%{x}<br>rating=%{y}<extra></extra>",
         "legendgroup": "6",
         "marker": {
          "color": "#E377C2",
          "symbol": "circle"
         },
         "mode": "markers",
         "name": "6",
         "orientation": "v",
         "showlegend": false,
         "type": "scatter",
         "x": [
          18
         ],
         "xaxis": "x12",
         "y": [
          -2.5249639021338135
         ],
         "yaxis": "y12"
        },
        {
         "hovertemplate": "choc=6<br>person=7<br>rank=%{x}<br>rating=%{y}<extra></extra>",
         "legendgroup": "6",
         "marker": {
          "color": "#E377C2",
          "symbol": "circle"
         },
         "mode": "markers",
         "name": "6",
         "orientation": "v",
         "showlegend": false,
         "type": "scatter",
         "x": [
          19
         ],
         "xaxis": "x13",
         "y": [
          -2.442171131076881
         ],
         "yaxis": "y13"
        },
        {
         "hovertemplate": "choc=6<br>person=8<br>rank=%{x}<br>rating=%{y}<extra></extra>",
         "legendgroup": "6",
         "marker": {
          "color": "#E377C2",
          "symbol": "circle"
         },
         "mode": "markers",
         "name": "6",
         "orientation": "v",
         "showlegend": false,
         "type": "scatter",
         "x": [
          19
         ],
         "xaxis": "x14",
         "y": [
          -2.581635614853721
         ],
         "yaxis": "y14"
        },
        {
         "hovertemplate": "choc=6<br>person=9<br>rank=%{x}<br>rating=%{y}<extra></extra>",
         "legendgroup": "6",
         "marker": {
          "color": "#E377C2",
          "symbol": "circle"
         },
         "mode": "markers",
         "name": "6",
         "orientation": "v",
         "showlegend": false,
         "type": "scatter",
         "x": [
          19
         ],
         "xaxis": "x15",
         "y": [
          -2.3137898346320136
         ],
         "yaxis": "y15"
        },
        {
         "hovertemplate": "choc=6<br>person=10<br>rank=%{x}<br>rating=%{y}<extra></extra>",
         "legendgroup": "6",
         "marker": {
          "color": "#E377C2",
          "symbol": "circle"
         },
         "mode": "markers",
         "name": "6",
         "orientation": "v",
         "showlegend": false,
         "type": "scatter",
         "x": [
          19
         ],
         "xaxis": "x6",
         "y": [
          -2.312813170487072
         ],
         "yaxis": "y6"
        },
        {
         "hovertemplate": "choc=6<br>person=11<br>rank=%{x}<br>rating=%{y}<extra></extra>",
         "legendgroup": "6",
         "marker": {
          "color": "#E377C2",
          "symbol": "circle"
         },
         "mode": "markers",
         "name": "6",
         "orientation": "v",
         "showlegend": false,
         "type": "scatter",
         "x": [
          19
         ],
         "xaxis": "x7",
         "y": [
          -2.722775223463367
         ],
         "yaxis": "y7"
        },
        {
         "hovertemplate": "choc=6<br>person=12<br>rank=%{x}<br>rating=%{y}<extra></extra>",
         "legendgroup": "6",
         "marker": {
          "color": "#E377C2",
          "symbol": "circle"
         },
         "mode": "markers",
         "name": "6",
         "orientation": "v",
         "showlegend": false,
         "type": "scatter",
         "x": [
          19
         ],
         "xaxis": "x8",
         "y": [
          -2.5527922934585554
         ],
         "yaxis": "y8"
        },
        {
         "hovertemplate": "choc=6<br>person=13<br>rank=%{x}<br>rating=%{y}<extra></extra>",
         "legendgroup": "6",
         "marker": {
          "color": "#E377C2",
          "symbol": "circle"
         },
         "mode": "markers",
         "name": "6",
         "orientation": "v",
         "showlegend": false,
         "type": "scatter",
         "x": [
          19
         ],
         "xaxis": "x9",
         "y": [
          -2.740985410657553
         ],
         "yaxis": "y9"
        },
        {
         "hovertemplate": "choc=6<br>person=14<br>rank=%{x}<br>rating=%{y}<extra></extra>",
         "legendgroup": "6",
         "marker": {
          "color": "#E377C2",
          "symbol": "circle"
         },
         "mode": "markers",
         "name": "6",
         "orientation": "v",
         "showlegend": false,
         "type": "scatter",
         "x": [
          19
         ],
         "xaxis": "x10",
         "y": [
          -2.43271132845473
         ],
         "yaxis": "y10"
        },
        {
         "hovertemplate": "choc=6<br>person=15<br>rank=%{x}<br>rating=%{y}<extra></extra>",
         "legendgroup": "6",
         "marker": {
          "color": "#E377C2",
          "symbol": "circle"
         },
         "mode": "markers",
         "name": "6",
         "orientation": "v",
         "showlegend": false,
         "type": "scatter",
         "x": [
          19
         ],
         "xaxis": "x",
         "y": [
          -2.1144072292603666
         ],
         "yaxis": "y"
        },
        {
         "hovertemplate": "choc=6<br>person=16<br>rank=%{x}<br>rating=%{y}<extra></extra>",
         "legendgroup": "6",
         "marker": {
          "color": "#E377C2",
          "symbol": "circle"
         },
         "mode": "markers",
         "name": "6",
         "orientation": "v",
         "showlegend": false,
         "type": "scatter",
         "x": [
          19
         ],
         "xaxis": "x2",
         "y": [
          -2.5650110063262535
         ],
         "yaxis": "y2"
        },
        {
         "hovertemplate": "choc=6<br>person=17<br>rank=%{x}<br>rating=%{y}<extra></extra>",
         "legendgroup": "6",
         "marker": {
          "color": "#E377C2",
          "symbol": "circle"
         },
         "mode": "markers",
         "name": "6",
         "orientation": "v",
         "showlegend": false,
         "type": "scatter",
         "x": [
          19
         ],
         "xaxis": "x3",
         "y": [
          -2.7402098527937735
         ],
         "yaxis": "y3"
        },
        {
         "hovertemplate": "choc=6<br>person=18<br>rank=%{x}<br>rating=%{y}<extra></extra>",
         "legendgroup": "6",
         "marker": {
          "color": "#E377C2",
          "symbol": "circle"
         },
         "mode": "markers",
         "name": "6",
         "orientation": "v",
         "showlegend": false,
         "type": "scatter",
         "x": [
          19
         ],
         "xaxis": "x4",
         "y": [
          -2.4044127262955577
         ],
         "yaxis": "y4"
        },
        {
         "hovertemplate": "choc=6<br>person=19<br>rank=%{x}<br>rating=%{y}<extra></extra>",
         "legendgroup": "6",
         "marker": {
          "color": "#E377C2",
          "symbol": "circle"
         },
         "mode": "markers",
         "name": "6",
         "orientation": "v",
         "showlegend": false,
         "type": "scatter",
         "x": [
          19
         ],
         "xaxis": "x5",
         "y": [
          -2.651716387869215
         ],
         "yaxis": "y5"
        },
        {
         "hovertemplate": "choc=7<br>person=0<br>rank=%{x}<br>rating=%{y}<extra></extra>",
         "legendgroup": "7",
         "marker": {
          "color": "#7F7F7F",
          "symbol": "circle"
         },
         "mode": "markers",
         "name": "7",
         "orientation": "v",
         "showlegend": true,
         "type": "scatter",
         "x": [
          11
         ],
         "xaxis": "x16",
         "y": [
          -0.5061163908834788
         ],
         "yaxis": "y16"
        },
        {
         "hovertemplate": "choc=7<br>person=1<br>rank=%{x}<br>rating=%{y}<extra></extra>",
         "legendgroup": "7",
         "marker": {
          "color": "#7F7F7F",
          "symbol": "circle"
         },
         "mode": "markers",
         "name": "7",
         "orientation": "v",
         "showlegend": false,
         "type": "scatter",
         "x": [
          17
         ],
         "xaxis": "x17",
         "y": [
          -0.8305193883070267
         ],
         "yaxis": "y17"
        },
        {
         "hovertemplate": "choc=7<br>person=2<br>rank=%{x}<br>rating=%{y}<extra></extra>",
         "legendgroup": "7",
         "marker": {
          "color": "#7F7F7F",
          "symbol": "circle"
         },
         "mode": "markers",
         "name": "7",
         "orientation": "v",
         "showlegend": false,
         "type": "scatter",
         "x": [
          16
         ],
         "xaxis": "x18",
         "y": [
          -1.0456283122195729
         ],
         "yaxis": "y18"
        },
        {
         "hovertemplate": "choc=7<br>person=3<br>rank=%{x}<br>rating=%{y}<extra></extra>",
         "legendgroup": "7",
         "marker": {
          "color": "#7F7F7F",
          "symbol": "circle"
         },
         "mode": "markers",
         "name": "7",
         "orientation": "v",
         "showlegend": false,
         "type": "scatter",
         "x": [
          12
         ],
         "xaxis": "x19",
         "y": [
          -0.26339082147793313
         ],
         "yaxis": "y19"
        },
        {
         "hovertemplate": "choc=7<br>person=4<br>rank=%{x}<br>rating=%{y}<extra></extra>",
         "legendgroup": "7",
         "marker": {
          "color": "#7F7F7F",
          "symbol": "circle"
         },
         "mode": "markers",
         "name": "7",
         "orientation": "v",
         "showlegend": false,
         "type": "scatter",
         "x": [
          9
         ],
         "xaxis": "x20",
         "y": [
          0.0826648215606452
         ],
         "yaxis": "y20"
        },
        {
         "hovertemplate": "choc=7<br>person=5<br>rank=%{x}<br>rating=%{y}<extra></extra>",
         "legendgroup": "7",
         "marker": {
          "color": "#7F7F7F",
          "symbol": "circle"
         },
         "mode": "markers",
         "name": "7",
         "orientation": "v",
         "showlegend": false,
         "type": "scatter",
         "x": [
          14
         ],
         "xaxis": "x11",
         "y": [
          -0.7916026392999045
         ],
         "yaxis": "y11"
        },
        {
         "hovertemplate": "choc=7<br>person=6<br>rank=%{x}<br>rating=%{y}<extra></extra>",
         "legendgroup": "7",
         "marker": {
          "color": "#7F7F7F",
          "symbol": "circle"
         },
         "mode": "markers",
         "name": "7",
         "orientation": "v",
         "showlegend": false,
         "type": "scatter",
         "x": [
          14
         ],
         "xaxis": "x12",
         "y": [
          -0.7528607464823229
         ],
         "yaxis": "y12"
        },
        {
         "hovertemplate": "choc=7<br>person=7<br>rank=%{x}<br>rating=%{y}<extra></extra>",
         "legendgroup": "7",
         "marker": {
          "color": "#7F7F7F",
          "symbol": "circle"
         },
         "mode": "markers",
         "name": "7",
         "orientation": "v",
         "showlegend": false,
         "type": "scatter",
         "x": [
          15
         ],
         "xaxis": "x13",
         "y": [
          -0.732076747408404
         ],
         "yaxis": "y13"
        },
        {
         "hovertemplate": "choc=7<br>person=8<br>rank=%{x}<br>rating=%{y}<extra></extra>",
         "legendgroup": "7",
         "marker": {
          "color": "#7F7F7F",
          "symbol": "circle"
         },
         "mode": "markers",
         "name": "7",
         "orientation": "v",
         "showlegend": false,
         "type": "scatter",
         "x": [
          14
         ],
         "xaxis": "x14",
         "y": [
          -0.8842309375466233
         ],
         "yaxis": "y14"
        },
        {
         "hovertemplate": "choc=7<br>person=9<br>rank=%{x}<br>rating=%{y}<extra></extra>",
         "legendgroup": "7",
         "marker": {
          "color": "#7F7F7F",
          "symbol": "circle"
         },
         "mode": "markers",
         "name": "7",
         "orientation": "v",
         "showlegend": false,
         "type": "scatter",
         "x": [
          16
         ],
         "xaxis": "x15",
         "y": [
          -1.141852361534788
         ],
         "yaxis": "y15"
        },
        {
         "hovertemplate": "choc=7<br>person=10<br>rank=%{x}<br>rating=%{y}<extra></extra>",
         "legendgroup": "7",
         "marker": {
          "color": "#7F7F7F",
          "symbol": "circle"
         },
         "mode": "markers",
         "name": "7",
         "orientation": "v",
         "showlegend": false,
         "type": "scatter",
         "x": [
          10
         ],
         "xaxis": "x6",
         "y": [
          -0.3346476226042308
         ],
         "yaxis": "y6"
        },
        {
         "hovertemplate": "choc=7<br>person=11<br>rank=%{x}<br>rating=%{y}<extra></extra>",
         "legendgroup": "7",
         "marker": {
          "color": "#7F7F7F",
          "symbol": "circle"
         },
         "mode": "markers",
         "name": "7",
         "orientation": "v",
         "showlegend": false,
         "type": "scatter",
         "x": [
          9
         ],
         "xaxis": "x7",
         "y": [
          -0.013788021983344667
         ],
         "yaxis": "y7"
        },
        {
         "hovertemplate": "choc=7<br>person=12<br>rank=%{x}<br>rating=%{y}<extra></extra>",
         "legendgroup": "7",
         "marker": {
          "color": "#7F7F7F",
          "symbol": "circle"
         },
         "mode": "markers",
         "name": "7",
         "orientation": "v",
         "showlegend": false,
         "type": "scatter",
         "x": [
          11
         ],
         "xaxis": "x8",
         "y": [
          -0.1802988015447363
         ],
         "yaxis": "y8"
        },
        {
         "hovertemplate": "choc=7<br>person=13<br>rank=%{x}<br>rating=%{y}<extra></extra>",
         "legendgroup": "7",
         "marker": {
          "color": "#7F7F7F",
          "symbol": "circle"
         },
         "mode": "markers",
         "name": "7",
         "orientation": "v",
         "showlegend": false,
         "type": "scatter",
         "x": [
          11
         ],
         "xaxis": "x9",
         "y": [
          -0.54437692864887
         ],
         "yaxis": "y9"
        },
        {
         "hovertemplate": "choc=7<br>person=14<br>rank=%{x}<br>rating=%{y}<extra></extra>",
         "legendgroup": "7",
         "marker": {
          "color": "#7F7F7F",
          "symbol": "circle"
         },
         "mode": "markers",
         "name": "7",
         "orientation": "v",
         "showlegend": false,
         "type": "scatter",
         "x": [
          10
         ],
         "xaxis": "x10",
         "y": [
          -0.36937607900872693
         ],
         "yaxis": "y10"
        },
        {
         "hovertemplate": "choc=7<br>person=15<br>rank=%{x}<br>rating=%{y}<extra></extra>",
         "legendgroup": "7",
         "marker": {
          "color": "#7F7F7F",
          "symbol": "circle"
         },
         "mode": "markers",
         "name": "7",
         "orientation": "v",
         "showlegend": false,
         "type": "scatter",
         "x": [
          13
         ],
         "xaxis": "x",
         "y": [
          -0.7494448156380911
         ],
         "yaxis": "y"
        },
        {
         "hovertemplate": "choc=7<br>person=16<br>rank=%{x}<br>rating=%{y}<extra></extra>",
         "legendgroup": "7",
         "marker": {
          "color": "#7F7F7F",
          "symbol": "circle"
         },
         "mode": "markers",
         "name": "7",
         "orientation": "v",
         "showlegend": false,
         "type": "scatter",
         "x": [
          10
         ],
         "xaxis": "x2",
         "y": [
          -0.18221674095403187
         ],
         "yaxis": "y2"
        },
        {
         "hovertemplate": "choc=7<br>person=17<br>rank=%{x}<br>rating=%{y}<extra></extra>",
         "legendgroup": "7",
         "marker": {
          "color": "#7F7F7F",
          "symbol": "circle"
         },
         "mode": "markers",
         "name": "7",
         "orientation": "v",
         "showlegend": false,
         "type": "scatter",
         "x": [
          15
         ],
         "xaxis": "x3",
         "y": [
          -0.649454944235263
         ],
         "yaxis": "y3"
        },
        {
         "hovertemplate": "choc=7<br>person=18<br>rank=%{x}<br>rating=%{y}<extra></extra>",
         "legendgroup": "7",
         "marker": {
          "color": "#7F7F7F",
          "symbol": "circle"
         },
         "mode": "markers",
         "name": "7",
         "orientation": "v",
         "showlegend": false,
         "type": "scatter",
         "x": [
          12
         ],
         "xaxis": "x4",
         "y": [
          0.07353294720684916
         ],
         "yaxis": "y4"
        },
        {
         "hovertemplate": "choc=7<br>person=19<br>rank=%{x}<br>rating=%{y}<extra></extra>",
         "legendgroup": "7",
         "marker": {
          "color": "#7F7F7F",
          "symbol": "circle"
         },
         "mode": "markers",
         "name": "7",
         "orientation": "v",
         "showlegend": false,
         "type": "scatter",
         "x": [
          13
         ],
         "xaxis": "x5",
         "y": [
          -0.34213768029395464
         ],
         "yaxis": "y5"
        },
        {
         "hovertemplate": "choc=8<br>person=0<br>rank=%{x}<br>rating=%{y}<extra></extra>",
         "legendgroup": "8",
         "marker": {
          "color": "#BCBD22",
          "symbol": "circle"
         },
         "mode": "markers",
         "name": "8",
         "orientation": "v",
         "showlegend": true,
         "type": "scatter",
         "x": [
          6
         ],
         "xaxis": "x16",
         "y": [
          0.7059920330039197
         ],
         "yaxis": "y16"
        },
        {
         "hovertemplate": "choc=8<br>person=1<br>rank=%{x}<br>rating=%{y}<extra></extra>",
         "legendgroup": "8",
         "marker": {
          "color": "#BCBD22",
          "symbol": "circle"
         },
         "mode": "markers",
         "name": "8",
         "orientation": "v",
         "showlegend": false,
         "type": "scatter",
         "x": [
          0
         ],
         "xaxis": "x17",
         "y": [
          2.2412061891852506
         ],
         "yaxis": "y17"
        },
        {
         "hovertemplate": "choc=8<br>person=2<br>rank=%{x}<br>rating=%{y}<extra></extra>",
         "legendgroup": "8",
         "marker": {
          "color": "#BCBD22",
          "symbol": "circle"
         },
         "mode": "markers",
         "name": "8",
         "orientation": "v",
         "showlegend": false,
         "type": "scatter",
         "x": [
          3
         ],
         "xaxis": "x18",
         "y": [
          1.465066795509217
         ],
         "yaxis": "y18"
        },
        {
         "hovertemplate": "choc=8<br>person=3<br>rank=%{x}<br>rating=%{y}<extra></extra>",
         "legendgroup": "8",
         "marker": {
          "color": "#BCBD22",
          "symbol": "circle"
         },
         "mode": "markers",
         "name": "8",
         "orientation": "v",
         "showlegend": false,
         "type": "scatter",
         "x": [
          4
         ],
         "xaxis": "x19",
         "y": [
          1.4875900821997943
         ],
         "yaxis": "y19"
        },
        {
         "hovertemplate": "choc=8<br>person=4<br>rank=%{x}<br>rating=%{y}<extra></extra>",
         "legendgroup": "8",
         "marker": {
          "color": "#BCBD22",
          "symbol": "circle"
         },
         "mode": "markers",
         "name": "8",
         "orientation": "v",
         "showlegend": false,
         "type": "scatter",
         "x": [
          4
         ],
         "xaxis": "x20",
         "y": [
          1.153943417120712
         ],
         "yaxis": "y20"
        },
        {
         "hovertemplate": "choc=8<br>person=5<br>rank=%{x}<br>rating=%{y}<extra></extra>",
         "legendgroup": "8",
         "marker": {
          "color": "#BCBD22",
          "symbol": "circle"
         },
         "mode": "markers",
         "name": "8",
         "orientation": "v",
         "showlegend": false,
         "type": "scatter",
         "x": [
          3
         ],
         "xaxis": "x11",
         "y": [
          1.3029575944989635
         ],
         "yaxis": "y11"
        },
        {
         "hovertemplate": "choc=8<br>person=6<br>rank=%{x}<br>rating=%{y}<extra></extra>",
         "legendgroup": "8",
         "marker": {
          "color": "#BCBD22",
          "symbol": "circle"
         },
         "mode": "markers",
         "name": "8",
         "orientation": "v",
         "showlegend": false,
         "type": "scatter",
         "x": [
          4
         ],
         "xaxis": "x12",
         "y": [
          1.1001332739328635
         ],
         "yaxis": "y12"
        },
        {
         "hovertemplate": "choc=8<br>person=7<br>rank=%{x}<br>rating=%{y}<extra></extra>",
         "legendgroup": "8",
         "marker": {
          "color": "#BCBD22",
          "symbol": "circle"
         },
         "mode": "markers",
         "name": "8",
         "orientation": "v",
         "showlegend": false,
         "type": "scatter",
         "x": [
          5
         ],
         "xaxis": "x13",
         "y": [
          1.2214498519576171
         ],
         "yaxis": "y13"
        },
        {
         "hovertemplate": "choc=8<br>person=8<br>rank=%{x}<br>rating=%{y}<extra></extra>",
         "legendgroup": "8",
         "marker": {
          "color": "#BCBD22",
          "symbol": "circle"
         },
         "mode": "markers",
         "name": "8",
         "orientation": "v",
         "showlegend": false,
         "type": "scatter",
         "x": [
          5
         ],
         "xaxis": "x14",
         "y": [
          0.6877437153186978
         ],
         "yaxis": "y14"
        },
        {
         "hovertemplate": "choc=8<br>person=9<br>rank=%{x}<br>rating=%{y}<extra></extra>",
         "legendgroup": "8",
         "marker": {
          "color": "#BCBD22",
          "symbol": "circle"
         },
         "mode": "markers",
         "name": "8",
         "orientation": "v",
         "showlegend": false,
         "type": "scatter",
         "x": [
          7
         ],
         "xaxis": "x15",
         "y": [
          0.5813142234605608
         ],
         "yaxis": "y15"
        },
        {
         "hovertemplate": "choc=8<br>person=10<br>rank=%{x}<br>rating=%{y}<extra></extra>",
         "legendgroup": "8",
         "marker": {
          "color": "#BCBD22",
          "symbol": "circle"
         },
         "mode": "markers",
         "name": "8",
         "orientation": "v",
         "showlegend": false,
         "type": "scatter",
         "x": [
          2
         ],
         "xaxis": "x6",
         "y": [
          1.8355460748451915
         ],
         "yaxis": "y6"
        },
        {
         "hovertemplate": "choc=8<br>person=11<br>rank=%{x}<br>rating=%{y}<extra></extra>",
         "legendgroup": "8",
         "marker": {
          "color": "#BCBD22",
          "symbol": "circle"
         },
         "mode": "markers",
         "name": "8",
         "orientation": "v",
         "showlegend": false,
         "type": "scatter",
         "x": [
          6
         ],
         "xaxis": "x7",
         "y": [
          0.6448820110414036
         ],
         "yaxis": "y7"
        },
        {
         "hovertemplate": "choc=8<br>person=12<br>rank=%{x}<br>rating=%{y}<extra></extra>",
         "legendgroup": "8",
         "marker": {
          "color": "#BCBD22",
          "symbol": "circle"
         },
         "mode": "markers",
         "name": "8",
         "orientation": "v",
         "showlegend": false,
         "type": "scatter",
         "x": [
          3
         ],
         "xaxis": "x8",
         "y": [
          1.4260447256148792
         ],
         "yaxis": "y8"
        },
        {
         "hovertemplate": "choc=8<br>person=13<br>rank=%{x}<br>rating=%{y}<extra></extra>",
         "legendgroup": "8",
         "marker": {
          "color": "#BCBD22",
          "symbol": "circle"
         },
         "mode": "markers",
         "name": "8",
         "orientation": "v",
         "showlegend": false,
         "type": "scatter",
         "x": [
          5
         ],
         "xaxis": "x9",
         "y": [
          1.1759307959251992
         ],
         "yaxis": "y9"
        },
        {
         "hovertemplate": "choc=8<br>person=14<br>rank=%{x}<br>rating=%{y}<extra></extra>",
         "legendgroup": "8",
         "marker": {
          "color": "#BCBD22",
          "symbol": "circle"
         },
         "mode": "markers",
         "name": "8",
         "orientation": "v",
         "showlegend": false,
         "type": "scatter",
         "x": [
          4
         ],
         "xaxis": "x10",
         "y": [
          0.7798871536293233
         ],
         "yaxis": "y10"
        },
        {
         "hovertemplate": "choc=8<br>person=15<br>rank=%{x}<br>rating=%{y}<extra></extra>",
         "legendgroup": "8",
         "marker": {
          "color": "#BCBD22",
          "symbol": "circle"
         },
         "mode": "markers",
         "name": "8",
         "orientation": "v",
         "showlegend": false,
         "type": "scatter",
         "x": [
          5
         ],
         "xaxis": "x",
         "y": [
          1.4619925659598638
         ],
         "yaxis": "y"
        },
        {
         "hovertemplate": "choc=8<br>person=16<br>rank=%{x}<br>rating=%{y}<extra></extra>",
         "legendgroup": "8",
         "marker": {
          "color": "#BCBD22",
          "symbol": "circle"
         },
         "mode": "markers",
         "name": "8",
         "orientation": "v",
         "showlegend": false,
         "type": "scatter",
         "x": [
          4
         ],
         "xaxis": "x2",
         "y": [
          1.3834408763458164
         ],
         "yaxis": "y2"
        },
        {
         "hovertemplate": "choc=8<br>person=17<br>rank=%{x}<br>rating=%{y}<extra></extra>",
         "legendgroup": "8",
         "marker": {
          "color": "#BCBD22",
          "symbol": "circle"
         },
         "mode": "markers",
         "name": "8",
         "orientation": "v",
         "showlegend": false,
         "type": "scatter",
         "x": [
          4
         ],
         "xaxis": "x3",
         "y": [
          1.2827305987050246
         ],
         "yaxis": "y3"
        },
        {
         "hovertemplate": "choc=8<br>person=18<br>rank=%{x}<br>rating=%{y}<extra></extra>",
         "legendgroup": "8",
         "marker": {
          "color": "#BCBD22",
          "symbol": "circle"
         },
         "mode": "markers",
         "name": "8",
         "orientation": "v",
         "showlegend": false,
         "type": "scatter",
         "x": [
          6
         ],
         "xaxis": "x4",
         "y": [
          0.9918213454078606
         ],
         "yaxis": "y4"
        },
        {
         "hovertemplate": "choc=8<br>person=19<br>rank=%{x}<br>rating=%{y}<extra></extra>",
         "legendgroup": "8",
         "marker": {
          "color": "#BCBD22",
          "symbol": "circle"
         },
         "mode": "markers",
         "name": "8",
         "orientation": "v",
         "showlegend": false,
         "type": "scatter",
         "x": [
          2
         ],
         "xaxis": "x5",
         "y": [
          2.027387807704489
         ],
         "yaxis": "y5"
        },
        {
         "hovertemplate": "choc=9<br>person=0<br>rank=%{x}<br>rating=%{y}<extra></extra>",
         "legendgroup": "9",
         "marker": {
          "color": "#17BECF",
          "symbol": "circle"
         },
         "mode": "markers",
         "name": "9",
         "orientation": "v",
         "showlegend": true,
         "type": "scatter",
         "x": [
          13
         ],
         "xaxis": "x16",
         "y": [
          -0.7407036395905542
         ],
         "yaxis": "y16"
        },
        {
         "hovertemplate": "choc=9<br>person=1<br>rank=%{x}<br>rating=%{y}<extra></extra>",
         "legendgroup": "9",
         "marker": {
          "color": "#17BECF",
          "symbol": "circle"
         },
         "mode": "markers",
         "name": "9",
         "orientation": "v",
         "showlegend": false,
         "type": "scatter",
         "x": [
          16
         ],
         "xaxis": "x17",
         "y": [
          -0.7628650155073399
         ],
         "yaxis": "y17"
        },
        {
         "hovertemplate": "choc=9<br>person=2<br>rank=%{x}<br>rating=%{y}<extra></extra>",
         "legendgroup": "9",
         "marker": {
          "color": "#17BECF",
          "symbol": "circle"
         },
         "mode": "markers",
         "name": "9",
         "orientation": "v",
         "showlegend": false,
         "type": "scatter",
         "x": [
          18
         ],
         "xaxis": "x18",
         "y": [
          -1.8808568609614311
         ],
         "yaxis": "y18"
        },
        {
         "hovertemplate": "choc=9<br>person=3<br>rank=%{x}<br>rating=%{y}<extra></extra>",
         "legendgroup": "9",
         "marker": {
          "color": "#17BECF",
          "symbol": "circle"
         },
         "mode": "markers",
         "name": "9",
         "orientation": "v",
         "showlegend": false,
         "type": "scatter",
         "x": [
          16
         ],
         "xaxis": "x19",
         "y": [
          -1.2229638165961727
         ],
         "yaxis": "y19"
        },
        {
         "hovertemplate": "choc=9<br>person=4<br>rank=%{x}<br>rating=%{y}<extra></extra>",
         "legendgroup": "9",
         "marker": {
          "color": "#17BECF",
          "symbol": "circle"
         },
         "mode": "markers",
         "name": "9",
         "orientation": "v",
         "showlegend": false,
         "type": "scatter",
         "x": [
          14
         ],
         "xaxis": "x20",
         "y": [
          -0.7762147712002642
         ],
         "yaxis": "y20"
        },
        {
         "hovertemplate": "choc=9<br>person=5<br>rank=%{x}<br>rating=%{y}<extra></extra>",
         "legendgroup": "9",
         "marker": {
          "color": "#17BECF",
          "symbol": "circle"
         },
         "mode": "markers",
         "name": "9",
         "orientation": "v",
         "showlegend": false,
         "type": "scatter",
         "x": [
          16
         ],
         "xaxis": "x11",
         "y": [
          -1.040073149531726
         ],
         "yaxis": "y11"
        },
        {
         "hovertemplate": "choc=9<br>person=6<br>rank=%{x}<br>rating=%{y}<extra></extra>",
         "legendgroup": "9",
         "marker": {
          "color": "#17BECF",
          "symbol": "circle"
         },
         "mode": "markers",
         "name": "9",
         "orientation": "v",
         "showlegend": false,
         "type": "scatter",
         "x": [
          11
         ],
         "xaxis": "x12",
         "y": [
          -0.6193817284974964
         ],
         "yaxis": "y12"
        },
        {
         "hovertemplate": "choc=9<br>person=7<br>rank=%{x}<br>rating=%{y}<extra></extra>",
         "legendgroup": "9",
         "marker": {
          "color": "#17BECF",
          "symbol": "circle"
         },
         "mode": "markers",
         "name": "9",
         "orientation": "v",
         "showlegend": false,
         "type": "scatter",
         "x": [
          14
         ],
         "xaxis": "x13",
         "y": [
          -0.6906996487230769
         ],
         "yaxis": "y13"
        },
        {
         "hovertemplate": "choc=9<br>person=8<br>rank=%{x}<br>rating=%{y}<extra></extra>",
         "legendgroup": "9",
         "marker": {
          "color": "#17BECF",
          "symbol": "circle"
         },
         "mode": "markers",
         "name": "9",
         "orientation": "v",
         "showlegend": false,
         "type": "scatter",
         "x": [
          13
         ],
         "xaxis": "x14",
         "y": [
          -0.7883759056910589
         ],
         "yaxis": "y14"
        },
        {
         "hovertemplate": "choc=9<br>person=9<br>rank=%{x}<br>rating=%{y}<extra></extra>",
         "legendgroup": "9",
         "marker": {
          "color": "#17BECF",
          "symbol": "circle"
         },
         "mode": "markers",
         "name": "9",
         "orientation": "v",
         "showlegend": false,
         "type": "scatter",
         "x": [
          14
         ],
         "xaxis": "x15",
         "y": [
          -0.6371565668765913
         ],
         "yaxis": "y15"
        },
        {
         "hovertemplate": "choc=9<br>person=10<br>rank=%{x}<br>rating=%{y}<extra></extra>",
         "legendgroup": "9",
         "marker": {
          "color": "#17BECF",
          "symbol": "circle"
         },
         "mode": "markers",
         "name": "9",
         "orientation": "v",
         "showlegend": false,
         "type": "scatter",
         "x": [
          12
         ],
         "xaxis": "x6",
         "y": [
          -0.601318414823838
         ],
         "yaxis": "y6"
        },
        {
         "hovertemplate": "choc=9<br>person=11<br>rank=%{x}<br>rating=%{y}<extra></extra>",
         "legendgroup": "9",
         "marker": {
          "color": "#17BECF",
          "symbol": "circle"
         },
         "mode": "markers",
         "name": "9",
         "orientation": "v",
         "showlegend": false,
         "type": "scatter",
         "x": [
          12
         ],
         "xaxis": "x7",
         "y": [
          -0.6911101219047098
         ],
         "yaxis": "y7"
        },
        {
         "hovertemplate": "choc=9<br>person=12<br>rank=%{x}<br>rating=%{y}<extra></extra>",
         "legendgroup": "9",
         "marker": {
          "color": "#17BECF",
          "symbol": "circle"
         },
         "mode": "markers",
         "name": "9",
         "orientation": "v",
         "showlegend": false,
         "type": "scatter",
         "x": [
          17
         ],
         "xaxis": "x8",
         "y": [
          -0.9466093670781937
         ],
         "yaxis": "y8"
        },
        {
         "hovertemplate": "choc=9<br>person=13<br>rank=%{x}<br>rating=%{y}<extra></extra>",
         "legendgroup": "9",
         "marker": {
          "color": "#17BECF",
          "symbol": "circle"
         },
         "mode": "markers",
         "name": "9",
         "orientation": "v",
         "showlegend": false,
         "type": "scatter",
         "x": [
          12
         ],
         "xaxis": "x9",
         "y": [
          -0.5830272758233885
         ],
         "yaxis": "y9"
        },
        {
         "hovertemplate": "choc=9<br>person=14<br>rank=%{x}<br>rating=%{y}<extra></extra>",
         "legendgroup": "9",
         "marker": {
          "color": "#17BECF",
          "symbol": "circle"
         },
         "mode": "markers",
         "name": "9",
         "orientation": "v",
         "showlegend": false,
         "type": "scatter",
         "x": [
          7
         ],
         "xaxis": "x10",
         "y": [
          0.2191514516093409
         ],
         "yaxis": "y10"
        },
        {
         "hovertemplate": "choc=9<br>person=15<br>rank=%{x}<br>rating=%{y}<extra></extra>",
         "legendgroup": "9",
         "marker": {
          "color": "#17BECF",
          "symbol": "circle"
         },
         "mode": "markers",
         "name": "9",
         "orientation": "v",
         "showlegend": false,
         "type": "scatter",
         "x": [
          12
         ],
         "xaxis": "x",
         "y": [
          -0.7360269792000245
         ],
         "yaxis": "y"
        },
        {
         "hovertemplate": "choc=9<br>person=16<br>rank=%{x}<br>rating=%{y}<extra></extra>",
         "legendgroup": "9",
         "marker": {
          "color": "#17BECF",
          "symbol": "circle"
         },
         "mode": "markers",
         "name": "9",
         "orientation": "v",
         "showlegend": false,
         "type": "scatter",
         "x": [
          16
         ],
         "xaxis": "x2",
         "y": [
          -1.3056353996560706
         ],
         "yaxis": "y2"
        },
        {
         "hovertemplate": "choc=9<br>person=17<br>rank=%{x}<br>rating=%{y}<extra></extra>",
         "legendgroup": "9",
         "marker": {
          "color": "#17BECF",
          "symbol": "circle"
         },
         "mode": "markers",
         "name": "9",
         "orientation": "v",
         "showlegend": false,
         "type": "scatter",
         "x": [
          11
         ],
         "xaxis": "x3",
         "y": [
          -0.329741465401313
         ],
         "yaxis": "y3"
        },
        {
         "hovertemplate": "choc=9<br>person=18<br>rank=%{x}<br>rating=%{y}<extra></extra>",
         "legendgroup": "9",
         "marker": {
          "color": "#17BECF",
          "symbol": "circle"
         },
         "mode": "markers",
         "name": "9",
         "orientation": "v",
         "showlegend": false,
         "type": "scatter",
         "x": [
          13
         ],
         "xaxis": "x4",
         "y": [
          -0.7692773837049096
         ],
         "yaxis": "y4"
        },
        {
         "hovertemplate": "choc=9<br>person=19<br>rank=%{x}<br>rating=%{y}<extra></extra>",
         "legendgroup": "9",
         "marker": {
          "color": "#17BECF",
          "symbol": "circle"
         },
         "mode": "markers",
         "name": "9",
         "orientation": "v",
         "showlegend": false,
         "type": "scatter",
         "x": [
          16
         ],
         "xaxis": "x5",
         "y": [
          -0.8251714293720898
         ],
         "yaxis": "y5"
        },
        {
         "hovertemplate": "choc=10<br>person=0<br>rank=%{x}<br>rating=%{y}<extra></extra>",
         "legendgroup": "10",
         "marker": {
          "color": "#1F77B4",
          "symbol": "circle"
         },
         "mode": "markers",
         "name": "10",
         "orientation": "v",
         "showlegend": true,
         "type": "scatter",
         "x": [
          12
         ],
         "xaxis": "x16",
         "y": [
          -0.5320714653195715
         ],
         "yaxis": "y16"
        },
        {
         "hovertemplate": "choc=10<br>person=1<br>rank=%{x}<br>rating=%{y}<extra></extra>",
         "legendgroup": "10",
         "marker": {
          "color": "#1F77B4",
          "symbol": "circle"
         },
         "mode": "markers",
         "name": "10",
         "orientation": "v",
         "showlegend": false,
         "type": "scatter",
         "x": [
          12
         ],
         "xaxis": "x17",
         "y": [
          -0.3183973305513461
         ],
         "yaxis": "y17"
        },
        {
         "hovertemplate": "choc=10<br>person=2<br>rank=%{x}<br>rating=%{y}<extra></extra>",
         "legendgroup": "10",
         "marker": {
          "color": "#1F77B4",
          "symbol": "circle"
         },
         "mode": "markers",
         "name": "10",
         "orientation": "v",
         "showlegend": false,
         "type": "scatter",
         "x": [
          15
         ],
         "xaxis": "x18",
         "y": [
          -0.8129262935103412
         ],
         "yaxis": "y18"
        },
        {
         "hovertemplate": "choc=10<br>person=3<br>rank=%{x}<br>rating=%{y}<extra></extra>",
         "legendgroup": "10",
         "marker": {
          "color": "#1F77B4",
          "symbol": "circle"
         },
         "mode": "markers",
         "name": "10",
         "orientation": "v",
         "showlegend": false,
         "type": "scatter",
         "x": [
          15
         ],
         "xaxis": "x19",
         "y": [
          -0.9914591894040867
         ],
         "yaxis": "y19"
        },
        {
         "hovertemplate": "choc=10<br>person=4<br>rank=%{x}<br>rating=%{y}<extra></extra>",
         "legendgroup": "10",
         "marker": {
          "color": "#1F77B4",
          "symbol": "circle"
         },
         "mode": "markers",
         "name": "10",
         "orientation": "v",
         "showlegend": false,
         "type": "scatter",
         "x": [
          13
         ],
         "xaxis": "x20",
         "y": [
          -0.5993368893248883
         ],
         "yaxis": "y20"
        },
        {
         "hovertemplate": "choc=10<br>person=5<br>rank=%{x}<br>rating=%{y}<extra></extra>",
         "legendgroup": "10",
         "marker": {
          "color": "#1F77B4",
          "symbol": "circle"
         },
         "mode": "markers",
         "name": "10",
         "orientation": "v",
         "showlegend": false,
         "type": "scatter",
         "x": [
          15
         ],
         "xaxis": "x11",
         "y": [
          -1.0076532798279203
         ],
         "yaxis": "y11"
        },
        {
         "hovertemplate": "choc=10<br>person=6<br>rank=%{x}<br>rating=%{y}<extra></extra>",
         "legendgroup": "10",
         "marker": {
          "color": "#1F77B4",
          "symbol": "circle"
         },
         "mode": "markers",
         "name": "10",
         "orientation": "v",
         "showlegend": false,
         "type": "scatter",
         "x": [
          12
         ],
         "xaxis": "x12",
         "y": [
          -0.6233518566696143
         ],
         "yaxis": "y12"
        },
        {
         "hovertemplate": "choc=10<br>person=7<br>rank=%{x}<br>rating=%{y}<extra></extra>",
         "legendgroup": "10",
         "marker": {
          "color": "#1F77B4",
          "symbol": "circle"
         },
         "mode": "markers",
         "name": "10",
         "orientation": "v",
         "showlegend": false,
         "type": "scatter",
         "x": [
          11
         ],
         "xaxis": "x13",
         "y": [
          -0.4972505516954116
         ],
         "yaxis": "y13"
        },
        {
         "hovertemplate": "choc=10<br>person=8<br>rank=%{x}<br>rating=%{y}<extra></extra>",
         "legendgroup": "10",
         "marker": {
          "color": "#1F77B4",
          "symbol": "circle"
         },
         "mode": "markers",
         "name": "10",
         "orientation": "v",
         "showlegend": false,
         "type": "scatter",
         "x": [
          16
         ],
         "xaxis": "x14",
         "y": [
          -1.1804842570161957
         ],
         "yaxis": "y14"
        },
        {
         "hovertemplate": "choc=10<br>person=9<br>rank=%{x}<br>rating=%{y}<extra></extra>",
         "legendgroup": "10",
         "marker": {
          "color": "#1F77B4",
          "symbol": "circle"
         },
         "mode": "markers",
         "name": "10",
         "orientation": "v",
         "showlegend": false,
         "type": "scatter",
         "x": [
          11
         ],
         "xaxis": "x15",
         "y": [
          -0.09502131698754512
         ],
         "yaxis": "y15"
        },
        {
         "hovertemplate": "choc=10<br>person=10<br>rank=%{x}<br>rating=%{y}<extra></extra>",
         "legendgroup": "10",
         "marker": {
          "color": "#1F77B4",
          "symbol": "circle"
         },
         "mode": "markers",
         "name": "10",
         "orientation": "v",
         "showlegend": false,
         "type": "scatter",
         "x": [
          14
         ],
         "xaxis": "x6",
         "y": [
          -1.0591761372019344
         ],
         "yaxis": "y6"
        },
        {
         "hovertemplate": "choc=10<br>person=11<br>rank=%{x}<br>rating=%{y}<extra></extra>",
         "legendgroup": "10",
         "marker": {
          "color": "#1F77B4",
          "symbol": "circle"
         },
         "mode": "markers",
         "name": "10",
         "orientation": "v",
         "showlegend": false,
         "type": "scatter",
         "x": [
          14
         ],
         "xaxis": "x7",
         "y": [
          -1.0157314612193145
         ],
         "yaxis": "y7"
        },
        {
         "hovertemplate": "choc=10<br>person=12<br>rank=%{x}<br>rating=%{y}<extra></extra>",
         "legendgroup": "10",
         "marker": {
          "color": "#1F77B4",
          "symbol": "circle"
         },
         "mode": "markers",
         "name": "10",
         "orientation": "v",
         "showlegend": false,
         "type": "scatter",
         "x": [
          12
         ],
         "xaxis": "x8",
         "y": [
          -0.3103409897856272
         ],
         "yaxis": "y8"
        },
        {
         "hovertemplate": "choc=10<br>person=13<br>rank=%{x}<br>rating=%{y}<extra></extra>",
         "legendgroup": "10",
         "marker": {
          "color": "#1F77B4",
          "symbol": "circle"
         },
         "mode": "markers",
         "name": "10",
         "orientation": "v",
         "showlegend": false,
         "type": "scatter",
         "x": [
          14
         ],
         "xaxis": "x9",
         "y": [
          -0.7244449064358252
         ],
         "yaxis": "y9"
        },
        {
         "hovertemplate": "choc=10<br>person=14<br>rank=%{x}<br>rating=%{y}<extra></extra>",
         "legendgroup": "10",
         "marker": {
          "color": "#1F77B4",
          "symbol": "circle"
         },
         "mode": "markers",
         "name": "10",
         "orientation": "v",
         "showlegend": false,
         "type": "scatter",
         "x": [
          12
         ],
         "xaxis": "x10",
         "y": [
          -0.7803878635599976
         ],
         "yaxis": "y10"
        },
        {
         "hovertemplate": "choc=10<br>person=15<br>rank=%{x}<br>rating=%{y}<extra></extra>",
         "legendgroup": "10",
         "marker": {
          "color": "#1F77B4",
          "symbol": "circle"
         },
         "mode": "markers",
         "name": "10",
         "orientation": "v",
         "showlegend": false,
         "type": "scatter",
         "x": [
          18
         ],
         "xaxis": "x",
         "y": [
          -1.3845454122279164
         ],
         "yaxis": "y"
        },
        {
         "hovertemplate": "choc=10<br>person=16<br>rank=%{x}<br>rating=%{y}<extra></extra>",
         "legendgroup": "10",
         "marker": {
          "color": "#1F77B4",
          "symbol": "circle"
         },
         "mode": "markers",
         "name": "10",
         "orientation": "v",
         "showlegend": false,
         "type": "scatter",
         "x": [
          11
         ],
         "xaxis": "x2",
         "y": [
          -0.40026463837979315
         ],
         "yaxis": "y2"
        },
        {
         "hovertemplate": "choc=10<br>person=17<br>rank=%{x}<br>rating=%{y}<extra></extra>",
         "legendgroup": "10",
         "marker": {
          "color": "#1F77B4",
          "symbol": "circle"
         },
         "mode": "markers",
         "name": "10",
         "orientation": "v",
         "showlegend": false,
         "type": "scatter",
         "x": [
          13
         ],
         "xaxis": "x3",
         "y": [
          -0.5588898240228425
         ],
         "yaxis": "y3"
        },
        {
         "hovertemplate": "choc=10<br>person=18<br>rank=%{x}<br>rating=%{y}<extra></extra>",
         "legendgroup": "10",
         "marker": {
          "color": "#1F77B4",
          "symbol": "circle"
         },
         "mode": "markers",
         "name": "10",
         "orientation": "v",
         "showlegend": false,
         "type": "scatter",
         "x": [
          15
         ],
         "xaxis": "x4",
         "y": [
          -1.0384446385500157
         ],
         "yaxis": "y4"
        },
        {
         "hovertemplate": "choc=10<br>person=19<br>rank=%{x}<br>rating=%{y}<extra></extra>",
         "legendgroup": "10",
         "marker": {
          "color": "#1F77B4",
          "symbol": "circle"
         },
         "mode": "markers",
         "name": "10",
         "orientation": "v",
         "showlegend": false,
         "type": "scatter",
         "x": [
          14
         ],
         "xaxis": "x5",
         "y": [
          -0.6383351081741748
         ],
         "yaxis": "y5"
        },
        {
         "hovertemplate": "choc=11<br>person=0<br>rank=%{x}<br>rating=%{y}<extra></extra>",
         "legendgroup": "11",
         "marker": {
          "color": "#FF7F0E",
          "symbol": "circle"
         },
         "mode": "markers",
         "name": "11",
         "orientation": "v",
         "showlegend": true,
         "type": "scatter",
         "x": [
          10
         ],
         "xaxis": "x16",
         "y": [
          -0.247725312536196
         ],
         "yaxis": "y16"
        },
        {
         "hovertemplate": "choc=11<br>person=1<br>rank=%{x}<br>rating=%{y}<extra></extra>",
         "legendgroup": "11",
         "marker": {
          "color": "#FF7F0E",
          "symbol": "circle"
         },
         "mode": "markers",
         "name": "11",
         "orientation": "v",
         "showlegend": false,
         "type": "scatter",
         "x": [
          13
         ],
         "xaxis": "x17",
         "y": [
          -0.32802956529858
         ],
         "yaxis": "y17"
        },
        {
         "hovertemplate": "choc=11<br>person=2<br>rank=%{x}<br>rating=%{y}<extra></extra>",
         "legendgroup": "11",
         "marker": {
          "color": "#FF7F0E",
          "symbol": "circle"
         },
         "mode": "markers",
         "name": "11",
         "orientation": "v",
         "showlegend": false,
         "type": "scatter",
         "x": [
          8
         ],
         "xaxis": "x18",
         "y": [
          0.134104378340845
         ],
         "yaxis": "y18"
        },
        {
         "hovertemplate": "choc=11<br>person=3<br>rank=%{x}<br>rating=%{y}<extra></extra>",
         "legendgroup": "11",
         "marker": {
          "color": "#FF7F0E",
          "symbol": "circle"
         },
         "mode": "markers",
         "name": "11",
         "orientation": "v",
         "showlegend": false,
         "type": "scatter",
         "x": [
          13
         ],
         "xaxis": "x19",
         "y": [
          -0.29722784698713545
         ],
         "yaxis": "y19"
        },
        {
         "hovertemplate": "choc=11<br>person=4<br>rank=%{x}<br>rating=%{y}<extra></extra>",
         "legendgroup": "11",
         "marker": {
          "color": "#FF7F0E",
          "symbol": "circle"
         },
         "mode": "markers",
         "name": "11",
         "orientation": "v",
         "showlegend": false,
         "type": "scatter",
         "x": [
          10
         ],
         "xaxis": "x20",
         "y": [
          -0.042474888230483905
         ],
         "yaxis": "y20"
        },
        {
         "hovertemplate": "choc=11<br>person=5<br>rank=%{x}<br>rating=%{y}<extra></extra>",
         "legendgroup": "11",
         "marker": {
          "color": "#FF7F0E",
          "symbol": "circle"
         },
         "mode": "markers",
         "name": "11",
         "orientation": "v",
         "showlegend": false,
         "type": "scatter",
         "x": [
          10
         ],
         "xaxis": "x11",
         "y": [
          -0.10853873344374887
         ],
         "yaxis": "y11"
        },
        {
         "hovertemplate": "choc=11<br>person=6<br>rank=%{x}<br>rating=%{y}<extra></extra>",
         "legendgroup": "11",
         "marker": {
          "color": "#FF7F0E",
          "symbol": "circle"
         },
         "mode": "markers",
         "name": "11",
         "orientation": "v",
         "showlegend": false,
         "type": "scatter",
         "x": [
          9
         ],
         "xaxis": "x12",
         "y": [
          -0.10022610467006374
         ],
         "yaxis": "y12"
        },
        {
         "hovertemplate": "choc=11<br>person=7<br>rank=%{x}<br>rating=%{y}<extra></extra>",
         "legendgroup": "11",
         "marker": {
          "color": "#FF7F0E",
          "symbol": "circle"
         },
         "mode": "markers",
         "name": "11",
         "orientation": "v",
         "showlegend": false,
         "type": "scatter",
         "x": [
          10
         ],
         "xaxis": "x13",
         "y": [
          0.012012415291241502
         ],
         "yaxis": "y13"
        },
        {
         "hovertemplate": "choc=11<br>person=8<br>rank=%{x}<br>rating=%{y}<extra></extra>",
         "legendgroup": "11",
         "marker": {
          "color": "#FF7F0E",
          "symbol": "circle"
         },
         "mode": "markers",
         "name": "11",
         "orientation": "v",
         "showlegend": false,
         "type": "scatter",
         "x": [
          9
         ],
         "xaxis": "x14",
         "y": [
          0.04407891813381193
         ],
         "yaxis": "y14"
        },
        {
         "hovertemplate": "choc=11<br>person=9<br>rank=%{x}<br>rating=%{y}<extra></extra>",
         "legendgroup": "11",
         "marker": {
          "color": "#FF7F0E",
          "symbol": "circle"
         },
         "mode": "markers",
         "name": "11",
         "orientation": "v",
         "showlegend": false,
         "type": "scatter",
         "x": [
          10
         ],
         "xaxis": "x15",
         "y": [
          0.059026060690594795
         ],
         "yaxis": "y15"
        },
        {
         "hovertemplate": "choc=11<br>person=10<br>rank=%{x}<br>rating=%{y}<extra></extra>",
         "legendgroup": "11",
         "marker": {
          "color": "#FF7F0E",
          "symbol": "circle"
         },
         "mode": "markers",
         "name": "11",
         "orientation": "v",
         "showlegend": false,
         "type": "scatter",
         "x": [
          11
         ],
         "xaxis": "x6",
         "y": [
          -0.33891650489108094
         ],
         "yaxis": "y6"
        },
        {
         "hovertemplate": "choc=11<br>person=11<br>rank=%{x}<br>rating=%{y}<extra></extra>",
         "legendgroup": "11",
         "marker": {
          "color": "#FF7F0E",
          "symbol": "circle"
         },
         "mode": "markers",
         "name": "11",
         "orientation": "v",
         "showlegend": false,
         "type": "scatter",
         "x": [
          8
         ],
         "xaxis": "x7",
         "y": [
          0.028328737932709916
         ],
         "yaxis": "y7"
        },
        {
         "hovertemplate": "choc=11<br>person=12<br>rank=%{x}<br>rating=%{y}<extra></extra>",
         "legendgroup": "11",
         "marker": {
          "color": "#FF7F0E",
          "symbol": "circle"
         },
         "mode": "markers",
         "name": "11",
         "orientation": "v",
         "showlegend": false,
         "type": "scatter",
         "x": [
          10
         ],
         "xaxis": "x8",
         "y": [
          0.03049278202185618
         ],
         "yaxis": "y8"
        },
        {
         "hovertemplate": "choc=11<br>person=13<br>rank=%{x}<br>rating=%{y}<extra></extra>",
         "legendgroup": "11",
         "marker": {
          "color": "#FF7F0E",
          "symbol": "circle"
         },
         "mode": "markers",
         "name": "11",
         "orientation": "v",
         "showlegend": false,
         "type": "scatter",
         "x": [
          6
         ],
         "xaxis": "x9",
         "y": [
          0.24932517034370227
         ],
         "yaxis": "y9"
        },
        {
         "hovertemplate": "choc=11<br>person=14<br>rank=%{x}<br>rating=%{y}<extra></extra>",
         "legendgroup": "11",
         "marker": {
          "color": "#FF7F0E",
          "symbol": "circle"
         },
         "mode": "markers",
         "name": "11",
         "orientation": "v",
         "showlegend": false,
         "type": "scatter",
         "x": [
          8
         ],
         "xaxis": "x10",
         "y": [
          -0.12937458166153695
         ],
         "yaxis": "y10"
        },
        {
         "hovertemplate": "choc=11<br>person=15<br>rank=%{x}<br>rating=%{y}<extra></extra>",
         "legendgroup": "11",
         "marker": {
          "color": "#FF7F0E",
          "symbol": "circle"
         },
         "mode": "markers",
         "name": "11",
         "orientation": "v",
         "showlegend": false,
         "type": "scatter",
         "x": [
          9
         ],
         "xaxis": "x",
         "y": [
          -0.20313895036890886
         ],
         "yaxis": "y"
        },
        {
         "hovertemplate": "choc=11<br>person=16<br>rank=%{x}<br>rating=%{y}<extra></extra>",
         "legendgroup": "11",
         "marker": {
          "color": "#FF7F0E",
          "symbol": "circle"
         },
         "mode": "markers",
         "name": "11",
         "orientation": "v",
         "showlegend": false,
         "type": "scatter",
         "x": [
          8
         ],
         "xaxis": "x2",
         "y": [
          0.11904470892580832
         ],
         "yaxis": "y2"
        },
        {
         "hovertemplate": "choc=11<br>person=17<br>rank=%{x}<br>rating=%{y}<extra></extra>",
         "legendgroup": "11",
         "marker": {
          "color": "#FF7F0E",
          "symbol": "circle"
         },
         "mode": "markers",
         "name": "11",
         "orientation": "v",
         "showlegend": false,
         "type": "scatter",
         "x": [
          9
         ],
         "xaxis": "x3",
         "y": [
          -0.03479083657516968
         ],
         "yaxis": "y3"
        },
        {
         "hovertemplate": "choc=11<br>person=18<br>rank=%{x}<br>rating=%{y}<extra></extra>",
         "legendgroup": "11",
         "marker": {
          "color": "#FF7F0E",
          "symbol": "circle"
         },
         "mode": "markers",
         "name": "11",
         "orientation": "v",
         "showlegend": false,
         "type": "scatter",
         "x": [
          10
         ],
         "xaxis": "x4",
         "y": [
          0.18515497347883825
         ],
         "yaxis": "y4"
        },
        {
         "hovertemplate": "choc=11<br>person=19<br>rank=%{x}<br>rating=%{y}<extra></extra>",
         "legendgroup": "11",
         "marker": {
          "color": "#FF7F0E",
          "symbol": "circle"
         },
         "mode": "markers",
         "name": "11",
         "orientation": "v",
         "showlegend": false,
         "type": "scatter",
         "x": [
          11
         ],
         "xaxis": "x5",
         "y": [
          -0.32714435200909886
         ],
         "yaxis": "y5"
        },
        {
         "hovertemplate": "choc=12<br>person=0<br>rank=%{x}<br>rating=%{y}<extra></extra>",
         "legendgroup": "12",
         "marker": {
          "color": "#2CA02C",
          "symbol": "circle"
         },
         "mode": "markers",
         "name": "12",
         "orientation": "v",
         "showlegend": true,
         "type": "scatter",
         "x": [
          1
         ],
         "xaxis": "x16",
         "y": [
          2.1232779106917157
         ],
         "yaxis": "y16"
        },
        {
         "hovertemplate": "choc=12<br>person=1<br>rank=%{x}<br>rating=%{y}<extra></extra>",
         "legendgroup": "12",
         "marker": {
          "color": "#2CA02C",
          "symbol": "circle"
         },
         "mode": "markers",
         "name": "12",
         "orientation": "v",
         "showlegend": false,
         "type": "scatter",
         "x": [
          2
         ],
         "xaxis": "x17",
         "y": [
          1.5898181056809757
         ],
         "yaxis": "y17"
        },
        {
         "hovertemplate": "choc=12<br>person=2<br>rank=%{x}<br>rating=%{y}<extra></extra>",
         "legendgroup": "12",
         "marker": {
          "color": "#2CA02C",
          "symbol": "circle"
         },
         "mode": "markers",
         "name": "12",
         "orientation": "v",
         "showlegend": false,
         "type": "scatter",
         "x": [
          4
         ],
         "xaxis": "x18",
         "y": [
          1.0916534683171335
         ],
         "yaxis": "y18"
        },
        {
         "hovertemplate": "choc=12<br>person=3<br>rank=%{x}<br>rating=%{y}<extra></extra>",
         "legendgroup": "12",
         "marker": {
          "color": "#2CA02C",
          "symbol": "circle"
         },
         "mode": "markers",
         "name": "12",
         "orientation": "v",
         "showlegend": false,
         "type": "scatter",
         "x": [
          5
         ],
         "xaxis": "x19",
         "y": [
          1.080116054155128
         ],
         "yaxis": "y19"
        },
        {
         "hovertemplate": "choc=12<br>person=4<br>rank=%{x}<br>rating=%{y}<extra></extra>",
         "legendgroup": "12",
         "marker": {
          "color": "#2CA02C",
          "symbol": "circle"
         },
         "mode": "markers",
         "name": "12",
         "orientation": "v",
         "showlegend": false,
         "type": "scatter",
         "x": [
          6
         ],
         "xaxis": "x20",
         "y": [
          0.7237481430372859
         ],
         "yaxis": "y20"
        },
        {
         "hovertemplate": "choc=12<br>person=5<br>rank=%{x}<br>rating=%{y}<extra></extra>",
         "legendgroup": "12",
         "marker": {
          "color": "#2CA02C",
          "symbol": "circle"
         },
         "mode": "markers",
         "name": "12",
         "orientation": "v",
         "showlegend": false,
         "type": "scatter",
         "x": [
          5
         ],
         "xaxis": "x11",
         "y": [
          1.0886104887152004
         ],
         "yaxis": "y11"
        },
        {
         "hovertemplate": "choc=12<br>person=6<br>rank=%{x}<br>rating=%{y}<extra></extra>",
         "legendgroup": "12",
         "marker": {
          "color": "#2CA02C",
          "symbol": "circle"
         },
         "mode": "markers",
         "name": "12",
         "orientation": "v",
         "showlegend": false,
         "type": "scatter",
         "x": [
          3
         ],
         "xaxis": "x12",
         "y": [
          1.599902066692516
         ],
         "yaxis": "y12"
        },
        {
         "hovertemplate": "choc=12<br>person=7<br>rank=%{x}<br>rating=%{y}<extra></extra>",
         "legendgroup": "12",
         "marker": {
          "color": "#2CA02C",
          "symbol": "circle"
         },
         "mode": "markers",
         "name": "12",
         "orientation": "v",
         "showlegend": false,
         "type": "scatter",
         "x": [
          4
         ],
         "xaxis": "x13",
         "y": [
          1.341939190548687
         ],
         "yaxis": "y13"
        },
        {
         "hovertemplate": "choc=12<br>person=8<br>rank=%{x}<br>rating=%{y}<extra></extra>",
         "legendgroup": "12",
         "marker": {
          "color": "#2CA02C",
          "symbol": "circle"
         },
         "mode": "markers",
         "name": "12",
         "orientation": "v",
         "showlegend": false,
         "type": "scatter",
         "x": [
          3
         ],
         "xaxis": "x14",
         "y": [
          1.3571963250285721
         ],
         "yaxis": "y14"
        },
        {
         "hovertemplate": "choc=12<br>person=9<br>rank=%{x}<br>rating=%{y}<extra></extra>",
         "legendgroup": "12",
         "marker": {
          "color": "#2CA02C",
          "symbol": "circle"
         },
         "mode": "markers",
         "name": "12",
         "orientation": "v",
         "showlegend": false,
         "type": "scatter",
         "x": [
          5
         ],
         "xaxis": "x15",
         "y": [
          1.1203422610362197
         ],
         "yaxis": "y15"
        },
        {
         "hovertemplate": "choc=12<br>person=10<br>rank=%{x}<br>rating=%{y}<extra></extra>",
         "legendgroup": "12",
         "marker": {
          "color": "#2CA02C",
          "symbol": "circle"
         },
         "mode": "markers",
         "name": "12",
         "orientation": "v",
         "showlegend": false,
         "type": "scatter",
         "x": [
          1
         ],
         "xaxis": "x6",
         "y": [
          2.2571174382427723
         ],
         "yaxis": "y6"
        },
        {
         "hovertemplate": "choc=12<br>person=11<br>rank=%{x}<br>rating=%{y}<extra></extra>",
         "legendgroup": "12",
         "marker": {
          "color": "#2CA02C",
          "symbol": "circle"
         },
         "mode": "markers",
         "name": "12",
         "orientation": "v",
         "showlegend": false,
         "type": "scatter",
         "x": [
          2
         ],
         "xaxis": "x7",
         "y": [
          2.0110739859478355
         ],
         "yaxis": "y7"
        },
        {
         "hovertemplate": "choc=12<br>person=12<br>rank=%{x}<br>rating=%{y}<extra></extra>",
         "legendgroup": "12",
         "marker": {
          "color": "#2CA02C",
          "symbol": "circle"
         },
         "mode": "markers",
         "name": "12",
         "orientation": "v",
         "showlegend": false,
         "type": "scatter",
         "x": [
          6
         ],
         "xaxis": "x8",
         "y": [
          0.9449907634725486
         ],
         "yaxis": "y8"
        },
        {
         "hovertemplate": "choc=12<br>person=13<br>rank=%{x}<br>rating=%{y}<extra></extra>",
         "legendgroup": "12",
         "marker": {
          "color": "#2CA02C",
          "symbol": "circle"
         },
         "mode": "markers",
         "name": "12",
         "orientation": "v",
         "showlegend": false,
         "type": "scatter",
         "x": [
          4
         ],
         "xaxis": "x9",
         "y": [
          1.2093712600710587
         ],
         "yaxis": "y9"
        },
        {
         "hovertemplate": "choc=12<br>person=14<br>rank=%{x}<br>rating=%{y}<extra></extra>",
         "legendgroup": "12",
         "marker": {
          "color": "#2CA02C",
          "symbol": "circle"
         },
         "mode": "markers",
         "name": "12",
         "orientation": "v",
         "showlegend": false,
         "type": "scatter",
         "x": [
          3
         ],
         "xaxis": "x10",
         "y": [
          1.002056559600105
         ],
         "yaxis": "y10"
        },
        {
         "hovertemplate": "choc=12<br>person=15<br>rank=%{x}<br>rating=%{y}<extra></extra>",
         "legendgroup": "12",
         "marker": {
          "color": "#2CA02C",
          "symbol": "circle"
         },
         "mode": "markers",
         "name": "12",
         "orientation": "v",
         "showlegend": false,
         "type": "scatter",
         "x": [
          1
         ],
         "xaxis": "x",
         "y": [
          2.1063949150688352
         ],
         "yaxis": "y"
        },
        {
         "hovertemplate": "choc=12<br>person=16<br>rank=%{x}<br>rating=%{y}<extra></extra>",
         "legendgroup": "12",
         "marker": {
          "color": "#2CA02C",
          "symbol": "circle"
         },
         "mode": "markers",
         "name": "12",
         "orientation": "v",
         "showlegend": false,
         "type": "scatter",
         "x": [
          3
         ],
         "xaxis": "x2",
         "y": [
          1.4377349311261636
         ],
         "yaxis": "y2"
        },
        {
         "hovertemplate": "choc=12<br>person=17<br>rank=%{x}<br>rating=%{y}<extra></extra>",
         "legendgroup": "12",
         "marker": {
          "color": "#2CA02C",
          "symbol": "circle"
         },
         "mode": "markers",
         "name": "12",
         "orientation": "v",
         "showlegend": false,
         "type": "scatter",
         "x": [
          3
         ],
         "xaxis": "x3",
         "y": [
          1.3694311613921153
         ],
         "yaxis": "y3"
        },
        {
         "hovertemplate": "choc=12<br>person=18<br>rank=%{x}<br>rating=%{y}<extra></extra>",
         "legendgroup": "12",
         "marker": {
          "color": "#2CA02C",
          "symbol": "circle"
         },
         "mode": "markers",
         "name": "12",
         "orientation": "v",
         "showlegend": false,
         "type": "scatter",
         "x": [
          4
         ],
         "xaxis": "x4",
         "y": [
          1.5941722111861159
         ],
         "yaxis": "y4"
        },
        {
         "hovertemplate": "choc=12<br>person=19<br>rank=%{x}<br>rating=%{y}<extra></extra>",
         "legendgroup": "12",
         "marker": {
          "color": "#2CA02C",
          "symbol": "circle"
         },
         "mode": "markers",
         "name": "12",
         "orientation": "v",
         "showlegend": false,
         "type": "scatter",
         "x": [
          6
         ],
         "xaxis": "x5",
         "y": [
          0.7285869422110052
         ],
         "yaxis": "y5"
        },
        {
         "hovertemplate": "choc=13<br>person=0<br>rank=%{x}<br>rating=%{y}<extra></extra>",
         "legendgroup": "13",
         "marker": {
          "color": "#D62728",
          "symbol": "circle"
         },
         "mode": "markers",
         "name": "13",
         "orientation": "v",
         "showlegend": true,
         "type": "scatter",
         "x": [
          14
         ],
         "xaxis": "x16",
         "y": [
          -1.1481311020917038
         ],
         "yaxis": "y16"
        },
        {
         "hovertemplate": "choc=13<br>person=1<br>rank=%{x}<br>rating=%{y}<extra></extra>",
         "legendgroup": "13",
         "marker": {
          "color": "#D62728",
          "symbol": "circle"
         },
         "mode": "markers",
         "name": "13",
         "orientation": "v",
         "showlegend": false,
         "type": "scatter",
         "x": [
          10
         ],
         "xaxis": "x17",
         "y": [
          -0.09223783701510913
         ],
         "yaxis": "y17"
        },
        {
         "hovertemplate": "choc=13<br>person=2<br>rank=%{x}<br>rating=%{y}<extra></extra>",
         "legendgroup": "13",
         "marker": {
          "color": "#D62728",
          "symbol": "circle"
         },
         "mode": "markers",
         "name": "13",
         "orientation": "v",
         "showlegend": false,
         "type": "scatter",
         "x": [
          10
         ],
         "xaxis": "x18",
         "y": [
          -0.4062644959396663
         ],
         "yaxis": "y18"
        },
        {
         "hovertemplate": "choc=13<br>person=3<br>rank=%{x}<br>rating=%{y}<extra></extra>",
         "legendgroup": "13",
         "marker": {
          "color": "#D62728",
          "symbol": "circle"
         },
         "mode": "markers",
         "name": "13",
         "orientation": "v",
         "showlegend": false,
         "type": "scatter",
         "x": [
          14
         ],
         "xaxis": "x19",
         "y": [
          -0.4896022223403317
         ],
         "yaxis": "y19"
        },
        {
         "hovertemplate": "choc=13<br>person=4<br>rank=%{x}<br>rating=%{y}<extra></extra>",
         "legendgroup": "13",
         "marker": {
          "color": "#D62728",
          "symbol": "circle"
         },
         "mode": "markers",
         "name": "13",
         "orientation": "v",
         "showlegend": false,
         "type": "scatter",
         "x": [
          17
         ],
         "xaxis": "x20",
         "y": [
          -1.5099861133946566
         ],
         "yaxis": "y20"
        },
        {
         "hovertemplate": "choc=13<br>person=5<br>rank=%{x}<br>rating=%{y}<extra></extra>",
         "legendgroup": "13",
         "marker": {
          "color": "#D62728",
          "symbol": "circle"
         },
         "mode": "markers",
         "name": "13",
         "orientation": "v",
         "showlegend": false,
         "type": "scatter",
         "x": [
          13
         ],
         "xaxis": "x11",
         "y": [
          -0.6050646040615049
         ],
         "yaxis": "y11"
        },
        {
         "hovertemplate": "choc=13<br>person=6<br>rank=%{x}<br>rating=%{y}<extra></extra>",
         "legendgroup": "13",
         "marker": {
          "color": "#D62728",
          "symbol": "circle"
         },
         "mode": "markers",
         "name": "13",
         "orientation": "v",
         "showlegend": false,
         "type": "scatter",
         "x": [
          13
         ],
         "xaxis": "x12",
         "y": [
          -0.6974352290195472
         ],
         "yaxis": "y12"
        },
        {
         "hovertemplate": "choc=13<br>person=7<br>rank=%{x}<br>rating=%{y}<extra></extra>",
         "legendgroup": "13",
         "marker": {
          "color": "#D62728",
          "symbol": "circle"
         },
         "mode": "markers",
         "name": "13",
         "orientation": "v",
         "showlegend": false,
         "type": "scatter",
         "x": [
          18
         ],
         "xaxis": "x13",
         "y": [
          -1.2961279321630368
         ],
         "yaxis": "y13"
        },
        {
         "hovertemplate": "choc=13<br>person=8<br>rank=%{x}<br>rating=%{y}<extra></extra>",
         "legendgroup": "13",
         "marker": {
          "color": "#D62728",
          "symbol": "circle"
         },
         "mode": "markers",
         "name": "13",
         "orientation": "v",
         "showlegend": false,
         "type": "scatter",
         "x": [
          12
         ],
         "xaxis": "x14",
         "y": [
          -0.6069762550027188
         ],
         "yaxis": "y14"
        },
        {
         "hovertemplate": "choc=13<br>person=9<br>rank=%{x}<br>rating=%{y}<extra></extra>",
         "legendgroup": "13",
         "marker": {
          "color": "#D62728",
          "symbol": "circle"
         },
         "mode": "markers",
         "name": "13",
         "orientation": "v",
         "showlegend": false,
         "type": "scatter",
         "x": [
          17
         ],
         "xaxis": "x15",
         "y": [
          -1.4242100037546832
         ],
         "yaxis": "y15"
        },
        {
         "hovertemplate": "choc=13<br>person=10<br>rank=%{x}<br>rating=%{y}<extra></extra>",
         "legendgroup": "13",
         "marker": {
          "color": "#D62728",
          "symbol": "circle"
         },
         "mode": "markers",
         "name": "13",
         "orientation": "v",
         "showlegend": false,
         "type": "scatter",
         "x": [
          13
         ],
         "xaxis": "x6",
         "y": [
          -0.9214142069738459
         ],
         "yaxis": "y6"
        },
        {
         "hovertemplate": "choc=13<br>person=11<br>rank=%{x}<br>rating=%{y}<extra></extra>",
         "legendgroup": "13",
         "marker": {
          "color": "#D62728",
          "symbol": "circle"
         },
         "mode": "markers",
         "name": "13",
         "orientation": "v",
         "showlegend": false,
         "type": "scatter",
         "x": [
          15
         ],
         "xaxis": "x7",
         "y": [
          -1.0462161971364143
         ],
         "yaxis": "y7"
        },
        {
         "hovertemplate": "choc=13<br>person=12<br>rank=%{x}<br>rating=%{y}<extra></extra>",
         "legendgroup": "13",
         "marker": {
          "color": "#D62728",
          "symbol": "circle"
         },
         "mode": "markers",
         "name": "13",
         "orientation": "v",
         "showlegend": false,
         "type": "scatter",
         "x": [
          13
         ],
         "xaxis": "x8",
         "y": [
          -0.34176648750055044
         ],
         "yaxis": "y8"
        },
        {
         "hovertemplate": "choc=13<br>person=13<br>rank=%{x}<br>rating=%{y}<extra></extra>",
         "legendgroup": "13",
         "marker": {
          "color": "#D62728",
          "symbol": "circle"
         },
         "mode": "markers",
         "name": "13",
         "orientation": "v",
         "showlegend": false,
         "type": "scatter",
         "x": [
          13
         ],
         "xaxis": "x9",
         "y": [
          -0.6678621396364213
         ],
         "yaxis": "y9"
        },
        {
         "hovertemplate": "choc=13<br>person=14<br>rank=%{x}<br>rating=%{y}<extra></extra>",
         "legendgroup": "13",
         "marker": {
          "color": "#D62728",
          "symbol": "circle"
         },
         "mode": "markers",
         "name": "13",
         "orientation": "v",
         "showlegend": false,
         "type": "scatter",
         "x": [
          14
         ],
         "xaxis": "x10",
         "y": [
          -1.0709945971244275
         ],
         "yaxis": "y10"
        },
        {
         "hovertemplate": "choc=13<br>person=15<br>rank=%{x}<br>rating=%{y}<extra></extra>",
         "legendgroup": "13",
         "marker": {
          "color": "#D62728",
          "symbol": "circle"
         },
         "mode": "markers",
         "name": "13",
         "orientation": "v",
         "showlegend": false,
         "type": "scatter",
         "x": [
          10
         ],
         "xaxis": "x",
         "y": [
          -0.5762103348811822
         ],
         "yaxis": "y"
        },
        {
         "hovertemplate": "choc=13<br>person=16<br>rank=%{x}<br>rating=%{y}<extra></extra>",
         "legendgroup": "13",
         "marker": {
          "color": "#D62728",
          "symbol": "circle"
         },
         "mode": "markers",
         "name": "13",
         "orientation": "v",
         "showlegend": false,
         "type": "scatter",
         "x": [
          14
         ],
         "xaxis": "x2",
         "y": [
          -0.7386789923971206
         ],
         "yaxis": "y2"
        },
        {
         "hovertemplate": "choc=13<br>person=17<br>rank=%{x}<br>rating=%{y}<extra></extra>",
         "legendgroup": "13",
         "marker": {
          "color": "#D62728",
          "symbol": "circle"
         },
         "mode": "markers",
         "name": "13",
         "orientation": "v",
         "showlegend": false,
         "type": "scatter",
         "x": [
          12
         ],
         "xaxis": "x3",
         "y": [
          -0.41525661253548934
         ],
         "yaxis": "y3"
        },
        {
         "hovertemplate": "choc=13<br>person=18<br>rank=%{x}<br>rating=%{y}<extra></extra>",
         "legendgroup": "13",
         "marker": {
          "color": "#D62728",
          "symbol": "circle"
         },
         "mode": "markers",
         "name": "13",
         "orientation": "v",
         "showlegend": false,
         "type": "scatter",
         "x": [
          16
         ],
         "xaxis": "x4",
         "y": [
          -1.1409911825754075
         ],
         "yaxis": "y4"
        },
        {
         "hovertemplate": "choc=13<br>person=19<br>rank=%{x}<br>rating=%{y}<extra></extra>",
         "legendgroup": "13",
         "marker": {
          "color": "#D62728",
          "symbol": "circle"
         },
         "mode": "markers",
         "name": "13",
         "orientation": "v",
         "showlegend": false,
         "type": "scatter",
         "x": [
          17
         ],
         "xaxis": "x5",
         "y": [
          -0.9348648983680439
         ],
         "yaxis": "y5"
        },
        {
         "hovertemplate": "choc=14<br>person=0<br>rank=%{x}<br>rating=%{y}<extra></extra>",
         "legendgroup": "14",
         "marker": {
          "color": "#9467BD",
          "symbol": "circle"
         },
         "mode": "markers",
         "name": "14",
         "orientation": "v",
         "showlegend": true,
         "type": "scatter",
         "x": [
          17
         ],
         "xaxis": "x16",
         "y": [
          -1.954856675035735
         ],
         "yaxis": "y16"
        },
        {
         "hovertemplate": "choc=14<br>person=1<br>rank=%{x}<br>rating=%{y}<extra></extra>",
         "legendgroup": "14",
         "marker": {
          "color": "#9467BD",
          "symbol": "circle"
         },
         "mode": "markers",
         "name": "14",
         "orientation": "v",
         "showlegend": false,
         "type": "scatter",
         "x": [
          14
         ],
         "xaxis": "x17",
         "y": [
          -0.6823876900101076
         ],
         "yaxis": "y17"
        },
        {
         "hovertemplate": "choc=14<br>person=2<br>rank=%{x}<br>rating=%{y}<extra></extra>",
         "legendgroup": "14",
         "marker": {
          "color": "#9467BD",
          "symbol": "circle"
         },
         "mode": "markers",
         "name": "14",
         "orientation": "v",
         "showlegend": false,
         "type": "scatter",
         "x": [
          7
         ],
         "xaxis": "x18",
         "y": [
          0.2767196453815758
         ],
         "yaxis": "y18"
        },
        {
         "hovertemplate": "choc=14<br>person=3<br>rank=%{x}<br>rating=%{y}<extra></extra>",
         "legendgroup": "14",
         "marker": {
          "color": "#9467BD",
          "symbol": "circle"
         },
         "mode": "markers",
         "name": "14",
         "orientation": "v",
         "showlegend": false,
         "type": "scatter",
         "x": [
          9
         ],
         "xaxis": "x19",
         "y": [
          0.0975370494510428
         ],
         "yaxis": "y19"
        },
        {
         "hovertemplate": "choc=14<br>person=4<br>rank=%{x}<br>rating=%{y}<extra></extra>",
         "legendgroup": "14",
         "marker": {
          "color": "#9467BD",
          "symbol": "circle"
         },
         "mode": "markers",
         "name": "14",
         "orientation": "v",
         "showlegend": false,
         "type": "scatter",
         "x": [
          15
         ],
         "xaxis": "x20",
         "y": [
          -1.169605251566238
         ],
         "yaxis": "y20"
        },
        {
         "hovertemplate": "choc=14<br>person=5<br>rank=%{x}<br>rating=%{y}<extra></extra>",
         "legendgroup": "14",
         "marker": {
          "color": "#9467BD",
          "symbol": "circle"
         },
         "mode": "markers",
         "name": "14",
         "orientation": "v",
         "showlegend": false,
         "type": "scatter",
         "x": [
          11
         ],
         "xaxis": "x11",
         "y": [
          -0.15713146436791803
         ],
         "yaxis": "y11"
        },
        {
         "hovertemplate": "choc=14<br>person=6<br>rank=%{x}<br>rating=%{y}<extra></extra>",
         "legendgroup": "14",
         "marker": {
          "color": "#9467BD",
          "symbol": "circle"
         },
         "mode": "markers",
         "name": "14",
         "orientation": "v",
         "showlegend": false,
         "type": "scatter",
         "x": [
          10
         ],
         "xaxis": "x12",
         "y": [
          -0.3037761876357833
         ],
         "yaxis": "y12"
        },
        {
         "hovertemplate": "choc=14<br>person=7<br>rank=%{x}<br>rating=%{y}<extra></extra>",
         "legendgroup": "14",
         "marker": {
          "color": "#9467BD",
          "symbol": "circle"
         },
         "mode": "markers",
         "name": "14",
         "orientation": "v",
         "showlegend": false,
         "type": "scatter",
         "x": [
          16
         ],
         "xaxis": "x13",
         "y": [
          -0.9201394997061614
         ],
         "yaxis": "y13"
        },
        {
         "hovertemplate": "choc=14<br>person=8<br>rank=%{x}<br>rating=%{y}<extra></extra>",
         "legendgroup": "14",
         "marker": {
          "color": "#9467BD",
          "symbol": "circle"
         },
         "mode": "markers",
         "name": "14",
         "orientation": "v",
         "showlegend": false,
         "type": "scatter",
         "x": [
          11
         ],
         "xaxis": "x14",
         "y": [
          -0.21442472877701566
         ],
         "yaxis": "y14"
        },
        {
         "hovertemplate": "choc=14<br>person=9<br>rank=%{x}<br>rating=%{y}<extra></extra>",
         "legendgroup": "14",
         "marker": {
          "color": "#9467BD",
          "symbol": "circle"
         },
         "mode": "markers",
         "name": "14",
         "orientation": "v",
         "showlegend": false,
         "type": "scatter",
         "x": [
          9
         ],
         "xaxis": "x15",
         "y": [
          0.08454031816287455
         ],
         "yaxis": "y15"
        },
        {
         "hovertemplate": "choc=14<br>person=10<br>rank=%{x}<br>rating=%{y}<extra></extra>",
         "legendgroup": "14",
         "marker": {
          "color": "#9467BD",
          "symbol": "circle"
         },
         "mode": "markers",
         "name": "14",
         "orientation": "v",
         "showlegend": false,
         "type": "scatter",
         "x": [
          17
         ],
         "xaxis": "x6",
         "y": [
          -1.383770343573687
         ],
         "yaxis": "y6"
        },
        {
         "hovertemplate": "choc=14<br>person=11<br>rank=%{x}<br>rating=%{y}<extra></extra>",
         "legendgroup": "14",
         "marker": {
          "color": "#9467BD",
          "symbol": "circle"
         },
         "mode": "markers",
         "name": "14",
         "orientation": "v",
         "showlegend": false,
         "type": "scatter",
         "x": [
          17
         ],
         "xaxis": "x7",
         "y": [
          -1.8129673943376823
         ],
         "yaxis": "y7"
        },
        {
         "hovertemplate": "choc=14<br>person=12<br>rank=%{x}<br>rating=%{y}<extra></extra>",
         "legendgroup": "14",
         "marker": {
          "color": "#9467BD",
          "symbol": "circle"
         },
         "mode": "markers",
         "name": "14",
         "orientation": "v",
         "showlegend": false,
         "type": "scatter",
         "x": [
          7
         ],
         "xaxis": "x8",
         "y": [
          0.5345109217576474
         ],
         "yaxis": "y8"
        },
        {
         "hovertemplate": "choc=14<br>person=13<br>rank=%{x}<br>rating=%{y}<extra></extra>",
         "legendgroup": "14",
         "marker": {
          "color": "#9467BD",
          "symbol": "circle"
         },
         "mode": "markers",
         "name": "14",
         "orientation": "v",
         "showlegend": false,
         "type": "scatter",
         "x": [
          10
         ],
         "xaxis": "x9",
         "y": [
          -0.5172168611577064
         ],
         "yaxis": "y9"
        },
        {
         "hovertemplate": "choc=14<br>person=14<br>rank=%{x}<br>rating=%{y}<extra></extra>",
         "legendgroup": "14",
         "marker": {
          "color": "#9467BD",
          "symbol": "circle"
         },
         "mode": "markers",
         "name": "14",
         "orientation": "v",
         "showlegend": false,
         "type": "scatter",
         "x": [
          15
         ],
         "xaxis": "x10",
         "y": [
          -1.3141256417475478
         ],
         "yaxis": "y10"
        },
        {
         "hovertemplate": "choc=14<br>person=15<br>rank=%{x}<br>rating=%{y}<extra></extra>",
         "legendgroup": "14",
         "marker": {
          "color": "#9467BD",
          "symbol": "circle"
         },
         "mode": "markers",
         "name": "14",
         "orientation": "v",
         "showlegend": false,
         "type": "scatter",
         "x": [
          16
         ],
         "xaxis": "x",
         "y": [
          -1.3066762379710188
         ],
         "yaxis": "y"
        },
        {
         "hovertemplate": "choc=14<br>person=16<br>rank=%{x}<br>rating=%{y}<extra></extra>",
         "legendgroup": "14",
         "marker": {
          "color": "#9467BD",
          "symbol": "circle"
         },
         "mode": "markers",
         "name": "14",
         "orientation": "v",
         "showlegend": false,
         "type": "scatter",
         "x": [
          17
         ],
         "xaxis": "x2",
         "y": [
          -1.706261572790101
         ],
         "yaxis": "y2"
        },
        {
         "hovertemplate": "choc=14<br>person=17<br>rank=%{x}<br>rating=%{y}<extra></extra>",
         "legendgroup": "14",
         "marker": {
          "color": "#9467BD",
          "symbol": "circle"
         },
         "mode": "markers",
         "name": "14",
         "orientation": "v",
         "showlegend": false,
         "type": "scatter",
         "x": [
          7
         ],
         "xaxis": "x3",
         "y": [
          0.27783323449754604
         ],
         "yaxis": "y3"
        },
        {
         "hovertemplate": "choc=14<br>person=18<br>rank=%{x}<br>rating=%{y}<extra></extra>",
         "legendgroup": "14",
         "marker": {
          "color": "#9467BD",
          "symbol": "circle"
         },
         "mode": "markers",
         "name": "14",
         "orientation": "v",
         "showlegend": false,
         "type": "scatter",
         "x": [
          9
         ],
         "xaxis": "x4",
         "y": [
          0.1995549334375436
         ],
         "yaxis": "y4"
        },
        {
         "hovertemplate": "choc=14<br>person=19<br>rank=%{x}<br>rating=%{y}<extra></extra>",
         "legendgroup": "14",
         "marker": {
          "color": "#9467BD",
          "symbol": "circle"
         },
         "mode": "markers",
         "name": "14",
         "orientation": "v",
         "showlegend": false,
         "type": "scatter",
         "x": [
          15
         ],
         "xaxis": "x5",
         "y": [
          -0.6763436831015333
         ],
         "yaxis": "y5"
        },
        {
         "hovertemplate": "choc=15<br>person=0<br>rank=%{x}<br>rating=%{y}<extra></extra>",
         "legendgroup": "15",
         "marker": {
          "color": "#8C564B",
          "symbol": "circle"
         },
         "mode": "markers",
         "name": "15",
         "orientation": "v",
         "showlegend": true,
         "type": "scatter",
         "x": [
          5
         ],
         "xaxis": "x16",
         "y": [
          0.7471519450759327
         ],
         "yaxis": "y16"
        },
        {
         "hovertemplate": "choc=15<br>person=1<br>rank=%{x}<br>rating=%{y}<extra></extra>",
         "legendgroup": "15",
         "marker": {
          "color": "#8C564B",
          "symbol": "circle"
         },
         "mode": "markers",
         "name": "15",
         "orientation": "v",
         "showlegend": false,
         "type": "scatter",
         "x": [
          6
         ],
         "xaxis": "x17",
         "y": [
          0.7373649033594316
         ],
         "yaxis": "y17"
        },
        {
         "hovertemplate": "choc=15<br>person=2<br>rank=%{x}<br>rating=%{y}<extra></extra>",
         "legendgroup": "15",
         "marker": {
          "color": "#8C564B",
          "symbol": "circle"
         },
         "mode": "markers",
         "name": "15",
         "orientation": "v",
         "showlegend": false,
         "type": "scatter",
         "x": [
          9
         ],
         "xaxis": "x18",
         "y": [
          -0.11760159957247973
         ],
         "yaxis": "y18"
        },
        {
         "hovertemplate": "choc=15<br>person=3<br>rank=%{x}<br>rating=%{y}<extra></extra>",
         "legendgroup": "15",
         "marker": {
          "color": "#8C564B",
          "symbol": "circle"
         },
         "mode": "markers",
         "name": "15",
         "orientation": "v",
         "showlegend": false,
         "type": "scatter",
         "x": [
          11
         ],
         "xaxis": "x19",
         "y": [
          -0.06677454429654245
         ],
         "yaxis": "y19"
        },
        {
         "hovertemplate": "choc=15<br>person=4<br>rank=%{x}<br>rating=%{y}<extra></extra>",
         "legendgroup": "15",
         "marker": {
          "color": "#8C564B",
          "symbol": "circle"
         },
         "mode": "markers",
         "name": "15",
         "orientation": "v",
         "showlegend": false,
         "type": "scatter",
         "x": [
          11
         ],
         "xaxis": "x20",
         "y": [
          -0.24350853943711778
         ],
         "yaxis": "y20"
        },
        {
         "hovertemplate": "choc=15<br>person=5<br>rank=%{x}<br>rating=%{y}<extra></extra>",
         "legendgroup": "15",
         "marker": {
          "color": "#8C564B",
          "symbol": "circle"
         },
         "mode": "markers",
         "name": "15",
         "orientation": "v",
         "showlegend": false,
         "type": "scatter",
         "x": [
          4
         ],
         "xaxis": "x11",
         "y": [
          1.2382888866989838
         ],
         "yaxis": "y11"
        },
        {
         "hovertemplate": "choc=15<br>person=6<br>rank=%{x}<br>rating=%{y}<extra></extra>",
         "legendgroup": "15",
         "marker": {
          "color": "#8C564B",
          "symbol": "circle"
         },
         "mode": "markers",
         "name": "15",
         "orientation": "v",
         "showlegend": false,
         "type": "scatter",
         "x": [
          19
         ],
         "xaxis": "x12",
         "y": [
          -4.105989661822272
         ],
         "yaxis": "y12"
        },
        {
         "hovertemplate": "choc=15<br>person=7<br>rank=%{x}<br>rating=%{y}<extra></extra>",
         "legendgroup": "15",
         "marker": {
          "color": "#8C564B",
          "symbol": "circle"
         },
         "mode": "markers",
         "name": "15",
         "orientation": "v",
         "showlegend": false,
         "type": "scatter",
         "x": [
          3
         ],
         "xaxis": "x13",
         "y": [
          1.3976787726017015
         ],
         "yaxis": "y13"
        },
        {
         "hovertemplate": "choc=15<br>person=8<br>rank=%{x}<br>rating=%{y}<extra></extra>",
         "legendgroup": "15",
         "marker": {
          "color": "#8C564B",
          "symbol": "circle"
         },
         "mode": "markers",
         "name": "15",
         "orientation": "v",
         "showlegend": false,
         "type": "scatter",
         "x": [
          15
         ],
         "xaxis": "x14",
         "y": [
          -0.9277203014794538
         ],
         "yaxis": "y14"
        },
        {
         "hovertemplate": "choc=15<br>person=9<br>rank=%{x}<br>rating=%{y}<extra></extra>",
         "legendgroup": "15",
         "marker": {
          "color": "#8C564B",
          "symbol": "circle"
         },
         "mode": "markers",
         "name": "15",
         "orientation": "v",
         "showlegend": false,
         "type": "scatter",
         "x": [
          13
         ],
         "xaxis": "x15",
         "y": [
          -0.5259227439505932
         ],
         "yaxis": "y15"
        },
        {
         "hovertemplate": "choc=15<br>person=10<br>rank=%{x}<br>rating=%{y}<extra></extra>",
         "legendgroup": "15",
         "marker": {
          "color": "#8C564B",
          "symbol": "circle"
         },
         "mode": "markers",
         "name": "15",
         "orientation": "v",
         "showlegend": false,
         "type": "scatter",
         "x": [
          16
         ],
         "xaxis": "x6",
         "y": [
          -1.1952783874664425
         ],
         "yaxis": "y6"
        },
        {
         "hovertemplate": "choc=15<br>person=11<br>rank=%{x}<br>rating=%{y}<extra></extra>",
         "legendgroup": "15",
         "marker": {
          "color": "#8C564B",
          "symbol": "circle"
         },
         "mode": "markers",
         "name": "15",
         "orientation": "v",
         "showlegend": false,
         "type": "scatter",
         "x": [
          7
         ],
         "xaxis": "x7",
         "y": [
          0.3563128954727422
         ],
         "yaxis": "y7"
        },
        {
         "hovertemplate": "choc=15<br>person=12<br>rank=%{x}<br>rating=%{y}<extra></extra>",
         "legendgroup": "15",
         "marker": {
          "color": "#8C564B",
          "symbol": "circle"
         },
         "mode": "markers",
         "name": "15",
         "orientation": "v",
         "showlegend": false,
         "type": "scatter",
         "x": [
          14
         ],
         "xaxis": "x8",
         "y": [
          -0.5825832698675967
         ],
         "yaxis": "y8"
        },
        {
         "hovertemplate": "choc=15<br>person=13<br>rank=%{x}<br>rating=%{y}<extra></extra>",
         "legendgroup": "15",
         "marker": {
          "color": "#8C564B",
          "symbol": "circle"
         },
         "mode": "markers",
         "name": "15",
         "orientation": "v",
         "showlegend": false,
         "type": "scatter",
         "x": [
          15
         ],
         "xaxis": "x9",
         "y": [
          -0.7555185793865293
         ],
         "yaxis": "y9"
        },
        {
         "hovertemplate": "choc=15<br>person=14<br>rank=%{x}<br>rating=%{y}<extra></extra>",
         "legendgroup": "15",
         "marker": {
          "color": "#8C564B",
          "symbol": "circle"
         },
         "mode": "markers",
         "name": "15",
         "orientation": "v",
         "showlegend": false,
         "type": "scatter",
         "x": [
          13
         ],
         "xaxis": "x10",
         "y": [
          -0.8812935955637721
         ],
         "yaxis": "y10"
        },
        {
         "hovertemplate": "choc=15<br>person=15<br>rank=%{x}<br>rating=%{y}<extra></extra>",
         "legendgroup": "15",
         "marker": {
          "color": "#8C564B",
          "symbol": "circle"
         },
         "mode": "markers",
         "name": "15",
         "orientation": "v",
         "showlegend": false,
         "type": "scatter",
         "x": [
          7
         ],
         "xaxis": "x",
         "y": [
          0.3506196844356418
         ],
         "yaxis": "y"
        },
        {
         "hovertemplate": "choc=15<br>person=16<br>rank=%{x}<br>rating=%{y}<extra></extra>",
         "legendgroup": "15",
         "marker": {
          "color": "#8C564B",
          "symbol": "circle"
         },
         "mode": "markers",
         "name": "15",
         "orientation": "v",
         "showlegend": false,
         "type": "scatter",
         "x": [
          15
         ],
         "xaxis": "x2",
         "y": [
          -0.8974318710954254
         ],
         "yaxis": "y2"
        },
        {
         "hovertemplate": "choc=15<br>person=17<br>rank=%{x}<br>rating=%{y}<extra></extra>",
         "legendgroup": "15",
         "marker": {
          "color": "#8C564B",
          "symbol": "circle"
         },
         "mode": "markers",
         "name": "15",
         "orientation": "v",
         "showlegend": false,
         "type": "scatter",
         "x": [
          18
         ],
         "xaxis": "x3",
         "y": [
          -2.3763794345650773
         ],
         "yaxis": "y3"
        },
        {
         "hovertemplate": "choc=15<br>person=18<br>rank=%{x}<br>rating=%{y}<extra></extra>",
         "legendgroup": "15",
         "marker": {
          "color": "#8C564B",
          "symbol": "circle"
         },
         "mode": "markers",
         "name": "15",
         "orientation": "v",
         "showlegend": false,
         "type": "scatter",
         "x": [
          7
         ],
         "xaxis": "x4",
         "y": [
          0.9292654695954756
         ],
         "yaxis": "y4"
        },
        {
         "hovertemplate": "choc=15<br>person=19<br>rank=%{x}<br>rating=%{y}<extra></extra>",
         "legendgroup": "15",
         "marker": {
          "color": "#8C564B",
          "symbol": "circle"
         },
         "mode": "markers",
         "name": "15",
         "orientation": "v",
         "showlegend": false,
         "type": "scatter",
         "x": [
          10
         ],
         "xaxis": "x5",
         "y": [
          -0.31610092450290356
         ],
         "yaxis": "y5"
        },
        {
         "hovertemplate": "choc=16<br>person=0<br>rank=%{x}<br>rating=%{y}<extra></extra>",
         "legendgroup": "16",
         "marker": {
          "color": "#E377C2",
          "symbol": "circle"
         },
         "mode": "markers",
         "name": "16",
         "orientation": "v",
         "showlegend": true,
         "type": "scatter",
         "x": [
          3
         ],
         "xaxis": "x16",
         "y": [
          1.8212025813255408
         ],
         "yaxis": "y16"
        },
        {
         "hovertemplate": "choc=16<br>person=1<br>rank=%{x}<br>rating=%{y}<extra></extra>",
         "legendgroup": "16",
         "marker": {
          "color": "#E377C2",
          "symbol": "circle"
         },
         "mode": "markers",
         "name": "16",
         "orientation": "v",
         "showlegend": false,
         "type": "scatter",
         "x": [
          5
         ],
         "xaxis": "x17",
         "y": [
          1.171477343848922
         ],
         "yaxis": "y17"
        },
        {
         "hovertemplate": "choc=16<br>person=2<br>rank=%{x}<br>rating=%{y}<extra></extra>",
         "legendgroup": "16",
         "marker": {
          "color": "#E377C2",
          "symbol": "circle"
         },
         "mode": "markers",
         "name": "16",
         "orientation": "v",
         "showlegend": false,
         "type": "scatter",
         "x": [
          5
         ],
         "xaxis": "x18",
         "y": [
          0.8983297157505381
         ],
         "yaxis": "y18"
        },
        {
         "hovertemplate": "choc=16<br>person=3<br>rank=%{x}<br>rating=%{y}<extra></extra>",
         "legendgroup": "16",
         "marker": {
          "color": "#E377C2",
          "symbol": "circle"
         },
         "mode": "markers",
         "name": "16",
         "orientation": "v",
         "showlegend": false,
         "type": "scatter",
         "x": [
          2
         ],
         "xaxis": "x19",
         "y": [
          1.6823408298130058
         ],
         "yaxis": "y19"
        },
        {
         "hovertemplate": "choc=16<br>person=4<br>rank=%{x}<br>rating=%{y}<extra></extra>",
         "legendgroup": "16",
         "marker": {
          "color": "#E377C2",
          "symbol": "circle"
         },
         "mode": "markers",
         "name": "16",
         "orientation": "v",
         "showlegend": false,
         "type": "scatter",
         "x": [
          0
         ],
         "xaxis": "x20",
         "y": [
          2.7341939392562136
         ],
         "yaxis": "y20"
        },
        {
         "hovertemplate": "choc=16<br>person=5<br>rank=%{x}<br>rating=%{y}<extra></extra>",
         "legendgroup": "16",
         "marker": {
          "color": "#E377C2",
          "symbol": "circle"
         },
         "mode": "markers",
         "name": "16",
         "orientation": "v",
         "showlegend": false,
         "type": "scatter",
         "x": [
          0
         ],
         "xaxis": "x11",
         "y": [
          2.4991108446922192
         ],
         "yaxis": "y11"
        },
        {
         "hovertemplate": "choc=16<br>person=6<br>rank=%{x}<br>rating=%{y}<extra></extra>",
         "legendgroup": "16",
         "marker": {
          "color": "#E377C2",
          "symbol": "circle"
         },
         "mode": "markers",
         "name": "16",
         "orientation": "v",
         "showlegend": false,
         "type": "scatter",
         "x": [
          2
         ],
         "xaxis": "x12",
         "y": [
          1.9490799722338905
         ],
         "yaxis": "y12"
        },
        {
         "hovertemplate": "choc=16<br>person=7<br>rank=%{x}<br>rating=%{y}<extra></extra>",
         "legendgroup": "16",
         "marker": {
          "color": "#E377C2",
          "symbol": "circle"
         },
         "mode": "markers",
         "name": "16",
         "orientation": "v",
         "showlegend": false,
         "type": "scatter",
         "x": [
          0
         ],
         "xaxis": "x13",
         "y": [
          3.0605837805153637
         ],
         "yaxis": "y13"
        },
        {
         "hovertemplate": "choc=16<br>person=8<br>rank=%{x}<br>rating=%{y}<extra></extra>",
         "legendgroup": "16",
         "marker": {
          "color": "#E377C2",
          "symbol": "circle"
         },
         "mode": "markers",
         "name": "16",
         "orientation": "v",
         "showlegend": false,
         "type": "scatter",
         "x": [
          0
         ],
         "xaxis": "x14",
         "y": [
          3.190701490742059
         ],
         "yaxis": "y14"
        },
        {
         "hovertemplate": "choc=16<br>person=9<br>rank=%{x}<br>rating=%{y}<extra></extra>",
         "legendgroup": "16",
         "marker": {
          "color": "#E377C2",
          "symbol": "circle"
         },
         "mode": "markers",
         "name": "16",
         "orientation": "v",
         "showlegend": false,
         "type": "scatter",
         "x": [
          1
         ],
         "xaxis": "x15",
         "y": [
          2.769339334744262
         ],
         "yaxis": "y15"
        },
        {
         "hovertemplate": "choc=16<br>person=10<br>rank=%{x}<br>rating=%{y}<extra></extra>",
         "legendgroup": "16",
         "marker": {
          "color": "#E377C2",
          "symbol": "circle"
         },
         "mode": "markers",
         "name": "16",
         "orientation": "v",
         "showlegend": false,
         "type": "scatter",
         "x": [
          0
         ],
         "xaxis": "x6",
         "y": [
          3.412120195188991
         ],
         "yaxis": "y6"
        },
        {
         "hovertemplate": "choc=16<br>person=11<br>rank=%{x}<br>rating=%{y}<extra></extra>",
         "legendgroup": "16",
         "marker": {
          "color": "#E377C2",
          "symbol": "circle"
         },
         "mode": "markers",
         "name": "16",
         "orientation": "v",
         "showlegend": false,
         "type": "scatter",
         "x": [
          0
         ],
         "xaxis": "x7",
         "y": [
          3.995054573367497
         ],
         "yaxis": "y7"
        },
        {
         "hovertemplate": "choc=16<br>person=12<br>rank=%{x}<br>rating=%{y}<extra></extra>",
         "legendgroup": "16",
         "marker": {
          "color": "#E377C2",
          "symbol": "circle"
         },
         "mode": "markers",
         "name": "16",
         "orientation": "v",
         "showlegend": false,
         "type": "scatter",
         "x": [
          2
         ],
         "xaxis": "x8",
         "y": [
          1.9687639978532698
         ],
         "yaxis": "y8"
        },
        {
         "hovertemplate": "choc=16<br>person=13<br>rank=%{x}<br>rating=%{y}<extra></extra>",
         "legendgroup": "16",
         "marker": {
          "color": "#E377C2",
          "symbol": "circle"
         },
         "mode": "markers",
         "name": "16",
         "orientation": "v",
         "showlegend": false,
         "type": "scatter",
         "x": [
          1
         ],
         "xaxis": "x9",
         "y": [
          2.3417745373435683
         ],
         "yaxis": "y9"
        },
        {
         "hovertemplate": "choc=16<br>person=14<br>rank=%{x}<br>rating=%{y}<extra></extra>",
         "legendgroup": "16",
         "marker": {
          "color": "#E377C2",
          "symbol": "circle"
         },
         "mode": "markers",
         "name": "16",
         "orientation": "v",
         "showlegend": false,
         "type": "scatter",
         "x": [
          2
         ],
         "xaxis": "x10",
         "y": [
          1.292595707962061
         ],
         "yaxis": "y10"
        },
        {
         "hovertemplate": "choc=16<br>person=15<br>rank=%{x}<br>rating=%{y}<extra></extra>",
         "legendgroup": "16",
         "marker": {
          "color": "#E377C2",
          "symbol": "circle"
         },
         "mode": "markers",
         "name": "16",
         "orientation": "v",
         "showlegend": false,
         "type": "scatter",
         "x": [
          2
         ],
         "xaxis": "x",
         "y": [
          1.7489462114965708
         ],
         "yaxis": "y"
        },
        {
         "hovertemplate": "choc=16<br>person=16<br>rank=%{x}<br>rating=%{y}<extra></extra>",
         "legendgroup": "16",
         "marker": {
          "color": "#E377C2",
          "symbol": "circle"
         },
         "mode": "markers",
         "name": "16",
         "orientation": "v",
         "showlegend": false,
         "type": "scatter",
         "x": [
          1
         ],
         "xaxis": "x2",
         "y": [
          1.9278931669398327
         ],
         "yaxis": "y2"
        },
        {
         "hovertemplate": "choc=16<br>person=17<br>rank=%{x}<br>rating=%{y}<extra></extra>",
         "legendgroup": "16",
         "marker": {
          "color": "#E377C2",
          "symbol": "circle"
         },
         "mode": "markers",
         "name": "16",
         "orientation": "v",
         "showlegend": false,
         "type": "scatter",
         "x": [
          0
         ],
         "xaxis": "x3",
         "y": [
          2.90080168312959
         ],
         "yaxis": "y3"
        },
        {
         "hovertemplate": "choc=16<br>person=18<br>rank=%{x}<br>rating=%{y}<extra></extra>",
         "legendgroup": "16",
         "marker": {
          "color": "#E377C2",
          "symbol": "circle"
         },
         "mode": "markers",
         "name": "16",
         "orientation": "v",
         "showlegend": false,
         "type": "scatter",
         "x": [
          1
         ],
         "xaxis": "x4",
         "y": [
          2.359925951022162
         ],
         "yaxis": "y4"
        },
        {
         "hovertemplate": "choc=16<br>person=19<br>rank=%{x}<br>rating=%{y}<extra></extra>",
         "legendgroup": "16",
         "marker": {
          "color": "#E377C2",
          "symbol": "circle"
         },
         "mode": "markers",
         "name": "16",
         "orientation": "v",
         "showlegend": false,
         "type": "scatter",
         "x": [
          1
         ],
         "xaxis": "x5",
         "y": [
          2.364218600097305
         ],
         "yaxis": "y5"
        },
        {
         "hovertemplate": "choc=17<br>person=0<br>rank=%{x}<br>rating=%{y}<extra></extra>",
         "legendgroup": "17",
         "marker": {
          "color": "#7F7F7F",
          "symbol": "circle"
         },
         "mode": "markers",
         "name": "17",
         "orientation": "v",
         "showlegend": true,
         "type": "scatter",
         "x": [
          0
         ],
         "xaxis": "x16",
         "y": [
          2.1471341445714645
         ],
         "yaxis": "y16"
        },
        {
         "hovertemplate": "choc=17<br>person=1<br>rank=%{x}<br>rating=%{y}<extra></extra>",
         "legendgroup": "17",
         "marker": {
          "color": "#7F7F7F",
          "symbol": "circle"
         },
         "mode": "markers",
         "name": "17",
         "orientation": "v",
         "showlegend": false,
         "type": "scatter",
         "x": [
          1
         ],
         "xaxis": "x17",
         "y": [
          1.7578050862426653
         ],
         "yaxis": "y17"
        },
        {
         "hovertemplate": "choc=17<br>person=2<br>rank=%{x}<br>rating=%{y}<extra></extra>",
         "legendgroup": "17",
         "marker": {
          "color": "#7F7F7F",
          "symbol": "circle"
         },
         "mode": "markers",
         "name": "17",
         "orientation": "v",
         "showlegend": false,
         "type": "scatter",
         "x": [
          1
         ],
         "xaxis": "x18",
         "y": [
          2.082181355881646
         ],
         "yaxis": "y18"
        },
        {
         "hovertemplate": "choc=17<br>person=3<br>rank=%{x}<br>rating=%{y}<extra></extra>",
         "legendgroup": "17",
         "marker": {
          "color": "#7F7F7F",
          "symbol": "circle"
         },
         "mode": "markers",
         "name": "17",
         "orientation": "v",
         "showlegend": false,
         "type": "scatter",
         "x": [
          0
         ],
         "xaxis": "x19",
         "y": [
          2.7549878029875456
         ],
         "yaxis": "y19"
        },
        {
         "hovertemplate": "choc=17<br>person=4<br>rank=%{x}<br>rating=%{y}<extra></extra>",
         "legendgroup": "17",
         "marker": {
          "color": "#7F7F7F",
          "symbol": "circle"
         },
         "mode": "markers",
         "name": "17",
         "orientation": "v",
         "showlegend": false,
         "type": "scatter",
         "x": [
          1
         ],
         "xaxis": "x20",
         "y": [
          2.019823085107602
         ],
         "yaxis": "y20"
        },
        {
         "hovertemplate": "choc=17<br>person=5<br>rank=%{x}<br>rating=%{y}<extra></extra>",
         "legendgroup": "17",
         "marker": {
          "color": "#7F7F7F",
          "symbol": "circle"
         },
         "mode": "markers",
         "name": "17",
         "orientation": "v",
         "showlegend": false,
         "type": "scatter",
         "x": [
          1
         ],
         "xaxis": "x11",
         "y": [
          1.9944798685663903
         ],
         "yaxis": "y11"
        },
        {
         "hovertemplate": "choc=17<br>person=6<br>rank=%{x}<br>rating=%{y}<extra></extra>",
         "legendgroup": "17",
         "marker": {
          "color": "#7F7F7F",
          "symbol": "circle"
         },
         "mode": "markers",
         "name": "17",
         "orientation": "v",
         "showlegend": false,
         "type": "scatter",
         "x": [
          1
         ],
         "xaxis": "x12",
         "y": [
          2.151909781024075
         ],
         "yaxis": "y12"
        },
        {
         "hovertemplate": "choc=17<br>person=7<br>rank=%{x}<br>rating=%{y}<extra></extra>",
         "legendgroup": "17",
         "marker": {
          "color": "#7F7F7F",
          "symbol": "circle"
         },
         "mode": "markers",
         "name": "17",
         "orientation": "v",
         "showlegend": false,
         "type": "scatter",
         "x": [
          1
         ],
         "xaxis": "x13",
         "y": [
          2.3030773173368857
         ],
         "yaxis": "y13"
        },
        {
         "hovertemplate": "choc=17<br>person=8<br>rank=%{x}<br>rating=%{y}<extra></extra>",
         "legendgroup": "17",
         "marker": {
          "color": "#7F7F7F",
          "symbol": "circle"
         },
         "mode": "markers",
         "name": "17",
         "orientation": "v",
         "showlegend": false,
         "type": "scatter",
         "x": [
          1
         ],
         "xaxis": "x14",
         "y": [
          2.1256411841797207
         ],
         "yaxis": "y14"
        },
        {
         "hovertemplate": "choc=17<br>person=9<br>rank=%{x}<br>rating=%{y}<extra></extra>",
         "legendgroup": "17",
         "marker": {
          "color": "#7F7F7F",
          "symbol": "circle"
         },
         "mode": "markers",
         "name": "17",
         "orientation": "v",
         "showlegend": false,
         "type": "scatter",
         "x": [
          2
         ],
         "xaxis": "x15",
         "y": [
          2.2230618452686777
         ],
         "yaxis": "y15"
        },
        {
         "hovertemplate": "choc=17<br>person=10<br>rank=%{x}<br>rating=%{y}<extra></extra>",
         "legendgroup": "17",
         "marker": {
          "color": "#7F7F7F",
          "symbol": "circle"
         },
         "mode": "markers",
         "name": "17",
         "orientation": "v",
         "showlegend": false,
         "type": "scatter",
         "x": [
          3
         ],
         "xaxis": "x6",
         "y": [
          1.7399528574440923
         ],
         "yaxis": "y6"
        },
        {
         "hovertemplate": "choc=17<br>person=11<br>rank=%{x}<br>rating=%{y}<extra></extra>",
         "legendgroup": "17",
         "marker": {
          "color": "#7F7F7F",
          "symbol": "circle"
         },
         "mode": "markers",
         "name": "17",
         "orientation": "v",
         "showlegend": false,
         "type": "scatter",
         "x": [
          1
         ],
         "xaxis": "x7",
         "y": [
          2.317573607977561
         ],
         "yaxis": "y7"
        },
        {
         "hovertemplate": "choc=17<br>person=12<br>rank=%{x}<br>rating=%{y}<extra></extra>",
         "legendgroup": "17",
         "marker": {
          "color": "#7F7F7F",
          "symbol": "circle"
         },
         "mode": "markers",
         "name": "17",
         "orientation": "v",
         "showlegend": false,
         "type": "scatter",
         "x": [
          1
         ],
         "xaxis": "x8",
         "y": [
          1.9760989602207522
         ],
         "yaxis": "y8"
        },
        {
         "hovertemplate": "choc=17<br>person=13<br>rank=%{x}<br>rating=%{y}<extra></extra>",
         "legendgroup": "17",
         "marker": {
          "color": "#7F7F7F",
          "symbol": "circle"
         },
         "mode": "markers",
         "name": "17",
         "orientation": "v",
         "showlegend": false,
         "type": "scatter",
         "x": [
          0
         ],
         "xaxis": "x9",
         "y": [
          2.3570704968132423
         ],
         "yaxis": "y9"
        },
        {
         "hovertemplate": "choc=17<br>person=14<br>rank=%{x}<br>rating=%{y}<extra></extra>",
         "legendgroup": "17",
         "marker": {
          "color": "#7F7F7F",
          "symbol": "circle"
         },
         "mode": "markers",
         "name": "17",
         "orientation": "v",
         "showlegend": false,
         "type": "scatter",
         "x": [
          0
         ],
         "xaxis": "x10",
         "y": [
          2.83380026804078
         ],
         "yaxis": "y10"
        },
        {
         "hovertemplate": "choc=17<br>person=15<br>rank=%{x}<br>rating=%{y}<extra></extra>",
         "legendgroup": "17",
         "marker": {
          "color": "#7F7F7F",
          "symbol": "circle"
         },
         "mode": "markers",
         "name": "17",
         "orientation": "v",
         "showlegend": false,
         "type": "scatter",
         "x": [
          0
         ],
         "xaxis": "x",
         "y": [
          2.3000667239645187
         ],
         "yaxis": "y"
        },
        {
         "hovertemplate": "choc=17<br>person=16<br>rank=%{x}<br>rating=%{y}<extra></extra>",
         "legendgroup": "17",
         "marker": {
          "color": "#7F7F7F",
          "symbol": "circle"
         },
         "mode": "markers",
         "name": "17",
         "orientation": "v",
         "showlegend": false,
         "type": "scatter",
         "x": [
          0
         ],
         "xaxis": "x2",
         "y": [
          2.2639883632649433
         ],
         "yaxis": "y2"
        },
        {
         "hovertemplate": "choc=17<br>person=17<br>rank=%{x}<br>rating=%{y}<extra></extra>",
         "legendgroup": "17",
         "marker": {
          "color": "#7F7F7F",
          "symbol": "circle"
         },
         "mode": "markers",
         "name": "17",
         "orientation": "v",
         "showlegend": false,
         "type": "scatter",
         "x": [
          1
         ],
         "xaxis": "x3",
         "y": [
          2.1557138742895523
         ],
         "yaxis": "y3"
        },
        {
         "hovertemplate": "choc=17<br>person=18<br>rank=%{x}<br>rating=%{y}<extra></extra>",
         "legendgroup": "17",
         "marker": {
          "color": "#7F7F7F",
          "symbol": "circle"
         },
         "mode": "markers",
         "name": "17",
         "orientation": "v",
         "showlegend": false,
         "type": "scatter",
         "x": [
          3
         ],
         "xaxis": "x4",
         "y": [
          1.6709922993742143
         ],
         "yaxis": "y4"
        },
        {
         "hovertemplate": "choc=17<br>person=19<br>rank=%{x}<br>rating=%{y}<extra></extra>",
         "legendgroup": "17",
         "marker": {
          "color": "#7F7F7F",
          "symbol": "circle"
         },
         "mode": "markers",
         "name": "17",
         "orientation": "v",
         "showlegend": false,
         "type": "scatter",
         "x": [
          0
         ],
         "xaxis": "x5",
         "y": [
          2.6907848362363342
         ],
         "yaxis": "y5"
        },
        {
         "hovertemplate": "choc=18<br>person=0<br>rank=%{x}<br>rating=%{y}<extra></extra>",
         "legendgroup": "18",
         "marker": {
          "color": "#BCBD22",
          "symbol": "circle"
         },
         "mode": "markers",
         "name": "18",
         "orientation": "v",
         "showlegend": true,
         "type": "scatter",
         "x": [
          7
         ],
         "xaxis": "x16",
         "y": [
          0.4288993069950886
         ],
         "yaxis": "y16"
        },
        {
         "hovertemplate": "choc=18<br>person=1<br>rank=%{x}<br>rating=%{y}<extra></extra>",
         "legendgroup": "18",
         "marker": {
          "color": "#BCBD22",
          "symbol": "circle"
         },
         "mode": "markers",
         "name": "18",
         "orientation": "v",
         "showlegend": false,
         "type": "scatter",
         "x": [
          4
         ],
         "xaxis": "x17",
         "y": [
          1.2646027297694153
         ],
         "yaxis": "y17"
        },
        {
         "hovertemplate": "choc=18<br>person=2<br>rank=%{x}<br>rating=%{y}<extra></extra>",
         "legendgroup": "18",
         "marker": {
          "color": "#BCBD22",
          "symbol": "circle"
         },
         "mode": "markers",
         "name": "18",
         "orientation": "v",
         "showlegend": false,
         "type": "scatter",
         "x": [
          0
         ],
         "xaxis": "x18",
         "y": [
          2.349656198455027
         ],
         "yaxis": "y18"
        },
        {
         "hovertemplate": "choc=18<br>person=3<br>rank=%{x}<br>rating=%{y}<extra></extra>",
         "legendgroup": "18",
         "marker": {
          "color": "#BCBD22",
          "symbol": "circle"
         },
         "mode": "markers",
         "name": "18",
         "orientation": "v",
         "showlegend": false,
         "type": "scatter",
         "x": [
          1
         ],
         "xaxis": "x19",
         "y": [
          2.0471166959810336
         ],
         "yaxis": "y19"
        },
        {
         "hovertemplate": "choc=18<br>person=4<br>rank=%{x}<br>rating=%{y}<extra></extra>",
         "legendgroup": "18",
         "marker": {
          "color": "#BCBD22",
          "symbol": "circle"
         },
         "mode": "markers",
         "name": "18",
         "orientation": "v",
         "showlegend": false,
         "type": "scatter",
         "x": [
          2
         ],
         "xaxis": "x20",
         "y": [
          1.949868999251664
         ],
         "yaxis": "y20"
        },
        {
         "hovertemplate": "choc=18<br>person=5<br>rank=%{x}<br>rating=%{y}<extra></extra>",
         "legendgroup": "18",
         "marker": {
          "color": "#BCBD22",
          "symbol": "circle"
         },
         "mode": "markers",
         "name": "18",
         "orientation": "v",
         "showlegend": false,
         "type": "scatter",
         "x": [
          7
         ],
         "xaxis": "x11",
         "y": [
          0.7351136774894278
         ],
         "yaxis": "y11"
        },
        {
         "hovertemplate": "choc=18<br>person=6<br>rank=%{x}<br>rating=%{y}<extra></extra>",
         "legendgroup": "18",
         "marker": {
          "color": "#BCBD22",
          "symbol": "circle"
         },
         "mode": "markers",
         "name": "18",
         "orientation": "v",
         "showlegend": false,
         "type": "scatter",
         "x": [
          6
         ],
         "xaxis": "x12",
         "y": [
          0.7696964965042201
         ],
         "yaxis": "y12"
        },
        {
         "hovertemplate": "choc=18<br>person=7<br>rank=%{x}<br>rating=%{y}<extra></extra>",
         "legendgroup": "18",
         "marker": {
          "color": "#BCBD22",
          "symbol": "circle"
         },
         "mode": "markers",
         "name": "18",
         "orientation": "v",
         "showlegend": false,
         "type": "scatter",
         "x": [
          7
         ],
         "xaxis": "x13",
         "y": [
          0.4812441820200385
         ],
         "yaxis": "y13"
        },
        {
         "hovertemplate": "choc=18<br>person=8<br>rank=%{x}<br>rating=%{y}<extra></extra>",
         "legendgroup": "18",
         "marker": {
          "color": "#BCBD22",
          "symbol": "circle"
         },
         "mode": "markers",
         "name": "18",
         "orientation": "v",
         "showlegend": false,
         "type": "scatter",
         "x": [
          2
         ],
         "xaxis": "x14",
         "y": [
          1.4120245392957032
         ],
         "yaxis": "y14"
        },
        {
         "hovertemplate": "choc=18<br>person=9<br>rank=%{x}<br>rating=%{y}<extra></extra>",
         "legendgroup": "18",
         "marker": {
          "color": "#BCBD22",
          "symbol": "circle"
         },
         "mode": "markers",
         "name": "18",
         "orientation": "v",
         "showlegend": false,
         "type": "scatter",
         "x": [
          6
         ],
         "xaxis": "x15",
         "y": [
          1.0244108221117065
         ],
         "yaxis": "y15"
        },
        {
         "hovertemplate": "choc=18<br>person=10<br>rank=%{x}<br>rating=%{y}<extra></extra>",
         "legendgroup": "18",
         "marker": {
          "color": "#BCBD22",
          "symbol": "circle"
         },
         "mode": "markers",
         "name": "18",
         "orientation": "v",
         "showlegend": false,
         "type": "scatter",
         "x": [
          6
         ],
         "xaxis": "x6",
         "y": [
          0.4089986818587593
         ],
         "yaxis": "y6"
        },
        {
         "hovertemplate": "choc=18<br>person=11<br>rank=%{x}<br>rating=%{y}<extra></extra>",
         "legendgroup": "18",
         "marker": {
          "color": "#BCBD22",
          "symbol": "circle"
         },
         "mode": "markers",
         "name": "18",
         "orientation": "v",
         "showlegend": false,
         "type": "scatter",
         "x": [
          5
         ],
         "xaxis": "x7",
         "y": [
          1.1143058588706218
         ],
         "yaxis": "y7"
        },
        {
         "hovertemplate": "choc=18<br>person=12<br>rank=%{x}<br>rating=%{y}<extra></extra>",
         "legendgroup": "18",
         "marker": {
          "color": "#BCBD22",
          "symbol": "circle"
         },
         "mode": "markers",
         "name": "18",
         "orientation": "v",
         "showlegend": false,
         "type": "scatter",
         "x": [
          5
         ],
         "xaxis": "x8",
         "y": [
          0.9947115921233051
         ],
         "yaxis": "y8"
        },
        {
         "hovertemplate": "choc=18<br>person=13<br>rank=%{x}<br>rating=%{y}<extra></extra>",
         "legendgroup": "18",
         "marker": {
          "color": "#BCBD22",
          "symbol": "circle"
         },
         "mode": "markers",
         "name": "18",
         "orientation": "v",
         "showlegend": false,
         "type": "scatter",
         "x": [
          2
         ],
         "xaxis": "x9",
         "y": [
          1.9243506520457743
         ],
         "yaxis": "y9"
        },
        {
         "hovertemplate": "choc=18<br>person=14<br>rank=%{x}<br>rating=%{y}<extra></extra>",
         "legendgroup": "18",
         "marker": {
          "color": "#BCBD22",
          "symbol": "circle"
         },
         "mode": "markers",
         "name": "18",
         "orientation": "v",
         "showlegend": false,
         "type": "scatter",
         "x": [
          9
         ],
         "xaxis": "x10",
         "y": [
          -0.2928456538873494
         ],
         "yaxis": "y10"
        },
        {
         "hovertemplate": "choc=18<br>person=15<br>rank=%{x}<br>rating=%{y}<extra></extra>",
         "legendgroup": "18",
         "marker": {
          "color": "#BCBD22",
          "symbol": "circle"
         },
         "mode": "markers",
         "name": "18",
         "orientation": "v",
         "showlegend": false,
         "type": "scatter",
         "x": [
          6
         ],
         "xaxis": "x",
         "y": [
          1.2628992776869294
         ],
         "yaxis": "y"
        },
        {
         "hovertemplate": "choc=18<br>person=16<br>rank=%{x}<br>rating=%{y}<extra></extra>",
         "legendgroup": "18",
         "marker": {
          "color": "#BCBD22",
          "symbol": "circle"
         },
         "mode": "markers",
         "name": "18",
         "orientation": "v",
         "showlegend": false,
         "type": "scatter",
         "x": [
          5
         ],
         "xaxis": "x2",
         "y": [
          0.8883890607020365
         ],
         "yaxis": "y2"
        },
        {
         "hovertemplate": "choc=18<br>person=17<br>rank=%{x}<br>rating=%{y}<extra></extra>",
         "legendgroup": "18",
         "marker": {
          "color": "#BCBD22",
          "symbol": "circle"
         },
         "mode": "markers",
         "name": "18",
         "orientation": "v",
         "showlegend": false,
         "type": "scatter",
         "x": [
          5
         ],
         "xaxis": "x3",
         "y": [
          0.6400903851957556
         ],
         "yaxis": "y3"
        },
        {
         "hovertemplate": "choc=18<br>person=18<br>rank=%{x}<br>rating=%{y}<extra></extra>",
         "legendgroup": "18",
         "marker": {
          "color": "#BCBD22",
          "symbol": "circle"
         },
         "mode": "markers",
         "name": "18",
         "orientation": "v",
         "showlegend": false,
         "type": "scatter",
         "x": [
          2
         ],
         "xaxis": "x4",
         "y": [
          2.2299972260708336
         ],
         "yaxis": "y4"
        },
        {
         "hovertemplate": "choc=18<br>person=19<br>rank=%{x}<br>rating=%{y}<extra></extra>",
         "legendgroup": "18",
         "marker": {
          "color": "#BCBD22",
          "symbol": "circle"
         },
         "mode": "markers",
         "name": "18",
         "orientation": "v",
         "showlegend": false,
         "type": "scatter",
         "x": [
          5
         ],
         "xaxis": "x5",
         "y": [
          1.0443567942053142
         ],
         "yaxis": "y5"
        },
        {
         "hovertemplate": "choc=19<br>person=0<br>rank=%{x}<br>rating=%{y}<extra></extra>",
         "legendgroup": "19",
         "marker": {
          "color": "#17BECF",
          "symbol": "circle"
         },
         "mode": "markers",
         "name": "19",
         "orientation": "v",
         "showlegend": true,
         "type": "scatter",
         "x": [
          15
         ],
         "xaxis": "x16",
         "y": [
          -1.1518205695582742
         ],
         "yaxis": "y16"
        },
        {
         "hovertemplate": "choc=19<br>person=1<br>rank=%{x}<br>rating=%{y}<extra></extra>",
         "legendgroup": "19",
         "marker": {
          "color": "#17BECF",
          "symbol": "circle"
         },
         "mode": "markers",
         "name": "19",
         "orientation": "v",
         "showlegend": false,
         "type": "scatter",
         "x": [
          9
         ],
         "xaxis": "x17",
         "y": [
          0.0230546921286382
         ],
         "yaxis": "y17"
        },
        {
         "hovertemplate": "choc=19<br>person=2<br>rank=%{x}<br>rating=%{y}<extra></extra>",
         "legendgroup": "19",
         "marker": {
          "color": "#17BECF",
          "symbol": "circle"
         },
         "mode": "markers",
         "name": "19",
         "orientation": "v",
         "showlegend": false,
         "type": "scatter",
         "x": [
          17
         ],
         "xaxis": "x18",
         "y": [
          -1.5531702108764938
         ],
         "yaxis": "y18"
        },
        {
         "hovertemplate": "choc=19<br>person=3<br>rank=%{x}<br>rating=%{y}<extra></extra>",
         "legendgroup": "19",
         "marker": {
          "color": "#17BECF",
          "symbol": "circle"
         },
         "mode": "markers",
         "name": "19",
         "orientation": "v",
         "showlegend": false,
         "type": "scatter",
         "x": [
          10
         ],
         "xaxis": "x19",
         "y": [
          0.04716568608007288
         ],
         "yaxis": "y19"
        },
        {
         "hovertemplate": "choc=19<br>person=4<br>rank=%{x}<br>rating=%{y}<extra></extra>",
         "legendgroup": "19",
         "marker": {
          "color": "#17BECF",
          "symbol": "circle"
         },
         "mode": "markers",
         "name": "19",
         "orientation": "v",
         "showlegend": false,
         "type": "scatter",
         "x": [
          8
         ],
         "xaxis": "x20",
         "y": [
          0.24906886964355915
         ],
         "yaxis": "y20"
        },
        {
         "hovertemplate": "choc=19<br>person=5<br>rank=%{x}<br>rating=%{y}<extra></extra>",
         "legendgroup": "19",
         "marker": {
          "color": "#17BECF",
          "symbol": "circle"
         },
         "mode": "markers",
         "name": "19",
         "orientation": "v",
         "showlegend": false,
         "type": "scatter",
         "x": [
          8
         ],
         "xaxis": "x11",
         "y": [
          0.5202413772480045
         ],
         "yaxis": "y11"
        },
        {
         "hovertemplate": "choc=19<br>person=6<br>rank=%{x}<br>rating=%{y}<extra></extra>",
         "legendgroup": "19",
         "marker": {
          "color": "#17BECF",
          "symbol": "circle"
         },
         "mode": "markers",
         "name": "19",
         "orientation": "v",
         "showlegend": false,
         "type": "scatter",
         "x": [
          8
         ],
         "xaxis": "x12",
         "y": [
          0.17746246227987927
         ],
         "yaxis": "y12"
        },
        {
         "hovertemplate": "choc=19<br>person=7<br>rank=%{x}<br>rating=%{y}<extra></extra>",
         "legendgroup": "19",
         "marker": {
          "color": "#17BECF",
          "symbol": "circle"
         },
         "mode": "markers",
         "name": "19",
         "orientation": "v",
         "showlegend": false,
         "type": "scatter",
         "x": [
          9
         ],
         "xaxis": "x13",
         "y": [
          0.38967731060126937
         ],
         "yaxis": "y13"
        },
        {
         "hovertemplate": "choc=19<br>person=8<br>rank=%{x}<br>rating=%{y}<extra></extra>",
         "legendgroup": "19",
         "marker": {
          "color": "#17BECF",
          "symbol": "circle"
         },
         "mode": "markers",
         "name": "19",
         "orientation": "v",
         "showlegend": false,
         "type": "scatter",
         "x": [
          8
         ],
         "xaxis": "x14",
         "y": [
          0.19549939214555667
         ],
         "yaxis": "y14"
        },
        {
         "hovertemplate": "choc=19<br>person=9<br>rank=%{x}<br>rating=%{y}<extra></extra>",
         "legendgroup": "19",
         "marker": {
          "color": "#17BECF",
          "symbol": "circle"
         },
         "mode": "markers",
         "name": "19",
         "orientation": "v",
         "showlegend": false,
         "type": "scatter",
         "x": [
          0
         ],
         "xaxis": "x15",
         "y": [
          3.2196185714265697
         ],
         "yaxis": "y15"
        },
        {
         "hovertemplate": "choc=19<br>person=10<br>rank=%{x}<br>rating=%{y}<extra></extra>",
         "legendgroup": "19",
         "marker": {
          "color": "#17BECF",
          "symbol": "circle"
         },
         "mode": "markers",
         "name": "19",
         "orientation": "v",
         "showlegend": false,
         "type": "scatter",
         "x": [
          9
         ],
         "xaxis": "x6",
         "y": [
          -0.25240536672293945
         ],
         "yaxis": "y6"
        },
        {
         "hovertemplate": "choc=19<br>person=11<br>rank=%{x}<br>rating=%{y}<extra></extra>",
         "legendgroup": "19",
         "marker": {
          "color": "#17BECF",
          "symbol": "circle"
         },
         "mode": "markers",
         "name": "19",
         "orientation": "v",
         "showlegend": false,
         "type": "scatter",
         "x": [
          4
         ],
         "xaxis": "x7",
         "y": [
          1.1712591051634909
         ],
         "yaxis": "y7"
        },
        {
         "hovertemplate": "choc=19<br>person=12<br>rank=%{x}<br>rating=%{y}<extra></extra>",
         "legendgroup": "19",
         "marker": {
          "color": "#17BECF",
          "symbol": "circle"
         },
         "mode": "markers",
         "name": "19",
         "orientation": "v",
         "showlegend": false,
         "type": "scatter",
         "x": [
          4
         ],
         "xaxis": "x8",
         "y": [
          1.0433507263398138
         ],
         "yaxis": "y8"
        },
        {
         "hovertemplate": "choc=19<br>person=13<br>rank=%{x}<br>rating=%{y}<extra></extra>",
         "legendgroup": "19",
         "marker": {
          "color": "#17BECF",
          "symbol": "circle"
         },
         "mode": "markers",
         "name": "19",
         "orientation": "v",
         "showlegend": false,
         "type": "scatter",
         "x": [
          16
         ],
         "xaxis": "x9",
         "y": [
          -1.1166671654879374
         ],
         "yaxis": "y9"
        },
        {
         "hovertemplate": "choc=19<br>person=14<br>rank=%{x}<br>rating=%{y}<extra></extra>",
         "legendgroup": "19",
         "marker": {
          "color": "#17BECF",
          "symbol": "circle"
         },
         "mode": "markers",
         "name": "19",
         "orientation": "v",
         "showlegend": false,
         "type": "scatter",
         "x": [
          11
         ],
         "xaxis": "x10",
         "y": [
          -0.6943992087771345
         ],
         "yaxis": "y10"
        },
        {
         "hovertemplate": "choc=19<br>person=15<br>rank=%{x}<br>rating=%{y}<extra></extra>",
         "legendgroup": "19",
         "marker": {
          "color": "#17BECF",
          "symbol": "circle"
         },
         "mode": "markers",
         "name": "19",
         "orientation": "v",
         "showlegend": false,
         "type": "scatter",
         "x": [
          11
         ],
         "xaxis": "x",
         "y": [
          -0.6851719613916081
         ],
         "yaxis": "y"
        },
        {
         "hovertemplate": "choc=19<br>person=16<br>rank=%{x}<br>rating=%{y}<extra></extra>",
         "legendgroup": "19",
         "marker": {
          "color": "#17BECF",
          "symbol": "circle"
         },
         "mode": "markers",
         "name": "19",
         "orientation": "v",
         "showlegend": false,
         "type": "scatter",
         "x": [
          6
         ],
         "xaxis": "x2",
         "y": [
          0.619887416781909
         ],
         "yaxis": "y2"
        },
        {
         "hovertemplate": "choc=19<br>person=17<br>rank=%{x}<br>rating=%{y}<extra></extra>",
         "legendgroup": "19",
         "marker": {
          "color": "#17BECF",
          "symbol": "circle"
         },
         "mode": "markers",
         "name": "19",
         "orientation": "v",
         "showlegend": false,
         "type": "scatter",
         "x": [
          16
         ],
         "xaxis": "x3",
         "y": [
          -1.9535114292773115
         ],
         "yaxis": "y3"
        },
        {
         "hovertemplate": "choc=19<br>person=18<br>rank=%{x}<br>rating=%{y}<extra></extra>",
         "legendgroup": "19",
         "marker": {
          "color": "#17BECF",
          "symbol": "circle"
         },
         "mode": "markers",
         "name": "19",
         "orientation": "v",
         "showlegend": false,
         "type": "scatter",
         "x": [
          8
         ],
         "xaxis": "x4",
         "y": [
          0.683186186188356
         ],
         "yaxis": "y4"
        },
        {
         "hovertemplate": "choc=19<br>person=19<br>rank=%{x}<br>rating=%{y}<extra></extra>",
         "legendgroup": "19",
         "marker": {
          "color": "#17BECF",
          "symbol": "circle"
         },
         "mode": "markers",
         "name": "19",
         "orientation": "v",
         "showlegend": false,
         "type": "scatter",
         "x": [
          4
         ],
         "xaxis": "x5",
         "y": [
          1.4055683876602687
         ],
         "yaxis": "y5"
        }
       ],
       "layout": {
        "annotations": [
         {
          "font": {},
          "showarrow": false,
          "text": "person=15",
          "x": 0.09200000000000001,
          "xanchor": "center",
          "xref": "paper",
          "y": 0.1975,
          "yanchor": "bottom",
          "yref": "paper"
         },
         {
          "font": {},
          "showarrow": false,
          "text": "person=16",
          "x": 0.29600000000000004,
          "xanchor": "center",
          "xref": "paper",
          "y": 0.1975,
          "yanchor": "bottom",
          "yref": "paper"
         },
         {
          "font": {},
          "showarrow": false,
          "text": "person=17",
          "x": 0.5,
          "xanchor": "center",
          "xref": "paper",
          "y": 0.1975,
          "yanchor": "bottom",
          "yref": "paper"
         },
         {
          "font": {},
          "showarrow": false,
          "text": "person=18",
          "x": 0.7040000000000002,
          "xanchor": "center",
          "xref": "paper",
          "y": 0.1975,
          "yanchor": "bottom",
          "yref": "paper"
         },
         {
          "font": {},
          "showarrow": false,
          "text": "person=19",
          "x": 0.908,
          "xanchor": "center",
          "xref": "paper",
          "y": 0.1975,
          "yanchor": "bottom",
          "yref": "paper"
         },
         {
          "font": {},
          "showarrow": false,
          "text": "person=10",
          "x": 0.09200000000000001,
          "xanchor": "center",
          "xref": "paper",
          "y": 0.465,
          "yanchor": "bottom",
          "yref": "paper"
         },
         {
          "font": {},
          "showarrow": false,
          "text": "person=11",
          "x": 0.29600000000000004,
          "xanchor": "center",
          "xref": "paper",
          "y": 0.465,
          "yanchor": "bottom",
          "yref": "paper"
         },
         {
          "font": {},
          "showarrow": false,
          "text": "person=12",
          "x": 0.5,
          "xanchor": "center",
          "xref": "paper",
          "y": 0.465,
          "yanchor": "bottom",
          "yref": "paper"
         },
         {
          "font": {},
          "showarrow": false,
          "text": "person=13",
          "x": 0.7040000000000002,
          "xanchor": "center",
          "xref": "paper",
          "y": 0.465,
          "yanchor": "bottom",
          "yref": "paper"
         },
         {
          "font": {},
          "showarrow": false,
          "text": "person=14",
          "x": 0.908,
          "xanchor": "center",
          "xref": "paper",
          "y": 0.465,
          "yanchor": "bottom",
          "yref": "paper"
         },
         {
          "font": {},
          "showarrow": false,
          "text": "person=5",
          "x": 0.09200000000000001,
          "xanchor": "center",
          "xref": "paper",
          "y": 0.7325,
          "yanchor": "bottom",
          "yref": "paper"
         },
         {
          "font": {},
          "showarrow": false,
          "text": "person=6",
          "x": 0.29600000000000004,
          "xanchor": "center",
          "xref": "paper",
          "y": 0.7325,
          "yanchor": "bottom",
          "yref": "paper"
         },
         {
          "font": {},
          "showarrow": false,
          "text": "person=7",
          "x": 0.5,
          "xanchor": "center",
          "xref": "paper",
          "y": 0.7325,
          "yanchor": "bottom",
          "yref": "paper"
         },
         {
          "font": {},
          "showarrow": false,
          "text": "person=8",
          "x": 0.7040000000000002,
          "xanchor": "center",
          "xref": "paper",
          "y": 0.7325,
          "yanchor": "bottom",
          "yref": "paper"
         },
         {
          "font": {},
          "showarrow": false,
          "text": "person=9",
          "x": 0.908,
          "xanchor": "center",
          "xref": "paper",
          "y": 0.7325,
          "yanchor": "bottom",
          "yref": "paper"
         },
         {
          "font": {},
          "showarrow": false,
          "text": "person=0",
          "x": 0.09200000000000001,
          "xanchor": "center",
          "xref": "paper",
          "y": 1,
          "yanchor": "bottom",
          "yref": "paper"
         },
         {
          "font": {},
          "showarrow": false,
          "text": "person=1",
          "x": 0.29600000000000004,
          "xanchor": "center",
          "xref": "paper",
          "y": 1,
          "yanchor": "bottom",
          "yref": "paper"
         },
         {
          "font": {},
          "showarrow": false,
          "text": "person=2",
          "x": 0.5,
          "xanchor": "center",
          "xref": "paper",
          "y": 1,
          "yanchor": "bottom",
          "yref": "paper"
         },
         {
          "font": {},
          "showarrow": false,
          "text": "person=3",
          "x": 0.7040000000000002,
          "xanchor": "center",
          "xref": "paper",
          "y": 1,
          "yanchor": "bottom",
          "yref": "paper"
         },
         {
          "font": {},
          "showarrow": false,
          "text": "person=4",
          "x": 0.908,
          "xanchor": "center",
          "xref": "paper",
          "y": 1,
          "yanchor": "bottom",
          "yref": "paper"
         }
        ],
        "height": 600,
        "legend": {
         "title": {
          "text": "choc"
         },
         "tracegroupgap": 0
        },
        "margin": {
         "t": 60
        },
        "showlegend": false,
        "template": {
         "data": {
          "bar": [
           {
            "error_x": {
             "color": "rgb(36,36,36)"
            },
            "error_y": {
             "color": "rgb(36,36,36)"
            },
            "marker": {
             "line": {
              "color": "white",
              "width": 0.5
             },
             "pattern": {
              "fillmode": "overlay",
              "size": 10,
              "solidity": 0.2
             }
            },
            "type": "bar"
           }
          ],
          "barpolar": [
           {
            "marker": {
             "line": {
              "color": "white",
              "width": 0.5
             },
             "pattern": {
              "fillmode": "overlay",
              "size": 10,
              "solidity": 0.2
             }
            },
            "type": "barpolar"
           }
          ],
          "carpet": [
           {
            "aaxis": {
             "endlinecolor": "rgb(36,36,36)",
             "gridcolor": "white",
             "linecolor": "white",
             "minorgridcolor": "white",
             "startlinecolor": "rgb(36,36,36)"
            },
            "baxis": {
             "endlinecolor": "rgb(36,36,36)",
             "gridcolor": "white",
             "linecolor": "white",
             "minorgridcolor": "white",
             "startlinecolor": "rgb(36,36,36)"
            },
            "type": "carpet"
           }
          ],
          "choropleth": [
           {
            "colorbar": {
             "outlinewidth": 1,
             "tickcolor": "rgb(36,36,36)",
             "ticks": "outside"
            },
            "type": "choropleth"
           }
          ],
          "contour": [
           {
            "colorbar": {
             "outlinewidth": 1,
             "tickcolor": "rgb(36,36,36)",
             "ticks": "outside"
            },
            "colorscale": [
             [
              0,
              "#440154"
             ],
             [
              0.1111111111111111,
              "#482878"
             ],
             [
              0.2222222222222222,
              "#3e4989"
             ],
             [
              0.3333333333333333,
              "#31688e"
             ],
             [
              0.4444444444444444,
              "#26828e"
             ],
             [
              0.5555555555555556,
              "#1f9e89"
             ],
             [
              0.6666666666666666,
              "#35b779"
             ],
             [
              0.7777777777777778,
              "#6ece58"
             ],
             [
              0.8888888888888888,
              "#b5de2b"
             ],
             [
              1,
              "#fde725"
             ]
            ],
            "type": "contour"
           }
          ],
          "contourcarpet": [
           {
            "colorbar": {
             "outlinewidth": 1,
             "tickcolor": "rgb(36,36,36)",
             "ticks": "outside"
            },
            "type": "contourcarpet"
           }
          ],
          "heatmap": [
           {
            "colorbar": {
             "outlinewidth": 1,
             "tickcolor": "rgb(36,36,36)",
             "ticks": "outside"
            },
            "colorscale": [
             [
              0,
              "#440154"
             ],
             [
              0.1111111111111111,
              "#482878"
             ],
             [
              0.2222222222222222,
              "#3e4989"
             ],
             [
              0.3333333333333333,
              "#31688e"
             ],
             [
              0.4444444444444444,
              "#26828e"
             ],
             [
              0.5555555555555556,
              "#1f9e89"
             ],
             [
              0.6666666666666666,
              "#35b779"
             ],
             [
              0.7777777777777778,
              "#6ece58"
             ],
             [
              0.8888888888888888,
              "#b5de2b"
             ],
             [
              1,
              "#fde725"
             ]
            ],
            "type": "heatmap"
           }
          ],
          "heatmapgl": [
           {
            "colorbar": {
             "outlinewidth": 1,
             "tickcolor": "rgb(36,36,36)",
             "ticks": "outside"
            },
            "colorscale": [
             [
              0,
              "#440154"
             ],
             [
              0.1111111111111111,
              "#482878"
             ],
             [
              0.2222222222222222,
              "#3e4989"
             ],
             [
              0.3333333333333333,
              "#31688e"
             ],
             [
              0.4444444444444444,
              "#26828e"
             ],
             [
              0.5555555555555556,
              "#1f9e89"
             ],
             [
              0.6666666666666666,
              "#35b779"
             ],
             [
              0.7777777777777778,
              "#6ece58"
             ],
             [
              0.8888888888888888,
              "#b5de2b"
             ],
             [
              1,
              "#fde725"
             ]
            ],
            "type": "heatmapgl"
           }
          ],
          "histogram": [
           {
            "marker": {
             "line": {
              "color": "white",
              "width": 0.6
             }
            },
            "type": "histogram"
           }
          ],
          "histogram2d": [
           {
            "colorbar": {
             "outlinewidth": 1,
             "tickcolor": "rgb(36,36,36)",
             "ticks": "outside"
            },
            "colorscale": [
             [
              0,
              "#440154"
             ],
             [
              0.1111111111111111,
              "#482878"
             ],
             [
              0.2222222222222222,
              "#3e4989"
             ],
             [
              0.3333333333333333,
              "#31688e"
             ],
             [
              0.4444444444444444,
              "#26828e"
             ],
             [
              0.5555555555555556,
              "#1f9e89"
             ],
             [
              0.6666666666666666,
              "#35b779"
             ],
             [
              0.7777777777777778,
              "#6ece58"
             ],
             [
              0.8888888888888888,
              "#b5de2b"
             ],
             [
              1,
              "#fde725"
             ]
            ],
            "type": "histogram2d"
           }
          ],
          "histogram2dcontour": [
           {
            "colorbar": {
             "outlinewidth": 1,
             "tickcolor": "rgb(36,36,36)",
             "ticks": "outside"
            },
            "colorscale": [
             [
              0,
              "#440154"
             ],
             [
              0.1111111111111111,
              "#482878"
             ],
             [
              0.2222222222222222,
              "#3e4989"
             ],
             [
              0.3333333333333333,
              "#31688e"
             ],
             [
              0.4444444444444444,
              "#26828e"
             ],
             [
              0.5555555555555556,
              "#1f9e89"
             ],
             [
              0.6666666666666666,
              "#35b779"
             ],
             [
              0.7777777777777778,
              "#6ece58"
             ],
             [
              0.8888888888888888,
              "#b5de2b"
             ],
             [
              1,
              "#fde725"
             ]
            ],
            "type": "histogram2dcontour"
           }
          ],
          "mesh3d": [
           {
            "colorbar": {
             "outlinewidth": 1,
             "tickcolor": "rgb(36,36,36)",
             "ticks": "outside"
            },
            "type": "mesh3d"
           }
          ],
          "parcoords": [
           {
            "line": {
             "colorbar": {
              "outlinewidth": 1,
              "tickcolor": "rgb(36,36,36)",
              "ticks": "outside"
             }
            },
            "type": "parcoords"
           }
          ],
          "pie": [
           {
            "automargin": true,
            "type": "pie"
           }
          ],
          "scatter": [
           {
            "fillpattern": {
             "fillmode": "overlay",
             "size": 10,
             "solidity": 0.2
            },
            "type": "scatter"
           }
          ],
          "scatter3d": [
           {
            "line": {
             "colorbar": {
              "outlinewidth": 1,
              "tickcolor": "rgb(36,36,36)",
              "ticks": "outside"
             }
            },
            "marker": {
             "colorbar": {
              "outlinewidth": 1,
              "tickcolor": "rgb(36,36,36)",
              "ticks": "outside"
             }
            },
            "type": "scatter3d"
           }
          ],
          "scattercarpet": [
           {
            "marker": {
             "colorbar": {
              "outlinewidth": 1,
              "tickcolor": "rgb(36,36,36)",
              "ticks": "outside"
             }
            },
            "type": "scattercarpet"
           }
          ],
          "scattergeo": [
           {
            "marker": {
             "colorbar": {
              "outlinewidth": 1,
              "tickcolor": "rgb(36,36,36)",
              "ticks": "outside"
             }
            },
            "type": "scattergeo"
           }
          ],
          "scattergl": [
           {
            "marker": {
             "colorbar": {
              "outlinewidth": 1,
              "tickcolor": "rgb(36,36,36)",
              "ticks": "outside"
             }
            },
            "type": "scattergl"
           }
          ],
          "scattermapbox": [
           {
            "marker": {
             "colorbar": {
              "outlinewidth": 1,
              "tickcolor": "rgb(36,36,36)",
              "ticks": "outside"
             }
            },
            "type": "scattermapbox"
           }
          ],
          "scatterpolar": [
           {
            "marker": {
             "colorbar": {
              "outlinewidth": 1,
              "tickcolor": "rgb(36,36,36)",
              "ticks": "outside"
             }
            },
            "type": "scatterpolar"
           }
          ],
          "scatterpolargl": [
           {
            "marker": {
             "colorbar": {
              "outlinewidth": 1,
              "tickcolor": "rgb(36,36,36)",
              "ticks": "outside"
             }
            },
            "type": "scatterpolargl"
           }
          ],
          "scatterternary": [
           {
            "marker": {
             "colorbar": {
              "outlinewidth": 1,
              "tickcolor": "rgb(36,36,36)",
              "ticks": "outside"
             }
            },
            "type": "scatterternary"
           }
          ],
          "surface": [
           {
            "colorbar": {
             "outlinewidth": 1,
             "tickcolor": "rgb(36,36,36)",
             "ticks": "outside"
            },
            "colorscale": [
             [
              0,
              "#440154"
             ],
             [
              0.1111111111111111,
              "#482878"
             ],
             [
              0.2222222222222222,
              "#3e4989"
             ],
             [
              0.3333333333333333,
              "#31688e"
             ],
             [
              0.4444444444444444,
              "#26828e"
             ],
             [
              0.5555555555555556,
              "#1f9e89"
             ],
             [
              0.6666666666666666,
              "#35b779"
             ],
             [
              0.7777777777777778,
              "#6ece58"
             ],
             [
              0.8888888888888888,
              "#b5de2b"
             ],
             [
              1,
              "#fde725"
             ]
            ],
            "type": "surface"
           }
          ],
          "table": [
           {
            "cells": {
             "fill": {
              "color": "rgb(237,237,237)"
             },
             "line": {
              "color": "white"
             }
            },
            "header": {
             "fill": {
              "color": "rgb(217,217,217)"
             },
             "line": {
              "color": "white"
             }
            },
            "type": "table"
           }
          ]
         },
         "layout": {
          "annotationdefaults": {
           "arrowhead": 0,
           "arrowwidth": 1
          },
          "autotypenumbers": "strict",
          "coloraxis": {
           "colorbar": {
            "outlinewidth": 1,
            "tickcolor": "rgb(36,36,36)",
            "ticks": "outside"
           }
          },
          "colorscale": {
           "diverging": [
            [
             0,
             "rgb(103,0,31)"
            ],
            [
             0.1,
             "rgb(178,24,43)"
            ],
            [
             0.2,
             "rgb(214,96,77)"
            ],
            [
             0.3,
             "rgb(244,165,130)"
            ],
            [
             0.4,
             "rgb(253,219,199)"
            ],
            [
             0.5,
             "rgb(247,247,247)"
            ],
            [
             0.6,
             "rgb(209,229,240)"
            ],
            [
             0.7,
             "rgb(146,197,222)"
            ],
            [
             0.8,
             "rgb(67,147,195)"
            ],
            [
             0.9,
             "rgb(33,102,172)"
            ],
            [
             1,
             "rgb(5,48,97)"
            ]
           ],
           "sequential": [
            [
             0,
             "#440154"
            ],
            [
             0.1111111111111111,
             "#482878"
            ],
            [
             0.2222222222222222,
             "#3e4989"
            ],
            [
             0.3333333333333333,
             "#31688e"
            ],
            [
             0.4444444444444444,
             "#26828e"
            ],
            [
             0.5555555555555556,
             "#1f9e89"
            ],
            [
             0.6666666666666666,
             "#35b779"
            ],
            [
             0.7777777777777778,
             "#6ece58"
            ],
            [
             0.8888888888888888,
             "#b5de2b"
            ],
            [
             1,
             "#fde725"
            ]
           ],
           "sequentialminus": [
            [
             0,
             "#440154"
            ],
            [
             0.1111111111111111,
             "#482878"
            ],
            [
             0.2222222222222222,
             "#3e4989"
            ],
            [
             0.3333333333333333,
             "#31688e"
            ],
            [
             0.4444444444444444,
             "#26828e"
            ],
            [
             0.5555555555555556,
             "#1f9e89"
            ],
            [
             0.6666666666666666,
             "#35b779"
            ],
            [
             0.7777777777777778,
             "#6ece58"
            ],
            [
             0.8888888888888888,
             "#b5de2b"
            ],
            [
             1,
             "#fde725"
            ]
           ]
          },
          "colorway": [
           "#1F77B4",
           "#FF7F0E",
           "#2CA02C",
           "#D62728",
           "#9467BD",
           "#8C564B",
           "#E377C2",
           "#7F7F7F",
           "#BCBD22",
           "#17BECF"
          ],
          "font": {
           "color": "rgb(36,36,36)"
          },
          "geo": {
           "bgcolor": "white",
           "lakecolor": "white",
           "landcolor": "white",
           "showlakes": true,
           "showland": true,
           "subunitcolor": "white"
          },
          "hoverlabel": {
           "align": "left"
          },
          "hovermode": "closest",
          "mapbox": {
           "style": "light"
          },
          "paper_bgcolor": "white",
          "plot_bgcolor": "white",
          "polar": {
           "angularaxis": {
            "gridcolor": "rgb(232,232,232)",
            "linecolor": "rgb(36,36,36)",
            "showgrid": false,
            "showline": true,
            "ticks": "outside"
           },
           "bgcolor": "white",
           "radialaxis": {
            "gridcolor": "rgb(232,232,232)",
            "linecolor": "rgb(36,36,36)",
            "showgrid": false,
            "showline": true,
            "ticks": "outside"
           }
          },
          "scene": {
           "xaxis": {
            "backgroundcolor": "white",
            "gridcolor": "rgb(232,232,232)",
            "gridwidth": 2,
            "linecolor": "rgb(36,36,36)",
            "showbackground": true,
            "showgrid": false,
            "showline": true,
            "ticks": "outside",
            "zeroline": false,
            "zerolinecolor": "rgb(36,36,36)"
           },
           "yaxis": {
            "backgroundcolor": "white",
            "gridcolor": "rgb(232,232,232)",
            "gridwidth": 2,
            "linecolor": "rgb(36,36,36)",
            "showbackground": true,
            "showgrid": false,
            "showline": true,
            "ticks": "outside",
            "zeroline": false,
            "zerolinecolor": "rgb(36,36,36)"
           },
           "zaxis": {
            "backgroundcolor": "white",
            "gridcolor": "rgb(232,232,232)",
            "gridwidth": 2,
            "linecolor": "rgb(36,36,36)",
            "showbackground": true,
            "showgrid": false,
            "showline": true,
            "ticks": "outside",
            "zeroline": false,
            "zerolinecolor": "rgb(36,36,36)"
           }
          },
          "shapedefaults": {
           "fillcolor": "black",
           "line": {
            "width": 0
           },
           "opacity": 0.3
          },
          "ternary": {
           "aaxis": {
            "gridcolor": "rgb(232,232,232)",
            "linecolor": "rgb(36,36,36)",
            "showgrid": false,
            "showline": true,
            "ticks": "outside"
           },
           "baxis": {
            "gridcolor": "rgb(232,232,232)",
            "linecolor": "rgb(36,36,36)",
            "showgrid": false,
            "showline": true,
            "ticks": "outside"
           },
           "bgcolor": "white",
           "caxis": {
            "gridcolor": "rgb(232,232,232)",
            "linecolor": "rgb(36,36,36)",
            "showgrid": false,
            "showline": true,
            "ticks": "outside"
           }
          },
          "title": {
           "x": 0.05
          },
          "xaxis": {
           "automargin": true,
           "gridcolor": "rgb(232,232,232)",
           "linecolor": "rgb(36,36,36)",
           "showgrid": false,
           "showline": true,
           "ticks": "outside",
           "title": {
            "standoff": 15
           },
           "zeroline": false,
           "zerolinecolor": "rgb(36,36,36)"
          },
          "yaxis": {
           "automargin": true,
           "gridcolor": "rgb(232,232,232)",
           "linecolor": "rgb(36,36,36)",
           "showgrid": false,
           "showline": true,
           "ticks": "outside",
           "title": {
            "standoff": 15
           },
           "zeroline": false,
           "zerolinecolor": "rgb(36,36,36)"
          }
         }
        },
        "width": 1000,
        "xaxis": {
         "anchor": "y",
         "domain": [
          0,
          0.18400000000000002
         ],
         "title": {
          "text": "rank"
         }
        },
        "xaxis10": {
         "anchor": "y10",
         "domain": [
          0.8160000000000001,
          1
         ],
         "matches": "x",
         "showticklabels": false
        },
        "xaxis11": {
         "anchor": "y11",
         "domain": [
          0,
          0.18400000000000002
         ],
         "matches": "x",
         "showticklabels": false
        },
        "xaxis12": {
         "anchor": "y12",
         "domain": [
          0.20400000000000001,
          0.388
         ],
         "matches": "x",
         "showticklabels": false
        },
        "xaxis13": {
         "anchor": "y13",
         "domain": [
          0.40800000000000003,
          0.5920000000000001
         ],
         "matches": "x",
         "showticklabels": false
        },
        "xaxis14": {
         "anchor": "y14",
         "domain": [
          0.6120000000000001,
          0.7960000000000002
         ],
         "matches": "x",
         "showticklabels": false
        },
        "xaxis15": {
         "anchor": "y15",
         "domain": [
          0.8160000000000001,
          1
         ],
         "matches": "x",
         "showticklabels": false
        },
        "xaxis16": {
         "anchor": "y16",
         "domain": [
          0,
          0.18400000000000002
         ],
         "matches": "x",
         "showticklabels": false
        },
        "xaxis17": {
         "anchor": "y17",
         "domain": [
          0.20400000000000001,
          0.388
         ],
         "matches": "x",
         "showticklabels": false
        },
        "xaxis18": {
         "anchor": "y18",
         "domain": [
          0.40800000000000003,
          0.5920000000000001
         ],
         "matches": "x",
         "showticklabels": false
        },
        "xaxis19": {
         "anchor": "y19",
         "domain": [
          0.6120000000000001,
          0.7960000000000002
         ],
         "matches": "x",
         "showticklabels": false
        },
        "xaxis2": {
         "anchor": "y2",
         "domain": [
          0.20400000000000001,
          0.388
         ],
         "matches": "x",
         "title": {
          "text": "rank"
         }
        },
        "xaxis20": {
         "anchor": "y20",
         "domain": [
          0.8160000000000001,
          1
         ],
         "matches": "x",
         "showticklabels": false
        },
        "xaxis3": {
         "anchor": "y3",
         "domain": [
          0.40800000000000003,
          0.5920000000000001
         ],
         "matches": "x",
         "title": {
          "text": "rank"
         }
        },
        "xaxis4": {
         "anchor": "y4",
         "domain": [
          0.6120000000000001,
          0.7960000000000002
         ],
         "matches": "x",
         "title": {
          "text": "rank"
         }
        },
        "xaxis5": {
         "anchor": "y5",
         "domain": [
          0.8160000000000001,
          1
         ],
         "matches": "x",
         "title": {
          "text": "rank"
         }
        },
        "xaxis6": {
         "anchor": "y6",
         "domain": [
          0,
          0.18400000000000002
         ],
         "matches": "x",
         "showticklabels": false
        },
        "xaxis7": {
         "anchor": "y7",
         "domain": [
          0.20400000000000001,
          0.388
         ],
         "matches": "x",
         "showticklabels": false
        },
        "xaxis8": {
         "anchor": "y8",
         "domain": [
          0.40800000000000003,
          0.5920000000000001
         ],
         "matches": "x",
         "showticklabels": false
        },
        "xaxis9": {
         "anchor": "y9",
         "domain": [
          0.6120000000000001,
          0.7960000000000002
         ],
         "matches": "x",
         "showticklabels": false
        },
        "yaxis": {
         "anchor": "x",
         "domain": [
          0,
          0.1975
         ],
         "title": {
          "text": "rating"
         }
        },
        "yaxis10": {
         "anchor": "x10",
         "domain": [
          0.2675,
          0.465
         ],
         "matches": "y",
         "showticklabels": false
        },
        "yaxis11": {
         "anchor": "x11",
         "domain": [
          0.535,
          0.7325
         ],
         "matches": "y",
         "title": {
          "text": "rating"
         }
        },
        "yaxis12": {
         "anchor": "x12",
         "domain": [
          0.535,
          0.7325
         ],
         "matches": "y",
         "showticklabels": false
        },
        "yaxis13": {
         "anchor": "x13",
         "domain": [
          0.535,
          0.7325
         ],
         "matches": "y",
         "showticklabels": false
        },
        "yaxis14": {
         "anchor": "x14",
         "domain": [
          0.535,
          0.7325
         ],
         "matches": "y",
         "showticklabels": false
        },
        "yaxis15": {
         "anchor": "x15",
         "domain": [
          0.535,
          0.7325
         ],
         "matches": "y",
         "showticklabels": false
        },
        "yaxis16": {
         "anchor": "x16",
         "domain": [
          0.8025,
          1
         ],
         "matches": "y",
         "title": {
          "text": "rating"
         }
        },
        "yaxis17": {
         "anchor": "x17",
         "domain": [
          0.8025,
          1
         ],
         "matches": "y",
         "showticklabels": false
        },
        "yaxis18": {
         "anchor": "x18",
         "domain": [
          0.8025,
          1
         ],
         "matches": "y",
         "showticklabels": false
        },
        "yaxis19": {
         "anchor": "x19",
         "domain": [
          0.8025,
          1
         ],
         "matches": "y",
         "showticklabels": false
        },
        "yaxis2": {
         "anchor": "x2",
         "domain": [
          0,
          0.1975
         ],
         "matches": "y",
         "showticklabels": false
        },
        "yaxis20": {
         "anchor": "x20",
         "domain": [
          0.8025,
          1
         ],
         "matches": "y",
         "showticklabels": false
        },
        "yaxis3": {
         "anchor": "x3",
         "domain": [
          0,
          0.1975
         ],
         "matches": "y",
         "showticklabels": false
        },
        "yaxis4": {
         "anchor": "x4",
         "domain": [
          0,
          0.1975
         ],
         "matches": "y",
         "showticklabels": false
        },
        "yaxis5": {
         "anchor": "x5",
         "domain": [
          0,
          0.1975
         ],
         "matches": "y",
         "showticklabels": false
        },
        "yaxis6": {
         "anchor": "x6",
         "domain": [
          0.2675,
          0.465
         ],
         "matches": "y",
         "title": {
          "text": "rating"
         }
        },
        "yaxis7": {
         "anchor": "x7",
         "domain": [
          0.2675,
          0.465
         ],
         "matches": "y",
         "showticklabels": false
        },
        "yaxis8": {
         "anchor": "x8",
         "domain": [
          0.2675,
          0.465
         ],
         "matches": "y",
         "showticklabels": false
        },
        "yaxis9": {
         "anchor": "x9",
         "domain": [
          0.2675,
          0.465
         ],
         "matches": "y",
         "showticklabels": false
        }
       }
      }
     },
     "metadata": {},
     "output_type": "display_data"
    }
   ],
   "source": [
    "sim_viz.plot_ratings_rankings(facets_limit={'var': 'person',\n",
    "                                            'records': 20})"
   ]
  }
 ],
 "metadata": {
  "kernelspec": {
   "display_name": "Python 3.8.13 ('.venv-choc': venv)",
   "language": "python",
   "name": "python3"
  },
  "language_info": {
   "codemirror_mode": {
    "name": "ipython",
    "version": 3
   },
   "file_extension": ".py",
   "mimetype": "text/x-python",
   "name": "python",
   "nbconvert_exporter": "python",
   "pygments_lexer": "ipython3",
   "version": "3.10.8"
  },
  "orig_nbformat": 4,
  "vscode": {
   "interpreter": {
    "hash": "4a356b8ba34d2241ef80cecb5dfbe1f7b2a4d2edb0e18d848583f98400376f3f"
   }
  }
 },
 "nbformat": 4,
 "nbformat_minor": 2
}
