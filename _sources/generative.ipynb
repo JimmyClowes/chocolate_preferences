{
 "cells": [
  {
   "attachments": {},
   "cell_type": "markdown",
   "metadata": {},
   "source": [
    "# Building a generative model\n",
    "\n",
    "Having plotted the data collected, I now have an improved understanding of how rankings varied across the people taking part. I want to build a generative model that I believe is:<br>\n",
    "(a) theoretically plausible in terms of how people's rankings come about; and<br>\n",
    "(b) consistent with the patterns observed in the ranking data.\n",
    "\n",
    "To build the generative model, I'm going to make some choices about what phenomena I think are involved in the process of generating the rankings, and I'm going to choose distributions that I consider well suited to representing those phenomena.\n",
    "\n",
    "The aspects of the data generating process I decided to include in the generative model were:\n",
    "- There are multiple people ranking chocolates (10 in the observed data, but it could be any number)\n",
    "\n",
    "- There are multiple chocolates being ranking (17 in the observed data, but it could be any number)\n",
    "\n",
    "- People's rankings of chocolates is based on ordering of unobserved ratings people give to each chocolate on a latent scale\n",
    "\n",
    "- Each chocolate has some mean appeal and variance of appeal on the latent appeal scale\n",
    "  - Some chcocolates are generally agreed to be nicer than others, so they would have a higher mean appeal on the latent scale\n",
    "  - Some chocolates divide opinion more, so they would have a higher variance in appel on the latent scale\n",
    "\n",
    "- Each person has an individual quality score for each choclate drawn from the appeal distributions for each chocolate\n",
    "\n",
    "### Conception of the latent rating scale\n",
    "\n",
    "My conception of the latent rating scale for the chocolates is that each individual has a conception of a one-dimensonsal rating space along which they place the chocolates being rated according to how much appeal each chocolate holds for that person. In the specification of the generative model, this scale is constrained by assumptions that ratings are normally distributed, so a strong preference or dislike for a given chocolate will be constrained in how far from the other ratings it can stray. Some constraint like this is necessary in order to model rankings from multiple people on a common scale.\n",
    "\n",
    "With this in mind, the ratings given by individual people should be considered ratings across that person's own appeal scale, i.e. the person rating the chocolate near the bottom of what appeal a chocolate could have, near the top of what appeal they think it could have, or somewhere in the middle. In this sense, ratings from different people can not be compared in absolute terms, i.e. person A rating chocolate X 2.3 while person B rates chocolate X 1.9 can not be understood to mean person A likes chocolate X more than person B does in absolute terms. What it does mean is that person A considered chocolate X to be higher up their personal scale of how good a chocolate can be than person B does up their personal scale.\n",
    "\n",
    "It may or may not be the case that humans experience the consumption of chocolate in a common way and there there is some absolute rating scale that could be understood in common terms across people rating chocolates, but that philosophical question is outside the remit of this exercise."
   ]
  },
  {
   "cell_type": "code",
   "execution_count": 1,
   "metadata": {},
   "outputs": [],
   "source": [
    "import plotly.express as px\n",
    "import inspect"
   ]
  },
  {
   "attachments": {},
   "cell_type": "markdown",
   "metadata": {},
   "source": [
    "## Defining the generative model"
   ]
  },
  {
   "attachments": {},
   "cell_type": "markdown",
   "metadata": {},
   "source": [
    "To give myself the ability to readily generate data based on the generative model in a flexible way throughout the project, I set up a `SimGenerative` class to generate ranking data based on the generative model. Here a couple of function definitions show how I have specified the generative model. First, in the `__init__` function, the number of people and chocolates involved is defined, as well as a seed for random number generation to allow reproducibility, and some hyperparameter choices that will be used in the distributions within the generative model."
   ]
  },
  {
   "cell_type": "code",
   "execution_count": 2,
   "metadata": {},
   "outputs": [
    {
     "name": "stdout",
     "output_type": "stream",
     "text": [
      "    def __init__(self,\n",
      "                 n_people=10,\n",
      "                 n_chocs=17,\n",
      "                 seed=123,\n",
      "                 hyperparams={'choc_mus': {'loc': 0, 'scale': 1},\n",
      "                              'choc_sigmas': {'shape': 5, 'scale': 0.5}}):\n",
      "\n",
      "        self.n_people = n_people\n",
      "        self.n_chocs = n_chocs\n",
      "        self.seed = seed\n",
      "        self.hyperparams = hyperparams\n",
      "\n"
     ]
    }
   ],
   "source": [
    "from src.data.generative import SimGenerative, SimViz\n",
    "\n",
    "print(inspect.getsource(SimGenerative.__init__))"
   ]
  },
  {
   "attachments": {},
   "cell_type": "markdown",
   "metadata": {},
   "source": [
    "Then, the `draw` method of the `SimGenerative` class defines the process for how rankings come about.\n",
    "\n",
    "- `choc_mus` sets the mean appeal ratings for each chocolate at the population level, i.e. the appeal level of each chocolate averaged across all people, and is drawn from a normal distribution defined by the hyperparameters provided\n",
    "\n",
    "- `choc_sigmas` sets the standard deviation in appeal ratings for each chocolate at the population level, i.e. how much variation there is in the appeal of each chocolate across all people, and is drawn from a gamma distribution defined by the hyperparameters provided\n",
    "\n",
    "- `choc_ratings` sets the appeal ratings for each person relating to each chocolate, drawn from a normal distribution centred on the population mean appeal for each chocolate and with standard deviation of the standard deviation in appeal for that chocolate\n",
    "\n",
    "- `choc_rankings` sets the rankings each person gives to each chocolate, determined by ordering the ratings each person gave to each chcolate from lowest to highest"
   ]
  },
  {
   "cell_type": "code",
   "execution_count": 3,
   "metadata": {},
   "outputs": [
    {
     "name": "stdout",
     "output_type": "stream",
     "text": [
      "    def draw(self):\n",
      "\n",
      "        np.random.seed(self.seed)\n",
      "\n",
      "        self.choc_mus = np.random.normal(**self.hyperparams['choc_mus'], size=self.n_chocs)\n",
      "        self.choc_sigmas = np.random.gamma(**self.hyperparams['choc_sigmas'], size=self.n_chocs)\n",
      "\n",
      "        self.choc_ratings = np.random.normal(self.choc_mus[np.newaxis,:],\n",
      "                                             self.choc_sigmas[np.newaxis,:],\n",
      "                                             size=(self.n_people,  self.n_chocs))\n",
      "\n",
      "        # negative of ratings is taken so that lower values are given higher rank indices\n",
      "        self.choc_rankings = np.argsort(-self.choc_ratings, axis=1)\n",
      "\n",
      "        self._make_ratings_rankings_df()\n",
      "\n"
     ]
    }
   ],
   "source": [
    "print(inspect.getsource(SimGenerative.draw))"
   ]
  },
  {
   "attachments": {},
   "cell_type": "markdown",
   "metadata": {},
   "source": [
    "# Drawing samples from the generative model\n",
    "\n",
    "Instantiating a `SimGenerative` object and drawing a simulation from it, we can see how the ratings look. Here a simulation is generated with the generative model using 100 people and 20 chocolates for demonstration purposes. In the data frame produced, we can see a rating is generated by each person for each chocolate. A person giving chocolate X a lower rating than chocolate Y will cause that person's ranking of chocolate X to be worse (i.e. a higher index value) than their ranking for chocolate Y. Rankings are assigned with the lowest rank index number being the highest rated chocolate and the highest rank index number being the lowest rated chocolate for each person, so rank 0 always means that person's favourite, i.e. highest rated, chocolate."
   ]
  },
  {
   "cell_type": "code",
   "execution_count": 4,
   "metadata": {},
   "outputs": [
    {
     "data": {
      "text/html": [
       "<div>\n",
       "<style scoped>\n",
       "    .dataframe tbody tr th:only-of-type {\n",
       "        vertical-align: middle;\n",
       "    }\n",
       "\n",
       "    .dataframe tbody tr th {\n",
       "        vertical-align: top;\n",
       "    }\n",
       "\n",
       "    .dataframe thead th {\n",
       "        text-align: right;\n",
       "    }\n",
       "</style>\n",
       "<table border=\"1\" class=\"dataframe\">\n",
       "  <thead>\n",
       "    <tr style=\"text-align: right;\">\n",
       "      <th></th>\n",
       "      <th>person</th>\n",
       "      <th>choc</th>\n",
       "      <th>rating</th>\n",
       "      <th>rank</th>\n",
       "    </tr>\n",
       "  </thead>\n",
       "  <tbody>\n",
       "    <tr>\n",
       "      <th>0</th>\n",
       "      <td>0</td>\n",
       "      <td>0</td>\n",
       "      <td>1.468984</td>\n",
       "      <td>5</td>\n",
       "    </tr>\n",
       "    <tr>\n",
       "      <th>1</th>\n",
       "      <td>1</td>\n",
       "      <td>0</td>\n",
       "      <td>0.534884</td>\n",
       "      <td>5</td>\n",
       "    </tr>\n",
       "    <tr>\n",
       "      <th>2</th>\n",
       "      <td>2</td>\n",
       "      <td>0</td>\n",
       "      <td>1.869163</td>\n",
       "      <td>3</td>\n",
       "    </tr>\n",
       "    <tr>\n",
       "      <th>3</th>\n",
       "      <td>3</td>\n",
       "      <td>0</td>\n",
       "      <td>1.623201</td>\n",
       "      <td>3</td>\n",
       "    </tr>\n",
       "    <tr>\n",
       "      <th>4</th>\n",
       "      <td>4</td>\n",
       "      <td>0</td>\n",
       "      <td>2.028396</td>\n",
       "      <td>5</td>\n",
       "    </tr>\n",
       "    <tr>\n",
       "      <th>...</th>\n",
       "      <td>...</td>\n",
       "      <td>...</td>\n",
       "      <td>...</td>\n",
       "      <td>...</td>\n",
       "    </tr>\n",
       "    <tr>\n",
       "      <th>1995</th>\n",
       "      <td>95</td>\n",
       "      <td>19</td>\n",
       "      <td>0.152153</td>\n",
       "      <td>7</td>\n",
       "    </tr>\n",
       "    <tr>\n",
       "      <th>1996</th>\n",
       "      <td>96</td>\n",
       "      <td>19</td>\n",
       "      <td>-0.015363</td>\n",
       "      <td>5</td>\n",
       "    </tr>\n",
       "    <tr>\n",
       "      <th>1997</th>\n",
       "      <td>97</td>\n",
       "      <td>19</td>\n",
       "      <td>-2.689983</td>\n",
       "      <td>17</td>\n",
       "    </tr>\n",
       "    <tr>\n",
       "      <th>1998</th>\n",
       "      <td>98</td>\n",
       "      <td>19</td>\n",
       "      <td>0.065995</td>\n",
       "      <td>8</td>\n",
       "    </tr>\n",
       "    <tr>\n",
       "      <th>1999</th>\n",
       "      <td>99</td>\n",
       "      <td>19</td>\n",
       "      <td>-0.291324</td>\n",
       "      <td>6</td>\n",
       "    </tr>\n",
       "  </tbody>\n",
       "</table>\n",
       "<p>2000 rows × 4 columns</p>\n",
       "</div>"
      ],
      "text/plain": [
       "      person choc    rating rank\n",
       "0          0    0  1.468984    5\n",
       "1          1    0  0.534884    5\n",
       "2          2    0  1.869163    3\n",
       "3          3    0  1.623201    3\n",
       "4          4    0  2.028396    5\n",
       "...      ...  ...       ...  ...\n",
       "1995      95   19  0.152153    7\n",
       "1996      96   19 -0.015363    5\n",
       "1997      97   19 -2.689983   17\n",
       "1998      98   19  0.065995    8\n",
       "1999      99   19 -0.291324    6\n",
       "\n",
       "[2000 rows x 4 columns]"
      ]
     },
     "execution_count": 4,
     "metadata": {},
     "output_type": "execute_result"
    }
   ],
   "source": [
    "sim = SimGenerative(n_people=100,\n",
    "                    n_chocs=20,\n",
    "                    seed=321)\n",
    "sim.draw()\n",
    "sim.ratings_rankings_df"
   ]
  },
  {
   "attachments": {},
   "cell_type": "markdown",
   "metadata": {},
   "source": [
    "## Visualising population mean and variation in appeal"
   ]
  },
  {
   "cell_type": "code",
   "execution_count": 5,
   "metadata": {},
   "outputs": [],
   "source": [
    "sim_viz = SimViz(sim)"
   ]
  },
  {
   "attachments": {},
   "cell_type": "markdown",
   "metadata": {},
   "source": [
    "The mean appeal at the population level for chocolates is defined to be normally distributed, so most chocolates have an average appeal somewhere in the middle of the appeal scale, while a few chocolates lie at the extremeties with very low or very high average appeal. The mean and standard deviation assumed for this normal distribution is entirely arbitrary, and serves only to define the size of the appeal space across which people rate chocolates. Moving the centre of this distribution higher or lower, or making its spread wider or narrower, makes no difference to the interpretation of the ratings since the scale of the latent ratings is entirely arbitrary. For this reason, a normal distribution with mean 0 and standard deviation serves well since it is then easy to interpret ratings relative to 0."
   ]
  },
  {
   "cell_type": "code",
   "execution_count": 6,
   "metadata": {},
   "outputs": [
    {
     "data": {
      "application/vnd.plotly.v1+json": {
       "config": {
        "plotlyServerURL": "https://plot.ly"
       },
       "data": [
        {
         "alignmentgroup": "True",
         "bingroup": "x",
         "hovertemplate": "variable=0<br>value=%{x}<br>count=%{y}<extra></extra>",
         "legendgroup": "0",
         "marker": {
          "color": "#1F77B4",
          "pattern": {
           "shape": ""
          }
         },
         "name": "0",
         "offsetgroup": "0",
         "orientation": "v",
         "showlegend": true,
         "type": "histogram",
         "x": [
          0.17251946894025186,
          1.6354825322180961,
          0.03733640275248227,
          -0.8841496854544176,
          -1.1431922557203287,
          -0.6213660399158156,
          -1.3486495825550537,
          -0.8197310347812248,
          -0.13425389957659656,
          1.5996000430435202,
          -0.2836036342121527,
          -0.5063398173190569,
          0.06890842420625559,
          1.4522595049528941,
          -1.6390956071599463,
          -0.3126594412593478,
          -0.8712664274744558,
          -0.4566823963532254,
          -0.12246672397306112,
          -0.45106230697356414
         ],
         "xaxis": "x",
         "yaxis": "y"
        },
        {
         "alignmentgroup": "True",
         "boxpoints": "all",
         "fillcolor": "rgba(255,255,255,0)",
         "hoveron": "points",
         "hovertemplate": "variable=0<br>value=%{x}<extra></extra>",
         "jitter": 0,
         "legendgroup": "0",
         "line": {
          "color": "rgba(255,255,255,0)"
         },
         "marker": {
          "color": "#1F77B4",
          "symbol": "line-ns-open"
         },
         "name": "0",
         "offsetgroup": "0",
         "showlegend": false,
         "type": "box",
         "x": [
          0.17251946894025186,
          1.6354825322180961,
          0.03733640275248227,
          -0.8841496854544176,
          -1.1431922557203287,
          -0.6213660399158156,
          -1.3486495825550537,
          -0.8197310347812248,
          -0.13425389957659656,
          1.5996000430435202,
          -0.2836036342121527,
          -0.5063398173190569,
          0.06890842420625559,
          1.4522595049528941,
          -1.6390956071599463,
          -0.3126594412593478,
          -0.8712664274744558,
          -0.4566823963532254,
          -0.12246672397306112,
          -0.45106230697356414
         ],
         "xaxis": "x2",
         "yaxis": "y2"
        }
       ],
       "layout": {
        "barmode": "relative",
        "height": 600,
        "legend": {
         "title": {
          "text": "variable"
         },
         "tracegroupgap": 0
        },
        "showlegend": false,
        "template": {
         "data": {
          "bar": [
           {
            "error_x": {
             "color": "rgb(36,36,36)"
            },
            "error_y": {
             "color": "rgb(36,36,36)"
            },
            "marker": {
             "line": {
              "color": "white",
              "width": 0.5
             },
             "pattern": {
              "fillmode": "overlay",
              "size": 10,
              "solidity": 0.2
             }
            },
            "type": "bar"
           }
          ],
          "barpolar": [
           {
            "marker": {
             "line": {
              "color": "white",
              "width": 0.5
             },
             "pattern": {
              "fillmode": "overlay",
              "size": 10,
              "solidity": 0.2
             }
            },
            "type": "barpolar"
           }
          ],
          "carpet": [
           {
            "aaxis": {
             "endlinecolor": "rgb(36,36,36)",
             "gridcolor": "white",
             "linecolor": "white",
             "minorgridcolor": "white",
             "startlinecolor": "rgb(36,36,36)"
            },
            "baxis": {
             "endlinecolor": "rgb(36,36,36)",
             "gridcolor": "white",
             "linecolor": "white",
             "minorgridcolor": "white",
             "startlinecolor": "rgb(36,36,36)"
            },
            "type": "carpet"
           }
          ],
          "choropleth": [
           {
            "colorbar": {
             "outlinewidth": 1,
             "tickcolor": "rgb(36,36,36)",
             "ticks": "outside"
            },
            "type": "choropleth"
           }
          ],
          "contour": [
           {
            "colorbar": {
             "outlinewidth": 1,
             "tickcolor": "rgb(36,36,36)",
             "ticks": "outside"
            },
            "colorscale": [
             [
              0,
              "#440154"
             ],
             [
              0.1111111111111111,
              "#482878"
             ],
             [
              0.2222222222222222,
              "#3e4989"
             ],
             [
              0.3333333333333333,
              "#31688e"
             ],
             [
              0.4444444444444444,
              "#26828e"
             ],
             [
              0.5555555555555556,
              "#1f9e89"
             ],
             [
              0.6666666666666666,
              "#35b779"
             ],
             [
              0.7777777777777778,
              "#6ece58"
             ],
             [
              0.8888888888888888,
              "#b5de2b"
             ],
             [
              1,
              "#fde725"
             ]
            ],
            "type": "contour"
           }
          ],
          "contourcarpet": [
           {
            "colorbar": {
             "outlinewidth": 1,
             "tickcolor": "rgb(36,36,36)",
             "ticks": "outside"
            },
            "type": "contourcarpet"
           }
          ],
          "heatmap": [
           {
            "colorbar": {
             "outlinewidth": 1,
             "tickcolor": "rgb(36,36,36)",
             "ticks": "outside"
            },
            "colorscale": [
             [
              0,
              "#440154"
             ],
             [
              0.1111111111111111,
              "#482878"
             ],
             [
              0.2222222222222222,
              "#3e4989"
             ],
             [
              0.3333333333333333,
              "#31688e"
             ],
             [
              0.4444444444444444,
              "#26828e"
             ],
             [
              0.5555555555555556,
              "#1f9e89"
             ],
             [
              0.6666666666666666,
              "#35b779"
             ],
             [
              0.7777777777777778,
              "#6ece58"
             ],
             [
              0.8888888888888888,
              "#b5de2b"
             ],
             [
              1,
              "#fde725"
             ]
            ],
            "type": "heatmap"
           }
          ],
          "heatmapgl": [
           {
            "colorbar": {
             "outlinewidth": 1,
             "tickcolor": "rgb(36,36,36)",
             "ticks": "outside"
            },
            "colorscale": [
             [
              0,
              "#440154"
             ],
             [
              0.1111111111111111,
              "#482878"
             ],
             [
              0.2222222222222222,
              "#3e4989"
             ],
             [
              0.3333333333333333,
              "#31688e"
             ],
             [
              0.4444444444444444,
              "#26828e"
             ],
             [
              0.5555555555555556,
              "#1f9e89"
             ],
             [
              0.6666666666666666,
              "#35b779"
             ],
             [
              0.7777777777777778,
              "#6ece58"
             ],
             [
              0.8888888888888888,
              "#b5de2b"
             ],
             [
              1,
              "#fde725"
             ]
            ],
            "type": "heatmapgl"
           }
          ],
          "histogram": [
           {
            "marker": {
             "line": {
              "color": "white",
              "width": 0.6
             }
            },
            "type": "histogram"
           }
          ],
          "histogram2d": [
           {
            "colorbar": {
             "outlinewidth": 1,
             "tickcolor": "rgb(36,36,36)",
             "ticks": "outside"
            },
            "colorscale": [
             [
              0,
              "#440154"
             ],
             [
              0.1111111111111111,
              "#482878"
             ],
             [
              0.2222222222222222,
              "#3e4989"
             ],
             [
              0.3333333333333333,
              "#31688e"
             ],
             [
              0.4444444444444444,
              "#26828e"
             ],
             [
              0.5555555555555556,
              "#1f9e89"
             ],
             [
              0.6666666666666666,
              "#35b779"
             ],
             [
              0.7777777777777778,
              "#6ece58"
             ],
             [
              0.8888888888888888,
              "#b5de2b"
             ],
             [
              1,
              "#fde725"
             ]
            ],
            "type": "histogram2d"
           }
          ],
          "histogram2dcontour": [
           {
            "colorbar": {
             "outlinewidth": 1,
             "tickcolor": "rgb(36,36,36)",
             "ticks": "outside"
            },
            "colorscale": [
             [
              0,
              "#440154"
             ],
             [
              0.1111111111111111,
              "#482878"
             ],
             [
              0.2222222222222222,
              "#3e4989"
             ],
             [
              0.3333333333333333,
              "#31688e"
             ],
             [
              0.4444444444444444,
              "#26828e"
             ],
             [
              0.5555555555555556,
              "#1f9e89"
             ],
             [
              0.6666666666666666,
              "#35b779"
             ],
             [
              0.7777777777777778,
              "#6ece58"
             ],
             [
              0.8888888888888888,
              "#b5de2b"
             ],
             [
              1,
              "#fde725"
             ]
            ],
            "type": "histogram2dcontour"
           }
          ],
          "mesh3d": [
           {
            "colorbar": {
             "outlinewidth": 1,
             "tickcolor": "rgb(36,36,36)",
             "ticks": "outside"
            },
            "type": "mesh3d"
           }
          ],
          "parcoords": [
           {
            "line": {
             "colorbar": {
              "outlinewidth": 1,
              "tickcolor": "rgb(36,36,36)",
              "ticks": "outside"
             }
            },
            "type": "parcoords"
           }
          ],
          "pie": [
           {
            "automargin": true,
            "type": "pie"
           }
          ],
          "scatter": [
           {
            "fillpattern": {
             "fillmode": "overlay",
             "size": 10,
             "solidity": 0.2
            },
            "type": "scatter"
           }
          ],
          "scatter3d": [
           {
            "line": {
             "colorbar": {
              "outlinewidth": 1,
              "tickcolor": "rgb(36,36,36)",
              "ticks": "outside"
             }
            },
            "marker": {
             "colorbar": {
              "outlinewidth": 1,
              "tickcolor": "rgb(36,36,36)",
              "ticks": "outside"
             }
            },
            "type": "scatter3d"
           }
          ],
          "scattercarpet": [
           {
            "marker": {
             "colorbar": {
              "outlinewidth": 1,
              "tickcolor": "rgb(36,36,36)",
              "ticks": "outside"
             }
            },
            "type": "scattercarpet"
           }
          ],
          "scattergeo": [
           {
            "marker": {
             "colorbar": {
              "outlinewidth": 1,
              "tickcolor": "rgb(36,36,36)",
              "ticks": "outside"
             }
            },
            "type": "scattergeo"
           }
          ],
          "scattergl": [
           {
            "marker": {
             "colorbar": {
              "outlinewidth": 1,
              "tickcolor": "rgb(36,36,36)",
              "ticks": "outside"
             }
            },
            "type": "scattergl"
           }
          ],
          "scattermapbox": [
           {
            "marker": {
             "colorbar": {
              "outlinewidth": 1,
              "tickcolor": "rgb(36,36,36)",
              "ticks": "outside"
             }
            },
            "type": "scattermapbox"
           }
          ],
          "scatterpolar": [
           {
            "marker": {
             "colorbar": {
              "outlinewidth": 1,
              "tickcolor": "rgb(36,36,36)",
              "ticks": "outside"
             }
            },
            "type": "scatterpolar"
           }
          ],
          "scatterpolargl": [
           {
            "marker": {
             "colorbar": {
              "outlinewidth": 1,
              "tickcolor": "rgb(36,36,36)",
              "ticks": "outside"
             }
            },
            "type": "scatterpolargl"
           }
          ],
          "scatterternary": [
           {
            "marker": {
             "colorbar": {
              "outlinewidth": 1,
              "tickcolor": "rgb(36,36,36)",
              "ticks": "outside"
             }
            },
            "type": "scatterternary"
           }
          ],
          "surface": [
           {
            "colorbar": {
             "outlinewidth": 1,
             "tickcolor": "rgb(36,36,36)",
             "ticks": "outside"
            },
            "colorscale": [
             [
              0,
              "#440154"
             ],
             [
              0.1111111111111111,
              "#482878"
             ],
             [
              0.2222222222222222,
              "#3e4989"
             ],
             [
              0.3333333333333333,
              "#31688e"
             ],
             [
              0.4444444444444444,
              "#26828e"
             ],
             [
              0.5555555555555556,
              "#1f9e89"
             ],
             [
              0.6666666666666666,
              "#35b779"
             ],
             [
              0.7777777777777778,
              "#6ece58"
             ],
             [
              0.8888888888888888,
              "#b5de2b"
             ],
             [
              1,
              "#fde725"
             ]
            ],
            "type": "surface"
           }
          ],
          "table": [
           {
            "cells": {
             "fill": {
              "color": "rgb(237,237,237)"
             },
             "line": {
              "color": "white"
             }
            },
            "header": {
             "fill": {
              "color": "rgb(217,217,217)"
             },
             "line": {
              "color": "white"
             }
            },
            "type": "table"
           }
          ]
         },
         "layout": {
          "annotationdefaults": {
           "arrowhead": 0,
           "arrowwidth": 1
          },
          "autotypenumbers": "strict",
          "coloraxis": {
           "colorbar": {
            "outlinewidth": 1,
            "tickcolor": "rgb(36,36,36)",
            "ticks": "outside"
           }
          },
          "colorscale": {
           "diverging": [
            [
             0,
             "rgb(103,0,31)"
            ],
            [
             0.1,
             "rgb(178,24,43)"
            ],
            [
             0.2,
             "rgb(214,96,77)"
            ],
            [
             0.3,
             "rgb(244,165,130)"
            ],
            [
             0.4,
             "rgb(253,219,199)"
            ],
            [
             0.5,
             "rgb(247,247,247)"
            ],
            [
             0.6,
             "rgb(209,229,240)"
            ],
            [
             0.7,
             "rgb(146,197,222)"
            ],
            [
             0.8,
             "rgb(67,147,195)"
            ],
            [
             0.9,
             "rgb(33,102,172)"
            ],
            [
             1,
             "rgb(5,48,97)"
            ]
           ],
           "sequential": [
            [
             0,
             "#440154"
            ],
            [
             0.1111111111111111,
             "#482878"
            ],
            [
             0.2222222222222222,
             "#3e4989"
            ],
            [
             0.3333333333333333,
             "#31688e"
            ],
            [
             0.4444444444444444,
             "#26828e"
            ],
            [
             0.5555555555555556,
             "#1f9e89"
            ],
            [
             0.6666666666666666,
             "#35b779"
            ],
            [
             0.7777777777777778,
             "#6ece58"
            ],
            [
             0.8888888888888888,
             "#b5de2b"
            ],
            [
             1,
             "#fde725"
            ]
           ],
           "sequentialminus": [
            [
             0,
             "#440154"
            ],
            [
             0.1111111111111111,
             "#482878"
            ],
            [
             0.2222222222222222,
             "#3e4989"
            ],
            [
             0.3333333333333333,
             "#31688e"
            ],
            [
             0.4444444444444444,
             "#26828e"
            ],
            [
             0.5555555555555556,
             "#1f9e89"
            ],
            [
             0.6666666666666666,
             "#35b779"
            ],
            [
             0.7777777777777778,
             "#6ece58"
            ],
            [
             0.8888888888888888,
             "#b5de2b"
            ],
            [
             1,
             "#fde725"
            ]
           ]
          },
          "colorway": [
           "#1F77B4",
           "#FF7F0E",
           "#2CA02C",
           "#D62728",
           "#9467BD",
           "#8C564B",
           "#E377C2",
           "#7F7F7F",
           "#BCBD22",
           "#17BECF"
          ],
          "font": {
           "color": "rgb(36,36,36)"
          },
          "geo": {
           "bgcolor": "white",
           "lakecolor": "white",
           "landcolor": "white",
           "showlakes": true,
           "showland": true,
           "subunitcolor": "white"
          },
          "hoverlabel": {
           "align": "left"
          },
          "hovermode": "closest",
          "mapbox": {
           "style": "light"
          },
          "paper_bgcolor": "white",
          "plot_bgcolor": "white",
          "polar": {
           "angularaxis": {
            "gridcolor": "rgb(232,232,232)",
            "linecolor": "rgb(36,36,36)",
            "showgrid": false,
            "showline": true,
            "ticks": "outside"
           },
           "bgcolor": "white",
           "radialaxis": {
            "gridcolor": "rgb(232,232,232)",
            "linecolor": "rgb(36,36,36)",
            "showgrid": false,
            "showline": true,
            "ticks": "outside"
           }
          },
          "scene": {
           "xaxis": {
            "backgroundcolor": "white",
            "gridcolor": "rgb(232,232,232)",
            "gridwidth": 2,
            "linecolor": "rgb(36,36,36)",
            "showbackground": true,
            "showgrid": false,
            "showline": true,
            "ticks": "outside",
            "zeroline": false,
            "zerolinecolor": "rgb(36,36,36)"
           },
           "yaxis": {
            "backgroundcolor": "white",
            "gridcolor": "rgb(232,232,232)",
            "gridwidth": 2,
            "linecolor": "rgb(36,36,36)",
            "showbackground": true,
            "showgrid": false,
            "showline": true,
            "ticks": "outside",
            "zeroline": false,
            "zerolinecolor": "rgb(36,36,36)"
           },
           "zaxis": {
            "backgroundcolor": "white",
            "gridcolor": "rgb(232,232,232)",
            "gridwidth": 2,
            "linecolor": "rgb(36,36,36)",
            "showbackground": true,
            "showgrid": false,
            "showline": true,
            "ticks": "outside",
            "zeroline": false,
            "zerolinecolor": "rgb(36,36,36)"
           }
          },
          "shapedefaults": {
           "fillcolor": "black",
           "line": {
            "width": 0
           },
           "opacity": 0.3
          },
          "ternary": {
           "aaxis": {
            "gridcolor": "rgb(232,232,232)",
            "linecolor": "rgb(36,36,36)",
            "showgrid": false,
            "showline": true,
            "ticks": "outside"
           },
           "baxis": {
            "gridcolor": "rgb(232,232,232)",
            "linecolor": "rgb(36,36,36)",
            "showgrid": false,
            "showline": true,
            "ticks": "outside"
           },
           "bgcolor": "white",
           "caxis": {
            "gridcolor": "rgb(232,232,232)",
            "linecolor": "rgb(36,36,36)",
            "showgrid": false,
            "showline": true,
            "ticks": "outside"
           }
          },
          "title": {
           "x": 0.05
          },
          "xaxis": {
           "automargin": true,
           "gridcolor": "rgb(232,232,232)",
           "linecolor": "rgb(36,36,36)",
           "showgrid": false,
           "showline": true,
           "ticks": "outside",
           "title": {
            "standoff": 15
           },
           "zeroline": false,
           "zerolinecolor": "rgb(36,36,36)"
          },
          "yaxis": {
           "automargin": true,
           "gridcolor": "rgb(232,232,232)",
           "linecolor": "rgb(36,36,36)",
           "showgrid": false,
           "showline": true,
           "ticks": "outside",
           "title": {
            "standoff": 15
           },
           "zeroline": false,
           "zerolinecolor": "rgb(36,36,36)"
          }
         }
        },
        "title": {
         "text": "Population mean preferences for chocolates"
        },
        "width": 1000,
        "xaxis": {
         "anchor": "y",
         "domain": [
          0,
          1
         ],
         "title": {
          "text": "choc_mus"
         }
        },
        "xaxis2": {
         "anchor": "y2",
         "domain": [
          0,
          1
         ],
         "matches": "x",
         "showticklabels": false
        },
        "yaxis": {
         "anchor": "x",
         "domain": [
          0,
          0.7326
         ],
         "title": {
          "text": "count"
         }
        },
        "yaxis2": {
         "anchor": "x2",
         "domain": [
          0.7426,
          1
         ],
         "matches": "y2",
         "showline": false,
         "showticklabels": false,
         "ticks": ""
        }
       }
      }
     },
     "metadata": {},
     "output_type": "display_data"
    }
   ],
   "source": [
    "sim_viz.plot_var('choc_mus',\n",
    "                 marginal='rug',\n",
    "                 title='Population mean preferences for chocolates')"
   ]
  },
  {
   "attachments": {},
   "cell_type": "markdown",
   "metadata": {},
   "source": [
    "The other population level aspect of the generative model is the standard deviation in appeal for each chocolate. This describes how much variation there is in individual people's ratings of the appeal of a given chcolate. These standard deviations differ because some chocolates are assumed to have similar ratings across people, whereas others are assumed tobe more divisive causing a wider spread in appeal ratings across people.\n",
    "\n",
    "The population level standard deviation in ratings was defined to be gamma distributed, allowing for a range of possible values, but ensuring that all values are positive. The mean of the gamma distribution is α/β, where α and β are its shape and scale parameters respectively. Numpy defines the scale parameter as 1/β, so by choosing shape and scale 5 and 0.1, the mean of the population standard deviations in appeal is set to 0.5. More information and interactive visualiastions of the gamma distribution can be found at https://distribution-explorer.github.io/continuous/gamma.html\n",
    "\n",
    "Unlike the situation above where the centre and spread of the population mean appeals per chocolate was explained as arbitrary, the scale of population standard deviations in appeal is now relative to the population mean appeal levels. So, since the population mean appeals were assumed to have standard devition 1, choosing a gamma distribution with mean 0.5 for the population level standard deviations in appeal means that the individual effects on ratings are on average assumed to be about half the size of the population level effects. So, if a chocolate has a population mean rating of -1, few participants will rate that chocolate above 0 if it has a population level standard deviation of 0.5, since that would be two standard deviations above the mean. The possibility remains open, however, for that chocolate to have a higher standard deviation in appeal ratings drawn from the gamma distribition, so it's possible for individual level effects to outweight population level effects in some cases.\n",
    "\n",
    "Here we can see most chocolates have a standard deviaition in appeal in the region of 0.5, but some do have standard deviations greater than 1 or less than 0.2."
   ]
  },
  {
   "cell_type": "code",
   "execution_count": 7,
   "metadata": {},
   "outputs": [
    {
     "data": {
      "application/vnd.plotly.v1+json": {
       "config": {
        "plotlyServerURL": "https://plot.ly"
       },
       "data": [
        {
         "alignmentgroup": "True",
         "bingroup": "x",
         "hovertemplate": "variable=0<br>value=%{x}<br>count=%{y}<extra></extra>",
         "legendgroup": "0",
         "marker": {
          "color": "#1F77B4",
          "pattern": {
           "shape": ""
          }
         },
         "name": "0",
         "offsetgroup": "0",
         "orientation": "v",
         "showlegend": true,
         "type": "histogram",
         "x": [
          1.341207906966994,
          1.1495993380520808,
          3.329079370525233,
          2.3133439288986613,
          1.4987517835681465,
          2.807569472326404,
          1.388008104915289,
          1.9838562260166763,
          4.129444942194405,
          2.0221993664449487,
          2.7492134244303372,
          3.634179855028416,
          3.276710501418436,
          2.198177676606609,
          1.9636451010171214,
          2.5708951956832813,
          2.555503063393586,
          2.0926794112357774,
          3.6822524000495997,
          1.035527511269095
         ],
         "xaxis": "x",
         "yaxis": "y"
        },
        {
         "alignmentgroup": "True",
         "boxpoints": "all",
         "fillcolor": "rgba(255,255,255,0)",
         "hoveron": "points",
         "hovertemplate": "variable=0<br>value=%{x}<extra></extra>",
         "jitter": 0,
         "legendgroup": "0",
         "line": {
          "color": "rgba(255,255,255,0)"
         },
         "marker": {
          "color": "#1F77B4",
          "symbol": "line-ns-open"
         },
         "name": "0",
         "offsetgroup": "0",
         "showlegend": false,
         "type": "box",
         "x": [
          1.341207906966994,
          1.1495993380520808,
          3.329079370525233,
          2.3133439288986613,
          1.4987517835681465,
          2.807569472326404,
          1.388008104915289,
          1.9838562260166763,
          4.129444942194405,
          2.0221993664449487,
          2.7492134244303372,
          3.634179855028416,
          3.276710501418436,
          2.198177676606609,
          1.9636451010171214,
          2.5708951956832813,
          2.555503063393586,
          2.0926794112357774,
          3.6822524000495997,
          1.035527511269095
         ],
         "xaxis": "x2",
         "yaxis": "y2"
        }
       ],
       "layout": {
        "barmode": "relative",
        "height": 600,
        "legend": {
         "title": {
          "text": "variable"
         },
         "tracegroupgap": 0
        },
        "showlegend": false,
        "template": {
         "data": {
          "bar": [
           {
            "error_x": {
             "color": "rgb(36,36,36)"
            },
            "error_y": {
             "color": "rgb(36,36,36)"
            },
            "marker": {
             "line": {
              "color": "white",
              "width": 0.5
             },
             "pattern": {
              "fillmode": "overlay",
              "size": 10,
              "solidity": 0.2
             }
            },
            "type": "bar"
           }
          ],
          "barpolar": [
           {
            "marker": {
             "line": {
              "color": "white",
              "width": 0.5
             },
             "pattern": {
              "fillmode": "overlay",
              "size": 10,
              "solidity": 0.2
             }
            },
            "type": "barpolar"
           }
          ],
          "carpet": [
           {
            "aaxis": {
             "endlinecolor": "rgb(36,36,36)",
             "gridcolor": "white",
             "linecolor": "white",
             "minorgridcolor": "white",
             "startlinecolor": "rgb(36,36,36)"
            },
            "baxis": {
             "endlinecolor": "rgb(36,36,36)",
             "gridcolor": "white",
             "linecolor": "white",
             "minorgridcolor": "white",
             "startlinecolor": "rgb(36,36,36)"
            },
            "type": "carpet"
           }
          ],
          "choropleth": [
           {
            "colorbar": {
             "outlinewidth": 1,
             "tickcolor": "rgb(36,36,36)",
             "ticks": "outside"
            },
            "type": "choropleth"
           }
          ],
          "contour": [
           {
            "colorbar": {
             "outlinewidth": 1,
             "tickcolor": "rgb(36,36,36)",
             "ticks": "outside"
            },
            "colorscale": [
             [
              0,
              "#440154"
             ],
             [
              0.1111111111111111,
              "#482878"
             ],
             [
              0.2222222222222222,
              "#3e4989"
             ],
             [
              0.3333333333333333,
              "#31688e"
             ],
             [
              0.4444444444444444,
              "#26828e"
             ],
             [
              0.5555555555555556,
              "#1f9e89"
             ],
             [
              0.6666666666666666,
              "#35b779"
             ],
             [
              0.7777777777777778,
              "#6ece58"
             ],
             [
              0.8888888888888888,
              "#b5de2b"
             ],
             [
              1,
              "#fde725"
             ]
            ],
            "type": "contour"
           }
          ],
          "contourcarpet": [
           {
            "colorbar": {
             "outlinewidth": 1,
             "tickcolor": "rgb(36,36,36)",
             "ticks": "outside"
            },
            "type": "contourcarpet"
           }
          ],
          "heatmap": [
           {
            "colorbar": {
             "outlinewidth": 1,
             "tickcolor": "rgb(36,36,36)",
             "ticks": "outside"
            },
            "colorscale": [
             [
              0,
              "#440154"
             ],
             [
              0.1111111111111111,
              "#482878"
             ],
             [
              0.2222222222222222,
              "#3e4989"
             ],
             [
              0.3333333333333333,
              "#31688e"
             ],
             [
              0.4444444444444444,
              "#26828e"
             ],
             [
              0.5555555555555556,
              "#1f9e89"
             ],
             [
              0.6666666666666666,
              "#35b779"
             ],
             [
              0.7777777777777778,
              "#6ece58"
             ],
             [
              0.8888888888888888,
              "#b5de2b"
             ],
             [
              1,
              "#fde725"
             ]
            ],
            "type": "heatmap"
           }
          ],
          "heatmapgl": [
           {
            "colorbar": {
             "outlinewidth": 1,
             "tickcolor": "rgb(36,36,36)",
             "ticks": "outside"
            },
            "colorscale": [
             [
              0,
              "#440154"
             ],
             [
              0.1111111111111111,
              "#482878"
             ],
             [
              0.2222222222222222,
              "#3e4989"
             ],
             [
              0.3333333333333333,
              "#31688e"
             ],
             [
              0.4444444444444444,
              "#26828e"
             ],
             [
              0.5555555555555556,
              "#1f9e89"
             ],
             [
              0.6666666666666666,
              "#35b779"
             ],
             [
              0.7777777777777778,
              "#6ece58"
             ],
             [
              0.8888888888888888,
              "#b5de2b"
             ],
             [
              1,
              "#fde725"
             ]
            ],
            "type": "heatmapgl"
           }
          ],
          "histogram": [
           {
            "marker": {
             "line": {
              "color": "white",
              "width": 0.6
             }
            },
            "type": "histogram"
           }
          ],
          "histogram2d": [
           {
            "colorbar": {
             "outlinewidth": 1,
             "tickcolor": "rgb(36,36,36)",
             "ticks": "outside"
            },
            "colorscale": [
             [
              0,
              "#440154"
             ],
             [
              0.1111111111111111,
              "#482878"
             ],
             [
              0.2222222222222222,
              "#3e4989"
             ],
             [
              0.3333333333333333,
              "#31688e"
             ],
             [
              0.4444444444444444,
              "#26828e"
             ],
             [
              0.5555555555555556,
              "#1f9e89"
             ],
             [
              0.6666666666666666,
              "#35b779"
             ],
             [
              0.7777777777777778,
              "#6ece58"
             ],
             [
              0.8888888888888888,
              "#b5de2b"
             ],
             [
              1,
              "#fde725"
             ]
            ],
            "type": "histogram2d"
           }
          ],
          "histogram2dcontour": [
           {
            "colorbar": {
             "outlinewidth": 1,
             "tickcolor": "rgb(36,36,36)",
             "ticks": "outside"
            },
            "colorscale": [
             [
              0,
              "#440154"
             ],
             [
              0.1111111111111111,
              "#482878"
             ],
             [
              0.2222222222222222,
              "#3e4989"
             ],
             [
              0.3333333333333333,
              "#31688e"
             ],
             [
              0.4444444444444444,
              "#26828e"
             ],
             [
              0.5555555555555556,
              "#1f9e89"
             ],
             [
              0.6666666666666666,
              "#35b779"
             ],
             [
              0.7777777777777778,
              "#6ece58"
             ],
             [
              0.8888888888888888,
              "#b5de2b"
             ],
             [
              1,
              "#fde725"
             ]
            ],
            "type": "histogram2dcontour"
           }
          ],
          "mesh3d": [
           {
            "colorbar": {
             "outlinewidth": 1,
             "tickcolor": "rgb(36,36,36)",
             "ticks": "outside"
            },
            "type": "mesh3d"
           }
          ],
          "parcoords": [
           {
            "line": {
             "colorbar": {
              "outlinewidth": 1,
              "tickcolor": "rgb(36,36,36)",
              "ticks": "outside"
             }
            },
            "type": "parcoords"
           }
          ],
          "pie": [
           {
            "automargin": true,
            "type": "pie"
           }
          ],
          "scatter": [
           {
            "fillpattern": {
             "fillmode": "overlay",
             "size": 10,
             "solidity": 0.2
            },
            "type": "scatter"
           }
          ],
          "scatter3d": [
           {
            "line": {
             "colorbar": {
              "outlinewidth": 1,
              "tickcolor": "rgb(36,36,36)",
              "ticks": "outside"
             }
            },
            "marker": {
             "colorbar": {
              "outlinewidth": 1,
              "tickcolor": "rgb(36,36,36)",
              "ticks": "outside"
             }
            },
            "type": "scatter3d"
           }
          ],
          "scattercarpet": [
           {
            "marker": {
             "colorbar": {
              "outlinewidth": 1,
              "tickcolor": "rgb(36,36,36)",
              "ticks": "outside"
             }
            },
            "type": "scattercarpet"
           }
          ],
          "scattergeo": [
           {
            "marker": {
             "colorbar": {
              "outlinewidth": 1,
              "tickcolor": "rgb(36,36,36)",
              "ticks": "outside"
             }
            },
            "type": "scattergeo"
           }
          ],
          "scattergl": [
           {
            "marker": {
             "colorbar": {
              "outlinewidth": 1,
              "tickcolor": "rgb(36,36,36)",
              "ticks": "outside"
             }
            },
            "type": "scattergl"
           }
          ],
          "scattermapbox": [
           {
            "marker": {
             "colorbar": {
              "outlinewidth": 1,
              "tickcolor": "rgb(36,36,36)",
              "ticks": "outside"
             }
            },
            "type": "scattermapbox"
           }
          ],
          "scatterpolar": [
           {
            "marker": {
             "colorbar": {
              "outlinewidth": 1,
              "tickcolor": "rgb(36,36,36)",
              "ticks": "outside"
             }
            },
            "type": "scatterpolar"
           }
          ],
          "scatterpolargl": [
           {
            "marker": {
             "colorbar": {
              "outlinewidth": 1,
              "tickcolor": "rgb(36,36,36)",
              "ticks": "outside"
             }
            },
            "type": "scatterpolargl"
           }
          ],
          "scatterternary": [
           {
            "marker": {
             "colorbar": {
              "outlinewidth": 1,
              "tickcolor": "rgb(36,36,36)",
              "ticks": "outside"
             }
            },
            "type": "scatterternary"
           }
          ],
          "surface": [
           {
            "colorbar": {
             "outlinewidth": 1,
             "tickcolor": "rgb(36,36,36)",
             "ticks": "outside"
            },
            "colorscale": [
             [
              0,
              "#440154"
             ],
             [
              0.1111111111111111,
              "#482878"
             ],
             [
              0.2222222222222222,
              "#3e4989"
             ],
             [
              0.3333333333333333,
              "#31688e"
             ],
             [
              0.4444444444444444,
              "#26828e"
             ],
             [
              0.5555555555555556,
              "#1f9e89"
             ],
             [
              0.6666666666666666,
              "#35b779"
             ],
             [
              0.7777777777777778,
              "#6ece58"
             ],
             [
              0.8888888888888888,
              "#b5de2b"
             ],
             [
              1,
              "#fde725"
             ]
            ],
            "type": "surface"
           }
          ],
          "table": [
           {
            "cells": {
             "fill": {
              "color": "rgb(237,237,237)"
             },
             "line": {
              "color": "white"
             }
            },
            "header": {
             "fill": {
              "color": "rgb(217,217,217)"
             },
             "line": {
              "color": "white"
             }
            },
            "type": "table"
           }
          ]
         },
         "layout": {
          "annotationdefaults": {
           "arrowhead": 0,
           "arrowwidth": 1
          },
          "autotypenumbers": "strict",
          "coloraxis": {
           "colorbar": {
            "outlinewidth": 1,
            "tickcolor": "rgb(36,36,36)",
            "ticks": "outside"
           }
          },
          "colorscale": {
           "diverging": [
            [
             0,
             "rgb(103,0,31)"
            ],
            [
             0.1,
             "rgb(178,24,43)"
            ],
            [
             0.2,
             "rgb(214,96,77)"
            ],
            [
             0.3,
             "rgb(244,165,130)"
            ],
            [
             0.4,
             "rgb(253,219,199)"
            ],
            [
             0.5,
             "rgb(247,247,247)"
            ],
            [
             0.6,
             "rgb(209,229,240)"
            ],
            [
             0.7,
             "rgb(146,197,222)"
            ],
            [
             0.8,
             "rgb(67,147,195)"
            ],
            [
             0.9,
             "rgb(33,102,172)"
            ],
            [
             1,
             "rgb(5,48,97)"
            ]
           ],
           "sequential": [
            [
             0,
             "#440154"
            ],
            [
             0.1111111111111111,
             "#482878"
            ],
            [
             0.2222222222222222,
             "#3e4989"
            ],
            [
             0.3333333333333333,
             "#31688e"
            ],
            [
             0.4444444444444444,
             "#26828e"
            ],
            [
             0.5555555555555556,
             "#1f9e89"
            ],
            [
             0.6666666666666666,
             "#35b779"
            ],
            [
             0.7777777777777778,
             "#6ece58"
            ],
            [
             0.8888888888888888,
             "#b5de2b"
            ],
            [
             1,
             "#fde725"
            ]
           ],
           "sequentialminus": [
            [
             0,
             "#440154"
            ],
            [
             0.1111111111111111,
             "#482878"
            ],
            [
             0.2222222222222222,
             "#3e4989"
            ],
            [
             0.3333333333333333,
             "#31688e"
            ],
            [
             0.4444444444444444,
             "#26828e"
            ],
            [
             0.5555555555555556,
             "#1f9e89"
            ],
            [
             0.6666666666666666,
             "#35b779"
            ],
            [
             0.7777777777777778,
             "#6ece58"
            ],
            [
             0.8888888888888888,
             "#b5de2b"
            ],
            [
             1,
             "#fde725"
            ]
           ]
          },
          "colorway": [
           "#1F77B4",
           "#FF7F0E",
           "#2CA02C",
           "#D62728",
           "#9467BD",
           "#8C564B",
           "#E377C2",
           "#7F7F7F",
           "#BCBD22",
           "#17BECF"
          ],
          "font": {
           "color": "rgb(36,36,36)"
          },
          "geo": {
           "bgcolor": "white",
           "lakecolor": "white",
           "landcolor": "white",
           "showlakes": true,
           "showland": true,
           "subunitcolor": "white"
          },
          "hoverlabel": {
           "align": "left"
          },
          "hovermode": "closest",
          "mapbox": {
           "style": "light"
          },
          "paper_bgcolor": "white",
          "plot_bgcolor": "white",
          "polar": {
           "angularaxis": {
            "gridcolor": "rgb(232,232,232)",
            "linecolor": "rgb(36,36,36)",
            "showgrid": false,
            "showline": true,
            "ticks": "outside"
           },
           "bgcolor": "white",
           "radialaxis": {
            "gridcolor": "rgb(232,232,232)",
            "linecolor": "rgb(36,36,36)",
            "showgrid": false,
            "showline": true,
            "ticks": "outside"
           }
          },
          "scene": {
           "xaxis": {
            "backgroundcolor": "white",
            "gridcolor": "rgb(232,232,232)",
            "gridwidth": 2,
            "linecolor": "rgb(36,36,36)",
            "showbackground": true,
            "showgrid": false,
            "showline": true,
            "ticks": "outside",
            "zeroline": false,
            "zerolinecolor": "rgb(36,36,36)"
           },
           "yaxis": {
            "backgroundcolor": "white",
            "gridcolor": "rgb(232,232,232)",
            "gridwidth": 2,
            "linecolor": "rgb(36,36,36)",
            "showbackground": true,
            "showgrid": false,
            "showline": true,
            "ticks": "outside",
            "zeroline": false,
            "zerolinecolor": "rgb(36,36,36)"
           },
           "zaxis": {
            "backgroundcolor": "white",
            "gridcolor": "rgb(232,232,232)",
            "gridwidth": 2,
            "linecolor": "rgb(36,36,36)",
            "showbackground": true,
            "showgrid": false,
            "showline": true,
            "ticks": "outside",
            "zeroline": false,
            "zerolinecolor": "rgb(36,36,36)"
           }
          },
          "shapedefaults": {
           "fillcolor": "black",
           "line": {
            "width": 0
           },
           "opacity": 0.3
          },
          "ternary": {
           "aaxis": {
            "gridcolor": "rgb(232,232,232)",
            "linecolor": "rgb(36,36,36)",
            "showgrid": false,
            "showline": true,
            "ticks": "outside"
           },
           "baxis": {
            "gridcolor": "rgb(232,232,232)",
            "linecolor": "rgb(36,36,36)",
            "showgrid": false,
            "showline": true,
            "ticks": "outside"
           },
           "bgcolor": "white",
           "caxis": {
            "gridcolor": "rgb(232,232,232)",
            "linecolor": "rgb(36,36,36)",
            "showgrid": false,
            "showline": true,
            "ticks": "outside"
           }
          },
          "title": {
           "x": 0.05
          },
          "xaxis": {
           "automargin": true,
           "gridcolor": "rgb(232,232,232)",
           "linecolor": "rgb(36,36,36)",
           "showgrid": false,
           "showline": true,
           "ticks": "outside",
           "title": {
            "standoff": 15
           },
           "zeroline": false,
           "zerolinecolor": "rgb(36,36,36)"
          },
          "yaxis": {
           "automargin": true,
           "gridcolor": "rgb(232,232,232)",
           "linecolor": "rgb(36,36,36)",
           "showgrid": false,
           "showline": true,
           "ticks": "outside",
           "title": {
            "standoff": 15
           },
           "zeroline": false,
           "zerolinecolor": "rgb(36,36,36)"
          }
         }
        },
        "title": {
         "text": "Population standard deviations in preferences for chocolates"
        },
        "width": 1000,
        "xaxis": {
         "anchor": "y",
         "domain": [
          0,
          1
         ],
         "title": {
          "text": "choc_sigmas"
         }
        },
        "xaxis2": {
         "anchor": "y2",
         "domain": [
          0,
          1
         ],
         "matches": "x",
         "showticklabels": false
        },
        "yaxis": {
         "anchor": "x",
         "domain": [
          0,
          0.7326
         ],
         "title": {
          "text": "count"
         }
        },
        "yaxis2": {
         "anchor": "x2",
         "domain": [
          0.7426,
          1
         ],
         "matches": "y2",
         "showline": false,
         "showticklabels": false,
         "ticks": ""
        }
       }
      }
     },
     "metadata": {},
     "output_type": "display_data"
    }
   ],
   "source": [
    "sim_viz.plot_var('choc_sigmas',\n",
    "                 marginal='rug',\n",
    "                 title='Population standard deviations in preferences for chocolates')"
   ]
  },
  {
   "attachments": {},
   "cell_type": "markdown",
   "metadata": {},
   "source": [
    "## Visualising individual ratings\n",
    "\n",
    "Individuals' ratings of chocolates are defined to be normally distributed, with the means and standard deviations of those normal distributions being the results of the population effects described above. So, each chocolate has a population level mean and standard deviation in appeal, and then the individual people have appeal ratings for each chocolate drawn from the normal distributions defined by those parameters.\n",
    "\n",
    "Here we can see the total spread of all rating values given by people for all chocolates, as well as colour coding to show which chocolates fell into which areas on the appeal scale.\n",
    "\n",
    "Due to the compounding effect of the individual variation on top of the population level variation in appeal, the range of values on the appeal scale is wider at the individual level than it was at the population level, with some ratings below -4 or above 4. The ratings remain constrained however to a range of values in a region of the scale, since the assumptions in each level of the generative model limit how wide the ratings can be."
   ]
  },
  {
   "cell_type": "code",
   "execution_count": 8,
   "metadata": {},
   "outputs": [
    {
     "data": {
      "application/vnd.plotly.v1+json": {
       "config": {
        "plotlyServerURL": "https://plot.ly"
       },
       "data": [
        {
         "alignmentgroup": "True",
         "bingroup": "x",
         "hovertemplate": "choc=0<br>rating=%{x}<br>count=%{y}<extra></extra>",
         "legendgroup": "0",
         "marker": {
          "color": "#1F77B4",
          "pattern": {
           "shape": ""
          }
         },
         "name": "0",
         "offsetgroup": "0",
         "orientation": "v",
         "showlegend": true,
         "type": "histogram",
         "x": [
          1.4689835148195491,
          0.5348835638618483,
          1.8691633017089864,
          1.6232009853604836,
          2.0283961282163463,
          -1.2763181615978694,
          0.765194120997987,
          1.47548564946119,
          1.8656575532243111,
          -1.2795197670025116,
          1.1864158075702378,
          -0.21661524927719591,
          0.293910704291891,
          -0.08085531592287645,
          -0.7443707207481567,
          1.3650775689951609,
          -0.3847281605322338,
          3.1098202485274675,
          0.4542870980020123,
          0.04616285098961484,
          -0.3501079971244243,
          -1.479590813637696,
          -2.0580185173699577,
          3.5719975280572864,
          -1.9202114426935633,
          0.5053240638240756,
          1.818427206880668,
          -0.9884166933330651,
          -1.2123969754004036,
          -1.8730783799172972,
          1.4512331567653807,
          0.5698300770915808,
          0.2469110693626364,
          0.3349176628378152,
          1.973131283575021,
          1.4771710835389804,
          1.3112896473184412,
          -1.6279563651315099,
          2.1127321234911864,
          1.426660406512536,
          -0.90805024237067,
          1.6084393512010637,
          0.4111555827198359,
          0.43819160947807134,
          -1.0686669918266978,
          0.014469056703918876,
          1.217809603731065,
          1.8451586251904817,
          -0.18998350267262645,
          1.0261316659459432,
          0.6706377995325263,
          1.1865615544331767,
          -0.37418465950129565,
          0.08462784316942094,
          3.093956960136256,
          3.25377458778641,
          3.121907979887862,
          2.7137965349428113,
          -1.4272469991822474,
          0.7281832350816593,
          -0.21219853048304746,
          -0.20026306037034933,
          0.213295151242801,
          1.4626751249613867,
          0.7944820040007275,
          0.12842434899533828,
          3.2325115672299907,
          -1.7152211215713236,
          1.049948391963391,
          -1.8726977760065924,
          -1.946678120786495,
          -2.026362353452493,
          0.04513834431035546,
          2.5822084201162006,
          0.49764753941916706,
          -0.4816422119993994,
          0.6876425438560068,
          0.6286441386184863,
          -1.573125719819081,
          -0.35446672241670873,
          -0.6621375522051847,
          1.5464042262407334,
          -2.047599309224756,
          0.5457030525355397,
          1.1445014036808292,
          -0.10105437963988137,
          0.3865005654340061,
          -0.672853934977648,
          -0.5112326979876296,
          0.47387916263762475,
          -1.8628060805753353,
          -0.22460793302428686,
          0.9689060861475078,
          -0.45103531722443013,
          2.2433036244089215,
          0.17739834488479353,
          0.5756831964545313,
          0.5558569840335076,
          -2.6706113175228587,
          -0.6743061272559338
         ],
         "xaxis": "x",
         "yaxis": "y"
        },
        {
         "alignmentgroup": "True",
         "boxpoints": "all",
         "fillcolor": "rgba(255,255,255,0)",
         "hoveron": "points",
         "hovertemplate": "choc=0<br>rating=%{x}<extra></extra>",
         "jitter": 0,
         "legendgroup": "0",
         "line": {
          "color": "rgba(255,255,255,0)"
         },
         "marker": {
          "color": "#1F77B4",
          "symbol": "line-ns-open"
         },
         "name": "0",
         "offsetgroup": "0",
         "showlegend": false,
         "type": "box",
         "x": [
          1.4689835148195491,
          0.5348835638618483,
          1.8691633017089864,
          1.6232009853604836,
          2.0283961282163463,
          -1.2763181615978694,
          0.765194120997987,
          1.47548564946119,
          1.8656575532243111,
          -1.2795197670025116,
          1.1864158075702378,
          -0.21661524927719591,
          0.293910704291891,
          -0.08085531592287645,
          -0.7443707207481567,
          1.3650775689951609,
          -0.3847281605322338,
          3.1098202485274675,
          0.4542870980020123,
          0.04616285098961484,
          -0.3501079971244243,
          -1.479590813637696,
          -2.0580185173699577,
          3.5719975280572864,
          -1.9202114426935633,
          0.5053240638240756,
          1.818427206880668,
          -0.9884166933330651,
          -1.2123969754004036,
          -1.8730783799172972,
          1.4512331567653807,
          0.5698300770915808,
          0.2469110693626364,
          0.3349176628378152,
          1.973131283575021,
          1.4771710835389804,
          1.3112896473184412,
          -1.6279563651315099,
          2.1127321234911864,
          1.426660406512536,
          -0.90805024237067,
          1.6084393512010637,
          0.4111555827198359,
          0.43819160947807134,
          -1.0686669918266978,
          0.014469056703918876,
          1.217809603731065,
          1.8451586251904817,
          -0.18998350267262645,
          1.0261316659459432,
          0.6706377995325263,
          1.1865615544331767,
          -0.37418465950129565,
          0.08462784316942094,
          3.093956960136256,
          3.25377458778641,
          3.121907979887862,
          2.7137965349428113,
          -1.4272469991822474,
          0.7281832350816593,
          -0.21219853048304746,
          -0.20026306037034933,
          0.213295151242801,
          1.4626751249613867,
          0.7944820040007275,
          0.12842434899533828,
          3.2325115672299907,
          -1.7152211215713236,
          1.049948391963391,
          -1.8726977760065924,
          -1.946678120786495,
          -2.026362353452493,
          0.04513834431035546,
          2.5822084201162006,
          0.49764753941916706,
          -0.4816422119993994,
          0.6876425438560068,
          0.6286441386184863,
          -1.573125719819081,
          -0.35446672241670873,
          -0.6621375522051847,
          1.5464042262407334,
          -2.047599309224756,
          0.5457030525355397,
          1.1445014036808292,
          -0.10105437963988137,
          0.3865005654340061,
          -0.672853934977648,
          -0.5112326979876296,
          0.47387916263762475,
          -1.8628060805753353,
          -0.22460793302428686,
          0.9689060861475078,
          -0.45103531722443013,
          2.2433036244089215,
          0.17739834488479353,
          0.5756831964545313,
          0.5558569840335076,
          -2.6706113175228587,
          -0.6743061272559338
         ],
         "xaxis": "x2",
         "yaxis": "y2"
        },
        {
         "alignmentgroup": "True",
         "bingroup": "x",
         "hovertemplate": "choc=1<br>rating=%{x}<br>count=%{y}<extra></extra>",
         "legendgroup": "1",
         "marker": {
          "color": "#FF7F0E",
          "pattern": {
           "shape": ""
          }
         },
         "name": "1",
         "offsetgroup": "1",
         "orientation": "v",
         "showlegend": true,
         "type": "histogram",
         "x": [
          2.120556172479061,
          1.4942322653108255,
          1.6439654478006345,
          1.896866085437967,
          2.0566091726834235,
          3.140577073873791,
          1.06881067076721,
          0.6096380821553848,
          2.3641480422642247,
          2.0414863249396844,
          -0.3087945012002422,
          1.4436286652467678,
          0.8884731250225563,
          2.063092649169181,
          1.421493753870513,
          1.7497012751072067,
          2.2014151356212386,
          2.5973299659717024,
          0.47087984524179527,
          1.1436220147490725,
          1.035965003374139,
          2.971403187642411,
          3.101705861758158,
          3.7663695267948087,
          -0.22184590149231354,
          2.629522393899925,
          1.1938770492787272,
          2.3743319841274135,
          1.3585536869434511,
          0.9456836514443896,
          0.7940486781967856,
          3.9265212720574,
          2.2908773532107354,
          1.5369187087984952,
          1.6959328903081388,
          2.2618819311067595,
          2.4301981617523927,
          1.5876201246958221,
          3.1808250605377153,
          2.999778412582974,
          0.8909375054635109,
          0.835223131478973,
          1.4233719894731234,
          1.6691784965267933,
          1.7529267959439152,
          0.9213866554316342,
          3.3293198682950838,
          2.291278537260948,
          2.644000769618828,
          1.9884608940418538,
          0.9654354477757002,
          3.8761802350441057,
          2.1986370315738264,
          3.689529945528106,
          2.231854951281777,
          -0.8227437814788818,
          1.7498003750729016,
          1.9636059787647215,
          1.3010764834762896,
          2.452898988585119,
          0.6091514631820905,
          2.2948988155844097,
          0.17924211413597502,
          3.3200974844013005,
          1.599534773292571,
          0.03886846671168631,
          2.105487171289799,
          2.5968076335282166,
          2.4739212010379745,
          0.503837069334893,
          2.182320899699795,
          1.1116938922864383,
          2.12848387007625,
          2.3209046500732233,
          1.540811404322551,
          2.0612253886695955,
          2.848931608988406,
          2.81467528272906,
          2.383011207940414,
          1.0521595280092468,
          1.5213855609345532,
          0.6417426331405374,
          0.7469583315414696,
          2.3627403455650855,
          1.3756088498394166,
          2.1430950080693183,
          2.7673983329820384,
          0.011842744814237083,
          -1.2815175602219335,
          1.3733488656242532,
          1.6138079995342824,
          2.035606283874025,
          -1.0983614148457728,
          1.423025987416798,
          -0.3148743197553934,
          1.9214232380079503,
          2.489315219355551,
          1.6815310746782792,
          1.0384467130303074,
          1.983956374939923
         ],
         "xaxis": "x",
         "yaxis": "y"
        },
        {
         "alignmentgroup": "True",
         "boxpoints": "all",
         "fillcolor": "rgba(255,255,255,0)",
         "hoveron": "points",
         "hovertemplate": "choc=1<br>rating=%{x}<extra></extra>",
         "jitter": 0,
         "legendgroup": "1",
         "line": {
          "color": "rgba(255,255,255,0)"
         },
         "marker": {
          "color": "#FF7F0E",
          "symbol": "line-ns-open"
         },
         "name": "1",
         "offsetgroup": "1",
         "showlegend": false,
         "type": "box",
         "x": [
          2.120556172479061,
          1.4942322653108255,
          1.6439654478006345,
          1.896866085437967,
          2.0566091726834235,
          3.140577073873791,
          1.06881067076721,
          0.6096380821553848,
          2.3641480422642247,
          2.0414863249396844,
          -0.3087945012002422,
          1.4436286652467678,
          0.8884731250225563,
          2.063092649169181,
          1.421493753870513,
          1.7497012751072067,
          2.2014151356212386,
          2.5973299659717024,
          0.47087984524179527,
          1.1436220147490725,
          1.035965003374139,
          2.971403187642411,
          3.101705861758158,
          3.7663695267948087,
          -0.22184590149231354,
          2.629522393899925,
          1.1938770492787272,
          2.3743319841274135,
          1.3585536869434511,
          0.9456836514443896,
          0.7940486781967856,
          3.9265212720574,
          2.2908773532107354,
          1.5369187087984952,
          1.6959328903081388,
          2.2618819311067595,
          2.4301981617523927,
          1.5876201246958221,
          3.1808250605377153,
          2.999778412582974,
          0.8909375054635109,
          0.835223131478973,
          1.4233719894731234,
          1.6691784965267933,
          1.7529267959439152,
          0.9213866554316342,
          3.3293198682950838,
          2.291278537260948,
          2.644000769618828,
          1.9884608940418538,
          0.9654354477757002,
          3.8761802350441057,
          2.1986370315738264,
          3.689529945528106,
          2.231854951281777,
          -0.8227437814788818,
          1.7498003750729016,
          1.9636059787647215,
          1.3010764834762896,
          2.452898988585119,
          0.6091514631820905,
          2.2948988155844097,
          0.17924211413597502,
          3.3200974844013005,
          1.599534773292571,
          0.03886846671168631,
          2.105487171289799,
          2.5968076335282166,
          2.4739212010379745,
          0.503837069334893,
          2.182320899699795,
          1.1116938922864383,
          2.12848387007625,
          2.3209046500732233,
          1.540811404322551,
          2.0612253886695955,
          2.848931608988406,
          2.81467528272906,
          2.383011207940414,
          1.0521595280092468,
          1.5213855609345532,
          0.6417426331405374,
          0.7469583315414696,
          2.3627403455650855,
          1.3756088498394166,
          2.1430950080693183,
          2.7673983329820384,
          0.011842744814237083,
          -1.2815175602219335,
          1.3733488656242532,
          1.6138079995342824,
          2.035606283874025,
          -1.0983614148457728,
          1.423025987416798,
          -0.3148743197553934,
          1.9214232380079503,
          2.489315219355551,
          1.6815310746782792,
          1.0384467130303074,
          1.983956374939923
         ],
         "xaxis": "x2",
         "yaxis": "y2"
        },
        {
         "alignmentgroup": "True",
         "bingroup": "x",
         "hovertemplate": "choc=2<br>rating=%{x}<br>count=%{y}<extra></extra>",
         "legendgroup": "2",
         "marker": {
          "color": "#2CA02C",
          "pattern": {
           "shape": ""
          }
         },
         "name": "2",
         "offsetgroup": "2",
         "orientation": "v",
         "showlegend": true,
         "type": "histogram",
         "x": [
          6.015644687351331,
          3.5845383108790854,
          -5.944722905971812,
          4.76995685673681,
          3.8494902769986274,
          -0.2694596759098046,
          -4.268222616497727,
          4.261166438850591,
          -5.381031669088193,
          6.567139541224425,
          1.9673050059711161,
          4.777836171231998,
          0.09605087395334078,
          7.462817289098046,
          -0.921826440310819,
          -1.9323653696159364,
          1.8120032976480827,
          -1.215571116961794,
          -3.44618304359619,
          -3.6871290296885686,
          2.258247017714352,
          2.615620590659818,
          -1.5001067248020927,
          0.6888338690703169,
          -2.346587414170302,
          -5.014767547261855,
          -7.238971200346387,
          0.00584330475066943,
          -0.6044904986359325,
          1.602531254866747,
          -0.3122900545200714,
          5.3275946070937215,
          1.3599942103201041,
          -0.4345299392054641,
          3.1760375319401954,
          1.199067324548088,
          0.13207865238519637,
          3.887777676780518,
          -0.6006298182316263,
          7.932678706457504,
          -0.030953068705744206,
          -0.14910968898914284,
          -3.758483441856855,
          -1.0161687288635224,
          3.64073822204548,
          -1.5078303759136074,
          -0.6585678225031428,
          -2.2689830413319236,
          7.470674707422436,
          5.758841905403212,
          -1.2287699010970887,
          -1.1009146876247566,
          -1.7903829119993107,
          -1.0356068046982692,
          1.0096872048119447,
          1.6087446235934684,
          5.63920789424853,
          -1.6931410206650972,
          -1.4673221265725442,
          1.8722959177202385,
          -0.035963179841106425,
          0.5408183202778771,
          3.4797795041005983,
          -3.751858313747844,
          -7.08290879378566,
          1.2940705120952003,
          6.082601416674338,
          0.0028545040014991696,
          1.8769101561388486,
          5.136495477252619,
          -5.042357186306904,
          4.335912166567779,
          -2.825560150537908,
          -1.2678795857785017,
          2.568034789436066,
          3.7161562170751217,
          -1.727069939528624,
          -0.8280655274327684,
          -0.2572542961182822,
          -1.3918464577212657,
          -3.5624917366741586,
          -1.6889708685978837,
          3.104192796292453,
          6.332059429221934,
          4.796971419418322,
          -7.415904125118425,
          2.8234451240035057,
          -1.8926682304854874,
          4.396738503510722,
          4.252215742305786,
          -4.409368615112788,
          2.313396588248228,
          2.8770057713585646,
          -4.021130835119914,
          -2.68495938086213,
          0.7723010090762112,
          -3.4943106252535587,
          7.91169134471555,
          -4.021232054446939,
          2.5800239908627867
         ],
         "xaxis": "x",
         "yaxis": "y"
        },
        {
         "alignmentgroup": "True",
         "boxpoints": "all",
         "fillcolor": "rgba(255,255,255,0)",
         "hoveron": "points",
         "hovertemplate": "choc=2<br>rating=%{x}<extra></extra>",
         "jitter": 0,
         "legendgroup": "2",
         "line": {
          "color": "rgba(255,255,255,0)"
         },
         "marker": {
          "color": "#2CA02C",
          "symbol": "line-ns-open"
         },
         "name": "2",
         "offsetgroup": "2",
         "showlegend": false,
         "type": "box",
         "x": [
          6.015644687351331,
          3.5845383108790854,
          -5.944722905971812,
          4.76995685673681,
          3.8494902769986274,
          -0.2694596759098046,
          -4.268222616497727,
          4.261166438850591,
          -5.381031669088193,
          6.567139541224425,
          1.9673050059711161,
          4.777836171231998,
          0.09605087395334078,
          7.462817289098046,
          -0.921826440310819,
          -1.9323653696159364,
          1.8120032976480827,
          -1.215571116961794,
          -3.44618304359619,
          -3.6871290296885686,
          2.258247017714352,
          2.615620590659818,
          -1.5001067248020927,
          0.6888338690703169,
          -2.346587414170302,
          -5.014767547261855,
          -7.238971200346387,
          0.00584330475066943,
          -0.6044904986359325,
          1.602531254866747,
          -0.3122900545200714,
          5.3275946070937215,
          1.3599942103201041,
          -0.4345299392054641,
          3.1760375319401954,
          1.199067324548088,
          0.13207865238519637,
          3.887777676780518,
          -0.6006298182316263,
          7.932678706457504,
          -0.030953068705744206,
          -0.14910968898914284,
          -3.758483441856855,
          -1.0161687288635224,
          3.64073822204548,
          -1.5078303759136074,
          -0.6585678225031428,
          -2.2689830413319236,
          7.470674707422436,
          5.758841905403212,
          -1.2287699010970887,
          -1.1009146876247566,
          -1.7903829119993107,
          -1.0356068046982692,
          1.0096872048119447,
          1.6087446235934684,
          5.63920789424853,
          -1.6931410206650972,
          -1.4673221265725442,
          1.8722959177202385,
          -0.035963179841106425,
          0.5408183202778771,
          3.4797795041005983,
          -3.751858313747844,
          -7.08290879378566,
          1.2940705120952003,
          6.082601416674338,
          0.0028545040014991696,
          1.8769101561388486,
          5.136495477252619,
          -5.042357186306904,
          4.335912166567779,
          -2.825560150537908,
          -1.2678795857785017,
          2.568034789436066,
          3.7161562170751217,
          -1.727069939528624,
          -0.8280655274327684,
          -0.2572542961182822,
          -1.3918464577212657,
          -3.5624917366741586,
          -1.6889708685978837,
          3.104192796292453,
          6.332059429221934,
          4.796971419418322,
          -7.415904125118425,
          2.8234451240035057,
          -1.8926682304854874,
          4.396738503510722,
          4.252215742305786,
          -4.409368615112788,
          2.313396588248228,
          2.8770057713585646,
          -4.021130835119914,
          -2.68495938086213,
          0.7723010090762112,
          -3.4943106252535587,
          7.91169134471555,
          -4.021232054446939,
          2.5800239908627867
         ],
         "xaxis": "x2",
         "yaxis": "y2"
        },
        {
         "alignmentgroup": "True",
         "bingroup": "x",
         "hovertemplate": "choc=3<br>rating=%{x}<br>count=%{y}<extra></extra>",
         "legendgroup": "3",
         "marker": {
          "color": "#D62728",
          "pattern": {
           "shape": ""
          }
         },
         "name": "3",
         "offsetgroup": "3",
         "orientation": "v",
         "showlegend": true,
         "type": "histogram",
         "x": [
          -1.2995137866514863,
          1.1763607106255853,
          -2.1270139218844966,
          -1.61654310759699,
          -4.751358380598588,
          -2.189572240200973,
          -1.5682604420833783,
          -4.310074610220564,
          -1.9005996052291554,
          0.7653463323340174,
          0.6359296921308567,
          -0.36894498819582855,
          -3.159278719483949,
          -4.613011335155971,
          2.006349818259539,
          -3.1819084470802523,
          -1.7069829828610803,
          -1.607934782889574,
          -3.438616093745701,
          1.8833755853326304,
          0.15355072970511474,
          -2.288815312762117,
          0.10987097966747572,
          -0.2915601073005073,
          -3.706108290960008,
          -3.7570811114766447,
          1.010301975624781,
          -6.020573851638433,
          0.8195960160525507,
          0.47332344854947583,
          1.4316477878405744,
          -1.8278169479743345,
          1.5420284170842211,
          -3.8082013291579444,
          -1.374208822772085,
          -3.5029002325316867,
          -1.2383664048517082,
          -1.7585870008567468,
          -0.41258906820683894,
          0.5061201987839091,
          -2.402742128666577,
          2.6431492220911825,
          -4.505159600433178,
          -5.042647841806441,
          -3.5607998689771687,
          2.069710183799207,
          -0.9792518218251182,
          -6.024570113842277,
          -1.160547670735699,
          1.2146271481435722,
          -0.020572935869213937,
          2.401488032878697,
          -1.6878985242400861,
          1.1127663035735917,
          0.029782090000263994,
          -7.447652394848703,
          2.5777918931851675,
          -1.4189754552958376,
          -2.1454484165909595,
          3.041013836407987,
          0.17089938308882402,
          0.28466520369581494,
          0.11233234566284911,
          0.08207625755730885,
          -0.805056324011876,
          1.8451545875510371,
          -4.24240813893096,
          -0.08819732938608715,
          2.1516631779082966,
          -2.0407524076067487,
          -6.105373572920129,
          -1.6152581290705323,
          -5.113133906609612,
          -2.064555701113237,
          -0.4221314198069965,
          -4.49519611742763,
          1.9879396224017172,
          -0.8552913746953755,
          -0.3496595953454935,
          2.9868309195898206,
          -0.16820422522493694,
          -3.8244697574590165,
          0.671031350738481,
          -2.987398821449273,
          -3.5151768883700587,
          0.6206594408679765,
          2.3964835662739135,
          -0.8366919418414801,
          0.16850180446811913,
          -0.23336935592370833,
          -2.425068254562817,
          0.9761304861432799,
          -2.627591920734183,
          -2.574766568102875,
          -5.7775805046713895,
          -1.1191799969780376,
          -1.8092416744508615,
          -1.526612239238756,
          -1.647285051787844,
          -1.5241478015105487
         ],
         "xaxis": "x",
         "yaxis": "y"
        },
        {
         "alignmentgroup": "True",
         "boxpoints": "all",
         "fillcolor": "rgba(255,255,255,0)",
         "hoveron": "points",
         "hovertemplate": "choc=3<br>rating=%{x}<extra></extra>",
         "jitter": 0,
         "legendgroup": "3",
         "line": {
          "color": "rgba(255,255,255,0)"
         },
         "marker": {
          "color": "#D62728",
          "symbol": "line-ns-open"
         },
         "name": "3",
         "offsetgroup": "3",
         "showlegend": false,
         "type": "box",
         "x": [
          -1.2995137866514863,
          1.1763607106255853,
          -2.1270139218844966,
          -1.61654310759699,
          -4.751358380598588,
          -2.189572240200973,
          -1.5682604420833783,
          -4.310074610220564,
          -1.9005996052291554,
          0.7653463323340174,
          0.6359296921308567,
          -0.36894498819582855,
          -3.159278719483949,
          -4.613011335155971,
          2.006349818259539,
          -3.1819084470802523,
          -1.7069829828610803,
          -1.607934782889574,
          -3.438616093745701,
          1.8833755853326304,
          0.15355072970511474,
          -2.288815312762117,
          0.10987097966747572,
          -0.2915601073005073,
          -3.706108290960008,
          -3.7570811114766447,
          1.010301975624781,
          -6.020573851638433,
          0.8195960160525507,
          0.47332344854947583,
          1.4316477878405744,
          -1.8278169479743345,
          1.5420284170842211,
          -3.8082013291579444,
          -1.374208822772085,
          -3.5029002325316867,
          -1.2383664048517082,
          -1.7585870008567468,
          -0.41258906820683894,
          0.5061201987839091,
          -2.402742128666577,
          2.6431492220911825,
          -4.505159600433178,
          -5.042647841806441,
          -3.5607998689771687,
          2.069710183799207,
          -0.9792518218251182,
          -6.024570113842277,
          -1.160547670735699,
          1.2146271481435722,
          -0.020572935869213937,
          2.401488032878697,
          -1.6878985242400861,
          1.1127663035735917,
          0.029782090000263994,
          -7.447652394848703,
          2.5777918931851675,
          -1.4189754552958376,
          -2.1454484165909595,
          3.041013836407987,
          0.17089938308882402,
          0.28466520369581494,
          0.11233234566284911,
          0.08207625755730885,
          -0.805056324011876,
          1.8451545875510371,
          -4.24240813893096,
          -0.08819732938608715,
          2.1516631779082966,
          -2.0407524076067487,
          -6.105373572920129,
          -1.6152581290705323,
          -5.113133906609612,
          -2.064555701113237,
          -0.4221314198069965,
          -4.49519611742763,
          1.9879396224017172,
          -0.8552913746953755,
          -0.3496595953454935,
          2.9868309195898206,
          -0.16820422522493694,
          -3.8244697574590165,
          0.671031350738481,
          -2.987398821449273,
          -3.5151768883700587,
          0.6206594408679765,
          2.3964835662739135,
          -0.8366919418414801,
          0.16850180446811913,
          -0.23336935592370833,
          -2.425068254562817,
          0.9761304861432799,
          -2.627591920734183,
          -2.574766568102875,
          -5.7775805046713895,
          -1.1191799969780376,
          -1.8092416744508615,
          -1.526612239238756,
          -1.647285051787844,
          -1.5241478015105487
         ],
         "xaxis": "x2",
         "yaxis": "y2"
        },
        {
         "alignmentgroup": "True",
         "bingroup": "x",
         "hovertemplate": "choc=4<br>rating=%{x}<br>count=%{y}<extra></extra>",
         "legendgroup": "4",
         "marker": {
          "color": "#9467BD",
          "pattern": {
           "shape": ""
          }
         },
         "name": "4",
         "offsetgroup": "4",
         "orientation": "v",
         "showlegend": true,
         "type": "histogram",
         "x": [
          0.3292452942972377,
          -1.572890780905226,
          -0.4638518213043191,
          -2.8210463094285023,
          -0.47628957548050177,
          1.0934738217243762,
          -3.5179267098693128,
          -0.9742198351562572,
          -0.2457785561635577,
          -0.28640406789422757,
          -1.7160343629327381,
          -2.8547538726440527,
          -4.569463198560508,
          -1.1204731533169348,
          -2.8929576591161754,
          0.6044143221993041,
          -2.056825697936177,
          -1.3504075449493902,
          1.0134800088971285,
          -2.6223103698968018,
          -0.0006311087344681443,
          -0.9623632884577069,
          -1.9924396087758944,
          1.6358073240459843,
          -2.6269840799315736,
          0.7441135835809896,
          0.4012502245894445,
          -2.20192719362511,
          1.6320256517778369,
          -1.4986976189907137,
          0.5358206379657366,
          -0.8697350766898516,
          -1.3400920767834457,
          -3.9909874415956414,
          0.8041427874914273,
          -2.75410742320822,
          -2.9082752461282597,
          0.7029546656336636,
          -0.7029735240839713,
          0.8029611306145679,
          -1.511814740428618,
          -2.3963163294184158,
          -0.6980023565376972,
          -1.0196827879218198,
          -2.1487928173547086,
          -1.086952337491715,
          -1.5454121291667509,
          -2.563063100782223,
          0.025536445727656343,
          -0.8170012303341407,
          -0.9983374111256128,
          2.385999405659857,
          -2.1630768959127202,
          0.7138646410975154,
          -2.016610131920563,
          -1.8955463405018074,
          -3.6175064831830257,
          1.2175408160727306,
          -1.2237126028124623,
          -2.7961413801827635,
          -1.3613016803749693,
          -0.09816382449533734,
          -3.079702657574049,
          -0.6871500628361482,
          -2.340824481237541,
          -1.4903375710983948,
          1.2339005703514003,
          0.3242148785985828,
          -1.065296900071686,
          -3.5447502406476934,
          -1.3487208508934123,
          -1.025245833557096,
          -2.633861275043618,
          -4.137620707808143,
          -1.8840177056501144,
          -0.38037350418379656,
          -0.31862060683225124,
          -2.6932242953535166,
          2.2215033512863984,
          -4.0650420946323065,
          -2.0872805588938665,
          -2.0878915159885816,
          -1.4753237585347097,
          -0.8938360618522108,
          -1.1121825073971292,
          1.4051100531242715,
          -0.7712510088698565,
          -2.340851377819194,
          -0.5361445460106442,
          -1.6691492189540584,
          -0.33185519129922847,
          -2.0086606457825513,
          -0.7387342424982282,
          -0.6366891499965964,
          -1.0183844804050668,
          -0.4516111660727523,
          -2.323739774570975,
          -2.133427514065593,
          -3.4554660951197524,
          -1.5735031694640584
         ],
         "xaxis": "x",
         "yaxis": "y"
        },
        {
         "alignmentgroup": "True",
         "boxpoints": "all",
         "fillcolor": "rgba(255,255,255,0)",
         "hoveron": "points",
         "hovertemplate": "choc=4<br>rating=%{x}<extra></extra>",
         "jitter": 0,
         "legendgroup": "4",
         "line": {
          "color": "rgba(255,255,255,0)"
         },
         "marker": {
          "color": "#9467BD",
          "symbol": "line-ns-open"
         },
         "name": "4",
         "offsetgroup": "4",
         "showlegend": false,
         "type": "box",
         "x": [
          0.3292452942972377,
          -1.572890780905226,
          -0.4638518213043191,
          -2.8210463094285023,
          -0.47628957548050177,
          1.0934738217243762,
          -3.5179267098693128,
          -0.9742198351562572,
          -0.2457785561635577,
          -0.28640406789422757,
          -1.7160343629327381,
          -2.8547538726440527,
          -4.569463198560508,
          -1.1204731533169348,
          -2.8929576591161754,
          0.6044143221993041,
          -2.056825697936177,
          -1.3504075449493902,
          1.0134800088971285,
          -2.6223103698968018,
          -0.0006311087344681443,
          -0.9623632884577069,
          -1.9924396087758944,
          1.6358073240459843,
          -2.6269840799315736,
          0.7441135835809896,
          0.4012502245894445,
          -2.20192719362511,
          1.6320256517778369,
          -1.4986976189907137,
          0.5358206379657366,
          -0.8697350766898516,
          -1.3400920767834457,
          -3.9909874415956414,
          0.8041427874914273,
          -2.75410742320822,
          -2.9082752461282597,
          0.7029546656336636,
          -0.7029735240839713,
          0.8029611306145679,
          -1.511814740428618,
          -2.3963163294184158,
          -0.6980023565376972,
          -1.0196827879218198,
          -2.1487928173547086,
          -1.086952337491715,
          -1.5454121291667509,
          -2.563063100782223,
          0.025536445727656343,
          -0.8170012303341407,
          -0.9983374111256128,
          2.385999405659857,
          -2.1630768959127202,
          0.7138646410975154,
          -2.016610131920563,
          -1.8955463405018074,
          -3.6175064831830257,
          1.2175408160727306,
          -1.2237126028124623,
          -2.7961413801827635,
          -1.3613016803749693,
          -0.09816382449533734,
          -3.079702657574049,
          -0.6871500628361482,
          -2.340824481237541,
          -1.4903375710983948,
          1.2339005703514003,
          0.3242148785985828,
          -1.065296900071686,
          -3.5447502406476934,
          -1.3487208508934123,
          -1.025245833557096,
          -2.633861275043618,
          -4.137620707808143,
          -1.8840177056501144,
          -0.38037350418379656,
          -0.31862060683225124,
          -2.6932242953535166,
          2.2215033512863984,
          -4.0650420946323065,
          -2.0872805588938665,
          -2.0878915159885816,
          -1.4753237585347097,
          -0.8938360618522108,
          -1.1121825073971292,
          1.4051100531242715,
          -0.7712510088698565,
          -2.340851377819194,
          -0.5361445460106442,
          -1.6691492189540584,
          -0.33185519129922847,
          -2.0086606457825513,
          -0.7387342424982282,
          -0.6366891499965964,
          -1.0183844804050668,
          -0.4516111660727523,
          -2.323739774570975,
          -2.133427514065593,
          -3.4554660951197524,
          -1.5735031694640584
         ],
         "xaxis": "x2",
         "yaxis": "y2"
        },
        {
         "alignmentgroup": "True",
         "bingroup": "x",
         "hovertemplate": "choc=5<br>rating=%{x}<br>count=%{y}<extra></extra>",
         "legendgroup": "5",
         "marker": {
          "color": "#8C564B",
          "pattern": {
           "shape": ""
          }
         },
         "name": "5",
         "offsetgroup": "5",
         "orientation": "v",
         "showlegend": true,
         "type": "histogram",
         "x": [
          1.446072919954072,
          -0.6812724420505504,
          1.9582632135637934,
          -4.555149816079046,
          0.43276193848627953,
          3.698579481044205,
          -2.107394106362951,
          1.8486430860103997,
          -3.335295186866473,
          -2.1426569210622533,
          -4.503105261445199,
          0.8138107591273183,
          -0.0009142735512730482,
          -4.361584399842084,
          -1.9135249523044273,
          -1.1436417267963077,
          -5.453383236413211,
          -4.782487167466132,
          1.1616867176716967,
          -3.5851512901578073,
          1.5095711310315796,
          -0.7012372391405811,
          -7.707033302708789,
          3.4631097114192757,
          2.0075803127373533,
          -4.772401222705993,
          -5.2394133318968334,
          0.32550820037324013,
          -1.728596998991958,
          1.1005795480469949,
          1.7786914483557599,
          -0.1322097296659167,
          1.8045086489415425,
          -1.1705642561114273,
          -4.462420841937629,
          0.5920204777279372,
          -1.284769009111242,
          0.822342522161323,
          3.5596605163267885,
          -2.9806192807050222,
          0.5675695401560652,
          -3.3925732479962774,
          5.037456702939623,
          0.2585416175642603,
          3.576316011540575,
          0.03013577558291769,
          -6.962908733394424,
          -1.79784774996172,
          -3.9699252119238553,
          1.0329431822867672,
          2.88037077909779,
          0.7144069293777509,
          -5.306892493450931,
          -2.397252422982219,
          -0.7145294643396426,
          -2.393118121232667,
          -3.6051087921037857,
          -0.030005011808614368,
          -3.9813979804201756,
          2.047899148226001,
          -0.3688755882069782,
          -2.6451406294192004,
          0.21728956548223188,
          -5.183583018807724,
          0.8061852910788736,
          -4.529835334485938,
          -4.637406978485345,
          -4.46194593387136,
          -1.2543180754222,
          3.0677416013603485,
          -2.0845800761174833,
          -4.1410307001449755,
          -5.797545492674632,
          -6.80018008651038,
          2.874587937062515,
          -0.7221418204592673,
          1.7174761209939993,
          -1.1710100770035266,
          2.3342501649089393,
          -4.131725518706789,
          0.38478367400365077,
          -0.34952824446599606,
          0.4384882924562552,
          -4.703841858196334,
          3.451546066001413,
          -2.4999284324465973,
          -0.3052633814387952,
          -1.2008709216448088,
          -2.0618440514776073,
          -0.5685708038948869,
          -1.090735348552897,
          2.89351281637574,
          0.28222755409549005,
          0.5048694931124036,
          3.4794499244308588,
          0.2779808362959548,
          2.5291715105334793,
          -4.801765298321724,
          -2.4941293498355552,
          -0.39385161637081273
         ],
         "xaxis": "x",
         "yaxis": "y"
        },
        {
         "alignmentgroup": "True",
         "boxpoints": "all",
         "fillcolor": "rgba(255,255,255,0)",
         "hoveron": "points",
         "hovertemplate": "choc=5<br>rating=%{x}<extra></extra>",
         "jitter": 0,
         "legendgroup": "5",
         "line": {
          "color": "rgba(255,255,255,0)"
         },
         "marker": {
          "color": "#8C564B",
          "symbol": "line-ns-open"
         },
         "name": "5",
         "offsetgroup": "5",
         "showlegend": false,
         "type": "box",
         "x": [
          1.446072919954072,
          -0.6812724420505504,
          1.9582632135637934,
          -4.555149816079046,
          0.43276193848627953,
          3.698579481044205,
          -2.107394106362951,
          1.8486430860103997,
          -3.335295186866473,
          -2.1426569210622533,
          -4.503105261445199,
          0.8138107591273183,
          -0.0009142735512730482,
          -4.361584399842084,
          -1.9135249523044273,
          -1.1436417267963077,
          -5.453383236413211,
          -4.782487167466132,
          1.1616867176716967,
          -3.5851512901578073,
          1.5095711310315796,
          -0.7012372391405811,
          -7.707033302708789,
          3.4631097114192757,
          2.0075803127373533,
          -4.772401222705993,
          -5.2394133318968334,
          0.32550820037324013,
          -1.728596998991958,
          1.1005795480469949,
          1.7786914483557599,
          -0.1322097296659167,
          1.8045086489415425,
          -1.1705642561114273,
          -4.462420841937629,
          0.5920204777279372,
          -1.284769009111242,
          0.822342522161323,
          3.5596605163267885,
          -2.9806192807050222,
          0.5675695401560652,
          -3.3925732479962774,
          5.037456702939623,
          0.2585416175642603,
          3.576316011540575,
          0.03013577558291769,
          -6.962908733394424,
          -1.79784774996172,
          -3.9699252119238553,
          1.0329431822867672,
          2.88037077909779,
          0.7144069293777509,
          -5.306892493450931,
          -2.397252422982219,
          -0.7145294643396426,
          -2.393118121232667,
          -3.6051087921037857,
          -0.030005011808614368,
          -3.9813979804201756,
          2.047899148226001,
          -0.3688755882069782,
          -2.6451406294192004,
          0.21728956548223188,
          -5.183583018807724,
          0.8061852910788736,
          -4.529835334485938,
          -4.637406978485345,
          -4.46194593387136,
          -1.2543180754222,
          3.0677416013603485,
          -2.0845800761174833,
          -4.1410307001449755,
          -5.797545492674632,
          -6.80018008651038,
          2.874587937062515,
          -0.7221418204592673,
          1.7174761209939993,
          -1.1710100770035266,
          2.3342501649089393,
          -4.131725518706789,
          0.38478367400365077,
          -0.34952824446599606,
          0.4384882924562552,
          -4.703841858196334,
          3.451546066001413,
          -2.4999284324465973,
          -0.3052633814387952,
          -1.2008709216448088,
          -2.0618440514776073,
          -0.5685708038948869,
          -1.090735348552897,
          2.89351281637574,
          0.28222755409549005,
          0.5048694931124036,
          3.4794499244308588,
          0.2779808362959548,
          2.5291715105334793,
          -4.801765298321724,
          -2.4941293498355552,
          -0.39385161637081273
         ],
         "xaxis": "x2",
         "yaxis": "y2"
        },
        {
         "alignmentgroup": "True",
         "bingroup": "x",
         "hovertemplate": "choc=6<br>rating=%{x}<br>count=%{y}<extra></extra>",
         "legendgroup": "6",
         "marker": {
          "color": "#E377C2",
          "pattern": {
           "shape": ""
          }
         },
         "name": "6",
         "offsetgroup": "6",
         "orientation": "v",
         "showlegend": true,
         "type": "histogram",
         "x": [
          -2.558985276262295,
          -0.07262416141777117,
          -2.9583499120088907,
          -3.3859270742932326,
          -0.5417676443329417,
          2.539585298186715,
          -1.588125638488205,
          0.2975774722008546,
          -0.4469898109748165,
          -1.8104342914622822,
          -2.165718139958243,
          -1.0231270172195708,
          -2.356324803297796,
          -3.0180758540013395,
          -1.8876291469822002,
          -1.9895479860510172,
          2.1617843205026395,
          -0.5985118878454874,
          -1.6637237076322178,
          -1.0115354331097792,
          -2.10010473976766,
          -0.4900938767280326,
          -1.9834997658445959,
          -1.999125077130358,
          0.6688951678574189,
          -2.0176673557401186,
          -2.915350034296239,
          -2.1190817555028953,
          -1.780963402453854,
          -1.847272835896363,
          -1.6615865683789481,
          0.22696574055007357,
          -2.792347117016452,
          1.6047940661556164,
          -0.09027698016680796,
          -2.1157370019099773,
          -2.9947560780533764,
          -2.34052879108096,
          -1.2642747233067797,
          0.8638813446553237,
          1.0223884044255789,
          0.35762820413508334,
          0.20140544672183935,
          -0.7410229271388232,
          -2.9710992002317367,
          -2.2900263560890872,
          -0.6111961760248427,
          0.05199352557016401,
          -3.3959979587811135,
          -0.3220254192876366,
          -2.1024328487203565,
          -2.906526187540541,
          -0.3568637217918792,
          0.42896847064111765,
          -2.6323914321055666,
          0.1984786520636206,
          -5.100019312352517,
          -3.4654802229591084,
          1.1272799552003743,
          1.1921404458800338,
          -1.3675383237301555,
          0.389903294348779,
          2.8037584896369596,
          -1.4516279501886764,
          0.8608094151138668,
          -1.730950519019009,
          -0.7963249983908053,
          -1.074356379662603,
          -1.8017174858741107,
          0.6415401572009036,
          -0.2159269604049865,
          -0.6156290167033855,
          -0.18037854020808064,
          -3.386584454806333,
          -0.5801624930695368,
          -0.5571827166471741,
          -1.7948682604448054,
          -2.0346519376050995,
          -2.3486355093617086,
          -1.461016962550501,
          -1.4873980018860449,
          -3.989688487108971,
          -2.0379468308633735,
          0.3081550979996024,
          -0.13235197409346666,
          -2.1504445092492324,
          -1.529973135715187,
          -0.3805815690009162,
          0.4317759458459458,
          -1.6784049000891448,
          -1.359198621350182,
          -0.541781891764207,
          -2.009048356759129,
          0.6791067726408999,
          -0.8158043465117724,
          -3.7906053862732243,
          -2.975194780630221,
          -2.8573575793475574,
          -0.7212715526265159,
          -0.39381676108896757
         ],
         "xaxis": "x",
         "yaxis": "y"
        },
        {
         "alignmentgroup": "True",
         "boxpoints": "all",
         "fillcolor": "rgba(255,255,255,0)",
         "hoveron": "points",
         "hovertemplate": "choc=6<br>rating=%{x}<extra></extra>",
         "jitter": 0,
         "legendgroup": "6",
         "line": {
          "color": "rgba(255,255,255,0)"
         },
         "marker": {
          "color": "#E377C2",
          "symbol": "line-ns-open"
         },
         "name": "6",
         "offsetgroup": "6",
         "showlegend": false,
         "type": "box",
         "x": [
          -2.558985276262295,
          -0.07262416141777117,
          -2.9583499120088907,
          -3.3859270742932326,
          -0.5417676443329417,
          2.539585298186715,
          -1.588125638488205,
          0.2975774722008546,
          -0.4469898109748165,
          -1.8104342914622822,
          -2.165718139958243,
          -1.0231270172195708,
          -2.356324803297796,
          -3.0180758540013395,
          -1.8876291469822002,
          -1.9895479860510172,
          2.1617843205026395,
          -0.5985118878454874,
          -1.6637237076322178,
          -1.0115354331097792,
          -2.10010473976766,
          -0.4900938767280326,
          -1.9834997658445959,
          -1.999125077130358,
          0.6688951678574189,
          -2.0176673557401186,
          -2.915350034296239,
          -2.1190817555028953,
          -1.780963402453854,
          -1.847272835896363,
          -1.6615865683789481,
          0.22696574055007357,
          -2.792347117016452,
          1.6047940661556164,
          -0.09027698016680796,
          -2.1157370019099773,
          -2.9947560780533764,
          -2.34052879108096,
          -1.2642747233067797,
          0.8638813446553237,
          1.0223884044255789,
          0.35762820413508334,
          0.20140544672183935,
          -0.7410229271388232,
          -2.9710992002317367,
          -2.2900263560890872,
          -0.6111961760248427,
          0.05199352557016401,
          -3.3959979587811135,
          -0.3220254192876366,
          -2.1024328487203565,
          -2.906526187540541,
          -0.3568637217918792,
          0.42896847064111765,
          -2.6323914321055666,
          0.1984786520636206,
          -5.100019312352517,
          -3.4654802229591084,
          1.1272799552003743,
          1.1921404458800338,
          -1.3675383237301555,
          0.389903294348779,
          2.8037584896369596,
          -1.4516279501886764,
          0.8608094151138668,
          -1.730950519019009,
          -0.7963249983908053,
          -1.074356379662603,
          -1.8017174858741107,
          0.6415401572009036,
          -0.2159269604049865,
          -0.6156290167033855,
          -0.18037854020808064,
          -3.386584454806333,
          -0.5801624930695368,
          -0.5571827166471741,
          -1.7948682604448054,
          -2.0346519376050995,
          -2.3486355093617086,
          -1.461016962550501,
          -1.4873980018860449,
          -3.989688487108971,
          -2.0379468308633735,
          0.3081550979996024,
          -0.13235197409346666,
          -2.1504445092492324,
          -1.529973135715187,
          -0.3805815690009162,
          0.4317759458459458,
          -1.6784049000891448,
          -1.359198621350182,
          -0.541781891764207,
          -2.009048356759129,
          0.6791067726408999,
          -0.8158043465117724,
          -3.7906053862732243,
          -2.975194780630221,
          -2.8573575793475574,
          -0.7212715526265159,
          -0.39381676108896757
         ],
         "xaxis": "x2",
         "yaxis": "y2"
        },
        {
         "alignmentgroup": "True",
         "bingroup": "x",
         "hovertemplate": "choc=7<br>rating=%{x}<br>count=%{y}<extra></extra>",
         "legendgroup": "7",
         "marker": {
          "color": "#7F7F7F",
          "pattern": {
           "shape": ""
          }
         },
         "name": "7",
         "offsetgroup": "7",
         "orientation": "v",
         "showlegend": true,
         "type": "histogram",
         "x": [
          -0.17935529721984345,
          -2.2206253520619894,
          0.4843672427046448,
          0.9329968628215182,
          -1.0850659862459218,
          1.9839439011905766,
          -1.875953021418921,
          -1.7213145495638007,
          2.039692508542008,
          -1.5751691782429584,
          -3.6947116790491155,
          0.9000300720609635,
          -2.751714121190936,
          -0.21611878884822833,
          -2.323940747375727,
          -1.424009544898788,
          -1.2478352460075048,
          0.12276465492299304,
          -0.6554437088475392,
          0.09943855381008959,
          -2.2454181996394063,
          0.10287140344296708,
          -3.465921519204082,
          0.9197299060970234,
          -0.06066643060704047,
          -1.1690813168441445,
          2.0340886918746293,
          0.40826885210698083,
          -2.200207286176994,
          -1.5357626923246857,
          -1.7992907476192799,
          -0.94483717809152,
          1.173792023293765,
          -0.8590924680322859,
          -2.7738288500477775,
          2.0720386085803826,
          -1.3098382156306703,
          -1.4393957953170757,
          1.4395520686007994,
          -0.1344812142800158,
          -0.07118201614275732,
          0.1272421294246362,
          1.9901996311341275,
          -1.611981462267628,
          -5.540585627000546,
          -2.4972143053984652,
          -5.768014282168172,
          0.9619889188165156,
          -0.9896166838193643,
          -1.4444248236581967,
          -3.0078445221584342,
          -3.7649606827030127,
          -0.6252779507119702,
          -3.1925049914557873,
          2.807082954659152,
          -1.521551515489493,
          -2.298136727001286,
          -0.5440853130548738,
          0.818870415264584,
          1.0205055507734198,
          1.4904818986545225,
          -2.4856186512076945,
          -3.3959641879913827,
          -1.2003864942497762,
          -2.0961307713390207,
          0.963469813571836,
          -2.548762791709778,
          -1.1433519367929947,
          -4.833613735334952,
          -3.790438250183046,
          -1.362449849522998,
          -6.1314393262068,
          1.1893872617839973,
          -0.7016759112855557,
          0.3020942355383207,
          -3.182542834258947,
          -2.910787390275681,
          -1.3649748921207512,
          -2.651295456692329,
          -0.400551387719611,
          -2.8774642448743997,
          -0.09872440202147992,
          -0.8859430060967137,
          -1.6660011773422205,
          2.383758786402141,
          -1.5966069249180208,
          -0.2653535011567312,
          -1.2428670871001182,
          1.8291765794636288,
          -1.1485773657387726,
          0.4552747146816791,
          0.6341054913449133,
          -0.3797255824117946,
          -1.3953122219090437,
          -1.0047803316389463,
          0.0544288116591497,
          -1.9481579724963152,
          0.8687502228006483,
          -2.769065557317362,
          -1.6772631627602594
         ],
         "xaxis": "x",
         "yaxis": "y"
        },
        {
         "alignmentgroup": "True",
         "boxpoints": "all",
         "fillcolor": "rgba(255,255,255,0)",
         "hoveron": "points",
         "hovertemplate": "choc=7<br>rating=%{x}<extra></extra>",
         "jitter": 0,
         "legendgroup": "7",
         "line": {
          "color": "rgba(255,255,255,0)"
         },
         "marker": {
          "color": "#7F7F7F",
          "symbol": "line-ns-open"
         },
         "name": "7",
         "offsetgroup": "7",
         "showlegend": false,
         "type": "box",
         "x": [
          -0.17935529721984345,
          -2.2206253520619894,
          0.4843672427046448,
          0.9329968628215182,
          -1.0850659862459218,
          1.9839439011905766,
          -1.875953021418921,
          -1.7213145495638007,
          2.039692508542008,
          -1.5751691782429584,
          -3.6947116790491155,
          0.9000300720609635,
          -2.751714121190936,
          -0.21611878884822833,
          -2.323940747375727,
          -1.424009544898788,
          -1.2478352460075048,
          0.12276465492299304,
          -0.6554437088475392,
          0.09943855381008959,
          -2.2454181996394063,
          0.10287140344296708,
          -3.465921519204082,
          0.9197299060970234,
          -0.06066643060704047,
          -1.1690813168441445,
          2.0340886918746293,
          0.40826885210698083,
          -2.200207286176994,
          -1.5357626923246857,
          -1.7992907476192799,
          -0.94483717809152,
          1.173792023293765,
          -0.8590924680322859,
          -2.7738288500477775,
          2.0720386085803826,
          -1.3098382156306703,
          -1.4393957953170757,
          1.4395520686007994,
          -0.1344812142800158,
          -0.07118201614275732,
          0.1272421294246362,
          1.9901996311341275,
          -1.611981462267628,
          -5.540585627000546,
          -2.4972143053984652,
          -5.768014282168172,
          0.9619889188165156,
          -0.9896166838193643,
          -1.4444248236581967,
          -3.0078445221584342,
          -3.7649606827030127,
          -0.6252779507119702,
          -3.1925049914557873,
          2.807082954659152,
          -1.521551515489493,
          -2.298136727001286,
          -0.5440853130548738,
          0.818870415264584,
          1.0205055507734198,
          1.4904818986545225,
          -2.4856186512076945,
          -3.3959641879913827,
          -1.2003864942497762,
          -2.0961307713390207,
          0.963469813571836,
          -2.548762791709778,
          -1.1433519367929947,
          -4.833613735334952,
          -3.790438250183046,
          -1.362449849522998,
          -6.1314393262068,
          1.1893872617839973,
          -0.7016759112855557,
          0.3020942355383207,
          -3.182542834258947,
          -2.910787390275681,
          -1.3649748921207512,
          -2.651295456692329,
          -0.400551387719611,
          -2.8774642448743997,
          -0.09872440202147992,
          -0.8859430060967137,
          -1.6660011773422205,
          2.383758786402141,
          -1.5966069249180208,
          -0.2653535011567312,
          -1.2428670871001182,
          1.8291765794636288,
          -1.1485773657387726,
          0.4552747146816791,
          0.6341054913449133,
          -0.3797255824117946,
          -1.3953122219090437,
          -1.0047803316389463,
          0.0544288116591497,
          -1.9481579724963152,
          0.8687502228006483,
          -2.769065557317362,
          -1.6772631627602594
         ],
         "xaxis": "x2",
         "yaxis": "y2"
        },
        {
         "alignmentgroup": "True",
         "bingroup": "x",
         "hovertemplate": "choc=8<br>rating=%{x}<br>count=%{y}<extra></extra>",
         "legendgroup": "8",
         "marker": {
          "color": "#BCBD22",
          "pattern": {
           "shape": ""
          }
         },
         "name": "8",
         "offsetgroup": "8",
         "orientation": "v",
         "showlegend": true,
         "type": "histogram",
         "x": [
          -9.589452324970956,
          -3.6368742581287847,
          4.369696718675501,
          -3.6550889826263915,
          7.95881979859493,
          0.76515846310378,
          -0.40301022713811346,
          -7.740274502589049,
          -3.3919852008634406,
          3.1362746794880882,
          2.1533718483706323,
          9.352533369367736,
          -5.798549217500438,
          5.440453022647603,
          -2.238409316939145,
          -3.845043137779932,
          6.692480912802576,
          3.7625321648594174,
          0.4721248611103646,
          3.6867821718229306,
          -2.52547302462088,
          5.803946681981478,
          3.099020152715381,
          -1.61132732204456,
          -0.020473676035748373,
          -1.891847627242218,
          5.094658012029723,
          6.557010813210703,
          1.2338991771610122,
          1.7323779061329532,
          0.7784823005720773,
          -2.6784483071993455,
          3.3241503636880556,
          5.285756380529719,
          2.98086961084141,
          -7.579115812632118,
          -1.3395171479491896,
          0.3293006513135839,
          1.6295436192269546,
          2.2509833821384353,
          -7.852666878503808,
          -1.0095491981719193,
          3.460627287524545,
          -2.4915749740648416,
          -8.253333603856397,
          2.8969243042139396,
          2.1495872195963717,
          7.556476976079294,
          3.8242936054382577,
          -2.127184428317129,
          10.971331280155352,
          -2.6354818518844128,
          2.398544808290192,
          3.5713641908296125,
          0.01922632834069765,
          0.33416598807707276,
          2.848365354790796,
          -3.057954935018267,
          -3.4617199547244777,
          2.2152219521596535,
          -0.21110822226169126,
          -0.03325195494874737,
          3.2700030599274768,
          -0.05967653962609425,
          0.23075016333284393,
          2.671199825375241,
          5.206942066805983,
          -6.29095862350005,
          0.11124451212568742,
          4.475526732366448,
          -3.83013091101324,
          -2.073880176166432,
          -4.5444785290230945,
          -0.9367464144123603,
          0.8853971980671163,
          -1.7180629749647256,
          4.185667144883926,
          1.3222963289334344,
          -1.6595800880338916,
          -3.885609745045589,
          -1.6058705681215943,
          -9.98143745683286,
          -0.5290391036136772,
          1.0339489352142568,
          -5.021341598572168,
          -4.446789079474936,
          -2.4647481561798985,
          7.41932626422852,
          -0.4861921166932846,
          3.4172546284671643,
          1.734312099775183,
          -1.0921794740556472,
          -2.1344646578672926,
          -0.7712557990219595,
          1.942381207356028,
          5.133566703455685,
          -1.3202807496367417,
          0.5421679179717334,
          4.36652023115127,
          4.1192377318818485
         ],
         "xaxis": "x",
         "yaxis": "y"
        },
        {
         "alignmentgroup": "True",
         "boxpoints": "all",
         "fillcolor": "rgba(255,255,255,0)",
         "hoveron": "points",
         "hovertemplate": "choc=8<br>rating=%{x}<extra></extra>",
         "jitter": 0,
         "legendgroup": "8",
         "line": {
          "color": "rgba(255,255,255,0)"
         },
         "marker": {
          "color": "#BCBD22",
          "symbol": "line-ns-open"
         },
         "name": "8",
         "offsetgroup": "8",
         "showlegend": false,
         "type": "box",
         "x": [
          -9.589452324970956,
          -3.6368742581287847,
          4.369696718675501,
          -3.6550889826263915,
          7.95881979859493,
          0.76515846310378,
          -0.40301022713811346,
          -7.740274502589049,
          -3.3919852008634406,
          3.1362746794880882,
          2.1533718483706323,
          9.352533369367736,
          -5.798549217500438,
          5.440453022647603,
          -2.238409316939145,
          -3.845043137779932,
          6.692480912802576,
          3.7625321648594174,
          0.4721248611103646,
          3.6867821718229306,
          -2.52547302462088,
          5.803946681981478,
          3.099020152715381,
          -1.61132732204456,
          -0.020473676035748373,
          -1.891847627242218,
          5.094658012029723,
          6.557010813210703,
          1.2338991771610122,
          1.7323779061329532,
          0.7784823005720773,
          -2.6784483071993455,
          3.3241503636880556,
          5.285756380529719,
          2.98086961084141,
          -7.579115812632118,
          -1.3395171479491896,
          0.3293006513135839,
          1.6295436192269546,
          2.2509833821384353,
          -7.852666878503808,
          -1.0095491981719193,
          3.460627287524545,
          -2.4915749740648416,
          -8.253333603856397,
          2.8969243042139396,
          2.1495872195963717,
          7.556476976079294,
          3.8242936054382577,
          -2.127184428317129,
          10.971331280155352,
          -2.6354818518844128,
          2.398544808290192,
          3.5713641908296125,
          0.01922632834069765,
          0.33416598807707276,
          2.848365354790796,
          -3.057954935018267,
          -3.4617199547244777,
          2.2152219521596535,
          -0.21110822226169126,
          -0.03325195494874737,
          3.2700030599274768,
          -0.05967653962609425,
          0.23075016333284393,
          2.671199825375241,
          5.206942066805983,
          -6.29095862350005,
          0.11124451212568742,
          4.475526732366448,
          -3.83013091101324,
          -2.073880176166432,
          -4.5444785290230945,
          -0.9367464144123603,
          0.8853971980671163,
          -1.7180629749647256,
          4.185667144883926,
          1.3222963289334344,
          -1.6595800880338916,
          -3.885609745045589,
          -1.6058705681215943,
          -9.98143745683286,
          -0.5290391036136772,
          1.0339489352142568,
          -5.021341598572168,
          -4.446789079474936,
          -2.4647481561798985,
          7.41932626422852,
          -0.4861921166932846,
          3.4172546284671643,
          1.734312099775183,
          -1.0921794740556472,
          -2.1344646578672926,
          -0.7712557990219595,
          1.942381207356028,
          5.133566703455685,
          -1.3202807496367417,
          0.5421679179717334,
          4.36652023115127,
          4.1192377318818485
         ],
         "xaxis": "x2",
         "yaxis": "y2"
        },
        {
         "alignmentgroup": "True",
         "bingroup": "x",
         "hovertemplate": "choc=9<br>rating=%{x}<br>count=%{y}<extra></extra>",
         "legendgroup": "9",
         "marker": {
          "color": "#17BECF",
          "pattern": {
           "shape": ""
          }
         },
         "name": "9",
         "offsetgroup": "9",
         "orientation": "v",
         "showlegend": true,
         "type": "histogram",
         "x": [
          4.216588646467184,
          -0.5731505578583709,
          -1.9503897672106,
          3.8702915552624173,
          3.694934558750327,
          1.850340737439374,
          -0.8605598475075469,
          -0.06107968275693887,
          3.086415204371505,
          3.4357679983130742,
          1.098843174091806,
          1.2664882059960971,
          3.2403868005111507,
          1.547217334569387,
          2.296427245592559,
          1.584971225099756,
          1.4256527349463133,
          4.7991615083865575,
          0.9109106389009628,
          1.077781483422494,
          2.2025629182329816,
          6.514487328872361,
          2.6635494330291163,
          0.2847783291312016,
          2.710619684167777,
          1.3972552033074406,
          -0.41981605352022044,
          4.543168504165867,
          1.986846189434132,
          2.5853720242056344,
          4.314976018150066,
          2.2192662082365913,
          -3.6163211979173733,
          2.5084868874980675,
          2.122967342999492,
          0.7118261835218581,
          2.238824770677157,
          0.00027655885812216674,
          2.0319185807691995,
          -0.817780935633609,
          1.6126339907224754,
          -0.24886001305722227,
          5.030679314299787,
          2.1347171798782925,
          3.254725736600365,
          2.6181925591568547,
          1.9173491197129868,
          1.8139000470378475,
          0.33272766379317975,
          -1.124633929930576,
          -0.484570006822288,
          3.531988267807791,
          -2.1200181085043726,
          2.256272171549775,
          4.326895139396597,
          2.905246798470702,
          4.5023788249444285,
          -1.271459879969709,
          0.7050694809562299,
          -2.208550952214752,
          5.5683153202279225,
          0.33235496911771834,
          3.282324001271422,
          0.5579467176125106,
          4.1014729851660405,
          3.4204770094421777,
          5.734077227607313,
          0.4576667912007899,
          4.966221610363369,
          0.6618703678245086,
          1.3302301013632984,
          4.9719310581944605,
          -1.0463372784638076,
          0.5741923419301933,
          2.570608378250983,
          0.6491975140456854,
          1.1514014876758263,
          3.6465079187979006,
          0.13752051198518944,
          5.189310428180094,
          -1.6314846301925605,
          5.020381006328393,
          2.4409950108768634,
          -0.4342859712042937,
          0.22193045875145012,
          2.465302630745273,
          4.618703096837506,
          0.34718276759537603,
          2.759192430264429,
          2.785461915265216,
          0.3008349325225521,
          2.178935881459009,
          0.440782846343021,
          1.8484101311900296,
          -1.7874530854587227,
          0.2136850083319337,
          -1.4891279760928124,
          1.1426678708847249,
          -3.425711034263988,
          -0.5520283646579089
         ],
         "xaxis": "x",
         "yaxis": "y"
        },
        {
         "alignmentgroup": "True",
         "boxpoints": "all",
         "fillcolor": "rgba(255,255,255,0)",
         "hoveron": "points",
         "hovertemplate": "choc=9<br>rating=%{x}<extra></extra>",
         "jitter": 0,
         "legendgroup": "9",
         "line": {
          "color": "rgba(255,255,255,0)"
         },
         "marker": {
          "color": "#17BECF",
          "symbol": "line-ns-open"
         },
         "name": "9",
         "offsetgroup": "9",
         "showlegend": false,
         "type": "box",
         "x": [
          4.216588646467184,
          -0.5731505578583709,
          -1.9503897672106,
          3.8702915552624173,
          3.694934558750327,
          1.850340737439374,
          -0.8605598475075469,
          -0.06107968275693887,
          3.086415204371505,
          3.4357679983130742,
          1.098843174091806,
          1.2664882059960971,
          3.2403868005111507,
          1.547217334569387,
          2.296427245592559,
          1.584971225099756,
          1.4256527349463133,
          4.7991615083865575,
          0.9109106389009628,
          1.077781483422494,
          2.2025629182329816,
          6.514487328872361,
          2.6635494330291163,
          0.2847783291312016,
          2.710619684167777,
          1.3972552033074406,
          -0.41981605352022044,
          4.543168504165867,
          1.986846189434132,
          2.5853720242056344,
          4.314976018150066,
          2.2192662082365913,
          -3.6163211979173733,
          2.5084868874980675,
          2.122967342999492,
          0.7118261835218581,
          2.238824770677157,
          0.00027655885812216674,
          2.0319185807691995,
          -0.817780935633609,
          1.6126339907224754,
          -0.24886001305722227,
          5.030679314299787,
          2.1347171798782925,
          3.254725736600365,
          2.6181925591568547,
          1.9173491197129868,
          1.8139000470378475,
          0.33272766379317975,
          -1.124633929930576,
          -0.484570006822288,
          3.531988267807791,
          -2.1200181085043726,
          2.256272171549775,
          4.326895139396597,
          2.905246798470702,
          4.5023788249444285,
          -1.271459879969709,
          0.7050694809562299,
          -2.208550952214752,
          5.5683153202279225,
          0.33235496911771834,
          3.282324001271422,
          0.5579467176125106,
          4.1014729851660405,
          3.4204770094421777,
          5.734077227607313,
          0.4576667912007899,
          4.966221610363369,
          0.6618703678245086,
          1.3302301013632984,
          4.9719310581944605,
          -1.0463372784638076,
          0.5741923419301933,
          2.570608378250983,
          0.6491975140456854,
          1.1514014876758263,
          3.6465079187979006,
          0.13752051198518944,
          5.189310428180094,
          -1.6314846301925605,
          5.020381006328393,
          2.4409950108768634,
          -0.4342859712042937,
          0.22193045875145012,
          2.465302630745273,
          4.618703096837506,
          0.34718276759537603,
          2.759192430264429,
          2.785461915265216,
          0.3008349325225521,
          2.178935881459009,
          0.440782846343021,
          1.8484101311900296,
          -1.7874530854587227,
          0.2136850083319337,
          -1.4891279760928124,
          1.1426678708847249,
          -3.425711034263988,
          -0.5520283646579089
         ],
         "xaxis": "x2",
         "yaxis": "y2"
        },
        {
         "alignmentgroup": "True",
         "bingroup": "x",
         "hovertemplate": "choc=10<br>rating=%{x}<br>count=%{y}<extra></extra>",
         "legendgroup": "10",
         "marker": {
          "color": "#1F77B4",
          "pattern": {
           "shape": ""
          }
         },
         "name": "10",
         "offsetgroup": "10",
         "orientation": "v",
         "showlegend": true,
         "type": "histogram",
         "x": [
          0.8618323772610872,
          -0.15158139110370708,
          3.7688995468618773,
          -0.014824929448399138,
          -4.960855974638618,
          -0.054063434306320435,
          -1.1366254118064634,
          -2.240097005808231,
          -0.9844484702419352,
          -1.9609784826397059,
          1.1335272033327326,
          0.463761372050079,
          -0.06237620719447565,
          -0.6779536862516283,
          0.0020259940644431484,
          7.577712494635519,
          -1.3109346695305923,
          0.8835077182097524,
          -1.973281949805496,
          2.1855366401780403,
          -1.4485393834967164,
          2.678219517836706,
          0.6979486108068673,
          4.241881259416832,
          1.306072641547387,
          1.2263421036264053,
          2.7804666124798656,
          -2.6040379578427792,
          -2.592799737355879,
          -0.20302191249305027,
          0.8697968721642744,
          0.8600213296949515,
          -2.8047025112617145,
          -1.6616891805845209,
          -1.8435505100820129,
          3.9095598429095175,
          -0.01704205879803994,
          -8.00165251670261,
          0.8093498163111201,
          0.6841314337634616,
          -1.7741218655022326,
          2.2405658698949895,
          -0.33175252789877635,
          -2.1184700272213774,
          4.739107643941929,
          7.388988370024896,
          -1.8554668188275723,
          -1.395413067098465,
          -3.0584577336965895,
          1.3101761570119628,
          -1.4731608846790265,
          3.9147207259289316,
          -4.177988845109063,
          -2.1575058420985713,
          0.948192531722148,
          -2.284129295858949,
          2.7688467248486686,
          3.485221421522163,
          -1.5196028811018443,
          3.904503751131642,
          1.1611951511290373,
          -5.764986610906215,
          -2.0708177093117874,
          4.789513123944941,
          -4.446181396073298,
          1.5571279572932988,
          -3.136493845870335,
          3.1737347709560875,
          3.56059094022574,
          4.789850300579235,
          3.3437322394335354,
          -0.20411823843262494,
          -4.100315162500212,
          0.7384876862174028,
          -2.168714969653196,
          -1.4403451539924959,
          -1.531435827245752,
          0.22190619133417805,
          0.4250037128032869,
          -3.2016321862629584,
          -4.437859423461267,
          -1.5675631027057757,
          -0.8577304408266104,
          -1.434324812435905,
          0.05561680155660598,
          0.44222785590192265,
          -3.2510459634097497,
          -1.711901991752626,
          1.171800930413734,
          -3.304542149406824,
          -1.1721089453938487,
          2.179076631547095,
          -9.797848670719327,
          -4.236605117700757,
          -1.612129758119645,
          -1.351858860023014,
          -0.8267480851087479,
          -0.49058587895705563,
          -1.8270450725962115,
          -0.6399425049552399
         ],
         "xaxis": "x",
         "yaxis": "y"
        },
        {
         "alignmentgroup": "True",
         "boxpoints": "all",
         "fillcolor": "rgba(255,255,255,0)",
         "hoveron": "points",
         "hovertemplate": "choc=10<br>rating=%{x}<extra></extra>",
         "jitter": 0,
         "legendgroup": "10",
         "line": {
          "color": "rgba(255,255,255,0)"
         },
         "marker": {
          "color": "#1F77B4",
          "symbol": "line-ns-open"
         },
         "name": "10",
         "offsetgroup": "10",
         "showlegend": false,
         "type": "box",
         "x": [
          0.8618323772610872,
          -0.15158139110370708,
          3.7688995468618773,
          -0.014824929448399138,
          -4.960855974638618,
          -0.054063434306320435,
          -1.1366254118064634,
          -2.240097005808231,
          -0.9844484702419352,
          -1.9609784826397059,
          1.1335272033327326,
          0.463761372050079,
          -0.06237620719447565,
          -0.6779536862516283,
          0.0020259940644431484,
          7.577712494635519,
          -1.3109346695305923,
          0.8835077182097524,
          -1.973281949805496,
          2.1855366401780403,
          -1.4485393834967164,
          2.678219517836706,
          0.6979486108068673,
          4.241881259416832,
          1.306072641547387,
          1.2263421036264053,
          2.7804666124798656,
          -2.6040379578427792,
          -2.592799737355879,
          -0.20302191249305027,
          0.8697968721642744,
          0.8600213296949515,
          -2.8047025112617145,
          -1.6616891805845209,
          -1.8435505100820129,
          3.9095598429095175,
          -0.01704205879803994,
          -8.00165251670261,
          0.8093498163111201,
          0.6841314337634616,
          -1.7741218655022326,
          2.2405658698949895,
          -0.33175252789877635,
          -2.1184700272213774,
          4.739107643941929,
          7.388988370024896,
          -1.8554668188275723,
          -1.395413067098465,
          -3.0584577336965895,
          1.3101761570119628,
          -1.4731608846790265,
          3.9147207259289316,
          -4.177988845109063,
          -2.1575058420985713,
          0.948192531722148,
          -2.284129295858949,
          2.7688467248486686,
          3.485221421522163,
          -1.5196028811018443,
          3.904503751131642,
          1.1611951511290373,
          -5.764986610906215,
          -2.0708177093117874,
          4.789513123944941,
          -4.446181396073298,
          1.5571279572932988,
          -3.136493845870335,
          3.1737347709560875,
          3.56059094022574,
          4.789850300579235,
          3.3437322394335354,
          -0.20411823843262494,
          -4.100315162500212,
          0.7384876862174028,
          -2.168714969653196,
          -1.4403451539924959,
          -1.531435827245752,
          0.22190619133417805,
          0.4250037128032869,
          -3.2016321862629584,
          -4.437859423461267,
          -1.5675631027057757,
          -0.8577304408266104,
          -1.434324812435905,
          0.05561680155660598,
          0.44222785590192265,
          -3.2510459634097497,
          -1.711901991752626,
          1.171800930413734,
          -3.304542149406824,
          -1.1721089453938487,
          2.179076631547095,
          -9.797848670719327,
          -4.236605117700757,
          -1.612129758119645,
          -1.351858860023014,
          -0.8267480851087479,
          -0.49058587895705563,
          -1.8270450725962115,
          -0.6399425049552399
         ],
         "xaxis": "x2",
         "yaxis": "y2"
        },
        {
         "alignmentgroup": "True",
         "bingroup": "x",
         "hovertemplate": "choc=11<br>rating=%{x}<br>count=%{y}<extra></extra>",
         "legendgroup": "11",
         "marker": {
          "color": "#FF7F0E",
          "pattern": {
           "shape": ""
          }
         },
         "name": "11",
         "offsetgroup": "11",
         "orientation": "v",
         "showlegend": true,
         "type": "histogram",
         "x": [
          1.384529320229272,
          -2.1733295741018845,
          -0.529585832646858,
          -1.4623607390224573,
          -2.5746500155142673,
          -3.518528294707985,
          -0.6043564625037946,
          0.8497210619785366,
          -4.729072377095195,
          -0.5727403419713523,
          -0.15533351670584916,
          -6.391304848806666,
          5.733428432614672,
          -1.7360631985279835,
          1.1901484703850307,
          -0.9768299943173153,
          -4.222934041444375,
          -4.51013359451139,
          -1.2860819053171837,
          5.258004343632044,
          -2.9478318654655338,
          4.100759582278255,
          3.0066863397415244,
          -1.8966193251716263,
          -2.768925504656287,
          -5.746849897860947,
          -3.8337812096595614,
          -3.061593925449249,
          0.42367852313494314,
          0.6068658193190236,
          -2.0326448185574435,
          2.1393350496728285,
          -3.611577905589387,
          -1.4559699184866361,
          0.09490456288473303,
          -0.9175773242284178,
          -3.4105090718149853,
          -8.622991587668272,
          -2.084789433025838,
          -0.004479181862057757,
          0.9980753720562864,
          -6.81215398557381,
          1.0815598322221995,
          0.7819794528421297,
          0.30532958951949285,
          -5.122413584419448,
          4.127547689610957,
          -1.9443231876603075,
          -3.1499468738215746,
          -1.2574871153638953,
          2.5307733731209408,
          0.19773628618842243,
          -3.22002135285661,
          -7.07666529376181,
          6.751814860554341,
          -9.042359493040319,
          -1.9939970186177245,
          2.7838397538325284,
          2.782845901501633,
          0.8236343943648518,
          -5.280016032751297,
          -2.3411041593246344,
          3.7965645056231696,
          -2.9083740340160147,
          -3.7347682750451647,
          1.80019378966682,
          5.647446982036168,
          -6.46938115317855,
          -2.4756185971408526,
          0.4577126179361046,
          -4.323503819777023,
          -4.644706183079454,
          -3.6544655908778423,
          3.5154112728338833,
          0.6843405316694041,
          4.836384546431227,
          0.03431552578486741,
          -4.7319738285797355,
          -3.4818841648818246,
          -6.50529029627717,
          1.512098159831361,
          -9.022761495651539,
          -3.837472010707773,
          -2.3984318124409483,
          -2.5486670917826957,
          3.868760305885296,
          2.7692677853474597,
          -4.429413546501219,
          3.802631475552603,
          -0.7347456283581708,
          -0.367935360506883,
          -2.2679173648618955,
          0.5199324298818057,
          3.9900006040411857,
          -4.258230429222325,
          -0.4546287021265601,
          -5.504268272660017,
          -0.8341324671866279,
          5.376880436517021,
          6.664316248492168
         ],
         "xaxis": "x",
         "yaxis": "y"
        },
        {
         "alignmentgroup": "True",
         "boxpoints": "all",
         "fillcolor": "rgba(255,255,255,0)",
         "hoveron": "points",
         "hovertemplate": "choc=11<br>rating=%{x}<extra></extra>",
         "jitter": 0,
         "legendgroup": "11",
         "line": {
          "color": "rgba(255,255,255,0)"
         },
         "marker": {
          "color": "#FF7F0E",
          "symbol": "line-ns-open"
         },
         "name": "11",
         "offsetgroup": "11",
         "showlegend": false,
         "type": "box",
         "x": [
          1.384529320229272,
          -2.1733295741018845,
          -0.529585832646858,
          -1.4623607390224573,
          -2.5746500155142673,
          -3.518528294707985,
          -0.6043564625037946,
          0.8497210619785366,
          -4.729072377095195,
          -0.5727403419713523,
          -0.15533351670584916,
          -6.391304848806666,
          5.733428432614672,
          -1.7360631985279835,
          1.1901484703850307,
          -0.9768299943173153,
          -4.222934041444375,
          -4.51013359451139,
          -1.2860819053171837,
          5.258004343632044,
          -2.9478318654655338,
          4.100759582278255,
          3.0066863397415244,
          -1.8966193251716263,
          -2.768925504656287,
          -5.746849897860947,
          -3.8337812096595614,
          -3.061593925449249,
          0.42367852313494314,
          0.6068658193190236,
          -2.0326448185574435,
          2.1393350496728285,
          -3.611577905589387,
          -1.4559699184866361,
          0.09490456288473303,
          -0.9175773242284178,
          -3.4105090718149853,
          -8.622991587668272,
          -2.084789433025838,
          -0.004479181862057757,
          0.9980753720562864,
          -6.81215398557381,
          1.0815598322221995,
          0.7819794528421297,
          0.30532958951949285,
          -5.122413584419448,
          4.127547689610957,
          -1.9443231876603075,
          -3.1499468738215746,
          -1.2574871153638953,
          2.5307733731209408,
          0.19773628618842243,
          -3.22002135285661,
          -7.07666529376181,
          6.751814860554341,
          -9.042359493040319,
          -1.9939970186177245,
          2.7838397538325284,
          2.782845901501633,
          0.8236343943648518,
          -5.280016032751297,
          -2.3411041593246344,
          3.7965645056231696,
          -2.9083740340160147,
          -3.7347682750451647,
          1.80019378966682,
          5.647446982036168,
          -6.46938115317855,
          -2.4756185971408526,
          0.4577126179361046,
          -4.323503819777023,
          -4.644706183079454,
          -3.6544655908778423,
          3.5154112728338833,
          0.6843405316694041,
          4.836384546431227,
          0.03431552578486741,
          -4.7319738285797355,
          -3.4818841648818246,
          -6.50529029627717,
          1.512098159831361,
          -9.022761495651539,
          -3.837472010707773,
          -2.3984318124409483,
          -2.5486670917826957,
          3.868760305885296,
          2.7692677853474597,
          -4.429413546501219,
          3.802631475552603,
          -0.7347456283581708,
          -0.367935360506883,
          -2.2679173648618955,
          0.5199324298818057,
          3.9900006040411857,
          -4.258230429222325,
          -0.4546287021265601,
          -5.504268272660017,
          -0.8341324671866279,
          5.376880436517021,
          6.664316248492168
         ],
         "xaxis": "x2",
         "yaxis": "y2"
        },
        {
         "alignmentgroup": "True",
         "bingroup": "x",
         "hovertemplate": "choc=12<br>rating=%{x}<br>count=%{y}<extra></extra>",
         "legendgroup": "12",
         "marker": {
          "color": "#2CA02C",
          "pattern": {
           "shape": ""
          }
         },
         "name": "12",
         "offsetgroup": "12",
         "orientation": "v",
         "showlegend": true,
         "type": "histogram",
         "x": [
          1.7399865609090355,
          -2.5624359843254694,
          -5.965043565336768,
          1.6068772545125602,
          4.953883402598154,
          0.0647399852610196,
          1.3604317214900064,
          -3.580904625584676,
          -3.435672040532448,
          2.5519333316606616,
          -0.3517596380289213,
          -2.2505922627194224,
          0.10285887127693777,
          -0.6274402213670596,
          3.5208901794336778,
          -2.218667525168467,
          7.035285612666551,
          5.913097940603211,
          1.4011285601389587,
          -3.764708187518213,
          4.394806240783881,
          -8.613216282082131,
          -4.95669650810223,
          0.4110810463623391,
          6.087444347533568,
          -1.5803662261131874,
          4.27398807522501,
          -3.178532075722306,
          -0.10395626371286978,
          -4.6944771670633765,
          0.8924387078382623,
          -6.108126582499308,
          -1.3759630986125675,
          -6.176033235407135,
          0.11813145759142307,
          2.936761654068704,
          -1.6822731834375386,
          2.43128411296583,
          6.585034448191983,
          1.9591169642046988,
          -2.6094214293367624,
          -1.19246670263604,
          0.8677712570687341,
          4.236397603866636,
          2.700062520617509,
          3.1391681652687695,
          -3.402928944737294,
          3.845128550145133,
          2.7056060750249693,
          -3.9857445494517307,
          -1.5284662325984433,
          2.8589384586931614,
          3.830629132922713,
          3.6954907822179646,
          7.806564299408394,
          5.084802975844461,
          -1.8416985539408786,
          3.1389788219587422,
          7.558012334489304,
          -3.3854251830784174,
          -2.4983082171870317,
          -4.756403827729591,
          4.327024331091691,
          -7.340138247697619,
          -0.6447212111726139,
          0.7738073026156294,
          -2.3055535615439156,
          4.9861282267527365,
          -0.90949760415085,
          0.3310721921447764,
          5.590974452902609,
          -3.800419624692806,
          -8.379921380232965,
          -2.4695703733630245,
          2.078718610139396,
          -4.566688758899998,
          6.214536326656461,
          -2.292826741963584,
          3.1116279402769784,
          -0.9504052455063448,
          -3.7996565167347267,
          -3.8804982795635192,
          1.6513472326748828,
          -4.261315673327919,
          5.965470806498635,
          -8.76578563524177,
          2.0507335400966156,
          -0.8970318244238076,
          -1.7345342675441389,
          1.6553677710105266,
          4.117049312791059,
          4.935189287702834,
          2.466628597963467,
          4.656165642060395,
          -1.0150749331764175,
          -0.40538845134228235,
          -1.2736263811543425,
          3.330463827056105,
          -1.5132015656066786,
          -0.7530530796584995
         ],
         "xaxis": "x",
         "yaxis": "y"
        },
        {
         "alignmentgroup": "True",
         "boxpoints": "all",
         "fillcolor": "rgba(255,255,255,0)",
         "hoveron": "points",
         "hovertemplate": "choc=12<br>rating=%{x}<extra></extra>",
         "jitter": 0,
         "legendgroup": "12",
         "line": {
          "color": "rgba(255,255,255,0)"
         },
         "marker": {
          "color": "#2CA02C",
          "symbol": "line-ns-open"
         },
         "name": "12",
         "offsetgroup": "12",
         "showlegend": false,
         "type": "box",
         "x": [
          1.7399865609090355,
          -2.5624359843254694,
          -5.965043565336768,
          1.6068772545125602,
          4.953883402598154,
          0.0647399852610196,
          1.3604317214900064,
          -3.580904625584676,
          -3.435672040532448,
          2.5519333316606616,
          -0.3517596380289213,
          -2.2505922627194224,
          0.10285887127693777,
          -0.6274402213670596,
          3.5208901794336778,
          -2.218667525168467,
          7.035285612666551,
          5.913097940603211,
          1.4011285601389587,
          -3.764708187518213,
          4.394806240783881,
          -8.613216282082131,
          -4.95669650810223,
          0.4110810463623391,
          6.087444347533568,
          -1.5803662261131874,
          4.27398807522501,
          -3.178532075722306,
          -0.10395626371286978,
          -4.6944771670633765,
          0.8924387078382623,
          -6.108126582499308,
          -1.3759630986125675,
          -6.176033235407135,
          0.11813145759142307,
          2.936761654068704,
          -1.6822731834375386,
          2.43128411296583,
          6.585034448191983,
          1.9591169642046988,
          -2.6094214293367624,
          -1.19246670263604,
          0.8677712570687341,
          4.236397603866636,
          2.700062520617509,
          3.1391681652687695,
          -3.402928944737294,
          3.845128550145133,
          2.7056060750249693,
          -3.9857445494517307,
          -1.5284662325984433,
          2.8589384586931614,
          3.830629132922713,
          3.6954907822179646,
          7.806564299408394,
          5.084802975844461,
          -1.8416985539408786,
          3.1389788219587422,
          7.558012334489304,
          -3.3854251830784174,
          -2.4983082171870317,
          -4.756403827729591,
          4.327024331091691,
          -7.340138247697619,
          -0.6447212111726139,
          0.7738073026156294,
          -2.3055535615439156,
          4.9861282267527365,
          -0.90949760415085,
          0.3310721921447764,
          5.590974452902609,
          -3.800419624692806,
          -8.379921380232965,
          -2.4695703733630245,
          2.078718610139396,
          -4.566688758899998,
          6.214536326656461,
          -2.292826741963584,
          3.1116279402769784,
          -0.9504052455063448,
          -3.7996565167347267,
          -3.8804982795635192,
          1.6513472326748828,
          -4.261315673327919,
          5.965470806498635,
          -8.76578563524177,
          2.0507335400966156,
          -0.8970318244238076,
          -1.7345342675441389,
          1.6553677710105266,
          4.117049312791059,
          4.935189287702834,
          2.466628597963467,
          4.656165642060395,
          -1.0150749331764175,
          -0.40538845134228235,
          -1.2736263811543425,
          3.330463827056105,
          -1.5132015656066786,
          -0.7530530796584995
         ],
         "xaxis": "x2",
         "yaxis": "y2"
        },
        {
         "alignmentgroup": "True",
         "bingroup": "x",
         "hovertemplate": "choc=13<br>rating=%{x}<br>count=%{y}<extra></extra>",
         "legendgroup": "13",
         "marker": {
          "color": "#D62728",
          "pattern": {
           "shape": ""
          }
         },
         "name": "13",
         "offsetgroup": "13",
         "orientation": "v",
         "showlegend": true,
         "type": "histogram",
         "x": [
          0.6591845980819102,
          0.18183155591968236,
          0.8900378653746465,
          1.1053326164652926,
          -0.363170887795496,
          2.4391319302817758,
          3.035310667261067,
          0.6976685804609495,
          0.05781567463460835,
          2.061019948379042,
          1.8394070347680875,
          3.4721023936580107,
          -4.195542163639716,
          2.6159021150788826,
          -1.5635692624853739,
          0.5803381626511888,
          2.5226922470614705,
          -0.3666728407482964,
          -0.005540441412232644,
          3.6660022776707777,
          1.613400975668266,
          1.3697621269650853,
          2.0330589152647245,
          1.9259426824423957,
          -2.1463213815990603,
          0.39424364123666056,
          0.5223737531876573,
          1.1387793238731456,
          2.3567940969693133,
          2.850376252307929,
          0.6567147269850151,
          -0.06547928505392009,
          1.693717803304113,
          3.311208406040878,
          0.08000333228467782,
          -1.8920748365029547,
          3.559396943382221,
          2.5428072520591405,
          -2.5108943980479195,
          -0.36929061541992714,
          -1.9807125218516617,
          0.11673142064951114,
          1.4321387788576678,
          1.7983728330039424,
          2.399529243612654,
          -1.9385046336869582,
          6.279081830942866,
          3.4508844709816247,
          2.413439331499761,
          4.230094898405637,
          1.214095594589748,
          3.3976223007326336,
          -1.034016378820697,
          -0.13604366079987118,
          3.503559643005043,
          3.975076777372121,
          6.171021912651921,
          1.2375775023216968,
          -0.18353807332012306,
          -0.6330881838636302,
          0.3342172211529377,
          -2.6631186997725678,
          1.0672979413155614,
          -1.4180803481301105,
          2.8210982848236155,
          0.41648457642139314,
          4.298158465629914,
          2.1621201529502825,
          -1.0763497622652507,
          0.9444533254367147,
          3.776612200022095,
          2.4551222719467525,
          1.4575670377637675,
          5.964664979608804,
          0.8134522685861583,
          0.9982336673280681,
          -5.0009931338117575,
          -1.35386855472422,
          0.4098664931749576,
          1.188242362532064,
          -3.7745545956071807,
          -1.3903372084691872,
          4.926589148803864,
          -0.6290227484354223,
          4.531418179049138,
          -2.2078470159850365,
          -1.0977030819483014,
          0.2928533505102613,
          0.4176487517687033,
          -1.150046736350635,
          2.154141274572779,
          1.4969071973759493,
          3.835122640847299,
          -0.1033870230977727,
          2.1325904993471334,
          1.3547019465246517,
          1.2937330525301742,
          3.5971566766540928,
          3.050711154042512,
          -0.4307451792951513
         ],
         "xaxis": "x",
         "yaxis": "y"
        },
        {
         "alignmentgroup": "True",
         "boxpoints": "all",
         "fillcolor": "rgba(255,255,255,0)",
         "hoveron": "points",
         "hovertemplate": "choc=13<br>rating=%{x}<extra></extra>",
         "jitter": 0,
         "legendgroup": "13",
         "line": {
          "color": "rgba(255,255,255,0)"
         },
         "marker": {
          "color": "#D62728",
          "symbol": "line-ns-open"
         },
         "name": "13",
         "offsetgroup": "13",
         "showlegend": false,
         "type": "box",
         "x": [
          0.6591845980819102,
          0.18183155591968236,
          0.8900378653746465,
          1.1053326164652926,
          -0.363170887795496,
          2.4391319302817758,
          3.035310667261067,
          0.6976685804609495,
          0.05781567463460835,
          2.061019948379042,
          1.8394070347680875,
          3.4721023936580107,
          -4.195542163639716,
          2.6159021150788826,
          -1.5635692624853739,
          0.5803381626511888,
          2.5226922470614705,
          -0.3666728407482964,
          -0.005540441412232644,
          3.6660022776707777,
          1.613400975668266,
          1.3697621269650853,
          2.0330589152647245,
          1.9259426824423957,
          -2.1463213815990603,
          0.39424364123666056,
          0.5223737531876573,
          1.1387793238731456,
          2.3567940969693133,
          2.850376252307929,
          0.6567147269850151,
          -0.06547928505392009,
          1.693717803304113,
          3.311208406040878,
          0.08000333228467782,
          -1.8920748365029547,
          3.559396943382221,
          2.5428072520591405,
          -2.5108943980479195,
          -0.36929061541992714,
          -1.9807125218516617,
          0.11673142064951114,
          1.4321387788576678,
          1.7983728330039424,
          2.399529243612654,
          -1.9385046336869582,
          6.279081830942866,
          3.4508844709816247,
          2.413439331499761,
          4.230094898405637,
          1.214095594589748,
          3.3976223007326336,
          -1.034016378820697,
          -0.13604366079987118,
          3.503559643005043,
          3.975076777372121,
          6.171021912651921,
          1.2375775023216968,
          -0.18353807332012306,
          -0.6330881838636302,
          0.3342172211529377,
          -2.6631186997725678,
          1.0672979413155614,
          -1.4180803481301105,
          2.8210982848236155,
          0.41648457642139314,
          4.298158465629914,
          2.1621201529502825,
          -1.0763497622652507,
          0.9444533254367147,
          3.776612200022095,
          2.4551222719467525,
          1.4575670377637675,
          5.964664979608804,
          0.8134522685861583,
          0.9982336673280681,
          -5.0009931338117575,
          -1.35386855472422,
          0.4098664931749576,
          1.188242362532064,
          -3.7745545956071807,
          -1.3903372084691872,
          4.926589148803864,
          -0.6290227484354223,
          4.531418179049138,
          -2.2078470159850365,
          -1.0977030819483014,
          0.2928533505102613,
          0.4176487517687033,
          -1.150046736350635,
          2.154141274572779,
          1.4969071973759493,
          3.835122640847299,
          -0.1033870230977727,
          2.1325904993471334,
          1.3547019465246517,
          1.2937330525301742,
          3.5971566766540928,
          3.050711154042512,
          -0.4307451792951513
         ],
         "xaxis": "x2",
         "yaxis": "y2"
        },
        {
         "alignmentgroup": "True",
         "bingroup": "x",
         "hovertemplate": "choc=14<br>rating=%{x}<br>count=%{y}<extra></extra>",
         "legendgroup": "14",
         "marker": {
          "color": "#9467BD",
          "pattern": {
           "shape": ""
          }
         },
         "name": "14",
         "offsetgroup": "14",
         "orientation": "v",
         "showlegend": true,
         "type": "histogram",
         "x": [
          -4.228674050727697,
          -0.08880231550853468,
          1.4718754602038893,
          -0.621473603958081,
          -0.11293435245457095,
          -0.11408652454087975,
          -2.8561950581313766,
          -1.840675722420154,
          -1.0724565308701877,
          0.20066582678102773,
          1.292657272869184,
          -0.2883532542393492,
          -0.26875178351834994,
          1.4608775898555815,
          -3.8182565787063076,
          -3.011577386743525,
          -3.462277965281036,
          -3.598731534134578,
          -2.0285334143700458,
          0.9153367072683445,
          0.24254265390344587,
          -2.7482914206889992,
          2.241144904989934,
          -1.3500684556739342,
          -4.4670681322005255,
          1.112951550754995,
          3.093361014221683,
          -1.5915041944042077,
          3.574951701542359,
          2.2858817399807982,
          -2.3313226295306877,
          -3.852023095559776,
          -2.7665597383627922,
          1.326929491481785,
          -4.034608707938295,
          1.2368334022978054,
          -2.3391013360643824,
          0.32232965118126367,
          -2.839635513698374,
          -2.910818254448431,
          -0.6911614355300222,
          -0.41144238842688097,
          -2.9802206218402594,
          -3.7567736821372257,
          -2.1179960312053914,
          0.21342474142127732,
          -1.3890207550015128,
          -1.3033754341319717,
          1.3416997396992925,
          -3.8198325550734857,
          0.5371547992862109,
          -0.3688562076148265,
          -5.182244188394535,
          -4.332937523754346,
          -1.1351305203169266,
          -3.8232382461882715,
          1.0257128631382642,
          -1.5566291241471015,
          -1.933908226480551,
          -4.043027077797691,
          -4.387925926812328,
          -0.09298264387461863,
          -1.4104326352742764,
          -0.6194553486241869,
          -0.06771741807797471,
          -3.5043323861419076,
          -2.7659125595675667,
          -4.4932345999682255,
          1.018801704568643,
          2.347804047755975,
          -1.3280981204546958,
          -0.049614632607196674,
          -2.8469264247390367,
          -1.749802126673412,
          -1.1204990120401872,
          -2.9165715167679584,
          -0.5895414427845103,
          -1.854136162811763,
          -0.6362091248732,
          0.07600018138930142,
          0.5385628294368081,
          -0.9872983673382454,
          -1.1587133717137945,
          1.4163236568199091,
          -0.25061802980598835,
          -1.5603575558022542,
          -2.637465343501581,
          -4.857830618942977,
          1.6594061038496732,
          -0.3914131866630137,
          -1.7010975340767331,
          1.9885010534194996,
          0.7152142285584426,
          -3.161344082165048,
          -4.215668253399106,
          -3.1329447718836727,
          -6.051879364421144,
          0.19278043937278921,
          -1.7810870085091637,
          -1.8779996007624842
         ],
         "xaxis": "x",
         "yaxis": "y"
        },
        {
         "alignmentgroup": "True",
         "boxpoints": "all",
         "fillcolor": "rgba(255,255,255,0)",
         "hoveron": "points",
         "hovertemplate": "choc=14<br>rating=%{x}<extra></extra>",
         "jitter": 0,
         "legendgroup": "14",
         "line": {
          "color": "rgba(255,255,255,0)"
         },
         "marker": {
          "color": "#9467BD",
          "symbol": "line-ns-open"
         },
         "name": "14",
         "offsetgroup": "14",
         "showlegend": false,
         "type": "box",
         "x": [
          -4.228674050727697,
          -0.08880231550853468,
          1.4718754602038893,
          -0.621473603958081,
          -0.11293435245457095,
          -0.11408652454087975,
          -2.8561950581313766,
          -1.840675722420154,
          -1.0724565308701877,
          0.20066582678102773,
          1.292657272869184,
          -0.2883532542393492,
          -0.26875178351834994,
          1.4608775898555815,
          -3.8182565787063076,
          -3.011577386743525,
          -3.462277965281036,
          -3.598731534134578,
          -2.0285334143700458,
          0.9153367072683445,
          0.24254265390344587,
          -2.7482914206889992,
          2.241144904989934,
          -1.3500684556739342,
          -4.4670681322005255,
          1.112951550754995,
          3.093361014221683,
          -1.5915041944042077,
          3.574951701542359,
          2.2858817399807982,
          -2.3313226295306877,
          -3.852023095559776,
          -2.7665597383627922,
          1.326929491481785,
          -4.034608707938295,
          1.2368334022978054,
          -2.3391013360643824,
          0.32232965118126367,
          -2.839635513698374,
          -2.910818254448431,
          -0.6911614355300222,
          -0.41144238842688097,
          -2.9802206218402594,
          -3.7567736821372257,
          -2.1179960312053914,
          0.21342474142127732,
          -1.3890207550015128,
          -1.3033754341319717,
          1.3416997396992925,
          -3.8198325550734857,
          0.5371547992862109,
          -0.3688562076148265,
          -5.182244188394535,
          -4.332937523754346,
          -1.1351305203169266,
          -3.8232382461882715,
          1.0257128631382642,
          -1.5566291241471015,
          -1.933908226480551,
          -4.043027077797691,
          -4.387925926812328,
          -0.09298264387461863,
          -1.4104326352742764,
          -0.6194553486241869,
          -0.06771741807797471,
          -3.5043323861419076,
          -2.7659125595675667,
          -4.4932345999682255,
          1.018801704568643,
          2.347804047755975,
          -1.3280981204546958,
          -0.049614632607196674,
          -2.8469264247390367,
          -1.749802126673412,
          -1.1204990120401872,
          -2.9165715167679584,
          -0.5895414427845103,
          -1.854136162811763,
          -0.6362091248732,
          0.07600018138930142,
          0.5385628294368081,
          -0.9872983673382454,
          -1.1587133717137945,
          1.4163236568199091,
          -0.25061802980598835,
          -1.5603575558022542,
          -2.637465343501581,
          -4.857830618942977,
          1.6594061038496732,
          -0.3914131866630137,
          -1.7010975340767331,
          1.9885010534194996,
          0.7152142285584426,
          -3.161344082165048,
          -4.215668253399106,
          -3.1329447718836727,
          -6.051879364421144,
          0.19278043937278921,
          -1.7810870085091637,
          -1.8779996007624842
         ],
         "xaxis": "x2",
         "yaxis": "y2"
        },
        {
         "alignmentgroup": "True",
         "bingroup": "x",
         "hovertemplate": "choc=15<br>rating=%{x}<br>count=%{y}<extra></extra>",
         "legendgroup": "15",
         "marker": {
          "color": "#8C564B",
          "pattern": {
           "shape": ""
          }
         },
         "name": "15",
         "offsetgroup": "15",
         "orientation": "v",
         "showlegend": true,
         "type": "histogram",
         "x": [
          -0.9201746064882073,
          -3.525647151594354,
          -0.7278403952241492,
          -1.7569117521072506,
          0.9629306518736014,
          -0.20797776247673938,
          -2.9400117914927772,
          -0.4209389837759446,
          -6.103052516404585,
          -3.131646657032798,
          -4.012403319621794,
          3.0610979590937246,
          0.9818837607299227,
          0.988072307343024,
          1.6897080079532083,
          -6.2848559969979565,
          -2.109238914522902,
          -5.771005367973725,
          1.640928354575525,
          0.5763075174656309,
          -0.664674449801358,
          -3.196851899689682,
          0.12376722723854666,
          1.0273545756370703,
          -1.0499047271696866,
          2.673249045146752,
          1.9787922604467334,
          3.1133871283622163,
          1.0688177422044538,
          -0.25132940184538266,
          -3.880190419556145,
          1.0362174739275254,
          2.1245890663826565,
          3.9204877763928203,
          -3.38917051456239,
          2.357699090738689,
          -2.252129242123634,
          -1.2550224719468002,
          3.43655735117014,
          -3.785777209313028,
          0.18056872610021268,
          5.448446229195813,
          -2.622391860336215,
          -1.8998298201418924,
          -3.753801139468137,
          -3.488753855205954,
          -2.2641684842081404,
          -0.476480859028334,
          1.0509068841167803,
          -1.2688841488582916,
          -6.293299133613227,
          -0.9935789688444183,
          -1.1257758856932882,
          2.046358133390606,
          3.6843775873142626,
          2.715815654833465,
          2.1268659283186038,
          -0.25302405717524495,
          -1.9807008915463038,
          -2.0556320249212647,
          4.021912045729035,
          0.477536344642944,
          1.6396214060217884,
          2.3223613761862887,
          -3.9531195129576986,
          -3.1981007482587884,
          1.8073118966735602,
          0.6279408412623164,
          2.721723335973898,
          -6.677829000401408,
          -6.2578700688212745,
          1.4479080692938209,
          0.37769807761747415,
          -1.72383866082156,
          0.539324007465166,
          -1.4741812249203696,
          3.036390908766884,
          -1.6200384761981976,
          4.064181057655818,
          0.5642671337729164,
          -4.1074220138336885,
          -0.03665615037676179,
          -7.531939873404198,
          -0.437909691289636,
          -2.785563774460026,
          3.0619983606618857,
          1.4180046626777525,
          -0.49532084834992773,
          -2.265114072871758,
          -1.474766327711796,
          -2.3709917675075154,
          0.3677970234451187,
          4.2348786437765655,
          1.7443315609392651,
          1.5974373310676722,
          -0.6430627851487163,
          -2.190099665004992,
          1.2175807567595875,
          0.4948185789410708,
          -0.3354012842091033
         ],
         "xaxis": "x",
         "yaxis": "y"
        },
        {
         "alignmentgroup": "True",
         "boxpoints": "all",
         "fillcolor": "rgba(255,255,255,0)",
         "hoveron": "points",
         "hovertemplate": "choc=15<br>rating=%{x}<extra></extra>",
         "jitter": 0,
         "legendgroup": "15",
         "line": {
          "color": "rgba(255,255,255,0)"
         },
         "marker": {
          "color": "#8C564B",
          "symbol": "line-ns-open"
         },
         "name": "15",
         "offsetgroup": "15",
         "showlegend": false,
         "type": "box",
         "x": [
          -0.9201746064882073,
          -3.525647151594354,
          -0.7278403952241492,
          -1.7569117521072506,
          0.9629306518736014,
          -0.20797776247673938,
          -2.9400117914927772,
          -0.4209389837759446,
          -6.103052516404585,
          -3.131646657032798,
          -4.012403319621794,
          3.0610979590937246,
          0.9818837607299227,
          0.988072307343024,
          1.6897080079532083,
          -6.2848559969979565,
          -2.109238914522902,
          -5.771005367973725,
          1.640928354575525,
          0.5763075174656309,
          -0.664674449801358,
          -3.196851899689682,
          0.12376722723854666,
          1.0273545756370703,
          -1.0499047271696866,
          2.673249045146752,
          1.9787922604467334,
          3.1133871283622163,
          1.0688177422044538,
          -0.25132940184538266,
          -3.880190419556145,
          1.0362174739275254,
          2.1245890663826565,
          3.9204877763928203,
          -3.38917051456239,
          2.357699090738689,
          -2.252129242123634,
          -1.2550224719468002,
          3.43655735117014,
          -3.785777209313028,
          0.18056872610021268,
          5.448446229195813,
          -2.622391860336215,
          -1.8998298201418924,
          -3.753801139468137,
          -3.488753855205954,
          -2.2641684842081404,
          -0.476480859028334,
          1.0509068841167803,
          -1.2688841488582916,
          -6.293299133613227,
          -0.9935789688444183,
          -1.1257758856932882,
          2.046358133390606,
          3.6843775873142626,
          2.715815654833465,
          2.1268659283186038,
          -0.25302405717524495,
          -1.9807008915463038,
          -2.0556320249212647,
          4.021912045729035,
          0.477536344642944,
          1.6396214060217884,
          2.3223613761862887,
          -3.9531195129576986,
          -3.1981007482587884,
          1.8073118966735602,
          0.6279408412623164,
          2.721723335973898,
          -6.677829000401408,
          -6.2578700688212745,
          1.4479080692938209,
          0.37769807761747415,
          -1.72383866082156,
          0.539324007465166,
          -1.4741812249203696,
          3.036390908766884,
          -1.6200384761981976,
          4.064181057655818,
          0.5642671337729164,
          -4.1074220138336885,
          -0.03665615037676179,
          -7.531939873404198,
          -0.437909691289636,
          -2.785563774460026,
          3.0619983606618857,
          1.4180046626777525,
          -0.49532084834992773,
          -2.265114072871758,
          -1.474766327711796,
          -2.3709917675075154,
          0.3677970234451187,
          4.2348786437765655,
          1.7443315609392651,
          1.5974373310676722,
          -0.6430627851487163,
          -2.190099665004992,
          1.2175807567595875,
          0.4948185789410708,
          -0.3354012842091033
         ],
         "xaxis": "x2",
         "yaxis": "y2"
        },
        {
         "alignmentgroup": "True",
         "bingroup": "x",
         "hovertemplate": "choc=16<br>rating=%{x}<br>count=%{y}<extra></extra>",
         "legendgroup": "16",
         "marker": {
          "color": "#E377C2",
          "pattern": {
           "shape": ""
          }
         },
         "name": "16",
         "offsetgroup": "16",
         "orientation": "v",
         "showlegend": true,
         "type": "histogram",
         "x": [
          0.8849061466347677,
          0.9749891153568887,
          -2.65700609685957,
          -0.43731527034169554,
          -0.5314992499516498,
          -0.5921302748617046,
          -3.4392742510001293,
          -1.4248072131383482,
          -1.028485841563572,
          -2.6853036601071194,
          4.543462263812017,
          -0.18409295110540647,
          -4.002418401832185,
          -0.0075500279552156435,
          -3.752430154287722,
          -0.812105186420173,
          -5.385917550424756,
          -2.9896739830013974,
          0.6879337519825798,
          -2.3536401589283726,
          3.1622139388734403,
          -2.1275840633158407,
          -0.5344863384485359,
          -1.1493385365325446,
          -3.1275315893050086,
          2.3438036255360175,
          -3.140786636146522,
          1.226843553698366,
          -9.178818631923562,
          3.3839425278391233,
          -1.5764993301461576,
          -3.604734805788298,
          -2.7689683653889188,
          0.39114021453623893,
          -0.4998421294728937,
          -0.5601289533590558,
          -5.145563559230827,
          -1.7856906405273603,
          4.224969726707224,
          -0.6951844789037149,
          0.4781156019732692,
          1.9487446574096907,
          -1.8018451511691964,
          -0.521867150969335,
          1.5506103226260244,
          -4.506010306532451,
          -0.8026979639769286,
          0.2535628575093277,
          -4.753357307183732,
          -3.514258667446575,
          -4.289971213738483,
          -1.7654698778328828,
          -1.6709140340247342,
          1.7433217410627555,
          -0.0775023114535528,
          0.2104976917986071,
          -4.774670085061182,
          -2.3147836816216794,
          0.5343382961968678,
          0.11751098474052768,
          -2.0047916795162135,
          2.5385618485061063,
          -0.32070219111887355,
          -3.0899572648516003,
          -0.7132379687476726,
          1.1977940214773493,
          -4.440895157579727,
          2.1502828373418383,
          -0.7978460819597727,
          1.0947796999572659,
          -5.2281998222936785,
          -0.46218768367550583,
          -3.7944632583629203,
          -1.2637880979159766,
          0.5042248531416297,
          -5.621103569643108,
          2.0656179515242363,
          -2.70847161891812,
          -4.283226380140523,
          1.3785534100267407,
          -0.462219885972821,
          -1.4489341740112924,
          -6.882352085786128,
          -2.6898722407147284,
          -3.2479931993293905,
          -2.229356952878938,
          -1.564782895007546,
          4.351628617711224,
          -0.07638908002203393,
          -1.2337394314990946,
          -0.5005405082367893,
          -3.9038791862178512,
          -4.271794589566649,
          -4.833669766843991,
          -3.0724237900325893,
          -1.806717378865398,
          1.6631027853712488,
          2.7094119332322593,
          3.2805858063690327,
          -3.5165030393099457
         ],
         "xaxis": "x",
         "yaxis": "y"
        },
        {
         "alignmentgroup": "True",
         "boxpoints": "all",
         "fillcolor": "rgba(255,255,255,0)",
         "hoveron": "points",
         "hovertemplate": "choc=16<br>rating=%{x}<extra></extra>",
         "jitter": 0,
         "legendgroup": "16",
         "line": {
          "color": "rgba(255,255,255,0)"
         },
         "marker": {
          "color": "#E377C2",
          "symbol": "line-ns-open"
         },
         "name": "16",
         "offsetgroup": "16",
         "showlegend": false,
         "type": "box",
         "x": [
          0.8849061466347677,
          0.9749891153568887,
          -2.65700609685957,
          -0.43731527034169554,
          -0.5314992499516498,
          -0.5921302748617046,
          -3.4392742510001293,
          -1.4248072131383482,
          -1.028485841563572,
          -2.6853036601071194,
          4.543462263812017,
          -0.18409295110540647,
          -4.002418401832185,
          -0.0075500279552156435,
          -3.752430154287722,
          -0.812105186420173,
          -5.385917550424756,
          -2.9896739830013974,
          0.6879337519825798,
          -2.3536401589283726,
          3.1622139388734403,
          -2.1275840633158407,
          -0.5344863384485359,
          -1.1493385365325446,
          -3.1275315893050086,
          2.3438036255360175,
          -3.140786636146522,
          1.226843553698366,
          -9.178818631923562,
          3.3839425278391233,
          -1.5764993301461576,
          -3.604734805788298,
          -2.7689683653889188,
          0.39114021453623893,
          -0.4998421294728937,
          -0.5601289533590558,
          -5.145563559230827,
          -1.7856906405273603,
          4.224969726707224,
          -0.6951844789037149,
          0.4781156019732692,
          1.9487446574096907,
          -1.8018451511691964,
          -0.521867150969335,
          1.5506103226260244,
          -4.506010306532451,
          -0.8026979639769286,
          0.2535628575093277,
          -4.753357307183732,
          -3.514258667446575,
          -4.289971213738483,
          -1.7654698778328828,
          -1.6709140340247342,
          1.7433217410627555,
          -0.0775023114535528,
          0.2104976917986071,
          -4.774670085061182,
          -2.3147836816216794,
          0.5343382961968678,
          0.11751098474052768,
          -2.0047916795162135,
          2.5385618485061063,
          -0.32070219111887355,
          -3.0899572648516003,
          -0.7132379687476726,
          1.1977940214773493,
          -4.440895157579727,
          2.1502828373418383,
          -0.7978460819597727,
          1.0947796999572659,
          -5.2281998222936785,
          -0.46218768367550583,
          -3.7944632583629203,
          -1.2637880979159766,
          0.5042248531416297,
          -5.621103569643108,
          2.0656179515242363,
          -2.70847161891812,
          -4.283226380140523,
          1.3785534100267407,
          -0.462219885972821,
          -1.4489341740112924,
          -6.882352085786128,
          -2.6898722407147284,
          -3.2479931993293905,
          -2.229356952878938,
          -1.564782895007546,
          4.351628617711224,
          -0.07638908002203393,
          -1.2337394314990946,
          -0.5005405082367893,
          -3.9038791862178512,
          -4.271794589566649,
          -4.833669766843991,
          -3.0724237900325893,
          -1.806717378865398,
          1.6631027853712488,
          2.7094119332322593,
          3.2805858063690327,
          -3.5165030393099457
         ],
         "xaxis": "x2",
         "yaxis": "y2"
        },
        {
         "alignmentgroup": "True",
         "bingroup": "x",
         "hovertemplate": "choc=17<br>rating=%{x}<br>count=%{y}<extra></extra>",
         "legendgroup": "17",
         "marker": {
          "color": "#7F7F7F",
          "pattern": {
           "shape": ""
          }
         },
         "name": "17",
         "offsetgroup": "17",
         "orientation": "v",
         "showlegend": true,
         "type": "histogram",
         "x": [
          -0.24754513286373353,
          -0.4763973512636537,
          0.9991070965518785,
          -0.14664461194108308,
          1.6364201718137432,
          2.1220423515941134,
          -0.37859717471091314,
          0.4166429082350772,
          2.219624007952846,
          -2.200204537056946,
          0.1886431391155884,
          -1.4728202746229977,
          -2.82977812770405,
          0.4687343192141715,
          -0.338725033185425,
          -1.7350237167303302,
          2.518522654845686,
          -2.5641372242323524,
          -1.1844715616355876,
          -1.533767398400906,
          -2.896973203557751,
          -2.9112739488246593,
          0.3094119103448172,
          -3.0927728511049235,
          -0.665848293385174,
          0.43006194113298857,
          -2.915503823701017,
          -2.226816135795364,
          -3.38677929637979,
          -2.6644721462358447,
          1.7153063529418027,
          2.5610371855543352,
          -1.0727149528220192,
          -0.10611171736965253,
          -1.3893456775122264,
          0.7649173656233463,
          3.3759250931994496,
          4.596201462921438,
          1.4648669564102341,
          0.3469950627716937,
          4.168080858883934,
          -3.546760743183744,
          -3.0707069057311314,
          -3.620929107992769,
          -2.451195132687567,
          0.00019096112574240598,
          4.088710481737064,
          -2.064481793791357,
          -3.8870122966561675,
          2.343740370077005,
          -1.388721211612892,
          -1.896488062092995,
          0.6674737389177272,
          0.3401660388861306,
          -4.096506749896903,
          -4.934042019903354,
          1.4225481485070255,
          -1.5680772403132852,
          1.0981518987415473,
          -2.5847708816387955,
          3.4904487531701127,
          0.7059863003029214,
          -2.069142500893064,
          0.16877658402620788,
          -2.462096920764325,
          -3.026430404975307,
          -1.4536829391295092,
          0.7857552924608595,
          -3.268863642498946,
          -0.23314527632819712,
          -0.8420414255915111,
          -0.34625108157050954,
          2.7204868340563415,
          1.2532120390702575,
          1.5985587592586896,
          1.4482552243792626,
          1.8349817985279235,
          0.284267980729755,
          0.47125734578625567,
          -0.07715269817121806,
          0.8666993205880742,
          0.2011685324676863,
          0.37135305220338266,
          2.453287256948916,
          0.351574282018715,
          -2.2479683260893566,
          -0.6830917978604897,
          0.8297704569877404,
          -0.15196978986333437,
          -2.654677235554912,
          -2.1493389924014394,
          2.3242828281648062,
          -2.5944242176715804,
          -0.9082170917271274,
          0.39035078429689174,
          -1.3681815602543168,
          -4.949308796624302,
          2.554738260681644,
          0.438809568865138,
          3.7649518642196504
         ],
         "xaxis": "x",
         "yaxis": "y"
        },
        {
         "alignmentgroup": "True",
         "boxpoints": "all",
         "fillcolor": "rgba(255,255,255,0)",
         "hoveron": "points",
         "hovertemplate": "choc=17<br>rating=%{x}<extra></extra>",
         "jitter": 0,
         "legendgroup": "17",
         "line": {
          "color": "rgba(255,255,255,0)"
         },
         "marker": {
          "color": "#7F7F7F",
          "symbol": "line-ns-open"
         },
         "name": "17",
         "offsetgroup": "17",
         "showlegend": false,
         "type": "box",
         "x": [
          -0.24754513286373353,
          -0.4763973512636537,
          0.9991070965518785,
          -0.14664461194108308,
          1.6364201718137432,
          2.1220423515941134,
          -0.37859717471091314,
          0.4166429082350772,
          2.219624007952846,
          -2.200204537056946,
          0.1886431391155884,
          -1.4728202746229977,
          -2.82977812770405,
          0.4687343192141715,
          -0.338725033185425,
          -1.7350237167303302,
          2.518522654845686,
          -2.5641372242323524,
          -1.1844715616355876,
          -1.533767398400906,
          -2.896973203557751,
          -2.9112739488246593,
          0.3094119103448172,
          -3.0927728511049235,
          -0.665848293385174,
          0.43006194113298857,
          -2.915503823701017,
          -2.226816135795364,
          -3.38677929637979,
          -2.6644721462358447,
          1.7153063529418027,
          2.5610371855543352,
          -1.0727149528220192,
          -0.10611171736965253,
          -1.3893456775122264,
          0.7649173656233463,
          3.3759250931994496,
          4.596201462921438,
          1.4648669564102341,
          0.3469950627716937,
          4.168080858883934,
          -3.546760743183744,
          -3.0707069057311314,
          -3.620929107992769,
          -2.451195132687567,
          0.00019096112574240598,
          4.088710481737064,
          -2.064481793791357,
          -3.8870122966561675,
          2.343740370077005,
          -1.388721211612892,
          -1.896488062092995,
          0.6674737389177272,
          0.3401660388861306,
          -4.096506749896903,
          -4.934042019903354,
          1.4225481485070255,
          -1.5680772403132852,
          1.0981518987415473,
          -2.5847708816387955,
          3.4904487531701127,
          0.7059863003029214,
          -2.069142500893064,
          0.16877658402620788,
          -2.462096920764325,
          -3.026430404975307,
          -1.4536829391295092,
          0.7857552924608595,
          -3.268863642498946,
          -0.23314527632819712,
          -0.8420414255915111,
          -0.34625108157050954,
          2.7204868340563415,
          1.2532120390702575,
          1.5985587592586896,
          1.4482552243792626,
          1.8349817985279235,
          0.284267980729755,
          0.47125734578625567,
          -0.07715269817121806,
          0.8666993205880742,
          0.2011685324676863,
          0.37135305220338266,
          2.453287256948916,
          0.351574282018715,
          -2.2479683260893566,
          -0.6830917978604897,
          0.8297704569877404,
          -0.15196978986333437,
          -2.654677235554912,
          -2.1493389924014394,
          2.3242828281648062,
          -2.5944242176715804,
          -0.9082170917271274,
          0.39035078429689174,
          -1.3681815602543168,
          -4.949308796624302,
          2.554738260681644,
          0.438809568865138,
          3.7649518642196504
         ],
         "xaxis": "x2",
         "yaxis": "y2"
        },
        {
         "alignmentgroup": "True",
         "bingroup": "x",
         "hovertemplate": "choc=18<br>rating=%{x}<br>count=%{y}<extra></extra>",
         "legendgroup": "18",
         "marker": {
          "color": "#BCBD22",
          "pattern": {
           "shape": ""
          }
         },
         "name": "18",
         "offsetgroup": "18",
         "orientation": "v",
         "showlegend": true,
         "type": "histogram",
         "x": [
          3.2134780765928017,
          10.821149820582278,
          -1.4276365888547038,
          -3.54144755702885,
          0.5672014871863703,
          -0.3713497013843995,
          1.1964766444401032,
          -4.098381059852548,
          0.6935486700710104,
          -2.9593310583021317,
          1.8555324686795591,
          3.0062611264829626,
          -0.08792385077026271,
          2.034942447673273,
          2.228729804462477,
          -1.4204869480592006,
          -4.896138886793688,
          -3.272464803107514,
          3.2135501685207175,
          2.4832094814068517,
          2.8104847711099996,
          1.7453666585619552,
          5.963502465039643,
          -0.5023050127045784,
          -0.2445086107466557,
          4.655435915705966,
          -0.19382124932280975,
          -0.29097367582605643,
          5.683213134020792,
          3.881128823774012,
          3.320012920653627,
          -0.40407320856546186,
          0.30353046546333423,
          4.718237082119833,
          0.8441105213263562,
          -1.610555975388697,
          7.138634499086759,
          0.43629737791261525,
          0.9473346783420896,
          -2.463664304622086,
          -3.813578528589687,
          4.026084119007451,
          4.654708040796771,
          5.520499697665857,
          -0.09719529730061988,
          -0.8707426270439248,
          -3.929622961437326,
          -0.817245384128254,
          -0.057794517865345785,
          0.5681349433209079,
          -4.987472346788171,
          0.20701899099454063,
          3.057726081849986,
          -9.101893621980196,
          -3.380423325072205,
          -0.5604757942213724,
          0.08791884156389866,
          -5.743417508263292,
          0.009857783122041039,
          -2.249216279696506,
          4.7364777083116145,
          -0.3401949153479721,
          -2.0669103957512913,
          0.9739736309983765,
          1.227755827858392,
          1.910080518595077,
          -6.814313079175514,
          -4.575560761572323,
          -0.5782591856900183,
          0.8468186424750177,
          3.32838395638664,
          -4.522775839889488,
          0.19925196236425402,
          -2.0231234787868666,
          -2.4454968360196165,
          4.223329350331399,
          -0.6917310834958447,
          -0.521114540837884,
          -3.18967126984066,
          -2.783530142457433,
          5.050249320700714,
          -0.5888648049450514,
          -2.367652031969517,
          7.737430545580971,
          -2.9708287922397596,
          -6.2010696708447774,
          4.363205551287593,
          1.1147178477150814,
          7.9265289260290315,
          -3.640384855124137,
          2.8547315113813934,
          -3.6899469851018845,
          3.640776439979817,
          -5.100253685395024,
          0.4973088615414586,
          0.04285664721085401,
          -5.687030689773531,
          2.836967674241813,
          1.8230097090722395,
          3.071359735405843
         ],
         "xaxis": "x",
         "yaxis": "y"
        },
        {
         "alignmentgroup": "True",
         "boxpoints": "all",
         "fillcolor": "rgba(255,255,255,0)",
         "hoveron": "points",
         "hovertemplate": "choc=18<br>rating=%{x}<extra></extra>",
         "jitter": 0,
         "legendgroup": "18",
         "line": {
          "color": "rgba(255,255,255,0)"
         },
         "marker": {
          "color": "#BCBD22",
          "symbol": "line-ns-open"
         },
         "name": "18",
         "offsetgroup": "18",
         "showlegend": false,
         "type": "box",
         "x": [
          3.2134780765928017,
          10.821149820582278,
          -1.4276365888547038,
          -3.54144755702885,
          0.5672014871863703,
          -0.3713497013843995,
          1.1964766444401032,
          -4.098381059852548,
          0.6935486700710104,
          -2.9593310583021317,
          1.8555324686795591,
          3.0062611264829626,
          -0.08792385077026271,
          2.034942447673273,
          2.228729804462477,
          -1.4204869480592006,
          -4.896138886793688,
          -3.272464803107514,
          3.2135501685207175,
          2.4832094814068517,
          2.8104847711099996,
          1.7453666585619552,
          5.963502465039643,
          -0.5023050127045784,
          -0.2445086107466557,
          4.655435915705966,
          -0.19382124932280975,
          -0.29097367582605643,
          5.683213134020792,
          3.881128823774012,
          3.320012920653627,
          -0.40407320856546186,
          0.30353046546333423,
          4.718237082119833,
          0.8441105213263562,
          -1.610555975388697,
          7.138634499086759,
          0.43629737791261525,
          0.9473346783420896,
          -2.463664304622086,
          -3.813578528589687,
          4.026084119007451,
          4.654708040796771,
          5.520499697665857,
          -0.09719529730061988,
          -0.8707426270439248,
          -3.929622961437326,
          -0.817245384128254,
          -0.057794517865345785,
          0.5681349433209079,
          -4.987472346788171,
          0.20701899099454063,
          3.057726081849986,
          -9.101893621980196,
          -3.380423325072205,
          -0.5604757942213724,
          0.08791884156389866,
          -5.743417508263292,
          0.009857783122041039,
          -2.249216279696506,
          4.7364777083116145,
          -0.3401949153479721,
          -2.0669103957512913,
          0.9739736309983765,
          1.227755827858392,
          1.910080518595077,
          -6.814313079175514,
          -4.575560761572323,
          -0.5782591856900183,
          0.8468186424750177,
          3.32838395638664,
          -4.522775839889488,
          0.19925196236425402,
          -2.0231234787868666,
          -2.4454968360196165,
          4.223329350331399,
          -0.6917310834958447,
          -0.521114540837884,
          -3.18967126984066,
          -2.783530142457433,
          5.050249320700714,
          -0.5888648049450514,
          -2.367652031969517,
          7.737430545580971,
          -2.9708287922397596,
          -6.2010696708447774,
          4.363205551287593,
          1.1147178477150814,
          7.9265289260290315,
          -3.640384855124137,
          2.8547315113813934,
          -3.6899469851018845,
          3.640776439979817,
          -5.100253685395024,
          0.4973088615414586,
          0.04285664721085401,
          -5.687030689773531,
          2.836967674241813,
          1.8230097090722395,
          3.071359735405843
         ],
         "xaxis": "x2",
         "yaxis": "y2"
        },
        {
         "alignmentgroup": "True",
         "bingroup": "x",
         "hovertemplate": "choc=19<br>rating=%{x}<br>count=%{y}<extra></extra>",
         "legendgroup": "19",
         "marker": {
          "color": "#17BECF",
          "pattern": {
           "shape": ""
          }
         },
         "name": "19",
         "offsetgroup": "19",
         "orientation": "v",
         "showlegend": true,
         "type": "histogram",
         "x": [
          -1.682514204763619,
          -0.5776053443205889,
          -2.481395416322631,
          0.31155137287317475,
          -0.17212489155251637,
          -1.317770797048457,
          -0.0338500858578471,
          0.68406483216089,
          1.879145884546232,
          -2.874491063209389,
          0.7857692963961396,
          -0.05500241022457636,
          -0.5844186361404812,
          0.29677689404806135,
          1.1316291968992132,
          0.5883263524252522,
          0.07593795264954578,
          -0.7193052530504039,
          -1.3947291489995486,
          -0.9846515368873132,
          -2.1213272468068616,
          0.1273766841991571,
          -0.38412780906260197,
          0.21069629481549595,
          -0.2871043354831537,
          -0.3686087662389421,
          0.3406707045189948,
          0.9627653954829376,
          -0.5673708238755095,
          -0.7924554492263396,
          -1.6700135104549534,
          -0.5205360375757749,
          -1.6407956153876166,
          0.49075871775127405,
          -1.0279622626824378,
          0.2901220321751657,
          -2.44269967617022,
          -0.8232362432880443,
          -0.15418310210071035,
          -0.3115167265336365,
          -0.6197928633168869,
          -0.6227320005177363,
          1.052797795419896,
          1.7210992859947103,
          1.1337306331210781,
          -0.5181904432399017,
          -1.8924234273351421,
          0.128917504010377,
          0.41488398191054915,
          1.5074156848729745,
          -0.4397830101421188,
          0.1178243871287436,
          -1.9884881503613832,
          -1.5399357874673105,
          -0.46293599090317583,
          0.41857063667653777,
          -1.316978685966266,
          -1.2750111164831277,
          -0.7668883562601683,
          -1.3732467615933308,
          0.8979613527270118,
          -0.3293827248024065,
          -1.2934418910871313,
          -0.7576514148678317,
          -1.5382040782696396,
          0.4944614885528094,
          -1.0332733007749884,
          -0.9299225260447578,
          -0.4905999896176067,
          -0.7271296191604883,
          -0.5353245905009482,
          0.18106974324706054,
          -1.215544870553913,
          -0.2420899609761635,
          -1.1382805525487218,
          0.8019404969113382,
          0.1387235471089316,
          0.6001478921101118,
          -0.12785247527470955,
          -0.6399437427638951,
          1.0936308582143306,
          -0.8138507549871007,
          -0.7878955859859953,
          0.2568578322259149,
          -1.5403548191240253,
          -1.0498879706180393,
          -0.6867009423289943,
          -0.6339850877303901,
          -0.627611575886122,
          -1.3835139201521978,
          -1.3750522888871861,
          -0.6607872294680092,
          -0.4059897672197615,
          -1.3196200106832194,
          0.0063990022895942245,
          0.15215298994365828,
          -0.01536306107527824,
          -2.6899829784729072,
          0.06599509648643626,
          -0.2913241821918665
         ],
         "xaxis": "x",
         "yaxis": "y"
        },
        {
         "alignmentgroup": "True",
         "boxpoints": "all",
         "fillcolor": "rgba(255,255,255,0)",
         "hoveron": "points",
         "hovertemplate": "choc=19<br>rating=%{x}<extra></extra>",
         "jitter": 0,
         "legendgroup": "19",
         "line": {
          "color": "rgba(255,255,255,0)"
         },
         "marker": {
          "color": "#17BECF",
          "symbol": "line-ns-open"
         },
         "name": "19",
         "offsetgroup": "19",
         "showlegend": false,
         "type": "box",
         "x": [
          -1.682514204763619,
          -0.5776053443205889,
          -2.481395416322631,
          0.31155137287317475,
          -0.17212489155251637,
          -1.317770797048457,
          -0.0338500858578471,
          0.68406483216089,
          1.879145884546232,
          -2.874491063209389,
          0.7857692963961396,
          -0.05500241022457636,
          -0.5844186361404812,
          0.29677689404806135,
          1.1316291968992132,
          0.5883263524252522,
          0.07593795264954578,
          -0.7193052530504039,
          -1.3947291489995486,
          -0.9846515368873132,
          -2.1213272468068616,
          0.1273766841991571,
          -0.38412780906260197,
          0.21069629481549595,
          -0.2871043354831537,
          -0.3686087662389421,
          0.3406707045189948,
          0.9627653954829376,
          -0.5673708238755095,
          -0.7924554492263396,
          -1.6700135104549534,
          -0.5205360375757749,
          -1.6407956153876166,
          0.49075871775127405,
          -1.0279622626824378,
          0.2901220321751657,
          -2.44269967617022,
          -0.8232362432880443,
          -0.15418310210071035,
          -0.3115167265336365,
          -0.6197928633168869,
          -0.6227320005177363,
          1.052797795419896,
          1.7210992859947103,
          1.1337306331210781,
          -0.5181904432399017,
          -1.8924234273351421,
          0.128917504010377,
          0.41488398191054915,
          1.5074156848729745,
          -0.4397830101421188,
          0.1178243871287436,
          -1.9884881503613832,
          -1.5399357874673105,
          -0.46293599090317583,
          0.41857063667653777,
          -1.316978685966266,
          -1.2750111164831277,
          -0.7668883562601683,
          -1.3732467615933308,
          0.8979613527270118,
          -0.3293827248024065,
          -1.2934418910871313,
          -0.7576514148678317,
          -1.5382040782696396,
          0.4944614885528094,
          -1.0332733007749884,
          -0.9299225260447578,
          -0.4905999896176067,
          -0.7271296191604883,
          -0.5353245905009482,
          0.18106974324706054,
          -1.215544870553913,
          -0.2420899609761635,
          -1.1382805525487218,
          0.8019404969113382,
          0.1387235471089316,
          0.6001478921101118,
          -0.12785247527470955,
          -0.6399437427638951,
          1.0936308582143306,
          -0.8138507549871007,
          -0.7878955859859953,
          0.2568578322259149,
          -1.5403548191240253,
          -1.0498879706180393,
          -0.6867009423289943,
          -0.6339850877303901,
          -0.627611575886122,
          -1.3835139201521978,
          -1.3750522888871861,
          -0.6607872294680092,
          -0.4059897672197615,
          -1.3196200106832194,
          0.0063990022895942245,
          0.15215298994365828,
          -0.01536306107527824,
          -2.6899829784729072,
          0.06599509648643626,
          -0.2913241821918665
         ],
         "xaxis": "x2",
         "yaxis": "y2"
        }
       ],
       "layout": {
        "barmode": "relative",
        "height": 600,
        "legend": {
         "title": {
          "text": "choc"
         },
         "tracegroupgap": 0
        },
        "margin": {
         "t": 60
        },
        "template": {
         "data": {
          "bar": [
           {
            "error_x": {
             "color": "rgb(36,36,36)"
            },
            "error_y": {
             "color": "rgb(36,36,36)"
            },
            "marker": {
             "line": {
              "color": "white",
              "width": 0.5
             },
             "pattern": {
              "fillmode": "overlay",
              "size": 10,
              "solidity": 0.2
             }
            },
            "type": "bar"
           }
          ],
          "barpolar": [
           {
            "marker": {
             "line": {
              "color": "white",
              "width": 0.5
             },
             "pattern": {
              "fillmode": "overlay",
              "size": 10,
              "solidity": 0.2
             }
            },
            "type": "barpolar"
           }
          ],
          "carpet": [
           {
            "aaxis": {
             "endlinecolor": "rgb(36,36,36)",
             "gridcolor": "white",
             "linecolor": "white",
             "minorgridcolor": "white",
             "startlinecolor": "rgb(36,36,36)"
            },
            "baxis": {
             "endlinecolor": "rgb(36,36,36)",
             "gridcolor": "white",
             "linecolor": "white",
             "minorgridcolor": "white",
             "startlinecolor": "rgb(36,36,36)"
            },
            "type": "carpet"
           }
          ],
          "choropleth": [
           {
            "colorbar": {
             "outlinewidth": 1,
             "tickcolor": "rgb(36,36,36)",
             "ticks": "outside"
            },
            "type": "choropleth"
           }
          ],
          "contour": [
           {
            "colorbar": {
             "outlinewidth": 1,
             "tickcolor": "rgb(36,36,36)",
             "ticks": "outside"
            },
            "colorscale": [
             [
              0,
              "#440154"
             ],
             [
              0.1111111111111111,
              "#482878"
             ],
             [
              0.2222222222222222,
              "#3e4989"
             ],
             [
              0.3333333333333333,
              "#31688e"
             ],
             [
              0.4444444444444444,
              "#26828e"
             ],
             [
              0.5555555555555556,
              "#1f9e89"
             ],
             [
              0.6666666666666666,
              "#35b779"
             ],
             [
              0.7777777777777778,
              "#6ece58"
             ],
             [
              0.8888888888888888,
              "#b5de2b"
             ],
             [
              1,
              "#fde725"
             ]
            ],
            "type": "contour"
           }
          ],
          "contourcarpet": [
           {
            "colorbar": {
             "outlinewidth": 1,
             "tickcolor": "rgb(36,36,36)",
             "ticks": "outside"
            },
            "type": "contourcarpet"
           }
          ],
          "heatmap": [
           {
            "colorbar": {
             "outlinewidth": 1,
             "tickcolor": "rgb(36,36,36)",
             "ticks": "outside"
            },
            "colorscale": [
             [
              0,
              "#440154"
             ],
             [
              0.1111111111111111,
              "#482878"
             ],
             [
              0.2222222222222222,
              "#3e4989"
             ],
             [
              0.3333333333333333,
              "#31688e"
             ],
             [
              0.4444444444444444,
              "#26828e"
             ],
             [
              0.5555555555555556,
              "#1f9e89"
             ],
             [
              0.6666666666666666,
              "#35b779"
             ],
             [
              0.7777777777777778,
              "#6ece58"
             ],
             [
              0.8888888888888888,
              "#b5de2b"
             ],
             [
              1,
              "#fde725"
             ]
            ],
            "type": "heatmap"
           }
          ],
          "heatmapgl": [
           {
            "colorbar": {
             "outlinewidth": 1,
             "tickcolor": "rgb(36,36,36)",
             "ticks": "outside"
            },
            "colorscale": [
             [
              0,
              "#440154"
             ],
             [
              0.1111111111111111,
              "#482878"
             ],
             [
              0.2222222222222222,
              "#3e4989"
             ],
             [
              0.3333333333333333,
              "#31688e"
             ],
             [
              0.4444444444444444,
              "#26828e"
             ],
             [
              0.5555555555555556,
              "#1f9e89"
             ],
             [
              0.6666666666666666,
              "#35b779"
             ],
             [
              0.7777777777777778,
              "#6ece58"
             ],
             [
              0.8888888888888888,
              "#b5de2b"
             ],
             [
              1,
              "#fde725"
             ]
            ],
            "type": "heatmapgl"
           }
          ],
          "histogram": [
           {
            "marker": {
             "line": {
              "color": "white",
              "width": 0.6
             }
            },
            "type": "histogram"
           }
          ],
          "histogram2d": [
           {
            "colorbar": {
             "outlinewidth": 1,
             "tickcolor": "rgb(36,36,36)",
             "ticks": "outside"
            },
            "colorscale": [
             [
              0,
              "#440154"
             ],
             [
              0.1111111111111111,
              "#482878"
             ],
             [
              0.2222222222222222,
              "#3e4989"
             ],
             [
              0.3333333333333333,
              "#31688e"
             ],
             [
              0.4444444444444444,
              "#26828e"
             ],
             [
              0.5555555555555556,
              "#1f9e89"
             ],
             [
              0.6666666666666666,
              "#35b779"
             ],
             [
              0.7777777777777778,
              "#6ece58"
             ],
             [
              0.8888888888888888,
              "#b5de2b"
             ],
             [
              1,
              "#fde725"
             ]
            ],
            "type": "histogram2d"
           }
          ],
          "histogram2dcontour": [
           {
            "colorbar": {
             "outlinewidth": 1,
             "tickcolor": "rgb(36,36,36)",
             "ticks": "outside"
            },
            "colorscale": [
             [
              0,
              "#440154"
             ],
             [
              0.1111111111111111,
              "#482878"
             ],
             [
              0.2222222222222222,
              "#3e4989"
             ],
             [
              0.3333333333333333,
              "#31688e"
             ],
             [
              0.4444444444444444,
              "#26828e"
             ],
             [
              0.5555555555555556,
              "#1f9e89"
             ],
             [
              0.6666666666666666,
              "#35b779"
             ],
             [
              0.7777777777777778,
              "#6ece58"
             ],
             [
              0.8888888888888888,
              "#b5de2b"
             ],
             [
              1,
              "#fde725"
             ]
            ],
            "type": "histogram2dcontour"
           }
          ],
          "mesh3d": [
           {
            "colorbar": {
             "outlinewidth": 1,
             "tickcolor": "rgb(36,36,36)",
             "ticks": "outside"
            },
            "type": "mesh3d"
           }
          ],
          "parcoords": [
           {
            "line": {
             "colorbar": {
              "outlinewidth": 1,
              "tickcolor": "rgb(36,36,36)",
              "ticks": "outside"
             }
            },
            "type": "parcoords"
           }
          ],
          "pie": [
           {
            "automargin": true,
            "type": "pie"
           }
          ],
          "scatter": [
           {
            "fillpattern": {
             "fillmode": "overlay",
             "size": 10,
             "solidity": 0.2
            },
            "type": "scatter"
           }
          ],
          "scatter3d": [
           {
            "line": {
             "colorbar": {
              "outlinewidth": 1,
              "tickcolor": "rgb(36,36,36)",
              "ticks": "outside"
             }
            },
            "marker": {
             "colorbar": {
              "outlinewidth": 1,
              "tickcolor": "rgb(36,36,36)",
              "ticks": "outside"
             }
            },
            "type": "scatter3d"
           }
          ],
          "scattercarpet": [
           {
            "marker": {
             "colorbar": {
              "outlinewidth": 1,
              "tickcolor": "rgb(36,36,36)",
              "ticks": "outside"
             }
            },
            "type": "scattercarpet"
           }
          ],
          "scattergeo": [
           {
            "marker": {
             "colorbar": {
              "outlinewidth": 1,
              "tickcolor": "rgb(36,36,36)",
              "ticks": "outside"
             }
            },
            "type": "scattergeo"
           }
          ],
          "scattergl": [
           {
            "marker": {
             "colorbar": {
              "outlinewidth": 1,
              "tickcolor": "rgb(36,36,36)",
              "ticks": "outside"
             }
            },
            "type": "scattergl"
           }
          ],
          "scattermapbox": [
           {
            "marker": {
             "colorbar": {
              "outlinewidth": 1,
              "tickcolor": "rgb(36,36,36)",
              "ticks": "outside"
             }
            },
            "type": "scattermapbox"
           }
          ],
          "scatterpolar": [
           {
            "marker": {
             "colorbar": {
              "outlinewidth": 1,
              "tickcolor": "rgb(36,36,36)",
              "ticks": "outside"
             }
            },
            "type": "scatterpolar"
           }
          ],
          "scatterpolargl": [
           {
            "marker": {
             "colorbar": {
              "outlinewidth": 1,
              "tickcolor": "rgb(36,36,36)",
              "ticks": "outside"
             }
            },
            "type": "scatterpolargl"
           }
          ],
          "scatterternary": [
           {
            "marker": {
             "colorbar": {
              "outlinewidth": 1,
              "tickcolor": "rgb(36,36,36)",
              "ticks": "outside"
             }
            },
            "type": "scatterternary"
           }
          ],
          "surface": [
           {
            "colorbar": {
             "outlinewidth": 1,
             "tickcolor": "rgb(36,36,36)",
             "ticks": "outside"
            },
            "colorscale": [
             [
              0,
              "#440154"
             ],
             [
              0.1111111111111111,
              "#482878"
             ],
             [
              0.2222222222222222,
              "#3e4989"
             ],
             [
              0.3333333333333333,
              "#31688e"
             ],
             [
              0.4444444444444444,
              "#26828e"
             ],
             [
              0.5555555555555556,
              "#1f9e89"
             ],
             [
              0.6666666666666666,
              "#35b779"
             ],
             [
              0.7777777777777778,
              "#6ece58"
             ],
             [
              0.8888888888888888,
              "#b5de2b"
             ],
             [
              1,
              "#fde725"
             ]
            ],
            "type": "surface"
           }
          ],
          "table": [
           {
            "cells": {
             "fill": {
              "color": "rgb(237,237,237)"
             },
             "line": {
              "color": "white"
             }
            },
            "header": {
             "fill": {
              "color": "rgb(217,217,217)"
             },
             "line": {
              "color": "white"
             }
            },
            "type": "table"
           }
          ]
         },
         "layout": {
          "annotationdefaults": {
           "arrowhead": 0,
           "arrowwidth": 1
          },
          "autotypenumbers": "strict",
          "coloraxis": {
           "colorbar": {
            "outlinewidth": 1,
            "tickcolor": "rgb(36,36,36)",
            "ticks": "outside"
           }
          },
          "colorscale": {
           "diverging": [
            [
             0,
             "rgb(103,0,31)"
            ],
            [
             0.1,
             "rgb(178,24,43)"
            ],
            [
             0.2,
             "rgb(214,96,77)"
            ],
            [
             0.3,
             "rgb(244,165,130)"
            ],
            [
             0.4,
             "rgb(253,219,199)"
            ],
            [
             0.5,
             "rgb(247,247,247)"
            ],
            [
             0.6,
             "rgb(209,229,240)"
            ],
            [
             0.7,
             "rgb(146,197,222)"
            ],
            [
             0.8,
             "rgb(67,147,195)"
            ],
            [
             0.9,
             "rgb(33,102,172)"
            ],
            [
             1,
             "rgb(5,48,97)"
            ]
           ],
           "sequential": [
            [
             0,
             "#440154"
            ],
            [
             0.1111111111111111,
             "#482878"
            ],
            [
             0.2222222222222222,
             "#3e4989"
            ],
            [
             0.3333333333333333,
             "#31688e"
            ],
            [
             0.4444444444444444,
             "#26828e"
            ],
            [
             0.5555555555555556,
             "#1f9e89"
            ],
            [
             0.6666666666666666,
             "#35b779"
            ],
            [
             0.7777777777777778,
             "#6ece58"
            ],
            [
             0.8888888888888888,
             "#b5de2b"
            ],
            [
             1,
             "#fde725"
            ]
           ],
           "sequentialminus": [
            [
             0,
             "#440154"
            ],
            [
             0.1111111111111111,
             "#482878"
            ],
            [
             0.2222222222222222,
             "#3e4989"
            ],
            [
             0.3333333333333333,
             "#31688e"
            ],
            [
             0.4444444444444444,
             "#26828e"
            ],
            [
             0.5555555555555556,
             "#1f9e89"
            ],
            [
             0.6666666666666666,
             "#35b779"
            ],
            [
             0.7777777777777778,
             "#6ece58"
            ],
            [
             0.8888888888888888,
             "#b5de2b"
            ],
            [
             1,
             "#fde725"
            ]
           ]
          },
          "colorway": [
           "#1F77B4",
           "#FF7F0E",
           "#2CA02C",
           "#D62728",
           "#9467BD",
           "#8C564B",
           "#E377C2",
           "#7F7F7F",
           "#BCBD22",
           "#17BECF"
          ],
          "font": {
           "color": "rgb(36,36,36)"
          },
          "geo": {
           "bgcolor": "white",
           "lakecolor": "white",
           "landcolor": "white",
           "showlakes": true,
           "showland": true,
           "subunitcolor": "white"
          },
          "hoverlabel": {
           "align": "left"
          },
          "hovermode": "closest",
          "mapbox": {
           "style": "light"
          },
          "paper_bgcolor": "white",
          "plot_bgcolor": "white",
          "polar": {
           "angularaxis": {
            "gridcolor": "rgb(232,232,232)",
            "linecolor": "rgb(36,36,36)",
            "showgrid": false,
            "showline": true,
            "ticks": "outside"
           },
           "bgcolor": "white",
           "radialaxis": {
            "gridcolor": "rgb(232,232,232)",
            "linecolor": "rgb(36,36,36)",
            "showgrid": false,
            "showline": true,
            "ticks": "outside"
           }
          },
          "scene": {
           "xaxis": {
            "backgroundcolor": "white",
            "gridcolor": "rgb(232,232,232)",
            "gridwidth": 2,
            "linecolor": "rgb(36,36,36)",
            "showbackground": true,
            "showgrid": false,
            "showline": true,
            "ticks": "outside",
            "zeroline": false,
            "zerolinecolor": "rgb(36,36,36)"
           },
           "yaxis": {
            "backgroundcolor": "white",
            "gridcolor": "rgb(232,232,232)",
            "gridwidth": 2,
            "linecolor": "rgb(36,36,36)",
            "showbackground": true,
            "showgrid": false,
            "showline": true,
            "ticks": "outside",
            "zeroline": false,
            "zerolinecolor": "rgb(36,36,36)"
           },
           "zaxis": {
            "backgroundcolor": "white",
            "gridcolor": "rgb(232,232,232)",
            "gridwidth": 2,
            "linecolor": "rgb(36,36,36)",
            "showbackground": true,
            "showgrid": false,
            "showline": true,
            "ticks": "outside",
            "zeroline": false,
            "zerolinecolor": "rgb(36,36,36)"
           }
          },
          "shapedefaults": {
           "fillcolor": "black",
           "line": {
            "width": 0
           },
           "opacity": 0.3
          },
          "ternary": {
           "aaxis": {
            "gridcolor": "rgb(232,232,232)",
            "linecolor": "rgb(36,36,36)",
            "showgrid": false,
            "showline": true,
            "ticks": "outside"
           },
           "baxis": {
            "gridcolor": "rgb(232,232,232)",
            "linecolor": "rgb(36,36,36)",
            "showgrid": false,
            "showline": true,
            "ticks": "outside"
           },
           "bgcolor": "white",
           "caxis": {
            "gridcolor": "rgb(232,232,232)",
            "linecolor": "rgb(36,36,36)",
            "showgrid": false,
            "showline": true,
            "ticks": "outside"
           }
          },
          "title": {
           "x": 0.05
          },
          "xaxis": {
           "automargin": true,
           "gridcolor": "rgb(232,232,232)",
           "linecolor": "rgb(36,36,36)",
           "showgrid": false,
           "showline": true,
           "ticks": "outside",
           "title": {
            "standoff": 15
           },
           "zeroline": false,
           "zerolinecolor": "rgb(36,36,36)"
          },
          "yaxis": {
           "automargin": true,
           "gridcolor": "rgb(232,232,232)",
           "linecolor": "rgb(36,36,36)",
           "showgrid": false,
           "showline": true,
           "ticks": "outside",
           "title": {
            "standoff": 15
           },
           "zeroline": false,
           "zerolinecolor": "rgb(36,36,36)"
          }
         }
        },
        "width": 1000,
        "xaxis": {
         "anchor": "y",
         "domain": [
          0,
          1
         ],
         "title": {
          "text": "rating"
         }
        },
        "xaxis2": {
         "anchor": "y2",
         "domain": [
          0,
          1
         ],
         "matches": "x",
         "showticklabels": false
        },
        "yaxis": {
         "anchor": "x",
         "domain": [
          0,
          0.7326
         ],
         "title": {
          "text": "count"
         }
        },
        "yaxis2": {
         "anchor": "x2",
         "domain": [
          0.7426,
          1
         ],
         "matches": "y2",
         "showline": false,
         "showticklabels": false,
         "ticks": ""
        }
       }
      }
     },
     "metadata": {},
     "output_type": "display_data"
    }
   ],
   "source": [
    "sim_viz.plot_ratings(color='choc',\n",
    "                     marginal='rug')"
   ]
  },
  {
   "attachments": {},
   "cell_type": "markdown",
   "metadata": {},
   "source": [
    "Plotting the ratings given by all people to each chocolate separately highlights the effects of the assumptions in the generative model. The location of ratings along the scale for chocolates differs, with some chocolates having high appeal and other chocolates low appeal. It is also apparent that for some chocolates the appeal ratings are tightly concentrated in one part of the appeal scale, while for others there is a wide spread of ratings. This is the results of the generative model assuming that population level standard deviaitions in appeal differ across chocolates, so that some chocolates are rated similarly by everyone, while other chocolates are more divisive and have a wide range of ratings given."
   ]
  },
  {
   "cell_type": "code",
   "execution_count": 9,
   "metadata": {},
   "outputs": [
    {
     "data": {
      "application/vnd.plotly.v1+json": {
       "config": {
        "plotlyServerURL": "https://plot.ly"
       },
       "data": [
        {
         "alignmentgroup": "True",
         "bingroup": "x",
         "hovertemplate": "choc=0<br>rating=%{x}<br>count=%{y}<extra></extra>",
         "legendgroup": "",
         "marker": {
          "color": "#1F77B4",
          "pattern": {
           "shape": ""
          }
         },
         "name": "",
         "offsetgroup": "",
         "orientation": "v",
         "showlegend": false,
         "type": "histogram",
         "x": [
          1.4689835148195491,
          0.5348835638618483,
          1.8691633017089864,
          1.6232009853604836,
          2.0283961282163463,
          -1.2763181615978694,
          0.765194120997987,
          1.47548564946119,
          1.8656575532243111,
          -1.2795197670025116,
          1.1864158075702378,
          -0.21661524927719591,
          0.293910704291891,
          -0.08085531592287645,
          -0.7443707207481567,
          1.3650775689951609,
          -0.3847281605322338,
          3.1098202485274675,
          0.4542870980020123,
          0.04616285098961484,
          -0.3501079971244243,
          -1.479590813637696,
          -2.0580185173699577,
          3.5719975280572864,
          -1.9202114426935633,
          0.5053240638240756,
          1.818427206880668,
          -0.9884166933330651,
          -1.2123969754004036,
          -1.8730783799172972,
          1.4512331567653807,
          0.5698300770915808,
          0.2469110693626364,
          0.3349176628378152,
          1.973131283575021,
          1.4771710835389804,
          1.3112896473184412,
          -1.6279563651315099,
          2.1127321234911864,
          1.426660406512536,
          -0.90805024237067,
          1.6084393512010637,
          0.4111555827198359,
          0.43819160947807134,
          -1.0686669918266978,
          0.014469056703918876,
          1.217809603731065,
          1.8451586251904817,
          -0.18998350267262645,
          1.0261316659459432,
          0.6706377995325263,
          1.1865615544331767,
          -0.37418465950129565,
          0.08462784316942094,
          3.093956960136256,
          3.25377458778641,
          3.121907979887862,
          2.7137965349428113,
          -1.4272469991822474,
          0.7281832350816593,
          -0.21219853048304746,
          -0.20026306037034933,
          0.213295151242801,
          1.4626751249613867,
          0.7944820040007275,
          0.12842434899533828,
          3.2325115672299907,
          -1.7152211215713236,
          1.049948391963391,
          -1.8726977760065924,
          -1.946678120786495,
          -2.026362353452493,
          0.04513834431035546,
          2.5822084201162006,
          0.49764753941916706,
          -0.4816422119993994,
          0.6876425438560068,
          0.6286441386184863,
          -1.573125719819081,
          -0.35446672241670873,
          -0.6621375522051847,
          1.5464042262407334,
          -2.047599309224756,
          0.5457030525355397,
          1.1445014036808292,
          -0.10105437963988137,
          0.3865005654340061,
          -0.672853934977648,
          -0.5112326979876296,
          0.47387916263762475,
          -1.8628060805753353,
          -0.22460793302428686,
          0.9689060861475078,
          -0.45103531722443013,
          2.2433036244089215,
          0.17739834488479353,
          0.5756831964545313,
          0.5558569840335076,
          -2.6706113175228587,
          -0.6743061272559338
         ],
         "xaxis": "x16",
         "yaxis": "y16"
        },
        {
         "alignmentgroup": "True",
         "bingroup": "x",
         "hovertemplate": "choc=1<br>rating=%{x}<br>count=%{y}<extra></extra>",
         "legendgroup": "",
         "marker": {
          "color": "#1F77B4",
          "pattern": {
           "shape": ""
          }
         },
         "name": "",
         "offsetgroup": "",
         "orientation": "v",
         "showlegend": false,
         "type": "histogram",
         "x": [
          2.120556172479061,
          1.4942322653108255,
          1.6439654478006345,
          1.896866085437967,
          2.0566091726834235,
          3.140577073873791,
          1.06881067076721,
          0.6096380821553848,
          2.3641480422642247,
          2.0414863249396844,
          -0.3087945012002422,
          1.4436286652467678,
          0.8884731250225563,
          2.063092649169181,
          1.421493753870513,
          1.7497012751072067,
          2.2014151356212386,
          2.5973299659717024,
          0.47087984524179527,
          1.1436220147490725,
          1.035965003374139,
          2.971403187642411,
          3.101705861758158,
          3.7663695267948087,
          -0.22184590149231354,
          2.629522393899925,
          1.1938770492787272,
          2.3743319841274135,
          1.3585536869434511,
          0.9456836514443896,
          0.7940486781967856,
          3.9265212720574,
          2.2908773532107354,
          1.5369187087984952,
          1.6959328903081388,
          2.2618819311067595,
          2.4301981617523927,
          1.5876201246958221,
          3.1808250605377153,
          2.999778412582974,
          0.8909375054635109,
          0.835223131478973,
          1.4233719894731234,
          1.6691784965267933,
          1.7529267959439152,
          0.9213866554316342,
          3.3293198682950838,
          2.291278537260948,
          2.644000769618828,
          1.9884608940418538,
          0.9654354477757002,
          3.8761802350441057,
          2.1986370315738264,
          3.689529945528106,
          2.231854951281777,
          -0.8227437814788818,
          1.7498003750729016,
          1.9636059787647215,
          1.3010764834762896,
          2.452898988585119,
          0.6091514631820905,
          2.2948988155844097,
          0.17924211413597502,
          3.3200974844013005,
          1.599534773292571,
          0.03886846671168631,
          2.105487171289799,
          2.5968076335282166,
          2.4739212010379745,
          0.503837069334893,
          2.182320899699795,
          1.1116938922864383,
          2.12848387007625,
          2.3209046500732233,
          1.540811404322551,
          2.0612253886695955,
          2.848931608988406,
          2.81467528272906,
          2.383011207940414,
          1.0521595280092468,
          1.5213855609345532,
          0.6417426331405374,
          0.7469583315414696,
          2.3627403455650855,
          1.3756088498394166,
          2.1430950080693183,
          2.7673983329820384,
          0.011842744814237083,
          -1.2815175602219335,
          1.3733488656242532,
          1.6138079995342824,
          2.035606283874025,
          -1.0983614148457728,
          1.423025987416798,
          -0.3148743197553934,
          1.9214232380079503,
          2.489315219355551,
          1.6815310746782792,
          1.0384467130303074,
          1.983956374939923
         ],
         "xaxis": "x17",
         "yaxis": "y17"
        },
        {
         "alignmentgroup": "True",
         "bingroup": "x",
         "hovertemplate": "choc=2<br>rating=%{x}<br>count=%{y}<extra></extra>",
         "legendgroup": "",
         "marker": {
          "color": "#1F77B4",
          "pattern": {
           "shape": ""
          }
         },
         "name": "",
         "offsetgroup": "",
         "orientation": "v",
         "showlegend": false,
         "type": "histogram",
         "x": [
          6.015644687351331,
          3.5845383108790854,
          -5.944722905971812,
          4.76995685673681,
          3.8494902769986274,
          -0.2694596759098046,
          -4.268222616497727,
          4.261166438850591,
          -5.381031669088193,
          6.567139541224425,
          1.9673050059711161,
          4.777836171231998,
          0.09605087395334078,
          7.462817289098046,
          -0.921826440310819,
          -1.9323653696159364,
          1.8120032976480827,
          -1.215571116961794,
          -3.44618304359619,
          -3.6871290296885686,
          2.258247017714352,
          2.615620590659818,
          -1.5001067248020927,
          0.6888338690703169,
          -2.346587414170302,
          -5.014767547261855,
          -7.238971200346387,
          0.00584330475066943,
          -0.6044904986359325,
          1.602531254866747,
          -0.3122900545200714,
          5.3275946070937215,
          1.3599942103201041,
          -0.4345299392054641,
          3.1760375319401954,
          1.199067324548088,
          0.13207865238519637,
          3.887777676780518,
          -0.6006298182316263,
          7.932678706457504,
          -0.030953068705744206,
          -0.14910968898914284,
          -3.758483441856855,
          -1.0161687288635224,
          3.64073822204548,
          -1.5078303759136074,
          -0.6585678225031428,
          -2.2689830413319236,
          7.470674707422436,
          5.758841905403212,
          -1.2287699010970887,
          -1.1009146876247566,
          -1.7903829119993107,
          -1.0356068046982692,
          1.0096872048119447,
          1.6087446235934684,
          5.63920789424853,
          -1.6931410206650972,
          -1.4673221265725442,
          1.8722959177202385,
          -0.035963179841106425,
          0.5408183202778771,
          3.4797795041005983,
          -3.751858313747844,
          -7.08290879378566,
          1.2940705120952003,
          6.082601416674338,
          0.0028545040014991696,
          1.8769101561388486,
          5.136495477252619,
          -5.042357186306904,
          4.335912166567779,
          -2.825560150537908,
          -1.2678795857785017,
          2.568034789436066,
          3.7161562170751217,
          -1.727069939528624,
          -0.8280655274327684,
          -0.2572542961182822,
          -1.3918464577212657,
          -3.5624917366741586,
          -1.6889708685978837,
          3.104192796292453,
          6.332059429221934,
          4.796971419418322,
          -7.415904125118425,
          2.8234451240035057,
          -1.8926682304854874,
          4.396738503510722,
          4.252215742305786,
          -4.409368615112788,
          2.313396588248228,
          2.8770057713585646,
          -4.021130835119914,
          -2.68495938086213,
          0.7723010090762112,
          -3.4943106252535587,
          7.91169134471555,
          -4.021232054446939,
          2.5800239908627867
         ],
         "xaxis": "x18",
         "yaxis": "y18"
        },
        {
         "alignmentgroup": "True",
         "bingroup": "x",
         "hovertemplate": "choc=3<br>rating=%{x}<br>count=%{y}<extra></extra>",
         "legendgroup": "",
         "marker": {
          "color": "#1F77B4",
          "pattern": {
           "shape": ""
          }
         },
         "name": "",
         "offsetgroup": "",
         "orientation": "v",
         "showlegend": false,
         "type": "histogram",
         "x": [
          -1.2995137866514863,
          1.1763607106255853,
          -2.1270139218844966,
          -1.61654310759699,
          -4.751358380598588,
          -2.189572240200973,
          -1.5682604420833783,
          -4.310074610220564,
          -1.9005996052291554,
          0.7653463323340174,
          0.6359296921308567,
          -0.36894498819582855,
          -3.159278719483949,
          -4.613011335155971,
          2.006349818259539,
          -3.1819084470802523,
          -1.7069829828610803,
          -1.607934782889574,
          -3.438616093745701,
          1.8833755853326304,
          0.15355072970511474,
          -2.288815312762117,
          0.10987097966747572,
          -0.2915601073005073,
          -3.706108290960008,
          -3.7570811114766447,
          1.010301975624781,
          -6.020573851638433,
          0.8195960160525507,
          0.47332344854947583,
          1.4316477878405744,
          -1.8278169479743345,
          1.5420284170842211,
          -3.8082013291579444,
          -1.374208822772085,
          -3.5029002325316867,
          -1.2383664048517082,
          -1.7585870008567468,
          -0.41258906820683894,
          0.5061201987839091,
          -2.402742128666577,
          2.6431492220911825,
          -4.505159600433178,
          -5.042647841806441,
          -3.5607998689771687,
          2.069710183799207,
          -0.9792518218251182,
          -6.024570113842277,
          -1.160547670735699,
          1.2146271481435722,
          -0.020572935869213937,
          2.401488032878697,
          -1.6878985242400861,
          1.1127663035735917,
          0.029782090000263994,
          -7.447652394848703,
          2.5777918931851675,
          -1.4189754552958376,
          -2.1454484165909595,
          3.041013836407987,
          0.17089938308882402,
          0.28466520369581494,
          0.11233234566284911,
          0.08207625755730885,
          -0.805056324011876,
          1.8451545875510371,
          -4.24240813893096,
          -0.08819732938608715,
          2.1516631779082966,
          -2.0407524076067487,
          -6.105373572920129,
          -1.6152581290705323,
          -5.113133906609612,
          -2.064555701113237,
          -0.4221314198069965,
          -4.49519611742763,
          1.9879396224017172,
          -0.8552913746953755,
          -0.3496595953454935,
          2.9868309195898206,
          -0.16820422522493694,
          -3.8244697574590165,
          0.671031350738481,
          -2.987398821449273,
          -3.5151768883700587,
          0.6206594408679765,
          2.3964835662739135,
          -0.8366919418414801,
          0.16850180446811913,
          -0.23336935592370833,
          -2.425068254562817,
          0.9761304861432799,
          -2.627591920734183,
          -2.574766568102875,
          -5.7775805046713895,
          -1.1191799969780376,
          -1.8092416744508615,
          -1.526612239238756,
          -1.647285051787844,
          -1.5241478015105487
         ],
         "xaxis": "x19",
         "yaxis": "y19"
        },
        {
         "alignmentgroup": "True",
         "bingroup": "x",
         "hovertemplate": "choc=4<br>rating=%{x}<br>count=%{y}<extra></extra>",
         "legendgroup": "",
         "marker": {
          "color": "#1F77B4",
          "pattern": {
           "shape": ""
          }
         },
         "name": "",
         "offsetgroup": "",
         "orientation": "v",
         "showlegend": false,
         "type": "histogram",
         "x": [
          0.3292452942972377,
          -1.572890780905226,
          -0.4638518213043191,
          -2.8210463094285023,
          -0.47628957548050177,
          1.0934738217243762,
          -3.5179267098693128,
          -0.9742198351562572,
          -0.2457785561635577,
          -0.28640406789422757,
          -1.7160343629327381,
          -2.8547538726440527,
          -4.569463198560508,
          -1.1204731533169348,
          -2.8929576591161754,
          0.6044143221993041,
          -2.056825697936177,
          -1.3504075449493902,
          1.0134800088971285,
          -2.6223103698968018,
          -0.0006311087344681443,
          -0.9623632884577069,
          -1.9924396087758944,
          1.6358073240459843,
          -2.6269840799315736,
          0.7441135835809896,
          0.4012502245894445,
          -2.20192719362511,
          1.6320256517778369,
          -1.4986976189907137,
          0.5358206379657366,
          -0.8697350766898516,
          -1.3400920767834457,
          -3.9909874415956414,
          0.8041427874914273,
          -2.75410742320822,
          -2.9082752461282597,
          0.7029546656336636,
          -0.7029735240839713,
          0.8029611306145679,
          -1.511814740428618,
          -2.3963163294184158,
          -0.6980023565376972,
          -1.0196827879218198,
          -2.1487928173547086,
          -1.086952337491715,
          -1.5454121291667509,
          -2.563063100782223,
          0.025536445727656343,
          -0.8170012303341407,
          -0.9983374111256128,
          2.385999405659857,
          -2.1630768959127202,
          0.7138646410975154,
          -2.016610131920563,
          -1.8955463405018074,
          -3.6175064831830257,
          1.2175408160727306,
          -1.2237126028124623,
          -2.7961413801827635,
          -1.3613016803749693,
          -0.09816382449533734,
          -3.079702657574049,
          -0.6871500628361482,
          -2.340824481237541,
          -1.4903375710983948,
          1.2339005703514003,
          0.3242148785985828,
          -1.065296900071686,
          -3.5447502406476934,
          -1.3487208508934123,
          -1.025245833557096,
          -2.633861275043618,
          -4.137620707808143,
          -1.8840177056501144,
          -0.38037350418379656,
          -0.31862060683225124,
          -2.6932242953535166,
          2.2215033512863984,
          -4.0650420946323065,
          -2.0872805588938665,
          -2.0878915159885816,
          -1.4753237585347097,
          -0.8938360618522108,
          -1.1121825073971292,
          1.4051100531242715,
          -0.7712510088698565,
          -2.340851377819194,
          -0.5361445460106442,
          -1.6691492189540584,
          -0.33185519129922847,
          -2.0086606457825513,
          -0.7387342424982282,
          -0.6366891499965964,
          -1.0183844804050668,
          -0.4516111660727523,
          -2.323739774570975,
          -2.133427514065593,
          -3.4554660951197524,
          -1.5735031694640584
         ],
         "xaxis": "x20",
         "yaxis": "y20"
        },
        {
         "alignmentgroup": "True",
         "bingroup": "x",
         "hovertemplate": "choc=5<br>rating=%{x}<br>count=%{y}<extra></extra>",
         "legendgroup": "",
         "marker": {
          "color": "#1F77B4",
          "pattern": {
           "shape": ""
          }
         },
         "name": "",
         "offsetgroup": "",
         "orientation": "v",
         "showlegend": false,
         "type": "histogram",
         "x": [
          1.446072919954072,
          -0.6812724420505504,
          1.9582632135637934,
          -4.555149816079046,
          0.43276193848627953,
          3.698579481044205,
          -2.107394106362951,
          1.8486430860103997,
          -3.335295186866473,
          -2.1426569210622533,
          -4.503105261445199,
          0.8138107591273183,
          -0.0009142735512730482,
          -4.361584399842084,
          -1.9135249523044273,
          -1.1436417267963077,
          -5.453383236413211,
          -4.782487167466132,
          1.1616867176716967,
          -3.5851512901578073,
          1.5095711310315796,
          -0.7012372391405811,
          -7.707033302708789,
          3.4631097114192757,
          2.0075803127373533,
          -4.772401222705993,
          -5.2394133318968334,
          0.32550820037324013,
          -1.728596998991958,
          1.1005795480469949,
          1.7786914483557599,
          -0.1322097296659167,
          1.8045086489415425,
          -1.1705642561114273,
          -4.462420841937629,
          0.5920204777279372,
          -1.284769009111242,
          0.822342522161323,
          3.5596605163267885,
          -2.9806192807050222,
          0.5675695401560652,
          -3.3925732479962774,
          5.037456702939623,
          0.2585416175642603,
          3.576316011540575,
          0.03013577558291769,
          -6.962908733394424,
          -1.79784774996172,
          -3.9699252119238553,
          1.0329431822867672,
          2.88037077909779,
          0.7144069293777509,
          -5.306892493450931,
          -2.397252422982219,
          -0.7145294643396426,
          -2.393118121232667,
          -3.6051087921037857,
          -0.030005011808614368,
          -3.9813979804201756,
          2.047899148226001,
          -0.3688755882069782,
          -2.6451406294192004,
          0.21728956548223188,
          -5.183583018807724,
          0.8061852910788736,
          -4.529835334485938,
          -4.637406978485345,
          -4.46194593387136,
          -1.2543180754222,
          3.0677416013603485,
          -2.0845800761174833,
          -4.1410307001449755,
          -5.797545492674632,
          -6.80018008651038,
          2.874587937062515,
          -0.7221418204592673,
          1.7174761209939993,
          -1.1710100770035266,
          2.3342501649089393,
          -4.131725518706789,
          0.38478367400365077,
          -0.34952824446599606,
          0.4384882924562552,
          -4.703841858196334,
          3.451546066001413,
          -2.4999284324465973,
          -0.3052633814387952,
          -1.2008709216448088,
          -2.0618440514776073,
          -0.5685708038948869,
          -1.090735348552897,
          2.89351281637574,
          0.28222755409549005,
          0.5048694931124036,
          3.4794499244308588,
          0.2779808362959548,
          2.5291715105334793,
          -4.801765298321724,
          -2.4941293498355552,
          -0.39385161637081273
         ],
         "xaxis": "x11",
         "yaxis": "y11"
        },
        {
         "alignmentgroup": "True",
         "bingroup": "x",
         "hovertemplate": "choc=6<br>rating=%{x}<br>count=%{y}<extra></extra>",
         "legendgroup": "",
         "marker": {
          "color": "#1F77B4",
          "pattern": {
           "shape": ""
          }
         },
         "name": "",
         "offsetgroup": "",
         "orientation": "v",
         "showlegend": false,
         "type": "histogram",
         "x": [
          -2.558985276262295,
          -0.07262416141777117,
          -2.9583499120088907,
          -3.3859270742932326,
          -0.5417676443329417,
          2.539585298186715,
          -1.588125638488205,
          0.2975774722008546,
          -0.4469898109748165,
          -1.8104342914622822,
          -2.165718139958243,
          -1.0231270172195708,
          -2.356324803297796,
          -3.0180758540013395,
          -1.8876291469822002,
          -1.9895479860510172,
          2.1617843205026395,
          -0.5985118878454874,
          -1.6637237076322178,
          -1.0115354331097792,
          -2.10010473976766,
          -0.4900938767280326,
          -1.9834997658445959,
          -1.999125077130358,
          0.6688951678574189,
          -2.0176673557401186,
          -2.915350034296239,
          -2.1190817555028953,
          -1.780963402453854,
          -1.847272835896363,
          -1.6615865683789481,
          0.22696574055007357,
          -2.792347117016452,
          1.6047940661556164,
          -0.09027698016680796,
          -2.1157370019099773,
          -2.9947560780533764,
          -2.34052879108096,
          -1.2642747233067797,
          0.8638813446553237,
          1.0223884044255789,
          0.35762820413508334,
          0.20140544672183935,
          -0.7410229271388232,
          -2.9710992002317367,
          -2.2900263560890872,
          -0.6111961760248427,
          0.05199352557016401,
          -3.3959979587811135,
          -0.3220254192876366,
          -2.1024328487203565,
          -2.906526187540541,
          -0.3568637217918792,
          0.42896847064111765,
          -2.6323914321055666,
          0.1984786520636206,
          -5.100019312352517,
          -3.4654802229591084,
          1.1272799552003743,
          1.1921404458800338,
          -1.3675383237301555,
          0.389903294348779,
          2.8037584896369596,
          -1.4516279501886764,
          0.8608094151138668,
          -1.730950519019009,
          -0.7963249983908053,
          -1.074356379662603,
          -1.8017174858741107,
          0.6415401572009036,
          -0.2159269604049865,
          -0.6156290167033855,
          -0.18037854020808064,
          -3.386584454806333,
          -0.5801624930695368,
          -0.5571827166471741,
          -1.7948682604448054,
          -2.0346519376050995,
          -2.3486355093617086,
          -1.461016962550501,
          -1.4873980018860449,
          -3.989688487108971,
          -2.0379468308633735,
          0.3081550979996024,
          -0.13235197409346666,
          -2.1504445092492324,
          -1.529973135715187,
          -0.3805815690009162,
          0.4317759458459458,
          -1.6784049000891448,
          -1.359198621350182,
          -0.541781891764207,
          -2.009048356759129,
          0.6791067726408999,
          -0.8158043465117724,
          -3.7906053862732243,
          -2.975194780630221,
          -2.8573575793475574,
          -0.7212715526265159,
          -0.39381676108896757
         ],
         "xaxis": "x12",
         "yaxis": "y12"
        },
        {
         "alignmentgroup": "True",
         "bingroup": "x",
         "hovertemplate": "choc=7<br>rating=%{x}<br>count=%{y}<extra></extra>",
         "legendgroup": "",
         "marker": {
          "color": "#1F77B4",
          "pattern": {
           "shape": ""
          }
         },
         "name": "",
         "offsetgroup": "",
         "orientation": "v",
         "showlegend": false,
         "type": "histogram",
         "x": [
          -0.17935529721984345,
          -2.2206253520619894,
          0.4843672427046448,
          0.9329968628215182,
          -1.0850659862459218,
          1.9839439011905766,
          -1.875953021418921,
          -1.7213145495638007,
          2.039692508542008,
          -1.5751691782429584,
          -3.6947116790491155,
          0.9000300720609635,
          -2.751714121190936,
          -0.21611878884822833,
          -2.323940747375727,
          -1.424009544898788,
          -1.2478352460075048,
          0.12276465492299304,
          -0.6554437088475392,
          0.09943855381008959,
          -2.2454181996394063,
          0.10287140344296708,
          -3.465921519204082,
          0.9197299060970234,
          -0.06066643060704047,
          -1.1690813168441445,
          2.0340886918746293,
          0.40826885210698083,
          -2.200207286176994,
          -1.5357626923246857,
          -1.7992907476192799,
          -0.94483717809152,
          1.173792023293765,
          -0.8590924680322859,
          -2.7738288500477775,
          2.0720386085803826,
          -1.3098382156306703,
          -1.4393957953170757,
          1.4395520686007994,
          -0.1344812142800158,
          -0.07118201614275732,
          0.1272421294246362,
          1.9901996311341275,
          -1.611981462267628,
          -5.540585627000546,
          -2.4972143053984652,
          -5.768014282168172,
          0.9619889188165156,
          -0.9896166838193643,
          -1.4444248236581967,
          -3.0078445221584342,
          -3.7649606827030127,
          -0.6252779507119702,
          -3.1925049914557873,
          2.807082954659152,
          -1.521551515489493,
          -2.298136727001286,
          -0.5440853130548738,
          0.818870415264584,
          1.0205055507734198,
          1.4904818986545225,
          -2.4856186512076945,
          -3.3959641879913827,
          -1.2003864942497762,
          -2.0961307713390207,
          0.963469813571836,
          -2.548762791709778,
          -1.1433519367929947,
          -4.833613735334952,
          -3.790438250183046,
          -1.362449849522998,
          -6.1314393262068,
          1.1893872617839973,
          -0.7016759112855557,
          0.3020942355383207,
          -3.182542834258947,
          -2.910787390275681,
          -1.3649748921207512,
          -2.651295456692329,
          -0.400551387719611,
          -2.8774642448743997,
          -0.09872440202147992,
          -0.8859430060967137,
          -1.6660011773422205,
          2.383758786402141,
          -1.5966069249180208,
          -0.2653535011567312,
          -1.2428670871001182,
          1.8291765794636288,
          -1.1485773657387726,
          0.4552747146816791,
          0.6341054913449133,
          -0.3797255824117946,
          -1.3953122219090437,
          -1.0047803316389463,
          0.0544288116591497,
          -1.9481579724963152,
          0.8687502228006483,
          -2.769065557317362,
          -1.6772631627602594
         ],
         "xaxis": "x13",
         "yaxis": "y13"
        },
        {
         "alignmentgroup": "True",
         "bingroup": "x",
         "hovertemplate": "choc=8<br>rating=%{x}<br>count=%{y}<extra></extra>",
         "legendgroup": "",
         "marker": {
          "color": "#1F77B4",
          "pattern": {
           "shape": ""
          }
         },
         "name": "",
         "offsetgroup": "",
         "orientation": "v",
         "showlegend": false,
         "type": "histogram",
         "x": [
          -9.589452324970956,
          -3.6368742581287847,
          4.369696718675501,
          -3.6550889826263915,
          7.95881979859493,
          0.76515846310378,
          -0.40301022713811346,
          -7.740274502589049,
          -3.3919852008634406,
          3.1362746794880882,
          2.1533718483706323,
          9.352533369367736,
          -5.798549217500438,
          5.440453022647603,
          -2.238409316939145,
          -3.845043137779932,
          6.692480912802576,
          3.7625321648594174,
          0.4721248611103646,
          3.6867821718229306,
          -2.52547302462088,
          5.803946681981478,
          3.099020152715381,
          -1.61132732204456,
          -0.020473676035748373,
          -1.891847627242218,
          5.094658012029723,
          6.557010813210703,
          1.2338991771610122,
          1.7323779061329532,
          0.7784823005720773,
          -2.6784483071993455,
          3.3241503636880556,
          5.285756380529719,
          2.98086961084141,
          -7.579115812632118,
          -1.3395171479491896,
          0.3293006513135839,
          1.6295436192269546,
          2.2509833821384353,
          -7.852666878503808,
          -1.0095491981719193,
          3.460627287524545,
          -2.4915749740648416,
          -8.253333603856397,
          2.8969243042139396,
          2.1495872195963717,
          7.556476976079294,
          3.8242936054382577,
          -2.127184428317129,
          10.971331280155352,
          -2.6354818518844128,
          2.398544808290192,
          3.5713641908296125,
          0.01922632834069765,
          0.33416598807707276,
          2.848365354790796,
          -3.057954935018267,
          -3.4617199547244777,
          2.2152219521596535,
          -0.21110822226169126,
          -0.03325195494874737,
          3.2700030599274768,
          -0.05967653962609425,
          0.23075016333284393,
          2.671199825375241,
          5.206942066805983,
          -6.29095862350005,
          0.11124451212568742,
          4.475526732366448,
          -3.83013091101324,
          -2.073880176166432,
          -4.5444785290230945,
          -0.9367464144123603,
          0.8853971980671163,
          -1.7180629749647256,
          4.185667144883926,
          1.3222963289334344,
          -1.6595800880338916,
          -3.885609745045589,
          -1.6058705681215943,
          -9.98143745683286,
          -0.5290391036136772,
          1.0339489352142568,
          -5.021341598572168,
          -4.446789079474936,
          -2.4647481561798985,
          7.41932626422852,
          -0.4861921166932846,
          3.4172546284671643,
          1.734312099775183,
          -1.0921794740556472,
          -2.1344646578672926,
          -0.7712557990219595,
          1.942381207356028,
          5.133566703455685,
          -1.3202807496367417,
          0.5421679179717334,
          4.36652023115127,
          4.1192377318818485
         ],
         "xaxis": "x14",
         "yaxis": "y14"
        },
        {
         "alignmentgroup": "True",
         "bingroup": "x",
         "hovertemplate": "choc=9<br>rating=%{x}<br>count=%{y}<extra></extra>",
         "legendgroup": "",
         "marker": {
          "color": "#1F77B4",
          "pattern": {
           "shape": ""
          }
         },
         "name": "",
         "offsetgroup": "",
         "orientation": "v",
         "showlegend": false,
         "type": "histogram",
         "x": [
          4.216588646467184,
          -0.5731505578583709,
          -1.9503897672106,
          3.8702915552624173,
          3.694934558750327,
          1.850340737439374,
          -0.8605598475075469,
          -0.06107968275693887,
          3.086415204371505,
          3.4357679983130742,
          1.098843174091806,
          1.2664882059960971,
          3.2403868005111507,
          1.547217334569387,
          2.296427245592559,
          1.584971225099756,
          1.4256527349463133,
          4.7991615083865575,
          0.9109106389009628,
          1.077781483422494,
          2.2025629182329816,
          6.514487328872361,
          2.6635494330291163,
          0.2847783291312016,
          2.710619684167777,
          1.3972552033074406,
          -0.41981605352022044,
          4.543168504165867,
          1.986846189434132,
          2.5853720242056344,
          4.314976018150066,
          2.2192662082365913,
          -3.6163211979173733,
          2.5084868874980675,
          2.122967342999492,
          0.7118261835218581,
          2.238824770677157,
          0.00027655885812216674,
          2.0319185807691995,
          -0.817780935633609,
          1.6126339907224754,
          -0.24886001305722227,
          5.030679314299787,
          2.1347171798782925,
          3.254725736600365,
          2.6181925591568547,
          1.9173491197129868,
          1.8139000470378475,
          0.33272766379317975,
          -1.124633929930576,
          -0.484570006822288,
          3.531988267807791,
          -2.1200181085043726,
          2.256272171549775,
          4.326895139396597,
          2.905246798470702,
          4.5023788249444285,
          -1.271459879969709,
          0.7050694809562299,
          -2.208550952214752,
          5.5683153202279225,
          0.33235496911771834,
          3.282324001271422,
          0.5579467176125106,
          4.1014729851660405,
          3.4204770094421777,
          5.734077227607313,
          0.4576667912007899,
          4.966221610363369,
          0.6618703678245086,
          1.3302301013632984,
          4.9719310581944605,
          -1.0463372784638076,
          0.5741923419301933,
          2.570608378250983,
          0.6491975140456854,
          1.1514014876758263,
          3.6465079187979006,
          0.13752051198518944,
          5.189310428180094,
          -1.6314846301925605,
          5.020381006328393,
          2.4409950108768634,
          -0.4342859712042937,
          0.22193045875145012,
          2.465302630745273,
          4.618703096837506,
          0.34718276759537603,
          2.759192430264429,
          2.785461915265216,
          0.3008349325225521,
          2.178935881459009,
          0.440782846343021,
          1.8484101311900296,
          -1.7874530854587227,
          0.2136850083319337,
          -1.4891279760928124,
          1.1426678708847249,
          -3.425711034263988,
          -0.5520283646579089
         ],
         "xaxis": "x15",
         "yaxis": "y15"
        },
        {
         "alignmentgroup": "True",
         "bingroup": "x",
         "hovertemplate": "choc=10<br>rating=%{x}<br>count=%{y}<extra></extra>",
         "legendgroup": "",
         "marker": {
          "color": "#1F77B4",
          "pattern": {
           "shape": ""
          }
         },
         "name": "",
         "offsetgroup": "",
         "orientation": "v",
         "showlegend": false,
         "type": "histogram",
         "x": [
          0.8618323772610872,
          -0.15158139110370708,
          3.7688995468618773,
          -0.014824929448399138,
          -4.960855974638618,
          -0.054063434306320435,
          -1.1366254118064634,
          -2.240097005808231,
          -0.9844484702419352,
          -1.9609784826397059,
          1.1335272033327326,
          0.463761372050079,
          -0.06237620719447565,
          -0.6779536862516283,
          0.0020259940644431484,
          7.577712494635519,
          -1.3109346695305923,
          0.8835077182097524,
          -1.973281949805496,
          2.1855366401780403,
          -1.4485393834967164,
          2.678219517836706,
          0.6979486108068673,
          4.241881259416832,
          1.306072641547387,
          1.2263421036264053,
          2.7804666124798656,
          -2.6040379578427792,
          -2.592799737355879,
          -0.20302191249305027,
          0.8697968721642744,
          0.8600213296949515,
          -2.8047025112617145,
          -1.6616891805845209,
          -1.8435505100820129,
          3.9095598429095175,
          -0.01704205879803994,
          -8.00165251670261,
          0.8093498163111201,
          0.6841314337634616,
          -1.7741218655022326,
          2.2405658698949895,
          -0.33175252789877635,
          -2.1184700272213774,
          4.739107643941929,
          7.388988370024896,
          -1.8554668188275723,
          -1.395413067098465,
          -3.0584577336965895,
          1.3101761570119628,
          -1.4731608846790265,
          3.9147207259289316,
          -4.177988845109063,
          -2.1575058420985713,
          0.948192531722148,
          -2.284129295858949,
          2.7688467248486686,
          3.485221421522163,
          -1.5196028811018443,
          3.904503751131642,
          1.1611951511290373,
          -5.764986610906215,
          -2.0708177093117874,
          4.789513123944941,
          -4.446181396073298,
          1.5571279572932988,
          -3.136493845870335,
          3.1737347709560875,
          3.56059094022574,
          4.789850300579235,
          3.3437322394335354,
          -0.20411823843262494,
          -4.100315162500212,
          0.7384876862174028,
          -2.168714969653196,
          -1.4403451539924959,
          -1.531435827245752,
          0.22190619133417805,
          0.4250037128032869,
          -3.2016321862629584,
          -4.437859423461267,
          -1.5675631027057757,
          -0.8577304408266104,
          -1.434324812435905,
          0.05561680155660598,
          0.44222785590192265,
          -3.2510459634097497,
          -1.711901991752626,
          1.171800930413734,
          -3.304542149406824,
          -1.1721089453938487,
          2.179076631547095,
          -9.797848670719327,
          -4.236605117700757,
          -1.612129758119645,
          -1.351858860023014,
          -0.8267480851087479,
          -0.49058587895705563,
          -1.8270450725962115,
          -0.6399425049552399
         ],
         "xaxis": "x6",
         "yaxis": "y6"
        },
        {
         "alignmentgroup": "True",
         "bingroup": "x",
         "hovertemplate": "choc=11<br>rating=%{x}<br>count=%{y}<extra></extra>",
         "legendgroup": "",
         "marker": {
          "color": "#1F77B4",
          "pattern": {
           "shape": ""
          }
         },
         "name": "",
         "offsetgroup": "",
         "orientation": "v",
         "showlegend": false,
         "type": "histogram",
         "x": [
          1.384529320229272,
          -2.1733295741018845,
          -0.529585832646858,
          -1.4623607390224573,
          -2.5746500155142673,
          -3.518528294707985,
          -0.6043564625037946,
          0.8497210619785366,
          -4.729072377095195,
          -0.5727403419713523,
          -0.15533351670584916,
          -6.391304848806666,
          5.733428432614672,
          -1.7360631985279835,
          1.1901484703850307,
          -0.9768299943173153,
          -4.222934041444375,
          -4.51013359451139,
          -1.2860819053171837,
          5.258004343632044,
          -2.9478318654655338,
          4.100759582278255,
          3.0066863397415244,
          -1.8966193251716263,
          -2.768925504656287,
          -5.746849897860947,
          -3.8337812096595614,
          -3.061593925449249,
          0.42367852313494314,
          0.6068658193190236,
          -2.0326448185574435,
          2.1393350496728285,
          -3.611577905589387,
          -1.4559699184866361,
          0.09490456288473303,
          -0.9175773242284178,
          -3.4105090718149853,
          -8.622991587668272,
          -2.084789433025838,
          -0.004479181862057757,
          0.9980753720562864,
          -6.81215398557381,
          1.0815598322221995,
          0.7819794528421297,
          0.30532958951949285,
          -5.122413584419448,
          4.127547689610957,
          -1.9443231876603075,
          -3.1499468738215746,
          -1.2574871153638953,
          2.5307733731209408,
          0.19773628618842243,
          -3.22002135285661,
          -7.07666529376181,
          6.751814860554341,
          -9.042359493040319,
          -1.9939970186177245,
          2.7838397538325284,
          2.782845901501633,
          0.8236343943648518,
          -5.280016032751297,
          -2.3411041593246344,
          3.7965645056231696,
          -2.9083740340160147,
          -3.7347682750451647,
          1.80019378966682,
          5.647446982036168,
          -6.46938115317855,
          -2.4756185971408526,
          0.4577126179361046,
          -4.323503819777023,
          -4.644706183079454,
          -3.6544655908778423,
          3.5154112728338833,
          0.6843405316694041,
          4.836384546431227,
          0.03431552578486741,
          -4.7319738285797355,
          -3.4818841648818246,
          -6.50529029627717,
          1.512098159831361,
          -9.022761495651539,
          -3.837472010707773,
          -2.3984318124409483,
          -2.5486670917826957,
          3.868760305885296,
          2.7692677853474597,
          -4.429413546501219,
          3.802631475552603,
          -0.7347456283581708,
          -0.367935360506883,
          -2.2679173648618955,
          0.5199324298818057,
          3.9900006040411857,
          -4.258230429222325,
          -0.4546287021265601,
          -5.504268272660017,
          -0.8341324671866279,
          5.376880436517021,
          6.664316248492168
         ],
         "xaxis": "x7",
         "yaxis": "y7"
        },
        {
         "alignmentgroup": "True",
         "bingroup": "x",
         "hovertemplate": "choc=12<br>rating=%{x}<br>count=%{y}<extra></extra>",
         "legendgroup": "",
         "marker": {
          "color": "#1F77B4",
          "pattern": {
           "shape": ""
          }
         },
         "name": "",
         "offsetgroup": "",
         "orientation": "v",
         "showlegend": false,
         "type": "histogram",
         "x": [
          1.7399865609090355,
          -2.5624359843254694,
          -5.965043565336768,
          1.6068772545125602,
          4.953883402598154,
          0.0647399852610196,
          1.3604317214900064,
          -3.580904625584676,
          -3.435672040532448,
          2.5519333316606616,
          -0.3517596380289213,
          -2.2505922627194224,
          0.10285887127693777,
          -0.6274402213670596,
          3.5208901794336778,
          -2.218667525168467,
          7.035285612666551,
          5.913097940603211,
          1.4011285601389587,
          -3.764708187518213,
          4.394806240783881,
          -8.613216282082131,
          -4.95669650810223,
          0.4110810463623391,
          6.087444347533568,
          -1.5803662261131874,
          4.27398807522501,
          -3.178532075722306,
          -0.10395626371286978,
          -4.6944771670633765,
          0.8924387078382623,
          -6.108126582499308,
          -1.3759630986125675,
          -6.176033235407135,
          0.11813145759142307,
          2.936761654068704,
          -1.6822731834375386,
          2.43128411296583,
          6.585034448191983,
          1.9591169642046988,
          -2.6094214293367624,
          -1.19246670263604,
          0.8677712570687341,
          4.236397603866636,
          2.700062520617509,
          3.1391681652687695,
          -3.402928944737294,
          3.845128550145133,
          2.7056060750249693,
          -3.9857445494517307,
          -1.5284662325984433,
          2.8589384586931614,
          3.830629132922713,
          3.6954907822179646,
          7.806564299408394,
          5.084802975844461,
          -1.8416985539408786,
          3.1389788219587422,
          7.558012334489304,
          -3.3854251830784174,
          -2.4983082171870317,
          -4.756403827729591,
          4.327024331091691,
          -7.340138247697619,
          -0.6447212111726139,
          0.7738073026156294,
          -2.3055535615439156,
          4.9861282267527365,
          -0.90949760415085,
          0.3310721921447764,
          5.590974452902609,
          -3.800419624692806,
          -8.379921380232965,
          -2.4695703733630245,
          2.078718610139396,
          -4.566688758899998,
          6.214536326656461,
          -2.292826741963584,
          3.1116279402769784,
          -0.9504052455063448,
          -3.7996565167347267,
          -3.8804982795635192,
          1.6513472326748828,
          -4.261315673327919,
          5.965470806498635,
          -8.76578563524177,
          2.0507335400966156,
          -0.8970318244238076,
          -1.7345342675441389,
          1.6553677710105266,
          4.117049312791059,
          4.935189287702834,
          2.466628597963467,
          4.656165642060395,
          -1.0150749331764175,
          -0.40538845134228235,
          -1.2736263811543425,
          3.330463827056105,
          -1.5132015656066786,
          -0.7530530796584995
         ],
         "xaxis": "x8",
         "yaxis": "y8"
        },
        {
         "alignmentgroup": "True",
         "bingroup": "x",
         "hovertemplate": "choc=13<br>rating=%{x}<br>count=%{y}<extra></extra>",
         "legendgroup": "",
         "marker": {
          "color": "#1F77B4",
          "pattern": {
           "shape": ""
          }
         },
         "name": "",
         "offsetgroup": "",
         "orientation": "v",
         "showlegend": false,
         "type": "histogram",
         "x": [
          0.6591845980819102,
          0.18183155591968236,
          0.8900378653746465,
          1.1053326164652926,
          -0.363170887795496,
          2.4391319302817758,
          3.035310667261067,
          0.6976685804609495,
          0.05781567463460835,
          2.061019948379042,
          1.8394070347680875,
          3.4721023936580107,
          -4.195542163639716,
          2.6159021150788826,
          -1.5635692624853739,
          0.5803381626511888,
          2.5226922470614705,
          -0.3666728407482964,
          -0.005540441412232644,
          3.6660022776707777,
          1.613400975668266,
          1.3697621269650853,
          2.0330589152647245,
          1.9259426824423957,
          -2.1463213815990603,
          0.39424364123666056,
          0.5223737531876573,
          1.1387793238731456,
          2.3567940969693133,
          2.850376252307929,
          0.6567147269850151,
          -0.06547928505392009,
          1.693717803304113,
          3.311208406040878,
          0.08000333228467782,
          -1.8920748365029547,
          3.559396943382221,
          2.5428072520591405,
          -2.5108943980479195,
          -0.36929061541992714,
          -1.9807125218516617,
          0.11673142064951114,
          1.4321387788576678,
          1.7983728330039424,
          2.399529243612654,
          -1.9385046336869582,
          6.279081830942866,
          3.4508844709816247,
          2.413439331499761,
          4.230094898405637,
          1.214095594589748,
          3.3976223007326336,
          -1.034016378820697,
          -0.13604366079987118,
          3.503559643005043,
          3.975076777372121,
          6.171021912651921,
          1.2375775023216968,
          -0.18353807332012306,
          -0.6330881838636302,
          0.3342172211529377,
          -2.6631186997725678,
          1.0672979413155614,
          -1.4180803481301105,
          2.8210982848236155,
          0.41648457642139314,
          4.298158465629914,
          2.1621201529502825,
          -1.0763497622652507,
          0.9444533254367147,
          3.776612200022095,
          2.4551222719467525,
          1.4575670377637675,
          5.964664979608804,
          0.8134522685861583,
          0.9982336673280681,
          -5.0009931338117575,
          -1.35386855472422,
          0.4098664931749576,
          1.188242362532064,
          -3.7745545956071807,
          -1.3903372084691872,
          4.926589148803864,
          -0.6290227484354223,
          4.531418179049138,
          -2.2078470159850365,
          -1.0977030819483014,
          0.2928533505102613,
          0.4176487517687033,
          -1.150046736350635,
          2.154141274572779,
          1.4969071973759493,
          3.835122640847299,
          -0.1033870230977727,
          2.1325904993471334,
          1.3547019465246517,
          1.2937330525301742,
          3.5971566766540928,
          3.050711154042512,
          -0.4307451792951513
         ],
         "xaxis": "x9",
         "yaxis": "y9"
        },
        {
         "alignmentgroup": "True",
         "bingroup": "x",
         "hovertemplate": "choc=14<br>rating=%{x}<br>count=%{y}<extra></extra>",
         "legendgroup": "",
         "marker": {
          "color": "#1F77B4",
          "pattern": {
           "shape": ""
          }
         },
         "name": "",
         "offsetgroup": "",
         "orientation": "v",
         "showlegend": false,
         "type": "histogram",
         "x": [
          -4.228674050727697,
          -0.08880231550853468,
          1.4718754602038893,
          -0.621473603958081,
          -0.11293435245457095,
          -0.11408652454087975,
          -2.8561950581313766,
          -1.840675722420154,
          -1.0724565308701877,
          0.20066582678102773,
          1.292657272869184,
          -0.2883532542393492,
          -0.26875178351834994,
          1.4608775898555815,
          -3.8182565787063076,
          -3.011577386743525,
          -3.462277965281036,
          -3.598731534134578,
          -2.0285334143700458,
          0.9153367072683445,
          0.24254265390344587,
          -2.7482914206889992,
          2.241144904989934,
          -1.3500684556739342,
          -4.4670681322005255,
          1.112951550754995,
          3.093361014221683,
          -1.5915041944042077,
          3.574951701542359,
          2.2858817399807982,
          -2.3313226295306877,
          -3.852023095559776,
          -2.7665597383627922,
          1.326929491481785,
          -4.034608707938295,
          1.2368334022978054,
          -2.3391013360643824,
          0.32232965118126367,
          -2.839635513698374,
          -2.910818254448431,
          -0.6911614355300222,
          -0.41144238842688097,
          -2.9802206218402594,
          -3.7567736821372257,
          -2.1179960312053914,
          0.21342474142127732,
          -1.3890207550015128,
          -1.3033754341319717,
          1.3416997396992925,
          -3.8198325550734857,
          0.5371547992862109,
          -0.3688562076148265,
          -5.182244188394535,
          -4.332937523754346,
          -1.1351305203169266,
          -3.8232382461882715,
          1.0257128631382642,
          -1.5566291241471015,
          -1.933908226480551,
          -4.043027077797691,
          -4.387925926812328,
          -0.09298264387461863,
          -1.4104326352742764,
          -0.6194553486241869,
          -0.06771741807797471,
          -3.5043323861419076,
          -2.7659125595675667,
          -4.4932345999682255,
          1.018801704568643,
          2.347804047755975,
          -1.3280981204546958,
          -0.049614632607196674,
          -2.8469264247390367,
          -1.749802126673412,
          -1.1204990120401872,
          -2.9165715167679584,
          -0.5895414427845103,
          -1.854136162811763,
          -0.6362091248732,
          0.07600018138930142,
          0.5385628294368081,
          -0.9872983673382454,
          -1.1587133717137945,
          1.4163236568199091,
          -0.25061802980598835,
          -1.5603575558022542,
          -2.637465343501581,
          -4.857830618942977,
          1.6594061038496732,
          -0.3914131866630137,
          -1.7010975340767331,
          1.9885010534194996,
          0.7152142285584426,
          -3.161344082165048,
          -4.215668253399106,
          -3.1329447718836727,
          -6.051879364421144,
          0.19278043937278921,
          -1.7810870085091637,
          -1.8779996007624842
         ],
         "xaxis": "x10",
         "yaxis": "y10"
        },
        {
         "alignmentgroup": "True",
         "bingroup": "x",
         "hovertemplate": "choc=15<br>rating=%{x}<br>count=%{y}<extra></extra>",
         "legendgroup": "",
         "marker": {
          "color": "#1F77B4",
          "pattern": {
           "shape": ""
          }
         },
         "name": "",
         "offsetgroup": "",
         "orientation": "v",
         "showlegend": false,
         "type": "histogram",
         "x": [
          -0.9201746064882073,
          -3.525647151594354,
          -0.7278403952241492,
          -1.7569117521072506,
          0.9629306518736014,
          -0.20797776247673938,
          -2.9400117914927772,
          -0.4209389837759446,
          -6.103052516404585,
          -3.131646657032798,
          -4.012403319621794,
          3.0610979590937246,
          0.9818837607299227,
          0.988072307343024,
          1.6897080079532083,
          -6.2848559969979565,
          -2.109238914522902,
          -5.771005367973725,
          1.640928354575525,
          0.5763075174656309,
          -0.664674449801358,
          -3.196851899689682,
          0.12376722723854666,
          1.0273545756370703,
          -1.0499047271696866,
          2.673249045146752,
          1.9787922604467334,
          3.1133871283622163,
          1.0688177422044538,
          -0.25132940184538266,
          -3.880190419556145,
          1.0362174739275254,
          2.1245890663826565,
          3.9204877763928203,
          -3.38917051456239,
          2.357699090738689,
          -2.252129242123634,
          -1.2550224719468002,
          3.43655735117014,
          -3.785777209313028,
          0.18056872610021268,
          5.448446229195813,
          -2.622391860336215,
          -1.8998298201418924,
          -3.753801139468137,
          -3.488753855205954,
          -2.2641684842081404,
          -0.476480859028334,
          1.0509068841167803,
          -1.2688841488582916,
          -6.293299133613227,
          -0.9935789688444183,
          -1.1257758856932882,
          2.046358133390606,
          3.6843775873142626,
          2.715815654833465,
          2.1268659283186038,
          -0.25302405717524495,
          -1.9807008915463038,
          -2.0556320249212647,
          4.021912045729035,
          0.477536344642944,
          1.6396214060217884,
          2.3223613761862887,
          -3.9531195129576986,
          -3.1981007482587884,
          1.8073118966735602,
          0.6279408412623164,
          2.721723335973898,
          -6.677829000401408,
          -6.2578700688212745,
          1.4479080692938209,
          0.37769807761747415,
          -1.72383866082156,
          0.539324007465166,
          -1.4741812249203696,
          3.036390908766884,
          -1.6200384761981976,
          4.064181057655818,
          0.5642671337729164,
          -4.1074220138336885,
          -0.03665615037676179,
          -7.531939873404198,
          -0.437909691289636,
          -2.785563774460026,
          3.0619983606618857,
          1.4180046626777525,
          -0.49532084834992773,
          -2.265114072871758,
          -1.474766327711796,
          -2.3709917675075154,
          0.3677970234451187,
          4.2348786437765655,
          1.7443315609392651,
          1.5974373310676722,
          -0.6430627851487163,
          -2.190099665004992,
          1.2175807567595875,
          0.4948185789410708,
          -0.3354012842091033
         ],
         "xaxis": "x",
         "yaxis": "y"
        },
        {
         "alignmentgroup": "True",
         "bingroup": "x",
         "hovertemplate": "choc=16<br>rating=%{x}<br>count=%{y}<extra></extra>",
         "legendgroup": "",
         "marker": {
          "color": "#1F77B4",
          "pattern": {
           "shape": ""
          }
         },
         "name": "",
         "offsetgroup": "",
         "orientation": "v",
         "showlegend": false,
         "type": "histogram",
         "x": [
          0.8849061466347677,
          0.9749891153568887,
          -2.65700609685957,
          -0.43731527034169554,
          -0.5314992499516498,
          -0.5921302748617046,
          -3.4392742510001293,
          -1.4248072131383482,
          -1.028485841563572,
          -2.6853036601071194,
          4.543462263812017,
          -0.18409295110540647,
          -4.002418401832185,
          -0.0075500279552156435,
          -3.752430154287722,
          -0.812105186420173,
          -5.385917550424756,
          -2.9896739830013974,
          0.6879337519825798,
          -2.3536401589283726,
          3.1622139388734403,
          -2.1275840633158407,
          -0.5344863384485359,
          -1.1493385365325446,
          -3.1275315893050086,
          2.3438036255360175,
          -3.140786636146522,
          1.226843553698366,
          -9.178818631923562,
          3.3839425278391233,
          -1.5764993301461576,
          -3.604734805788298,
          -2.7689683653889188,
          0.39114021453623893,
          -0.4998421294728937,
          -0.5601289533590558,
          -5.145563559230827,
          -1.7856906405273603,
          4.224969726707224,
          -0.6951844789037149,
          0.4781156019732692,
          1.9487446574096907,
          -1.8018451511691964,
          -0.521867150969335,
          1.5506103226260244,
          -4.506010306532451,
          -0.8026979639769286,
          0.2535628575093277,
          -4.753357307183732,
          -3.514258667446575,
          -4.289971213738483,
          -1.7654698778328828,
          -1.6709140340247342,
          1.7433217410627555,
          -0.0775023114535528,
          0.2104976917986071,
          -4.774670085061182,
          -2.3147836816216794,
          0.5343382961968678,
          0.11751098474052768,
          -2.0047916795162135,
          2.5385618485061063,
          -0.32070219111887355,
          -3.0899572648516003,
          -0.7132379687476726,
          1.1977940214773493,
          -4.440895157579727,
          2.1502828373418383,
          -0.7978460819597727,
          1.0947796999572659,
          -5.2281998222936785,
          -0.46218768367550583,
          -3.7944632583629203,
          -1.2637880979159766,
          0.5042248531416297,
          -5.621103569643108,
          2.0656179515242363,
          -2.70847161891812,
          -4.283226380140523,
          1.3785534100267407,
          -0.462219885972821,
          -1.4489341740112924,
          -6.882352085786128,
          -2.6898722407147284,
          -3.2479931993293905,
          -2.229356952878938,
          -1.564782895007546,
          4.351628617711224,
          -0.07638908002203393,
          -1.2337394314990946,
          -0.5005405082367893,
          -3.9038791862178512,
          -4.271794589566649,
          -4.833669766843991,
          -3.0724237900325893,
          -1.806717378865398,
          1.6631027853712488,
          2.7094119332322593,
          3.2805858063690327,
          -3.5165030393099457
         ],
         "xaxis": "x2",
         "yaxis": "y2"
        },
        {
         "alignmentgroup": "True",
         "bingroup": "x",
         "hovertemplate": "choc=17<br>rating=%{x}<br>count=%{y}<extra></extra>",
         "legendgroup": "",
         "marker": {
          "color": "#1F77B4",
          "pattern": {
           "shape": ""
          }
         },
         "name": "",
         "offsetgroup": "",
         "orientation": "v",
         "showlegend": false,
         "type": "histogram",
         "x": [
          -0.24754513286373353,
          -0.4763973512636537,
          0.9991070965518785,
          -0.14664461194108308,
          1.6364201718137432,
          2.1220423515941134,
          -0.37859717471091314,
          0.4166429082350772,
          2.219624007952846,
          -2.200204537056946,
          0.1886431391155884,
          -1.4728202746229977,
          -2.82977812770405,
          0.4687343192141715,
          -0.338725033185425,
          -1.7350237167303302,
          2.518522654845686,
          -2.5641372242323524,
          -1.1844715616355876,
          -1.533767398400906,
          -2.896973203557751,
          -2.9112739488246593,
          0.3094119103448172,
          -3.0927728511049235,
          -0.665848293385174,
          0.43006194113298857,
          -2.915503823701017,
          -2.226816135795364,
          -3.38677929637979,
          -2.6644721462358447,
          1.7153063529418027,
          2.5610371855543352,
          -1.0727149528220192,
          -0.10611171736965253,
          -1.3893456775122264,
          0.7649173656233463,
          3.3759250931994496,
          4.596201462921438,
          1.4648669564102341,
          0.3469950627716937,
          4.168080858883934,
          -3.546760743183744,
          -3.0707069057311314,
          -3.620929107992769,
          -2.451195132687567,
          0.00019096112574240598,
          4.088710481737064,
          -2.064481793791357,
          -3.8870122966561675,
          2.343740370077005,
          -1.388721211612892,
          -1.896488062092995,
          0.6674737389177272,
          0.3401660388861306,
          -4.096506749896903,
          -4.934042019903354,
          1.4225481485070255,
          -1.5680772403132852,
          1.0981518987415473,
          -2.5847708816387955,
          3.4904487531701127,
          0.7059863003029214,
          -2.069142500893064,
          0.16877658402620788,
          -2.462096920764325,
          -3.026430404975307,
          -1.4536829391295092,
          0.7857552924608595,
          -3.268863642498946,
          -0.23314527632819712,
          -0.8420414255915111,
          -0.34625108157050954,
          2.7204868340563415,
          1.2532120390702575,
          1.5985587592586896,
          1.4482552243792626,
          1.8349817985279235,
          0.284267980729755,
          0.47125734578625567,
          -0.07715269817121806,
          0.8666993205880742,
          0.2011685324676863,
          0.37135305220338266,
          2.453287256948916,
          0.351574282018715,
          -2.2479683260893566,
          -0.6830917978604897,
          0.8297704569877404,
          -0.15196978986333437,
          -2.654677235554912,
          -2.1493389924014394,
          2.3242828281648062,
          -2.5944242176715804,
          -0.9082170917271274,
          0.39035078429689174,
          -1.3681815602543168,
          -4.949308796624302,
          2.554738260681644,
          0.438809568865138,
          3.7649518642196504
         ],
         "xaxis": "x3",
         "yaxis": "y3"
        },
        {
         "alignmentgroup": "True",
         "bingroup": "x",
         "hovertemplate": "choc=18<br>rating=%{x}<br>count=%{y}<extra></extra>",
         "legendgroup": "",
         "marker": {
          "color": "#1F77B4",
          "pattern": {
           "shape": ""
          }
         },
         "name": "",
         "offsetgroup": "",
         "orientation": "v",
         "showlegend": false,
         "type": "histogram",
         "x": [
          3.2134780765928017,
          10.821149820582278,
          -1.4276365888547038,
          -3.54144755702885,
          0.5672014871863703,
          -0.3713497013843995,
          1.1964766444401032,
          -4.098381059852548,
          0.6935486700710104,
          -2.9593310583021317,
          1.8555324686795591,
          3.0062611264829626,
          -0.08792385077026271,
          2.034942447673273,
          2.228729804462477,
          -1.4204869480592006,
          -4.896138886793688,
          -3.272464803107514,
          3.2135501685207175,
          2.4832094814068517,
          2.8104847711099996,
          1.7453666585619552,
          5.963502465039643,
          -0.5023050127045784,
          -0.2445086107466557,
          4.655435915705966,
          -0.19382124932280975,
          -0.29097367582605643,
          5.683213134020792,
          3.881128823774012,
          3.320012920653627,
          -0.40407320856546186,
          0.30353046546333423,
          4.718237082119833,
          0.8441105213263562,
          -1.610555975388697,
          7.138634499086759,
          0.43629737791261525,
          0.9473346783420896,
          -2.463664304622086,
          -3.813578528589687,
          4.026084119007451,
          4.654708040796771,
          5.520499697665857,
          -0.09719529730061988,
          -0.8707426270439248,
          -3.929622961437326,
          -0.817245384128254,
          -0.057794517865345785,
          0.5681349433209079,
          -4.987472346788171,
          0.20701899099454063,
          3.057726081849986,
          -9.101893621980196,
          -3.380423325072205,
          -0.5604757942213724,
          0.08791884156389866,
          -5.743417508263292,
          0.009857783122041039,
          -2.249216279696506,
          4.7364777083116145,
          -0.3401949153479721,
          -2.0669103957512913,
          0.9739736309983765,
          1.227755827858392,
          1.910080518595077,
          -6.814313079175514,
          -4.575560761572323,
          -0.5782591856900183,
          0.8468186424750177,
          3.32838395638664,
          -4.522775839889488,
          0.19925196236425402,
          -2.0231234787868666,
          -2.4454968360196165,
          4.223329350331399,
          -0.6917310834958447,
          -0.521114540837884,
          -3.18967126984066,
          -2.783530142457433,
          5.050249320700714,
          -0.5888648049450514,
          -2.367652031969517,
          7.737430545580971,
          -2.9708287922397596,
          -6.2010696708447774,
          4.363205551287593,
          1.1147178477150814,
          7.9265289260290315,
          -3.640384855124137,
          2.8547315113813934,
          -3.6899469851018845,
          3.640776439979817,
          -5.100253685395024,
          0.4973088615414586,
          0.04285664721085401,
          -5.687030689773531,
          2.836967674241813,
          1.8230097090722395,
          3.071359735405843
         ],
         "xaxis": "x4",
         "yaxis": "y4"
        },
        {
         "alignmentgroup": "True",
         "bingroup": "x",
         "hovertemplate": "choc=19<br>rating=%{x}<br>count=%{y}<extra></extra>",
         "legendgroup": "",
         "marker": {
          "color": "#1F77B4",
          "pattern": {
           "shape": ""
          }
         },
         "name": "",
         "offsetgroup": "",
         "orientation": "v",
         "showlegend": false,
         "type": "histogram",
         "x": [
          -1.682514204763619,
          -0.5776053443205889,
          -2.481395416322631,
          0.31155137287317475,
          -0.17212489155251637,
          -1.317770797048457,
          -0.0338500858578471,
          0.68406483216089,
          1.879145884546232,
          -2.874491063209389,
          0.7857692963961396,
          -0.05500241022457636,
          -0.5844186361404812,
          0.29677689404806135,
          1.1316291968992132,
          0.5883263524252522,
          0.07593795264954578,
          -0.7193052530504039,
          -1.3947291489995486,
          -0.9846515368873132,
          -2.1213272468068616,
          0.1273766841991571,
          -0.38412780906260197,
          0.21069629481549595,
          -0.2871043354831537,
          -0.3686087662389421,
          0.3406707045189948,
          0.9627653954829376,
          -0.5673708238755095,
          -0.7924554492263396,
          -1.6700135104549534,
          -0.5205360375757749,
          -1.6407956153876166,
          0.49075871775127405,
          -1.0279622626824378,
          0.2901220321751657,
          -2.44269967617022,
          -0.8232362432880443,
          -0.15418310210071035,
          -0.3115167265336365,
          -0.6197928633168869,
          -0.6227320005177363,
          1.052797795419896,
          1.7210992859947103,
          1.1337306331210781,
          -0.5181904432399017,
          -1.8924234273351421,
          0.128917504010377,
          0.41488398191054915,
          1.5074156848729745,
          -0.4397830101421188,
          0.1178243871287436,
          -1.9884881503613832,
          -1.5399357874673105,
          -0.46293599090317583,
          0.41857063667653777,
          -1.316978685966266,
          -1.2750111164831277,
          -0.7668883562601683,
          -1.3732467615933308,
          0.8979613527270118,
          -0.3293827248024065,
          -1.2934418910871313,
          -0.7576514148678317,
          -1.5382040782696396,
          0.4944614885528094,
          -1.0332733007749884,
          -0.9299225260447578,
          -0.4905999896176067,
          -0.7271296191604883,
          -0.5353245905009482,
          0.18106974324706054,
          -1.215544870553913,
          -0.2420899609761635,
          -1.1382805525487218,
          0.8019404969113382,
          0.1387235471089316,
          0.6001478921101118,
          -0.12785247527470955,
          -0.6399437427638951,
          1.0936308582143306,
          -0.8138507549871007,
          -0.7878955859859953,
          0.2568578322259149,
          -1.5403548191240253,
          -1.0498879706180393,
          -0.6867009423289943,
          -0.6339850877303901,
          -0.627611575886122,
          -1.3835139201521978,
          -1.3750522888871861,
          -0.6607872294680092,
          -0.4059897672197615,
          -1.3196200106832194,
          0.0063990022895942245,
          0.15215298994365828,
          -0.01536306107527824,
          -2.6899829784729072,
          0.06599509648643626,
          -0.2913241821918665
         ],
         "xaxis": "x5",
         "yaxis": "y5"
        }
       ],
       "layout": {
        "annotations": [
         {
          "font": {},
          "showarrow": false,
          "text": "choc=15",
          "x": 0.09200000000000001,
          "xanchor": "center",
          "xref": "paper",
          "y": 0.1975,
          "yanchor": "bottom",
          "yref": "paper"
         },
         {
          "font": {},
          "showarrow": false,
          "text": "choc=16",
          "x": 0.29600000000000004,
          "xanchor": "center",
          "xref": "paper",
          "y": 0.1975,
          "yanchor": "bottom",
          "yref": "paper"
         },
         {
          "font": {},
          "showarrow": false,
          "text": "choc=17",
          "x": 0.5,
          "xanchor": "center",
          "xref": "paper",
          "y": 0.1975,
          "yanchor": "bottom",
          "yref": "paper"
         },
         {
          "font": {},
          "showarrow": false,
          "text": "choc=18",
          "x": 0.7040000000000002,
          "xanchor": "center",
          "xref": "paper",
          "y": 0.1975,
          "yanchor": "bottom",
          "yref": "paper"
         },
         {
          "font": {},
          "showarrow": false,
          "text": "choc=19",
          "x": 0.908,
          "xanchor": "center",
          "xref": "paper",
          "y": 0.1975,
          "yanchor": "bottom",
          "yref": "paper"
         },
         {
          "font": {},
          "showarrow": false,
          "text": "choc=10",
          "x": 0.09200000000000001,
          "xanchor": "center",
          "xref": "paper",
          "y": 0.465,
          "yanchor": "bottom",
          "yref": "paper"
         },
         {
          "font": {},
          "showarrow": false,
          "text": "choc=11",
          "x": 0.29600000000000004,
          "xanchor": "center",
          "xref": "paper",
          "y": 0.465,
          "yanchor": "bottom",
          "yref": "paper"
         },
         {
          "font": {},
          "showarrow": false,
          "text": "choc=12",
          "x": 0.5,
          "xanchor": "center",
          "xref": "paper",
          "y": 0.465,
          "yanchor": "bottom",
          "yref": "paper"
         },
         {
          "font": {},
          "showarrow": false,
          "text": "choc=13",
          "x": 0.7040000000000002,
          "xanchor": "center",
          "xref": "paper",
          "y": 0.465,
          "yanchor": "bottom",
          "yref": "paper"
         },
         {
          "font": {},
          "showarrow": false,
          "text": "choc=14",
          "x": 0.908,
          "xanchor": "center",
          "xref": "paper",
          "y": 0.465,
          "yanchor": "bottom",
          "yref": "paper"
         },
         {
          "font": {},
          "showarrow": false,
          "text": "choc=5",
          "x": 0.09200000000000001,
          "xanchor": "center",
          "xref": "paper",
          "y": 0.7325,
          "yanchor": "bottom",
          "yref": "paper"
         },
         {
          "font": {},
          "showarrow": false,
          "text": "choc=6",
          "x": 0.29600000000000004,
          "xanchor": "center",
          "xref": "paper",
          "y": 0.7325,
          "yanchor": "bottom",
          "yref": "paper"
         },
         {
          "font": {},
          "showarrow": false,
          "text": "choc=7",
          "x": 0.5,
          "xanchor": "center",
          "xref": "paper",
          "y": 0.7325,
          "yanchor": "bottom",
          "yref": "paper"
         },
         {
          "font": {},
          "showarrow": false,
          "text": "choc=8",
          "x": 0.7040000000000002,
          "xanchor": "center",
          "xref": "paper",
          "y": 0.7325,
          "yanchor": "bottom",
          "yref": "paper"
         },
         {
          "font": {},
          "showarrow": false,
          "text": "choc=9",
          "x": 0.908,
          "xanchor": "center",
          "xref": "paper",
          "y": 0.7325,
          "yanchor": "bottom",
          "yref": "paper"
         },
         {
          "font": {},
          "showarrow": false,
          "text": "choc=0",
          "x": 0.09200000000000001,
          "xanchor": "center",
          "xref": "paper",
          "y": 1,
          "yanchor": "bottom",
          "yref": "paper"
         },
         {
          "font": {},
          "showarrow": false,
          "text": "choc=1",
          "x": 0.29600000000000004,
          "xanchor": "center",
          "xref": "paper",
          "y": 1,
          "yanchor": "bottom",
          "yref": "paper"
         },
         {
          "font": {},
          "showarrow": false,
          "text": "choc=2",
          "x": 0.5,
          "xanchor": "center",
          "xref": "paper",
          "y": 1,
          "yanchor": "bottom",
          "yref": "paper"
         },
         {
          "font": {},
          "showarrow": false,
          "text": "choc=3",
          "x": 0.7040000000000002,
          "xanchor": "center",
          "xref": "paper",
          "y": 1,
          "yanchor": "bottom",
          "yref": "paper"
         },
         {
          "font": {},
          "showarrow": false,
          "text": "choc=4",
          "x": 0.908,
          "xanchor": "center",
          "xref": "paper",
          "y": 1,
          "yanchor": "bottom",
          "yref": "paper"
         }
        ],
        "barmode": "relative",
        "height": 600,
        "legend": {
         "tracegroupgap": 0
        },
        "template": {
         "data": {
          "bar": [
           {
            "error_x": {
             "color": "rgb(36,36,36)"
            },
            "error_y": {
             "color": "rgb(36,36,36)"
            },
            "marker": {
             "line": {
              "color": "white",
              "width": 0.5
             },
             "pattern": {
              "fillmode": "overlay",
              "size": 10,
              "solidity": 0.2
             }
            },
            "type": "bar"
           }
          ],
          "barpolar": [
           {
            "marker": {
             "line": {
              "color": "white",
              "width": 0.5
             },
             "pattern": {
              "fillmode": "overlay",
              "size": 10,
              "solidity": 0.2
             }
            },
            "type": "barpolar"
           }
          ],
          "carpet": [
           {
            "aaxis": {
             "endlinecolor": "rgb(36,36,36)",
             "gridcolor": "white",
             "linecolor": "white",
             "minorgridcolor": "white",
             "startlinecolor": "rgb(36,36,36)"
            },
            "baxis": {
             "endlinecolor": "rgb(36,36,36)",
             "gridcolor": "white",
             "linecolor": "white",
             "minorgridcolor": "white",
             "startlinecolor": "rgb(36,36,36)"
            },
            "type": "carpet"
           }
          ],
          "choropleth": [
           {
            "colorbar": {
             "outlinewidth": 1,
             "tickcolor": "rgb(36,36,36)",
             "ticks": "outside"
            },
            "type": "choropleth"
           }
          ],
          "contour": [
           {
            "colorbar": {
             "outlinewidth": 1,
             "tickcolor": "rgb(36,36,36)",
             "ticks": "outside"
            },
            "colorscale": [
             [
              0,
              "#440154"
             ],
             [
              0.1111111111111111,
              "#482878"
             ],
             [
              0.2222222222222222,
              "#3e4989"
             ],
             [
              0.3333333333333333,
              "#31688e"
             ],
             [
              0.4444444444444444,
              "#26828e"
             ],
             [
              0.5555555555555556,
              "#1f9e89"
             ],
             [
              0.6666666666666666,
              "#35b779"
             ],
             [
              0.7777777777777778,
              "#6ece58"
             ],
             [
              0.8888888888888888,
              "#b5de2b"
             ],
             [
              1,
              "#fde725"
             ]
            ],
            "type": "contour"
           }
          ],
          "contourcarpet": [
           {
            "colorbar": {
             "outlinewidth": 1,
             "tickcolor": "rgb(36,36,36)",
             "ticks": "outside"
            },
            "type": "contourcarpet"
           }
          ],
          "heatmap": [
           {
            "colorbar": {
             "outlinewidth": 1,
             "tickcolor": "rgb(36,36,36)",
             "ticks": "outside"
            },
            "colorscale": [
             [
              0,
              "#440154"
             ],
             [
              0.1111111111111111,
              "#482878"
             ],
             [
              0.2222222222222222,
              "#3e4989"
             ],
             [
              0.3333333333333333,
              "#31688e"
             ],
             [
              0.4444444444444444,
              "#26828e"
             ],
             [
              0.5555555555555556,
              "#1f9e89"
             ],
             [
              0.6666666666666666,
              "#35b779"
             ],
             [
              0.7777777777777778,
              "#6ece58"
             ],
             [
              0.8888888888888888,
              "#b5de2b"
             ],
             [
              1,
              "#fde725"
             ]
            ],
            "type": "heatmap"
           }
          ],
          "heatmapgl": [
           {
            "colorbar": {
             "outlinewidth": 1,
             "tickcolor": "rgb(36,36,36)",
             "ticks": "outside"
            },
            "colorscale": [
             [
              0,
              "#440154"
             ],
             [
              0.1111111111111111,
              "#482878"
             ],
             [
              0.2222222222222222,
              "#3e4989"
             ],
             [
              0.3333333333333333,
              "#31688e"
             ],
             [
              0.4444444444444444,
              "#26828e"
             ],
             [
              0.5555555555555556,
              "#1f9e89"
             ],
             [
              0.6666666666666666,
              "#35b779"
             ],
             [
              0.7777777777777778,
              "#6ece58"
             ],
             [
              0.8888888888888888,
              "#b5de2b"
             ],
             [
              1,
              "#fde725"
             ]
            ],
            "type": "heatmapgl"
           }
          ],
          "histogram": [
           {
            "marker": {
             "line": {
              "color": "white",
              "width": 0.6
             }
            },
            "type": "histogram"
           }
          ],
          "histogram2d": [
           {
            "colorbar": {
             "outlinewidth": 1,
             "tickcolor": "rgb(36,36,36)",
             "ticks": "outside"
            },
            "colorscale": [
             [
              0,
              "#440154"
             ],
             [
              0.1111111111111111,
              "#482878"
             ],
             [
              0.2222222222222222,
              "#3e4989"
             ],
             [
              0.3333333333333333,
              "#31688e"
             ],
             [
              0.4444444444444444,
              "#26828e"
             ],
             [
              0.5555555555555556,
              "#1f9e89"
             ],
             [
              0.6666666666666666,
              "#35b779"
             ],
             [
              0.7777777777777778,
              "#6ece58"
             ],
             [
              0.8888888888888888,
              "#b5de2b"
             ],
             [
              1,
              "#fde725"
             ]
            ],
            "type": "histogram2d"
           }
          ],
          "histogram2dcontour": [
           {
            "colorbar": {
             "outlinewidth": 1,
             "tickcolor": "rgb(36,36,36)",
             "ticks": "outside"
            },
            "colorscale": [
             [
              0,
              "#440154"
             ],
             [
              0.1111111111111111,
              "#482878"
             ],
             [
              0.2222222222222222,
              "#3e4989"
             ],
             [
              0.3333333333333333,
              "#31688e"
             ],
             [
              0.4444444444444444,
              "#26828e"
             ],
             [
              0.5555555555555556,
              "#1f9e89"
             ],
             [
              0.6666666666666666,
              "#35b779"
             ],
             [
              0.7777777777777778,
              "#6ece58"
             ],
             [
              0.8888888888888888,
              "#b5de2b"
             ],
             [
              1,
              "#fde725"
             ]
            ],
            "type": "histogram2dcontour"
           }
          ],
          "mesh3d": [
           {
            "colorbar": {
             "outlinewidth": 1,
             "tickcolor": "rgb(36,36,36)",
             "ticks": "outside"
            },
            "type": "mesh3d"
           }
          ],
          "parcoords": [
           {
            "line": {
             "colorbar": {
              "outlinewidth": 1,
              "tickcolor": "rgb(36,36,36)",
              "ticks": "outside"
             }
            },
            "type": "parcoords"
           }
          ],
          "pie": [
           {
            "automargin": true,
            "type": "pie"
           }
          ],
          "scatter": [
           {
            "fillpattern": {
             "fillmode": "overlay",
             "size": 10,
             "solidity": 0.2
            },
            "type": "scatter"
           }
          ],
          "scatter3d": [
           {
            "line": {
             "colorbar": {
              "outlinewidth": 1,
              "tickcolor": "rgb(36,36,36)",
              "ticks": "outside"
             }
            },
            "marker": {
             "colorbar": {
              "outlinewidth": 1,
              "tickcolor": "rgb(36,36,36)",
              "ticks": "outside"
             }
            },
            "type": "scatter3d"
           }
          ],
          "scattercarpet": [
           {
            "marker": {
             "colorbar": {
              "outlinewidth": 1,
              "tickcolor": "rgb(36,36,36)",
              "ticks": "outside"
             }
            },
            "type": "scattercarpet"
           }
          ],
          "scattergeo": [
           {
            "marker": {
             "colorbar": {
              "outlinewidth": 1,
              "tickcolor": "rgb(36,36,36)",
              "ticks": "outside"
             }
            },
            "type": "scattergeo"
           }
          ],
          "scattergl": [
           {
            "marker": {
             "colorbar": {
              "outlinewidth": 1,
              "tickcolor": "rgb(36,36,36)",
              "ticks": "outside"
             }
            },
            "type": "scattergl"
           }
          ],
          "scattermapbox": [
           {
            "marker": {
             "colorbar": {
              "outlinewidth": 1,
              "tickcolor": "rgb(36,36,36)",
              "ticks": "outside"
             }
            },
            "type": "scattermapbox"
           }
          ],
          "scatterpolar": [
           {
            "marker": {
             "colorbar": {
              "outlinewidth": 1,
              "tickcolor": "rgb(36,36,36)",
              "ticks": "outside"
             }
            },
            "type": "scatterpolar"
           }
          ],
          "scatterpolargl": [
           {
            "marker": {
             "colorbar": {
              "outlinewidth": 1,
              "tickcolor": "rgb(36,36,36)",
              "ticks": "outside"
             }
            },
            "type": "scatterpolargl"
           }
          ],
          "scatterternary": [
           {
            "marker": {
             "colorbar": {
              "outlinewidth": 1,
              "tickcolor": "rgb(36,36,36)",
              "ticks": "outside"
             }
            },
            "type": "scatterternary"
           }
          ],
          "surface": [
           {
            "colorbar": {
             "outlinewidth": 1,
             "tickcolor": "rgb(36,36,36)",
             "ticks": "outside"
            },
            "colorscale": [
             [
              0,
              "#440154"
             ],
             [
              0.1111111111111111,
              "#482878"
             ],
             [
              0.2222222222222222,
              "#3e4989"
             ],
             [
              0.3333333333333333,
              "#31688e"
             ],
             [
              0.4444444444444444,
              "#26828e"
             ],
             [
              0.5555555555555556,
              "#1f9e89"
             ],
             [
              0.6666666666666666,
              "#35b779"
             ],
             [
              0.7777777777777778,
              "#6ece58"
             ],
             [
              0.8888888888888888,
              "#b5de2b"
             ],
             [
              1,
              "#fde725"
             ]
            ],
            "type": "surface"
           }
          ],
          "table": [
           {
            "cells": {
             "fill": {
              "color": "rgb(237,237,237)"
             },
             "line": {
              "color": "white"
             }
            },
            "header": {
             "fill": {
              "color": "rgb(217,217,217)"
             },
             "line": {
              "color": "white"
             }
            },
            "type": "table"
           }
          ]
         },
         "layout": {
          "annotationdefaults": {
           "arrowhead": 0,
           "arrowwidth": 1
          },
          "autotypenumbers": "strict",
          "coloraxis": {
           "colorbar": {
            "outlinewidth": 1,
            "tickcolor": "rgb(36,36,36)",
            "ticks": "outside"
           }
          },
          "colorscale": {
           "diverging": [
            [
             0,
             "rgb(103,0,31)"
            ],
            [
             0.1,
             "rgb(178,24,43)"
            ],
            [
             0.2,
             "rgb(214,96,77)"
            ],
            [
             0.3,
             "rgb(244,165,130)"
            ],
            [
             0.4,
             "rgb(253,219,199)"
            ],
            [
             0.5,
             "rgb(247,247,247)"
            ],
            [
             0.6,
             "rgb(209,229,240)"
            ],
            [
             0.7,
             "rgb(146,197,222)"
            ],
            [
             0.8,
             "rgb(67,147,195)"
            ],
            [
             0.9,
             "rgb(33,102,172)"
            ],
            [
             1,
             "rgb(5,48,97)"
            ]
           ],
           "sequential": [
            [
             0,
             "#440154"
            ],
            [
             0.1111111111111111,
             "#482878"
            ],
            [
             0.2222222222222222,
             "#3e4989"
            ],
            [
             0.3333333333333333,
             "#31688e"
            ],
            [
             0.4444444444444444,
             "#26828e"
            ],
            [
             0.5555555555555556,
             "#1f9e89"
            ],
            [
             0.6666666666666666,
             "#35b779"
            ],
            [
             0.7777777777777778,
             "#6ece58"
            ],
            [
             0.8888888888888888,
             "#b5de2b"
            ],
            [
             1,
             "#fde725"
            ]
           ],
           "sequentialminus": [
            [
             0,
             "#440154"
            ],
            [
             0.1111111111111111,
             "#482878"
            ],
            [
             0.2222222222222222,
             "#3e4989"
            ],
            [
             0.3333333333333333,
             "#31688e"
            ],
            [
             0.4444444444444444,
             "#26828e"
            ],
            [
             0.5555555555555556,
             "#1f9e89"
            ],
            [
             0.6666666666666666,
             "#35b779"
            ],
            [
             0.7777777777777778,
             "#6ece58"
            ],
            [
             0.8888888888888888,
             "#b5de2b"
            ],
            [
             1,
             "#fde725"
            ]
           ]
          },
          "colorway": [
           "#1F77B4",
           "#FF7F0E",
           "#2CA02C",
           "#D62728",
           "#9467BD",
           "#8C564B",
           "#E377C2",
           "#7F7F7F",
           "#BCBD22",
           "#17BECF"
          ],
          "font": {
           "color": "rgb(36,36,36)"
          },
          "geo": {
           "bgcolor": "white",
           "lakecolor": "white",
           "landcolor": "white",
           "showlakes": true,
           "showland": true,
           "subunitcolor": "white"
          },
          "hoverlabel": {
           "align": "left"
          },
          "hovermode": "closest",
          "mapbox": {
           "style": "light"
          },
          "paper_bgcolor": "white",
          "plot_bgcolor": "white",
          "polar": {
           "angularaxis": {
            "gridcolor": "rgb(232,232,232)",
            "linecolor": "rgb(36,36,36)",
            "showgrid": false,
            "showline": true,
            "ticks": "outside"
           },
           "bgcolor": "white",
           "radialaxis": {
            "gridcolor": "rgb(232,232,232)",
            "linecolor": "rgb(36,36,36)",
            "showgrid": false,
            "showline": true,
            "ticks": "outside"
           }
          },
          "scene": {
           "xaxis": {
            "backgroundcolor": "white",
            "gridcolor": "rgb(232,232,232)",
            "gridwidth": 2,
            "linecolor": "rgb(36,36,36)",
            "showbackground": true,
            "showgrid": false,
            "showline": true,
            "ticks": "outside",
            "zeroline": false,
            "zerolinecolor": "rgb(36,36,36)"
           },
           "yaxis": {
            "backgroundcolor": "white",
            "gridcolor": "rgb(232,232,232)",
            "gridwidth": 2,
            "linecolor": "rgb(36,36,36)",
            "showbackground": true,
            "showgrid": false,
            "showline": true,
            "ticks": "outside",
            "zeroline": false,
            "zerolinecolor": "rgb(36,36,36)"
           },
           "zaxis": {
            "backgroundcolor": "white",
            "gridcolor": "rgb(232,232,232)",
            "gridwidth": 2,
            "linecolor": "rgb(36,36,36)",
            "showbackground": true,
            "showgrid": false,
            "showline": true,
            "ticks": "outside",
            "zeroline": false,
            "zerolinecolor": "rgb(36,36,36)"
           }
          },
          "shapedefaults": {
           "fillcolor": "black",
           "line": {
            "width": 0
           },
           "opacity": 0.3
          },
          "ternary": {
           "aaxis": {
            "gridcolor": "rgb(232,232,232)",
            "linecolor": "rgb(36,36,36)",
            "showgrid": false,
            "showline": true,
            "ticks": "outside"
           },
           "baxis": {
            "gridcolor": "rgb(232,232,232)",
            "linecolor": "rgb(36,36,36)",
            "showgrid": false,
            "showline": true,
            "ticks": "outside"
           },
           "bgcolor": "white",
           "caxis": {
            "gridcolor": "rgb(232,232,232)",
            "linecolor": "rgb(36,36,36)",
            "showgrid": false,
            "showline": true,
            "ticks": "outside"
           }
          },
          "title": {
           "x": 0.05
          },
          "xaxis": {
           "automargin": true,
           "gridcolor": "rgb(232,232,232)",
           "linecolor": "rgb(36,36,36)",
           "showgrid": false,
           "showline": true,
           "ticks": "outside",
           "title": {
            "standoff": 15
           },
           "zeroline": false,
           "zerolinecolor": "rgb(36,36,36)"
          },
          "yaxis": {
           "automargin": true,
           "gridcolor": "rgb(232,232,232)",
           "linecolor": "rgb(36,36,36)",
           "showgrid": false,
           "showline": true,
           "ticks": "outside",
           "title": {
            "standoff": 15
           },
           "zeroline": false,
           "zerolinecolor": "rgb(36,36,36)"
          }
         }
        },
        "title": {
         "text": "Distribution of all ratings given per chocolate"
        },
        "width": 1000,
        "xaxis": {
         "anchor": "y",
         "domain": [
          0,
          0.18400000000000002
         ],
         "title": {
          "text": "rating"
         }
        },
        "xaxis10": {
         "anchor": "y10",
         "domain": [
          0.8160000000000001,
          1
         ],
         "matches": "x",
         "showticklabels": false
        },
        "xaxis11": {
         "anchor": "y11",
         "domain": [
          0,
          0.18400000000000002
         ],
         "matches": "x",
         "showticklabels": false
        },
        "xaxis12": {
         "anchor": "y12",
         "domain": [
          0.20400000000000001,
          0.388
         ],
         "matches": "x",
         "showticklabels": false
        },
        "xaxis13": {
         "anchor": "y13",
         "domain": [
          0.40800000000000003,
          0.5920000000000001
         ],
         "matches": "x",
         "showticklabels": false
        },
        "xaxis14": {
         "anchor": "y14",
         "domain": [
          0.6120000000000001,
          0.7960000000000002
         ],
         "matches": "x",
         "showticklabels": false
        },
        "xaxis15": {
         "anchor": "y15",
         "domain": [
          0.8160000000000001,
          1
         ],
         "matches": "x",
         "showticklabels": false
        },
        "xaxis16": {
         "anchor": "y16",
         "domain": [
          0,
          0.18400000000000002
         ],
         "matches": "x",
         "showticklabels": false
        },
        "xaxis17": {
         "anchor": "y17",
         "domain": [
          0.20400000000000001,
          0.388
         ],
         "matches": "x",
         "showticklabels": false
        },
        "xaxis18": {
         "anchor": "y18",
         "domain": [
          0.40800000000000003,
          0.5920000000000001
         ],
         "matches": "x",
         "showticklabels": false
        },
        "xaxis19": {
         "anchor": "y19",
         "domain": [
          0.6120000000000001,
          0.7960000000000002
         ],
         "matches": "x",
         "showticklabels": false
        },
        "xaxis2": {
         "anchor": "y2",
         "domain": [
          0.20400000000000001,
          0.388
         ],
         "matches": "x",
         "title": {
          "text": "rating"
         }
        },
        "xaxis20": {
         "anchor": "y20",
         "domain": [
          0.8160000000000001,
          1
         ],
         "matches": "x",
         "showticklabels": false
        },
        "xaxis3": {
         "anchor": "y3",
         "domain": [
          0.40800000000000003,
          0.5920000000000001
         ],
         "matches": "x",
         "title": {
          "text": "rating"
         }
        },
        "xaxis4": {
         "anchor": "y4",
         "domain": [
          0.6120000000000001,
          0.7960000000000002
         ],
         "matches": "x",
         "title": {
          "text": "rating"
         }
        },
        "xaxis5": {
         "anchor": "y5",
         "domain": [
          0.8160000000000001,
          1
         ],
         "matches": "x",
         "title": {
          "text": "rating"
         }
        },
        "xaxis6": {
         "anchor": "y6",
         "domain": [
          0,
          0.18400000000000002
         ],
         "matches": "x",
         "showticklabels": false
        },
        "xaxis7": {
         "anchor": "y7",
         "domain": [
          0.20400000000000001,
          0.388
         ],
         "matches": "x",
         "showticklabels": false
        },
        "xaxis8": {
         "anchor": "y8",
         "domain": [
          0.40800000000000003,
          0.5920000000000001
         ],
         "matches": "x",
         "showticklabels": false
        },
        "xaxis9": {
         "anchor": "y9",
         "domain": [
          0.6120000000000001,
          0.7960000000000002
         ],
         "matches": "x",
         "showticklabels": false
        },
        "yaxis": {
         "anchor": "x",
         "domain": [
          0,
          0.1975
         ],
         "title": {
          "text": "count"
         }
        },
        "yaxis10": {
         "anchor": "x10",
         "domain": [
          0.2675,
          0.465
         ],
         "matches": "y",
         "showticklabels": false
        },
        "yaxis11": {
         "anchor": "x11",
         "domain": [
          0.535,
          0.7325
         ],
         "matches": "y",
         "title": {
          "text": "count"
         }
        },
        "yaxis12": {
         "anchor": "x12",
         "domain": [
          0.535,
          0.7325
         ],
         "matches": "y",
         "showticklabels": false
        },
        "yaxis13": {
         "anchor": "x13",
         "domain": [
          0.535,
          0.7325
         ],
         "matches": "y",
         "showticklabels": false
        },
        "yaxis14": {
         "anchor": "x14",
         "domain": [
          0.535,
          0.7325
         ],
         "matches": "y",
         "showticklabels": false
        },
        "yaxis15": {
         "anchor": "x15",
         "domain": [
          0.535,
          0.7325
         ],
         "matches": "y",
         "showticklabels": false
        },
        "yaxis16": {
         "anchor": "x16",
         "domain": [
          0.8025,
          1
         ],
         "matches": "y",
         "title": {
          "text": "count"
         }
        },
        "yaxis17": {
         "anchor": "x17",
         "domain": [
          0.8025,
          1
         ],
         "matches": "y",
         "showticklabels": false
        },
        "yaxis18": {
         "anchor": "x18",
         "domain": [
          0.8025,
          1
         ],
         "matches": "y",
         "showticklabels": false
        },
        "yaxis19": {
         "anchor": "x19",
         "domain": [
          0.8025,
          1
         ],
         "matches": "y",
         "showticklabels": false
        },
        "yaxis2": {
         "anchor": "x2",
         "domain": [
          0,
          0.1975
         ],
         "matches": "y",
         "showticklabels": false
        },
        "yaxis20": {
         "anchor": "x20",
         "domain": [
          0.8025,
          1
         ],
         "matches": "y",
         "showticklabels": false
        },
        "yaxis3": {
         "anchor": "x3",
         "domain": [
          0,
          0.1975
         ],
         "matches": "y",
         "showticklabels": false
        },
        "yaxis4": {
         "anchor": "x4",
         "domain": [
          0,
          0.1975
         ],
         "matches": "y",
         "showticklabels": false
        },
        "yaxis5": {
         "anchor": "x5",
         "domain": [
          0,
          0.1975
         ],
         "matches": "y",
         "showticklabels": false
        },
        "yaxis6": {
         "anchor": "x6",
         "domain": [
          0.2675,
          0.465
         ],
         "matches": "y",
         "title": {
          "text": "count"
         }
        },
        "yaxis7": {
         "anchor": "x7",
         "domain": [
          0.2675,
          0.465
         ],
         "matches": "y",
         "showticklabels": false
        },
        "yaxis8": {
         "anchor": "x8",
         "domain": [
          0.2675,
          0.465
         ],
         "matches": "y",
         "showticklabels": false
        },
        "yaxis9": {
         "anchor": "x9",
         "domain": [
          0.2675,
          0.465
         ],
         "matches": "y",
         "showticklabels": false
        }
       }
      }
     },
     "metadata": {},
     "output_type": "display_data"
    }
   ],
   "source": [
    "sim_viz.plot_ratings(facet_col='choc',\n",
    "                     title='Distribution of all ratings given per chocolate')"
   ]
  },
  {
   "attachments": {},
   "cell_type": "markdown",
   "metadata": {},
   "source": [
    "Visualising ratings given by a selection of individual participants in a similar way, we can see the nature of the distributions of ratings does not behave in the same way as the distributions per chocolate. This is a result of the fact that no individual level variation is assumed in the generative model, i.e. that all people are rating chocolates on a scale that is invariant to the population level scale (implicitly assumed to be their own private appeal rating scale bounded by how bad or good they consider it possible for a chocolate to be). So the ratings given by individuals tend to be spread across the appeal scale largeley within the bounds pf -2 to +2."
   ]
  },
  {
   "cell_type": "code",
   "execution_count": 10,
   "metadata": {},
   "outputs": [
    {
     "data": {
      "application/vnd.plotly.v1+json": {
       "config": {
        "plotlyServerURL": "https://plot.ly"
       },
       "data": [
        {
         "alignmentgroup": "True",
         "bingroup": "x",
         "hovertemplate": "person=0<br>rating=%{x}<br>count=%{y}<extra></extra>",
         "legendgroup": "",
         "marker": {
          "color": "#1F77B4",
          "pattern": {
           "shape": ""
          }
         },
         "name": "",
         "offsetgroup": "",
         "orientation": "v",
         "showlegend": false,
         "type": "histogram",
         "x": [
          1.4689835148195491,
          2.120556172479061,
          6.015644687351331,
          -1.2995137866514863,
          0.3292452942972377,
          1.446072919954072,
          -2.558985276262295,
          -0.17935529721984345,
          -9.589452324970956,
          4.216588646467184,
          0.8618323772610872,
          1.384529320229272,
          1.7399865609090355,
          0.6591845980819102,
          -4.228674050727697,
          -0.9201746064882073,
          0.8849061466347677,
          -0.24754513286373353,
          3.2134780765928017,
          -1.682514204763619
         ],
         "xaxis": "x16",
         "yaxis": "y16"
        },
        {
         "alignmentgroup": "True",
         "bingroup": "x",
         "hovertemplate": "person=1<br>rating=%{x}<br>count=%{y}<extra></extra>",
         "legendgroup": "",
         "marker": {
          "color": "#1F77B4",
          "pattern": {
           "shape": ""
          }
         },
         "name": "",
         "offsetgroup": "",
         "orientation": "v",
         "showlegend": false,
         "type": "histogram",
         "x": [
          0.5348835638618483,
          1.4942322653108255,
          3.5845383108790854,
          1.1763607106255853,
          -1.572890780905226,
          -0.6812724420505504,
          -0.07262416141777117,
          -2.2206253520619894,
          -3.6368742581287847,
          -0.5731505578583709,
          -0.15158139110370708,
          -2.1733295741018845,
          -2.5624359843254694,
          0.18183155591968236,
          -0.08880231550853468,
          -3.525647151594354,
          0.9749891153568887,
          -0.4763973512636537,
          10.821149820582278,
          -0.5776053443205889
         ],
         "xaxis": "x17",
         "yaxis": "y17"
        },
        {
         "alignmentgroup": "True",
         "bingroup": "x",
         "hovertemplate": "person=2<br>rating=%{x}<br>count=%{y}<extra></extra>",
         "legendgroup": "",
         "marker": {
          "color": "#1F77B4",
          "pattern": {
           "shape": ""
          }
         },
         "name": "",
         "offsetgroup": "",
         "orientation": "v",
         "showlegend": false,
         "type": "histogram",
         "x": [
          1.8691633017089864,
          1.6439654478006345,
          -5.944722905971812,
          -2.1270139218844966,
          -0.4638518213043191,
          1.9582632135637934,
          -2.9583499120088907,
          0.4843672427046448,
          4.369696718675501,
          -1.9503897672106,
          3.7688995468618773,
          -0.529585832646858,
          -5.965043565336768,
          0.8900378653746465,
          1.4718754602038893,
          -0.7278403952241492,
          -2.65700609685957,
          0.9991070965518785,
          -1.4276365888547038,
          -2.481395416322631
         ],
         "xaxis": "x18",
         "yaxis": "y18"
        },
        {
         "alignmentgroup": "True",
         "bingroup": "x",
         "hovertemplate": "person=3<br>rating=%{x}<br>count=%{y}<extra></extra>",
         "legendgroup": "",
         "marker": {
          "color": "#1F77B4",
          "pattern": {
           "shape": ""
          }
         },
         "name": "",
         "offsetgroup": "",
         "orientation": "v",
         "showlegend": false,
         "type": "histogram",
         "x": [
          1.6232009853604836,
          1.896866085437967,
          4.76995685673681,
          -1.61654310759699,
          -2.8210463094285023,
          -4.555149816079046,
          -3.3859270742932326,
          0.9329968628215182,
          -3.6550889826263915,
          3.8702915552624173,
          -0.014824929448399138,
          -1.4623607390224573,
          1.6068772545125602,
          1.1053326164652926,
          -0.621473603958081,
          -1.7569117521072506,
          -0.43731527034169554,
          -0.14664461194108308,
          -3.54144755702885,
          0.31155137287317475
         ],
         "xaxis": "x19",
         "yaxis": "y19"
        },
        {
         "alignmentgroup": "True",
         "bingroup": "x",
         "hovertemplate": "person=4<br>rating=%{x}<br>count=%{y}<extra></extra>",
         "legendgroup": "",
         "marker": {
          "color": "#1F77B4",
          "pattern": {
           "shape": ""
          }
         },
         "name": "",
         "offsetgroup": "",
         "orientation": "v",
         "showlegend": false,
         "type": "histogram",
         "x": [
          2.0283961282163463,
          2.0566091726834235,
          3.8494902769986274,
          -4.751358380598588,
          -0.47628957548050177,
          0.43276193848627953,
          -0.5417676443329417,
          -1.0850659862459218,
          7.95881979859493,
          3.694934558750327,
          -4.960855974638618,
          -2.5746500155142673,
          4.953883402598154,
          -0.363170887795496,
          -0.11293435245457095,
          0.9629306518736014,
          -0.5314992499516498,
          1.6364201718137432,
          0.5672014871863703,
          -0.17212489155251637
         ],
         "xaxis": "x20",
         "yaxis": "y20"
        },
        {
         "alignmentgroup": "True",
         "bingroup": "x",
         "hovertemplate": "person=5<br>rating=%{x}<br>count=%{y}<extra></extra>",
         "legendgroup": "",
         "marker": {
          "color": "#1F77B4",
          "pattern": {
           "shape": ""
          }
         },
         "name": "",
         "offsetgroup": "",
         "orientation": "v",
         "showlegend": false,
         "type": "histogram",
         "x": [
          -1.2763181615978694,
          3.140577073873791,
          -0.2694596759098046,
          -2.189572240200973,
          1.0934738217243762,
          3.698579481044205,
          2.539585298186715,
          1.9839439011905766,
          0.76515846310378,
          1.850340737439374,
          -0.054063434306320435,
          -3.518528294707985,
          0.0647399852610196,
          2.4391319302817758,
          -0.11408652454087975,
          -0.20797776247673938,
          -0.5921302748617046,
          2.1220423515941134,
          -0.3713497013843995,
          -1.317770797048457
         ],
         "xaxis": "x11",
         "yaxis": "y11"
        },
        {
         "alignmentgroup": "True",
         "bingroup": "x",
         "hovertemplate": "person=6<br>rating=%{x}<br>count=%{y}<extra></extra>",
         "legendgroup": "",
         "marker": {
          "color": "#1F77B4",
          "pattern": {
           "shape": ""
          }
         },
         "name": "",
         "offsetgroup": "",
         "orientation": "v",
         "showlegend": false,
         "type": "histogram",
         "x": [
          0.765194120997987,
          1.06881067076721,
          -4.268222616497727,
          -1.5682604420833783,
          -3.5179267098693128,
          -2.107394106362951,
          -1.588125638488205,
          -1.875953021418921,
          -0.40301022713811346,
          -0.8605598475075469,
          -1.1366254118064634,
          -0.6043564625037946,
          1.3604317214900064,
          3.035310667261067,
          -2.8561950581313766,
          -2.9400117914927772,
          -3.4392742510001293,
          -0.37859717471091314,
          1.1964766444401032,
          -0.0338500858578471
         ],
         "xaxis": "x12",
         "yaxis": "y12"
        },
        {
         "alignmentgroup": "True",
         "bingroup": "x",
         "hovertemplate": "person=7<br>rating=%{x}<br>count=%{y}<extra></extra>",
         "legendgroup": "",
         "marker": {
          "color": "#1F77B4",
          "pattern": {
           "shape": ""
          }
         },
         "name": "",
         "offsetgroup": "",
         "orientation": "v",
         "showlegend": false,
         "type": "histogram",
         "x": [
          1.47548564946119,
          0.6096380821553848,
          4.261166438850591,
          -4.310074610220564,
          -0.9742198351562572,
          1.8486430860103997,
          0.2975774722008546,
          -1.7213145495638007,
          -7.740274502589049,
          -0.06107968275693887,
          -2.240097005808231,
          0.8497210619785366,
          -3.580904625584676,
          0.6976685804609495,
          -1.840675722420154,
          -0.4209389837759446,
          -1.4248072131383482,
          0.4166429082350772,
          -4.098381059852548,
          0.68406483216089
         ],
         "xaxis": "x13",
         "yaxis": "y13"
        },
        {
         "alignmentgroup": "True",
         "bingroup": "x",
         "hovertemplate": "person=8<br>rating=%{x}<br>count=%{y}<extra></extra>",
         "legendgroup": "",
         "marker": {
          "color": "#1F77B4",
          "pattern": {
           "shape": ""
          }
         },
         "name": "",
         "offsetgroup": "",
         "orientation": "v",
         "showlegend": false,
         "type": "histogram",
         "x": [
          1.8656575532243111,
          2.3641480422642247,
          -5.381031669088193,
          -1.9005996052291554,
          -0.2457785561635577,
          -3.335295186866473,
          -0.4469898109748165,
          2.039692508542008,
          -3.3919852008634406,
          3.086415204371505,
          -0.9844484702419352,
          -4.729072377095195,
          -3.435672040532448,
          0.05781567463460835,
          -1.0724565308701877,
          -6.103052516404585,
          -1.028485841563572,
          2.219624007952846,
          0.6935486700710104,
          1.879145884546232
         ],
         "xaxis": "x14",
         "yaxis": "y14"
        },
        {
         "alignmentgroup": "True",
         "bingroup": "x",
         "hovertemplate": "person=9<br>rating=%{x}<br>count=%{y}<extra></extra>",
         "legendgroup": "",
         "marker": {
          "color": "#1F77B4",
          "pattern": {
           "shape": ""
          }
         },
         "name": "",
         "offsetgroup": "",
         "orientation": "v",
         "showlegend": false,
         "type": "histogram",
         "x": [
          -1.2795197670025116,
          2.0414863249396844,
          6.567139541224425,
          0.7653463323340174,
          -0.28640406789422757,
          -2.1426569210622533,
          -1.8104342914622822,
          -1.5751691782429584,
          3.1362746794880882,
          3.4357679983130742,
          -1.9609784826397059,
          -0.5727403419713523,
          2.5519333316606616,
          2.061019948379042,
          0.20066582678102773,
          -3.131646657032798,
          -2.6853036601071194,
          -2.200204537056946,
          -2.9593310583021317,
          -2.874491063209389
         ],
         "xaxis": "x15",
         "yaxis": "y15"
        },
        {
         "alignmentgroup": "True",
         "bingroup": "x",
         "hovertemplate": "person=10<br>rating=%{x}<br>count=%{y}<extra></extra>",
         "legendgroup": "",
         "marker": {
          "color": "#1F77B4",
          "pattern": {
           "shape": ""
          }
         },
         "name": "",
         "offsetgroup": "",
         "orientation": "v",
         "showlegend": false,
         "type": "histogram",
         "x": [
          1.1864158075702378,
          -0.3087945012002422,
          1.9673050059711161,
          0.6359296921308567,
          -1.7160343629327381,
          -4.503105261445199,
          -2.165718139958243,
          -3.6947116790491155,
          2.1533718483706323,
          1.098843174091806,
          1.1335272033327326,
          -0.15533351670584916,
          -0.3517596380289213,
          1.8394070347680875,
          1.292657272869184,
          -4.012403319621794,
          4.543462263812017,
          0.1886431391155884,
          1.8555324686795591,
          0.7857692963961396
         ],
         "xaxis": "x6",
         "yaxis": "y6"
        },
        {
         "alignmentgroup": "True",
         "bingroup": "x",
         "hovertemplate": "person=11<br>rating=%{x}<br>count=%{y}<extra></extra>",
         "legendgroup": "",
         "marker": {
          "color": "#1F77B4",
          "pattern": {
           "shape": ""
          }
         },
         "name": "",
         "offsetgroup": "",
         "orientation": "v",
         "showlegend": false,
         "type": "histogram",
         "x": [
          -0.21661524927719591,
          1.4436286652467678,
          4.777836171231998,
          -0.36894498819582855,
          -2.8547538726440527,
          0.8138107591273183,
          -1.0231270172195708,
          0.9000300720609635,
          9.352533369367736,
          1.2664882059960971,
          0.463761372050079,
          -6.391304848806666,
          -2.2505922627194224,
          3.4721023936580107,
          -0.2883532542393492,
          3.0610979590937246,
          -0.18409295110540647,
          -1.4728202746229977,
          3.0062611264829626,
          -0.05500241022457636
         ],
         "xaxis": "x7",
         "yaxis": "y7"
        },
        {
         "alignmentgroup": "True",
         "bingroup": "x",
         "hovertemplate": "person=12<br>rating=%{x}<br>count=%{y}<extra></extra>",
         "legendgroup": "",
         "marker": {
          "color": "#1F77B4",
          "pattern": {
           "shape": ""
          }
         },
         "name": "",
         "offsetgroup": "",
         "orientation": "v",
         "showlegend": false,
         "type": "histogram",
         "x": [
          0.293910704291891,
          0.8884731250225563,
          0.09605087395334078,
          -3.159278719483949,
          -4.569463198560508,
          -0.0009142735512730482,
          -2.356324803297796,
          -2.751714121190936,
          -5.798549217500438,
          3.2403868005111507,
          -0.06237620719447565,
          5.733428432614672,
          0.10285887127693777,
          -4.195542163639716,
          -0.26875178351834994,
          0.9818837607299227,
          -4.002418401832185,
          -2.82977812770405,
          -0.08792385077026271,
          -0.5844186361404812
         ],
         "xaxis": "x8",
         "yaxis": "y8"
        },
        {
         "alignmentgroup": "True",
         "bingroup": "x",
         "hovertemplate": "person=13<br>rating=%{x}<br>count=%{y}<extra></extra>",
         "legendgroup": "",
         "marker": {
          "color": "#1F77B4",
          "pattern": {
           "shape": ""
          }
         },
         "name": "",
         "offsetgroup": "",
         "orientation": "v",
         "showlegend": false,
         "type": "histogram",
         "x": [
          -0.08085531592287645,
          2.063092649169181,
          7.462817289098046,
          -4.613011335155971,
          -1.1204731533169348,
          -4.361584399842084,
          -3.0180758540013395,
          -0.21611878884822833,
          5.440453022647603,
          1.547217334569387,
          -0.6779536862516283,
          -1.7360631985279835,
          -0.6274402213670596,
          2.6159021150788826,
          1.4608775898555815,
          0.988072307343024,
          -0.0075500279552156435,
          0.4687343192141715,
          2.034942447673273,
          0.29677689404806135
         ],
         "xaxis": "x9",
         "yaxis": "y9"
        },
        {
         "alignmentgroup": "True",
         "bingroup": "x",
         "hovertemplate": "person=14<br>rating=%{x}<br>count=%{y}<extra></extra>",
         "legendgroup": "",
         "marker": {
          "color": "#1F77B4",
          "pattern": {
           "shape": ""
          }
         },
         "name": "",
         "offsetgroup": "",
         "orientation": "v",
         "showlegend": false,
         "type": "histogram",
         "x": [
          -0.7443707207481567,
          1.421493753870513,
          -0.921826440310819,
          2.006349818259539,
          -2.8929576591161754,
          -1.9135249523044273,
          -1.8876291469822002,
          -2.323940747375727,
          -2.238409316939145,
          2.296427245592559,
          0.0020259940644431484,
          1.1901484703850307,
          3.5208901794336778,
          -1.5635692624853739,
          -3.8182565787063076,
          1.6897080079532083,
          -3.752430154287722,
          -0.338725033185425,
          2.228729804462477,
          1.1316291968992132
         ],
         "xaxis": "x10",
         "yaxis": "y10"
        },
        {
         "alignmentgroup": "True",
         "bingroup": "x",
         "hovertemplate": "person=15<br>rating=%{x}<br>count=%{y}<extra></extra>",
         "legendgroup": "",
         "marker": {
          "color": "#1F77B4",
          "pattern": {
           "shape": ""
          }
         },
         "name": "",
         "offsetgroup": "",
         "orientation": "v",
         "showlegend": false,
         "type": "histogram",
         "x": [
          1.3650775689951609,
          1.7497012751072067,
          -1.9323653696159364,
          -3.1819084470802523,
          0.6044143221993041,
          -1.1436417267963077,
          -1.9895479860510172,
          -1.424009544898788,
          -3.845043137779932,
          1.584971225099756,
          7.577712494635519,
          -0.9768299943173153,
          -2.218667525168467,
          0.5803381626511888,
          -3.011577386743525,
          -6.2848559969979565,
          -0.812105186420173,
          -1.7350237167303302,
          -1.4204869480592006,
          0.5883263524252522
         ],
         "xaxis": "x",
         "yaxis": "y"
        },
        {
         "alignmentgroup": "True",
         "bingroup": "x",
         "hovertemplate": "person=16<br>rating=%{x}<br>count=%{y}<extra></extra>",
         "legendgroup": "",
         "marker": {
          "color": "#1F77B4",
          "pattern": {
           "shape": ""
          }
         },
         "name": "",
         "offsetgroup": "",
         "orientation": "v",
         "showlegend": false,
         "type": "histogram",
         "x": [
          -0.3847281605322338,
          2.2014151356212386,
          1.8120032976480827,
          -1.7069829828610803,
          -2.056825697936177,
          -5.453383236413211,
          2.1617843205026395,
          -1.2478352460075048,
          6.692480912802576,
          1.4256527349463133,
          -1.3109346695305923,
          -4.222934041444375,
          7.035285612666551,
          2.5226922470614705,
          -3.462277965281036,
          -2.109238914522902,
          -5.385917550424756,
          2.518522654845686,
          -4.896138886793688,
          0.07593795264954578
         ],
         "xaxis": "x2",
         "yaxis": "y2"
        },
        {
         "alignmentgroup": "True",
         "bingroup": "x",
         "hovertemplate": "person=17<br>rating=%{x}<br>count=%{y}<extra></extra>",
         "legendgroup": "",
         "marker": {
          "color": "#1F77B4",
          "pattern": {
           "shape": ""
          }
         },
         "name": "",
         "offsetgroup": "",
         "orientation": "v",
         "showlegend": false,
         "type": "histogram",
         "x": [
          3.1098202485274675,
          2.5973299659717024,
          -1.215571116961794,
          -1.607934782889574,
          -1.3504075449493902,
          -4.782487167466132,
          -0.5985118878454874,
          0.12276465492299304,
          3.7625321648594174,
          4.7991615083865575,
          0.8835077182097524,
          -4.51013359451139,
          5.913097940603211,
          -0.3666728407482964,
          -3.598731534134578,
          -5.771005367973725,
          -2.9896739830013974,
          -2.5641372242323524,
          -3.272464803107514,
          -0.7193052530504039
         ],
         "xaxis": "x3",
         "yaxis": "y3"
        },
        {
         "alignmentgroup": "True",
         "bingroup": "x",
         "hovertemplate": "person=18<br>rating=%{x}<br>count=%{y}<extra></extra>",
         "legendgroup": "",
         "marker": {
          "color": "#1F77B4",
          "pattern": {
           "shape": ""
          }
         },
         "name": "",
         "offsetgroup": "",
         "orientation": "v",
         "showlegend": false,
         "type": "histogram",
         "x": [
          0.4542870980020123,
          0.47087984524179527,
          -3.44618304359619,
          -3.438616093745701,
          1.0134800088971285,
          1.1616867176716967,
          -1.6637237076322178,
          -0.6554437088475392,
          0.4721248611103646,
          0.9109106389009628,
          -1.973281949805496,
          -1.2860819053171837,
          1.4011285601389587,
          -0.005540441412232644,
          -2.0285334143700458,
          1.640928354575525,
          0.6879337519825798,
          -1.1844715616355876,
          3.2135501685207175,
          -1.3947291489995486
         ],
         "xaxis": "x4",
         "yaxis": "y4"
        },
        {
         "alignmentgroup": "True",
         "bingroup": "x",
         "hovertemplate": "person=19<br>rating=%{x}<br>count=%{y}<extra></extra>",
         "legendgroup": "",
         "marker": {
          "color": "#1F77B4",
          "pattern": {
           "shape": ""
          }
         },
         "name": "",
         "offsetgroup": "",
         "orientation": "v",
         "showlegend": false,
         "type": "histogram",
         "x": [
          0.04616285098961484,
          1.1436220147490725,
          -3.6871290296885686,
          1.8833755853326304,
          -2.6223103698968018,
          -3.5851512901578073,
          -1.0115354331097792,
          0.09943855381008959,
          3.6867821718229306,
          1.077781483422494,
          2.1855366401780403,
          5.258004343632044,
          -3.764708187518213,
          3.6660022776707777,
          0.9153367072683445,
          0.5763075174656309,
          -2.3536401589283726,
          -1.533767398400906,
          2.4832094814068517,
          -0.9846515368873132
         ],
         "xaxis": "x5",
         "yaxis": "y5"
        }
       ],
       "layout": {
        "annotations": [
         {
          "font": {},
          "showarrow": false,
          "text": "person=15",
          "x": 0.09200000000000001,
          "xanchor": "center",
          "xref": "paper",
          "y": 0.1975,
          "yanchor": "bottom",
          "yref": "paper"
         },
         {
          "font": {},
          "showarrow": false,
          "text": "person=16",
          "x": 0.29600000000000004,
          "xanchor": "center",
          "xref": "paper",
          "y": 0.1975,
          "yanchor": "bottom",
          "yref": "paper"
         },
         {
          "font": {},
          "showarrow": false,
          "text": "person=17",
          "x": 0.5,
          "xanchor": "center",
          "xref": "paper",
          "y": 0.1975,
          "yanchor": "bottom",
          "yref": "paper"
         },
         {
          "font": {},
          "showarrow": false,
          "text": "person=18",
          "x": 0.7040000000000002,
          "xanchor": "center",
          "xref": "paper",
          "y": 0.1975,
          "yanchor": "bottom",
          "yref": "paper"
         },
         {
          "font": {},
          "showarrow": false,
          "text": "person=19",
          "x": 0.908,
          "xanchor": "center",
          "xref": "paper",
          "y": 0.1975,
          "yanchor": "bottom",
          "yref": "paper"
         },
         {
          "font": {},
          "showarrow": false,
          "text": "person=10",
          "x": 0.09200000000000001,
          "xanchor": "center",
          "xref": "paper",
          "y": 0.465,
          "yanchor": "bottom",
          "yref": "paper"
         },
         {
          "font": {},
          "showarrow": false,
          "text": "person=11",
          "x": 0.29600000000000004,
          "xanchor": "center",
          "xref": "paper",
          "y": 0.465,
          "yanchor": "bottom",
          "yref": "paper"
         },
         {
          "font": {},
          "showarrow": false,
          "text": "person=12",
          "x": 0.5,
          "xanchor": "center",
          "xref": "paper",
          "y": 0.465,
          "yanchor": "bottom",
          "yref": "paper"
         },
         {
          "font": {},
          "showarrow": false,
          "text": "person=13",
          "x": 0.7040000000000002,
          "xanchor": "center",
          "xref": "paper",
          "y": 0.465,
          "yanchor": "bottom",
          "yref": "paper"
         },
         {
          "font": {},
          "showarrow": false,
          "text": "person=14",
          "x": 0.908,
          "xanchor": "center",
          "xref": "paper",
          "y": 0.465,
          "yanchor": "bottom",
          "yref": "paper"
         },
         {
          "font": {},
          "showarrow": false,
          "text": "person=5",
          "x": 0.09200000000000001,
          "xanchor": "center",
          "xref": "paper",
          "y": 0.7325,
          "yanchor": "bottom",
          "yref": "paper"
         },
         {
          "font": {},
          "showarrow": false,
          "text": "person=6",
          "x": 0.29600000000000004,
          "xanchor": "center",
          "xref": "paper",
          "y": 0.7325,
          "yanchor": "bottom",
          "yref": "paper"
         },
         {
          "font": {},
          "showarrow": false,
          "text": "person=7",
          "x": 0.5,
          "xanchor": "center",
          "xref": "paper",
          "y": 0.7325,
          "yanchor": "bottom",
          "yref": "paper"
         },
         {
          "font": {},
          "showarrow": false,
          "text": "person=8",
          "x": 0.7040000000000002,
          "xanchor": "center",
          "xref": "paper",
          "y": 0.7325,
          "yanchor": "bottom",
          "yref": "paper"
         },
         {
          "font": {},
          "showarrow": false,
          "text": "person=9",
          "x": 0.908,
          "xanchor": "center",
          "xref": "paper",
          "y": 0.7325,
          "yanchor": "bottom",
          "yref": "paper"
         },
         {
          "font": {},
          "showarrow": false,
          "text": "person=0",
          "x": 0.09200000000000001,
          "xanchor": "center",
          "xref": "paper",
          "y": 1,
          "yanchor": "bottom",
          "yref": "paper"
         },
         {
          "font": {},
          "showarrow": false,
          "text": "person=1",
          "x": 0.29600000000000004,
          "xanchor": "center",
          "xref": "paper",
          "y": 1,
          "yanchor": "bottom",
          "yref": "paper"
         },
         {
          "font": {},
          "showarrow": false,
          "text": "person=2",
          "x": 0.5,
          "xanchor": "center",
          "xref": "paper",
          "y": 1,
          "yanchor": "bottom",
          "yref": "paper"
         },
         {
          "font": {},
          "showarrow": false,
          "text": "person=3",
          "x": 0.7040000000000002,
          "xanchor": "center",
          "xref": "paper",
          "y": 1,
          "yanchor": "bottom",
          "yref": "paper"
         },
         {
          "font": {},
          "showarrow": false,
          "text": "person=4",
          "x": 0.908,
          "xanchor": "center",
          "xref": "paper",
          "y": 1,
          "yanchor": "bottom",
          "yref": "paper"
         }
        ],
        "barmode": "relative",
        "height": 600,
        "legend": {
         "tracegroupgap": 0
        },
        "template": {
         "data": {
          "bar": [
           {
            "error_x": {
             "color": "rgb(36,36,36)"
            },
            "error_y": {
             "color": "rgb(36,36,36)"
            },
            "marker": {
             "line": {
              "color": "white",
              "width": 0.5
             },
             "pattern": {
              "fillmode": "overlay",
              "size": 10,
              "solidity": 0.2
             }
            },
            "type": "bar"
           }
          ],
          "barpolar": [
           {
            "marker": {
             "line": {
              "color": "white",
              "width": 0.5
             },
             "pattern": {
              "fillmode": "overlay",
              "size": 10,
              "solidity": 0.2
             }
            },
            "type": "barpolar"
           }
          ],
          "carpet": [
           {
            "aaxis": {
             "endlinecolor": "rgb(36,36,36)",
             "gridcolor": "white",
             "linecolor": "white",
             "minorgridcolor": "white",
             "startlinecolor": "rgb(36,36,36)"
            },
            "baxis": {
             "endlinecolor": "rgb(36,36,36)",
             "gridcolor": "white",
             "linecolor": "white",
             "minorgridcolor": "white",
             "startlinecolor": "rgb(36,36,36)"
            },
            "type": "carpet"
           }
          ],
          "choropleth": [
           {
            "colorbar": {
             "outlinewidth": 1,
             "tickcolor": "rgb(36,36,36)",
             "ticks": "outside"
            },
            "type": "choropleth"
           }
          ],
          "contour": [
           {
            "colorbar": {
             "outlinewidth": 1,
             "tickcolor": "rgb(36,36,36)",
             "ticks": "outside"
            },
            "colorscale": [
             [
              0,
              "#440154"
             ],
             [
              0.1111111111111111,
              "#482878"
             ],
             [
              0.2222222222222222,
              "#3e4989"
             ],
             [
              0.3333333333333333,
              "#31688e"
             ],
             [
              0.4444444444444444,
              "#26828e"
             ],
             [
              0.5555555555555556,
              "#1f9e89"
             ],
             [
              0.6666666666666666,
              "#35b779"
             ],
             [
              0.7777777777777778,
              "#6ece58"
             ],
             [
              0.8888888888888888,
              "#b5de2b"
             ],
             [
              1,
              "#fde725"
             ]
            ],
            "type": "contour"
           }
          ],
          "contourcarpet": [
           {
            "colorbar": {
             "outlinewidth": 1,
             "tickcolor": "rgb(36,36,36)",
             "ticks": "outside"
            },
            "type": "contourcarpet"
           }
          ],
          "heatmap": [
           {
            "colorbar": {
             "outlinewidth": 1,
             "tickcolor": "rgb(36,36,36)",
             "ticks": "outside"
            },
            "colorscale": [
             [
              0,
              "#440154"
             ],
             [
              0.1111111111111111,
              "#482878"
             ],
             [
              0.2222222222222222,
              "#3e4989"
             ],
             [
              0.3333333333333333,
              "#31688e"
             ],
             [
              0.4444444444444444,
              "#26828e"
             ],
             [
              0.5555555555555556,
              "#1f9e89"
             ],
             [
              0.6666666666666666,
              "#35b779"
             ],
             [
              0.7777777777777778,
              "#6ece58"
             ],
             [
              0.8888888888888888,
              "#b5de2b"
             ],
             [
              1,
              "#fde725"
             ]
            ],
            "type": "heatmap"
           }
          ],
          "heatmapgl": [
           {
            "colorbar": {
             "outlinewidth": 1,
             "tickcolor": "rgb(36,36,36)",
             "ticks": "outside"
            },
            "colorscale": [
             [
              0,
              "#440154"
             ],
             [
              0.1111111111111111,
              "#482878"
             ],
             [
              0.2222222222222222,
              "#3e4989"
             ],
             [
              0.3333333333333333,
              "#31688e"
             ],
             [
              0.4444444444444444,
              "#26828e"
             ],
             [
              0.5555555555555556,
              "#1f9e89"
             ],
             [
              0.6666666666666666,
              "#35b779"
             ],
             [
              0.7777777777777778,
              "#6ece58"
             ],
             [
              0.8888888888888888,
              "#b5de2b"
             ],
             [
              1,
              "#fde725"
             ]
            ],
            "type": "heatmapgl"
           }
          ],
          "histogram": [
           {
            "marker": {
             "line": {
              "color": "white",
              "width": 0.6
             }
            },
            "type": "histogram"
           }
          ],
          "histogram2d": [
           {
            "colorbar": {
             "outlinewidth": 1,
             "tickcolor": "rgb(36,36,36)",
             "ticks": "outside"
            },
            "colorscale": [
             [
              0,
              "#440154"
             ],
             [
              0.1111111111111111,
              "#482878"
             ],
             [
              0.2222222222222222,
              "#3e4989"
             ],
             [
              0.3333333333333333,
              "#31688e"
             ],
             [
              0.4444444444444444,
              "#26828e"
             ],
             [
              0.5555555555555556,
              "#1f9e89"
             ],
             [
              0.6666666666666666,
              "#35b779"
             ],
             [
              0.7777777777777778,
              "#6ece58"
             ],
             [
              0.8888888888888888,
              "#b5de2b"
             ],
             [
              1,
              "#fde725"
             ]
            ],
            "type": "histogram2d"
           }
          ],
          "histogram2dcontour": [
           {
            "colorbar": {
             "outlinewidth": 1,
             "tickcolor": "rgb(36,36,36)",
             "ticks": "outside"
            },
            "colorscale": [
             [
              0,
              "#440154"
             ],
             [
              0.1111111111111111,
              "#482878"
             ],
             [
              0.2222222222222222,
              "#3e4989"
             ],
             [
              0.3333333333333333,
              "#31688e"
             ],
             [
              0.4444444444444444,
              "#26828e"
             ],
             [
              0.5555555555555556,
              "#1f9e89"
             ],
             [
              0.6666666666666666,
              "#35b779"
             ],
             [
              0.7777777777777778,
              "#6ece58"
             ],
             [
              0.8888888888888888,
              "#b5de2b"
             ],
             [
              1,
              "#fde725"
             ]
            ],
            "type": "histogram2dcontour"
           }
          ],
          "mesh3d": [
           {
            "colorbar": {
             "outlinewidth": 1,
             "tickcolor": "rgb(36,36,36)",
             "ticks": "outside"
            },
            "type": "mesh3d"
           }
          ],
          "parcoords": [
           {
            "line": {
             "colorbar": {
              "outlinewidth": 1,
              "tickcolor": "rgb(36,36,36)",
              "ticks": "outside"
             }
            },
            "type": "parcoords"
           }
          ],
          "pie": [
           {
            "automargin": true,
            "type": "pie"
           }
          ],
          "scatter": [
           {
            "fillpattern": {
             "fillmode": "overlay",
             "size": 10,
             "solidity": 0.2
            },
            "type": "scatter"
           }
          ],
          "scatter3d": [
           {
            "line": {
             "colorbar": {
              "outlinewidth": 1,
              "tickcolor": "rgb(36,36,36)",
              "ticks": "outside"
             }
            },
            "marker": {
             "colorbar": {
              "outlinewidth": 1,
              "tickcolor": "rgb(36,36,36)",
              "ticks": "outside"
             }
            },
            "type": "scatter3d"
           }
          ],
          "scattercarpet": [
           {
            "marker": {
             "colorbar": {
              "outlinewidth": 1,
              "tickcolor": "rgb(36,36,36)",
              "ticks": "outside"
             }
            },
            "type": "scattercarpet"
           }
          ],
          "scattergeo": [
           {
            "marker": {
             "colorbar": {
              "outlinewidth": 1,
              "tickcolor": "rgb(36,36,36)",
              "ticks": "outside"
             }
            },
            "type": "scattergeo"
           }
          ],
          "scattergl": [
           {
            "marker": {
             "colorbar": {
              "outlinewidth": 1,
              "tickcolor": "rgb(36,36,36)",
              "ticks": "outside"
             }
            },
            "type": "scattergl"
           }
          ],
          "scattermapbox": [
           {
            "marker": {
             "colorbar": {
              "outlinewidth": 1,
              "tickcolor": "rgb(36,36,36)",
              "ticks": "outside"
             }
            },
            "type": "scattermapbox"
           }
          ],
          "scatterpolar": [
           {
            "marker": {
             "colorbar": {
              "outlinewidth": 1,
              "tickcolor": "rgb(36,36,36)",
              "ticks": "outside"
             }
            },
            "type": "scatterpolar"
           }
          ],
          "scatterpolargl": [
           {
            "marker": {
             "colorbar": {
              "outlinewidth": 1,
              "tickcolor": "rgb(36,36,36)",
              "ticks": "outside"
             }
            },
            "type": "scatterpolargl"
           }
          ],
          "scatterternary": [
           {
            "marker": {
             "colorbar": {
              "outlinewidth": 1,
              "tickcolor": "rgb(36,36,36)",
              "ticks": "outside"
             }
            },
            "type": "scatterternary"
           }
          ],
          "surface": [
           {
            "colorbar": {
             "outlinewidth": 1,
             "tickcolor": "rgb(36,36,36)",
             "ticks": "outside"
            },
            "colorscale": [
             [
              0,
              "#440154"
             ],
             [
              0.1111111111111111,
              "#482878"
             ],
             [
              0.2222222222222222,
              "#3e4989"
             ],
             [
              0.3333333333333333,
              "#31688e"
             ],
             [
              0.4444444444444444,
              "#26828e"
             ],
             [
              0.5555555555555556,
              "#1f9e89"
             ],
             [
              0.6666666666666666,
              "#35b779"
             ],
             [
              0.7777777777777778,
              "#6ece58"
             ],
             [
              0.8888888888888888,
              "#b5de2b"
             ],
             [
              1,
              "#fde725"
             ]
            ],
            "type": "surface"
           }
          ],
          "table": [
           {
            "cells": {
             "fill": {
              "color": "rgb(237,237,237)"
             },
             "line": {
              "color": "white"
             }
            },
            "header": {
             "fill": {
              "color": "rgb(217,217,217)"
             },
             "line": {
              "color": "white"
             }
            },
            "type": "table"
           }
          ]
         },
         "layout": {
          "annotationdefaults": {
           "arrowhead": 0,
           "arrowwidth": 1
          },
          "autotypenumbers": "strict",
          "coloraxis": {
           "colorbar": {
            "outlinewidth": 1,
            "tickcolor": "rgb(36,36,36)",
            "ticks": "outside"
           }
          },
          "colorscale": {
           "diverging": [
            [
             0,
             "rgb(103,0,31)"
            ],
            [
             0.1,
             "rgb(178,24,43)"
            ],
            [
             0.2,
             "rgb(214,96,77)"
            ],
            [
             0.3,
             "rgb(244,165,130)"
            ],
            [
             0.4,
             "rgb(253,219,199)"
            ],
            [
             0.5,
             "rgb(247,247,247)"
            ],
            [
             0.6,
             "rgb(209,229,240)"
            ],
            [
             0.7,
             "rgb(146,197,222)"
            ],
            [
             0.8,
             "rgb(67,147,195)"
            ],
            [
             0.9,
             "rgb(33,102,172)"
            ],
            [
             1,
             "rgb(5,48,97)"
            ]
           ],
           "sequential": [
            [
             0,
             "#440154"
            ],
            [
             0.1111111111111111,
             "#482878"
            ],
            [
             0.2222222222222222,
             "#3e4989"
            ],
            [
             0.3333333333333333,
             "#31688e"
            ],
            [
             0.4444444444444444,
             "#26828e"
            ],
            [
             0.5555555555555556,
             "#1f9e89"
            ],
            [
             0.6666666666666666,
             "#35b779"
            ],
            [
             0.7777777777777778,
             "#6ece58"
            ],
            [
             0.8888888888888888,
             "#b5de2b"
            ],
            [
             1,
             "#fde725"
            ]
           ],
           "sequentialminus": [
            [
             0,
             "#440154"
            ],
            [
             0.1111111111111111,
             "#482878"
            ],
            [
             0.2222222222222222,
             "#3e4989"
            ],
            [
             0.3333333333333333,
             "#31688e"
            ],
            [
             0.4444444444444444,
             "#26828e"
            ],
            [
             0.5555555555555556,
             "#1f9e89"
            ],
            [
             0.6666666666666666,
             "#35b779"
            ],
            [
             0.7777777777777778,
             "#6ece58"
            ],
            [
             0.8888888888888888,
             "#b5de2b"
            ],
            [
             1,
             "#fde725"
            ]
           ]
          },
          "colorway": [
           "#1F77B4",
           "#FF7F0E",
           "#2CA02C",
           "#D62728",
           "#9467BD",
           "#8C564B",
           "#E377C2",
           "#7F7F7F",
           "#BCBD22",
           "#17BECF"
          ],
          "font": {
           "color": "rgb(36,36,36)"
          },
          "geo": {
           "bgcolor": "white",
           "lakecolor": "white",
           "landcolor": "white",
           "showlakes": true,
           "showland": true,
           "subunitcolor": "white"
          },
          "hoverlabel": {
           "align": "left"
          },
          "hovermode": "closest",
          "mapbox": {
           "style": "light"
          },
          "paper_bgcolor": "white",
          "plot_bgcolor": "white",
          "polar": {
           "angularaxis": {
            "gridcolor": "rgb(232,232,232)",
            "linecolor": "rgb(36,36,36)",
            "showgrid": false,
            "showline": true,
            "ticks": "outside"
           },
           "bgcolor": "white",
           "radialaxis": {
            "gridcolor": "rgb(232,232,232)",
            "linecolor": "rgb(36,36,36)",
            "showgrid": false,
            "showline": true,
            "ticks": "outside"
           }
          },
          "scene": {
           "xaxis": {
            "backgroundcolor": "white",
            "gridcolor": "rgb(232,232,232)",
            "gridwidth": 2,
            "linecolor": "rgb(36,36,36)",
            "showbackground": true,
            "showgrid": false,
            "showline": true,
            "ticks": "outside",
            "zeroline": false,
            "zerolinecolor": "rgb(36,36,36)"
           },
           "yaxis": {
            "backgroundcolor": "white",
            "gridcolor": "rgb(232,232,232)",
            "gridwidth": 2,
            "linecolor": "rgb(36,36,36)",
            "showbackground": true,
            "showgrid": false,
            "showline": true,
            "ticks": "outside",
            "zeroline": false,
            "zerolinecolor": "rgb(36,36,36)"
           },
           "zaxis": {
            "backgroundcolor": "white",
            "gridcolor": "rgb(232,232,232)",
            "gridwidth": 2,
            "linecolor": "rgb(36,36,36)",
            "showbackground": true,
            "showgrid": false,
            "showline": true,
            "ticks": "outside",
            "zeroline": false,
            "zerolinecolor": "rgb(36,36,36)"
           }
          },
          "shapedefaults": {
           "fillcolor": "black",
           "line": {
            "width": 0
           },
           "opacity": 0.3
          },
          "ternary": {
           "aaxis": {
            "gridcolor": "rgb(232,232,232)",
            "linecolor": "rgb(36,36,36)",
            "showgrid": false,
            "showline": true,
            "ticks": "outside"
           },
           "baxis": {
            "gridcolor": "rgb(232,232,232)",
            "linecolor": "rgb(36,36,36)",
            "showgrid": false,
            "showline": true,
            "ticks": "outside"
           },
           "bgcolor": "white",
           "caxis": {
            "gridcolor": "rgb(232,232,232)",
            "linecolor": "rgb(36,36,36)",
            "showgrid": false,
            "showline": true,
            "ticks": "outside"
           }
          },
          "title": {
           "x": 0.05
          },
          "xaxis": {
           "automargin": true,
           "gridcolor": "rgb(232,232,232)",
           "linecolor": "rgb(36,36,36)",
           "showgrid": false,
           "showline": true,
           "ticks": "outside",
           "title": {
            "standoff": 15
           },
           "zeroline": false,
           "zerolinecolor": "rgb(36,36,36)"
          },
          "yaxis": {
           "automargin": true,
           "gridcolor": "rgb(232,232,232)",
           "linecolor": "rgb(36,36,36)",
           "showgrid": false,
           "showline": true,
           "ticks": "outside",
           "title": {
            "standoff": 15
           },
           "zeroline": false,
           "zerolinecolor": "rgb(36,36,36)"
          }
         }
        },
        "title": {
         "text": "Distribution of ratings given by a selection of people"
        },
        "width": 1000,
        "xaxis": {
         "anchor": "y",
         "domain": [
          0,
          0.18400000000000002
         ],
         "title": {
          "text": "rating"
         }
        },
        "xaxis10": {
         "anchor": "y10",
         "domain": [
          0.8160000000000001,
          1
         ],
         "matches": "x",
         "showticklabels": false
        },
        "xaxis11": {
         "anchor": "y11",
         "domain": [
          0,
          0.18400000000000002
         ],
         "matches": "x",
         "showticklabels": false
        },
        "xaxis12": {
         "anchor": "y12",
         "domain": [
          0.20400000000000001,
          0.388
         ],
         "matches": "x",
         "showticklabels": false
        },
        "xaxis13": {
         "anchor": "y13",
         "domain": [
          0.40800000000000003,
          0.5920000000000001
         ],
         "matches": "x",
         "showticklabels": false
        },
        "xaxis14": {
         "anchor": "y14",
         "domain": [
          0.6120000000000001,
          0.7960000000000002
         ],
         "matches": "x",
         "showticklabels": false
        },
        "xaxis15": {
         "anchor": "y15",
         "domain": [
          0.8160000000000001,
          1
         ],
         "matches": "x",
         "showticklabels": false
        },
        "xaxis16": {
         "anchor": "y16",
         "domain": [
          0,
          0.18400000000000002
         ],
         "matches": "x",
         "showticklabels": false
        },
        "xaxis17": {
         "anchor": "y17",
         "domain": [
          0.20400000000000001,
          0.388
         ],
         "matches": "x",
         "showticklabels": false
        },
        "xaxis18": {
         "anchor": "y18",
         "domain": [
          0.40800000000000003,
          0.5920000000000001
         ],
         "matches": "x",
         "showticklabels": false
        },
        "xaxis19": {
         "anchor": "y19",
         "domain": [
          0.6120000000000001,
          0.7960000000000002
         ],
         "matches": "x",
         "showticklabels": false
        },
        "xaxis2": {
         "anchor": "y2",
         "domain": [
          0.20400000000000001,
          0.388
         ],
         "matches": "x",
         "title": {
          "text": "rating"
         }
        },
        "xaxis20": {
         "anchor": "y20",
         "domain": [
          0.8160000000000001,
          1
         ],
         "matches": "x",
         "showticklabels": false
        },
        "xaxis3": {
         "anchor": "y3",
         "domain": [
          0.40800000000000003,
          0.5920000000000001
         ],
         "matches": "x",
         "title": {
          "text": "rating"
         }
        },
        "xaxis4": {
         "anchor": "y4",
         "domain": [
          0.6120000000000001,
          0.7960000000000002
         ],
         "matches": "x",
         "title": {
          "text": "rating"
         }
        },
        "xaxis5": {
         "anchor": "y5",
         "domain": [
          0.8160000000000001,
          1
         ],
         "matches": "x",
         "title": {
          "text": "rating"
         }
        },
        "xaxis6": {
         "anchor": "y6",
         "domain": [
          0,
          0.18400000000000002
         ],
         "matches": "x",
         "showticklabels": false
        },
        "xaxis7": {
         "anchor": "y7",
         "domain": [
          0.20400000000000001,
          0.388
         ],
         "matches": "x",
         "showticklabels": false
        },
        "xaxis8": {
         "anchor": "y8",
         "domain": [
          0.40800000000000003,
          0.5920000000000001
         ],
         "matches": "x",
         "showticklabels": false
        },
        "xaxis9": {
         "anchor": "y9",
         "domain": [
          0.6120000000000001,
          0.7960000000000002
         ],
         "matches": "x",
         "showticklabels": false
        },
        "yaxis": {
         "anchor": "x",
         "domain": [
          0,
          0.1975
         ],
         "title": {
          "text": "count"
         }
        },
        "yaxis10": {
         "anchor": "x10",
         "domain": [
          0.2675,
          0.465
         ],
         "matches": "y",
         "showticklabels": false
        },
        "yaxis11": {
         "anchor": "x11",
         "domain": [
          0.535,
          0.7325
         ],
         "matches": "y",
         "title": {
          "text": "count"
         }
        },
        "yaxis12": {
         "anchor": "x12",
         "domain": [
          0.535,
          0.7325
         ],
         "matches": "y",
         "showticklabels": false
        },
        "yaxis13": {
         "anchor": "x13",
         "domain": [
          0.535,
          0.7325
         ],
         "matches": "y",
         "showticklabels": false
        },
        "yaxis14": {
         "anchor": "x14",
         "domain": [
          0.535,
          0.7325
         ],
         "matches": "y",
         "showticklabels": false
        },
        "yaxis15": {
         "anchor": "x15",
         "domain": [
          0.535,
          0.7325
         ],
         "matches": "y",
         "showticklabels": false
        },
        "yaxis16": {
         "anchor": "x16",
         "domain": [
          0.8025,
          1
         ],
         "matches": "y",
         "title": {
          "text": "count"
         }
        },
        "yaxis17": {
         "anchor": "x17",
         "domain": [
          0.8025,
          1
         ],
         "matches": "y",
         "showticklabels": false
        },
        "yaxis18": {
         "anchor": "x18",
         "domain": [
          0.8025,
          1
         ],
         "matches": "y",
         "showticklabels": false
        },
        "yaxis19": {
         "anchor": "x19",
         "domain": [
          0.8025,
          1
         ],
         "matches": "y",
         "showticklabels": false
        },
        "yaxis2": {
         "anchor": "x2",
         "domain": [
          0,
          0.1975
         ],
         "matches": "y",
         "showticklabels": false
        },
        "yaxis20": {
         "anchor": "x20",
         "domain": [
          0.8025,
          1
         ],
         "matches": "y",
         "showticklabels": false
        },
        "yaxis3": {
         "anchor": "x3",
         "domain": [
          0,
          0.1975
         ],
         "matches": "y",
         "showticklabels": false
        },
        "yaxis4": {
         "anchor": "x4",
         "domain": [
          0,
          0.1975
         ],
         "matches": "y",
         "showticklabels": false
        },
        "yaxis5": {
         "anchor": "x5",
         "domain": [
          0,
          0.1975
         ],
         "matches": "y",
         "showticklabels": false
        },
        "yaxis6": {
         "anchor": "x6",
         "domain": [
          0.2675,
          0.465
         ],
         "matches": "y",
         "title": {
          "text": "count"
         }
        },
        "yaxis7": {
         "anchor": "x7",
         "domain": [
          0.2675,
          0.465
         ],
         "matches": "y",
         "showticklabels": false
        },
        "yaxis8": {
         "anchor": "x8",
         "domain": [
          0.2675,
          0.465
         ],
         "matches": "y",
         "showticklabels": false
        },
        "yaxis9": {
         "anchor": "x9",
         "domain": [
          0.2675,
          0.465
         ],
         "matches": "y",
         "showticklabels": false
        }
       }
      }
     },
     "metadata": {},
     "output_type": "display_data"
    }
   ],
   "source": [
    "sim_viz.plot_ratings(facet_col='person',\n",
    "                     facets_limit={'var': 'person',\n",
    "                                   'records': 20},\n",
    "                     title='Distribution of ratings given by a selection of people')"
   ]
  },
  {
   "attachments": {},
   "cell_type": "markdown",
   "metadata": {},
   "source": [
    "## Visualising ratings and rankings\n",
    "\n",
    "Again visualising just a selection of people, here we explore the relationship between ratings and rankings. The generative model assumes that each persons's ranking of the chocolates is given by the ordering of the ratings each person implicitly gives to the chocolates on the unobserved latent rating scale. Consequently, The relationship between rankings and ratings is monotonically decreasing, i.e. a higher rating for A than B must lead to a better (i.e. lower index) ranking of A than B.\n",
    "\n",
    "This visualisation is interesting because it also shows us something about how our observation of only the ranking - and not the rating - data limits our information about the relative appeal people find in the chocolates. The rank alone tells us only which chocolates have more appeal than others, but nothing about how much more appeal. There are cases in this visualisation where we can see reasonably large 'jumps' in rating from on chocolate in the ranking to the next, either where a person rates a specific chocolate as having much more or much less appeal than others, or where a person seems to consider a group of chocolates better than another group of chocolates, with a noticeable 'gap' in ratings between the two groups."
   ]
  },
  {
   "cell_type": "code",
   "execution_count": 11,
   "metadata": {},
   "outputs": [
    {
     "data": {
      "application/vnd.plotly.v1+json": {
       "config": {
        "plotlyServerURL": "https://plot.ly"
       },
       "data": [
        {
         "hovertemplate": "choc=0<br>person=0<br>rank=%{x}<br>rating=%{y}<extra></extra>",
         "legendgroup": "0",
         "marker": {
          "color": "#1F77B4",
          "symbol": "circle"
         },
         "mode": "markers",
         "name": "0",
         "orientation": "v",
         "showlegend": true,
         "type": "scatter",
         "x": [
          5
         ],
         "xaxis": "x16",
         "y": [
          1.4689835148195491
         ],
         "yaxis": "y16"
        },
        {
         "hovertemplate": "choc=0<br>person=1<br>rank=%{x}<br>rating=%{y}<extra></extra>",
         "legendgroup": "0",
         "marker": {
          "color": "#1F77B4",
          "symbol": "circle"
         },
         "mode": "markers",
         "name": "0",
         "orientation": "v",
         "showlegend": false,
         "type": "scatter",
         "x": [
          5
         ],
         "xaxis": "x17",
         "y": [
          0.5348835638618483
         ],
         "yaxis": "y17"
        },
        {
         "hovertemplate": "choc=0<br>person=2<br>rank=%{x}<br>rating=%{y}<extra></extra>",
         "legendgroup": "0",
         "marker": {
          "color": "#1F77B4",
          "symbol": "circle"
         },
         "mode": "markers",
         "name": "0",
         "orientation": "v",
         "showlegend": false,
         "type": "scatter",
         "x": [
          3
         ],
         "xaxis": "x18",
         "y": [
          1.8691633017089864
         ],
         "yaxis": "y18"
        },
        {
         "hovertemplate": "choc=0<br>person=3<br>rank=%{x}<br>rating=%{y}<extra></extra>",
         "legendgroup": "0",
         "marker": {
          "color": "#1F77B4",
          "symbol": "circle"
         },
         "mode": "markers",
         "name": "0",
         "orientation": "v",
         "showlegend": false,
         "type": "scatter",
         "x": [
          3
         ],
         "xaxis": "x19",
         "y": [
          1.6232009853604836
         ],
         "yaxis": "y19"
        },
        {
         "hovertemplate": "choc=0<br>person=4<br>rank=%{x}<br>rating=%{y}<extra></extra>",
         "legendgroup": "0",
         "marker": {
          "color": "#1F77B4",
          "symbol": "circle"
         },
         "mode": "markers",
         "name": "0",
         "orientation": "v",
         "showlegend": false,
         "type": "scatter",
         "x": [
          5
         ],
         "xaxis": "x20",
         "y": [
          2.0283961282163463
         ],
         "yaxis": "y20"
        },
        {
         "hovertemplate": "choc=0<br>person=5<br>rank=%{x}<br>rating=%{y}<extra></extra>",
         "legendgroup": "0",
         "marker": {
          "color": "#1F77B4",
          "symbol": "circle"
         },
         "mode": "markers",
         "name": "0",
         "orientation": "v",
         "showlegend": false,
         "type": "scatter",
         "x": [
          16
         ],
         "xaxis": "x11",
         "y": [
          -1.2763181615978694
         ],
         "yaxis": "y11"
        },
        {
         "hovertemplate": "choc=0<br>person=6<br>rank=%{x}<br>rating=%{y}<extra></extra>",
         "legendgroup": "0",
         "marker": {
          "color": "#1F77B4",
          "symbol": "circle"
         },
         "mode": "markers",
         "name": "0",
         "orientation": "v",
         "showlegend": false,
         "type": "scatter",
         "x": [
          4
         ],
         "xaxis": "x12",
         "y": [
          0.765194120997987
         ],
         "yaxis": "y12"
        },
        {
         "hovertemplate": "choc=0<br>person=7<br>rank=%{x}<br>rating=%{y}<extra></extra>",
         "legendgroup": "0",
         "marker": {
          "color": "#1F77B4",
          "symbol": "circle"
         },
         "mode": "markers",
         "name": "0",
         "orientation": "v",
         "showlegend": false,
         "type": "scatter",
         "x": [
          2
         ],
         "xaxis": "x13",
         "y": [
          1.47548564946119
         ],
         "yaxis": "y13"
        },
        {
         "hovertemplate": "choc=0<br>person=8<br>rank=%{x}<br>rating=%{y}<extra></extra>",
         "legendgroup": "0",
         "marker": {
          "color": "#1F77B4",
          "symbol": "circle"
         },
         "mode": "markers",
         "name": "0",
         "orientation": "v",
         "showlegend": false,
         "type": "scatter",
         "x": [
          5
         ],
         "xaxis": "x14",
         "y": [
          1.8656575532243111
         ],
         "yaxis": "y14"
        },
        {
         "hovertemplate": "choc=0<br>person=9<br>rank=%{x}<br>rating=%{y}<extra></extra>",
         "legendgroup": "0",
         "marker": {
          "color": "#1F77B4",
          "symbol": "circle"
         },
         "mode": "markers",
         "name": "0",
         "orientation": "v",
         "showlegend": false,
         "type": "scatter",
         "x": [
          10
         ],
         "xaxis": "x15",
         "y": [
          -1.2795197670025116
         ],
         "yaxis": "y15"
        },
        {
         "hovertemplate": "choc=0<br>person=10<br>rank=%{x}<br>rating=%{y}<extra></extra>",
         "legendgroup": "0",
         "marker": {
          "color": "#1F77B4",
          "symbol": "circle"
         },
         "mode": "markers",
         "name": "0",
         "orientation": "v",
         "showlegend": false,
         "type": "scatter",
         "x": [
          6
         ],
         "xaxis": "x6",
         "y": [
          1.1864158075702378
         ],
         "yaxis": "y6"
        },
        {
         "hovertemplate": "choc=0<br>person=11<br>rank=%{x}<br>rating=%{y}<extra></extra>",
         "legendgroup": "0",
         "marker": {
          "color": "#1F77B4",
          "symbol": "circle"
         },
         "mode": "markers",
         "name": "0",
         "orientation": "v",
         "showlegend": false,
         "type": "scatter",
         "x": [
          12
         ],
         "xaxis": "x7",
         "y": [
          -0.21661524927719591
         ],
         "yaxis": "y7"
        },
        {
         "hovertemplate": "choc=0<br>person=12<br>rank=%{x}<br>rating=%{y}<extra></extra>",
         "legendgroup": "0",
         "marker": {
          "color": "#1F77B4",
          "symbol": "circle"
         },
         "mode": "markers",
         "name": "0",
         "orientation": "v",
         "showlegend": false,
         "type": "scatter",
         "x": [
          4
         ],
         "xaxis": "x8",
         "y": [
          0.293910704291891
         ],
         "yaxis": "y8"
        },
        {
         "hovertemplate": "choc=0<br>person=13<br>rank=%{x}<br>rating=%{y}<extra></extra>",
         "legendgroup": "0",
         "marker": {
          "color": "#1F77B4",
          "symbol": "circle"
         },
         "mode": "markers",
         "name": "0",
         "orientation": "v",
         "showlegend": false,
         "type": "scatter",
         "x": [
          11
         ],
         "xaxis": "x9",
         "y": [
          -0.08085531592287645
         ],
         "yaxis": "y9"
        },
        {
         "hovertemplate": "choc=0<br>person=14<br>rank=%{x}<br>rating=%{y}<extra></extra>",
         "legendgroup": "0",
         "marker": {
          "color": "#1F77B4",
          "symbol": "circle"
         },
         "mode": "markers",
         "name": "0",
         "orientation": "v",
         "showlegend": false,
         "type": "scatter",
         "x": [
          10
         ],
         "xaxis": "x10",
         "y": [
          -0.7443707207481567
         ],
         "yaxis": "y10"
        },
        {
         "hovertemplate": "choc=0<br>person=15<br>rank=%{x}<br>rating=%{y}<extra></extra>",
         "legendgroup": "0",
         "marker": {
          "color": "#1F77B4",
          "symbol": "circle"
         },
         "mode": "markers",
         "name": "0",
         "orientation": "v",
         "showlegend": false,
         "type": "scatter",
         "x": [
          3
         ],
         "xaxis": "x",
         "y": [
          1.3650775689951609
         ],
         "yaxis": "y"
        },
        {
         "hovertemplate": "choc=0<br>person=16<br>rank=%{x}<br>rating=%{y}<extra></extra>",
         "legendgroup": "0",
         "marker": {
          "color": "#1F77B4",
          "symbol": "circle"
         },
         "mode": "markers",
         "name": "0",
         "orientation": "v",
         "showlegend": false,
         "type": "scatter",
         "x": [
          9
         ],
         "xaxis": "x2",
         "y": [
          -0.3847281605322338
         ],
         "yaxis": "y2"
        },
        {
         "hovertemplate": "choc=0<br>person=17<br>rank=%{x}<br>rating=%{y}<extra></extra>",
         "legendgroup": "0",
         "marker": {
          "color": "#1F77B4",
          "symbol": "circle"
         },
         "mode": "markers",
         "name": "0",
         "orientation": "v",
         "showlegend": false,
         "type": "scatter",
         "x": [
          3
         ],
         "xaxis": "x3",
         "y": [
          3.1098202485274675
         ],
         "yaxis": "y3"
        },
        {
         "hovertemplate": "choc=0<br>person=18<br>rank=%{x}<br>rating=%{y}<extra></extra>",
         "legendgroup": "0",
         "marker": {
          "color": "#1F77B4",
          "symbol": "circle"
         },
         "mode": "markers",
         "name": "0",
         "orientation": "v",
         "showlegend": false,
         "type": "scatter",
         "x": [
          9
         ],
         "xaxis": "x4",
         "y": [
          0.4542870980020123
         ],
         "yaxis": "y4"
        },
        {
         "hovertemplate": "choc=0<br>person=19<br>rank=%{x}<br>rating=%{y}<extra></extra>",
         "legendgroup": "0",
         "marker": {
          "color": "#1F77B4",
          "symbol": "circle"
         },
         "mode": "markers",
         "name": "0",
         "orientation": "v",
         "showlegend": false,
         "type": "scatter",
         "x": [
          11
         ],
         "xaxis": "x5",
         "y": [
          0.04616285098961484
         ],
         "yaxis": "y5"
        },
        {
         "hovertemplate": "choc=1<br>person=0<br>rank=%{x}<br>rating=%{y}<extra></extra>",
         "legendgroup": "1",
         "marker": {
          "color": "#FF7F0E",
          "symbol": "circle"
         },
         "mode": "markers",
         "name": "1",
         "orientation": "v",
         "showlegend": true,
         "type": "scatter",
         "x": [
          3
         ],
         "xaxis": "x16",
         "y": [
          2.120556172479061
         ],
         "yaxis": "y16"
        },
        {
         "hovertemplate": "choc=1<br>person=1<br>rank=%{x}<br>rating=%{y}<extra></extra>",
         "legendgroup": "1",
         "marker": {
          "color": "#FF7F0E",
          "symbol": "circle"
         },
         "mode": "markers",
         "name": "1",
         "orientation": "v",
         "showlegend": false,
         "type": "scatter",
         "x": [
          2
         ],
         "xaxis": "x17",
         "y": [
          1.4942322653108255
         ],
         "yaxis": "y17"
        },
        {
         "hovertemplate": "choc=1<br>person=2<br>rank=%{x}<br>rating=%{y}<extra></extra>",
         "legendgroup": "1",
         "marker": {
          "color": "#FF7F0E",
          "symbol": "circle"
         },
         "mode": "markers",
         "name": "1",
         "orientation": "v",
         "showlegend": false,
         "type": "scatter",
         "x": [
          4
         ],
         "xaxis": "x18",
         "y": [
          1.6439654478006345
         ],
         "yaxis": "y18"
        },
        {
         "hovertemplate": "choc=1<br>person=3<br>rank=%{x}<br>rating=%{y}<extra></extra>",
         "legendgroup": "1",
         "marker": {
          "color": "#FF7F0E",
          "symbol": "circle"
         },
         "mode": "markers",
         "name": "1",
         "orientation": "v",
         "showlegend": false,
         "type": "scatter",
         "x": [
          2
         ],
         "xaxis": "x19",
         "y": [
          1.896866085437967
         ],
         "yaxis": "y19"
        },
        {
         "hovertemplate": "choc=1<br>person=4<br>rank=%{x}<br>rating=%{y}<extra></extra>",
         "legendgroup": "1",
         "marker": {
          "color": "#FF7F0E",
          "symbol": "circle"
         },
         "mode": "markers",
         "name": "1",
         "orientation": "v",
         "showlegend": false,
         "type": "scatter",
         "x": [
          4
         ],
         "xaxis": "x20",
         "y": [
          2.0566091726834235
         ],
         "yaxis": "y20"
        },
        {
         "hovertemplate": "choc=1<br>person=5<br>rank=%{x}<br>rating=%{y}<extra></extra>",
         "legendgroup": "1",
         "marker": {
          "color": "#FF7F0E",
          "symbol": "circle"
         },
         "mode": "markers",
         "name": "1",
         "orientation": "v",
         "showlegend": false,
         "type": "scatter",
         "x": [
          1
         ],
         "xaxis": "x11",
         "y": [
          3.140577073873791
         ],
         "yaxis": "y11"
        },
        {
         "hovertemplate": "choc=1<br>person=6<br>rank=%{x}<br>rating=%{y}<extra></extra>",
         "legendgroup": "1",
         "marker": {
          "color": "#FF7F0E",
          "symbol": "circle"
         },
         "mode": "markers",
         "name": "1",
         "orientation": "v",
         "showlegend": false,
         "type": "scatter",
         "x": [
          3
         ],
         "xaxis": "x12",
         "y": [
          1.06881067076721
         ],
         "yaxis": "y12"
        },
        {
         "hovertemplate": "choc=1<br>person=7<br>rank=%{x}<br>rating=%{y}<extra></extra>",
         "legendgroup": "1",
         "marker": {
          "color": "#FF7F0E",
          "symbol": "circle"
         },
         "mode": "markers",
         "name": "1",
         "orientation": "v",
         "showlegend": false,
         "type": "scatter",
         "x": [
          6
         ],
         "xaxis": "x13",
         "y": [
          0.6096380821553848
         ],
         "yaxis": "y13"
        },
        {
         "hovertemplate": "choc=1<br>person=8<br>rank=%{x}<br>rating=%{y}<extra></extra>",
         "legendgroup": "1",
         "marker": {
          "color": "#FF7F0E",
          "symbol": "circle"
         },
         "mode": "markers",
         "name": "1",
         "orientation": "v",
         "showlegend": false,
         "type": "scatter",
         "x": [
          1
         ],
         "xaxis": "x14",
         "y": [
          2.3641480422642247
         ],
         "yaxis": "y14"
        },
        {
         "hovertemplate": "choc=1<br>person=9<br>rank=%{x}<br>rating=%{y}<extra></extra>",
         "legendgroup": "1",
         "marker": {
          "color": "#FF7F0E",
          "symbol": "circle"
         },
         "mode": "markers",
         "name": "1",
         "orientation": "v",
         "showlegend": false,
         "type": "scatter",
         "x": [
          5
         ],
         "xaxis": "x15",
         "y": [
          2.0414863249396844
         ],
         "yaxis": "y15"
        },
        {
         "hovertemplate": "choc=1<br>person=10<br>rank=%{x}<br>rating=%{y}<extra></extra>",
         "legendgroup": "1",
         "marker": {
          "color": "#FF7F0E",
          "symbol": "circle"
         },
         "mode": "markers",
         "name": "1",
         "orientation": "v",
         "showlegend": false,
         "type": "scatter",
         "x": [
          13
         ],
         "xaxis": "x6",
         "y": [
          -0.3087945012002422
         ],
         "yaxis": "y6"
        },
        {
         "hovertemplate": "choc=1<br>person=11<br>rank=%{x}<br>rating=%{y}<extra></extra>",
         "legendgroup": "1",
         "marker": {
          "color": "#FF7F0E",
          "symbol": "circle"
         },
         "mode": "markers",
         "name": "1",
         "orientation": "v",
         "showlegend": false,
         "type": "scatter",
         "x": [
          5
         ],
         "xaxis": "x7",
         "y": [
          1.4436286652467678
         ],
         "yaxis": "y7"
        },
        {
         "hovertemplate": "choc=1<br>person=12<br>rank=%{x}<br>rating=%{y}<extra></extra>",
         "legendgroup": "1",
         "marker": {
          "color": "#FF7F0E",
          "symbol": "circle"
         },
         "mode": "markers",
         "name": "1",
         "orientation": "v",
         "showlegend": false,
         "type": "scatter",
         "x": [
          3
         ],
         "xaxis": "x8",
         "y": [
          0.8884731250225563
         ],
         "yaxis": "y8"
        },
        {
         "hovertemplate": "choc=1<br>person=13<br>rank=%{x}<br>rating=%{y}<extra></extra>",
         "legendgroup": "1",
         "marker": {
          "color": "#FF7F0E",
          "symbol": "circle"
         },
         "mode": "markers",
         "name": "1",
         "orientation": "v",
         "showlegend": false,
         "type": "scatter",
         "x": [
          3
         ],
         "xaxis": "x9",
         "y": [
          2.063092649169181
         ],
         "yaxis": "y9"
        },
        {
         "hovertemplate": "choc=1<br>person=14<br>rank=%{x}<br>rating=%{y}<extra></extra>",
         "legendgroup": "1",
         "marker": {
          "color": "#FF7F0E",
          "symbol": "circle"
         },
         "mode": "markers",
         "name": "1",
         "orientation": "v",
         "showlegend": false,
         "type": "scatter",
         "x": [
          5
         ],
         "xaxis": "x10",
         "y": [
          1.421493753870513
         ],
         "yaxis": "y10"
        },
        {
         "hovertemplate": "choc=1<br>person=15<br>rank=%{x}<br>rating=%{y}<extra></extra>",
         "legendgroup": "1",
         "marker": {
          "color": "#FF7F0E",
          "symbol": "circle"
         },
         "mode": "markers",
         "name": "1",
         "orientation": "v",
         "showlegend": false,
         "type": "scatter",
         "x": [
          1
         ],
         "xaxis": "x",
         "y": [
          1.7497012751072067
         ],
         "yaxis": "y"
        },
        {
         "hovertemplate": "choc=1<br>person=16<br>rank=%{x}<br>rating=%{y}<extra></extra>",
         "legendgroup": "1",
         "marker": {
          "color": "#FF7F0E",
          "symbol": "circle"
         },
         "mode": "markers",
         "name": "1",
         "orientation": "v",
         "showlegend": false,
         "type": "scatter",
         "x": [
          4
         ],
         "xaxis": "x2",
         "y": [
          2.2014151356212386
         ],
         "yaxis": "y2"
        },
        {
         "hovertemplate": "choc=1<br>person=17<br>rank=%{x}<br>rating=%{y}<extra></extra>",
         "legendgroup": "1",
         "marker": {
          "color": "#FF7F0E",
          "symbol": "circle"
         },
         "mode": "markers",
         "name": "1",
         "orientation": "v",
         "showlegend": false,
         "type": "scatter",
         "x": [
          4
         ],
         "xaxis": "x3",
         "y": [
          2.5973299659717024
         ],
         "yaxis": "y3"
        },
        {
         "hovertemplate": "choc=1<br>person=18<br>rank=%{x}<br>rating=%{y}<extra></extra>",
         "legendgroup": "1",
         "marker": {
          "color": "#FF7F0E",
          "symbol": "circle"
         },
         "mode": "markers",
         "name": "1",
         "orientation": "v",
         "showlegend": false,
         "type": "scatter",
         "x": [
          8
         ],
         "xaxis": "x4",
         "y": [
          0.47087984524179527
         ],
         "yaxis": "y4"
        },
        {
         "hovertemplate": "choc=1<br>person=19<br>rank=%{x}<br>rating=%{y}<extra></extra>",
         "legendgroup": "1",
         "marker": {
          "color": "#FF7F0E",
          "symbol": "circle"
         },
         "mode": "markers",
         "name": "1",
         "orientation": "v",
         "showlegend": false,
         "type": "scatter",
         "x": [
          6
         ],
         "xaxis": "x5",
         "y": [
          1.1436220147490725
         ],
         "yaxis": "y5"
        },
        {
         "hovertemplate": "choc=2<br>person=0<br>rank=%{x}<br>rating=%{y}<extra></extra>",
         "legendgroup": "2",
         "marker": {
          "color": "#2CA02C",
          "symbol": "circle"
         },
         "mode": "markers",
         "name": "2",
         "orientation": "v",
         "showlegend": true,
         "type": "scatter",
         "x": [
          0
         ],
         "xaxis": "x16",
         "y": [
          6.015644687351331
         ],
         "yaxis": "y16"
        },
        {
         "hovertemplate": "choc=2<br>person=1<br>rank=%{x}<br>rating=%{y}<extra></extra>",
         "legendgroup": "2",
         "marker": {
          "color": "#2CA02C",
          "symbol": "circle"
         },
         "mode": "markers",
         "name": "2",
         "orientation": "v",
         "showlegend": false,
         "type": "scatter",
         "x": [
          1
         ],
         "xaxis": "x17",
         "y": [
          3.5845383108790854
         ],
         "yaxis": "y17"
        },
        {
         "hovertemplate": "choc=2<br>person=2<br>rank=%{x}<br>rating=%{y}<extra></extra>",
         "legendgroup": "2",
         "marker": {
          "color": "#2CA02C",
          "symbol": "circle"
         },
         "mode": "markers",
         "name": "2",
         "orientation": "v",
         "showlegend": false,
         "type": "scatter",
         "x": [
          18
         ],
         "xaxis": "x18",
         "y": [
          -5.944722905971812
         ],
         "yaxis": "y18"
        },
        {
         "hovertemplate": "choc=2<br>person=3<br>rank=%{x}<br>rating=%{y}<extra></extra>",
         "legendgroup": "2",
         "marker": {
          "color": "#2CA02C",
          "symbol": "circle"
         },
         "mode": "markers",
         "name": "2",
         "orientation": "v",
         "showlegend": false,
         "type": "scatter",
         "x": [
          0
         ],
         "xaxis": "x19",
         "y": [
          4.76995685673681
         ],
         "yaxis": "y19"
        },
        {
         "hovertemplate": "choc=2<br>person=4<br>rank=%{x}<br>rating=%{y}<extra></extra>",
         "legendgroup": "2",
         "marker": {
          "color": "#2CA02C",
          "symbol": "circle"
         },
         "mode": "markers",
         "name": "2",
         "orientation": "v",
         "showlegend": false,
         "type": "scatter",
         "x": [
          2
         ],
         "xaxis": "x20",
         "y": [
          3.8494902769986274
         ],
         "yaxis": "y20"
        },
        {
         "hovertemplate": "choc=2<br>person=5<br>rank=%{x}<br>rating=%{y}<extra></extra>",
         "legendgroup": "2",
         "marker": {
          "color": "#2CA02C",
          "symbol": "circle"
         },
         "mode": "markers",
         "name": "2",
         "orientation": "v",
         "showlegend": false,
         "type": "scatter",
         "x": [
          13
         ],
         "xaxis": "x11",
         "y": [
          -0.2694596759098046
         ],
         "yaxis": "y11"
        },
        {
         "hovertemplate": "choc=2<br>person=6<br>rank=%{x}<br>rating=%{y}<extra></extra>",
         "legendgroup": "2",
         "marker": {
          "color": "#2CA02C",
          "symbol": "circle"
         },
         "mode": "markers",
         "name": "2",
         "orientation": "v",
         "showlegend": false,
         "type": "scatter",
         "x": [
          19
         ],
         "xaxis": "x12",
         "y": [
          -4.268222616497727
         ],
         "yaxis": "y12"
        },
        {
         "hovertemplate": "choc=2<br>person=7<br>rank=%{x}<br>rating=%{y}<extra></extra>",
         "legendgroup": "2",
         "marker": {
          "color": "#2CA02C",
          "symbol": "circle"
         },
         "mode": "markers",
         "name": "2",
         "orientation": "v",
         "showlegend": false,
         "type": "scatter",
         "x": [
          0
         ],
         "xaxis": "x13",
         "y": [
          4.261166438850591
         ],
         "yaxis": "y13"
        },
        {
         "hovertemplate": "choc=2<br>person=8<br>rank=%{x}<br>rating=%{y}<extra></extra>",
         "legendgroup": "2",
         "marker": {
          "color": "#2CA02C",
          "symbol": "circle"
         },
         "mode": "markers",
         "name": "2",
         "orientation": "v",
         "showlegend": false,
         "type": "scatter",
         "x": [
          18
         ],
         "xaxis": "x14",
         "y": [
          -5.381031669088193
         ],
         "yaxis": "y14"
        },
        {
         "hovertemplate": "choc=2<br>person=9<br>rank=%{x}<br>rating=%{y}<extra></extra>",
         "legendgroup": "2",
         "marker": {
          "color": "#2CA02C",
          "symbol": "circle"
         },
         "mode": "markers",
         "name": "2",
         "orientation": "v",
         "showlegend": false,
         "type": "scatter",
         "x": [
          0
         ],
         "xaxis": "x15",
         "y": [
          6.567139541224425
         ],
         "yaxis": "y15"
        },
        {
         "hovertemplate": "choc=2<br>person=10<br>rank=%{x}<br>rating=%{y}<extra></extra>",
         "legendgroup": "2",
         "marker": {
          "color": "#2CA02C",
          "symbol": "circle"
         },
         "mode": "markers",
         "name": "2",
         "orientation": "v",
         "showlegend": false,
         "type": "scatter",
         "x": [
          2
         ],
         "xaxis": "x6",
         "y": [
          1.9673050059711161
         ],
         "yaxis": "y6"
        },
        {
         "hovertemplate": "choc=2<br>person=11<br>rank=%{x}<br>rating=%{y}<extra></extra>",
         "legendgroup": "2",
         "marker": {
          "color": "#2CA02C",
          "symbol": "circle"
         },
         "mode": "markers",
         "name": "2",
         "orientation": "v",
         "showlegend": false,
         "type": "scatter",
         "x": [
          1
         ],
         "xaxis": "x7",
         "y": [
          4.777836171231998
         ],
         "yaxis": "y7"
        },
        {
         "hovertemplate": "choc=2<br>person=12<br>rank=%{x}<br>rating=%{y}<extra></extra>",
         "legendgroup": "2",
         "marker": {
          "color": "#2CA02C",
          "symbol": "circle"
         },
         "mode": "markers",
         "name": "2",
         "orientation": "v",
         "showlegend": false,
         "type": "scatter",
         "x": [
          6
         ],
         "xaxis": "x8",
         "y": [
          0.09605087395334078
         ],
         "yaxis": "y8"
        },
        {
         "hovertemplate": "choc=2<br>person=13<br>rank=%{x}<br>rating=%{y}<extra></extra>",
         "legendgroup": "2",
         "marker": {
          "color": "#2CA02C",
          "symbol": "circle"
         },
         "mode": "markers",
         "name": "2",
         "orientation": "v",
         "showlegend": false,
         "type": "scatter",
         "x": [
          0
         ],
         "xaxis": "x9",
         "y": [
          7.462817289098046
         ],
         "yaxis": "y9"
        },
        {
         "hovertemplate": "choc=2<br>person=14<br>rank=%{x}<br>rating=%{y}<extra></extra>",
         "legendgroup": "2",
         "marker": {
          "color": "#2CA02C",
          "symbol": "circle"
         },
         "mode": "markers",
         "name": "2",
         "orientation": "v",
         "showlegend": false,
         "type": "scatter",
         "x": [
          11
         ],
         "xaxis": "x10",
         "y": [
          -0.921826440310819
         ],
         "yaxis": "y10"
        },
        {
         "hovertemplate": "choc=2<br>person=15<br>rank=%{x}<br>rating=%{y}<extra></extra>",
         "legendgroup": "2",
         "marker": {
          "color": "#2CA02C",
          "symbol": "circle"
         },
         "mode": "markers",
         "name": "2",
         "orientation": "v",
         "showlegend": false,
         "type": "scatter",
         "x": [
          13
         ],
         "xaxis": "x",
         "y": [
          -1.9323653696159364
         ],
         "yaxis": "y"
        },
        {
         "hovertemplate": "choc=2<br>person=16<br>rank=%{x}<br>rating=%{y}<extra></extra>",
         "legendgroup": "2",
         "marker": {
          "color": "#2CA02C",
          "symbol": "circle"
         },
         "mode": "markers",
         "name": "2",
         "orientation": "v",
         "showlegend": false,
         "type": "scatter",
         "x": [
          6
         ],
         "xaxis": "x2",
         "y": [
          1.8120032976480827
         ],
         "yaxis": "y2"
        },
        {
         "hovertemplate": "choc=2<br>person=17<br>rank=%{x}<br>rating=%{y}<extra></extra>",
         "legendgroup": "2",
         "marker": {
          "color": "#2CA02C",
          "symbol": "circle"
         },
         "mode": "markers",
         "name": "2",
         "orientation": "v",
         "showlegend": false,
         "type": "scatter",
         "x": [
          10
         ],
         "xaxis": "x3",
         "y": [
          -1.215571116961794
         ],
         "yaxis": "y3"
        },
        {
         "hovertemplate": "choc=2<br>person=18<br>rank=%{x}<br>rating=%{y}<extra></extra>",
         "legendgroup": "2",
         "marker": {
          "color": "#2CA02C",
          "symbol": "circle"
         },
         "mode": "markers",
         "name": "2",
         "orientation": "v",
         "showlegend": false,
         "type": "scatter",
         "x": [
          19
         ],
         "xaxis": "x4",
         "y": [
          -3.44618304359619
         ],
         "yaxis": "y4"
        },
        {
         "hovertemplate": "choc=2<br>person=19<br>rank=%{x}<br>rating=%{y}<extra></extra>",
         "legendgroup": "2",
         "marker": {
          "color": "#2CA02C",
          "symbol": "circle"
         },
         "mode": "markers",
         "name": "2",
         "orientation": "v",
         "showlegend": false,
         "type": "scatter",
         "x": [
          18
         ],
         "xaxis": "x5",
         "y": [
          -3.6871290296885686
         ],
         "yaxis": "y5"
        },
        {
         "hovertemplate": "choc=3<br>person=0<br>rank=%{x}<br>rating=%{y}<extra></extra>",
         "legendgroup": "3",
         "marker": {
          "color": "#D62728",
          "symbol": "circle"
         },
         "mode": "markers",
         "name": "3",
         "orientation": "v",
         "showlegend": true,
         "type": "scatter",
         "x": [
          15
         ],
         "xaxis": "x16",
         "y": [
          -1.2995137866514863
         ],
         "yaxis": "y16"
        },
        {
         "hovertemplate": "choc=3<br>person=1<br>rank=%{x}<br>rating=%{y}<extra></extra>",
         "legendgroup": "3",
         "marker": {
          "color": "#D62728",
          "symbol": "circle"
         },
         "mode": "markers",
         "name": "3",
         "orientation": "v",
         "showlegend": false,
         "type": "scatter",
         "x": [
          3
         ],
         "xaxis": "x17",
         "y": [
          1.1763607106255853
         ],
         "yaxis": "y17"
        },
        {
         "hovertemplate": "choc=3<br>person=2<br>rank=%{x}<br>rating=%{y}<extra></extra>",
         "legendgroup": "3",
         "marker": {
          "color": "#D62728",
          "symbol": "circle"
         },
         "mode": "markers",
         "name": "3",
         "orientation": "v",
         "showlegend": false,
         "type": "scatter",
         "x": [
          14
         ],
         "xaxis": "x18",
         "y": [
          -2.1270139218844966
         ],
         "yaxis": "y18"
        },
        {
         "hovertemplate": "choc=3<br>person=3<br>rank=%{x}<br>rating=%{y}<extra></extra>",
         "legendgroup": "3",
         "marker": {
          "color": "#D62728",
          "symbol": "circle"
         },
         "mode": "markers",
         "name": "3",
         "orientation": "v",
         "showlegend": false,
         "type": "scatter",
         "x": [
          13
         ],
         "xaxis": "x19",
         "y": [
          -1.61654310759699
         ],
         "yaxis": "y19"
        },
        {
         "hovertemplate": "choc=3<br>person=4<br>rank=%{x}<br>rating=%{y}<extra></extra>",
         "legendgroup": "3",
         "marker": {
          "color": "#D62728",
          "symbol": "circle"
         },
         "mode": "markers",
         "name": "3",
         "orientation": "v",
         "showlegend": false,
         "type": "scatter",
         "x": [
          18
         ],
         "xaxis": "x20",
         "y": [
          -4.751358380598588
         ],
         "yaxis": "y20"
        },
        {
         "hovertemplate": "choc=3<br>person=5<br>rank=%{x}<br>rating=%{y}<extra></extra>",
         "legendgroup": "3",
         "marker": {
          "color": "#D62728",
          "symbol": "circle"
         },
         "mode": "markers",
         "name": "3",
         "orientation": "v",
         "showlegend": false,
         "type": "scatter",
         "x": [
          18
         ],
         "xaxis": "x11",
         "y": [
          -2.189572240200973
         ],
         "yaxis": "y11"
        },
        {
         "hovertemplate": "choc=3<br>person=6<br>rank=%{x}<br>rating=%{y}<extra></extra>",
         "legendgroup": "3",
         "marker": {
          "color": "#D62728",
          "symbol": "circle"
         },
         "mode": "markers",
         "name": "3",
         "orientation": "v",
         "showlegend": false,
         "type": "scatter",
         "x": [
          11
         ],
         "xaxis": "x12",
         "y": [
          -1.5682604420833783
         ],
         "yaxis": "y12"
        },
        {
         "hovertemplate": "choc=3<br>person=7<br>rank=%{x}<br>rating=%{y}<extra></extra>",
         "legendgroup": "3",
         "marker": {
          "color": "#D62728",
          "symbol": "circle"
         },
         "mode": "markers",
         "name": "3",
         "orientation": "v",
         "showlegend": false,
         "type": "scatter",
         "x": [
          18
         ],
         "xaxis": "x13",
         "y": [
          -4.310074610220564
         ],
         "yaxis": "y13"
        },
        {
         "hovertemplate": "choc=3<br>person=8<br>rank=%{x}<br>rating=%{y}<extra></extra>",
         "legendgroup": "3",
         "marker": {
          "color": "#D62728",
          "symbol": "circle"
         },
         "mode": "markers",
         "name": "3",
         "orientation": "v",
         "showlegend": false,
         "type": "scatter",
         "x": [
          13
         ],
         "xaxis": "x14",
         "y": [
          -1.9005996052291554
         ],
         "yaxis": "y14"
        },
        {
         "hovertemplate": "choc=3<br>person=9<br>rank=%{x}<br>rating=%{y}<extra></extra>",
         "legendgroup": "3",
         "marker": {
          "color": "#D62728",
          "symbol": "circle"
         },
         "mode": "markers",
         "name": "3",
         "orientation": "v",
         "showlegend": false,
         "type": "scatter",
         "x": [
          6
         ],
         "xaxis": "x15",
         "y": [
          0.7653463323340174
         ],
         "yaxis": "y15"
        },
        {
         "hovertemplate": "choc=3<br>person=10<br>rank=%{x}<br>rating=%{y}<extra></extra>",
         "legendgroup": "3",
         "marker": {
          "color": "#D62728",
          "symbol": "circle"
         },
         "mode": "markers",
         "name": "3",
         "orientation": "v",
         "showlegend": false,
         "type": "scatter",
         "x": [
          10
         ],
         "xaxis": "x6",
         "y": [
          0.6359296921308567
         ],
         "yaxis": "y6"
        },
        {
         "hovertemplate": "choc=3<br>person=11<br>rank=%{x}<br>rating=%{y}<extra></extra>",
         "legendgroup": "3",
         "marker": {
          "color": "#D62728",
          "symbol": "circle"
         },
         "mode": "markers",
         "name": "3",
         "orientation": "v",
         "showlegend": false,
         "type": "scatter",
         "x": [
          14
         ],
         "xaxis": "x7",
         "y": [
          -0.36894498819582855
         ],
         "yaxis": "y7"
        },
        {
         "hovertemplate": "choc=3<br>person=12<br>rank=%{x}<br>rating=%{y}<extra></extra>",
         "legendgroup": "3",
         "marker": {
          "color": "#D62728",
          "symbol": "circle"
         },
         "mode": "markers",
         "name": "3",
         "orientation": "v",
         "showlegend": false,
         "type": "scatter",
         "x": [
          15
         ],
         "xaxis": "x8",
         "y": [
          -3.159278719483949
         ],
         "yaxis": "y8"
        },
        {
         "hovertemplate": "choc=3<br>person=13<br>rank=%{x}<br>rating=%{y}<extra></extra>",
         "legendgroup": "3",
         "marker": {
          "color": "#D62728",
          "symbol": "circle"
         },
         "mode": "markers",
         "name": "3",
         "orientation": "v",
         "showlegend": false,
         "type": "scatter",
         "x": [
          19
         ],
         "xaxis": "x9",
         "y": [
          -4.613011335155971
         ],
         "yaxis": "y9"
        },
        {
         "hovertemplate": "choc=3<br>person=14<br>rank=%{x}<br>rating=%{y}<extra></extra>",
         "legendgroup": "3",
         "marker": {
          "color": "#D62728",
          "symbol": "circle"
         },
         "mode": "markers",
         "name": "3",
         "orientation": "v",
         "showlegend": false,
         "type": "scatter",
         "x": [
          3
         ],
         "xaxis": "x10",
         "y": [
          2.006349818259539
         ],
         "yaxis": "y10"
        },
        {
         "hovertemplate": "choc=3<br>person=15<br>rank=%{x}<br>rating=%{y}<extra></extra>",
         "legendgroup": "3",
         "marker": {
          "color": "#D62728",
          "symbol": "circle"
         },
         "mode": "markers",
         "name": "3",
         "orientation": "v",
         "showlegend": false,
         "type": "scatter",
         "x": [
          17
         ],
         "xaxis": "x",
         "y": [
          -3.1819084470802523
         ],
         "yaxis": "y"
        },
        {
         "hovertemplate": "choc=3<br>person=16<br>rank=%{x}<br>rating=%{y}<extra></extra>",
         "legendgroup": "3",
         "marker": {
          "color": "#D62728",
          "symbol": "circle"
         },
         "mode": "markers",
         "name": "3",
         "orientation": "v",
         "showlegend": false,
         "type": "scatter",
         "x": [
          12
         ],
         "xaxis": "x2",
         "y": [
          -1.7069829828610803
         ],
         "yaxis": "y2"
        },
        {
         "hovertemplate": "choc=3<br>person=17<br>rank=%{x}<br>rating=%{y}<extra></extra>",
         "legendgroup": "3",
         "marker": {
          "color": "#D62728",
          "symbol": "circle"
         },
         "mode": "markers",
         "name": "3",
         "orientation": "v",
         "showlegend": false,
         "type": "scatter",
         "x": [
          12
         ],
         "xaxis": "x3",
         "y": [
          -1.607934782889574
         ],
         "yaxis": "y3"
        },
        {
         "hovertemplate": "choc=3<br>person=18<br>rank=%{x}<br>rating=%{y}<extra></extra>",
         "legendgroup": "3",
         "marker": {
          "color": "#D62728",
          "symbol": "circle"
         },
         "mode": "markers",
         "name": "3",
         "orientation": "v",
         "showlegend": false,
         "type": "scatter",
         "x": [
          18
         ],
         "xaxis": "x4",
         "y": [
          -3.438616093745701
         ],
         "yaxis": "y4"
        },
        {
         "hovertemplate": "choc=3<br>person=19<br>rank=%{x}<br>rating=%{y}<extra></extra>",
         "legendgroup": "3",
         "marker": {
          "color": "#D62728",
          "symbol": "circle"
         },
         "mode": "markers",
         "name": "3",
         "orientation": "v",
         "showlegend": false,
         "type": "scatter",
         "x": [
          5
         ],
         "xaxis": "x5",
         "y": [
          1.8833755853326304
         ],
         "yaxis": "y5"
        },
        {
         "hovertemplate": "choc=4<br>person=0<br>rank=%{x}<br>rating=%{y}<extra></extra>",
         "legendgroup": "4",
         "marker": {
          "color": "#9467BD",
          "symbol": "circle"
         },
         "mode": "markers",
         "name": "4",
         "orientation": "v",
         "showlegend": true,
         "type": "scatter",
         "x": [
          11
         ],
         "xaxis": "x16",
         "y": [
          0.3292452942972377
         ],
         "yaxis": "y16"
        },
        {
         "hovertemplate": "choc=4<br>person=1<br>rank=%{x}<br>rating=%{y}<extra></extra>",
         "legendgroup": "4",
         "marker": {
          "color": "#9467BD",
          "symbol": "circle"
         },
         "mode": "markers",
         "name": "4",
         "orientation": "v",
         "showlegend": false,
         "type": "scatter",
         "x": [
          14
         ],
         "xaxis": "x17",
         "y": [
          -1.572890780905226
         ],
         "yaxis": "y17"
        },
        {
         "hovertemplate": "choc=4<br>person=2<br>rank=%{x}<br>rating=%{y}<extra></extra>",
         "legendgroup": "4",
         "marker": {
          "color": "#9467BD",
          "symbol": "circle"
         },
         "mode": "markers",
         "name": "4",
         "orientation": "v",
         "showlegend": false,
         "type": "scatter",
         "x": [
          9
         ],
         "xaxis": "x18",
         "y": [
          -0.4638518213043191
         ],
         "yaxis": "y18"
        },
        {
         "hovertemplate": "choc=4<br>person=3<br>rank=%{x}<br>rating=%{y}<extra></extra>",
         "legendgroup": "4",
         "marker": {
          "color": "#9467BD",
          "symbol": "circle"
         },
         "mode": "markers",
         "name": "4",
         "orientation": "v",
         "showlegend": false,
         "type": "scatter",
         "x": [
          15
         ],
         "xaxis": "x19",
         "y": [
          -2.8210463094285023
         ],
         "yaxis": "y19"
        },
        {
         "hovertemplate": "choc=4<br>person=4<br>rank=%{x}<br>rating=%{y}<extra></extra>",
         "legendgroup": "4",
         "marker": {
          "color": "#9467BD",
          "symbol": "circle"
         },
         "mode": "markers",
         "name": "4",
         "orientation": "v",
         "showlegend": false,
         "type": "scatter",
         "x": [
          13
         ],
         "xaxis": "x20",
         "y": [
          -0.47628957548050177
         ],
         "yaxis": "y20"
        },
        {
         "hovertemplate": "choc=4<br>person=5<br>rank=%{x}<br>rating=%{y}<extra></extra>",
         "legendgroup": "4",
         "marker": {
          "color": "#9467BD",
          "symbol": "circle"
         },
         "mode": "markers",
         "name": "4",
         "orientation": "v",
         "showlegend": false,
         "type": "scatter",
         "x": [
          7
         ],
         "xaxis": "x11",
         "y": [
          1.0934738217243762
         ],
         "yaxis": "y11"
        },
        {
         "hovertemplate": "choc=4<br>person=6<br>rank=%{x}<br>rating=%{y}<extra></extra>",
         "legendgroup": "4",
         "marker": {
          "color": "#9467BD",
          "symbol": "circle"
         },
         "mode": "markers",
         "name": "4",
         "orientation": "v",
         "showlegend": false,
         "type": "scatter",
         "x": [
          18
         ],
         "xaxis": "x12",
         "y": [
          -3.5179267098693128
         ],
         "yaxis": "y12"
        },
        {
         "hovertemplate": "choc=4<br>person=7<br>rank=%{x}<br>rating=%{y}<extra></extra>",
         "legendgroup": "4",
         "marker": {
          "color": "#9467BD",
          "symbol": "circle"
         },
         "mode": "markers",
         "name": "4",
         "orientation": "v",
         "showlegend": false,
         "type": "scatter",
         "x": [
          11
         ],
         "xaxis": "x13",
         "y": [
          -0.9742198351562572
         ],
         "yaxis": "y13"
        },
        {
         "hovertemplate": "choc=4<br>person=8<br>rank=%{x}<br>rating=%{y}<extra></extra>",
         "legendgroup": "4",
         "marker": {
          "color": "#9467BD",
          "symbol": "circle"
         },
         "mode": "markers",
         "name": "4",
         "orientation": "v",
         "showlegend": false,
         "type": "scatter",
         "x": [
          8
         ],
         "xaxis": "x14",
         "y": [
          -0.2457785561635577
         ],
         "yaxis": "y14"
        },
        {
         "hovertemplate": "choc=4<br>person=9<br>rank=%{x}<br>rating=%{y}<extra></extra>",
         "legendgroup": "4",
         "marker": {
          "color": "#9467BD",
          "symbol": "circle"
         },
         "mode": "markers",
         "name": "4",
         "orientation": "v",
         "showlegend": false,
         "type": "scatter",
         "x": [
          8
         ],
         "xaxis": "x15",
         "y": [
          -0.28640406789422757
         ],
         "yaxis": "y15"
        },
        {
         "hovertemplate": "choc=4<br>person=10<br>rank=%{x}<br>rating=%{y}<extra></extra>",
         "legendgroup": "4",
         "marker": {
          "color": "#9467BD",
          "symbol": "circle"
         },
         "mode": "markers",
         "name": "4",
         "orientation": "v",
         "showlegend": false,
         "type": "scatter",
         "x": [
          15
         ],
         "xaxis": "x6",
         "y": [
          -1.7160343629327381
         ],
         "yaxis": "y6"
        },
        {
         "hovertemplate": "choc=4<br>person=11<br>rank=%{x}<br>rating=%{y}<extra></extra>",
         "legendgroup": "4",
         "marker": {
          "color": "#9467BD",
          "symbol": "circle"
         },
         "mode": "markers",
         "name": "4",
         "orientation": "v",
         "showlegend": false,
         "type": "scatter",
         "x": [
          18
         ],
         "xaxis": "x7",
         "y": [
          -2.8547538726440527
         ],
         "yaxis": "y7"
        },
        {
         "hovertemplate": "choc=4<br>person=12<br>rank=%{x}<br>rating=%{y}<extra></extra>",
         "legendgroup": "4",
         "marker": {
          "color": "#9467BD",
          "symbol": "circle"
         },
         "mode": "markers",
         "name": "4",
         "orientation": "v",
         "showlegend": false,
         "type": "scatter",
         "x": [
          18
         ],
         "xaxis": "x8",
         "y": [
          -4.569463198560508
         ],
         "yaxis": "y8"
        },
        {
         "hovertemplate": "choc=4<br>person=13<br>rank=%{x}<br>rating=%{y}<extra></extra>",
         "legendgroup": "4",
         "marker": {
          "color": "#9467BD",
          "symbol": "circle"
         },
         "mode": "markers",
         "name": "4",
         "orientation": "v",
         "showlegend": false,
         "type": "scatter",
         "x": [
          15
         ],
         "xaxis": "x9",
         "y": [
          -1.1204731533169348
         ],
         "yaxis": "y9"
        },
        {
         "hovertemplate": "choc=4<br>person=14<br>rank=%{x}<br>rating=%{y}<extra></extra>",
         "legendgroup": "4",
         "marker": {
          "color": "#9467BD",
          "symbol": "circle"
         },
         "mode": "markers",
         "name": "4",
         "orientation": "v",
         "showlegend": false,
         "type": "scatter",
         "x": [
          17
         ],
         "xaxis": "x10",
         "y": [
          -2.8929576591161754
         ],
         "yaxis": "y10"
        },
        {
         "hovertemplate": "choc=4<br>person=15<br>rank=%{x}<br>rating=%{y}<extra></extra>",
         "legendgroup": "4",
         "marker": {
          "color": "#9467BD",
          "symbol": "circle"
         },
         "mode": "markers",
         "name": "4",
         "orientation": "v",
         "showlegend": false,
         "type": "scatter",
         "x": [
          4
         ],
         "xaxis": "x",
         "y": [
          0.6044143221993041
         ],
         "yaxis": "y"
        },
        {
         "hovertemplate": "choc=4<br>person=16<br>rank=%{x}<br>rating=%{y}<extra></extra>",
         "legendgroup": "4",
         "marker": {
          "color": "#9467BD",
          "symbol": "circle"
         },
         "mode": "markers",
         "name": "4",
         "orientation": "v",
         "showlegend": false,
         "type": "scatter",
         "x": [
          13
         ],
         "xaxis": "x2",
         "y": [
          -2.056825697936177
         ],
         "yaxis": "y2"
        },
        {
         "hovertemplate": "choc=4<br>person=17<br>rank=%{x}<br>rating=%{y}<extra></extra>",
         "legendgroup": "4",
         "marker": {
          "color": "#9467BD",
          "symbol": "circle"
         },
         "mode": "markers",
         "name": "4",
         "orientation": "v",
         "showlegend": false,
         "type": "scatter",
         "x": [
          11
         ],
         "xaxis": "x3",
         "y": [
          -1.3504075449493902
         ],
         "yaxis": "y3"
        },
        {
         "hovertemplate": "choc=4<br>person=18<br>rank=%{x}<br>rating=%{y}<extra></extra>",
         "legendgroup": "4",
         "marker": {
          "color": "#9467BD",
          "symbol": "circle"
         },
         "mode": "markers",
         "name": "4",
         "orientation": "v",
         "showlegend": false,
         "type": "scatter",
         "x": [
          4
         ],
         "xaxis": "x4",
         "y": [
          1.0134800088971285
         ],
         "yaxis": "y4"
        },
        {
         "hovertemplate": "choc=4<br>person=19<br>rank=%{x}<br>rating=%{y}<extra></extra>",
         "legendgroup": "4",
         "marker": {
          "color": "#9467BD",
          "symbol": "circle"
         },
         "mode": "markers",
         "name": "4",
         "orientation": "v",
         "showlegend": false,
         "type": "scatter",
         "x": [
          16
         ],
         "xaxis": "x5",
         "y": [
          -2.6223103698968018
         ],
         "yaxis": "y5"
        },
        {
         "hovertemplate": "choc=5<br>person=0<br>rank=%{x}<br>rating=%{y}<extra></extra>",
         "legendgroup": "5",
         "marker": {
          "color": "#8C564B",
          "symbol": "circle"
         },
         "mode": "markers",
         "name": "5",
         "orientation": "v",
         "showlegend": true,
         "type": "scatter",
         "x": [
          6
         ],
         "xaxis": "x16",
         "y": [
          1.446072919954072
         ],
         "yaxis": "y16"
        },
        {
         "hovertemplate": "choc=5<br>person=1<br>rank=%{x}<br>rating=%{y}<extra></extra>",
         "legendgroup": "5",
         "marker": {
          "color": "#8C564B",
          "symbol": "circle"
         },
         "mode": "markers",
         "name": "5",
         "orientation": "v",
         "showlegend": false,
         "type": "scatter",
         "x": [
          13
         ],
         "xaxis": "x17",
         "y": [
          -0.6812724420505504
         ],
         "yaxis": "y17"
        },
        {
         "hovertemplate": "choc=5<br>person=2<br>rank=%{x}<br>rating=%{y}<extra></extra>",
         "legendgroup": "5",
         "marker": {
          "color": "#8C564B",
          "symbol": "circle"
         },
         "mode": "markers",
         "name": "5",
         "orientation": "v",
         "showlegend": false,
         "type": "scatter",
         "x": [
          2
         ],
         "xaxis": "x18",
         "y": [
          1.9582632135637934
         ],
         "yaxis": "y18"
        },
        {
         "hovertemplate": "choc=5<br>person=3<br>rank=%{x}<br>rating=%{y}<extra></extra>",
         "legendgroup": "5",
         "marker": {
          "color": "#8C564B",
          "symbol": "circle"
         },
         "mode": "markers",
         "name": "5",
         "orientation": "v",
         "showlegend": false,
         "type": "scatter",
         "x": [
          19
         ],
         "xaxis": "x19",
         "y": [
          -4.555149816079046
         ],
         "yaxis": "y19"
        },
        {
         "hovertemplate": "choc=5<br>person=4<br>rank=%{x}<br>rating=%{y}<extra></extra>",
         "legendgroup": "5",
         "marker": {
          "color": "#8C564B",
          "symbol": "circle"
         },
         "mode": "markers",
         "name": "5",
         "orientation": "v",
         "showlegend": false,
         "type": "scatter",
         "x": [
          9
         ],
         "xaxis": "x20",
         "y": [
          0.43276193848627953
         ],
         "yaxis": "y20"
        },
        {
         "hovertemplate": "choc=5<br>person=5<br>rank=%{x}<br>rating=%{y}<extra></extra>",
         "legendgroup": "5",
         "marker": {
          "color": "#8C564B",
          "symbol": "circle"
         },
         "mode": "markers",
         "name": "5",
         "orientation": "v",
         "showlegend": false,
         "type": "scatter",
         "x": [
          0
         ],
         "xaxis": "x11",
         "y": [
          3.698579481044205
         ],
         "yaxis": "y11"
        },
        {
         "hovertemplate": "choc=5<br>person=6<br>rank=%{x}<br>rating=%{y}<extra></extra>",
         "legendgroup": "5",
         "marker": {
          "color": "#8C564B",
          "symbol": "circle"
         },
         "mode": "markers",
         "name": "5",
         "orientation": "v",
         "showlegend": false,
         "type": "scatter",
         "x": [
          14
         ],
         "xaxis": "x12",
         "y": [
          -2.107394106362951
         ],
         "yaxis": "y12"
        },
        {
         "hovertemplate": "choc=5<br>person=7<br>rank=%{x}<br>rating=%{y}<extra></extra>",
         "legendgroup": "5",
         "marker": {
          "color": "#8C564B",
          "symbol": "circle"
         },
         "mode": "markers",
         "name": "5",
         "orientation": "v",
         "showlegend": false,
         "type": "scatter",
         "x": [
          1
         ],
         "xaxis": "x13",
         "y": [
          1.8486430860103997
         ],
         "yaxis": "y13"
        },
        {
         "hovertemplate": "choc=5<br>person=8<br>rank=%{x}<br>rating=%{y}<extra></extra>",
         "legendgroup": "5",
         "marker": {
          "color": "#8C564B",
          "symbol": "circle"
         },
         "mode": "markers",
         "name": "5",
         "orientation": "v",
         "showlegend": false,
         "type": "scatter",
         "x": [
          14
         ],
         "xaxis": "x14",
         "y": [
          -3.335295186866473
         ],
         "yaxis": "y14"
        },
        {
         "hovertemplate": "choc=5<br>person=9<br>rank=%{x}<br>rating=%{y}<extra></extra>",
         "legendgroup": "5",
         "marker": {
          "color": "#8C564B",
          "symbol": "circle"
         },
         "mode": "markers",
         "name": "5",
         "orientation": "v",
         "showlegend": false,
         "type": "scatter",
         "x": [
          14
         ],
         "xaxis": "x15",
         "y": [
          -2.1426569210622533
         ],
         "yaxis": "y15"
        },
        {
         "hovertemplate": "choc=5<br>person=10<br>rank=%{x}<br>rating=%{y}<extra></extra>",
         "legendgroup": "5",
         "marker": {
          "color": "#8C564B",
          "symbol": "circle"
         },
         "mode": "markers",
         "name": "5",
         "orientation": "v",
         "showlegend": false,
         "type": "scatter",
         "x": [
          19
         ],
         "xaxis": "x6",
         "y": [
          -4.503105261445199
         ],
         "yaxis": "y6"
        },
        {
         "hovertemplate": "choc=5<br>person=11<br>rank=%{x}<br>rating=%{y}<extra></extra>",
         "legendgroup": "5",
         "marker": {
          "color": "#8C564B",
          "symbol": "circle"
         },
         "mode": "markers",
         "name": "5",
         "orientation": "v",
         "showlegend": false,
         "type": "scatter",
         "x": [
          8
         ],
         "xaxis": "x7",
         "y": [
          0.8138107591273183
         ],
         "yaxis": "y7"
        },
        {
         "hovertemplate": "choc=5<br>person=12<br>rank=%{x}<br>rating=%{y}<extra></extra>",
         "legendgroup": "5",
         "marker": {
          "color": "#8C564B",
          "symbol": "circle"
         },
         "mode": "markers",
         "name": "5",
         "orientation": "v",
         "showlegend": false,
         "type": "scatter",
         "x": [
          7
         ],
         "xaxis": "x8",
         "y": [
          -0.0009142735512730482
         ],
         "yaxis": "y8"
        },
        {
         "hovertemplate": "choc=5<br>person=13<br>rank=%{x}<br>rating=%{y}<extra></extra>",
         "legendgroup": "5",
         "marker": {
          "color": "#8C564B",
          "symbol": "circle"
         },
         "mode": "markers",
         "name": "5",
         "orientation": "v",
         "showlegend": false,
         "type": "scatter",
         "x": [
          18
         ],
         "xaxis": "x9",
         "y": [
          -4.361584399842084
         ],
         "yaxis": "y9"
        },
        {
         "hovertemplate": "choc=5<br>person=14<br>rank=%{x}<br>rating=%{y}<extra></extra>",
         "legendgroup": "5",
         "marker": {
          "color": "#8C564B",
          "symbol": "circle"
         },
         "mode": "markers",
         "name": "5",
         "orientation": "v",
         "showlegend": false,
         "type": "scatter",
         "x": [
          14
         ],
         "xaxis": "x10",
         "y": [
          -1.9135249523044273
         ],
         "yaxis": "y10"
        },
        {
         "hovertemplate": "choc=5<br>person=15<br>rank=%{x}<br>rating=%{y}<extra></extra>",
         "legendgroup": "5",
         "marker": {
          "color": "#8C564B",
          "symbol": "circle"
         },
         "mode": "markers",
         "name": "5",
         "orientation": "v",
         "showlegend": false,
         "type": "scatter",
         "x": [
          9
         ],
         "xaxis": "x",
         "y": [
          -1.1436417267963077
         ],
         "yaxis": "y"
        },
        {
         "hovertemplate": "choc=5<br>person=16<br>rank=%{x}<br>rating=%{y}<extra></extra>",
         "legendgroup": "5",
         "marker": {
          "color": "#8C564B",
          "symbol": "circle"
         },
         "mode": "markers",
         "name": "5",
         "orientation": "v",
         "showlegend": false,
         "type": "scatter",
         "x": [
          19
         ],
         "xaxis": "x2",
         "y": [
          -5.453383236413211
         ],
         "yaxis": "y2"
        },
        {
         "hovertemplate": "choc=5<br>person=17<br>rank=%{x}<br>rating=%{y}<extra></extra>",
         "legendgroup": "5",
         "marker": {
          "color": "#8C564B",
          "symbol": "circle"
         },
         "mode": "markers",
         "name": "5",
         "orientation": "v",
         "showlegend": false,
         "type": "scatter",
         "x": [
          18
         ],
         "xaxis": "x3",
         "y": [
          -4.782487167466132
         ],
         "yaxis": "y3"
        },
        {
         "hovertemplate": "choc=5<br>person=18<br>rank=%{x}<br>rating=%{y}<extra></extra>",
         "legendgroup": "5",
         "marker": {
          "color": "#8C564B",
          "symbol": "circle"
         },
         "mode": "markers",
         "name": "5",
         "orientation": "v",
         "showlegend": false,
         "type": "scatter",
         "x": [
          3
         ],
         "xaxis": "x4",
         "y": [
          1.1616867176716967
         ],
         "yaxis": "y4"
        },
        {
         "hovertemplate": "choc=5<br>person=19<br>rank=%{x}<br>rating=%{y}<extra></extra>",
         "legendgroup": "5",
         "marker": {
          "color": "#8C564B",
          "symbol": "circle"
         },
         "mode": "markers",
         "name": "5",
         "orientation": "v",
         "showlegend": false,
         "type": "scatter",
         "x": [
          17
         ],
         "xaxis": "x5",
         "y": [
          -3.5851512901578073
         ],
         "yaxis": "y5"
        },
        {
         "hovertemplate": "choc=6<br>person=0<br>rank=%{x}<br>rating=%{y}<extra></extra>",
         "legendgroup": "6",
         "marker": {
          "color": "#E377C2",
          "symbol": "circle"
         },
         "mode": "markers",
         "name": "6",
         "orientation": "v",
         "showlegend": true,
         "type": "scatter",
         "x": [
          17
         ],
         "xaxis": "x16",
         "y": [
          -2.558985276262295
         ],
         "yaxis": "y16"
        },
        {
         "hovertemplate": "choc=6<br>person=1<br>rank=%{x}<br>rating=%{y}<extra></extra>",
         "legendgroup": "6",
         "marker": {
          "color": "#E377C2",
          "symbol": "circle"
         },
         "mode": "markers",
         "name": "6",
         "orientation": "v",
         "showlegend": false,
         "type": "scatter",
         "x": [
          7
         ],
         "xaxis": "x17",
         "y": [
          -0.07262416141777117
         ],
         "yaxis": "y17"
        },
        {
         "hovertemplate": "choc=6<br>person=2<br>rank=%{x}<br>rating=%{y}<extra></extra>",
         "legendgroup": "6",
         "marker": {
          "color": "#E377C2",
          "symbol": "circle"
         },
         "mode": "markers",
         "name": "6",
         "orientation": "v",
         "showlegend": false,
         "type": "scatter",
         "x": [
          17
         ],
         "xaxis": "x18",
         "y": [
          -2.9583499120088907
         ],
         "yaxis": "y18"
        },
        {
         "hovertemplate": "choc=6<br>person=3<br>rank=%{x}<br>rating=%{y}<extra></extra>",
         "legendgroup": "6",
         "marker": {
          "color": "#E377C2",
          "symbol": "circle"
         },
         "mode": "markers",
         "name": "6",
         "orientation": "v",
         "showlegend": false,
         "type": "scatter",
         "x": [
          16
         ],
         "xaxis": "x19",
         "y": [
          -3.3859270742932326
         ],
         "yaxis": "y19"
        },
        {
         "hovertemplate": "choc=6<br>person=4<br>rank=%{x}<br>rating=%{y}<extra></extra>",
         "legendgroup": "6",
         "marker": {
          "color": "#E377C2",
          "symbol": "circle"
         },
         "mode": "markers",
         "name": "6",
         "orientation": "v",
         "showlegend": false,
         "type": "scatter",
         "x": [
          15
         ],
         "xaxis": "x20",
         "y": [
          -0.5417676443329417
         ],
         "yaxis": "y20"
        },
        {
         "hovertemplate": "choc=6<br>person=5<br>rank=%{x}<br>rating=%{y}<extra></extra>",
         "legendgroup": "6",
         "marker": {
          "color": "#E377C2",
          "symbol": "circle"
         },
         "mode": "markers",
         "name": "6",
         "orientation": "v",
         "showlegend": false,
         "type": "scatter",
         "x": [
          2
         ],
         "xaxis": "x11",
         "y": [
          2.539585298186715
         ],
         "yaxis": "y11"
        },
        {
         "hovertemplate": "choc=6<br>person=6<br>rank=%{x}<br>rating=%{y}<extra></extra>",
         "legendgroup": "6",
         "marker": {
          "color": "#E377C2",
          "symbol": "circle"
         },
         "mode": "markers",
         "name": "6",
         "orientation": "v",
         "showlegend": false,
         "type": "scatter",
         "x": [
          12
         ],
         "xaxis": "x12",
         "y": [
          -1.588125638488205
         ],
         "yaxis": "y12"
        },
        {
         "hovertemplate": "choc=6<br>person=7<br>rank=%{x}<br>rating=%{y}<extra></extra>",
         "legendgroup": "6",
         "marker": {
          "color": "#E377C2",
          "symbol": "circle"
         },
         "mode": "markers",
         "name": "6",
         "orientation": "v",
         "showlegend": false,
         "type": "scatter",
         "x": [
          8
         ],
         "xaxis": "x13",
         "y": [
          0.2975774722008546
         ],
         "yaxis": "y13"
        },
        {
         "hovertemplate": "choc=6<br>person=8<br>rank=%{x}<br>rating=%{y}<extra></extra>",
         "legendgroup": "6",
         "marker": {
          "color": "#E377C2",
          "symbol": "circle"
         },
         "mode": "markers",
         "name": "6",
         "orientation": "v",
         "showlegend": false,
         "type": "scatter",
         "x": [
          9
         ],
         "xaxis": "x14",
         "y": [
          -0.4469898109748165
         ],
         "yaxis": "y14"
        },
        {
         "hovertemplate": "choc=6<br>person=9<br>rank=%{x}<br>rating=%{y}<extra></extra>",
         "legendgroup": "6",
         "marker": {
          "color": "#E377C2",
          "symbol": "circle"
         },
         "mode": "markers",
         "name": "6",
         "orientation": "v",
         "showlegend": false,
         "type": "scatter",
         "x": [
          12
         ],
         "xaxis": "x15",
         "y": [
          -1.8104342914622822
         ],
         "yaxis": "y15"
        },
        {
         "hovertemplate": "choc=6<br>person=10<br>rank=%{x}<br>rating=%{y}<extra></extra>",
         "legendgroup": "6",
         "marker": {
          "color": "#E377C2",
          "symbol": "circle"
         },
         "mode": "markers",
         "name": "6",
         "orientation": "v",
         "showlegend": false,
         "type": "scatter",
         "x": [
          16
         ],
         "xaxis": "x6",
         "y": [
          -2.165718139958243
         ],
         "yaxis": "y6"
        },
        {
         "hovertemplate": "choc=6<br>person=11<br>rank=%{x}<br>rating=%{y}<extra></extra>",
         "legendgroup": "6",
         "marker": {
          "color": "#E377C2",
          "symbol": "circle"
         },
         "mode": "markers",
         "name": "6",
         "orientation": "v",
         "showlegend": false,
         "type": "scatter",
         "x": [
          15
         ],
         "xaxis": "x7",
         "y": [
          -1.0231270172195708
         ],
         "yaxis": "y7"
        },
        {
         "hovertemplate": "choc=6<br>person=12<br>rank=%{x}<br>rating=%{y}<extra></extra>",
         "legendgroup": "6",
         "marker": {
          "color": "#E377C2",
          "symbol": "circle"
         },
         "mode": "markers",
         "name": "6",
         "orientation": "v",
         "showlegend": false,
         "type": "scatter",
         "x": [
          12
         ],
         "xaxis": "x8",
         "y": [
          -2.356324803297796
         ],
         "yaxis": "y8"
        },
        {
         "hovertemplate": "choc=6<br>person=13<br>rank=%{x}<br>rating=%{y}<extra></extra>",
         "legendgroup": "6",
         "marker": {
          "color": "#E377C2",
          "symbol": "circle"
         },
         "mode": "markers",
         "name": "6",
         "orientation": "v",
         "showlegend": false,
         "type": "scatter",
         "x": [
          17
         ],
         "xaxis": "x9",
         "y": [
          -3.0180758540013395
         ],
         "yaxis": "y9"
        },
        {
         "hovertemplate": "choc=6<br>person=14<br>rank=%{x}<br>rating=%{y}<extra></extra>",
         "legendgroup": "6",
         "marker": {
          "color": "#E377C2",
          "symbol": "circle"
         },
         "mode": "markers",
         "name": "6",
         "orientation": "v",
         "showlegend": false,
         "type": "scatter",
         "x": [
          13
         ],
         "xaxis": "x10",
         "y": [
          -1.8876291469822002
         ],
         "yaxis": "y10"
        },
        {
         "hovertemplate": "choc=6<br>person=15<br>rank=%{x}<br>rating=%{y}<extra></extra>",
         "legendgroup": "6",
         "marker": {
          "color": "#E377C2",
          "symbol": "circle"
         },
         "mode": "markers",
         "name": "6",
         "orientation": "v",
         "showlegend": false,
         "type": "scatter",
         "x": [
          14
         ],
         "xaxis": "x",
         "y": [
          -1.9895479860510172
         ],
         "yaxis": "y"
        },
        {
         "hovertemplate": "choc=6<br>person=16<br>rank=%{x}<br>rating=%{y}<extra></extra>",
         "legendgroup": "6",
         "marker": {
          "color": "#E377C2",
          "symbol": "circle"
         },
         "mode": "markers",
         "name": "6",
         "orientation": "v",
         "showlegend": false,
         "type": "scatter",
         "x": [
          5
         ],
         "xaxis": "x2",
         "y": [
          2.1617843205026395
         ],
         "yaxis": "y2"
        },
        {
         "hovertemplate": "choc=6<br>person=17<br>rank=%{x}<br>rating=%{y}<extra></extra>",
         "legendgroup": "6",
         "marker": {
          "color": "#E377C2",
          "symbol": "circle"
         },
         "mode": "markers",
         "name": "6",
         "orientation": "v",
         "showlegend": false,
         "type": "scatter",
         "x": [
          8
         ],
         "xaxis": "x3",
         "y": [
          -0.5985118878454874
         ],
         "yaxis": "y3"
        },
        {
         "hovertemplate": "choc=6<br>person=18<br>rank=%{x}<br>rating=%{y}<extra></extra>",
         "legendgroup": "6",
         "marker": {
          "color": "#E377C2",
          "symbol": "circle"
         },
         "mode": "markers",
         "name": "6",
         "orientation": "v",
         "showlegend": false,
         "type": "scatter",
         "x": [
          15
         ],
         "xaxis": "x4",
         "y": [
          -1.6637237076322178
         ],
         "yaxis": "y4"
        },
        {
         "hovertemplate": "choc=6<br>person=19<br>rank=%{x}<br>rating=%{y}<extra></extra>",
         "legendgroup": "6",
         "marker": {
          "color": "#E377C2",
          "symbol": "circle"
         },
         "mode": "markers",
         "name": "6",
         "orientation": "v",
         "showlegend": false,
         "type": "scatter",
         "x": [
          13
         ],
         "xaxis": "x5",
         "y": [
          -1.0115354331097792
         ],
         "yaxis": "y5"
        },
        {
         "hovertemplate": "choc=7<br>person=0<br>rank=%{x}<br>rating=%{y}<extra></extra>",
         "legendgroup": "7",
         "marker": {
          "color": "#7F7F7F",
          "symbol": "circle"
         },
         "mode": "markers",
         "name": "7",
         "orientation": "v",
         "showlegend": true,
         "type": "scatter",
         "x": [
          12
         ],
         "xaxis": "x16",
         "y": [
          -0.17935529721984345
         ],
         "yaxis": "y16"
        },
        {
         "hovertemplate": "choc=7<br>person=1<br>rank=%{x}<br>rating=%{y}<extra></extra>",
         "legendgroup": "7",
         "marker": {
          "color": "#7F7F7F",
          "symbol": "circle"
         },
         "mode": "markers",
         "name": "7",
         "orientation": "v",
         "showlegend": false,
         "type": "scatter",
         "x": [
          16
         ],
         "xaxis": "x17",
         "y": [
          -2.2206253520619894
         ],
         "yaxis": "y17"
        },
        {
         "hovertemplate": "choc=7<br>person=2<br>rank=%{x}<br>rating=%{y}<extra></extra>",
         "legendgroup": "7",
         "marker": {
          "color": "#7F7F7F",
          "symbol": "circle"
         },
         "mode": "markers",
         "name": "7",
         "orientation": "v",
         "showlegend": false,
         "type": "scatter",
         "x": [
          8
         ],
         "xaxis": "x18",
         "y": [
          0.4843672427046448
         ],
         "yaxis": "y18"
        },
        {
         "hovertemplate": "choc=7<br>person=3<br>rank=%{x}<br>rating=%{y}<extra></extra>",
         "legendgroup": "7",
         "marker": {
          "color": "#7F7F7F",
          "symbol": "circle"
         },
         "mode": "markers",
         "name": "7",
         "orientation": "v",
         "showlegend": false,
         "type": "scatter",
         "x": [
          6
         ],
         "xaxis": "x19",
         "y": [
          0.9329968628215182
         ],
         "yaxis": "y19"
        },
        {
         "hovertemplate": "choc=7<br>person=4<br>rank=%{x}<br>rating=%{y}<extra></extra>",
         "legendgroup": "7",
         "marker": {
          "color": "#7F7F7F",
          "symbol": "circle"
         },
         "mode": "markers",
         "name": "7",
         "orientation": "v",
         "showlegend": false,
         "type": "scatter",
         "x": [
          16
         ],
         "xaxis": "x20",
         "y": [
          -1.0850659862459218
         ],
         "yaxis": "y20"
        },
        {
         "hovertemplate": "choc=7<br>person=5<br>rank=%{x}<br>rating=%{y}<extra></extra>",
         "legendgroup": "7",
         "marker": {
          "color": "#7F7F7F",
          "symbol": "circle"
         },
         "mode": "markers",
         "name": "7",
         "orientation": "v",
         "showlegend": false,
         "type": "scatter",
         "x": [
          5
         ],
         "xaxis": "x11",
         "y": [
          1.9839439011905766
         ],
         "yaxis": "y11"
        },
        {
         "hovertemplate": "choc=7<br>person=6<br>rank=%{x}<br>rating=%{y}<extra></extra>",
         "legendgroup": "7",
         "marker": {
          "color": "#7F7F7F",
          "symbol": "circle"
         },
         "mode": "markers",
         "name": "7",
         "orientation": "v",
         "showlegend": false,
         "type": "scatter",
         "x": [
          13
         ],
         "xaxis": "x12",
         "y": [
          -1.875953021418921
         ],
         "yaxis": "y12"
        },
        {
         "hovertemplate": "choc=7<br>person=7<br>rank=%{x}<br>rating=%{y}<extra></extra>",
         "legendgroup": "7",
         "marker": {
          "color": "#7F7F7F",
          "symbol": "circle"
         },
         "mode": "markers",
         "name": "7",
         "orientation": "v",
         "showlegend": false,
         "type": "scatter",
         "x": [
          13
         ],
         "xaxis": "x13",
         "y": [
          -1.7213145495638007
         ],
         "yaxis": "y13"
        },
        {
         "hovertemplate": "choc=7<br>person=8<br>rank=%{x}<br>rating=%{y}<extra></extra>",
         "legendgroup": "7",
         "marker": {
          "color": "#7F7F7F",
          "symbol": "circle"
         },
         "mode": "markers",
         "name": "7",
         "orientation": "v",
         "showlegend": false,
         "type": "scatter",
         "x": [
          3
         ],
         "xaxis": "x14",
         "y": [
          2.039692508542008
         ],
         "yaxis": "y14"
        },
        {
         "hovertemplate": "choc=7<br>person=9<br>rank=%{x}<br>rating=%{y}<extra></extra>",
         "legendgroup": "7",
         "marker": {
          "color": "#7F7F7F",
          "symbol": "circle"
         },
         "mode": "markers",
         "name": "7",
         "orientation": "v",
         "showlegend": false,
         "type": "scatter",
         "x": [
          11
         ],
         "xaxis": "x15",
         "y": [
          -1.5751691782429584
         ],
         "yaxis": "y15"
        },
        {
         "hovertemplate": "choc=7<br>person=10<br>rank=%{x}<br>rating=%{y}<extra></extra>",
         "legendgroup": "7",
         "marker": {
          "color": "#7F7F7F",
          "symbol": "circle"
         },
         "mode": "markers",
         "name": "7",
         "orientation": "v",
         "showlegend": false,
         "type": "scatter",
         "x": [
          17
         ],
         "xaxis": "x6",
         "y": [
          -3.6947116790491155
         ],
         "yaxis": "y6"
        },
        {
         "hovertemplate": "choc=7<br>person=11<br>rank=%{x}<br>rating=%{y}<extra></extra>",
         "legendgroup": "7",
         "marker": {
          "color": "#7F7F7F",
          "symbol": "circle"
         },
         "mode": "markers",
         "name": "7",
         "orientation": "v",
         "showlegend": false,
         "type": "scatter",
         "x": [
          7
         ],
         "xaxis": "x7",
         "y": [
          0.9000300720609635
         ],
         "yaxis": "y7"
        },
        {
         "hovertemplate": "choc=7<br>person=12<br>rank=%{x}<br>rating=%{y}<extra></extra>",
         "legendgroup": "7",
         "marker": {
          "color": "#7F7F7F",
          "symbol": "circle"
         },
         "mode": "markers",
         "name": "7",
         "orientation": "v",
         "showlegend": false,
         "type": "scatter",
         "x": [
          13
         ],
         "xaxis": "x8",
         "y": [
          -2.751714121190936
         ],
         "yaxis": "y8"
        },
        {
         "hovertemplate": "choc=7<br>person=13<br>rank=%{x}<br>rating=%{y}<extra></extra>",
         "legendgroup": "7",
         "marker": {
          "color": "#7F7F7F",
          "symbol": "circle"
         },
         "mode": "markers",
         "name": "7",
         "orientation": "v",
         "showlegend": false,
         "type": "scatter",
         "x": [
          12
         ],
         "xaxis": "x9",
         "y": [
          -0.21611878884822833
         ],
         "yaxis": "y9"
        },
        {
         "hovertemplate": "choc=7<br>person=14<br>rank=%{x}<br>rating=%{y}<extra></extra>",
         "legendgroup": "7",
         "marker": {
          "color": "#7F7F7F",
          "symbol": "circle"
         },
         "mode": "markers",
         "name": "7",
         "orientation": "v",
         "showlegend": false,
         "type": "scatter",
         "x": [
          16
         ],
         "xaxis": "x10",
         "y": [
          -2.323940747375727
         ],
         "yaxis": "y10"
        },
        {
         "hovertemplate": "choc=7<br>person=15<br>rank=%{x}<br>rating=%{y}<extra></extra>",
         "legendgroup": "7",
         "marker": {
          "color": "#7F7F7F",
          "symbol": "circle"
         },
         "mode": "markers",
         "name": "7",
         "orientation": "v",
         "showlegend": false,
         "type": "scatter",
         "x": [
          11
         ],
         "xaxis": "x",
         "y": [
          -1.424009544898788
         ],
         "yaxis": "y"
        },
        {
         "hovertemplate": "choc=7<br>person=16<br>rank=%{x}<br>rating=%{y}<extra></extra>",
         "legendgroup": "7",
         "marker": {
          "color": "#7F7F7F",
          "symbol": "circle"
         },
         "mode": "markers",
         "name": "7",
         "orientation": "v",
         "showlegend": false,
         "type": "scatter",
         "x": [
          10
         ],
         "xaxis": "x2",
         "y": [
          -1.2478352460075048
         ],
         "yaxis": "y2"
        },
        {
         "hovertemplate": "choc=7<br>person=17<br>rank=%{x}<br>rating=%{y}<extra></extra>",
         "legendgroup": "7",
         "marker": {
          "color": "#7F7F7F",
          "symbol": "circle"
         },
         "mode": "markers",
         "name": "7",
         "orientation": "v",
         "showlegend": false,
         "type": "scatter",
         "x": [
          6
         ],
         "xaxis": "x3",
         "y": [
          0.12276465492299304
         ],
         "yaxis": "y3"
        },
        {
         "hovertemplate": "choc=7<br>person=18<br>rank=%{x}<br>rating=%{y}<extra></extra>",
         "legendgroup": "7",
         "marker": {
          "color": "#7F7F7F",
          "symbol": "circle"
         },
         "mode": "markers",
         "name": "7",
         "orientation": "v",
         "showlegend": false,
         "type": "scatter",
         "x": [
          11
         ],
         "xaxis": "x4",
         "y": [
          -0.6554437088475392
         ],
         "yaxis": "y4"
        },
        {
         "hovertemplate": "choc=7<br>person=19<br>rank=%{x}<br>rating=%{y}<extra></extra>",
         "legendgroup": "7",
         "marker": {
          "color": "#7F7F7F",
          "symbol": "circle"
         },
         "mode": "markers",
         "name": "7",
         "orientation": "v",
         "showlegend": false,
         "type": "scatter",
         "x": [
          10
         ],
         "xaxis": "x5",
         "y": [
          0.09943855381008959
         ],
         "yaxis": "y5"
        },
        {
         "hovertemplate": "choc=8<br>person=0<br>rank=%{x}<br>rating=%{y}<extra></extra>",
         "legendgroup": "8",
         "marker": {
          "color": "#BCBD22",
          "symbol": "circle"
         },
         "mode": "markers",
         "name": "8",
         "orientation": "v",
         "showlegend": true,
         "type": "scatter",
         "x": [
          19
         ],
         "xaxis": "x16",
         "y": [
          -9.589452324970956
         ],
         "yaxis": "y16"
        },
        {
         "hovertemplate": "choc=8<br>person=1<br>rank=%{x}<br>rating=%{y}<extra></extra>",
         "legendgroup": "8",
         "marker": {
          "color": "#BCBD22",
          "symbol": "circle"
         },
         "mode": "markers",
         "name": "8",
         "orientation": "v",
         "showlegend": false,
         "type": "scatter",
         "x": [
          19
         ],
         "xaxis": "x17",
         "y": [
          -3.6368742581287847
         ],
         "yaxis": "y17"
        },
        {
         "hovertemplate": "choc=8<br>person=2<br>rank=%{x}<br>rating=%{y}<extra></extra>",
         "legendgroup": "8",
         "marker": {
          "color": "#BCBD22",
          "symbol": "circle"
         },
         "mode": "markers",
         "name": "8",
         "orientation": "v",
         "showlegend": false,
         "type": "scatter",
         "x": [
          0
         ],
         "xaxis": "x18",
         "y": [
          4.369696718675501
         ],
         "yaxis": "y18"
        },
        {
         "hovertemplate": "choc=8<br>person=3<br>rank=%{x}<br>rating=%{y}<extra></extra>",
         "legendgroup": "8",
         "marker": {
          "color": "#BCBD22",
          "symbol": "circle"
         },
         "mode": "markers",
         "name": "8",
         "orientation": "v",
         "showlegend": false,
         "type": "scatter",
         "x": [
          18
         ],
         "xaxis": "x19",
         "y": [
          -3.6550889826263915
         ],
         "yaxis": "y19"
        },
        {
         "hovertemplate": "choc=8<br>person=4<br>rank=%{x}<br>rating=%{y}<extra></extra>",
         "legendgroup": "8",
         "marker": {
          "color": "#BCBD22",
          "symbol": "circle"
         },
         "mode": "markers",
         "name": "8",
         "orientation": "v",
         "showlegend": false,
         "type": "scatter",
         "x": [
          0
         ],
         "xaxis": "x20",
         "y": [
          7.95881979859493
         ],
         "yaxis": "y20"
        },
        {
         "hovertemplate": "choc=8<br>person=5<br>rank=%{x}<br>rating=%{y}<extra></extra>",
         "legendgroup": "8",
         "marker": {
          "color": "#BCBD22",
          "symbol": "circle"
         },
         "mode": "markers",
         "name": "8",
         "orientation": "v",
         "showlegend": false,
         "type": "scatter",
         "x": [
          8
         ],
         "xaxis": "x11",
         "y": [
          0.76515846310378
         ],
         "yaxis": "y11"
        },
        {
         "hovertemplate": "choc=8<br>person=6<br>rank=%{x}<br>rating=%{y}<extra></extra>",
         "legendgroup": "8",
         "marker": {
          "color": "#BCBD22",
          "symbol": "circle"
         },
         "mode": "markers",
         "name": "8",
         "orientation": "v",
         "showlegend": false,
         "type": "scatter",
         "x": [
          7
         ],
         "xaxis": "x12",
         "y": [
          -0.40301022713811346
         ],
         "yaxis": "y12"
        },
        {
         "hovertemplate": "choc=8<br>person=7<br>rank=%{x}<br>rating=%{y}<extra></extra>",
         "legendgroup": "8",
         "marker": {
          "color": "#BCBD22",
          "symbol": "circle"
         },
         "mode": "markers",
         "name": "8",
         "orientation": "v",
         "showlegend": false,
         "type": "scatter",
         "x": [
          19
         ],
         "xaxis": "x13",
         "y": [
          -7.740274502589049
         ],
         "yaxis": "y13"
        },
        {
         "hovertemplate": "choc=8<br>person=8<br>rank=%{x}<br>rating=%{y}<extra></extra>",
         "legendgroup": "8",
         "marker": {
          "color": "#BCBD22",
          "symbol": "circle"
         },
         "mode": "markers",
         "name": "8",
         "orientation": "v",
         "showlegend": false,
         "type": "scatter",
         "x": [
          15
         ],
         "xaxis": "x14",
         "y": [
          -3.3919852008634406
         ],
         "yaxis": "y14"
        },
        {
         "hovertemplate": "choc=8<br>person=9<br>rank=%{x}<br>rating=%{y}<extra></extra>",
         "legendgroup": "8",
         "marker": {
          "color": "#BCBD22",
          "symbol": "circle"
         },
         "mode": "markers",
         "name": "8",
         "orientation": "v",
         "showlegend": false,
         "type": "scatter",
         "x": [
          2
         ],
         "xaxis": "x15",
         "y": [
          3.1362746794880882
         ],
         "yaxis": "y15"
        },
        {
         "hovertemplate": "choc=8<br>person=10<br>rank=%{x}<br>rating=%{y}<extra></extra>",
         "legendgroup": "8",
         "marker": {
          "color": "#BCBD22",
          "symbol": "circle"
         },
         "mode": "markers",
         "name": "8",
         "orientation": "v",
         "showlegend": false,
         "type": "scatter",
         "x": [
          1
         ],
         "xaxis": "x6",
         "y": [
          2.1533718483706323
         ],
         "yaxis": "y6"
        },
        {
         "hovertemplate": "choc=8<br>person=11<br>rank=%{x}<br>rating=%{y}<extra></extra>",
         "legendgroup": "8",
         "marker": {
          "color": "#BCBD22",
          "symbol": "circle"
         },
         "mode": "markers",
         "name": "8",
         "orientation": "v",
         "showlegend": false,
         "type": "scatter",
         "x": [
          0
         ],
         "xaxis": "x7",
         "y": [
          9.352533369367736
         ],
         "yaxis": "y7"
        },
        {
         "hovertemplate": "choc=8<br>person=12<br>rank=%{x}<br>rating=%{y}<extra></extra>",
         "legendgroup": "8",
         "marker": {
          "color": "#BCBD22",
          "symbol": "circle"
         },
         "mode": "markers",
         "name": "8",
         "orientation": "v",
         "showlegend": false,
         "type": "scatter",
         "x": [
          19
         ],
         "xaxis": "x8",
         "y": [
          -5.798549217500438
         ],
         "yaxis": "y8"
        },
        {
         "hovertemplate": "choc=8<br>person=13<br>rank=%{x}<br>rating=%{y}<extra></extra>",
         "legendgroup": "8",
         "marker": {
          "color": "#BCBD22",
          "symbol": "circle"
         },
         "mode": "markers",
         "name": "8",
         "orientation": "v",
         "showlegend": false,
         "type": "scatter",
         "x": [
          1
         ],
         "xaxis": "x9",
         "y": [
          5.440453022647603
         ],
         "yaxis": "y9"
        },
        {
         "hovertemplate": "choc=8<br>person=14<br>rank=%{x}<br>rating=%{y}<extra></extra>",
         "legendgroup": "8",
         "marker": {
          "color": "#BCBD22",
          "symbol": "circle"
         },
         "mode": "markers",
         "name": "8",
         "orientation": "v",
         "showlegend": false,
         "type": "scatter",
         "x": [
          15
         ],
         "xaxis": "x10",
         "y": [
          -2.238409316939145
         ],
         "yaxis": "y10"
        },
        {
         "hovertemplate": "choc=8<br>person=15<br>rank=%{x}<br>rating=%{y}<extra></extra>",
         "legendgroup": "8",
         "marker": {
          "color": "#BCBD22",
          "symbol": "circle"
         },
         "mode": "markers",
         "name": "8",
         "orientation": "v",
         "showlegend": false,
         "type": "scatter",
         "x": [
          18
         ],
         "xaxis": "x",
         "y": [
          -3.845043137779932
         ],
         "yaxis": "y"
        },
        {
         "hovertemplate": "choc=8<br>person=16<br>rank=%{x}<br>rating=%{y}<extra></extra>",
         "legendgroup": "8",
         "marker": {
          "color": "#BCBD22",
          "symbol": "circle"
         },
         "mode": "markers",
         "name": "8",
         "orientation": "v",
         "showlegend": false,
         "type": "scatter",
         "x": [
          1
         ],
         "xaxis": "x2",
         "y": [
          6.692480912802576
         ],
         "yaxis": "y2"
        },
        {
         "hovertemplate": "choc=8<br>person=17<br>rank=%{x}<br>rating=%{y}<extra></extra>",
         "legendgroup": "8",
         "marker": {
          "color": "#BCBD22",
          "symbol": "circle"
         },
         "mode": "markers",
         "name": "8",
         "orientation": "v",
         "showlegend": false,
         "type": "scatter",
         "x": [
          2
         ],
         "xaxis": "x3",
         "y": [
          3.7625321648594174
         ],
         "yaxis": "y3"
        },
        {
         "hovertemplate": "choc=8<br>person=18<br>rank=%{x}<br>rating=%{y}<extra></extra>",
         "legendgroup": "8",
         "marker": {
          "color": "#BCBD22",
          "symbol": "circle"
         },
         "mode": "markers",
         "name": "8",
         "orientation": "v",
         "showlegend": false,
         "type": "scatter",
         "x": [
          7
         ],
         "xaxis": "x4",
         "y": [
          0.4721248611103646
         ],
         "yaxis": "y4"
        },
        {
         "hovertemplate": "choc=8<br>person=19<br>rank=%{x}<br>rating=%{y}<extra></extra>",
         "legendgroup": "8",
         "marker": {
          "color": "#BCBD22",
          "symbol": "circle"
         },
         "mode": "markers",
         "name": "8",
         "orientation": "v",
         "showlegend": false,
         "type": "scatter",
         "x": [
          1
         ],
         "xaxis": "x5",
         "y": [
          3.6867821718229306
         ],
         "yaxis": "y5"
        },
        {
         "hovertemplate": "choc=9<br>person=0<br>rank=%{x}<br>rating=%{y}<extra></extra>",
         "legendgroup": "9",
         "marker": {
          "color": "#17BECF",
          "symbol": "circle"
         },
         "mode": "markers",
         "name": "9",
         "orientation": "v",
         "showlegend": true,
         "type": "scatter",
         "x": [
          1
         ],
         "xaxis": "x16",
         "y": [
          4.216588646467184
         ],
         "yaxis": "y16"
        },
        {
         "hovertemplate": "choc=9<br>person=1<br>rank=%{x}<br>rating=%{y}<extra></extra>",
         "legendgroup": "9",
         "marker": {
          "color": "#17BECF",
          "symbol": "circle"
         },
         "mode": "markers",
         "name": "9",
         "orientation": "v",
         "showlegend": false,
         "type": "scatter",
         "x": [
          11
         ],
         "xaxis": "x17",
         "y": [
          -0.5731505578583709
         ],
         "yaxis": "y17"
        },
        {
         "hovertemplate": "choc=9<br>person=2<br>rank=%{x}<br>rating=%{y}<extra></extra>",
         "legendgroup": "9",
         "marker": {
          "color": "#17BECF",
          "symbol": "circle"
         },
         "mode": "markers",
         "name": "9",
         "orientation": "v",
         "showlegend": false,
         "type": "scatter",
         "x": [
          13
         ],
         "xaxis": "x18",
         "y": [
          -1.9503897672106
         ],
         "yaxis": "y18"
        },
        {
         "hovertemplate": "choc=9<br>person=3<br>rank=%{x}<br>rating=%{y}<extra></extra>",
         "legendgroup": "9",
         "marker": {
          "color": "#17BECF",
          "symbol": "circle"
         },
         "mode": "markers",
         "name": "9",
         "orientation": "v",
         "showlegend": false,
         "type": "scatter",
         "x": [
          1
         ],
         "xaxis": "x19",
         "y": [
          3.8702915552624173
         ],
         "yaxis": "y19"
        },
        {
         "hovertemplate": "choc=9<br>person=4<br>rank=%{x}<br>rating=%{y}<extra></extra>",
         "legendgroup": "9",
         "marker": {
          "color": "#17BECF",
          "symbol": "circle"
         },
         "mode": "markers",
         "name": "9",
         "orientation": "v",
         "showlegend": false,
         "type": "scatter",
         "x": [
          3
         ],
         "xaxis": "x20",
         "y": [
          3.694934558750327
         ],
         "yaxis": "y20"
        },
        {
         "hovertemplate": "choc=9<br>person=5<br>rank=%{x}<br>rating=%{y}<extra></extra>",
         "legendgroup": "9",
         "marker": {
          "color": "#17BECF",
          "symbol": "circle"
         },
         "mode": "markers",
         "name": "9",
         "orientation": "v",
         "showlegend": false,
         "type": "scatter",
         "x": [
          6
         ],
         "xaxis": "x11",
         "y": [
          1.850340737439374
         ],
         "yaxis": "y11"
        },
        {
         "hovertemplate": "choc=9<br>person=6<br>rank=%{x}<br>rating=%{y}<extra></extra>",
         "legendgroup": "9",
         "marker": {
          "color": "#17BECF",
          "symbol": "circle"
         },
         "mode": "markers",
         "name": "9",
         "orientation": "v",
         "showlegend": false,
         "type": "scatter",
         "x": [
          9
         ],
         "xaxis": "x12",
         "y": [
          -0.8605598475075469
         ],
         "yaxis": "y12"
        },
        {
         "hovertemplate": "choc=9<br>person=7<br>rank=%{x}<br>rating=%{y}<extra></extra>",
         "legendgroup": "9",
         "marker": {
          "color": "#17BECF",
          "symbol": "circle"
         },
         "mode": "markers",
         "name": "9",
         "orientation": "v",
         "showlegend": false,
         "type": "scatter",
         "x": [
          9
         ],
         "xaxis": "x13",
         "y": [
          -0.06107968275693887
         ],
         "yaxis": "y13"
        },
        {
         "hovertemplate": "choc=9<br>person=8<br>rank=%{x}<br>rating=%{y}<extra></extra>",
         "legendgroup": "9",
         "marker": {
          "color": "#17BECF",
          "symbol": "circle"
         },
         "mode": "markers",
         "name": "9",
         "orientation": "v",
         "showlegend": false,
         "type": "scatter",
         "x": [
          0
         ],
         "xaxis": "x14",
         "y": [
          3.086415204371505
         ],
         "yaxis": "y14"
        },
        {
         "hovertemplate": "choc=9<br>person=9<br>rank=%{x}<br>rating=%{y}<extra></extra>",
         "legendgroup": "9",
         "marker": {
          "color": "#17BECF",
          "symbol": "circle"
         },
         "mode": "markers",
         "name": "9",
         "orientation": "v",
         "showlegend": false,
         "type": "scatter",
         "x": [
          1
         ],
         "xaxis": "x15",
         "y": [
          3.4357679983130742
         ],
         "yaxis": "y15"
        },
        {
         "hovertemplate": "choc=9<br>person=10<br>rank=%{x}<br>rating=%{y}<extra></extra>",
         "legendgroup": "9",
         "marker": {
          "color": "#17BECF",
          "symbol": "circle"
         },
         "mode": "markers",
         "name": "9",
         "orientation": "v",
         "showlegend": false,
         "type": "scatter",
         "x": [
          8
         ],
         "xaxis": "x6",
         "y": [
          1.098843174091806
         ],
         "yaxis": "y6"
        },
        {
         "hovertemplate": "choc=9<br>person=11<br>rank=%{x}<br>rating=%{y}<extra></extra>",
         "legendgroup": "9",
         "marker": {
          "color": "#17BECF",
          "symbol": "circle"
         },
         "mode": "markers",
         "name": "9",
         "orientation": "v",
         "showlegend": false,
         "type": "scatter",
         "x": [
          6
         ],
         "xaxis": "x7",
         "y": [
          1.2664882059960971
         ],
         "yaxis": "y7"
        },
        {
         "hovertemplate": "choc=9<br>person=12<br>rank=%{x}<br>rating=%{y}<extra></extra>",
         "legendgroup": "9",
         "marker": {
          "color": "#17BECF",
          "symbol": "circle"
         },
         "mode": "markers",
         "name": "9",
         "orientation": "v",
         "showlegend": false,
         "type": "scatter",
         "x": [
          1
         ],
         "xaxis": "x8",
         "y": [
          3.2403868005111507
         ],
         "yaxis": "y8"
        },
        {
         "hovertemplate": "choc=9<br>person=13<br>rank=%{x}<br>rating=%{y}<extra></extra>",
         "legendgroup": "9",
         "marker": {
          "color": "#17BECF",
          "symbol": "circle"
         },
         "mode": "markers",
         "name": "9",
         "orientation": "v",
         "showlegend": false,
         "type": "scatter",
         "x": [
          5
         ],
         "xaxis": "x9",
         "y": [
          1.547217334569387
         ],
         "yaxis": "y9"
        },
        {
         "hovertemplate": "choc=9<br>person=14<br>rank=%{x}<br>rating=%{y}<extra></extra>",
         "legendgroup": "9",
         "marker": {
          "color": "#17BECF",
          "symbol": "circle"
         },
         "mode": "markers",
         "name": "9",
         "orientation": "v",
         "showlegend": false,
         "type": "scatter",
         "x": [
          1
         ],
         "xaxis": "x10",
         "y": [
          2.296427245592559
         ],
         "yaxis": "y10"
        },
        {
         "hovertemplate": "choc=9<br>person=15<br>rank=%{x}<br>rating=%{y}<extra></extra>",
         "legendgroup": "9",
         "marker": {
          "color": "#17BECF",
          "symbol": "circle"
         },
         "mode": "markers",
         "name": "9",
         "orientation": "v",
         "showlegend": false,
         "type": "scatter",
         "x": [
          2
         ],
         "xaxis": "x",
         "y": [
          1.584971225099756
         ],
         "yaxis": "y"
        },
        {
         "hovertemplate": "choc=9<br>person=16<br>rank=%{x}<br>rating=%{y}<extra></extra>",
         "legendgroup": "9",
         "marker": {
          "color": "#17BECF",
          "symbol": "circle"
         },
         "mode": "markers",
         "name": "9",
         "orientation": "v",
         "showlegend": false,
         "type": "scatter",
         "x": [
          7
         ],
         "xaxis": "x2",
         "y": [
          1.4256527349463133
         ],
         "yaxis": "y2"
        },
        {
         "hovertemplate": "choc=9<br>person=17<br>rank=%{x}<br>rating=%{y}<extra></extra>",
         "legendgroup": "9",
         "marker": {
          "color": "#17BECF",
          "symbol": "circle"
         },
         "mode": "markers",
         "name": "9",
         "orientation": "v",
         "showlegend": false,
         "type": "scatter",
         "x": [
          1
         ],
         "xaxis": "x3",
         "y": [
          4.7991615083865575
         ],
         "yaxis": "y3"
        },
        {
         "hovertemplate": "choc=9<br>person=18<br>rank=%{x}<br>rating=%{y}<extra></extra>",
         "legendgroup": "9",
         "marker": {
          "color": "#17BECF",
          "symbol": "circle"
         },
         "mode": "markers",
         "name": "9",
         "orientation": "v",
         "showlegend": false,
         "type": "scatter",
         "x": [
          5
         ],
         "xaxis": "x4",
         "y": [
          0.9109106389009628
         ],
         "yaxis": "y4"
        },
        {
         "hovertemplate": "choc=9<br>person=19<br>rank=%{x}<br>rating=%{y}<extra></extra>",
         "legendgroup": "9",
         "marker": {
          "color": "#17BECF",
          "symbol": "circle"
         },
         "mode": "markers",
         "name": "9",
         "orientation": "v",
         "showlegend": false,
         "type": "scatter",
         "x": [
          7
         ],
         "xaxis": "x5",
         "y": [
          1.077781483422494
         ],
         "yaxis": "y5"
        },
        {
         "hovertemplate": "choc=10<br>person=0<br>rank=%{x}<br>rating=%{y}<extra></extra>",
         "legendgroup": "10",
         "marker": {
          "color": "#1F77B4",
          "symbol": "circle"
         },
         "mode": "markers",
         "name": "10",
         "orientation": "v",
         "showlegend": true,
         "type": "scatter",
         "x": [
          9
         ],
         "xaxis": "x16",
         "y": [
          0.8618323772610872
         ],
         "yaxis": "y16"
        },
        {
         "hovertemplate": "choc=10<br>person=1<br>rank=%{x}<br>rating=%{y}<extra></extra>",
         "legendgroup": "10",
         "marker": {
          "color": "#1F77B4",
          "symbol": "circle"
         },
         "mode": "markers",
         "name": "10",
         "orientation": "v",
         "showlegend": false,
         "type": "scatter",
         "x": [
          9
         ],
         "xaxis": "x17",
         "y": [
          -0.15158139110370708
         ],
         "yaxis": "y17"
        },
        {
         "hovertemplate": "choc=10<br>person=2<br>rank=%{x}<br>rating=%{y}<extra></extra>",
         "legendgroup": "10",
         "marker": {
          "color": "#1F77B4",
          "symbol": "circle"
         },
         "mode": "markers",
         "name": "10",
         "orientation": "v",
         "showlegend": false,
         "type": "scatter",
         "x": [
          1
         ],
         "xaxis": "x18",
         "y": [
          3.7688995468618773
         ],
         "yaxis": "y18"
        },
        {
         "hovertemplate": "choc=10<br>person=3<br>rank=%{x}<br>rating=%{y}<extra></extra>",
         "legendgroup": "10",
         "marker": {
          "color": "#1F77B4",
          "symbol": "circle"
         },
         "mode": "markers",
         "name": "10",
         "orientation": "v",
         "showlegend": false,
         "type": "scatter",
         "x": [
          8
         ],
         "xaxis": "x19",
         "y": [
          -0.014824929448399138
         ],
         "yaxis": "y19"
        },
        {
         "hovertemplate": "choc=10<br>person=4<br>rank=%{x}<br>rating=%{y}<extra></extra>",
         "legendgroup": "10",
         "marker": {
          "color": "#1F77B4",
          "symbol": "circle"
         },
         "mode": "markers",
         "name": "10",
         "orientation": "v",
         "showlegend": false,
         "type": "scatter",
         "x": [
          19
         ],
         "xaxis": "x20",
         "y": [
          -4.960855974638618
         ],
         "yaxis": "y20"
        },
        {
         "hovertemplate": "choc=10<br>person=5<br>rank=%{x}<br>rating=%{y}<extra></extra>",
         "legendgroup": "10",
         "marker": {
          "color": "#1F77B4",
          "symbol": "circle"
         },
         "mode": "markers",
         "name": "10",
         "orientation": "v",
         "showlegend": false,
         "type": "scatter",
         "x": [
          10
         ],
         "xaxis": "x11",
         "y": [
          -0.054063434306320435
         ],
         "yaxis": "y11"
        },
        {
         "hovertemplate": "choc=10<br>person=6<br>rank=%{x}<br>rating=%{y}<extra></extra>",
         "legendgroup": "10",
         "marker": {
          "color": "#1F77B4",
          "symbol": "circle"
         },
         "mode": "markers",
         "name": "10",
         "orientation": "v",
         "showlegend": false,
         "type": "scatter",
         "x": [
          10
         ],
         "xaxis": "x12",
         "y": [
          -1.1366254118064634
         ],
         "yaxis": "y12"
        },
        {
         "hovertemplate": "choc=10<br>person=7<br>rank=%{x}<br>rating=%{y}<extra></extra>",
         "legendgroup": "10",
         "marker": {
          "color": "#1F77B4",
          "symbol": "circle"
         },
         "mode": "markers",
         "name": "10",
         "orientation": "v",
         "showlegend": false,
         "type": "scatter",
         "x": [
          15
         ],
         "xaxis": "x13",
         "y": [
          -2.240097005808231
         ],
         "yaxis": "y13"
        },
        {
         "hovertemplate": "choc=10<br>person=8<br>rank=%{x}<br>rating=%{y}<extra></extra>",
         "legendgroup": "10",
         "marker": {
          "color": "#1F77B4",
          "symbol": "circle"
         },
         "mode": "markers",
         "name": "10",
         "orientation": "v",
         "showlegend": false,
         "type": "scatter",
         "x": [
          10
         ],
         "xaxis": "x14",
         "y": [
          -0.9844484702419352
         ],
         "yaxis": "y14"
        },
        {
         "hovertemplate": "choc=10<br>person=9<br>rank=%{x}<br>rating=%{y}<extra></extra>",
         "legendgroup": "10",
         "marker": {
          "color": "#1F77B4",
          "symbol": "circle"
         },
         "mode": "markers",
         "name": "10",
         "orientation": "v",
         "showlegend": false,
         "type": "scatter",
         "x": [
          13
         ],
         "xaxis": "x15",
         "y": [
          -1.9609784826397059
         ],
         "yaxis": "y15"
        },
        {
         "hovertemplate": "choc=10<br>person=10<br>rank=%{x}<br>rating=%{y}<extra></extra>",
         "legendgroup": "10",
         "marker": {
          "color": "#1F77B4",
          "symbol": "circle"
         },
         "mode": "markers",
         "name": "10",
         "orientation": "v",
         "showlegend": false,
         "type": "scatter",
         "x": [
          7
         ],
         "xaxis": "x6",
         "y": [
          1.1335272033327326
         ],
         "yaxis": "y6"
        },
        {
         "hovertemplate": "choc=10<br>person=11<br>rank=%{x}<br>rating=%{y}<extra></extra>",
         "legendgroup": "10",
         "marker": {
          "color": "#1F77B4",
          "symbol": "circle"
         },
         "mode": "markers",
         "name": "10",
         "orientation": "v",
         "showlegend": false,
         "type": "scatter",
         "x": [
          9
         ],
         "xaxis": "x7",
         "y": [
          0.463761372050079
         ],
         "yaxis": "y7"
        },
        {
         "hovertemplate": "choc=10<br>person=12<br>rank=%{x}<br>rating=%{y}<extra></extra>",
         "legendgroup": "10",
         "marker": {
          "color": "#1F77B4",
          "symbol": "circle"
         },
         "mode": "markers",
         "name": "10",
         "orientation": "v",
         "showlegend": false,
         "type": "scatter",
         "x": [
          8
         ],
         "xaxis": "x8",
         "y": [
          -0.06237620719447565
         ],
         "yaxis": "y8"
        },
        {
         "hovertemplate": "choc=10<br>person=13<br>rank=%{x}<br>rating=%{y}<extra></extra>",
         "legendgroup": "10",
         "marker": {
          "color": "#1F77B4",
          "symbol": "circle"
         },
         "mode": "markers",
         "name": "10",
         "orientation": "v",
         "showlegend": false,
         "type": "scatter",
         "x": [
          14
         ],
         "xaxis": "x9",
         "y": [
          -0.6779536862516283
         ],
         "yaxis": "y9"
        },
        {
         "hovertemplate": "choc=10<br>person=14<br>rank=%{x}<br>rating=%{y}<extra></extra>",
         "legendgroup": "10",
         "marker": {
          "color": "#1F77B4",
          "symbol": "circle"
         },
         "mode": "markers",
         "name": "10",
         "orientation": "v",
         "showlegend": false,
         "type": "scatter",
         "x": [
          8
         ],
         "xaxis": "x10",
         "y": [
          0.0020259940644431484
         ],
         "yaxis": "y10"
        },
        {
         "hovertemplate": "choc=10<br>person=15<br>rank=%{x}<br>rating=%{y}<extra></extra>",
         "legendgroup": "10",
         "marker": {
          "color": "#1F77B4",
          "symbol": "circle"
         },
         "mode": "markers",
         "name": "10",
         "orientation": "v",
         "showlegend": false,
         "type": "scatter",
         "x": [
          0
         ],
         "xaxis": "x",
         "y": [
          7.577712494635519
         ],
         "yaxis": "y"
        },
        {
         "hovertemplate": "choc=10<br>person=16<br>rank=%{x}<br>rating=%{y}<extra></extra>",
         "legendgroup": "10",
         "marker": {
          "color": "#1F77B4",
          "symbol": "circle"
         },
         "mode": "markers",
         "name": "10",
         "orientation": "v",
         "showlegend": false,
         "type": "scatter",
         "x": [
          11
         ],
         "xaxis": "x2",
         "y": [
          -1.3109346695305923
         ],
         "yaxis": "y2"
        },
        {
         "hovertemplate": "choc=10<br>person=17<br>rank=%{x}<br>rating=%{y}<extra></extra>",
         "legendgroup": "10",
         "marker": {
          "color": "#1F77B4",
          "symbol": "circle"
         },
         "mode": "markers",
         "name": "10",
         "orientation": "v",
         "showlegend": false,
         "type": "scatter",
         "x": [
          5
         ],
         "xaxis": "x3",
         "y": [
          0.8835077182097524
         ],
         "yaxis": "y3"
        },
        {
         "hovertemplate": "choc=10<br>person=18<br>rank=%{x}<br>rating=%{y}<extra></extra>",
         "legendgroup": "10",
         "marker": {
          "color": "#1F77B4",
          "symbol": "circle"
         },
         "mode": "markers",
         "name": "10",
         "orientation": "v",
         "showlegend": false,
         "type": "scatter",
         "x": [
          16
         ],
         "xaxis": "x4",
         "y": [
          -1.973281949805496
         ],
         "yaxis": "y4"
        },
        {
         "hovertemplate": "choc=10<br>person=19<br>rank=%{x}<br>rating=%{y}<extra></extra>",
         "legendgroup": "10",
         "marker": {
          "color": "#1F77B4",
          "symbol": "circle"
         },
         "mode": "markers",
         "name": "10",
         "orientation": "v",
         "showlegend": false,
         "type": "scatter",
         "x": [
          4
         ],
         "xaxis": "x5",
         "y": [
          2.1855366401780403
         ],
         "yaxis": "y5"
        },
        {
         "hovertemplate": "choc=11<br>person=0<br>rank=%{x}<br>rating=%{y}<extra></extra>",
         "legendgroup": "11",
         "marker": {
          "color": "#FF7F0E",
          "symbol": "circle"
         },
         "mode": "markers",
         "name": "11",
         "orientation": "v",
         "showlegend": true,
         "type": "scatter",
         "x": [
          7
         ],
         "xaxis": "x16",
         "y": [
          1.384529320229272
         ],
         "yaxis": "y16"
        },
        {
         "hovertemplate": "choc=11<br>person=1<br>rank=%{x}<br>rating=%{y}<extra></extra>",
         "legendgroup": "11",
         "marker": {
          "color": "#FF7F0E",
          "symbol": "circle"
         },
         "mode": "markers",
         "name": "11",
         "orientation": "v",
         "showlegend": false,
         "type": "scatter",
         "x": [
          15
         ],
         "xaxis": "x17",
         "y": [
          -2.1733295741018845
         ],
         "yaxis": "y17"
        },
        {
         "hovertemplate": "choc=11<br>person=2<br>rank=%{x}<br>rating=%{y}<extra></extra>",
         "legendgroup": "11",
         "marker": {
          "color": "#FF7F0E",
          "symbol": "circle"
         },
         "mode": "markers",
         "name": "11",
         "orientation": "v",
         "showlegend": false,
         "type": "scatter",
         "x": [
          10
         ],
         "xaxis": "x18",
         "y": [
          -0.529585832646858
         ],
         "yaxis": "y18"
        },
        {
         "hovertemplate": "choc=11<br>person=3<br>rank=%{x}<br>rating=%{y}<extra></extra>",
         "legendgroup": "11",
         "marker": {
          "color": "#FF7F0E",
          "symbol": "circle"
         },
         "mode": "markers",
         "name": "11",
         "orientation": "v",
         "showlegend": false,
         "type": "scatter",
         "x": [
          12
         ],
         "xaxis": "x19",
         "y": [
          -1.4623607390224573
         ],
         "yaxis": "y19"
        },
        {
         "hovertemplate": "choc=11<br>person=4<br>rank=%{x}<br>rating=%{y}<extra></extra>",
         "legendgroup": "11",
         "marker": {
          "color": "#FF7F0E",
          "symbol": "circle"
         },
         "mode": "markers",
         "name": "11",
         "orientation": "v",
         "showlegend": false,
         "type": "scatter",
         "x": [
          17
         ],
         "xaxis": "x20",
         "y": [
          -2.5746500155142673
         ],
         "yaxis": "y20"
        },
        {
         "hovertemplate": "choc=11<br>person=5<br>rank=%{x}<br>rating=%{y}<extra></extra>",
         "legendgroup": "11",
         "marker": {
          "color": "#FF7F0E",
          "symbol": "circle"
         },
         "mode": "markers",
         "name": "11",
         "orientation": "v",
         "showlegend": false,
         "type": "scatter",
         "x": [
          19
         ],
         "xaxis": "x11",
         "y": [
          -3.518528294707985
         ],
         "yaxis": "y11"
        },
        {
         "hovertemplate": "choc=11<br>person=6<br>rank=%{x}<br>rating=%{y}<extra></extra>",
         "legendgroup": "11",
         "marker": {
          "color": "#FF7F0E",
          "symbol": "circle"
         },
         "mode": "markers",
         "name": "11",
         "orientation": "v",
         "showlegend": false,
         "type": "scatter",
         "x": [
          8
         ],
         "xaxis": "x12",
         "y": [
          -0.6043564625037946
         ],
         "yaxis": "y12"
        },
        {
         "hovertemplate": "choc=11<br>person=7<br>rank=%{x}<br>rating=%{y}<extra></extra>",
         "legendgroup": "11",
         "marker": {
          "color": "#FF7F0E",
          "symbol": "circle"
         },
         "mode": "markers",
         "name": "11",
         "orientation": "v",
         "showlegend": false,
         "type": "scatter",
         "x": [
          3
         ],
         "xaxis": "x13",
         "y": [
          0.8497210619785366
         ],
         "yaxis": "y13"
        },
        {
         "hovertemplate": "choc=11<br>person=8<br>rank=%{x}<br>rating=%{y}<extra></extra>",
         "legendgroup": "11",
         "marker": {
          "color": "#FF7F0E",
          "symbol": "circle"
         },
         "mode": "markers",
         "name": "11",
         "orientation": "v",
         "showlegend": false,
         "type": "scatter",
         "x": [
          17
         ],
         "xaxis": "x14",
         "y": [
          -4.729072377095195
         ],
         "yaxis": "y14"
        },
        {
         "hovertemplate": "choc=11<br>person=9<br>rank=%{x}<br>rating=%{y}<extra></extra>",
         "legendgroup": "11",
         "marker": {
          "color": "#FF7F0E",
          "symbol": "circle"
         },
         "mode": "markers",
         "name": "11",
         "orientation": "v",
         "showlegend": false,
         "type": "scatter",
         "x": [
          9
         ],
         "xaxis": "x15",
         "y": [
          -0.5727403419713523
         ],
         "yaxis": "y15"
        },
        {
         "hovertemplate": "choc=11<br>person=10<br>rank=%{x}<br>rating=%{y}<extra></extra>",
         "legendgroup": "11",
         "marker": {
          "color": "#FF7F0E",
          "symbol": "circle"
         },
         "mode": "markers",
         "name": "11",
         "orientation": "v",
         "showlegend": false,
         "type": "scatter",
         "x": [
          12
         ],
         "xaxis": "x6",
         "y": [
          -0.15533351670584916
         ],
         "yaxis": "y6"
        },
        {
         "hovertemplate": "choc=11<br>person=11<br>rank=%{x}<br>rating=%{y}<extra></extra>",
         "legendgroup": "11",
         "marker": {
          "color": "#FF7F0E",
          "symbol": "circle"
         },
         "mode": "markers",
         "name": "11",
         "orientation": "v",
         "showlegend": false,
         "type": "scatter",
         "x": [
          19
         ],
         "xaxis": "x7",
         "y": [
          -6.391304848806666
         ],
         "yaxis": "y7"
        },
        {
         "hovertemplate": "choc=11<br>person=12<br>rank=%{x}<br>rating=%{y}<extra></extra>",
         "legendgroup": "11",
         "marker": {
          "color": "#FF7F0E",
          "symbol": "circle"
         },
         "mode": "markers",
         "name": "11",
         "orientation": "v",
         "showlegend": false,
         "type": "scatter",
         "x": [
          0
         ],
         "xaxis": "x8",
         "y": [
          5.733428432614672
         ],
         "yaxis": "y8"
        },
        {
         "hovertemplate": "choc=11<br>person=13<br>rank=%{x}<br>rating=%{y}<extra></extra>",
         "legendgroup": "11",
         "marker": {
          "color": "#FF7F0E",
          "symbol": "circle"
         },
         "mode": "markers",
         "name": "11",
         "orientation": "v",
         "showlegend": false,
         "type": "scatter",
         "x": [
          16
         ],
         "xaxis": "x9",
         "y": [
          -1.7360631985279835
         ],
         "yaxis": "y9"
        },
        {
         "hovertemplate": "choc=11<br>person=14<br>rank=%{x}<br>rating=%{y}<extra></extra>",
         "legendgroup": "11",
         "marker": {
          "color": "#FF7F0E",
          "symbol": "circle"
         },
         "mode": "markers",
         "name": "11",
         "orientation": "v",
         "showlegend": false,
         "type": "scatter",
         "x": [
          6
         ],
         "xaxis": "x10",
         "y": [
          1.1901484703850307
         ],
         "yaxis": "y10"
        },
        {
         "hovertemplate": "choc=11<br>person=15<br>rank=%{x}<br>rating=%{y}<extra></extra>",
         "legendgroup": "11",
         "marker": {
          "color": "#FF7F0E",
          "symbol": "circle"
         },
         "mode": "markers",
         "name": "11",
         "orientation": "v",
         "showlegend": false,
         "type": "scatter",
         "x": [
          8
         ],
         "xaxis": "x",
         "y": [
          -0.9768299943173153
         ],
         "yaxis": "y"
        },
        {
         "hovertemplate": "choc=11<br>person=16<br>rank=%{x}<br>rating=%{y}<extra></extra>",
         "legendgroup": "11",
         "marker": {
          "color": "#FF7F0E",
          "symbol": "circle"
         },
         "mode": "markers",
         "name": "11",
         "orientation": "v",
         "showlegend": false,
         "type": "scatter",
         "x": [
          16
         ],
         "xaxis": "x2",
         "y": [
          -4.222934041444375
         ],
         "yaxis": "y2"
        },
        {
         "hovertemplate": "choc=11<br>person=17<br>rank=%{x}<br>rating=%{y}<extra></extra>",
         "legendgroup": "11",
         "marker": {
          "color": "#FF7F0E",
          "symbol": "circle"
         },
         "mode": "markers",
         "name": "11",
         "orientation": "v",
         "showlegend": false,
         "type": "scatter",
         "x": [
          17
         ],
         "xaxis": "x3",
         "y": [
          -4.51013359451139
         ],
         "yaxis": "y3"
        },
        {
         "hovertemplate": "choc=11<br>person=18<br>rank=%{x}<br>rating=%{y}<extra></extra>",
         "legendgroup": "11",
         "marker": {
          "color": "#FF7F0E",
          "symbol": "circle"
         },
         "mode": "markers",
         "name": "11",
         "orientation": "v",
         "showlegend": false,
         "type": "scatter",
         "x": [
          13
         ],
         "xaxis": "x4",
         "y": [
          -1.2860819053171837
         ],
         "yaxis": "y4"
        },
        {
         "hovertemplate": "choc=11<br>person=19<br>rank=%{x}<br>rating=%{y}<extra></extra>",
         "legendgroup": "11",
         "marker": {
          "color": "#FF7F0E",
          "symbol": "circle"
         },
         "mode": "markers",
         "name": "11",
         "orientation": "v",
         "showlegend": false,
         "type": "scatter",
         "x": [
          0
         ],
         "xaxis": "x5",
         "y": [
          5.258004343632044
         ],
         "yaxis": "y5"
        },
        {
         "hovertemplate": "choc=12<br>person=0<br>rank=%{x}<br>rating=%{y}<extra></extra>",
         "legendgroup": "12",
         "marker": {
          "color": "#2CA02C",
          "symbol": "circle"
         },
         "mode": "markers",
         "name": "12",
         "orientation": "v",
         "showlegend": true,
         "type": "scatter",
         "x": [
          4
         ],
         "xaxis": "x16",
         "y": [
          1.7399865609090355
         ],
         "yaxis": "y16"
        },
        {
         "hovertemplate": "choc=12<br>person=1<br>rank=%{x}<br>rating=%{y}<extra></extra>",
         "legendgroup": "12",
         "marker": {
          "color": "#2CA02C",
          "symbol": "circle"
         },
         "mode": "markers",
         "name": "12",
         "orientation": "v",
         "showlegend": false,
         "type": "scatter",
         "x": [
          17
         ],
         "xaxis": "x17",
         "y": [
          -2.5624359843254694
         ],
         "yaxis": "y17"
        },
        {
         "hovertemplate": "choc=12<br>person=2<br>rank=%{x}<br>rating=%{y}<extra></extra>",
         "legendgroup": "12",
         "marker": {
          "color": "#2CA02C",
          "symbol": "circle"
         },
         "mode": "markers",
         "name": "12",
         "orientation": "v",
         "showlegend": false,
         "type": "scatter",
         "x": [
          19
         ],
         "xaxis": "x18",
         "y": [
          -5.965043565336768
         ],
         "yaxis": "y18"
        },
        {
         "hovertemplate": "choc=12<br>person=3<br>rank=%{x}<br>rating=%{y}<extra></extra>",
         "legendgroup": "12",
         "marker": {
          "color": "#2CA02C",
          "symbol": "circle"
         },
         "mode": "markers",
         "name": "12",
         "orientation": "v",
         "showlegend": false,
         "type": "scatter",
         "x": [
          4
         ],
         "xaxis": "x19",
         "y": [
          1.6068772545125602
         ],
         "yaxis": "y19"
        },
        {
         "hovertemplate": "choc=12<br>person=4<br>rank=%{x}<br>rating=%{y}<extra></extra>",
         "legendgroup": "12",
         "marker": {
          "color": "#2CA02C",
          "symbol": "circle"
         },
         "mode": "markers",
         "name": "12",
         "orientation": "v",
         "showlegend": false,
         "type": "scatter",
         "x": [
          1
         ],
         "xaxis": "x20",
         "y": [
          4.953883402598154
         ],
         "yaxis": "y20"
        },
        {
         "hovertemplate": "choc=12<br>person=5<br>rank=%{x}<br>rating=%{y}<extra></extra>",
         "legendgroup": "12",
         "marker": {
          "color": "#2CA02C",
          "symbol": "circle"
         },
         "mode": "markers",
         "name": "12",
         "orientation": "v",
         "showlegend": false,
         "type": "scatter",
         "x": [
          9
         ],
         "xaxis": "x11",
         "y": [
          0.0647399852610196
         ],
         "yaxis": "y11"
        },
        {
         "hovertemplate": "choc=12<br>person=6<br>rank=%{x}<br>rating=%{y}<extra></extra>",
         "legendgroup": "12",
         "marker": {
          "color": "#2CA02C",
          "symbol": "circle"
         },
         "mode": "markers",
         "name": "12",
         "orientation": "v",
         "showlegend": false,
         "type": "scatter",
         "x": [
          1
         ],
         "xaxis": "x12",
         "y": [
          1.3604317214900064
         ],
         "yaxis": "y12"
        },
        {
         "hovertemplate": "choc=12<br>person=7<br>rank=%{x}<br>rating=%{y}<extra></extra>",
         "legendgroup": "12",
         "marker": {
          "color": "#2CA02C",
          "symbol": "circle"
         },
         "mode": "markers",
         "name": "12",
         "orientation": "v",
         "showlegend": false,
         "type": "scatter",
         "x": [
          16
         ],
         "xaxis": "x13",
         "y": [
          -3.580904625584676
         ],
         "yaxis": "y13"
        },
        {
         "hovertemplate": "choc=12<br>person=8<br>rank=%{x}<br>rating=%{y}<extra></extra>",
         "legendgroup": "12",
         "marker": {
          "color": "#2CA02C",
          "symbol": "circle"
         },
         "mode": "markers",
         "name": "12",
         "orientation": "v",
         "showlegend": false,
         "type": "scatter",
         "x": [
          16
         ],
         "xaxis": "x14",
         "y": [
          -3.435672040532448
         ],
         "yaxis": "y14"
        },
        {
         "hovertemplate": "choc=12<br>person=9<br>rank=%{x}<br>rating=%{y}<extra></extra>",
         "legendgroup": "12",
         "marker": {
          "color": "#2CA02C",
          "symbol": "circle"
         },
         "mode": "markers",
         "name": "12",
         "orientation": "v",
         "showlegend": false,
         "type": "scatter",
         "x": [
          3
         ],
         "xaxis": "x15",
         "y": [
          2.5519333316606616
         ],
         "yaxis": "y15"
        },
        {
         "hovertemplate": "choc=12<br>person=10<br>rank=%{x}<br>rating=%{y}<extra></extra>",
         "legendgroup": "12",
         "marker": {
          "color": "#2CA02C",
          "symbol": "circle"
         },
         "mode": "markers",
         "name": "12",
         "orientation": "v",
         "showlegend": false,
         "type": "scatter",
         "x": [
          14
         ],
         "xaxis": "x6",
         "y": [
          -0.3517596380289213
         ],
         "yaxis": "y6"
        },
        {
         "hovertemplate": "choc=12<br>person=11<br>rank=%{x}<br>rating=%{y}<extra></extra>",
         "legendgroup": "12",
         "marker": {
          "color": "#2CA02C",
          "symbol": "circle"
         },
         "mode": "markers",
         "name": "12",
         "orientation": "v",
         "showlegend": false,
         "type": "scatter",
         "x": [
          17
         ],
         "xaxis": "x7",
         "y": [
          -2.2505922627194224
         ],
         "yaxis": "y7"
        },
        {
         "hovertemplate": "choc=12<br>person=12<br>rank=%{x}<br>rating=%{y}<extra></extra>",
         "legendgroup": "12",
         "marker": {
          "color": "#2CA02C",
          "symbol": "circle"
         },
         "mode": "markers",
         "name": "12",
         "orientation": "v",
         "showlegend": false,
         "type": "scatter",
         "x": [
          5
         ],
         "xaxis": "x8",
         "y": [
          0.10285887127693777
         ],
         "yaxis": "y8"
        },
        {
         "hovertemplate": "choc=12<br>person=13<br>rank=%{x}<br>rating=%{y}<extra></extra>",
         "legendgroup": "12",
         "marker": {
          "color": "#2CA02C",
          "symbol": "circle"
         },
         "mode": "markers",
         "name": "12",
         "orientation": "v",
         "showlegend": false,
         "type": "scatter",
         "x": [
          13
         ],
         "xaxis": "x9",
         "y": [
          -0.6274402213670596
         ],
         "yaxis": "y9"
        },
        {
         "hovertemplate": "choc=12<br>person=14<br>rank=%{x}<br>rating=%{y}<extra></extra>",
         "legendgroup": "12",
         "marker": {
          "color": "#2CA02C",
          "symbol": "circle"
         },
         "mode": "markers",
         "name": "12",
         "orientation": "v",
         "showlegend": false,
         "type": "scatter",
         "x": [
          0
         ],
         "xaxis": "x10",
         "y": [
          3.5208901794336778
         ],
         "yaxis": "y10"
        },
        {
         "hovertemplate": "choc=12<br>person=15<br>rank=%{x}<br>rating=%{y}<extra></extra>",
         "legendgroup": "12",
         "marker": {
          "color": "#2CA02C",
          "symbol": "circle"
         },
         "mode": "markers",
         "name": "12",
         "orientation": "v",
         "showlegend": false,
         "type": "scatter",
         "x": [
          15
         ],
         "xaxis": "x",
         "y": [
          -2.218667525168467
         ],
         "yaxis": "y"
        },
        {
         "hovertemplate": "choc=12<br>person=16<br>rank=%{x}<br>rating=%{y}<extra></extra>",
         "legendgroup": "12",
         "marker": {
          "color": "#2CA02C",
          "symbol": "circle"
         },
         "mode": "markers",
         "name": "12",
         "orientation": "v",
         "showlegend": false,
         "type": "scatter",
         "x": [
          0
         ],
         "xaxis": "x2",
         "y": [
          7.035285612666551
         ],
         "yaxis": "y2"
        },
        {
         "hovertemplate": "choc=12<br>person=17<br>rank=%{x}<br>rating=%{y}<extra></extra>",
         "legendgroup": "12",
         "marker": {
          "color": "#2CA02C",
          "symbol": "circle"
         },
         "mode": "markers",
         "name": "12",
         "orientation": "v",
         "showlegend": false,
         "type": "scatter",
         "x": [
          0
         ],
         "xaxis": "x3",
         "y": [
          5.913097940603211
         ],
         "yaxis": "y3"
        },
        {
         "hovertemplate": "choc=12<br>person=18<br>rank=%{x}<br>rating=%{y}<extra></extra>",
         "legendgroup": "12",
         "marker": {
          "color": "#2CA02C",
          "symbol": "circle"
         },
         "mode": "markers",
         "name": "12",
         "orientation": "v",
         "showlegend": false,
         "type": "scatter",
         "x": [
          2
         ],
         "xaxis": "x4",
         "y": [
          1.4011285601389587
         ],
         "yaxis": "y4"
        },
        {
         "hovertemplate": "choc=12<br>person=19<br>rank=%{x}<br>rating=%{y}<extra></extra>",
         "legendgroup": "12",
         "marker": {
          "color": "#2CA02C",
          "symbol": "circle"
         },
         "mode": "markers",
         "name": "12",
         "orientation": "v",
         "showlegend": false,
         "type": "scatter",
         "x": [
          19
         ],
         "xaxis": "x5",
         "y": [
          -3.764708187518213
         ],
         "yaxis": "y5"
        },
        {
         "hovertemplate": "choc=13<br>person=0<br>rank=%{x}<br>rating=%{y}<extra></extra>",
         "legendgroup": "13",
         "marker": {
          "color": "#D62728",
          "symbol": "circle"
         },
         "mode": "markers",
         "name": "13",
         "orientation": "v",
         "showlegend": true,
         "type": "scatter",
         "x": [
          10
         ],
         "xaxis": "x16",
         "y": [
          0.6591845980819102
         ],
         "yaxis": "y16"
        },
        {
         "hovertemplate": "choc=13<br>person=1<br>rank=%{x}<br>rating=%{y}<extra></extra>",
         "legendgroup": "13",
         "marker": {
          "color": "#D62728",
          "symbol": "circle"
         },
         "mode": "markers",
         "name": "13",
         "orientation": "v",
         "showlegend": false,
         "type": "scatter",
         "x": [
          6
         ],
         "xaxis": "x17",
         "y": [
          0.18183155591968236
         ],
         "yaxis": "y17"
        },
        {
         "hovertemplate": "choc=13<br>person=2<br>rank=%{x}<br>rating=%{y}<extra></extra>",
         "legendgroup": "13",
         "marker": {
          "color": "#D62728",
          "symbol": "circle"
         },
         "mode": "markers",
         "name": "13",
         "orientation": "v",
         "showlegend": false,
         "type": "scatter",
         "x": [
          7
         ],
         "xaxis": "x18",
         "y": [
          0.8900378653746465
         ],
         "yaxis": "y18"
        },
        {
         "hovertemplate": "choc=13<br>person=3<br>rank=%{x}<br>rating=%{y}<extra></extra>",
         "legendgroup": "13",
         "marker": {
          "color": "#D62728",
          "symbol": "circle"
         },
         "mode": "markers",
         "name": "13",
         "orientation": "v",
         "showlegend": false,
         "type": "scatter",
         "x": [
          5
         ],
         "xaxis": "x19",
         "y": [
          1.1053326164652926
         ],
         "yaxis": "y19"
        },
        {
         "hovertemplate": "choc=13<br>person=4<br>rank=%{x}<br>rating=%{y}<extra></extra>",
         "legendgroup": "13",
         "marker": {
          "color": "#D62728",
          "symbol": "circle"
         },
         "mode": "markers",
         "name": "13",
         "orientation": "v",
         "showlegend": false,
         "type": "scatter",
         "x": [
          12
         ],
         "xaxis": "x20",
         "y": [
          -0.363170887795496
         ],
         "yaxis": "y20"
        },
        {
         "hovertemplate": "choc=13<br>person=5<br>rank=%{x}<br>rating=%{y}<extra></extra>",
         "legendgroup": "13",
         "marker": {
          "color": "#D62728",
          "symbol": "circle"
         },
         "mode": "markers",
         "name": "13",
         "orientation": "v",
         "showlegend": false,
         "type": "scatter",
         "x": [
          3
         ],
         "xaxis": "x11",
         "y": [
          2.4391319302817758
         ],
         "yaxis": "y11"
        },
        {
         "hovertemplate": "choc=13<br>person=6<br>rank=%{x}<br>rating=%{y}<extra></extra>",
         "legendgroup": "13",
         "marker": {
          "color": "#D62728",
          "symbol": "circle"
         },
         "mode": "markers",
         "name": "13",
         "orientation": "v",
         "showlegend": false,
         "type": "scatter",
         "x": [
          0
         ],
         "xaxis": "x12",
         "y": [
          3.035310667261067
         ],
         "yaxis": "y12"
        },
        {
         "hovertemplate": "choc=13<br>person=7<br>rank=%{x}<br>rating=%{y}<extra></extra>",
         "legendgroup": "13",
         "marker": {
          "color": "#D62728",
          "symbol": "circle"
         },
         "mode": "markers",
         "name": "13",
         "orientation": "v",
         "showlegend": false,
         "type": "scatter",
         "x": [
          4
         ],
         "xaxis": "x13",
         "y": [
          0.6976685804609495
         ],
         "yaxis": "y13"
        },
        {
         "hovertemplate": "choc=13<br>person=8<br>rank=%{x}<br>rating=%{y}<extra></extra>",
         "legendgroup": "13",
         "marker": {
          "color": "#D62728",
          "symbol": "circle"
         },
         "mode": "markers",
         "name": "13",
         "orientation": "v",
         "showlegend": false,
         "type": "scatter",
         "x": [
          7
         ],
         "xaxis": "x14",
         "y": [
          0.05781567463460835
         ],
         "yaxis": "y14"
        },
        {
         "hovertemplate": "choc=13<br>person=9<br>rank=%{x}<br>rating=%{y}<extra></extra>",
         "legendgroup": "13",
         "marker": {
          "color": "#D62728",
          "symbol": "circle"
         },
         "mode": "markers",
         "name": "13",
         "orientation": "v",
         "showlegend": false,
         "type": "scatter",
         "x": [
          4
         ],
         "xaxis": "x15",
         "y": [
          2.061019948379042
         ],
         "yaxis": "y15"
        },
        {
         "hovertemplate": "choc=13<br>person=10<br>rank=%{x}<br>rating=%{y}<extra></extra>",
         "legendgroup": "13",
         "marker": {
          "color": "#D62728",
          "symbol": "circle"
         },
         "mode": "markers",
         "name": "13",
         "orientation": "v",
         "showlegend": false,
         "type": "scatter",
         "x": [
          4
         ],
         "xaxis": "x6",
         "y": [
          1.8394070347680875
         ],
         "yaxis": "y6"
        },
        {
         "hovertemplate": "choc=13<br>person=11<br>rank=%{x}<br>rating=%{y}<extra></extra>",
         "legendgroup": "13",
         "marker": {
          "color": "#D62728",
          "symbol": "circle"
         },
         "mode": "markers",
         "name": "13",
         "orientation": "v",
         "showlegend": false,
         "type": "scatter",
         "x": [
          2
         ],
         "xaxis": "x7",
         "y": [
          3.4721023936580107
         ],
         "yaxis": "y7"
        },
        {
         "hovertemplate": "choc=13<br>person=12<br>rank=%{x}<br>rating=%{y}<extra></extra>",
         "legendgroup": "13",
         "marker": {
          "color": "#D62728",
          "symbol": "circle"
         },
         "mode": "markers",
         "name": "13",
         "orientation": "v",
         "showlegend": false,
         "type": "scatter",
         "x": [
          17
         ],
         "xaxis": "x8",
         "y": [
          -4.195542163639716
         ],
         "yaxis": "y8"
        },
        {
         "hovertemplate": "choc=13<br>person=13<br>rank=%{x}<br>rating=%{y}<extra></extra>",
         "legendgroup": "13",
         "marker": {
          "color": "#D62728",
          "symbol": "circle"
         },
         "mode": "markers",
         "name": "13",
         "orientation": "v",
         "showlegend": false,
         "type": "scatter",
         "x": [
          2
         ],
         "xaxis": "x9",
         "y": [
          2.6159021150788826
         ],
         "yaxis": "y9"
        },
        {
         "hovertemplate": "choc=13<br>person=14<br>rank=%{x}<br>rating=%{y}<extra></extra>",
         "legendgroup": "13",
         "marker": {
          "color": "#D62728",
          "symbol": "circle"
         },
         "mode": "markers",
         "name": "13",
         "orientation": "v",
         "showlegend": false,
         "type": "scatter",
         "x": [
          12
         ],
         "xaxis": "x10",
         "y": [
          -1.5635692624853739
         ],
         "yaxis": "y10"
        },
        {
         "hovertemplate": "choc=13<br>person=15<br>rank=%{x}<br>rating=%{y}<extra></extra>",
         "legendgroup": "13",
         "marker": {
          "color": "#D62728",
          "symbol": "circle"
         },
         "mode": "markers",
         "name": "13",
         "orientation": "v",
         "showlegend": false,
         "type": "scatter",
         "x": [
          6
         ],
         "xaxis": "x",
         "y": [
          0.5803381626511888
         ],
         "yaxis": "y"
        },
        {
         "hovertemplate": "choc=13<br>person=16<br>rank=%{x}<br>rating=%{y}<extra></extra>",
         "legendgroup": "13",
         "marker": {
          "color": "#D62728",
          "symbol": "circle"
         },
         "mode": "markers",
         "name": "13",
         "orientation": "v",
         "showlegend": false,
         "type": "scatter",
         "x": [
          2
         ],
         "xaxis": "x2",
         "y": [
          2.5226922470614705
         ],
         "yaxis": "y2"
        },
        {
         "hovertemplate": "choc=13<br>person=17<br>rank=%{x}<br>rating=%{y}<extra></extra>",
         "legendgroup": "13",
         "marker": {
          "color": "#D62728",
          "symbol": "circle"
         },
         "mode": "markers",
         "name": "13",
         "orientation": "v",
         "showlegend": false,
         "type": "scatter",
         "x": [
          7
         ],
         "xaxis": "x3",
         "y": [
          -0.3666728407482964
         ],
         "yaxis": "y3"
        },
        {
         "hovertemplate": "choc=13<br>person=18<br>rank=%{x}<br>rating=%{y}<extra></extra>",
         "legendgroup": "13",
         "marker": {
          "color": "#D62728",
          "symbol": "circle"
         },
         "mode": "markers",
         "name": "13",
         "orientation": "v",
         "showlegend": false,
         "type": "scatter",
         "x": [
          10
         ],
         "xaxis": "x4",
         "y": [
          -0.005540441412232644
         ],
         "yaxis": "y4"
        },
        {
         "hovertemplate": "choc=13<br>person=19<br>rank=%{x}<br>rating=%{y}<extra></extra>",
         "legendgroup": "13",
         "marker": {
          "color": "#D62728",
          "symbol": "circle"
         },
         "mode": "markers",
         "name": "13",
         "orientation": "v",
         "showlegend": false,
         "type": "scatter",
         "x": [
          2
         ],
         "xaxis": "x5",
         "y": [
          3.6660022776707777
         ],
         "yaxis": "y5"
        },
        {
         "hovertemplate": "choc=14<br>person=0<br>rank=%{x}<br>rating=%{y}<extra></extra>",
         "legendgroup": "14",
         "marker": {
          "color": "#9467BD",
          "symbol": "circle"
         },
         "mode": "markers",
         "name": "14",
         "orientation": "v",
         "showlegend": true,
         "type": "scatter",
         "x": [
          18
         ],
         "xaxis": "x16",
         "y": [
          -4.228674050727697
         ],
         "yaxis": "y16"
        },
        {
         "hovertemplate": "choc=14<br>person=1<br>rank=%{x}<br>rating=%{y}<extra></extra>",
         "legendgroup": "14",
         "marker": {
          "color": "#9467BD",
          "symbol": "circle"
         },
         "mode": "markers",
         "name": "14",
         "orientation": "v",
         "showlegend": false,
         "type": "scatter",
         "x": [
          8
         ],
         "xaxis": "x17",
         "y": [
          -0.08880231550853468
         ],
         "yaxis": "y17"
        },
        {
         "hovertemplate": "choc=14<br>person=2<br>rank=%{x}<br>rating=%{y}<extra></extra>",
         "legendgroup": "14",
         "marker": {
          "color": "#9467BD",
          "symbol": "circle"
         },
         "mode": "markers",
         "name": "14",
         "orientation": "v",
         "showlegend": false,
         "type": "scatter",
         "x": [
          5
         ],
         "xaxis": "x18",
         "y": [
          1.4718754602038893
         ],
         "yaxis": "y18"
        },
        {
         "hovertemplate": "choc=14<br>person=3<br>rank=%{x}<br>rating=%{y}<extra></extra>",
         "legendgroup": "14",
         "marker": {
          "color": "#9467BD",
          "symbol": "circle"
         },
         "mode": "markers",
         "name": "14",
         "orientation": "v",
         "showlegend": false,
         "type": "scatter",
         "x": [
          11
         ],
         "xaxis": "x19",
         "y": [
          -0.621473603958081
         ],
         "yaxis": "y19"
        },
        {
         "hovertemplate": "choc=14<br>person=4<br>rank=%{x}<br>rating=%{y}<extra></extra>",
         "legendgroup": "14",
         "marker": {
          "color": "#9467BD",
          "symbol": "circle"
         },
         "mode": "markers",
         "name": "14",
         "orientation": "v",
         "showlegend": false,
         "type": "scatter",
         "x": [
          10
         ],
         "xaxis": "x20",
         "y": [
          -0.11293435245457095
         ],
         "yaxis": "y20"
        },
        {
         "hovertemplate": "choc=14<br>person=5<br>rank=%{x}<br>rating=%{y}<extra></extra>",
         "legendgroup": "14",
         "marker": {
          "color": "#9467BD",
          "symbol": "circle"
         },
         "mode": "markers",
         "name": "14",
         "orientation": "v",
         "showlegend": false,
         "type": "scatter",
         "x": [
          11
         ],
         "xaxis": "x11",
         "y": [
          -0.11408652454087975
         ],
         "yaxis": "y11"
        },
        {
         "hovertemplate": "choc=14<br>person=6<br>rank=%{x}<br>rating=%{y}<extra></extra>",
         "legendgroup": "14",
         "marker": {
          "color": "#9467BD",
          "symbol": "circle"
         },
         "mode": "markers",
         "name": "14",
         "orientation": "v",
         "showlegend": false,
         "type": "scatter",
         "x": [
          15
         ],
         "xaxis": "x12",
         "y": [
          -2.8561950581313766
         ],
         "yaxis": "y12"
        },
        {
         "hovertemplate": "choc=14<br>person=7<br>rank=%{x}<br>rating=%{y}<extra></extra>",
         "legendgroup": "14",
         "marker": {
          "color": "#9467BD",
          "symbol": "circle"
         },
         "mode": "markers",
         "name": "14",
         "orientation": "v",
         "showlegend": false,
         "type": "scatter",
         "x": [
          14
         ],
         "xaxis": "x13",
         "y": [
          -1.840675722420154
         ],
         "yaxis": "y13"
        },
        {
         "hovertemplate": "choc=14<br>person=8<br>rank=%{x}<br>rating=%{y}<extra></extra>",
         "legendgroup": "14",
         "marker": {
          "color": "#9467BD",
          "symbol": "circle"
         },
         "mode": "markers",
         "name": "14",
         "orientation": "v",
         "showlegend": false,
         "type": "scatter",
         "x": [
          12
         ],
         "xaxis": "x14",
         "y": [
          -1.0724565308701877
         ],
         "yaxis": "y14"
        },
        {
         "hovertemplate": "choc=14<br>person=9<br>rank=%{x}<br>rating=%{y}<extra></extra>",
         "legendgroup": "14",
         "marker": {
          "color": "#9467BD",
          "symbol": "circle"
         },
         "mode": "markers",
         "name": "14",
         "orientation": "v",
         "showlegend": false,
         "type": "scatter",
         "x": [
          7
         ],
         "xaxis": "x15",
         "y": [
          0.20066582678102773
         ],
         "yaxis": "y15"
        },
        {
         "hovertemplate": "choc=14<br>person=10<br>rank=%{x}<br>rating=%{y}<extra></extra>",
         "legendgroup": "14",
         "marker": {
          "color": "#9467BD",
          "symbol": "circle"
         },
         "mode": "markers",
         "name": "14",
         "orientation": "v",
         "showlegend": false,
         "type": "scatter",
         "x": [
          5
         ],
         "xaxis": "x6",
         "y": [
          1.292657272869184
         ],
         "yaxis": "y6"
        },
        {
         "hovertemplate": "choc=14<br>person=11<br>rank=%{x}<br>rating=%{y}<extra></extra>",
         "legendgroup": "14",
         "marker": {
          "color": "#9467BD",
          "symbol": "circle"
         },
         "mode": "markers",
         "name": "14",
         "orientation": "v",
         "showlegend": false,
         "type": "scatter",
         "x": [
          13
         ],
         "xaxis": "x7",
         "y": [
          -0.2883532542393492
         ],
         "yaxis": "y7"
        },
        {
         "hovertemplate": "choc=14<br>person=12<br>rank=%{x}<br>rating=%{y}<extra></extra>",
         "legendgroup": "14",
         "marker": {
          "color": "#9467BD",
          "symbol": "circle"
         },
         "mode": "markers",
         "name": "14",
         "orientation": "v",
         "showlegend": false,
         "type": "scatter",
         "x": [
          10
         ],
         "xaxis": "x8",
         "y": [
          -0.26875178351834994
         ],
         "yaxis": "y8"
        },
        {
         "hovertemplate": "choc=14<br>person=13<br>rank=%{x}<br>rating=%{y}<extra></extra>",
         "legendgroup": "14",
         "marker": {
          "color": "#9467BD",
          "symbol": "circle"
         },
         "mode": "markers",
         "name": "14",
         "orientation": "v",
         "showlegend": false,
         "type": "scatter",
         "x": [
          6
         ],
         "xaxis": "x9",
         "y": [
          1.4608775898555815
         ],
         "yaxis": "y9"
        },
        {
         "hovertemplate": "choc=14<br>person=14<br>rank=%{x}<br>rating=%{y}<extra></extra>",
         "legendgroup": "14",
         "marker": {
          "color": "#9467BD",
          "symbol": "circle"
         },
         "mode": "markers",
         "name": "14",
         "orientation": "v",
         "showlegend": false,
         "type": "scatter",
         "x": [
          19
         ],
         "xaxis": "x10",
         "y": [
          -3.8182565787063076
         ],
         "yaxis": "y10"
        },
        {
         "hovertemplate": "choc=14<br>person=15<br>rank=%{x}<br>rating=%{y}<extra></extra>",
         "legendgroup": "14",
         "marker": {
          "color": "#9467BD",
          "symbol": "circle"
         },
         "mode": "markers",
         "name": "14",
         "orientation": "v",
         "showlegend": false,
         "type": "scatter",
         "x": [
          16
         ],
         "xaxis": "x",
         "y": [
          -3.011577386743525
         ],
         "yaxis": "y"
        },
        {
         "hovertemplate": "choc=14<br>person=16<br>rank=%{x}<br>rating=%{y}<extra></extra>",
         "legendgroup": "14",
         "marker": {
          "color": "#9467BD",
          "symbol": "circle"
         },
         "mode": "markers",
         "name": "14",
         "orientation": "v",
         "showlegend": false,
         "type": "scatter",
         "x": [
          15
         ],
         "xaxis": "x2",
         "y": [
          -3.462277965281036
         ],
         "yaxis": "y2"
        },
        {
         "hovertemplate": "choc=14<br>person=17<br>rank=%{x}<br>rating=%{y}<extra></extra>",
         "legendgroup": "14",
         "marker": {
          "color": "#9467BD",
          "symbol": "circle"
         },
         "mode": "markers",
         "name": "14",
         "orientation": "v",
         "showlegend": false,
         "type": "scatter",
         "x": [
          16
         ],
         "xaxis": "x3",
         "y": [
          -3.598731534134578
         ],
         "yaxis": "y3"
        },
        {
         "hovertemplate": "choc=14<br>person=18<br>rank=%{x}<br>rating=%{y}<extra></extra>",
         "legendgroup": "14",
         "marker": {
          "color": "#9467BD",
          "symbol": "circle"
         },
         "mode": "markers",
         "name": "14",
         "orientation": "v",
         "showlegend": false,
         "type": "scatter",
         "x": [
          17
         ],
         "xaxis": "x4",
         "y": [
          -2.0285334143700458
         ],
         "yaxis": "y4"
        },
        {
         "hovertemplate": "choc=14<br>person=19<br>rank=%{x}<br>rating=%{y}<extra></extra>",
         "legendgroup": "14",
         "marker": {
          "color": "#9467BD",
          "symbol": "circle"
         },
         "mode": "markers",
         "name": "14",
         "orientation": "v",
         "showlegend": false,
         "type": "scatter",
         "x": [
          8
         ],
         "xaxis": "x5",
         "y": [
          0.9153367072683445
         ],
         "yaxis": "y5"
        },
        {
         "hovertemplate": "choc=15<br>person=0<br>rank=%{x}<br>rating=%{y}<extra></extra>",
         "legendgroup": "15",
         "marker": {
          "color": "#8C564B",
          "symbol": "circle"
         },
         "mode": "markers",
         "name": "15",
         "orientation": "v",
         "showlegend": true,
         "type": "scatter",
         "x": [
          14
         ],
         "xaxis": "x16",
         "y": [
          -0.9201746064882073
         ],
         "yaxis": "y16"
        },
        {
         "hovertemplate": "choc=15<br>person=1<br>rank=%{x}<br>rating=%{y}<extra></extra>",
         "legendgroup": "15",
         "marker": {
          "color": "#8C564B",
          "symbol": "circle"
         },
         "mode": "markers",
         "name": "15",
         "orientation": "v",
         "showlegend": false,
         "type": "scatter",
         "x": [
          18
         ],
         "xaxis": "x17",
         "y": [
          -3.525647151594354
         ],
         "yaxis": "y17"
        },
        {
         "hovertemplate": "choc=15<br>person=2<br>rank=%{x}<br>rating=%{y}<extra></extra>",
         "legendgroup": "15",
         "marker": {
          "color": "#8C564B",
          "symbol": "circle"
         },
         "mode": "markers",
         "name": "15",
         "orientation": "v",
         "showlegend": false,
         "type": "scatter",
         "x": [
          11
         ],
         "xaxis": "x18",
         "y": [
          -0.7278403952241492
         ],
         "yaxis": "y18"
        },
        {
         "hovertemplate": "choc=15<br>person=3<br>rank=%{x}<br>rating=%{y}<extra></extra>",
         "legendgroup": "15",
         "marker": {
          "color": "#8C564B",
          "symbol": "circle"
         },
         "mode": "markers",
         "name": "15",
         "orientation": "v",
         "showlegend": false,
         "type": "scatter",
         "x": [
          14
         ],
         "xaxis": "x19",
         "y": [
          -1.7569117521072506
         ],
         "yaxis": "y19"
        },
        {
         "hovertemplate": "choc=15<br>person=4<br>rank=%{x}<br>rating=%{y}<extra></extra>",
         "legendgroup": "15",
         "marker": {
          "color": "#8C564B",
          "symbol": "circle"
         },
         "mode": "markers",
         "name": "15",
         "orientation": "v",
         "showlegend": false,
         "type": "scatter",
         "x": [
          7
         ],
         "xaxis": "x20",
         "y": [
          0.9629306518736014
         ],
         "yaxis": "y20"
        },
        {
         "hovertemplate": "choc=15<br>person=5<br>rank=%{x}<br>rating=%{y}<extra></extra>",
         "legendgroup": "15",
         "marker": {
          "color": "#8C564B",
          "symbol": "circle"
         },
         "mode": "markers",
         "name": "15",
         "orientation": "v",
         "showlegend": false,
         "type": "scatter",
         "x": [
          12
         ],
         "xaxis": "x11",
         "y": [
          -0.20797776247673938
         ],
         "yaxis": "y11"
        },
        {
         "hovertemplate": "choc=15<br>person=6<br>rank=%{x}<br>rating=%{y}<extra></extra>",
         "legendgroup": "15",
         "marker": {
          "color": "#8C564B",
          "symbol": "circle"
         },
         "mode": "markers",
         "name": "15",
         "orientation": "v",
         "showlegend": false,
         "type": "scatter",
         "x": [
          16
         ],
         "xaxis": "x12",
         "y": [
          -2.9400117914927772
         ],
         "yaxis": "y12"
        },
        {
         "hovertemplate": "choc=15<br>person=7<br>rank=%{x}<br>rating=%{y}<extra></extra>",
         "legendgroup": "15",
         "marker": {
          "color": "#8C564B",
          "symbol": "circle"
         },
         "mode": "markers",
         "name": "15",
         "orientation": "v",
         "showlegend": false,
         "type": "scatter",
         "x": [
          10
         ],
         "xaxis": "x13",
         "y": [
          -0.4209389837759446
         ],
         "yaxis": "y13"
        },
        {
         "hovertemplate": "choc=15<br>person=8<br>rank=%{x}<br>rating=%{y}<extra></extra>",
         "legendgroup": "15",
         "marker": {
          "color": "#8C564B",
          "symbol": "circle"
         },
         "mode": "markers",
         "name": "15",
         "orientation": "v",
         "showlegend": false,
         "type": "scatter",
         "x": [
          19
         ],
         "xaxis": "x14",
         "y": [
          -6.103052516404585
         ],
         "yaxis": "y14"
        },
        {
         "hovertemplate": "choc=15<br>person=9<br>rank=%{x}<br>rating=%{y}<extra></extra>",
         "legendgroup": "15",
         "marker": {
          "color": "#8C564B",
          "symbol": "circle"
         },
         "mode": "markers",
         "name": "15",
         "orientation": "v",
         "showlegend": false,
         "type": "scatter",
         "x": [
          19
         ],
         "xaxis": "x15",
         "y": [
          -3.131646657032798
         ],
         "yaxis": "y15"
        },
        {
         "hovertemplate": "choc=15<br>person=10<br>rank=%{x}<br>rating=%{y}<extra></extra>",
         "legendgroup": "15",
         "marker": {
          "color": "#8C564B",
          "symbol": "circle"
         },
         "mode": "markers",
         "name": "15",
         "orientation": "v",
         "showlegend": false,
         "type": "scatter",
         "x": [
          18
         ],
         "xaxis": "x6",
         "y": [
          -4.012403319621794
         ],
         "yaxis": "y6"
        },
        {
         "hovertemplate": "choc=15<br>person=11<br>rank=%{x}<br>rating=%{y}<extra></extra>",
         "legendgroup": "15",
         "marker": {
          "color": "#8C564B",
          "symbol": "circle"
         },
         "mode": "markers",
         "name": "15",
         "orientation": "v",
         "showlegend": false,
         "type": "scatter",
         "x": [
          3
         ],
         "xaxis": "x7",
         "y": [
          3.0610979590937246
         ],
         "yaxis": "y7"
        },
        {
         "hovertemplate": "choc=15<br>person=12<br>rank=%{x}<br>rating=%{y}<extra></extra>",
         "legendgroup": "15",
         "marker": {
          "color": "#8C564B",
          "symbol": "circle"
         },
         "mode": "markers",
         "name": "15",
         "orientation": "v",
         "showlegend": false,
         "type": "scatter",
         "x": [
          2
         ],
         "xaxis": "x8",
         "y": [
          0.9818837607299227
         ],
         "yaxis": "y8"
        },
        {
         "hovertemplate": "choc=15<br>person=13<br>rank=%{x}<br>rating=%{y}<extra></extra>",
         "legendgroup": "15",
         "marker": {
          "color": "#8C564B",
          "symbol": "circle"
         },
         "mode": "markers",
         "name": "15",
         "orientation": "v",
         "showlegend": false,
         "type": "scatter",
         "x": [
          7
         ],
         "xaxis": "x9",
         "y": [
          0.988072307343024
         ],
         "yaxis": "y9"
        },
        {
         "hovertemplate": "choc=15<br>person=14<br>rank=%{x}<br>rating=%{y}<extra></extra>",
         "legendgroup": "15",
         "marker": {
          "color": "#8C564B",
          "symbol": "circle"
         },
         "mode": "markers",
         "name": "15",
         "orientation": "v",
         "showlegend": false,
         "type": "scatter",
         "x": [
          4
         ],
         "xaxis": "x10",
         "y": [
          1.6897080079532083
         ],
         "yaxis": "y10"
        },
        {
         "hovertemplate": "choc=15<br>person=15<br>rank=%{x}<br>rating=%{y}<extra></extra>",
         "legendgroup": "15",
         "marker": {
          "color": "#8C564B",
          "symbol": "circle"
         },
         "mode": "markers",
         "name": "15",
         "orientation": "v",
         "showlegend": false,
         "type": "scatter",
         "x": [
          19
         ],
         "xaxis": "x",
         "y": [
          -6.2848559969979565
         ],
         "yaxis": "y"
        },
        {
         "hovertemplate": "choc=15<br>person=16<br>rank=%{x}<br>rating=%{y}<extra></extra>",
         "legendgroup": "15",
         "marker": {
          "color": "#8C564B",
          "symbol": "circle"
         },
         "mode": "markers",
         "name": "15",
         "orientation": "v",
         "showlegend": false,
         "type": "scatter",
         "x": [
          14
         ],
         "xaxis": "x2",
         "y": [
          -2.109238914522902
         ],
         "yaxis": "y2"
        },
        {
         "hovertemplate": "choc=15<br>person=17<br>rank=%{x}<br>rating=%{y}<extra></extra>",
         "legendgroup": "15",
         "marker": {
          "color": "#8C564B",
          "symbol": "circle"
         },
         "mode": "markers",
         "name": "15",
         "orientation": "v",
         "showlegend": false,
         "type": "scatter",
         "x": [
          19
         ],
         "xaxis": "x3",
         "y": [
          -5.771005367973725
         ],
         "yaxis": "y3"
        },
        {
         "hovertemplate": "choc=15<br>person=18<br>rank=%{x}<br>rating=%{y}<extra></extra>",
         "legendgroup": "15",
         "marker": {
          "color": "#8C564B",
          "symbol": "circle"
         },
         "mode": "markers",
         "name": "15",
         "orientation": "v",
         "showlegend": false,
         "type": "scatter",
         "x": [
          1
         ],
         "xaxis": "x4",
         "y": [
          1.640928354575525
         ],
         "yaxis": "y4"
        },
        {
         "hovertemplate": "choc=15<br>person=19<br>rank=%{x}<br>rating=%{y}<extra></extra>",
         "legendgroup": "15",
         "marker": {
          "color": "#8C564B",
          "symbol": "circle"
         },
         "mode": "markers",
         "name": "15",
         "orientation": "v",
         "showlegend": false,
         "type": "scatter",
         "x": [
          9
         ],
         "xaxis": "x5",
         "y": [
          0.5763075174656309
         ],
         "yaxis": "y5"
        },
        {
         "hovertemplate": "choc=16<br>person=0<br>rank=%{x}<br>rating=%{y}<extra></extra>",
         "legendgroup": "16",
         "marker": {
          "color": "#E377C2",
          "symbol": "circle"
         },
         "mode": "markers",
         "name": "16",
         "orientation": "v",
         "showlegend": true,
         "type": "scatter",
         "x": [
          8
         ],
         "xaxis": "x16",
         "y": [
          0.8849061466347677
         ],
         "yaxis": "y16"
        },
        {
         "hovertemplate": "choc=16<br>person=1<br>rank=%{x}<br>rating=%{y}<extra></extra>",
         "legendgroup": "16",
         "marker": {
          "color": "#E377C2",
          "symbol": "circle"
         },
         "mode": "markers",
         "name": "16",
         "orientation": "v",
         "showlegend": false,
         "type": "scatter",
         "x": [
          4
         ],
         "xaxis": "x17",
         "y": [
          0.9749891153568887
         ],
         "yaxis": "y17"
        },
        {
         "hovertemplate": "choc=16<br>person=2<br>rank=%{x}<br>rating=%{y}<extra></extra>",
         "legendgroup": "16",
         "marker": {
          "color": "#E377C2",
          "symbol": "circle"
         },
         "mode": "markers",
         "name": "16",
         "orientation": "v",
         "showlegend": false,
         "type": "scatter",
         "x": [
          16
         ],
         "xaxis": "x18",
         "y": [
          -2.65700609685957
         ],
         "yaxis": "y18"
        },
        {
         "hovertemplate": "choc=16<br>person=3<br>rank=%{x}<br>rating=%{y}<extra></extra>",
         "legendgroup": "16",
         "marker": {
          "color": "#E377C2",
          "symbol": "circle"
         },
         "mode": "markers",
         "name": "16",
         "orientation": "v",
         "showlegend": false,
         "type": "scatter",
         "x": [
          10
         ],
         "xaxis": "x19",
         "y": [
          -0.43731527034169554
         ],
         "yaxis": "y19"
        },
        {
         "hovertemplate": "choc=16<br>person=4<br>rank=%{x}<br>rating=%{y}<extra></extra>",
         "legendgroup": "16",
         "marker": {
          "color": "#E377C2",
          "symbol": "circle"
         },
         "mode": "markers",
         "name": "16",
         "orientation": "v",
         "showlegend": false,
         "type": "scatter",
         "x": [
          14
         ],
         "xaxis": "x20",
         "y": [
          -0.5314992499516498
         ],
         "yaxis": "y20"
        },
        {
         "hovertemplate": "choc=16<br>person=5<br>rank=%{x}<br>rating=%{y}<extra></extra>",
         "legendgroup": "16",
         "marker": {
          "color": "#E377C2",
          "symbol": "circle"
         },
         "mode": "markers",
         "name": "16",
         "orientation": "v",
         "showlegend": false,
         "type": "scatter",
         "x": [
          15
         ],
         "xaxis": "x11",
         "y": [
          -0.5921302748617046
         ],
         "yaxis": "y11"
        },
        {
         "hovertemplate": "choc=16<br>person=6<br>rank=%{x}<br>rating=%{y}<extra></extra>",
         "legendgroup": "16",
         "marker": {
          "color": "#E377C2",
          "symbol": "circle"
         },
         "mode": "markers",
         "name": "16",
         "orientation": "v",
         "showlegend": false,
         "type": "scatter",
         "x": [
          17
         ],
         "xaxis": "x12",
         "y": [
          -3.4392742510001293
         ],
         "yaxis": "y12"
        },
        {
         "hovertemplate": "choc=16<br>person=7<br>rank=%{x}<br>rating=%{y}<extra></extra>",
         "legendgroup": "16",
         "marker": {
          "color": "#E377C2",
          "symbol": "circle"
         },
         "mode": "markers",
         "name": "16",
         "orientation": "v",
         "showlegend": false,
         "type": "scatter",
         "x": [
          12
         ],
         "xaxis": "x13",
         "y": [
          -1.4248072131383482
         ],
         "yaxis": "y13"
        },
        {
         "hovertemplate": "choc=16<br>person=8<br>rank=%{x}<br>rating=%{y}<extra></extra>",
         "legendgroup": "16",
         "marker": {
          "color": "#E377C2",
          "symbol": "circle"
         },
         "mode": "markers",
         "name": "16",
         "orientation": "v",
         "showlegend": false,
         "type": "scatter",
         "x": [
          11
         ],
         "xaxis": "x14",
         "y": [
          -1.028485841563572
         ],
         "yaxis": "y14"
        },
        {
         "hovertemplate": "choc=16<br>person=9<br>rank=%{x}<br>rating=%{y}<extra></extra>",
         "legendgroup": "16",
         "marker": {
          "color": "#E377C2",
          "symbol": "circle"
         },
         "mode": "markers",
         "name": "16",
         "orientation": "v",
         "showlegend": false,
         "type": "scatter",
         "x": [
          16
         ],
         "xaxis": "x15",
         "y": [
          -2.6853036601071194
         ],
         "yaxis": "y15"
        },
        {
         "hovertemplate": "choc=16<br>person=10<br>rank=%{x}<br>rating=%{y}<extra></extra>",
         "legendgroup": "16",
         "marker": {
          "color": "#E377C2",
          "symbol": "circle"
         },
         "mode": "markers",
         "name": "16",
         "orientation": "v",
         "showlegend": false,
         "type": "scatter",
         "x": [
          0
         ],
         "xaxis": "x6",
         "y": [
          4.543462263812017
         ],
         "yaxis": "y6"
        },
        {
         "hovertemplate": "choc=16<br>person=11<br>rank=%{x}<br>rating=%{y}<extra></extra>",
         "legendgroup": "16",
         "marker": {
          "color": "#E377C2",
          "symbol": "circle"
         },
         "mode": "markers",
         "name": "16",
         "orientation": "v",
         "showlegend": false,
         "type": "scatter",
         "x": [
          11
         ],
         "xaxis": "x7",
         "y": [
          -0.18409295110540647
         ],
         "yaxis": "y7"
        },
        {
         "hovertemplate": "choc=16<br>person=12<br>rank=%{x}<br>rating=%{y}<extra></extra>",
         "legendgroup": "16",
         "marker": {
          "color": "#E377C2",
          "symbol": "circle"
         },
         "mode": "markers",
         "name": "16",
         "orientation": "v",
         "showlegend": false,
         "type": "scatter",
         "x": [
          16
         ],
         "xaxis": "x8",
         "y": [
          -4.002418401832185
         ],
         "yaxis": "y8"
        },
        {
         "hovertemplate": "choc=16<br>person=13<br>rank=%{x}<br>rating=%{y}<extra></extra>",
         "legendgroup": "16",
         "marker": {
          "color": "#E377C2",
          "symbol": "circle"
         },
         "mode": "markers",
         "name": "16",
         "orientation": "v",
         "showlegend": false,
         "type": "scatter",
         "x": [
          10
         ],
         "xaxis": "x9",
         "y": [
          -0.0075500279552156435
         ],
         "yaxis": "y9"
        },
        {
         "hovertemplate": "choc=16<br>person=14<br>rank=%{x}<br>rating=%{y}<extra></extra>",
         "legendgroup": "16",
         "marker": {
          "color": "#E377C2",
          "symbol": "circle"
         },
         "mode": "markers",
         "name": "16",
         "orientation": "v",
         "showlegend": false,
         "type": "scatter",
         "x": [
          18
         ],
         "xaxis": "x10",
         "y": [
          -3.752430154287722
         ],
         "yaxis": "y10"
        },
        {
         "hovertemplate": "choc=16<br>person=15<br>rank=%{x}<br>rating=%{y}<extra></extra>",
         "legendgroup": "16",
         "marker": {
          "color": "#E377C2",
          "symbol": "circle"
         },
         "mode": "markers",
         "name": "16",
         "orientation": "v",
         "showlegend": false,
         "type": "scatter",
         "x": [
          7
         ],
         "xaxis": "x",
         "y": [
          -0.812105186420173
         ],
         "yaxis": "y"
        },
        {
         "hovertemplate": "choc=16<br>person=16<br>rank=%{x}<br>rating=%{y}<extra></extra>",
         "legendgroup": "16",
         "marker": {
          "color": "#E377C2",
          "symbol": "circle"
         },
         "mode": "markers",
         "name": "16",
         "orientation": "v",
         "showlegend": false,
         "type": "scatter",
         "x": [
          18
         ],
         "xaxis": "x2",
         "y": [
          -5.385917550424756
         ],
         "yaxis": "y2"
        },
        {
         "hovertemplate": "choc=16<br>person=17<br>rank=%{x}<br>rating=%{y}<extra></extra>",
         "legendgroup": "16",
         "marker": {
          "color": "#E377C2",
          "symbol": "circle"
         },
         "mode": "markers",
         "name": "16",
         "orientation": "v",
         "showlegend": false,
         "type": "scatter",
         "x": [
          14
         ],
         "xaxis": "x3",
         "y": [
          -2.9896739830013974
         ],
         "yaxis": "y3"
        },
        {
         "hovertemplate": "choc=16<br>person=18<br>rank=%{x}<br>rating=%{y}<extra></extra>",
         "legendgroup": "16",
         "marker": {
          "color": "#E377C2",
          "symbol": "circle"
         },
         "mode": "markers",
         "name": "16",
         "orientation": "v",
         "showlegend": false,
         "type": "scatter",
         "x": [
          6
         ],
         "xaxis": "x4",
         "y": [
          0.6879337519825798
         ],
         "yaxis": "y4"
        },
        {
         "hovertemplate": "choc=16<br>person=19<br>rank=%{x}<br>rating=%{y}<extra></extra>",
         "legendgroup": "16",
         "marker": {
          "color": "#E377C2",
          "symbol": "circle"
         },
         "mode": "markers",
         "name": "16",
         "orientation": "v",
         "showlegend": false,
         "type": "scatter",
         "x": [
          15
         ],
         "xaxis": "x5",
         "y": [
          -2.3536401589283726
         ],
         "yaxis": "y5"
        },
        {
         "hovertemplate": "choc=17<br>person=0<br>rank=%{x}<br>rating=%{y}<extra></extra>",
         "legendgroup": "17",
         "marker": {
          "color": "#7F7F7F",
          "symbol": "circle"
         },
         "mode": "markers",
         "name": "17",
         "orientation": "v",
         "showlegend": true,
         "type": "scatter",
         "x": [
          13
         ],
         "xaxis": "x16",
         "y": [
          -0.24754513286373353
         ],
         "yaxis": "y16"
        },
        {
         "hovertemplate": "choc=17<br>person=1<br>rank=%{x}<br>rating=%{y}<extra></extra>",
         "legendgroup": "17",
         "marker": {
          "color": "#7F7F7F",
          "symbol": "circle"
         },
         "mode": "markers",
         "name": "17",
         "orientation": "v",
         "showlegend": false,
         "type": "scatter",
         "x": [
          10
         ],
         "xaxis": "x17",
         "y": [
          -0.4763973512636537
         ],
         "yaxis": "y17"
        },
        {
         "hovertemplate": "choc=17<br>person=2<br>rank=%{x}<br>rating=%{y}<extra></extra>",
         "legendgroup": "17",
         "marker": {
          "color": "#7F7F7F",
          "symbol": "circle"
         },
         "mode": "markers",
         "name": "17",
         "orientation": "v",
         "showlegend": false,
         "type": "scatter",
         "x": [
          6
         ],
         "xaxis": "x18",
         "y": [
          0.9991070965518785
         ],
         "yaxis": "y18"
        },
        {
         "hovertemplate": "choc=17<br>person=3<br>rank=%{x}<br>rating=%{y}<extra></extra>",
         "legendgroup": "17",
         "marker": {
          "color": "#7F7F7F",
          "symbol": "circle"
         },
         "mode": "markers",
         "name": "17",
         "orientation": "v",
         "showlegend": false,
         "type": "scatter",
         "x": [
          9
         ],
         "xaxis": "x19",
         "y": [
          -0.14664461194108308
         ],
         "yaxis": "y19"
        },
        {
         "hovertemplate": "choc=17<br>person=4<br>rank=%{x}<br>rating=%{y}<extra></extra>",
         "legendgroup": "17",
         "marker": {
          "color": "#7F7F7F",
          "symbol": "circle"
         },
         "mode": "markers",
         "name": "17",
         "orientation": "v",
         "showlegend": false,
         "type": "scatter",
         "x": [
          6
         ],
         "xaxis": "x20",
         "y": [
          1.6364201718137432
         ],
         "yaxis": "y20"
        },
        {
         "hovertemplate": "choc=17<br>person=5<br>rank=%{x}<br>rating=%{y}<extra></extra>",
         "legendgroup": "17",
         "marker": {
          "color": "#7F7F7F",
          "symbol": "circle"
         },
         "mode": "markers",
         "name": "17",
         "orientation": "v",
         "showlegend": false,
         "type": "scatter",
         "x": [
          4
         ],
         "xaxis": "x11",
         "y": [
          2.1220423515941134
         ],
         "yaxis": "y11"
        },
        {
         "hovertemplate": "choc=17<br>person=6<br>rank=%{x}<br>rating=%{y}<extra></extra>",
         "legendgroup": "17",
         "marker": {
          "color": "#7F7F7F",
          "symbol": "circle"
         },
         "mode": "markers",
         "name": "17",
         "orientation": "v",
         "showlegend": false,
         "type": "scatter",
         "x": [
          6
         ],
         "xaxis": "x12",
         "y": [
          -0.37859717471091314
         ],
         "yaxis": "y12"
        },
        {
         "hovertemplate": "choc=17<br>person=7<br>rank=%{x}<br>rating=%{y}<extra></extra>",
         "legendgroup": "17",
         "marker": {
          "color": "#7F7F7F",
          "symbol": "circle"
         },
         "mode": "markers",
         "name": "17",
         "orientation": "v",
         "showlegend": false,
         "type": "scatter",
         "x": [
          7
         ],
         "xaxis": "x13",
         "y": [
          0.4166429082350772
         ],
         "yaxis": "y13"
        },
        {
         "hovertemplate": "choc=17<br>person=8<br>rank=%{x}<br>rating=%{y}<extra></extra>",
         "legendgroup": "17",
         "marker": {
          "color": "#7F7F7F",
          "symbol": "circle"
         },
         "mode": "markers",
         "name": "17",
         "orientation": "v",
         "showlegend": false,
         "type": "scatter",
         "x": [
          2
         ],
         "xaxis": "x14",
         "y": [
          2.219624007952846
         ],
         "yaxis": "y14"
        },
        {
         "hovertemplate": "choc=17<br>person=9<br>rank=%{x}<br>rating=%{y}<extra></extra>",
         "legendgroup": "17",
         "marker": {
          "color": "#7F7F7F",
          "symbol": "circle"
         },
         "mode": "markers",
         "name": "17",
         "orientation": "v",
         "showlegend": false,
         "type": "scatter",
         "x": [
          15
         ],
         "xaxis": "x15",
         "y": [
          -2.200204537056946
         ],
         "yaxis": "y15"
        },
        {
         "hovertemplate": "choc=17<br>person=10<br>rank=%{x}<br>rating=%{y}<extra></extra>",
         "legendgroup": "17",
         "marker": {
          "color": "#7F7F7F",
          "symbol": "circle"
         },
         "mode": "markers",
         "name": "17",
         "orientation": "v",
         "showlegend": false,
         "type": "scatter",
         "x": [
          11
         ],
         "xaxis": "x6",
         "y": [
          0.1886431391155884
         ],
         "yaxis": "y6"
        },
        {
         "hovertemplate": "choc=17<br>person=11<br>rank=%{x}<br>rating=%{y}<extra></extra>",
         "legendgroup": "17",
         "marker": {
          "color": "#7F7F7F",
          "symbol": "circle"
         },
         "mode": "markers",
         "name": "17",
         "orientation": "v",
         "showlegend": false,
         "type": "scatter",
         "x": [
          16
         ],
         "xaxis": "x7",
         "y": [
          -1.4728202746229977
         ],
         "yaxis": "y7"
        },
        {
         "hovertemplate": "choc=17<br>person=12<br>rank=%{x}<br>rating=%{y}<extra></extra>",
         "legendgroup": "17",
         "marker": {
          "color": "#7F7F7F",
          "symbol": "circle"
         },
         "mode": "markers",
         "name": "17",
         "orientation": "v",
         "showlegend": false,
         "type": "scatter",
         "x": [
          14
         ],
         "xaxis": "x8",
         "y": [
          -2.82977812770405
         ],
         "yaxis": "y8"
        },
        {
         "hovertemplate": "choc=17<br>person=13<br>rank=%{x}<br>rating=%{y}<extra></extra>",
         "legendgroup": "17",
         "marker": {
          "color": "#7F7F7F",
          "symbol": "circle"
         },
         "mode": "markers",
         "name": "17",
         "orientation": "v",
         "showlegend": false,
         "type": "scatter",
         "x": [
          8
         ],
         "xaxis": "x9",
         "y": [
          0.4687343192141715
         ],
         "yaxis": "y9"
        },
        {
         "hovertemplate": "choc=17<br>person=14<br>rank=%{x}<br>rating=%{y}<extra></extra>",
         "legendgroup": "17",
         "marker": {
          "color": "#7F7F7F",
          "symbol": "circle"
         },
         "mode": "markers",
         "name": "17",
         "orientation": "v",
         "showlegend": false,
         "type": "scatter",
         "x": [
          9
         ],
         "xaxis": "x10",
         "y": [
          -0.338725033185425
         ],
         "yaxis": "y10"
        },
        {
         "hovertemplate": "choc=17<br>person=15<br>rank=%{x}<br>rating=%{y}<extra></extra>",
         "legendgroup": "17",
         "marker": {
          "color": "#7F7F7F",
          "symbol": "circle"
         },
         "mode": "markers",
         "name": "17",
         "orientation": "v",
         "showlegend": false,
         "type": "scatter",
         "x": [
          12
         ],
         "xaxis": "x",
         "y": [
          -1.7350237167303302
         ],
         "yaxis": "y"
        },
        {
         "hovertemplate": "choc=17<br>person=16<br>rank=%{x}<br>rating=%{y}<extra></extra>",
         "legendgroup": "17",
         "marker": {
          "color": "#7F7F7F",
          "symbol": "circle"
         },
         "mode": "markers",
         "name": "17",
         "orientation": "v",
         "showlegend": false,
         "type": "scatter",
         "x": [
          3
         ],
         "xaxis": "x2",
         "y": [
          2.518522654845686
         ],
         "yaxis": "y2"
        },
        {
         "hovertemplate": "choc=17<br>person=17<br>rank=%{x}<br>rating=%{y}<extra></extra>",
         "legendgroup": "17",
         "marker": {
          "color": "#7F7F7F",
          "symbol": "circle"
         },
         "mode": "markers",
         "name": "17",
         "orientation": "v",
         "showlegend": false,
         "type": "scatter",
         "x": [
          13
         ],
         "xaxis": "x3",
         "y": [
          -2.5641372242323524
         ],
         "yaxis": "y3"
        },
        {
         "hovertemplate": "choc=17<br>person=18<br>rank=%{x}<br>rating=%{y}<extra></extra>",
         "legendgroup": "17",
         "marker": {
          "color": "#7F7F7F",
          "symbol": "circle"
         },
         "mode": "markers",
         "name": "17",
         "orientation": "v",
         "showlegend": false,
         "type": "scatter",
         "x": [
          12
         ],
         "xaxis": "x4",
         "y": [
          -1.1844715616355876
         ],
         "yaxis": "y4"
        },
        {
         "hovertemplate": "choc=17<br>person=19<br>rank=%{x}<br>rating=%{y}<extra></extra>",
         "legendgroup": "17",
         "marker": {
          "color": "#7F7F7F",
          "symbol": "circle"
         },
         "mode": "markers",
         "name": "17",
         "orientation": "v",
         "showlegend": false,
         "type": "scatter",
         "x": [
          14
         ],
         "xaxis": "x5",
         "y": [
          -1.533767398400906
         ],
         "yaxis": "y5"
        },
        {
         "hovertemplate": "choc=18<br>person=0<br>rank=%{x}<br>rating=%{y}<extra></extra>",
         "legendgroup": "18",
         "marker": {
          "color": "#BCBD22",
          "symbol": "circle"
         },
         "mode": "markers",
         "name": "18",
         "orientation": "v",
         "showlegend": true,
         "type": "scatter",
         "x": [
          2
         ],
         "xaxis": "x16",
         "y": [
          3.2134780765928017
         ],
         "yaxis": "y16"
        },
        {
         "hovertemplate": "choc=18<br>person=1<br>rank=%{x}<br>rating=%{y}<extra></extra>",
         "legendgroup": "18",
         "marker": {
          "color": "#BCBD22",
          "symbol": "circle"
         },
         "mode": "markers",
         "name": "18",
         "orientation": "v",
         "showlegend": false,
         "type": "scatter",
         "x": [
          0
         ],
         "xaxis": "x17",
         "y": [
          10.821149820582278
         ],
         "yaxis": "y17"
        },
        {
         "hovertemplate": "choc=18<br>person=2<br>rank=%{x}<br>rating=%{y}<extra></extra>",
         "legendgroup": "18",
         "marker": {
          "color": "#BCBD22",
          "symbol": "circle"
         },
         "mode": "markers",
         "name": "18",
         "orientation": "v",
         "showlegend": false,
         "type": "scatter",
         "x": [
          12
         ],
         "xaxis": "x18",
         "y": [
          -1.4276365888547038
         ],
         "yaxis": "y18"
        },
        {
         "hovertemplate": "choc=18<br>person=3<br>rank=%{x}<br>rating=%{y}<extra></extra>",
         "legendgroup": "18",
         "marker": {
          "color": "#BCBD22",
          "symbol": "circle"
         },
         "mode": "markers",
         "name": "18",
         "orientation": "v",
         "showlegend": false,
         "type": "scatter",
         "x": [
          17
         ],
         "xaxis": "x19",
         "y": [
          -3.54144755702885
         ],
         "yaxis": "y19"
        },
        {
         "hovertemplate": "choc=18<br>person=4<br>rank=%{x}<br>rating=%{y}<extra></extra>",
         "legendgroup": "18",
         "marker": {
          "color": "#BCBD22",
          "symbol": "circle"
         },
         "mode": "markers",
         "name": "18",
         "orientation": "v",
         "showlegend": false,
         "type": "scatter",
         "x": [
          8
         ],
         "xaxis": "x20",
         "y": [
          0.5672014871863703
         ],
         "yaxis": "y20"
        },
        {
         "hovertemplate": "choc=18<br>person=5<br>rank=%{x}<br>rating=%{y}<extra></extra>",
         "legendgroup": "18",
         "marker": {
          "color": "#BCBD22",
          "symbol": "circle"
         },
         "mode": "markers",
         "name": "18",
         "orientation": "v",
         "showlegend": false,
         "type": "scatter",
         "x": [
          14
         ],
         "xaxis": "x11",
         "y": [
          -0.3713497013843995
         ],
         "yaxis": "y11"
        },
        {
         "hovertemplate": "choc=18<br>person=6<br>rank=%{x}<br>rating=%{y}<extra></extra>",
         "legendgroup": "18",
         "marker": {
          "color": "#BCBD22",
          "symbol": "circle"
         },
         "mode": "markers",
         "name": "18",
         "orientation": "v",
         "showlegend": false,
         "type": "scatter",
         "x": [
          2
         ],
         "xaxis": "x12",
         "y": [
          1.1964766444401032
         ],
         "yaxis": "y12"
        },
        {
         "hovertemplate": "choc=18<br>person=7<br>rank=%{x}<br>rating=%{y}<extra></extra>",
         "legendgroup": "18",
         "marker": {
          "color": "#BCBD22",
          "symbol": "circle"
         },
         "mode": "markers",
         "name": "18",
         "orientation": "v",
         "showlegend": false,
         "type": "scatter",
         "x": [
          17
         ],
         "xaxis": "x13",
         "y": [
          -4.098381059852548
         ],
         "yaxis": "y13"
        },
        {
         "hovertemplate": "choc=18<br>person=8<br>rank=%{x}<br>rating=%{y}<extra></extra>",
         "legendgroup": "18",
         "marker": {
          "color": "#BCBD22",
          "symbol": "circle"
         },
         "mode": "markers",
         "name": "18",
         "orientation": "v",
         "showlegend": false,
         "type": "scatter",
         "x": [
          6
         ],
         "xaxis": "x14",
         "y": [
          0.6935486700710104
         ],
         "yaxis": "y14"
        },
        {
         "hovertemplate": "choc=18<br>person=9<br>rank=%{x}<br>rating=%{y}<extra></extra>",
         "legendgroup": "18",
         "marker": {
          "color": "#BCBD22",
          "symbol": "circle"
         },
         "mode": "markers",
         "name": "18",
         "orientation": "v",
         "showlegend": false,
         "type": "scatter",
         "x": [
          18
         ],
         "xaxis": "x15",
         "y": [
          -2.9593310583021317
         ],
         "yaxis": "y15"
        },
        {
         "hovertemplate": "choc=18<br>person=10<br>rank=%{x}<br>rating=%{y}<extra></extra>",
         "legendgroup": "18",
         "marker": {
          "color": "#BCBD22",
          "symbol": "circle"
         },
         "mode": "markers",
         "name": "18",
         "orientation": "v",
         "showlegend": false,
         "type": "scatter",
         "x": [
          3
         ],
         "xaxis": "x6",
         "y": [
          1.8555324686795591
         ],
         "yaxis": "y6"
        },
        {
         "hovertemplate": "choc=18<br>person=11<br>rank=%{x}<br>rating=%{y}<extra></extra>",
         "legendgroup": "18",
         "marker": {
          "color": "#BCBD22",
          "symbol": "circle"
         },
         "mode": "markers",
         "name": "18",
         "orientation": "v",
         "showlegend": false,
         "type": "scatter",
         "x": [
          4
         ],
         "xaxis": "x7",
         "y": [
          3.0062611264829626
         ],
         "yaxis": "y7"
        },
        {
         "hovertemplate": "choc=18<br>person=12<br>rank=%{x}<br>rating=%{y}<extra></extra>",
         "legendgroup": "18",
         "marker": {
          "color": "#BCBD22",
          "symbol": "circle"
         },
         "mode": "markers",
         "name": "18",
         "orientation": "v",
         "showlegend": false,
         "type": "scatter",
         "x": [
          9
         ],
         "xaxis": "x8",
         "y": [
          -0.08792385077026271
         ],
         "yaxis": "y8"
        },
        {
         "hovertemplate": "choc=18<br>person=13<br>rank=%{x}<br>rating=%{y}<extra></extra>",
         "legendgroup": "18",
         "marker": {
          "color": "#BCBD22",
          "symbol": "circle"
         },
         "mode": "markers",
         "name": "18",
         "orientation": "v",
         "showlegend": false,
         "type": "scatter",
         "x": [
          4
         ],
         "xaxis": "x9",
         "y": [
          2.034942447673273
         ],
         "yaxis": "y9"
        },
        {
         "hovertemplate": "choc=18<br>person=14<br>rank=%{x}<br>rating=%{y}<extra></extra>",
         "legendgroup": "18",
         "marker": {
          "color": "#BCBD22",
          "symbol": "circle"
         },
         "mode": "markers",
         "name": "18",
         "orientation": "v",
         "showlegend": false,
         "type": "scatter",
         "x": [
          2
         ],
         "xaxis": "x10",
         "y": [
          2.228729804462477
         ],
         "yaxis": "y10"
        },
        {
         "hovertemplate": "choc=18<br>person=15<br>rank=%{x}<br>rating=%{y}<extra></extra>",
         "legendgroup": "18",
         "marker": {
          "color": "#BCBD22",
          "symbol": "circle"
         },
         "mode": "markers",
         "name": "18",
         "orientation": "v",
         "showlegend": false,
         "type": "scatter",
         "x": [
          10
         ],
         "xaxis": "x",
         "y": [
          -1.4204869480592006
         ],
         "yaxis": "y"
        },
        {
         "hovertemplate": "choc=18<br>person=16<br>rank=%{x}<br>rating=%{y}<extra></extra>",
         "legendgroup": "18",
         "marker": {
          "color": "#BCBD22",
          "symbol": "circle"
         },
         "mode": "markers",
         "name": "18",
         "orientation": "v",
         "showlegend": false,
         "type": "scatter",
         "x": [
          17
         ],
         "xaxis": "x2",
         "y": [
          -4.896138886793688
         ],
         "yaxis": "y2"
        },
        {
         "hovertemplate": "choc=18<br>person=17<br>rank=%{x}<br>rating=%{y}<extra></extra>",
         "legendgroup": "18",
         "marker": {
          "color": "#BCBD22",
          "symbol": "circle"
         },
         "mode": "markers",
         "name": "18",
         "orientation": "v",
         "showlegend": false,
         "type": "scatter",
         "x": [
          15
         ],
         "xaxis": "x3",
         "y": [
          -3.272464803107514
         ],
         "yaxis": "y3"
        },
        {
         "hovertemplate": "choc=18<br>person=18<br>rank=%{x}<br>rating=%{y}<extra></extra>",
         "legendgroup": "18",
         "marker": {
          "color": "#BCBD22",
          "symbol": "circle"
         },
         "mode": "markers",
         "name": "18",
         "orientation": "v",
         "showlegend": false,
         "type": "scatter",
         "x": [
          0
         ],
         "xaxis": "x4",
         "y": [
          3.2135501685207175
         ],
         "yaxis": "y4"
        },
        {
         "hovertemplate": "choc=18<br>person=19<br>rank=%{x}<br>rating=%{y}<extra></extra>",
         "legendgroup": "18",
         "marker": {
          "color": "#BCBD22",
          "symbol": "circle"
         },
         "mode": "markers",
         "name": "18",
         "orientation": "v",
         "showlegend": false,
         "type": "scatter",
         "x": [
          3
         ],
         "xaxis": "x5",
         "y": [
          2.4832094814068517
         ],
         "yaxis": "y5"
        },
        {
         "hovertemplate": "choc=19<br>person=0<br>rank=%{x}<br>rating=%{y}<extra></extra>",
         "legendgroup": "19",
         "marker": {
          "color": "#17BECF",
          "symbol": "circle"
         },
         "mode": "markers",
         "name": "19",
         "orientation": "v",
         "showlegend": true,
         "type": "scatter",
         "x": [
          16
         ],
         "xaxis": "x16",
         "y": [
          -1.682514204763619
         ],
         "yaxis": "y16"
        },
        {
         "hovertemplate": "choc=19<br>person=1<br>rank=%{x}<br>rating=%{y}<extra></extra>",
         "legendgroup": "19",
         "marker": {
          "color": "#17BECF",
          "symbol": "circle"
         },
         "mode": "markers",
         "name": "19",
         "orientation": "v",
         "showlegend": false,
         "type": "scatter",
         "x": [
          12
         ],
         "xaxis": "x17",
         "y": [
          -0.5776053443205889
         ],
         "yaxis": "y17"
        },
        {
         "hovertemplate": "choc=19<br>person=2<br>rank=%{x}<br>rating=%{y}<extra></extra>",
         "legendgroup": "19",
         "marker": {
          "color": "#17BECF",
          "symbol": "circle"
         },
         "mode": "markers",
         "name": "19",
         "orientation": "v",
         "showlegend": false,
         "type": "scatter",
         "x": [
          15
         ],
         "xaxis": "x18",
         "y": [
          -2.481395416322631
         ],
         "yaxis": "y18"
        },
        {
         "hovertemplate": "choc=19<br>person=3<br>rank=%{x}<br>rating=%{y}<extra></extra>",
         "legendgroup": "19",
         "marker": {
          "color": "#17BECF",
          "symbol": "circle"
         },
         "mode": "markers",
         "name": "19",
         "orientation": "v",
         "showlegend": false,
         "type": "scatter",
         "x": [
          7
         ],
         "xaxis": "x19",
         "y": [
          0.31155137287317475
         ],
         "yaxis": "y19"
        },
        {
         "hovertemplate": "choc=19<br>person=4<br>rank=%{x}<br>rating=%{y}<extra></extra>",
         "legendgroup": "19",
         "marker": {
          "color": "#17BECF",
          "symbol": "circle"
         },
         "mode": "markers",
         "name": "19",
         "orientation": "v",
         "showlegend": false,
         "type": "scatter",
         "x": [
          11
         ],
         "xaxis": "x20",
         "y": [
          -0.17212489155251637
         ],
         "yaxis": "y20"
        },
        {
         "hovertemplate": "choc=19<br>person=5<br>rank=%{x}<br>rating=%{y}<extra></extra>",
         "legendgroup": "19",
         "marker": {
          "color": "#17BECF",
          "symbol": "circle"
         },
         "mode": "markers",
         "name": "19",
         "orientation": "v",
         "showlegend": false,
         "type": "scatter",
         "x": [
          17
         ],
         "xaxis": "x11",
         "y": [
          -1.317770797048457
         ],
         "yaxis": "y11"
        },
        {
         "hovertemplate": "choc=19<br>person=6<br>rank=%{x}<br>rating=%{y}<extra></extra>",
         "legendgroup": "19",
         "marker": {
          "color": "#17BECF",
          "symbol": "circle"
         },
         "mode": "markers",
         "name": "19",
         "orientation": "v",
         "showlegend": false,
         "type": "scatter",
         "x": [
          5
         ],
         "xaxis": "x12",
         "y": [
          -0.0338500858578471
         ],
         "yaxis": "y12"
        },
        {
         "hovertemplate": "choc=19<br>person=7<br>rank=%{x}<br>rating=%{y}<extra></extra>",
         "legendgroup": "19",
         "marker": {
          "color": "#17BECF",
          "symbol": "circle"
         },
         "mode": "markers",
         "name": "19",
         "orientation": "v",
         "showlegend": false,
         "type": "scatter",
         "x": [
          5
         ],
         "xaxis": "x13",
         "y": [
          0.68406483216089
         ],
         "yaxis": "y13"
        },
        {
         "hovertemplate": "choc=19<br>person=8<br>rank=%{x}<br>rating=%{y}<extra></extra>",
         "legendgroup": "19",
         "marker": {
          "color": "#17BECF",
          "symbol": "circle"
         },
         "mode": "markers",
         "name": "19",
         "orientation": "v",
         "showlegend": false,
         "type": "scatter",
         "x": [
          4
         ],
         "xaxis": "x14",
         "y": [
          1.879145884546232
         ],
         "yaxis": "y14"
        },
        {
         "hovertemplate": "choc=19<br>person=9<br>rank=%{x}<br>rating=%{y}<extra></extra>",
         "legendgroup": "19",
         "marker": {
          "color": "#17BECF",
          "symbol": "circle"
         },
         "mode": "markers",
         "name": "19",
         "orientation": "v",
         "showlegend": false,
         "type": "scatter",
         "x": [
          17
         ],
         "xaxis": "x15",
         "y": [
          -2.874491063209389
         ],
         "yaxis": "y15"
        },
        {
         "hovertemplate": "choc=19<br>person=10<br>rank=%{x}<br>rating=%{y}<extra></extra>",
         "legendgroup": "19",
         "marker": {
          "color": "#17BECF",
          "symbol": "circle"
         },
         "mode": "markers",
         "name": "19",
         "orientation": "v",
         "showlegend": false,
         "type": "scatter",
         "x": [
          9
         ],
         "xaxis": "x6",
         "y": [
          0.7857692963961396
         ],
         "yaxis": "y6"
        },
        {
         "hovertemplate": "choc=19<br>person=11<br>rank=%{x}<br>rating=%{y}<extra></extra>",
         "legendgroup": "19",
         "marker": {
          "color": "#17BECF",
          "symbol": "circle"
         },
         "mode": "markers",
         "name": "19",
         "orientation": "v",
         "showlegend": false,
         "type": "scatter",
         "x": [
          10
         ],
         "xaxis": "x7",
         "y": [
          -0.05500241022457636
         ],
         "yaxis": "y7"
        },
        {
         "hovertemplate": "choc=19<br>person=12<br>rank=%{x}<br>rating=%{y}<extra></extra>",
         "legendgroup": "19",
         "marker": {
          "color": "#17BECF",
          "symbol": "circle"
         },
         "mode": "markers",
         "name": "19",
         "orientation": "v",
         "showlegend": false,
         "type": "scatter",
         "x": [
          11
         ],
         "xaxis": "x8",
         "y": [
          -0.5844186361404812
         ],
         "yaxis": "y8"
        },
        {
         "hovertemplate": "choc=19<br>person=13<br>rank=%{x}<br>rating=%{y}<extra></extra>",
         "legendgroup": "19",
         "marker": {
          "color": "#17BECF",
          "symbol": "circle"
         },
         "mode": "markers",
         "name": "19",
         "orientation": "v",
         "showlegend": false,
         "type": "scatter",
         "x": [
          9
         ],
         "xaxis": "x9",
         "y": [
          0.29677689404806135
         ],
         "yaxis": "y9"
        },
        {
         "hovertemplate": "choc=19<br>person=14<br>rank=%{x}<br>rating=%{y}<extra></extra>",
         "legendgroup": "19",
         "marker": {
          "color": "#17BECF",
          "symbol": "circle"
         },
         "mode": "markers",
         "name": "19",
         "orientation": "v",
         "showlegend": false,
         "type": "scatter",
         "x": [
          7
         ],
         "xaxis": "x10",
         "y": [
          1.1316291968992132
         ],
         "yaxis": "y10"
        },
        {
         "hovertemplate": "choc=19<br>person=15<br>rank=%{x}<br>rating=%{y}<extra></extra>",
         "legendgroup": "19",
         "marker": {
          "color": "#17BECF",
          "symbol": "circle"
         },
         "mode": "markers",
         "name": "19",
         "orientation": "v",
         "showlegend": false,
         "type": "scatter",
         "x": [
          5
         ],
         "xaxis": "x",
         "y": [
          0.5883263524252522
         ],
         "yaxis": "y"
        },
        {
         "hovertemplate": "choc=19<br>person=16<br>rank=%{x}<br>rating=%{y}<extra></extra>",
         "legendgroup": "19",
         "marker": {
          "color": "#17BECF",
          "symbol": "circle"
         },
         "mode": "markers",
         "name": "19",
         "orientation": "v",
         "showlegend": false,
         "type": "scatter",
         "x": [
          8
         ],
         "xaxis": "x2",
         "y": [
          0.07593795264954578
         ],
         "yaxis": "y2"
        },
        {
         "hovertemplate": "choc=19<br>person=17<br>rank=%{x}<br>rating=%{y}<extra></extra>",
         "legendgroup": "19",
         "marker": {
          "color": "#17BECF",
          "symbol": "circle"
         },
         "mode": "markers",
         "name": "19",
         "orientation": "v",
         "showlegend": false,
         "type": "scatter",
         "x": [
          9
         ],
         "xaxis": "x3",
         "y": [
          -0.7193052530504039
         ],
         "yaxis": "y3"
        },
        {
         "hovertemplate": "choc=19<br>person=18<br>rank=%{x}<br>rating=%{y}<extra></extra>",
         "legendgroup": "19",
         "marker": {
          "color": "#17BECF",
          "symbol": "circle"
         },
         "mode": "markers",
         "name": "19",
         "orientation": "v",
         "showlegend": false,
         "type": "scatter",
         "x": [
          14
         ],
         "xaxis": "x4",
         "y": [
          -1.3947291489995486
         ],
         "yaxis": "y4"
        },
        {
         "hovertemplate": "choc=19<br>person=19<br>rank=%{x}<br>rating=%{y}<extra></extra>",
         "legendgroup": "19",
         "marker": {
          "color": "#17BECF",
          "symbol": "circle"
         },
         "mode": "markers",
         "name": "19",
         "orientation": "v",
         "showlegend": false,
         "type": "scatter",
         "x": [
          12
         ],
         "xaxis": "x5",
         "y": [
          -0.9846515368873132
         ],
         "yaxis": "y5"
        }
       ],
       "layout": {
        "annotations": [
         {
          "font": {},
          "showarrow": false,
          "text": "person=15",
          "x": 0.09200000000000001,
          "xanchor": "center",
          "xref": "paper",
          "y": 0.1975,
          "yanchor": "bottom",
          "yref": "paper"
         },
         {
          "font": {},
          "showarrow": false,
          "text": "person=16",
          "x": 0.29600000000000004,
          "xanchor": "center",
          "xref": "paper",
          "y": 0.1975,
          "yanchor": "bottom",
          "yref": "paper"
         },
         {
          "font": {},
          "showarrow": false,
          "text": "person=17",
          "x": 0.5,
          "xanchor": "center",
          "xref": "paper",
          "y": 0.1975,
          "yanchor": "bottom",
          "yref": "paper"
         },
         {
          "font": {},
          "showarrow": false,
          "text": "person=18",
          "x": 0.7040000000000002,
          "xanchor": "center",
          "xref": "paper",
          "y": 0.1975,
          "yanchor": "bottom",
          "yref": "paper"
         },
         {
          "font": {},
          "showarrow": false,
          "text": "person=19",
          "x": 0.908,
          "xanchor": "center",
          "xref": "paper",
          "y": 0.1975,
          "yanchor": "bottom",
          "yref": "paper"
         },
         {
          "font": {},
          "showarrow": false,
          "text": "person=10",
          "x": 0.09200000000000001,
          "xanchor": "center",
          "xref": "paper",
          "y": 0.465,
          "yanchor": "bottom",
          "yref": "paper"
         },
         {
          "font": {},
          "showarrow": false,
          "text": "person=11",
          "x": 0.29600000000000004,
          "xanchor": "center",
          "xref": "paper",
          "y": 0.465,
          "yanchor": "bottom",
          "yref": "paper"
         },
         {
          "font": {},
          "showarrow": false,
          "text": "person=12",
          "x": 0.5,
          "xanchor": "center",
          "xref": "paper",
          "y": 0.465,
          "yanchor": "bottom",
          "yref": "paper"
         },
         {
          "font": {},
          "showarrow": false,
          "text": "person=13",
          "x": 0.7040000000000002,
          "xanchor": "center",
          "xref": "paper",
          "y": 0.465,
          "yanchor": "bottom",
          "yref": "paper"
         },
         {
          "font": {},
          "showarrow": false,
          "text": "person=14",
          "x": 0.908,
          "xanchor": "center",
          "xref": "paper",
          "y": 0.465,
          "yanchor": "bottom",
          "yref": "paper"
         },
         {
          "font": {},
          "showarrow": false,
          "text": "person=5",
          "x": 0.09200000000000001,
          "xanchor": "center",
          "xref": "paper",
          "y": 0.7325,
          "yanchor": "bottom",
          "yref": "paper"
         },
         {
          "font": {},
          "showarrow": false,
          "text": "person=6",
          "x": 0.29600000000000004,
          "xanchor": "center",
          "xref": "paper",
          "y": 0.7325,
          "yanchor": "bottom",
          "yref": "paper"
         },
         {
          "font": {},
          "showarrow": false,
          "text": "person=7",
          "x": 0.5,
          "xanchor": "center",
          "xref": "paper",
          "y": 0.7325,
          "yanchor": "bottom",
          "yref": "paper"
         },
         {
          "font": {},
          "showarrow": false,
          "text": "person=8",
          "x": 0.7040000000000002,
          "xanchor": "center",
          "xref": "paper",
          "y": 0.7325,
          "yanchor": "bottom",
          "yref": "paper"
         },
         {
          "font": {},
          "showarrow": false,
          "text": "person=9",
          "x": 0.908,
          "xanchor": "center",
          "xref": "paper",
          "y": 0.7325,
          "yanchor": "bottom",
          "yref": "paper"
         },
         {
          "font": {},
          "showarrow": false,
          "text": "person=0",
          "x": 0.09200000000000001,
          "xanchor": "center",
          "xref": "paper",
          "y": 1,
          "yanchor": "bottom",
          "yref": "paper"
         },
         {
          "font": {},
          "showarrow": false,
          "text": "person=1",
          "x": 0.29600000000000004,
          "xanchor": "center",
          "xref": "paper",
          "y": 1,
          "yanchor": "bottom",
          "yref": "paper"
         },
         {
          "font": {},
          "showarrow": false,
          "text": "person=2",
          "x": 0.5,
          "xanchor": "center",
          "xref": "paper",
          "y": 1,
          "yanchor": "bottom",
          "yref": "paper"
         },
         {
          "font": {},
          "showarrow": false,
          "text": "person=3",
          "x": 0.7040000000000002,
          "xanchor": "center",
          "xref": "paper",
          "y": 1,
          "yanchor": "bottom",
          "yref": "paper"
         },
         {
          "font": {},
          "showarrow": false,
          "text": "person=4",
          "x": 0.908,
          "xanchor": "center",
          "xref": "paper",
          "y": 1,
          "yanchor": "bottom",
          "yref": "paper"
         }
        ],
        "height": 600,
        "legend": {
         "title": {
          "text": "choc"
         },
         "tracegroupgap": 0
        },
        "margin": {
         "t": 60
        },
        "showlegend": false,
        "template": {
         "data": {
          "bar": [
           {
            "error_x": {
             "color": "rgb(36,36,36)"
            },
            "error_y": {
             "color": "rgb(36,36,36)"
            },
            "marker": {
             "line": {
              "color": "white",
              "width": 0.5
             },
             "pattern": {
              "fillmode": "overlay",
              "size": 10,
              "solidity": 0.2
             }
            },
            "type": "bar"
           }
          ],
          "barpolar": [
           {
            "marker": {
             "line": {
              "color": "white",
              "width": 0.5
             },
             "pattern": {
              "fillmode": "overlay",
              "size": 10,
              "solidity": 0.2
             }
            },
            "type": "barpolar"
           }
          ],
          "carpet": [
           {
            "aaxis": {
             "endlinecolor": "rgb(36,36,36)",
             "gridcolor": "white",
             "linecolor": "white",
             "minorgridcolor": "white",
             "startlinecolor": "rgb(36,36,36)"
            },
            "baxis": {
             "endlinecolor": "rgb(36,36,36)",
             "gridcolor": "white",
             "linecolor": "white",
             "minorgridcolor": "white",
             "startlinecolor": "rgb(36,36,36)"
            },
            "type": "carpet"
           }
          ],
          "choropleth": [
           {
            "colorbar": {
             "outlinewidth": 1,
             "tickcolor": "rgb(36,36,36)",
             "ticks": "outside"
            },
            "type": "choropleth"
           }
          ],
          "contour": [
           {
            "colorbar": {
             "outlinewidth": 1,
             "tickcolor": "rgb(36,36,36)",
             "ticks": "outside"
            },
            "colorscale": [
             [
              0,
              "#440154"
             ],
             [
              0.1111111111111111,
              "#482878"
             ],
             [
              0.2222222222222222,
              "#3e4989"
             ],
             [
              0.3333333333333333,
              "#31688e"
             ],
             [
              0.4444444444444444,
              "#26828e"
             ],
             [
              0.5555555555555556,
              "#1f9e89"
             ],
             [
              0.6666666666666666,
              "#35b779"
             ],
             [
              0.7777777777777778,
              "#6ece58"
             ],
             [
              0.8888888888888888,
              "#b5de2b"
             ],
             [
              1,
              "#fde725"
             ]
            ],
            "type": "contour"
           }
          ],
          "contourcarpet": [
           {
            "colorbar": {
             "outlinewidth": 1,
             "tickcolor": "rgb(36,36,36)",
             "ticks": "outside"
            },
            "type": "contourcarpet"
           }
          ],
          "heatmap": [
           {
            "colorbar": {
             "outlinewidth": 1,
             "tickcolor": "rgb(36,36,36)",
             "ticks": "outside"
            },
            "colorscale": [
             [
              0,
              "#440154"
             ],
             [
              0.1111111111111111,
              "#482878"
             ],
             [
              0.2222222222222222,
              "#3e4989"
             ],
             [
              0.3333333333333333,
              "#31688e"
             ],
             [
              0.4444444444444444,
              "#26828e"
             ],
             [
              0.5555555555555556,
              "#1f9e89"
             ],
             [
              0.6666666666666666,
              "#35b779"
             ],
             [
              0.7777777777777778,
              "#6ece58"
             ],
             [
              0.8888888888888888,
              "#b5de2b"
             ],
             [
              1,
              "#fde725"
             ]
            ],
            "type": "heatmap"
           }
          ],
          "heatmapgl": [
           {
            "colorbar": {
             "outlinewidth": 1,
             "tickcolor": "rgb(36,36,36)",
             "ticks": "outside"
            },
            "colorscale": [
             [
              0,
              "#440154"
             ],
             [
              0.1111111111111111,
              "#482878"
             ],
             [
              0.2222222222222222,
              "#3e4989"
             ],
             [
              0.3333333333333333,
              "#31688e"
             ],
             [
              0.4444444444444444,
              "#26828e"
             ],
             [
              0.5555555555555556,
              "#1f9e89"
             ],
             [
              0.6666666666666666,
              "#35b779"
             ],
             [
              0.7777777777777778,
              "#6ece58"
             ],
             [
              0.8888888888888888,
              "#b5de2b"
             ],
             [
              1,
              "#fde725"
             ]
            ],
            "type": "heatmapgl"
           }
          ],
          "histogram": [
           {
            "marker": {
             "line": {
              "color": "white",
              "width": 0.6
             }
            },
            "type": "histogram"
           }
          ],
          "histogram2d": [
           {
            "colorbar": {
             "outlinewidth": 1,
             "tickcolor": "rgb(36,36,36)",
             "ticks": "outside"
            },
            "colorscale": [
             [
              0,
              "#440154"
             ],
             [
              0.1111111111111111,
              "#482878"
             ],
             [
              0.2222222222222222,
              "#3e4989"
             ],
             [
              0.3333333333333333,
              "#31688e"
             ],
             [
              0.4444444444444444,
              "#26828e"
             ],
             [
              0.5555555555555556,
              "#1f9e89"
             ],
             [
              0.6666666666666666,
              "#35b779"
             ],
             [
              0.7777777777777778,
              "#6ece58"
             ],
             [
              0.8888888888888888,
              "#b5de2b"
             ],
             [
              1,
              "#fde725"
             ]
            ],
            "type": "histogram2d"
           }
          ],
          "histogram2dcontour": [
           {
            "colorbar": {
             "outlinewidth": 1,
             "tickcolor": "rgb(36,36,36)",
             "ticks": "outside"
            },
            "colorscale": [
             [
              0,
              "#440154"
             ],
             [
              0.1111111111111111,
              "#482878"
             ],
             [
              0.2222222222222222,
              "#3e4989"
             ],
             [
              0.3333333333333333,
              "#31688e"
             ],
             [
              0.4444444444444444,
              "#26828e"
             ],
             [
              0.5555555555555556,
              "#1f9e89"
             ],
             [
              0.6666666666666666,
              "#35b779"
             ],
             [
              0.7777777777777778,
              "#6ece58"
             ],
             [
              0.8888888888888888,
              "#b5de2b"
             ],
             [
              1,
              "#fde725"
             ]
            ],
            "type": "histogram2dcontour"
           }
          ],
          "mesh3d": [
           {
            "colorbar": {
             "outlinewidth": 1,
             "tickcolor": "rgb(36,36,36)",
             "ticks": "outside"
            },
            "type": "mesh3d"
           }
          ],
          "parcoords": [
           {
            "line": {
             "colorbar": {
              "outlinewidth": 1,
              "tickcolor": "rgb(36,36,36)",
              "ticks": "outside"
             }
            },
            "type": "parcoords"
           }
          ],
          "pie": [
           {
            "automargin": true,
            "type": "pie"
           }
          ],
          "scatter": [
           {
            "fillpattern": {
             "fillmode": "overlay",
             "size": 10,
             "solidity": 0.2
            },
            "type": "scatter"
           }
          ],
          "scatter3d": [
           {
            "line": {
             "colorbar": {
              "outlinewidth": 1,
              "tickcolor": "rgb(36,36,36)",
              "ticks": "outside"
             }
            },
            "marker": {
             "colorbar": {
              "outlinewidth": 1,
              "tickcolor": "rgb(36,36,36)",
              "ticks": "outside"
             }
            },
            "type": "scatter3d"
           }
          ],
          "scattercarpet": [
           {
            "marker": {
             "colorbar": {
              "outlinewidth": 1,
              "tickcolor": "rgb(36,36,36)",
              "ticks": "outside"
             }
            },
            "type": "scattercarpet"
           }
          ],
          "scattergeo": [
           {
            "marker": {
             "colorbar": {
              "outlinewidth": 1,
              "tickcolor": "rgb(36,36,36)",
              "ticks": "outside"
             }
            },
            "type": "scattergeo"
           }
          ],
          "scattergl": [
           {
            "marker": {
             "colorbar": {
              "outlinewidth": 1,
              "tickcolor": "rgb(36,36,36)",
              "ticks": "outside"
             }
            },
            "type": "scattergl"
           }
          ],
          "scattermapbox": [
           {
            "marker": {
             "colorbar": {
              "outlinewidth": 1,
              "tickcolor": "rgb(36,36,36)",
              "ticks": "outside"
             }
            },
            "type": "scattermapbox"
           }
          ],
          "scatterpolar": [
           {
            "marker": {
             "colorbar": {
              "outlinewidth": 1,
              "tickcolor": "rgb(36,36,36)",
              "ticks": "outside"
             }
            },
            "type": "scatterpolar"
           }
          ],
          "scatterpolargl": [
           {
            "marker": {
             "colorbar": {
              "outlinewidth": 1,
              "tickcolor": "rgb(36,36,36)",
              "ticks": "outside"
             }
            },
            "type": "scatterpolargl"
           }
          ],
          "scatterternary": [
           {
            "marker": {
             "colorbar": {
              "outlinewidth": 1,
              "tickcolor": "rgb(36,36,36)",
              "ticks": "outside"
             }
            },
            "type": "scatterternary"
           }
          ],
          "surface": [
           {
            "colorbar": {
             "outlinewidth": 1,
             "tickcolor": "rgb(36,36,36)",
             "ticks": "outside"
            },
            "colorscale": [
             [
              0,
              "#440154"
             ],
             [
              0.1111111111111111,
              "#482878"
             ],
             [
              0.2222222222222222,
              "#3e4989"
             ],
             [
              0.3333333333333333,
              "#31688e"
             ],
             [
              0.4444444444444444,
              "#26828e"
             ],
             [
              0.5555555555555556,
              "#1f9e89"
             ],
             [
              0.6666666666666666,
              "#35b779"
             ],
             [
              0.7777777777777778,
              "#6ece58"
             ],
             [
              0.8888888888888888,
              "#b5de2b"
             ],
             [
              1,
              "#fde725"
             ]
            ],
            "type": "surface"
           }
          ],
          "table": [
           {
            "cells": {
             "fill": {
              "color": "rgb(237,237,237)"
             },
             "line": {
              "color": "white"
             }
            },
            "header": {
             "fill": {
              "color": "rgb(217,217,217)"
             },
             "line": {
              "color": "white"
             }
            },
            "type": "table"
           }
          ]
         },
         "layout": {
          "annotationdefaults": {
           "arrowhead": 0,
           "arrowwidth": 1
          },
          "autotypenumbers": "strict",
          "coloraxis": {
           "colorbar": {
            "outlinewidth": 1,
            "tickcolor": "rgb(36,36,36)",
            "ticks": "outside"
           }
          },
          "colorscale": {
           "diverging": [
            [
             0,
             "rgb(103,0,31)"
            ],
            [
             0.1,
             "rgb(178,24,43)"
            ],
            [
             0.2,
             "rgb(214,96,77)"
            ],
            [
             0.3,
             "rgb(244,165,130)"
            ],
            [
             0.4,
             "rgb(253,219,199)"
            ],
            [
             0.5,
             "rgb(247,247,247)"
            ],
            [
             0.6,
             "rgb(209,229,240)"
            ],
            [
             0.7,
             "rgb(146,197,222)"
            ],
            [
             0.8,
             "rgb(67,147,195)"
            ],
            [
             0.9,
             "rgb(33,102,172)"
            ],
            [
             1,
             "rgb(5,48,97)"
            ]
           ],
           "sequential": [
            [
             0,
             "#440154"
            ],
            [
             0.1111111111111111,
             "#482878"
            ],
            [
             0.2222222222222222,
             "#3e4989"
            ],
            [
             0.3333333333333333,
             "#31688e"
            ],
            [
             0.4444444444444444,
             "#26828e"
            ],
            [
             0.5555555555555556,
             "#1f9e89"
            ],
            [
             0.6666666666666666,
             "#35b779"
            ],
            [
             0.7777777777777778,
             "#6ece58"
            ],
            [
             0.8888888888888888,
             "#b5de2b"
            ],
            [
             1,
             "#fde725"
            ]
           ],
           "sequentialminus": [
            [
             0,
             "#440154"
            ],
            [
             0.1111111111111111,
             "#482878"
            ],
            [
             0.2222222222222222,
             "#3e4989"
            ],
            [
             0.3333333333333333,
             "#31688e"
            ],
            [
             0.4444444444444444,
             "#26828e"
            ],
            [
             0.5555555555555556,
             "#1f9e89"
            ],
            [
             0.6666666666666666,
             "#35b779"
            ],
            [
             0.7777777777777778,
             "#6ece58"
            ],
            [
             0.8888888888888888,
             "#b5de2b"
            ],
            [
             1,
             "#fde725"
            ]
           ]
          },
          "colorway": [
           "#1F77B4",
           "#FF7F0E",
           "#2CA02C",
           "#D62728",
           "#9467BD",
           "#8C564B",
           "#E377C2",
           "#7F7F7F",
           "#BCBD22",
           "#17BECF"
          ],
          "font": {
           "color": "rgb(36,36,36)"
          },
          "geo": {
           "bgcolor": "white",
           "lakecolor": "white",
           "landcolor": "white",
           "showlakes": true,
           "showland": true,
           "subunitcolor": "white"
          },
          "hoverlabel": {
           "align": "left"
          },
          "hovermode": "closest",
          "mapbox": {
           "style": "light"
          },
          "paper_bgcolor": "white",
          "plot_bgcolor": "white",
          "polar": {
           "angularaxis": {
            "gridcolor": "rgb(232,232,232)",
            "linecolor": "rgb(36,36,36)",
            "showgrid": false,
            "showline": true,
            "ticks": "outside"
           },
           "bgcolor": "white",
           "radialaxis": {
            "gridcolor": "rgb(232,232,232)",
            "linecolor": "rgb(36,36,36)",
            "showgrid": false,
            "showline": true,
            "ticks": "outside"
           }
          },
          "scene": {
           "xaxis": {
            "backgroundcolor": "white",
            "gridcolor": "rgb(232,232,232)",
            "gridwidth": 2,
            "linecolor": "rgb(36,36,36)",
            "showbackground": true,
            "showgrid": false,
            "showline": true,
            "ticks": "outside",
            "zeroline": false,
            "zerolinecolor": "rgb(36,36,36)"
           },
           "yaxis": {
            "backgroundcolor": "white",
            "gridcolor": "rgb(232,232,232)",
            "gridwidth": 2,
            "linecolor": "rgb(36,36,36)",
            "showbackground": true,
            "showgrid": false,
            "showline": true,
            "ticks": "outside",
            "zeroline": false,
            "zerolinecolor": "rgb(36,36,36)"
           },
           "zaxis": {
            "backgroundcolor": "white",
            "gridcolor": "rgb(232,232,232)",
            "gridwidth": 2,
            "linecolor": "rgb(36,36,36)",
            "showbackground": true,
            "showgrid": false,
            "showline": true,
            "ticks": "outside",
            "zeroline": false,
            "zerolinecolor": "rgb(36,36,36)"
           }
          },
          "shapedefaults": {
           "fillcolor": "black",
           "line": {
            "width": 0
           },
           "opacity": 0.3
          },
          "ternary": {
           "aaxis": {
            "gridcolor": "rgb(232,232,232)",
            "linecolor": "rgb(36,36,36)",
            "showgrid": false,
            "showline": true,
            "ticks": "outside"
           },
           "baxis": {
            "gridcolor": "rgb(232,232,232)",
            "linecolor": "rgb(36,36,36)",
            "showgrid": false,
            "showline": true,
            "ticks": "outside"
           },
           "bgcolor": "white",
           "caxis": {
            "gridcolor": "rgb(232,232,232)",
            "linecolor": "rgb(36,36,36)",
            "showgrid": false,
            "showline": true,
            "ticks": "outside"
           }
          },
          "title": {
           "x": 0.05
          },
          "xaxis": {
           "automargin": true,
           "gridcolor": "rgb(232,232,232)",
           "linecolor": "rgb(36,36,36)",
           "showgrid": false,
           "showline": true,
           "ticks": "outside",
           "title": {
            "standoff": 15
           },
           "zeroline": false,
           "zerolinecolor": "rgb(36,36,36)"
          },
          "yaxis": {
           "automargin": true,
           "gridcolor": "rgb(232,232,232)",
           "linecolor": "rgb(36,36,36)",
           "showgrid": false,
           "showline": true,
           "ticks": "outside",
           "title": {
            "standoff": 15
           },
           "zeroline": false,
           "zerolinecolor": "rgb(36,36,36)"
          }
         }
        },
        "width": 1000,
        "xaxis": {
         "anchor": "y",
         "domain": [
          0,
          0.18400000000000002
         ],
         "title": {
          "text": "rank"
         }
        },
        "xaxis10": {
         "anchor": "y10",
         "domain": [
          0.8160000000000001,
          1
         ],
         "matches": "x",
         "showticklabels": false
        },
        "xaxis11": {
         "anchor": "y11",
         "domain": [
          0,
          0.18400000000000002
         ],
         "matches": "x",
         "showticklabels": false
        },
        "xaxis12": {
         "anchor": "y12",
         "domain": [
          0.20400000000000001,
          0.388
         ],
         "matches": "x",
         "showticklabels": false
        },
        "xaxis13": {
         "anchor": "y13",
         "domain": [
          0.40800000000000003,
          0.5920000000000001
         ],
         "matches": "x",
         "showticklabels": false
        },
        "xaxis14": {
         "anchor": "y14",
         "domain": [
          0.6120000000000001,
          0.7960000000000002
         ],
         "matches": "x",
         "showticklabels": false
        },
        "xaxis15": {
         "anchor": "y15",
         "domain": [
          0.8160000000000001,
          1
         ],
         "matches": "x",
         "showticklabels": false
        },
        "xaxis16": {
         "anchor": "y16",
         "domain": [
          0,
          0.18400000000000002
         ],
         "matches": "x",
         "showticklabels": false
        },
        "xaxis17": {
         "anchor": "y17",
         "domain": [
          0.20400000000000001,
          0.388
         ],
         "matches": "x",
         "showticklabels": false
        },
        "xaxis18": {
         "anchor": "y18",
         "domain": [
          0.40800000000000003,
          0.5920000000000001
         ],
         "matches": "x",
         "showticklabels": false
        },
        "xaxis19": {
         "anchor": "y19",
         "domain": [
          0.6120000000000001,
          0.7960000000000002
         ],
         "matches": "x",
         "showticklabels": false
        },
        "xaxis2": {
         "anchor": "y2",
         "domain": [
          0.20400000000000001,
          0.388
         ],
         "matches": "x",
         "title": {
          "text": "rank"
         }
        },
        "xaxis20": {
         "anchor": "y20",
         "domain": [
          0.8160000000000001,
          1
         ],
         "matches": "x",
         "showticklabels": false
        },
        "xaxis3": {
         "anchor": "y3",
         "domain": [
          0.40800000000000003,
          0.5920000000000001
         ],
         "matches": "x",
         "title": {
          "text": "rank"
         }
        },
        "xaxis4": {
         "anchor": "y4",
         "domain": [
          0.6120000000000001,
          0.7960000000000002
         ],
         "matches": "x",
         "title": {
          "text": "rank"
         }
        },
        "xaxis5": {
         "anchor": "y5",
         "domain": [
          0.8160000000000001,
          1
         ],
         "matches": "x",
         "title": {
          "text": "rank"
         }
        },
        "xaxis6": {
         "anchor": "y6",
         "domain": [
          0,
          0.18400000000000002
         ],
         "matches": "x",
         "showticklabels": false
        },
        "xaxis7": {
         "anchor": "y7",
         "domain": [
          0.20400000000000001,
          0.388
         ],
         "matches": "x",
         "showticklabels": false
        },
        "xaxis8": {
         "anchor": "y8",
         "domain": [
          0.40800000000000003,
          0.5920000000000001
         ],
         "matches": "x",
         "showticklabels": false
        },
        "xaxis9": {
         "anchor": "y9",
         "domain": [
          0.6120000000000001,
          0.7960000000000002
         ],
         "matches": "x",
         "showticklabels": false
        },
        "yaxis": {
         "anchor": "x",
         "domain": [
          0,
          0.1975
         ],
         "title": {
          "text": "rating"
         }
        },
        "yaxis10": {
         "anchor": "x10",
         "domain": [
          0.2675,
          0.465
         ],
         "matches": "y",
         "showticklabels": false
        },
        "yaxis11": {
         "anchor": "x11",
         "domain": [
          0.535,
          0.7325
         ],
         "matches": "y",
         "title": {
          "text": "rating"
         }
        },
        "yaxis12": {
         "anchor": "x12",
         "domain": [
          0.535,
          0.7325
         ],
         "matches": "y",
         "showticklabels": false
        },
        "yaxis13": {
         "anchor": "x13",
         "domain": [
          0.535,
          0.7325
         ],
         "matches": "y",
         "showticklabels": false
        },
        "yaxis14": {
         "anchor": "x14",
         "domain": [
          0.535,
          0.7325
         ],
         "matches": "y",
         "showticklabels": false
        },
        "yaxis15": {
         "anchor": "x15",
         "domain": [
          0.535,
          0.7325
         ],
         "matches": "y",
         "showticklabels": false
        },
        "yaxis16": {
         "anchor": "x16",
         "domain": [
          0.8025,
          1
         ],
         "matches": "y",
         "title": {
          "text": "rating"
         }
        },
        "yaxis17": {
         "anchor": "x17",
         "domain": [
          0.8025,
          1
         ],
         "matches": "y",
         "showticklabels": false
        },
        "yaxis18": {
         "anchor": "x18",
         "domain": [
          0.8025,
          1
         ],
         "matches": "y",
         "showticklabels": false
        },
        "yaxis19": {
         "anchor": "x19",
         "domain": [
          0.8025,
          1
         ],
         "matches": "y",
         "showticklabels": false
        },
        "yaxis2": {
         "anchor": "x2",
         "domain": [
          0,
          0.1975
         ],
         "matches": "y",
         "showticklabels": false
        },
        "yaxis20": {
         "anchor": "x20",
         "domain": [
          0.8025,
          1
         ],
         "matches": "y",
         "showticklabels": false
        },
        "yaxis3": {
         "anchor": "x3",
         "domain": [
          0,
          0.1975
         ],
         "matches": "y",
         "showticklabels": false
        },
        "yaxis4": {
         "anchor": "x4",
         "domain": [
          0,
          0.1975
         ],
         "matches": "y",
         "showticklabels": false
        },
        "yaxis5": {
         "anchor": "x5",
         "domain": [
          0,
          0.1975
         ],
         "matches": "y",
         "showticklabels": false
        },
        "yaxis6": {
         "anchor": "x6",
         "domain": [
          0.2675,
          0.465
         ],
         "matches": "y",
         "title": {
          "text": "rating"
         }
        },
        "yaxis7": {
         "anchor": "x7",
         "domain": [
          0.2675,
          0.465
         ],
         "matches": "y",
         "showticklabels": false
        },
        "yaxis8": {
         "anchor": "x8",
         "domain": [
          0.2675,
          0.465
         ],
         "matches": "y",
         "showticklabels": false
        },
        "yaxis9": {
         "anchor": "x9",
         "domain": [
          0.2675,
          0.465
         ],
         "matches": "y",
         "showticklabels": false
        }
       }
      }
     },
     "metadata": {},
     "output_type": "display_data"
    }
   ],
   "source": [
    "sim_viz.plot_ratings_rankings(facets_limit={'var': 'person',\n",
    "                                            'records': 20})"
   ]
  },
  {
   "attachments": {},
   "cell_type": "markdown",
   "metadata": {},
   "source": [
    "## Visualising the rankings only\n",
    "\n",
    "The simulated data from the generative model gives richer information than the real data we have from the chocolate ranking process where we observe only the rank each person gives to each chocolate. While it is important that the generative model being assumed is plausible in terms of whether it seems like a reasonable theoretical conception of the data generating process and how people rate chocolates, it is also important that the data generating process is capable of producing ranking data that behaves like the real ranking data we have observed.\n",
    "\n",
    "To give some assurance that the generative model can produce data like the real observed data, we can apply the same visualisations to the simulated data as we did to the real observed data in the exploratory data analysis step. In order to ensure the comparison with the real data is like for like, I first subset the simulated data to include only 10 people."
   ]
  },
  {
   "cell_type": "code",
   "execution_count": 12,
   "metadata": {},
   "outputs": [],
   "source": [
    "import src.visualization.viz_rankings as vizrank\n",
    "rank_prior_df = sim_viz.sim.ratings_rankings_df.query(\"person < 10\").copy()"
   ]
  },
  {
   "attachments": {},
   "cell_type": "markdown",
   "metadata": {},
   "source": [
    "Visualising the mean ranks given to the chocolates in the simulated process, it appears that a pattern similar to that in the real data is capable of being produced. Here, one chocolate has a much higher mean rank than the others, then a group of chocolate are closely following, before a large number of chocolates have very similar mean ranks, and finally a few chocolates perform substantially worse in turn. This is similar to what was observed in the real data, i.e. that many chocolates do not have much between them in terms of mean rank, while a few perform markedly better or worse."
   ]
  },
  {
   "cell_type": "code",
   "execution_count": 13,
   "metadata": {},
   "outputs": [
    {
     "data": {
      "application/vnd.plotly.v1+json": {
       "config": {
        "plotlyServerURL": "https://plot.ly"
       },
       "data": [
        {
         "alignmentgroup": "True",
         "hovertemplate": "choc=%{x}<br>rank=%{y}<extra></extra>",
         "legendgroup": "",
         "marker": {
          "color": "#1F77B4",
          "pattern": {
           "shape": ""
          }
         },
         "name": "",
         "offsetgroup": "",
         "orientation": "v",
         "showlegend": false,
         "textposition": "auto",
         "type": "bar",
         "x": [
          "1",
          "9",
          "13",
          "0",
          "2",
          "17",
          "12",
          "5",
          "18",
          "7",
          "10",
          "8",
          "19",
          "14",
          "4",
          "6",
          "11",
          "16",
          "3",
          "15"
         ],
         "xaxis": "x",
         "y": [
          3.1,
          5.4,
          5.8,
          5.8,
          7.1,
          7.8,
          9,
          9.2,
          9.6,
          10.3,
          10.4,
          10.7,
          10.9,
          11.1,
          11.4,
          11.5,
          11.7,
          12.3,
          12.9,
          14
         ],
         "yaxis": "y"
        }
       ],
       "layout": {
        "barmode": "relative",
        "legend": {
         "tracegroupgap": 0
        },
        "margin": {
         "t": 60
        },
        "showlegend": false,
        "template": {
         "data": {
          "bar": [
           {
            "error_x": {
             "color": "rgb(36,36,36)"
            },
            "error_y": {
             "color": "rgb(36,36,36)"
            },
            "marker": {
             "line": {
              "color": "white",
              "width": 0.5
             },
             "pattern": {
              "fillmode": "overlay",
              "size": 10,
              "solidity": 0.2
             }
            },
            "type": "bar"
           }
          ],
          "barpolar": [
           {
            "marker": {
             "line": {
              "color": "white",
              "width": 0.5
             },
             "pattern": {
              "fillmode": "overlay",
              "size": 10,
              "solidity": 0.2
             }
            },
            "type": "barpolar"
           }
          ],
          "carpet": [
           {
            "aaxis": {
             "endlinecolor": "rgb(36,36,36)",
             "gridcolor": "white",
             "linecolor": "white",
             "minorgridcolor": "white",
             "startlinecolor": "rgb(36,36,36)"
            },
            "baxis": {
             "endlinecolor": "rgb(36,36,36)",
             "gridcolor": "white",
             "linecolor": "white",
             "minorgridcolor": "white",
             "startlinecolor": "rgb(36,36,36)"
            },
            "type": "carpet"
           }
          ],
          "choropleth": [
           {
            "colorbar": {
             "outlinewidth": 1,
             "tickcolor": "rgb(36,36,36)",
             "ticks": "outside"
            },
            "type": "choropleth"
           }
          ],
          "contour": [
           {
            "colorbar": {
             "outlinewidth": 1,
             "tickcolor": "rgb(36,36,36)",
             "ticks": "outside"
            },
            "colorscale": [
             [
              0,
              "#440154"
             ],
             [
              0.1111111111111111,
              "#482878"
             ],
             [
              0.2222222222222222,
              "#3e4989"
             ],
             [
              0.3333333333333333,
              "#31688e"
             ],
             [
              0.4444444444444444,
              "#26828e"
             ],
             [
              0.5555555555555556,
              "#1f9e89"
             ],
             [
              0.6666666666666666,
              "#35b779"
             ],
             [
              0.7777777777777778,
              "#6ece58"
             ],
             [
              0.8888888888888888,
              "#b5de2b"
             ],
             [
              1,
              "#fde725"
             ]
            ],
            "type": "contour"
           }
          ],
          "contourcarpet": [
           {
            "colorbar": {
             "outlinewidth": 1,
             "tickcolor": "rgb(36,36,36)",
             "ticks": "outside"
            },
            "type": "contourcarpet"
           }
          ],
          "heatmap": [
           {
            "colorbar": {
             "outlinewidth": 1,
             "tickcolor": "rgb(36,36,36)",
             "ticks": "outside"
            },
            "colorscale": [
             [
              0,
              "#440154"
             ],
             [
              0.1111111111111111,
              "#482878"
             ],
             [
              0.2222222222222222,
              "#3e4989"
             ],
             [
              0.3333333333333333,
              "#31688e"
             ],
             [
              0.4444444444444444,
              "#26828e"
             ],
             [
              0.5555555555555556,
              "#1f9e89"
             ],
             [
              0.6666666666666666,
              "#35b779"
             ],
             [
              0.7777777777777778,
              "#6ece58"
             ],
             [
              0.8888888888888888,
              "#b5de2b"
             ],
             [
              1,
              "#fde725"
             ]
            ],
            "type": "heatmap"
           }
          ],
          "heatmapgl": [
           {
            "colorbar": {
             "outlinewidth": 1,
             "tickcolor": "rgb(36,36,36)",
             "ticks": "outside"
            },
            "colorscale": [
             [
              0,
              "#440154"
             ],
             [
              0.1111111111111111,
              "#482878"
             ],
             [
              0.2222222222222222,
              "#3e4989"
             ],
             [
              0.3333333333333333,
              "#31688e"
             ],
             [
              0.4444444444444444,
              "#26828e"
             ],
             [
              0.5555555555555556,
              "#1f9e89"
             ],
             [
              0.6666666666666666,
              "#35b779"
             ],
             [
              0.7777777777777778,
              "#6ece58"
             ],
             [
              0.8888888888888888,
              "#b5de2b"
             ],
             [
              1,
              "#fde725"
             ]
            ],
            "type": "heatmapgl"
           }
          ],
          "histogram": [
           {
            "marker": {
             "line": {
              "color": "white",
              "width": 0.6
             }
            },
            "type": "histogram"
           }
          ],
          "histogram2d": [
           {
            "colorbar": {
             "outlinewidth": 1,
             "tickcolor": "rgb(36,36,36)",
             "ticks": "outside"
            },
            "colorscale": [
             [
              0,
              "#440154"
             ],
             [
              0.1111111111111111,
              "#482878"
             ],
             [
              0.2222222222222222,
              "#3e4989"
             ],
             [
              0.3333333333333333,
              "#31688e"
             ],
             [
              0.4444444444444444,
              "#26828e"
             ],
             [
              0.5555555555555556,
              "#1f9e89"
             ],
             [
              0.6666666666666666,
              "#35b779"
             ],
             [
              0.7777777777777778,
              "#6ece58"
             ],
             [
              0.8888888888888888,
              "#b5de2b"
             ],
             [
              1,
              "#fde725"
             ]
            ],
            "type": "histogram2d"
           }
          ],
          "histogram2dcontour": [
           {
            "colorbar": {
             "outlinewidth": 1,
             "tickcolor": "rgb(36,36,36)",
             "ticks": "outside"
            },
            "colorscale": [
             [
              0,
              "#440154"
             ],
             [
              0.1111111111111111,
              "#482878"
             ],
             [
              0.2222222222222222,
              "#3e4989"
             ],
             [
              0.3333333333333333,
              "#31688e"
             ],
             [
              0.4444444444444444,
              "#26828e"
             ],
             [
              0.5555555555555556,
              "#1f9e89"
             ],
             [
              0.6666666666666666,
              "#35b779"
             ],
             [
              0.7777777777777778,
              "#6ece58"
             ],
             [
              0.8888888888888888,
              "#b5de2b"
             ],
             [
              1,
              "#fde725"
             ]
            ],
            "type": "histogram2dcontour"
           }
          ],
          "mesh3d": [
           {
            "colorbar": {
             "outlinewidth": 1,
             "tickcolor": "rgb(36,36,36)",
             "ticks": "outside"
            },
            "type": "mesh3d"
           }
          ],
          "parcoords": [
           {
            "line": {
             "colorbar": {
              "outlinewidth": 1,
              "tickcolor": "rgb(36,36,36)",
              "ticks": "outside"
             }
            },
            "type": "parcoords"
           }
          ],
          "pie": [
           {
            "automargin": true,
            "type": "pie"
           }
          ],
          "scatter": [
           {
            "fillpattern": {
             "fillmode": "overlay",
             "size": 10,
             "solidity": 0.2
            },
            "type": "scatter"
           }
          ],
          "scatter3d": [
           {
            "line": {
             "colorbar": {
              "outlinewidth": 1,
              "tickcolor": "rgb(36,36,36)",
              "ticks": "outside"
             }
            },
            "marker": {
             "colorbar": {
              "outlinewidth": 1,
              "tickcolor": "rgb(36,36,36)",
              "ticks": "outside"
             }
            },
            "type": "scatter3d"
           }
          ],
          "scattercarpet": [
           {
            "marker": {
             "colorbar": {
              "outlinewidth": 1,
              "tickcolor": "rgb(36,36,36)",
              "ticks": "outside"
             }
            },
            "type": "scattercarpet"
           }
          ],
          "scattergeo": [
           {
            "marker": {
             "colorbar": {
              "outlinewidth": 1,
              "tickcolor": "rgb(36,36,36)",
              "ticks": "outside"
             }
            },
            "type": "scattergeo"
           }
          ],
          "scattergl": [
           {
            "marker": {
             "colorbar": {
              "outlinewidth": 1,
              "tickcolor": "rgb(36,36,36)",
              "ticks": "outside"
             }
            },
            "type": "scattergl"
           }
          ],
          "scattermapbox": [
           {
            "marker": {
             "colorbar": {
              "outlinewidth": 1,
              "tickcolor": "rgb(36,36,36)",
              "ticks": "outside"
             }
            },
            "type": "scattermapbox"
           }
          ],
          "scatterpolar": [
           {
            "marker": {
             "colorbar": {
              "outlinewidth": 1,
              "tickcolor": "rgb(36,36,36)",
              "ticks": "outside"
             }
            },
            "type": "scatterpolar"
           }
          ],
          "scatterpolargl": [
           {
            "marker": {
             "colorbar": {
              "outlinewidth": 1,
              "tickcolor": "rgb(36,36,36)",
              "ticks": "outside"
             }
            },
            "type": "scatterpolargl"
           }
          ],
          "scatterternary": [
           {
            "marker": {
             "colorbar": {
              "outlinewidth": 1,
              "tickcolor": "rgb(36,36,36)",
              "ticks": "outside"
             }
            },
            "type": "scatterternary"
           }
          ],
          "surface": [
           {
            "colorbar": {
             "outlinewidth": 1,
             "tickcolor": "rgb(36,36,36)",
             "ticks": "outside"
            },
            "colorscale": [
             [
              0,
              "#440154"
             ],
             [
              0.1111111111111111,
              "#482878"
             ],
             [
              0.2222222222222222,
              "#3e4989"
             ],
             [
              0.3333333333333333,
              "#31688e"
             ],
             [
              0.4444444444444444,
              "#26828e"
             ],
             [
              0.5555555555555556,
              "#1f9e89"
             ],
             [
              0.6666666666666666,
              "#35b779"
             ],
             [
              0.7777777777777778,
              "#6ece58"
             ],
             [
              0.8888888888888888,
              "#b5de2b"
             ],
             [
              1,
              "#fde725"
             ]
            ],
            "type": "surface"
           }
          ],
          "table": [
           {
            "cells": {
             "fill": {
              "color": "rgb(237,237,237)"
             },
             "line": {
              "color": "white"
             }
            },
            "header": {
             "fill": {
              "color": "rgb(217,217,217)"
             },
             "line": {
              "color": "white"
             }
            },
            "type": "table"
           }
          ]
         },
         "layout": {
          "annotationdefaults": {
           "arrowhead": 0,
           "arrowwidth": 1
          },
          "autotypenumbers": "strict",
          "coloraxis": {
           "colorbar": {
            "outlinewidth": 1,
            "tickcolor": "rgb(36,36,36)",
            "ticks": "outside"
           }
          },
          "colorscale": {
           "diverging": [
            [
             0,
             "rgb(103,0,31)"
            ],
            [
             0.1,
             "rgb(178,24,43)"
            ],
            [
             0.2,
             "rgb(214,96,77)"
            ],
            [
             0.3,
             "rgb(244,165,130)"
            ],
            [
             0.4,
             "rgb(253,219,199)"
            ],
            [
             0.5,
             "rgb(247,247,247)"
            ],
            [
             0.6,
             "rgb(209,229,240)"
            ],
            [
             0.7,
             "rgb(146,197,222)"
            ],
            [
             0.8,
             "rgb(67,147,195)"
            ],
            [
             0.9,
             "rgb(33,102,172)"
            ],
            [
             1,
             "rgb(5,48,97)"
            ]
           ],
           "sequential": [
            [
             0,
             "#440154"
            ],
            [
             0.1111111111111111,
             "#482878"
            ],
            [
             0.2222222222222222,
             "#3e4989"
            ],
            [
             0.3333333333333333,
             "#31688e"
            ],
            [
             0.4444444444444444,
             "#26828e"
            ],
            [
             0.5555555555555556,
             "#1f9e89"
            ],
            [
             0.6666666666666666,
             "#35b779"
            ],
            [
             0.7777777777777778,
             "#6ece58"
            ],
            [
             0.8888888888888888,
             "#b5de2b"
            ],
            [
             1,
             "#fde725"
            ]
           ],
           "sequentialminus": [
            [
             0,
             "#440154"
            ],
            [
             0.1111111111111111,
             "#482878"
            ],
            [
             0.2222222222222222,
             "#3e4989"
            ],
            [
             0.3333333333333333,
             "#31688e"
            ],
            [
             0.4444444444444444,
             "#26828e"
            ],
            [
             0.5555555555555556,
             "#1f9e89"
            ],
            [
             0.6666666666666666,
             "#35b779"
            ],
            [
             0.7777777777777778,
             "#6ece58"
            ],
            [
             0.8888888888888888,
             "#b5de2b"
            ],
            [
             1,
             "#fde725"
            ]
           ]
          },
          "colorway": [
           "#1F77B4",
           "#FF7F0E",
           "#2CA02C",
           "#D62728",
           "#9467BD",
           "#8C564B",
           "#E377C2",
           "#7F7F7F",
           "#BCBD22",
           "#17BECF"
          ],
          "font": {
           "color": "rgb(36,36,36)"
          },
          "geo": {
           "bgcolor": "white",
           "lakecolor": "white",
           "landcolor": "white",
           "showlakes": true,
           "showland": true,
           "subunitcolor": "white"
          },
          "hoverlabel": {
           "align": "left"
          },
          "hovermode": "closest",
          "mapbox": {
           "style": "light"
          },
          "paper_bgcolor": "white",
          "plot_bgcolor": "white",
          "polar": {
           "angularaxis": {
            "gridcolor": "rgb(232,232,232)",
            "linecolor": "rgb(36,36,36)",
            "showgrid": false,
            "showline": true,
            "ticks": "outside"
           },
           "bgcolor": "white",
           "radialaxis": {
            "gridcolor": "rgb(232,232,232)",
            "linecolor": "rgb(36,36,36)",
            "showgrid": false,
            "showline": true,
            "ticks": "outside"
           }
          },
          "scene": {
           "xaxis": {
            "backgroundcolor": "white",
            "gridcolor": "rgb(232,232,232)",
            "gridwidth": 2,
            "linecolor": "rgb(36,36,36)",
            "showbackground": true,
            "showgrid": false,
            "showline": true,
            "ticks": "outside",
            "zeroline": false,
            "zerolinecolor": "rgb(36,36,36)"
           },
           "yaxis": {
            "backgroundcolor": "white",
            "gridcolor": "rgb(232,232,232)",
            "gridwidth": 2,
            "linecolor": "rgb(36,36,36)",
            "showbackground": true,
            "showgrid": false,
            "showline": true,
            "ticks": "outside",
            "zeroline": false,
            "zerolinecolor": "rgb(36,36,36)"
           },
           "zaxis": {
            "backgroundcolor": "white",
            "gridcolor": "rgb(232,232,232)",
            "gridwidth": 2,
            "linecolor": "rgb(36,36,36)",
            "showbackground": true,
            "showgrid": false,
            "showline": true,
            "ticks": "outside",
            "zeroline": false,
            "zerolinecolor": "rgb(36,36,36)"
           }
          },
          "shapedefaults": {
           "fillcolor": "black",
           "line": {
            "width": 0
           },
           "opacity": 0.3
          },
          "ternary": {
           "aaxis": {
            "gridcolor": "rgb(232,232,232)",
            "linecolor": "rgb(36,36,36)",
            "showgrid": false,
            "showline": true,
            "ticks": "outside"
           },
           "baxis": {
            "gridcolor": "rgb(232,232,232)",
            "linecolor": "rgb(36,36,36)",
            "showgrid": false,
            "showline": true,
            "ticks": "outside"
           },
           "bgcolor": "white",
           "caxis": {
            "gridcolor": "rgb(232,232,232)",
            "linecolor": "rgb(36,36,36)",
            "showgrid": false,
            "showline": true,
            "ticks": "outside"
           }
          },
          "title": {
           "x": 0.05
          },
          "xaxis": {
           "automargin": true,
           "gridcolor": "rgb(232,232,232)",
           "linecolor": "rgb(36,36,36)",
           "showgrid": false,
           "showline": true,
           "ticks": "outside",
           "title": {
            "standoff": 15
           },
           "zeroline": false,
           "zerolinecolor": "rgb(36,36,36)"
          },
          "yaxis": {
           "automargin": true,
           "gridcolor": "rgb(232,232,232)",
           "linecolor": "rgb(36,36,36)",
           "showgrid": false,
           "showline": true,
           "ticks": "outside",
           "title": {
            "standoff": 15
           },
           "zeroline": false,
           "zerolinecolor": "rgb(36,36,36)"
          }
         }
        },
        "xaxis": {
         "anchor": "y",
         "domain": [
          0,
          1
         ],
         "title": {
          "text": "choc"
         }
        },
        "yaxis": {
         "anchor": "x",
         "domain": [
          0,
          1
         ],
         "title": {
          "text": "Mean rank"
         }
        }
       }
      }
     },
     "metadata": {},
     "output_type": "display_data"
    }
   ],
   "source": [
    "vizrank.plot_rank_means(rank_prior_df)"
   ]
  },
  {
   "attachments": {},
   "cell_type": "markdown",
   "metadata": {},
   "source": [
    "Also replicating the visualisation from the exploratory data analysis of frequency of being ranked in the top or bottom 5, again it appears the generative model is capable of producing ranking data that performs similarly to the real observed ranking data.\n",
    "\n",
    "Many chocolates appear in both the top 5 and the bottom 5 for different people, while some chocolates appear exclusively in people's top or bottom 5s, but not both. Based on this, there is no reason to reject the generative model as a representation of the data generating process that produced the real rankings."
   ]
  },
  {
   "cell_type": "code",
   "execution_count": 14,
   "metadata": {},
   "outputs": [
    {
     "data": {
      "application/vnd.plotly.v1+json": {
       "config": {
        "plotlyServerURL": "https://plot.ly"
       },
       "data": [
        {
         "alignmentgroup": "True",
         "hovertemplate": "variable=bottom_5<br>value=%{x}<br>choc=%{y}<extra></extra>",
         "legendgroup": "",
         "marker": {
          "color": "#1F77B4",
          "pattern": {
           "shape": ""
          }
         },
         "name": "",
         "offsetgroup": "",
         "orientation": "h",
         "showlegend": false,
         "textposition": "auto",
         "type": "bar",
         "x": [
          1,
          0,
          2,
          4,
          4,
          0,
          3,
          6,
          5,
          1,
          4,
          4,
          3,
          5,
          3,
          4,
          4,
          2,
          5,
          0
         ],
         "xaxis": "x",
         "y": [
          "0",
          "1",
          "10",
          "11",
          "12",
          "13",
          "14",
          "15",
          "16",
          "17",
          "18",
          "19",
          "2",
          "3",
          "4",
          "5",
          "6",
          "7",
          "8",
          "9"
         ],
         "yaxis": "y"
        },
        {
         "alignmentgroup": "True",
         "hovertemplate": "variable=top_5<br>value=%{x}<br>choc=%{y}<extra></extra>",
         "legendgroup": "",
         "marker": {
          "color": "#1F77B4",
          "pattern": {
           "shape": ""
          }
         },
         "name": "",
         "offsetgroup": "",
         "orientation": "h",
         "showlegend": false,
         "textposition": "auto",
         "type": "bar",
         "x": [
          4,
          8,
          1,
          1,
          5,
          4,
          0,
          0,
          1,
          2,
          3,
          1,
          6,
          1,
          0,
          3,
          1,
          1,
          3,
          5
         ],
         "xaxis": "x2",
         "y": [
          "0",
          "1",
          "10",
          "11",
          "12",
          "13",
          "14",
          "15",
          "16",
          "17",
          "18",
          "19",
          "2",
          "3",
          "4",
          "5",
          "6",
          "7",
          "8",
          "9"
         ],
         "yaxis": "y2"
        }
       ],
       "layout": {
        "annotations": [
         {
          "font": {},
          "showarrow": false,
          "text": "variable=bottom_5",
          "x": 0.245,
          "xanchor": "center",
          "xref": "paper",
          "y": 1,
          "yanchor": "bottom",
          "yref": "paper"
         },
         {
          "font": {},
          "showarrow": false,
          "text": "variable=top_5",
          "x": 0.755,
          "xanchor": "center",
          "xref": "paper",
          "y": 1,
          "yanchor": "bottom",
          "yref": "paper"
         }
        ],
        "barmode": "relative",
        "legend": {
         "tracegroupgap": 0
        },
        "margin": {
         "t": 60
        },
        "showlegend": false,
        "template": {
         "data": {
          "bar": [
           {
            "error_x": {
             "color": "rgb(36,36,36)"
            },
            "error_y": {
             "color": "rgb(36,36,36)"
            },
            "marker": {
             "line": {
              "color": "white",
              "width": 0.5
             },
             "pattern": {
              "fillmode": "overlay",
              "size": 10,
              "solidity": 0.2
             }
            },
            "type": "bar"
           }
          ],
          "barpolar": [
           {
            "marker": {
             "line": {
              "color": "white",
              "width": 0.5
             },
             "pattern": {
              "fillmode": "overlay",
              "size": 10,
              "solidity": 0.2
             }
            },
            "type": "barpolar"
           }
          ],
          "carpet": [
           {
            "aaxis": {
             "endlinecolor": "rgb(36,36,36)",
             "gridcolor": "white",
             "linecolor": "white",
             "minorgridcolor": "white",
             "startlinecolor": "rgb(36,36,36)"
            },
            "baxis": {
             "endlinecolor": "rgb(36,36,36)",
             "gridcolor": "white",
             "linecolor": "white",
             "minorgridcolor": "white",
             "startlinecolor": "rgb(36,36,36)"
            },
            "type": "carpet"
           }
          ],
          "choropleth": [
           {
            "colorbar": {
             "outlinewidth": 1,
             "tickcolor": "rgb(36,36,36)",
             "ticks": "outside"
            },
            "type": "choropleth"
           }
          ],
          "contour": [
           {
            "colorbar": {
             "outlinewidth": 1,
             "tickcolor": "rgb(36,36,36)",
             "ticks": "outside"
            },
            "colorscale": [
             [
              0,
              "#440154"
             ],
             [
              0.1111111111111111,
              "#482878"
             ],
             [
              0.2222222222222222,
              "#3e4989"
             ],
             [
              0.3333333333333333,
              "#31688e"
             ],
             [
              0.4444444444444444,
              "#26828e"
             ],
             [
              0.5555555555555556,
              "#1f9e89"
             ],
             [
              0.6666666666666666,
              "#35b779"
             ],
             [
              0.7777777777777778,
              "#6ece58"
             ],
             [
              0.8888888888888888,
              "#b5de2b"
             ],
             [
              1,
              "#fde725"
             ]
            ],
            "type": "contour"
           }
          ],
          "contourcarpet": [
           {
            "colorbar": {
             "outlinewidth": 1,
             "tickcolor": "rgb(36,36,36)",
             "ticks": "outside"
            },
            "type": "contourcarpet"
           }
          ],
          "heatmap": [
           {
            "colorbar": {
             "outlinewidth": 1,
             "tickcolor": "rgb(36,36,36)",
             "ticks": "outside"
            },
            "colorscale": [
             [
              0,
              "#440154"
             ],
             [
              0.1111111111111111,
              "#482878"
             ],
             [
              0.2222222222222222,
              "#3e4989"
             ],
             [
              0.3333333333333333,
              "#31688e"
             ],
             [
              0.4444444444444444,
              "#26828e"
             ],
             [
              0.5555555555555556,
              "#1f9e89"
             ],
             [
              0.6666666666666666,
              "#35b779"
             ],
             [
              0.7777777777777778,
              "#6ece58"
             ],
             [
              0.8888888888888888,
              "#b5de2b"
             ],
             [
              1,
              "#fde725"
             ]
            ],
            "type": "heatmap"
           }
          ],
          "heatmapgl": [
           {
            "colorbar": {
             "outlinewidth": 1,
             "tickcolor": "rgb(36,36,36)",
             "ticks": "outside"
            },
            "colorscale": [
             [
              0,
              "#440154"
             ],
             [
              0.1111111111111111,
              "#482878"
             ],
             [
              0.2222222222222222,
              "#3e4989"
             ],
             [
              0.3333333333333333,
              "#31688e"
             ],
             [
              0.4444444444444444,
              "#26828e"
             ],
             [
              0.5555555555555556,
              "#1f9e89"
             ],
             [
              0.6666666666666666,
              "#35b779"
             ],
             [
              0.7777777777777778,
              "#6ece58"
             ],
             [
              0.8888888888888888,
              "#b5de2b"
             ],
             [
              1,
              "#fde725"
             ]
            ],
            "type": "heatmapgl"
           }
          ],
          "histogram": [
           {
            "marker": {
             "line": {
              "color": "white",
              "width": 0.6
             }
            },
            "type": "histogram"
           }
          ],
          "histogram2d": [
           {
            "colorbar": {
             "outlinewidth": 1,
             "tickcolor": "rgb(36,36,36)",
             "ticks": "outside"
            },
            "colorscale": [
             [
              0,
              "#440154"
             ],
             [
              0.1111111111111111,
              "#482878"
             ],
             [
              0.2222222222222222,
              "#3e4989"
             ],
             [
              0.3333333333333333,
              "#31688e"
             ],
             [
              0.4444444444444444,
              "#26828e"
             ],
             [
              0.5555555555555556,
              "#1f9e89"
             ],
             [
              0.6666666666666666,
              "#35b779"
             ],
             [
              0.7777777777777778,
              "#6ece58"
             ],
             [
              0.8888888888888888,
              "#b5de2b"
             ],
             [
              1,
              "#fde725"
             ]
            ],
            "type": "histogram2d"
           }
          ],
          "histogram2dcontour": [
           {
            "colorbar": {
             "outlinewidth": 1,
             "tickcolor": "rgb(36,36,36)",
             "ticks": "outside"
            },
            "colorscale": [
             [
              0,
              "#440154"
             ],
             [
              0.1111111111111111,
              "#482878"
             ],
             [
              0.2222222222222222,
              "#3e4989"
             ],
             [
              0.3333333333333333,
              "#31688e"
             ],
             [
              0.4444444444444444,
              "#26828e"
             ],
             [
              0.5555555555555556,
              "#1f9e89"
             ],
             [
              0.6666666666666666,
              "#35b779"
             ],
             [
              0.7777777777777778,
              "#6ece58"
             ],
             [
              0.8888888888888888,
              "#b5de2b"
             ],
             [
              1,
              "#fde725"
             ]
            ],
            "type": "histogram2dcontour"
           }
          ],
          "mesh3d": [
           {
            "colorbar": {
             "outlinewidth": 1,
             "tickcolor": "rgb(36,36,36)",
             "ticks": "outside"
            },
            "type": "mesh3d"
           }
          ],
          "parcoords": [
           {
            "line": {
             "colorbar": {
              "outlinewidth": 1,
              "tickcolor": "rgb(36,36,36)",
              "ticks": "outside"
             }
            },
            "type": "parcoords"
           }
          ],
          "pie": [
           {
            "automargin": true,
            "type": "pie"
           }
          ],
          "scatter": [
           {
            "fillpattern": {
             "fillmode": "overlay",
             "size": 10,
             "solidity": 0.2
            },
            "type": "scatter"
           }
          ],
          "scatter3d": [
           {
            "line": {
             "colorbar": {
              "outlinewidth": 1,
              "tickcolor": "rgb(36,36,36)",
              "ticks": "outside"
             }
            },
            "marker": {
             "colorbar": {
              "outlinewidth": 1,
              "tickcolor": "rgb(36,36,36)",
              "ticks": "outside"
             }
            },
            "type": "scatter3d"
           }
          ],
          "scattercarpet": [
           {
            "marker": {
             "colorbar": {
              "outlinewidth": 1,
              "tickcolor": "rgb(36,36,36)",
              "ticks": "outside"
             }
            },
            "type": "scattercarpet"
           }
          ],
          "scattergeo": [
           {
            "marker": {
             "colorbar": {
              "outlinewidth": 1,
              "tickcolor": "rgb(36,36,36)",
              "ticks": "outside"
             }
            },
            "type": "scattergeo"
           }
          ],
          "scattergl": [
           {
            "marker": {
             "colorbar": {
              "outlinewidth": 1,
              "tickcolor": "rgb(36,36,36)",
              "ticks": "outside"
             }
            },
            "type": "scattergl"
           }
          ],
          "scattermapbox": [
           {
            "marker": {
             "colorbar": {
              "outlinewidth": 1,
              "tickcolor": "rgb(36,36,36)",
              "ticks": "outside"
             }
            },
            "type": "scattermapbox"
           }
          ],
          "scatterpolar": [
           {
            "marker": {
             "colorbar": {
              "outlinewidth": 1,
              "tickcolor": "rgb(36,36,36)",
              "ticks": "outside"
             }
            },
            "type": "scatterpolar"
           }
          ],
          "scatterpolargl": [
           {
            "marker": {
             "colorbar": {
              "outlinewidth": 1,
              "tickcolor": "rgb(36,36,36)",
              "ticks": "outside"
             }
            },
            "type": "scatterpolargl"
           }
          ],
          "scatterternary": [
           {
            "marker": {
             "colorbar": {
              "outlinewidth": 1,
              "tickcolor": "rgb(36,36,36)",
              "ticks": "outside"
             }
            },
            "type": "scatterternary"
           }
          ],
          "surface": [
           {
            "colorbar": {
             "outlinewidth": 1,
             "tickcolor": "rgb(36,36,36)",
             "ticks": "outside"
            },
            "colorscale": [
             [
              0,
              "#440154"
             ],
             [
              0.1111111111111111,
              "#482878"
             ],
             [
              0.2222222222222222,
              "#3e4989"
             ],
             [
              0.3333333333333333,
              "#31688e"
             ],
             [
              0.4444444444444444,
              "#26828e"
             ],
             [
              0.5555555555555556,
              "#1f9e89"
             ],
             [
              0.6666666666666666,
              "#35b779"
             ],
             [
              0.7777777777777778,
              "#6ece58"
             ],
             [
              0.8888888888888888,
              "#b5de2b"
             ],
             [
              1,
              "#fde725"
             ]
            ],
            "type": "surface"
           }
          ],
          "table": [
           {
            "cells": {
             "fill": {
              "color": "rgb(237,237,237)"
             },
             "line": {
              "color": "white"
             }
            },
            "header": {
             "fill": {
              "color": "rgb(217,217,217)"
             },
             "line": {
              "color": "white"
             }
            },
            "type": "table"
           }
          ]
         },
         "layout": {
          "annotationdefaults": {
           "arrowhead": 0,
           "arrowwidth": 1
          },
          "autotypenumbers": "strict",
          "coloraxis": {
           "colorbar": {
            "outlinewidth": 1,
            "tickcolor": "rgb(36,36,36)",
            "ticks": "outside"
           }
          },
          "colorscale": {
           "diverging": [
            [
             0,
             "rgb(103,0,31)"
            ],
            [
             0.1,
             "rgb(178,24,43)"
            ],
            [
             0.2,
             "rgb(214,96,77)"
            ],
            [
             0.3,
             "rgb(244,165,130)"
            ],
            [
             0.4,
             "rgb(253,219,199)"
            ],
            [
             0.5,
             "rgb(247,247,247)"
            ],
            [
             0.6,
             "rgb(209,229,240)"
            ],
            [
             0.7,
             "rgb(146,197,222)"
            ],
            [
             0.8,
             "rgb(67,147,195)"
            ],
            [
             0.9,
             "rgb(33,102,172)"
            ],
            [
             1,
             "rgb(5,48,97)"
            ]
           ],
           "sequential": [
            [
             0,
             "#440154"
            ],
            [
             0.1111111111111111,
             "#482878"
            ],
            [
             0.2222222222222222,
             "#3e4989"
            ],
            [
             0.3333333333333333,
             "#31688e"
            ],
            [
             0.4444444444444444,
             "#26828e"
            ],
            [
             0.5555555555555556,
             "#1f9e89"
            ],
            [
             0.6666666666666666,
             "#35b779"
            ],
            [
             0.7777777777777778,
             "#6ece58"
            ],
            [
             0.8888888888888888,
             "#b5de2b"
            ],
            [
             1,
             "#fde725"
            ]
           ],
           "sequentialminus": [
            [
             0,
             "#440154"
            ],
            [
             0.1111111111111111,
             "#482878"
            ],
            [
             0.2222222222222222,
             "#3e4989"
            ],
            [
             0.3333333333333333,
             "#31688e"
            ],
            [
             0.4444444444444444,
             "#26828e"
            ],
            [
             0.5555555555555556,
             "#1f9e89"
            ],
            [
             0.6666666666666666,
             "#35b779"
            ],
            [
             0.7777777777777778,
             "#6ece58"
            ],
            [
             0.8888888888888888,
             "#b5de2b"
            ],
            [
             1,
             "#fde725"
            ]
           ]
          },
          "colorway": [
           "#1F77B4",
           "#FF7F0E",
           "#2CA02C",
           "#D62728",
           "#9467BD",
           "#8C564B",
           "#E377C2",
           "#7F7F7F",
           "#BCBD22",
           "#17BECF"
          ],
          "font": {
           "color": "rgb(36,36,36)"
          },
          "geo": {
           "bgcolor": "white",
           "lakecolor": "white",
           "landcolor": "white",
           "showlakes": true,
           "showland": true,
           "subunitcolor": "white"
          },
          "hoverlabel": {
           "align": "left"
          },
          "hovermode": "closest",
          "mapbox": {
           "style": "light"
          },
          "paper_bgcolor": "white",
          "plot_bgcolor": "white",
          "polar": {
           "angularaxis": {
            "gridcolor": "rgb(232,232,232)",
            "linecolor": "rgb(36,36,36)",
            "showgrid": false,
            "showline": true,
            "ticks": "outside"
           },
           "bgcolor": "white",
           "radialaxis": {
            "gridcolor": "rgb(232,232,232)",
            "linecolor": "rgb(36,36,36)",
            "showgrid": false,
            "showline": true,
            "ticks": "outside"
           }
          },
          "scene": {
           "xaxis": {
            "backgroundcolor": "white",
            "gridcolor": "rgb(232,232,232)",
            "gridwidth": 2,
            "linecolor": "rgb(36,36,36)",
            "showbackground": true,
            "showgrid": false,
            "showline": true,
            "ticks": "outside",
            "zeroline": false,
            "zerolinecolor": "rgb(36,36,36)"
           },
           "yaxis": {
            "backgroundcolor": "white",
            "gridcolor": "rgb(232,232,232)",
            "gridwidth": 2,
            "linecolor": "rgb(36,36,36)",
            "showbackground": true,
            "showgrid": false,
            "showline": true,
            "ticks": "outside",
            "zeroline": false,
            "zerolinecolor": "rgb(36,36,36)"
           },
           "zaxis": {
            "backgroundcolor": "white",
            "gridcolor": "rgb(232,232,232)",
            "gridwidth": 2,
            "linecolor": "rgb(36,36,36)",
            "showbackground": true,
            "showgrid": false,
            "showline": true,
            "ticks": "outside",
            "zeroline": false,
            "zerolinecolor": "rgb(36,36,36)"
           }
          },
          "shapedefaults": {
           "fillcolor": "black",
           "line": {
            "width": 0
           },
           "opacity": 0.3
          },
          "ternary": {
           "aaxis": {
            "gridcolor": "rgb(232,232,232)",
            "linecolor": "rgb(36,36,36)",
            "showgrid": false,
            "showline": true,
            "ticks": "outside"
           },
           "baxis": {
            "gridcolor": "rgb(232,232,232)",
            "linecolor": "rgb(36,36,36)",
            "showgrid": false,
            "showline": true,
            "ticks": "outside"
           },
           "bgcolor": "white",
           "caxis": {
            "gridcolor": "rgb(232,232,232)",
            "linecolor": "rgb(36,36,36)",
            "showgrid": false,
            "showline": true,
            "ticks": "outside"
           }
          },
          "title": {
           "x": 0.05
          },
          "xaxis": {
           "automargin": true,
           "gridcolor": "rgb(232,232,232)",
           "linecolor": "rgb(36,36,36)",
           "showgrid": false,
           "showline": true,
           "ticks": "outside",
           "title": {
            "standoff": 15
           },
           "zeroline": false,
           "zerolinecolor": "rgb(36,36,36)"
          },
          "yaxis": {
           "automargin": true,
           "gridcolor": "rgb(232,232,232)",
           "linecolor": "rgb(36,36,36)",
           "showgrid": false,
           "showline": true,
           "ticks": "outside",
           "title": {
            "standoff": 15
           },
           "zeroline": false,
           "zerolinecolor": "rgb(36,36,36)"
          }
         }
        },
        "xaxis": {
         "anchor": "y",
         "domain": [
          0,
          0.49
         ],
         "title": {
          "text": "frequency"
         }
        },
        "xaxis2": {
         "anchor": "y2",
         "domain": [
          0.51,
          1
         ],
         "matches": "x",
         "title": {
          "text": "value"
         }
        },
        "yaxis": {
         "anchor": "x",
         "domain": [
          0,
          1
         ],
         "title": {
          "text": "choc"
         }
        },
        "yaxis2": {
         "anchor": "x2",
         "domain": [
          0,
          1
         ],
         "matches": "y",
         "showticklabels": false
        }
       }
      }
     },
     "metadata": {},
     "output_type": "display_data"
    }
   ],
   "source": [
    "vizrank.plot_top_bottom_n(rank_prior_df, n=5)"
   ]
  }
 ],
 "metadata": {
  "kernelspec": {
   "display_name": "Python 3.8.13 ('.venv-choc': venv)",
   "language": "python",
   "name": "python3"
  },
  "language_info": {
   "codemirror_mode": {
    "name": "ipython",
    "version": 3
   },
   "file_extension": ".py",
   "mimetype": "text/x-python",
   "name": "python",
   "nbconvert_exporter": "python",
   "pygments_lexer": "ipython3",
   "version": "3.10.8"
  },
  "orig_nbformat": 4,
  "vscode": {
   "interpreter": {
    "hash": "4a356b8ba34d2241ef80cecb5dfbe1f7b2a4d2edb0e18d848583f98400376f3f"
   }
  }
 },
 "nbformat": 4,
 "nbformat_minor": 2
}
