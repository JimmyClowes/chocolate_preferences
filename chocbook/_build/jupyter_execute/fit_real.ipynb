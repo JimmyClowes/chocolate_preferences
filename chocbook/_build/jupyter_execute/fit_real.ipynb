{
 "cells": [
  {
   "attachments": {},
   "cell_type": "markdown",
   "metadata": {},
   "source": [
    "# Fitting a model to real data\n",
    "Work in progress"
   ]
  }
 ],
 "metadata": {
  "kernelspec": {
   "display_name": ".venv-choc",
   "language": "python",
   "name": "python3"
  },
  "language_info": {
   "codemirror_mode": {
    "name": "ipython",
    "version": 3
   },
   "file_extension": ".py",
   "mimetype": "text/x-python",
   "name": "python",
   "nbconvert_exporter": "python",
   "pygments_lexer": "ipython3",
   "version": "3.10.8"
  },
  "vscode": {
   "interpreter": {
    "hash": "4a356b8ba34d2241ef80cecb5dfbe1f7b2a4d2edb0e18d848583f98400376f3f"
   }
  }
 },
 "nbformat": 4,
 "nbformat_minor": 2
}